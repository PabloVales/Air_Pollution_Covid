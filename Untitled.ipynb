{
 "cells": [
  {
   "cell_type": "code",
   "execution_count": 35,
   "metadata": {},
   "outputs": [],
   "source": [
    "import csv\n",
    "import os\n",
    "import re\n",
    "import requests\n",
    "import pandas as pd\n",
    "import numpy as np\n",
    "import matplotlib.pyplot as plt\n",
    "import seaborn as sns\n",
    "from datetime import datetime"
   ]
  },
  {
   "cell_type": "code",
   "execution_count": 2,
   "metadata": {},
   "outputs": [],
   "source": [
    "def get_aqi_data():\n",
    "    \n",
    "    '''This function gets all the aqi data from https://aqicn.org for several cities.\n",
    "    It returns a dictionary with all the dataframes and creates csv files for all of them in\n",
    "    the current folder'''\n",
    "\n",
    "    CSV_URLS = 'https://aqicn.org/data-platform/covid19/report/22408-10ad85dd/'\n",
    "    time_periods = ['2021Q1','2020Q1', '2020Q2', '2020Q3', '2020Q4', '2019Q1', '2019Q2', '2019Q3', '2019Q4', '2018H1', '2017H1', '2016H1', \n",
    "                '2015H1']\n",
    "\n",
    "    dic = {}\n",
    "    for period in time_periods:\n",
    "    \n",
    "        response = requests.get(CSV_URLS + period)\n",
    "        string_data = response.content.decode('utf-8')\n",
    "        list_data = [row.split(',') for row in string_data.split('\\n')]\n",
    "        # Remove header\n",
    "        del list_data[:4]\n",
    "    \n",
    "        columns = list_data[0]\n",
    "        values = list_data[1:]\n",
    "    \n",
    "        dic[period] = pd.DataFrame(values, columns=columns)\n",
    "        \n",
    "    for name, df in dic.items():\n",
    "    df.to_csv('./'+name+'.csv')\n",
    "    \n",
    "    return dic\n",
    "\n"
   ]
  },
  {
   "cell_type": "code",
   "execution_count": 3,
   "metadata": {},
   "outputs": [],
   "source": [
    "#Save data to csv files\n",
    "for name, df in dic.items():\n",
    "    df.to_csv('./'+name+'.csv')"
   ]
  },
  {
   "cell_type": "code",
   "execution_count": 7,
   "metadata": {},
   "outputs": [
    {
     "name": "stdout",
     "output_type": "stream",
     "text": [
      " Volume in drive C is OS\n",
      " Volume Serial Number is 3676-8483\n",
      "\n",
      " Directory of C:\\Users\\Pablo Vales\\Documents\\Data Science\\Projects\n",
      "\n",
      "25-Mar-21  09:05 PM    <DIR>          .\n",
      "25-Mar-21  09:05 PM    <DIR>          ..\n",
      "21-Mar-21  09:43 PM    <DIR>          .ipynb_checkpoints\n",
      "25-Mar-21  08:58 PM        22,773,869 2015H1.csv\n",
      "25-Mar-21  08:58 PM        24,208,329 2016H1.csv\n",
      "25-Mar-21  08:58 PM        25,093,891 2017H1.csv\n",
      "25-Mar-21  08:58 PM        33,126,568 2018H1.csv\n",
      "25-Mar-21  08:58 PM        30,305,502 2019Q1.csv\n",
      "25-Mar-21  08:58 PM        32,293,693 2019Q2.csv\n",
      "25-Mar-21  08:58 PM        36,110,781 2019Q3.csv\n",
      "25-Mar-21  08:58 PM        35,770,454 2019Q4.csv\n",
      "25-Mar-21  08:57 PM        33,265,924 2020Q1.csv\n",
      "25-Mar-21  08:57 PM        37,345,923 2020Q2.csv\n",
      "25-Mar-21  08:58 PM        37,049,039 2020Q3.csv\n",
      "25-Mar-21  08:58 PM        36,327,646 2020Q4.csv\n",
      "25-Mar-21  09:03 PM        28,689,068 2021Q1.csv\n",
      "25-Mar-21  09:05 PM            19,694 Untitled.ipynb\n",
      "              14 File(s)    412,380,381 bytes\n",
      "               3 Dir(s)  22,217,535,488 bytes free\n"
     ]
    }
   ],
   "source": [
    "ls"
   ]
  },
  {
   "cell_type": "markdown",
   "metadata": {},
   "source": [
    "# Business case\n",
    "\n",
    "Air pollution is one the main risk factors to develop diseases. Has Covid benefitted us in this regard?"
   ]
  },
  {
   "cell_type": "markdown",
   "metadata": {},
   "source": [
    "# Data cleaning"
   ]
  },
  {
   "cell_type": "markdown",
   "metadata": {},
   "source": [
    "## Grouping of files and concatenation of DataFrames"
   ]
  },
  {
   "cell_type": "code",
   "execution_count": 7,
   "metadata": {},
   "outputs": [],
   "source": [
    "def concatenate_per_year(year):\n",
    "    '''Helper function: Puts together the csv files for a single year in one DataFrame\n",
    "    INPUT: int year to group\n",
    "    OUTPUT: pd.DataFrame'''\n",
    "    files_in_folder = [file for file in os.listdir() if os.path.isfile(os.path.join(os.getcwd(),file))]\n",
    "                                  \n",
    "    df = pd.DataFrame()\n",
    "    for file in files_in_folder:\n",
    "        if re.search('^{}'.format(str(year)), string=file):\n",
    "            temp_df = pd.read_csv(file)\n",
    "            df = pd.concat([df, temp_df])\n",
    "    return df\n",
    "\n",
    "def concatenate_all_years(years):\n",
    "    '''Creates a single dataframe with the data across all years contained in years\n",
    "    INPUT: list of ints years to concatenate\n",
    "    OUTPUT: pd.DataFrame with the data for all years'''\n",
    "    df = pd.DataFrame()\n",
    "    for year in years:\n",
    "            df = pd.concat([df, concatenate_per_year(year)])\n",
    "    return df\n",
    "        \n",
    "            "
   ]
  },
  {
   "cell_type": "markdown",
   "metadata": {},
   "source": [
    "df15 = concatenate_per_year(2015)\n",
    "df16 = concatenate_per_year(2016)\n",
    "df17 = concatenate_per_year(2017)\n",
    "df18 = concatenate_per_year(2018)\n",
    "df19 = concatenate_per_year(2019)\n",
    "df20 = concatenate_per_year(2020)\n",
    "df21 = concatenate_per_year(2021)"
   ]
  },
  {
   "cell_type": "code",
   "execution_count": 8,
   "metadata": {},
   "outputs": [
    {
     "data": {
      "text/html": [
       "<div>\n",
       "<style scoped>\n",
       "    .dataframe tbody tr th:only-of-type {\n",
       "        vertical-align: middle;\n",
       "    }\n",
       "\n",
       "    .dataframe tbody tr th {\n",
       "        vertical-align: top;\n",
       "    }\n",
       "\n",
       "    .dataframe thead th {\n",
       "        text-align: right;\n",
       "    }\n",
       "</style>\n",
       "<table border=\"1\" class=\"dataframe\">\n",
       "  <thead>\n",
       "    <tr style=\"text-align: right;\">\n",
       "      <th></th>\n",
       "      <th>Unnamed: 0</th>\n",
       "      <th>Date</th>\n",
       "      <th>Country</th>\n",
       "      <th>City</th>\n",
       "      <th>Specie</th>\n",
       "      <th>count</th>\n",
       "      <th>min</th>\n",
       "      <th>max</th>\n",
       "      <th>median</th>\n",
       "      <th>variance</th>\n",
       "    </tr>\n",
       "  </thead>\n",
       "  <tbody>\n",
       "    <tr>\n",
       "      <th>0</th>\n",
       "      <td>0.0</td>\n",
       "      <td>2015-01-06</td>\n",
       "      <td>KR</td>\n",
       "      <td>Jeonju</td>\n",
       "      <td>co</td>\n",
       "      <td>124.0</td>\n",
       "      <td>0.1</td>\n",
       "      <td>12.3</td>\n",
       "      <td>4.5</td>\n",
       "      <td>55.74</td>\n",
       "    </tr>\n",
       "    <tr>\n",
       "      <th>1</th>\n",
       "      <td>1.0</td>\n",
       "      <td>2015-01-22</td>\n",
       "      <td>KR</td>\n",
       "      <td>Jeonju</td>\n",
       "      <td>co</td>\n",
       "      <td>116.0</td>\n",
       "      <td>4.5</td>\n",
       "      <td>10.0</td>\n",
       "      <td>6.7</td>\n",
       "      <td>16.09</td>\n",
       "    </tr>\n",
       "    <tr>\n",
       "      <th>2</th>\n",
       "      <td>2.0</td>\n",
       "      <td>2015-03-30</td>\n",
       "      <td>KR</td>\n",
       "      <td>Jeonju</td>\n",
       "      <td>co</td>\n",
       "      <td>118.0</td>\n",
       "      <td>1.2</td>\n",
       "      <td>11.2</td>\n",
       "      <td>5.6</td>\n",
       "      <td>35.98</td>\n",
       "    </tr>\n",
       "    <tr>\n",
       "      <th>3</th>\n",
       "      <td>3.0</td>\n",
       "      <td>2015-05-27</td>\n",
       "      <td>KR</td>\n",
       "      <td>Jeonju</td>\n",
       "      <td>co</td>\n",
       "      <td>93.0</td>\n",
       "      <td>2.3</td>\n",
       "      <td>5.6</td>\n",
       "      <td>3.4</td>\n",
       "      <td>6.54</td>\n",
       "    </tr>\n",
       "    <tr>\n",
       "      <th>4</th>\n",
       "      <td>4.0</td>\n",
       "      <td>2015-02-03</td>\n",
       "      <td>KR</td>\n",
       "      <td>Jeonju</td>\n",
       "      <td>co</td>\n",
       "      <td>133.0</td>\n",
       "      <td>4.5</td>\n",
       "      <td>13.4</td>\n",
       "      <td>7.8</td>\n",
       "      <td>39.24</td>\n",
       "    </tr>\n",
       "  </tbody>\n",
       "</table>\n",
       "</div>"
      ],
      "text/plain": [
       "   Unnamed: 0        Date Country    City Specie  count  min   max  median  \\\n",
       "0         0.0  2015-01-06      KR  Jeonju     co  124.0  0.1  12.3     4.5   \n",
       "1         1.0  2015-01-22      KR  Jeonju     co  116.0  4.5  10.0     6.7   \n",
       "2         2.0  2015-03-30      KR  Jeonju     co  118.0  1.2  11.2     5.6   \n",
       "3         3.0  2015-05-27      KR  Jeonju     co   93.0  2.3   5.6     3.4   \n",
       "4         4.0  2015-02-03      KR  Jeonju     co  133.0  4.5  13.4     7.8   \n",
       "\n",
       "   variance  \n",
       "0     55.74  \n",
       "1     16.09  \n",
       "2     35.98  \n",
       "3      6.54  \n",
       "4     39.24  "
      ]
     },
     "execution_count": 8,
     "metadata": {},
     "output_type": "execute_result"
    }
   ],
   "source": [
    "df = concatenate_all_years([2015,2016,2017,2018,2019,2020,2021])\n",
    "df.head()"
   ]
  },
  {
   "cell_type": "code",
   "execution_count": 9,
   "metadata": {},
   "outputs": [],
   "source": [
    "df = df.reset_index().drop(['index', 'Unnamed: 0'], axis=1)"
   ]
  },
  {
   "cell_type": "code",
   "execution_count": 10,
   "metadata": {},
   "outputs": [
    {
     "data": {
      "text/plain": [
       "(6814872, 9)"
      ]
     },
     "execution_count": 10,
     "metadata": {},
     "output_type": "execute_result"
    }
   ],
   "source": [
    "df.shape"
   ]
  },
  {
   "cell_type": "markdown",
   "metadata": {},
   "source": [
    "First of all lets get rid of the data that we are not interested in. This dataframe has information for several markers, which are:"
   ]
  },
  {
   "cell_type": "code",
   "execution_count": 11,
   "metadata": {},
   "outputs": [
    {
     "data": {
      "text/plain": [
       "array(['co', 'pm10', 'o3', 'so2', 'no2', 'pm25', 'psi', 'uvi', 'neph',\n",
       "       'aqi', 'mepaqi', nan, 'pol', 'temperature', 'humidity', 'pressure',\n",
       "       'wd', 'wind-speed', 'd', 'pm1', 'wind-gust', 'precipitation',\n",
       "       'dew', 'wind speed', 'wind gust'], dtype=object)"
      ]
     },
     "execution_count": 11,
     "metadata": {},
     "output_type": "execute_result"
    }
   ],
   "source": [
    "df.Specie.unique()"
   ]
  },
  {
   "cell_type": "markdown",
   "metadata": {},
   "source": [
    "Although all of the atmospheric parameters in this table can affect the air contamination (specially wind and precipitations), we will be looking at a span of several years, so we will solely focus on the pollutant amount. It is safe to assume the meteorological parameters where approximately the same for the same time periods throughout our 5 year span."
   ]
  },
  {
   "cell_type": "code",
   "execution_count": 12,
   "metadata": {},
   "outputs": [],
   "source": [
    "pollutants = ['co', 'pm10', 'o3', 'so2', 'no2', 'pm25', 'pm1']\n",
    "df_whole = df.copy(deep=True)\n",
    "df = df[df.Specie.isin(pollutants)]"
   ]
  },
  {
   "cell_type": "code",
   "execution_count": 13,
   "metadata": {},
   "outputs": [
    {
     "data": {
      "text/plain": [
       "(array(['co', 'pm10', 'o3', 'so2', 'no2', 'pm25', 'pm1'], dtype=object),\n",
       " (3943636, 9))"
      ]
     },
     "execution_count": 13,
     "metadata": {},
     "output_type": "execute_result"
    }
   ],
   "source": [
    "df.Specie.unique(), df.shape"
   ]
  },
  {
   "cell_type": "markdown",
   "metadata": {},
   "source": [
    "Now we have all data (almost 4 million points) from 2015-2021 in one DataFrame corresponding to the different air pollutants.\n",
    "\n",
    "Do we have missing values?:\n"
   ]
  },
  {
   "cell_type": "code",
   "execution_count": 14,
   "metadata": {},
   "outputs": [
    {
     "data": {
      "text/plain": [
       "Date        0\n",
       "Country     0\n",
       "City        0\n",
       "Specie      0\n",
       "count       0\n",
       "min         0\n",
       "max         0\n",
       "median      0\n",
       "variance    0\n",
       "dtype: int64"
      ]
     },
     "execution_count": 14,
     "metadata": {},
     "output_type": "execute_result"
    }
   ],
   "source": [
    "df.isna().sum()"
   ]
  },
  {
   "cell_type": "markdown",
   "metadata": {},
   "source": [
    "Let's check now what datatypes we have in our table:"
   ]
  },
  {
   "cell_type": "code",
   "execution_count": 15,
   "metadata": {},
   "outputs": [
    {
     "name": "stdout",
     "output_type": "stream",
     "text": [
      "<class 'pandas.core.frame.DataFrame'>\n",
      "Int64Index: 3943636 entries, 0 to 6814705\n",
      "Data columns (total 9 columns):\n",
      " #   Column    Dtype  \n",
      "---  ------    -----  \n",
      " 0   Date      object \n",
      " 1   Country   object \n",
      " 2   City      object \n",
      " 3   Specie    object \n",
      " 4   count     float64\n",
      " 5   min       float64\n",
      " 6   max       float64\n",
      " 7   median    float64\n",
      " 8   variance  float64\n",
      "dtypes: float64(5), object(4)\n",
      "memory usage: 300.9+ MB\n"
     ]
    }
   ],
   "source": [
    "df.info()"
   ]
  },
  {
   "cell_type": "markdown",
   "metadata": {},
   "source": [
    "Everything looks good except the date, which we want to parse to obtain a datetime type"
   ]
  },
  {
   "cell_type": "code",
   "execution_count": 16,
   "metadata": {},
   "outputs": [],
   "source": [
    "df.Date = pd.to_datetime(df.Date, format='%Y-%m-%d')"
   ]
  },
  {
   "cell_type": "code",
   "execution_count": 17,
   "metadata": {},
   "outputs": [
    {
     "name": "stdout",
     "output_type": "stream",
     "text": [
      "<class 'pandas.core.frame.DataFrame'>\n",
      "Int64Index: 3943636 entries, 0 to 6814705\n",
      "Data columns (total 9 columns):\n",
      " #   Column    Dtype         \n",
      "---  ------    -----         \n",
      " 0   Date      datetime64[ns]\n",
      " 1   Country   object        \n",
      " 2   City      object        \n",
      " 3   Specie    object        \n",
      " 4   count     float64       \n",
      " 5   min       float64       \n",
      " 6   max       float64       \n",
      " 7   median    float64       \n",
      " 8   variance  float64       \n",
      "dtypes: datetime64[ns](1), float64(5), object(3)\n",
      "memory usage: 300.9+ MB\n"
     ]
    }
   ],
   "source": [
    "df.info()"
   ]
  },
  {
   "cell_type": "code",
   "execution_count": 226,
   "metadata": {},
   "outputs": [],
   "source": [
    "countries = ['ES', 'IT', 'US', 'IN', 'FR', 'SK', 'DE', 'CN', 'AU']"
   ]
  },
  {
   "cell_type": "code",
   "execution_count": 222,
   "metadata": {},
   "outputs": [
    {
     "data": {
      "text/plain": [
       "array([2015, 2014, 2016, 2017, 2018, 2019, 2020, 2021], dtype=int64)"
      ]
     },
     "execution_count": 222,
     "metadata": {},
     "output_type": "execute_result"
    }
   ],
   "source": [
    "df[df.Country == 'IT'].Date.dt.year.unique()"
   ]
  },
  {
   "cell_type": "markdown",
   "metadata": {},
   "source": [
    "Let's make a function to calculate the monthly mean AQI values for cities and countries"
   ]
  },
  {
   "cell_type": "code",
   "execution_count": 348,
   "metadata": {},
   "outputs": [],
   "source": [
    "def calculate_mean_country(df, countries, cities=False):\n",
    "    '''This function calculates the monthly aqi average of all the pollutants present in the table for the inserted countries and for all the available years in the dataset.\n",
    "    It also corrects the median values which are larger than 500 (following the US EPA standard, which ranges from 0-500)\n",
    "    INPUT: df: pd.DataFrame with columns 'Date', 'Country', 'City', 'median'\n",
    "            countries: list with the countries to be extracted\n",
    "            cities: bool if False the output is a pd.DataFrame with the COUNTRY average AQI values per month. If True, the output is a pd.DataFrame with the CITIES AQI average per month\n",
    "    OUTPUT: '''\n",
    "    final_df = pd.DataFrame()\n",
    "    \n",
    "    pollutants = df.Specie.unique()\n",
    "    for pollutant in pollutants:\n",
    "        pollutant_df = df[df.Specie == pollutant]\n",
    "        for country in countries:\n",
    "            country_df = pollutant_df[pollutant_df.Country == country]\n",
    "            \n",
    "            if not cities:\n",
    "                years = country_df.Date.dt.year.unique()\n",
    "                for year in years:\n",
    "                    year_df = country_df[country_df.Date.dt.year == year]\n",
    "                    months = year_df.Date.dt.month.unique()\n",
    "                    for month in months:\n",
    "                        #Dataframe with all cities for a given country\n",
    "                        month_country_df = year_df[year_df.Date.dt.month == month]\n",
    "\n",
    "                        #Series of with the median AQI for all cities in a given country\n",
    "                        #CORRECT MEDIAN VALUES > 500. CHANGE EVERY SINGLE ONE TO SATURATE IN 500\n",
    "                        \n",
    "                        mean_ser = month_country_df['median'] \n",
    "                        date_string = '{}/{}'.format(year, month)\n",
    "                        \n",
    "                        #Standard deviation\n",
    "                        std_dev = np.std(month_country_df['median'])\n",
    "                        city_number = month_country_df.City.unique().size\n",
    "                        \n",
    "                        std_dev_mean = std_dev/np.sqrt(city_number)\n",
    "                        \n",
    "                        temp_df = pd.DataFrame(data={'Date':datetime.strptime(date_string, '%Y/%m'), 'Country': country, 'City_number': city_number, 'Specie': pollutant, \\\n",
    "                                                     'Mean': [mean_ser.mean()], 'std_dev': std_dev_mean})\n",
    "                        #print(temp_df)\n",
    "                        final_df = pd.concat([final_df, temp_df])\n",
    "\n",
    "                        \n",
    "                        \n",
    "            if cities:\n",
    "                cities_country = country_df.City.unique()\n",
    "                for city in cities_country:\n",
    "                    city_df = country_df[country_df.City == city]\n",
    "                    years = city_df.Date.dt.year.unique()\n",
    "                    for year in years:\n",
    "                        year_df = city_df[city_df.Date.dt.year == year]\n",
    "                        months = year_df.Date.dt.month.unique()\n",
    "                        for month in months:\n",
    "                            #Dataframe with a particular city in a given country\n",
    "                            month_df = year_df[year_df.Date.dt.month == month]\n",
    "                            \n",
    "                            mean_ser = month_df['median']\n",
    "                            date_string = '{}/{}'.format(year, month)\n",
    "                            \n",
    "                            #Standard deviation\n",
    "                            std_dev = np.std(month_df['median'])\n",
    "                            no_days_per_month = month_df.Date.count()\n",
    "                            \n",
    "                            std_dev_mean = std_dev/np.sqrt(no_days_per_month)\n",
    "                            \n",
    "                            \n",
    "                            \n",
    "                            temp_df = pd.DataFrame(data={'Date':datetime.strptime(date_string, '%Y/%m'), 'Country': country, 'City': city, 'Specie': pollutant, 'No_days': no_days_per_month, \\\n",
    "                                                         'Mean': [mean_ser.mean()], 'std_dev': std_dev_mean})\n",
    "                            #print(temp_df)\n",
    "                            final_df = pd.concat([final_df, temp_df])\n",
    "                        \n",
    "                        \n",
    "                           \n",
    "    return final_df.reset_index().drop('index', axis=1)"
   ]
  },
  {
   "cell_type": "code",
   "execution_count": 338,
   "metadata": {},
   "outputs": [
    {
     "name": "stdout",
     "output_type": "stream",
     "text": [
      "['ES' 'IT' 'US' 'IN' 'FR' 'SK' 'DE' 'CN' 'AU']\n",
      "['ES' 'IT' 'US' 'IN' 'FR' 'SK' 'DE' 'CN' 'AU']\n",
      "['ES' 'IT' 'US' 'IN' 'FR' 'SK' 'DE' 'CN' 'AU']\n",
      "['ES' 'IT' 'US' 'IN' 'FR' 'SK' 'DE' 'CN' 'AU']\n",
      "['ES' 'IT' 'US' 'IN' 'FR' 'SK' 'DE' 'CN' 'AU']\n",
      "['ES' 'IT' 'US' 'IN' 'FR' 'SK' 'DE' 'CN' 'AU']\n",
      "['ES' 'IT' 'US' 'IN' 'FR' 'SK' 'DE' 'CN' 'AU']\n",
      "['ES' 'IT' 'US' 'IN' 'FR' 'SK' 'DE' 'CN' 'AU']\n"
     ]
    }
   ],
   "source": [
    "for year in cou_df[(cou_df.Specie == 'pm25')].Date.dt.year.unique():\n",
    "    print(cou_df[(cou_df.Specie == 'pm25') & (cou_df.Date.dt.year == year)]['Country'].unique());"
   ]
  },
  {
   "cell_type": "code",
   "execution_count": 346,
   "metadata": {},
   "outputs": [
    {
     "data": {
      "text/html": [
       "<div>\n",
       "<style scoped>\n",
       "    .dataframe tbody tr th:only-of-type {\n",
       "        vertical-align: middle;\n",
       "    }\n",
       "\n",
       "    .dataframe tbody tr th {\n",
       "        vertical-align: top;\n",
       "    }\n",
       "\n",
       "    .dataframe thead th {\n",
       "        text-align: right;\n",
       "    }\n",
       "</style>\n",
       "<table border=\"1\" class=\"dataframe\">\n",
       "  <thead>\n",
       "    <tr style=\"text-align: right;\">\n",
       "      <th></th>\n",
       "      <th>Date</th>\n",
       "      <th>Country</th>\n",
       "      <th>City</th>\n",
       "      <th>Specie</th>\n",
       "      <th>count</th>\n",
       "      <th>min</th>\n",
       "      <th>max</th>\n",
       "      <th>median</th>\n",
       "      <th>variance</th>\n",
       "    </tr>\n",
       "  </thead>\n",
       "  <tbody>\n",
       "    <tr>\n",
       "      <th>1176875</th>\n",
       "      <td>2017-02-11</td>\n",
       "      <td>ES</td>\n",
       "      <td>Salamanca</td>\n",
       "      <td>pm25</td>\n",
       "      <td>10.0</td>\n",
       "      <td>34.0</td>\n",
       "      <td>78.0</td>\n",
       "      <td>53.0</td>\n",
       "      <td>1275.67</td>\n",
       "    </tr>\n",
       "  </tbody>\n",
       "</table>\n",
       "</div>"
      ],
      "text/plain": [
       "              Date Country       City Specie  count   min   max  median  \\\n",
       "1176875 2017-02-11      ES  Salamanca   pm25   10.0  34.0  78.0    53.0   \n",
       "\n",
       "         variance  \n",
       "1176875   1275.67  "
      ]
     },
     "execution_count": 346,
     "metadata": {},
     "output_type": "execute_result"
    }
   ],
   "source": [
    "df[(df.Country == 'ES') & (df.Specie == 'pm25') & (df.City == 'Salamanca') & (df.Date.dt.month == 2) & (df.Date.dt.year == 2017)]"
   ]
  },
  {
   "cell_type": "code",
   "execution_count": 351,
   "metadata": {},
   "outputs": [],
   "source": [
    "cou_df = calculate_mean_country(df, countries = countries, cities=False)"
   ]
  },
  {
   "cell_type": "code",
   "execution_count": 353,
   "metadata": {},
   "outputs": [
    {
     "data": {
      "text/html": [
       "<div>\n",
       "<style scoped>\n",
       "    .dataframe tbody tr th:only-of-type {\n",
       "        vertical-align: middle;\n",
       "    }\n",
       "\n",
       "    .dataframe tbody tr th {\n",
       "        vertical-align: top;\n",
       "    }\n",
       "\n",
       "    .dataframe thead th {\n",
       "        text-align: right;\n",
       "    }\n",
       "</style>\n",
       "<table border=\"1\" class=\"dataframe\">\n",
       "  <thead>\n",
       "    <tr style=\"text-align: right;\">\n",
       "      <th></th>\n",
       "      <th>Date</th>\n",
       "      <th>Country</th>\n",
       "      <th>City_number</th>\n",
       "      <th>Specie</th>\n",
       "      <th>Mean</th>\n",
       "      <th>std_dev</th>\n",
       "    </tr>\n",
       "  </thead>\n",
       "  <tbody>\n",
       "    <tr>\n",
       "      <th>0</th>\n",
       "      <td>2015-03-01</td>\n",
       "      <td>ES</td>\n",
       "      <td>16</td>\n",
       "      <td>co</td>\n",
       "      <td>1.727706</td>\n",
       "      <td>0.467028</td>\n",
       "    </tr>\n",
       "    <tr>\n",
       "      <th>1</th>\n",
       "      <td>2015-04-01</td>\n",
       "      <td>ES</td>\n",
       "      <td>16</td>\n",
       "      <td>co</td>\n",
       "      <td>1.554031</td>\n",
       "      <td>0.399244</td>\n",
       "    </tr>\n",
       "    <tr>\n",
       "      <th>2</th>\n",
       "      <td>2015-06-01</td>\n",
       "      <td>ES</td>\n",
       "      <td>16</td>\n",
       "      <td>co</td>\n",
       "      <td>1.394713</td>\n",
       "      <td>0.345841</td>\n",
       "    </tr>\n",
       "    <tr>\n",
       "      <th>3</th>\n",
       "      <td>2015-02-01</td>\n",
       "      <td>ES</td>\n",
       "      <td>16</td>\n",
       "      <td>co</td>\n",
       "      <td>1.753793</td>\n",
       "      <td>0.488571</td>\n",
       "    </tr>\n",
       "    <tr>\n",
       "      <th>4</th>\n",
       "      <td>2015-05-01</td>\n",
       "      <td>ES</td>\n",
       "      <td>16</td>\n",
       "      <td>co</td>\n",
       "      <td>1.321064</td>\n",
       "      <td>0.327134</td>\n",
       "    </tr>\n",
       "    <tr>\n",
       "      <th>...</th>\n",
       "      <td>...</td>\n",
       "      <td>...</td>\n",
       "      <td>...</td>\n",
       "      <td>...</td>\n",
       "      <td>...</td>\n",
       "      <td>...</td>\n",
       "    </tr>\n",
       "    <tr>\n",
       "      <th>3122</th>\n",
       "      <td>2020-11-01</td>\n",
       "      <td>AU</td>\n",
       "      <td>11</td>\n",
       "      <td>pm25</td>\n",
       "      <td>21.896970</td>\n",
       "      <td>3.137637</td>\n",
       "    </tr>\n",
       "    <tr>\n",
       "      <th>3123</th>\n",
       "      <td>2020-12-01</td>\n",
       "      <td>AU</td>\n",
       "      <td>11</td>\n",
       "      <td>pm25</td>\n",
       "      <td>17.587467</td>\n",
       "      <td>2.794608</td>\n",
       "    </tr>\n",
       "    <tr>\n",
       "      <th>3124</th>\n",
       "      <td>2021-01-01</td>\n",
       "      <td>AU</td>\n",
       "      <td>11</td>\n",
       "      <td>pm25</td>\n",
       "      <td>18.010811</td>\n",
       "      <td>2.839955</td>\n",
       "    </tr>\n",
       "    <tr>\n",
       "      <th>3125</th>\n",
       "      <td>2021-02-01</td>\n",
       "      <td>AU</td>\n",
       "      <td>11</td>\n",
       "      <td>pm25</td>\n",
       "      <td>16.905844</td>\n",
       "      <td>2.483373</td>\n",
       "    </tr>\n",
       "    <tr>\n",
       "      <th>3126</th>\n",
       "      <td>2021-03-01</td>\n",
       "      <td>AU</td>\n",
       "      <td>11</td>\n",
       "      <td>pm25</td>\n",
       "      <td>17.270073</td>\n",
       "      <td>2.443795</td>\n",
       "    </tr>\n",
       "  </tbody>\n",
       "</table>\n",
       "<p>3127 rows × 6 columns</p>\n",
       "</div>"
      ],
      "text/plain": [
       "           Date Country  City_number Specie       Mean   std_dev\n",
       "0    2015-03-01      ES           16     co   1.727706  0.467028\n",
       "1    2015-04-01      ES           16     co   1.554031  0.399244\n",
       "2    2015-06-01      ES           16     co   1.394713  0.345841\n",
       "3    2015-02-01      ES           16     co   1.753793  0.488571\n",
       "4    2015-05-01      ES           16     co   1.321064  0.327134\n",
       "...         ...     ...          ...    ...        ...       ...\n",
       "3122 2020-11-01      AU           11   pm25  21.896970  3.137637\n",
       "3123 2020-12-01      AU           11   pm25  17.587467  2.794608\n",
       "3124 2021-01-01      AU           11   pm25  18.010811  2.839955\n",
       "3125 2021-02-01      AU           11   pm25  16.905844  2.483373\n",
       "3126 2021-03-01      AU           11   pm25  17.270073  2.443795\n",
       "\n",
       "[3127 rows x 6 columns]"
      ]
     },
     "execution_count": 353,
     "metadata": {},
     "output_type": "execute_result"
    }
   ],
   "source": [
    "cou_df"
   ]
  },
  {
   "cell_type": "markdown",
   "metadata": {},
   "source": [
    "Create table with the worldwide average AQI"
   ]
  },
  {
   "cell_type": "code",
   "execution_count": 355,
   "metadata": {},
   "outputs": [],
   "source": [
    "def yearly_country_AQI(cou_df):\n",
    "    '''The input for this function must be a dataframe with output from calculate_mean_country(cities=False)'''\n",
    "    final_df = pd.DataFrame()\n",
    "    years = np.sort(cou_df.Date.dt.year.unique())\n",
    "    for year in years:\n",
    "        year_df = cou_df[cou_df.Date.dt.year == year]\n",
    "        countries = year_df.Country.unique()\n",
    "        for country in countries:\n",
    "            country_df = year_df[year_df.Country == country]\n",
    "            pollutants = country_df.Specie.unique()\n",
    "            counter = 0\n",
    "            \n",
    "            pollutant_dict = {}\n",
    "            std_dev_dict = {}\n",
    "            for pollutant in pollutants:\n",
    "                pollutant_df = country_df[country_df.Specie == pollutant]\n",
    "                # Yearly mean of the AQI for a particular pollutant and country\n",
    "                mean_yearly_pollutant = pollutant_df['Mean'].mean() \n",
    "                pollutant_dict[pollutant] = mean_yearly_pollutant\n",
    "                \n",
    "                # Standard deviation of the mean yearly pollutant\n",
    "                std_dev_mean = np.sqrt((pollutant_df.std_dev ** 2).sum())/pollutant_df.shape[0]\n",
    "                std_dev_dict[pollutant] = std_dev_mean\n",
    "                \n",
    "                \n",
    "                counter += 1\n",
    "                \n",
    "                if counter == len(pollutants):\n",
    "                    overall_yearly_AQI = pollutant_dict[max(pollutant_dict, key=pollutant_dict.get)] #key attribute is needed. Otherwise it will return the (computationally) largest dict_key\n",
    "                    std_dev_yearly_AQI = std_dev_dict[max(pollutant_dict, key=pollutant_dict.get)]\n",
    "                    date_string = '{}'.format(year)\n",
    "                    temp_df = pd.DataFrame({'Date': datetime.strptime(date_string, '%Y'), 'Country': country, 'Most_present_pollutant': max(pollutant_dict, key=pollutant_dict.get), \\\n",
    "                                            'AQI': [overall_yearly_AQI], 'std_dev': std_dev_yearly_AQI})\n",
    "                    final_df = pd.concat([final_df, temp_df])    \n",
    "                    \n",
    "    return final_df.reset_index().drop('index', axis=1)"
   ]
  },
  {
   "cell_type": "code",
   "execution_count": 358,
   "metadata": {},
   "outputs": [],
   "source": [
    "def yearly_world_AQI(yearly_cou_df):\n",
    "    '''The input for this function must be a dataframe with output from calculate_mean_country(cities=False)'''\n",
    "    final_df = pd.DataFrame()\n",
    "    years = np.sort(yearly_cou_df.Date.dt.year.unique())\n",
    "    for year in years:\n",
    "        year_df = yearly_cou_df[yearly_cou_df.Date.dt.year == year]\n",
    "        \n",
    "        # World mean AQI:\n",
    "        mean_world_AQI = year_df.AQI.mean()\n",
    "        \n",
    "        # Standard deviation:\n",
    "        std_dev_mean = np.sqrt((year_df.std_dev ** 2).sum())/year_df.shape[0] \n",
    "        \n",
    "        date_string = '{}'.format(year)\n",
    "        temp_df = pd.DataFrame({'Date': datetime.strptime(date_string, '%Y'), 'Most_present_pollutant': year_df.Most_present_pollutant.value_counts().index[0], \\\n",
    "                                'Mean_AQI': [mean_world_AQI], 'std_dev': std_dev_mean })\n",
    "        final_df = pd.concat([final_df, temp_df])\n",
    "    \n",
    "    return final_df.reset_index().drop('index', axis=1)"
   ]
  },
  {
   "cell_type": "code",
   "execution_count": 356,
   "metadata": {},
   "outputs": [],
   "source": [
    "t = yearly_country_AQI(cou_df)"
   ]
  },
  {
   "cell_type": "code",
   "execution_count": 357,
   "metadata": {},
   "outputs": [
    {
     "data": {
      "text/html": [
       "<div>\n",
       "<style scoped>\n",
       "    .dataframe tbody tr th:only-of-type {\n",
       "        vertical-align: middle;\n",
       "    }\n",
       "\n",
       "    .dataframe tbody tr th {\n",
       "        vertical-align: top;\n",
       "    }\n",
       "\n",
       "    .dataframe thead th {\n",
       "        text-align: right;\n",
       "    }\n",
       "</style>\n",
       "<table border=\"1\" class=\"dataframe\">\n",
       "  <thead>\n",
       "    <tr style=\"text-align: right;\">\n",
       "      <th></th>\n",
       "      <th>Date</th>\n",
       "      <th>Country</th>\n",
       "      <th>Most_present_pollutant</th>\n",
       "      <th>AQI</th>\n",
       "      <th>std_dev</th>\n",
       "    </tr>\n",
       "  </thead>\n",
       "  <tbody>\n",
       "    <tr>\n",
       "      <th>0</th>\n",
       "      <td>2014-01-01</td>\n",
       "      <td>ES</td>\n",
       "      <td>pm25</td>\n",
       "      <td>46.612903</td>\n",
       "      <td>9.547436</td>\n",
       "    </tr>\n",
       "    <tr>\n",
       "      <th>1</th>\n",
       "      <td>2014-01-01</td>\n",
       "      <td>IT</td>\n",
       "      <td>pm25</td>\n",
       "      <td>68.062500</td>\n",
       "      <td>10.811935</td>\n",
       "    </tr>\n",
       "    <tr>\n",
       "      <th>2</th>\n",
       "      <td>2014-01-01</td>\n",
       "      <td>US</td>\n",
       "      <td>pm25</td>\n",
       "      <td>29.348837</td>\n",
       "      <td>2.026652</td>\n",
       "    </tr>\n",
       "    <tr>\n",
       "      <th>3</th>\n",
       "      <td>2014-01-01</td>\n",
       "      <td>IN</td>\n",
       "      <td>pm25</td>\n",
       "      <td>225.500000</td>\n",
       "      <td>35.710319</td>\n",
       "    </tr>\n",
       "    <tr>\n",
       "      <th>4</th>\n",
       "      <td>2014-01-01</td>\n",
       "      <td>FR</td>\n",
       "      <td>pm25</td>\n",
       "      <td>69.944444</td>\n",
       "      <td>5.359948</td>\n",
       "    </tr>\n",
       "  </tbody>\n",
       "</table>\n",
       "</div>"
      ],
      "text/plain": [
       "        Date Country Most_present_pollutant         AQI    std_dev\n",
       "0 2014-01-01      ES                   pm25   46.612903   9.547436\n",
       "1 2014-01-01      IT                   pm25   68.062500  10.811935\n",
       "2 2014-01-01      US                   pm25   29.348837   2.026652\n",
       "3 2014-01-01      IN                   pm25  225.500000  35.710319\n",
       "4 2014-01-01      FR                   pm25   69.944444   5.359948"
      ]
     },
     "execution_count": 357,
     "metadata": {},
     "output_type": "execute_result"
    }
   ],
   "source": [
    "t.head()\n"
   ]
  },
  {
   "cell_type": "code",
   "execution_count": 359,
   "metadata": {},
   "outputs": [],
   "source": [
    "y = yearly_world_AQI(t)"
   ]
  },
  {
   "cell_type": "code",
   "execution_count": 360,
   "metadata": {},
   "outputs": [
    {
     "data": {
      "text/html": [
       "<div>\n",
       "<style scoped>\n",
       "    .dataframe tbody tr th:only-of-type {\n",
       "        vertical-align: middle;\n",
       "    }\n",
       "\n",
       "    .dataframe tbody tr th {\n",
       "        vertical-align: top;\n",
       "    }\n",
       "\n",
       "    .dataframe thead th {\n",
       "        text-align: right;\n",
       "    }\n",
       "</style>\n",
       "<table border=\"1\" class=\"dataframe\">\n",
       "  <thead>\n",
       "    <tr style=\"text-align: right;\">\n",
       "      <th></th>\n",
       "      <th>Date</th>\n",
       "      <th>Most_present_pollutant</th>\n",
       "      <th>Mean_AQI</th>\n",
       "      <th>std_dev</th>\n",
       "    </tr>\n",
       "  </thead>\n",
       "  <tbody>\n",
       "    <tr>\n",
       "      <th>0</th>\n",
       "      <td>2014-01-01</td>\n",
       "      <td>pm25</td>\n",
       "      <td>81.590793</td>\n",
       "      <td>6.186555</td>\n",
       "    </tr>\n",
       "    <tr>\n",
       "      <th>1</th>\n",
       "      <td>2015-01-01</td>\n",
       "      <td>pm25</td>\n",
       "      <td>73.438966</td>\n",
       "      <td>2.663074</td>\n",
       "    </tr>\n",
       "    <tr>\n",
       "      <th>2</th>\n",
       "      <td>2016-01-01</td>\n",
       "      <td>pm25</td>\n",
       "      <td>61.680848</td>\n",
       "      <td>1.257421</td>\n",
       "    </tr>\n",
       "    <tr>\n",
       "      <th>3</th>\n",
       "      <td>2017-01-01</td>\n",
       "      <td>pm25</td>\n",
       "      <td>61.555519</td>\n",
       "      <td>1.332319</td>\n",
       "    </tr>\n",
       "    <tr>\n",
       "      <th>4</th>\n",
       "      <td>2018-01-01</td>\n",
       "      <td>pm25</td>\n",
       "      <td>61.587966</td>\n",
       "      <td>0.995710</td>\n",
       "    </tr>\n",
       "    <tr>\n",
       "      <th>5</th>\n",
       "      <td>2019-01-01</td>\n",
       "      <td>pm25</td>\n",
       "      <td>55.241942</td>\n",
       "      <td>0.767367</td>\n",
       "    </tr>\n",
       "    <tr>\n",
       "      <th>6</th>\n",
       "      <td>2020-01-01</td>\n",
       "      <td>pm25</td>\n",
       "      <td>50.647738</td>\n",
       "      <td>0.694765</td>\n",
       "    </tr>\n",
       "    <tr>\n",
       "      <th>7</th>\n",
       "      <td>2021-01-01</td>\n",
       "      <td>pm25</td>\n",
       "      <td>63.001366</td>\n",
       "      <td>1.692035</td>\n",
       "    </tr>\n",
       "  </tbody>\n",
       "</table>\n",
       "</div>"
      ],
      "text/plain": [
       "        Date Most_present_pollutant   Mean_AQI   std_dev\n",
       "0 2014-01-01                   pm25  81.590793  6.186555\n",
       "1 2015-01-01                   pm25  73.438966  2.663074\n",
       "2 2016-01-01                   pm25  61.680848  1.257421\n",
       "3 2017-01-01                   pm25  61.555519  1.332319\n",
       "4 2018-01-01                   pm25  61.587966  0.995710\n",
       "5 2019-01-01                   pm25  55.241942  0.767367\n",
       "6 2020-01-01                   pm25  50.647738  0.694765\n",
       "7 2021-01-01                   pm25  63.001366  1.692035"
      ]
     },
     "execution_count": 360,
     "metadata": {},
     "output_type": "execute_result"
    }
   ],
   "source": [
    "y"
   ]
  },
  {
   "cell_type": "code",
   "execution_count": 326,
   "metadata": {},
   "outputs": [
    {
     "data": {
      "text/plain": [
       "<BarContainer object of 8 artists>"
      ]
     },
     "execution_count": 326,
     "metadata": {},
     "output_type": "execute_result"
    },
    {
     "data": {
      "image/png": "[encoded data removed]",
      "text/plain": [
       "<Figure size 432x288 with 1 Axes>"
      ]
     },
     "metadata": {
      "needs_background": "light"
     },
     "output_type": "display_data"
    }
   ],
   "source": [
    "plt.bar(y.Date.dt.year, y.Mean_AQI)"
   ]
  },
  {
   "cell_type": "code",
   "execution_count": 175,
   "metadata": {},
   "outputs": [
    {
     "data": {
      "text/plain": [
       "<matplotlib.collections.PathCollection at 0x1de09d02430>"
      ]
     },
     "execution_count": 175,
     "metadata": {},
     "output_type": "execute_result"
    },
    {
     "data": {
      "image/png": "[encoded data removed]",
      "text/plain": [
       "<Figure size 432x288 with 1 Axes>"
      ]
     },
     "metadata": {
      "needs_background": "light"
     },
     "output_type": "display_data"
    }
   ],
   "source": [
    "plt.scatter(df[(df.City == 'Wuhan') & (df.Date.dt.year > 2019)]['Date'], df[(df.City == 'Wuhan') & (df.Date.dt.year > 2019)]['median'])"
   ]
  },
  {
   "cell_type": "code",
   "execution_count": 139,
   "metadata": {},
   "outputs": [
    {
     "data": {
      "text/html": [
       "<div>\n",
       "<style scoped>\n",
       "    .dataframe tbody tr th:only-of-type {\n",
       "        vertical-align: middle;\n",
       "    }\n",
       "\n",
       "    .dataframe tbody tr th {\n",
       "        vertical-align: top;\n",
       "    }\n",
       "\n",
       "    .dataframe thead th {\n",
       "        text-align: right;\n",
       "    }\n",
       "</style>\n",
       "<table border=\"1\" class=\"dataframe\">\n",
       "  <thead>\n",
       "    <tr style=\"text-align: right;\">\n",
       "      <th></th>\n",
       "      <th>Date</th>\n",
       "      <th>Country</th>\n",
       "      <th>City</th>\n",
       "      <th>Specie</th>\n",
       "      <th>Mean</th>\n",
       "    </tr>\n",
       "  </thead>\n",
       "  <tbody>\n",
       "    <tr>\n",
       "      <th>0</th>\n",
       "      <td>2016-02-01</td>\n",
       "      <td>ES</td>\n",
       "      <td>Las Palmas de Gran Canaria</td>\n",
       "      <td>no2</td>\n",
       "      <td>3.251852</td>\n",
       "    </tr>\n",
       "    <tr>\n",
       "      <th>1</th>\n",
       "      <td>2016-03-01</td>\n",
       "      <td>ES</td>\n",
       "      <td>Las Palmas de Gran Canaria</td>\n",
       "      <td>no2</td>\n",
       "      <td>3.593548</td>\n",
       "    </tr>\n",
       "    <tr>\n",
       "      <th>2</th>\n",
       "      <td>2016-05-01</td>\n",
       "      <td>ES</td>\n",
       "      <td>Las Palmas de Gran Canaria</td>\n",
       "      <td>no2</td>\n",
       "      <td>3.248387</td>\n",
       "    </tr>\n",
       "    <tr>\n",
       "      <th>3</th>\n",
       "      <td>2016-06-01</td>\n",
       "      <td>ES</td>\n",
       "      <td>Las Palmas de Gran Canaria</td>\n",
       "      <td>no2</td>\n",
       "      <td>2.776667</td>\n",
       "    </tr>\n",
       "    <tr>\n",
       "      <th>4</th>\n",
       "      <td>2016-04-01</td>\n",
       "      <td>ES</td>\n",
       "      <td>Las Palmas de Gran Canaria</td>\n",
       "      <td>no2</td>\n",
       "      <td>3.520000</td>\n",
       "    </tr>\n",
       "    <tr>\n",
       "      <th>...</th>\n",
       "      <td>...</td>\n",
       "      <td>...</td>\n",
       "      <td>...</td>\n",
       "      <td>...</td>\n",
       "      <td>...</td>\n",
       "    </tr>\n",
       "    <tr>\n",
       "      <th>154</th>\n",
       "      <td>2016-03-01</td>\n",
       "      <td>ES</td>\n",
       "      <td>Oviedo</td>\n",
       "      <td>no2</td>\n",
       "      <td>6.993548</td>\n",
       "    </tr>\n",
       "    <tr>\n",
       "      <th>155</th>\n",
       "      <td>2016-06-01</td>\n",
       "      <td>ES</td>\n",
       "      <td>Oviedo</td>\n",
       "      <td>no2</td>\n",
       "      <td>4.676667</td>\n",
       "    </tr>\n",
       "    <tr>\n",
       "      <th>156</th>\n",
       "      <td>2016-01-01</td>\n",
       "      <td>ES</td>\n",
       "      <td>Oviedo</td>\n",
       "      <td>no2</td>\n",
       "      <td>9.866667</td>\n",
       "    </tr>\n",
       "    <tr>\n",
       "      <th>157</th>\n",
       "      <td>2016-07-01</td>\n",
       "      <td>ES</td>\n",
       "      <td>Oviedo</td>\n",
       "      <td>no2</td>\n",
       "      <td>4.133333</td>\n",
       "    </tr>\n",
       "    <tr>\n",
       "      <th>158</th>\n",
       "      <td>2016-12-01</td>\n",
       "      <td>ES</td>\n",
       "      <td>Oviedo</td>\n",
       "      <td>no2</td>\n",
       "      <td>10.650000</td>\n",
       "    </tr>\n",
       "  </tbody>\n",
       "</table>\n",
       "<p>159 rows × 5 columns</p>\n",
       "</div>"
      ],
      "text/plain": [
       "          Date Country                        City Specie       Mean\n",
       "0   2016-02-01      ES  Las Palmas de Gran Canaria    no2   3.251852\n",
       "1   2016-03-01      ES  Las Palmas de Gran Canaria    no2   3.593548\n",
       "2   2016-05-01      ES  Las Palmas de Gran Canaria    no2   3.248387\n",
       "3   2016-06-01      ES  Las Palmas de Gran Canaria    no2   2.776667\n",
       "4   2016-04-01      ES  Las Palmas de Gran Canaria    no2   3.520000\n",
       "..         ...     ...                         ...    ...        ...\n",
       "154 2016-03-01      ES                      Oviedo    no2   6.993548\n",
       "155 2016-06-01      ES                      Oviedo    no2   4.676667\n",
       "156 2016-01-01      ES                      Oviedo    no2   9.866667\n",
       "157 2016-07-01      ES                      Oviedo    no2   4.133333\n",
       "158 2016-12-01      ES                      Oviedo    no2  10.650000\n",
       "\n",
       "[159 rows x 5 columns]"
      ]
     },
     "execution_count": 139,
     "metadata": {},
     "output_type": "execute_result"
    }
   ],
   "source": [
    "d = calculate_mean_country(df[(df.Date.dt.year == 2016) & (df.Specie == 'no2')], countries = ['ES'], cities=True)\n",
    "d"
   ]
  },
  {
   "cell_type": "markdown",
   "metadata": {},
   "source": [
    "def calculate_mean_country(df, countries):\n",
    "    '''This function calculates the monthly average of the pollutant aqi for the inserted countries and for all the available years in the dataset\n",
    "    INPUT: \n",
    "    OUTPUT: '''\n",
    "    final_df = pd.DataFrame()\n",
    "    cities_country = df.City.unique()\n",
    "    years = df.Date.dt.year.unique()\n",
    "    months = df.Date.dt.month.unique()\n",
    "    for country in countries:\n",
    "        #print(country)\n",
    "        for city in cities_country:\n",
    "           # print(city)\n",
    "            for year in years:\n",
    "              #  print(year)\n",
    "                for month in months:\n",
    "                  #  print(month)\n",
    "                    country_filter = df.Country == country\n",
    "                    city_filter = df.City == city\n",
    "                    year_filter = df.Date.dt.year == year\n",
    "                    month_filter = df.Date.dt.month == month\n",
    "                    \n",
    "                    mean_ser = df[country_filter & city_filter & year_filter & month_filter]['median']\n",
    "                    print(mean_ser)\n",
    "                    date_string = '{}/{}'.format(year, month)\n",
    "                    temp_df = pd.DataFrame(data={'Date':datetime.strptime(date_string, '%Y/%m'), 'Country': country, 'City': city, 'Mean': mean_ser})\n",
    "                    \n",
    "                    final_df = pd.concat([final_df, temp_df])\n",
    "    return final_df\n",
    "                    "
   ]
  },
  {
   "cell_type": "code",
   "execution_count": 50,
   "metadata": {},
   "outputs": [
    {
     "name": "stdout",
     "output_type": "stream",
     "text": [
      "1\n"
     ]
    }
   ],
   "source": [
    "print(1)"
   ]
  },
  {
   "cell_type": "code",
   "execution_count": 150,
   "metadata": {},
   "outputs": [
    {
     "ename": "TypeError",
     "evalue": "'int' object is not callable",
     "output_type": "error",
     "traceback": [
      "\u001b[1;31m---------------------------------------------------------------------------\u001b[0m",
      "\u001b[1;31mTypeError\u001b[0m                                 Traceback (most recent call last)",
      "\u001b[1;32m<ipython-input-150-83c6869800f0>\u001b[0m in \u001b[0;36m<module>\u001b[1;34m\u001b[0m\n\u001b[1;32m----> 1\u001b[1;33m \u001b[0md\u001b[0m\u001b[1;33m.\u001b[0m\u001b[0mCity\u001b[0m\u001b[1;33m.\u001b[0m\u001b[0munique\u001b[0m\u001b[1;33m(\u001b[0m\u001b[1;33m)\u001b[0m\u001b[1;33m.\u001b[0m\u001b[0msize\u001b[0m\u001b[1;33m(\u001b[0m\u001b[1;33m)\u001b[0m\u001b[1;33m\u001b[0m\u001b[1;33m\u001b[0m\u001b[0m\n\u001b[0m",
      "\u001b[1;31mTypeError\u001b[0m: 'int' object is not callable"
     ]
    }
   ],
   "source": [
    "d.City.unique().size()"
   ]
  },
  {
   "cell_type": "code",
   "execution_count": 20,
   "metadata": {},
   "outputs": [
    {
     "data": {
      "text/plain": [
       "count        148.334274\n",
       "min            5.259394\n",
       "max           43.285182\n",
       "median        16.452347\n",
       "variance    1578.165318\n",
       "dtype: float64"
      ]
     },
     "execution_count": 20,
     "metadata": {},
     "output_type": "execute_result"
    }
   ],
   "source": [
    "df[(df.Date.dt.year == 2015) & (df.Date.dt.month == 1) & (df.Specie == 'no2')].mean(numeric_only=True)"
   ]
  },
  {
   "cell_type": "code",
   "execution_count": 196,
   "metadata": {},
   "outputs": [
    {
     "data": {
      "text/plain": [
       "array(['co', 'pm10', 'o3', 'so2', 'no2', 'pm25', 'psi', 'uvi', 'neph',\n",
       "       'aqi', 'mepaqi', nan, 'pol', 'temperature', 'humidity', 'pressure',\n",
       "       'wd', 'wind-speed', 'd', 'pm1', 'wind-gust', 'precipitation',\n",
       "       'dew', 'wind speed', 'wind gust'], dtype=object)"
      ]
     },
     "execution_count": 196,
     "metadata": {},
     "output_type": "execute_result"
    }
   ],
   "source": [
    "df_whole.Specie.unique()"
   ]
  },
  {
   "cell_type": "code",
   "execution_count": 198,
   "metadata": {},
   "outputs": [
    {
     "name": "stderr",
     "output_type": "stream",
     "text": [
      "<ipython-input-198-fa07a08bd218>:1: UserWarning: Boolean Series key will be reindexed to match DataFrame index.\n",
      "  df[(df_whole.Specie == 'aqi')]\n"
     ]
    },
    {
     "data": {
      "text/html": [
       "<div>\n",
       "<style scoped>\n",
       "    .dataframe tbody tr th:only-of-type {\n",
       "        vertical-align: middle;\n",
       "    }\n",
       "\n",
       "    .dataframe tbody tr th {\n",
       "        vertical-align: top;\n",
       "    }\n",
       "\n",
       "    .dataframe thead th {\n",
       "        text-align: right;\n",
       "    }\n",
       "</style>\n",
       "<table border=\"1\" class=\"dataframe\">\n",
       "  <thead>\n",
       "    <tr style=\"text-align: right;\">\n",
       "      <th></th>\n",
       "      <th>Date</th>\n",
       "      <th>Country</th>\n",
       "      <th>City</th>\n",
       "      <th>Specie</th>\n",
       "      <th>count</th>\n",
       "      <th>min</th>\n",
       "      <th>max</th>\n",
       "      <th>median</th>\n",
       "      <th>variance</th>\n",
       "    </tr>\n",
       "  </thead>\n",
       "  <tbody>\n",
       "  </tbody>\n",
       "</table>\n",
       "</div>"
      ],
      "text/plain": [
       "Empty DataFrame\n",
       "Columns: [Date, Country, City, Specie, count, min, max, median, variance]\n",
       "Index: []"
      ]
     },
     "execution_count": 198,
     "metadata": {},
     "output_type": "execute_result"
    }
   ],
   "source": [
    "df[(df_whole.Specie == 'aqi')]"
   ]
  },
  {
   "cell_type": "code",
   "execution_count": null,
   "metadata": {},
   "outputs": [],
   "source": []
  },
  {
   "cell_type": "code",
   "execution_count": null,
   "metadata": {},
   "outputs": [],
   "source": []
  },
  {
   "cell_type": "code",
   "execution_count": null,
   "metadata": {},
   "outputs": [],
   "source": []
  }
 ],
 "metadata": {
  "kernelspec": {
   "display_name": "Python 3",
   "language": "python",
   "name": "python3"
  },
  "language_info": {
   "codemirror_mode": {
    "name": "ipython",
    "version": 3
   },
   "file_extension": ".py",
   "mimetype": "text/x-python",
   "name": "python",
   "nbconvert_exporter": "python",
   "pygments_lexer": "ipython3",
   "version": "3.8.5"
  }
 },
 "nbformat": 4,
 "nbformat_minor": 4
}
