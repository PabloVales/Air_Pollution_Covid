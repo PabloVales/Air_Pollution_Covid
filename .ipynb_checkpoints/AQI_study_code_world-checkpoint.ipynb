{
 "cells": [
  {
   "cell_type": "code",
   "execution_count": 1,
   "metadata": {},
   "outputs": [],
   "source": [
    "import csv\n",
    "import os\n",
    "import re\n",
    "import requests\n",
    "import pandas as pd\n",
    "import numpy as np\n",
    "import matplotlib.pyplot as plt\n",
    "import seaborn as sns\n",
    "from scipy import stats\n",
    "from datetime import datetime\n",
    "import functions"
   ]
  },
  {
   "cell_type": "code",
   "execution_count": 5,
   "metadata": {},
   "outputs": [],
   "source": [
    "def get_aqi_data():\n",
    "    \n",
    "    '''This function gets all the aqi data from https://aqicn.org for several cities.\n",
    "    It returns a dictionary with all the dataframes and creates csv files for all of them in\n",
    "    the current folder'''\n",
    "\n",
    "    CSV_URLS = 'https://aqicn.org/data-platform/covid19/report/22408-10ad85dd/'\n",
    "    time_periods = ['2021Q1','2020Q1', '2020Q2', '2020Q3', '2020Q4', '2019Q1', '2019Q2', '2019Q3', '2019Q4', '2018H1', '2017H1', '2016H1', \n",
    "                '2015H1']\n",
    "\n",
    "    dic = {}\n",
    "    for period in time_periods:\n",
    "        print(period)\n",
    "    \n",
    "        response = requests.get(CSV_URLS + period)\n",
    "        string_data = response.content.decode('utf-8')\n",
    "        list_data = [row.split(',') for row in string_data.split('\\n')]\n",
    "        # Remove header\n",
    "        del list_data[:4]\n",
    "        print(string_data)\n",
    "    \n",
    "        columns = list_data[0]\n",
    "        values = list_data[1:]\n",
    "    \n",
    "        dic[period] = pd.DataFrame(values, columns=columns)\n",
    "        \n",
    "    for name, df in dic.items():\n",
    "        df.to_csv('./'+name+'.csv')\n",
    "    \n",
    "    return dic\n",
    "\n"
   ]
  },
  {
   "cell_type": "code",
   "execution_count": 6,
   "metadata": {},
   "outputs": [
    {
     "name": "stdout",
     "output_type": "stream",
     "text": [
      "2021Q1\n",
      "Sorry, this report can not be found\n"
     ]
    },
    {
     "ename": "IndexError",
     "evalue": "list index out of range",
     "output_type": "error",
     "traceback": [
      "\u001b[1;31m---------------------------------------------------------------------------\u001b[0m",
      "\u001b[1;31mIndexError\u001b[0m                                Traceback (most recent call last)",
      "\u001b[1;32m<ipython-input-6-55d600368ae0>\u001b[0m in \u001b[0;36m<module>\u001b[1;34m\u001b[0m\n\u001b[1;32m----> 1\u001b[1;33m \u001b[0mdct\u001b[0m \u001b[1;33m=\u001b[0m \u001b[0mget_aqi_data\u001b[0m\u001b[1;33m(\u001b[0m\u001b[1;33m)\u001b[0m\u001b[1;33m\u001b[0m\u001b[1;33m\u001b[0m\u001b[0m\n\u001b[0m",
      "\u001b[1;32m<ipython-input-5-cefbfc5a15bb>\u001b[0m in \u001b[0;36mget_aqi_data\u001b[1;34m()\u001b[0m\n\u001b[0;32m     20\u001b[0m         \u001b[0mprint\u001b[0m\u001b[1;33m(\u001b[0m\u001b[0mstring_data\u001b[0m\u001b[1;33m)\u001b[0m\u001b[1;33m\u001b[0m\u001b[1;33m\u001b[0m\u001b[0m\n\u001b[0;32m     21\u001b[0m \u001b[1;33m\u001b[0m\u001b[0m\n\u001b[1;32m---> 22\u001b[1;33m         \u001b[0mcolumns\u001b[0m \u001b[1;33m=\u001b[0m \u001b[0mlist_data\u001b[0m\u001b[1;33m[\u001b[0m\u001b[1;36m0\u001b[0m\u001b[1;33m]\u001b[0m\u001b[1;33m\u001b[0m\u001b[1;33m\u001b[0m\u001b[0m\n\u001b[0m\u001b[0;32m     23\u001b[0m         \u001b[0mvalues\u001b[0m \u001b[1;33m=\u001b[0m \u001b[0mlist_data\u001b[0m\u001b[1;33m[\u001b[0m\u001b[1;36m1\u001b[0m\u001b[1;33m:\u001b[0m\u001b[1;33m]\u001b[0m\u001b[1;33m\u001b[0m\u001b[1;33m\u001b[0m\u001b[0m\n\u001b[0;32m     24\u001b[0m \u001b[1;33m\u001b[0m\u001b[0m\n",
      "\u001b[1;31mIndexError\u001b[0m: list index out of range"
     ]
    }
   ],
   "source": [
    "dct = get_aqi_data()"
   ]
  },
  {
   "cell_type": "code",
   "execution_count": null,
   "metadata": {},
   "outputs": [],
   "source": [
    "#Save data to csv files\n",
    "for name, df in dct.items():\n",
    "    df.to_csv('./'+name+'.csv')"
   ]
  },
  {
   "cell_type": "code",
   "execution_count": null,
   "metadata": {},
   "outputs": [],
   "source": [
    "ls"
   ]
  },
  {
   "cell_type": "markdown",
   "metadata": {},
   "source": [
    "# Business case\n",
    "\n",
    "Air pollution is one the main risk factors to develop diseases. The Covid pandemic has given us with an extraordinary situation to study how fast and how much the air pollution would decrease if the...... Has Covid benefitted us in this regard?"
   ]
  },
  {
   "cell_type": "markdown",
   "metadata": {},
   "source": [
    "# Data cleaning"
   ]
  },
  {
   "cell_type": "markdown",
   "metadata": {},
   "source": [
    "## Grouping of files and concatenation of DataFrames"
   ]
  },
  {
   "cell_type": "code",
   "execution_count": 2,
   "metadata": {},
   "outputs": [],
   "source": [
    "def concatenate_per_year(year):\n",
    "    '''Helper function: Puts together the csv files for a single year in one DataFrame\n",
    "    INPUT: int year to group\n",
    "    OUTPUT: pd.DataFrame'''\n",
    "    files_in_folder = [file for file in os.listdir() if os.path.isfile(os.path.join(os.getcwd(),file))]\n",
    "                                  \n",
    "    df = pd.DataFrame()\n",
    "    for file in files_in_folder:\n",
    "        if re.search('^{}'.format(str(year)), string=file):\n",
    "            temp_df = pd.read_csv(file)\n",
    "            df = pd.concat([df, temp_df])\n",
    "    return df\n",
    "\n",
    "def concatenate_all_years(years):\n",
    "    '''Creates a single dataframe with the data across all years contained in years\n",
    "    INPUT: list of ints years to concatenate\n",
    "    OUTPUT: pd.DataFrame with the data for all years'''\n",
    "    df = pd.DataFrame()\n",
    "    for year in years:\n",
    "            df = pd.concat([df, concatenate_per_year(year)])\n",
    "    return df\n",
    "        \n",
    "            "
   ]
  },
  {
   "cell_type": "markdown",
   "metadata": {},
   "source": [
    "df15 = concatenate_per_year(2015)\n",
    "df16 = concatenate_per_year(2016)\n",
    "df17 = concatenate_per_year(2017)\n",
    "df18 = concatenate_per_year(2018)\n",
    "df19 = concatenate_per_year(2019)\n",
    "df20 = concatenate_per_year(2020)\n",
    "df21 = concatenate_per_year(2021)"
   ]
  },
  {
   "cell_type": "code",
   "execution_count": 3,
   "metadata": {},
   "outputs": [
    {
     "data": {
      "text/html": [
       "<div>\n",
       "<style scoped>\n",
       "    .dataframe tbody tr th:only-of-type {\n",
       "        vertical-align: middle;\n",
       "    }\n",
       "\n",
       "    .dataframe tbody tr th {\n",
       "        vertical-align: top;\n",
       "    }\n",
       "\n",
       "    .dataframe thead th {\n",
       "        text-align: right;\n",
       "    }\n",
       "</style>\n",
       "<table border=\"1\" class=\"dataframe\">\n",
       "  <thead>\n",
       "    <tr style=\"text-align: right;\">\n",
       "      <th></th>\n",
       "      <th>Unnamed: 0</th>\n",
       "      <th>Date</th>\n",
       "      <th>Country</th>\n",
       "      <th>City</th>\n",
       "      <th>Specie</th>\n",
       "      <th>count</th>\n",
       "      <th>min</th>\n",
       "      <th>max</th>\n",
       "      <th>median</th>\n",
       "      <th>variance</th>\n",
       "    </tr>\n",
       "  </thead>\n",
       "  <tbody>\n",
       "    <tr>\n",
       "      <th>529594</th>\n",
       "      <td>NaN</td>\n",
       "      <td>2021-03-24</td>\n",
       "      <td>IL</td>\n",
       "      <td>Petaẖ Tiqwa</td>\n",
       "      <td>wind-gust</td>\n",
       "      <td>4.0</td>\n",
       "      <td>11.3</td>\n",
       "      <td>16.4</td>\n",
       "      <td>15.4</td>\n",
       "      <td>54.57</td>\n",
       "    </tr>\n",
       "    <tr>\n",
       "      <th>529595</th>\n",
       "      <td>NaN</td>\n",
       "      <td>2021-01-14</td>\n",
       "      <td>IL</td>\n",
       "      <td>Petaẖ Tiqwa</td>\n",
       "      <td>wind-gust</td>\n",
       "      <td>2.0</td>\n",
       "      <td>13.8</td>\n",
       "      <td>16.4</td>\n",
       "      <td>13.8</td>\n",
       "      <td>33.80</td>\n",
       "    </tr>\n",
       "    <tr>\n",
       "      <th>529596</th>\n",
       "      <td>NaN</td>\n",
       "      <td>2021-01-17</td>\n",
       "      <td>IL</td>\n",
       "      <td>Petaẖ Tiqwa</td>\n",
       "      <td>wind-gust</td>\n",
       "      <td>5.0</td>\n",
       "      <td>14.9</td>\n",
       "      <td>16.7</td>\n",
       "      <td>15.4</td>\n",
       "      <td>4.63</td>\n",
       "    </tr>\n",
       "    <tr>\n",
       "      <th>529597</th>\n",
       "      <td>NaN</td>\n",
       "      <td>2021-01-19</td>\n",
       "      <td>IL</td>\n",
       "      <td>Petaẖ Tiqwa</td>\n",
       "      <td>wind-gust</td>\n",
       "      <td>4.0</td>\n",
       "      <td>13.8</td>\n",
       "      <td>15.9</td>\n",
       "      <td>14.9</td>\n",
       "      <td>10.02</td>\n",
       "    </tr>\n",
       "    <tr>\n",
       "      <th>529598</th>\n",
       "      <td>NaN</td>\n",
       "      <td>2021-01-29</td>\n",
       "      <td>IL</td>\n",
       "      <td>Petaẖ Tiqwa</td>\n",
       "      <td>wind-gust</td>\n",
       "      <td>2.0</td>\n",
       "      <td>10.8</td>\n",
       "      <td>12.8</td>\n",
       "      <td>10.8</td>\n",
       "      <td>20.00</td>\n",
       "    </tr>\n",
       "  </tbody>\n",
       "</table>\n",
       "</div>"
      ],
      "text/plain": [
       "        Unnamed: 0        Date Country         City     Specie  count   min  \\\n",
       "529594         NaN  2021-03-24      IL  Petaẖ Tiqwa  wind-gust    4.0  11.3   \n",
       "529595         NaN  2021-01-14      IL  Petaẖ Tiqwa  wind-gust    2.0  13.8   \n",
       "529596         NaN  2021-01-17      IL  Petaẖ Tiqwa  wind-gust    5.0  14.9   \n",
       "529597         NaN  2021-01-19      IL  Petaẖ Tiqwa  wind-gust    4.0  13.8   \n",
       "529598         NaN  2021-01-29      IL  Petaẖ Tiqwa  wind-gust    2.0  10.8   \n",
       "\n",
       "         max  median  variance  \n",
       "529594  16.4    15.4     54.57  \n",
       "529595  16.4    13.8     33.80  \n",
       "529596  16.7    15.4      4.63  \n",
       "529597  15.9    14.9     10.02  \n",
       "529598  12.8    10.8     20.00  "
      ]
     },
     "execution_count": 3,
     "metadata": {},
     "output_type": "execute_result"
    }
   ],
   "source": [
    "df = concatenate_all_years([2019,2020,2021])\n",
    "df.tail()"
   ]
  },
  {
   "cell_type": "code",
   "execution_count": 4,
   "metadata": {},
   "outputs": [],
   "source": [
    "df = df.reset_index().drop(['index', 'Unnamed: 0'], axis=1)"
   ]
  },
  {
   "cell_type": "code",
   "execution_count": 5,
   "metadata": {},
   "outputs": [
    {
     "data": {
      "text/plain": [
       "(5031634, 9)"
      ]
     },
     "execution_count": 5,
     "metadata": {},
     "output_type": "execute_result"
    }
   ],
   "source": [
    "df.shape"
   ]
  },
  {
   "cell_type": "markdown",
   "metadata": {},
   "source": [
    "Note that in this dataset the value reported for the air quality is the sample median. This magnitude is more statistically sound to report air pollution as it can vary very rapidly along the day and whose distribution can be highly skewed. We will not be using the \"variance\" in the dataset, because it is defined as the variance of the raw data (https://aqicn.org/data-platform/covid19/), rather than the variance of the distribution of the median (which will be the quantity we will use). Note that the raw data is not provided, only the calculated median. For statistical analysis we will be using the natural spread of data. "
   ]
  },
  {
   "cell_type": "code",
   "execution_count": 6,
   "metadata": {},
   "outputs": [],
   "source": [
    "df.drop(['variance', 'min', 'max'], axis=1, inplace=True)"
   ]
  },
  {
   "cell_type": "markdown",
   "metadata": {},
   "source": [
    "Moreover, lets get rid of the data that we are not interested in. This dataframe has information for several markers, which are:"
   ]
  },
  {
   "cell_type": "code",
   "execution_count": 7,
   "metadata": {},
   "outputs": [
    {
     "data": {
      "text/plain": [
       "array(['pm10', 'humidity', 'o3', 'so2', 'wind-speed', 'wind-gust', 'dew',\n",
       "       'pm25', 'no2', 'pressure', 'temperature', 'precipitation', 'co',\n",
       "       'wd', 'uvi', 'aqi', 'pm1', 'mepaqi', 'pol', nan, 'wind speed',\n",
       "       'wind gust', 'neph'], dtype=object)"
      ]
     },
     "execution_count": 7,
     "metadata": {},
     "output_type": "execute_result"
    }
   ],
   "source": [
    "df.Specie.unique()"
   ]
  },
  {
   "cell_type": "markdown",
   "metadata": {},
   "source": [
    "Although all of the atmospheric parameters in this table can affect the air contamination (specially wind and precipitations), we will be looking at a span of several years, so we will solely focus on the pollutant amount. It is safe to assume the meteorological parameters where approximately the same for the same time periods throughout our 5 year span.\n",
    "\n",
    "We will study Carbon Monoxide (CO), ozone (o$_3$), sulfur dioxide (SO$_2$), nitrogen dioxide (NO$_2$) and air particle of less than 10 microns (PM$_{10}$) and less than 2.5 microns (PM$_{25}$). Although PM$_1$ is also an important pollutant, it is harder to measure and the amount of data is very small."
   ]
  },
  {
   "cell_type": "code",
   "execution_count": 8,
   "metadata": {},
   "outputs": [],
   "source": [
    "pollutants = ['co', 'pm10', 'o3', 'so2', 'no2', 'pm25']\n",
    "df_whole = df.copy(deep=True)\n",
    "df = df[df.Specie.isin(pollutants)]"
   ]
  },
  {
   "cell_type": "code",
   "execution_count": 9,
   "metadata": {},
   "outputs": [
    {
     "data": {
      "text/plain": [
       "(array(['pm10', 'o3', 'so2', 'pm25', 'no2', 'co'], dtype=object), (2295687, 6))"
      ]
     },
     "execution_count": 9,
     "metadata": {},
     "output_type": "execute_result"
    }
   ],
   "source": [
    "df.Specie.unique(), df.shape"
   ]
  },
  {
   "cell_type": "markdown",
   "metadata": {},
   "source": [
    "Now we have all data (almost 4 million points) from 2015-2021 in one DataFrame corresponding to the different air pollutants.\n",
    "\n",
    "Do we have missing values?:\n"
   ]
  },
  {
   "cell_type": "code",
   "execution_count": 10,
   "metadata": {},
   "outputs": [
    {
     "data": {
      "text/plain": [
       "Date       0\n",
       "Country    0\n",
       "City       0\n",
       "Specie     0\n",
       "count      0\n",
       "median     0\n",
       "dtype: int64"
      ]
     },
     "execution_count": 10,
     "metadata": {},
     "output_type": "execute_result"
    }
   ],
   "source": [
    "df.isna().sum()"
   ]
  },
  {
   "cell_type": "markdown",
   "metadata": {},
   "source": [
    "Let's check now what datatypes we have in our table:"
   ]
  },
  {
   "cell_type": "code",
   "execution_count": 11,
   "metadata": {},
   "outputs": [
    {
     "name": "stdout",
     "output_type": "stream",
     "text": [
      "<class 'pandas.core.frame.DataFrame'>\n",
      "Int64Index: 2295687 entries, 0 to 5031467\n",
      "Data columns (total 6 columns):\n",
      " #   Column   Dtype  \n",
      "---  ------   -----  \n",
      " 0   Date     object \n",
      " 1   Country  object \n",
      " 2   City     object \n",
      " 3   Specie   object \n",
      " 4   count    float64\n",
      " 5   median   float64\n",
      "dtypes: float64(2), object(4)\n",
      "memory usage: 122.6+ MB\n"
     ]
    }
   ],
   "source": [
    "df.info()"
   ]
  },
  {
   "cell_type": "code",
   "execution_count": 12,
   "metadata": {},
   "outputs": [
    {
     "name": "stdout",
     "output_type": "stream",
     "text": [
      "Number of cities in the dataset: 602 | Number of countries in the dataset: 94\n"
     ]
    }
   ],
   "source": [
    "print('Number of cities in the dataset: {} | Number of countries in the dataset: {}'.format(df.City.unique().size, df.Country.unique().size))"
   ]
  },
  {
   "cell_type": "markdown",
   "metadata": {},
   "source": [
    "Everything looks good except the date, which we want to parse to obtain a datetime type"
   ]
  },
  {
   "cell_type": "code",
   "execution_count": 13,
   "metadata": {},
   "outputs": [],
   "source": [
    "df.Date = pd.to_datetime(df.Date, format='%Y-%m-%d')"
   ]
  },
  {
   "cell_type": "code",
   "execution_count": 14,
   "metadata": {},
   "outputs": [
    {
     "name": "stdout",
     "output_type": "stream",
     "text": [
      "<class 'pandas.core.frame.DataFrame'>\n",
      "Int64Index: 2295687 entries, 0 to 5031467\n",
      "Data columns (total 6 columns):\n",
      " #   Column   Dtype         \n",
      "---  ------   -----         \n",
      " 0   Date     datetime64[ns]\n",
      " 1   Country  object        \n",
      " 2   City     object        \n",
      " 3   Specie   object        \n",
      " 4   count    float64       \n",
      " 5   median   float64       \n",
      "dtypes: datetime64[ns](1), float64(2), object(3)\n",
      "memory usage: 122.6+ MB\n"
     ]
    }
   ],
   "source": [
    "df.info()"
   ]
  },
  {
   "cell_type": "code",
   "execution_count": 15,
   "metadata": {},
   "outputs": [
    {
     "data": {
      "text/plain": [
       "array([2018, 2019, 2020, 2021], dtype=int64)"
      ]
     },
     "execution_count": 15,
     "metadata": {},
     "output_type": "execute_result"
    }
   ],
   "source": [
    "np.sort(df.Date.dt.year.unique())"
   ]
  },
  {
   "cell_type": "markdown",
   "metadata": {},
   "source": [
    "We have 2018 even though we only downloaded the 2015-2021 time-span"
   ]
  },
  {
   "cell_type": "code",
   "execution_count": 16,
   "metadata": {},
   "outputs": [
    {
     "data": {
      "text/plain": [
       "array([12], dtype=int64)"
      ]
     },
     "execution_count": 16,
     "metadata": {},
     "output_type": "execute_result"
    }
   ],
   "source": [
    "df[df.Date.dt.year == 2018].Date.dt.month.unique()"
   ]
  },
  {
   "cell_type": "markdown",
   "metadata": {},
   "source": [
    "But we only have the month of December. Since this won't give us any relevant statistical view let's drop those rows:"
   ]
  },
  {
   "cell_type": "code",
   "execution_count": 17,
   "metadata": {},
   "outputs": [],
   "source": [
    "df = df[df.Date.dt.year > 2018]"
   ]
  },
  {
   "cell_type": "markdown",
   "metadata": {},
   "source": [
    "Although useful for simplicity, the country code renders the data a bit cryptic. Using a dataset from datahub.io let's include the Country name. "
   ]
  },
  {
   "cell_type": "code",
   "execution_count": 18,
   "metadata": {},
   "outputs": [
    {
     "data": {
      "text/html": [
       "<div>\n",
       "<style scoped>\n",
       "    .dataframe tbody tr th:only-of-type {\n",
       "        vertical-align: middle;\n",
       "    }\n",
       "\n",
       "    .dataframe tbody tr th {\n",
       "        vertical-align: top;\n",
       "    }\n",
       "\n",
       "    .dataframe thead th {\n",
       "        text-align: right;\n",
       "    }\n",
       "</style>\n",
       "<table border=\"1\" class=\"dataframe\">\n",
       "  <thead>\n",
       "    <tr style=\"text-align: right;\">\n",
       "      <th></th>\n",
       "      <th>Name</th>\n",
       "      <th>Code</th>\n",
       "    </tr>\n",
       "  </thead>\n",
       "  <tbody>\n",
       "    <tr>\n",
       "      <th>0</th>\n",
       "      <td>Afghanistan</td>\n",
       "      <td>AF</td>\n",
       "    </tr>\n",
       "    <tr>\n",
       "      <th>1</th>\n",
       "      <td>Ã…land Islands</td>\n",
       "      <td>AX</td>\n",
       "    </tr>\n",
       "    <tr>\n",
       "      <th>2</th>\n",
       "      <td>Albania</td>\n",
       "      <td>AL</td>\n",
       "    </tr>\n",
       "    <tr>\n",
       "      <th>3</th>\n",
       "      <td>Algeria</td>\n",
       "      <td>DZ</td>\n",
       "    </tr>\n",
       "    <tr>\n",
       "      <th>4</th>\n",
       "      <td>American Samoa</td>\n",
       "      <td>AS</td>\n",
       "    </tr>\n",
       "    <tr>\n",
       "      <th>...</th>\n",
       "      <td>...</td>\n",
       "      <td>...</td>\n",
       "    </tr>\n",
       "    <tr>\n",
       "      <th>244</th>\n",
       "      <td>Wallis and Futuna</td>\n",
       "      <td>WF</td>\n",
       "    </tr>\n",
       "    <tr>\n",
       "      <th>245</th>\n",
       "      <td>Western Sahara</td>\n",
       "      <td>EH</td>\n",
       "    </tr>\n",
       "    <tr>\n",
       "      <th>246</th>\n",
       "      <td>Yemen</td>\n",
       "      <td>YE</td>\n",
       "    </tr>\n",
       "    <tr>\n",
       "      <th>247</th>\n",
       "      <td>Zambia</td>\n",
       "      <td>ZM</td>\n",
       "    </tr>\n",
       "    <tr>\n",
       "      <th>248</th>\n",
       "      <td>Zimbabwe</td>\n",
       "      <td>ZW</td>\n",
       "    </tr>\n",
       "  </tbody>\n",
       "</table>\n",
       "<p>249 rows × 2 columns</p>\n",
       "</div>"
      ],
      "text/plain": [
       "                  Name Code\n",
       "0          Afghanistan   AF\n",
       "1       Ã…land Islands   AX\n",
       "2              Albania   AL\n",
       "3              Algeria   DZ\n",
       "4       American Samoa   AS\n",
       "..                 ...  ...\n",
       "244  Wallis and Futuna   WF\n",
       "245     Western Sahara   EH\n",
       "246              Yemen   YE\n",
       "247             Zambia   ZM\n",
       "248           Zimbabwe   ZW\n",
       "\n",
       "[249 rows x 2 columns]"
      ]
     },
     "execution_count": 18,
     "metadata": {},
     "output_type": "execute_result"
    }
   ],
   "source": [
    "country_name = pd.read_csv('.\\country_codes.txt')\n",
    "country_name"
   ]
  },
  {
   "cell_type": "code",
   "execution_count": 19,
   "metadata": {},
   "outputs": [
    {
     "data": {
      "text/plain": [
       "Name    object\n",
       "Code    object\n",
       "dtype: object"
      ]
     },
     "execution_count": 19,
     "metadata": {},
     "output_type": "execute_result"
    }
   ],
   "source": [
    "country_name.dtypes"
   ]
  },
  {
   "cell_type": "code",
   "execution_count": 20,
   "metadata": {},
   "outputs": [
    {
     "data": {
      "text/plain": [
       "Name    0\n",
       "Code    1\n",
       "dtype: int64"
      ]
     },
     "execution_count": 20,
     "metadata": {},
     "output_type": "execute_result"
    }
   ],
   "source": [
    "country_name.isna().sum()"
   ]
  },
  {
   "cell_type": "code",
   "execution_count": 21,
   "metadata": {},
   "outputs": [
    {
     "data": {
      "text/plain": [
       "Name    Namibia\n",
       "Code        NaN\n",
       "Name: 153, dtype: object"
      ]
     },
     "execution_count": 21,
     "metadata": {},
     "output_type": "execute_result"
    }
   ],
   "source": [
    "country_name.loc[country_name[country_name.Code.isna()].index[0], :]"
   ]
  },
  {
   "cell_type": "markdown",
   "metadata": {},
   "source": [
    "Is it in our df dataframe? The 2-letter code for Namibia is 'NA'"
   ]
  },
  {
   "cell_type": "code",
   "execution_count": 22,
   "metadata": {},
   "outputs": [
    {
     "data": {
      "text/plain": [
       "(0, 6)"
      ]
     },
     "execution_count": 22,
     "metadata": {},
     "output_type": "execute_result"
    }
   ],
   "source": [
    "df[df.Country == 'NA'].shape"
   ]
  },
  {
   "cell_type": "markdown",
   "metadata": {},
   "source": [
    "It is not present, so we can safely remove it:"
   ]
  },
  {
   "cell_type": "code",
   "execution_count": 23,
   "metadata": {},
   "outputs": [],
   "source": [
    "country_name.dropna(inplace=True)"
   ]
  },
  {
   "cell_type": "code",
   "execution_count": 24,
   "metadata": {},
   "outputs": [
    {
     "data": {
      "text/plain": [
       "(248, 2)"
      ]
     },
     "execution_count": 24,
     "metadata": {},
     "output_type": "execute_result"
    }
   ],
   "source": [
    "country_name.shape"
   ]
  },
  {
   "cell_type": "markdown",
   "metadata": {},
   "source": [
    "Let's check every country code in our dataset is in the country_name dataframe:"
   ]
  },
  {
   "cell_type": "code",
   "execution_count": 25,
   "metadata": {},
   "outputs": [],
   "source": [
    "def check_contents(arr1, arr2):\n",
    "    '''Checks if all elements in arr1 are contained in arr2\n",
    "    INPUT: arr1, arr2 arrays with the elements to compare\n",
    "    OUTPUT: boolean array with the length of arr1. If True then the element in arr1 is in arr2. If False, it is not present'''\n",
    "    \n",
    "    bool_arr = np.array([])\n",
    "    for country in arr1:\n",
    "        boolean = country in arr2\n",
    "        bool_arr = np.append(bool_arr, boolean)\n",
    "\n",
    "    if bool_arr.all():\n",
    "        print('All elements in array 1 are in array 2')\n",
    "    else: \n",
    "        missing = len(bool_arr) - bool_arr.sum()\n",
    "        print('There are {} elements of array 1 missing in array 2'.format(missing))\n",
    "        \n",
    "    return bool_arr\n",
    "    "
   ]
  },
  {
   "cell_type": "code",
   "execution_count": 26,
   "metadata": {},
   "outputs": [
    {
     "name": "stdout",
     "output_type": "stream",
     "text": [
      "There are 1.0 elements of array 1 missing in array 2\n"
     ]
    }
   ],
   "source": [
    "bool_arr_1 = check_contents(df.Country.unique(), country_name.Code.unique())"
   ]
  },
  {
   "cell_type": "code",
   "execution_count": 27,
   "metadata": {},
   "outputs": [
    {
     "name": "stdout",
     "output_type": "stream",
     "text": [
      "There are some country codes not present in country_name\n"
     ]
    }
   ],
   "source": [
    "bool_arr = np.array([])\n",
    "for country in df.Country.unique():\n",
    "    boolean = country in country_name.Code.unique()\n",
    "    bool_arr = np.append(bool_arr, boolean)\n",
    "\n",
    "if bool_arr.all():\n",
    "    print('All country codes are in country_name')\n",
    "else: \n",
    "    print('There are some country codes not present in country_name')\n",
    "    "
   ]
  },
  {
   "cell_type": "markdown",
   "metadata": {},
   "source": [
    "Which one is not present in country_names?"
   ]
  },
  {
   "cell_type": "code",
   "execution_count": 28,
   "metadata": {},
   "outputs": [
    {
     "data": {
      "text/plain": [
       "array(['XK'], dtype=object)"
      ]
     },
     "execution_count": 28,
     "metadata": {},
     "output_type": "execute_result"
    }
   ],
   "source": [
    "df.Country.unique()[bool_arr == False]"
   ]
  },
  {
   "cell_type": "markdown",
   "metadata": {},
   "source": [
    "'XK' corresponds to Kosovo. Therefore, let's include it manually. pd.DataFrame(['Kosovo', 'XK'], columns=country_name.columns)"
   ]
  },
  {
   "cell_type": "code",
   "execution_count": 29,
   "metadata": {},
   "outputs": [
    {
     "data": {
      "text/html": [
       "<div>\n",
       "<style scoped>\n",
       "    .dataframe tbody tr th:only-of-type {\n",
       "        vertical-align: middle;\n",
       "    }\n",
       "\n",
       "    .dataframe tbody tr th {\n",
       "        vertical-align: top;\n",
       "    }\n",
       "\n",
       "    .dataframe thead th {\n",
       "        text-align: right;\n",
       "    }\n",
       "</style>\n",
       "<table border=\"1\" class=\"dataframe\">\n",
       "  <thead>\n",
       "    <tr style=\"text-align: right;\">\n",
       "      <th></th>\n",
       "      <th>Name</th>\n",
       "      <th>Code</th>\n",
       "    </tr>\n",
       "  </thead>\n",
       "  <tbody>\n",
       "    <tr>\n",
       "      <th>0</th>\n",
       "      <td>Kosovo</td>\n",
       "      <td>XK</td>\n",
       "    </tr>\n",
       "  </tbody>\n",
       "</table>\n",
       "</div>"
      ],
      "text/plain": [
       "     Name Code\n",
       "0  Kosovo   XK"
      ]
     },
     "execution_count": 29,
     "metadata": {},
     "output_type": "execute_result"
    }
   ],
   "source": [
    "pd.DataFrame([['Kosovo', 'XK']], columns=country_name.columns)"
   ]
  },
  {
   "cell_type": "code",
   "execution_count": 30,
   "metadata": {},
   "outputs": [],
   "source": [
    "country_name = pd.concat([country_name, pd.DataFrame([['Kosovo', 'XK']], columns=country_name.columns)], axis=0).reset_index(drop=True)"
   ]
  },
  {
   "cell_type": "code",
   "execution_count": 31,
   "metadata": {},
   "outputs": [
    {
     "data": {
      "text/html": [
       "<div>\n",
       "<style scoped>\n",
       "    .dataframe tbody tr th:only-of-type {\n",
       "        vertical-align: middle;\n",
       "    }\n",
       "\n",
       "    .dataframe tbody tr th {\n",
       "        vertical-align: top;\n",
       "    }\n",
       "\n",
       "    .dataframe thead th {\n",
       "        text-align: right;\n",
       "    }\n",
       "</style>\n",
       "<table border=\"1\" class=\"dataframe\">\n",
       "  <thead>\n",
       "    <tr style=\"text-align: right;\">\n",
       "      <th></th>\n",
       "      <th>Name</th>\n",
       "      <th>Code</th>\n",
       "    </tr>\n",
       "  </thead>\n",
       "  <tbody>\n",
       "    <tr>\n",
       "      <th>0</th>\n",
       "      <td>Afghanistan</td>\n",
       "      <td>AF</td>\n",
       "    </tr>\n",
       "    <tr>\n",
       "      <th>1</th>\n",
       "      <td>Ã…land Islands</td>\n",
       "      <td>AX</td>\n",
       "    </tr>\n",
       "    <tr>\n",
       "      <th>2</th>\n",
       "      <td>Albania</td>\n",
       "      <td>AL</td>\n",
       "    </tr>\n",
       "    <tr>\n",
       "      <th>3</th>\n",
       "      <td>Algeria</td>\n",
       "      <td>DZ</td>\n",
       "    </tr>\n",
       "    <tr>\n",
       "      <th>4</th>\n",
       "      <td>American Samoa</td>\n",
       "      <td>AS</td>\n",
       "    </tr>\n",
       "    <tr>\n",
       "      <th>...</th>\n",
       "      <td>...</td>\n",
       "      <td>...</td>\n",
       "    </tr>\n",
       "    <tr>\n",
       "      <th>244</th>\n",
       "      <td>Western Sahara</td>\n",
       "      <td>EH</td>\n",
       "    </tr>\n",
       "    <tr>\n",
       "      <th>245</th>\n",
       "      <td>Yemen</td>\n",
       "      <td>YE</td>\n",
       "    </tr>\n",
       "    <tr>\n",
       "      <th>246</th>\n",
       "      <td>Zambia</td>\n",
       "      <td>ZM</td>\n",
       "    </tr>\n",
       "    <tr>\n",
       "      <th>247</th>\n",
       "      <td>Zimbabwe</td>\n",
       "      <td>ZW</td>\n",
       "    </tr>\n",
       "    <tr>\n",
       "      <th>248</th>\n",
       "      <td>Kosovo</td>\n",
       "      <td>XK</td>\n",
       "    </tr>\n",
       "  </tbody>\n",
       "</table>\n",
       "<p>249 rows × 2 columns</p>\n",
       "</div>"
      ],
      "text/plain": [
       "               Name Code\n",
       "0       Afghanistan   AF\n",
       "1    Ã…land Islands   AX\n",
       "2           Albania   AL\n",
       "3           Algeria   DZ\n",
       "4    American Samoa   AS\n",
       "..              ...  ...\n",
       "244  Western Sahara   EH\n",
       "245           Yemen   YE\n",
       "246          Zambia   ZM\n",
       "247        Zimbabwe   ZW\n",
       "248          Kosovo   XK\n",
       "\n",
       "[249 rows x 2 columns]"
      ]
     },
     "execution_count": 31,
     "metadata": {},
     "output_type": "execute_result"
    }
   ],
   "source": [
    "country_name"
   ]
  },
  {
   "cell_type": "markdown",
   "metadata": {},
   "source": [
    "Now rechecking that everything is correct:"
   ]
  },
  {
   "cell_type": "code",
   "execution_count": 32,
   "metadata": {},
   "outputs": [
    {
     "name": "stdout",
     "output_type": "stream",
     "text": [
      "All country codes are in country_name\n"
     ]
    }
   ],
   "source": [
    "bool_arr = np.array([])\n",
    "for country in df.Country.unique():\n",
    "    boolean = country in country_name.Code.unique()\n",
    "    bool_arr = np.append(bool_arr, boolean)\n",
    "\n",
    "if bool_arr.all():\n",
    "    print('All country codes are in country_name')\n",
    "else: \n",
    "    print('There are some country codes not present in country_name')"
   ]
  },
  {
   "cell_type": "markdown",
   "metadata": {},
   "source": [
    "Every country code in country_name is in our df dataframe. We can now join both tables:\n"
   ]
  },
  {
   "cell_type": "code",
   "execution_count": 33,
   "metadata": {},
   "outputs": [
    {
     "data": {
      "text/plain": [
       "['Date', 'Country', 'City', 'Specie', 'count', 'median', 'Country_name']"
      ]
     },
     "execution_count": 33,
     "metadata": {},
     "output_type": "execute_result"
    }
   ],
   "source": [
    "df = pd.merge(df, country_name, how='inner', left_on='Country', right_on='Code').rename(columns={'Name':'Country_name'}).drop('Code', axis=1)\n",
    "df.columns.to_list()"
   ]
  },
  {
   "cell_type": "code",
   "execution_count": 34,
   "metadata": {},
   "outputs": [
    {
     "data": {
      "text/plain": [
       "94"
      ]
     },
     "execution_count": 34,
     "metadata": {},
     "output_type": "execute_result"
    }
   ],
   "source": [
    "df.Country.unique().size"
   ]
  },
  {
   "cell_type": "code",
   "execution_count": 35,
   "metadata": {},
   "outputs": [],
   "source": [
    "df = df[['Date', 'Country','Country_name','City','Specie','count','median']]"
   ]
  },
  {
   "cell_type": "code",
   "execution_count": 36,
   "metadata": {},
   "outputs": [],
   "source": [
    "df = df.rename(columns={'Specie':'Pollutant'})"
   ]
  },
  {
   "cell_type": "code",
   "execution_count": 37,
   "metadata": {},
   "outputs": [
    {
     "data": {
      "text/html": [
       "<div>\n",
       "<style scoped>\n",
       "    .dataframe tbody tr th:only-of-type {\n",
       "        vertical-align: middle;\n",
       "    }\n",
       "\n",
       "    .dataframe tbody tr th {\n",
       "        vertical-align: top;\n",
       "    }\n",
       "\n",
       "    .dataframe thead th {\n",
       "        text-align: right;\n",
       "    }\n",
       "</style>\n",
       "<table border=\"1\" class=\"dataframe\">\n",
       "  <thead>\n",
       "    <tr style=\"text-align: right;\">\n",
       "      <th></th>\n",
       "      <th>Date</th>\n",
       "      <th>Country</th>\n",
       "      <th>Country_name</th>\n",
       "      <th>City</th>\n",
       "      <th>Pollutant</th>\n",
       "      <th>count</th>\n",
       "      <th>median</th>\n",
       "    </tr>\n",
       "  </thead>\n",
       "  <tbody>\n",
       "    <tr>\n",
       "      <th>0</th>\n",
       "      <td>2019-01-16</td>\n",
       "      <td>AE</td>\n",
       "      <td>United Arab Emirates</td>\n",
       "      <td>Abu Dhabi</td>\n",
       "      <td>pm10</td>\n",
       "      <td>24.0</td>\n",
       "      <td>97.0</td>\n",
       "    </tr>\n",
       "    <tr>\n",
       "      <th>1</th>\n",
       "      <td>2019-01-22</td>\n",
       "      <td>AE</td>\n",
       "      <td>United Arab Emirates</td>\n",
       "      <td>Abu Dhabi</td>\n",
       "      <td>pm10</td>\n",
       "      <td>24.0</td>\n",
       "      <td>55.0</td>\n",
       "    </tr>\n",
       "    <tr>\n",
       "      <th>2</th>\n",
       "      <td>2019-01-26</td>\n",
       "      <td>AE</td>\n",
       "      <td>United Arab Emirates</td>\n",
       "      <td>Abu Dhabi</td>\n",
       "      <td>pm10</td>\n",
       "      <td>24.0</td>\n",
       "      <td>160.0</td>\n",
       "    </tr>\n",
       "    <tr>\n",
       "      <th>3</th>\n",
       "      <td>2019-01-07</td>\n",
       "      <td>AE</td>\n",
       "      <td>United Arab Emirates</td>\n",
       "      <td>Abu Dhabi</td>\n",
       "      <td>pm10</td>\n",
       "      <td>24.0</td>\n",
       "      <td>72.0</td>\n",
       "    </tr>\n",
       "    <tr>\n",
       "      <th>4</th>\n",
       "      <td>2019-01-10</td>\n",
       "      <td>AE</td>\n",
       "      <td>United Arab Emirates</td>\n",
       "      <td>Abu Dhabi</td>\n",
       "      <td>pm10</td>\n",
       "      <td>24.0</td>\n",
       "      <td>87.0</td>\n",
       "    </tr>\n",
       "  </tbody>\n",
       "</table>\n",
       "</div>"
      ],
      "text/plain": [
       "        Date Country          Country_name       City Pollutant  count  median\n",
       "0 2019-01-16      AE  United Arab Emirates  Abu Dhabi      pm10   24.0    97.0\n",
       "1 2019-01-22      AE  United Arab Emirates  Abu Dhabi      pm10   24.0    55.0\n",
       "2 2019-01-26      AE  United Arab Emirates  Abu Dhabi      pm10   24.0   160.0\n",
       "3 2019-01-07      AE  United Arab Emirates  Abu Dhabi      pm10   24.0    72.0\n",
       "4 2019-01-10      AE  United Arab Emirates  Abu Dhabi      pm10   24.0    87.0"
      ]
     },
     "execution_count": 37,
     "metadata": {},
     "output_type": "execute_result"
    }
   ],
   "source": [
    "df.head()"
   ]
  },
  {
   "cell_type": "markdown",
   "metadata": {},
   "source": [
    "## Population density dataset"
   ]
  },
  {
   "cell_type": "markdown",
   "metadata": {},
   "source": [
    "For the world pollution calculation we will weigh each country by its population density to give a better estimate of the total pollution. We will use a dataset from https://data.worldbank.org/indicator/EN.POP.DNST."
   ]
  },
  {
   "cell_type": "code",
   "execution_count": 38,
   "metadata": {},
   "outputs": [],
   "source": [
    "df_pop = pd.read_csv('./country_pop.csv')"
   ]
  },
  {
   "cell_type": "code",
   "execution_count": 39,
   "metadata": {},
   "outputs": [
    {
     "data": {
      "text/html": [
       "<div>\n",
       "<style scoped>\n",
       "    .dataframe tbody tr th:only-of-type {\n",
       "        vertical-align: middle;\n",
       "    }\n",
       "\n",
       "    .dataframe tbody tr th {\n",
       "        vertical-align: top;\n",
       "    }\n",
       "\n",
       "    .dataframe thead th {\n",
       "        text-align: right;\n",
       "    }\n",
       "</style>\n",
       "<table border=\"1\" class=\"dataframe\">\n",
       "  <thead>\n",
       "    <tr style=\"text-align: right;\">\n",
       "      <th></th>\n",
       "      <th>Country Name</th>\n",
       "      <th>Country Code</th>\n",
       "      <th>Indicator Name</th>\n",
       "      <th>Indicator Code</th>\n",
       "      <th>1960</th>\n",
       "      <th>1961</th>\n",
       "      <th>1962</th>\n",
       "      <th>1963</th>\n",
       "      <th>1964</th>\n",
       "      <th>1965</th>\n",
       "      <th>...</th>\n",
       "      <th>2011</th>\n",
       "      <th>2012</th>\n",
       "      <th>2013</th>\n",
       "      <th>2014</th>\n",
       "      <th>2015</th>\n",
       "      <th>2016</th>\n",
       "      <th>2017</th>\n",
       "      <th>2018</th>\n",
       "      <th>2019</th>\n",
       "      <th>2020</th>\n",
       "    </tr>\n",
       "  </thead>\n",
       "  <tbody>\n",
       "    <tr>\n",
       "      <th>0</th>\n",
       "      <td>Aruba</td>\n",
       "      <td>ABW</td>\n",
       "      <td>Population density (people per sq. km of land ...</td>\n",
       "      <td>EN.POP.DNST</td>\n",
       "      <td>NaN</td>\n",
       "      <td>307.988889</td>\n",
       "      <td>312.361111</td>\n",
       "      <td>314.972222</td>\n",
       "      <td>316.844444</td>\n",
       "      <td>318.666667</td>\n",
       "      <td>...</td>\n",
       "      <td>566.922222</td>\n",
       "      <td>569.777778</td>\n",
       "      <td>573.105556</td>\n",
       "      <td>576.522222</td>\n",
       "      <td>579.672222</td>\n",
       "      <td>582.622222</td>\n",
       "      <td>585.366667</td>\n",
       "      <td>588.027778</td>\n",
       "      <td>NaN</td>\n",
       "      <td>NaN</td>\n",
       "    </tr>\n",
       "    <tr>\n",
       "      <th>1</th>\n",
       "      <td>Afghanistan</td>\n",
       "      <td>AFG</td>\n",
       "      <td>Population density (people per sq. km of land ...</td>\n",
       "      <td>EN.POP.DNST</td>\n",
       "      <td>NaN</td>\n",
       "      <td>14.044987</td>\n",
       "      <td>14.323808</td>\n",
       "      <td>14.617537</td>\n",
       "      <td>14.926295</td>\n",
       "      <td>15.250314</td>\n",
       "      <td>...</td>\n",
       "      <td>46.131503</td>\n",
       "      <td>47.730564</td>\n",
       "      <td>49.428038</td>\n",
       "      <td>51.114778</td>\n",
       "      <td>52.712072</td>\n",
       "      <td>54.197114</td>\n",
       "      <td>55.595993</td>\n",
       "      <td>56.937760</td>\n",
       "      <td>NaN</td>\n",
       "      <td>NaN</td>\n",
       "    </tr>\n",
       "    <tr>\n",
       "      <th>2</th>\n",
       "      <td>Angola</td>\n",
       "      <td>AGO</td>\n",
       "      <td>Population density (people per sq. km of land ...</td>\n",
       "      <td>EN.POP.DNST</td>\n",
       "      <td>NaN</td>\n",
       "      <td>4.436891</td>\n",
       "      <td>4.498708</td>\n",
       "      <td>4.555593</td>\n",
       "      <td>4.600180</td>\n",
       "      <td>4.628676</td>\n",
       "      <td>...</td>\n",
       "      <td>19.427818</td>\n",
       "      <td>20.139513</td>\n",
       "      <td>20.867715</td>\n",
       "      <td>21.610475</td>\n",
       "      <td>22.366552</td>\n",
       "      <td>23.135064</td>\n",
       "      <td>23.916538</td>\n",
       "      <td>24.713052</td>\n",
       "      <td>NaN</td>\n",
       "      <td>NaN</td>\n",
       "    </tr>\n",
       "    <tr>\n",
       "      <th>3</th>\n",
       "      <td>Albania</td>\n",
       "      <td>ALB</td>\n",
       "      <td>Population density (people per sq. km of land ...</td>\n",
       "      <td>EN.POP.DNST</td>\n",
       "      <td>NaN</td>\n",
       "      <td>60.576642</td>\n",
       "      <td>62.456898</td>\n",
       "      <td>64.329234</td>\n",
       "      <td>66.209307</td>\n",
       "      <td>68.058066</td>\n",
       "      <td>...</td>\n",
       "      <td>106.029015</td>\n",
       "      <td>105.854051</td>\n",
       "      <td>105.660292</td>\n",
       "      <td>105.441752</td>\n",
       "      <td>105.135146</td>\n",
       "      <td>104.967190</td>\n",
       "      <td>104.870693</td>\n",
       "      <td>104.612263</td>\n",
       "      <td>NaN</td>\n",
       "      <td>NaN</td>\n",
       "    </tr>\n",
       "    <tr>\n",
       "      <th>4</th>\n",
       "      <td>Andorra</td>\n",
       "      <td>AND</td>\n",
       "      <td>Population density (people per sq. km of land ...</td>\n",
       "      <td>EN.POP.DNST</td>\n",
       "      <td>NaN</td>\n",
       "      <td>30.585106</td>\n",
       "      <td>32.702128</td>\n",
       "      <td>34.919149</td>\n",
       "      <td>37.168085</td>\n",
       "      <td>39.465957</td>\n",
       "      <td>...</td>\n",
       "      <td>178.185106</td>\n",
       "      <td>175.376596</td>\n",
       "      <td>171.859574</td>\n",
       "      <td>168.538298</td>\n",
       "      <td>165.980851</td>\n",
       "      <td>164.461702</td>\n",
       "      <td>163.831915</td>\n",
       "      <td>163.842553</td>\n",
       "      <td>NaN</td>\n",
       "      <td>NaN</td>\n",
       "    </tr>\n",
       "  </tbody>\n",
       "</table>\n",
       "<p>5 rows × 65 columns</p>\n",
       "</div>"
      ],
      "text/plain": [
       "  Country Name Country Code  \\\n",
       "0        Aruba          ABW   \n",
       "1  Afghanistan          AFG   \n",
       "2       Angola          AGO   \n",
       "3      Albania          ALB   \n",
       "4      Andorra          AND   \n",
       "\n",
       "                                      Indicator Name Indicator Code  1960  \\\n",
       "0  Population density (people per sq. km of land ...    EN.POP.DNST   NaN   \n",
       "1  Population density (people per sq. km of land ...    EN.POP.DNST   NaN   \n",
       "2  Population density (people per sq. km of land ...    EN.POP.DNST   NaN   \n",
       "3  Population density (people per sq. km of land ...    EN.POP.DNST   NaN   \n",
       "4  Population density (people per sq. km of land ...    EN.POP.DNST   NaN   \n",
       "\n",
       "         1961        1962        1963        1964        1965  ...  \\\n",
       "0  307.988889  312.361111  314.972222  316.844444  318.666667  ...   \n",
       "1   14.044987   14.323808   14.617537   14.926295   15.250314  ...   \n",
       "2    4.436891    4.498708    4.555593    4.600180    4.628676  ...   \n",
       "3   60.576642   62.456898   64.329234   66.209307   68.058066  ...   \n",
       "4   30.585106   32.702128   34.919149   37.168085   39.465957  ...   \n",
       "\n",
       "         2011        2012        2013        2014        2015        2016  \\\n",
       "0  566.922222  569.777778  573.105556  576.522222  579.672222  582.622222   \n",
       "1   46.131503   47.730564   49.428038   51.114778   52.712072   54.197114   \n",
       "2   19.427818   20.139513   20.867715   21.610475   22.366552   23.135064   \n",
       "3  106.029015  105.854051  105.660292  105.441752  105.135146  104.967190   \n",
       "4  178.185106  175.376596  171.859574  168.538298  165.980851  164.461702   \n",
       "\n",
       "         2017        2018  2019  2020  \n",
       "0  585.366667  588.027778   NaN   NaN  \n",
       "1   55.595993   56.937760   NaN   NaN  \n",
       "2   23.916538   24.713052   NaN   NaN  \n",
       "3  104.870693  104.612263   NaN   NaN  \n",
       "4  163.831915  163.842553   NaN   NaN  \n",
       "\n",
       "[5 rows x 65 columns]"
      ]
     },
     "execution_count": 39,
     "metadata": {},
     "output_type": "execute_result"
    }
   ],
   "source": [
    "df_pop.head()"
   ]
  },
  {
   "cell_type": "markdown",
   "metadata": {},
   "source": [
    "We are interested on the latest data on population density. We see that beyond 2018 many rows are NaN values. Let's check that every country in 2018 has a density population asigned:"
   ]
  },
  {
   "cell_type": "code",
   "execution_count": 40,
   "metadata": {},
   "outputs": [
    {
     "data": {
      "text/plain": [
       "Country Name        0\n",
       "Country Code        0\n",
       "Indicator Name      0\n",
       "Indicator Code      0\n",
       "1960              264\n",
       "                 ... \n",
       "2016                1\n",
       "2017                1\n",
       "2018                2\n",
       "2019              262\n",
       "2020              264\n",
       "Length: 65, dtype: int64"
      ]
     },
     "execution_count": 40,
     "metadata": {},
     "output_type": "execute_result"
    }
   ],
   "source": [
    "df_pop.isna().sum()"
   ]
  },
  {
   "cell_type": "code",
   "execution_count": 41,
   "metadata": {},
   "outputs": [
    {
     "data": {
      "text/plain": [
       "2"
      ]
     },
     "execution_count": 41,
     "metadata": {},
     "output_type": "execute_result"
    }
   ],
   "source": [
    "df_pop['2018'].isna().sum()"
   ]
  },
  {
   "cell_type": "code",
   "execution_count": 42,
   "metadata": {},
   "outputs": [
    {
     "data": {
      "text/html": [
       "<div>\n",
       "<style scoped>\n",
       "    .dataframe tbody tr th:only-of-type {\n",
       "        vertical-align: middle;\n",
       "    }\n",
       "\n",
       "    .dataframe tbody tr th {\n",
       "        vertical-align: top;\n",
       "    }\n",
       "\n",
       "    .dataframe thead th {\n",
       "        text-align: right;\n",
       "    }\n",
       "</style>\n",
       "<table border=\"1\" class=\"dataframe\">\n",
       "  <thead>\n",
       "    <tr style=\"text-align: right;\">\n",
       "      <th></th>\n",
       "      <th>Country Name</th>\n",
       "      <th>Country Code</th>\n",
       "      <th>Indicator Name</th>\n",
       "      <th>Indicator Code</th>\n",
       "      <th>1960</th>\n",
       "      <th>1961</th>\n",
       "      <th>1962</th>\n",
       "      <th>1963</th>\n",
       "      <th>1964</th>\n",
       "      <th>1965</th>\n",
       "      <th>...</th>\n",
       "      <th>2011</th>\n",
       "      <th>2012</th>\n",
       "      <th>2013</th>\n",
       "      <th>2014</th>\n",
       "      <th>2015</th>\n",
       "      <th>2016</th>\n",
       "      <th>2017</th>\n",
       "      <th>2018</th>\n",
       "      <th>2019</th>\n",
       "      <th>2020</th>\n",
       "    </tr>\n",
       "  </thead>\n",
       "  <tbody>\n",
       "    <tr>\n",
       "      <th>108</th>\n",
       "      <td>Not classified</td>\n",
       "      <td>INX</td>\n",
       "      <td>Population density (people per sq. km of land ...</td>\n",
       "      <td>EN.POP.DNST</td>\n",
       "      <td>NaN</td>\n",
       "      <td>NaN</td>\n",
       "      <td>NaN</td>\n",
       "      <td>NaN</td>\n",
       "      <td>NaN</td>\n",
       "      <td>NaN</td>\n",
       "      <td>...</td>\n",
       "      <td>NaN</td>\n",
       "      <td>NaN</td>\n",
       "      <td>NaN</td>\n",
       "      <td>NaN</td>\n",
       "      <td>NaN</td>\n",
       "      <td>NaN</td>\n",
       "      <td>NaN</td>\n",
       "      <td>NaN</td>\n",
       "      <td>NaN</td>\n",
       "      <td>NaN</td>\n",
       "    </tr>\n",
       "    <tr>\n",
       "      <th>259</th>\n",
       "      <td>Kosovo</td>\n",
       "      <td>XKX</td>\n",
       "      <td>Population density (people per sq. km of land ...</td>\n",
       "      <td>EN.POP.DNST</td>\n",
       "      <td>NaN</td>\n",
       "      <td>88.729678</td>\n",
       "      <td>91.301552</td>\n",
       "      <td>93.873427</td>\n",
       "      <td>96.445302</td>\n",
       "      <td>99.017176</td>\n",
       "      <td>...</td>\n",
       "      <td>164.508129</td>\n",
       "      <td>165.987508</td>\n",
       "      <td>166.998898</td>\n",
       "      <td>166.507853</td>\n",
       "      <td>164.250574</td>\n",
       "      <td>163.273354</td>\n",
       "      <td>164.508405</td>\n",
       "      <td>NaN</td>\n",
       "      <td>NaN</td>\n",
       "      <td>NaN</td>\n",
       "    </tr>\n",
       "  </tbody>\n",
       "</table>\n",
       "<p>2 rows × 65 columns</p>\n",
       "</div>"
      ],
      "text/plain": [
       "       Country Name Country Code  \\\n",
       "108  Not classified          INX   \n",
       "259          Kosovo          XKX   \n",
       "\n",
       "                                        Indicator Name Indicator Code  1960  \\\n",
       "108  Population density (people per sq. km of land ...    EN.POP.DNST   NaN   \n",
       "259  Population density (people per sq. km of land ...    EN.POP.DNST   NaN   \n",
       "\n",
       "          1961       1962       1963       1964       1965  ...        2011  \\\n",
       "108        NaN        NaN        NaN        NaN        NaN  ...         NaN   \n",
       "259  88.729678  91.301552  93.873427  96.445302  99.017176  ...  164.508129   \n",
       "\n",
       "           2012        2013        2014        2015        2016        2017  \\\n",
       "108         NaN         NaN         NaN         NaN         NaN         NaN   \n",
       "259  165.987508  166.998898  166.507853  164.250574  163.273354  164.508405   \n",
       "\n",
       "     2018  2019  2020  \n",
       "108   NaN   NaN   NaN  \n",
       "259   NaN   NaN   NaN  \n",
       "\n",
       "[2 rows x 65 columns]"
      ]
     },
     "execution_count": 42,
     "metadata": {},
     "output_type": "execute_result"
    }
   ],
   "source": [
    "df_pop[df_pop['2018'].isna()]"
   ]
  },
  {
   "cell_type": "markdown",
   "metadata": {},
   "source": [
    "There is one country with the 3-letter code 'INX' as 'Not Classified' and, again, we have Kosovo. For the former there is no data in any year, but for Kosovo we can use the value from 2017. "
   ]
  },
  {
   "cell_type": "code",
   "execution_count": 43,
   "metadata": {},
   "outputs": [],
   "source": [
    "df_pop.loc[df_pop['Country Name'] == 'Kosovo', '2018'] = df_pop.loc[df_pop['Country Name'] == 'Kosovo', '2017']"
   ]
  },
  {
   "cell_type": "code",
   "execution_count": 44,
   "metadata": {},
   "outputs": [
    {
     "data": {
      "text/html": [
       "<div>\n",
       "<style scoped>\n",
       "    .dataframe tbody tr th:only-of-type {\n",
       "        vertical-align: middle;\n",
       "    }\n",
       "\n",
       "    .dataframe tbody tr th {\n",
       "        vertical-align: top;\n",
       "    }\n",
       "\n",
       "    .dataframe thead th {\n",
       "        text-align: right;\n",
       "    }\n",
       "</style>\n",
       "<table border=\"1\" class=\"dataframe\">\n",
       "  <thead>\n",
       "    <tr style=\"text-align: right;\">\n",
       "      <th></th>\n",
       "      <th>Country Name</th>\n",
       "      <th>Country Code</th>\n",
       "      <th>Indicator Name</th>\n",
       "      <th>Indicator Code</th>\n",
       "      <th>1960</th>\n",
       "      <th>1961</th>\n",
       "      <th>1962</th>\n",
       "      <th>1963</th>\n",
       "      <th>1964</th>\n",
       "      <th>1965</th>\n",
       "      <th>...</th>\n",
       "      <th>2011</th>\n",
       "      <th>2012</th>\n",
       "      <th>2013</th>\n",
       "      <th>2014</th>\n",
       "      <th>2015</th>\n",
       "      <th>2016</th>\n",
       "      <th>2017</th>\n",
       "      <th>2018</th>\n",
       "      <th>2019</th>\n",
       "      <th>2020</th>\n",
       "    </tr>\n",
       "  </thead>\n",
       "  <tbody>\n",
       "    <tr>\n",
       "      <th>259</th>\n",
       "      <td>Kosovo</td>\n",
       "      <td>XKX</td>\n",
       "      <td>Population density (people per sq. km of land ...</td>\n",
       "      <td>EN.POP.DNST</td>\n",
       "      <td>NaN</td>\n",
       "      <td>88.729678</td>\n",
       "      <td>91.301552</td>\n",
       "      <td>93.873427</td>\n",
       "      <td>96.445302</td>\n",
       "      <td>99.017176</td>\n",
       "      <td>...</td>\n",
       "      <td>164.508129</td>\n",
       "      <td>165.987508</td>\n",
       "      <td>166.998898</td>\n",
       "      <td>166.507853</td>\n",
       "      <td>164.250574</td>\n",
       "      <td>163.273354</td>\n",
       "      <td>164.508405</td>\n",
       "      <td>164.508405</td>\n",
       "      <td>NaN</td>\n",
       "      <td>NaN</td>\n",
       "    </tr>\n",
       "  </tbody>\n",
       "</table>\n",
       "<p>1 rows × 65 columns</p>\n",
       "</div>"
      ],
      "text/plain": [
       "    Country Name Country Code  \\\n",
       "259       Kosovo          XKX   \n",
       "\n",
       "                                        Indicator Name Indicator Code  1960  \\\n",
       "259  Population density (people per sq. km of land ...    EN.POP.DNST   NaN   \n",
       "\n",
       "          1961       1962       1963       1964       1965  ...        2011  \\\n",
       "259  88.729678  91.301552  93.873427  96.445302  99.017176  ...  164.508129   \n",
       "\n",
       "           2012        2013        2014        2015        2016        2017  \\\n",
       "259  165.987508  166.998898  166.507853  164.250574  163.273354  164.508405   \n",
       "\n",
       "           2018  2019  2020  \n",
       "259  164.508405   NaN   NaN  \n",
       "\n",
       "[1 rows x 65 columns]"
      ]
     },
     "execution_count": 44,
     "metadata": {},
     "output_type": "execute_result"
    }
   ],
   "source": [
    "df_pop.loc[df_pop['Country Name'] == 'Kosovo', :]"
   ]
  },
  {
   "cell_type": "markdown",
   "metadata": {},
   "source": [
    "Let's also drop the row for the 'Not classified' country:"
   ]
  },
  {
   "cell_type": "code",
   "execution_count": 45,
   "metadata": {},
   "outputs": [],
   "source": [
    "df_pop.dropna(subset=['2018'], inplace=True)"
   ]
  },
  {
   "cell_type": "markdown",
   "metadata": {},
   "source": [
    "We will keep only the 'Country Name', 'Country Code' and the '2018' columns:\n"
   ]
  },
  {
   "cell_type": "code",
   "execution_count": 46,
   "metadata": {},
   "outputs": [],
   "source": [
    "df_pop = df_pop[['Country Name', 'Country Code', '2018']]"
   ]
  },
  {
   "cell_type": "code",
   "execution_count": 47,
   "metadata": {},
   "outputs": [],
   "source": [
    "df_pop = df_pop.rename(columns={'Country Name': 'Country_name', 'Country Code': 'Country_code', '2018': 'cou_pop_density'})"
   ]
  },
  {
   "cell_type": "code",
   "execution_count": 48,
   "metadata": {},
   "outputs": [
    {
     "data": {
      "text/html": [
       "<div>\n",
       "<style scoped>\n",
       "    .dataframe tbody tr th:only-of-type {\n",
       "        vertical-align: middle;\n",
       "    }\n",
       "\n",
       "    .dataframe tbody tr th {\n",
       "        vertical-align: top;\n",
       "    }\n",
       "\n",
       "    .dataframe thead th {\n",
       "        text-align: right;\n",
       "    }\n",
       "</style>\n",
       "<table border=\"1\" class=\"dataframe\">\n",
       "  <thead>\n",
       "    <tr style=\"text-align: right;\">\n",
       "      <th></th>\n",
       "      <th>Country_name</th>\n",
       "      <th>Country_code</th>\n",
       "      <th>cou_pop_density</th>\n",
       "    </tr>\n",
       "  </thead>\n",
       "  <tbody>\n",
       "    <tr>\n",
       "      <th>0</th>\n",
       "      <td>Aruba</td>\n",
       "      <td>ABW</td>\n",
       "      <td>588.027778</td>\n",
       "    </tr>\n",
       "    <tr>\n",
       "      <th>1</th>\n",
       "      <td>Afghanistan</td>\n",
       "      <td>AFG</td>\n",
       "      <td>56.937760</td>\n",
       "    </tr>\n",
       "    <tr>\n",
       "      <th>2</th>\n",
       "      <td>Angola</td>\n",
       "      <td>AGO</td>\n",
       "      <td>24.713052</td>\n",
       "    </tr>\n",
       "    <tr>\n",
       "      <th>3</th>\n",
       "      <td>Albania</td>\n",
       "      <td>ALB</td>\n",
       "      <td>104.612263</td>\n",
       "    </tr>\n",
       "    <tr>\n",
       "      <th>4</th>\n",
       "      <td>Andorra</td>\n",
       "      <td>AND</td>\n",
       "      <td>163.842553</td>\n",
       "    </tr>\n",
       "    <tr>\n",
       "      <th>...</th>\n",
       "      <td>...</td>\n",
       "      <td>...</td>\n",
       "      <td>...</td>\n",
       "    </tr>\n",
       "    <tr>\n",
       "      <th>259</th>\n",
       "      <td>Kosovo</td>\n",
       "      <td>XKX</td>\n",
       "      <td>164.508405</td>\n",
       "    </tr>\n",
       "    <tr>\n",
       "      <th>260</th>\n",
       "      <td>Yemen, Rep.</td>\n",
       "      <td>YEM</td>\n",
       "      <td>53.977853</td>\n",
       "    </tr>\n",
       "    <tr>\n",
       "      <th>261</th>\n",
       "      <td>South Africa</td>\n",
       "      <td>ZAF</td>\n",
       "      <td>47.630120</td>\n",
       "    </tr>\n",
       "    <tr>\n",
       "      <th>262</th>\n",
       "      <td>Zambia</td>\n",
       "      <td>ZMB</td>\n",
       "      <td>23.341479</td>\n",
       "    </tr>\n",
       "    <tr>\n",
       "      <th>263</th>\n",
       "      <td>Zimbabwe</td>\n",
       "      <td>ZWE</td>\n",
       "      <td>37.324591</td>\n",
       "    </tr>\n",
       "  </tbody>\n",
       "</table>\n",
       "<p>263 rows × 3 columns</p>\n",
       "</div>"
      ],
      "text/plain": [
       "     Country_name Country_code  cou_pop_density\n",
       "0           Aruba          ABW       588.027778\n",
       "1     Afghanistan          AFG        56.937760\n",
       "2          Angola          AGO        24.713052\n",
       "3         Albania          ALB       104.612263\n",
       "4         Andorra          AND       163.842553\n",
       "..            ...          ...              ...\n",
       "259        Kosovo          XKX       164.508405\n",
       "260   Yemen, Rep.          YEM        53.977853\n",
       "261  South Africa          ZAF        47.630120\n",
       "262        Zambia          ZMB        23.341479\n",
       "263      Zimbabwe          ZWE        37.324591\n",
       "\n",
       "[263 rows x 3 columns]"
      ]
     },
     "execution_count": 48,
     "metadata": {},
     "output_type": "execute_result"
    }
   ],
   "source": [
    "df_pop"
   ]
  },
  {
   "cell_type": "code",
   "execution_count": 49,
   "metadata": {},
   "outputs": [
    {
     "name": "stdout",
     "output_type": "stream",
     "text": [
      "<class 'pandas.core.frame.DataFrame'>\n",
      "Int64Index: 263 entries, 0 to 263\n",
      "Data columns (total 3 columns):\n",
      " #   Column           Non-Null Count  Dtype  \n",
      "---  ------           --------------  -----  \n",
      " 0   Country_name     263 non-null    object \n",
      " 1   Country_code     263 non-null    object \n",
      " 2   cou_pop_density  263 non-null    float64\n",
      "dtypes: float64(1), object(2)\n",
      "memory usage: 8.2+ KB\n"
     ]
    }
   ],
   "source": [
    "df_pop.info()"
   ]
  },
  {
   "cell_type": "markdown",
   "metadata": {},
   "source": [
    "Joining tables with the country names it's not ideal, since accents, complex names and other issues may make us lose information. Since the population density dataset has a 3-letter code countries, let's add to our df dataset this code too in order to join it with the 'df_pop' dataframe:"
   ]
  },
  {
   "cell_type": "code",
   "execution_count": 50,
   "metadata": {},
   "outputs": [],
   "source": [
    "df_code = pd.read_csv('./country_2-3_codes.csv')"
   ]
  },
  {
   "cell_type": "code",
   "execution_count": 51,
   "metadata": {},
   "outputs": [
    {
     "data": {
      "text/html": [
       "<div>\n",
       "<style scoped>\n",
       "    .dataframe tbody tr th:only-of-type {\n",
       "        vertical-align: middle;\n",
       "    }\n",
       "\n",
       "    .dataframe tbody tr th {\n",
       "        vertical-align: top;\n",
       "    }\n",
       "\n",
       "    .dataframe thead th {\n",
       "        text-align: right;\n",
       "    }\n",
       "</style>\n",
       "<table border=\"1\" class=\"dataframe\">\n",
       "  <thead>\n",
       "    <tr style=\"text-align: right;\">\n",
       "      <th></th>\n",
       "      <th>Country</th>\n",
       "      <th>Alpha-2 code</th>\n",
       "      <th>Alpha-3 code</th>\n",
       "      <th>Numeric code</th>\n",
       "      <th>Latitude (average)</th>\n",
       "      <th>Longitude (average)</th>\n",
       "    </tr>\n",
       "  </thead>\n",
       "  <tbody>\n",
       "    <tr>\n",
       "      <th>0</th>\n",
       "      <td>Afghanistan</td>\n",
       "      <td>AF</td>\n",
       "      <td>AFG</td>\n",
       "      <td>4</td>\n",
       "      <td>33.0000</td>\n",
       "      <td>65.0</td>\n",
       "    </tr>\n",
       "    <tr>\n",
       "      <th>1</th>\n",
       "      <td>Albania</td>\n",
       "      <td>AL</td>\n",
       "      <td>ALB</td>\n",
       "      <td>8</td>\n",
       "      <td>41.0000</td>\n",
       "      <td>20.0</td>\n",
       "    </tr>\n",
       "    <tr>\n",
       "      <th>2</th>\n",
       "      <td>Algeria</td>\n",
       "      <td>DZ</td>\n",
       "      <td>DZA</td>\n",
       "      <td>12</td>\n",
       "      <td>28.0000</td>\n",
       "      <td>3.0</td>\n",
       "    </tr>\n",
       "    <tr>\n",
       "      <th>3</th>\n",
       "      <td>American Samoa</td>\n",
       "      <td>AS</td>\n",
       "      <td>ASM</td>\n",
       "      <td>16</td>\n",
       "      <td>-14.3333</td>\n",
       "      <td>-170.0</td>\n",
       "    </tr>\n",
       "    <tr>\n",
       "      <th>4</th>\n",
       "      <td>Andorra</td>\n",
       "      <td>AD</td>\n",
       "      <td>AND</td>\n",
       "      <td>20</td>\n",
       "      <td>42.5000</td>\n",
       "      <td>1.6</td>\n",
       "    </tr>\n",
       "    <tr>\n",
       "      <th>...</th>\n",
       "      <td>...</td>\n",
       "      <td>...</td>\n",
       "      <td>...</td>\n",
       "      <td>...</td>\n",
       "      <td>...</td>\n",
       "      <td>...</td>\n",
       "    </tr>\n",
       "    <tr>\n",
       "      <th>251</th>\n",
       "      <td>Wallis and Futuna</td>\n",
       "      <td>WF</td>\n",
       "      <td>WLF</td>\n",
       "      <td>876</td>\n",
       "      <td>-13.3000</td>\n",
       "      <td>-176.2</td>\n",
       "    </tr>\n",
       "    <tr>\n",
       "      <th>252</th>\n",
       "      <td>Western Sahara</td>\n",
       "      <td>EH</td>\n",
       "      <td>ESH</td>\n",
       "      <td>732</td>\n",
       "      <td>24.5000</td>\n",
       "      <td>-13.0</td>\n",
       "    </tr>\n",
       "    <tr>\n",
       "      <th>253</th>\n",
       "      <td>Yemen</td>\n",
       "      <td>YE</td>\n",
       "      <td>YEM</td>\n",
       "      <td>887</td>\n",
       "      <td>15.0000</td>\n",
       "      <td>48.0</td>\n",
       "    </tr>\n",
       "    <tr>\n",
       "      <th>254</th>\n",
       "      <td>Zambia</td>\n",
       "      <td>ZM</td>\n",
       "      <td>ZMB</td>\n",
       "      <td>894</td>\n",
       "      <td>-15.0000</td>\n",
       "      <td>30.0</td>\n",
       "    </tr>\n",
       "    <tr>\n",
       "      <th>255</th>\n",
       "      <td>Zimbabwe</td>\n",
       "      <td>ZW</td>\n",
       "      <td>ZWE</td>\n",
       "      <td>716</td>\n",
       "      <td>-20.0000</td>\n",
       "      <td>30.0</td>\n",
       "    </tr>\n",
       "  </tbody>\n",
       "</table>\n",
       "<p>256 rows × 6 columns</p>\n",
       "</div>"
      ],
      "text/plain": [
       "               Country Alpha-2 code Alpha-3 code  Numeric code  \\\n",
       "0          Afghanistan           AF          AFG             4   \n",
       "1              Albania           AL          ALB             8   \n",
       "2              Algeria           DZ          DZA            12   \n",
       "3       American Samoa           AS          ASM            16   \n",
       "4              Andorra           AD          AND            20   \n",
       "..                 ...          ...          ...           ...   \n",
       "251  Wallis and Futuna           WF          WLF           876   \n",
       "252     Western Sahara           EH          ESH           732   \n",
       "253              Yemen           YE          YEM           887   \n",
       "254             Zambia           ZM          ZMB           894   \n",
       "255           Zimbabwe           ZW          ZWE           716   \n",
       "\n",
       "     Latitude (average)  Longitude (average)  \n",
       "0               33.0000                 65.0  \n",
       "1               41.0000                 20.0  \n",
       "2               28.0000                  3.0  \n",
       "3              -14.3333               -170.0  \n",
       "4               42.5000                  1.6  \n",
       "..                  ...                  ...  \n",
       "251            -13.3000               -176.2  \n",
       "252             24.5000                -13.0  \n",
       "253             15.0000                 48.0  \n",
       "254            -15.0000                 30.0  \n",
       "255            -20.0000                 30.0  \n",
       "\n",
       "[256 rows x 6 columns]"
      ]
     },
     "execution_count": 51,
     "metadata": {},
     "output_type": "execute_result"
    }
   ],
   "source": [
    "df_code"
   ]
  },
  {
   "cell_type": "code",
   "execution_count": 52,
   "metadata": {},
   "outputs": [],
   "source": [
    "df_code = df_code[['Alpha-2 code', 'Alpha-3 code']]"
   ]
  },
  {
   "cell_type": "markdown",
   "metadata": {},
   "source": [
    "Do we have any missing values?"
   ]
  },
  {
   "cell_type": "code",
   "execution_count": 53,
   "metadata": {},
   "outputs": [
    {
     "data": {
      "text/plain": [
       "Alpha-2 code    1\n",
       "Alpha-3 code    0\n",
       "dtype: int64"
      ]
     },
     "execution_count": 53,
     "metadata": {},
     "output_type": "execute_result"
    }
   ],
   "source": [
    "df_code.isna().sum()"
   ]
  },
  {
   "cell_type": "code",
   "execution_count": 54,
   "metadata": {},
   "outputs": [
    {
     "data": {
      "text/html": [
       "<div>\n",
       "<style scoped>\n",
       "    .dataframe tbody tr th:only-of-type {\n",
       "        vertical-align: middle;\n",
       "    }\n",
       "\n",
       "    .dataframe tbody tr th {\n",
       "        vertical-align: top;\n",
       "    }\n",
       "\n",
       "    .dataframe thead th {\n",
       "        text-align: right;\n",
       "    }\n",
       "</style>\n",
       "<table border=\"1\" class=\"dataframe\">\n",
       "  <thead>\n",
       "    <tr style=\"text-align: right;\">\n",
       "      <th></th>\n",
       "      <th>Alpha-2 code</th>\n",
       "      <th>Alpha-3 code</th>\n",
       "    </tr>\n",
       "  </thead>\n",
       "  <tbody>\n",
       "    <tr>\n",
       "      <th>156</th>\n",
       "      <td>NaN</td>\n",
       "      <td>NAM</td>\n",
       "    </tr>\n",
       "  </tbody>\n",
       "</table>\n",
       "</div>"
      ],
      "text/plain": [
       "    Alpha-2 code Alpha-3 code\n",
       "156          NaN          NAM"
      ]
     },
     "execution_count": 54,
     "metadata": {},
     "output_type": "execute_result"
    }
   ],
   "source": [
    "df_code[df_code['Alpha-2 code'].isna()]"
   ]
  },
  {
   "cell_type": "markdown",
   "metadata": {},
   "source": [
    "The 2-letter code of Namibia (NAM) is 'NA'"
   ]
  },
  {
   "cell_type": "code",
   "execution_count": 55,
   "metadata": {},
   "outputs": [
    {
     "name": "stderr",
     "output_type": "stream",
     "text": [
      "C:\\Users\\claud\\anaconda3\\lib\\site-packages\\pandas\\core\\indexing.py:670: SettingWithCopyWarning: \n",
      "A value is trying to be set on a copy of a slice from a DataFrame\n",
      "\n",
      "See the caveats in the documentation: https://pandas.pydata.org/pandas-docs/stable/user_guide/indexing.html#returning-a-view-versus-a-copy\n",
      "  iloc._setitem_with_indexer(indexer, value)\n",
      "<ipython-input-55-afa2029e5a57>:1: SettingWithCopyWarning: \n",
      "A value is trying to be set on a copy of a slice from a DataFrame\n",
      "\n",
      "See the caveats in the documentation: https://pandas.pydata.org/pandas-docs/stable/user_guide/indexing.html#returning-a-view-versus-a-copy\n",
      "  df_code.loc[df_code['Alpha-2 code'].isna(), 'Alpha-2 code'] = 'NA'\n"
     ]
    }
   ],
   "source": [
    "df_code.loc[df_code['Alpha-2 code'].isna(), 'Alpha-2 code'] = 'NA'"
   ]
  },
  {
   "cell_type": "code",
   "execution_count": 56,
   "metadata": {},
   "outputs": [
    {
     "data": {
      "text/plain": [
       "Alpha-2 code    0\n",
       "Alpha-3 code    0\n",
       "dtype: int64"
      ]
     },
     "execution_count": 56,
     "metadata": {},
     "output_type": "execute_result"
    }
   ],
   "source": [
    "df_code.isna().sum()"
   ]
  },
  {
   "cell_type": "code",
   "execution_count": 57,
   "metadata": {},
   "outputs": [
    {
     "data": {
      "text/html": [
       "<div>\n",
       "<style scoped>\n",
       "    .dataframe tbody tr th:only-of-type {\n",
       "        vertical-align: middle;\n",
       "    }\n",
       "\n",
       "    .dataframe tbody tr th {\n",
       "        vertical-align: top;\n",
       "    }\n",
       "\n",
       "    .dataframe thead th {\n",
       "        text-align: right;\n",
       "    }\n",
       "</style>\n",
       "<table border=\"1\" class=\"dataframe\">\n",
       "  <thead>\n",
       "    <tr style=\"text-align: right;\">\n",
       "      <th></th>\n",
       "      <th>Alpha-2 code</th>\n",
       "      <th>Alpha-3 code</th>\n",
       "    </tr>\n",
       "  </thead>\n",
       "  <tbody>\n",
       "    <tr>\n",
       "      <th>0</th>\n",
       "      <td>AF</td>\n",
       "      <td>AFG</td>\n",
       "    </tr>\n",
       "    <tr>\n",
       "      <th>1</th>\n",
       "      <td>AL</td>\n",
       "      <td>ALB</td>\n",
       "    </tr>\n",
       "    <tr>\n",
       "      <th>2</th>\n",
       "      <td>DZ</td>\n",
       "      <td>DZA</td>\n",
       "    </tr>\n",
       "    <tr>\n",
       "      <th>3</th>\n",
       "      <td>AS</td>\n",
       "      <td>ASM</td>\n",
       "    </tr>\n",
       "    <tr>\n",
       "      <th>4</th>\n",
       "      <td>AD</td>\n",
       "      <td>AND</td>\n",
       "    </tr>\n",
       "    <tr>\n",
       "      <th>...</th>\n",
       "      <td>...</td>\n",
       "      <td>...</td>\n",
       "    </tr>\n",
       "    <tr>\n",
       "      <th>251</th>\n",
       "      <td>WF</td>\n",
       "      <td>WLF</td>\n",
       "    </tr>\n",
       "    <tr>\n",
       "      <th>252</th>\n",
       "      <td>EH</td>\n",
       "      <td>ESH</td>\n",
       "    </tr>\n",
       "    <tr>\n",
       "      <th>253</th>\n",
       "      <td>YE</td>\n",
       "      <td>YEM</td>\n",
       "    </tr>\n",
       "    <tr>\n",
       "      <th>254</th>\n",
       "      <td>ZM</td>\n",
       "      <td>ZMB</td>\n",
       "    </tr>\n",
       "    <tr>\n",
       "      <th>255</th>\n",
       "      <td>ZW</td>\n",
       "      <td>ZWE</td>\n",
       "    </tr>\n",
       "  </tbody>\n",
       "</table>\n",
       "<p>256 rows × 2 columns</p>\n",
       "</div>"
      ],
      "text/plain": [
       "    Alpha-2 code Alpha-3 code\n",
       "0             AF          AFG\n",
       "1             AL          ALB\n",
       "2             DZ          DZA\n",
       "3             AS          ASM\n",
       "4             AD          AND\n",
       "..           ...          ...\n",
       "251           WF          WLF\n",
       "252           EH          ESH\n",
       "253           YE          YEM\n",
       "254           ZM          ZMB\n",
       "255           ZW          ZWE\n",
       "\n",
       "[256 rows x 2 columns]"
      ]
     },
     "execution_count": 57,
     "metadata": {},
     "output_type": "execute_result"
    }
   ],
   "source": [
    "df_code"
   ]
  },
  {
   "cell_type": "markdown",
   "metadata": {},
   "source": [
    "First, let's check that the 2-letter codes in our original df dataframe are present in the df_code dataframe. If they are, we will filter it by these values to compare it to the df_pop dataframe"
   ]
  },
  {
   "cell_type": "code",
   "execution_count": 58,
   "metadata": {},
   "outputs": [
    {
     "name": "stdout",
     "output_type": "stream",
     "text": [
      "There are 2.0 countries missing in the df_pop dataframe\n"
     ]
    }
   ],
   "source": [
    "bool_arr = np.array([])\n",
    "for country in df.Country.unique():\n",
    "    boolean = country in df_code['Alpha-2 code'].unique()\n",
    "    bool_arr = np.append(bool_arr, boolean)\n",
    "\n",
    "if bool_arr.all():\n",
    "    print('All country codes are in country_name')\n",
    "else: \n",
    "    missing = len(bool_arr) - bool_arr.sum()\n",
    "    print('There are {} countries missing in the df_pop dataframe'.format(missing))"
   ]
  },
  {
   "cell_type": "code",
   "execution_count": 59,
   "metadata": {},
   "outputs": [
    {
     "data": {
      "text/plain": [
       "array(['XK', 'CW'], dtype=object)"
      ]
     },
     "execution_count": 59,
     "metadata": {},
     "output_type": "execute_result"
    }
   ],
   "source": [
    "df.Country.unique()[bool_arr == False]"
   ]
  },
  {
   "cell_type": "markdown",
   "metadata": {},
   "source": [
    "These countries correspond to 'Kosovo' and 'Curaçao', respectively. Let's add them manually to df_code:"
   ]
  },
  {
   "cell_type": "code",
   "execution_count": 60,
   "metadata": {},
   "outputs": [],
   "source": [
    "df_code = pd.concat([df_code, pd.DataFrame([['XK', 'XKX'], ['CW', 'CUW']], columns=df_code.columns)], axis=0).reset_index(drop=True)"
   ]
  },
  {
   "cell_type": "code",
   "execution_count": 61,
   "metadata": {},
   "outputs": [
    {
     "data": {
      "text/html": [
       "<div>\n",
       "<style scoped>\n",
       "    .dataframe tbody tr th:only-of-type {\n",
       "        vertical-align: middle;\n",
       "    }\n",
       "\n",
       "    .dataframe tbody tr th {\n",
       "        vertical-align: top;\n",
       "    }\n",
       "\n",
       "    .dataframe thead th {\n",
       "        text-align: right;\n",
       "    }\n",
       "</style>\n",
       "<table border=\"1\" class=\"dataframe\">\n",
       "  <thead>\n",
       "    <tr style=\"text-align: right;\">\n",
       "      <th></th>\n",
       "      <th>Alpha-2 code</th>\n",
       "      <th>Alpha-3 code</th>\n",
       "    </tr>\n",
       "  </thead>\n",
       "  <tbody>\n",
       "    <tr>\n",
       "      <th>0</th>\n",
       "      <td>AF</td>\n",
       "      <td>AFG</td>\n",
       "    </tr>\n",
       "    <tr>\n",
       "      <th>1</th>\n",
       "      <td>AL</td>\n",
       "      <td>ALB</td>\n",
       "    </tr>\n",
       "    <tr>\n",
       "      <th>2</th>\n",
       "      <td>DZ</td>\n",
       "      <td>DZA</td>\n",
       "    </tr>\n",
       "    <tr>\n",
       "      <th>3</th>\n",
       "      <td>AS</td>\n",
       "      <td>ASM</td>\n",
       "    </tr>\n",
       "    <tr>\n",
       "      <th>4</th>\n",
       "      <td>AD</td>\n",
       "      <td>AND</td>\n",
       "    </tr>\n",
       "    <tr>\n",
       "      <th>...</th>\n",
       "      <td>...</td>\n",
       "      <td>...</td>\n",
       "    </tr>\n",
       "    <tr>\n",
       "      <th>253</th>\n",
       "      <td>YE</td>\n",
       "      <td>YEM</td>\n",
       "    </tr>\n",
       "    <tr>\n",
       "      <th>254</th>\n",
       "      <td>ZM</td>\n",
       "      <td>ZMB</td>\n",
       "    </tr>\n",
       "    <tr>\n",
       "      <th>255</th>\n",
       "      <td>ZW</td>\n",
       "      <td>ZWE</td>\n",
       "    </tr>\n",
       "    <tr>\n",
       "      <th>256</th>\n",
       "      <td>XK</td>\n",
       "      <td>XKX</td>\n",
       "    </tr>\n",
       "    <tr>\n",
       "      <th>257</th>\n",
       "      <td>CW</td>\n",
       "      <td>CUW</td>\n",
       "    </tr>\n",
       "  </tbody>\n",
       "</table>\n",
       "<p>258 rows × 2 columns</p>\n",
       "</div>"
      ],
      "text/plain": [
       "    Alpha-2 code Alpha-3 code\n",
       "0             AF          AFG\n",
       "1             AL          ALB\n",
       "2             DZ          DZA\n",
       "3             AS          ASM\n",
       "4             AD          AND\n",
       "..           ...          ...\n",
       "253           YE          YEM\n",
       "254           ZM          ZMB\n",
       "255           ZW          ZWE\n",
       "256           XK          XKX\n",
       "257           CW          CUW\n",
       "\n",
       "[258 rows x 2 columns]"
      ]
     },
     "execution_count": 61,
     "metadata": {},
     "output_type": "execute_result"
    }
   ],
   "source": [
    "df_code"
   ]
  },
  {
   "cell_type": "markdown",
   "metadata": {},
   "source": [
    "Now, if we repeat the process and check that every country code in df is present in df_code:"
   ]
  },
  {
   "cell_type": "code",
   "execution_count": 62,
   "metadata": {},
   "outputs": [
    {
     "name": "stdout",
     "output_type": "stream",
     "text": [
      "All country codes are present\n"
     ]
    }
   ],
   "source": [
    "bool_arr = np.array([])\n",
    "for country in df.Country.unique():\n",
    "    boolean = country in df_code['Alpha-2 code'].unique()\n",
    "    bool_arr = np.append(bool_arr, boolean)\n",
    "\n",
    "if bool_arr.all():\n",
    "    print('All country codes are present')\n",
    "else: \n",
    "    missing = len(bool_arr) - bool_arr.sum()\n",
    "    print('There are {} countries missing in the df_pop dataframe'.format(missing))"
   ]
  },
  {
   "cell_type": "markdown",
   "metadata": {},
   "source": [
    "Now that we have every country code of df in df_code lets filter the df_code dataframe by the country codes in df:"
   ]
  },
  {
   "cell_type": "code",
   "execution_count": 63,
   "metadata": {},
   "outputs": [
    {
     "data": {
      "text/html": [
       "<div>\n",
       "<style scoped>\n",
       "    .dataframe tbody tr th:only-of-type {\n",
       "        vertical-align: middle;\n",
       "    }\n",
       "\n",
       "    .dataframe tbody tr th {\n",
       "        vertical-align: top;\n",
       "    }\n",
       "\n",
       "    .dataframe thead th {\n",
       "        text-align: right;\n",
       "    }\n",
       "</style>\n",
       "<table border=\"1\" class=\"dataframe\">\n",
       "  <thead>\n",
       "    <tr style=\"text-align: right;\">\n",
       "      <th></th>\n",
       "      <th>Alpha-2 code</th>\n",
       "      <th>Alpha-3 code</th>\n",
       "    </tr>\n",
       "  </thead>\n",
       "  <tbody>\n",
       "    <tr>\n",
       "      <th>0</th>\n",
       "      <td>AF</td>\n",
       "      <td>AFG</td>\n",
       "    </tr>\n",
       "    <tr>\n",
       "      <th>2</th>\n",
       "      <td>DZ</td>\n",
       "      <td>DZA</td>\n",
       "    </tr>\n",
       "    <tr>\n",
       "      <th>9</th>\n",
       "      <td>AR</td>\n",
       "      <td>ARG</td>\n",
       "    </tr>\n",
       "    <tr>\n",
       "      <th>12</th>\n",
       "      <td>AU</td>\n",
       "      <td>AUS</td>\n",
       "    </tr>\n",
       "    <tr>\n",
       "      <th>13</th>\n",
       "      <td>AT</td>\n",
       "      <td>AUT</td>\n",
       "    </tr>\n",
       "    <tr>\n",
       "      <th>...</th>\n",
       "      <td>...</td>\n",
       "      <td>...</td>\n",
       "    </tr>\n",
       "    <tr>\n",
       "      <th>243</th>\n",
       "      <td>UZ</td>\n",
       "      <td>UZB</td>\n",
       "    </tr>\n",
       "    <tr>\n",
       "      <th>247</th>\n",
       "      <td>VN</td>\n",
       "      <td>VNM</td>\n",
       "    </tr>\n",
       "    <tr>\n",
       "      <th>248</th>\n",
       "      <td>VN</td>\n",
       "      <td>VNM</td>\n",
       "    </tr>\n",
       "    <tr>\n",
       "      <th>256</th>\n",
       "      <td>XK</td>\n",
       "      <td>XKX</td>\n",
       "    </tr>\n",
       "    <tr>\n",
       "      <th>257</th>\n",
       "      <td>CW</td>\n",
       "      <td>CUW</td>\n",
       "    </tr>\n",
       "  </tbody>\n",
       "</table>\n",
       "<p>101 rows × 2 columns</p>\n",
       "</div>"
      ],
      "text/plain": [
       "    Alpha-2 code Alpha-3 code\n",
       "0             AF          AFG\n",
       "2             DZ          DZA\n",
       "9             AR          ARG\n",
       "12            AU          AUS\n",
       "13            AT          AUT\n",
       "..           ...          ...\n",
       "243           UZ          UZB\n",
       "247           VN          VNM\n",
       "248           VN          VNM\n",
       "256           XK          XKX\n",
       "257           CW          CUW\n",
       "\n",
       "[101 rows x 2 columns]"
      ]
     },
     "execution_count": 63,
     "metadata": {},
     "output_type": "execute_result"
    }
   ],
   "source": [
    "df_code = df_code[df_code['Alpha-2 code'].isin(df.Country.unique())]\n",
    "df_code"
   ]
  },
  {
   "cell_type": "markdown",
   "metadata": {},
   "source": [
    "The number of rows does not coincide with the number of unique countries in our original df (94):\n"
   ]
  },
  {
   "cell_type": "code",
   "execution_count": 64,
   "metadata": {},
   "outputs": [
    {
     "data": {
      "text/plain": [
       "VN    2\n",
       "CI    2\n",
       "KR    2\n",
       "TW    2\n",
       "BO    2\n",
       "     ..\n",
       "IR    1\n",
       "BG    1\n",
       "EE    1\n",
       "SV    1\n",
       "AT    1\n",
       "Name: Alpha-2 code, Length: 94, dtype: int64"
      ]
     },
     "execution_count": 64,
     "metadata": {},
     "output_type": "execute_result"
    }
   ],
   "source": [
    "df_code['Alpha-2 code'].value_counts()"
   ]
  },
  {
   "cell_type": "markdown",
   "metadata": {},
   "source": [
    "This means that in the original df_code we had duplicates. Let's drop them from our filtered df_code. Once this is done, we should obtain a total of 94 rows:"
   ]
  },
  {
   "cell_type": "code",
   "execution_count": 65,
   "metadata": {},
   "outputs": [
    {
     "data": {
      "text/plain": [
       "(94, 2)"
      ]
     },
     "execution_count": 65,
     "metadata": {},
     "output_type": "execute_result"
    }
   ],
   "source": [
    "df_code = df_code.drop_duplicates()\n",
    "df_code.shape"
   ]
  },
  {
   "cell_type": "markdown",
   "metadata": {},
   "source": [
    "## Filter the population density dataset by the countries present in our pollution dataset"
   ]
  },
  {
   "cell_type": "markdown",
   "metadata": {},
   "source": [
    "Our df_code dataset has exactly all the countries present in df, with the 2-letter and 3-letter country codes:"
   ]
  },
  {
   "cell_type": "code",
   "execution_count": 66,
   "metadata": {},
   "outputs": [
    {
     "name": "stdout",
     "output_type": "stream",
     "text": [
      "There are 2.0 countries missing\n"
     ]
    }
   ],
   "source": [
    "bool_arr = np.array([])\n",
    "for country in df_code['Alpha-3 code'].unique():\n",
    "    boolean = country in df_pop.Country_code.unique()\n",
    "    bool_arr = np.append(bool_arr, boolean)\n",
    "\n",
    "if bool_arr.all():\n",
    "    print('All country codes are present')\n",
    "else: \n",
    "    missing = len(bool_arr) - bool_arr.sum()\n",
    "    print('There are {} countries missing'.format(missing))"
   ]
  },
  {
   "cell_type": "markdown",
   "metadata": {},
   "source": [
    "What are the countries missing in df_pop?"
   ]
  },
  {
   "cell_type": "code",
   "execution_count": 67,
   "metadata": {},
   "outputs": [
    {
     "data": {
      "text/plain": [
       "array(['REU', 'TWN'], dtype=object)"
      ]
     },
     "execution_count": 67,
     "metadata": {},
     "output_type": "execute_result"
    }
   ],
   "source": [
    "df_code['Alpha-3 code'].unique()[bool_arr == False]"
   ]
  },
  {
   "cell_type": "markdown",
   "metadata": {},
   "source": [
    "'REU' corresponds to Reunion and 'TWN' corresponds to Taiwan. Let's add these fields to df_pop manually from https://www.worldometers.info/world-population:\n",
    "\n",
    "- population density Reunion (as of 2018) = 353 people/km$^2$\n",
    "- population density Taiwan (as of 2018) = 670 people/km$^2$"
   ]
  },
  {
   "cell_type": "code",
   "execution_count": 68,
   "metadata": {},
   "outputs": [
    {
     "data": {
      "text/html": [
       "<div>\n",
       "<style scoped>\n",
       "    .dataframe tbody tr th:only-of-type {\n",
       "        vertical-align: middle;\n",
       "    }\n",
       "\n",
       "    .dataframe tbody tr th {\n",
       "        vertical-align: top;\n",
       "    }\n",
       "\n",
       "    .dataframe thead th {\n",
       "        text-align: right;\n",
       "    }\n",
       "</style>\n",
       "<table border=\"1\" class=\"dataframe\">\n",
       "  <thead>\n",
       "    <tr style=\"text-align: right;\">\n",
       "      <th></th>\n",
       "      <th>Country_name</th>\n",
       "      <th>Country_code</th>\n",
       "      <th>cou_pop_density</th>\n",
       "    </tr>\n",
       "  </thead>\n",
       "  <tbody>\n",
       "    <tr>\n",
       "      <th>0</th>\n",
       "      <td>Aruba</td>\n",
       "      <td>ABW</td>\n",
       "      <td>588.027778</td>\n",
       "    </tr>\n",
       "    <tr>\n",
       "      <th>1</th>\n",
       "      <td>Afghanistan</td>\n",
       "      <td>AFG</td>\n",
       "      <td>56.937760</td>\n",
       "    </tr>\n",
       "    <tr>\n",
       "      <th>2</th>\n",
       "      <td>Angola</td>\n",
       "      <td>AGO</td>\n",
       "      <td>24.713052</td>\n",
       "    </tr>\n",
       "    <tr>\n",
       "      <th>3</th>\n",
       "      <td>Albania</td>\n",
       "      <td>ALB</td>\n",
       "      <td>104.612263</td>\n",
       "    </tr>\n",
       "    <tr>\n",
       "      <th>4</th>\n",
       "      <td>Andorra</td>\n",
       "      <td>AND</td>\n",
       "      <td>163.842553</td>\n",
       "    </tr>\n",
       "  </tbody>\n",
       "</table>\n",
       "</div>"
      ],
      "text/plain": [
       "  Country_name Country_code  cou_pop_density\n",
       "0        Aruba          ABW       588.027778\n",
       "1  Afghanistan          AFG        56.937760\n",
       "2       Angola          AGO        24.713052\n",
       "3      Albania          ALB       104.612263\n",
       "4      Andorra          AND       163.842553"
      ]
     },
     "execution_count": 68,
     "metadata": {},
     "output_type": "execute_result"
    }
   ],
   "source": [
    "df_pop.head()"
   ]
  },
  {
   "cell_type": "code",
   "execution_count": 69,
   "metadata": {},
   "outputs": [
    {
     "data": {
      "text/html": [
       "<div>\n",
       "<style scoped>\n",
       "    .dataframe tbody tr th:only-of-type {\n",
       "        vertical-align: middle;\n",
       "    }\n",
       "\n",
       "    .dataframe tbody tr th {\n",
       "        vertical-align: top;\n",
       "    }\n",
       "\n",
       "    .dataframe thead th {\n",
       "        text-align: right;\n",
       "    }\n",
       "</style>\n",
       "<table border=\"1\" class=\"dataframe\">\n",
       "  <thead>\n",
       "    <tr style=\"text-align: right;\">\n",
       "      <th></th>\n",
       "      <th>Country_name</th>\n",
       "      <th>Country_code</th>\n",
       "      <th>cou_pop_density</th>\n",
       "    </tr>\n",
       "  </thead>\n",
       "  <tbody>\n",
       "    <tr>\n",
       "      <th>0</th>\n",
       "      <td>Aruba</td>\n",
       "      <td>ABW</td>\n",
       "      <td>588.027778</td>\n",
       "    </tr>\n",
       "    <tr>\n",
       "      <th>1</th>\n",
       "      <td>Afghanistan</td>\n",
       "      <td>AFG</td>\n",
       "      <td>56.937760</td>\n",
       "    </tr>\n",
       "    <tr>\n",
       "      <th>2</th>\n",
       "      <td>Angola</td>\n",
       "      <td>AGO</td>\n",
       "      <td>24.713052</td>\n",
       "    </tr>\n",
       "    <tr>\n",
       "      <th>3</th>\n",
       "      <td>Albania</td>\n",
       "      <td>ALB</td>\n",
       "      <td>104.612263</td>\n",
       "    </tr>\n",
       "    <tr>\n",
       "      <th>4</th>\n",
       "      <td>Andorra</td>\n",
       "      <td>AND</td>\n",
       "      <td>163.842553</td>\n",
       "    </tr>\n",
       "    <tr>\n",
       "      <th>...</th>\n",
       "      <td>...</td>\n",
       "      <td>...</td>\n",
       "      <td>...</td>\n",
       "    </tr>\n",
       "    <tr>\n",
       "      <th>260</th>\n",
       "      <td>South Africa</td>\n",
       "      <td>ZAF</td>\n",
       "      <td>47.630120</td>\n",
       "    </tr>\n",
       "    <tr>\n",
       "      <th>261</th>\n",
       "      <td>Zambia</td>\n",
       "      <td>ZMB</td>\n",
       "      <td>23.341479</td>\n",
       "    </tr>\n",
       "    <tr>\n",
       "      <th>262</th>\n",
       "      <td>Zimbabwe</td>\n",
       "      <td>ZWE</td>\n",
       "      <td>37.324591</td>\n",
       "    </tr>\n",
       "    <tr>\n",
       "      <th>263</th>\n",
       "      <td>Reunion</td>\n",
       "      <td>REU</td>\n",
       "      <td>353.000000</td>\n",
       "    </tr>\n",
       "    <tr>\n",
       "      <th>264</th>\n",
       "      <td>Taiwan</td>\n",
       "      <td>TWN</td>\n",
       "      <td>670.000000</td>\n",
       "    </tr>\n",
       "  </tbody>\n",
       "</table>\n",
       "<p>265 rows × 3 columns</p>\n",
       "</div>"
      ],
      "text/plain": [
       "     Country_name Country_code  cou_pop_density\n",
       "0           Aruba          ABW       588.027778\n",
       "1     Afghanistan          AFG        56.937760\n",
       "2          Angola          AGO        24.713052\n",
       "3         Albania          ALB       104.612263\n",
       "4         Andorra          AND       163.842553\n",
       "..            ...          ...              ...\n",
       "260  South Africa          ZAF        47.630120\n",
       "261        Zambia          ZMB        23.341479\n",
       "262      Zimbabwe          ZWE        37.324591\n",
       "263       Reunion          REU       353.000000\n",
       "264        Taiwan          TWN       670.000000\n",
       "\n",
       "[265 rows x 3 columns]"
      ]
     },
     "execution_count": 69,
     "metadata": {},
     "output_type": "execute_result"
    }
   ],
   "source": [
    "df_pop = pd.concat([df_pop, pd.DataFrame([['Reunion', 'REU', 353.0], ['Taiwan', 'TWN', 670.0]], columns=df_pop.columns)], axis=0).reset_index(drop=True)\n",
    "df_pop"
   ]
  },
  {
   "cell_type": "markdown",
   "metadata": {},
   "source": [
    "Let's recheck we have all countries present:"
   ]
  },
  {
   "cell_type": "code",
   "execution_count": 70,
   "metadata": {},
   "outputs": [
    {
     "name": "stdout",
     "output_type": "stream",
     "text": [
      "All country codes are present\n"
     ]
    }
   ],
   "source": [
    "bool_arr = np.array([])\n",
    "for country in df_code['Alpha-3 code'].unique():\n",
    "    boolean = country in df_pop.Country_code.unique()\n",
    "    bool_arr = np.append(bool_arr, boolean)\n",
    "\n",
    "if bool_arr.all():\n",
    "    print('All country codes are present')\n",
    "else: \n",
    "    missing = len(bool_arr) - bool_arr.sum()\n",
    "    print('There are {} countries missing'.format(missing))"
   ]
  },
  {
   "cell_type": "markdown",
   "metadata": {},
   "source": [
    "Let's add the 2-letter country code to df_pop by inner joining with df_code. This will come handy to join "
   ]
  },
  {
   "cell_type": "code",
   "execution_count": 71,
   "metadata": {},
   "outputs": [
    {
     "data": {
      "text/html": [
       "<div>\n",
       "<style scoped>\n",
       "    .dataframe tbody tr th:only-of-type {\n",
       "        vertical-align: middle;\n",
       "    }\n",
       "\n",
       "    .dataframe tbody tr th {\n",
       "        vertical-align: top;\n",
       "    }\n",
       "\n",
       "    .dataframe thead th {\n",
       "        text-align: right;\n",
       "    }\n",
       "</style>\n",
       "<table border=\"1\" class=\"dataframe\">\n",
       "  <thead>\n",
       "    <tr style=\"text-align: right;\">\n",
       "      <th></th>\n",
       "      <th>Country_name</th>\n",
       "      <th>Country_code_3</th>\n",
       "      <th>cou_pop_density</th>\n",
       "      <th>Country_code</th>\n",
       "    </tr>\n",
       "  </thead>\n",
       "  <tbody>\n",
       "    <tr>\n",
       "      <th>0</th>\n",
       "      <td>Afghanistan</td>\n",
       "      <td>AFG</td>\n",
       "      <td>56.937760</td>\n",
       "      <td>AF</td>\n",
       "    </tr>\n",
       "    <tr>\n",
       "      <th>1</th>\n",
       "      <td>United Arab Emirates</td>\n",
       "      <td>ARE</td>\n",
       "      <td>135.609110</td>\n",
       "      <td>AE</td>\n",
       "    </tr>\n",
       "    <tr>\n",
       "      <th>2</th>\n",
       "      <td>Argentina</td>\n",
       "      <td>ARG</td>\n",
       "      <td>16.258510</td>\n",
       "      <td>AR</td>\n",
       "    </tr>\n",
       "    <tr>\n",
       "      <th>3</th>\n",
       "      <td>Australia</td>\n",
       "      <td>AUS</td>\n",
       "      <td>3.247871</td>\n",
       "      <td>AU</td>\n",
       "    </tr>\n",
       "    <tr>\n",
       "      <th>4</th>\n",
       "      <td>Austria</td>\n",
       "      <td>AUT</td>\n",
       "      <td>107.131859</td>\n",
       "      <td>AT</td>\n",
       "    </tr>\n",
       "    <tr>\n",
       "      <th>...</th>\n",
       "      <td>...</td>\n",
       "      <td>...</td>\n",
       "      <td>...</td>\n",
       "      <td>...</td>\n",
       "    </tr>\n",
       "    <tr>\n",
       "      <th>89</th>\n",
       "      <td>Vietnam</td>\n",
       "      <td>VNM</td>\n",
       "      <td>308.125246</td>\n",
       "      <td>VN</td>\n",
       "    </tr>\n",
       "    <tr>\n",
       "      <th>90</th>\n",
       "      <td>Kosovo</td>\n",
       "      <td>XKX</td>\n",
       "      <td>164.508405</td>\n",
       "      <td>XK</td>\n",
       "    </tr>\n",
       "    <tr>\n",
       "      <th>91</th>\n",
       "      <td>South Africa</td>\n",
       "      <td>ZAF</td>\n",
       "      <td>47.630120</td>\n",
       "      <td>ZA</td>\n",
       "    </tr>\n",
       "    <tr>\n",
       "      <th>92</th>\n",
       "      <td>Reunion</td>\n",
       "      <td>REU</td>\n",
       "      <td>353.000000</td>\n",
       "      <td>RE</td>\n",
       "    </tr>\n",
       "    <tr>\n",
       "      <th>93</th>\n",
       "      <td>Taiwan</td>\n",
       "      <td>TWN</td>\n",
       "      <td>670.000000</td>\n",
       "      <td>TW</td>\n",
       "    </tr>\n",
       "  </tbody>\n",
       "</table>\n",
       "<p>94 rows × 4 columns</p>\n",
       "</div>"
      ],
      "text/plain": [
       "            Country_name Country_code_3  cou_pop_density Country_code\n",
       "0            Afghanistan            AFG        56.937760           AF\n",
       "1   United Arab Emirates            ARE       135.609110           AE\n",
       "2              Argentina            ARG        16.258510           AR\n",
       "3              Australia            AUS         3.247871           AU\n",
       "4                Austria            AUT       107.131859           AT\n",
       "..                   ...            ...              ...          ...\n",
       "89               Vietnam            VNM       308.125246           VN\n",
       "90                Kosovo            XKX       164.508405           XK\n",
       "91          South Africa            ZAF        47.630120           ZA\n",
       "92               Reunion            REU       353.000000           RE\n",
       "93                Taiwan            TWN       670.000000           TW\n",
       "\n",
       "[94 rows x 4 columns]"
      ]
     },
     "execution_count": 71,
     "metadata": {},
     "output_type": "execute_result"
    }
   ],
   "source": [
    "df_pop = pd.merge(df_pop, df_code, left_on='Country_code', right_on='Alpha-3 code', \\\n",
    "         how='inner').drop('Alpha-3 code', axis=1).rename(columns={'Country_code': 'Country_code_3', 'Alpha-2 code': 'Country_code'})\n",
    "df_pop"
   ]
  },
  {
   "cell_type": "markdown",
   "metadata": {},
   "source": [
    "Let's check if all the countries in our air quality dataset is in the df_pop dataset:"
   ]
  },
  {
   "cell_type": "code",
   "execution_count": 72,
   "metadata": {},
   "outputs": [
    {
     "name": "stdout",
     "output_type": "stream",
     "text": [
      "All country names are present\n"
     ]
    }
   ],
   "source": [
    "bool_arr = np.array([])\n",
    "for country in df.Country.unique():\n",
    "    boolean = country in df_pop['Country_code'].unique()\n",
    "    bool_arr = np.append(bool_arr, boolean)\n",
    "\n",
    "if bool_arr.all():\n",
    "    print('All country names are present')\n",
    "else:\n",
    "    missing = len(bool_arr) - bool_arr.sum()\n",
    "    print('There are {} countries missing in the df_pop dataframe'.format(missing))"
   ]
  },
  {
   "cell_type": "markdown",
   "metadata": {},
   "source": [
    "Now we can safely join df_pop and df without losing any country in the process:"
   ]
  },
  {
   "cell_type": "code",
   "execution_count": 73,
   "metadata": {},
   "outputs": [],
   "source": [
    "df_copy = df.copy(deep=True)"
   ]
  },
  {
   "cell_type": "code",
   "execution_count": 74,
   "metadata": {},
   "outputs": [],
   "source": [
    "df = pd.merge(df, df_pop, left_on='Country', right_on='Country_code', suffixes=['_df', '_pop'], \\\n",
    "         how='inner').drop(labels=['Country_name_pop', 'Country_code_3', 'Country_code'], axis=1).rename(columns={'Country_name_df': 'Country_name'})[['Date', 'Country', \\\n",
    "         'Country_name', 'cou_pop_density', 'City', 'Pollutant', 'count', 'median']]"
   ]
  },
  {
   "cell_type": "code",
   "execution_count": 75,
   "metadata": {},
   "outputs": [
    {
     "data": {
      "text/plain": [
       "94"
      ]
     },
     "execution_count": 75,
     "metadata": {},
     "output_type": "execute_result"
    }
   ],
   "source": [
    "df.Country.unique().size"
   ]
  },
  {
   "cell_type": "code",
   "execution_count": 76,
   "metadata": {},
   "outputs": [
    {
     "data": {
      "text/plain": [
       "Date               False\n",
       "Country            False\n",
       "Country_name       False\n",
       "cou_pop_density    False\n",
       "City               False\n",
       "Pollutant          False\n",
       "count              False\n",
       "median             False\n",
       "dtype: bool"
      ]
     },
     "execution_count": 76,
     "metadata": {},
     "output_type": "execute_result"
    }
   ],
   "source": [
    "df.isna().any()"
   ]
  },
  {
   "cell_type": "markdown",
   "metadata": {},
   "source": [
    "We now have the final dataframe that we will be using for the air pollution study. Let's start:"
   ]
  },
  {
   "cell_type": "markdown",
   "metadata": {},
   "source": [
    "# What are the yearly proportions of the air pollutants worldwide? How much each of them decreased in 2020 relative to 2019?"
   ]
  },
  {
   "cell_type": "markdown",
   "metadata": {},
   "source": [
    "As specified in the ReadMe file the worldwide averages will be done by first doing the averages of all cities in each country and the averages of all countries afterwards. Moreover, the time-related averages will be done in the same way, by doing the monthly average as the average of all days for each month and the average of all months to calculate the yearly average. This implies that we are giving every city and country the same weight and importance in the calculations. Any weighing factors can be included for other purposes/studies, such us city/country population, area or population density, among others.\n",
    "\n",
    "Therefore, in order to make the worldwide calculation we need several functions, namely: (i) one that calculates the monthly average in each city (monthly_city_pollutant()), (ii) one that calculates the monthly average in each country (monthly_country_pollutant()), (iii) one that calculates the yearly average in each country (yearly_country_pollutant()) and finally (iv) a function that calculates the yearly average of the world (yearly_world_pollutant()):"
   ]
  },
  {
   "cell_type": "code",
   "execution_count": 77,
   "metadata": {},
   "outputs": [],
   "source": [
    "def monthly_city_pollutant(df):\n",
    "    '''Returns a pandas.DataFrame with the monthly average of pollutants for every city in the input data\n",
    "    \n",
    "    INPUT: dataframe with pollution data with the form of df dataframe\n",
    "    OUTPUT: dataframe with the monthly average of pollutants for every city in the input data'''\n",
    "    print('Implementing function: monthly_city_pollutant')\n",
    "    final_df = pd.DataFrame()\n",
    "   \n",
    "    pollutants = df.Pollutant.unique()\n",
    "    for pollutant in pollutants:\n",
    "        pollutant_df = df[df.Pollutant == pollutant]\n",
    "        countries = pollutant_df.Country.unique()\n",
    "        for country in countries:\n",
    "            country_df = pollutant_df[pollutant_df.Country == country]\n",
    "            cities_country = country_df.City.unique()\n",
    "            for city in cities_country:\n",
    "                city_df = country_df[country_df.City == city]\n",
    "                years = city_df.Date.dt.year.unique()\n",
    "                for year in years:\n",
    "                    year_df = city_df[city_df.Date.dt.year == year]\n",
    "                    months = year_df.Date.dt.month.unique()\n",
    "                    for month in months:\n",
    "                        #Dataframe with a particular city in a given country\n",
    "                        month_df = year_df[year_df.Date.dt.month == month]\n",
    "                            \n",
    "                        mean_ser = month_df['median']\n",
    "                        date_string = '{}/{}'.format(year, month)\n",
    "                            \n",
    "                        #Standard deviation\n",
    "                        std_dev = np.std(month_df['median'])\n",
    "                        no_days_per_month = month_df.Date.count()\n",
    "                            \n",
    "                        std_dev_mean = std_dev/np.sqrt(no_days_per_month)\n",
    "                            \n",
    "                        ## T-test confidence interval\n",
    "                        alpha= 0.95\n",
    "                        error_95th = stats.t.interval(df=no_days_per_month-1, alpha=alpha)[1] * std_dev_mean\n",
    "                        # Note: months that only have one measurement will be given a NaN value by the t-test and thus, won't be taken into account further\n",
    "                        \n",
    "                                    \n",
    "                            \n",
    "                        temp_df = pd.DataFrame(data={'Date':datetime.strptime(date_string, '%Y/%m'), 'Country': country, 'Country_name': month_df.Country_name.unique()[0], \\\n",
    "                                                     'cou_pop_density': month_df.cou_pop_density.unique()[0], 'City': city, 'Pollutant': pollutant, 'No_points': no_days_per_month, \\\n",
    "                                                     'AQI': [mean_ser.mean()], 'std_dev': std_dev_mean, 'conf_interval_95%': error_95th})\n",
    "                        #print(temp_df)\n",
    "                        final_df = pd.concat([final_df, temp_df])\n",
    "                        \n",
    "                        \n",
    "                           \n",
    "    return final_df.reset_index().drop('index', axis=1)\n",
    "    "
   ]
  },
  {
   "cell_type": "code",
   "execution_count": 78,
   "metadata": {},
   "outputs": [],
   "source": [
    "def monthly_country_pollutant(df):\n",
    "    '''This function calculates the monthly AQI average for each pollutant present in the table for the inserted countries and for all the available years in the dataset.\n",
    "    \n",
    "    INPUT: df: pd.DataFrame. If the dataframe is the output from montly_city_pollutant() (containing an \"AQI\" column) then the monthly_country_pollutant() is directly applied.\n",
    "                If the dataframe is the original dataframe with the daily AQI values, then monthly_city_pollutant() is applied first and then monthly_country_pollutant() is applied.\n",
    "                To avoid long runtimes it is adviced to use the monthly_city_pollutant() output as an input for the function.\n",
    "    OUTPUT: pd.DataFrame with the monthly AQI average for each country and pollutant '''\n",
    "    \n",
    "    if 'AQI' not in df.columns: #already treated dataframe with city means. See monthly_city_pollutant() function\n",
    "        inp = input('''Beware: inserting the original DataFrame will imply a long runtime process (> 10 min). It is advised\n",
    "                    to use the returned DataFrame after applying the monthly_city_pollutant() function. Do you want to continue anyway?\\n\n",
    "                    Type \"y\" for Yes\\n\n",
    "                    Type \"n\" for No\\n''')\n",
    "        \n",
    "        if inp == 'Y':\n",
    "            print('Implementing function: monthly_city_pollutant. This may take a while.')\n",
    "            df = monthly_city_pollutant(df)\n",
    "            \n",
    "        else:\n",
    "            return\n",
    "        \n",
    "    print('Implementing function: monthly_country_pollutant')\n",
    "    city_df = df\n",
    "    final_df = pd.DataFrame()\n",
    "    years = np.sort(city_df.Date.dt.year.unique())\n",
    "    for year in years:\n",
    "        year_df = city_df[city_df.Date.dt.year == year]\n",
    "        months = year_df.Date.dt.month.unique()\n",
    "        for month in months:\n",
    "            month_df = year_df[year_df.Date.dt.month == month]\n",
    "            countries = month_df.Country.unique()\n",
    "            for country in countries:\n",
    "                country_df = month_df[month_df.Country == country]\n",
    "                pollutants = country_df.Pollutant.unique()\n",
    "\n",
    "                # Calculation of the yearly mean for each pollutant:\n",
    "                for pollutant in pollutants:\n",
    "                    pollutant_df = country_df[country_df.Pollutant == pollutant]\n",
    "\n",
    "                    # Yearly mean of the AQI for a particular pollutant and country\n",
    "                    mean_yearly_pollutant = pollutant_df['AQI'].mean() \n",
    "\n",
    "                    # Standard deviation of the mean yearly pollutant. Assuming i.i.d i.e Cov = 0\n",
    "                    std_dev_mean = np.sqrt((pollutant_df.std_dev ** 2).sum())/pollutant_df.shape[0] # Propagation of std. deviations for the mean\n",
    "                    no_points = pollutant_df.shape[0]\n",
    "\n",
    "                    total_no_points = pollutant_df.No_points.sum()\n",
    "                    #T-test confidence interval calculation\n",
    "                    if no_points == 1: # If the country has only 1 city per month, then use their original intervals and errors\n",
    "                        error_95th = pollutant_df['conf_interval_95%']\n",
    "                    else:\n",
    "                        alpha= 0.95\n",
    "                        error_95th = stats.t.interval(df=no_points-1, alpha=alpha)[1] * std_dev_mean\n",
    "\n",
    "                    date_string = '{}/{}'.format(year, month)\n",
    "                    temp_df = pd.DataFrame({'Date': datetime.strptime(date_string, '%Y/%m'), 'Country': country, 'Country_name': pollutant_df.Country_name.unique()[0], \\\n",
    "                                                'cou_pop_density': pollutant_df.cou_pop_density.unique()[0],'Total_no_points': total_no_points, \\\n",
    "                                                    'No_points': no_points, 'Pollutant': pollutant, 'AQI': [mean_yearly_pollutant], 'std_dev': std_dev_mean, 'conf_interval_95%': error_95th})\n",
    "                    final_df = pd.concat([final_df, temp_df])\n",
    "\n",
    "\n",
    "                \n",
    "\n",
    "                        \n",
    "                           \n",
    "    return final_df.reset_index().drop('index', axis=1)\n",
    "       \n",
    "    "
   ]
  },
  {
   "cell_type": "code",
   "execution_count": 79,
   "metadata": {},
   "outputs": [],
   "source": [
    "def yearly_country_pollutant(data):\n",
    "    '''This function calculates the yearly AQI average for each pollutant and each country for all the available years in the dataset.\n",
    "    \n",
    "    INPUT: pd.DataFrame. Either the original dataset or the output from monthly_city_pollutant()\n",
    "    OUTPU: pd.DataFrame with the yearly AQI average for each pollutant and country'''\n",
    "    \n",
    "    cou_df = monthly_country_pollutant(data)\n",
    "    if cou_df is not None:\n",
    "        print('Implementing function: yearly_country_pollutant')\n",
    "\n",
    "        final_df = pd.DataFrame()\n",
    "        years = np.sort(cou_df.Date.dt.year.unique())\n",
    "        for year in years:\n",
    "            year_df = cou_df[cou_df.Date.dt.year == year]\n",
    "            countries = year_df.Country.unique()\n",
    "            for country in countries:\n",
    "                country_df = year_df[year_df.Country == country]\n",
    "                pollutants = country_df.Pollutant.unique()\n",
    "\n",
    "                # Calculation of the yearly mean for each pollutant:\n",
    "                for pollutant in pollutants:\n",
    "                    pollutant_df = country_df[country_df.Pollutant == pollutant]\n",
    "\n",
    "                    # Yearly mean of the AQI for a particular pollutant and country\n",
    "                    mean_yearly_pollutant = pollutant_df['AQI'].mean() \n",
    "\n",
    "                    # Standard deviation of the mean yearly pollutant. Assuming i.i.d i.e Cov = 0\n",
    "                    std_dev_mean = np.sqrt((pollutant_df.std_dev ** 2).sum())/pollutant_df.shape[0] # Propagation of std. deviations for the mean\n",
    "                    no_points = pollutant_df.shape[0]\n",
    "\n",
    "                    total_no_points = pollutant_df.No_points.sum()\n",
    "                    #T-test confidence interval calculation\n",
    "                    if no_points == 1:\n",
    "                        error_95th = pollutant_df['conf_interval_95%'].values\n",
    "                    else:\n",
    "                        alpha= 0.95\n",
    "                        error_95th = stats.t.interval(df=no_points-1, alpha=alpha)[1] * std_dev_mean\n",
    "\n",
    "                    # Calculation of the overall AQI (max of the individual pollutant AQIs)\n",
    "\n",
    "                    date_string = '{}'.format(year)\n",
    "                    temp_df = pd.DataFrame({'Date': datetime.strptime(date_string, '%Y'), 'Country': country, 'Country_name': pollutant_df.Country_name.unique()[0], \\\n",
    "                                            'cou_pop_density': pollutant_df.cou_pop_density.unique()[0], 'Total_no_points': total_no_points, \\\n",
    "                                                'No_points': no_points, 'Pollutant': pollutant, 'AQI': [mean_yearly_pollutant], 'std_dev': std_dev_mean, 'conf_interval_95%': error_95th})\n",
    "                    final_df = pd.concat([final_df, temp_df])    \n",
    "\n",
    "        return final_df.reset_index().drop('index', axis=1)"
   ]
  },
  {
   "cell_type": "code",
   "execution_count": 80,
   "metadata": {},
   "outputs": [],
   "source": [
    "def yearly_world_pollutant(df):\n",
    "    '''This function calculates the worldwide yearly AQI average for each pollutant for all the available years in the dataset.\n",
    "    \n",
    "    INPUT: pd.DataFrame. Either the original dataset or the output from monthly_city_pollutant()\n",
    "    OUTPU: pd.DataFrame with the worldwide yearly AQI average for each pollutant'''\n",
    "    \n",
    "    cou_df = yearly_country_pollutant(df)\n",
    "    if cou_df is not None:\n",
    "        print('Implementing function: yearly_world_pollutant')\n",
    "\n",
    "        final_df = pd.DataFrame()\n",
    "        years = np.sort(cou_df.Date.dt.year.unique())\n",
    "        for year in years:\n",
    "            year_df = cou_df[cou_df.Date.dt.year == year]\n",
    "            pollutants = year_df.Pollutant.unique()\n",
    "\n",
    "            # Calculation of the yearly mean for each pollutant:\n",
    "            for pollutant in pollutants:\n",
    "                pollutant_df = year_df[year_df.Pollutant == pollutant]\n",
    "\n",
    "                # Yearly weighted mean of the AQI for a particular pollutant and country\n",
    "                mean_yearly_pollutant = pollutant_df['AQI'].mean() \n",
    "                #country_weights = pollutant_df.cou_pop_density/pollutant_df.cou_pop_density.sum()\n",
    "                #mean_yearly_pollutant = np.sum(country_weights.values * pollutant_df.AQI.values)\n",
    "\n",
    "                # Standard deviation of the worldwide mean yearly pollutant. Assuming i.i.d i.e Cov = 0\n",
    "                std_dev_mean = np.sqrt((pollutant_df.std_dev ** 2).sum())/pollutant_df.shape[0] # Propagation of std. deviations for the mean\n",
    "                no_points = pollutant_df.shape[0]\n",
    "\n",
    "                total_no_points = pollutant_df.No_points.sum()\n",
    "                #T-test confidence interval calculation\n",
    "                alpha= 0.95\n",
    "                error_95th = stats.t.interval(df=no_points-1, alpha=alpha)[1] * std_dev_mean\n",
    "\n",
    "                date_string = '{}'.format(year)\n",
    "                temp_df = pd.DataFrame({'Date': datetime.strptime(date_string, '%Y'), 'Total_no_points': total_no_points, \\\n",
    "                                                'No_points': no_points, 'Pollutant': pollutant, 'AQI': [mean_yearly_pollutant], 'std_dev': std_dev_mean, 'conf_interval_95%': error_95th})\n",
    "                final_df = pd.concat([final_df, temp_df])    \n",
    "\n",
    "        return final_df.reset_index().drop('index', axis=1)\n",
    "    "
   ]
  },
  {
   "cell_type": "markdown",
   "metadata": {},
   "source": [
    "### Pollutant proportions in 2019-2021"
   ]
  },
  {
   "cell_type": "markdown",
   "metadata": {},
   "source": [
    "The computation of the monthly averages for each city in the world can take a relatively long time (7-13 minutes). Therefore, it is better to calculate this function first and use it as our input dataframe for future functions:"
   ]
  },
  {
   "cell_type": "code",
   "execution_count": 81,
   "metadata": {},
   "outputs": [
    {
     "name": "stdout",
     "output_type": "stream",
     "text": [
      "Implementing function: monthly_city_pollutant\n",
      "Wall time: 10min 9s\n"
     ]
    }
   ],
   "source": [
    "%%time\n",
    "month_city_pollut_df = monthly_city_pollutant(df)"
   ]
  },
  {
   "cell_type": "code",
   "execution_count": 82,
   "metadata": {},
   "outputs": [
    {
     "data": {
      "text/plain": [
       "Date                 False\n",
       "Country              False\n",
       "Country_name         False\n",
       "cou_pop_density      False\n",
       "City                 False\n",
       "Pollutant            False\n",
       "No_points            False\n",
       "AQI                  False\n",
       "std_dev              False\n",
       "conf_interval_95%     True\n",
       "dtype: bool"
      ]
     },
     "execution_count": 82,
     "metadata": {},
     "output_type": "execute_result"
    }
   ],
   "source": [
    "month_city_pollut_df.isna().any()"
   ]
  },
  {
   "cell_type": "code",
   "execution_count": 83,
   "metadata": {},
   "outputs": [
    {
     "data": {
      "text/plain": [
       "(75596, 10)"
      ]
     },
     "execution_count": 83,
     "metadata": {},
     "output_type": "execute_result"
    }
   ],
   "source": [
    "month_city_pollut_df.shape"
   ]
  },
  {
   "cell_type": "code",
   "execution_count": 84,
   "metadata": {},
   "outputs": [
    {
     "data": {
      "text/html": [
       "<div>\n",
       "<style scoped>\n",
       "    .dataframe tbody tr th:only-of-type {\n",
       "        vertical-align: middle;\n",
       "    }\n",
       "\n",
       "    .dataframe tbody tr th {\n",
       "        vertical-align: top;\n",
       "    }\n",
       "\n",
       "    .dataframe thead th {\n",
       "        text-align: right;\n",
       "    }\n",
       "</style>\n",
       "<table border=\"1\" class=\"dataframe\">\n",
       "  <thead>\n",
       "    <tr style=\"text-align: right;\">\n",
       "      <th></th>\n",
       "      <th>Date</th>\n",
       "      <th>Country</th>\n",
       "      <th>Country_name</th>\n",
       "      <th>cou_pop_density</th>\n",
       "      <th>City</th>\n",
       "      <th>Pollutant</th>\n",
       "      <th>No_points</th>\n",
       "      <th>AQI</th>\n",
       "      <th>std_dev</th>\n",
       "      <th>conf_interval_95%</th>\n",
       "    </tr>\n",
       "  </thead>\n",
       "  <tbody>\n",
       "    <tr>\n",
       "      <th>1359</th>\n",
       "      <td>2019-01-01</td>\n",
       "      <td>IL</td>\n",
       "      <td>Israel</td>\n",
       "      <td>410.480591</td>\n",
       "      <td>Tel Aviv</td>\n",
       "      <td>pm10</td>\n",
       "      <td>1</td>\n",
       "      <td>18.0</td>\n",
       "      <td>0.0</td>\n",
       "      <td>NaN</td>\n",
       "    </tr>\n",
       "    <tr>\n",
       "      <th>1441</th>\n",
       "      <td>2019-01-01</td>\n",
       "      <td>IL</td>\n",
       "      <td>Israel</td>\n",
       "      <td>410.480591</td>\n",
       "      <td>Netanya</td>\n",
       "      <td>pm10</td>\n",
       "      <td>1</td>\n",
       "      <td>18.0</td>\n",
       "      <td>0.0</td>\n",
       "      <td>NaN</td>\n",
       "    </tr>\n",
       "    <tr>\n",
       "      <th>1450</th>\n",
       "      <td>2020-07-01</td>\n",
       "      <td>IL</td>\n",
       "      <td>Israel</td>\n",
       "      <td>410.480591</td>\n",
       "      <td>Netanya</td>\n",
       "      <td>pm10</td>\n",
       "      <td>1</td>\n",
       "      <td>8.0</td>\n",
       "      <td>0.0</td>\n",
       "      <td>NaN</td>\n",
       "    </tr>\n",
       "    <tr>\n",
       "      <th>1454</th>\n",
       "      <td>2019-01-01</td>\n",
       "      <td>IL</td>\n",
       "      <td>Israel</td>\n",
       "      <td>410.480591</td>\n",
       "      <td>Petaẖ Tiqwa</td>\n",
       "      <td>pm10</td>\n",
       "      <td>1</td>\n",
       "      <td>18.0</td>\n",
       "      <td>0.0</td>\n",
       "      <td>NaN</td>\n",
       "    </tr>\n",
       "    <tr>\n",
       "      <th>1953</th>\n",
       "      <td>2020-01-01</td>\n",
       "      <td>IN</td>\n",
       "      <td>India</td>\n",
       "      <td>454.938073</td>\n",
       "      <td>Patna</td>\n",
       "      <td>pm10</td>\n",
       "      <td>1</td>\n",
       "      <td>66.0</td>\n",
       "      <td>0.0</td>\n",
       "      <td>NaN</td>\n",
       "    </tr>\n",
       "    <tr>\n",
       "      <th>...</th>\n",
       "      <td>...</td>\n",
       "      <td>...</td>\n",
       "      <td>...</td>\n",
       "      <td>...</td>\n",
       "      <td>...</td>\n",
       "      <td>...</td>\n",
       "      <td>...</td>\n",
       "      <td>...</td>\n",
       "      <td>...</td>\n",
       "      <td>...</td>\n",
       "    </tr>\n",
       "    <tr>\n",
       "      <th>71885</th>\n",
       "      <td>2019-04-01</td>\n",
       "      <td>SA</td>\n",
       "      <td>Saudi Arabia</td>\n",
       "      <td>15.676654</td>\n",
       "      <td>Abha</td>\n",
       "      <td>co</td>\n",
       "      <td>1</td>\n",
       "      <td>0.0</td>\n",
       "      <td>0.0</td>\n",
       "      <td>NaN</td>\n",
       "    </tr>\n",
       "    <tr>\n",
       "      <th>72153</th>\n",
       "      <td>2021-02-01</td>\n",
       "      <td>PH</td>\n",
       "      <td>Philippines</td>\n",
       "      <td>357.688305</td>\n",
       "      <td>Zamboanga</td>\n",
       "      <td>co</td>\n",
       "      <td>1</td>\n",
       "      <td>22.3</td>\n",
       "      <td>0.0</td>\n",
       "      <td>NaN</td>\n",
       "    </tr>\n",
       "    <tr>\n",
       "      <th>72233</th>\n",
       "      <td>2020-03-01</td>\n",
       "      <td>VN</td>\n",
       "      <td>Viet Nam</td>\n",
       "      <td>308.125246</td>\n",
       "      <td>Hạ Long</td>\n",
       "      <td>co</td>\n",
       "      <td>1</td>\n",
       "      <td>8.0</td>\n",
       "      <td>0.0</td>\n",
       "      <td>NaN</td>\n",
       "    </tr>\n",
       "    <tr>\n",
       "      <th>74507</th>\n",
       "      <td>2019-11-01</td>\n",
       "      <td>PL</td>\n",
       "      <td>Poland</td>\n",
       "      <td>124.031584</td>\n",
       "      <td>Kielce</td>\n",
       "      <td>co</td>\n",
       "      <td>1</td>\n",
       "      <td>16.3</td>\n",
       "      <td>0.0</td>\n",
       "      <td>NaN</td>\n",
       "    </tr>\n",
       "    <tr>\n",
       "      <th>75017</th>\n",
       "      <td>2020-10-01</td>\n",
       "      <td>ZA</td>\n",
       "      <td>South Africa</td>\n",
       "      <td>47.630120</td>\n",
       "      <td>Worcester</td>\n",
       "      <td>co</td>\n",
       "      <td>1</td>\n",
       "      <td>0.2</td>\n",
       "      <td>0.0</td>\n",
       "      <td>NaN</td>\n",
       "    </tr>\n",
       "  </tbody>\n",
       "</table>\n",
       "<p>238 rows × 10 columns</p>\n",
       "</div>"
      ],
      "text/plain": [
       "            Date Country  Country_name  cou_pop_density         City  \\\n",
       "1359  2019-01-01      IL        Israel       410.480591     Tel Aviv   \n",
       "1441  2019-01-01      IL        Israel       410.480591      Netanya   \n",
       "1450  2020-07-01      IL        Israel       410.480591      Netanya   \n",
       "1454  2019-01-01      IL        Israel       410.480591  Petaẖ Tiqwa   \n",
       "1953  2020-01-01      IN         India       454.938073        Patna   \n",
       "...          ...     ...           ...              ...          ...   \n",
       "71885 2019-04-01      SA  Saudi Arabia        15.676654         Abha   \n",
       "72153 2021-02-01      PH   Philippines       357.688305    Zamboanga   \n",
       "72233 2020-03-01      VN      Viet Nam       308.125246      Hạ Long   \n",
       "74507 2019-11-01      PL        Poland       124.031584       Kielce   \n",
       "75017 2020-10-01      ZA  South Africa        47.630120    Worcester   \n",
       "\n",
       "      Pollutant  No_points   AQI  std_dev  conf_interval_95%  \n",
       "1359       pm10          1  18.0      0.0                NaN  \n",
       "1441       pm10          1  18.0      0.0                NaN  \n",
       "1450       pm10          1   8.0      0.0                NaN  \n",
       "1454       pm10          1  18.0      0.0                NaN  \n",
       "1953       pm10          1  66.0      0.0                NaN  \n",
       "...         ...        ...   ...      ...                ...  \n",
       "71885        co          1   0.0      0.0                NaN  \n",
       "72153        co          1  22.3      0.0                NaN  \n",
       "72233        co          1   8.0      0.0                NaN  \n",
       "74507        co          1  16.3      0.0                NaN  \n",
       "75017        co          1   0.2      0.0                NaN  \n",
       "\n",
       "[238 rows x 10 columns]"
      ]
     },
     "execution_count": 84,
     "metadata": {},
     "output_type": "execute_result"
    }
   ],
   "source": [
    "month_city_pollut_df[month_city_pollut_df.No_points == 1]"
   ]
  },
  {
   "cell_type": "markdown",
   "metadata": {},
   "source": [
    "Now we calculate the worldwide average of each pollutant per year with the yearly_world_pollutant() function:"
   ]
  },
  {
   "cell_type": "code",
   "execution_count": 87,
   "metadata": {},
   "outputs": [
    {
     "name": "stdout",
     "output_type": "stream",
     "text": [
      "Implementing function: monthly_country_pollutant\n",
      "Implementing function: yearly_country_pollutant\n",
      "Implementing function: yearly_world_pollutant\n",
      "Wall time: 40 s\n"
     ]
    }
   ],
   "source": [
    "%%time\n",
    "year_world_pollut_df = yearly_world_pollutant(month_city_pollut_df)"
   ]
  },
  {
   "cell_type": "code",
   "execution_count": 88,
   "metadata": {},
   "outputs": [
    {
     "data": {
      "text/html": [
       "<div>\n",
       "<style scoped>\n",
       "    .dataframe tbody tr th:only-of-type {\n",
       "        vertical-align: middle;\n",
       "    }\n",
       "\n",
       "    .dataframe tbody tr th {\n",
       "        vertical-align: top;\n",
       "    }\n",
       "\n",
       "    .dataframe thead th {\n",
       "        text-align: right;\n",
       "    }\n",
       "</style>\n",
       "<table border=\"1\" class=\"dataframe\">\n",
       "  <thead>\n",
       "    <tr style=\"text-align: right;\">\n",
       "      <th></th>\n",
       "      <th>Date</th>\n",
       "      <th>Total_no_points</th>\n",
       "      <th>No_points</th>\n",
       "      <th>Pollutant</th>\n",
       "      <th>AQI</th>\n",
       "      <th>std_dev</th>\n",
       "      <th>conf_interval_95%</th>\n",
       "    </tr>\n",
       "  </thead>\n",
       "  <tbody>\n",
       "    <tr>\n",
       "      <th>0</th>\n",
       "      <td>2019-01-01</td>\n",
       "      <td>765</td>\n",
       "      <td>69</td>\n",
       "      <td>pm10</td>\n",
       "      <td>27.234666</td>\n",
       "      <td>0.219192</td>\n",
       "      <td>0.437390</td>\n",
       "    </tr>\n",
       "    <tr>\n",
       "      <th>1</th>\n",
       "      <td>2019-01-01</td>\n",
       "      <td>680</td>\n",
       "      <td>62</td>\n",
       "      <td>o3</td>\n",
       "      <td>18.037123</td>\n",
       "      <td>0.121130</td>\n",
       "      <td>0.242215</td>\n",
       "    </tr>\n",
       "    <tr>\n",
       "      <th>2</th>\n",
       "      <td>2019-01-01</td>\n",
       "      <td>696</td>\n",
       "      <td>62</td>\n",
       "      <td>so2</td>\n",
       "      <td>6.197514</td>\n",
       "      <td>0.114041</td>\n",
       "      <td>0.228038</td>\n",
       "    </tr>\n",
       "    <tr>\n",
       "      <th>3</th>\n",
       "      <td>2019-01-01</td>\n",
       "      <td>944</td>\n",
       "      <td>88</td>\n",
       "      <td>pm25</td>\n",
       "      <td>64.531777</td>\n",
       "      <td>0.273204</td>\n",
       "      <td>0.543023</td>\n",
       "    </tr>\n",
       "    <tr>\n",
       "      <th>4</th>\n",
       "      <td>2019-01-01</td>\n",
       "      <td>696</td>\n",
       "      <td>62</td>\n",
       "      <td>no2</td>\n",
       "      <td>10.366916</td>\n",
       "      <td>0.121211</td>\n",
       "      <td>0.242375</td>\n",
       "    </tr>\n",
       "    <tr>\n",
       "      <th>5</th>\n",
       "      <td>2019-01-01</td>\n",
       "      <td>607</td>\n",
       "      <td>55</td>\n",
       "      <td>co</td>\n",
       "      <td>4.275795</td>\n",
       "      <td>0.040639</td>\n",
       "      <td>0.081476</td>\n",
       "    </tr>\n",
       "    <tr>\n",
       "      <th>6</th>\n",
       "      <td>2020-01-01</td>\n",
       "      <td>814</td>\n",
       "      <td>70</td>\n",
       "      <td>pm10</td>\n",
       "      <td>25.684953</td>\n",
       "      <td>0.073564</td>\n",
       "      <td>0.146755</td>\n",
       "    </tr>\n",
       "    <tr>\n",
       "      <th>7</th>\n",
       "      <td>2020-01-01</td>\n",
       "      <td>707</td>\n",
       "      <td>62</td>\n",
       "      <td>o3</td>\n",
       "      <td>17.167911</td>\n",
       "      <td>0.031999</td>\n",
       "      <td>0.063986</td>\n",
       "    </tr>\n",
       "    <tr>\n",
       "      <th>8</th>\n",
       "      <td>2020-01-01</td>\n",
       "      <td>745</td>\n",
       "      <td>64</td>\n",
       "      <td>so2</td>\n",
       "      <td>3.689365</td>\n",
       "      <td>0.025244</td>\n",
       "      <td>0.050445</td>\n",
       "    </tr>\n",
       "    <tr>\n",
       "      <th>9</th>\n",
       "      <td>2020-01-01</td>\n",
       "      <td>1050</td>\n",
       "      <td>91</td>\n",
       "      <td>pm25</td>\n",
       "      <td>58.536314</td>\n",
       "      <td>0.108612</td>\n",
       "      <td>0.215776</td>\n",
       "    </tr>\n",
       "    <tr>\n",
       "      <th>10</th>\n",
       "      <td>2020-01-01</td>\n",
       "      <td>741</td>\n",
       "      <td>64</td>\n",
       "      <td>no2</td>\n",
       "      <td>8.413132</td>\n",
       "      <td>0.019270</td>\n",
       "      <td>0.038507</td>\n",
       "    </tr>\n",
       "    <tr>\n",
       "      <th>11</th>\n",
       "      <td>2020-01-01</td>\n",
       "      <td>649</td>\n",
       "      <td>58</td>\n",
       "      <td>co</td>\n",
       "      <td>4.866214</td>\n",
       "      <td>0.057437</td>\n",
       "      <td>0.115015</td>\n",
       "    </tr>\n",
       "    <tr>\n",
       "      <th>12</th>\n",
       "      <td>2021-01-01</td>\n",
       "      <td>204</td>\n",
       "      <td>69</td>\n",
       "      <td>pm10</td>\n",
       "      <td>29.471080</td>\n",
       "      <td>0.172859</td>\n",
       "      <td>0.344934</td>\n",
       "    </tr>\n",
       "    <tr>\n",
       "      <th>13</th>\n",
       "      <td>2021-01-01</td>\n",
       "      <td>178</td>\n",
       "      <td>60</td>\n",
       "      <td>o3</td>\n",
       "      <td>16.310677</td>\n",
       "      <td>0.065043</td>\n",
       "      <td>0.130150</td>\n",
       "    </tr>\n",
       "    <tr>\n",
       "      <th>14</th>\n",
       "      <td>2021-01-01</td>\n",
       "      <td>189</td>\n",
       "      <td>64</td>\n",
       "      <td>so2</td>\n",
       "      <td>4.016208</td>\n",
       "      <td>0.025726</td>\n",
       "      <td>0.051409</td>\n",
       "    </tr>\n",
       "    <tr>\n",
       "      <th>15</th>\n",
       "      <td>2021-01-01</td>\n",
       "      <td>266</td>\n",
       "      <td>91</td>\n",
       "      <td>pm25</td>\n",
       "      <td>72.469979</td>\n",
       "      <td>0.313373</td>\n",
       "      <td>0.622570</td>\n",
       "    </tr>\n",
       "    <tr>\n",
       "      <th>16</th>\n",
       "      <td>2021-01-01</td>\n",
       "      <td>184</td>\n",
       "      <td>62</td>\n",
       "      <td>no2</td>\n",
       "      <td>10.219267</td>\n",
       "      <td>0.042108</td>\n",
       "      <td>0.084199</td>\n",
       "    </tr>\n",
       "    <tr>\n",
       "      <th>17</th>\n",
       "      <td>2021-01-01</td>\n",
       "      <td>171</td>\n",
       "      <td>59</td>\n",
       "      <td>co</td>\n",
       "      <td>4.646566</td>\n",
       "      <td>0.026084</td>\n",
       "      <td>0.052214</td>\n",
       "    </tr>\n",
       "  </tbody>\n",
       "</table>\n",
       "</div>"
      ],
      "text/plain": [
       "         Date  Total_no_points  No_points Pollutant        AQI   std_dev  \\\n",
       "0  2019-01-01              765         69      pm10  27.234666  0.219192   \n",
       "1  2019-01-01              680         62        o3  18.037123  0.121130   \n",
       "2  2019-01-01              696         62       so2   6.197514  0.114041   \n",
       "3  2019-01-01              944         88      pm25  64.531777  0.273204   \n",
       "4  2019-01-01              696         62       no2  10.366916  0.121211   \n",
       "5  2019-01-01              607         55        co   4.275795  0.040639   \n",
       "6  2020-01-01              814         70      pm10  25.684953  0.073564   \n",
       "7  2020-01-01              707         62        o3  17.167911  0.031999   \n",
       "8  2020-01-01              745         64       so2   3.689365  0.025244   \n",
       "9  2020-01-01             1050         91      pm25  58.536314  0.108612   \n",
       "10 2020-01-01              741         64       no2   8.413132  0.019270   \n",
       "11 2020-01-01              649         58        co   4.866214  0.057437   \n",
       "12 2021-01-01              204         69      pm10  29.471080  0.172859   \n",
       "13 2021-01-01              178         60        o3  16.310677  0.065043   \n",
       "14 2021-01-01              189         64       so2   4.016208  0.025726   \n",
       "15 2021-01-01              266         91      pm25  72.469979  0.313373   \n",
       "16 2021-01-01              184         62       no2  10.219267  0.042108   \n",
       "17 2021-01-01              171         59        co   4.646566  0.026084   \n",
       "\n",
       "    conf_interval_95%  \n",
       "0            0.437390  \n",
       "1            0.242215  \n",
       "2            0.228038  \n",
       "3            0.543023  \n",
       "4            0.242375  \n",
       "5            0.081476  \n",
       "6            0.146755  \n",
       "7            0.063986  \n",
       "8            0.050445  \n",
       "9            0.215776  \n",
       "10           0.038507  \n",
       "11           0.115015  \n",
       "12           0.344934  \n",
       "13           0.130150  \n",
       "14           0.051409  \n",
       "15           0.622570  \n",
       "16           0.084199  \n",
       "17           0.052214  "
      ]
     },
     "execution_count": 88,
     "metadata": {},
     "output_type": "execute_result"
    }
   ],
   "source": [
    "year_world_pollut_df"
   ]
  },
  {
   "cell_type": "markdown",
   "metadata": {},
   "source": [
    "With this dataframe we can now calculate the relative amounts per year of each pollutant:"
   ]
  },
  {
   "cell_type": "code",
   "execution_count": 89,
   "metadata": {},
   "outputs": [],
   "source": [
    "ratio_df = pd.DataFrame()\n",
    "for year in year_world_pollut_df.Date.dt.year.unique():\n",
    "    year_df = year_world_pollut_df[year_world_pollut_df.Date.dt.year == year]\n",
    "    \n",
    "    sum_AQI_year = year_df.AQI.sum()\n",
    "    std_dev_sum = np.sqrt(np.sum(year_df['std_dev'] ** 2)) # Propagation\n",
    "    \n",
    "    for pollutant in year_df.Pollutant.unique():\n",
    "        pollutant_df = year_df[year_df.Pollutant == pollutant]\n",
    "        \n",
    "        ratio = 100*((pollutant_df.AQI / sum_AQI_year)).values[0] #ratio of each pollutant with respect to the sum of all the AQIs of all pollutants\n",
    "        std_dev_ratio = ratio * np.sqrt((pollutant_df.std_dev / pollutant_df.AQI)**2 + (std_dev_sum  / sum_AQI_year)**2) # Propagation by Taylor approximation to first degree\n",
    "        no_points = pollutant_df.No_points\n",
    "        \n",
    "        #T-test confidence interval calculation\n",
    "        alpha= 0.95\n",
    "        error_95th = stats.t.interval(df=no_points-1, alpha=alpha)[1] * std_dev_ratio\n",
    "        \n",
    "        date_string = '{}'.format(year)\n",
    "        temp_df = pd.DataFrame({'Date': datetime.strptime(date_string, '%Y'), 'Pollutant': pollutant, 'rel_AQI': [ratio], 'std_dev': std_dev_ratio, 'conf_interval_95%': error_95th})\n",
    "        \n",
    "        ratio_df = pd.concat([ratio_df, temp_df])\n",
    "    "
   ]
  },
  {
   "cell_type": "code",
   "execution_count": 90,
   "metadata": {},
   "outputs": [
    {
     "data": {
      "text/html": [
       "<div>\n",
       "<style scoped>\n",
       "    .dataframe tbody tr th:only-of-type {\n",
       "        vertical-align: middle;\n",
       "    }\n",
       "\n",
       "    .dataframe tbody tr th {\n",
       "        vertical-align: top;\n",
       "    }\n",
       "\n",
       "    .dataframe thead th {\n",
       "        text-align: right;\n",
       "    }\n",
       "</style>\n",
       "<table border=\"1\" class=\"dataframe\">\n",
       "  <thead>\n",
       "    <tr style=\"text-align: right;\">\n",
       "      <th></th>\n",
       "      <th>Date</th>\n",
       "      <th>Pollutant</th>\n",
       "      <th>rel_AQI</th>\n",
       "      <th>std_dev</th>\n",
       "      <th>conf_interval_95%</th>\n",
       "    </tr>\n",
       "  </thead>\n",
       "  <tbody>\n",
       "    <tr>\n",
       "      <th>0</th>\n",
       "      <td>2019-01-01</td>\n",
       "      <td>pm10</td>\n",
       "      <td>20.846506</td>\n",
       "      <td>0.179984</td>\n",
       "      <td>0.359152</td>\n",
       "    </tr>\n",
       "    <tr>\n",
       "      <th>1</th>\n",
       "      <td>2019-01-01</td>\n",
       "      <td>o3</td>\n",
       "      <td>13.806338</td>\n",
       "      <td>0.102266</td>\n",
       "      <td>0.204494</td>\n",
       "    </tr>\n",
       "    <tr>\n",
       "      <th>2</th>\n",
       "      <td>2019-01-01</td>\n",
       "      <td>so2</td>\n",
       "      <td>4.743826</td>\n",
       "      <td>0.088541</td>\n",
       "      <td>0.177049</td>\n",
       "    </tr>\n",
       "    <tr>\n",
       "      <th>3</th>\n",
       "      <td>2019-01-01</td>\n",
       "      <td>pm25</td>\n",
       "      <td>49.395211</td>\n",
       "      <td>0.259929</td>\n",
       "      <td>0.516636</td>\n",
       "    </tr>\n",
       "    <tr>\n",
       "      <th>4</th>\n",
       "      <td>2019-01-01</td>\n",
       "      <td>no2</td>\n",
       "      <td>7.935254</td>\n",
       "      <td>0.096037</td>\n",
       "      <td>0.192037</td>\n",
       "    </tr>\n",
       "    <tr>\n",
       "      <th>5</th>\n",
       "      <td>2019-01-01</td>\n",
       "      <td>co</td>\n",
       "      <td>3.272865</td>\n",
       "      <td>0.032745</td>\n",
       "      <td>0.065650</td>\n",
       "    </tr>\n",
       "    <tr>\n",
       "      <th>6</th>\n",
       "      <td>2020-01-01</td>\n",
       "      <td>pm10</td>\n",
       "      <td>21.701091</td>\n",
       "      <td>0.067976</td>\n",
       "      <td>0.135609</td>\n",
       "    </tr>\n",
       "    <tr>\n",
       "      <th>7</th>\n",
       "      <td>2020-01-01</td>\n",
       "      <td>o3</td>\n",
       "      <td>14.505084</td>\n",
       "      <td>0.032703</td>\n",
       "      <td>0.065393</td>\n",
       "    </tr>\n",
       "    <tr>\n",
       "      <th>8</th>\n",
       "      <td>2020-01-01</td>\n",
       "      <td>so2</td>\n",
       "      <td>3.117126</td>\n",
       "      <td>0.021692</td>\n",
       "      <td>0.043347</td>\n",
       "    </tr>\n",
       "    <tr>\n",
       "      <th>9</th>\n",
       "      <td>2020-01-01</td>\n",
       "      <td>pm25</td>\n",
       "      <td>49.457044</td>\n",
       "      <td>0.111160</td>\n",
       "      <td>0.220838</td>\n",
       "    </tr>\n",
       "    <tr>\n",
       "      <th>10</th>\n",
       "      <td>2020-01-01</td>\n",
       "      <td>no2</td>\n",
       "      <td>7.108214</td>\n",
       "      <td>0.018611</td>\n",
       "      <td>0.037191</td>\n",
       "    </tr>\n",
       "    <tr>\n",
       "      <th>11</th>\n",
       "      <td>2020-01-01</td>\n",
       "      <td>co</td>\n",
       "      <td>4.111440</td>\n",
       "      <td>0.048807</td>\n",
       "      <td>0.097735</td>\n",
       "    </tr>\n",
       "    <tr>\n",
       "      <th>12</th>\n",
       "      <td>2021-01-01</td>\n",
       "      <td>pm10</td>\n",
       "      <td>21.490752</td>\n",
       "      <td>0.138618</td>\n",
       "      <td>0.276607</td>\n",
       "    </tr>\n",
       "    <tr>\n",
       "      <th>13</th>\n",
       "      <td>2021-01-01</td>\n",
       "      <td>o3</td>\n",
       "      <td>11.893990</td>\n",
       "      <td>0.057170</td>\n",
       "      <td>0.114397</td>\n",
       "    </tr>\n",
       "    <tr>\n",
       "      <th>14</th>\n",
       "      <td>2021-01-01</td>\n",
       "      <td>so2</td>\n",
       "      <td>2.928679</td>\n",
       "      <td>0.020340</td>\n",
       "      <td>0.040645</td>\n",
       "    </tr>\n",
       "    <tr>\n",
       "      <th>15</th>\n",
       "      <td>2021-01-01</td>\n",
       "      <td>pm25</td>\n",
       "      <td>52.846192</td>\n",
       "      <td>0.268945</td>\n",
       "      <td>0.534306</td>\n",
       "    </tr>\n",
       "    <tr>\n",
       "      <th>16</th>\n",
       "      <td>2021-01-01</td>\n",
       "      <td>no2</td>\n",
       "      <td>7.452042</td>\n",
       "      <td>0.036643</td>\n",
       "      <td>0.073273</td>\n",
       "    </tr>\n",
       "    <tr>\n",
       "      <th>17</th>\n",
       "      <td>2021-01-01</td>\n",
       "      <td>co</td>\n",
       "      <td>3.388346</td>\n",
       "      <td>0.021083</td>\n",
       "      <td>0.042202</td>\n",
       "    </tr>\n",
       "  </tbody>\n",
       "</table>\n",
       "</div>"
      ],
      "text/plain": [
       "         Date Pollutant    rel_AQI   std_dev  conf_interval_95%\n",
       "0  2019-01-01      pm10  20.846506  0.179984           0.359152\n",
       "1  2019-01-01        o3  13.806338  0.102266           0.204494\n",
       "2  2019-01-01       so2   4.743826  0.088541           0.177049\n",
       "3  2019-01-01      pm25  49.395211  0.259929           0.516636\n",
       "4  2019-01-01       no2   7.935254  0.096037           0.192037\n",
       "5  2019-01-01        co   3.272865  0.032745           0.065650\n",
       "6  2020-01-01      pm10  21.701091  0.067976           0.135609\n",
       "7  2020-01-01        o3  14.505084  0.032703           0.065393\n",
       "8  2020-01-01       so2   3.117126  0.021692           0.043347\n",
       "9  2020-01-01      pm25  49.457044  0.111160           0.220838\n",
       "10 2020-01-01       no2   7.108214  0.018611           0.037191\n",
       "11 2020-01-01        co   4.111440  0.048807           0.097735\n",
       "12 2021-01-01      pm10  21.490752  0.138618           0.276607\n",
       "13 2021-01-01        o3  11.893990  0.057170           0.114397\n",
       "14 2021-01-01       so2   2.928679  0.020340           0.040645\n",
       "15 2021-01-01      pm25  52.846192  0.268945           0.534306\n",
       "16 2021-01-01       no2   7.452042  0.036643           0.073273\n",
       "17 2021-01-01        co   3.388346  0.021083           0.042202"
      ]
     },
     "execution_count": 90,
     "metadata": {},
     "output_type": "execute_result"
    }
   ],
   "source": [
    "ratio_df"
   ]
  },
  {
   "cell_type": "code",
   "execution_count": 91,
   "metadata": {},
   "outputs": [
    {
     "data": {
      "text/plain": [
       "Text(0, 0.5, 'pollutant proportion (%)')"
      ]
     },
     "execution_count": 91,
     "metadata": {},
     "output_type": "execute_result"
    },
    {
     "data": {
      "image/png": "[encoded data removed]",
      "text/plain": [
       "<Figure size 432x288 with 1 Axes>"
      ]
     },
     "metadata": {
      "needs_background": "light"
     },
     "output_type": "display_data"
    }
   ],
   "source": [
    "# Relative amounts of each pollutant\n",
    "\n",
    "years = ratio_df.sort_values(by='rel_AQI').Date.dt.year\n",
    "year_world_pollut = ratio_df.sort_values(by='rel_AQI').rel_AQI\n",
    "hue = ratio_df.sort_values(by='rel_AQI').Pollutant\n",
    "\n",
    "sns.barplot(x=years, y=year_world_pollut, \\\n",
    "        alpha=1, hue=hue)\n",
    "\n",
    "plt.ylabel('pollutant proportion (%)')"
   ]
  },
  {
   "cell_type": "markdown",
   "metadata": {},
   "source": [
    "We can see the pollutant proportion each year stays approximately the same."
   ]
  },
  {
   "cell_type": "markdown",
   "metadata": {},
   "source": [
    "### Absolute amounts and relative changes in 2020 compared to 2019"
   ]
  },
  {
   "cell_type": "code",
   "execution_count": 92,
   "metadata": {},
   "outputs": [
    {
     "data": {
      "text/plain": [
       "<AxesSubplot:xlabel='Date', ylabel='AQI'>"
      ]
     },
     "execution_count": 92,
     "metadata": {},
     "output_type": "execute_result"
    },
    {
     "data": {
      "image/png": "[encoded data removed]",
      "text/plain": [
       "<Figure size 432x288 with 1 Axes>"
      ]
     },
     "metadata": {
      "needs_background": "light"
     },
     "output_type": "display_data"
    }
   ],
   "source": [
    "#Absolute amounts of each pollutant\n",
    "\n",
    "years = year_world_pollut_df.sort_values(by='AQI').Date.dt.year\n",
    "year_world_pollut = year_world_pollut_df.sort_values(by='AQI').AQI\n",
    "hue = year_world_pollut_df.sort_values(by='AQI').Pollutant\n",
    "\n",
    "sns.barplot(x=years, y=year_world_pollut, \\\n",
    "        alpha=1, hue=hue)"
   ]
  },
  {
   "cell_type": "code",
   "execution_count": 94,
   "metadata": {},
   "outputs": [],
   "source": [
    "def t_conf_interval_pollutants(df_a, df_b, percent=True, unequal_var=True, alpha=0.95):\n",
    "    '''Calculates the yearly relative change of the AQI for each pollutant for both input dataframes. The statistic is taken as AQI(df_a) - AQI(df_b).\n",
    "    INPUT: df_a, df_b: pd.Dataframe with the mean AQI values of the distributions we want to compare and the std_dev of those means\n",
    "            percent: if True a percent with its corresponding error is returned. If False, only the returned value is the difference of the mean of both df_a and df_b\n",
    "            unequal_var: if True a Welch's t-test is performed. If False population variances are assumed to be equal and thus a standard t-test is performed where the sample\n",
    "            variance is the pooled variance\n",
    "            alpha: represents the quantile to return in the confidence interval\n",
    "    OUTPUT: pd.DataFrame with the pollutant and confidence interval of the AQI difference for that pollutant'''\n",
    "    final_df = pd.DataFrame()\n",
    "    \n",
    "    for pollutant in df_a.Pollutant.unique():\n",
    "        pollut_a = df_a[df_a.Pollutant == pollutant].AQI.values[0]\n",
    "        pollut_b = df_b[df_b.Pollutant == pollutant].AQI.values[0]\n",
    "        \n",
    "        statistic = pollut_a - pollut_b\n",
    "    \n",
    "        std_a = df_a[df_a.Pollutant == pollutant].std_dev.values[0]\n",
    "        std_b = df_b[df_b.Pollutant == pollutant].std_dev.values[0]\n",
    "        \n",
    "        n_a = df_a[df_a.Pollutant == pollutant]['No_points'].values[0]\n",
    "        n_b = df_b[df_b.Pollutant == pollutant]['No_points'].values[0]\n",
    "\n",
    "        std_statistic = np.sqrt(std_a**2 + std_b**2) # APPLY POOLED VARIANCE\n",
    "        \n",
    "        if unequal_var:\n",
    "            #Apply Welch t-test method\n",
    "            std_statistic = np.sqrt(std_a**2 + std_b**2)\n",
    "            # Welch's degrees of freedom\n",
    "            degrees_freedom = (std_a**2+std_b**2)**2/(std_a**2/(n_a-1) + std_a**2/(n_b-1))\n",
    "        else:\n",
    "            # Apply standard method with pooled variance\n",
    "            std_statistic = np.sqrt(((n_a - 1)*std_a**2 + (n_b - 1)*std_b**2)/(n_a + n_b - 2))\n",
    "            degrees_freedom = n_a + n_b - 2\n",
    "            \n",
    "\n",
    "        # Calculate percentage with respect to the previous year\n",
    "        if percent:\n",
    "             # Calculate percentage with respect to the previous year\n",
    "            ratio = statistic/pollut_b\n",
    "            std_dev_ratio = ratio * np.sqrt((std_statistic / statistic)**2 + (std_b  / pollut_b)**2) # Propagation by Taylor approximation to first degree\n",
    "                \n",
    "            percent = ratio *100\n",
    "            std_percent = std_dev_ratio*100\n",
    "                \n",
    "            CI = [percent, std_percent]\n",
    "        if not percent:\n",
    "            # Calculate the difference between the mean of both years\n",
    "            error = stats.t.interval(df=degrees_freedom, alpha=alpha)[1] * std_statistic\n",
    "            CI = np.array([statistic, error])\n",
    "        temp_df = pd.DataFrame({'Years_compared':str(df_a.Date.dt.year.unique()[0])+'-'+str(df_b.Date.dt.year.unique()[0]) , 'Pollutant': pollutant, \\\n",
    "                                    'middle': CI[0], 'std_95th': [CI[1]]})\n",
    "        final_df = pd.concat([final_df, temp_df])\n",
    "            \n",
    "    return final_df.reset_index().drop('index', axis=1)"
   ]
  },
  {
   "cell_type": "code",
   "execution_count": 95,
   "metadata": {},
   "outputs": [],
   "source": [
    "df_pollut_19 = year_world_pollut_df[year_world_pollut_df.Date.dt.year == 2019].sort_values(by='Pollutant')\n",
    "df_pollut_20 = year_world_pollut_df[year_world_pollut_df.Date.dt.year == 2020].sort_values(by='Pollutant')"
   ]
  },
  {
   "cell_type": "code",
   "execution_count": 96,
   "metadata": {},
   "outputs": [
    {
     "data": {
      "text/html": [
       "<div>\n",
       "<style scoped>\n",
       "    .dataframe tbody tr th:only-of-type {\n",
       "        vertical-align: middle;\n",
       "    }\n",
       "\n",
       "    .dataframe tbody tr th {\n",
       "        vertical-align: top;\n",
       "    }\n",
       "\n",
       "    .dataframe thead th {\n",
       "        text-align: right;\n",
       "    }\n",
       "</style>\n",
       "<table border=\"1\" class=\"dataframe\">\n",
       "  <thead>\n",
       "    <tr style=\"text-align: right;\">\n",
       "      <th></th>\n",
       "      <th>Years_compared</th>\n",
       "      <th>Pollutant</th>\n",
       "      <th>middle</th>\n",
       "      <th>std_95th</th>\n",
       "    </tr>\n",
       "  </thead>\n",
       "  <tbody>\n",
       "    <tr>\n",
       "      <th>0</th>\n",
       "      <td>2020-2019</td>\n",
       "      <td>co</td>\n",
       "      <td>13.808394</td>\n",
       "      <td>1.650756</td>\n",
       "    </tr>\n",
       "    <tr>\n",
       "      <th>1</th>\n",
       "      <td>2020-2019</td>\n",
       "      <td>no2</td>\n",
       "      <td>-18.846337</td>\n",
       "      <td>-1.204220</td>\n",
       "    </tr>\n",
       "    <tr>\n",
       "      <th>2</th>\n",
       "      <td>2020-2019</td>\n",
       "      <td>o3</td>\n",
       "      <td>-4.819014</td>\n",
       "      <td>-0.695351</td>\n",
       "    </tr>\n",
       "    <tr>\n",
       "      <th>3</th>\n",
       "      <td>2020-2019</td>\n",
       "      <td>pm10</td>\n",
       "      <td>-5.690221</td>\n",
       "      <td>-0.850178</td>\n",
       "    </tr>\n",
       "    <tr>\n",
       "      <th>4</th>\n",
       "      <td>2020-2019</td>\n",
       "      <td>pm25</td>\n",
       "      <td>-9.290714</td>\n",
       "      <td>-0.457287</td>\n",
       "    </tr>\n",
       "    <tr>\n",
       "      <th>5</th>\n",
       "      <td>2020-2019</td>\n",
       "      <td>so2</td>\n",
       "      <td>-40.470246</td>\n",
       "      <td>-2.026439</td>\n",
       "    </tr>\n",
       "  </tbody>\n",
       "</table>\n",
       "</div>"
      ],
      "text/plain": [
       "  Years_compared Pollutant     middle  std_95th\n",
       "0      2020-2019        co  13.808394  1.650756\n",
       "1      2020-2019       no2 -18.846337 -1.204220\n",
       "2      2020-2019        o3  -4.819014 -0.695351\n",
       "3      2020-2019      pm10  -5.690221 -0.850178\n",
       "4      2020-2019      pm25  -9.290714 -0.457287\n",
       "5      2020-2019       so2 -40.470246 -2.026439"
      ]
     },
     "execution_count": 96,
     "metadata": {},
     "output_type": "execute_result"
    }
   ],
   "source": [
    "rel_pollut_19_20= t_conf_interval_pollutants(df_pollut_20, df_pollut_19)\n",
    "rel_pollut_19_20"
   ]
  },
  {
   "cell_type": "code",
   "execution_count": 97,
   "metadata": {},
   "outputs": [
    {
     "data": {
      "text/plain": [
       "<AxesSubplot:ylabel='Pollutant'>"
      ]
     },
     "execution_count": 97,
     "metadata": {},
     "output_type": "execute_result"
    },
    {
     "data": {
      "image/png": "[encoded data removed]",
      "text/plain": [
       "<Figure size 432x288 with 1 Axes>"
      ]
     },
     "metadata": {
      "needs_background": "light"
     },
     "output_type": "display_data"
    }
   ],
   "source": [
    "#Relative amounts of each pollutant\n",
    "\n",
    "pollutants = rel_pollut_19_20.Pollutant\n",
    "rel_pollut = rel_pollut_19_20.middle\n",
    "hue = rel_pollut_19_20.Pollutant\n",
    "\n",
    "rel_pollut_19_20.sort_values(by='middle').plot.barh(x='Pollutant', y='middle')\n",
    "\n",
    "#sns.barplot(x=pollutants, y=rel_pollut, \\\n",
    "#        alpha=1, hue=hue)"
   ]
  },
  {
   "cell_type": "markdown",
   "metadata": {},
   "source": [
    "# How has the overall AQI evolved since 2019 worldwide?"
   ]
  },
  {
   "cell_type": "markdown",
   "metadata": {},
   "source": [
    "In this section we will be looking at the overall AQI, which is stablished to be AQI = max(AQI$_1$, AQI$_2$,..., AQI$_n$), where AQI$_i$ is the AQI value for the ith pollutant. As before, the process is the same, but in this case we have to filter which pollutant specie is most present in each country. Note that, although worldwide PM$_{2.5}$ is above the rest, for particular countries it may not be the case.\n",
    "For these calculations the functions used are (i) month_city_pollutant(), (ii) monthly_country_AQI(), (iii) yearly_country_AQI() and (iv) yearly_world_AQI(). \n",
    "\n",
    "They are called in the following manner: month_city_pollutant() $\\rightarrow$ monthly_country_pollutant() $\\rightarrow$monthly_country_AQI() $\\rightarrow$ yearly_country_AQI() $\\rightarrow$ yearly_world_AQI()"
   ]
  },
  {
   "cell_type": "code",
   "execution_count": 98,
   "metadata": {},
   "outputs": [],
   "source": [
    "def monthly_country_AQI(data):\n",
    "    '''This function calculates the monthly overall AQI average for each country.\n",
    "    \n",
    "    INPUT: pd.DataFrame. Either the original dataset or the output from monthly_city_pollutant()\n",
    "    OUTPUT: pd.DataFrame with the monthly overall AQI average for each country'''\n",
    "    \n",
    "    #Initialize the correct Dataframe input\n",
    "    cou_df = monthly_country_pollutant(data)\n",
    "    if cou_df is not None:\n",
    "        print('Implementing function: monthly_country_AQI')\n",
    "\n",
    "        final_df = pd.DataFrame()\n",
    "        years = np.sort(cou_df.Date.dt.year.unique())\n",
    "        for year in years:\n",
    "            year_df = cou_df[cou_df.Date.dt.year == year]\n",
    "            countries = year_df.Country.unique()\n",
    "            for country in countries:\n",
    "                country_df = year_df[year_df.Country == country]\n",
    "                months = country_df.Date.dt.month.unique()\n",
    "                for month in months:\n",
    "                    month_df = country_df[country_df.Date.dt.month == month]\n",
    "\n",
    "                    max_idx = month_df['AQI'].idxmax()\n",
    "                    overall_monthly_AQI = month_df.loc[max_idx, 'AQI']\n",
    "                    most_present_pollutant = month_df.loc[max_idx, 'Pollutant']\n",
    "                    std_dev_monthly_AQI = month_df.loc[max_idx, 'std_dev']\n",
    "                    conf_interval_monthly_AQI = month_df.loc[max_idx, 'conf_interval_95%']\n",
    "                    total_no_points = month_df.No_points.sum()\n",
    "                    no_points = month_df.loc[max_idx, 'No_points']\n",
    "\n",
    "\n",
    "\n",
    "                    date_string = '{}/{}'.format(year, month)\n",
    "                    temp_df = pd.DataFrame({'Date': datetime.strptime(date_string, '%Y/%m'), 'Country': country, 'Country_name': month_df.Country_name.unique()[0], \\\n",
    "                                            'cou_pop_density': month_df.cou_pop_density.unique()[0], 'Total_no_points': total_no_points, 'Most_present_pollutant': most_present_pollutant, \\\n",
    "                                                'No_points': no_points, 'AQI': [overall_monthly_AQI], 'std_dev': std_dev_monthly_AQI, 'conf_interval_95%': conf_interval_monthly_AQI})\n",
    "                    final_df = pd.concat([final_df, temp_df])    \n",
    "\n",
    "        return final_df.reset_index().drop('index', axis=1)\n",
    "    "
   ]
  },
  {
   "cell_type": "code",
   "execution_count": 99,
   "metadata": {},
   "outputs": [],
   "source": [
    "def yearly_country_AQI(data):\n",
    "    '''This function calculates the yearly overall AQI average for each country.\n",
    "    \n",
    "    INPUT: pd.DataFrame. Either the original dataset or the output from monthly_city_pollutant()\n",
    "    OUTPUT: pd.DataFrame with the  yearly overall AQI average for each country'''\n",
    "    \n",
    "    cou_df = monthly_country_AQI(data)\n",
    "    if cou_df is not None:\n",
    "        print('Implementing function: yearly_country_AQI')\n",
    "\n",
    "        final_df = pd.DataFrame()\n",
    "        years = np.sort(cou_df.Date.dt.year.unique())\n",
    "        for year in years:\n",
    "            year_df = cou_df[cou_df.Date.dt.year == year]\n",
    "            countries = year_df.Country.unique()\n",
    "            for country in countries:\n",
    "                country_df = year_df[year_df.Country == country]\n",
    "\n",
    "\n",
    "                # Yearly mean of the AQI for a particular pollutant and country\n",
    "                mean_yearly_AQI = country_df['AQI'].mean() \n",
    "\n",
    "                # Standard deviation of the mean yearly pollutant. Assuming i.i.d i.e Cov = 0\n",
    "                std_dev_mean = np.sqrt((country_df.std_dev ** 2).sum())/country_df.shape[0] # Propagation of std. deviations for the mean\n",
    "                no_points = country_df.shape[0]\n",
    "\n",
    "                total_no_points = country_df.Total_no_points.sum()\n",
    "\n",
    "                #T-test confidence interval calculation\n",
    "                if no_points == 1: # If the country has only 1 month per year, then use that month's confidence interval\n",
    "                    error_95th = country_df['conf_interval_95%']\n",
    "                else:\n",
    "                    alpha= 0.95\n",
    "                    error_95th = stats.t.interval(df=no_points-1, alpha=alpha)[1] * std_dev_mean\n",
    "\n",
    "                most_present_pollutant = country_df['Most_present_pollutant'].value_counts().index[0]\n",
    "\n",
    "\n",
    "\n",
    "                date_string = '{}'.format(year)\n",
    "                temp_df = pd.DataFrame({'Date': datetime.strptime(date_string, '%Y'), 'Country': country, 'Country_name': country_df.Country_name.unique()[0], \\\n",
    "                                        'cou_pop_density': country_df.cou_pop_density.unique()[0], 'Total_no_points': total_no_points, 'Most_present_pollutant': most_present_pollutant, \\\n",
    "                                                'No_points': no_points, 'AQI': [mean_yearly_AQI], 'std_dev': std_dev_mean, 'conf_interval_95%': error_95th})\n",
    "                final_df = pd.concat([final_df, temp_df])    \n",
    "\n",
    "        return final_df.reset_index().drop('index', axis=1)"
   ]
  },
  {
   "cell_type": "code",
   "execution_count": 100,
   "metadata": {},
   "outputs": [],
   "source": [
    "def yearly_world_AQI(data):\n",
    "    '''This function calculates the worldwide yearly overall AQI average.\n",
    "    \n",
    "    INPUT: pd.DataFrame. Either the original dataset or the output from monthly_city_pollutant()\n",
    "    OUTPUT: pd.DataFrame with the worldwide yearly overall AQI average'''\n",
    "    \n",
    "    yearly_cou_df = yearly_country_AQI(data)\n",
    "    if yearly_cou_df is not None:\n",
    "        print('Implementing function: yearly_world_AQI')\n",
    "\n",
    "        final_df = pd.DataFrame()\n",
    "        years = np.sort(yearly_cou_df.Date.dt.year.unique())\n",
    "        for year in years:\n",
    "            year_df = yearly_cou_df[yearly_cou_df.Date.dt.year == year]\n",
    "\n",
    "            # World mean AQI:\n",
    "            #country_weights = year_df.cou_pop_density/year_df.cou_pop_density.sum() # weighted average where each country is linked to its population density\n",
    "            mean_world_AQI = year_df.AQI.mean()\n",
    "            #mean_world_AQI = np.sum(country_weights.values * year_df.AQI.values)\n",
    "\n",
    "\n",
    "            # Standard deviation:\n",
    "            std_dev_mean = np.sqrt((year_df.std_dev ** 2).sum())/year_df.shape[0] # Propagation of standard deviation for the mean\n",
    "            no_points = year_df.shape[0]\n",
    "\n",
    "            total_no_points = year_df.Total_no_points.sum()\n",
    "\n",
    "            # T-test confidence interval\n",
    "            if no_points == 1: # If the country has only 1 month per year, then use that month's confidence interval\n",
    "                error_95th = year_df['conf_interval_95%'].values\n",
    "            else:\n",
    "                alpha= 0.95\n",
    "                error_95th = stats.t.interval(df=no_points-1, alpha=alpha)[1] * std_dev_mean\n",
    "\n",
    "            alpha= 0.95\n",
    "            error_95th = stats.t.interval(df=no_points-1, alpha=alpha)[1] * std_dev_mean\n",
    "\n",
    "\n",
    "            date_string = '{}'.format(year)\n",
    "            temp_df = pd.DataFrame({'Date': datetime.strptime(date_string, '%Y'), 'Total_no_points': total_no_points, 'Most_present_pollutant': year_df.Most_present_pollutant.value_counts().index[0], \\\n",
    "                                    'No_points': no_points, 'AQI': [mean_world_AQI], 'std_dev': std_dev_mean, 'conf_interval_95%': error_95th})\n",
    "            final_df = pd.concat([final_df, temp_df])\n",
    "\n",
    "        return final_df.reset_index().drop('index', axis=1)"
   ]
  },
  {
   "cell_type": "code",
   "execution_count": 101,
   "metadata": {},
   "outputs": [
    {
     "name": "stdout",
     "output_type": "stream",
     "text": [
      "Implementing function: monthly_country_pollutant\n",
      "Implementing function: monthly_country_AQI\n",
      "Implementing function: yearly_country_AQI\n",
      "Implementing function: yearly_world_AQI\n",
      "Wall time: 44.7 s\n"
     ]
    }
   ],
   "source": [
    "%%time\n",
    "yearly_world = yearly_world_AQI(month_city_pollut_df)"
   ]
  },
  {
   "cell_type": "code",
   "execution_count": 102,
   "metadata": {},
   "outputs": [
    {
     "data": {
      "text/html": [
       "<div>\n",
       "<style scoped>\n",
       "    .dataframe tbody tr th:only-of-type {\n",
       "        vertical-align: middle;\n",
       "    }\n",
       "\n",
       "    .dataframe tbody tr th {\n",
       "        vertical-align: top;\n",
       "    }\n",
       "\n",
       "    .dataframe thead th {\n",
       "        text-align: right;\n",
       "    }\n",
       "</style>\n",
       "<table border=\"1\" class=\"dataframe\">\n",
       "  <thead>\n",
       "    <tr style=\"text-align: right;\">\n",
       "      <th></th>\n",
       "      <th>Date</th>\n",
       "      <th>Total_no_points</th>\n",
       "      <th>Most_present_pollutant</th>\n",
       "      <th>No_points</th>\n",
       "      <th>AQI</th>\n",
       "      <th>std_dev</th>\n",
       "      <th>conf_interval_95%</th>\n",
       "    </tr>\n",
       "  </thead>\n",
       "  <tbody>\n",
       "    <tr>\n",
       "      <th>0</th>\n",
       "      <td>2019-01-01</td>\n",
       "      <td>32883</td>\n",
       "      <td>pm25</td>\n",
       "      <td>91</td>\n",
       "      <td>64.485882</td>\n",
       "      <td>0.261650</td>\n",
       "      <td>0.519814</td>\n",
       "    </tr>\n",
       "    <tr>\n",
       "      <th>1</th>\n",
       "      <td>2020-01-01</td>\n",
       "      <td>34195</td>\n",
       "      <td>pm25</td>\n",
       "      <td>94</td>\n",
       "      <td>57.974867</td>\n",
       "      <td>0.104487</td>\n",
       "      <td>0.207490</td>\n",
       "    </tr>\n",
       "    <tr>\n",
       "      <th>2</th>\n",
       "      <td>2021-01-01</td>\n",
       "      <td>8518</td>\n",
       "      <td>pm25</td>\n",
       "      <td>93</td>\n",
       "      <td>71.588267</td>\n",
       "      <td>0.306995</td>\n",
       "      <td>0.609719</td>\n",
       "    </tr>\n",
       "  </tbody>\n",
       "</table>\n",
       "</div>"
      ],
      "text/plain": [
       "        Date  Total_no_points Most_present_pollutant  No_points        AQI  \\\n",
       "0 2019-01-01            32883                   pm25         91  64.485882   \n",
       "1 2020-01-01            34195                   pm25         94  57.974867   \n",
       "2 2021-01-01             8518                   pm25         93  71.588267   \n",
       "\n",
       "    std_dev  conf_interval_95%  \n",
       "0  0.261650           0.519814  \n",
       "1  0.104487           0.207490  \n",
       "2  0.306995           0.609719  "
      ]
     },
     "execution_count": 102,
     "metadata": {},
     "output_type": "execute_result"
    }
   ],
   "source": [
    "yearly_world"
   ]
  },
  {
   "cell_type": "code",
   "execution_count": 103,
   "metadata": {},
   "outputs": [
    {
     "data": {
      "text/plain": [
       "Text(0.5, 0, 'Year')"
      ]
     },
     "execution_count": 103,
     "metadata": {},
     "output_type": "execute_result"
    },
    {
     "data": {
      "image/png": "[encoded data removed]",
      "text/plain": [
       "<Figure size 432x288 with 1 Axes>"
      ]
     },
     "metadata": {
      "needs_background": "light"
     },
     "output_type": "display_data"
    }
   ],
   "source": [
    "plt.bar(yearly_world.Date.dt.year, yearly_world.AQI, \\\n",
    "        alpha=1, yerr= yearly_world['conf_interval_95%'], color='r')\n",
    "plt.axhline(y=50, color='black', linestyle='--' )\n",
    "plt.annotate('Healthy AQI threshold', xy=(2018.1, 50.2), xytext=(2018.1, 70), arrowprops={'arrowstyle':'simple', 'color':'black'})\n",
    "plt.annotate('10.1% drop', xy=(2019.5, 64))\n",
    "plt.annotate('', xy=(2019.8, 58), xytext=(2019.4, 64), arrowprops={'arrowstyle':'simple', 'color':'black'})\n",
    "plt.xticks([2019, 2020, 2021], fontsize=12)\n",
    "plt.yticks(fontsize=12)\n",
    "plt.xlim(2018, 2022)\n",
    "plt.ylabel('Overall AQI', fontsize=15)\n",
    "plt.xlabel('Year', fontsize=15)"
   ]
  },
  {
   "cell_type": "markdown",
   "metadata": {},
   "source": [
    "We can see a clear drop in 2020. Comparing the year 2019 to 2020 by a Welch t-test:\n",
    "\n"
   ]
  },
  {
   "cell_type": "code",
   "execution_count": 104,
   "metadata": {},
   "outputs": [
    {
     "data": {
      "text/plain": [
       "array([ 9.06880426, 11.12481103])"
      ]
     },
     "execution_count": 104,
     "metadata": {},
     "output_type": "execute_result"
    }
   ],
   "source": [
    "mean_2019, std_2019 = yearly_world[yearly_world.Date.dt.year == 2019]['AQI'].values[0], yearly_world[yearly_world.Date.dt.year == 2019]['std_dev'].values[0]\n",
    "mean_2020, std_2020 = yearly_world[yearly_world.Date.dt.year == 2020]['AQI'].values[0], yearly_world[yearly_world.Date.dt.year == 2020]['std_dev'].values[0]\n",
    "\n",
    "statistic = mean_2019-mean_2020\n",
    "n_2019 = yearly_world[yearly_world.Date.dt.year == 2019]['No_points'].values[0]\n",
    "n_2020 = yearly_world[yearly_world.Date.dt.year == 2020]['No_points'].values[0]\n",
    "\n",
    "std_statistic = np.sqrt(std_2019**2 + std_2020**2)\n",
    "df_welch = (std_2019**2+std_2020**2)**2/(std_2019**2/(n_2019-1) + std_2020**2/(n_2020-1))\n",
    "\n",
    "\n",
    "\n",
    "\n",
    "alpha= 0.95\n",
    "error = stats.t.interval(df=df_welch, alpha=alpha)[1] * std_statistic\n",
    "CI = np.array([statistic-error, statistic+error])\n",
    "CI_percent = (CI/mean_2019)*100\n",
    "CI_percent"
   ]
  },
  {
   "cell_type": "markdown",
   "metadata": {},
   "source": [
    "## Note: the values of the error of the previous interval is wrong. I have to calculate the std_dev of the percent (see t_confidence_interval function in \"percent).\n",
    "\n",
    "There is a drop in the world AQI between 9.1% and 11.1%, within a 95% confidence interval. The spread of the average AQI index per country is shown in the following boxplot. We can see that in 2020 the Q1-Q3 limits are lower compared to 2019."
   ]
  },
  {
   "cell_type": "code",
   "execution_count": 105,
   "metadata": {},
   "outputs": [
    {
     "name": "stdout",
     "output_type": "stream",
     "text": [
      "Implementing function: monthly_country_pollutant\n",
      "Implementing function: monthly_country_AQI\n",
      "Implementing function: yearly_country_AQI\n",
      "Wall time: 42.2 s\n"
     ]
    }
   ],
   "source": [
    "%%time\n",
    "year_country_AQI_df = yearly_country_AQI(month_city_pollut_df)"
   ]
  },
  {
   "cell_type": "code",
   "execution_count": 106,
   "metadata": {},
   "outputs": [],
   "source": [
    "def monthly_world_AQI(data):\n",
    "    '''This function calculates the worldwide monthly overall AQI average.\n",
    "    \n",
    "    INPUT: pd.DataFrame. Either the original dataset or the output from monthly_city_pollutant()\n",
    "    OUTPUT: pd.DataFrame with the worldwide monthly overall AQI average'''\n",
    "    \n",
    "    cou_df = monthly_country_AQI(data)\n",
    "    if cou_df is not None:\n",
    "        print('Implementing function: monthly_world_AQI')\n",
    "\n",
    "        final_df = pd.DataFrame()\n",
    "        years = np.sort(cou_df.Date.dt.year.unique())\n",
    "        for year in years:\n",
    "            year_df = cou_df[cou_df.Date.dt.year == year]\n",
    "            months = year_df.Date.dt.month.unique()\n",
    "            for month in months:\n",
    "                month_df = year_df[year_df.Date.dt.month == month]\n",
    "\n",
    "\n",
    "                # Monthly mean of the AQI across all countries\n",
    "                #country_weights = month_df.cou_pop_density/month_df.cou_pop_density.sum()\n",
    "                #mean_monthly_AQI = np.sum(country_weights.values * month_df.AQI.values)\n",
    "                mean_monthly_AQI = month_df['AQI'].mean() \n",
    "\n",
    "                # Standard deviation of the mean yearly pollutant. Assuming i.i.d i.e Cov = 0\n",
    "                std_dev_mean = np.sqrt((month_df.std_dev ** 2).sum())/month_df.shape[0] # Propagation of std. deviations for the mean\n",
    "                no_points = month_df.shape[0]\n",
    "\n",
    "                total_no_points = month_df.Total_no_points.sum()\n",
    "\n",
    "                #T-test confidence interval calculation\n",
    "                alpha= 0.95\n",
    "                error_95th = stats.t.interval(df=no_points-1, alpha=alpha)[1] * std_dev_mean\n",
    "\n",
    "                most_present_pollutant = month_df['Most_present_pollutant'].value_counts().index[0]\n",
    "\n",
    "\n",
    "\n",
    "                date_string = '{}/{}'.format(year, month)\n",
    "                temp_df = pd.DataFrame({'Date': datetime.strptime(date_string, '%Y/%m'), 'Total_no_points': total_no_points, 'Most_present_pollutant': most_present_pollutant, \\\n",
    "                                                'No_points': no_points, 'AQI': [mean_monthly_AQI], 'std_dev': std_dev_mean, 'conf_interval_95%': error_95th})\n",
    "                final_df = pd.concat([final_df, temp_df])    \n",
    "\n",
    "        return final_df.reset_index().drop('index', axis=1)\n"
   ]
  },
  {
   "cell_type": "code",
   "execution_count": 107,
   "metadata": {},
   "outputs": [
    {
     "name": "stdout",
     "output_type": "stream",
     "text": [
      "Implementing function: monthly_country_pollutant\n",
      "Implementing function: monthly_country_AQI\n",
      "Implementing function: monthly_world_AQI\n",
      "Wall time: 41.2 s\n"
     ]
    }
   ],
   "source": [
    "%%time\n",
    "month_world_AQI_df = monthly_world_AQI(month_city_pollut_df)"
   ]
  },
  {
   "cell_type": "code",
   "execution_count": 108,
   "metadata": {},
   "outputs": [
    {
     "data": {
      "text/html": [
       "<div>\n",
       "<style scoped>\n",
       "    .dataframe tbody tr th:only-of-type {\n",
       "        vertical-align: middle;\n",
       "    }\n",
       "\n",
       "    .dataframe tbody tr th {\n",
       "        vertical-align: top;\n",
       "    }\n",
       "\n",
       "    .dataframe thead th {\n",
       "        text-align: right;\n",
       "    }\n",
       "</style>\n",
       "<table border=\"1\" class=\"dataframe\">\n",
       "  <thead>\n",
       "    <tr style=\"text-align: right;\">\n",
       "      <th></th>\n",
       "      <th>Date</th>\n",
       "      <th>Total_no_points</th>\n",
       "      <th>Most_present_pollutant</th>\n",
       "      <th>No_points</th>\n",
       "      <th>AQI</th>\n",
       "      <th>std_dev</th>\n",
       "      <th>conf_interval_95%</th>\n",
       "    </tr>\n",
       "  </thead>\n",
       "  <tbody>\n",
       "    <tr>\n",
       "      <th>0</th>\n",
       "      <td>2019-01-01</td>\n",
       "      <td>2610</td>\n",
       "      <td>pm25</td>\n",
       "      <td>73</td>\n",
       "      <td>75.927504</td>\n",
       "      <td>0.449155</td>\n",
       "      <td>0.895373</td>\n",
       "    </tr>\n",
       "    <tr>\n",
       "      <th>7</th>\n",
       "      <td>2019-02-01</td>\n",
       "      <td>2614</td>\n",
       "      <td>pm25</td>\n",
       "      <td>76</td>\n",
       "      <td>72.885114</td>\n",
       "      <td>0.447365</td>\n",
       "      <td>0.891197</td>\n",
       "    </tr>\n",
       "    <tr>\n",
       "      <th>8</th>\n",
       "      <td>2019-03-01</td>\n",
       "      <td>2705</td>\n",
       "      <td>pm25</td>\n",
       "      <td>80</td>\n",
       "      <td>65.125572</td>\n",
       "      <td>0.299622</td>\n",
       "      <td>0.596384</td>\n",
       "    </tr>\n",
       "    <tr>\n",
       "      <th>9</th>\n",
       "      <td>2019-04-01</td>\n",
       "      <td>2695</td>\n",
       "      <td>pm25</td>\n",
       "      <td>81</td>\n",
       "      <td>59.864882</td>\n",
       "      <td>0.392064</td>\n",
       "      <td>0.780232</td>\n",
       "    </tr>\n",
       "    <tr>\n",
       "      <th>10</th>\n",
       "      <td>2019-05-01</td>\n",
       "      <td>2735</td>\n",
       "      <td>pm25</td>\n",
       "      <td>82</td>\n",
       "      <td>54.249512</td>\n",
       "      <td>0.304645</td>\n",
       "      <td>0.606148</td>\n",
       "    </tr>\n",
       "    <tr>\n",
       "      <th>11</th>\n",
       "      <td>2019-06-01</td>\n",
       "      <td>2766</td>\n",
       "      <td>pm25</td>\n",
       "      <td>84</td>\n",
       "      <td>53.164241</td>\n",
       "      <td>0.267200</td>\n",
       "      <td>0.531451</td>\n",
       "    </tr>\n",
       "    <tr>\n",
       "      <th>3</th>\n",
       "      <td>2019-07-01</td>\n",
       "      <td>2776</td>\n",
       "      <td>pm25</td>\n",
       "      <td>83</td>\n",
       "      <td>55.260655</td>\n",
       "      <td>0.699311</td>\n",
       "      <td>1.391152</td>\n",
       "    </tr>\n",
       "    <tr>\n",
       "      <th>1</th>\n",
       "      <td>2019-08-01</td>\n",
       "      <td>2774</td>\n",
       "      <td>pm25</td>\n",
       "      <td>84</td>\n",
       "      <td>55.528059</td>\n",
       "      <td>0.283406</td>\n",
       "      <td>0.563683</td>\n",
       "    </tr>\n",
       "    <tr>\n",
       "      <th>2</th>\n",
       "      <td>2019-09-01</td>\n",
       "      <td>2767</td>\n",
       "      <td>pm25</td>\n",
       "      <td>84</td>\n",
       "      <td>56.365078</td>\n",
       "      <td>0.381271</td>\n",
       "      <td>0.758333</td>\n",
       "    </tr>\n",
       "    <tr>\n",
       "      <th>4</th>\n",
       "      <td>2019-10-01</td>\n",
       "      <td>2775</td>\n",
       "      <td>pm25</td>\n",
       "      <td>84</td>\n",
       "      <td>61.497343</td>\n",
       "      <td>0.374404</td>\n",
       "      <td>0.744675</td>\n",
       "    </tr>\n",
       "    <tr>\n",
       "      <th>5</th>\n",
       "      <td>2019-11-01</td>\n",
       "      <td>2806</td>\n",
       "      <td>pm25</td>\n",
       "      <td>86</td>\n",
       "      <td>66.981483</td>\n",
       "      <td>0.511232</td>\n",
       "      <td>1.016467</td>\n",
       "    </tr>\n",
       "    <tr>\n",
       "      <th>6</th>\n",
       "      <td>2019-12-01</td>\n",
       "      <td>2860</td>\n",
       "      <td>pm25</td>\n",
       "      <td>89</td>\n",
       "      <td>70.702865</td>\n",
       "      <td>0.431412</td>\n",
       "      <td>0.857340</td>\n",
       "    </tr>\n",
       "    <tr>\n",
       "      <th>12</th>\n",
       "      <td>2020-01-01</td>\n",
       "      <td>2875</td>\n",
       "      <td>pm25</td>\n",
       "      <td>91</td>\n",
       "      <td>71.843078</td>\n",
       "      <td>0.421698</td>\n",
       "      <td>0.837777</td>\n",
       "    </tr>\n",
       "    <tr>\n",
       "      <th>14</th>\n",
       "      <td>2020-02-01</td>\n",
       "      <td>2856</td>\n",
       "      <td>pm25</td>\n",
       "      <td>91</td>\n",
       "      <td>64.667928</td>\n",
       "      <td>0.517905</td>\n",
       "      <td>1.028909</td>\n",
       "    </tr>\n",
       "    <tr>\n",
       "      <th>13</th>\n",
       "      <td>2020-03-01</td>\n",
       "      <td>2845</td>\n",
       "      <td>pm25</td>\n",
       "      <td>94</td>\n",
       "      <td>60.137962</td>\n",
       "      <td>0.322687</td>\n",
       "      <td>0.640793</td>\n",
       "    </tr>\n",
       "    <tr>\n",
       "      <th>15</th>\n",
       "      <td>2020-04-01</td>\n",
       "      <td>2829</td>\n",
       "      <td>pm25</td>\n",
       "      <td>93</td>\n",
       "      <td>56.008356</td>\n",
       "      <td>0.295092</td>\n",
       "      <td>0.586077</td>\n",
       "    </tr>\n",
       "    <tr>\n",
       "      <th>16</th>\n",
       "      <td>2020-05-01</td>\n",
       "      <td>2830</td>\n",
       "      <td>pm25</td>\n",
       "      <td>92</td>\n",
       "      <td>50.450558</td>\n",
       "      <td>0.294826</td>\n",
       "      <td>0.585636</td>\n",
       "    </tr>\n",
       "    <tr>\n",
       "      <th>17</th>\n",
       "      <td>2020-06-01</td>\n",
       "      <td>2842</td>\n",
       "      <td>pm25</td>\n",
       "      <td>93</td>\n",
       "      <td>48.285587</td>\n",
       "      <td>0.229817</td>\n",
       "      <td>0.456436</td>\n",
       "    </tr>\n",
       "    <tr>\n",
       "      <th>18</th>\n",
       "      <td>2020-07-01</td>\n",
       "      <td>2847</td>\n",
       "      <td>pm25</td>\n",
       "      <td>93</td>\n",
       "      <td>48.250773</td>\n",
       "      <td>0.213675</td>\n",
       "      <td>0.424378</td>\n",
       "    </tr>\n",
       "    <tr>\n",
       "      <th>19</th>\n",
       "      <td>2020-08-01</td>\n",
       "      <td>2877</td>\n",
       "      <td>pm25</td>\n",
       "      <td>92</td>\n",
       "      <td>48.453920</td>\n",
       "      <td>0.237029</td>\n",
       "      <td>0.470829</td>\n",
       "    </tr>\n",
       "    <tr>\n",
       "      <th>20</th>\n",
       "      <td>2020-09-01</td>\n",
       "      <td>2861</td>\n",
       "      <td>pm25</td>\n",
       "      <td>92</td>\n",
       "      <td>51.587511</td>\n",
       "      <td>0.235952</td>\n",
       "      <td>0.468690</td>\n",
       "    </tr>\n",
       "    <tr>\n",
       "      <th>21</th>\n",
       "      <td>2020-10-01</td>\n",
       "      <td>2836</td>\n",
       "      <td>pm25</td>\n",
       "      <td>92</td>\n",
       "      <td>56.806230</td>\n",
       "      <td>0.285048</td>\n",
       "      <td>0.566213</td>\n",
       "    </tr>\n",
       "    <tr>\n",
       "      <th>23</th>\n",
       "      <td>2020-11-01</td>\n",
       "      <td>2844</td>\n",
       "      <td>pm25</td>\n",
       "      <td>92</td>\n",
       "      <td>69.601819</td>\n",
       "      <td>0.429943</td>\n",
       "      <td>0.854030</td>\n",
       "    </tr>\n",
       "    <tr>\n",
       "      <th>22</th>\n",
       "      <td>2020-12-01</td>\n",
       "      <td>2853</td>\n",
       "      <td>pm25</td>\n",
       "      <td>91</td>\n",
       "      <td>70.992099</td>\n",
       "      <td>0.372404</td>\n",
       "      <td>0.739846</td>\n",
       "    </tr>\n",
       "    <tr>\n",
       "      <th>24</th>\n",
       "      <td>2021-01-01</td>\n",
       "      <td>2821</td>\n",
       "      <td>pm25</td>\n",
       "      <td>91</td>\n",
       "      <td>75.628623</td>\n",
       "      <td>0.542684</td>\n",
       "      <td>1.078137</td>\n",
       "    </tr>\n",
       "    <tr>\n",
       "      <th>25</th>\n",
       "      <td>2021-02-01</td>\n",
       "      <td>2852</td>\n",
       "      <td>pm25</td>\n",
       "      <td>91</td>\n",
       "      <td>74.895602</td>\n",
       "      <td>0.496411</td>\n",
       "      <td>0.986207</td>\n",
       "    </tr>\n",
       "    <tr>\n",
       "      <th>26</th>\n",
       "      <td>2021-03-01</td>\n",
       "      <td>2845</td>\n",
       "      <td>pm25</td>\n",
       "      <td>92</td>\n",
       "      <td>65.993519</td>\n",
       "      <td>0.390484</td>\n",
       "      <td>0.775649</td>\n",
       "    </tr>\n",
       "  </tbody>\n",
       "</table>\n",
       "</div>"
      ],
      "text/plain": [
       "         Date  Total_no_points Most_present_pollutant  No_points        AQI  \\\n",
       "0  2019-01-01             2610                   pm25         73  75.927504   \n",
       "7  2019-02-01             2614                   pm25         76  72.885114   \n",
       "8  2019-03-01             2705                   pm25         80  65.125572   \n",
       "9  2019-04-01             2695                   pm25         81  59.864882   \n",
       "10 2019-05-01             2735                   pm25         82  54.249512   \n",
       "11 2019-06-01             2766                   pm25         84  53.164241   \n",
       "3  2019-07-01             2776                   pm25         83  55.260655   \n",
       "1  2019-08-01             2774                   pm25         84  55.528059   \n",
       "2  2019-09-01             2767                   pm25         84  56.365078   \n",
       "4  2019-10-01             2775                   pm25         84  61.497343   \n",
       "5  2019-11-01             2806                   pm25         86  66.981483   \n",
       "6  2019-12-01             2860                   pm25         89  70.702865   \n",
       "12 2020-01-01             2875                   pm25         91  71.843078   \n",
       "14 2020-02-01             2856                   pm25         91  64.667928   \n",
       "13 2020-03-01             2845                   pm25         94  60.137962   \n",
       "15 2020-04-01             2829                   pm25         93  56.008356   \n",
       "16 2020-05-01             2830                   pm25         92  50.450558   \n",
       "17 2020-06-01             2842                   pm25         93  48.285587   \n",
       "18 2020-07-01             2847                   pm25         93  48.250773   \n",
       "19 2020-08-01             2877                   pm25         92  48.453920   \n",
       "20 2020-09-01             2861                   pm25         92  51.587511   \n",
       "21 2020-10-01             2836                   pm25         92  56.806230   \n",
       "23 2020-11-01             2844                   pm25         92  69.601819   \n",
       "22 2020-12-01             2853                   pm25         91  70.992099   \n",
       "24 2021-01-01             2821                   pm25         91  75.628623   \n",
       "25 2021-02-01             2852                   pm25         91  74.895602   \n",
       "26 2021-03-01             2845                   pm25         92  65.993519   \n",
       "\n",
       "     std_dev  conf_interval_95%  \n",
       "0   0.449155           0.895373  \n",
       "7   0.447365           0.891197  \n",
       "8   0.299622           0.596384  \n",
       "9   0.392064           0.780232  \n",
       "10  0.304645           0.606148  \n",
       "11  0.267200           0.531451  \n",
       "3   0.699311           1.391152  \n",
       "1   0.283406           0.563683  \n",
       "2   0.381271           0.758333  \n",
       "4   0.374404           0.744675  \n",
       "5   0.511232           1.016467  \n",
       "6   0.431412           0.857340  \n",
       "12  0.421698           0.837777  \n",
       "14  0.517905           1.028909  \n",
       "13  0.322687           0.640793  \n",
       "15  0.295092           0.586077  \n",
       "16  0.294826           0.585636  \n",
       "17  0.229817           0.456436  \n",
       "18  0.213675           0.424378  \n",
       "19  0.237029           0.470829  \n",
       "20  0.235952           0.468690  \n",
       "21  0.285048           0.566213  \n",
       "23  0.429943           0.854030  \n",
       "22  0.372404           0.739846  \n",
       "24  0.542684           1.078137  \n",
       "25  0.496411           0.986207  \n",
       "26  0.390484           0.775649  "
      ]
     },
     "execution_count": 108,
     "metadata": {},
     "output_type": "execute_result"
    }
   ],
   "source": [
    "month_world_AQI_df.sort_values(by='Date', inplace=True)\n",
    "month_world_AQI_df[month_world_AQI_df.Date.dt.year >2018]"
   ]
  },
  {
   "cell_type": "code",
   "execution_count": 109,
   "metadata": {},
   "outputs": [
    {
     "data": {
      "image/png": "[encoded data removed]",
      "text/plain": [
       "<Figure size 432x288 with 1 Axes>"
      ]
     },
     "metadata": {
      "needs_background": "light"
     },
     "output_type": "display_data"
    }
   ],
   "source": [
    "year_19 =  month_world_AQI_df[(month_world_AQI_df.Date.dt.year == 2019)].AQI\n",
    "year_20 =  month_world_AQI_df[(month_world_AQI_df.Date.dt.year == 2020)].AQI\n",
    "\n",
    "err_19 = month_world_AQI_df[(month_world_AQI_df.Date.dt.year == 2019)]['conf_interval_95%']\n",
    "err_20 = month_world_AQI_df[(month_world_AQI_df.Date.dt.year == 2020)]['conf_interval_95%']\n",
    "\n",
    "labels = ['Jan', 'Feb', 'Mar', 'Apr', 'May', 'Jun', 'Jul', 'Aug', 'Sep', 'Oct', 'Nov', 'Dec']\n",
    "\n",
    "x = np.arange(len(labels))  \n",
    "width = 0.35  \n",
    "\n",
    "fig, ax = plt.subplots()\n",
    "rects1 = ax.bar(x - width/2, year_19, width, label='2019', yerr= err_19)\n",
    "rects2 = ax.bar(x + width/2, year_20, width, label='2020', yerr= err_20)\n",
    "\n",
    "\n",
    "ax.set_ylabel('Scores')\n",
    "ax.set_xlabel('Months')\n",
    "ax.set_title('Scores by group and gender')\n",
    "ax.set_xticks(x)\n",
    "ax.set_xticklabels(labels)\n",
    "ax.legend()\n",
    "\n",
    "fig.tight_layout()\n",
    "\n",
    "plt.show()"
   ]
  },
  {
   "cell_type": "code",
   "execution_count": 110,
   "metadata": {},
   "outputs": [],
   "source": [
    "def t_conf_interval(df_a, df_b, percent=True, unequal_var=True, alpha=0.95):\n",
    "    '''This function calculates a confidence interval via a t-statistic between the same months of 2 different years WORLDWIDE. The statistic is taken as AQI(df_a) - AQI(df_b)\n",
    "    \n",
    "    INPUT: df_a, df_b: pd.Dataframe with the mean AQI values of the distributions we want to compare and the std_dev of those means\n",
    "            percent: if True a percent with its corresponding error is returned. If False, only the returned value is the difference of the mean of both df_a and df_b\n",
    "            unequal_var: if True a Welch's t-test is performed. If False population variances are assumed to be equal and thus a standard t-test is performed where the sample\n",
    "            variance is the pooled variance\n",
    "            alpha: represents the quantile to return in the confidence interval\n",
    "    OUTPUT: pd.DataFrame with the confidence interval of the AQI difference for every month'''\n",
    "    final_df = pd.DataFrame()\n",
    "    years = df_a.Date.dt.year.unique()\n",
    "    for year in years:\n",
    "        months = months = list(set(df_a.Date.dt.month.unique()).intersection(set(df_b.Date.dt.month.unique())))\n",
    "        for month in months:\n",
    "            mean_a = df_a[df_a.Date.dt.month == month].AQI.values[0]\n",
    "            \n",
    "            mean_b = df_b[df_b.Date.dt.month == month].AQI.values[0]\n",
    "            \n",
    "\n",
    "            std_a = df_a[df_a.Date.dt.month == month].std_dev.values[0]\n",
    "            std_b = df_b[df_b.Date.dt.month == month].std_dev.values[0]\n",
    "\n",
    "            statistic = mean_a-mean_b\n",
    "\n",
    "            n_a = df_a[df_a.Date.dt.month == month]['No_points'].values[0]\n",
    "            n_b = df_b[df_b.Date.dt.month == month]['No_points'].values[0]\n",
    "            \n",
    "            if unequal_var:\n",
    "                #Apply Welch t-test method\n",
    "                std_statistic = np.sqrt(std_a**2 + std_b**2)\n",
    "                # Welch's degrees of freedom\n",
    "                degrees_freedom = (std_a**2+std_b**2)**2/(std_a**2/(n_a-1) + std_a**2/(n_b-1))\n",
    "            else:\n",
    "                # Apply standard method with pooled variance\n",
    "                std_statistic = np.sqrt(((n_a - 1)*std_a**2 + (n_b - 1)*std_b**2)/(n_a + n_b - 2))\n",
    "                degrees_freedom = n_a + n_b - 2         \n",
    "            \n",
    "\n",
    "            alpha= 0.95\n",
    "            #Calculate percentage with respect to the previous year\n",
    "            if percent:\n",
    "                ratio = statistic/mean_b\n",
    "                std_dev_mean_b = df_b[df_b.Date.dt.month == month].std_dev.values[0]\n",
    "                std_dev_ratio = ratio * np.sqrt((std_statistic / statistic)**2 + (std_dev_mean_b  / mean_b)**2) # Propagation by Taylor approximation to first degree\n",
    "                \n",
    "                percent = ratio *100\n",
    "                std_percent = std_dev_ratio*100\n",
    "                \n",
    "                CI = [percent, std_percent]\n",
    "            if not percent:\n",
    "                error = stats.t.interval(df=degrees_freedom, alpha=alpha)[1] * std_statistic\n",
    "                CI = np.array([statistic, error])\n",
    "            temp_df = pd.DataFrame({'Years_compared':str(df_a.Date.dt.year.unique()[0])+'-'+str(df_b.Date.dt.year.unique()[0]) , 'Month': month, \\\n",
    "                                    'middle': CI[0], 'std_95th': [CI[1]]})\n",
    "            final_df = pd.concat([final_df, temp_df])\n",
    "            \n",
    "    return final_df.reset_index().drop('index', axis=1).sort_values(by='Month')"
   ]
  },
  {
   "cell_type": "code",
   "execution_count": 111,
   "metadata": {},
   "outputs": [],
   "source": [
    "df_month_2019 = month_world_AQI_df[(month_world_AQI_df.Date.dt.year == 2019)]\n",
    "df_month_2020 = month_world_AQI_df[(month_world_AQI_df.Date.dt.year == 2020)]\n",
    "\n",
    "# Confidence intervals for all months of 2019-2020 years:\n",
    "\n",
    "df_conf = t_conf_interval(df_month_2020, df_month_2019, percent=True)"
   ]
  },
  {
   "cell_type": "code",
   "execution_count": 112,
   "metadata": {},
   "outputs": [
    {
     "data": {
      "text/html": [
       "<div>\n",
       "<style scoped>\n",
       "    .dataframe tbody tr th:only-of-type {\n",
       "        vertical-align: middle;\n",
       "    }\n",
       "\n",
       "    .dataframe tbody tr th {\n",
       "        vertical-align: top;\n",
       "    }\n",
       "\n",
       "    .dataframe thead th {\n",
       "        text-align: right;\n",
       "    }\n",
       "</style>\n",
       "<table border=\"1\" class=\"dataframe\">\n",
       "  <thead>\n",
       "    <tr style=\"text-align: right;\">\n",
       "      <th></th>\n",
       "      <th>Years_compared</th>\n",
       "      <th>Month</th>\n",
       "      <th>middle</th>\n",
       "      <th>std_95th</th>\n",
       "    </tr>\n",
       "  </thead>\n",
       "  <tbody>\n",
       "    <tr>\n",
       "      <th>0</th>\n",
       "      <td>2020-2019</td>\n",
       "      <td>1</td>\n",
       "      <td>-5.379376</td>\n",
       "      <td>-0.812045</td>\n",
       "    </tr>\n",
       "    <tr>\n",
       "      <th>1</th>\n",
       "      <td>2020-2019</td>\n",
       "      <td>2</td>\n",
       "      <td>-11.274162</td>\n",
       "      <td>-0.941516</td>\n",
       "    </tr>\n",
       "    <tr>\n",
       "      <th>2</th>\n",
       "      <td>2020-2019</td>\n",
       "      <td>3</td>\n",
       "      <td>-7.658452</td>\n",
       "      <td>-0.677060</td>\n",
       "    </tr>\n",
       "    <tr>\n",
       "      <th>3</th>\n",
       "      <td>2020-2019</td>\n",
       "      <td>4</td>\n",
       "      <td>-6.442051</td>\n",
       "      <td>-0.820776</td>\n",
       "    </tr>\n",
       "    <tr>\n",
       "      <th>4</th>\n",
       "      <td>2020-2019</td>\n",
       "      <td>5</td>\n",
       "      <td>-7.002742</td>\n",
       "      <td>-0.782465</td>\n",
       "    </tr>\n",
       "    <tr>\n",
       "      <th>5</th>\n",
       "      <td>2020-2019</td>\n",
       "      <td>6</td>\n",
       "      <td>-9.176571</td>\n",
       "      <td>-0.664523</td>\n",
       "    </tr>\n",
       "    <tr>\n",
       "      <th>6</th>\n",
       "      <td>2020-2019</td>\n",
       "      <td>7</td>\n",
       "      <td>-12.685122</td>\n",
       "      <td>-1.332934</td>\n",
       "    </tr>\n",
       "    <tr>\n",
       "      <th>7</th>\n",
       "      <td>2020-2019</td>\n",
       "      <td>8</td>\n",
       "      <td>-12.739755</td>\n",
       "      <td>-0.668530</td>\n",
       "    </tr>\n",
       "    <tr>\n",
       "      <th>8</th>\n",
       "      <td>2020-2019</td>\n",
       "      <td>9</td>\n",
       "      <td>-8.476111</td>\n",
       "      <td>-0.797550</td>\n",
       "    </tr>\n",
       "    <tr>\n",
       "      <th>9</th>\n",
       "      <td>2020-2019</td>\n",
       "      <td>10</td>\n",
       "      <td>-7.628156</td>\n",
       "      <td>-0.766587</td>\n",
       "    </tr>\n",
       "    <tr>\n",
       "      <th>10</th>\n",
       "      <td>2020-2019</td>\n",
       "      <td>11</td>\n",
       "      <td>3.912030</td>\n",
       "      <td>0.997722</td>\n",
       "    </tr>\n",
       "    <tr>\n",
       "      <th>11</th>\n",
       "      <td>2020-2019</td>\n",
       "      <td>12</td>\n",
       "      <td>0.409084</td>\n",
       "      <td>0.806072</td>\n",
       "    </tr>\n",
       "  </tbody>\n",
       "</table>\n",
       "</div>"
      ],
      "text/plain": [
       "   Years_compared  Month     middle  std_95th\n",
       "0       2020-2019      1  -5.379376 -0.812045\n",
       "1       2020-2019      2 -11.274162 -0.941516\n",
       "2       2020-2019      3  -7.658452 -0.677060\n",
       "3       2020-2019      4  -6.442051 -0.820776\n",
       "4       2020-2019      5  -7.002742 -0.782465\n",
       "5       2020-2019      6  -9.176571 -0.664523\n",
       "6       2020-2019      7 -12.685122 -1.332934\n",
       "7       2020-2019      8 -12.739755 -0.668530\n",
       "8       2020-2019      9  -8.476111 -0.797550\n",
       "9       2020-2019     10  -7.628156 -0.766587\n",
       "10      2020-2019     11   3.912030  0.997722\n",
       "11      2020-2019     12   0.409084  0.806072"
      ]
     },
     "execution_count": 112,
     "metadata": {},
     "output_type": "execute_result"
    }
   ],
   "source": [
    "df_conf"
   ]
  },
  {
   "cell_type": "code",
   "execution_count": 113,
   "metadata": {},
   "outputs": [],
   "source": [
    "def plot_with_err(x, data, **kwargs):\n",
    "    y = data.middle\n",
    "    lines = plt.plot(x, y, '-', marker='o', **kwargs)\n",
    "    middle = data.middle\n",
    "    std = data.std_95th\n",
    "    plt.fill_between(x, middle - std, middle + std, edgecolor='none',\n",
    "                     facecolor=lines[0].get_color(), alpha=0.2)\n"
   ]
  },
  {
   "cell_type": "code",
   "execution_count": 114,
   "metadata": {},
   "outputs": [
    {
     "data": {
      "text/plain": [
       "[Text(1, 0, 'Jan'),\n",
       " Text(2, 0, 'Feb'),\n",
       " Text(3, 0, 'Mar'),\n",
       " Text(4, 0, 'Apr'),\n",
       " Text(5, 0, 'May'),\n",
       " Text(6, 0, 'Jun'),\n",
       " Text(7, 0, 'Jul'),\n",
       " Text(8, 0, 'Aug'),\n",
       " Text(9, 0, 'Sep'),\n",
       " Text(10, 0, 'Oct'),\n",
       " Text(11, 0, 'Nov'),\n",
       " Text(12, 0, 'Dec')]"
      ]
     },
     "execution_count": 114,
     "metadata": {},
     "output_type": "execute_result"
    },
    {
     "data": {
      "image/png": "[encoded data removed]",
      "text/plain": [
       "<Figure size 432x288 with 1 Axes>"
      ]
     },
     "metadata": {
      "needs_background": "light"
     },
     "output_type": "display_data"
    }
   ],
   "source": [
    "fig, ax = plt.subplots()\n",
    "plot_with_err(df_conf.Month, df_conf, color='r')\n",
    "plt.title('2019-2020 air pollution change', fontsize=16)\n",
    "plt.xticks(fontsize=12)\n",
    "plt.yticks(fontsize=12)\n",
    "\n",
    "plt.hlines(0, xmin=0, xmax=13, linestyles='--', color='black')\n",
    "plt.xlim(1,12)\n",
    "plt.ylabel('AQI relative change (%)', fontsize=15)\n",
    "plt.xlabel('Months', fontsize=15)\n",
    "plt.xticks([1,2,3,4,5,6,7,8,9,10,11,12], fontsize=12)\n",
    "ax.set_xticklabels(['Jan', 'Feb', 'Mar', 'Apr', 'May', 'Jun', 'Jul', 'Aug', 'Sep', 'Oct', 'Nov', 'Dec'])"
   ]
  },
  {
   "cell_type": "markdown",
   "metadata": {},
   "source": [
    "# DECREASE BY COUNTRY\n"
   ]
  },
  {
   "cell_type": "markdown",
   "metadata": {},
   "source": [
    "Let's modifiy the previous t_conf_interval() function to take Dataframes with the \"Country\" column:"
   ]
  },
  {
   "cell_type": "code",
   "execution_count": 115,
   "metadata": {},
   "outputs": [],
   "source": [
    "def t_conf_interval_country(df_a, df_b, percent=True, unequal_var=True, alpha=0.95):\n",
    "    '''Calculates the yearly relative change of the overall AQI for both input dataframes. The statistic is taken as AQI(df_a) - AQI(df_b).\n",
    "    INPUT: df_a, df_b: pd.Dataframe with the mean AQI values of the distributions we want to compare and the std_dev of those means\n",
    "            percent: if True a percent with its corresponding error is returned. If False, only the returned value is the difference of the mean of both df_a and df_b\n",
    "            unequal_var: if True a Welch's t-test is performed. If False population variances are assumed to be equal and thus a standard t-test is performed where the sample\n",
    "            variance is the pooled variance\n",
    "            alpha: represents the quantile to return in the confidence interval\n",
    "    OUTPUT: pd.DataFrame with the confidence interval of the yearly AQI difference'''\n",
    "    final_df = pd.DataFrame()\n",
    "    \n",
    "    countries = list(set(df_a.Country.unique()).intersection(set(df_b.Country.unique())))\n",
    "    for country in countries:\n",
    "        country_filter_a = df_a.Country == country\n",
    "        country_filter_b = df_b.Country == country\n",
    "        months = list(set(df_a[df_a.Country == country].Date.dt.month.unique()).intersection(set(df_b[df_b.Country == country].Date.dt.month.unique())))\n",
    "        for month in months:\n",
    "            month_filter_a = df_a.Date.dt.month == month\n",
    "            month_filter_b = df_b.Date.dt.month == month\n",
    "                \n",
    "            mean_a = df_a[month_filter_a & country_filter_a].AQI.values[0]\n",
    "            mean_b = df_b[month_filter_b & country_filter_b].AQI.values[0]\n",
    "\n",
    "            std_a = df_a[month_filter_a & country_filter_a].std_dev.values[0]\n",
    "            std_b = df_b[month_filter_b & country_filter_b].std_dev.values[0]\n",
    "\n",
    "            statistic = mean_a-mean_b\n",
    "\n",
    "            n_a = df_a[month_filter_a & country_filter_a]['No_points'].values[0]\n",
    "            n_b = df_b[month_filter_b & country_filter_b]['No_points'].values[0]\n",
    "            \n",
    "            if unequal_var:\n",
    "                #Apply Welch t-test method\n",
    "                std_statistic = np.sqrt(std_a**2 + std_b**2)\n",
    "                # Welch's degrees of freedom\n",
    "                degrees_freedom = (std_a**2+std_b**2)**2/(std_a**2/(n_a-1) + std_a**2/(n_b-1))\n",
    "            else:\n",
    "                # Apply standard method with pooled variance\n",
    "                std_statistic = np.sqrt(((n_a - 1)*std_a**2 + (n_b - 1)*std_b**2)/(n_a + n_b - 2))\n",
    "                degrees_freedom = n_a + n_b - 2\n",
    "\n",
    "            error = stats.t.interval(df=degrees_freedom, alpha=alpha)[1] * std_statistic\n",
    "            CI = np.array([statistic, error])\n",
    "            #Calculate percentage with respect to the previous year\n",
    "            if percent:\n",
    "                CI = (CI/mean_b)*100\n",
    "            temp_df = pd.DataFrame({'Year':str(df_a.Date.dt.year.unique()[0])+'-'+str(df_b.Date.dt.year.unique()[0]) , 'Month': month, 'Country': country, \\\n",
    "                                        'difference(%)': CI[0], 'std_95th(%)': [CI[1]]})\n",
    "            final_df = pd.concat([final_df, temp_df])\n",
    "            \n",
    "    return final_df.reset_index().drop('index', axis=1).sort_values(by='Month')"
   ]
  },
  {
   "cell_type": "code",
   "execution_count": 116,
   "metadata": {},
   "outputs": [
    {
     "name": "stdout",
     "output_type": "stream",
     "text": [
      "Implementing function: monthly_country_pollutant\n",
      "Implementing function: monthly_country_AQI\n",
      "Implementing function: yearly_country_AQI\n",
      "Wall time: 42.3 s\n"
     ]
    }
   ],
   "source": [
    "%%time\n",
    "year_country_AQI_df = yearly_country_AQI(month_city_pollut_df)"
   ]
  },
  {
   "cell_type": "code",
   "execution_count": 117,
   "metadata": {},
   "outputs": [
    {
     "name": "stderr",
     "output_type": "stream",
     "text": [
      "<ipython-input-115-20ae0855c464>:35: RuntimeWarning: divide by zero encountered in double_scalars\n",
      "  degrees_freedom = (std_a**2+std_b**2)**2/(std_a**2/(n_a-1) + std_a**2/(n_b-1))\n",
      "<ipython-input-115-20ae0855c464>:35: RuntimeWarning: divide by zero encountered in double_scalars\n",
      "  degrees_freedom = (std_a**2+std_b**2)**2/(std_a**2/(n_a-1) + std_a**2/(n_b-1))\n",
      "<ipython-input-115-20ae0855c464>:35: RuntimeWarning: divide by zero encountered in double_scalars\n",
      "  degrees_freedom = (std_a**2+std_b**2)**2/(std_a**2/(n_a-1) + std_a**2/(n_b-1))\n",
      "<ipython-input-115-20ae0855c464>:35: RuntimeWarning: divide by zero encountered in double_scalars\n",
      "  degrees_freedom = (std_a**2+std_b**2)**2/(std_a**2/(n_a-1) + std_a**2/(n_b-1))\n"
     ]
    }
   ],
   "source": [
    "df_19 = year_country_AQI_df[year_country_AQI_df.Date.dt.year == 2019]\n",
    "df_20 = year_country_AQI_df[year_country_AQI_df.Date.dt.year == 2020]\n",
    "\n",
    "comp_year_cou_df = t_conf_interval_country(df_20, df_19)"
   ]
  },
  {
   "cell_type": "code",
   "execution_count": 118,
   "metadata": {},
   "outputs": [
    {
     "data": {
      "text/html": [
       "<div>\n",
       "<style scoped>\n",
       "    .dataframe tbody tr th:only-of-type {\n",
       "        vertical-align: middle;\n",
       "    }\n",
       "\n",
       "    .dataframe tbody tr th {\n",
       "        vertical-align: top;\n",
       "    }\n",
       "\n",
       "    .dataframe thead th {\n",
       "        text-align: right;\n",
       "    }\n",
       "</style>\n",
       "<table border=\"1\" class=\"dataframe\">\n",
       "  <thead>\n",
       "    <tr style=\"text-align: right;\">\n",
       "      <th></th>\n",
       "      <th>Year</th>\n",
       "      <th>Month</th>\n",
       "      <th>Country</th>\n",
       "      <th>difference(%)</th>\n",
       "      <th>std_95th(%)</th>\n",
       "    </tr>\n",
       "  </thead>\n",
       "  <tbody>\n",
       "    <tr>\n",
       "      <th>0</th>\n",
       "      <td>2020-2019</td>\n",
       "      <td>1</td>\n",
       "      <td>KW</td>\n",
       "      <td>-5.465317</td>\n",
       "      <td>3.697483</td>\n",
       "    </tr>\n",
       "    <tr>\n",
       "      <th>65</th>\n",
       "      <td>2020-2019</td>\n",
       "      <td>1</td>\n",
       "      <td>EC</td>\n",
       "      <td>-9.590941</td>\n",
       "      <td>3.270755</td>\n",
       "    </tr>\n",
       "    <tr>\n",
       "      <th>64</th>\n",
       "      <td>2020-2019</td>\n",
       "      <td>1</td>\n",
       "      <td>NO</td>\n",
       "      <td>-7.606790</td>\n",
       "      <td>5.768952</td>\n",
       "    </tr>\n",
       "    <tr>\n",
       "      <th>63</th>\n",
       "      <td>2020-2019</td>\n",
       "      <td>1</td>\n",
       "      <td>AR</td>\n",
       "      <td>-9.868661</td>\n",
       "      <td>6.643637</td>\n",
       "    </tr>\n",
       "    <tr>\n",
       "      <th>62</th>\n",
       "      <td>2020-2019</td>\n",
       "      <td>1</td>\n",
       "      <td>UZ</td>\n",
       "      <td>-1.406493</td>\n",
       "      <td>4.141056</td>\n",
       "    </tr>\n",
       "    <tr>\n",
       "      <th>...</th>\n",
       "      <td>...</td>\n",
       "      <td>...</td>\n",
       "      <td>...</td>\n",
       "      <td>...</td>\n",
       "      <td>...</td>\n",
       "    </tr>\n",
       "    <tr>\n",
       "      <th>26</th>\n",
       "      <td>2020-2019</td>\n",
       "      <td>1</td>\n",
       "      <td>PK</td>\n",
       "      <td>-6.203477</td>\n",
       "      <td>3.920928</td>\n",
       "    </tr>\n",
       "    <tr>\n",
       "      <th>25</th>\n",
       "      <td>2020-2019</td>\n",
       "      <td>1</td>\n",
       "      <td>MK</td>\n",
       "      <td>-5.498211</td>\n",
       "      <td>4.889585</td>\n",
       "    </tr>\n",
       "    <tr>\n",
       "      <th>24</th>\n",
       "      <td>2020-2019</td>\n",
       "      <td>1</td>\n",
       "      <td>TM</td>\n",
       "      <td>-9.698096</td>\n",
       "      <td>5.691353</td>\n",
       "    </tr>\n",
       "    <tr>\n",
       "      <th>22</th>\n",
       "      <td>2020-2019</td>\n",
       "      <td>1</td>\n",
       "      <td>KZ</td>\n",
       "      <td>-2.516209</td>\n",
       "      <td>6.304006</td>\n",
       "    </tr>\n",
       "    <tr>\n",
       "      <th>90</th>\n",
       "      <td>2020-2019</td>\n",
       "      <td>1</td>\n",
       "      <td>CA</td>\n",
       "      <td>-3.915800</td>\n",
       "      <td>53.270112</td>\n",
       "    </tr>\n",
       "  </tbody>\n",
       "</table>\n",
       "<p>91 rows × 5 columns</p>\n",
       "</div>"
      ],
      "text/plain": [
       "         Year  Month Country  difference(%)  std_95th(%)\n",
       "0   2020-2019      1      KW      -5.465317     3.697483\n",
       "65  2020-2019      1      EC      -9.590941     3.270755\n",
       "64  2020-2019      1      NO      -7.606790     5.768952\n",
       "63  2020-2019      1      AR      -9.868661     6.643637\n",
       "62  2020-2019      1      UZ      -1.406493     4.141056\n",
       "..        ...    ...     ...            ...          ...\n",
       "26  2020-2019      1      PK      -6.203477     3.920928\n",
       "25  2020-2019      1      MK      -5.498211     4.889585\n",
       "24  2020-2019      1      TM      -9.698096     5.691353\n",
       "22  2020-2019      1      KZ      -2.516209     6.304006\n",
       "90  2020-2019      1      CA      -3.915800    53.270112\n",
       "\n",
       "[91 rows x 5 columns]"
      ]
     },
     "execution_count": 118,
     "metadata": {},
     "output_type": "execute_result"
    }
   ],
   "source": [
    "comp_year_cou_df"
   ]
  },
  {
   "cell_type": "code",
   "execution_count": 119,
   "metadata": {},
   "outputs": [
    {
     "data": {
      "text/plain": [
       "-7.218340687511358"
      ]
     },
     "execution_count": 119,
     "metadata": {},
     "output_type": "execute_result"
    }
   ],
   "source": [
    "comp_year_cou_df['difference(%)'].mean()"
   ]
  },
  {
   "cell_type": "code",
   "execution_count": 120,
   "metadata": {},
   "outputs": [
    {
     "data": {
      "text/plain": [
       "<AxesSubplot:>"
      ]
     },
     "execution_count": 120,
     "metadata": {},
     "output_type": "execute_result"
    },
    {
     "data": {
      "image/png": "[encoded data removed]",
      "text/plain": [
       "<Figure size 432x288 with 1 Axes>"
      ]
     },
     "metadata": {
      "needs_background": "light"
     },
     "output_type": "display_data"
    }
   ],
   "source": [
    "comp_year_cou_df['difference(%)'].hist(bins=20)"
   ]
  },
  {
   "cell_type": "markdown",
   "metadata": {},
   "source": [
    "Let's see how it's the relative change of each country per month:"
   ]
  },
  {
   "cell_type": "code",
   "execution_count": 121,
   "metadata": {},
   "outputs": [
    {
     "name": "stdout",
     "output_type": "stream",
     "text": [
      "Implementing function: monthly_country_pollutant\n",
      "Implementing function: monthly_country_AQI\n",
      "Wall time: 41.2 s\n"
     ]
    }
   ],
   "source": [
    "%%time\n",
    "month_country_AQI_df = monthly_country_AQI(month_city_pollut_df)"
   ]
  },
  {
   "cell_type": "code",
   "execution_count": 122,
   "metadata": {},
   "outputs": [
    {
     "data": {
      "text/html": [
       "<div>\n",
       "<style scoped>\n",
       "    .dataframe tbody tr th:only-of-type {\n",
       "        vertical-align: middle;\n",
       "    }\n",
       "\n",
       "    .dataframe tbody tr th {\n",
       "        vertical-align: top;\n",
       "    }\n",
       "\n",
       "    .dataframe thead th {\n",
       "        text-align: right;\n",
       "    }\n",
       "</style>\n",
       "<table border=\"1\" class=\"dataframe\">\n",
       "  <thead>\n",
       "    <tr style=\"text-align: right;\">\n",
       "      <th></th>\n",
       "      <th>Date</th>\n",
       "      <th>Country</th>\n",
       "      <th>Country_name</th>\n",
       "      <th>cou_pop_density</th>\n",
       "      <th>Total_no_points</th>\n",
       "      <th>Most_present_pollutant</th>\n",
       "      <th>No_points</th>\n",
       "      <th>AQI</th>\n",
       "      <th>std_dev</th>\n",
       "      <th>conf_interval_95%</th>\n",
       "    </tr>\n",
       "  </thead>\n",
       "  <tbody>\n",
       "    <tr>\n",
       "      <th>0</th>\n",
       "      <td>2019-01-01</td>\n",
       "      <td>AE</td>\n",
       "      <td>United Arab Emirates</td>\n",
       "      <td>135.60911</td>\n",
       "      <td>5</td>\n",
       "      <td>pm25</td>\n",
       "      <td>1</td>\n",
       "      <td>109.161290</td>\n",
       "      <td>5.040955</td>\n",
       "      <td>10.295004</td>\n",
       "    </tr>\n",
       "    <tr>\n",
       "      <th>1</th>\n",
       "      <td>2019-08-01</td>\n",
       "      <td>AE</td>\n",
       "      <td>United Arab Emirates</td>\n",
       "      <td>135.60911</td>\n",
       "      <td>8</td>\n",
       "      <td>pm25</td>\n",
       "      <td>2</td>\n",
       "      <td>143.159622</td>\n",
       "      <td>2.205143</td>\n",
       "      <td>28.019000</td>\n",
       "    </tr>\n",
       "    <tr>\n",
       "      <th>2</th>\n",
       "      <td>2019-09-01</td>\n",
       "      <td>AE</td>\n",
       "      <td>United Arab Emirates</td>\n",
       "      <td>135.60911</td>\n",
       "      <td>8</td>\n",
       "      <td>pm25</td>\n",
       "      <td>2</td>\n",
       "      <td>133.426344</td>\n",
       "      <td>2.950524</td>\n",
       "      <td>37.489959</td>\n",
       "    </tr>\n",
       "    <tr>\n",
       "      <th>3</th>\n",
       "      <td>2019-07-01</td>\n",
       "      <td>AE</td>\n",
       "      <td>United Arab Emirates</td>\n",
       "      <td>135.60911</td>\n",
       "      <td>8</td>\n",
       "      <td>pm25</td>\n",
       "      <td>2</td>\n",
       "      <td>138.854839</td>\n",
       "      <td>2.595570</td>\n",
       "      <td>32.979846</td>\n",
       "    </tr>\n",
       "    <tr>\n",
       "      <th>4</th>\n",
       "      <td>2019-10-01</td>\n",
       "      <td>AE</td>\n",
       "      <td>United Arab Emirates</td>\n",
       "      <td>135.60911</td>\n",
       "      <td>8</td>\n",
       "      <td>pm25</td>\n",
       "      <td>2</td>\n",
       "      <td>129.823529</td>\n",
       "      <td>5.591859</td>\n",
       "      <td>71.051302</td>\n",
       "    </tr>\n",
       "  </tbody>\n",
       "</table>\n",
       "</div>"
      ],
      "text/plain": [
       "        Date Country          Country_name  cou_pop_density  Total_no_points  \\\n",
       "0 2019-01-01      AE  United Arab Emirates        135.60911                5   \n",
       "1 2019-08-01      AE  United Arab Emirates        135.60911                8   \n",
       "2 2019-09-01      AE  United Arab Emirates        135.60911                8   \n",
       "3 2019-07-01      AE  United Arab Emirates        135.60911                8   \n",
       "4 2019-10-01      AE  United Arab Emirates        135.60911                8   \n",
       "\n",
       "  Most_present_pollutant  No_points         AQI   std_dev  conf_interval_95%  \n",
       "0                   pm25          1  109.161290  5.040955          10.295004  \n",
       "1                   pm25          2  143.159622  2.205143          28.019000  \n",
       "2                   pm25          2  133.426344  2.950524          37.489959  \n",
       "3                   pm25          2  138.854839  2.595570          32.979846  \n",
       "4                   pm25          2  129.823529  5.591859          71.051302  "
      ]
     },
     "execution_count": 122,
     "metadata": {},
     "output_type": "execute_result"
    }
   ],
   "source": [
    "month_country_AQI_df.head()"
   ]
  },
  {
   "cell_type": "code",
   "execution_count": 123,
   "metadata": {},
   "outputs": [],
   "source": [
    "import warnings\n",
    "warnings.filterwarnings('ignore')\n",
    "comp_month_cou_df = t_conf_interval_country(month_country_AQI_df[month_country_AQI_df.Date.dt.year == 2020], month_country_AQI_df[month_country_AQI_df.Date.dt.year == 2019])"
   ]
  },
  {
   "cell_type": "code",
   "execution_count": 124,
   "metadata": {},
   "outputs": [
    {
     "data": {
      "text/html": [
       "<div>\n",
       "<style scoped>\n",
       "    .dataframe tbody tr th:only-of-type {\n",
       "        vertical-align: middle;\n",
       "    }\n",
       "\n",
       "    .dataframe tbody tr th {\n",
       "        vertical-align: top;\n",
       "    }\n",
       "\n",
       "    .dataframe thead th {\n",
       "        text-align: right;\n",
       "    }\n",
       "</style>\n",
       "<table border=\"1\" class=\"dataframe\">\n",
       "  <thead>\n",
       "    <tr style=\"text-align: right;\">\n",
       "      <th></th>\n",
       "      <th>Year</th>\n",
       "      <th>Month</th>\n",
       "      <th>Country</th>\n",
       "      <th>difference(%)</th>\n",
       "      <th>std_95th(%)</th>\n",
       "    </tr>\n",
       "  </thead>\n",
       "  <tbody>\n",
       "    <tr>\n",
       "      <th>879</th>\n",
       "      <td>2020-2019</td>\n",
       "      <td>1</td>\n",
       "      <td>IR</td>\n",
       "      <td>inf</td>\n",
       "      <td>inf</td>\n",
       "    </tr>\n",
       "    <tr>\n",
       "      <th>880</th>\n",
       "      <td>2020-2019</td>\n",
       "      <td>2</td>\n",
       "      <td>IR</td>\n",
       "      <td>2.595561e+04</td>\n",
       "      <td>1081.463829</td>\n",
       "    </tr>\n",
       "    <tr>\n",
       "      <th>797</th>\n",
       "      <td>2020-2019</td>\n",
       "      <td>3</td>\n",
       "      <td>SA</td>\n",
       "      <td>inf</td>\n",
       "      <td>NaN</td>\n",
       "    </tr>\n",
       "    <tr>\n",
       "      <th>798</th>\n",
       "      <td>2020-2019</td>\n",
       "      <td>4</td>\n",
       "      <td>SA</td>\n",
       "      <td>inf</td>\n",
       "      <td>NaN</td>\n",
       "    </tr>\n",
       "    <tr>\n",
       "      <th>799</th>\n",
       "      <td>2020-2019</td>\n",
       "      <td>5</td>\n",
       "      <td>SA</td>\n",
       "      <td>inf</td>\n",
       "      <td>NaN</td>\n",
       "    </tr>\n",
       "    <tr>\n",
       "      <th>883</th>\n",
       "      <td>2020-2019</td>\n",
       "      <td>5</td>\n",
       "      <td>IR</td>\n",
       "      <td>1.072034e+04</td>\n",
       "      <td>384.486501</td>\n",
       "    </tr>\n",
       "    <tr>\n",
       "      <th>800</th>\n",
       "      <td>2020-2019</td>\n",
       "      <td>6</td>\n",
       "      <td>SA</td>\n",
       "      <td>inf</td>\n",
       "      <td>NaN</td>\n",
       "    </tr>\n",
       "  </tbody>\n",
       "</table>\n",
       "</div>"
      ],
      "text/plain": [
       "          Year  Month Country  difference(%)  std_95th(%)\n",
       "879  2020-2019      1      IR            inf          inf\n",
       "880  2020-2019      2      IR   2.595561e+04  1081.463829\n",
       "797  2020-2019      3      SA            inf          NaN\n",
       "798  2020-2019      4      SA            inf          NaN\n",
       "799  2020-2019      5      SA            inf          NaN\n",
       "883  2020-2019      5      IR   1.072034e+04   384.486501\n",
       "800  2020-2019      6      SA            inf          NaN"
      ]
     },
     "execution_count": 124,
     "metadata": {},
     "output_type": "execute_result"
    }
   ],
   "source": [
    "comp_month_cou_df[comp_month_cou_df['difference(%)'] > 10000]"
   ]
  },
  {
   "cell_type": "code",
   "execution_count": 125,
   "metadata": {},
   "outputs": [
    {
     "data": {
      "text/plain": [
       "[Text(1, 0, 'Jan'),\n",
       " Text(2, 0, 'Feb'),\n",
       " Text(3, 0, 'Mar'),\n",
       " Text(4, 0, 'Apr'),\n",
       " Text(5, 0, 'May'),\n",
       " Text(6, 0, 'Jun'),\n",
       " Text(7, 0, 'Jul'),\n",
       " Text(8, 0, 'Aug'),\n",
       " Text(9, 0, 'Sep'),\n",
       " Text(10, 0, 'Oct'),\n",
       " Text(11, 0, 'Nov'),\n",
       " Text(12, 0, 'Dec')]"
      ]
     },
     "execution_count": 125,
     "metadata": {},
     "output_type": "execute_result"
    },
    {
     "data": {
      "image/png": "[encoded data removed]",
      "text/plain": [
       "<Figure size 432x288 with 1 Axes>"
      ]
     },
     "metadata": {
      "needs_background": "light"
     },
     "output_type": "display_data"
    }
   ],
   "source": [
    "fig, ax = plt.subplots()\n",
    "comp_month_cou_df.boxplot(by='Month', column='difference(%)', ax=ax);\n",
    "plt.ylim(-100, 200)\n",
    "plt.xlim(0, 13)\n",
    "plt.title('Country spread per month')\n",
    "plt.suptitle('')\n",
    "plt.hlines(y=0, xmin=0, xmax=13, linestyles='--', color='black')\n",
    "\n",
    "plt.xticks([1,2,3,4,5,6,7,8,9,10,11,12], fontsize=12)\n",
    "ax.set_xticklabels(['Jan', 'Feb', 'Mar', 'Apr', 'May', 'Jun', 'Jul', 'Aug', 'Sep', 'Oct', 'Nov', 'Dec'])"
   ]
  },
  {
   "cell_type": "code",
   "execution_count": 126,
   "metadata": {},
   "outputs": [],
   "source": [
    "selected_countries = ['ES', 'US', 'DE', 'FR', 'IN', 'CN', 'SG', 'SE', 'IT', 'PL', 'PT', 'CH', 'TH', 'BR', 'AR', 'CO', 'MX', 'AU', 'CA', 'ZA', 'RS', 'KR', 'GB']"
   ]
  },
  {
   "cell_type": "code",
   "execution_count": 127,
   "metadata": {},
   "outputs": [
    {
     "data": {
      "text/plain": [
       "<AxesSubplot:ylabel='Country'>"
      ]
     },
     "execution_count": 127,
     "metadata": {},
     "output_type": "execute_result"
    },
    {
     "data": {
      "image/png": "[encoded data removed]",
      "text/plain": [
       "<Figure size 432x288 with 1 Axes>"
      ]
     },
     "metadata": {
      "needs_background": "light"
     },
     "output_type": "display_data"
    }
   ],
   "source": [
    "bool_cou = comp_year_cou_df.Country.apply(lambda cell: cell in selected_countries)\n",
    "comp_year_cou_df[bool_cou].sort_values(by='difference(%)').plot.barh(x='Country', y='difference(%)')"
   ]
  },
  {
   "cell_type": "code",
   "execution_count": 145,
   "metadata": {},
   "outputs": [
    {
     "data": {
      "text/html": [
       "<div>\n",
       "<style scoped>\n",
       "    .dataframe tbody tr th:only-of-type {\n",
       "        vertical-align: middle;\n",
       "    }\n",
       "\n",
       "    .dataframe tbody tr th {\n",
       "        vertical-align: top;\n",
       "    }\n",
       "\n",
       "    .dataframe thead th {\n",
       "        text-align: right;\n",
       "    }\n",
       "</style>\n",
       "<table border=\"1\" class=\"dataframe\">\n",
       "  <thead>\n",
       "    <tr style=\"text-align: right;\">\n",
       "      <th></th>\n",
       "      <th>Year</th>\n",
       "      <th>Month</th>\n",
       "      <th>Country</th>\n",
       "      <th>difference(%)</th>\n",
       "      <th>std_95th(%)</th>\n",
       "    </tr>\n",
       "  </thead>\n",
       "  <tbody>\n",
       "    <tr>\n",
       "      <th>10</th>\n",
       "      <td>2020-2019</td>\n",
       "      <td>1</td>\n",
       "      <td>VN</td>\n",
       "      <td>-72.687644</td>\n",
       "      <td>0.989086</td>\n",
       "    </tr>\n",
       "    <tr>\n",
       "      <th>82</th>\n",
       "      <td>2020-2019</td>\n",
       "      <td>1</td>\n",
       "      <td>BG</td>\n",
       "      <td>-62.905103</td>\n",
       "      <td>3.451469</td>\n",
       "    </tr>\n",
       "    <tr>\n",
       "      <th>14</th>\n",
       "      <td>2020-2019</td>\n",
       "      <td>1</td>\n",
       "      <td>AF</td>\n",
       "      <td>-40.696319</td>\n",
       "      <td>8.327065</td>\n",
       "    </tr>\n",
       "    <tr>\n",
       "      <th>85</th>\n",
       "      <td>2020-2019</td>\n",
       "      <td>1</td>\n",
       "      <td>GR</td>\n",
       "      <td>-38.608529</td>\n",
       "      <td>40.670487</td>\n",
       "    </tr>\n",
       "    <tr>\n",
       "      <th>84</th>\n",
       "      <td>2020-2019</td>\n",
       "      <td>1</td>\n",
       "      <td>PH</td>\n",
       "      <td>-36.856381</td>\n",
       "      <td>23.461048</td>\n",
       "    </tr>\n",
       "    <tr>\n",
       "      <th>...</th>\n",
       "      <td>...</td>\n",
       "      <td>...</td>\n",
       "      <td>...</td>\n",
       "      <td>...</td>\n",
       "      <td>...</td>\n",
       "    </tr>\n",
       "    <tr>\n",
       "      <th>68</th>\n",
       "      <td>2020-2019</td>\n",
       "      <td>1</td>\n",
       "      <td>MM</td>\n",
       "      <td>27.775030</td>\n",
       "      <td>5.732855</td>\n",
       "    </tr>\n",
       "    <tr>\n",
       "      <th>75</th>\n",
       "      <td>2020-2019</td>\n",
       "      <td>1</td>\n",
       "      <td>CR</td>\n",
       "      <td>27.880133</td>\n",
       "      <td>NaN</td>\n",
       "    </tr>\n",
       "    <tr>\n",
       "      <th>88</th>\n",
       "      <td>2020-2019</td>\n",
       "      <td>1</td>\n",
       "      <td>RO</td>\n",
       "      <td>43.774010</td>\n",
       "      <td>11.848669</td>\n",
       "    </tr>\n",
       "    <tr>\n",
       "      <th>73</th>\n",
       "      <td>2020-2019</td>\n",
       "      <td>1</td>\n",
       "      <td>SA</td>\n",
       "      <td>53.252279</td>\n",
       "      <td>5.484815</td>\n",
       "    </tr>\n",
       "    <tr>\n",
       "      <th>81</th>\n",
       "      <td>2020-2019</td>\n",
       "      <td>1</td>\n",
       "      <td>IR</td>\n",
       "      <td>58.108316</td>\n",
       "      <td>8.085406</td>\n",
       "    </tr>\n",
       "  </tbody>\n",
       "</table>\n",
       "<p>91 rows × 5 columns</p>\n",
       "</div>"
      ],
      "text/plain": [
       "         Year  Month Country  difference(%)  std_95th(%)\n",
       "10  2020-2019      1      VN     -72.687644     0.989086\n",
       "82  2020-2019      1      BG     -62.905103     3.451469\n",
       "14  2020-2019      1      AF     -40.696319     8.327065\n",
       "85  2020-2019      1      GR     -38.608529    40.670487\n",
       "84  2020-2019      1      PH     -36.856381    23.461048\n",
       "..        ...    ...     ...            ...          ...\n",
       "68  2020-2019      1      MM      27.775030     5.732855\n",
       "75  2020-2019      1      CR      27.880133          NaN\n",
       "88  2020-2019      1      RO      43.774010    11.848669\n",
       "73  2020-2019      1      SA      53.252279     5.484815\n",
       "81  2020-2019      1      IR      58.108316     8.085406\n",
       "\n",
       "[91 rows x 5 columns]"
      ]
     },
     "execution_count": 145,
     "metadata": {},
     "output_type": "execute_result"
    }
   ],
   "source": [
    "comp_year_cou_df.sort_values(by='difference(%)')"
   ]
  },
  {
   "cell_type": "markdown",
   "metadata": {},
   "source": [
    "# I SHOULD USE THE FUNCTION AT THE END OF THIS NOTEBOOK TO SELECTR THE COUNTRIES WHERE THERE IS DATA FOR EVERY MONTH, OR AT LEAS WITH A MINIMUM VALUE OF 8. THIS CAN BE APPLIED TO THE VERY BEGINNING AND DO THE REST OF CALCULATIONS IN THE SAME MANNER BUT WITH LESS COUNTRIES.\n",
    "\n",
    "# WHAT ABOUT DOING IT ONLY FOR SPAIN, THE us, JAPAN (OR CHINA) AND ANOTHER FROM AFRICA? OR ONLY FOR SPAIN, AND ADDING SOME INFO ABOUT THE REST OF THE WORLD AVERAGE. "
   ]
  },
  {
   "cell_type": "code",
   "execution_count": 163,
   "metadata": {},
   "outputs": [
    {
     "data": {
      "text/html": [
       "<div>\n",
       "<style scoped>\n",
       "    .dataframe tbody tr th:only-of-type {\n",
       "        vertical-align: middle;\n",
       "    }\n",
       "\n",
       "    .dataframe tbody tr th {\n",
       "        vertical-align: top;\n",
       "    }\n",
       "\n",
       "    .dataframe thead th {\n",
       "        text-align: right;\n",
       "    }\n",
       "</style>\n",
       "<table border=\"1\" class=\"dataframe\">\n",
       "  <thead>\n",
       "    <tr style=\"text-align: right;\">\n",
       "      <th></th>\n",
       "      <th>Date</th>\n",
       "      <th>Country</th>\n",
       "      <th>Country_name</th>\n",
       "      <th>City</th>\n",
       "      <th>cou_pop_density</th>\n",
       "      <th>Total_no_points</th>\n",
       "      <th>Most_present_pollutant</th>\n",
       "      <th>No_points</th>\n",
       "      <th>AQI</th>\n",
       "      <th>std_dev</th>\n",
       "      <th>conf_interval_95%</th>\n",
       "    </tr>\n",
       "  </thead>\n",
       "  <tbody>\n",
       "    <tr>\n",
       "      <th>1985</th>\n",
       "      <td>2019-01-01</td>\n",
       "      <td>FR</td>\n",
       "      <td>France</td>\n",
       "      <td>Tours</td>\n",
       "      <td>122.299435</td>\n",
       "      <td>3438</td>\n",
       "      <td>pm25</td>\n",
       "      <td>29</td>\n",
       "      <td>58.137931</td>\n",
       "      <td>3.903328</td>\n",
       "      <td>7.995604</td>\n",
       "    </tr>\n",
       "    <tr>\n",
       "      <th>1997</th>\n",
       "      <td>2019-01-01</td>\n",
       "      <td>FR</td>\n",
       "      <td>France</td>\n",
       "      <td>Marseille</td>\n",
       "      <td>122.299435</td>\n",
       "      <td>3438</td>\n",
       "      <td>pm25</td>\n",
       "      <td>29</td>\n",
       "      <td>58.137931</td>\n",
       "      <td>3.903328</td>\n",
       "      <td>7.995604</td>\n",
       "    </tr>\n",
       "    <tr>\n",
       "      <th>2010</th>\n",
       "      <td>2019-01-01</td>\n",
       "      <td>FR</td>\n",
       "      <td>France</td>\n",
       "      <td>Nîmes</td>\n",
       "      <td>122.299435</td>\n",
       "      <td>3438</td>\n",
       "      <td>pm25</td>\n",
       "      <td>29</td>\n",
       "      <td>58.137931</td>\n",
       "      <td>3.903328</td>\n",
       "      <td>7.995604</td>\n",
       "    </tr>\n",
       "    <tr>\n",
       "      <th>2213</th>\n",
       "      <td>2019-01-01</td>\n",
       "      <td>FR</td>\n",
       "      <td>France</td>\n",
       "      <td>Perpignan</td>\n",
       "      <td>122.299435</td>\n",
       "      <td>3438</td>\n",
       "      <td>pm25</td>\n",
       "      <td>29</td>\n",
       "      <td>58.137931</td>\n",
       "      <td>3.903328</td>\n",
       "      <td>7.995604</td>\n",
       "    </tr>\n",
       "    <tr>\n",
       "      <th>2225</th>\n",
       "      <td>2019-01-01</td>\n",
       "      <td>FR</td>\n",
       "      <td>France</td>\n",
       "      <td>Bordeaux</td>\n",
       "      <td>122.299435</td>\n",
       "      <td>3438</td>\n",
       "      <td>pm25</td>\n",
       "      <td>29</td>\n",
       "      <td>58.137931</td>\n",
       "      <td>3.903328</td>\n",
       "      <td>7.995604</td>\n",
       "    </tr>\n",
       "    <tr>\n",
       "      <th>2237</th>\n",
       "      <td>2019-01-01</td>\n",
       "      <td>FR</td>\n",
       "      <td>France</td>\n",
       "      <td>Nice</td>\n",
       "      <td>122.299435</td>\n",
       "      <td>3438</td>\n",
       "      <td>pm25</td>\n",
       "      <td>29</td>\n",
       "      <td>58.137931</td>\n",
       "      <td>3.903328</td>\n",
       "      <td>7.995604</td>\n",
       "    </tr>\n",
       "    <tr>\n",
       "      <th>2248</th>\n",
       "      <td>2019-01-01</td>\n",
       "      <td>FR</td>\n",
       "      <td>France</td>\n",
       "      <td>Saint-Étienne</td>\n",
       "      <td>122.299435</td>\n",
       "      <td>3438</td>\n",
       "      <td>pm25</td>\n",
       "      <td>29</td>\n",
       "      <td>58.137931</td>\n",
       "      <td>3.903328</td>\n",
       "      <td>7.995604</td>\n",
       "    </tr>\n",
       "    <tr>\n",
       "      <th>2260</th>\n",
       "      <td>2019-01-01</td>\n",
       "      <td>FR</td>\n",
       "      <td>France</td>\n",
       "      <td>Metz</td>\n",
       "      <td>122.299435</td>\n",
       "      <td>3438</td>\n",
       "      <td>pm25</td>\n",
       "      <td>29</td>\n",
       "      <td>58.137931</td>\n",
       "      <td>3.903328</td>\n",
       "      <td>7.995604</td>\n",
       "    </tr>\n",
       "    <tr>\n",
       "      <th>2272</th>\n",
       "      <td>2019-01-01</td>\n",
       "      <td>FR</td>\n",
       "      <td>France</td>\n",
       "      <td>Strasbourg</td>\n",
       "      <td>122.299435</td>\n",
       "      <td>3438</td>\n",
       "      <td>pm25</td>\n",
       "      <td>29</td>\n",
       "      <td>58.137931</td>\n",
       "      <td>3.903328</td>\n",
       "      <td>7.995604</td>\n",
       "    </tr>\n",
       "    <tr>\n",
       "      <th>2200</th>\n",
       "      <td>2019-01-01</td>\n",
       "      <td>FR</td>\n",
       "      <td>France</td>\n",
       "      <td>Limoges</td>\n",
       "      <td>122.299435</td>\n",
       "      <td>3438</td>\n",
       "      <td>pm25</td>\n",
       "      <td>29</td>\n",
       "      <td>58.137931</td>\n",
       "      <td>3.903328</td>\n",
       "      <td>7.995604</td>\n",
       "    </tr>\n",
       "    <tr>\n",
       "      <th>2190</th>\n",
       "      <td>2019-01-01</td>\n",
       "      <td>FR</td>\n",
       "      <td>France</td>\n",
       "      <td>Toulon</td>\n",
       "      <td>122.299435</td>\n",
       "      <td>3438</td>\n",
       "      <td>pm25</td>\n",
       "      <td>29</td>\n",
       "      <td>58.137931</td>\n",
       "      <td>3.903328</td>\n",
       "      <td>7.995604</td>\n",
       "    </tr>\n",
       "    <tr>\n",
       "      <th>2033</th>\n",
       "      <td>2019-01-01</td>\n",
       "      <td>FR</td>\n",
       "      <td>France</td>\n",
       "      <td>Nantes</td>\n",
       "      <td>122.299435</td>\n",
       "      <td>3438</td>\n",
       "      <td>pm25</td>\n",
       "      <td>29</td>\n",
       "      <td>58.137931</td>\n",
       "      <td>3.903328</td>\n",
       "      <td>7.995604</td>\n",
       "    </tr>\n",
       "    <tr>\n",
       "      <th>2046</th>\n",
       "      <td>2019-01-01</td>\n",
       "      <td>FR</td>\n",
       "      <td>France</td>\n",
       "      <td>Rennes</td>\n",
       "      <td>122.299435</td>\n",
       "      <td>3438</td>\n",
       "      <td>pm25</td>\n",
       "      <td>29</td>\n",
       "      <td>58.137931</td>\n",
       "      <td>3.903328</td>\n",
       "      <td>7.995604</td>\n",
       "    </tr>\n",
       "    <tr>\n",
       "      <th>2058</th>\n",
       "      <td>2019-01-01</td>\n",
       "      <td>FR</td>\n",
       "      <td>France</td>\n",
       "      <td>Toulouse</td>\n",
       "      <td>122.299435</td>\n",
       "      <td>3438</td>\n",
       "      <td>pm25</td>\n",
       "      <td>29</td>\n",
       "      <td>58.137931</td>\n",
       "      <td>3.903328</td>\n",
       "      <td>7.995604</td>\n",
       "    </tr>\n",
       "    <tr>\n",
       "      <th>2068</th>\n",
       "      <td>2019-01-01</td>\n",
       "      <td>FR</td>\n",
       "      <td>France</td>\n",
       "      <td>Nancy</td>\n",
       "      <td>122.299435</td>\n",
       "      <td>3438</td>\n",
       "      <td>pm25</td>\n",
       "      <td>29</td>\n",
       "      <td>58.137931</td>\n",
       "      <td>3.903328</td>\n",
       "      <td>7.995604</td>\n",
       "    </tr>\n",
       "    <tr>\n",
       "      <th>2082</th>\n",
       "      <td>2019-01-01</td>\n",
       "      <td>FR</td>\n",
       "      <td>France</td>\n",
       "      <td>Clermont-Ferrand</td>\n",
       "      <td>122.299435</td>\n",
       "      <td>3438</td>\n",
       "      <td>pm25</td>\n",
       "      <td>29</td>\n",
       "      <td>58.137931</td>\n",
       "      <td>3.903328</td>\n",
       "      <td>7.995604</td>\n",
       "    </tr>\n",
       "    <tr>\n",
       "      <th>2094</th>\n",
       "      <td>2019-01-01</td>\n",
       "      <td>FR</td>\n",
       "      <td>France</td>\n",
       "      <td>Paris</td>\n",
       "      <td>122.299435</td>\n",
       "      <td>3438</td>\n",
       "      <td>pm25</td>\n",
       "      <td>29</td>\n",
       "      <td>58.137931</td>\n",
       "      <td>3.903328</td>\n",
       "      <td>7.995604</td>\n",
       "    </tr>\n",
       "    <tr>\n",
       "      <th>2104</th>\n",
       "      <td>2019-01-01</td>\n",
       "      <td>FR</td>\n",
       "      <td>France</td>\n",
       "      <td>Lille</td>\n",
       "      <td>122.299435</td>\n",
       "      <td>3438</td>\n",
       "      <td>pm25</td>\n",
       "      <td>29</td>\n",
       "      <td>58.137931</td>\n",
       "      <td>3.903328</td>\n",
       "      <td>7.995604</td>\n",
       "    </tr>\n",
       "    <tr>\n",
       "      <th>2116</th>\n",
       "      <td>2019-01-01</td>\n",
       "      <td>FR</td>\n",
       "      <td>France</td>\n",
       "      <td>Orléans</td>\n",
       "      <td>122.299435</td>\n",
       "      <td>3438</td>\n",
       "      <td>pm25</td>\n",
       "      <td>29</td>\n",
       "      <td>58.137931</td>\n",
       "      <td>3.903328</td>\n",
       "      <td>7.995604</td>\n",
       "    </tr>\n",
       "    <tr>\n",
       "      <th>2130</th>\n",
       "      <td>2019-01-01</td>\n",
       "      <td>FR</td>\n",
       "      <td>France</td>\n",
       "      <td>Montpellier</td>\n",
       "      <td>122.299435</td>\n",
       "      <td>3438</td>\n",
       "      <td>pm25</td>\n",
       "      <td>29</td>\n",
       "      <td>58.137931</td>\n",
       "      <td>3.903328</td>\n",
       "      <td>7.995604</td>\n",
       "    </tr>\n",
       "  </tbody>\n",
       "</table>\n",
       "</div>"
      ],
      "text/plain": [
       "           Date Country Country_name              City  cou_pop_density  \\\n",
       "1985 2019-01-01      FR       France             Tours       122.299435   \n",
       "1997 2019-01-01      FR       France         Marseille       122.299435   \n",
       "2010 2019-01-01      FR       France             Nîmes       122.299435   \n",
       "2213 2019-01-01      FR       France         Perpignan       122.299435   \n",
       "2225 2019-01-01      FR       France          Bordeaux       122.299435   \n",
       "2237 2019-01-01      FR       France              Nice       122.299435   \n",
       "2248 2019-01-01      FR       France     Saint-Étienne       122.299435   \n",
       "2260 2019-01-01      FR       France              Metz       122.299435   \n",
       "2272 2019-01-01      FR       France        Strasbourg       122.299435   \n",
       "2200 2019-01-01      FR       France           Limoges       122.299435   \n",
       "2190 2019-01-01      FR       France            Toulon       122.299435   \n",
       "2033 2019-01-01      FR       France            Nantes       122.299435   \n",
       "2046 2019-01-01      FR       France            Rennes       122.299435   \n",
       "2058 2019-01-01      FR       France          Toulouse       122.299435   \n",
       "2068 2019-01-01      FR       France             Nancy       122.299435   \n",
       "2082 2019-01-01      FR       France  Clermont-Ferrand       122.299435   \n",
       "2094 2019-01-01      FR       France             Paris       122.299435   \n",
       "2104 2019-01-01      FR       France             Lille       122.299435   \n",
       "2116 2019-01-01      FR       France           Orléans       122.299435   \n",
       "2130 2019-01-01      FR       France       Montpellier       122.299435   \n",
       "\n",
       "      Total_no_points Most_present_pollutant  No_points        AQI   std_dev  \\\n",
       "1985             3438                   pm25         29  58.137931  3.903328   \n",
       "1997             3438                   pm25         29  58.137931  3.903328   \n",
       "2010             3438                   pm25         29  58.137931  3.903328   \n",
       "2213             3438                   pm25         29  58.137931  3.903328   \n",
       "2225             3438                   pm25         29  58.137931  3.903328   \n",
       "2237             3438                   pm25         29  58.137931  3.903328   \n",
       "2248             3438                   pm25         29  58.137931  3.903328   \n",
       "2260             3438                   pm25         29  58.137931  3.903328   \n",
       "2272             3438                   pm25         29  58.137931  3.903328   \n",
       "2200             3438                   pm25         29  58.137931  3.903328   \n",
       "2190             3438                   pm25         29  58.137931  3.903328   \n",
       "2033             3438                   pm25         29  58.137931  3.903328   \n",
       "2046             3438                   pm25         29  58.137931  3.903328   \n",
       "2058             3438                   pm25         29  58.137931  3.903328   \n",
       "2068             3438                   pm25         29  58.137931  3.903328   \n",
       "2082             3438                   pm25         29  58.137931  3.903328   \n",
       "2094             3438                   pm25         29  58.137931  3.903328   \n",
       "2104             3438                   pm25         29  58.137931  3.903328   \n",
       "2116             3438                   pm25         29  58.137931  3.903328   \n",
       "2130             3438                   pm25         29  58.137931  3.903328   \n",
       "\n",
       "      conf_interval_95%  \n",
       "1985           7.995604  \n",
       "1997           7.995604  \n",
       "2010           7.995604  \n",
       "2213           7.995604  \n",
       "2225           7.995604  \n",
       "2237           7.995604  \n",
       "2248           7.995604  \n",
       "2260           7.995604  \n",
       "2272           7.995604  \n",
       "2200           7.995604  \n",
       "2190           7.995604  \n",
       "2033           7.995604  \n",
       "2046           7.995604  \n",
       "2058           7.995604  \n",
       "2068           7.995604  \n",
       "2082           7.995604  \n",
       "2094           7.995604  \n",
       "2104           7.995604  \n",
       "2116           7.995604  \n",
       "2130           7.995604  "
      ]
     },
     "execution_count": 163,
     "metadata": {},
     "output_type": "execute_result"
    }
   ],
   "source": [
    "month_city_AQI_df[month_city_AQI_df.Country == 'FR'].head(20)"
   ]
  },
  {
   "cell_type": "markdown",
   "metadata": {},
   "source": [
    "## How did the world's main city centers change?"
   ]
  },
  {
   "cell_type": "code",
   "execution_count": null,
   "metadata": {},
   "outputs": [],
   "source": []
  },
  {
   "cell_type": "markdown",
   "metadata": {},
   "source": [
    "We have looked at the worldwide and country changes between 2019 and 2020. We will now focus now on particular cities. "
   ]
  },
  {
   "cell_type": "code",
   "execution_count": 164,
   "metadata": {},
   "outputs": [],
   "source": [
    "def monthly_city_AQI(df):\n",
    "    '''Calculates the monthly overall AQI average for all cities in the dataset.\n",
    "    INPUT: pd.DataFrame. Either the original dataset or the output from monthly_city_pollutant()\n",
    "    OUTPUT: pd.DataFrame with the monthly overall AQI average for all cities'''\n",
    "    \n",
    "    if 'AQI' not in df.columns:\n",
    "        print('Implementing function: monthly_city_pollutant. This may take a while')\n",
    "        df = monthly_city_pollutant(df)\n",
    "    print('Implementing function: monthly_city_AQI')\n",
    "    \n",
    "    final_df = pd.DataFrame()\n",
    "    years = np.sort(df.Date.dt.year.unique())\n",
    "    for year in years:\n",
    "        year_df = df[df.Date.dt.year == year]\n",
    "        countries = year_df.Country.unique()\n",
    "        for country in countries:\n",
    "            country_df = year_df[year_df.Country == country]\n",
    "            cities = country_df.City.unique()\n",
    "            for city in cities:\n",
    "                city_df = country_df[country_df.City == city]\n",
    "                months = city_df.Date.dt.month.unique()\n",
    "                for month in months:\n",
    "                    month_df = city_df[country_df.Date.dt.month == month]\n",
    "\n",
    "                    max_idx = month_df['AQI'].idxmax()\n",
    "                    overall_monthly_AQI = month_df.loc[max_idx, 'AQI']\n",
    "                    most_present_pollutant = month_df.loc[max_idx, 'Pollutant']\n",
    "                    std_dev_monthly_AQI = month_df.loc[max_idx, 'std_dev']\n",
    "                    conf_interval_monthly_AQI = month_df.loc[max_idx, 'conf_interval_95%']\n",
    "                    total_no_points = month_df.No_points.sum()\n",
    "                    no_points = month_df.loc[max_idx, 'No_points']\n",
    "\n",
    "\n",
    "\n",
    "                    date_string = '{}/{}'.format(year, month)\n",
    "                    temp_df = pd.DataFrame({'Date': datetime.strptime(date_string, '%Y/%m'), 'Country': country, 'Country_name': month_df.Country_name.unique()[0], 'City':city, \\\n",
    "                                            'cou_pop_density': month_df.cou_pop_density.unique()[0], 'Total_no_points': total_no_points, 'Most_present_pollutant': most_present_pollutant, \\\n",
    "                                                'No_points': no_points, 'AQI': [overall_monthly_AQI], 'std_dev': std_dev_monthly_AQI, 'conf_interval_95%': conf_interval_monthly_AQI})\n",
    "                    final_df = pd.concat([final_df, temp_df])    \n",
    "                    \n",
    "    return final_df.reset_index().drop('index', axis=1)"
   ]
  },
  {
   "cell_type": "code",
   "execution_count": 165,
   "metadata": {},
   "outputs": [
    {
     "name": "stdout",
     "output_type": "stream",
     "text": [
      "Implementing function: monthly_city_AQI\n",
      "Wall time: 1min 15s\n"
     ]
    }
   ],
   "source": [
    "%%time\n",
    "month_city_AQI_df = monthly_city_AQI(month_city_pollut_df).sort_values(by='Date')"
   ]
  },
  {
   "cell_type": "code",
   "execution_count": 166,
   "metadata": {},
   "outputs": [
    {
     "data": {
      "text/html": [
       "<div>\n",
       "<style scoped>\n",
       "    .dataframe tbody tr th:only-of-type {\n",
       "        vertical-align: middle;\n",
       "    }\n",
       "\n",
       "    .dataframe tbody tr th {\n",
       "        vertical-align: top;\n",
       "    }\n",
       "\n",
       "    .dataframe thead th {\n",
       "        text-align: right;\n",
       "    }\n",
       "</style>\n",
       "<table border=\"1\" class=\"dataframe\">\n",
       "  <thead>\n",
       "    <tr style=\"text-align: right;\">\n",
       "      <th></th>\n",
       "      <th>Date</th>\n",
       "      <th>Country</th>\n",
       "      <th>Country_name</th>\n",
       "      <th>City</th>\n",
       "      <th>cou_pop_density</th>\n",
       "      <th>Total_no_points</th>\n",
       "      <th>Most_present_pollutant</th>\n",
       "      <th>No_points</th>\n",
       "      <th>AQI</th>\n",
       "      <th>std_dev</th>\n",
       "      <th>conf_interval_95%</th>\n",
       "    </tr>\n",
       "  </thead>\n",
       "  <tbody>\n",
       "    <tr>\n",
       "      <th>0</th>\n",
       "      <td>2019-01-01</td>\n",
       "      <td>AE</td>\n",
       "      <td>United Arab Emirates</td>\n",
       "      <td>Abu Dhabi</td>\n",
       "      <td>135.609110</td>\n",
       "      <td>119</td>\n",
       "      <td>pm25</td>\n",
       "      <td>31</td>\n",
       "      <td>109.161290</td>\n",
       "      <td>5.040955</td>\n",
       "      <td>10.295004</td>\n",
       "    </tr>\n",
       "    <tr>\n",
       "      <th>4883</th>\n",
       "      <td>2019-01-01</td>\n",
       "      <td>GB</td>\n",
       "      <td>United Kingdom</td>\n",
       "      <td>Newport</td>\n",
       "      <td>274.708982</td>\n",
       "      <td>186</td>\n",
       "      <td>pm25</td>\n",
       "      <td>31</td>\n",
       "      <td>36.483871</td>\n",
       "      <td>3.530710</td>\n",
       "      <td>7.210672</td>\n",
       "    </tr>\n",
       "    <tr>\n",
       "      <th>1493</th>\n",
       "      <td>2019-01-01</td>\n",
       "      <td>US</td>\n",
       "      <td>United States</td>\n",
       "      <td>Omaha</td>\n",
       "      <td>35.713622</td>\n",
       "      <td>129</td>\n",
       "      <td>pm25</td>\n",
       "      <td>31</td>\n",
       "      <td>32.806452</td>\n",
       "      <td>2.599696</td>\n",
       "      <td>5.309287</td>\n",
       "    </tr>\n",
       "    <tr>\n",
       "      <th>1505</th>\n",
       "      <td>2019-01-01</td>\n",
       "      <td>US</td>\n",
       "      <td>United States</td>\n",
       "      <td>El Paso</td>\n",
       "      <td>35.713622</td>\n",
       "      <td>124</td>\n",
       "      <td>pm25</td>\n",
       "      <td>31</td>\n",
       "      <td>30.612903</td>\n",
       "      <td>2.030300</td>\n",
       "      <td>4.146425</td>\n",
       "    </tr>\n",
       "    <tr>\n",
       "      <th>4102</th>\n",
       "      <td>2019-01-01</td>\n",
       "      <td>DE</td>\n",
       "      <td>Germany</td>\n",
       "      <td>Augsburg</td>\n",
       "      <td>237.294012</td>\n",
       "      <td>124</td>\n",
       "      <td>o3</td>\n",
       "      <td>31</td>\n",
       "      <td>15.967742</td>\n",
       "      <td>1.149740</td>\n",
       "      <td>2.348082</td>\n",
       "    </tr>\n",
       "    <tr>\n",
       "      <th>...</th>\n",
       "      <td>...</td>\n",
       "      <td>...</td>\n",
       "      <td>...</td>\n",
       "      <td>...</td>\n",
       "      <td>...</td>\n",
       "      <td>...</td>\n",
       "      <td>...</td>\n",
       "      <td>...</td>\n",
       "      <td>...</td>\n",
       "      <td>...</td>\n",
       "      <td>...</td>\n",
       "    </tr>\n",
       "    <tr>\n",
       "      <th>14446</th>\n",
       "      <td>2021-03-01</td>\n",
       "      <td>FR</td>\n",
       "      <td>France</td>\n",
       "      <td>Rennes</td>\n",
       "      <td>122.299435</td>\n",
       "      <td>75</td>\n",
       "      <td>pm25</td>\n",
       "      <td>25</td>\n",
       "      <td>50.520000</td>\n",
       "      <td>4.043017</td>\n",
       "      <td>8.344376</td>\n",
       "    </tr>\n",
       "    <tr>\n",
       "      <th>15168</th>\n",
       "      <td>2021-03-01</td>\n",
       "      <td>GB</td>\n",
       "      <td>United Kingdom</td>\n",
       "      <td>Liverpool</td>\n",
       "      <td>274.708982</td>\n",
       "      <td>100</td>\n",
       "      <td>pm25</td>\n",
       "      <td>25</td>\n",
       "      <td>49.240000</td>\n",
       "      <td>6.165525</td>\n",
       "      <td>12.725018</td>\n",
       "    </tr>\n",
       "    <tr>\n",
       "      <th>14443</th>\n",
       "      <td>2021-03-01</td>\n",
       "      <td>FR</td>\n",
       "      <td>France</td>\n",
       "      <td>Nantes</td>\n",
       "      <td>122.299435</td>\n",
       "      <td>143</td>\n",
       "      <td>pm25</td>\n",
       "      <td>25</td>\n",
       "      <td>47.440000</td>\n",
       "      <td>4.101933</td>\n",
       "      <td>8.465974</td>\n",
       "    </tr>\n",
       "    <tr>\n",
       "      <th>14405</th>\n",
       "      <td>2021-03-01</td>\n",
       "      <td>US</td>\n",
       "      <td>United States</td>\n",
       "      <td>Columbus</td>\n",
       "      <td>35.713622</td>\n",
       "      <td>98</td>\n",
       "      <td>pm25</td>\n",
       "      <td>25</td>\n",
       "      <td>34.040000</td>\n",
       "      <td>2.677001</td>\n",
       "      <td>5.525059</td>\n",
       "    </tr>\n",
       "    <tr>\n",
       "      <th>15695</th>\n",
       "      <td>2021-03-01</td>\n",
       "      <td>GH</td>\n",
       "      <td>Ghana</td>\n",
       "      <td>Accra</td>\n",
       "      <td>130.821429</td>\n",
       "      <td>25</td>\n",
       "      <td>pm25</td>\n",
       "      <td>25</td>\n",
       "      <td>81.200000</td>\n",
       "      <td>2.605840</td>\n",
       "      <td>5.378189</td>\n",
       "    </tr>\n",
       "  </tbody>\n",
       "</table>\n",
       "<p>15696 rows × 11 columns</p>\n",
       "</div>"
      ],
      "text/plain": [
       "            Date Country          Country_name       City  cou_pop_density  \\\n",
       "0     2019-01-01      AE  United Arab Emirates  Abu Dhabi       135.609110   \n",
       "4883  2019-01-01      GB        United Kingdom    Newport       274.708982   \n",
       "1493  2019-01-01      US         United States      Omaha        35.713622   \n",
       "1505  2019-01-01      US         United States    El Paso        35.713622   \n",
       "4102  2019-01-01      DE               Germany   Augsburg       237.294012   \n",
       "...          ...     ...                   ...        ...              ...   \n",
       "14446 2021-03-01      FR                France     Rennes       122.299435   \n",
       "15168 2021-03-01      GB        United Kingdom  Liverpool       274.708982   \n",
       "14443 2021-03-01      FR                France     Nantes       122.299435   \n",
       "14405 2021-03-01      US         United States   Columbus        35.713622   \n",
       "15695 2021-03-01      GH                 Ghana      Accra       130.821429   \n",
       "\n",
       "       Total_no_points Most_present_pollutant  No_points         AQI  \\\n",
       "0                  119                   pm25         31  109.161290   \n",
       "4883               186                   pm25         31   36.483871   \n",
       "1493               129                   pm25         31   32.806452   \n",
       "1505               124                   pm25         31   30.612903   \n",
       "4102               124                     o3         31   15.967742   \n",
       "...                ...                    ...        ...         ...   \n",
       "14446               75                   pm25         25   50.520000   \n",
       "15168              100                   pm25         25   49.240000   \n",
       "14443              143                   pm25         25   47.440000   \n",
       "14405               98                   pm25         25   34.040000   \n",
       "15695               25                   pm25         25   81.200000   \n",
       "\n",
       "        std_dev  conf_interval_95%  \n",
       "0      5.040955          10.295004  \n",
       "4883   3.530710           7.210672  \n",
       "1493   2.599696           5.309287  \n",
       "1505   2.030300           4.146425  \n",
       "4102   1.149740           2.348082  \n",
       "...         ...                ...  \n",
       "14446  4.043017           8.344376  \n",
       "15168  6.165525          12.725018  \n",
       "14443  4.101933           8.465974  \n",
       "14405  2.677001           5.525059  \n",
       "15695  2.605840           5.378189  \n",
       "\n",
       "[15696 rows x 11 columns]"
      ]
     },
     "execution_count": 166,
     "metadata": {},
     "output_type": "execute_result"
    }
   ],
   "source": [
    "month_city_AQI_df"
   ]
  },
  {
   "cell_type": "code",
   "execution_count": 167,
   "metadata": {},
   "outputs": [
    {
     "data": {
      "text/plain": [
       "<AxesSubplot:>"
      ]
     },
     "execution_count": 167,
     "metadata": {},
     "output_type": "execute_result"
    },
    {
     "data": {
      "image/png": "[encoded data removed]",
      "text/plain": [
       "<Figure size 432x288 with 1 Axes>"
      ]
     },
     "metadata": {
      "needs_background": "light"
     },
     "output_type": "display_data"
    }
   ],
   "source": [
    "month_city_AQI_df.AQI.hist()"
   ]
  },
  {
   "cell_type": "code",
   "execution_count": 168,
   "metadata": {},
   "outputs": [
    {
     "data": {
      "image/png": "[encoded data removed]",
      "text/plain": [
       "<Figure size 432x288 with 1 Axes>"
      ]
     },
     "metadata": {
      "needs_background": "light"
     },
     "output_type": "display_data"
    }
   ],
   "source": [
    "month_city_AQI_df.boxplot(by='Date', column='AQI');"
   ]
  },
  {
   "cell_type": "code",
   "execution_count": 169,
   "metadata": {},
   "outputs": [],
   "source": [
    "def intersect_cities_month(df):\n",
    "    '''Function that yields cities for which there is data for all months (12) of all years in the dataset provided \n",
    "    INPUT: pd.DataFrame. Either the original dataset or the output from monthly_city_pollutant()\n",
    "    OUTPUT: list with the cities for which there is data for all months'''\n",
    "\n",
    "    if 'AQI' not in df.columns:\n",
    "        df = monthly_city_AQI(df)\n",
    "        \n",
    "    dates = df.Date.unique()\n",
    "    sets = [[] for i in range(len(dates))]\n",
    "    dct = dict(zip(dates, sets))\n",
    "    dct_final = {}\n",
    "    for date in dates:\n",
    "        date_df = df[df.Date == date]\n",
    "        cities = set(date_df.City.unique())\n",
    "        dct[date].append(cities)\n",
    "\n",
    "    for key, value in dct.items():\n",
    "        dct_final[key] = set.intersection(*value)  \n",
    "    common_cities_all_dates = set.intersection(*dct_final.values())\n",
    "    \n",
    "    return list(common_cities_all_dates)"
   ]
  },
  {
   "cell_type": "code",
   "execution_count": 170,
   "metadata": {},
   "outputs": [],
   "source": [
    "complete_cities_month = intersect_cities_month(month_city_AQI_df)\n"
   ]
  },
  {
   "cell_type": "code",
   "execution_count": 171,
   "metadata": {},
   "outputs": [
    {
     "data": {
      "text/plain": [
       "494"
      ]
     },
     "execution_count": 171,
     "metadata": {},
     "output_type": "execute_result"
    }
   ],
   "source": [
    "len(complete_cities_month)"
   ]
  },
  {
   "cell_type": "code",
   "execution_count": 172,
   "metadata": {},
   "outputs": [
    {
     "data": {
      "text/plain": [
       "True"
      ]
     },
     "execution_count": 172,
     "metadata": {},
     "output_type": "execute_result"
    }
   ],
   "source": [
    "'Delhi' in complete_cities_month"
   ]
  },
  {
   "cell_type": "code",
   "execution_count": 173,
   "metadata": {},
   "outputs": [],
   "source": [
    "sel_cities = ['Barcelona', 'Madrid', 'Paris', 'New York', 'Berlin', 'San Francisco', 'Bangkok', 'Rotterdam', 'Zürich', 'Los Ángeles', 'Buenos Aires', 'Jerusalem', 'Melbourne', \\\n",
    "             'Tokyo', 'Delhi']"
   ]
  },
  {
   "cell_type": "code",
   "execution_count": 174,
   "metadata": {},
   "outputs": [
    {
     "data": {
      "text/html": [
       "<div>\n",
       "<style scoped>\n",
       "    .dataframe tbody tr th:only-of-type {\n",
       "        vertical-align: middle;\n",
       "    }\n",
       "\n",
       "    .dataframe tbody tr th {\n",
       "        vertical-align: top;\n",
       "    }\n",
       "\n",
       "    .dataframe thead th {\n",
       "        text-align: right;\n",
       "    }\n",
       "</style>\n",
       "<table border=\"1\" class=\"dataframe\">\n",
       "  <thead>\n",
       "    <tr style=\"text-align: right;\">\n",
       "      <th></th>\n",
       "      <th>Date</th>\n",
       "      <th>Country</th>\n",
       "      <th>Country_name</th>\n",
       "      <th>City</th>\n",
       "      <th>cou_pop_density</th>\n",
       "      <th>Total_no_points</th>\n",
       "      <th>Most_present_pollutant</th>\n",
       "      <th>No_points</th>\n",
       "      <th>AQI</th>\n",
       "      <th>std_dev</th>\n",
       "      <th>conf_interval_95%</th>\n",
       "    </tr>\n",
       "  </thead>\n",
       "  <tbody>\n",
       "    <tr>\n",
       "      <th>0</th>\n",
       "      <td>2019-01-01</td>\n",
       "      <td>AE</td>\n",
       "      <td>United Arab Emirates</td>\n",
       "      <td>Abu Dhabi</td>\n",
       "      <td>135.609110</td>\n",
       "      <td>119</td>\n",
       "      <td>pm25</td>\n",
       "      <td>31</td>\n",
       "      <td>109.161290</td>\n",
       "      <td>5.040955</td>\n",
       "      <td>10.295004</td>\n",
       "    </tr>\n",
       "    <tr>\n",
       "      <th>4883</th>\n",
       "      <td>2019-01-01</td>\n",
       "      <td>GB</td>\n",
       "      <td>United Kingdom</td>\n",
       "      <td>Newport</td>\n",
       "      <td>274.708982</td>\n",
       "      <td>186</td>\n",
       "      <td>pm25</td>\n",
       "      <td>31</td>\n",
       "      <td>36.483871</td>\n",
       "      <td>3.530710</td>\n",
       "      <td>7.210672</td>\n",
       "    </tr>\n",
       "    <tr>\n",
       "      <th>1493</th>\n",
       "      <td>2019-01-01</td>\n",
       "      <td>US</td>\n",
       "      <td>United States</td>\n",
       "      <td>Omaha</td>\n",
       "      <td>35.713622</td>\n",
       "      <td>129</td>\n",
       "      <td>pm25</td>\n",
       "      <td>31</td>\n",
       "      <td>32.806452</td>\n",
       "      <td>2.599696</td>\n",
       "      <td>5.309287</td>\n",
       "    </tr>\n",
       "    <tr>\n",
       "      <th>1505</th>\n",
       "      <td>2019-01-01</td>\n",
       "      <td>US</td>\n",
       "      <td>United States</td>\n",
       "      <td>El Paso</td>\n",
       "      <td>35.713622</td>\n",
       "      <td>124</td>\n",
       "      <td>pm25</td>\n",
       "      <td>31</td>\n",
       "      <td>30.612903</td>\n",
       "      <td>2.030300</td>\n",
       "      <td>4.146425</td>\n",
       "    </tr>\n",
       "    <tr>\n",
       "      <th>4102</th>\n",
       "      <td>2019-01-01</td>\n",
       "      <td>DE</td>\n",
       "      <td>Germany</td>\n",
       "      <td>Augsburg</td>\n",
       "      <td>237.294012</td>\n",
       "      <td>124</td>\n",
       "      <td>o3</td>\n",
       "      <td>31</td>\n",
       "      <td>15.967742</td>\n",
       "      <td>1.149740</td>\n",
       "      <td>2.348082</td>\n",
       "    </tr>\n",
       "    <tr>\n",
       "      <th>...</th>\n",
       "      <td>...</td>\n",
       "      <td>...</td>\n",
       "      <td>...</td>\n",
       "      <td>...</td>\n",
       "      <td>...</td>\n",
       "      <td>...</td>\n",
       "      <td>...</td>\n",
       "      <td>...</td>\n",
       "      <td>...</td>\n",
       "      <td>...</td>\n",
       "      <td>...</td>\n",
       "    </tr>\n",
       "    <tr>\n",
       "      <th>14446</th>\n",
       "      <td>2021-03-01</td>\n",
       "      <td>FR</td>\n",
       "      <td>France</td>\n",
       "      <td>Rennes</td>\n",
       "      <td>122.299435</td>\n",
       "      <td>75</td>\n",
       "      <td>pm25</td>\n",
       "      <td>25</td>\n",
       "      <td>50.520000</td>\n",
       "      <td>4.043017</td>\n",
       "      <td>8.344376</td>\n",
       "    </tr>\n",
       "    <tr>\n",
       "      <th>15168</th>\n",
       "      <td>2021-03-01</td>\n",
       "      <td>GB</td>\n",
       "      <td>United Kingdom</td>\n",
       "      <td>Liverpool</td>\n",
       "      <td>274.708982</td>\n",
       "      <td>100</td>\n",
       "      <td>pm25</td>\n",
       "      <td>25</td>\n",
       "      <td>49.240000</td>\n",
       "      <td>6.165525</td>\n",
       "      <td>12.725018</td>\n",
       "    </tr>\n",
       "    <tr>\n",
       "      <th>14443</th>\n",
       "      <td>2021-03-01</td>\n",
       "      <td>FR</td>\n",
       "      <td>France</td>\n",
       "      <td>Nantes</td>\n",
       "      <td>122.299435</td>\n",
       "      <td>143</td>\n",
       "      <td>pm25</td>\n",
       "      <td>25</td>\n",
       "      <td>47.440000</td>\n",
       "      <td>4.101933</td>\n",
       "      <td>8.465974</td>\n",
       "    </tr>\n",
       "    <tr>\n",
       "      <th>14405</th>\n",
       "      <td>2021-03-01</td>\n",
       "      <td>US</td>\n",
       "      <td>United States</td>\n",
       "      <td>Columbus</td>\n",
       "      <td>35.713622</td>\n",
       "      <td>98</td>\n",
       "      <td>pm25</td>\n",
       "      <td>25</td>\n",
       "      <td>34.040000</td>\n",
       "      <td>2.677001</td>\n",
       "      <td>5.525059</td>\n",
       "    </tr>\n",
       "    <tr>\n",
       "      <th>15695</th>\n",
       "      <td>2021-03-01</td>\n",
       "      <td>GH</td>\n",
       "      <td>Ghana</td>\n",
       "      <td>Accra</td>\n",
       "      <td>130.821429</td>\n",
       "      <td>25</td>\n",
       "      <td>pm25</td>\n",
       "      <td>25</td>\n",
       "      <td>81.200000</td>\n",
       "      <td>2.605840</td>\n",
       "      <td>5.378189</td>\n",
       "    </tr>\n",
       "  </tbody>\n",
       "</table>\n",
       "<p>15696 rows × 11 columns</p>\n",
       "</div>"
      ],
      "text/plain": [
       "            Date Country          Country_name       City  cou_pop_density  \\\n",
       "0     2019-01-01      AE  United Arab Emirates  Abu Dhabi       135.609110   \n",
       "4883  2019-01-01      GB        United Kingdom    Newport       274.708982   \n",
       "1493  2019-01-01      US         United States      Omaha        35.713622   \n",
       "1505  2019-01-01      US         United States    El Paso        35.713622   \n",
       "4102  2019-01-01      DE               Germany   Augsburg       237.294012   \n",
       "...          ...     ...                   ...        ...              ...   \n",
       "14446 2021-03-01      FR                France     Rennes       122.299435   \n",
       "15168 2021-03-01      GB        United Kingdom  Liverpool       274.708982   \n",
       "14443 2021-03-01      FR                France     Nantes       122.299435   \n",
       "14405 2021-03-01      US         United States   Columbus        35.713622   \n",
       "15695 2021-03-01      GH                 Ghana      Accra       130.821429   \n",
       "\n",
       "       Total_no_points Most_present_pollutant  No_points         AQI  \\\n",
       "0                  119                   pm25         31  109.161290   \n",
       "4883               186                   pm25         31   36.483871   \n",
       "1493               129                   pm25         31   32.806452   \n",
       "1505               124                   pm25         31   30.612903   \n",
       "4102               124                     o3         31   15.967742   \n",
       "...                ...                    ...        ...         ...   \n",
       "14446               75                   pm25         25   50.520000   \n",
       "15168              100                   pm25         25   49.240000   \n",
       "14443              143                   pm25         25   47.440000   \n",
       "14405               98                   pm25         25   34.040000   \n",
       "15695               25                   pm25         25   81.200000   \n",
       "\n",
       "        std_dev  conf_interval_95%  \n",
       "0      5.040955          10.295004  \n",
       "4883   3.530710           7.210672  \n",
       "1493   2.599696           5.309287  \n",
       "1505   2.030300           4.146425  \n",
       "4102   1.149740           2.348082  \n",
       "...         ...                ...  \n",
       "14446  4.043017           8.344376  \n",
       "15168  6.165525          12.725018  \n",
       "14443  4.101933           8.465974  \n",
       "14405  2.677001           5.525059  \n",
       "15695  2.605840           5.378189  \n",
       "\n",
       "[15696 rows x 11 columns]"
      ]
     },
     "execution_count": 174,
     "metadata": {},
     "output_type": "execute_result"
    }
   ],
   "source": [
    "month_city_AQI_df"
   ]
  },
  {
   "cell_type": "code",
   "execution_count": 175,
   "metadata": {},
   "outputs": [],
   "source": [
    "df_19_cities = month_city_AQI_df[(month_city_AQI_df.City.apply(lambda cell: cell in sel_cities)) & (month_city_AQI_df.Date.dt.year ==2019)]\n",
    "df_20_cities = month_city_AQI_df[(month_city_AQI_df.City.apply(lambda cell: cell in sel_cities)) & (month_city_AQI_df.Date.dt.year ==2020)]\n"
   ]
  },
  {
   "cell_type": "code",
   "execution_count": 176,
   "metadata": {},
   "outputs": [
    {
     "data": {
      "text/plain": [
       "(168, 168)"
      ]
     },
     "execution_count": 176,
     "metadata": {},
     "output_type": "execute_result"
    }
   ],
   "source": [
    "df_19_cities.shape[0], df_20_cities.shape[0]"
   ]
  },
  {
   "cell_type": "code",
   "execution_count": 177,
   "metadata": {},
   "outputs": [
    {
     "data": {
      "text/html": [
       "<div>\n",
       "<style scoped>\n",
       "    .dataframe tbody tr th:only-of-type {\n",
       "        vertical-align: middle;\n",
       "    }\n",
       "\n",
       "    .dataframe tbody tr th {\n",
       "        vertical-align: top;\n",
       "    }\n",
       "\n",
       "    .dataframe thead th {\n",
       "        text-align: right;\n",
       "    }\n",
       "</style>\n",
       "<table border=\"1\" class=\"dataframe\">\n",
       "  <thead>\n",
       "    <tr style=\"text-align: right;\">\n",
       "      <th></th>\n",
       "      <th>Date</th>\n",
       "      <th>Country</th>\n",
       "      <th>Country_name</th>\n",
       "      <th>City</th>\n",
       "      <th>cou_pop_density</th>\n",
       "      <th>Total_no_points</th>\n",
       "      <th>Most_present_pollutant</th>\n",
       "      <th>No_points</th>\n",
       "      <th>AQI_20</th>\n",
       "      <th>std_dev</th>\n",
       "      <th>conf_interval_95%</th>\n",
       "      <th>AQI</th>\n",
       "      <th>Month</th>\n",
       "    </tr>\n",
       "  </thead>\n",
       "  <tbody>\n",
       "    <tr>\n",
       "      <th>0</th>\n",
       "      <td>2020-01-01</td>\n",
       "      <td>NL</td>\n",
       "      <td>Netherlands</td>\n",
       "      <td>Rotterdam</td>\n",
       "      <td>511.779745</td>\n",
       "      <td>180</td>\n",
       "      <td>pm25</td>\n",
       "      <td>36</td>\n",
       "      <td>51.083333</td>\n",
       "      <td>4.086521</td>\n",
       "      <td>8.296078</td>\n",
       "      <td>34.741935</td>\n",
       "      <td>1</td>\n",
       "    </tr>\n",
       "    <tr>\n",
       "      <th>1</th>\n",
       "      <td>2020-01-01</td>\n",
       "      <td>US</td>\n",
       "      <td>United States</td>\n",
       "      <td>San Francisco</td>\n",
       "      <td>35.713622</td>\n",
       "      <td>180</td>\n",
       "      <td>pm25</td>\n",
       "      <td>36</td>\n",
       "      <td>29.000000</td>\n",
       "      <td>1.647107</td>\n",
       "      <td>3.343806</td>\n",
       "      <td>50.193548</td>\n",
       "      <td>1</td>\n",
       "    </tr>\n",
       "    <tr>\n",
       "      <th>2</th>\n",
       "      <td>2020-01-01</td>\n",
       "      <td>FR</td>\n",
       "      <td>France</td>\n",
       "      <td>Paris</td>\n",
       "      <td>122.299435</td>\n",
       "      <td>216</td>\n",
       "      <td>pm25</td>\n",
       "      <td>36</td>\n",
       "      <td>52.583333</td>\n",
       "      <td>4.535589</td>\n",
       "      <td>9.207735</td>\n",
       "      <td>49.806452</td>\n",
       "      <td>1</td>\n",
       "    </tr>\n",
       "    <tr>\n",
       "      <th>3</th>\n",
       "      <td>2020-01-01</td>\n",
       "      <td>JP</td>\n",
       "      <td>Japan</td>\n",
       "      <td>Tokyo</td>\n",
       "      <td>347.130590</td>\n",
       "      <td>216</td>\n",
       "      <td>pm25</td>\n",
       "      <td>36</td>\n",
       "      <td>35.777778</td>\n",
       "      <td>3.059117</td>\n",
       "      <td>6.210337</td>\n",
       "      <td>252.129032</td>\n",
       "      <td>1</td>\n",
       "    </tr>\n",
       "    <tr>\n",
       "      <th>4</th>\n",
       "      <td>2020-01-01</td>\n",
       "      <td>IL</td>\n",
       "      <td>Israel</td>\n",
       "      <td>Jerusalem</td>\n",
       "      <td>410.480591</td>\n",
       "      <td>209</td>\n",
       "      <td>pm25</td>\n",
       "      <td>34</td>\n",
       "      <td>47.617647</td>\n",
       "      <td>1.786636</td>\n",
       "      <td>3.634938</td>\n",
       "      <td>69.129032</td>\n",
       "      <td>1</td>\n",
       "    </tr>\n",
       "    <tr>\n",
       "      <th>...</th>\n",
       "      <td>...</td>\n",
       "      <td>...</td>\n",
       "      <td>...</td>\n",
       "      <td>...</td>\n",
       "      <td>...</td>\n",
       "      <td>...</td>\n",
       "      <td>...</td>\n",
       "      <td>...</td>\n",
       "      <td>...</td>\n",
       "      <td>...</td>\n",
       "      <td>...</td>\n",
       "      <td>...</td>\n",
       "      <td>...</td>\n",
       "    </tr>\n",
       "    <tr>\n",
       "      <th>163</th>\n",
       "      <td>2020-12-01</td>\n",
       "      <td>FR</td>\n",
       "      <td>France</td>\n",
       "      <td>Paris</td>\n",
       "      <td>122.299435</td>\n",
       "      <td>210</td>\n",
       "      <td>pm25</td>\n",
       "      <td>35</td>\n",
       "      <td>38.600000</td>\n",
       "      <td>2.275047</td>\n",
       "      <td>4.623451</td>\n",
       "      <td>47.242424</td>\n",
       "      <td>12</td>\n",
       "    </tr>\n",
       "    <tr>\n",
       "      <th>164</th>\n",
       "      <td>2020-12-01</td>\n",
       "      <td>US</td>\n",
       "      <td>United States</td>\n",
       "      <td>San Francisco</td>\n",
       "      <td>35.713622</td>\n",
       "      <td>174</td>\n",
       "      <td>pm25</td>\n",
       "      <td>35</td>\n",
       "      <td>34.428571</td>\n",
       "      <td>2.950278</td>\n",
       "      <td>5.995686</td>\n",
       "      <td>55.000000</td>\n",
       "      <td>12</td>\n",
       "    </tr>\n",
       "    <tr>\n",
       "      <th>165</th>\n",
       "      <td>2020-12-01</td>\n",
       "      <td>JP</td>\n",
       "      <td>Japan</td>\n",
       "      <td>Tokyo</td>\n",
       "      <td>347.130590</td>\n",
       "      <td>210</td>\n",
       "      <td>pm25</td>\n",
       "      <td>35</td>\n",
       "      <td>43.542857</td>\n",
       "      <td>3.354033</td>\n",
       "      <td>6.816216</td>\n",
       "      <td>21.363636</td>\n",
       "      <td>12</td>\n",
       "    </tr>\n",
       "    <tr>\n",
       "      <th>166</th>\n",
       "      <td>2020-12-01</td>\n",
       "      <td>NL</td>\n",
       "      <td>Netherlands</td>\n",
       "      <td>Rotterdam</td>\n",
       "      <td>511.779745</td>\n",
       "      <td>175</td>\n",
       "      <td>pm25</td>\n",
       "      <td>35</td>\n",
       "      <td>40.800000</td>\n",
       "      <td>2.955396</td>\n",
       "      <td>6.006088</td>\n",
       "      <td>41.121212</td>\n",
       "      <td>12</td>\n",
       "    </tr>\n",
       "    <tr>\n",
       "      <th>167</th>\n",
       "      <td>2020-12-01</td>\n",
       "      <td>AU</td>\n",
       "      <td>Australia</td>\n",
       "      <td>Melbourne</td>\n",
       "      <td>3.247871</td>\n",
       "      <td>210</td>\n",
       "      <td>pm25</td>\n",
       "      <td>35</td>\n",
       "      <td>22.200000</td>\n",
       "      <td>0.789523</td>\n",
       "      <td>1.604504</td>\n",
       "      <td>104.727273</td>\n",
       "      <td>12</td>\n",
       "    </tr>\n",
       "  </tbody>\n",
       "</table>\n",
       "<p>168 rows × 13 columns</p>\n",
       "</div>"
      ],
      "text/plain": [
       "          Date Country   Country_name           City  cou_pop_density  \\\n",
       "0   2020-01-01      NL    Netherlands      Rotterdam       511.779745   \n",
       "1   2020-01-01      US  United States  San Francisco        35.713622   \n",
       "2   2020-01-01      FR         France          Paris       122.299435   \n",
       "3   2020-01-01      JP          Japan          Tokyo       347.130590   \n",
       "4   2020-01-01      IL         Israel      Jerusalem       410.480591   \n",
       "..         ...     ...            ...            ...              ...   \n",
       "163 2020-12-01      FR         France          Paris       122.299435   \n",
       "164 2020-12-01      US  United States  San Francisco        35.713622   \n",
       "165 2020-12-01      JP          Japan          Tokyo       347.130590   \n",
       "166 2020-12-01      NL    Netherlands      Rotterdam       511.779745   \n",
       "167 2020-12-01      AU      Australia      Melbourne         3.247871   \n",
       "\n",
       "     Total_no_points Most_present_pollutant  No_points     AQI_20   std_dev  \\\n",
       "0                180                   pm25         36  51.083333  4.086521   \n",
       "1                180                   pm25         36  29.000000  1.647107   \n",
       "2                216                   pm25         36  52.583333  4.535589   \n",
       "3                216                   pm25         36  35.777778  3.059117   \n",
       "4                209                   pm25         34  47.617647  1.786636   \n",
       "..               ...                    ...        ...        ...       ...   \n",
       "163              210                   pm25         35  38.600000  2.275047   \n",
       "164              174                   pm25         35  34.428571  2.950278   \n",
       "165              210                   pm25         35  43.542857  3.354033   \n",
       "166              175                   pm25         35  40.800000  2.955396   \n",
       "167              210                   pm25         35  22.200000  0.789523   \n",
       "\n",
       "     conf_interval_95%         AQI  Month  \n",
       "0             8.296078   34.741935      1  \n",
       "1             3.343806   50.193548      1  \n",
       "2             9.207735   49.806452      1  \n",
       "3             6.210337  252.129032      1  \n",
       "4             3.634938   69.129032      1  \n",
       "..                 ...         ...    ...  \n",
       "163           4.623451   47.242424     12  \n",
       "164           5.995686   55.000000     12  \n",
       "165           6.816216   21.363636     12  \n",
       "166           6.006088   41.121212     12  \n",
       "167           1.604504  104.727273     12  \n",
       "\n",
       "[168 rows x 13 columns]"
      ]
     },
     "execution_count": 177,
     "metadata": {},
     "output_type": "execute_result"
    }
   ],
   "source": [
    "df_anim = pd.concat([df_20_cities.rename(columns={'AQI': 'AQI_20'}).reset_index(drop=True), df_19_cities.AQI.reset_index(drop=True)], axis=1)\n",
    "df_anim = pd.concat([df_anim.reset_index(drop=True), df_anim.Date.dt.month.reset_index(drop=True).rename('Month')], axis=1)\n",
    "df_anim"
   ]
  },
  {
   "cell_type": "code",
   "execution_count": 180,
   "metadata": {},
   "outputs": [
    {
     "data": {
      "application/vnd.plotly.v1+json": {
       "config": {
        "plotlyServerURL": "https://plot.ly"
       },
       "data": [
        {
         "hovertemplate": "<b>%{hovertext}</b><br><br>Country_name=Netherlands<br>Month=12<br>AQI=%{x}<br>AQI_20=%{y}<br>size=%{marker.size}<extra></extra>",
         "hovertext": [
          "Rotterdam"
         ],
         "ids": [
          "Netherlands"
         ],
         "legendgroup": "Netherlands",
         "marker": {
          "color": "#636efa",
          "size": [
           1
          ],
          "sizemode": "area",
          "sizeref": 0.00033057851239669424,
          "symbol": "circle"
         },
         "mode": "markers",
         "name": "Netherlands",
         "orientation": "v",
         "showlegend": true,
         "type": "scatter",
         "x": [
          41.121212121212125
         ],
         "xaxis": "x",
         "y": [
          40.8
         ],
         "yaxis": "y"
        },
        {
         "hovertemplate": "<b>%{hovertext}</b><br><br>Country_name=United States<br>Month=12<br>AQI=%{x}<br>AQI_20=%{y}<br>size=%{marker.size}<extra></extra>",
         "hovertext": [
          "San Francisco"
         ],
         "ids": [
          "United States"
         ],
         "legendgroup": "United States",
         "marker": {
          "color": "#EF553B",
          "size": [
           1
          ],
          "sizemode": "area",
          "sizeref": 0.00033057851239669424,
          "symbol": "circle"
         },
         "mode": "markers",
         "name": "United States",
         "orientation": "v",
         "showlegend": true,
         "type": "scatter",
         "x": [
          55
         ],
         "xaxis": "x",
         "y": [
          34.42857142857143
         ],
         "yaxis": "y"
        },
        {
         "hovertemplate": "<b>%{hovertext}</b><br><br>Country_name=France<br>Month=12<br>AQI=%{x}<br>AQI_20=%{y}<br>size=%{marker.size}<extra></extra>",
         "hovertext": [
          "Paris"
         ],
         "ids": [
          "France"
         ],
         "legendgroup": "France",
         "marker": {
          "color": "#00cc96",
          "size": [
           1
          ],
          "sizemode": "area",
          "sizeref": 0.00033057851239669424,
          "symbol": "circle"
         },
         "mode": "markers",
         "name": "France",
         "orientation": "v",
         "showlegend": true,
         "type": "scatter",
         "x": [
          47.24242424242424
         ],
         "xaxis": "x",
         "y": [
          38.6
         ],
         "yaxis": "y"
        },
        {
         "hovertemplate": "<b>%{hovertext}</b><br><br>Country_name=Japan<br>Month=12<br>AQI=%{x}<br>AQI_20=%{y}<br>size=%{marker.size}<extra></extra>",
         "hovertext": [
          "Tokyo"
         ],
         "ids": [
          "Japan"
         ],
         "legendgroup": "Japan",
         "marker": {
          "color": "#ab63fa",
          "size": [
           1
          ],
          "sizemode": "area",
          "sizeref": 0.00033057851239669424,
          "symbol": "circle"
         },
         "mode": "markers",
         "name": "Japan",
         "orientation": "v",
         "showlegend": true,
         "type": "scatter",
         "x": [
          21.363636363636363
         ],
         "xaxis": "x",
         "y": [
          43.542857142857144
         ],
         "yaxis": "y"
        },
        {
         "hovertemplate": "<b>%{hovertext}</b><br><br>Country_name=Israel<br>Month=12<br>AQI=%{x}<br>AQI_20=%{y}<br>size=%{marker.size}<extra></extra>",
         "hovertext": [
          "Jerusalem"
         ],
         "ids": [
          "Israel"
         ],
         "legendgroup": "Israel",
         "marker": {
          "color": "#FFA15A",
          "size": [
           1
          ],
          "sizemode": "area",
          "sizeref": 0.00033057851239669424,
          "symbol": "circle"
         },
         "mode": "markers",
         "name": "Israel",
         "orientation": "v",
         "showlegend": true,
         "type": "scatter",
         "x": [
          40.27272727272727
         ],
         "xaxis": "x",
         "y": [
          58.74285714285714
         ],
         "yaxis": "y"
        },
        {
         "hovertemplate": "<b>%{hovertext}</b><br><br>Country_name=India<br>Month=12<br>AQI=%{x}<br>AQI_20=%{y}<br>size=%{marker.size}<extra></extra>",
         "hovertext": [
          "Delhi"
         ],
         "ids": [
          "India"
         ],
         "legendgroup": "India",
         "marker": {
          "color": "#19d3f3",
          "size": [
           1
          ],
          "sizemode": "area",
          "sizeref": 0.00033057851239669424,
          "symbol": "circle"
         },
         "mode": "markers",
         "name": "India",
         "orientation": "v",
         "showlegend": true,
         "type": "scatter",
         "x": [
          48.39393939393939
         ],
         "xaxis": "x",
         "y": [
          246.68571428571428
         ],
         "yaxis": "y"
        },
        {
         "hovertemplate": "<b>%{hovertext}</b><br><br>Country_name=Australia<br>Month=12<br>AQI=%{x}<br>AQI_20=%{y}<br>size=%{marker.size}<extra></extra>",
         "hovertext": [
          "Melbourne"
         ],
         "ids": [
          "Australia"
         ],
         "legendgroup": "Australia",
         "marker": {
          "color": "#FF6692",
          "size": [
           1
          ],
          "sizemode": "area",
          "sizeref": 0.00033057851239669424,
          "symbol": "circle"
         },
         "mode": "markers",
         "name": "Australia",
         "orientation": "v",
         "showlegend": true,
         "type": "scatter",
         "x": [
          104.72727272727273
         ],
         "xaxis": "x",
         "y": [
          22.2
         ],
         "yaxis": "y"
        },
        {
         "hovertemplate": "<b>%{hovertext}</b><br><br>Country_name=Thailand<br>Month=12<br>AQI=%{x}<br>AQI_20=%{y}<br>size=%{marker.size}<extra></extra>",
         "hovertext": [
          "Bangkok"
         ],
         "ids": [
          "Thailand"
         ],
         "legendgroup": "Thailand",
         "marker": {
          "color": "#B6E880",
          "size": [
           1
          ],
          "sizemode": "area",
          "sizeref": 0.00033057851239669424,
          "symbol": "circle"
         },
         "mode": "markers",
         "name": "Thailand",
         "orientation": "v",
         "showlegend": true,
         "type": "scatter",
         "x": [
          26.12121212121212
         ],
         "xaxis": "x",
         "y": [
          92.17142857142858
         ],
         "yaxis": "y"
        },
        {
         "hovertemplate": "<b>%{hovertext}</b><br><br>Country_name=Argentina<br>Month=12<br>AQI=%{x}<br>AQI_20=%{y}<br>size=%{marker.size}<extra></extra>",
         "hovertext": [
          "Buenos Aires"
         ],
         "ids": [
          "Argentina"
         ],
         "legendgroup": "Argentina",
         "marker": {
          "color": "#FF97FF",
          "size": [
           1
          ],
          "sizemode": "area",
          "sizeref": 0.00033057851239669424,
          "symbol": "circle"
         },
         "mode": "markers",
         "name": "Argentina",
         "orientation": "v",
         "showlegend": true,
         "type": "scatter",
         "x": [
          40.03030303030303
         ],
         "xaxis": "x",
         "y": [
          32.65714285714286
         ],
         "yaxis": "y"
        },
        {
         "hovertemplate": "<b>%{hovertext}</b><br><br>Country_name=Spain<br>Month=12<br>AQI=%{x}<br>AQI_20=%{y}<br>size=%{marker.size}<extra></extra>",
         "hovertext": [
          "Barcelona",
          "Madrid"
         ],
         "ids": [
          "Spain",
          "Spain"
         ],
         "legendgroup": "Spain",
         "marker": {
          "color": "#FECB52",
          "size": [
           1,
           1
          ],
          "sizemode": "area",
          "sizeref": 0.00033057851239669424,
          "symbol": "circle"
         },
         "mode": "markers",
         "name": "Spain",
         "orientation": "v",
         "showlegend": true,
         "type": "scatter",
         "x": [
          12.678787878787878,
          55.03225806451613
         ],
         "xaxis": "x",
         "y": [
          17.142857142857142,
          31.228571428571428
         ],
         "yaxis": "y"
        },
        {
         "hovertemplate": "<b>%{hovertext}</b><br><br>Country_name=Switzerland<br>Month=12<br>AQI=%{x}<br>AQI_20=%{y}<br>size=%{marker.size}<extra></extra>",
         "hovertext": [
          "Zürich"
         ],
         "ids": [
          "Switzerland"
         ],
         "legendgroup": "Switzerland",
         "marker": {
          "color": "#636efa",
          "size": [
           1
          ],
          "sizemode": "area",
          "sizeref": 0.00033057851239669424,
          "symbol": "circle"
         },
         "mode": "markers",
         "name": "Switzerland",
         "orientation": "v",
         "showlegend": true,
         "type": "scatter",
         "x": [
          31.78787878787879
         ],
         "xaxis": "x",
         "y": [
          12.468571428571428
         ],
         "yaxis": "y"
        },
        {
         "hovertemplate": "<b>%{hovertext}</b><br><br>Country_name=Chile<br>Month=12<br>AQI=%{x}<br>AQI_20=%{y}<br>size=%{marker.size}<extra></extra>",
         "hovertext": [
          "Los Ángeles"
         ],
         "ids": [
          "Chile"
         ],
         "legendgroup": "Chile",
         "marker": {
          "color": "#EF553B",
          "size": [
           1
          ],
          "sizemode": "area",
          "sizeref": 0.00033057851239669424,
          "symbol": "circle"
         },
         "mode": "markers",
         "name": "Chile",
         "orientation": "v",
         "showlegend": true,
         "type": "scatter",
         "x": [
          259.93939393939394
         ],
         "xaxis": "x",
         "y": [
          24.97142857142857
         ],
         "yaxis": "y"
        },
        {
         "hovertemplate": "<b>%{hovertext}</b><br><br>Country_name=Germany<br>Month=12<br>AQI=%{x}<br>AQI_20=%{y}<br>size=%{marker.size}<extra></extra>",
         "hovertext": [
          "Berlin"
         ],
         "ids": [
          "Germany"
         ],
         "legendgroup": "Germany",
         "marker": {
          "color": "#00cc96",
          "size": [
           1
          ],
          "sizemode": "area",
          "sizeref": 0.00033057851239669424,
          "symbol": "circle"
         },
         "mode": "markers",
         "name": "Germany",
         "orientation": "v",
         "showlegend": true,
         "type": "scatter",
         "x": [
          37.21875
         ],
         "xaxis": "x",
         "y": [
          58.41379310344828
         ],
         "yaxis": "y"
        }
       ],
       "frames": [
        {
         "data": [
          {
           "hovertemplate": "<b>%{hovertext}</b><br><br>Country_name=Netherlands<br>Month=1<br>AQI=%{x}<br>AQI_20=%{y}<br>size=%{marker.size}<extra></extra>",
           "hovertext": [
            "Rotterdam"
           ],
           "ids": [
            "Netherlands"
           ],
           "legendgroup": "Netherlands",
           "marker": {
            "color": "#636efa",
            "size": [
             1
            ],
            "sizemode": "area",
            "sizeref": 0.00033057851239669424,
            "symbol": "circle"
           },
           "mode": "markers",
           "name": "Netherlands",
           "orientation": "v",
           "showlegend": true,
           "type": "scatter",
           "x": [
            34.74193548387097
           ],
           "xaxis": "x",
           "y": [
            51.083333333333336
           ],
           "yaxis": "y"
          },
          {
           "hovertemplate": "<b>%{hovertext}</b><br><br>Country_name=United States<br>Month=1<br>AQI=%{x}<br>AQI_20=%{y}<br>size=%{marker.size}<extra></extra>",
           "hovertext": [
            "San Francisco"
           ],
           "ids": [
            "United States"
           ],
           "legendgroup": "United States",
           "marker": {
            "color": "#EF553B",
            "size": [
             1
            ],
            "sizemode": "area",
            "sizeref": 0.00033057851239669424,
            "symbol": "circle"
           },
           "mode": "markers",
           "name": "United States",
           "orientation": "v",
           "showlegend": true,
           "type": "scatter",
           "x": [
            50.193548387096776
           ],
           "xaxis": "x",
           "y": [
            29
           ],
           "yaxis": "y"
          },
          {
           "hovertemplate": "<b>%{hovertext}</b><br><br>Country_name=France<br>Month=1<br>AQI=%{x}<br>AQI_20=%{y}<br>size=%{marker.size}<extra></extra>",
           "hovertext": [
            "Paris"
           ],
           "ids": [
            "France"
           ],
           "legendgroup": "France",
           "marker": {
            "color": "#00cc96",
            "size": [
             1
            ],
            "sizemode": "area",
            "sizeref": 0.00033057851239669424,
            "symbol": "circle"
           },
           "mode": "markers",
           "name": "France",
           "orientation": "v",
           "showlegend": true,
           "type": "scatter",
           "x": [
            49.806451612903224
           ],
           "xaxis": "x",
           "y": [
            52.583333333333336
           ],
           "yaxis": "y"
          },
          {
           "hovertemplate": "<b>%{hovertext}</b><br><br>Country_name=Japan<br>Month=1<br>AQI=%{x}<br>AQI_20=%{y}<br>size=%{marker.size}<extra></extra>",
           "hovertext": [
            "Tokyo"
           ],
           "ids": [
            "Japan"
           ],
           "legendgroup": "Japan",
           "marker": {
            "color": "#ab63fa",
            "size": [
             1
            ],
            "sizemode": "area",
            "sizeref": 0.00033057851239669424,
            "symbol": "circle"
           },
           "mode": "markers",
           "name": "Japan",
           "orientation": "v",
           "showlegend": true,
           "type": "scatter",
           "x": [
            252.1290322580645
           ],
           "xaxis": "x",
           "y": [
            35.77777777777778
           ],
           "yaxis": "y"
          },
          {
           "hovertemplate": "<b>%{hovertext}</b><br><br>Country_name=Israel<br>Month=1<br>AQI=%{x}<br>AQI_20=%{y}<br>size=%{marker.size}<extra></extra>",
           "hovertext": [
            "Jerusalem"
           ],
           "ids": [
            "Israel"
           ],
           "legendgroup": "Israel",
           "marker": {
            "color": "#FFA15A",
            "size": [
             1
            ],
            "sizemode": "area",
            "sizeref": 0.00033057851239669424,
            "symbol": "circle"
           },
           "mode": "markers",
           "name": "Israel",
           "orientation": "v",
           "showlegend": true,
           "type": "scatter",
           "x": [
            69.12903225806451
           ],
           "xaxis": "x",
           "y": [
            47.61764705882353
           ],
           "yaxis": "y"
          },
          {
           "hovertemplate": "<b>%{hovertext}</b><br><br>Country_name=India<br>Month=1<br>AQI=%{x}<br>AQI_20=%{y}<br>size=%{marker.size}<extra></extra>",
           "hovertext": [
            "Delhi"
           ],
           "ids": [
            "India"
           ],
           "legendgroup": "India",
           "marker": {
            "color": "#19d3f3",
            "size": [
             1
            ],
            "sizemode": "area",
            "sizeref": 0.00033057851239669424,
            "symbol": "circle"
           },
           "mode": "markers",
           "name": "India",
           "orientation": "v",
           "showlegend": true,
           "type": "scatter",
           "x": [
            33.714285714285715
           ],
           "xaxis": "x",
           "y": [
            226.80555555555554
           ],
           "yaxis": "y"
          },
          {
           "hovertemplate": "<b>%{hovertext}</b><br><br>Country_name=Australia<br>Month=1<br>AQI=%{x}<br>AQI_20=%{y}<br>size=%{marker.size}<extra></extra>",
           "hovertext": [
            "Melbourne"
           ],
           "ids": [
            "Australia"
           ],
           "legendgroup": "Australia",
           "marker": {
            "color": "#FF6692",
            "size": [
             1
            ],
            "sizemode": "area",
            "sizeref": 0.00033057851239669424,
            "symbol": "circle"
           },
           "mode": "markers",
           "name": "Australia",
           "orientation": "v",
           "showlegend": true,
           "type": "scatter",
           "x": [
            129.06451612903226
           ],
           "xaxis": "x",
           "y": [
            55.666666666666664
           ],
           "yaxis": "y"
          },
          {
           "hovertemplate": "<b>%{hovertext}</b><br><br>Country_name=Thailand<br>Month=1<br>AQI=%{x}<br>AQI_20=%{y}<br>size=%{marker.size}<extra></extra>",
           "hovertext": [
            "Bangkok"
           ],
           "ids": [
            "Thailand"
           ],
           "legendgroup": "Thailand",
           "marker": {
            "color": "#B6E880",
            "size": [
             1
            ],
            "sizemode": "area",
            "sizeref": 0.00033057851239669424,
            "symbol": "circle"
           },
           "mode": "markers",
           "name": "Thailand",
           "orientation": "v",
           "showlegend": true,
           "type": "scatter",
           "x": [
            50.516129032258064
           ],
           "xaxis": "x",
           "y": [
            111.55555555555556
           ],
           "yaxis": "y"
          },
          {
           "hovertemplate": "<b>%{hovertext}</b><br><br>Country_name=Argentina<br>Month=1<br>AQI=%{x}<br>AQI_20=%{y}<br>size=%{marker.size}<extra></extra>",
           "hovertext": [
            "Buenos Aires"
           ],
           "ids": [
            "Argentina"
           ],
           "legendgroup": "Argentina",
           "marker": {
            "color": "#FF97FF",
            "size": [
             1
            ],
            "sizemode": "area",
            "sizeref": 0.00033057851239669424,
            "symbol": "circle"
           },
           "mode": "markers",
           "name": "Argentina",
           "orientation": "v",
           "showlegend": true,
           "type": "scatter",
           "x": [
            19.633333333333333
           ],
           "xaxis": "x",
           "y": [
            36.05882352941177
           ],
           "yaxis": "y"
          },
          {
           "hovertemplate": "<b>%{hovertext}</b><br><br>Country_name=Spain<br>Month=1<br>AQI=%{x}<br>AQI_20=%{y}<br>size=%{marker.size}<extra></extra>",
           "hovertext": [
            "Barcelona",
            "Madrid"
           ],
           "ids": [
            "Spain",
            "Spain"
           ],
           "legendgroup": "Spain",
           "marker": {
            "color": "#FECB52",
            "size": [
             1,
             1
            ],
            "sizemode": "area",
            "sizeref": 0.00033057851239669424,
            "symbol": "circle"
           },
           "mode": "markers",
           "name": "Spain",
           "orientation": "v",
           "showlegend": true,
           "type": "scatter",
           "x": [
            40.96774193548387,
            28.29032258064516
           ],
           "xaxis": "x",
           "y": [
            23.77777777777778,
            52.416666666666664
           ],
           "yaxis": "y"
          },
          {
           "hovertemplate": "<b>%{hovertext}</b><br><br>Country_name=Switzerland<br>Month=1<br>AQI=%{x}<br>AQI_20=%{y}<br>size=%{marker.size}<extra></extra>",
           "hovertext": [
            "Zürich"
           ],
           "ids": [
            "Switzerland"
           ],
           "legendgroup": "Switzerland",
           "marker": {
            "color": "#636efa",
            "size": [
             1
            ],
            "sizemode": "area",
            "sizeref": 0.00033057851239669424,
            "symbol": "circle"
           },
           "mode": "markers",
           "name": "Switzerland",
           "orientation": "v",
           "showlegend": true,
           "type": "scatter",
           "x": [
            56.41935483870968
           ],
           "xaxis": "x",
           "y": [
            14.758333333333335
           ],
           "yaxis": "y"
          },
          {
           "hovertemplate": "<b>%{hovertext}</b><br><br>Country_name=Chile<br>Month=1<br>AQI=%{x}<br>AQI_20=%{y}<br>size=%{marker.size}<extra></extra>",
           "hovertext": [
            "Los Ángeles"
           ],
           "ids": [
            "Chile"
           ],
           "legendgroup": "Chile",
           "marker": {
            "color": "#EF553B",
            "size": [
             1
            ],
            "sizemode": "area",
            "sizeref": 0.00033057851239669424,
            "symbol": "circle"
           },
           "mode": "markers",
           "name": "Chile",
           "orientation": "v",
           "showlegend": true,
           "type": "scatter",
           "x": [
            14.129032258064516
           ],
           "xaxis": "x",
           "y": [
            37.77777777777778
           ],
           "yaxis": "y"
          },
          {
           "hovertemplate": "<b>%{hovertext}</b><br><br>Country_name=Germany<br>Month=1<br>AQI=%{x}<br>AQI_20=%{y}<br>size=%{marker.size}<extra></extra>",
           "hovertext": [
            "Berlin"
           ],
           "ids": [
            "Germany"
           ],
           "legendgroup": "Germany",
           "marker": {
            "color": "#00cc96",
            "size": [
             1
            ],
            "sizemode": "area",
            "sizeref": 0.00033057851239669424,
            "symbol": "circle"
           },
           "mode": "markers",
           "name": "Germany",
           "orientation": "v",
           "showlegend": true,
           "type": "scatter",
           "x": [
            28.29032258064516
           ],
           "xaxis": "x",
           "y": [
            44
           ],
           "yaxis": "y"
          }
         ],
         "name": "1"
        },
        {
         "data": [
          {
           "hovertemplate": "<b>%{hovertext}</b><br><br>Country_name=Netherlands<br>Month=2<br>AQI=%{x}<br>AQI_20=%{y}<br>size=%{marker.size}<extra></extra>",
           "hovertext": [
            "Rotterdam"
           ],
           "ids": [
            "Netherlands"
           ],
           "legendgroup": "Netherlands",
           "marker": {
            "color": "#636efa",
            "size": [
             1
            ],
            "sizemode": "area",
            "sizeref": 0.00033057851239669424,
            "symbol": "circle"
           },
           "mode": "markers",
           "name": "Netherlands",
           "orientation": "v",
           "showlegend": true,
           "type": "scatter",
           "x": [
            26.535714285714285
           ],
           "xaxis": "x",
           "y": [
            34.62068965517241
           ],
           "yaxis": "y"
          },
          {
           "hovertemplate": "<b>%{hovertext}</b><br><br>Country_name=United States<br>Month=2<br>AQI=%{x}<br>AQI_20=%{y}<br>size=%{marker.size}<extra></extra>",
           "hovertext": [
            "San Francisco"
           ],
           "ids": [
            "United States"
           ],
           "legendgroup": "United States",
           "marker": {
            "color": "#EF553B",
            "size": [
             1
            ],
            "sizemode": "area",
            "sizeref": 0.00033057851239669424,
            "symbol": "circle"
           },
           "mode": "markers",
           "name": "United States",
           "orientation": "v",
           "showlegend": true,
           "type": "scatter",
           "x": [
            48.75
           ],
           "xaxis": "x",
           "y": [
            33.86206896551724
           ],
           "yaxis": "y"
          },
          {
           "hovertemplate": "<b>%{hovertext}</b><br><br>Country_name=France<br>Month=2<br>AQI=%{x}<br>AQI_20=%{y}<br>size=%{marker.size}<extra></extra>",
           "hovertext": [
            "Paris"
           ],
           "ids": [
            "France"
           ],
           "legendgroup": "France",
           "marker": {
            "color": "#00cc96",
            "size": [
             1
            ],
            "sizemode": "area",
            "sizeref": 0.00033057851239669424,
            "symbol": "circle"
           },
           "mode": "markers",
           "name": "France",
           "orientation": "v",
           "showlegend": true,
           "type": "scatter",
           "x": [
            28.321428571428573
           ],
           "xaxis": "x",
           "y": [
            32.96551724137931
           ],
           "yaxis": "y"
          },
          {
           "hovertemplate": "<b>%{hovertext}</b><br><br>Country_name=Japan<br>Month=2<br>AQI=%{x}<br>AQI_20=%{y}<br>size=%{marker.size}<extra></extra>",
           "hovertext": [
            "Tokyo"
           ],
           "ids": [
            "Japan"
           ],
           "legendgroup": "Japan",
           "marker": {
            "color": "#ab63fa",
            "size": [
             1
            ],
            "sizemode": "area",
            "sizeref": 0.00033057851239669424,
            "symbol": "circle"
           },
           "mode": "markers",
           "name": "Japan",
           "orientation": "v",
           "showlegend": true,
           "type": "scatter",
           "x": [
            70.10714285714286
           ],
           "xaxis": "x",
           "y": [
            40.6551724137931
           ],
           "yaxis": "y"
          },
          {
           "hovertemplate": "<b>%{hovertext}</b><br><br>Country_name=Israel<br>Month=2<br>AQI=%{x}<br>AQI_20=%{y}<br>size=%{marker.size}<extra></extra>",
           "hovertext": [
            "Jerusalem"
           ],
           "ids": [
            "Israel"
           ],
           "legendgroup": "Israel",
           "marker": {
            "color": "#FFA15A",
            "size": [
             1
            ],
            "sizemode": "area",
            "sizeref": 0.00033057851239669424,
            "symbol": "circle"
           },
           "mode": "markers",
           "name": "Israel",
           "orientation": "v",
           "showlegend": true,
           "type": "scatter",
           "x": [
            60.285714285714285
           ],
           "xaxis": "x",
           "y": [
            53.241379310344826
           ],
           "yaxis": "y"
          },
          {
           "hovertemplate": "<b>%{hovertext}</b><br><br>Country_name=India<br>Month=2<br>AQI=%{x}<br>AQI_20=%{y}<br>size=%{marker.size}<extra></extra>",
           "hovertext": [
            "Delhi"
           ],
           "ids": [
            "India"
           ],
           "legendgroup": "India",
           "marker": {
            "color": "#19d3f3",
            "size": [
             1
            ],
            "sizemode": "area",
            "sizeref": 0.00033057851239669424,
            "symbol": "circle"
           },
           "mode": "markers",
           "name": "India",
           "orientation": "v",
           "showlegend": true,
           "type": "scatter",
           "x": [
            184.85714285714286
           ],
           "xaxis": "x",
           "y": [
            181.06896551724137
           ],
           "yaxis": "y"
          },
          {
           "hovertemplate": "<b>%{hovertext}</b><br><br>Country_name=Australia<br>Month=2<br>AQI=%{x}<br>AQI_20=%{y}<br>size=%{marker.size}<extra></extra>",
           "hovertext": [
            "Melbourne"
           ],
           "ids": [
            "Australia"
           ],
           "legendgroup": "Australia",
           "marker": {
            "color": "#FF6692",
            "size": [
             1
            ],
            "sizemode": "area",
            "sizeref": 0.00033057851239669424,
            "symbol": "circle"
           },
           "mode": "markers",
           "name": "Australia",
           "orientation": "v",
           "showlegend": true,
           "type": "scatter",
           "x": [
            54.67857142857143
           ],
           "xaxis": "x",
           "y": [
            28.20689655172414
           ],
           "yaxis": "y"
          },
          {
           "hovertemplate": "<b>%{hovertext}</b><br><br>Country_name=Thailand<br>Month=2<br>AQI=%{x}<br>AQI_20=%{y}<br>size=%{marker.size}<extra></extra>",
           "hovertext": [
            "Bangkok"
           ],
           "ids": [
            "Thailand"
           ],
           "legendgroup": "Thailand",
           "marker": {
            "color": "#B6E880",
            "size": [
             1
            ],
            "sizemode": "area",
            "sizeref": 0.00033057851239669424,
            "symbol": "circle"
           },
           "mode": "markers",
           "name": "Thailand",
           "orientation": "v",
           "showlegend": true,
           "type": "scatter",
           "x": [
            51.285714285714285
           ],
           "xaxis": "x",
           "y": [
            113.41379310344827
           ],
           "yaxis": "y"
          },
          {
           "hovertemplate": "<b>%{hovertext}</b><br><br>Country_name=Argentina<br>Month=2<br>AQI=%{x}<br>AQI_20=%{y}<br>size=%{marker.size}<extra></extra>",
           "hovertext": [
            "Buenos Aires"
           ],
           "ids": [
            "Argentina"
           ],
           "legendgroup": "Argentina",
           "marker": {
            "color": "#FF97FF",
            "size": [
             1
            ],
            "sizemode": "area",
            "sizeref": 0.00033057851239669424,
            "symbol": "circle"
           },
           "mode": "markers",
           "name": "Argentina",
           "orientation": "v",
           "showlegend": true,
           "type": "scatter",
           "x": [
            65.60714285714286
           ],
           "xaxis": "x",
           "y": [
            34.724137931034484
           ],
           "yaxis": "y"
          },
          {
           "hovertemplate": "<b>%{hovertext}</b><br><br>Country_name=Spain<br>Month=2<br>AQI=%{x}<br>AQI_20=%{y}<br>size=%{marker.size}<extra></extra>",
           "hovertext": [
            "Madrid",
            "Barcelona"
           ],
           "ids": [
            "Spain",
            "Spain"
           ],
           "legendgroup": "Spain",
           "marker": {
            "color": "#FECB52",
            "size": [
             1,
             1
            ],
            "sizemode": "area",
            "sizeref": 0.00033057851239669424,
            "symbol": "circle"
           },
           "mode": "markers",
           "name": "Spain",
           "orientation": "v",
           "showlegend": true,
           "type": "scatter",
           "x": [
            17.892857142857142,
            70.03571428571429
           ],
           "xaxis": "x",
           "y": [
            54.206896551724135,
            26.06896551724138
           ],
           "yaxis": "y"
          },
          {
           "hovertemplate": "<b>%{hovertext}</b><br><br>Country_name=Switzerland<br>Month=2<br>AQI=%{x}<br>AQI_20=%{y}<br>size=%{marker.size}<extra></extra>",
           "hovertext": [
            "Zürich"
           ],
           "ids": [
            "Switzerland"
           ],
           "legendgroup": "Switzerland",
           "marker": {
            "color": "#636efa",
            "size": [
             1
            ],
            "sizemode": "area",
            "sizeref": 0.00033057851239669424,
            "symbol": "circle"
           },
           "mode": "markers",
           "name": "Switzerland",
           "orientation": "v",
           "showlegend": true,
           "type": "scatter",
           "x": [
            25
           ],
           "xaxis": "x",
           "y": [
            20.38620689655172
           ],
           "yaxis": "y"
          },
          {
           "hovertemplate": "<b>%{hovertext}</b><br><br>Country_name=Chile<br>Month=2<br>AQI=%{x}<br>AQI_20=%{y}<br>size=%{marker.size}<extra></extra>",
           "hovertext": [
            "Los Ángeles"
           ],
           "ids": [
            "Chile"
           ],
           "legendgroup": "Chile",
           "marker": {
            "color": "#EF553B",
            "size": [
             1
            ],
            "sizemode": "area",
            "sizeref": 0.00033057851239669424,
            "symbol": "circle"
           },
           "mode": "markers",
           "name": "Chile",
           "orientation": "v",
           "showlegend": true,
           "type": "scatter",
           "x": [
            38.04545454545455
           ],
           "xaxis": "x",
           "y": [
            30.20689655172414
           ],
           "yaxis": "y"
          },
          {
           "hovertemplate": "<b>%{hovertext}</b><br><br>Country_name=Germany<br>Month=2<br>AQI=%{x}<br>AQI_20=%{y}<br>size=%{marker.size}<extra></extra>",
           "hovertext": [
            "Berlin"
           ],
           "ids": [
            "Germany"
           ],
           "legendgroup": "Germany",
           "marker": {
            "color": "#00cc96",
            "size": [
             1
            ],
            "sizemode": "area",
            "sizeref": 0.00033057851239669424,
            "symbol": "circle"
           },
           "mode": "markers",
           "name": "Germany",
           "orientation": "v",
           "showlegend": true,
           "type": "scatter",
           "x": [
            77.21428571428571
           ],
           "xaxis": "x",
           "y": [
            27.448275862068964
           ],
           "yaxis": "y"
          }
         ],
         "name": "2"
        },
        {
         "data": [
          {
           "hovertemplate": "<b>%{hovertext}</b><br><br>Country_name=Netherlands<br>Month=3<br>AQI=%{x}<br>AQI_20=%{y}<br>size=%{marker.size}<extra></extra>",
           "hovertext": [
            "Rotterdam"
           ],
           "ids": [
            "Netherlands"
           ],
           "legendgroup": "Netherlands",
           "marker": {
            "color": "#636efa",
            "size": [
             1
            ],
            "sizemode": "area",
            "sizeref": 0.00033057851239669424,
            "symbol": "circle"
           },
           "mode": "markers",
           "name": "Netherlands",
           "orientation": "v",
           "showlegend": true,
           "type": "scatter",
           "x": [
            27.580645161290324
           ],
           "xaxis": "x",
           "y": [
            37.696969696969695
           ],
           "yaxis": "y"
          },
          {
           "hovertemplate": "<b>%{hovertext}</b><br><br>Country_name=United States<br>Month=3<br>AQI=%{x}<br>AQI_20=%{y}<br>size=%{marker.size}<extra></extra>",
           "hovertext": [
            "San Francisco"
           ],
           "ids": [
            "United States"
           ],
           "legendgroup": "United States",
           "marker": {
            "color": "#EF553B",
            "size": [
             1
            ],
            "sizemode": "area",
            "sizeref": 0.00033057851239669424,
            "symbol": "circle"
           },
           "mode": "markers",
           "name": "United States",
           "orientation": "v",
           "showlegend": true,
           "type": "scatter",
           "x": [
            23.78709677419355
           ],
           "xaxis": "x",
           "y": [
            25.884848484848487
           ],
           "yaxis": "y"
          },
          {
           "hovertemplate": "<b>%{hovertext}</b><br><br>Country_name=France<br>Month=3<br>AQI=%{x}<br>AQI_20=%{y}<br>size=%{marker.size}<extra></extra>",
           "hovertext": [
            "Paris"
           ],
           "ids": [
            "France"
           ],
           "legendgroup": "France",
           "marker": {
            "color": "#00cc96",
            "size": [
             1
            ],
            "sizemode": "area",
            "sizeref": 0.00033057851239669424,
            "symbol": "circle"
           },
           "mode": "markers",
           "name": "France",
           "orientation": "v",
           "showlegend": true,
           "type": "scatter",
           "x": [
            54.516129032258064
           ],
           "xaxis": "x",
           "y": [
            45.666666666666664
           ],
           "yaxis": "y"
          },
          {
           "hovertemplate": "<b>%{hovertext}</b><br><br>Country_name=Japan<br>Month=3<br>AQI=%{x}<br>AQI_20=%{y}<br>size=%{marker.size}<extra></extra>",
           "hovertext": [
            "Tokyo"
           ],
           "ids": [
            "Japan"
           ],
           "legendgroup": "Japan",
           "marker": {
            "color": "#ab63fa",
            "size": [
             1
            ],
            "sizemode": "area",
            "sizeref": 0.00033057851239669424,
            "symbol": "circle"
           },
           "mode": "markers",
           "name": "Japan",
           "orientation": "v",
           "showlegend": true,
           "type": "scatter",
           "x": [
            44.516129032258064
           ],
           "xaxis": "x",
           "y": [
            38.63636363636363
           ],
           "yaxis": "y"
          },
          {
           "hovertemplate": "<b>%{hovertext}</b><br><br>Country_name=Israel<br>Month=3<br>AQI=%{x}<br>AQI_20=%{y}<br>size=%{marker.size}<extra></extra>",
           "hovertext": [
            "Jerusalem"
           ],
           "ids": [
            "Israel"
           ],
           "legendgroup": "Israel",
           "marker": {
            "color": "#FFA15A",
            "size": [
             1
            ],
            "sizemode": "area",
            "sizeref": 0.00033057851239669424,
            "symbol": "circle"
           },
           "mode": "markers",
           "name": "Israel",
           "orientation": "v",
           "showlegend": true,
           "type": "scatter",
           "x": [
            37.516129032258064
           ],
           "xaxis": "x",
           "y": [
            60.24242424242424
           ],
           "yaxis": "y"
          },
          {
           "hovertemplate": "<b>%{hovertext}</b><br><br>Country_name=India<br>Month=3<br>AQI=%{x}<br>AQI_20=%{y}<br>size=%{marker.size}<extra></extra>",
           "hovertext": [
            "Delhi"
           ],
           "ids": [
            "India"
           ],
           "legendgroup": "India",
           "marker": {
            "color": "#19d3f3",
            "size": [
             1
            ],
            "sizemode": "area",
            "sizeref": 0.00033057851239669424,
            "symbol": "circle"
           },
           "mode": "markers",
           "name": "India",
           "orientation": "v",
           "showlegend": true,
           "type": "scatter",
           "x": [
            26.75483870967742
           ],
           "xaxis": "x",
           "y": [
            123.78787878787878
           ],
           "yaxis": "y"
          },
          {
           "hovertemplate": "<b>%{hovertext}</b><br><br>Country_name=Australia<br>Month=3<br>AQI=%{x}<br>AQI_20=%{y}<br>size=%{marker.size}<extra></extra>",
           "hovertext": [
            "Melbourne"
           ],
           "ids": [
            "Australia"
           ],
           "legendgroup": "Australia",
           "marker": {
            "color": "#FF6692",
            "size": [
             1
            ],
            "sizemode": "area",
            "sizeref": 0.00033057851239669424,
            "symbol": "circle"
           },
           "mode": "markers",
           "name": "Australia",
           "orientation": "v",
           "showlegend": true,
           "type": "scatter",
           "x": [
            34
           ],
           "xaxis": "x",
           "y": [
            19.09090909090909
           ],
           "yaxis": "y"
          },
          {
           "hovertemplate": "<b>%{hovertext}</b><br><br>Country_name=Thailand<br>Month=3<br>AQI=%{x}<br>AQI_20=%{y}<br>size=%{marker.size}<extra></extra>",
           "hovertext": [
            "Bangkok"
           ],
           "ids": [
            "Thailand"
           ],
           "legendgroup": "Thailand",
           "marker": {
            "color": "#B6E880",
            "size": [
             1
            ],
            "sizemode": "area",
            "sizeref": 0.00033057851239669424,
            "symbol": "circle"
           },
           "mode": "markers",
           "name": "Thailand",
           "orientation": "v",
           "showlegend": true,
           "type": "scatter",
           "x": [
            80.06451612903226
           ],
           "xaxis": "x",
           "y": [
            71.96969696969697
           ],
           "yaxis": "y"
          },
          {
           "hovertemplate": "<b>%{hovertext}</b><br><br>Country_name=Argentina<br>Month=3<br>AQI=%{x}<br>AQI_20=%{y}<br>size=%{marker.size}<extra></extra>",
           "hovertext": [
            "Buenos Aires"
           ],
           "ids": [
            "Argentina"
           ],
           "legendgroup": "Argentina",
           "marker": {
            "color": "#FF97FF",
            "size": [
             1
            ],
            "sizemode": "area",
            "sizeref": 0.00033057851239669424,
            "symbol": "circle"
           },
           "mode": "markers",
           "name": "Argentina",
           "orientation": "v",
           "showlegend": true,
           "type": "scatter",
           "x": [
            50.16129032258065
           ],
           "xaxis": "x",
           "y": [
            31.151515151515152
           ],
           "yaxis": "y"
          },
          {
           "hovertemplate": "<b>%{hovertext}</b><br><br>Country_name=Spain<br>Month=3<br>AQI=%{x}<br>AQI_20=%{y}<br>size=%{marker.size}<extra></extra>",
           "hovertext": [
            "Madrid",
            "Barcelona"
           ],
           "ids": [
            "Spain",
            "Spain"
           ],
           "legendgroup": "Spain",
           "marker": {
            "color": "#FECB52",
            "size": [
             1,
             1
            ],
            "sizemode": "area",
            "sizeref": 0.00033057851239669424,
            "symbol": "circle"
           },
           "mode": "markers",
           "name": "Spain",
           "orientation": "v",
           "showlegend": true,
           "type": "scatter",
           "x": [
            159.32258064516128,
            49.29032258064516
           ],
           "xaxis": "x",
           "y": [
            31.12121212121212,
            24.69090909090909
           ],
           "yaxis": "y"
          },
          {
           "hovertemplate": "<b>%{hovertext}</b><br><br>Country_name=Switzerland<br>Month=3<br>AQI=%{x}<br>AQI_20=%{y}<br>size=%{marker.size}<extra></extra>",
           "hovertext": [
            "Zürich"
           ],
           "ids": [
            "Switzerland"
           ],
           "legendgroup": "Switzerland",
           "marker": {
            "color": "#636efa",
            "size": [
             1
            ],
            "sizemode": "area",
            "sizeref": 0.00033057851239669424,
            "symbol": "circle"
           },
           "mode": "markers",
           "name": "Switzerland",
           "orientation": "v",
           "showlegend": true,
           "type": "scatter",
           "x": [
            46.935483870967744
           ],
           "xaxis": "x",
           "y": [
            20.145454545454545
           ],
           "yaxis": "y"
          },
          {
           "hovertemplate": "<b>%{hovertext}</b><br><br>Country_name=Chile<br>Month=3<br>AQI=%{x}<br>AQI_20=%{y}<br>size=%{marker.size}<extra></extra>",
           "hovertext": [
            "Los Ángeles"
           ],
           "ids": [
            "Chile"
           ],
           "legendgroup": "Chile",
           "marker": {
            "color": "#EF553B",
            "size": [
             1
            ],
            "sizemode": "area",
            "sizeref": 0.00033057851239669424,
            "symbol": "circle"
           },
           "mode": "markers",
           "name": "Chile",
           "orientation": "v",
           "showlegend": true,
           "type": "scatter",
           "x": [
            29.7
           ],
           "xaxis": "x",
           "y": [
            37.09090909090909
           ],
           "yaxis": "y"
          },
          {
           "hovertemplate": "<b>%{hovertext}</b><br><br>Country_name=Germany<br>Month=3<br>AQI=%{x}<br>AQI_20=%{y}<br>size=%{marker.size}<extra></extra>",
           "hovertext": [
            "Berlin"
           ],
           "ids": [
            "Germany"
           ],
           "legendgroup": "Germany",
           "marker": {
            "color": "#00cc96",
            "size": [
             1
            ],
            "sizemode": "area",
            "sizeref": 0.00033057851239669424,
            "symbol": "circle"
           },
           "mode": "markers",
           "name": "Germany",
           "orientation": "v",
           "showlegend": true,
           "type": "scatter",
           "x": [
            52.483870967741936
           ],
           "xaxis": "x",
           "y": [
            42.54545454545455
           ],
           "yaxis": "y"
          }
         ],
         "name": "3"
        },
        {
         "data": [
          {
           "hovertemplate": "<b>%{hovertext}</b><br><br>Country_name=Netherlands<br>Month=4<br>AQI=%{x}<br>AQI_20=%{y}<br>size=%{marker.size}<extra></extra>",
           "hovertext": [
            "Rotterdam"
           ],
           "ids": [
            "Netherlands"
           ],
           "legendgroup": "Netherlands",
           "marker": {
            "color": "#636efa",
            "size": [
             1
            ],
            "sizemode": "area",
            "sizeref": 0.00033057851239669424,
            "symbol": "circle"
           },
           "mode": "markers",
           "name": "Netherlands",
           "orientation": "v",
           "showlegend": true,
           "type": "scatter",
           "x": [
            81.82758620689656
           ],
           "xaxis": "x",
           "y": [
            43.51428571428571
           ],
           "yaxis": "y"
          },
          {
           "hovertemplate": "<b>%{hovertext}</b><br><br>Country_name=United States<br>Month=4<br>AQI=%{x}<br>AQI_20=%{y}<br>size=%{marker.size}<extra></extra>",
           "hovertext": [
            "San Francisco"
           ],
           "ids": [
            "United States"
           ],
           "legendgroup": "United States",
           "marker": {
            "color": "#EF553B",
            "size": [
             1
            ],
            "sizemode": "area",
            "sizeref": 0.00033057851239669424,
            "symbol": "circle"
           },
           "mode": "markers",
           "name": "United States",
           "orientation": "v",
           "showlegend": true,
           "type": "scatter",
           "x": [
            27.84827586206896
           ],
           "xaxis": "x",
           "y": [
            24.991428571428568
           ],
           "yaxis": "y"
          },
          {
           "hovertemplate": "<b>%{hovertext}</b><br><br>Country_name=France<br>Month=4<br>AQI=%{x}<br>AQI_20=%{y}<br>size=%{marker.size}<extra></extra>",
           "hovertext": [
            "Paris"
           ],
           "ids": [
            "France"
           ],
           "legendgroup": "France",
           "marker": {
            "color": "#00cc96",
            "size": [
             1
            ],
            "sizemode": "area",
            "sizeref": 0.00033057851239669424,
            "symbol": "circle"
           },
           "mode": "markers",
           "name": "France",
           "orientation": "v",
           "showlegend": true,
           "type": "scatter",
           "x": [
            67.46666666666667
           ],
           "xaxis": "x",
           "y": [
            49.97142857142857
           ],
           "yaxis": "y"
          },
          {
           "hovertemplate": "<b>%{hovertext}</b><br><br>Country_name=Japan<br>Month=4<br>AQI=%{x}<br>AQI_20=%{y}<br>size=%{marker.size}<extra></extra>",
           "hovertext": [
            "Tokyo"
           ],
           "ids": [
            "Japan"
           ],
           "legendgroup": "Japan",
           "marker": {
            "color": "#ab63fa",
            "size": [
             1
            ],
            "sizemode": "area",
            "sizeref": 0.00033057851239669424,
            "symbol": "circle"
           },
           "mode": "markers",
           "name": "Japan",
           "orientation": "v",
           "showlegend": true,
           "type": "scatter",
           "x": [
            56.833333333333336
           ],
           "xaxis": "x",
           "y": [
            38.8
           ],
           "yaxis": "y"
          },
          {
           "hovertemplate": "<b>%{hovertext}</b><br><br>Country_name=Israel<br>Month=4<br>AQI=%{x}<br>AQI_20=%{y}<br>size=%{marker.size}<extra></extra>",
           "hovertext": [
            "Jerusalem"
           ],
           "ids": [
            "Israel"
           ],
           "legendgroup": "Israel",
           "marker": {
            "color": "#FFA15A",
            "size": [
             1
            ],
            "sizemode": "area",
            "sizeref": 0.00033057851239669424,
            "symbol": "circle"
           },
           "mode": "markers",
           "name": "Israel",
           "orientation": "v",
           "showlegend": true,
           "type": "scatter",
           "x": [
            58.607142857142854
           ],
           "xaxis": "x",
           "y": [
            53.542857142857144
           ],
           "yaxis": "y"
          },
          {
           "hovertemplate": "<b>%{hovertext}</b><br><br>Country_name=India<br>Month=4<br>AQI=%{x}<br>AQI_20=%{y}<br>size=%{marker.size}<extra></extra>",
           "hovertext": [
            "Delhi"
           ],
           "ids": [
            "India"
           ],
           "legendgroup": "India",
           "marker": {
            "color": "#19d3f3",
            "size": [
             1
            ],
            "sizemode": "area",
            "sizeref": 0.00033057851239669424,
            "symbol": "circle"
           },
           "mode": "markers",
           "name": "India",
           "orientation": "v",
           "showlegend": true,
           "type": "scatter",
           "x": [
            32.06666666666667
           ],
           "xaxis": "x",
           "y": [
            107.88571428571429
           ],
           "yaxis": "y"
          },
          {
           "hovertemplate": "<b>%{hovertext}</b><br><br>Country_name=Australia<br>Month=4<br>AQI=%{x}<br>AQI_20=%{y}<br>size=%{marker.size}<extra></extra>",
           "hovertext": [
            "Melbourne"
           ],
           "ids": [
            "Australia"
           ],
           "legendgroup": "Australia",
           "marker": {
            "color": "#FF6692",
            "size": [
             1
            ],
            "sizemode": "area",
            "sizeref": 0.00033057851239669424,
            "symbol": "circle"
           },
           "mode": "markers",
           "name": "Australia",
           "orientation": "v",
           "showlegend": true,
           "type": "scatter",
           "x": [
            57.03333333333333
           ],
           "xaxis": "x",
           "y": [
            23.62857142857143
           ],
           "yaxis": "y"
          },
          {
           "hovertemplate": "<b>%{hovertext}</b><br><br>Country_name=Thailand<br>Month=4<br>AQI=%{x}<br>AQI_20=%{y}<br>size=%{marker.size}<extra></extra>",
           "hovertext": [
            "Bangkok"
           ],
           "ids": [
            "Thailand"
           ],
           "legendgroup": "Thailand",
           "marker": {
            "color": "#B6E880",
            "size": [
             1
            ],
            "sizemode": "area",
            "sizeref": 0.00033057851239669424,
            "symbol": "circle"
           },
           "mode": "markers",
           "name": "Thailand",
           "orientation": "v",
           "showlegend": true,
           "type": "scatter",
           "x": [
            38.3
           ],
           "xaxis": "x",
           "y": [
            64.94285714285714
           ],
           "yaxis": "y"
          },
          {
           "hovertemplate": "<b>%{hovertext}</b><br><br>Country_name=Argentina<br>Month=4<br>AQI=%{x}<br>AQI_20=%{y}<br>size=%{marker.size}<extra></extra>",
           "hovertext": [
            "Buenos Aires"
           ],
           "ids": [
            "Argentina"
           ],
           "legendgroup": "Argentina",
           "marker": {
            "color": "#FF97FF",
            "size": [
             1
            ],
            "sizemode": "area",
            "sizeref": 0.00033057851239669424,
            "symbol": "circle"
           },
           "mode": "markers",
           "name": "Argentina",
           "orientation": "v",
           "showlegend": true,
           "type": "scatter",
           "x": [
            28.433333333333334
           ],
           "xaxis": "x",
           "y": [
            25.914285714285715
           ],
           "yaxis": "y"
          },
          {
           "hovertemplate": "<b>%{hovertext}</b><br><br>Country_name=Spain<br>Month=4<br>AQI=%{x}<br>AQI_20=%{y}<br>size=%{marker.size}<extra></extra>",
           "hovertext": [
            "Barcelona",
            "Madrid"
           ],
           "ids": [
            "Spain",
            "Spain"
           ],
           "legendgroup": "Spain",
           "marker": {
            "color": "#FECB52",
            "size": [
             1,
             1
            ],
            "sizemode": "area",
            "sizeref": 0.00033057851239669424,
            "symbol": "circle"
           },
           "mode": "markers",
           "name": "Spain",
           "orientation": "v",
           "showlegend": true,
           "type": "scatter",
           "x": [
            56.13333333333333,
            28.448275862068964
           ],
           "xaxis": "x",
           "y": [
            30.408571428571427,
            29.65714285714286
           ],
           "yaxis": "y"
          },
          {
           "hovertemplate": "<b>%{hovertext}</b><br><br>Country_name=Switzerland<br>Month=4<br>AQI=%{x}<br>AQI_20=%{y}<br>size=%{marker.size}<extra></extra>",
           "hovertext": [
            "Zürich"
           ],
           "ids": [
            "Switzerland"
           ],
           "legendgroup": "Switzerland",
           "marker": {
            "color": "#636efa",
            "size": [
             1
            ],
            "sizemode": "area",
            "sizeref": 0.00033057851239669424,
            "symbol": "circle"
           },
           "mode": "markers",
           "name": "Switzerland",
           "orientation": "v",
           "showlegend": true,
           "type": "scatter",
           "x": [
            24.662068965517236
           ],
           "xaxis": "x",
           "y": [
            28.97142857142858
           ],
           "yaxis": "y"
          },
          {
           "hovertemplate": "<b>%{hovertext}</b><br><br>Country_name=Chile<br>Month=4<br>AQI=%{x}<br>AQI_20=%{y}<br>size=%{marker.size}<extra></extra>",
           "hovertext": [
            "Los Ángeles"
           ],
           "ids": [
            "Chile"
           ],
           "legendgroup": "Chile",
           "marker": {
            "color": "#EF553B",
            "size": [
             1
            ],
            "sizemode": "area",
            "sizeref": 0.00033057851239669424,
            "symbol": "circle"
           },
           "mode": "markers",
           "name": "Chile",
           "orientation": "v",
           "showlegend": true,
           "type": "scatter",
           "x": [
            153.3793103448276
           ],
           "xaxis": "x",
           "y": [
            59.65714285714286
           ],
           "yaxis": "y"
          },
          {
           "hovertemplate": "<b>%{hovertext}</b><br><br>Country_name=Germany<br>Month=4<br>AQI=%{x}<br>AQI_20=%{y}<br>size=%{marker.size}<extra></extra>",
           "hovertext": [
            "Berlin"
           ],
           "ids": [
            "Germany"
           ],
           "legendgroup": "Germany",
           "marker": {
            "color": "#00cc96",
            "size": [
             1
            ],
            "sizemode": "area",
            "sizeref": 0.00033057851239669424,
            "symbol": "circle"
           },
           "mode": "markers",
           "name": "Germany",
           "orientation": "v",
           "showlegend": true,
           "type": "scatter",
           "x": [
            42.206896551724135
           ],
           "xaxis": "x",
           "y": [
            36.65714285714286
           ],
           "yaxis": "y"
          }
         ],
         "name": "4"
        },
        {
         "data": [
          {
           "hovertemplate": "<b>%{hovertext}</b><br><br>Country_name=Netherlands<br>Month=5<br>AQI=%{x}<br>AQI_20=%{y}<br>size=%{marker.size}<extra></extra>",
           "hovertext": [
            "Rotterdam"
           ],
           "ids": [
            "Netherlands"
           ],
           "legendgroup": "Netherlands",
           "marker": {
            "color": "#636efa",
            "size": [
             1
            ],
            "sizemode": "area",
            "sizeref": 0.00033057851239669424,
            "symbol": "circle"
           },
           "mode": "markers",
           "name": "Netherlands",
           "orientation": "v",
           "showlegend": true,
           "type": "scatter",
           "x": [
            27.36774193548387
           ],
           "xaxis": "x",
           "y": [
            35.096774193548384
           ],
           "yaxis": "y"
          },
          {
           "hovertemplate": "<b>%{hovertext}</b><br><br>Country_name=United States<br>Month=5<br>AQI=%{x}<br>AQI_20=%{y}<br>size=%{marker.size}<extra></extra>",
           "hovertext": [
            "San Francisco"
           ],
           "ids": [
            "United States"
           ],
           "legendgroup": "United States",
           "marker": {
            "color": "#EF553B",
            "size": [
             1
            ],
            "sizemode": "area",
            "sizeref": 0.00033057851239669424,
            "symbol": "circle"
           },
           "mode": "markers",
           "name": "United States",
           "orientation": "v",
           "showlegend": true,
           "type": "scatter",
           "x": [
            37.87096774193548
           ],
           "xaxis": "x",
           "y": [
            27.548387096774192
           ],
           "yaxis": "y"
          },
          {
           "hovertemplate": "<b>%{hovertext}</b><br><br>Country_name=France<br>Month=5<br>AQI=%{x}<br>AQI_20=%{y}<br>size=%{marker.size}<extra></extra>",
           "hovertext": [
            "Paris"
           ],
           "ids": [
            "France"
           ],
           "legendgroup": "France",
           "marker": {
            "color": "#00cc96",
            "size": [
             1
            ],
            "sizemode": "area",
            "sizeref": 0.00033057851239669424,
            "symbol": "circle"
           },
           "mode": "markers",
           "name": "France",
           "orientation": "v",
           "showlegend": true,
           "type": "scatter",
           "x": [
            37.67741935483871
           ],
           "xaxis": "x",
           "y": [
            40.32258064516129
           ],
           "yaxis": "y"
          },
          {
           "hovertemplate": "<b>%{hovertext}</b><br><br>Country_name=Japan<br>Month=5<br>AQI=%{x}<br>AQI_20=%{y}<br>size=%{marker.size}<extra></extra>",
           "hovertext": [
            "Tokyo"
           ],
           "ids": [
            "Japan"
           ],
           "legendgroup": "Japan",
           "marker": {
            "color": "#ab63fa",
            "size": [
             1
            ],
            "sizemode": "area",
            "sizeref": 0.00033057851239669424,
            "symbol": "circle"
           },
           "mode": "markers",
           "name": "Japan",
           "orientation": "v",
           "showlegend": true,
           "type": "scatter",
           "x": [
            25.274193548387096
           ],
           "xaxis": "x",
           "y": [
            37.83870967741935
           ],
           "yaxis": "y"
          },
          {
           "hovertemplate": "<b>%{hovertext}</b><br><br>Country_name=Israel<br>Month=5<br>AQI=%{x}<br>AQI_20=%{y}<br>size=%{marker.size}<extra></extra>",
           "hovertext": [
            "Jerusalem"
           ],
           "ids": [
            "Israel"
           ],
           "legendgroup": "Israel",
           "marker": {
            "color": "#FFA15A",
            "size": [
             1
            ],
            "sizemode": "area",
            "sizeref": 0.00033057851239669424,
            "symbol": "circle"
           },
           "mode": "markers",
           "name": "Israel",
           "orientation": "v",
           "showlegend": true,
           "type": "scatter",
           "x": [
            47.45161290322581
           ],
           "xaxis": "x",
           "y": [
            49.03225806451613
           ],
           "yaxis": "y"
          },
          {
           "hovertemplate": "<b>%{hovertext}</b><br><br>Country_name=India<br>Month=5<br>AQI=%{x}<br>AQI_20=%{y}<br>size=%{marker.size}<extra></extra>",
           "hovertext": [
            "Delhi"
           ],
           "ids": [
            "India"
           ],
           "legendgroup": "India",
           "marker": {
            "color": "#19d3f3",
            "size": [
             1
            ],
            "sizemode": "area",
            "sizeref": 0.00033057851239669424,
            "symbol": "circle"
           },
           "mode": "markers",
           "name": "India",
           "orientation": "v",
           "showlegend": true,
           "type": "scatter",
           "x": [
            38.38709677419355
           ],
           "xaxis": "x",
           "y": [
            122.6774193548387
           ],
           "yaxis": "y"
          },
          {
           "hovertemplate": "<b>%{hovertext}</b><br><br>Country_name=Australia<br>Month=5<br>AQI=%{x}<br>AQI_20=%{y}<br>size=%{marker.size}<extra></extra>",
           "hovertext": [
            "Melbourne"
           ],
           "ids": [
            "Australia"
           ],
           "legendgroup": "Australia",
           "marker": {
            "color": "#FF6692",
            "size": [
             1
            ],
            "sizemode": "area",
            "sizeref": 0.00033057851239669424,
            "symbol": "circle"
           },
           "mode": "markers",
           "name": "Australia",
           "orientation": "v",
           "showlegend": true,
           "type": "scatter",
           "x": [
            158
           ],
           "xaxis": "x",
           "y": [
            24.258064516129032
           ],
           "yaxis": "y"
          },
          {
           "hovertemplate": "<b>%{hovertext}</b><br><br>Country_name=Thailand<br>Month=5<br>AQI=%{x}<br>AQI_20=%{y}<br>size=%{marker.size}<extra></extra>",
           "hovertext": [
            "Bangkok"
           ],
           "ids": [
            "Thailand"
           ],
           "legendgroup": "Thailand",
           "marker": {
            "color": "#B6E880",
            "size": [
             1
            ],
            "sizemode": "area",
            "sizeref": 0.00033057851239669424,
            "symbol": "circle"
           },
           "mode": "markers",
           "name": "Thailand",
           "orientation": "v",
           "showlegend": true,
           "type": "scatter",
           "x": [
            60.41935483870968
           ],
           "xaxis": "x",
           "y": [
            55.29032258064516
           ],
           "yaxis": "y"
          },
          {
           "hovertemplate": "<b>%{hovertext}</b><br><br>Country_name=Argentina<br>Month=5<br>AQI=%{x}<br>AQI_20=%{y}<br>size=%{marker.size}<extra></extra>",
           "hovertext": [
            "Buenos Aires"
           ],
           "ids": [
            "Argentina"
           ],
           "legendgroup": "Argentina",
           "marker": {
            "color": "#FF97FF",
            "size": [
             1
            ],
            "sizemode": "area",
            "sizeref": 0.00033057851239669424,
            "symbol": "circle"
           },
           "mode": "markers",
           "name": "Argentina",
           "orientation": "v",
           "showlegend": true,
           "type": "scatter",
           "x": [
            46.225806451612904
           ],
           "xaxis": "x",
           "y": [
            50.12
           ],
           "yaxis": "y"
          },
          {
           "hovertemplate": "<b>%{hovertext}</b><br><br>Country_name=Spain<br>Month=5<br>AQI=%{x}<br>AQI_20=%{y}<br>size=%{marker.size}<extra></extra>",
           "hovertext": [
            "Barcelona",
            "Madrid"
           ],
           "ids": [
            "Spain",
            "Spain"
           ],
           "legendgroup": "Spain",
           "marker": {
            "color": "#FECB52",
            "size": [
             1,
             1
            ],
            "sizemode": "area",
            "sizeref": 0.00033057851239669424,
            "symbol": "circle"
           },
           "mode": "markers",
           "name": "Spain",
           "orientation": "v",
           "showlegend": true,
           "type": "scatter",
           "x": [
            97.29032258064517,
            26.032258064516128
           ],
           "xaxis": "x",
           "y": [
            27.274193548387096,
            33.225806451612904
           ],
           "yaxis": "y"
          },
          {
           "hovertemplate": "<b>%{hovertext}</b><br><br>Country_name=Switzerland<br>Month=5<br>AQI=%{x}<br>AQI_20=%{y}<br>size=%{marker.size}<extra></extra>",
           "hovertext": [
            "Zürich"
           ],
           "ids": [
            "Switzerland"
           ],
           "legendgroup": "Switzerland",
           "marker": {
            "color": "#636efa",
            "size": [
             1
            ],
            "sizemode": "area",
            "sizeref": 0.00033057851239669424,
            "symbol": "circle"
           },
           "mode": "markers",
           "name": "Switzerland",
           "orientation": "v",
           "showlegend": true,
           "type": "scatter",
           "x": [
            25.46129032258065
           ],
           "xaxis": "x",
           "y": [
            27.132258064516133
           ],
           "yaxis": "y"
          },
          {
           "hovertemplate": "<b>%{hovertext}</b><br><br>Country_name=Chile<br>Month=5<br>AQI=%{x}<br>AQI_20=%{y}<br>size=%{marker.size}<extra></extra>",
           "hovertext": [
            "Los Ángeles"
           ],
           "ids": [
            "Chile"
           ],
           "legendgroup": "Chile",
           "marker": {
            "color": "#EF553B",
            "size": [
             1
            ],
            "sizemode": "area",
            "sizeref": 0.00033057851239669424,
            "symbol": "circle"
           },
           "mode": "markers",
           "name": "Chile",
           "orientation": "v",
           "showlegend": true,
           "type": "scatter",
           "x": [
            28.612903225806456
           ],
           "xaxis": "x",
           "y": [
            67.70967741935483
           ],
           "yaxis": "y"
          },
          {
           "hovertemplate": "<b>%{hovertext}</b><br><br>Country_name=Germany<br>Month=5<br>AQI=%{x}<br>AQI_20=%{y}<br>size=%{marker.size}<extra></extra>",
           "hovertext": [
            "Berlin"
           ],
           "ids": [
            "Germany"
           ],
           "legendgroup": "Germany",
           "marker": {
            "color": "#00cc96",
            "size": [
             1
            ],
            "sizemode": "area",
            "sizeref": 0.00033057851239669424,
            "symbol": "circle"
           },
           "mode": "markers",
           "name": "Germany",
           "orientation": "v",
           "showlegend": true,
           "type": "scatter",
           "x": [
            69.64516129032258
           ],
           "xaxis": "x",
           "y": [
            27.845161290322583
           ],
           "yaxis": "y"
          }
         ],
         "name": "5"
        },
        {
         "data": [
          {
           "hovertemplate": "<b>%{hovertext}</b><br><br>Country_name=Netherlands<br>Month=6<br>AQI=%{x}<br>AQI_20=%{y}<br>size=%{marker.size}<extra></extra>",
           "hovertext": [
            "Rotterdam"
           ],
           "ids": [
            "Netherlands"
           ],
           "legendgroup": "Netherlands",
           "marker": {
            "color": "#636efa",
            "size": [
             1
            ],
            "sizemode": "area",
            "sizeref": 0.00033057851239669424,
            "symbol": "circle"
           },
           "mode": "markers",
           "name": "Netherlands",
           "orientation": "v",
           "showlegend": true,
           "type": "scatter",
           "x": [
            84.86666666666666
           ],
           "xaxis": "x",
           "y": [
            30.90625
           ],
           "yaxis": "y"
          },
          {
           "hovertemplate": "<b>%{hovertext}</b><br><br>Country_name=United States<br>Month=6<br>AQI=%{x}<br>AQI_20=%{y}<br>size=%{marker.size}<extra></extra>",
           "hovertext": [
            "San Francisco"
           ],
           "ids": [
            "United States"
           ],
           "legendgroup": "United States",
           "marker": {
            "color": "#EF553B",
            "size": [
             1
            ],
            "sizemode": "area",
            "sizeref": 0.00033057851239669424,
            "symbol": "circle"
           },
           "mode": "markers",
           "name": "United States",
           "orientation": "v",
           "showlegend": true,
           "type": "scatter",
           "x": [
            139.86666666666667
           ],
           "xaxis": "x",
           "y": [
            29.4375
           ],
           "yaxis": "y"
          },
          {
           "hovertemplate": "<b>%{hovertext}</b><br><br>Country_name=France<br>Month=6<br>AQI=%{x}<br>AQI_20=%{y}<br>size=%{marker.size}<extra></extra>",
           "hovertext": [
            "Paris"
           ],
           "ids": [
            "France"
           ],
           "legendgroup": "France",
           "marker": {
            "color": "#00cc96",
            "size": [
             1
            ],
            "sizemode": "area",
            "sizeref": 0.00033057851239669424,
            "symbol": "circle"
           },
           "mode": "markers",
           "name": "France",
           "orientation": "v",
           "showlegend": true,
           "type": "scatter",
           "x": [
            37.56666666666667
           ],
           "xaxis": "x",
           "y": [
            37.375
           ],
           "yaxis": "y"
          },
          {
           "hovertemplate": "<b>%{hovertext}</b><br><br>Country_name=Japan<br>Month=6<br>AQI=%{x}<br>AQI_20=%{y}<br>size=%{marker.size}<extra></extra>",
           "hovertext": [
            "Tokyo"
           ],
           "ids": [
            "Japan"
           ],
           "legendgroup": "Japan",
           "marker": {
            "color": "#ab63fa",
            "size": [
             1
            ],
            "sizemode": "area",
            "sizeref": 0.00033057851239669424,
            "symbol": "circle"
           },
           "mode": "markers",
           "name": "Japan",
           "orientation": "v",
           "showlegend": true,
           "type": "scatter",
           "x": [
            40.2
           ],
           "xaxis": "x",
           "y": [
            42.25
           ],
           "yaxis": "y"
          },
          {
           "hovertemplate": "<b>%{hovertext}</b><br><br>Country_name=Israel<br>Month=6<br>AQI=%{x}<br>AQI_20=%{y}<br>size=%{marker.size}<extra></extra>",
           "hovertext": [
            "Jerusalem"
           ],
           "ids": [
            "Israel"
           ],
           "legendgroup": "Israel",
           "marker": {
            "color": "#FFA15A",
            "size": [
             1
            ],
            "sizemode": "area",
            "sizeref": 0.00033057851239669424,
            "symbol": "circle"
           },
           "mode": "markers",
           "name": "Israel",
           "orientation": "v",
           "showlegend": true,
           "type": "scatter",
           "x": [
            43.06666666666667
           ],
           "xaxis": "x",
           "y": [
            50.46875
           ],
           "yaxis": "y"
          },
          {
           "hovertemplate": "<b>%{hovertext}</b><br><br>Country_name=India<br>Month=6<br>AQI=%{x}<br>AQI_20=%{y}<br>size=%{marker.size}<extra></extra>",
           "hovertext": [
            "Delhi"
           ],
           "ids": [
            "India"
           ],
           "legendgroup": "India",
           "marker": {
            "color": "#19d3f3",
            "size": [
             1
            ],
            "sizemode": "area",
            "sizeref": 0.00033057851239669424,
            "symbol": "circle"
           },
           "mode": "markers",
           "name": "India",
           "orientation": "v",
           "showlegend": true,
           "type": "scatter",
           "x": [
            29.006666666666664
           ],
           "xaxis": "x",
           "y": [
            117.40625
           ],
           "yaxis": "y"
          },
          {
           "hovertemplate": "<b>%{hovertext}</b><br><br>Country_name=Australia<br>Month=6<br>AQI=%{x}<br>AQI_20=%{y}<br>size=%{marker.size}<extra></extra>",
           "hovertext": [
            "Melbourne"
           ],
           "ids": [
            "Australia"
           ],
           "legendgroup": "Australia",
           "marker": {
            "color": "#FF6692",
            "size": [
             1
            ],
            "sizemode": "area",
            "sizeref": 0.00033057851239669424,
            "symbol": "circle"
           },
           "mode": "markers",
           "name": "Australia",
           "orientation": "v",
           "showlegend": true,
           "type": "scatter",
           "x": [
            33.63333333333333
           ],
           "xaxis": "x",
           "y": [
            31.8125
           ],
           "yaxis": "y"
          },
          {
           "hovertemplate": "<b>%{hovertext}</b><br><br>Country_name=Thailand<br>Month=6<br>AQI=%{x}<br>AQI_20=%{y}<br>size=%{marker.size}<extra></extra>",
           "hovertext": [
            "Bangkok"
           ],
           "ids": [
            "Thailand"
           ],
           "legendgroup": "Thailand",
           "marker": {
            "color": "#B6E880",
            "size": [
             1
            ],
            "sizemode": "area",
            "sizeref": 0.00033057851239669424,
            "symbol": "circle"
           },
           "mode": "markers",
           "name": "Thailand",
           "orientation": "v",
           "showlegend": true,
           "type": "scatter",
           "x": [
            42.86666666666667
           ],
           "xaxis": "x",
           "y": [
            44.9375
           ],
           "yaxis": "y"
          },
          {
           "hovertemplate": "<b>%{hovertext}</b><br><br>Country_name=Argentina<br>Month=6<br>AQI=%{x}<br>AQI_20=%{y}<br>size=%{marker.size}<extra></extra>",
           "hovertext": [
            "Buenos Aires"
           ],
           "ids": [
            "Argentina"
           ],
           "legendgroup": "Argentina",
           "marker": {
            "color": "#FF97FF",
            "size": [
             1
            ],
            "sizemode": "area",
            "sizeref": 0.00033057851239669424,
            "symbol": "circle"
           },
           "mode": "markers",
           "name": "Argentina",
           "orientation": "v",
           "showlegend": true,
           "type": "scatter",
           "x": [
            28.166666666666668
           ],
           "xaxis": "x",
           "y": [
            35.1875
           ],
           "yaxis": "y"
          },
          {
           "hovertemplate": "<b>%{hovertext}</b><br><br>Country_name=Spain<br>Month=6<br>AQI=%{x}<br>AQI_20=%{y}<br>size=%{marker.size}<extra></extra>",
           "hovertext": [
            "Barcelona",
            "Madrid"
           ],
           "ids": [
            "Spain",
            "Spain"
           ],
           "legendgroup": "Spain",
           "marker": {
            "color": "#FECB52",
            "size": [
             1,
             1
            ],
            "sizemode": "area",
            "sizeref": 0.00033057851239669424,
            "symbol": "circle"
           },
           "mode": "markers",
           "name": "Spain",
           "orientation": "v",
           "showlegend": true,
           "type": "scatter",
           "x": [
            38.1,
            64.9
           ],
           "xaxis": "x",
           "y": [
            24.228125000000006,
            36.9375
           ],
           "yaxis": "y"
          },
          {
           "hovertemplate": "<b>%{hovertext}</b><br><br>Country_name=Switzerland<br>Month=6<br>AQI=%{x}<br>AQI_20=%{y}<br>size=%{marker.size}<extra></extra>",
           "hovertext": [
            "Zürich"
           ],
           "ids": [
            "Switzerland"
           ],
           "legendgroup": "Switzerland",
           "marker": {
            "color": "#636efa",
            "size": [
             1
            ],
            "sizemode": "area",
            "sizeref": 0.00033057851239669424,
            "symbol": "circle"
           },
           "mode": "markers",
           "name": "Switzerland",
           "orientation": "v",
           "showlegend": true,
           "type": "scatter",
           "x": [
            51.06666666666667
           ],
           "xaxis": "x",
           "y": [
            25.4
           ],
           "yaxis": "y"
          },
          {
           "hovertemplate": "<b>%{hovertext}</b><br><br>Country_name=Chile<br>Month=6<br>AQI=%{x}<br>AQI_20=%{y}<br>size=%{marker.size}<extra></extra>",
           "hovertext": [
            "Los Ángeles"
           ],
           "ids": [
            "Chile"
           ],
           "legendgroup": "Chile",
           "marker": {
            "color": "#EF553B",
            "size": [
             1
            ],
            "sizemode": "area",
            "sizeref": 0.00033057851239669424,
            "symbol": "circle"
           },
           "mode": "markers",
           "name": "Chile",
           "orientation": "v",
           "showlegend": true,
           "type": "scatter",
           "x": [
            29.586666666666666
           ],
           "xaxis": "x",
           "y": [
            44.28125
           ],
           "yaxis": "y"
          },
          {
           "hovertemplate": "<b>%{hovertext}</b><br><br>Country_name=Germany<br>Month=6<br>AQI=%{x}<br>AQI_20=%{y}<br>size=%{marker.size}<extra></extra>",
           "hovertext": [
            "Berlin"
           ],
           "ids": [
            "Germany"
           ],
           "legendgroup": "Germany",
           "marker": {
            "color": "#00cc96",
            "size": [
             1
            ],
            "sizemode": "area",
            "sizeref": 0.00033057851239669424,
            "symbol": "circle"
           },
           "mode": "markers",
           "name": "Germany",
           "orientation": "v",
           "showlegend": true,
           "type": "scatter",
           "x": [
            37.96666666666667
           ],
           "xaxis": "x",
           "y": [
            30.5625
           ],
           "yaxis": "y"
          }
         ],
         "name": "6"
        },
        {
         "data": [
          {
           "hovertemplate": "<b>%{hovertext}</b><br><br>Country_name=Netherlands<br>Month=7<br>AQI=%{x}<br>AQI_20=%{y}<br>size=%{marker.size}<extra></extra>",
           "hovertext": [
            "Rotterdam"
           ],
           "ids": [
            "Netherlands"
           ],
           "legendgroup": "Netherlands",
           "marker": {
            "color": "#636efa",
            "size": [
             1
            ],
            "sizemode": "area",
            "sizeref": 0.00033057851239669424,
            "symbol": "circle"
           },
           "mode": "markers",
           "name": "Netherlands",
           "orientation": "v",
           "showlegend": true,
           "type": "scatter",
           "x": [
            46.67741935483871
           ],
           "xaxis": "x",
           "y": [
            21.944444444444443
           ],
           "yaxis": "y"
          },
          {
           "hovertemplate": "<b>%{hovertext}</b><br><br>Country_name=United States<br>Month=7<br>AQI=%{x}<br>AQI_20=%{y}<br>size=%{marker.size}<extra></extra>",
           "hovertext": [
            "San Francisco"
           ],
           "ids": [
            "United States"
           ],
           "legendgroup": "United States",
           "marker": {
            "color": "#EF553B",
            "size": [
             1
            ],
            "sizemode": "area",
            "sizeref": 0.00033057851239669424,
            "symbol": "circle"
           },
           "mode": "markers",
           "name": "United States",
           "orientation": "v",
           "showlegend": true,
           "type": "scatter",
           "x": [
            32.74193548387097
           ],
           "xaxis": "x",
           "y": [
            30.86111111111111
           ],
           "yaxis": "y"
          },
          {
           "hovertemplate": "<b>%{hovertext}</b><br><br>Country_name=France<br>Month=7<br>AQI=%{x}<br>AQI_20=%{y}<br>size=%{marker.size}<extra></extra>",
           "hovertext": [
            "Paris"
           ],
           "ids": [
            "France"
           ],
           "legendgroup": "France",
           "marker": {
            "color": "#00cc96",
            "size": [
             1
            ],
            "sizemode": "area",
            "sizeref": 0.00033057851239669424,
            "symbol": "circle"
           },
           "mode": "markers",
           "name": "France",
           "orientation": "v",
           "showlegend": true,
           "type": "scatter",
           "x": [
            54
           ],
           "xaxis": "x",
           "y": [
            35.361111111111114
           ],
           "yaxis": "y"
          },
          {
           "hovertemplate": "<b>%{hovertext}</b><br><br>Country_name=Japan<br>Month=7<br>AQI=%{x}<br>AQI_20=%{y}<br>size=%{marker.size}<extra></extra>",
           "hovertext": [
            "Tokyo"
           ],
           "ids": [
            "Japan"
           ],
           "legendgroup": "Japan",
           "marker": {
            "color": "#ab63fa",
            "size": [
             1
            ],
            "sizemode": "area",
            "sizeref": 0.00033057851239669424,
            "symbol": "circle"
           },
           "mode": "markers",
           "name": "Japan",
           "orientation": "v",
           "showlegend": true,
           "type": "scatter",
           "x": [
            34.83870967741935
           ],
           "xaxis": "x",
           "y": [
            30.61111111111111
           ],
           "yaxis": "y"
          },
          {
           "hovertemplate": "<b>%{hovertext}</b><br><br>Country_name=Israel<br>Month=7<br>AQI=%{x}<br>AQI_20=%{y}<br>size=%{marker.size}<extra></extra>",
           "hovertext": [
            "Jerusalem"
           ],
           "ids": [
            "Israel"
           ],
           "legendgroup": "Israel",
           "marker": {
            "color": "#FFA15A",
            "size": [
             1
            ],
            "sizemode": "area",
            "sizeref": 0.00033057851239669424,
            "symbol": "circle"
           },
           "mode": "markers",
           "name": "Israel",
           "orientation": "v",
           "showlegend": true,
           "type": "scatter",
           "x": [
            30.961290322580652
           ],
           "xaxis": "x",
           "y": [
            55.97222222222222
           ],
           "yaxis": "y"
          },
          {
           "hovertemplate": "<b>%{hovertext}</b><br><br>Country_name=India<br>Month=7<br>AQI=%{x}<br>AQI_20=%{y}<br>size=%{marker.size}<extra></extra>",
           "hovertext": [
            "Delhi"
           ],
           "ids": [
            "India"
           ],
           "legendgroup": "India",
           "marker": {
            "color": "#19d3f3",
            "size": [
             1
            ],
            "sizemode": "area",
            "sizeref": 0.00033057851239669424,
            "symbol": "circle"
           },
           "mode": "markers",
           "name": "India",
           "orientation": "v",
           "showlegend": true,
           "type": "scatter",
           "x": [
            31.29032258064516
           ],
           "xaxis": "x",
           "y": [
            96.80555555555556
           ],
           "yaxis": "y"
          },
          {
           "hovertemplate": "<b>%{hovertext}</b><br><br>Country_name=Australia<br>Month=7<br>AQI=%{x}<br>AQI_20=%{y}<br>size=%{marker.size}<extra></extra>",
           "hovertext": [
            "Melbourne"
           ],
           "ids": [
            "Australia"
           ],
           "legendgroup": "Australia",
           "marker": {
            "color": "#FF6692",
            "size": [
             1
            ],
            "sizemode": "area",
            "sizeref": 0.00033057851239669424,
            "symbol": "circle"
           },
           "mode": "markers",
           "name": "Australia",
           "orientation": "v",
           "showlegend": true,
           "type": "scatter",
           "x": [
            43.03225806451613
           ],
           "xaxis": "x",
           "y": [
            30.27777777777778
           ],
           "yaxis": "y"
          },
          {
           "hovertemplate": "<b>%{hovertext}</b><br><br>Country_name=Thailand<br>Month=7<br>AQI=%{x}<br>AQI_20=%{y}<br>size=%{marker.size}<extra></extra>",
           "hovertext": [
            "Bangkok"
           ],
           "ids": [
            "Thailand"
           ],
           "legendgroup": "Thailand",
           "marker": {
            "color": "#B6E880",
            "size": [
             1
            ],
            "sizemode": "area",
            "sizeref": 0.00033057851239669424,
            "symbol": "circle"
           },
           "mode": "markers",
           "name": "Thailand",
           "orientation": "v",
           "showlegend": true,
           "type": "scatter",
           "x": [
            40.67741935483871
           ],
           "xaxis": "x",
           "y": [
            48.111111111111114
           ],
           "yaxis": "y"
          },
          {
           "hovertemplate": "<b>%{hovertext}</b><br><br>Country_name=Argentina<br>Month=7<br>AQI=%{x}<br>AQI_20=%{y}<br>size=%{marker.size}<extra></extra>",
           "hovertext": [
            "Buenos Aires"
           ],
           "ids": [
            "Argentina"
           ],
           "legendgroup": "Argentina",
           "marker": {
            "color": "#FF97FF",
            "size": [
             1
            ],
            "sizemode": "area",
            "sizeref": 0.00033057851239669424,
            "symbol": "circle"
           },
           "mode": "markers",
           "name": "Argentina",
           "orientation": "v",
           "showlegend": true,
           "type": "scatter",
           "x": [
            58.54838709677419
           ],
           "xaxis": "x",
           "y": [
            35.25
           ],
           "yaxis": "y"
          },
          {
           "hovertemplate": "<b>%{hovertext}</b><br><br>Country_name=Spain<br>Month=7<br>AQI=%{x}<br>AQI_20=%{y}<br>size=%{marker.size}<extra></extra>",
           "hovertext": [
            "Madrid",
            "Barcelona"
           ],
           "ids": [
            "Spain",
            "Spain"
           ],
           "legendgroup": "Spain",
           "marker": {
            "color": "#FECB52",
            "size": [
             1,
             1
            ],
            "sizemode": "area",
            "sizeref": 0.00033057851239669424,
            "symbol": "circle"
           },
           "mode": "markers",
           "name": "Spain",
           "orientation": "v",
           "showlegend": true,
           "type": "scatter",
           "x": [
            115.64516129032258,
            26.367741935483867
           ],
           "xaxis": "x",
           "y": [
            43.583333333333336,
            25.53055555555555
           ],
           "yaxis": "y"
          },
          {
           "hovertemplate": "<b>%{hovertext}</b><br><br>Country_name=Switzerland<br>Month=7<br>AQI=%{x}<br>AQI_20=%{y}<br>size=%{marker.size}<extra></extra>",
           "hovertext": [
            "Zürich"
           ],
           "ids": [
            "Switzerland"
           ],
           "legendgroup": "Switzerland",
           "marker": {
            "color": "#636efa",
            "size": [
             1
            ],
            "sizemode": "area",
            "sizeref": 0.00033057851239669424,
            "symbol": "circle"
           },
           "mode": "markers",
           "name": "Switzerland",
           "orientation": "v",
           "showlegend": true,
           "type": "scatter",
           "x": [
            47.45161290322581
           ],
           "xaxis": "x",
           "y": [
            25.09722222222222
           ],
           "yaxis": "y"
          },
          {
           "hovertemplate": "<b>%{hovertext}</b><br><br>Country_name=Chile<br>Month=7<br>AQI=%{x}<br>AQI_20=%{y}<br>size=%{marker.size}<extra></extra>",
           "hovertext": [
            "Los Ángeles"
           ],
           "ids": [
            "Chile"
           ],
           "legendgroup": "Chile",
           "marker": {
            "color": "#EF553B",
            "size": [
             1
            ],
            "sizemode": "area",
            "sizeref": 0.00033057851239669424,
            "symbol": "circle"
           },
           "mode": "markers",
           "name": "Chile",
           "orientation": "v",
           "showlegend": true,
           "type": "scatter",
           "x": [
            26.35483870967742
           ],
           "xaxis": "x",
           "y": [
            48.52777777777778
           ],
           "yaxis": "y"
          },
          {
           "hovertemplate": "<b>%{hovertext}</b><br><br>Country_name=Germany<br>Month=7<br>AQI=%{x}<br>AQI_20=%{y}<br>size=%{marker.size}<extra></extra>",
           "hovertext": [
            "Berlin"
           ],
           "ids": [
            "Germany"
           ],
           "legendgroup": "Germany",
           "marker": {
            "color": "#00cc96",
            "size": [
             1
            ],
            "sizemode": "area",
            "sizeref": 0.00033057851239669424,
            "symbol": "circle"
           },
           "mode": "markers",
           "name": "Germany",
           "orientation": "v",
           "showlegend": true,
           "type": "scatter",
           "x": [
            73.90322580645162
           ],
           "xaxis": "x",
           "y": [
            23.494444444444444
           ],
           "yaxis": "y"
          }
         ],
         "name": "7"
        },
        {
         "data": [
          {
           "hovertemplate": "<b>%{hovertext}</b><br><br>Country_name=Netherlands<br>Month=8<br>AQI=%{x}<br>AQI_20=%{y}<br>size=%{marker.size}<extra></extra>",
           "hovertext": [
            "Rotterdam"
           ],
           "ids": [
            "Netherlands"
           ],
           "legendgroup": "Netherlands",
           "marker": {
            "color": "#636efa",
            "size": [
             1
            ],
            "sizemode": "area",
            "sizeref": 0.00033057851239669424,
            "symbol": "circle"
           },
           "mode": "markers",
           "name": "Netherlands",
           "orientation": "v",
           "showlegend": true,
           "type": "scatter",
           "x": [
            47.225806451612904
           ],
           "xaxis": "x",
           "y": [
            36.87096774193548
           ],
           "yaxis": "y"
          },
          {
           "hovertemplate": "<b>%{hovertext}</b><br><br>Country_name=United States<br>Month=8<br>AQI=%{x}<br>AQI_20=%{y}<br>size=%{marker.size}<extra></extra>",
           "hovertext": [
            "San Francisco"
           ],
           "ids": [
            "United States"
           ],
           "legendgroup": "United States",
           "marker": {
            "color": "#EF553B",
            "size": [
             1
            ],
            "sizemode": "area",
            "sizeref": 0.00033057851239669424,
            "symbol": "circle"
           },
           "mode": "markers",
           "name": "United States",
           "orientation": "v",
           "showlegend": true,
           "type": "scatter",
           "x": [
            47.16129032258065
           ],
           "xaxis": "x",
           "y": [
            40.935483870967744
           ],
           "yaxis": "y"
          },
          {
           "hovertemplate": "<b>%{hovertext}</b><br><br>Country_name=France<br>Month=8<br>AQI=%{x}<br>AQI_20=%{y}<br>size=%{marker.size}<extra></extra>",
           "hovertext": [
            "Paris"
           ],
           "ids": [
            "France"
           ],
           "legendgroup": "France",
           "marker": {
            "color": "#00cc96",
            "size": [
             1
            ],
            "sizemode": "area",
            "sizeref": 0.00033057851239669424,
            "symbol": "circle"
           },
           "mode": "markers",
           "name": "France",
           "orientation": "v",
           "showlegend": true,
           "type": "scatter",
           "x": [
            37.61290322580645
           ],
           "xaxis": "x",
           "y": [
            36.67741935483871
           ],
           "yaxis": "y"
          },
          {
           "hovertemplate": "<b>%{hovertext}</b><br><br>Country_name=Japan<br>Month=8<br>AQI=%{x}<br>AQI_20=%{y}<br>size=%{marker.size}<extra></extra>",
           "hovertext": [
            "Tokyo"
           ],
           "ids": [
            "Japan"
           ],
           "legendgroup": "Japan",
           "marker": {
            "color": "#ab63fa",
            "size": [
             1
            ],
            "sizemode": "area",
            "sizeref": 0.00033057851239669424,
            "symbol": "circle"
           },
           "mode": "markers",
           "name": "Japan",
           "orientation": "v",
           "showlegend": true,
           "type": "scatter",
           "x": [
            61.774193548387096
           ],
           "xaxis": "x",
           "y": [
            45.25806451612903
           ],
           "yaxis": "y"
          },
          {
           "hovertemplate": "<b>%{hovertext}</b><br><br>Country_name=Israel<br>Month=8<br>AQI=%{x}<br>AQI_20=%{y}<br>size=%{marker.size}<extra></extra>",
           "hovertext": [
            "Jerusalem"
           ],
           "ids": [
            "Israel"
           ],
           "legendgroup": "Israel",
           "marker": {
            "color": "#FFA15A",
            "size": [
             1
            ],
            "sizemode": "area",
            "sizeref": 0.00033057851239669424,
            "symbol": "circle"
           },
           "mode": "markers",
           "name": "Israel",
           "orientation": "v",
           "showlegend": true,
           "type": "scatter",
           "x": [
            86.45161290322581
           ],
           "xaxis": "x",
           "y": [
            56.67741935483871
           ],
           "yaxis": "y"
          },
          {
           "hovertemplate": "<b>%{hovertext}</b><br><br>Country_name=India<br>Month=8<br>AQI=%{x}<br>AQI_20=%{y}<br>size=%{marker.size}<extra></extra>",
           "hovertext": [
            "Delhi"
           ],
           "ids": [
            "India"
           ],
           "legendgroup": "India",
           "marker": {
            "color": "#19d3f3",
            "size": [
             1
            ],
            "sizemode": "area",
            "sizeref": 0.00033057851239669424,
            "symbol": "circle"
           },
           "mode": "markers",
           "name": "India",
           "orientation": "v",
           "showlegend": true,
           "type": "scatter",
           "x": [
            22.741935483870968
           ],
           "xaxis": "x",
           "y": [
            73.25806451612904
           ],
           "yaxis": "y"
          },
          {
           "hovertemplate": "<b>%{hovertext}</b><br><br>Country_name=Australia<br>Month=8<br>AQI=%{x}<br>AQI_20=%{y}<br>size=%{marker.size}<extra></extra>",
           "hovertext": [
            "Melbourne"
           ],
           "ids": [
            "Australia"
           ],
           "legendgroup": "Australia",
           "marker": {
            "color": "#FF6692",
            "size": [
             1
            ],
            "sizemode": "area",
            "sizeref": 0.00033057851239669424,
            "symbol": "circle"
           },
           "mode": "markers",
           "name": "Australia",
           "orientation": "v",
           "showlegend": true,
           "type": "scatter",
           "x": [
            38.645161290322584
           ],
           "xaxis": "x",
           "y": [
            21.677419354838708
           ],
           "yaxis": "y"
          },
          {
           "hovertemplate": "<b>%{hovertext}</b><br><br>Country_name=Thailand<br>Month=8<br>AQI=%{x}<br>AQI_20=%{y}<br>size=%{marker.size}<extra></extra>",
           "hovertext": [
            "Bangkok"
           ],
           "ids": [
            "Thailand"
           ],
           "legendgroup": "Thailand",
           "marker": {
            "color": "#B6E880",
            "size": [
             1
            ],
            "sizemode": "area",
            "sizeref": 0.00033057851239669424,
            "symbol": "circle"
           },
           "mode": "markers",
           "name": "Thailand",
           "orientation": "v",
           "showlegend": true,
           "type": "scatter",
           "x": [
            52.96774193548387
           ],
           "xaxis": "x",
           "y": [
            50.225806451612904
           ],
           "yaxis": "y"
          },
          {
           "hovertemplate": "<b>%{hovertext}</b><br><br>Country_name=Argentina<br>Month=8<br>AQI=%{x}<br>AQI_20=%{y}<br>size=%{marker.size}<extra></extra>",
           "hovertext": [
            "Buenos Aires"
           ],
           "ids": [
            "Argentina"
           ],
           "legendgroup": "Argentina",
           "marker": {
            "color": "#FF97FF",
            "size": [
             1
            ],
            "sizemode": "area",
            "sizeref": 0.00033057851239669424,
            "symbol": "circle"
           },
           "mode": "markers",
           "name": "Argentina",
           "orientation": "v",
           "showlegend": true,
           "type": "scatter",
           "x": [
            40
           ],
           "xaxis": "x",
           "y": [
            50.58064516129032
           ],
           "yaxis": "y"
          },
          {
           "hovertemplate": "<b>%{hovertext}</b><br><br>Country_name=Spain<br>Month=8<br>AQI=%{x}<br>AQI_20=%{y}<br>size=%{marker.size}<extra></extra>",
           "hovertext": [
            "Madrid",
            "Barcelona"
           ],
           "ids": [
            "Spain",
            "Spain"
           ],
           "legendgroup": "Spain",
           "marker": {
            "color": "#FECB52",
            "size": [
             1,
             1
            ],
            "sizemode": "area",
            "sizeref": 0.00033057851239669424,
            "symbol": "circle"
           },
           "mode": "markers",
           "name": "Spain",
           "orientation": "v",
           "showlegend": true,
           "type": "scatter",
           "x": [
            90.45161290322581,
            28.64516129032258
           ],
           "xaxis": "x",
           "y": [
            37.61290322580645,
            24.667741935483868
           ],
           "yaxis": "y"
          },
          {
           "hovertemplate": "<b>%{hovertext}</b><br><br>Country_name=Switzerland<br>Month=8<br>AQI=%{x}<br>AQI_20=%{y}<br>size=%{marker.size}<extra></extra>",
           "hovertext": [
            "Zürich"
           ],
           "ids": [
            "Switzerland"
           ],
           "legendgroup": "Switzerland",
           "marker": {
            "color": "#636efa",
            "size": [
             1
            ],
            "sizemode": "area",
            "sizeref": 0.00033057851239669424,
            "symbol": "circle"
           },
           "mode": "markers",
           "name": "Switzerland",
           "orientation": "v",
           "showlegend": true,
           "type": "scatter",
           "x": [
            37.935483870967744
           ],
           "xaxis": "x",
           "y": [
            24.548387096774192
           ],
           "yaxis": "y"
          },
          {
           "hovertemplate": "<b>%{hovertext}</b><br><br>Country_name=Chile<br>Month=8<br>AQI=%{x}<br>AQI_20=%{y}<br>size=%{marker.size}<extra></extra>",
           "hovertext": [
            "Los Ángeles"
           ],
           "ids": [
            "Chile"
           ],
           "legendgroup": "Chile",
           "marker": {
            "color": "#EF553B",
            "size": [
             1
            ],
            "sizemode": "area",
            "sizeref": 0.00033057851239669424,
            "symbol": "circle"
           },
           "mode": "markers",
           "name": "Chile",
           "orientation": "v",
           "showlegend": true,
           "type": "scatter",
           "x": [
            21.254838709677415
           ],
           "xaxis": "x",
           "y": [
            42.516129032258064
           ],
           "yaxis": "y"
          },
          {
           "hovertemplate": "<b>%{hovertext}</b><br><br>Country_name=Germany<br>Month=8<br>AQI=%{x}<br>AQI_20=%{y}<br>size=%{marker.size}<extra></extra>",
           "hovertext": [
            "Berlin"
           ],
           "ids": [
            "Germany"
           ],
           "legendgroup": "Germany",
           "marker": {
            "color": "#00cc96",
            "size": [
             1
            ],
            "sizemode": "area",
            "sizeref": 0.00033057851239669424,
            "symbol": "circle"
           },
           "mode": "markers",
           "name": "Germany",
           "orientation": "v",
           "showlegend": true,
           "type": "scatter",
           "x": [
            27.064516129032253
           ],
           "xaxis": "x",
           "y": [
            33.806451612903224
           ],
           "yaxis": "y"
          }
         ],
         "name": "8"
        },
        {
         "data": [
          {
           "hovertemplate": "<b>%{hovertext}</b><br><br>Country_name=Netherlands<br>Month=9<br>AQI=%{x}<br>AQI_20=%{y}<br>size=%{marker.size}<extra></extra>",
           "hovertext": [
            "Rotterdam"
           ],
           "ids": [
            "Netherlands"
           ],
           "legendgroup": "Netherlands",
           "marker": {
            "color": "#636efa",
            "size": [
             1
            ],
            "sizemode": "area",
            "sizeref": 0.00033057851239669424,
            "symbol": "circle"
           },
           "mode": "markers",
           "name": "Netherlands",
           "orientation": "v",
           "showlegend": true,
           "type": "scatter",
           "x": [
            39.29032258064516
           ],
           "xaxis": "x",
           "y": [
            36.78787878787879
           ],
           "yaxis": "y"
          },
          {
           "hovertemplate": "<b>%{hovertext}</b><br><br>Country_name=United States<br>Month=9<br>AQI=%{x}<br>AQI_20=%{y}<br>size=%{marker.size}<extra></extra>",
           "hovertext": [
            "San Francisco"
           ],
           "ids": [
            "United States"
           ],
           "legendgroup": "United States",
           "marker": {
            "color": "#EF553B",
            "size": [
             1
            ],
            "sizemode": "area",
            "sizeref": 0.00033057851239669424,
            "symbol": "circle"
           },
           "mode": "markers",
           "name": "United States",
           "orientation": "v",
           "showlegend": true,
           "type": "scatter",
           "x": [
            60.03225806451613
           ],
           "xaxis": "x",
           "y": [
            65
           ],
           "yaxis": "y"
          },
          {
           "hovertemplate": "<b>%{hovertext}</b><br><br>Country_name=France<br>Month=9<br>AQI=%{x}<br>AQI_20=%{y}<br>size=%{marker.size}<extra></extra>",
           "hovertext": [
            "Paris"
           ],
           "ids": [
            "France"
           ],
           "legendgroup": "France",
           "marker": {
            "color": "#00cc96",
            "size": [
             1
            ],
            "sizemode": "area",
            "sizeref": 0.00033057851239669424,
            "symbol": "circle"
           },
           "mode": "markers",
           "name": "France",
           "orientation": "v",
           "showlegend": true,
           "type": "scatter",
           "x": [
            43.903225806451616
           ],
           "xaxis": "x",
           "y": [
            43.06060606060606
           ],
           "yaxis": "y"
          },
          {
           "hovertemplate": "<b>%{hovertext}</b><br><br>Country_name=Japan<br>Month=9<br>AQI=%{x}<br>AQI_20=%{y}<br>size=%{marker.size}<extra></extra>",
           "hovertext": [
            "Tokyo"
           ],
           "ids": [
            "Japan"
           ],
           "legendgroup": "Japan",
           "marker": {
            "color": "#ab63fa",
            "size": [
             1
            ],
            "sizemode": "area",
            "sizeref": 0.00033057851239669424,
            "symbol": "circle"
           },
           "mode": "markers",
           "name": "Japan",
           "orientation": "v",
           "showlegend": true,
           "type": "scatter",
           "x": [
            71.93548387096774
           ],
           "xaxis": "x",
           "y": [
            25.814814814814813
           ],
           "yaxis": "y"
          },
          {
           "hovertemplate": "<b>%{hovertext}</b><br><br>Country_name=Israel<br>Month=9<br>AQI=%{x}<br>AQI_20=%{y}<br>size=%{marker.size}<extra></extra>",
           "hovertext": [
            "Jerusalem"
           ],
           "ids": [
            "Israel"
           ],
           "legendgroup": "Israel",
           "marker": {
            "color": "#FFA15A",
            "size": [
             1
            ],
            "sizemode": "area",
            "sizeref": 0.00033057851239669424,
            "symbol": "circle"
           },
           "mode": "markers",
           "name": "Israel",
           "orientation": "v",
           "showlegend": true,
           "type": "scatter",
           "x": [
            23.06129032258065
           ],
           "xaxis": "x",
           "y": [
            66.21212121212122
           ],
           "yaxis": "y"
          },
          {
           "hovertemplate": "<b>%{hovertext}</b><br><br>Country_name=India<br>Month=9<br>AQI=%{x}<br>AQI_20=%{y}<br>size=%{marker.size}<extra></extra>",
           "hovertext": [
            "Delhi"
           ],
           "ids": [
            "India"
           ],
           "legendgroup": "India",
           "marker": {
            "color": "#19d3f3",
            "size": [
             1
            ],
            "sizemode": "area",
            "sizeref": 0.00033057851239669424,
            "symbol": "circle"
           },
           "mode": "markers",
           "name": "India",
           "orientation": "v",
           "showlegend": true,
           "type": "scatter",
           "x": [
            37.67741935483871
           ],
           "xaxis": "x",
           "y": [
            126.84848484848484
           ],
           "yaxis": "y"
          },
          {
           "hovertemplate": "<b>%{hovertext}</b><br><br>Country_name=Australia<br>Month=9<br>AQI=%{x}<br>AQI_20=%{y}<br>size=%{marker.size}<extra></extra>",
           "hovertext": [
            "Melbourne"
           ],
           "ids": [
            "Australia"
           ],
           "legendgroup": "Australia",
           "marker": {
            "color": "#FF6692",
            "size": [
             1
            ],
            "sizemode": "area",
            "sizeref": 0.00033057851239669424,
            "symbol": "circle"
           },
           "mode": "markers",
           "name": "Australia",
           "orientation": "v",
           "showlegend": true,
           "type": "scatter",
           "x": [
            32.87096774193548
           ],
           "xaxis": "x",
           "y": [
            22.939393939393938
           ],
           "yaxis": "y"
          },
          {
           "hovertemplate": "<b>%{hovertext}</b><br><br>Country_name=Thailand<br>Month=9<br>AQI=%{x}<br>AQI_20=%{y}<br>size=%{marker.size}<extra></extra>",
           "hovertext": [
            "Bangkok"
           ],
           "ids": [
            "Thailand"
           ],
           "legendgroup": "Thailand",
           "marker": {
            "color": "#B6E880",
            "size": [
             1
            ],
            "sizemode": "area",
            "sizeref": 0.00033057851239669424,
            "symbol": "circle"
           },
           "mode": "markers",
           "name": "Thailand",
           "orientation": "v",
           "showlegend": true,
           "type": "scatter",
           "x": [
            50.16129032258065
           ],
           "xaxis": "x",
           "y": [
            48.36363636363637
           ],
           "yaxis": "y"
          },
          {
           "hovertemplate": "<b>%{hovertext}</b><br><br>Country_name=Argentina<br>Month=9<br>AQI=%{x}<br>AQI_20=%{y}<br>size=%{marker.size}<extra></extra>",
           "hovertext": [
            "Buenos Aires"
           ],
           "ids": [
            "Argentina"
           ],
           "legendgroup": "Argentina",
           "marker": {
            "color": "#FF97FF",
            "size": [
             1
            ],
            "sizemode": "area",
            "sizeref": 0.00033057851239669424,
            "symbol": "circle"
           },
           "mode": "markers",
           "name": "Argentina",
           "orientation": "v",
           "showlegend": true,
           "type": "scatter",
           "x": [
            99.93548387096774
           ],
           "xaxis": "x",
           "y": [
            35.827586206896555
           ],
           "yaxis": "y"
          },
          {
           "hovertemplate": "<b>%{hovertext}</b><br><br>Country_name=Spain<br>Month=9<br>AQI=%{x}<br>AQI_20=%{y}<br>size=%{marker.size}<extra></extra>",
           "hovertext": [
            "Barcelona",
            "Madrid"
           ],
           "ids": [
            "Spain",
            "Spain"
           ],
           "legendgroup": "Spain",
           "marker": {
            "color": "#FECB52",
            "size": [
             1,
             1
            ],
            "sizemode": "area",
            "sizeref": 0.00033057851239669424,
            "symbol": "circle"
           },
           "mode": "markers",
           "name": "Spain",
           "orientation": "v",
           "showlegend": true,
           "type": "scatter",
           "x": [
            28.580645161290324,
            23.419354838709676
           ],
           "xaxis": "x",
           "y": [
            22.57575757575757,
            35.90909090909091
           ],
           "yaxis": "y"
          },
          {
           "hovertemplate": "<b>%{hovertext}</b><br><br>Country_name=Switzerland<br>Month=9<br>AQI=%{x}<br>AQI_20=%{y}<br>size=%{marker.size}<extra></extra>",
           "hovertext": [
            "Zürich"
           ],
           "ids": [
            "Switzerland"
           ],
           "legendgroup": "Switzerland",
           "marker": {
            "color": "#636efa",
            "size": [
             1
            ],
            "sizemode": "area",
            "sizeref": 0.00033057851239669424,
            "symbol": "circle"
           },
           "mode": "markers",
           "name": "Switzerland",
           "orientation": "v",
           "showlegend": true,
           "type": "scatter",
           "x": [
            24.612903225806452
           ],
           "xaxis": "x",
           "y": [
            18.130303030303033
           ],
           "yaxis": "y"
          },
          {
           "hovertemplate": "<b>%{hovertext}</b><br><br>Country_name=Chile<br>Month=9<br>AQI=%{x}<br>AQI_20=%{y}<br>size=%{marker.size}<extra></extra>",
           "hovertext": [
            "Los Ángeles"
           ],
           "ids": [
            "Chile"
           ],
           "legendgroup": "Chile",
           "marker": {
            "color": "#EF553B",
            "size": [
             1
            ],
            "sizemode": "area",
            "sizeref": 0.00033057851239669424,
            "symbol": "circle"
           },
           "mode": "markers",
           "name": "Chile",
           "orientation": "v",
           "showlegend": true,
           "type": "scatter",
           "x": [
            33.193548387096776
           ],
           "xaxis": "x",
           "y": [
            57.06060606060606
           ],
           "yaxis": "y"
          },
          {
           "hovertemplate": "<b>%{hovertext}</b><br><br>Country_name=Germany<br>Month=9<br>AQI=%{x}<br>AQI_20=%{y}<br>size=%{marker.size}<extra></extra>",
           "hovertext": [
            "Berlin"
           ],
           "ids": [
            "Germany"
           ],
           "legendgroup": "Germany",
           "marker": {
            "color": "#00cc96",
            "size": [
             1
            ],
            "sizemode": "area",
            "sizeref": 0.00033057851239669424,
            "symbol": "circle"
           },
           "mode": "markers",
           "name": "Germany",
           "orientation": "v",
           "showlegend": true,
           "type": "scatter",
           "x": [
            16.806451612903224
           ],
           "xaxis": "x",
           "y": [
            33.84848484848485
           ],
           "yaxis": "y"
          }
         ],
         "name": "9"
        },
        {
         "data": [
          {
           "hovertemplate": "<b>%{hovertext}</b><br><br>Country_name=Netherlands<br>Month=10<br>AQI=%{x}<br>AQI_20=%{y}<br>size=%{marker.size}<extra></extra>",
           "hovertext": [
            "Rotterdam"
           ],
           "ids": [
            "Netherlands"
           ],
           "legendgroup": "Netherlands",
           "marker": {
            "color": "#636efa",
            "size": [
             1
            ],
            "sizemode": "area",
            "sizeref": 0.00033057851239669424,
            "symbol": "circle"
           },
           "mode": "markers",
           "name": "Netherlands",
           "orientation": "v",
           "showlegend": true,
           "type": "scatter",
           "x": [
            35.75675675675676
           ],
           "xaxis": "x",
           "y": [
            27.885714285714286
           ],
           "yaxis": "y"
          },
          {
           "hovertemplate": "<b>%{hovertext}</b><br><br>Country_name=United States<br>Month=10<br>AQI=%{x}<br>AQI_20=%{y}<br>size=%{marker.size}<extra></extra>",
           "hovertext": [
            "San Francisco"
           ],
           "ids": [
            "United States"
           ],
           "legendgroup": "United States",
           "marker": {
            "color": "#EF553B",
            "size": [
             1
            ],
            "sizemode": "area",
            "sizeref": 0.00033057851239669424,
            "symbol": "circle"
           },
           "mode": "markers",
           "name": "United States",
           "orientation": "v",
           "showlegend": true,
           "type": "scatter",
           "x": [
            37.567567567567565
           ],
           "xaxis": "x",
           "y": [
            50.17142857142857
           ],
           "yaxis": "y"
          },
          {
           "hovertemplate": "<b>%{hovertext}</b><br><br>Country_name=France<br>Month=10<br>AQI=%{x}<br>AQI_20=%{y}<br>size=%{marker.size}<extra></extra>",
           "hovertext": [
            "Paris"
           ],
           "ids": [
            "France"
           ],
           "legendgroup": "France",
           "marker": {
            "color": "#00cc96",
            "size": [
             1
            ],
            "sizemode": "area",
            "sizeref": 0.00033057851239669424,
            "symbol": "circle"
           },
           "mode": "markers",
           "name": "France",
           "orientation": "v",
           "showlegend": true,
           "type": "scatter",
           "x": [
            26.027027027027028
           ],
           "xaxis": "x",
           "y": [
            33.68571428571428
           ],
           "yaxis": "y"
          },
          {
           "hovertemplate": "<b>%{hovertext}</b><br><br>Country_name=Japan<br>Month=10<br>AQI=%{x}<br>AQI_20=%{y}<br>size=%{marker.size}<extra></extra>",
           "hovertext": [
            "Tokyo"
           ],
           "ids": [
            "Japan"
           ],
           "legendgroup": "Japan",
           "marker": {
            "color": "#ab63fa",
            "size": [
             1
            ],
            "sizemode": "area",
            "sizeref": 0.00033057851239669424,
            "symbol": "circle"
           },
           "mode": "markers",
           "name": "Japan",
           "orientation": "v",
           "showlegend": true,
           "type": "scatter",
           "x": [
            32.67567567567568
           ],
           "xaxis": "x",
           "y": [
            34.94285714285714
           ],
           "yaxis": "y"
          },
          {
           "hovertemplate": "<b>%{hovertext}</b><br><br>Country_name=Israel<br>Month=10<br>AQI=%{x}<br>AQI_20=%{y}<br>size=%{marker.size}<extra></extra>",
           "hovertext": [
            "Jerusalem"
           ],
           "ids": [
            "Israel"
           ],
           "legendgroup": "Israel",
           "marker": {
            "color": "#FFA15A",
            "size": [
             1
            ],
            "sizemode": "area",
            "sizeref": 0.00033057851239669424,
            "symbol": "circle"
           },
           "mode": "markers",
           "name": "Israel",
           "orientation": "v",
           "showlegend": true,
           "type": "scatter",
           "x": [
            39.45945945945946
           ],
           "xaxis": "x",
           "y": [
            52.2
           ],
           "yaxis": "y"
          },
          {
           "hovertemplate": "<b>%{hovertext}</b><br><br>Country_name=India<br>Month=10<br>AQI=%{x}<br>AQI_20=%{y}<br>size=%{marker.size}<extra></extra>",
           "hovertext": [
            "Delhi"
           ],
           "ids": [
            "India"
           ],
           "legendgroup": "India",
           "marker": {
            "color": "#19d3f3",
            "size": [
             1
            ],
            "sizemode": "area",
            "sizeref": 0.00033057851239669424,
            "symbol": "circle"
           },
           "mode": "markers",
           "name": "India",
           "orientation": "v",
           "showlegend": true,
           "type": "scatter",
           "x": [
            76.5945945945946
           ],
           "xaxis": "x",
           "y": [
            192.4857142857143
           ],
           "yaxis": "y"
          },
          {
           "hovertemplate": "<b>%{hovertext}</b><br><br>Country_name=Australia<br>Month=10<br>AQI=%{x}<br>AQI_20=%{y}<br>size=%{marker.size}<extra></extra>",
           "hovertext": [
            "Melbourne"
           ],
           "ids": [
            "Australia"
           ],
           "legendgroup": "Australia",
           "marker": {
            "color": "#FF6692",
            "size": [
             1
            ],
            "sizemode": "area",
            "sizeref": 0.00033057851239669424,
            "symbol": "circle"
           },
           "mode": "markers",
           "name": "Australia",
           "orientation": "v",
           "showlegend": true,
           "type": "scatter",
           "x": [
            39.513513513513516
           ],
           "xaxis": "x",
           "y": [
            24.085714285714285
           ],
           "yaxis": "y"
          },
          {
           "hovertemplate": "<b>%{hovertext}</b><br><br>Country_name=Thailand<br>Month=10<br>AQI=%{x}<br>AQI_20=%{y}<br>size=%{marker.size}<extra></extra>",
           "hovertext": [
            "Bangkok"
           ],
           "ids": [
            "Thailand"
           ],
           "legendgroup": "Thailand",
           "marker": {
            "color": "#B6E880",
            "size": [
             1
            ],
            "sizemode": "area",
            "sizeref": 0.00033057851239669424,
            "symbol": "circle"
           },
           "mode": "markers",
           "name": "Thailand",
           "orientation": "v",
           "showlegend": true,
           "type": "scatter",
           "x": [
            22.243243243243242
           ],
           "xaxis": "x",
           "y": [
            60.42857142857143
           ],
           "yaxis": "y"
          },
          {
           "hovertemplate": "<b>%{hovertext}</b><br><br>Country_name=Argentina<br>Month=10<br>AQI=%{x}<br>AQI_20=%{y}<br>size=%{marker.size}<extra></extra>",
           "hovertext": [
            "Buenos Aires"
           ],
           "ids": [
            "Argentina"
           ],
           "legendgroup": "Argentina",
           "marker": {
            "color": "#FF97FF",
            "size": [
             1
            ],
            "sizemode": "area",
            "sizeref": 0.00033057851239669424,
            "symbol": "circle"
           },
           "mode": "markers",
           "name": "Argentina",
           "orientation": "v",
           "showlegend": true,
           "type": "scatter",
           "x": [
            10.489189189189192
           ],
           "xaxis": "x",
           "y": [
            34.5
           ],
           "yaxis": "y"
          },
          {
           "hovertemplate": "<b>%{hovertext}</b><br><br>Country_name=Spain<br>Month=10<br>AQI=%{x}<br>AQI_20=%{y}<br>size=%{marker.size}<extra></extra>",
           "hovertext": [
            "Barcelona",
            "Madrid"
           ],
           "ids": [
            "Spain",
            "Spain"
           ],
           "legendgroup": "Spain",
           "marker": {
            "color": "#FECB52",
            "size": [
             1,
             1
            ],
            "sizemode": "area",
            "sizeref": 0.00033057851239669424,
            "symbol": "circle"
           },
           "mode": "markers",
           "name": "Spain",
           "orientation": "v",
           "showlegend": true,
           "type": "scatter",
           "x": [
            29.35135135135135,
            59.15625
           ],
           "xaxis": "x",
           "y": [
            21.17142857142857,
            32.02857142857143
           ],
           "yaxis": "y"
          },
          {
           "hovertemplate": "<b>%{hovertext}</b><br><br>Country_name=Switzerland<br>Month=10<br>AQI=%{x}<br>AQI_20=%{y}<br>size=%{marker.size}<extra></extra>",
           "hovertext": [
            "Zürich"
           ],
           "ids": [
            "Switzerland"
           ],
           "legendgroup": "Switzerland",
           "marker": {
            "color": "#636efa",
            "size": [
             1
            ],
            "sizemode": "area",
            "sizeref": 0.00033057851239669424,
            "symbol": "circle"
           },
           "mode": "markers",
           "name": "Switzerland",
           "orientation": "v",
           "showlegend": true,
           "type": "scatter",
           "x": [
            31.7027027027027
           ],
           "xaxis": "x",
           "y": [
            12.351428571428569
           ],
           "yaxis": "y"
          },
          {
           "hovertemplate": "<b>%{hovertext}</b><br><br>Country_name=Chile<br>Month=10<br>AQI=%{x}<br>AQI_20=%{y}<br>size=%{marker.size}<extra></extra>",
           "hovertext": [
            "Los Ángeles"
           ],
           "ids": [
            "Chile"
           ],
           "legendgroup": "Chile",
           "marker": {
            "color": "#EF553B",
            "size": [
             1
            ],
            "sizemode": "area",
            "sizeref": 0.00033057851239669424,
            "symbol": "circle"
           },
           "mode": "markers",
           "name": "Chile",
           "orientation": "v",
           "showlegend": true,
           "type": "scatter",
           "x": [
            36.78378378378378
           ],
           "xaxis": "x",
           "y": [
            42.74285714285714
           ],
           "yaxis": "y"
          },
          {
           "hovertemplate": "<b>%{hovertext}</b><br><br>Country_name=Germany<br>Month=10<br>AQI=%{x}<br>AQI_20=%{y}<br>size=%{marker.size}<extra></extra>",
           "hovertext": [
            "Berlin"
           ],
           "ids": [
            "Germany"
           ],
           "legendgroup": "Germany",
           "marker": {
            "color": "#00cc96",
            "size": [
             1
            ],
            "sizemode": "area",
            "sizeref": 0.00033057851239669424,
            "symbol": "circle"
           },
           "mode": "markers",
           "name": "Germany",
           "orientation": "v",
           "showlegend": true,
           "type": "scatter",
           "x": [
            176.59459459459458
           ],
           "xaxis": "x",
           "y": [
            35.15151515151515
           ],
           "yaxis": "y"
          }
         ],
         "name": "10"
        },
        {
         "data": [
          {
           "hovertemplate": "<b>%{hovertext}</b><br><br>Country_name=Netherlands<br>Month=11<br>AQI=%{x}<br>AQI_20=%{y}<br>size=%{marker.size}<extra></extra>",
           "hovertext": [
            "Rotterdam"
           ],
           "ids": [
            "Netherlands"
           ],
           "legendgroup": "Netherlands",
           "marker": {
            "color": "#636efa",
            "size": [
             1
            ],
            "sizemode": "area",
            "sizeref": 0.00033057851239669424,
            "symbol": "circle"
           },
           "mode": "markers",
           "name": "Netherlands",
           "orientation": "v",
           "showlegend": true,
           "type": "scatter",
           "x": [
            253.03333333333333
           ],
           "xaxis": "x",
           "y": [
            49.333333333333336
           ],
           "yaxis": "y"
          },
          {
           "hovertemplate": "<b>%{hovertext}</b><br><br>Country_name=United States<br>Month=11<br>AQI=%{x}<br>AQI_20=%{y}<br>size=%{marker.size}<extra></extra>",
           "hovertext": [
            "San Francisco"
           ],
           "ids": [
            "United States"
           ],
           "legendgroup": "United States",
           "marker": {
            "color": "#EF553B",
            "size": [
             1
            ],
            "sizemode": "area",
            "sizeref": 0.00033057851239669424,
            "symbol": "circle"
           },
           "mode": "markers",
           "name": "United States",
           "orientation": "v",
           "showlegend": true,
           "type": "scatter",
           "x": [
            42.035714285714285
           ],
           "xaxis": "x",
           "y": [
            26.9
           ],
           "yaxis": "y"
          },
          {
           "hovertemplate": "<b>%{hovertext}</b><br><br>Country_name=France<br>Month=11<br>AQI=%{x}<br>AQI_20=%{y}<br>size=%{marker.size}<extra></extra>",
           "hovertext": [
            "Paris"
           ],
           "ids": [
            "France"
           ],
           "legendgroup": "France",
           "marker": {
            "color": "#00cc96",
            "size": [
             1
            ],
            "sizemode": "area",
            "sizeref": 0.00033057851239669424,
            "symbol": "circle"
           },
           "mode": "markers",
           "name": "France",
           "orientation": "v",
           "showlegend": true,
           "type": "scatter",
           "x": [
            38.766666666666666
           ],
           "xaxis": "x",
           "y": [
            54.06666666666667
           ],
           "yaxis": "y"
          },
          {
           "hovertemplate": "<b>%{hovertext}</b><br><br>Country_name=Japan<br>Month=11<br>AQI=%{x}<br>AQI_20=%{y}<br>size=%{marker.size}<extra></extra>",
           "hovertext": [
            "Tokyo"
           ],
           "ids": [
            "Japan"
           ],
           "legendgroup": "Japan",
           "marker": {
            "color": "#ab63fa",
            "size": [
             1
            ],
            "sizemode": "area",
            "sizeref": 0.00033057851239669424,
            "symbol": "circle"
           },
           "mode": "markers",
           "name": "Japan",
           "orientation": "v",
           "showlegend": true,
           "type": "scatter",
           "x": [
            75.88
           ],
           "xaxis": "x",
           "y": [
            41.36666666666667
           ],
           "yaxis": "y"
          },
          {
           "hovertemplate": "<b>%{hovertext}</b><br><br>Country_name=Israel<br>Month=11<br>AQI=%{x}<br>AQI_20=%{y}<br>size=%{marker.size}<extra></extra>",
           "hovertext": [
            "Jerusalem"
           ],
           "ids": [
            "Israel"
           ],
           "legendgroup": "Israel",
           "marker": {
            "color": "#FFA15A",
            "size": [
             1
            ],
            "sizemode": "area",
            "sizeref": 0.00033057851239669424,
            "symbol": "circle"
           },
           "mode": "markers",
           "name": "Israel",
           "orientation": "v",
           "showlegend": true,
           "type": "scatter",
           "x": [
            57.142857142857146
           ],
           "xaxis": "x",
           "y": [
            52.166666666666664
           ],
           "yaxis": "y"
          },
          {
           "hovertemplate": "<b>%{hovertext}</b><br><br>Country_name=India<br>Month=11<br>AQI=%{x}<br>AQI_20=%{y}<br>size=%{marker.size}<extra></extra>",
           "hovertext": [
            "Delhi"
           ],
           "ids": [
            "India"
           ],
           "legendgroup": "India",
           "marker": {
            "color": "#19d3f3",
            "size": [
             1
            ],
            "sizemode": "area",
            "sizeref": 0.00033057851239669424,
            "symbol": "circle"
           },
           "mode": "markers",
           "name": "India",
           "orientation": "v",
           "showlegend": true,
           "type": "scatter",
           "x": [
            24.366666666666667
           ],
           "xaxis": "x",
           "y": [
            259.3333333333333
           ],
           "yaxis": "y"
          },
          {
           "hovertemplate": "<b>%{hovertext}</b><br><br>Country_name=Australia<br>Month=11<br>AQI=%{x}<br>AQI_20=%{y}<br>size=%{marker.size}<extra></extra>",
           "hovertext": [
            "Melbourne"
           ],
           "ids": [
            "Australia"
           ],
           "legendgroup": "Australia",
           "marker": {
            "color": "#FF6692",
            "size": [
             1
            ],
            "sizemode": "area",
            "sizeref": 0.00033057851239669424,
            "symbol": "circle"
           },
           "mode": "markers",
           "name": "Australia",
           "orientation": "v",
           "showlegend": true,
           "type": "scatter",
           "x": [
            41.733333333333334
           ],
           "xaxis": "x",
           "y": [
            26.266666666666666
           ],
           "yaxis": "y"
          },
          {
           "hovertemplate": "<b>%{hovertext}</b><br><br>Country_name=Thailand<br>Month=11<br>AQI=%{x}<br>AQI_20=%{y}<br>size=%{marker.size}<extra></extra>",
           "hovertext": [
            "Bangkok"
           ],
           "ids": [
            "Thailand"
           ],
           "legendgroup": "Thailand",
           "marker": {
            "color": "#B6E880",
            "size": [
             1
            ],
            "sizemode": "area",
            "sizeref": 0.00033057851239669424,
            "symbol": "circle"
           },
           "mode": "markers",
           "name": "Thailand",
           "orientation": "v",
           "showlegend": true,
           "type": "scatter",
           "x": [
            16.566666666666666
           ],
           "xaxis": "x",
           "y": [
            80.1
           ],
           "yaxis": "y"
          },
          {
           "hovertemplate": "<b>%{hovertext}</b><br><br>Country_name=Argentina<br>Month=11<br>AQI=%{x}<br>AQI_20=%{y}<br>size=%{marker.size}<extra></extra>",
           "hovertext": [
            "Buenos Aires"
           ],
           "ids": [
            "Argentina"
           ],
           "legendgroup": "Argentina",
           "marker": {
            "color": "#FF97FF",
            "size": [
             1
            ],
            "sizemode": "area",
            "sizeref": 0.00033057851239669424,
            "symbol": "circle"
           },
           "mode": "markers",
           "name": "Argentina",
           "orientation": "v",
           "showlegend": true,
           "type": "scatter",
           "x": [
            44.86666666666667
           ],
           "xaxis": "x",
           "y": [
            28.366666666666667
           ],
           "yaxis": "y"
          },
          {
           "hovertemplate": "<b>%{hovertext}</b><br><br>Country_name=Spain<br>Month=11<br>AQI=%{x}<br>AQI_20=%{y}<br>size=%{marker.size}<extra></extra>",
           "hovertext": [
            "Madrid",
            "Barcelona"
           ],
           "ids": [
            "Spain",
            "Spain"
           ],
           "legendgroup": "Spain",
           "marker": {
            "color": "#FECB52",
            "size": [
             1,
             1
            ],
            "sizemode": "area",
            "sizeref": 0.00033057851239669424,
            "symbol": "circle"
           },
           "mode": "markers",
           "name": "Spain",
           "orientation": "v",
           "showlegend": true,
           "type": "scatter",
           "x": [
            11.963333333333333,
            28.6
           ],
           "xaxis": "x",
           "y": [
            51.4,
            24.333333333333332
           ],
           "yaxis": "y"
          },
          {
           "hovertemplate": "<b>%{hovertext}</b><br><br>Country_name=Switzerland<br>Month=11<br>AQI=%{x}<br>AQI_20=%{y}<br>size=%{marker.size}<extra></extra>",
           "hovertext": [
            "Zürich"
           ],
           "ids": [
            "Switzerland"
           ],
           "legendgroup": "Switzerland",
           "marker": {
            "color": "#636efa",
            "size": [
             1
            ],
            "sizemode": "area",
            "sizeref": 0.00033057851239669424,
            "symbol": "circle"
           },
           "mode": "markers",
           "name": "Switzerland",
           "orientation": "v",
           "showlegend": true,
           "type": "scatter",
           "x": [
            37.233333333333334
           ],
           "xaxis": "x",
           "y": [
            14.766666666666667
           ],
           "yaxis": "y"
          },
          {
           "hovertemplate": "<b>%{hovertext}</b><br><br>Country_name=Chile<br>Month=11<br>AQI=%{x}<br>AQI_20=%{y}<br>size=%{marker.size}<extra></extra>",
           "hovertext": [
            "Los Ángeles"
           ],
           "ids": [
            "Chile"
           ],
           "legendgroup": "Chile",
           "marker": {
            "color": "#EF553B",
            "size": [
             1
            ],
            "sizemode": "area",
            "sizeref": 0.00033057851239669424,
            "symbol": "circle"
           },
           "mode": "markers",
           "name": "Chile",
           "orientation": "v",
           "showlegend": true,
           "type": "scatter",
           "x": [
            89.33333333333333
           ],
           "xaxis": "x",
           "y": [
            33.36666666666667
           ],
           "yaxis": "y"
          },
          {
           "hovertemplate": "<b>%{hovertext}</b><br><br>Country_name=Germany<br>Month=11<br>AQI=%{x}<br>AQI_20=%{y}<br>size=%{marker.size}<extra></extra>",
           "hovertext": [
            "Berlin"
           ],
           "ids": [
            "Germany"
           ],
           "legendgroup": "Germany",
           "marker": {
            "color": "#00cc96",
            "size": [
             1
            ],
            "sizemode": "area",
            "sizeref": 0.00033057851239669424,
            "symbol": "circle"
           },
           "mode": "markers",
           "name": "Germany",
           "orientation": "v",
           "showlegend": true,
           "type": "scatter",
           "x": [
            23.8
           ],
           "xaxis": "x",
           "y": [
            45.3
           ],
           "yaxis": "y"
          }
         ],
         "name": "11"
        },
        {
         "data": [
          {
           "hovertemplate": "<b>%{hovertext}</b><br><br>Country_name=Netherlands<br>Month=12<br>AQI=%{x}<br>AQI_20=%{y}<br>size=%{marker.size}<extra></extra>",
           "hovertext": [
            "Rotterdam"
           ],
           "ids": [
            "Netherlands"
           ],
           "legendgroup": "Netherlands",
           "marker": {
            "color": "#636efa",
            "size": [
             1
            ],
            "sizemode": "area",
            "sizeref": 0.00033057851239669424,
            "symbol": "circle"
           },
           "mode": "markers",
           "name": "Netherlands",
           "orientation": "v",
           "showlegend": true,
           "type": "scatter",
           "x": [
            41.121212121212125
           ],
           "xaxis": "x",
           "y": [
            40.8
           ],
           "yaxis": "y"
          },
          {
           "hovertemplate": "<b>%{hovertext}</b><br><br>Country_name=United States<br>Month=12<br>AQI=%{x}<br>AQI_20=%{y}<br>size=%{marker.size}<extra></extra>",
           "hovertext": [
            "San Francisco"
           ],
           "ids": [
            "United States"
           ],
           "legendgroup": "United States",
           "marker": {
            "color": "#EF553B",
            "size": [
             1
            ],
            "sizemode": "area",
            "sizeref": 0.00033057851239669424,
            "symbol": "circle"
           },
           "mode": "markers",
           "name": "United States",
           "orientation": "v",
           "showlegend": true,
           "type": "scatter",
           "x": [
            55
           ],
           "xaxis": "x",
           "y": [
            34.42857142857143
           ],
           "yaxis": "y"
          },
          {
           "hovertemplate": "<b>%{hovertext}</b><br><br>Country_name=France<br>Month=12<br>AQI=%{x}<br>AQI_20=%{y}<br>size=%{marker.size}<extra></extra>",
           "hovertext": [
            "Paris"
           ],
           "ids": [
            "France"
           ],
           "legendgroup": "France",
           "marker": {
            "color": "#00cc96",
            "size": [
             1
            ],
            "sizemode": "area",
            "sizeref": 0.00033057851239669424,
            "symbol": "circle"
           },
           "mode": "markers",
           "name": "France",
           "orientation": "v",
           "showlegend": true,
           "type": "scatter",
           "x": [
            47.24242424242424
           ],
           "xaxis": "x",
           "y": [
            38.6
           ],
           "yaxis": "y"
          },
          {
           "hovertemplate": "<b>%{hovertext}</b><br><br>Country_name=Japan<br>Month=12<br>AQI=%{x}<br>AQI_20=%{y}<br>size=%{marker.size}<extra></extra>",
           "hovertext": [
            "Tokyo"
           ],
           "ids": [
            "Japan"
           ],
           "legendgroup": "Japan",
           "marker": {
            "color": "#ab63fa",
            "size": [
             1
            ],
            "sizemode": "area",
            "sizeref": 0.00033057851239669424,
            "symbol": "circle"
           },
           "mode": "markers",
           "name": "Japan",
           "orientation": "v",
           "showlegend": true,
           "type": "scatter",
           "x": [
            21.363636363636363
           ],
           "xaxis": "x",
           "y": [
            43.542857142857144
           ],
           "yaxis": "y"
          },
          {
           "hovertemplate": "<b>%{hovertext}</b><br><br>Country_name=Israel<br>Month=12<br>AQI=%{x}<br>AQI_20=%{y}<br>size=%{marker.size}<extra></extra>",
           "hovertext": [
            "Jerusalem"
           ],
           "ids": [
            "Israel"
           ],
           "legendgroup": "Israel",
           "marker": {
            "color": "#FFA15A",
            "size": [
             1
            ],
            "sizemode": "area",
            "sizeref": 0.00033057851239669424,
            "symbol": "circle"
           },
           "mode": "markers",
           "name": "Israel",
           "orientation": "v",
           "showlegend": true,
           "type": "scatter",
           "x": [
            40.27272727272727
           ],
           "xaxis": "x",
           "y": [
            58.74285714285714
           ],
           "yaxis": "y"
          },
          {
           "hovertemplate": "<b>%{hovertext}</b><br><br>Country_name=India<br>Month=12<br>AQI=%{x}<br>AQI_20=%{y}<br>size=%{marker.size}<extra></extra>",
           "hovertext": [
            "Delhi"
           ],
           "ids": [
            "India"
           ],
           "legendgroup": "India",
           "marker": {
            "color": "#19d3f3",
            "size": [
             1
            ],
            "sizemode": "area",
            "sizeref": 0.00033057851239669424,
            "symbol": "circle"
           },
           "mode": "markers",
           "name": "India",
           "orientation": "v",
           "showlegend": true,
           "type": "scatter",
           "x": [
            48.39393939393939
           ],
           "xaxis": "x",
           "y": [
            246.68571428571428
           ],
           "yaxis": "y"
          },
          {
           "hovertemplate": "<b>%{hovertext}</b><br><br>Country_name=Australia<br>Month=12<br>AQI=%{x}<br>AQI_20=%{y}<br>size=%{marker.size}<extra></extra>",
           "hovertext": [
            "Melbourne"
           ],
           "ids": [
            "Australia"
           ],
           "legendgroup": "Australia",
           "marker": {
            "color": "#FF6692",
            "size": [
             1
            ],
            "sizemode": "area",
            "sizeref": 0.00033057851239669424,
            "symbol": "circle"
           },
           "mode": "markers",
           "name": "Australia",
           "orientation": "v",
           "showlegend": true,
           "type": "scatter",
           "x": [
            104.72727272727273
           ],
           "xaxis": "x",
           "y": [
            22.2
           ],
           "yaxis": "y"
          },
          {
           "hovertemplate": "<b>%{hovertext}</b><br><br>Country_name=Thailand<br>Month=12<br>AQI=%{x}<br>AQI_20=%{y}<br>size=%{marker.size}<extra></extra>",
           "hovertext": [
            "Bangkok"
           ],
           "ids": [
            "Thailand"
           ],
           "legendgroup": "Thailand",
           "marker": {
            "color": "#B6E880",
            "size": [
             1
            ],
            "sizemode": "area",
            "sizeref": 0.00033057851239669424,
            "symbol": "circle"
           },
           "mode": "markers",
           "name": "Thailand",
           "orientation": "v",
           "showlegend": true,
           "type": "scatter",
           "x": [
            26.12121212121212
           ],
           "xaxis": "x",
           "y": [
            92.17142857142858
           ],
           "yaxis": "y"
          },
          {
           "hovertemplate": "<b>%{hovertext}</b><br><br>Country_name=Argentina<br>Month=12<br>AQI=%{x}<br>AQI_20=%{y}<br>size=%{marker.size}<extra></extra>",
           "hovertext": [
            "Buenos Aires"
           ],
           "ids": [
            "Argentina"
           ],
           "legendgroup": "Argentina",
           "marker": {
            "color": "#FF97FF",
            "size": [
             1
            ],
            "sizemode": "area",
            "sizeref": 0.00033057851239669424,
            "symbol": "circle"
           },
           "mode": "markers",
           "name": "Argentina",
           "orientation": "v",
           "showlegend": true,
           "type": "scatter",
           "x": [
            40.03030303030303
           ],
           "xaxis": "x",
           "y": [
            32.65714285714286
           ],
           "yaxis": "y"
          },
          {
           "hovertemplate": "<b>%{hovertext}</b><br><br>Country_name=Spain<br>Month=12<br>AQI=%{x}<br>AQI_20=%{y}<br>size=%{marker.size}<extra></extra>",
           "hovertext": [
            "Barcelona",
            "Madrid"
           ],
           "ids": [
            "Spain",
            "Spain"
           ],
           "legendgroup": "Spain",
           "marker": {
            "color": "#FECB52",
            "size": [
             1,
             1
            ],
            "sizemode": "area",
            "sizeref": 0.00033057851239669424,
            "symbol": "circle"
           },
           "mode": "markers",
           "name": "Spain",
           "orientation": "v",
           "showlegend": true,
           "type": "scatter",
           "x": [
            12.678787878787878,
            55.03225806451613
           ],
           "xaxis": "x",
           "y": [
            17.142857142857142,
            31.228571428571428
           ],
           "yaxis": "y"
          },
          {
           "hovertemplate": "<b>%{hovertext}</b><br><br>Country_name=Switzerland<br>Month=12<br>AQI=%{x}<br>AQI_20=%{y}<br>size=%{marker.size}<extra></extra>",
           "hovertext": [
            "Zürich"
           ],
           "ids": [
            "Switzerland"
           ],
           "legendgroup": "Switzerland",
           "marker": {
            "color": "#636efa",
            "size": [
             1
            ],
            "sizemode": "area",
            "sizeref": 0.00033057851239669424,
            "symbol": "circle"
           },
           "mode": "markers",
           "name": "Switzerland",
           "orientation": "v",
           "showlegend": true,
           "type": "scatter",
           "x": [
            31.78787878787879
           ],
           "xaxis": "x",
           "y": [
            12.468571428571428
           ],
           "yaxis": "y"
          },
          {
           "hovertemplate": "<b>%{hovertext}</b><br><br>Country_name=Chile<br>Month=12<br>AQI=%{x}<br>AQI_20=%{y}<br>size=%{marker.size}<extra></extra>",
           "hovertext": [
            "Los Ángeles"
           ],
           "ids": [
            "Chile"
           ],
           "legendgroup": "Chile",
           "marker": {
            "color": "#EF553B",
            "size": [
             1
            ],
            "sizemode": "area",
            "sizeref": 0.00033057851239669424,
            "symbol": "circle"
           },
           "mode": "markers",
           "name": "Chile",
           "orientation": "v",
           "showlegend": true,
           "type": "scatter",
           "x": [
            259.93939393939394
           ],
           "xaxis": "x",
           "y": [
            24.97142857142857
           ],
           "yaxis": "y"
          },
          {
           "hovertemplate": "<b>%{hovertext}</b><br><br>Country_name=Germany<br>Month=12<br>AQI=%{x}<br>AQI_20=%{y}<br>size=%{marker.size}<extra></extra>",
           "hovertext": [
            "Berlin"
           ],
           "ids": [
            "Germany"
           ],
           "legendgroup": "Germany",
           "marker": {
            "color": "#00cc96",
            "size": [
             1
            ],
            "sizemode": "area",
            "sizeref": 0.00033057851239669424,
            "symbol": "circle"
           },
           "mode": "markers",
           "name": "Germany",
           "orientation": "v",
           "showlegend": true,
           "type": "scatter",
           "x": [
            37.21875
           ],
           "xaxis": "x",
           "y": [
            58.41379310344828
           ],
           "yaxis": "y"
          }
         ],
         "name": "12"
        }
       ],
       "layout": {
        "autosize": true,
        "legend": {
         "itemsizing": "constant",
         "title": {
          "text": "Country_name"
         },
         "tracegroupgap": 0
        },
        "margin": {
         "t": 60
        },
        "shapes": [
         {
          "line": {
           "color": "MediumPurple",
           "dash": "dot",
           "width": 4
          },
          "type": "line",
          "x0": 0,
          "x1": 500,
          "y0": 0,
          "y1": 500
         }
        ],
        "sliders": [
         {
          "active": 11,
          "currentvalue": {
           "prefix": "Month="
          },
          "len": 0.9,
          "pad": {
           "b": 10,
           "t": 60
          },
          "steps": [
           {
            "args": [
             [
              "1"
             ],
             {
              "frame": {
               "duration": 0,
               "redraw": false
              },
              "fromcurrent": true,
              "mode": "immediate",
              "transition": {
               "duration": 0,
               "easing": "linear"
              }
             }
            ],
            "label": "1",
            "method": "animate"
           },
           {
            "args": [
             [
              "2"
             ],
             {
              "frame": {
               "duration": 0,
               "redraw": false
              },
              "fromcurrent": true,
              "mode": "immediate",
              "transition": {
               "duration": 0,
               "easing": "linear"
              }
             }
            ],
            "label": "2",
            "method": "animate"
           },
           {
            "args": [
             [
              "3"
             ],
             {
              "frame": {
               "duration": 0,
               "redraw": false
              },
              "fromcurrent": true,
              "mode": "immediate",
              "transition": {
               "duration": 0,
               "easing": "linear"
              }
             }
            ],
            "label": "3",
            "method": "animate"
           },
           {
            "args": [
             [
              "4"
             ],
             {
              "frame": {
               "duration": 0,
               "redraw": false
              },
              "fromcurrent": true,
              "mode": "immediate",
              "transition": {
               "duration": 0,
               "easing": "linear"
              }
             }
            ],
            "label": "4",
            "method": "animate"
           },
           {
            "args": [
             [
              "5"
             ],
             {
              "frame": {
               "duration": 0,
               "redraw": false
              },
              "fromcurrent": true,
              "mode": "immediate",
              "transition": {
               "duration": 0,
               "easing": "linear"
              }
             }
            ],
            "label": "5",
            "method": "animate"
           },
           {
            "args": [
             [
              "6"
             ],
             {
              "frame": {
               "duration": 0,
               "redraw": false
              },
              "fromcurrent": true,
              "mode": "immediate",
              "transition": {
               "duration": 0,
               "easing": "linear"
              }
             }
            ],
            "label": "6",
            "method": "animate"
           },
           {
            "args": [
             [
              "7"
             ],
             {
              "frame": {
               "duration": 0,
               "redraw": false
              },
              "fromcurrent": true,
              "mode": "immediate",
              "transition": {
               "duration": 0,
               "easing": "linear"
              }
             }
            ],
            "label": "7",
            "method": "animate"
           },
           {
            "args": [
             [
              "8"
             ],
             {
              "frame": {
               "duration": 0,
               "redraw": false
              },
              "fromcurrent": true,
              "mode": "immediate",
              "transition": {
               "duration": 0,
               "easing": "linear"
              }
             }
            ],
            "label": "8",
            "method": "animate"
           },
           {
            "args": [
             [
              "9"
             ],
             {
              "frame": {
               "duration": 0,
               "redraw": false
              },
              "fromcurrent": true,
              "mode": "immediate",
              "transition": {
               "duration": 0,
               "easing": "linear"
              }
             }
            ],
            "label": "9",
            "method": "animate"
           },
           {
            "args": [
             [
              "10"
             ],
             {
              "frame": {
               "duration": 0,
               "redraw": false
              },
              "fromcurrent": true,
              "mode": "immediate",
              "transition": {
               "duration": 0,
               "easing": "linear"
              }
             }
            ],
            "label": "10",
            "method": "animate"
           },
           {
            "args": [
             [
              "11"
             ],
             {
              "frame": {
               "duration": 0,
               "redraw": false
              },
              "fromcurrent": true,
              "mode": "immediate",
              "transition": {
               "duration": 0,
               "easing": "linear"
              }
             }
            ],
            "label": "11",
            "method": "animate"
           },
           {
            "args": [
             [
              "12"
             ],
             {
              "frame": {
               "duration": 0,
               "redraw": false
              },
              "fromcurrent": true,
              "mode": "immediate",
              "transition": {
               "duration": 0,
               "easing": "linear"
              }
             }
            ],
            "label": "12",
            "method": "animate"
           }
          ],
          "x": 0.1,
          "xanchor": "left",
          "y": 0,
          "yanchor": "top"
         }
        ],
        "template": {
         "data": {
          "bar": [
           {
            "error_x": {
             "color": "#2a3f5f"
            },
            "error_y": {
             "color": "#2a3f5f"
            },
            "marker": {
             "line": {
              "color": "#E5ECF6",
              "width": 0.5
             }
            },
            "type": "bar"
           }
          ],
          "barpolar": [
           {
            "marker": {
             "line": {
              "color": "#E5ECF6",
              "width": 0.5
             }
            },
            "type": "barpolar"
           }
          ],
          "carpet": [
           {
            "aaxis": {
             "endlinecolor": "#2a3f5f",
             "gridcolor": "white",
             "linecolor": "white",
             "minorgridcolor": "white",
             "startlinecolor": "#2a3f5f"
            },
            "baxis": {
             "endlinecolor": "#2a3f5f",
             "gridcolor": "white",
             "linecolor": "white",
             "minorgridcolor": "white",
             "startlinecolor": "#2a3f5f"
            },
            "type": "carpet"
           }
          ],
          "choropleth": [
           {
            "colorbar": {
             "outlinewidth": 0,
             "ticks": ""
            },
            "type": "choropleth"
           }
          ],
          "contour": [
           {
            "colorbar": {
             "outlinewidth": 0,
             "ticks": ""
            },
            "colorscale": [
             [
              0,
              "#0d0887"
             ],
             [
              0.1111111111111111,
              "#46039f"
             ],
             [
              0.2222222222222222,
              "#7201a8"
             ],
             [
              0.3333333333333333,
              "#9c179e"
             ],
             [
              0.4444444444444444,
              "#bd3786"
             ],
             [
              0.5555555555555556,
              "#d8576b"
             ],
             [
              0.6666666666666666,
              "#ed7953"
             ],
             [
              0.7777777777777778,
              "#fb9f3a"
             ],
             [
              0.8888888888888888,
              "#fdca26"
             ],
             [
              1,
              "#f0f921"
             ]
            ],
            "type": "contour"
           }
          ],
          "contourcarpet": [
           {
            "colorbar": {
             "outlinewidth": 0,
             "ticks": ""
            },
            "type": "contourcarpet"
           }
          ],
          "heatmap": [
           {
            "colorbar": {
             "outlinewidth": 0,
             "ticks": ""
            },
            "colorscale": [
             [
              0,
              "#0d0887"
             ],
             [
              0.1111111111111111,
              "#46039f"
             ],
             [
              0.2222222222222222,
              "#7201a8"
             ],
             [
              0.3333333333333333,
              "#9c179e"
             ],
             [
              0.4444444444444444,
              "#bd3786"
             ],
             [
              0.5555555555555556,
              "#d8576b"
             ],
             [
              0.6666666666666666,
              "#ed7953"
             ],
             [
              0.7777777777777778,
              "#fb9f3a"
             ],
             [
              0.8888888888888888,
              "#fdca26"
             ],
             [
              1,
              "#f0f921"
             ]
            ],
            "type": "heatmap"
           }
          ],
          "heatmapgl": [
           {
            "colorbar": {
             "outlinewidth": 0,
             "ticks": ""
            },
            "colorscale": [
             [
              0,
              "#0d0887"
             ],
             [
              0.1111111111111111,
              "#46039f"
             ],
             [
              0.2222222222222222,
              "#7201a8"
             ],
             [
              0.3333333333333333,
              "#9c179e"
             ],
             [
              0.4444444444444444,
              "#bd3786"
             ],
             [
              0.5555555555555556,
              "#d8576b"
             ],
             [
              0.6666666666666666,
              "#ed7953"
             ],
             [
              0.7777777777777778,
              "#fb9f3a"
             ],
             [
              0.8888888888888888,
              "#fdca26"
             ],
             [
              1,
              "#f0f921"
             ]
            ],
            "type": "heatmapgl"
           }
          ],
          "histogram": [
           {
            "marker": {
             "colorbar": {
              "outlinewidth": 0,
              "ticks": ""
             }
            },
            "type": "histogram"
           }
          ],
          "histogram2d": [
           {
            "colorbar": {
             "outlinewidth": 0,
             "ticks": ""
            },
            "colorscale": [
             [
              0,
              "#0d0887"
             ],
             [
              0.1111111111111111,
              "#46039f"
             ],
             [
              0.2222222222222222,
              "#7201a8"
             ],
             [
              0.3333333333333333,
              "#9c179e"
             ],
             [
              0.4444444444444444,
              "#bd3786"
             ],
             [
              0.5555555555555556,
              "#d8576b"
             ],
             [
              0.6666666666666666,
              "#ed7953"
             ],
             [
              0.7777777777777778,
              "#fb9f3a"
             ],
             [
              0.8888888888888888,
              "#fdca26"
             ],
             [
              1,
              "#f0f921"
             ]
            ],
            "type": "histogram2d"
           }
          ],
          "histogram2dcontour": [
           {
            "colorbar": {
             "outlinewidth": 0,
             "ticks": ""
            },
            "colorscale": [
             [
              0,
              "#0d0887"
             ],
             [
              0.1111111111111111,
              "#46039f"
             ],
             [
              0.2222222222222222,
              "#7201a8"
             ],
             [
              0.3333333333333333,
              "#9c179e"
             ],
             [
              0.4444444444444444,
              "#bd3786"
             ],
             [
              0.5555555555555556,
              "#d8576b"
             ],
             [
              0.6666666666666666,
              "#ed7953"
             ],
             [
              0.7777777777777778,
              "#fb9f3a"
             ],
             [
              0.8888888888888888,
              "#fdca26"
             ],
             [
              1,
              "#f0f921"
             ]
            ],
            "type": "histogram2dcontour"
           }
          ],
          "mesh3d": [
           {
            "colorbar": {
             "outlinewidth": 0,
             "ticks": ""
            },
            "type": "mesh3d"
           }
          ],
          "parcoords": [
           {
            "line": {
             "colorbar": {
              "outlinewidth": 0,
              "ticks": ""
             }
            },
            "type": "parcoords"
           }
          ],
          "pie": [
           {
            "automargin": true,
            "type": "pie"
           }
          ],
          "scatter": [
           {
            "marker": {
             "colorbar": {
              "outlinewidth": 0,
              "ticks": ""
             }
            },
            "type": "scatter"
           }
          ],
          "scatter3d": [
           {
            "line": {
             "colorbar": {
              "outlinewidth": 0,
              "ticks": ""
             }
            },
            "marker": {
             "colorbar": {
              "outlinewidth": 0,
              "ticks": ""
             }
            },
            "type": "scatter3d"
           }
          ],
          "scattercarpet": [
           {
            "marker": {
             "colorbar": {
              "outlinewidth": 0,
              "ticks": ""
             }
            },
            "type": "scattercarpet"
           }
          ],
          "scattergeo": [
           {
            "marker": {
             "colorbar": {
              "outlinewidth": 0,
              "ticks": ""
             }
            },
            "type": "scattergeo"
           }
          ],
          "scattergl": [
           {
            "marker": {
             "colorbar": {
              "outlinewidth": 0,
              "ticks": ""
             }
            },
            "type": "scattergl"
           }
          ],
          "scattermapbox": [
           {
            "marker": {
             "colorbar": {
              "outlinewidth": 0,
              "ticks": ""
             }
            },
            "type": "scattermapbox"
           }
          ],
          "scatterpolar": [
           {
            "marker": {
             "colorbar": {
              "outlinewidth": 0,
              "ticks": ""
             }
            },
            "type": "scatterpolar"
           }
          ],
          "scatterpolargl": [
           {
            "marker": {
             "colorbar": {
              "outlinewidth": 0,
              "ticks": ""
             }
            },
            "type": "scatterpolargl"
           }
          ],
          "scatterternary": [
           {
            "marker": {
             "colorbar": {
              "outlinewidth": 0,
              "ticks": ""
             }
            },
            "type": "scatterternary"
           }
          ],
          "surface": [
           {
            "colorbar": {
             "outlinewidth": 0,
             "ticks": ""
            },
            "colorscale": [
             [
              0,
              "#0d0887"
             ],
             [
              0.1111111111111111,
              "#46039f"
             ],
             [
              0.2222222222222222,
              "#7201a8"
             ],
             [
              0.3333333333333333,
              "#9c179e"
             ],
             [
              0.4444444444444444,
              "#bd3786"
             ],
             [
              0.5555555555555556,
              "#d8576b"
             ],
             [
              0.6666666666666666,
              "#ed7953"
             ],
             [
              0.7777777777777778,
              "#fb9f3a"
             ],
             [
              0.8888888888888888,
              "#fdca26"
             ],
             [
              1,
              "#f0f921"
             ]
            ],
            "type": "surface"
           }
          ],
          "table": [
           {
            "cells": {
             "fill": {
              "color": "#EBF0F8"
             },
             "line": {
              "color": "white"
             }
            },
            "header": {
             "fill": {
              "color": "#C8D4E3"
             },
             "line": {
              "color": "white"
             }
            },
            "type": "table"
           }
          ]
         },
         "layout": {
          "annotationdefaults": {
           "arrowcolor": "#2a3f5f",
           "arrowhead": 0,
           "arrowwidth": 1
          },
          "autotypenumbers": "strict",
          "coloraxis": {
           "colorbar": {
            "outlinewidth": 0,
            "ticks": ""
           }
          },
          "colorscale": {
           "diverging": [
            [
             0,
             "#8e0152"
            ],
            [
             0.1,
             "#c51b7d"
            ],
            [
             0.2,
             "#de77ae"
            ],
            [
             0.3,
             "#f1b6da"
            ],
            [
             0.4,
             "#fde0ef"
            ],
            [
             0.5,
             "#f7f7f7"
            ],
            [
             0.6,
             "#e6f5d0"
            ],
            [
             0.7,
             "#b8e186"
            ],
            [
             0.8,
             "#7fbc41"
            ],
            [
             0.9,
             "#4d9221"
            ],
            [
             1,
             "#276419"
            ]
           ],
           "sequential": [
            [
             0,
             "#0d0887"
            ],
            [
             0.1111111111111111,
             "#46039f"
            ],
            [
             0.2222222222222222,
             "#7201a8"
            ],
            [
             0.3333333333333333,
             "#9c179e"
            ],
            [
             0.4444444444444444,
             "#bd3786"
            ],
            [
             0.5555555555555556,
             "#d8576b"
            ],
            [
             0.6666666666666666,
             "#ed7953"
            ],
            [
             0.7777777777777778,
             "#fb9f3a"
            ],
            [
             0.8888888888888888,
             "#fdca26"
            ],
            [
             1,
             "#f0f921"
            ]
           ],
           "sequentialminus": [
            [
             0,
             "#0d0887"
            ],
            [
             0.1111111111111111,
             "#46039f"
            ],
            [
             0.2222222222222222,
             "#7201a8"
            ],
            [
             0.3333333333333333,
             "#9c179e"
            ],
            [
             0.4444444444444444,
             "#bd3786"
            ],
            [
             0.5555555555555556,
             "#d8576b"
            ],
            [
             0.6666666666666666,
             "#ed7953"
            ],
            [
             0.7777777777777778,
             "#fb9f3a"
            ],
            [
             0.8888888888888888,
             "#fdca26"
            ],
            [
             1,
             "#f0f921"
            ]
           ]
          },
          "colorway": [
           "#636efa",
           "#EF553B",
           "#00cc96",
           "#ab63fa",
           "#FFA15A",
           "#19d3f3",
           "#FF6692",
           "#B6E880",
           "#FF97FF",
           "#FECB52"
          ],
          "font": {
           "color": "#2a3f5f"
          },
          "geo": {
           "bgcolor": "white",
           "lakecolor": "white",
           "landcolor": "#E5ECF6",
           "showlakes": true,
           "showland": true,
           "subunitcolor": "white"
          },
          "hoverlabel": {
           "align": "left"
          },
          "hovermode": "closest",
          "mapbox": {
           "style": "light"
          },
          "paper_bgcolor": "white",
          "plot_bgcolor": "#E5ECF6",
          "polar": {
           "angularaxis": {
            "gridcolor": "white",
            "linecolor": "white",
            "ticks": ""
           },
           "bgcolor": "#E5ECF6",
           "radialaxis": {
            "gridcolor": "white",
            "linecolor": "white",
            "ticks": ""
           }
          },
          "scene": {
           "xaxis": {
            "backgroundcolor": "#E5ECF6",
            "gridcolor": "white",
            "gridwidth": 2,
            "linecolor": "white",
            "showbackground": true,
            "ticks": "",
            "zerolinecolor": "white"
           },
           "yaxis": {
            "backgroundcolor": "#E5ECF6",
            "gridcolor": "white",
            "gridwidth": 2,
            "linecolor": "white",
            "showbackground": true,
            "ticks": "",
            "zerolinecolor": "white"
           },
           "zaxis": {
            "backgroundcolor": "#E5ECF6",
            "gridcolor": "white",
            "gridwidth": 2,
            "linecolor": "white",
            "showbackground": true,
            "ticks": "",
            "zerolinecolor": "white"
           }
          },
          "shapedefaults": {
           "line": {
            "color": "#2a3f5f"
           }
          },
          "ternary": {
           "aaxis": {
            "gridcolor": "white",
            "linecolor": "white",
            "ticks": ""
           },
           "baxis": {
            "gridcolor": "white",
            "linecolor": "white",
            "ticks": ""
           },
           "bgcolor": "#E5ECF6",
           "caxis": {
            "gridcolor": "white",
            "linecolor": "white",
            "ticks": ""
           }
          },
          "title": {
           "x": 0.05
          },
          "xaxis": {
           "automargin": true,
           "gridcolor": "white",
           "linecolor": "white",
           "ticks": "",
           "title": {
            "standoff": 15
           },
           "zerolinecolor": "white",
           "zerolinewidth": 2
          },
          "yaxis": {
           "automargin": true,
           "gridcolor": "white",
           "linecolor": "white",
           "ticks": "",
           "title": {
            "standoff": 15
           },
           "zerolinecolor": "white",
           "zerolinewidth": 2
          }
         }
        },
        "updatemenus": [
         {
          "active": 0,
          "buttons": [
           {
            "args": [
             null,
             {
              "frame": {
               "duration": 500,
               "redraw": false
              },
              "fromcurrent": true,
              "mode": "immediate",
              "transition": {
               "duration": 500,
               "easing": "linear"
              }
             }
            ],
            "label": "&#9654;",
            "method": "animate"
           },
           {
            "args": [
             [
              null
             ],
             {
              "frame": {
               "duration": 0,
               "redraw": false
              },
              "fromcurrent": true,
              "mode": "immediate",
              "transition": {
               "duration": 0,
               "easing": "linear"
              }
             }
            ],
            "label": "&#9724;",
            "method": "animate"
           }
          ],
          "direction": "left",
          "pad": {
           "r": 10,
           "t": 70
          },
          "showactive": false,
          "type": "buttons",
          "x": 0.1,
          "xanchor": "right",
          "y": 0,
          "yanchor": "top"
         }
        ],
        "xaxis": {
         "anchor": "y",
         "domain": [
          0,
          1
         ],
         "range": [
          0,
          500
         ],
         "title": {
          "text": "AQI"
         },
         "type": "linear"
        },
        "yaxis": {
         "anchor": "x",
         "domain": [
          0,
          1
         ],
         "range": [
          0,
          500
         ],
         "title": {
          "text": "AQI_20"
         },
         "type": "linear"
        }
       }
      },
      "image/png": "[encoded data removed]",
      "text/html": [
       "<div>                            <div id=\"1b444f12-7daf-44f3-8f68-43cca4d4c1cd\" class=\"plotly-graph-div\" style=\"height:525px; width:100%;\"></div>            <script type=\"text/javascript\">                require([\"plotly\"], function(Plotly) {                    window.PLOTLYENV=window.PLOTLYENV || {};                                    if (document.getElementById(\"1b444f12-7daf-44f3-8f68-43cca4d4c1cd\")) {                    Plotly.newPlot(                        \"1b444f12-7daf-44f3-8f68-43cca4d4c1cd\",                        [{\"hovertemplate\": \"<b>%{hovertext}</b><br><br>Country_name=Netherlands<br>Month=1<br>AQI=%{x}<br>AQI_20=%{y}<br>size=%{marker.size}<extra></extra>\", \"hovertext\": [\"Rotterdam\"], \"ids\": [\"Netherlands\"], \"legendgroup\": \"Netherlands\", \"marker\": {\"color\": \"#636efa\", \"size\": [1], \"sizemode\": \"area\", \"sizeref\": 0.00033057851239669424, \"symbol\": \"circle\"}, \"mode\": \"markers\", \"name\": \"Netherlands\", \"orientation\": \"v\", \"showlegend\": true, \"type\": \"scatter\", \"x\": [34.74193548387097], \"xaxis\": \"x\", \"y\": [51.083333333333336], \"yaxis\": \"y\"}, {\"hovertemplate\": \"<b>%{hovertext}</b><br><br>Country_name=United States<br>Month=1<br>AQI=%{x}<br>AQI_20=%{y}<br>size=%{marker.size}<extra></extra>\", \"hovertext\": [\"San Francisco\"], \"ids\": [\"United States\"], \"legendgroup\": \"United States\", \"marker\": {\"color\": \"#EF553B\", \"size\": [1], \"sizemode\": \"area\", \"sizeref\": 0.00033057851239669424, \"symbol\": \"circle\"}, \"mode\": \"markers\", \"name\": \"United States\", \"orientation\": \"v\", \"showlegend\": true, \"type\": \"scatter\", \"x\": [50.193548387096776], \"xaxis\": \"x\", \"y\": [29.0], \"yaxis\": \"y\"}, {\"hovertemplate\": \"<b>%{hovertext}</b><br><br>Country_name=France<br>Month=1<br>AQI=%{x}<br>AQI_20=%{y}<br>size=%{marker.size}<extra></extra>\", \"hovertext\": [\"Paris\"], \"ids\": [\"France\"], \"legendgroup\": \"France\", \"marker\": {\"color\": \"#00cc96\", \"size\": [1], \"sizemode\": \"area\", \"sizeref\": 0.00033057851239669424, \"symbol\": \"circle\"}, \"mode\": \"markers\", \"name\": \"France\", \"orientation\": \"v\", \"showlegend\": true, \"type\": \"scatter\", \"x\": [49.806451612903224], \"xaxis\": \"x\", \"y\": [52.583333333333336], \"yaxis\": \"y\"}, {\"hovertemplate\": \"<b>%{hovertext}</b><br><br>Country_name=Japan<br>Month=1<br>AQI=%{x}<br>AQI_20=%{y}<br>size=%{marker.size}<extra></extra>\", \"hovertext\": [\"Tokyo\"], \"ids\": [\"Japan\"], \"legendgroup\": \"Japan\", \"marker\": {\"color\": \"#ab63fa\", \"size\": [1], \"sizemode\": \"area\", \"sizeref\": 0.00033057851239669424, \"symbol\": \"circle\"}, \"mode\": \"markers\", \"name\": \"Japan\", \"orientation\": \"v\", \"showlegend\": true, \"type\": \"scatter\", \"x\": [252.1290322580645], \"xaxis\": \"x\", \"y\": [35.77777777777778], \"yaxis\": \"y\"}, {\"hovertemplate\": \"<b>%{hovertext}</b><br><br>Country_name=Israel<br>Month=1<br>AQI=%{x}<br>AQI_20=%{y}<br>size=%{marker.size}<extra></extra>\", \"hovertext\": [\"Jerusalem\"], \"ids\": [\"Israel\"], \"legendgroup\": \"Israel\", \"marker\": {\"color\": \"#FFA15A\", \"size\": [1], \"sizemode\": \"area\", \"sizeref\": 0.00033057851239669424, \"symbol\": \"circle\"}, \"mode\": \"markers\", \"name\": \"Israel\", \"orientation\": \"v\", \"showlegend\": true, \"type\": \"scatter\", \"x\": [69.12903225806451], \"xaxis\": \"x\", \"y\": [47.61764705882353], \"yaxis\": \"y\"}, {\"hovertemplate\": \"<b>%{hovertext}</b><br><br>Country_name=India<br>Month=1<br>AQI=%{x}<br>AQI_20=%{y}<br>size=%{marker.size}<extra></extra>\", \"hovertext\": [\"Delhi\"], \"ids\": [\"India\"], \"legendgroup\": \"India\", \"marker\": {\"color\": \"#19d3f3\", \"size\": [1], \"sizemode\": \"area\", \"sizeref\": 0.00033057851239669424, \"symbol\": \"circle\"}, \"mode\": \"markers\", \"name\": \"India\", \"orientation\": \"v\", \"showlegend\": true, \"type\": \"scatter\", \"x\": [33.714285714285715], \"xaxis\": \"x\", \"y\": [226.80555555555554], \"yaxis\": \"y\"}, {\"hovertemplate\": \"<b>%{hovertext}</b><br><br>Country_name=Australia<br>Month=1<br>AQI=%{x}<br>AQI_20=%{y}<br>size=%{marker.size}<extra></extra>\", \"hovertext\": [\"Melbourne\"], \"ids\": [\"Australia\"], \"legendgroup\": \"Australia\", \"marker\": {\"color\": \"#FF6692\", \"size\": [1], \"sizemode\": \"area\", \"sizeref\": 0.00033057851239669424, \"symbol\": \"circle\"}, \"mode\": \"markers\", \"name\": \"Australia\", \"orientation\": \"v\", \"showlegend\": true, \"type\": \"scatter\", \"x\": [129.06451612903226], \"xaxis\": \"x\", \"y\": [55.666666666666664], \"yaxis\": \"y\"}, {\"hovertemplate\": \"<b>%{hovertext}</b><br><br>Country_name=Thailand<br>Month=1<br>AQI=%{x}<br>AQI_20=%{y}<br>size=%{marker.size}<extra></extra>\", \"hovertext\": [\"Bangkok\"], \"ids\": [\"Thailand\"], \"legendgroup\": \"Thailand\", \"marker\": {\"color\": \"#B6E880\", \"size\": [1], \"sizemode\": \"area\", \"sizeref\": 0.00033057851239669424, \"symbol\": \"circle\"}, \"mode\": \"markers\", \"name\": \"Thailand\", \"orientation\": \"v\", \"showlegend\": true, \"type\": \"scatter\", \"x\": [50.516129032258064], \"xaxis\": \"x\", \"y\": [111.55555555555556], \"yaxis\": \"y\"}, {\"hovertemplate\": \"<b>%{hovertext}</b><br><br>Country_name=Argentina<br>Month=1<br>AQI=%{x}<br>AQI_20=%{y}<br>size=%{marker.size}<extra></extra>\", \"hovertext\": [\"Buenos Aires\"], \"ids\": [\"Argentina\"], \"legendgroup\": \"Argentina\", \"marker\": {\"color\": \"#FF97FF\", \"size\": [1], \"sizemode\": \"area\", \"sizeref\": 0.00033057851239669424, \"symbol\": \"circle\"}, \"mode\": \"markers\", \"name\": \"Argentina\", \"orientation\": \"v\", \"showlegend\": true, \"type\": \"scatter\", \"x\": [19.633333333333333], \"xaxis\": \"x\", \"y\": [36.05882352941177], \"yaxis\": \"y\"}, {\"hovertemplate\": \"<b>%{hovertext}</b><br><br>Country_name=Spain<br>Month=1<br>AQI=%{x}<br>AQI_20=%{y}<br>size=%{marker.size}<extra></extra>\", \"hovertext\": [\"Barcelona\", \"Madrid\"], \"ids\": [\"Spain\", \"Spain\"], \"legendgroup\": \"Spain\", \"marker\": {\"color\": \"#FECB52\", \"size\": [1, 1], \"sizemode\": \"area\", \"sizeref\": 0.00033057851239669424, \"symbol\": \"circle\"}, \"mode\": \"markers\", \"name\": \"Spain\", \"orientation\": \"v\", \"showlegend\": true, \"type\": \"scatter\", \"x\": [40.96774193548387, 28.29032258064516], \"xaxis\": \"x\", \"y\": [23.77777777777778, 52.416666666666664], \"yaxis\": \"y\"}, {\"hovertemplate\": \"<b>%{hovertext}</b><br><br>Country_name=Switzerland<br>Month=1<br>AQI=%{x}<br>AQI_20=%{y}<br>size=%{marker.size}<extra></extra>\", \"hovertext\": [\"Z\\u00fcrich\"], \"ids\": [\"Switzerland\"], \"legendgroup\": \"Switzerland\", \"marker\": {\"color\": \"#636efa\", \"size\": [1], \"sizemode\": \"area\", \"sizeref\": 0.00033057851239669424, \"symbol\": \"circle\"}, \"mode\": \"markers\", \"name\": \"Switzerland\", \"orientation\": \"v\", \"showlegend\": true, \"type\": \"scatter\", \"x\": [56.41935483870968], \"xaxis\": \"x\", \"y\": [14.758333333333335], \"yaxis\": \"y\"}, {\"hovertemplate\": \"<b>%{hovertext}</b><br><br>Country_name=Chile<br>Month=1<br>AQI=%{x}<br>AQI_20=%{y}<br>size=%{marker.size}<extra></extra>\", \"hovertext\": [\"Los \\u00c1ngeles\"], \"ids\": [\"Chile\"], \"legendgroup\": \"Chile\", \"marker\": {\"color\": \"#EF553B\", \"size\": [1], \"sizemode\": \"area\", \"sizeref\": 0.00033057851239669424, \"symbol\": \"circle\"}, \"mode\": \"markers\", \"name\": \"Chile\", \"orientation\": \"v\", \"showlegend\": true, \"type\": \"scatter\", \"x\": [14.129032258064516], \"xaxis\": \"x\", \"y\": [37.77777777777778], \"yaxis\": \"y\"}, {\"hovertemplate\": \"<b>%{hovertext}</b><br><br>Country_name=Germany<br>Month=1<br>AQI=%{x}<br>AQI_20=%{y}<br>size=%{marker.size}<extra></extra>\", \"hovertext\": [\"Berlin\"], \"ids\": [\"Germany\"], \"legendgroup\": \"Germany\", \"marker\": {\"color\": \"#00cc96\", \"size\": [1], \"sizemode\": \"area\", \"sizeref\": 0.00033057851239669424, \"symbol\": \"circle\"}, \"mode\": \"markers\", \"name\": \"Germany\", \"orientation\": \"v\", \"showlegend\": true, \"type\": \"scatter\", \"x\": [28.29032258064516], \"xaxis\": \"x\", \"y\": [44.0], \"yaxis\": \"y\"}],                        {\"legend\": {\"itemsizing\": \"constant\", \"title\": {\"text\": \"Country_name\"}, \"tracegroupgap\": 0}, \"margin\": {\"t\": 60}, \"shapes\": [{\"line\": {\"color\": \"MediumPurple\", \"dash\": \"dot\", \"width\": 4}, \"type\": \"line\", \"x0\": 0, \"x1\": 500, \"y0\": 0, \"y1\": 500}], \"sliders\": [{\"active\": 0, \"currentvalue\": {\"prefix\": \"Month=\"}, \"len\": 0.9, \"pad\": {\"b\": 10, \"t\": 60}, \"steps\": [{\"args\": [[\"1\"], {\"frame\": {\"duration\": 0, \"redraw\": false}, \"fromcurrent\": true, \"mode\": \"immediate\", \"transition\": {\"duration\": 0, \"easing\": \"linear\"}}], \"label\": \"1\", \"method\": \"animate\"}, {\"args\": [[\"2\"], {\"frame\": {\"duration\": 0, \"redraw\": false}, \"fromcurrent\": true, \"mode\": \"immediate\", \"transition\": {\"duration\": 0, \"easing\": \"linear\"}}], \"label\": \"2\", \"method\": \"animate\"}, {\"args\": [[\"3\"], {\"frame\": {\"duration\": 0, \"redraw\": false}, \"fromcurrent\": true, \"mode\": \"immediate\", \"transition\": {\"duration\": 0, \"easing\": \"linear\"}}], \"label\": \"3\", \"method\": \"animate\"}, {\"args\": [[\"4\"], {\"frame\": {\"duration\": 0, \"redraw\": false}, \"fromcurrent\": true, \"mode\": \"immediate\", \"transition\": {\"duration\": 0, \"easing\": \"linear\"}}], \"label\": \"4\", \"method\": \"animate\"}, {\"args\": [[\"5\"], {\"frame\": {\"duration\": 0, \"redraw\": false}, \"fromcurrent\": true, \"mode\": \"immediate\", \"transition\": {\"duration\": 0, \"easing\": \"linear\"}}], \"label\": \"5\", \"method\": \"animate\"}, {\"args\": [[\"6\"], {\"frame\": {\"duration\": 0, \"redraw\": false}, \"fromcurrent\": true, \"mode\": \"immediate\", \"transition\": {\"duration\": 0, \"easing\": \"linear\"}}], \"label\": \"6\", \"method\": \"animate\"}, {\"args\": [[\"7\"], {\"frame\": {\"duration\": 0, \"redraw\": false}, \"fromcurrent\": true, \"mode\": \"immediate\", \"transition\": {\"duration\": 0, \"easing\": \"linear\"}}], \"label\": \"7\", \"method\": \"animate\"}, {\"args\": [[\"8\"], {\"frame\": {\"duration\": 0, \"redraw\": false}, \"fromcurrent\": true, \"mode\": \"immediate\", \"transition\": {\"duration\": 0, \"easing\": \"linear\"}}], \"label\": \"8\", \"method\": \"animate\"}, {\"args\": [[\"9\"], {\"frame\": {\"duration\": 0, \"redraw\": false}, \"fromcurrent\": true, \"mode\": \"immediate\", \"transition\": {\"duration\": 0, \"easing\": \"linear\"}}], \"label\": \"9\", \"method\": \"animate\"}, {\"args\": [[\"10\"], {\"frame\": {\"duration\": 0, \"redraw\": false}, \"fromcurrent\": true, \"mode\": \"immediate\", \"transition\": {\"duration\": 0, \"easing\": \"linear\"}}], \"label\": \"10\", \"method\": \"animate\"}, {\"args\": [[\"11\"], {\"frame\": {\"duration\": 0, \"redraw\": false}, \"fromcurrent\": true, \"mode\": \"immediate\", \"transition\": {\"duration\": 0, \"easing\": \"linear\"}}], \"label\": \"11\", \"method\": \"animate\"}, {\"args\": [[\"12\"], {\"frame\": {\"duration\": 0, \"redraw\": false}, \"fromcurrent\": true, \"mode\": \"immediate\", \"transition\": {\"duration\": 0, \"easing\": \"linear\"}}], \"label\": \"12\", \"method\": \"animate\"}], \"x\": 0.1, \"xanchor\": \"left\", \"y\": 0, \"yanchor\": \"top\"}], \"template\": {\"data\": {\"bar\": [{\"error_x\": {\"color\": \"#2a3f5f\"}, \"error_y\": {\"color\": \"#2a3f5f\"}, \"marker\": {\"line\": {\"color\": \"#E5ECF6\", \"width\": 0.5}}, \"type\": \"bar\"}], \"barpolar\": [{\"marker\": {\"line\": {\"color\": \"#E5ECF6\", \"width\": 0.5}}, \"type\": \"barpolar\"}], \"carpet\": [{\"aaxis\": {\"endlinecolor\": \"#2a3f5f\", \"gridcolor\": \"white\", \"linecolor\": \"white\", \"minorgridcolor\": \"white\", \"startlinecolor\": \"#2a3f5f\"}, \"baxis\": {\"endlinecolor\": \"#2a3f5f\", \"gridcolor\": \"white\", \"linecolor\": \"white\", \"minorgridcolor\": \"white\", \"startlinecolor\": \"#2a3f5f\"}, \"type\": \"carpet\"}], \"choropleth\": [{\"colorbar\": {\"outlinewidth\": 0, \"ticks\": \"\"}, \"type\": \"choropleth\"}], \"contour\": [{\"colorbar\": {\"outlinewidth\": 0, \"ticks\": \"\"}, \"colorscale\": [[0.0, \"#0d0887\"], [0.1111111111111111, \"#46039f\"], [0.2222222222222222, \"#7201a8\"], [0.3333333333333333, \"#9c179e\"], [0.4444444444444444, \"#bd3786\"], [0.5555555555555556, \"#d8576b\"], [0.6666666666666666, \"#ed7953\"], [0.7777777777777778, \"#fb9f3a\"], [0.8888888888888888, \"#fdca26\"], [1.0, \"#f0f921\"]], \"type\": \"contour\"}], \"contourcarpet\": [{\"colorbar\": {\"outlinewidth\": 0, \"ticks\": \"\"}, \"type\": \"contourcarpet\"}], \"heatmap\": [{\"colorbar\": {\"outlinewidth\": 0, \"ticks\": \"\"}, \"colorscale\": [[0.0, \"#0d0887\"], [0.1111111111111111, \"#46039f\"], [0.2222222222222222, \"#7201a8\"], [0.3333333333333333, \"#9c179e\"], [0.4444444444444444, \"#bd3786\"], [0.5555555555555556, \"#d8576b\"], [0.6666666666666666, \"#ed7953\"], [0.7777777777777778, \"#fb9f3a\"], [0.8888888888888888, \"#fdca26\"], [1.0, \"#f0f921\"]], \"type\": \"heatmap\"}], \"heatmapgl\": [{\"colorbar\": {\"outlinewidth\": 0, \"ticks\": \"\"}, \"colorscale\": [[0.0, \"#0d0887\"], [0.1111111111111111, \"#46039f\"], [0.2222222222222222, \"#7201a8\"], [0.3333333333333333, \"#9c179e\"], [0.4444444444444444, \"#bd3786\"], [0.5555555555555556, \"#d8576b\"], [0.6666666666666666, \"#ed7953\"], [0.7777777777777778, \"#fb9f3a\"], [0.8888888888888888, \"#fdca26\"], [1.0, \"#f0f921\"]], \"type\": \"heatmapgl\"}], \"histogram\": [{\"marker\": {\"colorbar\": {\"outlinewidth\": 0, \"ticks\": \"\"}}, \"type\": \"histogram\"}], \"histogram2d\": [{\"colorbar\": {\"outlinewidth\": 0, \"ticks\": \"\"}, \"colorscale\": [[0.0, \"#0d0887\"], [0.1111111111111111, \"#46039f\"], [0.2222222222222222, \"#7201a8\"], [0.3333333333333333, \"#9c179e\"], [0.4444444444444444, \"#bd3786\"], [0.5555555555555556, \"#d8576b\"], [0.6666666666666666, \"#ed7953\"], [0.7777777777777778, \"#fb9f3a\"], [0.8888888888888888, \"#fdca26\"], [1.0, \"#f0f921\"]], \"type\": \"histogram2d\"}], \"histogram2dcontour\": [{\"colorbar\": {\"outlinewidth\": 0, \"ticks\": \"\"}, \"colorscale\": [[0.0, \"#0d0887\"], [0.1111111111111111, \"#46039f\"], [0.2222222222222222, \"#7201a8\"], [0.3333333333333333, \"#9c179e\"], [0.4444444444444444, \"#bd3786\"], [0.5555555555555556, \"#d8576b\"], [0.6666666666666666, \"#ed7953\"], [0.7777777777777778, \"#fb9f3a\"], [0.8888888888888888, \"#fdca26\"], [1.0, \"#f0f921\"]], \"type\": \"histogram2dcontour\"}], \"mesh3d\": [{\"colorbar\": {\"outlinewidth\": 0, \"ticks\": \"\"}, \"type\": \"mesh3d\"}], \"parcoords\": [{\"line\": {\"colorbar\": {\"outlinewidth\": 0, \"ticks\": \"\"}}, \"type\": \"parcoords\"}], \"pie\": [{\"automargin\": true, \"type\": \"pie\"}], \"scatter\": [{\"marker\": {\"colorbar\": {\"outlinewidth\": 0, \"ticks\": \"\"}}, \"type\": \"scatter\"}], \"scatter3d\": [{\"line\": {\"colorbar\": {\"outlinewidth\": 0, \"ticks\": \"\"}}, \"marker\": {\"colorbar\": {\"outlinewidth\": 0, \"ticks\": \"\"}}, \"type\": \"scatter3d\"}], \"scattercarpet\": [{\"marker\": {\"colorbar\": {\"outlinewidth\": 0, \"ticks\": \"\"}}, \"type\": \"scattercarpet\"}], \"scattergeo\": [{\"marker\": {\"colorbar\": {\"outlinewidth\": 0, \"ticks\": \"\"}}, \"type\": \"scattergeo\"}], \"scattergl\": [{\"marker\": {\"colorbar\": {\"outlinewidth\": 0, \"ticks\": \"\"}}, \"type\": \"scattergl\"}], \"scattermapbox\": [{\"marker\": {\"colorbar\": {\"outlinewidth\": 0, \"ticks\": \"\"}}, \"type\": \"scattermapbox\"}], \"scatterpolar\": [{\"marker\": {\"colorbar\": {\"outlinewidth\": 0, \"ticks\": \"\"}}, \"type\": \"scatterpolar\"}], \"scatterpolargl\": [{\"marker\": {\"colorbar\": {\"outlinewidth\": 0, \"ticks\": \"\"}}, \"type\": \"scatterpolargl\"}], \"scatterternary\": [{\"marker\": {\"colorbar\": {\"outlinewidth\": 0, \"ticks\": \"\"}}, \"type\": \"scatterternary\"}], \"surface\": [{\"colorbar\": {\"outlinewidth\": 0, \"ticks\": \"\"}, \"colorscale\": [[0.0, \"#0d0887\"], [0.1111111111111111, \"#46039f\"], [0.2222222222222222, \"#7201a8\"], [0.3333333333333333, \"#9c179e\"], [0.4444444444444444, \"#bd3786\"], [0.5555555555555556, \"#d8576b\"], [0.6666666666666666, \"#ed7953\"], [0.7777777777777778, \"#fb9f3a\"], [0.8888888888888888, \"#fdca26\"], [1.0, \"#f0f921\"]], \"type\": \"surface\"}], \"table\": [{\"cells\": {\"fill\": {\"color\": \"#EBF0F8\"}, \"line\": {\"color\": \"white\"}}, \"header\": {\"fill\": {\"color\": \"#C8D4E3\"}, \"line\": {\"color\": \"white\"}}, \"type\": \"table\"}]}, \"layout\": {\"annotationdefaults\": {\"arrowcolor\": \"#2a3f5f\", \"arrowhead\": 0, \"arrowwidth\": 1}, \"autotypenumbers\": \"strict\", \"coloraxis\": {\"colorbar\": {\"outlinewidth\": 0, \"ticks\": \"\"}}, \"colorscale\": {\"diverging\": [[0, \"#8e0152\"], [0.1, \"#c51b7d\"], [0.2, \"#de77ae\"], [0.3, \"#f1b6da\"], [0.4, \"#fde0ef\"], [0.5, \"#f7f7f7\"], [0.6, \"#e6f5d0\"], [0.7, \"#b8e186\"], [0.8, \"#7fbc41\"], [0.9, \"#4d9221\"], [1, \"#276419\"]], \"sequential\": [[0.0, \"#0d0887\"], [0.1111111111111111, \"#46039f\"], [0.2222222222222222, \"#7201a8\"], [0.3333333333333333, \"#9c179e\"], [0.4444444444444444, \"#bd3786\"], [0.5555555555555556, \"#d8576b\"], [0.6666666666666666, \"#ed7953\"], [0.7777777777777778, \"#fb9f3a\"], [0.8888888888888888, \"#fdca26\"], [1.0, \"#f0f921\"]], \"sequentialminus\": [[0.0, \"#0d0887\"], [0.1111111111111111, \"#46039f\"], [0.2222222222222222, \"#7201a8\"], [0.3333333333333333, \"#9c179e\"], [0.4444444444444444, \"#bd3786\"], [0.5555555555555556, \"#d8576b\"], [0.6666666666666666, \"#ed7953\"], [0.7777777777777778, \"#fb9f3a\"], [0.8888888888888888, \"#fdca26\"], [1.0, \"#f0f921\"]]}, \"colorway\": [\"#636efa\", \"#EF553B\", \"#00cc96\", \"#ab63fa\", \"#FFA15A\", \"#19d3f3\", \"#FF6692\", \"#B6E880\", \"#FF97FF\", \"#FECB52\"], \"font\": {\"color\": \"#2a3f5f\"}, \"geo\": {\"bgcolor\": \"white\", \"lakecolor\": \"white\", \"landcolor\": \"#E5ECF6\", \"showlakes\": true, \"showland\": true, \"subunitcolor\": \"white\"}, \"hoverlabel\": {\"align\": \"left\"}, \"hovermode\": \"closest\", \"mapbox\": {\"style\": \"light\"}, \"paper_bgcolor\": \"white\", \"plot_bgcolor\": \"#E5ECF6\", \"polar\": {\"angularaxis\": {\"gridcolor\": \"white\", \"linecolor\": \"white\", \"ticks\": \"\"}, \"bgcolor\": \"#E5ECF6\", \"radialaxis\": {\"gridcolor\": \"white\", \"linecolor\": \"white\", \"ticks\": \"\"}}, \"scene\": {\"xaxis\": {\"backgroundcolor\": \"#E5ECF6\", \"gridcolor\": \"white\", \"gridwidth\": 2, \"linecolor\": \"white\", \"showbackground\": true, \"ticks\": \"\", \"zerolinecolor\": \"white\"}, \"yaxis\": {\"backgroundcolor\": \"#E5ECF6\", \"gridcolor\": \"white\", \"gridwidth\": 2, \"linecolor\": \"white\", \"showbackground\": true, \"ticks\": \"\", \"zerolinecolor\": \"white\"}, \"zaxis\": {\"backgroundcolor\": \"#E5ECF6\", \"gridcolor\": \"white\", \"gridwidth\": 2, \"linecolor\": \"white\", \"showbackground\": true, \"ticks\": \"\", \"zerolinecolor\": \"white\"}}, \"shapedefaults\": {\"line\": {\"color\": \"#2a3f5f\"}}, \"ternary\": {\"aaxis\": {\"gridcolor\": \"white\", \"linecolor\": \"white\", \"ticks\": \"\"}, \"baxis\": {\"gridcolor\": \"white\", \"linecolor\": \"white\", \"ticks\": \"\"}, \"bgcolor\": \"#E5ECF6\", \"caxis\": {\"gridcolor\": \"white\", \"linecolor\": \"white\", \"ticks\": \"\"}}, \"title\": {\"x\": 0.05}, \"xaxis\": {\"automargin\": true, \"gridcolor\": \"white\", \"linecolor\": \"white\", \"ticks\": \"\", \"title\": {\"standoff\": 15}, \"zerolinecolor\": \"white\", \"zerolinewidth\": 2}, \"yaxis\": {\"automargin\": true, \"gridcolor\": \"white\", \"linecolor\": \"white\", \"ticks\": \"\", \"title\": {\"standoff\": 15}, \"zerolinecolor\": \"white\", \"zerolinewidth\": 2}}}, \"updatemenus\": [{\"buttons\": [{\"args\": [null, {\"frame\": {\"duration\": 500, \"redraw\": false}, \"fromcurrent\": true, \"mode\": \"immediate\", \"transition\": {\"duration\": 500, \"easing\": \"linear\"}}], \"label\": \"&#9654;\", \"method\": \"animate\"}, {\"args\": [[null], {\"frame\": {\"duration\": 0, \"redraw\": false}, \"fromcurrent\": true, \"mode\": \"immediate\", \"transition\": {\"duration\": 0, \"easing\": \"linear\"}}], \"label\": \"&#9724;\", \"method\": \"animate\"}], \"direction\": \"left\", \"pad\": {\"r\": 10, \"t\": 70}, \"showactive\": false, \"type\": \"buttons\", \"x\": 0.1, \"xanchor\": \"right\", \"y\": 0, \"yanchor\": \"top\"}], \"xaxis\": {\"anchor\": \"y\", \"domain\": [0.0, 1.0], \"range\": [0, 500], \"title\": {\"text\": \"AQI\"}}, \"yaxis\": {\"anchor\": \"x\", \"domain\": [0.0, 1.0], \"range\": [0, 500], \"title\": {\"text\": \"AQI_20\"}}},                        {\"responsive\": true}                    ).then(function(){\n",
       "                            Plotly.addFrames('1b444f12-7daf-44f3-8f68-43cca4d4c1cd', [{\"data\": [{\"hovertemplate\": \"<b>%{hovertext}</b><br><br>Country_name=Netherlands<br>Month=1<br>AQI=%{x}<br>AQI_20=%{y}<br>size=%{marker.size}<extra></extra>\", \"hovertext\": [\"Rotterdam\"], \"ids\": [\"Netherlands\"], \"legendgroup\": \"Netherlands\", \"marker\": {\"color\": \"#636efa\", \"size\": [1], \"sizemode\": \"area\", \"sizeref\": 0.00033057851239669424, \"symbol\": \"circle\"}, \"mode\": \"markers\", \"name\": \"Netherlands\", \"orientation\": \"v\", \"showlegend\": true, \"x\": [34.74193548387097], \"xaxis\": \"x\", \"y\": [51.083333333333336], \"yaxis\": \"y\", \"type\": \"scatter\"}, {\"hovertemplate\": \"<b>%{hovertext}</b><br><br>Country_name=United States<br>Month=1<br>AQI=%{x}<br>AQI_20=%{y}<br>size=%{marker.size}<extra></extra>\", \"hovertext\": [\"San Francisco\"], \"ids\": [\"United States\"], \"legendgroup\": \"United States\", \"marker\": {\"color\": \"#EF553B\", \"size\": [1], \"sizemode\": \"area\", \"sizeref\": 0.00033057851239669424, \"symbol\": \"circle\"}, \"mode\": \"markers\", \"name\": \"United States\", \"orientation\": \"v\", \"showlegend\": true, \"x\": [50.193548387096776], \"xaxis\": \"x\", \"y\": [29.0], \"yaxis\": \"y\", \"type\": \"scatter\"}, {\"hovertemplate\": \"<b>%{hovertext}</b><br><br>Country_name=France<br>Month=1<br>AQI=%{x}<br>AQI_20=%{y}<br>size=%{marker.size}<extra></extra>\", \"hovertext\": [\"Paris\"], \"ids\": [\"France\"], \"legendgroup\": \"France\", \"marker\": {\"color\": \"#00cc96\", \"size\": [1], \"sizemode\": \"area\", \"sizeref\": 0.00033057851239669424, \"symbol\": \"circle\"}, \"mode\": \"markers\", \"name\": \"France\", \"orientation\": \"v\", \"showlegend\": true, \"x\": [49.806451612903224], \"xaxis\": \"x\", \"y\": [52.583333333333336], \"yaxis\": \"y\", \"type\": \"scatter\"}, {\"hovertemplate\": \"<b>%{hovertext}</b><br><br>Country_name=Japan<br>Month=1<br>AQI=%{x}<br>AQI_20=%{y}<br>size=%{marker.size}<extra></extra>\", \"hovertext\": [\"Tokyo\"], \"ids\": [\"Japan\"], \"legendgroup\": \"Japan\", \"marker\": {\"color\": \"#ab63fa\", \"size\": [1], \"sizemode\": \"area\", \"sizeref\": 0.00033057851239669424, \"symbol\": \"circle\"}, \"mode\": \"markers\", \"name\": \"Japan\", \"orientation\": \"v\", \"showlegend\": true, \"x\": [252.1290322580645], \"xaxis\": \"x\", \"y\": [35.77777777777778], \"yaxis\": \"y\", \"type\": \"scatter\"}, {\"hovertemplate\": \"<b>%{hovertext}</b><br><br>Country_name=Israel<br>Month=1<br>AQI=%{x}<br>AQI_20=%{y}<br>size=%{marker.size}<extra></extra>\", \"hovertext\": [\"Jerusalem\"], \"ids\": [\"Israel\"], \"legendgroup\": \"Israel\", \"marker\": {\"color\": \"#FFA15A\", \"size\": [1], \"sizemode\": \"area\", \"sizeref\": 0.00033057851239669424, \"symbol\": \"circle\"}, \"mode\": \"markers\", \"name\": \"Israel\", \"orientation\": \"v\", \"showlegend\": true, \"x\": [69.12903225806451], \"xaxis\": \"x\", \"y\": [47.61764705882353], \"yaxis\": \"y\", \"type\": \"scatter\"}, {\"hovertemplate\": \"<b>%{hovertext}</b><br><br>Country_name=India<br>Month=1<br>AQI=%{x}<br>AQI_20=%{y}<br>size=%{marker.size}<extra></extra>\", \"hovertext\": [\"Delhi\"], \"ids\": [\"India\"], \"legendgroup\": \"India\", \"marker\": {\"color\": \"#19d3f3\", \"size\": [1], \"sizemode\": \"area\", \"sizeref\": 0.00033057851239669424, \"symbol\": \"circle\"}, \"mode\": \"markers\", \"name\": \"India\", \"orientation\": \"v\", \"showlegend\": true, \"x\": [33.714285714285715], \"xaxis\": \"x\", \"y\": [226.80555555555554], \"yaxis\": \"y\", \"type\": \"scatter\"}, {\"hovertemplate\": \"<b>%{hovertext}</b><br><br>Country_name=Australia<br>Month=1<br>AQI=%{x}<br>AQI_20=%{y}<br>size=%{marker.size}<extra></extra>\", \"hovertext\": [\"Melbourne\"], \"ids\": [\"Australia\"], \"legendgroup\": \"Australia\", \"marker\": {\"color\": \"#FF6692\", \"size\": [1], \"sizemode\": \"area\", \"sizeref\": 0.00033057851239669424, \"symbol\": \"circle\"}, \"mode\": \"markers\", \"name\": \"Australia\", \"orientation\": \"v\", \"showlegend\": true, \"x\": [129.06451612903226], \"xaxis\": \"x\", \"y\": [55.666666666666664], \"yaxis\": \"y\", \"type\": \"scatter\"}, {\"hovertemplate\": \"<b>%{hovertext}</b><br><br>Country_name=Thailand<br>Month=1<br>AQI=%{x}<br>AQI_20=%{y}<br>size=%{marker.size}<extra></extra>\", \"hovertext\": [\"Bangkok\"], \"ids\": [\"Thailand\"], \"legendgroup\": \"Thailand\", \"marker\": {\"color\": \"#B6E880\", \"size\": [1], \"sizemode\": \"area\", \"sizeref\": 0.00033057851239669424, \"symbol\": \"circle\"}, \"mode\": \"markers\", \"name\": \"Thailand\", \"orientation\": \"v\", \"showlegend\": true, \"x\": [50.516129032258064], \"xaxis\": \"x\", \"y\": [111.55555555555556], \"yaxis\": \"y\", \"type\": \"scatter\"}, {\"hovertemplate\": \"<b>%{hovertext}</b><br><br>Country_name=Argentina<br>Month=1<br>AQI=%{x}<br>AQI_20=%{y}<br>size=%{marker.size}<extra></extra>\", \"hovertext\": [\"Buenos Aires\"], \"ids\": [\"Argentina\"], \"legendgroup\": \"Argentina\", \"marker\": {\"color\": \"#FF97FF\", \"size\": [1], \"sizemode\": \"area\", \"sizeref\": 0.00033057851239669424, \"symbol\": \"circle\"}, \"mode\": \"markers\", \"name\": \"Argentina\", \"orientation\": \"v\", \"showlegend\": true, \"x\": [19.633333333333333], \"xaxis\": \"x\", \"y\": [36.05882352941177], \"yaxis\": \"y\", \"type\": \"scatter\"}, {\"hovertemplate\": \"<b>%{hovertext}</b><br><br>Country_name=Spain<br>Month=1<br>AQI=%{x}<br>AQI_20=%{y}<br>size=%{marker.size}<extra></extra>\", \"hovertext\": [\"Barcelona\", \"Madrid\"], \"ids\": [\"Spain\", \"Spain\"], \"legendgroup\": \"Spain\", \"marker\": {\"color\": \"#FECB52\", \"size\": [1, 1], \"sizemode\": \"area\", \"sizeref\": 0.00033057851239669424, \"symbol\": \"circle\"}, \"mode\": \"markers\", \"name\": \"Spain\", \"orientation\": \"v\", \"showlegend\": true, \"x\": [40.96774193548387, 28.29032258064516], \"xaxis\": \"x\", \"y\": [23.77777777777778, 52.416666666666664], \"yaxis\": \"y\", \"type\": \"scatter\"}, {\"hovertemplate\": \"<b>%{hovertext}</b><br><br>Country_name=Switzerland<br>Month=1<br>AQI=%{x}<br>AQI_20=%{y}<br>size=%{marker.size}<extra></extra>\", \"hovertext\": [\"Z\\u00fcrich\"], \"ids\": [\"Switzerland\"], \"legendgroup\": \"Switzerland\", \"marker\": {\"color\": \"#636efa\", \"size\": [1], \"sizemode\": \"area\", \"sizeref\": 0.00033057851239669424, \"symbol\": \"circle\"}, \"mode\": \"markers\", \"name\": \"Switzerland\", \"orientation\": \"v\", \"showlegend\": true, \"x\": [56.41935483870968], \"xaxis\": \"x\", \"y\": [14.758333333333335], \"yaxis\": \"y\", \"type\": \"scatter\"}, {\"hovertemplate\": \"<b>%{hovertext}</b><br><br>Country_name=Chile<br>Month=1<br>AQI=%{x}<br>AQI_20=%{y}<br>size=%{marker.size}<extra></extra>\", \"hovertext\": [\"Los \\u00c1ngeles\"], \"ids\": [\"Chile\"], \"legendgroup\": \"Chile\", \"marker\": {\"color\": \"#EF553B\", \"size\": [1], \"sizemode\": \"area\", \"sizeref\": 0.00033057851239669424, \"symbol\": \"circle\"}, \"mode\": \"markers\", \"name\": \"Chile\", \"orientation\": \"v\", \"showlegend\": true, \"x\": [14.129032258064516], \"xaxis\": \"x\", \"y\": [37.77777777777778], \"yaxis\": \"y\", \"type\": \"scatter\"}, {\"hovertemplate\": \"<b>%{hovertext}</b><br><br>Country_name=Germany<br>Month=1<br>AQI=%{x}<br>AQI_20=%{y}<br>size=%{marker.size}<extra></extra>\", \"hovertext\": [\"Berlin\"], \"ids\": [\"Germany\"], \"legendgroup\": \"Germany\", \"marker\": {\"color\": \"#00cc96\", \"size\": [1], \"sizemode\": \"area\", \"sizeref\": 0.00033057851239669424, \"symbol\": \"circle\"}, \"mode\": \"markers\", \"name\": \"Germany\", \"orientation\": \"v\", \"showlegend\": true, \"x\": [28.29032258064516], \"xaxis\": \"x\", \"y\": [44.0], \"yaxis\": \"y\", \"type\": \"scatter\"}], \"name\": \"1\"}, {\"data\": [{\"hovertemplate\": \"<b>%{hovertext}</b><br><br>Country_name=Netherlands<br>Month=2<br>AQI=%{x}<br>AQI_20=%{y}<br>size=%{marker.size}<extra></extra>\", \"hovertext\": [\"Rotterdam\"], \"ids\": [\"Netherlands\"], \"legendgroup\": \"Netherlands\", \"marker\": {\"color\": \"#636efa\", \"size\": [1], \"sizemode\": \"area\", \"sizeref\": 0.00033057851239669424, \"symbol\": \"circle\"}, \"mode\": \"markers\", \"name\": \"Netherlands\", \"orientation\": \"v\", \"showlegend\": true, \"x\": [26.535714285714285], \"xaxis\": \"x\", \"y\": [34.62068965517241], \"yaxis\": \"y\", \"type\": \"scatter\"}, {\"hovertemplate\": \"<b>%{hovertext}</b><br><br>Country_name=United States<br>Month=2<br>AQI=%{x}<br>AQI_20=%{y}<br>size=%{marker.size}<extra></extra>\", \"hovertext\": [\"San Francisco\"], \"ids\": [\"United States\"], \"legendgroup\": \"United States\", \"marker\": {\"color\": \"#EF553B\", \"size\": [1], \"sizemode\": \"area\", \"sizeref\": 0.00033057851239669424, \"symbol\": \"circle\"}, \"mode\": \"markers\", \"name\": \"United States\", \"orientation\": \"v\", \"showlegend\": true, \"x\": [48.75], \"xaxis\": \"x\", \"y\": [33.86206896551724], \"yaxis\": \"y\", \"type\": \"scatter\"}, {\"hovertemplate\": \"<b>%{hovertext}</b><br><br>Country_name=France<br>Month=2<br>AQI=%{x}<br>AQI_20=%{y}<br>size=%{marker.size}<extra></extra>\", \"hovertext\": [\"Paris\"], \"ids\": [\"France\"], \"legendgroup\": \"France\", \"marker\": {\"color\": \"#00cc96\", \"size\": [1], \"sizemode\": \"area\", \"sizeref\": 0.00033057851239669424, \"symbol\": \"circle\"}, \"mode\": \"markers\", \"name\": \"France\", \"orientation\": \"v\", \"showlegend\": true, \"x\": [28.321428571428573], \"xaxis\": \"x\", \"y\": [32.96551724137931], \"yaxis\": \"y\", \"type\": \"scatter\"}, {\"hovertemplate\": \"<b>%{hovertext}</b><br><br>Country_name=Japan<br>Month=2<br>AQI=%{x}<br>AQI_20=%{y}<br>size=%{marker.size}<extra></extra>\", \"hovertext\": [\"Tokyo\"], \"ids\": [\"Japan\"], \"legendgroup\": \"Japan\", \"marker\": {\"color\": \"#ab63fa\", \"size\": [1], \"sizemode\": \"area\", \"sizeref\": 0.00033057851239669424, \"symbol\": \"circle\"}, \"mode\": \"markers\", \"name\": \"Japan\", \"orientation\": \"v\", \"showlegend\": true, \"x\": [70.10714285714286], \"xaxis\": \"x\", \"y\": [40.6551724137931], \"yaxis\": \"y\", \"type\": \"scatter\"}, {\"hovertemplate\": \"<b>%{hovertext}</b><br><br>Country_name=Israel<br>Month=2<br>AQI=%{x}<br>AQI_20=%{y}<br>size=%{marker.size}<extra></extra>\", \"hovertext\": [\"Jerusalem\"], \"ids\": [\"Israel\"], \"legendgroup\": \"Israel\", \"marker\": {\"color\": \"#FFA15A\", \"size\": [1], \"sizemode\": \"area\", \"sizeref\": 0.00033057851239669424, \"symbol\": \"circle\"}, \"mode\": \"markers\", \"name\": \"Israel\", \"orientation\": \"v\", \"showlegend\": true, \"x\": [60.285714285714285], \"xaxis\": \"x\", \"y\": [53.241379310344826], \"yaxis\": \"y\", \"type\": \"scatter\"}, {\"hovertemplate\": \"<b>%{hovertext}</b><br><br>Country_name=India<br>Month=2<br>AQI=%{x}<br>AQI_20=%{y}<br>size=%{marker.size}<extra></extra>\", \"hovertext\": [\"Delhi\"], \"ids\": [\"India\"], \"legendgroup\": \"India\", \"marker\": {\"color\": \"#19d3f3\", \"size\": [1], \"sizemode\": \"area\", \"sizeref\": 0.00033057851239669424, \"symbol\": \"circle\"}, \"mode\": \"markers\", \"name\": \"India\", \"orientation\": \"v\", \"showlegend\": true, \"x\": [184.85714285714286], \"xaxis\": \"x\", \"y\": [181.06896551724137], \"yaxis\": \"y\", \"type\": \"scatter\"}, {\"hovertemplate\": \"<b>%{hovertext}</b><br><br>Country_name=Australia<br>Month=2<br>AQI=%{x}<br>AQI_20=%{y}<br>size=%{marker.size}<extra></extra>\", \"hovertext\": [\"Melbourne\"], \"ids\": [\"Australia\"], \"legendgroup\": \"Australia\", \"marker\": {\"color\": \"#FF6692\", \"size\": [1], \"sizemode\": \"area\", \"sizeref\": 0.00033057851239669424, \"symbol\": \"circle\"}, \"mode\": \"markers\", \"name\": \"Australia\", \"orientation\": \"v\", \"showlegend\": true, \"x\": [54.67857142857143], \"xaxis\": \"x\", \"y\": [28.20689655172414], \"yaxis\": \"y\", \"type\": \"scatter\"}, {\"hovertemplate\": \"<b>%{hovertext}</b><br><br>Country_name=Thailand<br>Month=2<br>AQI=%{x}<br>AQI_20=%{y}<br>size=%{marker.size}<extra></extra>\", \"hovertext\": [\"Bangkok\"], \"ids\": [\"Thailand\"], \"legendgroup\": \"Thailand\", \"marker\": {\"color\": \"#B6E880\", \"size\": [1], \"sizemode\": \"area\", \"sizeref\": 0.00033057851239669424, \"symbol\": \"circle\"}, \"mode\": \"markers\", \"name\": \"Thailand\", \"orientation\": \"v\", \"showlegend\": true, \"x\": [51.285714285714285], \"xaxis\": \"x\", \"y\": [113.41379310344827], \"yaxis\": \"y\", \"type\": \"scatter\"}, {\"hovertemplate\": \"<b>%{hovertext}</b><br><br>Country_name=Argentina<br>Month=2<br>AQI=%{x}<br>AQI_20=%{y}<br>size=%{marker.size}<extra></extra>\", \"hovertext\": [\"Buenos Aires\"], \"ids\": [\"Argentina\"], \"legendgroup\": \"Argentina\", \"marker\": {\"color\": \"#FF97FF\", \"size\": [1], \"sizemode\": \"area\", \"sizeref\": 0.00033057851239669424, \"symbol\": \"circle\"}, \"mode\": \"markers\", \"name\": \"Argentina\", \"orientation\": \"v\", \"showlegend\": true, \"x\": [65.60714285714286], \"xaxis\": \"x\", \"y\": [34.724137931034484], \"yaxis\": \"y\", \"type\": \"scatter\"}, {\"hovertemplate\": \"<b>%{hovertext}</b><br><br>Country_name=Spain<br>Month=2<br>AQI=%{x}<br>AQI_20=%{y}<br>size=%{marker.size}<extra></extra>\", \"hovertext\": [\"Madrid\", \"Barcelona\"], \"ids\": [\"Spain\", \"Spain\"], \"legendgroup\": \"Spain\", \"marker\": {\"color\": \"#FECB52\", \"size\": [1, 1], \"sizemode\": \"area\", \"sizeref\": 0.00033057851239669424, \"symbol\": \"circle\"}, \"mode\": \"markers\", \"name\": \"Spain\", \"orientation\": \"v\", \"showlegend\": true, \"x\": [17.892857142857142, 70.03571428571429], \"xaxis\": \"x\", \"y\": [54.206896551724135, 26.06896551724138], \"yaxis\": \"y\", \"type\": \"scatter\"}, {\"hovertemplate\": \"<b>%{hovertext}</b><br><br>Country_name=Switzerland<br>Month=2<br>AQI=%{x}<br>AQI_20=%{y}<br>size=%{marker.size}<extra></extra>\", \"hovertext\": [\"Z\\u00fcrich\"], \"ids\": [\"Switzerland\"], \"legendgroup\": \"Switzerland\", \"marker\": {\"color\": \"#636efa\", \"size\": [1], \"sizemode\": \"area\", \"sizeref\": 0.00033057851239669424, \"symbol\": \"circle\"}, \"mode\": \"markers\", \"name\": \"Switzerland\", \"orientation\": \"v\", \"showlegend\": true, \"x\": [25.0], \"xaxis\": \"x\", \"y\": [20.38620689655172], \"yaxis\": \"y\", \"type\": \"scatter\"}, {\"hovertemplate\": \"<b>%{hovertext}</b><br><br>Country_name=Chile<br>Month=2<br>AQI=%{x}<br>AQI_20=%{y}<br>size=%{marker.size}<extra></extra>\", \"hovertext\": [\"Los \\u00c1ngeles\"], \"ids\": [\"Chile\"], \"legendgroup\": \"Chile\", \"marker\": {\"color\": \"#EF553B\", \"size\": [1], \"sizemode\": \"area\", \"sizeref\": 0.00033057851239669424, \"symbol\": \"circle\"}, \"mode\": \"markers\", \"name\": \"Chile\", \"orientation\": \"v\", \"showlegend\": true, \"x\": [38.04545454545455], \"xaxis\": \"x\", \"y\": [30.20689655172414], \"yaxis\": \"y\", \"type\": \"scatter\"}, {\"hovertemplate\": \"<b>%{hovertext}</b><br><br>Country_name=Germany<br>Month=2<br>AQI=%{x}<br>AQI_20=%{y}<br>size=%{marker.size}<extra></extra>\", \"hovertext\": [\"Berlin\"], \"ids\": [\"Germany\"], \"legendgroup\": \"Germany\", \"marker\": {\"color\": \"#00cc96\", \"size\": [1], \"sizemode\": \"area\", \"sizeref\": 0.00033057851239669424, \"symbol\": \"circle\"}, \"mode\": \"markers\", \"name\": \"Germany\", \"orientation\": \"v\", \"showlegend\": true, \"x\": [77.21428571428571], \"xaxis\": \"x\", \"y\": [27.448275862068964], \"yaxis\": \"y\", \"type\": \"scatter\"}], \"name\": \"2\"}, {\"data\": [{\"hovertemplate\": \"<b>%{hovertext}</b><br><br>Country_name=Netherlands<br>Month=3<br>AQI=%{x}<br>AQI_20=%{y}<br>size=%{marker.size}<extra></extra>\", \"hovertext\": [\"Rotterdam\"], \"ids\": [\"Netherlands\"], \"legendgroup\": \"Netherlands\", \"marker\": {\"color\": \"#636efa\", \"size\": [1], \"sizemode\": \"area\", \"sizeref\": 0.00033057851239669424, \"symbol\": \"circle\"}, \"mode\": \"markers\", \"name\": \"Netherlands\", \"orientation\": \"v\", \"showlegend\": true, \"x\": [27.580645161290324], \"xaxis\": \"x\", \"y\": [37.696969696969695], \"yaxis\": \"y\", \"type\": \"scatter\"}, {\"hovertemplate\": \"<b>%{hovertext}</b><br><br>Country_name=United States<br>Month=3<br>AQI=%{x}<br>AQI_20=%{y}<br>size=%{marker.size}<extra></extra>\", \"hovertext\": [\"San Francisco\"], \"ids\": [\"United States\"], \"legendgroup\": \"United States\", \"marker\": {\"color\": \"#EF553B\", \"size\": [1], \"sizemode\": \"area\", \"sizeref\": 0.00033057851239669424, \"symbol\": \"circle\"}, \"mode\": \"markers\", \"name\": \"United States\", \"orientation\": \"v\", \"showlegend\": true, \"x\": [23.78709677419355], \"xaxis\": \"x\", \"y\": [25.884848484848487], \"yaxis\": \"y\", \"type\": \"scatter\"}, {\"hovertemplate\": \"<b>%{hovertext}</b><br><br>Country_name=France<br>Month=3<br>AQI=%{x}<br>AQI_20=%{y}<br>size=%{marker.size}<extra></extra>\", \"hovertext\": [\"Paris\"], \"ids\": [\"France\"], \"legendgroup\": \"France\", \"marker\": {\"color\": \"#00cc96\", \"size\": [1], \"sizemode\": \"area\", \"sizeref\": 0.00033057851239669424, \"symbol\": \"circle\"}, \"mode\": \"markers\", \"name\": \"France\", \"orientation\": \"v\", \"showlegend\": true, \"x\": [54.516129032258064], \"xaxis\": \"x\", \"y\": [45.666666666666664], \"yaxis\": \"y\", \"type\": \"scatter\"}, {\"hovertemplate\": \"<b>%{hovertext}</b><br><br>Country_name=Japan<br>Month=3<br>AQI=%{x}<br>AQI_20=%{y}<br>size=%{marker.size}<extra></extra>\", \"hovertext\": [\"Tokyo\"], \"ids\": [\"Japan\"], \"legendgroup\": \"Japan\", \"marker\": {\"color\": \"#ab63fa\", \"size\": [1], \"sizemode\": \"area\", \"sizeref\": 0.00033057851239669424, \"symbol\": \"circle\"}, \"mode\": \"markers\", \"name\": \"Japan\", \"orientation\": \"v\", \"showlegend\": true, \"x\": [44.516129032258064], \"xaxis\": \"x\", \"y\": [38.63636363636363], \"yaxis\": \"y\", \"type\": \"scatter\"}, {\"hovertemplate\": \"<b>%{hovertext}</b><br><br>Country_name=Israel<br>Month=3<br>AQI=%{x}<br>AQI_20=%{y}<br>size=%{marker.size}<extra></extra>\", \"hovertext\": [\"Jerusalem\"], \"ids\": [\"Israel\"], \"legendgroup\": \"Israel\", \"marker\": {\"color\": \"#FFA15A\", \"size\": [1], \"sizemode\": \"area\", \"sizeref\": 0.00033057851239669424, \"symbol\": \"circle\"}, \"mode\": \"markers\", \"name\": \"Israel\", \"orientation\": \"v\", \"showlegend\": true, \"x\": [37.516129032258064], \"xaxis\": \"x\", \"y\": [60.24242424242424], \"yaxis\": \"y\", \"type\": \"scatter\"}, {\"hovertemplate\": \"<b>%{hovertext}</b><br><br>Country_name=India<br>Month=3<br>AQI=%{x}<br>AQI_20=%{y}<br>size=%{marker.size}<extra></extra>\", \"hovertext\": [\"Delhi\"], \"ids\": [\"India\"], \"legendgroup\": \"India\", \"marker\": {\"color\": \"#19d3f3\", \"size\": [1], \"sizemode\": \"area\", \"sizeref\": 0.00033057851239669424, \"symbol\": \"circle\"}, \"mode\": \"markers\", \"name\": \"India\", \"orientation\": \"v\", \"showlegend\": true, \"x\": [26.75483870967742], \"xaxis\": \"x\", \"y\": [123.78787878787878], \"yaxis\": \"y\", \"type\": \"scatter\"}, {\"hovertemplate\": \"<b>%{hovertext}</b><br><br>Country_name=Australia<br>Month=3<br>AQI=%{x}<br>AQI_20=%{y}<br>size=%{marker.size}<extra></extra>\", \"hovertext\": [\"Melbourne\"], \"ids\": [\"Australia\"], \"legendgroup\": \"Australia\", \"marker\": {\"color\": \"#FF6692\", \"size\": [1], \"sizemode\": \"area\", \"sizeref\": 0.00033057851239669424, \"symbol\": \"circle\"}, \"mode\": \"markers\", \"name\": \"Australia\", \"orientation\": \"v\", \"showlegend\": true, \"x\": [34.0], \"xaxis\": \"x\", \"y\": [19.09090909090909], \"yaxis\": \"y\", \"type\": \"scatter\"}, {\"hovertemplate\": \"<b>%{hovertext}</b><br><br>Country_name=Thailand<br>Month=3<br>AQI=%{x}<br>AQI_20=%{y}<br>size=%{marker.size}<extra></extra>\", \"hovertext\": [\"Bangkok\"], \"ids\": [\"Thailand\"], \"legendgroup\": \"Thailand\", \"marker\": {\"color\": \"#B6E880\", \"size\": [1], \"sizemode\": \"area\", \"sizeref\": 0.00033057851239669424, \"symbol\": \"circle\"}, \"mode\": \"markers\", \"name\": \"Thailand\", \"orientation\": \"v\", \"showlegend\": true, \"x\": [80.06451612903226], \"xaxis\": \"x\", \"y\": [71.96969696969697], \"yaxis\": \"y\", \"type\": \"scatter\"}, {\"hovertemplate\": \"<b>%{hovertext}</b><br><br>Country_name=Argentina<br>Month=3<br>AQI=%{x}<br>AQI_20=%{y}<br>size=%{marker.size}<extra></extra>\", \"hovertext\": [\"Buenos Aires\"], \"ids\": [\"Argentina\"], \"legendgroup\": \"Argentina\", \"marker\": {\"color\": \"#FF97FF\", \"size\": [1], \"sizemode\": \"area\", \"sizeref\": 0.00033057851239669424, \"symbol\": \"circle\"}, \"mode\": \"markers\", \"name\": \"Argentina\", \"orientation\": \"v\", \"showlegend\": true, \"x\": [50.16129032258065], \"xaxis\": \"x\", \"y\": [31.151515151515152], \"yaxis\": \"y\", \"type\": \"scatter\"}, {\"hovertemplate\": \"<b>%{hovertext}</b><br><br>Country_name=Spain<br>Month=3<br>AQI=%{x}<br>AQI_20=%{y}<br>size=%{marker.size}<extra></extra>\", \"hovertext\": [\"Madrid\", \"Barcelona\"], \"ids\": [\"Spain\", \"Spain\"], \"legendgroup\": \"Spain\", \"marker\": {\"color\": \"#FECB52\", \"size\": [1, 1], \"sizemode\": \"area\", \"sizeref\": 0.00033057851239669424, \"symbol\": \"circle\"}, \"mode\": \"markers\", \"name\": \"Spain\", \"orientation\": \"v\", \"showlegend\": true, \"x\": [159.32258064516128, 49.29032258064516], \"xaxis\": \"x\", \"y\": [31.12121212121212, 24.69090909090909], \"yaxis\": \"y\", \"type\": \"scatter\"}, {\"hovertemplate\": \"<b>%{hovertext}</b><br><br>Country_name=Switzerland<br>Month=3<br>AQI=%{x}<br>AQI_20=%{y}<br>size=%{marker.size}<extra></extra>\", \"hovertext\": [\"Z\\u00fcrich\"], \"ids\": [\"Switzerland\"], \"legendgroup\": \"Switzerland\", \"marker\": {\"color\": \"#636efa\", \"size\": [1], \"sizemode\": \"area\", \"sizeref\": 0.00033057851239669424, \"symbol\": \"circle\"}, \"mode\": \"markers\", \"name\": \"Switzerland\", \"orientation\": \"v\", \"showlegend\": true, \"x\": [46.935483870967744], \"xaxis\": \"x\", \"y\": [20.145454545454545], \"yaxis\": \"y\", \"type\": \"scatter\"}, {\"hovertemplate\": \"<b>%{hovertext}</b><br><br>Country_name=Chile<br>Month=3<br>AQI=%{x}<br>AQI_20=%{y}<br>size=%{marker.size}<extra></extra>\", \"hovertext\": [\"Los \\u00c1ngeles\"], \"ids\": [\"Chile\"], \"legendgroup\": \"Chile\", \"marker\": {\"color\": \"#EF553B\", \"size\": [1], \"sizemode\": \"area\", \"sizeref\": 0.00033057851239669424, \"symbol\": \"circle\"}, \"mode\": \"markers\", \"name\": \"Chile\", \"orientation\": \"v\", \"showlegend\": true, \"x\": [29.7], \"xaxis\": \"x\", \"y\": [37.09090909090909], \"yaxis\": \"y\", \"type\": \"scatter\"}, {\"hovertemplate\": \"<b>%{hovertext}</b><br><br>Country_name=Germany<br>Month=3<br>AQI=%{x}<br>AQI_20=%{y}<br>size=%{marker.size}<extra></extra>\", \"hovertext\": [\"Berlin\"], \"ids\": [\"Germany\"], \"legendgroup\": \"Germany\", \"marker\": {\"color\": \"#00cc96\", \"size\": [1], \"sizemode\": \"area\", \"sizeref\": 0.00033057851239669424, \"symbol\": \"circle\"}, \"mode\": \"markers\", \"name\": \"Germany\", \"orientation\": \"v\", \"showlegend\": true, \"x\": [52.483870967741936], \"xaxis\": \"x\", \"y\": [42.54545454545455], \"yaxis\": \"y\", \"type\": \"scatter\"}], \"name\": \"3\"}, {\"data\": [{\"hovertemplate\": \"<b>%{hovertext}</b><br><br>Country_name=Netherlands<br>Month=4<br>AQI=%{x}<br>AQI_20=%{y}<br>size=%{marker.size}<extra></extra>\", \"hovertext\": [\"Rotterdam\"], \"ids\": [\"Netherlands\"], \"legendgroup\": \"Netherlands\", \"marker\": {\"color\": \"#636efa\", \"size\": [1], \"sizemode\": \"area\", \"sizeref\": 0.00033057851239669424, \"symbol\": \"circle\"}, \"mode\": \"markers\", \"name\": \"Netherlands\", \"orientation\": \"v\", \"showlegend\": true, \"x\": [81.82758620689656], \"xaxis\": \"x\", \"y\": [43.51428571428571], \"yaxis\": \"y\", \"type\": \"scatter\"}, {\"hovertemplate\": \"<b>%{hovertext}</b><br><br>Country_name=United States<br>Month=4<br>AQI=%{x}<br>AQI_20=%{y}<br>size=%{marker.size}<extra></extra>\", \"hovertext\": [\"San Francisco\"], \"ids\": [\"United States\"], \"legendgroup\": \"United States\", \"marker\": {\"color\": \"#EF553B\", \"size\": [1], \"sizemode\": \"area\", \"sizeref\": 0.00033057851239669424, \"symbol\": \"circle\"}, \"mode\": \"markers\", \"name\": \"United States\", \"orientation\": \"v\", \"showlegend\": true, \"x\": [27.84827586206896], \"xaxis\": \"x\", \"y\": [24.991428571428568], \"yaxis\": \"y\", \"type\": \"scatter\"}, {\"hovertemplate\": \"<b>%{hovertext}</b><br><br>Country_name=France<br>Month=4<br>AQI=%{x}<br>AQI_20=%{y}<br>size=%{marker.size}<extra></extra>\", \"hovertext\": [\"Paris\"], \"ids\": [\"France\"], \"legendgroup\": \"France\", \"marker\": {\"color\": \"#00cc96\", \"size\": [1], \"sizemode\": \"area\", \"sizeref\": 0.00033057851239669424, \"symbol\": \"circle\"}, \"mode\": \"markers\", \"name\": \"France\", \"orientation\": \"v\", \"showlegend\": true, \"x\": [67.46666666666667], \"xaxis\": \"x\", \"y\": [49.97142857142857], \"yaxis\": \"y\", \"type\": \"scatter\"}, {\"hovertemplate\": \"<b>%{hovertext}</b><br><br>Country_name=Japan<br>Month=4<br>AQI=%{x}<br>AQI_20=%{y}<br>size=%{marker.size}<extra></extra>\", \"hovertext\": [\"Tokyo\"], \"ids\": [\"Japan\"], \"legendgroup\": \"Japan\", \"marker\": {\"color\": \"#ab63fa\", \"size\": [1], \"sizemode\": \"area\", \"sizeref\": 0.00033057851239669424, \"symbol\": \"circle\"}, \"mode\": \"markers\", \"name\": \"Japan\", \"orientation\": \"v\", \"showlegend\": true, \"x\": [56.833333333333336], \"xaxis\": \"x\", \"y\": [38.8], \"yaxis\": \"y\", \"type\": \"scatter\"}, {\"hovertemplate\": \"<b>%{hovertext}</b><br><br>Country_name=Israel<br>Month=4<br>AQI=%{x}<br>AQI_20=%{y}<br>size=%{marker.size}<extra></extra>\", \"hovertext\": [\"Jerusalem\"], \"ids\": [\"Israel\"], \"legendgroup\": \"Israel\", \"marker\": {\"color\": \"#FFA15A\", \"size\": [1], \"sizemode\": \"area\", \"sizeref\": 0.00033057851239669424, \"symbol\": \"circle\"}, \"mode\": \"markers\", \"name\": \"Israel\", \"orientation\": \"v\", \"showlegend\": true, \"x\": [58.607142857142854], \"xaxis\": \"x\", \"y\": [53.542857142857144], \"yaxis\": \"y\", \"type\": \"scatter\"}, {\"hovertemplate\": \"<b>%{hovertext}</b><br><br>Country_name=India<br>Month=4<br>AQI=%{x}<br>AQI_20=%{y}<br>size=%{marker.size}<extra></extra>\", \"hovertext\": [\"Delhi\"], \"ids\": [\"India\"], \"legendgroup\": \"India\", \"marker\": {\"color\": \"#19d3f3\", \"size\": [1], \"sizemode\": \"area\", \"sizeref\": 0.00033057851239669424, \"symbol\": \"circle\"}, \"mode\": \"markers\", \"name\": \"India\", \"orientation\": \"v\", \"showlegend\": true, \"x\": [32.06666666666667], \"xaxis\": \"x\", \"y\": [107.88571428571429], \"yaxis\": \"y\", \"type\": \"scatter\"}, {\"hovertemplate\": \"<b>%{hovertext}</b><br><br>Country_name=Australia<br>Month=4<br>AQI=%{x}<br>AQI_20=%{y}<br>size=%{marker.size}<extra></extra>\", \"hovertext\": [\"Melbourne\"], \"ids\": [\"Australia\"], \"legendgroup\": \"Australia\", \"marker\": {\"color\": \"#FF6692\", \"size\": [1], \"sizemode\": \"area\", \"sizeref\": 0.00033057851239669424, \"symbol\": \"circle\"}, \"mode\": \"markers\", \"name\": \"Australia\", \"orientation\": \"v\", \"showlegend\": true, \"x\": [57.03333333333333], \"xaxis\": \"x\", \"y\": [23.62857142857143], \"yaxis\": \"y\", \"type\": \"scatter\"}, {\"hovertemplate\": \"<b>%{hovertext}</b><br><br>Country_name=Thailand<br>Month=4<br>AQI=%{x}<br>AQI_20=%{y}<br>size=%{marker.size}<extra></extra>\", \"hovertext\": [\"Bangkok\"], \"ids\": [\"Thailand\"], \"legendgroup\": \"Thailand\", \"marker\": {\"color\": \"#B6E880\", \"size\": [1], \"sizemode\": \"area\", \"sizeref\": 0.00033057851239669424, \"symbol\": \"circle\"}, \"mode\": \"markers\", \"name\": \"Thailand\", \"orientation\": \"v\", \"showlegend\": true, \"x\": [38.3], \"xaxis\": \"x\", \"y\": [64.94285714285714], \"yaxis\": \"y\", \"type\": \"scatter\"}, {\"hovertemplate\": \"<b>%{hovertext}</b><br><br>Country_name=Argentina<br>Month=4<br>AQI=%{x}<br>AQI_20=%{y}<br>size=%{marker.size}<extra></extra>\", \"hovertext\": [\"Buenos Aires\"], \"ids\": [\"Argentina\"], \"legendgroup\": \"Argentina\", \"marker\": {\"color\": \"#FF97FF\", \"size\": [1], \"sizemode\": \"area\", \"sizeref\": 0.00033057851239669424, \"symbol\": \"circle\"}, \"mode\": \"markers\", \"name\": \"Argentina\", \"orientation\": \"v\", \"showlegend\": true, \"x\": [28.433333333333334], \"xaxis\": \"x\", \"y\": [25.914285714285715], \"yaxis\": \"y\", \"type\": \"scatter\"}, {\"hovertemplate\": \"<b>%{hovertext}</b><br><br>Country_name=Spain<br>Month=4<br>AQI=%{x}<br>AQI_20=%{y}<br>size=%{marker.size}<extra></extra>\", \"hovertext\": [\"Barcelona\", \"Madrid\"], \"ids\": [\"Spain\", \"Spain\"], \"legendgroup\": \"Spain\", \"marker\": {\"color\": \"#FECB52\", \"size\": [1, 1], \"sizemode\": \"area\", \"sizeref\": 0.00033057851239669424, \"symbol\": \"circle\"}, \"mode\": \"markers\", \"name\": \"Spain\", \"orientation\": \"v\", \"showlegend\": true, \"x\": [56.13333333333333, 28.448275862068964], \"xaxis\": \"x\", \"y\": [30.408571428571427, 29.65714285714286], \"yaxis\": \"y\", \"type\": \"scatter\"}, {\"hovertemplate\": \"<b>%{hovertext}</b><br><br>Country_name=Switzerland<br>Month=4<br>AQI=%{x}<br>AQI_20=%{y}<br>size=%{marker.size}<extra></extra>\", \"hovertext\": [\"Z\\u00fcrich\"], \"ids\": [\"Switzerland\"], \"legendgroup\": \"Switzerland\", \"marker\": {\"color\": \"#636efa\", \"size\": [1], \"sizemode\": \"area\", \"sizeref\": 0.00033057851239669424, \"symbol\": \"circle\"}, \"mode\": \"markers\", \"name\": \"Switzerland\", \"orientation\": \"v\", \"showlegend\": true, \"x\": [24.662068965517236], \"xaxis\": \"x\", \"y\": [28.97142857142858], \"yaxis\": \"y\", \"type\": \"scatter\"}, {\"hovertemplate\": \"<b>%{hovertext}</b><br><br>Country_name=Chile<br>Month=4<br>AQI=%{x}<br>AQI_20=%{y}<br>size=%{marker.size}<extra></extra>\", \"hovertext\": [\"Los \\u00c1ngeles\"], \"ids\": [\"Chile\"], \"legendgroup\": \"Chile\", \"marker\": {\"color\": \"#EF553B\", \"size\": [1], \"sizemode\": \"area\", \"sizeref\": 0.00033057851239669424, \"symbol\": \"circle\"}, \"mode\": \"markers\", \"name\": \"Chile\", \"orientation\": \"v\", \"showlegend\": true, \"x\": [153.3793103448276], \"xaxis\": \"x\", \"y\": [59.65714285714286], \"yaxis\": \"y\", \"type\": \"scatter\"}, {\"hovertemplate\": \"<b>%{hovertext}</b><br><br>Country_name=Germany<br>Month=4<br>AQI=%{x}<br>AQI_20=%{y}<br>size=%{marker.size}<extra></extra>\", \"hovertext\": [\"Berlin\"], \"ids\": [\"Germany\"], \"legendgroup\": \"Germany\", \"marker\": {\"color\": \"#00cc96\", \"size\": [1], \"sizemode\": \"area\", \"sizeref\": 0.00033057851239669424, \"symbol\": \"circle\"}, \"mode\": \"markers\", \"name\": \"Germany\", \"orientation\": \"v\", \"showlegend\": true, \"x\": [42.206896551724135], \"xaxis\": \"x\", \"y\": [36.65714285714286], \"yaxis\": \"y\", \"type\": \"scatter\"}], \"name\": \"4\"}, {\"data\": [{\"hovertemplate\": \"<b>%{hovertext}</b><br><br>Country_name=Netherlands<br>Month=5<br>AQI=%{x}<br>AQI_20=%{y}<br>size=%{marker.size}<extra></extra>\", \"hovertext\": [\"Rotterdam\"], \"ids\": [\"Netherlands\"], \"legendgroup\": \"Netherlands\", \"marker\": {\"color\": \"#636efa\", \"size\": [1], \"sizemode\": \"area\", \"sizeref\": 0.00033057851239669424, \"symbol\": \"circle\"}, \"mode\": \"markers\", \"name\": \"Netherlands\", \"orientation\": \"v\", \"showlegend\": true, \"x\": [27.36774193548387], \"xaxis\": \"x\", \"y\": [35.096774193548384], \"yaxis\": \"y\", \"type\": \"scatter\"}, {\"hovertemplate\": \"<b>%{hovertext}</b><br><br>Country_name=United States<br>Month=5<br>AQI=%{x}<br>AQI_20=%{y}<br>size=%{marker.size}<extra></extra>\", \"hovertext\": [\"San Francisco\"], \"ids\": [\"United States\"], \"legendgroup\": \"United States\", \"marker\": {\"color\": \"#EF553B\", \"size\": [1], \"sizemode\": \"area\", \"sizeref\": 0.00033057851239669424, \"symbol\": \"circle\"}, \"mode\": \"markers\", \"name\": \"United States\", \"orientation\": \"v\", \"showlegend\": true, \"x\": [37.87096774193548], \"xaxis\": \"x\", \"y\": [27.548387096774192], \"yaxis\": \"y\", \"type\": \"scatter\"}, {\"hovertemplate\": \"<b>%{hovertext}</b><br><br>Country_name=France<br>Month=5<br>AQI=%{x}<br>AQI_20=%{y}<br>size=%{marker.size}<extra></extra>\", \"hovertext\": [\"Paris\"], \"ids\": [\"France\"], \"legendgroup\": \"France\", \"marker\": {\"color\": \"#00cc96\", \"size\": [1], \"sizemode\": \"area\", \"sizeref\": 0.00033057851239669424, \"symbol\": \"circle\"}, \"mode\": \"markers\", \"name\": \"France\", \"orientation\": \"v\", \"showlegend\": true, \"x\": [37.67741935483871], \"xaxis\": \"x\", \"y\": [40.32258064516129], \"yaxis\": \"y\", \"type\": \"scatter\"}, {\"hovertemplate\": \"<b>%{hovertext}</b><br><br>Country_name=Japan<br>Month=5<br>AQI=%{x}<br>AQI_20=%{y}<br>size=%{marker.size}<extra></extra>\", \"hovertext\": [\"Tokyo\"], \"ids\": [\"Japan\"], \"legendgroup\": \"Japan\", \"marker\": {\"color\": \"#ab63fa\", \"size\": [1], \"sizemode\": \"area\", \"sizeref\": 0.00033057851239669424, \"symbol\": \"circle\"}, \"mode\": \"markers\", \"name\": \"Japan\", \"orientation\": \"v\", \"showlegend\": true, \"x\": [25.274193548387096], \"xaxis\": \"x\", \"y\": [37.83870967741935], \"yaxis\": \"y\", \"type\": \"scatter\"}, {\"hovertemplate\": \"<b>%{hovertext}</b><br><br>Country_name=Israel<br>Month=5<br>AQI=%{x}<br>AQI_20=%{y}<br>size=%{marker.size}<extra></extra>\", \"hovertext\": [\"Jerusalem\"], \"ids\": [\"Israel\"], \"legendgroup\": \"Israel\", \"marker\": {\"color\": \"#FFA15A\", \"size\": [1], \"sizemode\": \"area\", \"sizeref\": 0.00033057851239669424, \"symbol\": \"circle\"}, \"mode\": \"markers\", \"name\": \"Israel\", \"orientation\": \"v\", \"showlegend\": true, \"x\": [47.45161290322581], \"xaxis\": \"x\", \"y\": [49.03225806451613], \"yaxis\": \"y\", \"type\": \"scatter\"}, {\"hovertemplate\": \"<b>%{hovertext}</b><br><br>Country_name=India<br>Month=5<br>AQI=%{x}<br>AQI_20=%{y}<br>size=%{marker.size}<extra></extra>\", \"hovertext\": [\"Delhi\"], \"ids\": [\"India\"], \"legendgroup\": \"India\", \"marker\": {\"color\": \"#19d3f3\", \"size\": [1], \"sizemode\": \"area\", \"sizeref\": 0.00033057851239669424, \"symbol\": \"circle\"}, \"mode\": \"markers\", \"name\": \"India\", \"orientation\": \"v\", \"showlegend\": true, \"x\": [38.38709677419355], \"xaxis\": \"x\", \"y\": [122.6774193548387], \"yaxis\": \"y\", \"type\": \"scatter\"}, {\"hovertemplate\": \"<b>%{hovertext}</b><br><br>Country_name=Australia<br>Month=5<br>AQI=%{x}<br>AQI_20=%{y}<br>size=%{marker.size}<extra></extra>\", \"hovertext\": [\"Melbourne\"], \"ids\": [\"Australia\"], \"legendgroup\": \"Australia\", \"marker\": {\"color\": \"#FF6692\", \"size\": [1], \"sizemode\": \"area\", \"sizeref\": 0.00033057851239669424, \"symbol\": \"circle\"}, \"mode\": \"markers\", \"name\": \"Australia\", \"orientation\": \"v\", \"showlegend\": true, \"x\": [158.0], \"xaxis\": \"x\", \"y\": [24.258064516129032], \"yaxis\": \"y\", \"type\": \"scatter\"}, {\"hovertemplate\": \"<b>%{hovertext}</b><br><br>Country_name=Thailand<br>Month=5<br>AQI=%{x}<br>AQI_20=%{y}<br>size=%{marker.size}<extra></extra>\", \"hovertext\": [\"Bangkok\"], \"ids\": [\"Thailand\"], \"legendgroup\": \"Thailand\", \"marker\": {\"color\": \"#B6E880\", \"size\": [1], \"sizemode\": \"area\", \"sizeref\": 0.00033057851239669424, \"symbol\": \"circle\"}, \"mode\": \"markers\", \"name\": \"Thailand\", \"orientation\": \"v\", \"showlegend\": true, \"x\": [60.41935483870968], \"xaxis\": \"x\", \"y\": [55.29032258064516], \"yaxis\": \"y\", \"type\": \"scatter\"}, {\"hovertemplate\": \"<b>%{hovertext}</b><br><br>Country_name=Argentina<br>Month=5<br>AQI=%{x}<br>AQI_20=%{y}<br>size=%{marker.size}<extra></extra>\", \"hovertext\": [\"Buenos Aires\"], \"ids\": [\"Argentina\"], \"legendgroup\": \"Argentina\", \"marker\": {\"color\": \"#FF97FF\", \"size\": [1], \"sizemode\": \"area\", \"sizeref\": 0.00033057851239669424, \"symbol\": \"circle\"}, \"mode\": \"markers\", \"name\": \"Argentina\", \"orientation\": \"v\", \"showlegend\": true, \"x\": [46.225806451612904], \"xaxis\": \"x\", \"y\": [50.12], \"yaxis\": \"y\", \"type\": \"scatter\"}, {\"hovertemplate\": \"<b>%{hovertext}</b><br><br>Country_name=Spain<br>Month=5<br>AQI=%{x}<br>AQI_20=%{y}<br>size=%{marker.size}<extra></extra>\", \"hovertext\": [\"Barcelona\", \"Madrid\"], \"ids\": [\"Spain\", \"Spain\"], \"legendgroup\": \"Spain\", \"marker\": {\"color\": \"#FECB52\", \"size\": [1, 1], \"sizemode\": \"area\", \"sizeref\": 0.00033057851239669424, \"symbol\": \"circle\"}, \"mode\": \"markers\", \"name\": \"Spain\", \"orientation\": \"v\", \"showlegend\": true, \"x\": [97.29032258064517, 26.032258064516128], \"xaxis\": \"x\", \"y\": [27.274193548387096, 33.225806451612904], \"yaxis\": \"y\", \"type\": \"scatter\"}, {\"hovertemplate\": \"<b>%{hovertext}</b><br><br>Country_name=Switzerland<br>Month=5<br>AQI=%{x}<br>AQI_20=%{y}<br>size=%{marker.size}<extra></extra>\", \"hovertext\": [\"Z\\u00fcrich\"], \"ids\": [\"Switzerland\"], \"legendgroup\": \"Switzerland\", \"marker\": {\"color\": \"#636efa\", \"size\": [1], \"sizemode\": \"area\", \"sizeref\": 0.00033057851239669424, \"symbol\": \"circle\"}, \"mode\": \"markers\", \"name\": \"Switzerland\", \"orientation\": \"v\", \"showlegend\": true, \"x\": [25.46129032258065], \"xaxis\": \"x\", \"y\": [27.132258064516133], \"yaxis\": \"y\", \"type\": \"scatter\"}, {\"hovertemplate\": \"<b>%{hovertext}</b><br><br>Country_name=Chile<br>Month=5<br>AQI=%{x}<br>AQI_20=%{y}<br>size=%{marker.size}<extra></extra>\", \"hovertext\": [\"Los \\u00c1ngeles\"], \"ids\": [\"Chile\"], \"legendgroup\": \"Chile\", \"marker\": {\"color\": \"#EF553B\", \"size\": [1], \"sizemode\": \"area\", \"sizeref\": 0.00033057851239669424, \"symbol\": \"circle\"}, \"mode\": \"markers\", \"name\": \"Chile\", \"orientation\": \"v\", \"showlegend\": true, \"x\": [28.612903225806456], \"xaxis\": \"x\", \"y\": [67.70967741935483], \"yaxis\": \"y\", \"type\": \"scatter\"}, {\"hovertemplate\": \"<b>%{hovertext}</b><br><br>Country_name=Germany<br>Month=5<br>AQI=%{x}<br>AQI_20=%{y}<br>size=%{marker.size}<extra></extra>\", \"hovertext\": [\"Berlin\"], \"ids\": [\"Germany\"], \"legendgroup\": \"Germany\", \"marker\": {\"color\": \"#00cc96\", \"size\": [1], \"sizemode\": \"area\", \"sizeref\": 0.00033057851239669424, \"symbol\": \"circle\"}, \"mode\": \"markers\", \"name\": \"Germany\", \"orientation\": \"v\", \"showlegend\": true, \"x\": [69.64516129032258], \"xaxis\": \"x\", \"y\": [27.845161290322583], \"yaxis\": \"y\", \"type\": \"scatter\"}], \"name\": \"5\"}, {\"data\": [{\"hovertemplate\": \"<b>%{hovertext}</b><br><br>Country_name=Netherlands<br>Month=6<br>AQI=%{x}<br>AQI_20=%{y}<br>size=%{marker.size}<extra></extra>\", \"hovertext\": [\"Rotterdam\"], \"ids\": [\"Netherlands\"], \"legendgroup\": \"Netherlands\", \"marker\": {\"color\": \"#636efa\", \"size\": [1], \"sizemode\": \"area\", \"sizeref\": 0.00033057851239669424, \"symbol\": \"circle\"}, \"mode\": \"markers\", \"name\": \"Netherlands\", \"orientation\": \"v\", \"showlegend\": true, \"x\": [84.86666666666666], \"xaxis\": \"x\", \"y\": [30.90625], \"yaxis\": \"y\", \"type\": \"scatter\"}, {\"hovertemplate\": \"<b>%{hovertext}</b><br><br>Country_name=United States<br>Month=6<br>AQI=%{x}<br>AQI_20=%{y}<br>size=%{marker.size}<extra></extra>\", \"hovertext\": [\"San Francisco\"], \"ids\": [\"United States\"], \"legendgroup\": \"United States\", \"marker\": {\"color\": \"#EF553B\", \"size\": [1], \"sizemode\": \"area\", \"sizeref\": 0.00033057851239669424, \"symbol\": \"circle\"}, \"mode\": \"markers\", \"name\": \"United States\", \"orientation\": \"v\", \"showlegend\": true, \"x\": [139.86666666666667], \"xaxis\": \"x\", \"y\": [29.4375], \"yaxis\": \"y\", \"type\": \"scatter\"}, {\"hovertemplate\": \"<b>%{hovertext}</b><br><br>Country_name=France<br>Month=6<br>AQI=%{x}<br>AQI_20=%{y}<br>size=%{marker.size}<extra></extra>\", \"hovertext\": [\"Paris\"], \"ids\": [\"France\"], \"legendgroup\": \"France\", \"marker\": {\"color\": \"#00cc96\", \"size\": [1], \"sizemode\": \"area\", \"sizeref\": 0.00033057851239669424, \"symbol\": \"circle\"}, \"mode\": \"markers\", \"name\": \"France\", \"orientation\": \"v\", \"showlegend\": true, \"x\": [37.56666666666667], \"xaxis\": \"x\", \"y\": [37.375], \"yaxis\": \"y\", \"type\": \"scatter\"}, {\"hovertemplate\": \"<b>%{hovertext}</b><br><br>Country_name=Japan<br>Month=6<br>AQI=%{x}<br>AQI_20=%{y}<br>size=%{marker.size}<extra></extra>\", \"hovertext\": [\"Tokyo\"], \"ids\": [\"Japan\"], \"legendgroup\": \"Japan\", \"marker\": {\"color\": \"#ab63fa\", \"size\": [1], \"sizemode\": \"area\", \"sizeref\": 0.00033057851239669424, \"symbol\": \"circle\"}, \"mode\": \"markers\", \"name\": \"Japan\", \"orientation\": \"v\", \"showlegend\": true, \"x\": [40.2], \"xaxis\": \"x\", \"y\": [42.25], \"yaxis\": \"y\", \"type\": \"scatter\"}, {\"hovertemplate\": \"<b>%{hovertext}</b><br><br>Country_name=Israel<br>Month=6<br>AQI=%{x}<br>AQI_20=%{y}<br>size=%{marker.size}<extra></extra>\", \"hovertext\": [\"Jerusalem\"], \"ids\": [\"Israel\"], \"legendgroup\": \"Israel\", \"marker\": {\"color\": \"#FFA15A\", \"size\": [1], \"sizemode\": \"area\", \"sizeref\": 0.00033057851239669424, \"symbol\": \"circle\"}, \"mode\": \"markers\", \"name\": \"Israel\", \"orientation\": \"v\", \"showlegend\": true, \"x\": [43.06666666666667], \"xaxis\": \"x\", \"y\": [50.46875], \"yaxis\": \"y\", \"type\": \"scatter\"}, {\"hovertemplate\": \"<b>%{hovertext}</b><br><br>Country_name=India<br>Month=6<br>AQI=%{x}<br>AQI_20=%{y}<br>size=%{marker.size}<extra></extra>\", \"hovertext\": [\"Delhi\"], \"ids\": [\"India\"], \"legendgroup\": \"India\", \"marker\": {\"color\": \"#19d3f3\", \"size\": [1], \"sizemode\": \"area\", \"sizeref\": 0.00033057851239669424, \"symbol\": \"circle\"}, \"mode\": \"markers\", \"name\": \"India\", \"orientation\": \"v\", \"showlegend\": true, \"x\": [29.006666666666664], \"xaxis\": \"x\", \"y\": [117.40625], \"yaxis\": \"y\", \"type\": \"scatter\"}, {\"hovertemplate\": \"<b>%{hovertext}</b><br><br>Country_name=Australia<br>Month=6<br>AQI=%{x}<br>AQI_20=%{y}<br>size=%{marker.size}<extra></extra>\", \"hovertext\": [\"Melbourne\"], \"ids\": [\"Australia\"], \"legendgroup\": \"Australia\", \"marker\": {\"color\": \"#FF6692\", \"size\": [1], \"sizemode\": \"area\", \"sizeref\": 0.00033057851239669424, \"symbol\": \"circle\"}, \"mode\": \"markers\", \"name\": \"Australia\", \"orientation\": \"v\", \"showlegend\": true, \"x\": [33.63333333333333], \"xaxis\": \"x\", \"y\": [31.8125], \"yaxis\": \"y\", \"type\": \"scatter\"}, {\"hovertemplate\": \"<b>%{hovertext}</b><br><br>Country_name=Thailand<br>Month=6<br>AQI=%{x}<br>AQI_20=%{y}<br>size=%{marker.size}<extra></extra>\", \"hovertext\": [\"Bangkok\"], \"ids\": [\"Thailand\"], \"legendgroup\": \"Thailand\", \"marker\": {\"color\": \"#B6E880\", \"size\": [1], \"sizemode\": \"area\", \"sizeref\": 0.00033057851239669424, \"symbol\": \"circle\"}, \"mode\": \"markers\", \"name\": \"Thailand\", \"orientation\": \"v\", \"showlegend\": true, \"x\": [42.86666666666667], \"xaxis\": \"x\", \"y\": [44.9375], \"yaxis\": \"y\", \"type\": \"scatter\"}, {\"hovertemplate\": \"<b>%{hovertext}</b><br><br>Country_name=Argentina<br>Month=6<br>AQI=%{x}<br>AQI_20=%{y}<br>size=%{marker.size}<extra></extra>\", \"hovertext\": [\"Buenos Aires\"], \"ids\": [\"Argentina\"], \"legendgroup\": \"Argentina\", \"marker\": {\"color\": \"#FF97FF\", \"size\": [1], \"sizemode\": \"area\", \"sizeref\": 0.00033057851239669424, \"symbol\": \"circle\"}, \"mode\": \"markers\", \"name\": \"Argentina\", \"orientation\": \"v\", \"showlegend\": true, \"x\": [28.166666666666668], \"xaxis\": \"x\", \"y\": [35.1875], \"yaxis\": \"y\", \"type\": \"scatter\"}, {\"hovertemplate\": \"<b>%{hovertext}</b><br><br>Country_name=Spain<br>Month=6<br>AQI=%{x}<br>AQI_20=%{y}<br>size=%{marker.size}<extra></extra>\", \"hovertext\": [\"Barcelona\", \"Madrid\"], \"ids\": [\"Spain\", \"Spain\"], \"legendgroup\": \"Spain\", \"marker\": {\"color\": \"#FECB52\", \"size\": [1, 1], \"sizemode\": \"area\", \"sizeref\": 0.00033057851239669424, \"symbol\": \"circle\"}, \"mode\": \"markers\", \"name\": \"Spain\", \"orientation\": \"v\", \"showlegend\": true, \"x\": [38.1, 64.9], \"xaxis\": \"x\", \"y\": [24.228125000000006, 36.9375], \"yaxis\": \"y\", \"type\": \"scatter\"}, {\"hovertemplate\": \"<b>%{hovertext}</b><br><br>Country_name=Switzerland<br>Month=6<br>AQI=%{x}<br>AQI_20=%{y}<br>size=%{marker.size}<extra></extra>\", \"hovertext\": [\"Z\\u00fcrich\"], \"ids\": [\"Switzerland\"], \"legendgroup\": \"Switzerland\", \"marker\": {\"color\": \"#636efa\", \"size\": [1], \"sizemode\": \"area\", \"sizeref\": 0.00033057851239669424, \"symbol\": \"circle\"}, \"mode\": \"markers\", \"name\": \"Switzerland\", \"orientation\": \"v\", \"showlegend\": true, \"x\": [51.06666666666667], \"xaxis\": \"x\", \"y\": [25.4], \"yaxis\": \"y\", \"type\": \"scatter\"}, {\"hovertemplate\": \"<b>%{hovertext}</b><br><br>Country_name=Chile<br>Month=6<br>AQI=%{x}<br>AQI_20=%{y}<br>size=%{marker.size}<extra></extra>\", \"hovertext\": [\"Los \\u00c1ngeles\"], \"ids\": [\"Chile\"], \"legendgroup\": \"Chile\", \"marker\": {\"color\": \"#EF553B\", \"size\": [1], \"sizemode\": \"area\", \"sizeref\": 0.00033057851239669424, \"symbol\": \"circle\"}, \"mode\": \"markers\", \"name\": \"Chile\", \"orientation\": \"v\", \"showlegend\": true, \"x\": [29.586666666666666], \"xaxis\": \"x\", \"y\": [44.28125], \"yaxis\": \"y\", \"type\": \"scatter\"}, {\"hovertemplate\": \"<b>%{hovertext}</b><br><br>Country_name=Germany<br>Month=6<br>AQI=%{x}<br>AQI_20=%{y}<br>size=%{marker.size}<extra></extra>\", \"hovertext\": [\"Berlin\"], \"ids\": [\"Germany\"], \"legendgroup\": \"Germany\", \"marker\": {\"color\": \"#00cc96\", \"size\": [1], \"sizemode\": \"area\", \"sizeref\": 0.00033057851239669424, \"symbol\": \"circle\"}, \"mode\": \"markers\", \"name\": \"Germany\", \"orientation\": \"v\", \"showlegend\": true, \"x\": [37.96666666666667], \"xaxis\": \"x\", \"y\": [30.5625], \"yaxis\": \"y\", \"type\": \"scatter\"}], \"name\": \"6\"}, {\"data\": [{\"hovertemplate\": \"<b>%{hovertext}</b><br><br>Country_name=Netherlands<br>Month=7<br>AQI=%{x}<br>AQI_20=%{y}<br>size=%{marker.size}<extra></extra>\", \"hovertext\": [\"Rotterdam\"], \"ids\": [\"Netherlands\"], \"legendgroup\": \"Netherlands\", \"marker\": {\"color\": \"#636efa\", \"size\": [1], \"sizemode\": \"area\", \"sizeref\": 0.00033057851239669424, \"symbol\": \"circle\"}, \"mode\": \"markers\", \"name\": \"Netherlands\", \"orientation\": \"v\", \"showlegend\": true, \"x\": [46.67741935483871], \"xaxis\": \"x\", \"y\": [21.944444444444443], \"yaxis\": \"y\", \"type\": \"scatter\"}, {\"hovertemplate\": \"<b>%{hovertext}</b><br><br>Country_name=United States<br>Month=7<br>AQI=%{x}<br>AQI_20=%{y}<br>size=%{marker.size}<extra></extra>\", \"hovertext\": [\"San Francisco\"], \"ids\": [\"United States\"], \"legendgroup\": \"United States\", \"marker\": {\"color\": \"#EF553B\", \"size\": [1], \"sizemode\": \"area\", \"sizeref\": 0.00033057851239669424, \"symbol\": \"circle\"}, \"mode\": \"markers\", \"name\": \"United States\", \"orientation\": \"v\", \"showlegend\": true, \"x\": [32.74193548387097], \"xaxis\": \"x\", \"y\": [30.86111111111111], \"yaxis\": \"y\", \"type\": \"scatter\"}, {\"hovertemplate\": \"<b>%{hovertext}</b><br><br>Country_name=France<br>Month=7<br>AQI=%{x}<br>AQI_20=%{y}<br>size=%{marker.size}<extra></extra>\", \"hovertext\": [\"Paris\"], \"ids\": [\"France\"], \"legendgroup\": \"France\", \"marker\": {\"color\": \"#00cc96\", \"size\": [1], \"sizemode\": \"area\", \"sizeref\": 0.00033057851239669424, \"symbol\": \"circle\"}, \"mode\": \"markers\", \"name\": \"France\", \"orientation\": \"v\", \"showlegend\": true, \"x\": [54.0], \"xaxis\": \"x\", \"y\": [35.361111111111114], \"yaxis\": \"y\", \"type\": \"scatter\"}, {\"hovertemplate\": \"<b>%{hovertext}</b><br><br>Country_name=Japan<br>Month=7<br>AQI=%{x}<br>AQI_20=%{y}<br>size=%{marker.size}<extra></extra>\", \"hovertext\": [\"Tokyo\"], \"ids\": [\"Japan\"], \"legendgroup\": \"Japan\", \"marker\": {\"color\": \"#ab63fa\", \"size\": [1], \"sizemode\": \"area\", \"sizeref\": 0.00033057851239669424, \"symbol\": \"circle\"}, \"mode\": \"markers\", \"name\": \"Japan\", \"orientation\": \"v\", \"showlegend\": true, \"x\": [34.83870967741935], \"xaxis\": \"x\", \"y\": [30.61111111111111], \"yaxis\": \"y\", \"type\": \"scatter\"}, {\"hovertemplate\": \"<b>%{hovertext}</b><br><br>Country_name=Israel<br>Month=7<br>AQI=%{x}<br>AQI_20=%{y}<br>size=%{marker.size}<extra></extra>\", \"hovertext\": [\"Jerusalem\"], \"ids\": [\"Israel\"], \"legendgroup\": \"Israel\", \"marker\": {\"color\": \"#FFA15A\", \"size\": [1], \"sizemode\": \"area\", \"sizeref\": 0.00033057851239669424, \"symbol\": \"circle\"}, \"mode\": \"markers\", \"name\": \"Israel\", \"orientation\": \"v\", \"showlegend\": true, \"x\": [30.961290322580652], \"xaxis\": \"x\", \"y\": [55.97222222222222], \"yaxis\": \"y\", \"type\": \"scatter\"}, {\"hovertemplate\": \"<b>%{hovertext}</b><br><br>Country_name=India<br>Month=7<br>AQI=%{x}<br>AQI_20=%{y}<br>size=%{marker.size}<extra></extra>\", \"hovertext\": [\"Delhi\"], \"ids\": [\"India\"], \"legendgroup\": \"India\", \"marker\": {\"color\": \"#19d3f3\", \"size\": [1], \"sizemode\": \"area\", \"sizeref\": 0.00033057851239669424, \"symbol\": \"circle\"}, \"mode\": \"markers\", \"name\": \"India\", \"orientation\": \"v\", \"showlegend\": true, \"x\": [31.29032258064516], \"xaxis\": \"x\", \"y\": [96.80555555555556], \"yaxis\": \"y\", \"type\": \"scatter\"}, {\"hovertemplate\": \"<b>%{hovertext}</b><br><br>Country_name=Australia<br>Month=7<br>AQI=%{x}<br>AQI_20=%{y}<br>size=%{marker.size}<extra></extra>\", \"hovertext\": [\"Melbourne\"], \"ids\": [\"Australia\"], \"legendgroup\": \"Australia\", \"marker\": {\"color\": \"#FF6692\", \"size\": [1], \"sizemode\": \"area\", \"sizeref\": 0.00033057851239669424, \"symbol\": \"circle\"}, \"mode\": \"markers\", \"name\": \"Australia\", \"orientation\": \"v\", \"showlegend\": true, \"x\": [43.03225806451613], \"xaxis\": \"x\", \"y\": [30.27777777777778], \"yaxis\": \"y\", \"type\": \"scatter\"}, {\"hovertemplate\": \"<b>%{hovertext}</b><br><br>Country_name=Thailand<br>Month=7<br>AQI=%{x}<br>AQI_20=%{y}<br>size=%{marker.size}<extra></extra>\", \"hovertext\": [\"Bangkok\"], \"ids\": [\"Thailand\"], \"legendgroup\": \"Thailand\", \"marker\": {\"color\": \"#B6E880\", \"size\": [1], \"sizemode\": \"area\", \"sizeref\": 0.00033057851239669424, \"symbol\": \"circle\"}, \"mode\": \"markers\", \"name\": \"Thailand\", \"orientation\": \"v\", \"showlegend\": true, \"x\": [40.67741935483871], \"xaxis\": \"x\", \"y\": [48.111111111111114], \"yaxis\": \"y\", \"type\": \"scatter\"}, {\"hovertemplate\": \"<b>%{hovertext}</b><br><br>Country_name=Argentina<br>Month=7<br>AQI=%{x}<br>AQI_20=%{y}<br>size=%{marker.size}<extra></extra>\", \"hovertext\": [\"Buenos Aires\"], \"ids\": [\"Argentina\"], \"legendgroup\": \"Argentina\", \"marker\": {\"color\": \"#FF97FF\", \"size\": [1], \"sizemode\": \"area\", \"sizeref\": 0.00033057851239669424, \"symbol\": \"circle\"}, \"mode\": \"markers\", \"name\": \"Argentina\", \"orientation\": \"v\", \"showlegend\": true, \"x\": [58.54838709677419], \"xaxis\": \"x\", \"y\": [35.25], \"yaxis\": \"y\", \"type\": \"scatter\"}, {\"hovertemplate\": \"<b>%{hovertext}</b><br><br>Country_name=Spain<br>Month=7<br>AQI=%{x}<br>AQI_20=%{y}<br>size=%{marker.size}<extra></extra>\", \"hovertext\": [\"Madrid\", \"Barcelona\"], \"ids\": [\"Spain\", \"Spain\"], \"legendgroup\": \"Spain\", \"marker\": {\"color\": \"#FECB52\", \"size\": [1, 1], \"sizemode\": \"area\", \"sizeref\": 0.00033057851239669424, \"symbol\": \"circle\"}, \"mode\": \"markers\", \"name\": \"Spain\", \"orientation\": \"v\", \"showlegend\": true, \"x\": [115.64516129032258, 26.367741935483867], \"xaxis\": \"x\", \"y\": [43.583333333333336, 25.53055555555555], \"yaxis\": \"y\", \"type\": \"scatter\"}, {\"hovertemplate\": \"<b>%{hovertext}</b><br><br>Country_name=Switzerland<br>Month=7<br>AQI=%{x}<br>AQI_20=%{y}<br>size=%{marker.size}<extra></extra>\", \"hovertext\": [\"Z\\u00fcrich\"], \"ids\": [\"Switzerland\"], \"legendgroup\": \"Switzerland\", \"marker\": {\"color\": \"#636efa\", \"size\": [1], \"sizemode\": \"area\", \"sizeref\": 0.00033057851239669424, \"symbol\": \"circle\"}, \"mode\": \"markers\", \"name\": \"Switzerland\", \"orientation\": \"v\", \"showlegend\": true, \"x\": [47.45161290322581], \"xaxis\": \"x\", \"y\": [25.09722222222222], \"yaxis\": \"y\", \"type\": \"scatter\"}, {\"hovertemplate\": \"<b>%{hovertext}</b><br><br>Country_name=Chile<br>Month=7<br>AQI=%{x}<br>AQI_20=%{y}<br>size=%{marker.size}<extra></extra>\", \"hovertext\": [\"Los \\u00c1ngeles\"], \"ids\": [\"Chile\"], \"legendgroup\": \"Chile\", \"marker\": {\"color\": \"#EF553B\", \"size\": [1], \"sizemode\": \"area\", \"sizeref\": 0.00033057851239669424, \"symbol\": \"circle\"}, \"mode\": \"markers\", \"name\": \"Chile\", \"orientation\": \"v\", \"showlegend\": true, \"x\": [26.35483870967742], \"xaxis\": \"x\", \"y\": [48.52777777777778], \"yaxis\": \"y\", \"type\": \"scatter\"}, {\"hovertemplate\": \"<b>%{hovertext}</b><br><br>Country_name=Germany<br>Month=7<br>AQI=%{x}<br>AQI_20=%{y}<br>size=%{marker.size}<extra></extra>\", \"hovertext\": [\"Berlin\"], \"ids\": [\"Germany\"], \"legendgroup\": \"Germany\", \"marker\": {\"color\": \"#00cc96\", \"size\": [1], \"sizemode\": \"area\", \"sizeref\": 0.00033057851239669424, \"symbol\": \"circle\"}, \"mode\": \"markers\", \"name\": \"Germany\", \"orientation\": \"v\", \"showlegend\": true, \"x\": [73.90322580645162], \"xaxis\": \"x\", \"y\": [23.494444444444444], \"yaxis\": \"y\", \"type\": \"scatter\"}], \"name\": \"7\"}, {\"data\": [{\"hovertemplate\": \"<b>%{hovertext}</b><br><br>Country_name=Netherlands<br>Month=8<br>AQI=%{x}<br>AQI_20=%{y}<br>size=%{marker.size}<extra></extra>\", \"hovertext\": [\"Rotterdam\"], \"ids\": [\"Netherlands\"], \"legendgroup\": \"Netherlands\", \"marker\": {\"color\": \"#636efa\", \"size\": [1], \"sizemode\": \"area\", \"sizeref\": 0.00033057851239669424, \"symbol\": \"circle\"}, \"mode\": \"markers\", \"name\": \"Netherlands\", \"orientation\": \"v\", \"showlegend\": true, \"x\": [47.225806451612904], \"xaxis\": \"x\", \"y\": [36.87096774193548], \"yaxis\": \"y\", \"type\": \"scatter\"}, {\"hovertemplate\": \"<b>%{hovertext}</b><br><br>Country_name=United States<br>Month=8<br>AQI=%{x}<br>AQI_20=%{y}<br>size=%{marker.size}<extra></extra>\", \"hovertext\": [\"San Francisco\"], \"ids\": [\"United States\"], \"legendgroup\": \"United States\", \"marker\": {\"color\": \"#EF553B\", \"size\": [1], \"sizemode\": \"area\", \"sizeref\": 0.00033057851239669424, \"symbol\": \"circle\"}, \"mode\": \"markers\", \"name\": \"United States\", \"orientation\": \"v\", \"showlegend\": true, \"x\": [47.16129032258065], \"xaxis\": \"x\", \"y\": [40.935483870967744], \"yaxis\": \"y\", \"type\": \"scatter\"}, {\"hovertemplate\": \"<b>%{hovertext}</b><br><br>Country_name=France<br>Month=8<br>AQI=%{x}<br>AQI_20=%{y}<br>size=%{marker.size}<extra></extra>\", \"hovertext\": [\"Paris\"], \"ids\": [\"France\"], \"legendgroup\": \"France\", \"marker\": {\"color\": \"#00cc96\", \"size\": [1], \"sizemode\": \"area\", \"sizeref\": 0.00033057851239669424, \"symbol\": \"circle\"}, \"mode\": \"markers\", \"name\": \"France\", \"orientation\": \"v\", \"showlegend\": true, \"x\": [37.61290322580645], \"xaxis\": \"x\", \"y\": [36.67741935483871], \"yaxis\": \"y\", \"type\": \"scatter\"}, {\"hovertemplate\": \"<b>%{hovertext}</b><br><br>Country_name=Japan<br>Month=8<br>AQI=%{x}<br>AQI_20=%{y}<br>size=%{marker.size}<extra></extra>\", \"hovertext\": [\"Tokyo\"], \"ids\": [\"Japan\"], \"legendgroup\": \"Japan\", \"marker\": {\"color\": \"#ab63fa\", \"size\": [1], \"sizemode\": \"area\", \"sizeref\": 0.00033057851239669424, \"symbol\": \"circle\"}, \"mode\": \"markers\", \"name\": \"Japan\", \"orientation\": \"v\", \"showlegend\": true, \"x\": [61.774193548387096], \"xaxis\": \"x\", \"y\": [45.25806451612903], \"yaxis\": \"y\", \"type\": \"scatter\"}, {\"hovertemplate\": \"<b>%{hovertext}</b><br><br>Country_name=Israel<br>Month=8<br>AQI=%{x}<br>AQI_20=%{y}<br>size=%{marker.size}<extra></extra>\", \"hovertext\": [\"Jerusalem\"], \"ids\": [\"Israel\"], \"legendgroup\": \"Israel\", \"marker\": {\"color\": \"#FFA15A\", \"size\": [1], \"sizemode\": \"area\", \"sizeref\": 0.00033057851239669424, \"symbol\": \"circle\"}, \"mode\": \"markers\", \"name\": \"Israel\", \"orientation\": \"v\", \"showlegend\": true, \"x\": [86.45161290322581], \"xaxis\": \"x\", \"y\": [56.67741935483871], \"yaxis\": \"y\", \"type\": \"scatter\"}, {\"hovertemplate\": \"<b>%{hovertext}</b><br><br>Country_name=India<br>Month=8<br>AQI=%{x}<br>AQI_20=%{y}<br>size=%{marker.size}<extra></extra>\", \"hovertext\": [\"Delhi\"], \"ids\": [\"India\"], \"legendgroup\": \"India\", \"marker\": {\"color\": \"#19d3f3\", \"size\": [1], \"sizemode\": \"area\", \"sizeref\": 0.00033057851239669424, \"symbol\": \"circle\"}, \"mode\": \"markers\", \"name\": \"India\", \"orientation\": \"v\", \"showlegend\": true, \"x\": [22.741935483870968], \"xaxis\": \"x\", \"y\": [73.25806451612904], \"yaxis\": \"y\", \"type\": \"scatter\"}, {\"hovertemplate\": \"<b>%{hovertext}</b><br><br>Country_name=Australia<br>Month=8<br>AQI=%{x}<br>AQI_20=%{y}<br>size=%{marker.size}<extra></extra>\", \"hovertext\": [\"Melbourne\"], \"ids\": [\"Australia\"], \"legendgroup\": \"Australia\", \"marker\": {\"color\": \"#FF6692\", \"size\": [1], \"sizemode\": \"area\", \"sizeref\": 0.00033057851239669424, \"symbol\": \"circle\"}, \"mode\": \"markers\", \"name\": \"Australia\", \"orientation\": \"v\", \"showlegend\": true, \"x\": [38.645161290322584], \"xaxis\": \"x\", \"y\": [21.677419354838708], \"yaxis\": \"y\", \"type\": \"scatter\"}, {\"hovertemplate\": \"<b>%{hovertext}</b><br><br>Country_name=Thailand<br>Month=8<br>AQI=%{x}<br>AQI_20=%{y}<br>size=%{marker.size}<extra></extra>\", \"hovertext\": [\"Bangkok\"], \"ids\": [\"Thailand\"], \"legendgroup\": \"Thailand\", \"marker\": {\"color\": \"#B6E880\", \"size\": [1], \"sizemode\": \"area\", \"sizeref\": 0.00033057851239669424, \"symbol\": \"circle\"}, \"mode\": \"markers\", \"name\": \"Thailand\", \"orientation\": \"v\", \"showlegend\": true, \"x\": [52.96774193548387], \"xaxis\": \"x\", \"y\": [50.225806451612904], \"yaxis\": \"y\", \"type\": \"scatter\"}, {\"hovertemplate\": \"<b>%{hovertext}</b><br><br>Country_name=Argentina<br>Month=8<br>AQI=%{x}<br>AQI_20=%{y}<br>size=%{marker.size}<extra></extra>\", \"hovertext\": [\"Buenos Aires\"], \"ids\": [\"Argentina\"], \"legendgroup\": \"Argentina\", \"marker\": {\"color\": \"#FF97FF\", \"size\": [1], \"sizemode\": \"area\", \"sizeref\": 0.00033057851239669424, \"symbol\": \"circle\"}, \"mode\": \"markers\", \"name\": \"Argentina\", \"orientation\": \"v\", \"showlegend\": true, \"x\": [40.0], \"xaxis\": \"x\", \"y\": [50.58064516129032], \"yaxis\": \"y\", \"type\": \"scatter\"}, {\"hovertemplate\": \"<b>%{hovertext}</b><br><br>Country_name=Spain<br>Month=8<br>AQI=%{x}<br>AQI_20=%{y}<br>size=%{marker.size}<extra></extra>\", \"hovertext\": [\"Madrid\", \"Barcelona\"], \"ids\": [\"Spain\", \"Spain\"], \"legendgroup\": \"Spain\", \"marker\": {\"color\": \"#FECB52\", \"size\": [1, 1], \"sizemode\": \"area\", \"sizeref\": 0.00033057851239669424, \"symbol\": \"circle\"}, \"mode\": \"markers\", \"name\": \"Spain\", \"orientation\": \"v\", \"showlegend\": true, \"x\": [90.45161290322581, 28.64516129032258], \"xaxis\": \"x\", \"y\": [37.61290322580645, 24.667741935483868], \"yaxis\": \"y\", \"type\": \"scatter\"}, {\"hovertemplate\": \"<b>%{hovertext}</b><br><br>Country_name=Switzerland<br>Month=8<br>AQI=%{x}<br>AQI_20=%{y}<br>size=%{marker.size}<extra></extra>\", \"hovertext\": [\"Z\\u00fcrich\"], \"ids\": [\"Switzerland\"], \"legendgroup\": \"Switzerland\", \"marker\": {\"color\": \"#636efa\", \"size\": [1], \"sizemode\": \"area\", \"sizeref\": 0.00033057851239669424, \"symbol\": \"circle\"}, \"mode\": \"markers\", \"name\": \"Switzerland\", \"orientation\": \"v\", \"showlegend\": true, \"x\": [37.935483870967744], \"xaxis\": \"x\", \"y\": [24.548387096774192], \"yaxis\": \"y\", \"type\": \"scatter\"}, {\"hovertemplate\": \"<b>%{hovertext}</b><br><br>Country_name=Chile<br>Month=8<br>AQI=%{x}<br>AQI_20=%{y}<br>size=%{marker.size}<extra></extra>\", \"hovertext\": [\"Los \\u00c1ngeles\"], \"ids\": [\"Chile\"], \"legendgroup\": \"Chile\", \"marker\": {\"color\": \"#EF553B\", \"size\": [1], \"sizemode\": \"area\", \"sizeref\": 0.00033057851239669424, \"symbol\": \"circle\"}, \"mode\": \"markers\", \"name\": \"Chile\", \"orientation\": \"v\", \"showlegend\": true, \"x\": [21.254838709677415], \"xaxis\": \"x\", \"y\": [42.516129032258064], \"yaxis\": \"y\", \"type\": \"scatter\"}, {\"hovertemplate\": \"<b>%{hovertext}</b><br><br>Country_name=Germany<br>Month=8<br>AQI=%{x}<br>AQI_20=%{y}<br>size=%{marker.size}<extra></extra>\", \"hovertext\": [\"Berlin\"], \"ids\": [\"Germany\"], \"legendgroup\": \"Germany\", \"marker\": {\"color\": \"#00cc96\", \"size\": [1], \"sizemode\": \"area\", \"sizeref\": 0.00033057851239669424, \"symbol\": \"circle\"}, \"mode\": \"markers\", \"name\": \"Germany\", \"orientation\": \"v\", \"showlegend\": true, \"x\": [27.064516129032253], \"xaxis\": \"x\", \"y\": [33.806451612903224], \"yaxis\": \"y\", \"type\": \"scatter\"}], \"name\": \"8\"}, {\"data\": [{\"hovertemplate\": \"<b>%{hovertext}</b><br><br>Country_name=Netherlands<br>Month=9<br>AQI=%{x}<br>AQI_20=%{y}<br>size=%{marker.size}<extra></extra>\", \"hovertext\": [\"Rotterdam\"], \"ids\": [\"Netherlands\"], \"legendgroup\": \"Netherlands\", \"marker\": {\"color\": \"#636efa\", \"size\": [1], \"sizemode\": \"area\", \"sizeref\": 0.00033057851239669424, \"symbol\": \"circle\"}, \"mode\": \"markers\", \"name\": \"Netherlands\", \"orientation\": \"v\", \"showlegend\": true, \"x\": [39.29032258064516], \"xaxis\": \"x\", \"y\": [36.78787878787879], \"yaxis\": \"y\", \"type\": \"scatter\"}, {\"hovertemplate\": \"<b>%{hovertext}</b><br><br>Country_name=United States<br>Month=9<br>AQI=%{x}<br>AQI_20=%{y}<br>size=%{marker.size}<extra></extra>\", \"hovertext\": [\"San Francisco\"], \"ids\": [\"United States\"], \"legendgroup\": \"United States\", \"marker\": {\"color\": \"#EF553B\", \"size\": [1], \"sizemode\": \"area\", \"sizeref\": 0.00033057851239669424, \"symbol\": \"circle\"}, \"mode\": \"markers\", \"name\": \"United States\", \"orientation\": \"v\", \"showlegend\": true, \"x\": [60.03225806451613], \"xaxis\": \"x\", \"y\": [65.0], \"yaxis\": \"y\", \"type\": \"scatter\"}, {\"hovertemplate\": \"<b>%{hovertext}</b><br><br>Country_name=France<br>Month=9<br>AQI=%{x}<br>AQI_20=%{y}<br>size=%{marker.size}<extra></extra>\", \"hovertext\": [\"Paris\"], \"ids\": [\"France\"], \"legendgroup\": \"France\", \"marker\": {\"color\": \"#00cc96\", \"size\": [1], \"sizemode\": \"area\", \"sizeref\": 0.00033057851239669424, \"symbol\": \"circle\"}, \"mode\": \"markers\", \"name\": \"France\", \"orientation\": \"v\", \"showlegend\": true, \"x\": [43.903225806451616], \"xaxis\": \"x\", \"y\": [43.06060606060606], \"yaxis\": \"y\", \"type\": \"scatter\"}, {\"hovertemplate\": \"<b>%{hovertext}</b><br><br>Country_name=Japan<br>Month=9<br>AQI=%{x}<br>AQI_20=%{y}<br>size=%{marker.size}<extra></extra>\", \"hovertext\": [\"Tokyo\"], \"ids\": [\"Japan\"], \"legendgroup\": \"Japan\", \"marker\": {\"color\": \"#ab63fa\", \"size\": [1], \"sizemode\": \"area\", \"sizeref\": 0.00033057851239669424, \"symbol\": \"circle\"}, \"mode\": \"markers\", \"name\": \"Japan\", \"orientation\": \"v\", \"showlegend\": true, \"x\": [71.93548387096774], \"xaxis\": \"x\", \"y\": [25.814814814814813], \"yaxis\": \"y\", \"type\": \"scatter\"}, {\"hovertemplate\": \"<b>%{hovertext}</b><br><br>Country_name=Israel<br>Month=9<br>AQI=%{x}<br>AQI_20=%{y}<br>size=%{marker.size}<extra></extra>\", \"hovertext\": [\"Jerusalem\"], \"ids\": [\"Israel\"], \"legendgroup\": \"Israel\", \"marker\": {\"color\": \"#FFA15A\", \"size\": [1], \"sizemode\": \"area\", \"sizeref\": 0.00033057851239669424, \"symbol\": \"circle\"}, \"mode\": \"markers\", \"name\": \"Israel\", \"orientation\": \"v\", \"showlegend\": true, \"x\": [23.06129032258065], \"xaxis\": \"x\", \"y\": [66.21212121212122], \"yaxis\": \"y\", \"type\": \"scatter\"}, {\"hovertemplate\": \"<b>%{hovertext}</b><br><br>Country_name=India<br>Month=9<br>AQI=%{x}<br>AQI_20=%{y}<br>size=%{marker.size}<extra></extra>\", \"hovertext\": [\"Delhi\"], \"ids\": [\"India\"], \"legendgroup\": \"India\", \"marker\": {\"color\": \"#19d3f3\", \"size\": [1], \"sizemode\": \"area\", \"sizeref\": 0.00033057851239669424, \"symbol\": \"circle\"}, \"mode\": \"markers\", \"name\": \"India\", \"orientation\": \"v\", \"showlegend\": true, \"x\": [37.67741935483871], \"xaxis\": \"x\", \"y\": [126.84848484848484], \"yaxis\": \"y\", \"type\": \"scatter\"}, {\"hovertemplate\": \"<b>%{hovertext}</b><br><br>Country_name=Australia<br>Month=9<br>AQI=%{x}<br>AQI_20=%{y}<br>size=%{marker.size}<extra></extra>\", \"hovertext\": [\"Melbourne\"], \"ids\": [\"Australia\"], \"legendgroup\": \"Australia\", \"marker\": {\"color\": \"#FF6692\", \"size\": [1], \"sizemode\": \"area\", \"sizeref\": 0.00033057851239669424, \"symbol\": \"circle\"}, \"mode\": \"markers\", \"name\": \"Australia\", \"orientation\": \"v\", \"showlegend\": true, \"x\": [32.87096774193548], \"xaxis\": \"x\", \"y\": [22.939393939393938], \"yaxis\": \"y\", \"type\": \"scatter\"}, {\"hovertemplate\": \"<b>%{hovertext}</b><br><br>Country_name=Thailand<br>Month=9<br>AQI=%{x}<br>AQI_20=%{y}<br>size=%{marker.size}<extra></extra>\", \"hovertext\": [\"Bangkok\"], \"ids\": [\"Thailand\"], \"legendgroup\": \"Thailand\", \"marker\": {\"color\": \"#B6E880\", \"size\": [1], \"sizemode\": \"area\", \"sizeref\": 0.00033057851239669424, \"symbol\": \"circle\"}, \"mode\": \"markers\", \"name\": \"Thailand\", \"orientation\": \"v\", \"showlegend\": true, \"x\": [50.16129032258065], \"xaxis\": \"x\", \"y\": [48.36363636363637], \"yaxis\": \"y\", \"type\": \"scatter\"}, {\"hovertemplate\": \"<b>%{hovertext}</b><br><br>Country_name=Argentina<br>Month=9<br>AQI=%{x}<br>AQI_20=%{y}<br>size=%{marker.size}<extra></extra>\", \"hovertext\": [\"Buenos Aires\"], \"ids\": [\"Argentina\"], \"legendgroup\": \"Argentina\", \"marker\": {\"color\": \"#FF97FF\", \"size\": [1], \"sizemode\": \"area\", \"sizeref\": 0.00033057851239669424, \"symbol\": \"circle\"}, \"mode\": \"markers\", \"name\": \"Argentina\", \"orientation\": \"v\", \"showlegend\": true, \"x\": [99.93548387096774], \"xaxis\": \"x\", \"y\": [35.827586206896555], \"yaxis\": \"y\", \"type\": \"scatter\"}, {\"hovertemplate\": \"<b>%{hovertext}</b><br><br>Country_name=Spain<br>Month=9<br>AQI=%{x}<br>AQI_20=%{y}<br>size=%{marker.size}<extra></extra>\", \"hovertext\": [\"Barcelona\", \"Madrid\"], \"ids\": [\"Spain\", \"Spain\"], \"legendgroup\": \"Spain\", \"marker\": {\"color\": \"#FECB52\", \"size\": [1, 1], \"sizemode\": \"area\", \"sizeref\": 0.00033057851239669424, \"symbol\": \"circle\"}, \"mode\": \"markers\", \"name\": \"Spain\", \"orientation\": \"v\", \"showlegend\": true, \"x\": [28.580645161290324, 23.419354838709676], \"xaxis\": \"x\", \"y\": [22.57575757575757, 35.90909090909091], \"yaxis\": \"y\", \"type\": \"scatter\"}, {\"hovertemplate\": \"<b>%{hovertext}</b><br><br>Country_name=Switzerland<br>Month=9<br>AQI=%{x}<br>AQI_20=%{y}<br>size=%{marker.size}<extra></extra>\", \"hovertext\": [\"Z\\u00fcrich\"], \"ids\": [\"Switzerland\"], \"legendgroup\": \"Switzerland\", \"marker\": {\"color\": \"#636efa\", \"size\": [1], \"sizemode\": \"area\", \"sizeref\": 0.00033057851239669424, \"symbol\": \"circle\"}, \"mode\": \"markers\", \"name\": \"Switzerland\", \"orientation\": \"v\", \"showlegend\": true, \"x\": [24.612903225806452], \"xaxis\": \"x\", \"y\": [18.130303030303033], \"yaxis\": \"y\", \"type\": \"scatter\"}, {\"hovertemplate\": \"<b>%{hovertext}</b><br><br>Country_name=Chile<br>Month=9<br>AQI=%{x}<br>AQI_20=%{y}<br>size=%{marker.size}<extra></extra>\", \"hovertext\": [\"Los \\u00c1ngeles\"], \"ids\": [\"Chile\"], \"legendgroup\": \"Chile\", \"marker\": {\"color\": \"#EF553B\", \"size\": [1], \"sizemode\": \"area\", \"sizeref\": 0.00033057851239669424, \"symbol\": \"circle\"}, \"mode\": \"markers\", \"name\": \"Chile\", \"orientation\": \"v\", \"showlegend\": true, \"x\": [33.193548387096776], \"xaxis\": \"x\", \"y\": [57.06060606060606], \"yaxis\": \"y\", \"type\": \"scatter\"}, {\"hovertemplate\": \"<b>%{hovertext}</b><br><br>Country_name=Germany<br>Month=9<br>AQI=%{x}<br>AQI_20=%{y}<br>size=%{marker.size}<extra></extra>\", \"hovertext\": [\"Berlin\"], \"ids\": [\"Germany\"], \"legendgroup\": \"Germany\", \"marker\": {\"color\": \"#00cc96\", \"size\": [1], \"sizemode\": \"area\", \"sizeref\": 0.00033057851239669424, \"symbol\": \"circle\"}, \"mode\": \"markers\", \"name\": \"Germany\", \"orientation\": \"v\", \"showlegend\": true, \"x\": [16.806451612903224], \"xaxis\": \"x\", \"y\": [33.84848484848485], \"yaxis\": \"y\", \"type\": \"scatter\"}], \"name\": \"9\"}, {\"data\": [{\"hovertemplate\": \"<b>%{hovertext}</b><br><br>Country_name=Netherlands<br>Month=10<br>AQI=%{x}<br>AQI_20=%{y}<br>size=%{marker.size}<extra></extra>\", \"hovertext\": [\"Rotterdam\"], \"ids\": [\"Netherlands\"], \"legendgroup\": \"Netherlands\", \"marker\": {\"color\": \"#636efa\", \"size\": [1], \"sizemode\": \"area\", \"sizeref\": 0.00033057851239669424, \"symbol\": \"circle\"}, \"mode\": \"markers\", \"name\": \"Netherlands\", \"orientation\": \"v\", \"showlegend\": true, \"x\": [35.75675675675676], \"xaxis\": \"x\", \"y\": [27.885714285714286], \"yaxis\": \"y\", \"type\": \"scatter\"}, {\"hovertemplate\": \"<b>%{hovertext}</b><br><br>Country_name=United States<br>Month=10<br>AQI=%{x}<br>AQI_20=%{y}<br>size=%{marker.size}<extra></extra>\", \"hovertext\": [\"San Francisco\"], \"ids\": [\"United States\"], \"legendgroup\": \"United States\", \"marker\": {\"color\": \"#EF553B\", \"size\": [1], \"sizemode\": \"area\", \"sizeref\": 0.00033057851239669424, \"symbol\": \"circle\"}, \"mode\": \"markers\", \"name\": \"United States\", \"orientation\": \"v\", \"showlegend\": true, \"x\": [37.567567567567565], \"xaxis\": \"x\", \"y\": [50.17142857142857], \"yaxis\": \"y\", \"type\": \"scatter\"}, {\"hovertemplate\": \"<b>%{hovertext}</b><br><br>Country_name=France<br>Month=10<br>AQI=%{x}<br>AQI_20=%{y}<br>size=%{marker.size}<extra></extra>\", \"hovertext\": [\"Paris\"], \"ids\": [\"France\"], \"legendgroup\": \"France\", \"marker\": {\"color\": \"#00cc96\", \"size\": [1], \"sizemode\": \"area\", \"sizeref\": 0.00033057851239669424, \"symbol\": \"circle\"}, \"mode\": \"markers\", \"name\": \"France\", \"orientation\": \"v\", \"showlegend\": true, \"x\": [26.027027027027028], \"xaxis\": \"x\", \"y\": [33.68571428571428], \"yaxis\": \"y\", \"type\": \"scatter\"}, {\"hovertemplate\": \"<b>%{hovertext}</b><br><br>Country_name=Japan<br>Month=10<br>AQI=%{x}<br>AQI_20=%{y}<br>size=%{marker.size}<extra></extra>\", \"hovertext\": [\"Tokyo\"], \"ids\": [\"Japan\"], \"legendgroup\": \"Japan\", \"marker\": {\"color\": \"#ab63fa\", \"size\": [1], \"sizemode\": \"area\", \"sizeref\": 0.00033057851239669424, \"symbol\": \"circle\"}, \"mode\": \"markers\", \"name\": \"Japan\", \"orientation\": \"v\", \"showlegend\": true, \"x\": [32.67567567567568], \"xaxis\": \"x\", \"y\": [34.94285714285714], \"yaxis\": \"y\", \"type\": \"scatter\"}, {\"hovertemplate\": \"<b>%{hovertext}</b><br><br>Country_name=Israel<br>Month=10<br>AQI=%{x}<br>AQI_20=%{y}<br>size=%{marker.size}<extra></extra>\", \"hovertext\": [\"Jerusalem\"], \"ids\": [\"Israel\"], \"legendgroup\": \"Israel\", \"marker\": {\"color\": \"#FFA15A\", \"size\": [1], \"sizemode\": \"area\", \"sizeref\": 0.00033057851239669424, \"symbol\": \"circle\"}, \"mode\": \"markers\", \"name\": \"Israel\", \"orientation\": \"v\", \"showlegend\": true, \"x\": [39.45945945945946], \"xaxis\": \"x\", \"y\": [52.2], \"yaxis\": \"y\", \"type\": \"scatter\"}, {\"hovertemplate\": \"<b>%{hovertext}</b><br><br>Country_name=India<br>Month=10<br>AQI=%{x}<br>AQI_20=%{y}<br>size=%{marker.size}<extra></extra>\", \"hovertext\": [\"Delhi\"], \"ids\": [\"India\"], \"legendgroup\": \"India\", \"marker\": {\"color\": \"#19d3f3\", \"size\": [1], \"sizemode\": \"area\", \"sizeref\": 0.00033057851239669424, \"symbol\": \"circle\"}, \"mode\": \"markers\", \"name\": \"India\", \"orientation\": \"v\", \"showlegend\": true, \"x\": [76.5945945945946], \"xaxis\": \"x\", \"y\": [192.4857142857143], \"yaxis\": \"y\", \"type\": \"scatter\"}, {\"hovertemplate\": \"<b>%{hovertext}</b><br><br>Country_name=Australia<br>Month=10<br>AQI=%{x}<br>AQI_20=%{y}<br>size=%{marker.size}<extra></extra>\", \"hovertext\": [\"Melbourne\"], \"ids\": [\"Australia\"], \"legendgroup\": \"Australia\", \"marker\": {\"color\": \"#FF6692\", \"size\": [1], \"sizemode\": \"area\", \"sizeref\": 0.00033057851239669424, \"symbol\": \"circle\"}, \"mode\": \"markers\", \"name\": \"Australia\", \"orientation\": \"v\", \"showlegend\": true, \"x\": [39.513513513513516], \"xaxis\": \"x\", \"y\": [24.085714285714285], \"yaxis\": \"y\", \"type\": \"scatter\"}, {\"hovertemplate\": \"<b>%{hovertext}</b><br><br>Country_name=Thailand<br>Month=10<br>AQI=%{x}<br>AQI_20=%{y}<br>size=%{marker.size}<extra></extra>\", \"hovertext\": [\"Bangkok\"], \"ids\": [\"Thailand\"], \"legendgroup\": \"Thailand\", \"marker\": {\"color\": \"#B6E880\", \"size\": [1], \"sizemode\": \"area\", \"sizeref\": 0.00033057851239669424, \"symbol\": \"circle\"}, \"mode\": \"markers\", \"name\": \"Thailand\", \"orientation\": \"v\", \"showlegend\": true, \"x\": [22.243243243243242], \"xaxis\": \"x\", \"y\": [60.42857142857143], \"yaxis\": \"y\", \"type\": \"scatter\"}, {\"hovertemplate\": \"<b>%{hovertext}</b><br><br>Country_name=Argentina<br>Month=10<br>AQI=%{x}<br>AQI_20=%{y}<br>size=%{marker.size}<extra></extra>\", \"hovertext\": [\"Buenos Aires\"], \"ids\": [\"Argentina\"], \"legendgroup\": \"Argentina\", \"marker\": {\"color\": \"#FF97FF\", \"size\": [1], \"sizemode\": \"area\", \"sizeref\": 0.00033057851239669424, \"symbol\": \"circle\"}, \"mode\": \"markers\", \"name\": \"Argentina\", \"orientation\": \"v\", \"showlegend\": true, \"x\": [10.489189189189192], \"xaxis\": \"x\", \"y\": [34.5], \"yaxis\": \"y\", \"type\": \"scatter\"}, {\"hovertemplate\": \"<b>%{hovertext}</b><br><br>Country_name=Spain<br>Month=10<br>AQI=%{x}<br>AQI_20=%{y}<br>size=%{marker.size}<extra></extra>\", \"hovertext\": [\"Barcelona\", \"Madrid\"], \"ids\": [\"Spain\", \"Spain\"], \"legendgroup\": \"Spain\", \"marker\": {\"color\": \"#FECB52\", \"size\": [1, 1], \"sizemode\": \"area\", \"sizeref\": 0.00033057851239669424, \"symbol\": \"circle\"}, \"mode\": \"markers\", \"name\": \"Spain\", \"orientation\": \"v\", \"showlegend\": true, \"x\": [29.35135135135135, 59.15625], \"xaxis\": \"x\", \"y\": [21.17142857142857, 32.02857142857143], \"yaxis\": \"y\", \"type\": \"scatter\"}, {\"hovertemplate\": \"<b>%{hovertext}</b><br><br>Country_name=Switzerland<br>Month=10<br>AQI=%{x}<br>AQI_20=%{y}<br>size=%{marker.size}<extra></extra>\", \"hovertext\": [\"Z\\u00fcrich\"], \"ids\": [\"Switzerland\"], \"legendgroup\": \"Switzerland\", \"marker\": {\"color\": \"#636efa\", \"size\": [1], \"sizemode\": \"area\", \"sizeref\": 0.00033057851239669424, \"symbol\": \"circle\"}, \"mode\": \"markers\", \"name\": \"Switzerland\", \"orientation\": \"v\", \"showlegend\": true, \"x\": [31.7027027027027], \"xaxis\": \"x\", \"y\": [12.351428571428569], \"yaxis\": \"y\", \"type\": \"scatter\"}, {\"hovertemplate\": \"<b>%{hovertext}</b><br><br>Country_name=Chile<br>Month=10<br>AQI=%{x}<br>AQI_20=%{y}<br>size=%{marker.size}<extra></extra>\", \"hovertext\": [\"Los \\u00c1ngeles\"], \"ids\": [\"Chile\"], \"legendgroup\": \"Chile\", \"marker\": {\"color\": \"#EF553B\", \"size\": [1], \"sizemode\": \"area\", \"sizeref\": 0.00033057851239669424, \"symbol\": \"circle\"}, \"mode\": \"markers\", \"name\": \"Chile\", \"orientation\": \"v\", \"showlegend\": true, \"x\": [36.78378378378378], \"xaxis\": \"x\", \"y\": [42.74285714285714], \"yaxis\": \"y\", \"type\": \"scatter\"}, {\"hovertemplate\": \"<b>%{hovertext}</b><br><br>Country_name=Germany<br>Month=10<br>AQI=%{x}<br>AQI_20=%{y}<br>size=%{marker.size}<extra></extra>\", \"hovertext\": [\"Berlin\"], \"ids\": [\"Germany\"], \"legendgroup\": \"Germany\", \"marker\": {\"color\": \"#00cc96\", \"size\": [1], \"sizemode\": \"area\", \"sizeref\": 0.00033057851239669424, \"symbol\": \"circle\"}, \"mode\": \"markers\", \"name\": \"Germany\", \"orientation\": \"v\", \"showlegend\": true, \"x\": [176.59459459459458], \"xaxis\": \"x\", \"y\": [35.15151515151515], \"yaxis\": \"y\", \"type\": \"scatter\"}], \"name\": \"10\"}, {\"data\": [{\"hovertemplate\": \"<b>%{hovertext}</b><br><br>Country_name=Netherlands<br>Month=11<br>AQI=%{x}<br>AQI_20=%{y}<br>size=%{marker.size}<extra></extra>\", \"hovertext\": [\"Rotterdam\"], \"ids\": [\"Netherlands\"], \"legendgroup\": \"Netherlands\", \"marker\": {\"color\": \"#636efa\", \"size\": [1], \"sizemode\": \"area\", \"sizeref\": 0.00033057851239669424, \"symbol\": \"circle\"}, \"mode\": \"markers\", \"name\": \"Netherlands\", \"orientation\": \"v\", \"showlegend\": true, \"x\": [253.03333333333333], \"xaxis\": \"x\", \"y\": [49.333333333333336], \"yaxis\": \"y\", \"type\": \"scatter\"}, {\"hovertemplate\": \"<b>%{hovertext}</b><br><br>Country_name=United States<br>Month=11<br>AQI=%{x}<br>AQI_20=%{y}<br>size=%{marker.size}<extra></extra>\", \"hovertext\": [\"San Francisco\"], \"ids\": [\"United States\"], \"legendgroup\": \"United States\", \"marker\": {\"color\": \"#EF553B\", \"size\": [1], \"sizemode\": \"area\", \"sizeref\": 0.00033057851239669424, \"symbol\": \"circle\"}, \"mode\": \"markers\", \"name\": \"United States\", \"orientation\": \"v\", \"showlegend\": true, \"x\": [42.035714285714285], \"xaxis\": \"x\", \"y\": [26.9], \"yaxis\": \"y\", \"type\": \"scatter\"}, {\"hovertemplate\": \"<b>%{hovertext}</b><br><br>Country_name=France<br>Month=11<br>AQI=%{x}<br>AQI_20=%{y}<br>size=%{marker.size}<extra></extra>\", \"hovertext\": [\"Paris\"], \"ids\": [\"France\"], \"legendgroup\": \"France\", \"marker\": {\"color\": \"#00cc96\", \"size\": [1], \"sizemode\": \"area\", \"sizeref\": 0.00033057851239669424, \"symbol\": \"circle\"}, \"mode\": \"markers\", \"name\": \"France\", \"orientation\": \"v\", \"showlegend\": true, \"x\": [38.766666666666666], \"xaxis\": \"x\", \"y\": [54.06666666666667], \"yaxis\": \"y\", \"type\": \"scatter\"}, {\"hovertemplate\": \"<b>%{hovertext}</b><br><br>Country_name=Japan<br>Month=11<br>AQI=%{x}<br>AQI_20=%{y}<br>size=%{marker.size}<extra></extra>\", \"hovertext\": [\"Tokyo\"], \"ids\": [\"Japan\"], \"legendgroup\": \"Japan\", \"marker\": {\"color\": \"#ab63fa\", \"size\": [1], \"sizemode\": \"area\", \"sizeref\": 0.00033057851239669424, \"symbol\": \"circle\"}, \"mode\": \"markers\", \"name\": \"Japan\", \"orientation\": \"v\", \"showlegend\": true, \"x\": [75.88], \"xaxis\": \"x\", \"y\": [41.36666666666667], \"yaxis\": \"y\", \"type\": \"scatter\"}, {\"hovertemplate\": \"<b>%{hovertext}</b><br><br>Country_name=Israel<br>Month=11<br>AQI=%{x}<br>AQI_20=%{y}<br>size=%{marker.size}<extra></extra>\", \"hovertext\": [\"Jerusalem\"], \"ids\": [\"Israel\"], \"legendgroup\": \"Israel\", \"marker\": {\"color\": \"#FFA15A\", \"size\": [1], \"sizemode\": \"area\", \"sizeref\": 0.00033057851239669424, \"symbol\": \"circle\"}, \"mode\": \"markers\", \"name\": \"Israel\", \"orientation\": \"v\", \"showlegend\": true, \"x\": [57.142857142857146], \"xaxis\": \"x\", \"y\": [52.166666666666664], \"yaxis\": \"y\", \"type\": \"scatter\"}, {\"hovertemplate\": \"<b>%{hovertext}</b><br><br>Country_name=India<br>Month=11<br>AQI=%{x}<br>AQI_20=%{y}<br>size=%{marker.size}<extra></extra>\", \"hovertext\": [\"Delhi\"], \"ids\": [\"India\"], \"legendgroup\": \"India\", \"marker\": {\"color\": \"#19d3f3\", \"size\": [1], \"sizemode\": \"area\", \"sizeref\": 0.00033057851239669424, \"symbol\": \"circle\"}, \"mode\": \"markers\", \"name\": \"India\", \"orientation\": \"v\", \"showlegend\": true, \"x\": [24.366666666666667], \"xaxis\": \"x\", \"y\": [259.3333333333333], \"yaxis\": \"y\", \"type\": \"scatter\"}, {\"hovertemplate\": \"<b>%{hovertext}</b><br><br>Country_name=Australia<br>Month=11<br>AQI=%{x}<br>AQI_20=%{y}<br>size=%{marker.size}<extra></extra>\", \"hovertext\": [\"Melbourne\"], \"ids\": [\"Australia\"], \"legendgroup\": \"Australia\", \"marker\": {\"color\": \"#FF6692\", \"size\": [1], \"sizemode\": \"area\", \"sizeref\": 0.00033057851239669424, \"symbol\": \"circle\"}, \"mode\": \"markers\", \"name\": \"Australia\", \"orientation\": \"v\", \"showlegend\": true, \"x\": [41.733333333333334], \"xaxis\": \"x\", \"y\": [26.266666666666666], \"yaxis\": \"y\", \"type\": \"scatter\"}, {\"hovertemplate\": \"<b>%{hovertext}</b><br><br>Country_name=Thailand<br>Month=11<br>AQI=%{x}<br>AQI_20=%{y}<br>size=%{marker.size}<extra></extra>\", \"hovertext\": [\"Bangkok\"], \"ids\": [\"Thailand\"], \"legendgroup\": \"Thailand\", \"marker\": {\"color\": \"#B6E880\", \"size\": [1], \"sizemode\": \"area\", \"sizeref\": 0.00033057851239669424, \"symbol\": \"circle\"}, \"mode\": \"markers\", \"name\": \"Thailand\", \"orientation\": \"v\", \"showlegend\": true, \"x\": [16.566666666666666], \"xaxis\": \"x\", \"y\": [80.1], \"yaxis\": \"y\", \"type\": \"scatter\"}, {\"hovertemplate\": \"<b>%{hovertext}</b><br><br>Country_name=Argentina<br>Month=11<br>AQI=%{x}<br>AQI_20=%{y}<br>size=%{marker.size}<extra></extra>\", \"hovertext\": [\"Buenos Aires\"], \"ids\": [\"Argentina\"], \"legendgroup\": \"Argentina\", \"marker\": {\"color\": \"#FF97FF\", \"size\": [1], \"sizemode\": \"area\", \"sizeref\": 0.00033057851239669424, \"symbol\": \"circle\"}, \"mode\": \"markers\", \"name\": \"Argentina\", \"orientation\": \"v\", \"showlegend\": true, \"x\": [44.86666666666667], \"xaxis\": \"x\", \"y\": [28.366666666666667], \"yaxis\": \"y\", \"type\": \"scatter\"}, {\"hovertemplate\": \"<b>%{hovertext}</b><br><br>Country_name=Spain<br>Month=11<br>AQI=%{x}<br>AQI_20=%{y}<br>size=%{marker.size}<extra></extra>\", \"hovertext\": [\"Madrid\", \"Barcelona\"], \"ids\": [\"Spain\", \"Spain\"], \"legendgroup\": \"Spain\", \"marker\": {\"color\": \"#FECB52\", \"size\": [1, 1], \"sizemode\": \"area\", \"sizeref\": 0.00033057851239669424, \"symbol\": \"circle\"}, \"mode\": \"markers\", \"name\": \"Spain\", \"orientation\": \"v\", \"showlegend\": true, \"x\": [11.963333333333333, 28.6], \"xaxis\": \"x\", \"y\": [51.4, 24.333333333333332], \"yaxis\": \"y\", \"type\": \"scatter\"}, {\"hovertemplate\": \"<b>%{hovertext}</b><br><br>Country_name=Switzerland<br>Month=11<br>AQI=%{x}<br>AQI_20=%{y}<br>size=%{marker.size}<extra></extra>\", \"hovertext\": [\"Z\\u00fcrich\"], \"ids\": [\"Switzerland\"], \"legendgroup\": \"Switzerland\", \"marker\": {\"color\": \"#636efa\", \"size\": [1], \"sizemode\": \"area\", \"sizeref\": 0.00033057851239669424, \"symbol\": \"circle\"}, \"mode\": \"markers\", \"name\": \"Switzerland\", \"orientation\": \"v\", \"showlegend\": true, \"x\": [37.233333333333334], \"xaxis\": \"x\", \"y\": [14.766666666666667], \"yaxis\": \"y\", \"type\": \"scatter\"}, {\"hovertemplate\": \"<b>%{hovertext}</b><br><br>Country_name=Chile<br>Month=11<br>AQI=%{x}<br>AQI_20=%{y}<br>size=%{marker.size}<extra></extra>\", \"hovertext\": [\"Los \\u00c1ngeles\"], \"ids\": [\"Chile\"], \"legendgroup\": \"Chile\", \"marker\": {\"color\": \"#EF553B\", \"size\": [1], \"sizemode\": \"area\", \"sizeref\": 0.00033057851239669424, \"symbol\": \"circle\"}, \"mode\": \"markers\", \"name\": \"Chile\", \"orientation\": \"v\", \"showlegend\": true, \"x\": [89.33333333333333], \"xaxis\": \"x\", \"y\": [33.36666666666667], \"yaxis\": \"y\", \"type\": \"scatter\"}, {\"hovertemplate\": \"<b>%{hovertext}</b><br><br>Country_name=Germany<br>Month=11<br>AQI=%{x}<br>AQI_20=%{y}<br>size=%{marker.size}<extra></extra>\", \"hovertext\": [\"Berlin\"], \"ids\": [\"Germany\"], \"legendgroup\": \"Germany\", \"marker\": {\"color\": \"#00cc96\", \"size\": [1], \"sizemode\": \"area\", \"sizeref\": 0.00033057851239669424, \"symbol\": \"circle\"}, \"mode\": \"markers\", \"name\": \"Germany\", \"orientation\": \"v\", \"showlegend\": true, \"x\": [23.8], \"xaxis\": \"x\", \"y\": [45.3], \"yaxis\": \"y\", \"type\": \"scatter\"}], \"name\": \"11\"}, {\"data\": [{\"hovertemplate\": \"<b>%{hovertext}</b><br><br>Country_name=Netherlands<br>Month=12<br>AQI=%{x}<br>AQI_20=%{y}<br>size=%{marker.size}<extra></extra>\", \"hovertext\": [\"Rotterdam\"], \"ids\": [\"Netherlands\"], \"legendgroup\": \"Netherlands\", \"marker\": {\"color\": \"#636efa\", \"size\": [1], \"sizemode\": \"area\", \"sizeref\": 0.00033057851239669424, \"symbol\": \"circle\"}, \"mode\": \"markers\", \"name\": \"Netherlands\", \"orientation\": \"v\", \"showlegend\": true, \"x\": [41.121212121212125], \"xaxis\": \"x\", \"y\": [40.8], \"yaxis\": \"y\", \"type\": \"scatter\"}, {\"hovertemplate\": \"<b>%{hovertext}</b><br><br>Country_name=United States<br>Month=12<br>AQI=%{x}<br>AQI_20=%{y}<br>size=%{marker.size}<extra></extra>\", \"hovertext\": [\"San Francisco\"], \"ids\": [\"United States\"], \"legendgroup\": \"United States\", \"marker\": {\"color\": \"#EF553B\", \"size\": [1], \"sizemode\": \"area\", \"sizeref\": 0.00033057851239669424, \"symbol\": \"circle\"}, \"mode\": \"markers\", \"name\": \"United States\", \"orientation\": \"v\", \"showlegend\": true, \"x\": [55.0], \"xaxis\": \"x\", \"y\": [34.42857142857143], \"yaxis\": \"y\", \"type\": \"scatter\"}, {\"hovertemplate\": \"<b>%{hovertext}</b><br><br>Country_name=France<br>Month=12<br>AQI=%{x}<br>AQI_20=%{y}<br>size=%{marker.size}<extra></extra>\", \"hovertext\": [\"Paris\"], \"ids\": [\"France\"], \"legendgroup\": \"France\", \"marker\": {\"color\": \"#00cc96\", \"size\": [1], \"sizemode\": \"area\", \"sizeref\": 0.00033057851239669424, \"symbol\": \"circle\"}, \"mode\": \"markers\", \"name\": \"France\", \"orientation\": \"v\", \"showlegend\": true, \"x\": [47.24242424242424], \"xaxis\": \"x\", \"y\": [38.6], \"yaxis\": \"y\", \"type\": \"scatter\"}, {\"hovertemplate\": \"<b>%{hovertext}</b><br><br>Country_name=Japan<br>Month=12<br>AQI=%{x}<br>AQI_20=%{y}<br>size=%{marker.size}<extra></extra>\", \"hovertext\": [\"Tokyo\"], \"ids\": [\"Japan\"], \"legendgroup\": \"Japan\", \"marker\": {\"color\": \"#ab63fa\", \"size\": [1], \"sizemode\": \"area\", \"sizeref\": 0.00033057851239669424, \"symbol\": \"circle\"}, \"mode\": \"markers\", \"name\": \"Japan\", \"orientation\": \"v\", \"showlegend\": true, \"x\": [21.363636363636363], \"xaxis\": \"x\", \"y\": [43.542857142857144], \"yaxis\": \"y\", \"type\": \"scatter\"}, {\"hovertemplate\": \"<b>%{hovertext}</b><br><br>Country_name=Israel<br>Month=12<br>AQI=%{x}<br>AQI_20=%{y}<br>size=%{marker.size}<extra></extra>\", \"hovertext\": [\"Jerusalem\"], \"ids\": [\"Israel\"], \"legendgroup\": \"Israel\", \"marker\": {\"color\": \"#FFA15A\", \"size\": [1], \"sizemode\": \"area\", \"sizeref\": 0.00033057851239669424, \"symbol\": \"circle\"}, \"mode\": \"markers\", \"name\": \"Israel\", \"orientation\": \"v\", \"showlegend\": true, \"x\": [40.27272727272727], \"xaxis\": \"x\", \"y\": [58.74285714285714], \"yaxis\": \"y\", \"type\": \"scatter\"}, {\"hovertemplate\": \"<b>%{hovertext}</b><br><br>Country_name=India<br>Month=12<br>AQI=%{x}<br>AQI_20=%{y}<br>size=%{marker.size}<extra></extra>\", \"hovertext\": [\"Delhi\"], \"ids\": [\"India\"], \"legendgroup\": \"India\", \"marker\": {\"color\": \"#19d3f3\", \"size\": [1], \"sizemode\": \"area\", \"sizeref\": 0.00033057851239669424, \"symbol\": \"circle\"}, \"mode\": \"markers\", \"name\": \"India\", \"orientation\": \"v\", \"showlegend\": true, \"x\": [48.39393939393939], \"xaxis\": \"x\", \"y\": [246.68571428571428], \"yaxis\": \"y\", \"type\": \"scatter\"}, {\"hovertemplate\": \"<b>%{hovertext}</b><br><br>Country_name=Australia<br>Month=12<br>AQI=%{x}<br>AQI_20=%{y}<br>size=%{marker.size}<extra></extra>\", \"hovertext\": [\"Melbourne\"], \"ids\": [\"Australia\"], \"legendgroup\": \"Australia\", \"marker\": {\"color\": \"#FF6692\", \"size\": [1], \"sizemode\": \"area\", \"sizeref\": 0.00033057851239669424, \"symbol\": \"circle\"}, \"mode\": \"markers\", \"name\": \"Australia\", \"orientation\": \"v\", \"showlegend\": true, \"x\": [104.72727272727273], \"xaxis\": \"x\", \"y\": [22.2], \"yaxis\": \"y\", \"type\": \"scatter\"}, {\"hovertemplate\": \"<b>%{hovertext}</b><br><br>Country_name=Thailand<br>Month=12<br>AQI=%{x}<br>AQI_20=%{y}<br>size=%{marker.size}<extra></extra>\", \"hovertext\": [\"Bangkok\"], \"ids\": [\"Thailand\"], \"legendgroup\": \"Thailand\", \"marker\": {\"color\": \"#B6E880\", \"size\": [1], \"sizemode\": \"area\", \"sizeref\": 0.00033057851239669424, \"symbol\": \"circle\"}, \"mode\": \"markers\", \"name\": \"Thailand\", \"orientation\": \"v\", \"showlegend\": true, \"x\": [26.12121212121212], \"xaxis\": \"x\", \"y\": [92.17142857142858], \"yaxis\": \"y\", \"type\": \"scatter\"}, {\"hovertemplate\": \"<b>%{hovertext}</b><br><br>Country_name=Argentina<br>Month=12<br>AQI=%{x}<br>AQI_20=%{y}<br>size=%{marker.size}<extra></extra>\", \"hovertext\": [\"Buenos Aires\"], \"ids\": [\"Argentina\"], \"legendgroup\": \"Argentina\", \"marker\": {\"color\": \"#FF97FF\", \"size\": [1], \"sizemode\": \"area\", \"sizeref\": 0.00033057851239669424, \"symbol\": \"circle\"}, \"mode\": \"markers\", \"name\": \"Argentina\", \"orientation\": \"v\", \"showlegend\": true, \"x\": [40.03030303030303], \"xaxis\": \"x\", \"y\": [32.65714285714286], \"yaxis\": \"y\", \"type\": \"scatter\"}, {\"hovertemplate\": \"<b>%{hovertext}</b><br><br>Country_name=Spain<br>Month=12<br>AQI=%{x}<br>AQI_20=%{y}<br>size=%{marker.size}<extra></extra>\", \"hovertext\": [\"Barcelona\", \"Madrid\"], \"ids\": [\"Spain\", \"Spain\"], \"legendgroup\": \"Spain\", \"marker\": {\"color\": \"#FECB52\", \"size\": [1, 1], \"sizemode\": \"area\", \"sizeref\": 0.00033057851239669424, \"symbol\": \"circle\"}, \"mode\": \"markers\", \"name\": \"Spain\", \"orientation\": \"v\", \"showlegend\": true, \"x\": [12.678787878787878, 55.03225806451613], \"xaxis\": \"x\", \"y\": [17.142857142857142, 31.228571428571428], \"yaxis\": \"y\", \"type\": \"scatter\"}, {\"hovertemplate\": \"<b>%{hovertext}</b><br><br>Country_name=Switzerland<br>Month=12<br>AQI=%{x}<br>AQI_20=%{y}<br>size=%{marker.size}<extra></extra>\", \"hovertext\": [\"Z\\u00fcrich\"], \"ids\": [\"Switzerland\"], \"legendgroup\": \"Switzerland\", \"marker\": {\"color\": \"#636efa\", \"size\": [1], \"sizemode\": \"area\", \"sizeref\": 0.00033057851239669424, \"symbol\": \"circle\"}, \"mode\": \"markers\", \"name\": \"Switzerland\", \"orientation\": \"v\", \"showlegend\": true, \"x\": [31.78787878787879], \"xaxis\": \"x\", \"y\": [12.468571428571428], \"yaxis\": \"y\", \"type\": \"scatter\"}, {\"hovertemplate\": \"<b>%{hovertext}</b><br><br>Country_name=Chile<br>Month=12<br>AQI=%{x}<br>AQI_20=%{y}<br>size=%{marker.size}<extra></extra>\", \"hovertext\": [\"Los \\u00c1ngeles\"], \"ids\": [\"Chile\"], \"legendgroup\": \"Chile\", \"marker\": {\"color\": \"#EF553B\", \"size\": [1], \"sizemode\": \"area\", \"sizeref\": 0.00033057851239669424, \"symbol\": \"circle\"}, \"mode\": \"markers\", \"name\": \"Chile\", \"orientation\": \"v\", \"showlegend\": true, \"x\": [259.93939393939394], \"xaxis\": \"x\", \"y\": [24.97142857142857], \"yaxis\": \"y\", \"type\": \"scatter\"}, {\"hovertemplate\": \"<b>%{hovertext}</b><br><br>Country_name=Germany<br>Month=12<br>AQI=%{x}<br>AQI_20=%{y}<br>size=%{marker.size}<extra></extra>\", \"hovertext\": [\"Berlin\"], \"ids\": [\"Germany\"], \"legendgroup\": \"Germany\", \"marker\": {\"color\": \"#00cc96\", \"size\": [1], \"sizemode\": \"area\", \"sizeref\": 0.00033057851239669424, \"symbol\": \"circle\"}, \"mode\": \"markers\", \"name\": \"Germany\", \"orientation\": \"v\", \"showlegend\": true, \"x\": [37.21875], \"xaxis\": \"x\", \"y\": [58.41379310344828], \"yaxis\": \"y\", \"type\": \"scatter\"}], \"name\": \"12\"}]);\n",
       "                        }).then(function(){\n",
       "                            \n",
       "var gd = document.getElementById('1b444f12-7daf-44f3-8f68-43cca4d4c1cd');\n",
       "var x = new MutationObserver(function (mutations, observer) {{\n",
       "        var display = window.getComputedStyle(gd).display;\n",
       "        if (!display || display === 'none') {{\n",
       "            console.log([gd, 'removed!']);\n",
       "            Plotly.purge(gd);\n",
       "            observer.disconnect();\n",
       "        }}\n",
       "}});\n",
       "\n",
       "// Listen for the removal of the full notebook cells\n",
       "var notebookContainer = gd.closest('#notebook-container');\n",
       "if (notebookContainer) {{\n",
       "    x.observe(notebookContainer, {childList: true});\n",
       "}}\n",
       "\n",
       "// Listen for the clearing of the current output cell\n",
       "var outputEl = gd.closest('.output');\n",
       "if (outputEl) {{\n",
       "    x.observe(outputEl, {childList: true});\n",
       "}}\n",
       "\n",
       "                        })                };                });            </script>        </div>"
      ]
     },
     "metadata": {},
     "output_type": "display_data"
    }
   ],
   "source": [
    "import plotly.express as px\n",
    "\n",
    "fig = px.scatter(df_anim, x='AQI', \\\n",
    "           y='AQI_20', animation_frame=\"Month\", animation_group=\"Country_name\", size=np.full(fill_value=1, shape=df_anim.shape[0]),\n",
    "           color=\"Country_name\", hover_name=\"City\", log_x=False, size_max=55, range_x=[0,500], range_y=[0,500]\n",
    "           )\n",
    "fig.add_shape(type=\"line\",\n",
    "    x0=0, y0=0, x1=500, y1=500,\n",
    "    line=dict(\n",
    "        color=\"MediumPurple\",\n",
    "        width=4,\n",
    "        dash=\"dot\",\n",
    "    )\n",
    ")"
   ]
  },
  {
   "cell_type": "code",
   "execution_count": null,
   "metadata": {},
   "outputs": [],
   "source": [
    "import plotly.express as px\n",
    "df_px = px.data.gapminder()"
   ]
  },
  {
   "cell_type": "code",
   "execution_count": null,
   "metadata": {},
   "outputs": [],
   "source": [
    "df_px.head(9)"
   ]
  },
  {
   "cell_type": "code",
   "execution_count": null,
   "metadata": {},
   "outputs": [],
   "source": [
    "fig = px.scatter(df_px, x=\"gdpPercap\", y=\"lifeExp\", animation_frame=\"year\", animation_group=\"country\",\n",
    "           size=\"pop\", color=\"continent\", hover_name=\"country\",\n",
    "           log_x=True, size_max=55, range_x=[100,100000], range_y=[25,90])\n",
    "\n",
    "fig.add_shape(type=\"line\",\n",
    "    x0=3, y0=30, x1=500000, y1=90,\n",
    "    line=dict(\n",
    "        color=\"MediumPurple\",\n",
    "        width=4,\n",
    "        dash=\"dot\",\n",
    "    )\n",
    ")\n",
    "\n",
    "\n",
    "fig.show()"
   ]
  },
  {
   "cell_type": "code",
   "execution_count": null,
   "metadata": {},
   "outputs": [],
   "source": [
    "import plotly.graph_objects as go\n",
    "\n",
    "fig = go.Figure()\n",
    "\n",
    "# Create scatter trace of text labels\n",
    "fig.add_trace(go.Scatter(\n",
    "    x=[2, 3.5, 6],\n",
    "    y=[1, 1.5, 1],\n",
    "    text=[\"Vertical Line\",\n",
    "          \"Horizontal Dashed Line\",\n",
    "          \"Diagonal dotted Line\"],\n",
    "    mode=\"text\",\n",
    "))\n",
    "\n",
    "fig.update_layout(shapes=[\n",
    "    dict(\n",
    "      type= 'line',\n",
    "      yref= 'paper', y0= 30, y1= 80,\n",
    "      xref= 'x', x0= 3, x1= 500000\n",
    "    )\n",
    "])\n",
    "\n"
   ]
  },
  {
   "cell_type": "code",
   "execution_count": null,
   "metadata": {},
   "outputs": [],
   "source": [
    "df_px"
   ]
  },
  {
   "cell_type": "code",
   "execution_count": null,
   "metadata": {},
   "outputs": [],
   "source": []
  },
  {
   "cell_type": "code",
   "execution_count": null,
   "metadata": {},
   "outputs": [],
   "source": []
  },
  {
   "cell_type": "code",
   "execution_count": null,
   "metadata": {},
   "outputs": [],
   "source": []
  },
  {
   "cell_type": "code",
   "execution_count": null,
   "metadata": {},
   "outputs": [],
   "source": []
  },
  {
   "cell_type": "code",
   "execution_count": null,
   "metadata": {},
   "outputs": [],
   "source": []
  },
  {
   "cell_type": "code",
   "execution_count": null,
   "metadata": {},
   "outputs": [],
   "source": []
  },
  {
   "cell_type": "code",
   "execution_count": null,
   "metadata": {},
   "outputs": [],
   "source": []
  },
  {
   "cell_type": "code",
   "execution_count": null,
   "metadata": {},
   "outputs": [],
   "source": []
  },
  {
   "cell_type": "markdown",
   "metadata": {},
   "source": [
    "Some of the values have std_dev = 0, which means that their initial recorded values during the month were exactly 500. This is unlikely, specially for so2 in a place like Ha Long, which is a World Heritage Site. Let's remove those measurements with zero std_dev to obtain statistically relevant data:"
   ]
  },
  {
   "cell_type": "code",
   "execution_count": null,
   "metadata": {},
   "outputs": [],
   "source": [
    "month_country_AQI_df[(month_country_AQI_df.std_dev > 0) & (month_country_AQI_df['conf_interval_95%'] < month_country_AQI_df.AQI )].sort_values(by='AQI', ascending=False).head(10)"
   ]
  },
  {
   "cell_type": "code",
   "execution_count": 154,
   "metadata": {},
   "outputs": [],
   "source": [
    "def intersect_countries_month(df):\n",
    "    '''f'''\n",
    "    pollutants = df.Pollutant.unique()\n",
    "    sets = [[] for i in range(len(pollutants))]\n",
    "    dct = dict(zip(pollutants, sets))\n",
    "    dct_final = {}\n",
    "\n",
    "    for pollutant in df.Pollutant.unique():\n",
    "        pollutant_df = df[df.Pollutant == pollutant]\n",
    "        for year in pollutant_df.Date.dt.year.unique():\n",
    "            year_df = pollutant_df[pollutant_df.Date.dt.year == year]\n",
    "            for month in year_df.Date.dt.month.unique():\n",
    "                month_df = year_df[year_df.Date.dt.month == month]\n",
    "                countries = set(month_df.Country.unique())\n",
    "                dct[pollutant].append(countries)\n",
    "\n",
    "    for key, value in dct.items():\n",
    "        dct_final[key] = set.intersection(*value)  \n",
    "\n",
    "    return dct_final\n",
    "\n",
    "    "
   ]
  },
  {
   "cell_type": "code",
   "execution_count": 155,
   "metadata": {},
   "outputs": [],
   "source": [
    "cou_all_months = intersect_countries_month(df)"
   ]
  },
  {
   "cell_type": "code",
   "execution_count": 156,
   "metadata": {},
   "outputs": [
    {
     "data": {
      "text/plain": [
       "61"
      ]
     },
     "execution_count": 156,
     "metadata": {},
     "output_type": "execute_result"
    }
   ],
   "source": [
    "len(cou_all_months['pm25'])"
   ]
  },
  {
   "cell_type": "code",
   "execution_count": 157,
   "metadata": {},
   "outputs": [
    {
     "data": {
      "text/plain": [
       "{'AE',\n",
       " 'AR',\n",
       " 'AT',\n",
       " 'AU',\n",
       " 'BA',\n",
       " 'BD',\n",
       " 'BE',\n",
       " 'BH',\n",
       " 'BR',\n",
       " 'CA',\n",
       " 'CH',\n",
       " 'CL',\n",
       " 'CN',\n",
       " 'CO',\n",
       " 'CY',\n",
       " 'DE',\n",
       " 'EC',\n",
       " 'EE',\n",
       " 'ES',\n",
       " 'FI',\n",
       " 'FR',\n",
       " 'GB',\n",
       " 'HK',\n",
       " 'HR',\n",
       " 'HU',\n",
       " 'ID',\n",
       " 'IE',\n",
       " 'IL',\n",
       " 'IN',\n",
       " 'IR',\n",
       " 'IT',\n",
       " 'JP',\n",
       " 'KR',\n",
       " 'KW',\n",
       " 'KZ',\n",
       " 'LK',\n",
       " 'LT',\n",
       " 'MK',\n",
       " 'MN',\n",
       " 'MX',\n",
       " 'NL',\n",
       " 'NO',\n",
       " 'NP',\n",
       " 'NZ',\n",
       " 'PE',\n",
       " 'PL',\n",
       " 'PT',\n",
       " 'RE',\n",
       " 'RS',\n",
       " 'RU',\n",
       " 'SE',\n",
       " 'SG',\n",
       " 'SK',\n",
       " 'SV',\n",
       " 'TH',\n",
       " 'TR',\n",
       " 'TW',\n",
       " 'US',\n",
       " 'VN',\n",
       " 'XK',\n",
       " 'ZA'}"
      ]
     },
     "execution_count": 157,
     "metadata": {},
     "output_type": "execute_result"
    }
   ],
   "source": [
    "cou_all_months['pm25']"
   ]
  },
  {
   "cell_type": "code",
   "execution_count": null,
   "metadata": {},
   "outputs": [],
   "source": []
  }
 ],
 "metadata": {
  "kernelspec": {
   "display_name": "Python 3",
   "language": "python",
   "name": "python3"
  },
  "language_info": {
   "codemirror_mode": {
    "name": "ipython",
    "version": 3
   },
   "file_extension": ".py",
   "mimetype": "text/x-python",
   "name": "python",
   "nbconvert_exporter": "python",
   "pygments_lexer": "ipython3",
   "version": "3.8.5"
  }
 },
 "nbformat": 4,
 "nbformat_minor": 4
}
