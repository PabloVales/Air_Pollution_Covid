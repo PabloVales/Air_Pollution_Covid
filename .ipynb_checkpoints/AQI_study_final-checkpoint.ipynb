{
 "cells": [
  {
   "cell_type": "markdown",
   "metadata": {},
   "source": [
    "# AIR POLLUTION AND HOW COVID WAS GOOD FOR OUR LUNGS"
   ]
  },
  {
   "cell_type": "code",
   "execution_count": 7,
   "metadata": {},
   "outputs": [],
   "source": [
    "#Import necessary libraries\n",
    "\n",
    "import os\n",
    "import re\n",
    "import requests\n",
    "import pandas as pd\n",
    "import numpy as np\n",
    "import matplotlib.pyplot as plt\n",
    "import seaborn as sns\n",
    "from scipy import stats\n",
    "import math\n",
    "from datetime import datetime"
   ]
  },
  {
   "cell_type": "markdown",
   "metadata": {
    "tags": []
   },
   "source": [
    "### Table of Contents\n",
    "\n",
    "* [Objective/Business Understanding](#objective)\n",
    "* [Data Gathering and understanding](#data_gather)\n",
    "* [Data Preparation](#data_prep)\n",
    "    * [Data Cleaning](#data_cleaning)\n",
    "    * [Join with external \"Country name\" dataset](#join)\n",
    "* [Evaluation](#evaluation)\n",
    "    * [How much the air quality varied during the year 2020 relative to 2019 in Spain? Which pollutant underwent the largest variation?](#first_question)\n",
    "    * [How was the monthly evolution across the whole year of 2020](#second_question)\n",
    "    * [How did the air quality changed in the Spanish cities?](#third_question)\n",
    "* [Chapter 2](#chapter2)\n",
    "    * [Section 2.1](#section_2_1)\n",
    "    * [Section 2.2](#section_2_2)"
   ]
  },
  {
   "cell_type": "markdown",
   "metadata": {},
   "source": [
    "# Objective/Business understanding <a class='anchor' id='objective'>\n",
    "\n",
    "Air pollution is one the main risk factors to develop diseases. The Covid pandemic has given us with an extraordinary situation to study how fast and how much the air pollution would decrease given a set of health security measures. This data can be useful and provides us some understanding for future specific measures to decrease the air pollution in the cities. Has Covid benefitted us in this regard? For this we will be analyzing Spain, as it was one of the most strict countries in terms of health security measures that spanned throughout the whole year of 2020 with a full (and mandatory) confinement of 3 months from March 15th to June 21st.\n",
    "\n",
    "We will be answering three different questions:\n",
    "\n",
    "1. Evaluate how much the air quality varied during the year 2020 relative to 2019 in Spain and which pollutant underwent the largest variation\n",
    "2. How was the monthly evolution of air pollution across the whole year of 2020\n",
    "3. What cities showed the largest pollution decrease in 2020\n",
    "    \n"
   ]
  },
  {
   "cell_type": "markdown",
   "metadata": {},
   "source": [
    "# Data Gathering and understanding <a class='anchor' id='data_gather'>"
   ]
  },
  {
   "cell_type": "markdown",
   "metadata": {},
   "source": [
    "To be able to answer the previous questions we will need air quality data from the main city centers in Spain. The time resolution for this measurements needs to be either hourly or daily. Since we will be looking, at most, at a monthly temporal resolution, daily data is suitable for this study. \n",
    "\n",
    "The data will be extracted from the www.aqi.cn webpage, specifically from: https://aqicn.org/data-platform/covid19/report where they provide a curated dataset with daily data across 94 countries and more than 600 cities. It can be downloaded manually from the previous link or with the use of the get_aqi_data() function below:"
   ]
  },
  {
   "cell_type": "code",
   "execution_count": 8,
   "metadata": {},
   "outputs": [],
   "source": [
    "def get_aqi_data():\n",
    "    \n",
    "    '''Gets all the daily AQI data from https://aqicn.org/data-platform/covid19/report from 2019 to 2020.\n",
    "    INPUT: None\n",
    "    OUTPUT: A dictionary with all the dataframes where key:value pairs correspond to year:dataframe. It also creates csv files for all of them in\n",
    "    the current folder'''\n",
    "\n",
    "    \n",
    "    strs = 'https://aqicn.org/data-platform/covid19/report/22408-10ad85dd/'\n",
    "    CSV_URLS = 'https://aqicn.org/data-platform/covid19/report/22408-10ad85dd/'\n",
    "    \n",
    "    #Uncomment the following line to download data from 2015 to 2020\n",
    "    #time_periods = ['2020Q1', '2020Q2', '2020Q3', '2020Q4', '2019Q1', '2019Q2', '2019Q3', '2019Q4', '2018H1', '2017H1', '2016H1', '2015H1'] \n",
    "    \n",
    "    time_periods = ['2020Q1', '2020Q2', '2020Q3', '2020Q4', '2019Q1', '2019Q2', '2019Q3', '2019Q4']\n",
    "\n",
    "    dic = {}\n",
    "    for period in time_periods:\n",
    "        print(period)\n",
    "    \n",
    "        response = requests.get(CSV_URLS + period)\n",
    "        string_data = response.content.decode('utf-8')\n",
    "        list_data = [row.split(',') for row in string_data.split('\\n')]\n",
    "        # Remove header\n",
    "        del list_data[:4]\n",
    "    \n",
    "        columns = list_data[0]\n",
    "        values = list_data[1:]\n",
    "    \n",
    "        dic[period] = pd.DataFrame(values, columns=columns)\n",
    "        \n",
    "    for name, df in dic.items():\n",
    "        df.to_csv('./'+name+'.csv')\n",
    "    \n",
    "    return dic\n",
    "\n"
   ]
  },
  {
   "cell_type": "code",
   "execution_count": 9,
   "metadata": {},
   "outputs": [
    {
     "name": "stdout",
     "output_type": "stream",
     "text": [
      "2020Q1\n",
      "2020Q2\n",
      "2020Q3\n",
      "2020Q4\n",
      "2019Q1\n",
      "2019Q2\n",
      "2019Q3\n",
      "2019Q4\n"
     ]
    }
   ],
   "source": [
    "dct = get_aqi_data()\n",
    "\n",
    "#Save data to csv files\n",
    "for name, df in dct.items():\n",
    "    df.to_csv('./'+name+'.csv')"
   ]
  },
  {
   "cell_type": "markdown",
   "metadata": {},
   "source": [
    "# Data Preparation <a class='anchor' id='data_prep'>"
   ]
  },
  {
   "cell_type": "markdown",
   "metadata": {},
   "source": [
    "## File grouping and concatenation of DataFrames <a class='anchor' id='concatenation'>"
   ]
  },
  {
   "cell_type": "markdown",
   "metadata": {},
   "source": [
    "As we can see, the data for 2019 and 2020 is split into 4 different for each year when downloaded from the source. Ideally, we want all the data in a single dataframe for further processing: "
   ]
  },
  {
   "cell_type": "code",
   "execution_count": 10,
   "metadata": {},
   "outputs": [],
   "source": [
    "def concatenate_per_year(year):\n",
    "    '''Helper function: Puts together the csv files for a single year in one DataFrame\n",
    "    INPUT: int year to group\n",
    "    OUTPUT: pd.DataFrame'''\n",
    "    files_in_folder = [file for file in os.listdir() if os.path.isfile(os.path.join(os.getcwd(),file))]\n",
    "                                  \n",
    "    df = pd.DataFrame()\n",
    "    for file in files_in_folder:\n",
    "        if re.search('^{}'.format(str(year)), string=file):\n",
    "            temp_df = pd.read_csv(file)\n",
    "            df = pd.concat([df, temp_df])\n",
    "    return df\n",
    "\n",
    "def concatenate_all_years(years):\n",
    "    '''Creates a single dataframe with the data across all years contained in years\n",
    "    INPUT: list of ints years to concatenate\n",
    "    OUTPUT: pd.DataFrame with the data for all years'''\n",
    "    df = pd.DataFrame()\n",
    "    for year in years:\n",
    "            df = pd.concat([df, concatenate_per_year(year)])\n",
    "    return df\n",
    "        \n",
    "            "
   ]
  },
  {
   "cell_type": "code",
   "execution_count": 11,
   "metadata": {},
   "outputs": [
    {
     "data": {
      "text/html": [
       "<div>\n",
       "<style scoped>\n",
       "    .dataframe tbody tr th:only-of-type {\n",
       "        vertical-align: middle;\n",
       "    }\n",
       "\n",
       "    .dataframe tbody tr th {\n",
       "        vertical-align: top;\n",
       "    }\n",
       "\n",
       "    .dataframe thead th {\n",
       "        text-align: right;\n",
       "    }\n",
       "</style>\n",
       "<table border=\"1\" class=\"dataframe\">\n",
       "  <thead>\n",
       "    <tr style=\"text-align: right;\">\n",
       "      <th></th>\n",
       "      <th>Date</th>\n",
       "      <th>Country</th>\n",
       "      <th>City</th>\n",
       "      <th>Specie</th>\n",
       "      <th>count</th>\n",
       "      <th>min</th>\n",
       "      <th>max</th>\n",
       "      <th>median</th>\n",
       "      <th>variance</th>\n",
       "    </tr>\n",
       "  </thead>\n",
       "  <tbody>\n",
       "    <tr>\n",
       "      <th>0</th>\n",
       "      <td>2019-01-16</td>\n",
       "      <td>AE</td>\n",
       "      <td>Abu Dhabi</td>\n",
       "      <td>pm10</td>\n",
       "      <td>24.0</td>\n",
       "      <td>86.0</td>\n",
       "      <td>99.0</td>\n",
       "      <td>97.0</td>\n",
       "      <td>179.40</td>\n",
       "    </tr>\n",
       "    <tr>\n",
       "      <th>1</th>\n",
       "      <td>2019-01-22</td>\n",
       "      <td>AE</td>\n",
       "      <td>Abu Dhabi</td>\n",
       "      <td>pm10</td>\n",
       "      <td>24.0</td>\n",
       "      <td>51.0</td>\n",
       "      <td>57.0</td>\n",
       "      <td>55.0</td>\n",
       "      <td>23.75</td>\n",
       "    </tr>\n",
       "    <tr>\n",
       "      <th>2</th>\n",
       "      <td>2019-01-26</td>\n",
       "      <td>AE</td>\n",
       "      <td>Abu Dhabi</td>\n",
       "      <td>pm10</td>\n",
       "      <td>24.0</td>\n",
       "      <td>136.0</td>\n",
       "      <td>173.0</td>\n",
       "      <td>160.0</td>\n",
       "      <td>941.96</td>\n",
       "    </tr>\n",
       "    <tr>\n",
       "      <th>3</th>\n",
       "      <td>2019-01-07</td>\n",
       "      <td>AE</td>\n",
       "      <td>Abu Dhabi</td>\n",
       "      <td>pm10</td>\n",
       "      <td>24.0</td>\n",
       "      <td>60.0</td>\n",
       "      <td>91.0</td>\n",
       "      <td>72.0</td>\n",
       "      <td>1006.88</td>\n",
       "    </tr>\n",
       "    <tr>\n",
       "      <th>4</th>\n",
       "      <td>2019-01-10</td>\n",
       "      <td>AE</td>\n",
       "      <td>Abu Dhabi</td>\n",
       "      <td>pm10</td>\n",
       "      <td>24.0</td>\n",
       "      <td>82.0</td>\n",
       "      <td>93.0</td>\n",
       "      <td>87.0</td>\n",
       "      <td>57.97</td>\n",
       "    </tr>\n",
       "  </tbody>\n",
       "</table>\n",
       "</div>"
      ],
      "text/plain": [
       "         Date Country       City Specie  count    min    max  median  variance\n",
       "0  2019-01-16      AE  Abu Dhabi   pm10   24.0   86.0   99.0    97.0    179.40\n",
       "1  2019-01-22      AE  Abu Dhabi   pm10   24.0   51.0   57.0    55.0     23.75\n",
       "2  2019-01-26      AE  Abu Dhabi   pm10   24.0  136.0  173.0   160.0    941.96\n",
       "3  2019-01-07      AE  Abu Dhabi   pm10   24.0   60.0   91.0    72.0   1006.88\n",
       "4  2019-01-10      AE  Abu Dhabi   pm10   24.0   82.0   93.0    87.0     57.97"
      ]
     },
     "execution_count": 11,
     "metadata": {},
     "output_type": "execute_result"
    }
   ],
   "source": [
    "# Put all the downloaded data together in a single dataframe \"df\"\n",
    "df = concatenate_all_years([2019,2020])\n",
    "# Drop useless columns from the concatenation process\n",
    "df = df.reset_index().drop(['index', 'Unnamed: 0'], axis=1)\n",
    "df.head()"
   ]
  },
  {
   "cell_type": "code",
   "execution_count": 12,
   "metadata": {},
   "outputs": [
    {
     "name": "stdout",
     "output_type": "stream",
     "text": [
      "Number of cities in the dataset: 617 | Number of countries in the dataset: 96\n"
     ]
    }
   ],
   "source": [
    "print('Number of cities in the dataset: {} | Number of countries in the dataset: {}'.format(df.City.unique().size, df.Country.unique().size))"
   ]
  },
  {
   "cell_type": "code",
   "execution_count": 13,
   "metadata": {},
   "outputs": [
    {
     "data": {
      "text/plain": [
       "(4502035, 9)"
      ]
     },
     "execution_count": 13,
     "metadata": {},
     "output_type": "execute_result"
    }
   ],
   "source": [
    "df.shape"
   ]
  },
  {
   "cell_type": "markdown",
   "metadata": {},
   "source": [
    "## Data Cleaning <a class='anchor' id='data_cleaning'>"
   ]
  },
  {
   "cell_type": "markdown",
   "metadata": {},
   "source": [
    "Note that in this dataset the value reported for the air quality is the sample median. This magnitude is statistically sound to report air pollution in a particula **day** as it can vary very rapidly along the day and whose distribution might be highly skewed. We will not be using the \"variance\" in the dataset, because it is defined as the variance of the raw data (https://aqicn.org/data-platform/covid19/), rather than the variance of the distribution of the median (which will be the quantity we will use). Note that the raw data is not provided, only the calculated median. For statistical analysis we will be using the natural spread of data. "
   ]
  },
  {
   "cell_type": "code",
   "execution_count": 14,
   "metadata": {},
   "outputs": [],
   "source": [
    "df.drop(['variance', 'min', 'max'], axis=1, inplace=True)"
   ]
  },
  {
   "cell_type": "markdown",
   "metadata": {},
   "source": [
    "Moreover, as we can see in the following cell, in the \"Specie\" column we not only have the AQI for pollutant species, but also other magnitudes like weather properties during the day. These parameters will not be used in this study as we will focus solely on relative changes of the air pollution levels between 2019 and 2020. "
   ]
  },
  {
   "cell_type": "code",
   "execution_count": 15,
   "metadata": {},
   "outputs": [
    {
     "data": {
      "text/plain": [
       "array(['pm10', 'humidity', 'o3', 'so2', 'wind-speed', 'wind-gust', 'dew',\n",
       "       'pm25', 'no2', 'pressure', 'temperature', 'precipitation', 'co',\n",
       "       'wd', 'uvi', 'aqi', 'pm1', 'mepaqi', 'pol', nan, 'wind speed',\n",
       "       'wind gust', 'neph'], dtype=object)"
      ]
     },
     "execution_count": 15,
     "metadata": {},
     "output_type": "execute_result"
    }
   ],
   "source": [
    "df.Specie.unique()"
   ]
  },
  {
   "cell_type": "markdown",
   "metadata": {},
   "source": [
    "We will study nitrogen dioxide (NO$_2$), which is the main byproduct of vehicle traffic, together with sulfur dioxide (SO$_2$), air particle of less than 10 microns (PM$_{10}$) and less than 2.5 microns (PM$_{25}$) which are also main pollutants coming from oil combustion i.e industries and vehicles.\n",
    "\n",
    "Thus, let's filter those pollutant species from our dataframe:"
   ]
  },
  {
   "cell_type": "code",
   "execution_count": 16,
   "metadata": {},
   "outputs": [],
   "source": [
    "pollutants = ['pm10', 'so2', 'no2', 'pm25']\n",
    "df_whole = df.copy(deep=True)\n",
    "df = df[df.Specie.isin(pollutants)]"
   ]
  },
  {
   "cell_type": "code",
   "execution_count": 17,
   "metadata": {},
   "outputs": [
    {
     "data": {
      "text/plain": [
       "(array(['pm10', 'so2', 'pm25', 'no2'], dtype=object), (1426275, 6))"
      ]
     },
     "execution_count": 17,
     "metadata": {},
     "output_type": "execute_result"
    }
   ],
   "source": [
    "df.Specie.unique(), df.shape"
   ]
  },
  {
   "cell_type": "markdown",
   "metadata": {},
   "source": [
    "Now we have all data (almost 1.5 million points) from 2019-2020 in one DataFrame corresponding to the different air pollutants.\n",
    "\n",
    "Do we have missing values?:"
   ]
  },
  {
   "cell_type": "code",
   "execution_count": 18,
   "metadata": {},
   "outputs": [
    {
     "data": {
      "text/plain": [
       "Date       0\n",
       "Country    0\n",
       "City       0\n",
       "Specie     0\n",
       "count      0\n",
       "median     0\n",
       "dtype: int64"
      ]
     },
     "execution_count": 18,
     "metadata": {},
     "output_type": "execute_result"
    }
   ],
   "source": [
    "df.isna().sum()"
   ]
  },
  {
   "cell_type": "markdown",
   "metadata": {},
   "source": [
    "Let's check now what datatypes we have in our table:"
   ]
  },
  {
   "cell_type": "code",
   "execution_count": 19,
   "metadata": {},
   "outputs": [
    {
     "name": "stdout",
     "output_type": "stream",
     "text": [
      "<class 'pandas.core.frame.DataFrame'>\n",
      "Int64Index: 1426275 entries, 0 to 4501349\n",
      "Data columns (total 6 columns):\n",
      " #   Column   Non-Null Count    Dtype  \n",
      "---  ------   --------------    -----  \n",
      " 0   Date     1426275 non-null  object \n",
      " 1   Country  1426275 non-null  object \n",
      " 2   City     1426275 non-null  object \n",
      " 3   Specie   1426275 non-null  object \n",
      " 4   count    1426275 non-null  float64\n",
      " 5   median   1426275 non-null  float64\n",
      "dtypes: float64(2), object(4)\n",
      "memory usage: 76.2+ MB\n"
     ]
    }
   ],
   "source": [
    "df.info()"
   ]
  },
  {
   "cell_type": "markdown",
   "metadata": {},
   "source": [
    "Everything looks good except the date, which we want to parse to obtain a datetime object"
   ]
  },
  {
   "cell_type": "code",
   "execution_count": 20,
   "metadata": {},
   "outputs": [],
   "source": [
    "df.Date = pd.to_datetime(df.Date, format='%Y-%m-%d')"
   ]
  },
  {
   "cell_type": "code",
   "execution_count": 21,
   "metadata": {},
   "outputs": [
    {
     "name": "stdout",
     "output_type": "stream",
     "text": [
      "<class 'pandas.core.frame.DataFrame'>\n",
      "Int64Index: 1426275 entries, 0 to 4501349\n",
      "Data columns (total 6 columns):\n",
      " #   Column   Non-Null Count    Dtype         \n",
      "---  ------   --------------    -----         \n",
      " 0   Date     1426275 non-null  datetime64[ns]\n",
      " 1   Country  1426275 non-null  object        \n",
      " 2   City     1426275 non-null  object        \n",
      " 3   Specie   1426275 non-null  object        \n",
      " 4   count    1426275 non-null  float64       \n",
      " 5   median   1426275 non-null  float64       \n",
      "dtypes: datetime64[ns](1), float64(2), object(3)\n",
      "memory usage: 76.2+ MB\n"
     ]
    }
   ],
   "source": [
    "df.info()"
   ]
  },
  {
   "cell_type": "code",
   "execution_count": 22,
   "metadata": {},
   "outputs": [
    {
     "data": {
      "text/plain": [
       "array([2018, 2019, 2020, 2021], dtype=int64)"
      ]
     },
     "execution_count": 22,
     "metadata": {},
     "output_type": "execute_result"
    }
   ],
   "source": [
    "np.sort(df.Date.dt.year.unique())"
   ]
  },
  {
   "cell_type": "markdown",
   "metadata": {},
   "source": [
    "We have data from 2018 and 2021 even though we only downloaded the 2019-2020 time-span"
   ]
  },
  {
   "cell_type": "code",
   "execution_count": 23,
   "metadata": {},
   "outputs": [
    {
     "name": "stdout",
     "output_type": "stream",
     "text": [
      "Date of data from 2018: ['2018-12-31T00:00:00.000000000']. Date of data from 2021: ['2021-01-02T00:00:00.000000000' '2021-01-01T00:00:00.000000000'\n",
      " '2021-01-03T00:00:00.000000000']\n"
     ]
    }
   ],
   "source": [
    "print('Date of data from 2018: {}. Date of data from 2021: {}'.format(df[df.Date.dt.year == 2018].Date.unique(), df[df.Date.dt.year == 2021].Date.unique()))"
   ]
  },
  {
   "cell_type": "markdown",
   "metadata": {},
   "source": [
    "But we only have data for December 31$^{st}$ for 2018 and the first 3 days of January, 2021. Since these values won't give us any relevant information for our study let's drop those rows:"
   ]
  },
  {
   "cell_type": "code",
   "execution_count": 24,
   "metadata": {},
   "outputs": [],
   "source": [
    "df = df[(df.Date.dt.year > 2018) & (df.Date.dt.year < 2021)]"
   ]
  },
  {
   "cell_type": "markdown",
   "metadata": {},
   "source": [
    "## Join with external \"Country name\" dataset <a class='anchor' id='join'>"
   ]
  },
  {
   "cell_type": "markdown",
   "metadata": {},
   "source": [
    "Although in this work we will only analyze Spain, for further work it may be useful to include all country names in the dataset apart from their 2-letter code. Although useful for simplicity, the latter renders the data a bit cryptic. The country name dataset was extracted from datahub.io in the following link: https://datahub.io/core/country-list"
   ]
  },
  {
   "cell_type": "code",
   "execution_count": 25,
   "metadata": {},
   "outputs": [
    {
     "data": {
      "text/html": [
       "<div>\n",
       "<style scoped>\n",
       "    .dataframe tbody tr th:only-of-type {\n",
       "        vertical-align: middle;\n",
       "    }\n",
       "\n",
       "    .dataframe tbody tr th {\n",
       "        vertical-align: top;\n",
       "    }\n",
       "\n",
       "    .dataframe thead th {\n",
       "        text-align: right;\n",
       "    }\n",
       "</style>\n",
       "<table border=\"1\" class=\"dataframe\">\n",
       "  <thead>\n",
       "    <tr style=\"text-align: right;\">\n",
       "      <th></th>\n",
       "      <th>Name</th>\n",
       "      <th>Code</th>\n",
       "    </tr>\n",
       "  </thead>\n",
       "  <tbody>\n",
       "    <tr>\n",
       "      <th>0</th>\n",
       "      <td>Afghanistan</td>\n",
       "      <td>AF</td>\n",
       "    </tr>\n",
       "    <tr>\n",
       "      <th>1</th>\n",
       "      <td>Ã…land Islands</td>\n",
       "      <td>AX</td>\n",
       "    </tr>\n",
       "    <tr>\n",
       "      <th>2</th>\n",
       "      <td>Albania</td>\n",
       "      <td>AL</td>\n",
       "    </tr>\n",
       "    <tr>\n",
       "      <th>3</th>\n",
       "      <td>Algeria</td>\n",
       "      <td>DZ</td>\n",
       "    </tr>\n",
       "    <tr>\n",
       "      <th>4</th>\n",
       "      <td>American Samoa</td>\n",
       "      <td>AS</td>\n",
       "    </tr>\n",
       "    <tr>\n",
       "      <th>...</th>\n",
       "      <td>...</td>\n",
       "      <td>...</td>\n",
       "    </tr>\n",
       "    <tr>\n",
       "      <th>244</th>\n",
       "      <td>Wallis and Futuna</td>\n",
       "      <td>WF</td>\n",
       "    </tr>\n",
       "    <tr>\n",
       "      <th>245</th>\n",
       "      <td>Western Sahara</td>\n",
       "      <td>EH</td>\n",
       "    </tr>\n",
       "    <tr>\n",
       "      <th>246</th>\n",
       "      <td>Yemen</td>\n",
       "      <td>YE</td>\n",
       "    </tr>\n",
       "    <tr>\n",
       "      <th>247</th>\n",
       "      <td>Zambia</td>\n",
       "      <td>ZM</td>\n",
       "    </tr>\n",
       "    <tr>\n",
       "      <th>248</th>\n",
       "      <td>Zimbabwe</td>\n",
       "      <td>ZW</td>\n",
       "    </tr>\n",
       "  </tbody>\n",
       "</table>\n",
       "<p>249 rows × 2 columns</p>\n",
       "</div>"
      ],
      "text/plain": [
       "                  Name Code\n",
       "0          Afghanistan   AF\n",
       "1       Ã…land Islands   AX\n",
       "2              Albania   AL\n",
       "3              Algeria   DZ\n",
       "4       American Samoa   AS\n",
       "..                 ...  ...\n",
       "244  Wallis and Futuna   WF\n",
       "245     Western Sahara   EH\n",
       "246              Yemen   YE\n",
       "247             Zambia   ZM\n",
       "248           Zimbabwe   ZW\n",
       "\n",
       "[249 rows x 2 columns]"
      ]
     },
     "execution_count": 25,
     "metadata": {},
     "output_type": "execute_result"
    }
   ],
   "source": [
    "# Read the data from the csv file\n",
    "country_name = pd.read_csv('.\\country_codes.txt')\n",
    "country_name"
   ]
  },
  {
   "cell_type": "code",
   "execution_count": 26,
   "metadata": {},
   "outputs": [
    {
     "data": {
      "text/plain": [
       "Name    object\n",
       "Code    object\n",
       "dtype: object"
      ]
     },
     "execution_count": 26,
     "metadata": {},
     "output_type": "execute_result"
    }
   ],
   "source": [
    "country_name.dtypes"
   ]
  },
  {
   "cell_type": "markdown",
   "metadata": {},
   "source": [
    "Are there any missing values in this dataset?"
   ]
  },
  {
   "cell_type": "code",
   "execution_count": 27,
   "metadata": {},
   "outputs": [
    {
     "data": {
      "text/plain": [
       "Name    0\n",
       "Code    1\n",
       "dtype: int64"
      ]
     },
     "execution_count": 27,
     "metadata": {},
     "output_type": "execute_result"
    }
   ],
   "source": [
    "country_name.isna().sum()"
   ]
  },
  {
   "cell_type": "markdown",
   "metadata": {},
   "source": [
    "There is a missing value in the country_name dataframe in the \"Code\" column. What country is it?"
   ]
  },
  {
   "cell_type": "code",
   "execution_count": 28,
   "metadata": {},
   "outputs": [
    {
     "data": {
      "text/plain": [
       "Name    Namibia\n",
       "Code        NaN\n",
       "Name: 153, dtype: object"
      ]
     },
     "execution_count": 28,
     "metadata": {},
     "output_type": "execute_result"
    }
   ],
   "source": [
    "country_name.loc[country_name[country_name.Code.isna()].index[0], :]"
   ]
  },
  {
   "cell_type": "markdown",
   "metadata": {},
   "source": [
    "Is it in our df dataframe? The 2-letter code for Namibia is 'NA'"
   ]
  },
  {
   "cell_type": "code",
   "execution_count": 29,
   "metadata": {},
   "outputs": [
    {
     "data": {
      "text/plain": [
       "(0, 6)"
      ]
     },
     "execution_count": 29,
     "metadata": {},
     "output_type": "execute_result"
    }
   ],
   "source": [
    "df[df.Country == 'NA'].shape"
   ]
  },
  {
   "cell_type": "markdown",
   "metadata": {},
   "source": [
    "Since this country is not in our air pollution dataset then we will not need it and we can safely remove it from country_name:"
   ]
  },
  {
   "cell_type": "code",
   "execution_count": 30,
   "metadata": {},
   "outputs": [
    {
     "data": {
      "text/plain": [
       "(248, 2)"
      ]
     },
     "execution_count": 30,
     "metadata": {},
     "output_type": "execute_result"
    }
   ],
   "source": [
    "country_name.dropna(inplace=True)\n",
    "country_name.shape"
   ]
  },
  {
   "cell_type": "markdown",
   "metadata": {},
   "source": [
    "Now we need to check that every country code in our air pollution dataset is present in the country_name dataframe. "
   ]
  },
  {
   "cell_type": "code",
   "execution_count": 31,
   "metadata": {},
   "outputs": [],
   "source": [
    "def check_contents(arr1, arr2):\n",
    "    '''Checks if all elements in arr1 are contained in arr2\n",
    "    INPUT: arr1, arr2 arrays with the elements to compare\n",
    "    OUTPUT: boolean array with the length of arr1. If True then the element in arr1 is in arr2. If False, it is not present'''\n",
    "    \n",
    "    bool_arr = np.array([])\n",
    "    for country in arr1:\n",
    "        boolean = country in arr2\n",
    "        bool_arr = np.append(bool_arr, boolean)\n",
    "\n",
    "    if bool_arr.all():\n",
    "        print('All elements in array 1 are in array 2')\n",
    "    else: \n",
    "        missing = len(bool_arr) - bool_arr.sum()\n",
    "        print('There are {} elements of array 1 missing in array 2'.format(int(missing)))\n",
    "        \n",
    "    return bool_arr\n",
    "    "
   ]
  },
  {
   "cell_type": "code",
   "execution_count": 32,
   "metadata": {},
   "outputs": [
    {
     "name": "stdout",
     "output_type": "stream",
     "text": [
      "There are 1 elements of array 1 missing in array 2\n"
     ]
    }
   ],
   "source": [
    "air_pollution_countries = df.Country.unique()\n",
    "country_name_countries = country_name.Code.unique()\n",
    "\n",
    "bool_arr_1 = check_contents(air_pollution_countries, country_name_countries)"
   ]
  },
  {
   "cell_type": "markdown",
   "metadata": {},
   "source": [
    "Which one is not present in country_names?"
   ]
  },
  {
   "cell_type": "code",
   "execution_count": 33,
   "metadata": {},
   "outputs": [
    {
     "data": {
      "text/plain": [
       "array(['XK'], dtype=object)"
      ]
     },
     "execution_count": 33,
     "metadata": {},
     "output_type": "execute_result"
    }
   ],
   "source": [
    "df.Country.unique()[bool_arr_1 == False]"
   ]
  },
  {
   "cell_type": "markdown",
   "metadata": {},
   "source": [
    "'XK' corresponds to Kosovo. As this country is not contained in the country_name dataset, let's include it manually."
   ]
  },
  {
   "cell_type": "code",
   "execution_count": 34,
   "metadata": {},
   "outputs": [
    {
     "data": {
      "text/html": [
       "<div>\n",
       "<style scoped>\n",
       "    .dataframe tbody tr th:only-of-type {\n",
       "        vertical-align: middle;\n",
       "    }\n",
       "\n",
       "    .dataframe tbody tr th {\n",
       "        vertical-align: top;\n",
       "    }\n",
       "\n",
       "    .dataframe thead th {\n",
       "        text-align: right;\n",
       "    }\n",
       "</style>\n",
       "<table border=\"1\" class=\"dataframe\">\n",
       "  <thead>\n",
       "    <tr style=\"text-align: right;\">\n",
       "      <th></th>\n",
       "      <th>Name</th>\n",
       "      <th>Code</th>\n",
       "    </tr>\n",
       "  </thead>\n",
       "  <tbody>\n",
       "    <tr>\n",
       "      <th>0</th>\n",
       "      <td>Afghanistan</td>\n",
       "      <td>AF</td>\n",
       "    </tr>\n",
       "    <tr>\n",
       "      <th>1</th>\n",
       "      <td>Ã…land Islands</td>\n",
       "      <td>AX</td>\n",
       "    </tr>\n",
       "    <tr>\n",
       "      <th>2</th>\n",
       "      <td>Albania</td>\n",
       "      <td>AL</td>\n",
       "    </tr>\n",
       "    <tr>\n",
       "      <th>3</th>\n",
       "      <td>Algeria</td>\n",
       "      <td>DZ</td>\n",
       "    </tr>\n",
       "    <tr>\n",
       "      <th>4</th>\n",
       "      <td>American Samoa</td>\n",
       "      <td>AS</td>\n",
       "    </tr>\n",
       "    <tr>\n",
       "      <th>...</th>\n",
       "      <td>...</td>\n",
       "      <td>...</td>\n",
       "    </tr>\n",
       "    <tr>\n",
       "      <th>244</th>\n",
       "      <td>Western Sahara</td>\n",
       "      <td>EH</td>\n",
       "    </tr>\n",
       "    <tr>\n",
       "      <th>245</th>\n",
       "      <td>Yemen</td>\n",
       "      <td>YE</td>\n",
       "    </tr>\n",
       "    <tr>\n",
       "      <th>246</th>\n",
       "      <td>Zambia</td>\n",
       "      <td>ZM</td>\n",
       "    </tr>\n",
       "    <tr>\n",
       "      <th>247</th>\n",
       "      <td>Zimbabwe</td>\n",
       "      <td>ZW</td>\n",
       "    </tr>\n",
       "    <tr>\n",
       "      <th>248</th>\n",
       "      <td>Kosovo</td>\n",
       "      <td>XK</td>\n",
       "    </tr>\n",
       "  </tbody>\n",
       "</table>\n",
       "<p>249 rows × 2 columns</p>\n",
       "</div>"
      ],
      "text/plain": [
       "               Name Code\n",
       "0       Afghanistan   AF\n",
       "1    Ã…land Islands   AX\n",
       "2           Albania   AL\n",
       "3           Algeria   DZ\n",
       "4    American Samoa   AS\n",
       "..              ...  ...\n",
       "244  Western Sahara   EH\n",
       "245           Yemen   YE\n",
       "246          Zambia   ZM\n",
       "247        Zimbabwe   ZW\n",
       "248          Kosovo   XK\n",
       "\n",
       "[249 rows x 2 columns]"
      ]
     },
     "execution_count": 34,
     "metadata": {},
     "output_type": "execute_result"
    }
   ],
   "source": [
    "kosovo_df = pd.DataFrame([['Kosovo', 'XK']], columns=country_name.columns)\n",
    "country_name = pd.concat([country_name, kosovo_df], axis=0).reset_index(drop=True)\n",
    "country_name"
   ]
  },
  {
   "cell_type": "markdown",
   "metadata": {},
   "source": [
    "Now rechecking that everything is correct:"
   ]
  },
  {
   "cell_type": "code",
   "execution_count": 35,
   "metadata": {},
   "outputs": [
    {
     "name": "stdout",
     "output_type": "stream",
     "text": [
      "All elements in array 1 are in array 2\n"
     ]
    }
   ],
   "source": [
    "air_pollution_countries = df.Country.unique()\n",
    "country_name_countries = country_name.Code.unique()\n",
    "\n",
    "bool_arr_1 = check_contents(air_pollution_countries, country_name_countries)"
   ]
  },
  {
   "cell_type": "markdown",
   "metadata": {},
   "source": [
    "Every country code in country_name is in our df dataframe. We can now do an inner join of both tables on the country code and do some renaming and re-arranging of columns:\n"
   ]
  },
  {
   "cell_type": "code",
   "execution_count": 36,
   "metadata": {},
   "outputs": [
    {
     "data": {
      "text/html": [
       "<div>\n",
       "<style scoped>\n",
       "    .dataframe tbody tr th:only-of-type {\n",
       "        vertical-align: middle;\n",
       "    }\n",
       "\n",
       "    .dataframe tbody tr th {\n",
       "        vertical-align: top;\n",
       "    }\n",
       "\n",
       "    .dataframe thead th {\n",
       "        text-align: right;\n",
       "    }\n",
       "</style>\n",
       "<table border=\"1\" class=\"dataframe\">\n",
       "  <thead>\n",
       "    <tr style=\"text-align: right;\">\n",
       "      <th></th>\n",
       "      <th>Date</th>\n",
       "      <th>Country</th>\n",
       "      <th>Country_name</th>\n",
       "      <th>City</th>\n",
       "      <th>Pollutant</th>\n",
       "      <th>count</th>\n",
       "      <th>median</th>\n",
       "    </tr>\n",
       "  </thead>\n",
       "  <tbody>\n",
       "    <tr>\n",
       "      <th>0</th>\n",
       "      <td>2019-01-16</td>\n",
       "      <td>AE</td>\n",
       "      <td>United Arab Emirates</td>\n",
       "      <td>Abu Dhabi</td>\n",
       "      <td>pm10</td>\n",
       "      <td>24.0</td>\n",
       "      <td>97.0</td>\n",
       "    </tr>\n",
       "    <tr>\n",
       "      <th>1</th>\n",
       "      <td>2019-01-22</td>\n",
       "      <td>AE</td>\n",
       "      <td>United Arab Emirates</td>\n",
       "      <td>Abu Dhabi</td>\n",
       "      <td>pm10</td>\n",
       "      <td>24.0</td>\n",
       "      <td>55.0</td>\n",
       "    </tr>\n",
       "    <tr>\n",
       "      <th>2</th>\n",
       "      <td>2019-01-26</td>\n",
       "      <td>AE</td>\n",
       "      <td>United Arab Emirates</td>\n",
       "      <td>Abu Dhabi</td>\n",
       "      <td>pm10</td>\n",
       "      <td>24.0</td>\n",
       "      <td>160.0</td>\n",
       "    </tr>\n",
       "    <tr>\n",
       "      <th>3</th>\n",
       "      <td>2019-01-07</td>\n",
       "      <td>AE</td>\n",
       "      <td>United Arab Emirates</td>\n",
       "      <td>Abu Dhabi</td>\n",
       "      <td>pm10</td>\n",
       "      <td>24.0</td>\n",
       "      <td>72.0</td>\n",
       "    </tr>\n",
       "    <tr>\n",
       "      <th>4</th>\n",
       "      <td>2019-01-10</td>\n",
       "      <td>AE</td>\n",
       "      <td>United Arab Emirates</td>\n",
       "      <td>Abu Dhabi</td>\n",
       "      <td>pm10</td>\n",
       "      <td>24.0</td>\n",
       "      <td>87.0</td>\n",
       "    </tr>\n",
       "  </tbody>\n",
       "</table>\n",
       "</div>"
      ],
      "text/plain": [
       "        Date Country          Country_name       City Pollutant  count  median\n",
       "0 2019-01-16      AE  United Arab Emirates  Abu Dhabi      pm10   24.0    97.0\n",
       "1 2019-01-22      AE  United Arab Emirates  Abu Dhabi      pm10   24.0    55.0\n",
       "2 2019-01-26      AE  United Arab Emirates  Abu Dhabi      pm10   24.0   160.0\n",
       "3 2019-01-07      AE  United Arab Emirates  Abu Dhabi      pm10   24.0    72.0\n",
       "4 2019-01-10      AE  United Arab Emirates  Abu Dhabi      pm10   24.0    87.0"
      ]
     },
     "execution_count": 36,
     "metadata": {},
     "output_type": "execute_result"
    }
   ],
   "source": [
    "df = pd.merge(df, country_name, how='inner', left_on='Country', right_on='Code').drop('Code', axis=1).rename(columns={'Name':'Country_name', 'Specie':'Pollutant'})\n",
    "df = df[['Date', 'Country', 'Country_name', 'City', 'Pollutant', 'count', 'median']]\n",
    "df.head()"
   ]
  },
  {
   "cell_type": "markdown",
   "metadata": {},
   "source": [
    "Now that we have the dataset for different countries, let's narrow it down to the country of this study: Spain. As we will need it later, let's include the city population of the spanish cities present in our air pollution dataset:"
   ]
  },
  {
   "cell_type": "code",
   "execution_count": 37,
   "metadata": {},
   "outputs": [],
   "source": [
    "df_spain = df[df.Country =='ES']"
   ]
  },
  {
   "cell_type": "code",
   "execution_count": 38,
   "metadata": {},
   "outputs": [
    {
     "name": "stdout",
     "output_type": "stream",
     "text": [
      "Number of datapoints: 59549. Number of spanish cities: 23\n"
     ]
    }
   ],
   "source": [
    "print('Number of datapoints: {}. Number of spanish cities: {}'.format(df_spain.shape[0], df_spain.City.unique().size))"
   ]
  },
  {
   "cell_type": "code",
   "execution_count": 39,
   "metadata": {},
   "outputs": [
    {
     "data": {
      "text/html": [
       "<div>\n",
       "<style scoped>\n",
       "    .dataframe tbody tr th:only-of-type {\n",
       "        vertical-align: middle;\n",
       "    }\n",
       "\n",
       "    .dataframe tbody tr th {\n",
       "        vertical-align: top;\n",
       "    }\n",
       "\n",
       "    .dataframe thead th {\n",
       "        text-align: right;\n",
       "    }\n",
       "</style>\n",
       "<table border=\"1\" class=\"dataframe\">\n",
       "  <thead>\n",
       "    <tr style=\"text-align: right;\">\n",
       "      <th></th>\n",
       "      <th>Date</th>\n",
       "      <th>Country</th>\n",
       "      <th>Country_name</th>\n",
       "      <th>City</th>\n",
       "      <th>Pollutant</th>\n",
       "      <th>count</th>\n",
       "      <th>median</th>\n",
       "    </tr>\n",
       "  </thead>\n",
       "  <tbody>\n",
       "    <tr>\n",
       "      <th>663836</th>\n",
       "      <td>2019-01-03</td>\n",
       "      <td>ES</td>\n",
       "      <td>Spain</td>\n",
       "      <td>Las Palmas de Gran Canaria</td>\n",
       "      <td>pm25</td>\n",
       "      <td>206.0</td>\n",
       "      <td>25.0</td>\n",
       "    </tr>\n",
       "    <tr>\n",
       "      <th>663837</th>\n",
       "      <td>2019-01-06</td>\n",
       "      <td>ES</td>\n",
       "      <td>Spain</td>\n",
       "      <td>Las Palmas de Gran Canaria</td>\n",
       "      <td>pm25</td>\n",
       "      <td>216.0</td>\n",
       "      <td>34.0</td>\n",
       "    </tr>\n",
       "    <tr>\n",
       "      <th>663838</th>\n",
       "      <td>2019-01-07</td>\n",
       "      <td>ES</td>\n",
       "      <td>Spain</td>\n",
       "      <td>Las Palmas de Gran Canaria</td>\n",
       "      <td>pm25</td>\n",
       "      <td>195.0</td>\n",
       "      <td>25.0</td>\n",
       "    </tr>\n",
       "    <tr>\n",
       "      <th>663839</th>\n",
       "      <td>2019-01-18</td>\n",
       "      <td>ES</td>\n",
       "      <td>Spain</td>\n",
       "      <td>Las Palmas de Gran Canaria</td>\n",
       "      <td>pm25</td>\n",
       "      <td>178.0</td>\n",
       "      <td>21.0</td>\n",
       "    </tr>\n",
       "    <tr>\n",
       "      <th>663840</th>\n",
       "      <td>2019-01-19</td>\n",
       "      <td>ES</td>\n",
       "      <td>Spain</td>\n",
       "      <td>Las Palmas de Gran Canaria</td>\n",
       "      <td>pm25</td>\n",
       "      <td>177.0</td>\n",
       "      <td>17.0</td>\n",
       "    </tr>\n",
       "  </tbody>\n",
       "</table>\n",
       "</div>"
      ],
      "text/plain": [
       "             Date Country Country_name                        City Pollutant  \\\n",
       "663836 2019-01-03      ES        Spain  Las Palmas de Gran Canaria      pm25   \n",
       "663837 2019-01-06      ES        Spain  Las Palmas de Gran Canaria      pm25   \n",
       "663838 2019-01-07      ES        Spain  Las Palmas de Gran Canaria      pm25   \n",
       "663839 2019-01-18      ES        Spain  Las Palmas de Gran Canaria      pm25   \n",
       "663840 2019-01-19      ES        Spain  Las Palmas de Gran Canaria      pm25   \n",
       "\n",
       "        count  median  \n",
       "663836  206.0    25.0  \n",
       "663837  216.0    34.0  \n",
       "663838  195.0    25.0  \n",
       "663839  178.0    21.0  \n",
       "663840  177.0    17.0  "
      ]
     },
     "execution_count": 39,
     "metadata": {},
     "output_type": "execute_result"
    }
   ],
   "source": [
    "df_spain.head()"
   ]
  },
  {
   "cell_type": "markdown",
   "metadata": {},
   "source": [
    "# Evaluation <a class='anchor' id='evaluation'>"
   ]
  },
  {
   "cell_type": "markdown",
   "metadata": {},
   "source": [
    "## How much the air quality varied during the year 2020 relative to 2019 in Spain? Which pollutant underwent the largest variation? <a class='anchor' id='first_question'>"
   ]
  },
  {
   "cell_type": "markdown",
   "metadata": {},
   "source": [
    "As specified in the ReadMe file the averaging process follows a bottom-up approach where the country average will be done by first doing the averages of all cities in the country separately and then using those values to calculate the whole country average. Moreover, the time-related averages will be done in the same way, by doing the monthly average as the average of all days for each month and the average of all months to calculate the yearly average. This implies that we are giving every city the same weight and importance both spatially and temporally in the calculations. Any weighing factors may be included in the future for other purposes/studies, such us city/country population, area or population density, among others.\n",
    "\n",
    "Therefore, in order to make the country calculation we need several functions, namely: (i) one that calculates the monthly average in each city (monthly_city_pollutant()) and (ii) one that calculates the yearly average in each city (yearly_city_pollutant()). With those 2 functions we can then calculate (iii) the monthly average in each country (monthly_country_pollutant()) and finally (iv) the yearly average of the country (yearly_country_pollutant()):"
   ]
  },
  {
   "cell_type": "code",
   "execution_count": 40,
   "metadata": {},
   "outputs": [
    {
     "data": {
      "text/html": [
       "<div>\n",
       "<style scoped>\n",
       "    .dataframe tbody tr th:only-of-type {\n",
       "        vertical-align: middle;\n",
       "    }\n",
       "\n",
       "    .dataframe tbody tr th {\n",
       "        vertical-align: top;\n",
       "    }\n",
       "\n",
       "    .dataframe thead th {\n",
       "        text-align: right;\n",
       "    }\n",
       "</style>\n",
       "<table border=\"1\" class=\"dataframe\">\n",
       "  <thead>\n",
       "    <tr style=\"text-align: right;\">\n",
       "      <th></th>\n",
       "      <th>Date</th>\n",
       "      <th>Country</th>\n",
       "      <th>Country_name</th>\n",
       "      <th>City</th>\n",
       "      <th>Pollutant</th>\n",
       "      <th>count</th>\n",
       "      <th>median</th>\n",
       "    </tr>\n",
       "  </thead>\n",
       "  <tbody>\n",
       "    <tr>\n",
       "      <th>663836</th>\n",
       "      <td>2019-01-03</td>\n",
       "      <td>ES</td>\n",
       "      <td>Spain</td>\n",
       "      <td>Las Palmas de Gran Canaria</td>\n",
       "      <td>pm25</td>\n",
       "      <td>206.0</td>\n",
       "      <td>25.0</td>\n",
       "    </tr>\n",
       "    <tr>\n",
       "      <th>663837</th>\n",
       "      <td>2019-01-06</td>\n",
       "      <td>ES</td>\n",
       "      <td>Spain</td>\n",
       "      <td>Las Palmas de Gran Canaria</td>\n",
       "      <td>pm25</td>\n",
       "      <td>216.0</td>\n",
       "      <td>34.0</td>\n",
       "    </tr>\n",
       "    <tr>\n",
       "      <th>663838</th>\n",
       "      <td>2019-01-07</td>\n",
       "      <td>ES</td>\n",
       "      <td>Spain</td>\n",
       "      <td>Las Palmas de Gran Canaria</td>\n",
       "      <td>pm25</td>\n",
       "      <td>195.0</td>\n",
       "      <td>25.0</td>\n",
       "    </tr>\n",
       "    <tr>\n",
       "      <th>663839</th>\n",
       "      <td>2019-01-18</td>\n",
       "      <td>ES</td>\n",
       "      <td>Spain</td>\n",
       "      <td>Las Palmas de Gran Canaria</td>\n",
       "      <td>pm25</td>\n",
       "      <td>178.0</td>\n",
       "      <td>21.0</td>\n",
       "    </tr>\n",
       "    <tr>\n",
       "      <th>663840</th>\n",
       "      <td>2019-01-19</td>\n",
       "      <td>ES</td>\n",
       "      <td>Spain</td>\n",
       "      <td>Las Palmas de Gran Canaria</td>\n",
       "      <td>pm25</td>\n",
       "      <td>177.0</td>\n",
       "      <td>17.0</td>\n",
       "    </tr>\n",
       "  </tbody>\n",
       "</table>\n",
       "</div>"
      ],
      "text/plain": [
       "             Date Country Country_name                        City Pollutant  \\\n",
       "663836 2019-01-03      ES        Spain  Las Palmas de Gran Canaria      pm25   \n",
       "663837 2019-01-06      ES        Spain  Las Palmas de Gran Canaria      pm25   \n",
       "663838 2019-01-07      ES        Spain  Las Palmas de Gran Canaria      pm25   \n",
       "663839 2019-01-18      ES        Spain  Las Palmas de Gran Canaria      pm25   \n",
       "663840 2019-01-19      ES        Spain  Las Palmas de Gran Canaria      pm25   \n",
       "\n",
       "        count  median  \n",
       "663836  206.0    25.0  \n",
       "663837  216.0    34.0  \n",
       "663838  195.0    25.0  \n",
       "663839  178.0    21.0  \n",
       "663840  177.0    17.0  "
      ]
     },
     "execution_count": 40,
     "metadata": {},
     "output_type": "execute_result"
    }
   ],
   "source": [
    "df_spain.head()"
   ]
  },
  {
   "cell_type": "code",
   "execution_count": 41,
   "metadata": {},
   "outputs": [],
   "source": [
    "def monthly_city_pollutant(df):\n",
    "    ''' For every pollutant and city this function calculates the monthly average\n",
    "    \n",
    "    INPUT: dataframe with pollution data with the form of the \"df\" or \"df_spain\" dataframe\n",
    "    OUTPUT: dataframe with the monthly average of pollutants for every city in the input data'''\n",
    "    \n",
    "    print('Implementing function: monthly_city_pollutant. This may take a while.')\n",
    "    final_df = pd.DataFrame()\n",
    "   \n",
    "    pollutants = df.Pollutant.unique()\n",
    "    for pollutant in pollutants:\n",
    "        pollutant_df = df[df.Pollutant == pollutant]\n",
    "        countries = pollutant_df.Country.unique()\n",
    "        for country in countries:\n",
    "            country_df = pollutant_df[pollutant_df.Country == country]\n",
    "            cities_country = country_df.City.unique()\n",
    "            for city in cities_country:\n",
    "                city_df = country_df[country_df.City == city]\n",
    "                years = city_df.Date.dt.year.unique()\n",
    "                for year in years:\n",
    "                    year_df = city_df[city_df.Date.dt.year == year]\n",
    "                    months = year_df.Date.dt.month.unique()\n",
    "                    for month in months:\n",
    "                        #Dataframe with a particular city in a given country\n",
    "                        month_df = year_df[year_df.Date.dt.month == month]\n",
    "                            \n",
    "                        mean_ser = month_df['median']\n",
    "                        date_string = '{}/{}'.format(year, month)\n",
    "                                               \n",
    "                        #Standard deviation of the month distribution\n",
    "                        std_dev = np.std(month_df['median'])\n",
    "                        no_points = month_df.count()[0]\n",
    "                         \n",
    "                        #Standard deviation of the mean\n",
    "                        std_dev_mean = std_dev/np.sqrt(month_df.count()[0])\n",
    "                            \n",
    "                        ## t-sutdent confidence interval\n",
    "                        alpha= 0.95\n",
    "                        error_95th = stats.t.interval(df=no_points-1, alpha=alpha)[1] * std_dev_mean\n",
    "                        \n",
    "                        \n",
    "                        #Create a temporary dataframe \n",
    "                        temp_df = pd.DataFrame(data={'Date':datetime.strptime(date_string, '%Y/%m'), 'Month': month, 'Country': country, 'Country_name': month_df.Country_name.unique()[0], \\\n",
    "                                                     'City': city, 'Pollutant': pollutant, 'No_points': no_points, \\\n",
    "                                                     'AQI': [mean_ser.mean()], 'std_dev': std_dev_mean, 'conf_interval_95%': error_95th})\n",
    "                        \n",
    "                        #Concatenate temporary dataframe with final_df (initially empty)\n",
    "                        final_df = pd.concat([final_df, temp_df])\n",
    "                        \n",
    "                        \n",
    "                           \n",
    "    return final_df.reset_index().drop('index', axis=1)\n",
    "    "
   ]
  },
  {
   "cell_type": "code",
   "execution_count": 42,
   "metadata": {},
   "outputs": [],
   "source": [
    "def yearly_city_pollutant(df):\n",
    "    '''Calculates the yearly average of pollutants in every city of the input data\n",
    "    \n",
    "    INPUT: df: pd.DataFrame with pollution data with the form of df dataframe\n",
    "    OUTPUT: dataframe with the monthly average of pollutants for every city in the input data'''\n",
    "    \n",
    "    if ('AQI' not in df.columns) and ('Month' not in df.columns):\n",
    "        inp = input('''Beware: inserting the original DataFrame will imply a long runtime process (> 10 min). It is advised\n",
    "                    to use the returned DataFrame after applying the monthly_city_pollutant() function. Do you want to continue anyway?\\n\n",
    "                    Type \"y\" for Yes\\n\n",
    "                    Type \"n\" for No\\n''')\n",
    "        \n",
    "        if inp.lower() == 'y':\n",
    "            df = monthly_city_pollutant(df)\n",
    "            \n",
    "        else:\n",
    "            return\n",
    "        \n",
    "    elif ('AQI' in df.columns) and ('Month' not in df.columns):\n",
    "        print('This function only accepts the original dataframe or the output from monthly_city_pollutant')\n",
    "        return\n",
    "    \n",
    "    print('Implementing function: yearly_city_pollutant')\n",
    "    final_df = pd.DataFrame()\n",
    "   \n",
    "    pollutants = df.Pollutant.unique()\n",
    "    for pollutant in pollutants:\n",
    "        pollutant_df = df[df.Pollutant == pollutant]\n",
    "        countries = pollutant_df.Country.unique()\n",
    "        for country in countries:\n",
    "            country_df = pollutant_df[pollutant_df.Country == country]\n",
    "            cities_country = country_df.City.unique()\n",
    "            for city in cities_country:\n",
    "                city_df = country_df[country_df.City == city]\n",
    "                years = city_df.Date.dt.year.unique()\n",
    "                for year in years:\n",
    "                    year_df = city_df[city_df.Date.dt.year == year]\n",
    "                            \n",
    "                    mean_ser = year_df['AQI']\n",
    "                    date_string = '{}'.format(year)\n",
    "                            \n",
    "                    #Standard deviation of the mean. Assuming i.i.d i.e Cov = 0\n",
    "                    no_points = year_df.count()[0]\n",
    "                    std_dev_mean = np.sqrt((year_df.std_dev ** 2).sum())/year_df.count()[0]\n",
    " \n",
    "\n",
    "                    # t-sutdent confidence interval\n",
    "                    alpha= 0.95\n",
    "                    error_95th = stats.t.interval(df=no_points-1, alpha=alpha)[1] * std_dev_mean\n",
    "                        \n",
    "                                    \n",
    "                    #Create a temporary dataframe         \n",
    "                    temp_df = pd.DataFrame(data={'Date':datetime.strptime(date_string, '%Y'), 'Country': country, 'Country_name': year_df.Country_name.unique()[0], \\\n",
    "                                                 'City': city, 'Pollutant': pollutant, 'No_points': no_points, 'AQI': [mean_ser.mean()], 'std_dev': std_dev_mean, 'conf_interval_95%': error_95th})\n",
    "                    \n",
    "                    #Concatenate temporary dataframe with final_df (initially empty)\n",
    "                    final_df = pd.concat([final_df, temp_df])\n",
    "                        \n",
    "                        \n",
    "                           \n",
    "    return final_df.reset_index().drop('index', axis=1)\n",
    "    "
   ]
  },
  {
   "cell_type": "code",
   "execution_count": 64,
   "metadata": {},
   "outputs": [],
   "source": [
    "def monthly_country_pollutant(df):\n",
    "    '''This function calculates the monthly AQI average of every country for each pollutant present in the dataframe.\n",
    "    \n",
    "    INPUT: df: pd.DataFrame. If the dataframe is the output from montly_city_pollutant() (containing an \"AQI\" column) then the monthly_country_pollutant() is directly applied.\n",
    "                If the dataframe is the original dataframe with the daily AQI values, then monthly_city_pollutant() is applied first and then monthly_country_pollutant() is applied.\n",
    "                To avoid long runtimes it is adviced to use the monthly_city_pollutant() output as an input for the function.\n",
    "    OUTPUT: pd.DataFrame with the monthly AQI average for each country and pollutant '''\n",
    "    \n",
    "    if 'AQI' not in df.columns: #if the input dataframe is not the output from monthly_city_pollutant() warn about a possible long runtime process\n",
    "        inp = input('''Beware: inserting the original DataFrame will imply a long runtime process (> 10 min). It is advised\n",
    "                    to use the returned DataFrame after applying the monthly_city_pollutant() function. Do you want to continue anyway?\\n\n",
    "                    Type \"y\" for Yes\\n\n",
    "                    Type \"n\" for No\\n''')\n",
    "        \n",
    "        if inp.lower() == 'y':\n",
    "            df = monthly_city_pollutant(df)\n",
    "            \n",
    "        else:\n",
    "            return\n",
    "        \n",
    "    print('Implementing function: monthly_country_pollutant')\n",
    "    city_df = df\n",
    "    final_df = pd.DataFrame()\n",
    "    years = np.sort(city_df.Date.dt.year.unique())\n",
    "    for year in years:\n",
    "        year_df = city_df[city_df.Date.dt.year == year]\n",
    "        months = year_df.Date.dt.month.unique()\n",
    "        for month in months:\n",
    "            month_df = year_df[year_df.Date.dt.month == month]\n",
    "            countries = month_df.Country.unique()\n",
    "            for country in countries:\n",
    "                country_df = month_df[month_df.Country == country]\n",
    "                pollutants = country_df.Pollutant.unique()\n",
    "\n",
    "                # Calculation of the yearly mean for each pollutant:\n",
    "                for pollutant in pollutants:\n",
    "                    pollutant_df = country_df[country_df.Pollutant == pollutant]\n",
    "\n",
    "                    # Yearly mean of the AQI for a particular pollutant and country\n",
    "                    mean_yearly_pollutant = pollutant_df['AQI'].mean() \n",
    "\n",
    "                    # Standard deviation of the mean yearly pollutant. Assuming i.i.d i.e Cov = 0\n",
    "                    no_points = pollutant_df.count()[0]\n",
    "                    std_dev_mean = np.sqrt((pollutant_df.std_dev ** 2).sum())/pollutant_df.count()[0] # Propagation of std. deviations for the mean\n",
    "                    \n",
    "                    # t-sutdent confidence interval\n",
    "                    if no_points == 1: # If the country has only 1 city per month, then use their original intervals and errors\n",
    "                        error_95th = pollutant_df['conf_interval_95%']\n",
    "                    else:\n",
    "                        alpha= 0.95\n",
    "                        error_95th = stats.t.interval(df=no_points-1, alpha=alpha)[1] * std_dev_mean\n",
    "\n",
    "                    date_string = '{}/{}'.format(year, month)\n",
    "                    \n",
    "                    #Create a temporary dataframe\n",
    "                    temp_df = pd.DataFrame({'Date': datetime.strptime(date_string, '%Y/%m'), 'Month': month, 'Country': country, 'Country_name': pollutant_df.Country_name.unique()[0], \\\n",
    "                                            'No_points': no_points, 'Pollutant': pollutant, 'AQI': [mean_yearly_pollutant], 'std_dev': std_dev_mean, 'conf_interval_95%': error_95th})\n",
    "                    \n",
    "                    #Concatenate temporary dataframe with final_df (initially empty)\n",
    "                    final_df = pd.concat([final_df, temp_df])\n",
    "\n",
    "\n",
    "                \n",
    "\n",
    "                        \n",
    "                           \n",
    "    return final_df.reset_index().drop('index', axis=1)\n",
    "       \n",
    "    "
   ]
  },
  {
   "cell_type": "code",
   "execution_count": 47,
   "metadata": {},
   "outputs": [],
   "source": [
    "def yearly_country_pollutant(data):\n",
    "    '''This function calculates the yearly AQI average for each pollutant and each country for all the available years in the dataset.\n",
    "    \n",
    "    INPUT: pd.DataFrame. Either the original dataset or the output from monthly_city_pollutant() or yearly_city_pollutant()\n",
    "    OUTPU: pd.DataFrame with the yearly AQI average for each pollutant and country'''\n",
    "    \n",
    "\n",
    "    \n",
    "    #Logic: if the column 'Month' is present i.e the input dataframe is an output of monthly_city_pollutant()\n",
    "    if ('median' in data.columns) or (('City' in data.columns) and ('Month' in data.columns)):\n",
    "        # The dataframe must be converted to yearly averages\n",
    "        cou_df = yearly_city_pollutant(data)\n",
    "    elif ('AQI' in data.columns) and ('City' in data.columns) and ('Month' not in data.columns):\n",
    "        # No preliminary calculations are needed\n",
    "        cou_df = data\n",
    "    else:\n",
    "        print('The input must be the original dataframe or the output from yearly_city_pollutant()')\n",
    "        return\n",
    "    \n",
    "    if cou_df is not None:\n",
    "        print('Implementing function: yearly_country_pollutant')\n",
    "\n",
    "        final_df = pd.DataFrame()\n",
    "        years = np.sort(cou_df.Date.dt.year.unique())\n",
    "        for year in years:\n",
    "            year_df = cou_df[cou_df.Date.dt.year == year]\n",
    "            countries = year_df.Country.unique()\n",
    "            for country in countries:\n",
    "                country_df = year_df[year_df.Country == country]\n",
    "                pollutants = country_df.Pollutant.unique()\n",
    "\n",
    "                # Calculation of the yearly mean for each pollutant:\n",
    "                for pollutant in pollutants:\n",
    "                    pollutant_df = country_df[country_df.Pollutant == pollutant]\n",
    "\n",
    "                    # Yearly mean of the AQI for a particular pollutant and country\n",
    "                    mean_yearly_pollutant = pollutant_df['AQI'].mean() \n",
    "\n",
    "                    # Standard deviation of the mean yearly pollutant. Assuming i.i.d i.e Cov = 0\n",
    "                    no_points = pollutant_df.count()[0]\n",
    "                    std_dev_mean = np.sqrt((pollutant_df.std_dev ** 2).sum())/pollutant_df.count()[0] # Propagation of std. deviations for the mean\n",
    "            \n",
    "                    # t-sutdent confidence interval\n",
    "                    if no_points == 1:\n",
    "                        error_95th = pollutant_df['conf_interval_95%'].values\n",
    "                    else:\n",
    "                        alpha= 0.95\n",
    "                        error_95th = stats.t.interval(df=no_points-1, alpha=alpha)[1] * std_dev_mean\n",
    "                        \n",
    "\n",
    "                    date_string = '{}'.format(year)\n",
    "                    \n",
    "                     #Create a temporary dataframe\n",
    "                    temp_df = pd.DataFrame({'Date': datetime.strptime(date_string, '%Y'), 'Country': country, 'Country_name': pollutant_df.Country_name.unique()[0], \\\n",
    "                                            'No_points': no_points, 'Pollutant': pollutant, 'AQI': [mean_yearly_pollutant], 'std_dev': std_dev_mean, 'conf_interval_95%': error_95th})\n",
    "                    \n",
    "                    #Concatenate temporary dataframe with final_df (initially empty)\n",
    "                    final_df = pd.concat([final_df, temp_df])    \n",
    "\n",
    "        return final_df.reset_index().drop('index', axis=1)"
   ]
  },
  {
   "cell_type": "markdown",
   "metadata": {},
   "source": [
    "**Note**: the computation of the monthly averages for each city can take a relatively long time (7-13 minutes) for large datasets (> 1 million datapoints). In those cases it is better to calculate the monthly_city_pollutant() function first and use it as our input dataframe for all functions. Since in our case we have ~100,000 datapoints it is safe to use also the original dataset."
   ]
  },
  {
   "cell_type": "code",
   "execution_count": 48,
   "metadata": {},
   "outputs": [
    {
     "name": "stdin",
     "output_type": "stream",
     "text": [
      "Beware: inserting the original DataFrame will imply a long runtime process (> 10 min). It is advised\n",
      "                    to use the returned DataFrame after applying the monthly_city_pollutant() function. Do you want to continue anyway?\n",
      "\n",
      "                    Type \"y\" for Yes\n",
      "\n",
      "                    Type \"n\" for No\n",
      " y\n"
     ]
    },
    {
     "name": "stdout",
     "output_type": "stream",
     "text": [
      "Implementing function: monthly_city_pollutant. This may take a while.\n",
      "Implementing function: yearly_city_pollutant\n",
      "Implementing function: yearly_country_pollutant\n",
      "Wall time: 15.6 s\n"
     ]
    }
   ],
   "source": [
    "%%time\n",
    "year_country_pollut_df = yearly_country_pollutant(df_spain)"
   ]
  },
  {
   "cell_type": "code",
   "execution_count": 49,
   "metadata": {},
   "outputs": [
    {
     "data": {
      "text/html": [
       "<div>\n",
       "<style scoped>\n",
       "    .dataframe tbody tr th:only-of-type {\n",
       "        vertical-align: middle;\n",
       "    }\n",
       "\n",
       "    .dataframe tbody tr th {\n",
       "        vertical-align: top;\n",
       "    }\n",
       "\n",
       "    .dataframe thead th {\n",
       "        text-align: right;\n",
       "    }\n",
       "</style>\n",
       "<table border=\"1\" class=\"dataframe\">\n",
       "  <thead>\n",
       "    <tr style=\"text-align: right;\">\n",
       "      <th></th>\n",
       "      <th>Date</th>\n",
       "      <th>Country</th>\n",
       "      <th>Country_name</th>\n",
       "      <th>No_points</th>\n",
       "      <th>Pollutant</th>\n",
       "      <th>AQI</th>\n",
       "      <th>std_dev</th>\n",
       "      <th>conf_interval_95%</th>\n",
       "    </tr>\n",
       "  </thead>\n",
       "  <tbody>\n",
       "    <tr>\n",
       "      <th>0</th>\n",
       "      <td>2019-01-01</td>\n",
       "      <td>ES</td>\n",
       "      <td>Spain</td>\n",
       "      <td>13</td>\n",
       "      <td>pm25</td>\n",
       "      <td>35.239478</td>\n",
       "      <td>0.405383</td>\n",
       "      <td>0.883254</td>\n",
       "    </tr>\n",
       "    <tr>\n",
       "      <th>1</th>\n",
       "      <td>2019-01-01</td>\n",
       "      <td>ES</td>\n",
       "      <td>Spain</td>\n",
       "      <td>23</td>\n",
       "      <td>no2</td>\n",
       "      <td>7.909447</td>\n",
       "      <td>0.038362</td>\n",
       "      <td>0.079557</td>\n",
       "    </tr>\n",
       "    <tr>\n",
       "      <th>2</th>\n",
       "      <td>2019-01-01</td>\n",
       "      <td>ES</td>\n",
       "      <td>Spain</td>\n",
       "      <td>23</td>\n",
       "      <td>pm10</td>\n",
       "      <td>18.199772</td>\n",
       "      <td>0.082689</td>\n",
       "      <td>0.171487</td>\n",
       "    </tr>\n",
       "    <tr>\n",
       "      <th>3</th>\n",
       "      <td>2019-01-01</td>\n",
       "      <td>ES</td>\n",
       "      <td>Spain</td>\n",
       "      <td>23</td>\n",
       "      <td>so2</td>\n",
       "      <td>2.253746</td>\n",
       "      <td>0.008888</td>\n",
       "      <td>0.018432</td>\n",
       "    </tr>\n",
       "    <tr>\n",
       "      <th>4</th>\n",
       "      <td>2020-01-01</td>\n",
       "      <td>ES</td>\n",
       "      <td>Spain</td>\n",
       "      <td>13</td>\n",
       "      <td>pm25</td>\n",
       "      <td>31.243117</td>\n",
       "      <td>0.207136</td>\n",
       "      <td>0.451310</td>\n",
       "    </tr>\n",
       "    <tr>\n",
       "      <th>5</th>\n",
       "      <td>2020-01-01</td>\n",
       "      <td>ES</td>\n",
       "      <td>Spain</td>\n",
       "      <td>23</td>\n",
       "      <td>no2</td>\n",
       "      <td>6.568886</td>\n",
       "      <td>0.030673</td>\n",
       "      <td>0.063611</td>\n",
       "    </tr>\n",
       "    <tr>\n",
       "      <th>6</th>\n",
       "      <td>2020-01-01</td>\n",
       "      <td>ES</td>\n",
       "      <td>Spain</td>\n",
       "      <td>23</td>\n",
       "      <td>pm10</td>\n",
       "      <td>16.282492</td>\n",
       "      <td>0.098545</td>\n",
       "      <td>0.204370</td>\n",
       "    </tr>\n",
       "    <tr>\n",
       "      <th>7</th>\n",
       "      <td>2020-01-01</td>\n",
       "      <td>ES</td>\n",
       "      <td>Spain</td>\n",
       "      <td>23</td>\n",
       "      <td>so2</td>\n",
       "      <td>2.128697</td>\n",
       "      <td>0.009701</td>\n",
       "      <td>0.020119</td>\n",
       "    </tr>\n",
       "  </tbody>\n",
       "</table>\n",
       "</div>"
      ],
      "text/plain": [
       "        Date Country Country_name  No_points Pollutant        AQI   std_dev  \\\n",
       "0 2019-01-01      ES        Spain         13      pm25  35.239478  0.405383   \n",
       "1 2019-01-01      ES        Spain         23       no2   7.909447  0.038362   \n",
       "2 2019-01-01      ES        Spain         23      pm10  18.199772  0.082689   \n",
       "3 2019-01-01      ES        Spain         23       so2   2.253746  0.008888   \n",
       "4 2020-01-01      ES        Spain         13      pm25  31.243117  0.207136   \n",
       "5 2020-01-01      ES        Spain         23       no2   6.568886  0.030673   \n",
       "6 2020-01-01      ES        Spain         23      pm10  16.282492  0.098545   \n",
       "7 2020-01-01      ES        Spain         23       so2   2.128697  0.009701   \n",
       "\n",
       "   conf_interval_95%  \n",
       "0           0.883254  \n",
       "1           0.079557  \n",
       "2           0.171487  \n",
       "3           0.018432  \n",
       "4           0.451310  \n",
       "5           0.063611  \n",
       "6           0.204370  \n",
       "7           0.020119  "
      ]
     },
     "execution_count": 49,
     "metadata": {},
     "output_type": "execute_result"
    }
   ],
   "source": [
    "year_country_pollut_df.head(10)"
   ]
  },
  {
   "cell_type": "code",
   "execution_count": 50,
   "metadata": {},
   "outputs": [
    {
     "data": {
      "text/plain": [
       "<AxesSubplot:xlabel='Date', ylabel='AQI'>"
      ]
     },
     "execution_count": 50,
     "metadata": {},
     "output_type": "execute_result"
    },
    {
     "data": {
      "image/png": "[encoded data removed]",
      "text/plain": [
       "<Figure size 432x288 with 1 Axes>"
      ]
     },
     "metadata": {
      "needs_background": "light"
     },
     "output_type": "display_data"
    }
   ],
   "source": [
    "#Absolute amounts of each pollutant\n",
    "\n",
    "years = year_country_pollut_df.sort_values(by='Pollutant').Date.dt.year\n",
    "year_country_pollut = year_country_pollut_df.sort_values(by='Pollutant').AQI\n",
    "hue = year_country_pollut_df.sort_values(by='Pollutant').Pollutant\n",
    "\n",
    "sns.barplot(x=years, y=year_country_pollut, \\\n",
    "        alpha=1, hue=hue)"
   ]
  },
  {
   "cell_type": "markdown",
   "metadata": {},
   "source": [
    "In the previous graph we can see that the pollutant values decrease in 2020, but how much exactly? Let's make a function to calculate it:"
   ]
  },
  {
   "cell_type": "code",
   "execution_count": 51,
   "metadata": {},
   "outputs": [],
   "source": [
    "def year_t_conf_interval_pollutants(df_a, df_b, percent=True, unequal_var=True, alpha=0.95):\n",
    "    '''Calculates the yearly relative change of the AQI for each pollutant for both input dataframes. The statistic is taken as df_a['AQI'] - df_b`['AQI'].\n",
    "    INPUT: df_a, df_b: pd.Dataframe with the mean AQI values of the distributions we want to compare and the std_dev of those means\n",
    "            percent: if True a percent with its corresponding error is returned. If False, only the returned value is the difference of the mean of both df_a and df_b\n",
    "            unequal_var: if True a Welch's t-test is performed. If False population variances are assumed to be equal and thus a standard t-test is performed where the sample\n",
    "            variance is the pooled variance\n",
    "            alpha: represents the quantile to return in the confidence interval\n",
    "    OUTPUT: pd.DataFrame with the pollutant and confidence interval of the AQI difference for that pollutant'''\n",
    "    final_df = pd.DataFrame()\n",
    "    \n",
    "    for pollutant in df_a.Pollutant.unique():\n",
    "        pollut_a = df_a[df_a.Pollutant == pollutant].AQI.values[0]\n",
    "        pollut_b = df_b[df_b.Pollutant == pollutant].AQI.values[0]\n",
    "        \n",
    "        statistic = pollut_a - pollut_b\n",
    "    \n",
    "        std_a = df_a[df_a.Pollutant == pollutant].std_dev.values[0]\n",
    "        std_b = df_b[df_b.Pollutant == pollutant].std_dev.values[0]\n",
    "       \n",
    "        \n",
    "        n_a = df_a[df_a.Pollutant == pollutant]['No_points'].values[0]\n",
    "        n_b = df_b[df_b.Pollutant == pollutant]['No_points'].values[0]\n",
    "      \n",
    "\n",
    "        \n",
    "        if unequal_var:\n",
    "            #Apply Welch t-test method\n",
    "            std_statistic = np.sqrt(std_a**2 + std_b**2)\n",
    "            # Welch's degrees of freedom\n",
    "            degrees_freedom = (std_a**2+std_b**2)**2/(std_a**4/(n_a-1) + std_b**4/(n_b-1))\n",
    "\n",
    "        else:\n",
    "            # Apply standard method with pooled variance\n",
    "            std_statistic = np.sqrt(((n_a - 1)*std_a**2 + (n_b - 1)*std_b**2)/(n_a + n_b - 2))\n",
    "            degrees_freedom = n_a + n_b - 2\n",
    "            \n",
    "\n",
    "        # Calculate percentage with respect to the previous year\n",
    "        if percent:\n",
    "             # Calculate percentage with respect to the previous year\n",
    "            ratio = statistic/pollut_b\n",
    "            std_dev_ratio = ratio * np.sqrt((std_statistic / statistic)**2 + (std_b  / pollut_b)**2) # Propagation by Taylor approximation to first degree\n",
    "           \n",
    "            \n",
    "            error_95th = stats.t.interval(df=degrees_freedom, alpha=alpha)[1] * std_dev_ratio\n",
    "\n",
    "            percent = ratio *100\n",
    "            std_95th_percent = error_95th*100\n",
    "\n",
    "            CI = [percent, std_95th_percent]\n",
    "        if not percent:\n",
    "            # Calculate the difference between the mean of both years\n",
    "            error = stats.t.interval(df=degrees_freedom, alpha=alpha)[1] * std_statistic\n",
    "            CI = np.array([statistic, error])\n",
    "        temp_df = pd.DataFrame({'Years_compared':str(df_a.Date.dt.year.unique()[0])+'-'+str(df_b.Date.dt.year.unique()[0]) , 'Pollutant': pollutant, \\\n",
    "                                    'middle': CI[0], 'std_dev': std_dev_ratio*100, 'std_95th': [CI[1]]})\n",
    "        final_df = pd.concat([final_df, temp_df])\n",
    "            \n",
    "    return final_df.reset_index().drop('index', axis=1)"
   ]
  },
  {
   "cell_type": "code",
   "execution_count": 52,
   "metadata": {},
   "outputs": [],
   "source": [
    "df_pollut_19 = year_country_pollut_df[year_country_pollut_df.Date.dt.year == 2019].sort_values(by='Pollutant')\n",
    "df_pollut_20 = year_country_pollut_df[year_country_pollut_df.Date.dt.year == 2020].sort_values(by='Pollutant')"
   ]
  },
  {
   "cell_type": "code",
   "execution_count": 53,
   "metadata": {},
   "outputs": [
    {
     "data": {
      "text/html": [
       "<div>\n",
       "<style scoped>\n",
       "    .dataframe tbody tr th:only-of-type {\n",
       "        vertical-align: middle;\n",
       "    }\n",
       "\n",
       "    .dataframe tbody tr th {\n",
       "        vertical-align: top;\n",
       "    }\n",
       "\n",
       "    .dataframe thead th {\n",
       "        text-align: right;\n",
       "    }\n",
       "</style>\n",
       "<table border=\"1\" class=\"dataframe\">\n",
       "  <thead>\n",
       "    <tr style=\"text-align: right;\">\n",
       "      <th></th>\n",
       "      <th>Years_compared</th>\n",
       "      <th>Pollutant</th>\n",
       "      <th>middle</th>\n",
       "      <th>std_dev</th>\n",
       "      <th>std_95th</th>\n",
       "    </tr>\n",
       "  </thead>\n",
       "  <tbody>\n",
       "    <tr>\n",
       "      <th>0</th>\n",
       "      <td>2020-2019</td>\n",
       "      <td>no2</td>\n",
       "      <td>-16.948848</td>\n",
       "      <td>-0.626402</td>\n",
       "      <td>-1.264158</td>\n",
       "    </tr>\n",
       "    <tr>\n",
       "      <th>1</th>\n",
       "      <td>2020-2019</td>\n",
       "      <td>pm10</td>\n",
       "      <td>-10.534637</td>\n",
       "      <td>-0.708450</td>\n",
       "      <td>-1.429005</td>\n",
       "    </tr>\n",
       "    <tr>\n",
       "      <th>2</th>\n",
       "      <td>2020-2019</td>\n",
       "      <td>pm25</td>\n",
       "      <td>-11.340578</td>\n",
       "      <td>-1.298409</td>\n",
       "      <td>-2.729322</td>\n",
       "    </tr>\n",
       "    <tr>\n",
       "      <th>3</th>\n",
       "      <td>2020-2019</td>\n",
       "      <td>so2</td>\n",
       "      <td>-5.548474</td>\n",
       "      <td>-0.584181</td>\n",
       "      <td>-1.177594</td>\n",
       "    </tr>\n",
       "  </tbody>\n",
       "</table>\n",
       "</div>"
      ],
      "text/plain": [
       "  Years_compared Pollutant     middle   std_dev  std_95th\n",
       "0      2020-2019       no2 -16.948848 -0.626402 -1.264158\n",
       "1      2020-2019      pm10 -10.534637 -0.708450 -1.429005\n",
       "2      2020-2019      pm25 -11.340578 -1.298409 -2.729322\n",
       "3      2020-2019       so2  -5.548474 -0.584181 -1.177594"
      ]
     },
     "execution_count": 53,
     "metadata": {},
     "output_type": "execute_result"
    }
   ],
   "source": [
    "rel_pollut_19_20= year_t_conf_interval_pollutants(df_pollut_20, df_pollut_19, unequal_var=True)\n",
    "rel_pollut_19_20"
   ]
  },
  {
   "cell_type": "code",
   "execution_count": 54,
   "metadata": {},
   "outputs": [
    {
     "data": {
      "image/png": "[encoded data removed]",
      "text/plain": [
       "<Figure size 432x288 with 2 Axes>"
      ]
     },
     "metadata": {
      "needs_background": "light"
     },
     "output_type": "display_data"
    }
   ],
   "source": [
    "fig, ax = plt.subplots(nrows=1, ncols=2)\n",
    "\n",
    "years = year_country_pollut_df.sort_values(by='Pollutant').Date.dt.year\n",
    "year_country_pollut = year_country_pollut_df.sort_values(by='Pollutant').AQI\n",
    "hue = year_country_pollut_df.sort_values(by='Pollutant').Pollutant\n",
    "\n",
    "sns.barplot(x=years, y=year_country_pollut, \\\n",
    "        alpha=1, hue=hue, ax=ax[0])\n",
    "\n",
    "x1 = rel_pollut_19_20.sort_values(by='Pollutant').Pollutant\n",
    "y1 = rel_pollut_19_20.sort_values(by='Pollutant').middle\n",
    "yerr1 = rel_pollut_19_20.sort_values(by='Pollutant').std_95th\n",
    "\n",
    "sns.barplot(x=x1, y=y1, yerr=yerr1, ax=ax[1])\n",
    "\n",
    "plt.show()\n"
   ]
  },
  {
   "cell_type": "markdown",
   "metadata": {},
   "source": [
    "## How was the monthly evolution across the whole year of 2020 <a class='anchor' id='second_question'>"
   ]
  },
  {
   "cell_type": "markdown",
   "metadata": {},
   "source": [
    "In order to do the monthly comparison between 2019 and 2020 we'll use the function below (month_t_conf_interval_pollutants()) "
   ]
  },
  {
   "cell_type": "code",
   "execution_count": 65,
   "metadata": {},
   "outputs": [],
   "source": [
    "def month_t_conf_interval_pollutants(df_a, df_b, percent=True, unequal_var=True, alpha=0.95):\n",
    "    '''Calculates the yearly relative change of the AQI for each pollutant for both input dataframes. The statistic is taken as df_a.AQI - df_b.AQI.\n",
    "    INPUT: df_a, df_b: pd.Dataframe with the mean AQI values of the distributions we want to compare and the std_dev of those means\n",
    "            percent: if True a percent with its corresponding error is returned. If False, only the returned value is the difference of the mean of both df_a and df_b\n",
    "            unequal_var: if True a Welch's t-test is performed. If False population variances are assumed to be equal and thus a standard t-test is performed where the sample\n",
    "            variance is the pooled variance\n",
    "            alpha: represents the quantile to return in the confidence interval\n",
    "    OUTPUT: pd.DataFrame with the pollutant and confidence interval of the AQI difference for that pollutant'''\n",
    "    final_df = pd.DataFrame()\n",
    "    \n",
    "    months = list(set(df_a.Date.dt.month.unique()).intersection(set(df_b.Date.dt.month.unique())))\n",
    "    for month in months:\n",
    "        for pollutant in df_a.Pollutant.unique():\n",
    "            pollut_a = df_a[(df_a.Pollutant == pollutant) & (df_a.Date.dt.month == month)].AQI.values[0]\n",
    "            pollut_b = df_b[(df_b.Pollutant == pollutant) & (df_b.Date.dt.month == month)].AQI.values[0]\n",
    "\n",
    "            statistic = pollut_a - pollut_b\n",
    "\n",
    "            std_a = df_a[df_a.Pollutant == pollutant].std_dev.values[0]\n",
    "            std_b = df_b[df_b.Pollutant == pollutant].std_dev.values[0]\n",
    "           \n",
    "\n",
    "            n_a = df_a[df_a.Pollutant == pollutant]['No_points'].values[0]\n",
    "            n_b = df_b[df_b.Pollutant == pollutant]['No_points'].values[0]\n",
    "            \n",
    "\n",
    "\n",
    "            if unequal_var:\n",
    "                #Apply Welch t-test method\n",
    "                std_statistic = np.sqrt(std_a**2 + std_b**2)\n",
    "                # Welch's degrees of freedom\n",
    "                degrees_freedom = (std_a**2+std_b**2)**2/(std_a**4/(n_a-1) + std_b**4/(n_b-1))\n",
    "\n",
    "            else:\n",
    "                # Apply standard method with pooled variance\n",
    "                std_statistic = np.sqrt(((n_a - 1)*std_a**2 + (n_b - 1)*std_b**2)/(n_a + n_b - 2))\n",
    "                degrees_freedom = n_a + n_b - 2\n",
    "\n",
    "\n",
    "            if percent:\n",
    "                 # Calculate percentage with respect to the previous year\n",
    "                ratio = statistic/pollut_b\n",
    "                std_dev_ratio = ratio * np.sqrt((std_statistic / statistic)**2 + (std_b  / pollut_b)**2) # Propagation by Taylor approximation to first degree\n",
    "               \n",
    "\n",
    "                error_95th = stats.t.interval(df=degrees_freedom, alpha=alpha)[1] * std_dev_ratio\n",
    "\n",
    "                percent = ratio *100\n",
    "                std_95th_percent = error_95th*100\n",
    "\n",
    "                CI = [percent, std_95th_percent]\n",
    "                \n",
    "            if not percent:\n",
    "                # Calculate the difference between the mean of both years\n",
    "                error = stats.t.interval(df=degrees_freedom, alpha=alpha)[1] * std_statistic\n",
    "                CI = np.array([statistic, error])\n",
    "                \n",
    "            temp_df = pd.DataFrame({'Years_compared':str(df_a.Date.dt.year.unique()[0])+'-'+str(df_b.Date.dt.year.unique()[0]) , 'Month': month, 'Pollutant': pollutant, \\\n",
    "                                        'middle': CI[0], 'std_dev': std_dev_ratio*100, 'std_95th': [CI[1]]})\n",
    "            final_df = pd.concat([final_df, temp_df])\n",
    "            \n",
    "    return final_df.reset_index().drop('index', axis=1)"
   ]
  },
  {
   "cell_type": "markdown",
   "metadata": {},
   "source": [
    "First we compute the monthly average of the pollutants in Spain:"
   ]
  },
  {
   "cell_type": "code",
   "execution_count": 56,
   "metadata": {},
   "outputs": [
    {
     "name": "stdin",
     "output_type": "stream",
     "text": [
      "Beware: inserting the original DataFrame will imply a long runtime process (> 10 min). It is advised\n",
      "                    to use the returned DataFrame after applying the monthly_city_pollutant() function. Do you want to continue anyway?\n",
      "\n",
      "                    Type \"y\" for Yes\n",
      "\n",
      "                    Type \"n\" for No\n",
      " y\n"
     ]
    },
    {
     "name": "stdout",
     "output_type": "stream",
     "text": [
      "Implementing function: monthly_city_pollutant. This may take a while.\n",
      "Implementing function: monthly_country_pollutant\n"
     ]
    }
   ],
   "source": [
    "month_country_pollut_df = monthly_country_pollutant(df_spain)"
   ]
  },
  {
   "cell_type": "code",
   "execution_count": 57,
   "metadata": {},
   "outputs": [
    {
     "data": {
      "text/html": [
       "<div>\n",
       "<style scoped>\n",
       "    .dataframe tbody tr th:only-of-type {\n",
       "        vertical-align: middle;\n",
       "    }\n",
       "\n",
       "    .dataframe tbody tr th {\n",
       "        vertical-align: top;\n",
       "    }\n",
       "\n",
       "    .dataframe thead th {\n",
       "        text-align: right;\n",
       "    }\n",
       "</style>\n",
       "<table border=\"1\" class=\"dataframe\">\n",
       "  <thead>\n",
       "    <tr style=\"text-align: right;\">\n",
       "      <th></th>\n",
       "      <th>Date</th>\n",
       "      <th>Month</th>\n",
       "      <th>Country</th>\n",
       "      <th>Country_name</th>\n",
       "      <th>No_points</th>\n",
       "      <th>Pollutant</th>\n",
       "      <th>AQI</th>\n",
       "      <th>std_dev</th>\n",
       "      <th>conf_interval_95%</th>\n",
       "    </tr>\n",
       "  </thead>\n",
       "  <tbody>\n",
       "    <tr>\n",
       "      <th>0</th>\n",
       "      <td>2019-01-01</td>\n",
       "      <td>1</td>\n",
       "      <td>ES</td>\n",
       "      <td>Spain</td>\n",
       "      <td>10</td>\n",
       "      <td>pm25</td>\n",
       "      <td>36.137820</td>\n",
       "      <td>0.949186</td>\n",
       "      <td>2.147207</td>\n",
       "    </tr>\n",
       "    <tr>\n",
       "      <th>1</th>\n",
       "      <td>2019-01-01</td>\n",
       "      <td>1</td>\n",
       "      <td>ES</td>\n",
       "      <td>Spain</td>\n",
       "      <td>21</td>\n",
       "      <td>no2</td>\n",
       "      <td>11.124989</td>\n",
       "      <td>0.191468</td>\n",
       "      <td>0.399396</td>\n",
       "    </tr>\n",
       "    <tr>\n",
       "      <th>2</th>\n",
       "      <td>2019-01-01</td>\n",
       "      <td>1</td>\n",
       "      <td>ES</td>\n",
       "      <td>Spain</td>\n",
       "      <td>21</td>\n",
       "      <td>pm10</td>\n",
       "      <td>17.291600</td>\n",
       "      <td>0.319628</td>\n",
       "      <td>0.666732</td>\n",
       "    </tr>\n",
       "    <tr>\n",
       "      <th>3</th>\n",
       "      <td>2019-01-01</td>\n",
       "      <td>1</td>\n",
       "      <td>ES</td>\n",
       "      <td>Spain</td>\n",
       "      <td>21</td>\n",
       "      <td>so2</td>\n",
       "      <td>2.434591</td>\n",
       "      <td>0.032127</td>\n",
       "      <td>0.067017</td>\n",
       "    </tr>\n",
       "    <tr>\n",
       "      <th>4</th>\n",
       "      <td>2019-02-01</td>\n",
       "      <td>2</td>\n",
       "      <td>ES</td>\n",
       "      <td>Spain</td>\n",
       "      <td>10</td>\n",
       "      <td>pm25</td>\n",
       "      <td>51.928571</td>\n",
       "      <td>1.240456</td>\n",
       "      <td>2.806107</td>\n",
       "    </tr>\n",
       "    <tr>\n",
       "      <th>...</th>\n",
       "      <td>...</td>\n",
       "      <td>...</td>\n",
       "      <td>...</td>\n",
       "      <td>...</td>\n",
       "      <td>...</td>\n",
       "      <td>...</td>\n",
       "      <td>...</td>\n",
       "      <td>...</td>\n",
       "      <td>...</td>\n",
       "    </tr>\n",
       "    <tr>\n",
       "      <th>91</th>\n",
       "      <td>2020-11-01</td>\n",
       "      <td>11</td>\n",
       "      <td>ES</td>\n",
       "      <td>Spain</td>\n",
       "      <td>23</td>\n",
       "      <td>so2</td>\n",
       "      <td>2.006626</td>\n",
       "      <td>0.041144</td>\n",
       "      <td>0.085327</td>\n",
       "    </tr>\n",
       "    <tr>\n",
       "      <th>92</th>\n",
       "      <td>2020-12-01</td>\n",
       "      <td>12</td>\n",
       "      <td>ES</td>\n",
       "      <td>Spain</td>\n",
       "      <td>13</td>\n",
       "      <td>pm25</td>\n",
       "      <td>23.804581</td>\n",
       "      <td>0.850773</td>\n",
       "      <td>1.853676</td>\n",
       "    </tr>\n",
       "    <tr>\n",
       "      <th>93</th>\n",
       "      <td>2020-12-01</td>\n",
       "      <td>12</td>\n",
       "      <td>ES</td>\n",
       "      <td>Spain</td>\n",
       "      <td>23</td>\n",
       "      <td>no2</td>\n",
       "      <td>7.397500</td>\n",
       "      <td>0.135497</td>\n",
       "      <td>0.281004</td>\n",
       "    </tr>\n",
       "    <tr>\n",
       "      <th>94</th>\n",
       "      <td>2020-12-01</td>\n",
       "      <td>12</td>\n",
       "      <td>ES</td>\n",
       "      <td>Spain</td>\n",
       "      <td>23</td>\n",
       "      <td>pm10</td>\n",
       "      <td>11.987642</td>\n",
       "      <td>0.335869</td>\n",
       "      <td>0.696550</td>\n",
       "    </tr>\n",
       "    <tr>\n",
       "      <th>95</th>\n",
       "      <td>2020-12-01</td>\n",
       "      <td>12</td>\n",
       "      <td>ES</td>\n",
       "      <td>Spain</td>\n",
       "      <td>23</td>\n",
       "      <td>so2</td>\n",
       "      <td>2.067504</td>\n",
       "      <td>0.022942</td>\n",
       "      <td>0.047578</td>\n",
       "    </tr>\n",
       "  </tbody>\n",
       "</table>\n",
       "<p>96 rows × 9 columns</p>\n",
       "</div>"
      ],
      "text/plain": [
       "         Date  Month Country Country_name  No_points Pollutant        AQI  \\\n",
       "0  2019-01-01      1      ES        Spain         10      pm25  36.137820   \n",
       "1  2019-01-01      1      ES        Spain         21       no2  11.124989   \n",
       "2  2019-01-01      1      ES        Spain         21      pm10  17.291600   \n",
       "3  2019-01-01      1      ES        Spain         21       so2   2.434591   \n",
       "4  2019-02-01      2      ES        Spain         10      pm25  51.928571   \n",
       "..        ...    ...     ...          ...        ...       ...        ...   \n",
       "91 2020-11-01     11      ES        Spain         23       so2   2.006626   \n",
       "92 2020-12-01     12      ES        Spain         13      pm25  23.804581   \n",
       "93 2020-12-01     12      ES        Spain         23       no2   7.397500   \n",
       "94 2020-12-01     12      ES        Spain         23      pm10  11.987642   \n",
       "95 2020-12-01     12      ES        Spain         23       so2   2.067504   \n",
       "\n",
       "     std_dev  conf_interval_95%  \n",
       "0   0.949186           2.147207  \n",
       "1   0.191468           0.399396  \n",
       "2   0.319628           0.666732  \n",
       "3   0.032127           0.067017  \n",
       "4   1.240456           2.806107  \n",
       "..       ...                ...  \n",
       "91  0.041144           0.085327  \n",
       "92  0.850773           1.853676  \n",
       "93  0.135497           0.281004  \n",
       "94  0.335869           0.696550  \n",
       "95  0.022942           0.047578  \n",
       "\n",
       "[96 rows x 9 columns]"
      ]
     },
     "execution_count": 57,
     "metadata": {},
     "output_type": "execute_result"
    }
   ],
   "source": [
    "month_country_pollut_df\n"
   ]
  },
  {
   "cell_type": "markdown",
   "metadata": {},
   "source": [
    "And we apply now the month_t_conf_interval_pollutants() function:"
   ]
  },
  {
   "cell_type": "code",
   "execution_count": 58,
   "metadata": {},
   "outputs": [
    {
     "data": {
      "text/html": [
       "<div>\n",
       "<style scoped>\n",
       "    .dataframe tbody tr th:only-of-type {\n",
       "        vertical-align: middle;\n",
       "    }\n",
       "\n",
       "    .dataframe tbody tr th {\n",
       "        vertical-align: top;\n",
       "    }\n",
       "\n",
       "    .dataframe thead th {\n",
       "        text-align: right;\n",
       "    }\n",
       "</style>\n",
       "<table border=\"1\" class=\"dataframe\">\n",
       "  <thead>\n",
       "    <tr style=\"text-align: right;\">\n",
       "      <th></th>\n",
       "      <th>Years_compared</th>\n",
       "      <th>Month</th>\n",
       "      <th>Pollutant</th>\n",
       "      <th>middle</th>\n",
       "      <th>std_dev</th>\n",
       "      <th>std_95th</th>\n",
       "    </tr>\n",
       "  </thead>\n",
       "  <tbody>\n",
       "    <tr>\n",
       "      <th>0</th>\n",
       "      <td>2020-2019</td>\n",
       "      <td>1</td>\n",
       "      <td>no2</td>\n",
       "      <td>-1.808100</td>\n",
       "      <td>-1.468606</td>\n",
       "      <td>-2.960603</td>\n",
       "    </tr>\n",
       "    <tr>\n",
       "      <th>1</th>\n",
       "      <td>2020-2019</td>\n",
       "      <td>1</td>\n",
       "      <td>pm10</td>\n",
       "      <td>12.869689</td>\n",
       "      <td>1.706221</td>\n",
       "      <td>3.441784</td>\n",
       "    </tr>\n",
       "    <tr>\n",
       "      <th>2</th>\n",
       "      <td>2020-2019</td>\n",
       "      <td>1</td>\n",
       "      <td>pm25</td>\n",
       "      <td>10.398382</td>\n",
       "      <td>2.486503</td>\n",
       "      <td>5.185881</td>\n",
       "    </tr>\n",
       "    <tr>\n",
       "      <th>3</th>\n",
       "      <td>2020-2019</td>\n",
       "      <td>1</td>\n",
       "      <td>so2</td>\n",
       "      <td>-5.855445</td>\n",
       "      <td>-1.364939</td>\n",
       "      <td>-2.750904</td>\n",
       "    </tr>\n",
       "    <tr>\n",
       "      <th>4</th>\n",
       "      <td>2020-2019</td>\n",
       "      <td>2</td>\n",
       "      <td>no2</td>\n",
       "      <td>-17.717722</td>\n",
       "      <td>-1.346046</td>\n",
       "      <td>-2.713530</td>\n",
       "    </tr>\n",
       "    <tr>\n",
       "      <th>5</th>\n",
       "      <td>2020-2019</td>\n",
       "      <td>2</td>\n",
       "      <td>pm10</td>\n",
       "      <td>-12.134631</td>\n",
       "      <td>-1.091259</td>\n",
       "      <td>-2.201283</td>\n",
       "    </tr>\n",
       "    <tr>\n",
       "      <th>6</th>\n",
       "      <td>2020-2019</td>\n",
       "      <td>2</td>\n",
       "      <td>pm25</td>\n",
       "      <td>-16.335024</td>\n",
       "      <td>-1.738690</td>\n",
       "      <td>-3.626232</td>\n",
       "    </tr>\n",
       "    <tr>\n",
       "      <th>7</th>\n",
       "      <td>2020-2019</td>\n",
       "      <td>2</td>\n",
       "      <td>so2</td>\n",
       "      <td>-10.349830</td>\n",
       "      <td>-1.382420</td>\n",
       "      <td>-2.786134</td>\n",
       "    </tr>\n",
       "    <tr>\n",
       "      <th>8</th>\n",
       "      <td>2020-2019</td>\n",
       "      <td>3</td>\n",
       "      <td>no2</td>\n",
       "      <td>-34.590421</td>\n",
       "      <td>-1.907721</td>\n",
       "      <td>-3.845826</td>\n",
       "    </tr>\n",
       "    <tr>\n",
       "      <th>9</th>\n",
       "      <td>2020-2019</td>\n",
       "      <td>3</td>\n",
       "      <td>pm10</td>\n",
       "      <td>-23.071911</td>\n",
       "      <td>-1.445198</td>\n",
       "      <td>-2.915250</td>\n",
       "    </tr>\n",
       "    <tr>\n",
       "      <th>10</th>\n",
       "      <td>2020-2019</td>\n",
       "      <td>3</td>\n",
       "      <td>pm25</td>\n",
       "      <td>-19.869316</td>\n",
       "      <td>-2.289846</td>\n",
       "      <td>-4.775730</td>\n",
       "    </tr>\n",
       "    <tr>\n",
       "      <th>11</th>\n",
       "      <td>2020-2019</td>\n",
       "      <td>3</td>\n",
       "      <td>so2</td>\n",
       "      <td>-6.924002</td>\n",
       "      <td>-1.552982</td>\n",
       "      <td>-3.129886</td>\n",
       "    </tr>\n",
       "    <tr>\n",
       "      <th>12</th>\n",
       "      <td>2020-2019</td>\n",
       "      <td>4</td>\n",
       "      <td>no2</td>\n",
       "      <td>-45.637629</td>\n",
       "      <td>-2.599345</td>\n",
       "      <td>-5.240089</td>\n",
       "    </tr>\n",
       "    <tr>\n",
       "      <th>13</th>\n",
       "      <td>2020-2019</td>\n",
       "      <td>4</td>\n",
       "      <td>pm10</td>\n",
       "      <td>-21.410539</td>\n",
       "      <td>-2.015658</td>\n",
       "      <td>-4.065979</td>\n",
       "    </tr>\n",
       "    <tr>\n",
       "      <th>14</th>\n",
       "      <td>2020-2019</td>\n",
       "      <td>4</td>\n",
       "      <td>pm25</td>\n",
       "      <td>-14.411201</td>\n",
       "      <td>-2.835731</td>\n",
       "      <td>-5.914233</td>\n",
       "    </tr>\n",
       "    <tr>\n",
       "      <th>15</th>\n",
       "      <td>2020-2019</td>\n",
       "      <td>4</td>\n",
       "      <td>so2</td>\n",
       "      <td>2.951724</td>\n",
       "      <td>1.639849</td>\n",
       "      <td>3.304958</td>\n",
       "    </tr>\n",
       "    <tr>\n",
       "      <th>16</th>\n",
       "      <td>2020-2019</td>\n",
       "      <td>5</td>\n",
       "      <td>no2</td>\n",
       "      <td>-32.355767</td>\n",
       "      <td>-2.738646</td>\n",
       "      <td>-5.520912</td>\n",
       "    </tr>\n",
       "    <tr>\n",
       "      <th>17</th>\n",
       "      <td>2020-2019</td>\n",
       "      <td>5</td>\n",
       "      <td>pm10</td>\n",
       "      <td>-13.111050</td>\n",
       "      <td>-1.714154</td>\n",
       "      <td>-3.457785</td>\n",
       "    </tr>\n",
       "    <tr>\n",
       "      <th>18</th>\n",
       "      <td>2020-2019</td>\n",
       "      <td>5</td>\n",
       "      <td>pm25</td>\n",
       "      <td>-5.678895</td>\n",
       "      <td>-2.790623</td>\n",
       "      <td>-5.820157</td>\n",
       "    </tr>\n",
       "    <tr>\n",
       "      <th>19</th>\n",
       "      <td>2020-2019</td>\n",
       "      <td>5</td>\n",
       "      <td>so2</td>\n",
       "      <td>-6.194533</td>\n",
       "      <td>-1.515629</td>\n",
       "      <td>-3.054604</td>\n",
       "    </tr>\n",
       "    <tr>\n",
       "      <th>20</th>\n",
       "      <td>2020-2019</td>\n",
       "      <td>6</td>\n",
       "      <td>no2</td>\n",
       "      <td>-19.687014</td>\n",
       "      <td>-2.873411</td>\n",
       "      <td>-5.792587</td>\n",
       "    </tr>\n",
       "    <tr>\n",
       "      <th>21</th>\n",
       "      <td>2020-2019</td>\n",
       "      <td>6</td>\n",
       "      <td>pm10</td>\n",
       "      <td>-24.394996</td>\n",
       "      <td>-1.526849</td>\n",
       "      <td>-3.079955</td>\n",
       "    </tr>\n",
       "    <tr>\n",
       "      <th>22</th>\n",
       "      <td>2020-2019</td>\n",
       "      <td>6</td>\n",
       "      <td>pm25</td>\n",
       "      <td>-24.924985</td>\n",
       "      <td>-2.477173</td>\n",
       "      <td>-5.166422</td>\n",
       "    </tr>\n",
       "    <tr>\n",
       "      <th>23</th>\n",
       "      <td>2020-2019</td>\n",
       "      <td>6</td>\n",
       "      <td>so2</td>\n",
       "      <td>8.744802</td>\n",
       "      <td>1.587873</td>\n",
       "      <td>3.200206</td>\n",
       "    </tr>\n",
       "    <tr>\n",
       "      <th>24</th>\n",
       "      <td>2020-2019</td>\n",
       "      <td>7</td>\n",
       "      <td>no2</td>\n",
       "      <td>-17.503114</td>\n",
       "      <td>-2.735806</td>\n",
       "      <td>-5.515186</td>\n",
       "    </tr>\n",
       "    <tr>\n",
       "      <th>25</th>\n",
       "      <td>2020-2019</td>\n",
       "      <td>7</td>\n",
       "      <td>pm10</td>\n",
       "      <td>-10.617317</td>\n",
       "      <td>-1.372372</td>\n",
       "      <td>-2.768345</td>\n",
       "    </tr>\n",
       "    <tr>\n",
       "      <th>26</th>\n",
       "      <td>2020-2019</td>\n",
       "      <td>7</td>\n",
       "      <td>pm25</td>\n",
       "      <td>-21.835635</td>\n",
       "      <td>-2.154030</td>\n",
       "      <td>-4.492470</td>\n",
       "    </tr>\n",
       "    <tr>\n",
       "      <th>27</th>\n",
       "      <td>2020-2019</td>\n",
       "      <td>7</td>\n",
       "      <td>so2</td>\n",
       "      <td>-1.737508</td>\n",
       "      <td>-1.470477</td>\n",
       "      <td>-2.963605</td>\n",
       "    </tr>\n",
       "    <tr>\n",
       "      <th>28</th>\n",
       "      <td>2020-2019</td>\n",
       "      <td>8</td>\n",
       "      <td>no2</td>\n",
       "      <td>-11.616373</td>\n",
       "      <td>-2.847767</td>\n",
       "      <td>-5.740890</td>\n",
       "    </tr>\n",
       "    <tr>\n",
       "      <th>29</th>\n",
       "      <td>2020-2019</td>\n",
       "      <td>8</td>\n",
       "      <td>pm10</td>\n",
       "      <td>-12.438040</td>\n",
       "      <td>-1.548230</td>\n",
       "      <td>-3.123086</td>\n",
       "    </tr>\n",
       "    <tr>\n",
       "      <th>30</th>\n",
       "      <td>2020-2019</td>\n",
       "      <td>8</td>\n",
       "      <td>pm25</td>\n",
       "      <td>-28.369846</td>\n",
       "      <td>-2.330233</td>\n",
       "      <td>-4.859961</td>\n",
       "    </tr>\n",
       "    <tr>\n",
       "      <th>31</th>\n",
       "      <td>2020-2019</td>\n",
       "      <td>8</td>\n",
       "      <td>so2</td>\n",
       "      <td>-1.797939</td>\n",
       "      <td>-1.435784</td>\n",
       "      <td>-2.893685</td>\n",
       "    </tr>\n",
       "    <tr>\n",
       "      <th>32</th>\n",
       "      <td>2020-2019</td>\n",
       "      <td>9</td>\n",
       "      <td>no2</td>\n",
       "      <td>-3.087970</td>\n",
       "      <td>-2.365787</td>\n",
       "      <td>-4.769254</td>\n",
       "    </tr>\n",
       "    <tr>\n",
       "      <th>33</th>\n",
       "      <td>2020-2019</td>\n",
       "      <td>9</td>\n",
       "      <td>pm10</td>\n",
       "      <td>-14.841816</td>\n",
       "      <td>-1.528850</td>\n",
       "      <td>-3.083991</td>\n",
       "    </tr>\n",
       "    <tr>\n",
       "      <th>34</th>\n",
       "      <td>2020-2019</td>\n",
       "      <td>9</td>\n",
       "      <td>pm25</td>\n",
       "      <td>-14.710982</td>\n",
       "      <td>-2.539874</td>\n",
       "      <td>-5.297192</td>\n",
       "    </tr>\n",
       "    <tr>\n",
       "      <th>35</th>\n",
       "      <td>2020-2019</td>\n",
       "      <td>9</td>\n",
       "      <td>so2</td>\n",
       "      <td>1.769887</td>\n",
       "      <td>1.562551</td>\n",
       "      <td>3.149172</td>\n",
       "    </tr>\n",
       "    <tr>\n",
       "      <th>36</th>\n",
       "      <td>2020-2019</td>\n",
       "      <td>10</td>\n",
       "      <td>no2</td>\n",
       "      <td>-19.186921</td>\n",
       "      <td>-1.937488</td>\n",
       "      <td>-3.905834</td>\n",
       "    </tr>\n",
       "    <tr>\n",
       "      <th>37</th>\n",
       "      <td>2020-2019</td>\n",
       "      <td>10</td>\n",
       "      <td>pm10</td>\n",
       "      <td>-23.826311</td>\n",
       "      <td>-1.651387</td>\n",
       "      <td>-3.331172</td>\n",
       "    </tr>\n",
       "    <tr>\n",
       "      <th>38</th>\n",
       "      <td>2020-2019</td>\n",
       "      <td>10</td>\n",
       "      <td>pm25</td>\n",
       "      <td>-27.005555</td>\n",
       "      <td>-2.684543</td>\n",
       "      <td>-5.598915</td>\n",
       "    </tr>\n",
       "    <tr>\n",
       "      <th>39</th>\n",
       "      <td>2020-2019</td>\n",
       "      <td>10</td>\n",
       "      <td>so2</td>\n",
       "      <td>-18.719081</td>\n",
       "      <td>-1.393222</td>\n",
       "      <td>-2.807905</td>\n",
       "    </tr>\n",
       "    <tr>\n",
       "      <th>40</th>\n",
       "      <td>2020-2019</td>\n",
       "      <td>11</td>\n",
       "      <td>no2</td>\n",
       "      <td>11.739517</td>\n",
       "      <td>2.119284</td>\n",
       "      <td>4.272322</td>\n",
       "    </tr>\n",
       "    <tr>\n",
       "      <th>41</th>\n",
       "      <td>2020-2019</td>\n",
       "      <td>11</td>\n",
       "      <td>pm10</td>\n",
       "      <td>39.537306</td>\n",
       "      <td>2.489180</td>\n",
       "      <td>5.021167</td>\n",
       "    </tr>\n",
       "    <tr>\n",
       "      <th>42</th>\n",
       "      <td>2020-2019</td>\n",
       "      <td>11</td>\n",
       "      <td>pm25</td>\n",
       "      <td>45.107413</td>\n",
       "      <td>3.985642</td>\n",
       "      <td>8.312501</td>\n",
       "    </tr>\n",
       "    <tr>\n",
       "      <th>43</th>\n",
       "      <td>2020-2019</td>\n",
       "      <td>11</td>\n",
       "      <td>so2</td>\n",
       "      <td>-10.791882</td>\n",
       "      <td>-1.480432</td>\n",
       "      <td>-2.983668</td>\n",
       "    </tr>\n",
       "    <tr>\n",
       "      <th>44</th>\n",
       "      <td>2020-2019</td>\n",
       "      <td>12</td>\n",
       "      <td>no2</td>\n",
       "      <td>-23.302703</td>\n",
       "      <td>-1.718884</td>\n",
       "      <td>-3.465144</td>\n",
       "    </tr>\n",
       "    <tr>\n",
       "      <th>45</th>\n",
       "      <td>2020-2019</td>\n",
       "      <td>12</td>\n",
       "      <td>pm10</td>\n",
       "      <td>-25.743736</td>\n",
       "      <td>-1.845976</td>\n",
       "      <td>-3.723697</td>\n",
       "    </tr>\n",
       "    <tr>\n",
       "      <th>46</th>\n",
       "      <td>2020-2019</td>\n",
       "      <td>12</td>\n",
       "      <td>pm25</td>\n",
       "      <td>-30.252216</td>\n",
       "      <td>-2.696404</td>\n",
       "      <td>-5.623652</td>\n",
       "    </tr>\n",
       "    <tr>\n",
       "      <th>47</th>\n",
       "      <td>2020-2019</td>\n",
       "      <td>12</td>\n",
       "      <td>so2</td>\n",
       "      <td>-7.122718</td>\n",
       "      <td>-1.493431</td>\n",
       "      <td>-3.009866</td>\n",
       "    </tr>\n",
       "  </tbody>\n",
       "</table>\n",
       "</div>"
      ],
      "text/plain": [
       "   Years_compared  Month Pollutant     middle   std_dev  std_95th\n",
       "0       2020-2019      1       no2  -1.808100 -1.468606 -2.960603\n",
       "1       2020-2019      1      pm10  12.869689  1.706221  3.441784\n",
       "2       2020-2019      1      pm25  10.398382  2.486503  5.185881\n",
       "3       2020-2019      1       so2  -5.855445 -1.364939 -2.750904\n",
       "4       2020-2019      2       no2 -17.717722 -1.346046 -2.713530\n",
       "5       2020-2019      2      pm10 -12.134631 -1.091259 -2.201283\n",
       "6       2020-2019      2      pm25 -16.335024 -1.738690 -3.626232\n",
       "7       2020-2019      2       so2 -10.349830 -1.382420 -2.786134\n",
       "8       2020-2019      3       no2 -34.590421 -1.907721 -3.845826\n",
       "9       2020-2019      3      pm10 -23.071911 -1.445198 -2.915250\n",
       "10      2020-2019      3      pm25 -19.869316 -2.289846 -4.775730\n",
       "11      2020-2019      3       so2  -6.924002 -1.552982 -3.129886\n",
       "12      2020-2019      4       no2 -45.637629 -2.599345 -5.240089\n",
       "13      2020-2019      4      pm10 -21.410539 -2.015658 -4.065979\n",
       "14      2020-2019      4      pm25 -14.411201 -2.835731 -5.914233\n",
       "15      2020-2019      4       so2   2.951724  1.639849  3.304958\n",
       "16      2020-2019      5       no2 -32.355767 -2.738646 -5.520912\n",
       "17      2020-2019      5      pm10 -13.111050 -1.714154 -3.457785\n",
       "18      2020-2019      5      pm25  -5.678895 -2.790623 -5.820157\n",
       "19      2020-2019      5       so2  -6.194533 -1.515629 -3.054604\n",
       "20      2020-2019      6       no2 -19.687014 -2.873411 -5.792587\n",
       "21      2020-2019      6      pm10 -24.394996 -1.526849 -3.079955\n",
       "22      2020-2019      6      pm25 -24.924985 -2.477173 -5.166422\n",
       "23      2020-2019      6       so2   8.744802  1.587873  3.200206\n",
       "24      2020-2019      7       no2 -17.503114 -2.735806 -5.515186\n",
       "25      2020-2019      7      pm10 -10.617317 -1.372372 -2.768345\n",
       "26      2020-2019      7      pm25 -21.835635 -2.154030 -4.492470\n",
       "27      2020-2019      7       so2  -1.737508 -1.470477 -2.963605\n",
       "28      2020-2019      8       no2 -11.616373 -2.847767 -5.740890\n",
       "29      2020-2019      8      pm10 -12.438040 -1.548230 -3.123086\n",
       "30      2020-2019      8      pm25 -28.369846 -2.330233 -4.859961\n",
       "31      2020-2019      8       so2  -1.797939 -1.435784 -2.893685\n",
       "32      2020-2019      9       no2  -3.087970 -2.365787 -4.769254\n",
       "33      2020-2019      9      pm10 -14.841816 -1.528850 -3.083991\n",
       "34      2020-2019      9      pm25 -14.710982 -2.539874 -5.297192\n",
       "35      2020-2019      9       so2   1.769887  1.562551  3.149172\n",
       "36      2020-2019     10       no2 -19.186921 -1.937488 -3.905834\n",
       "37      2020-2019     10      pm10 -23.826311 -1.651387 -3.331172\n",
       "38      2020-2019     10      pm25 -27.005555 -2.684543 -5.598915\n",
       "39      2020-2019     10       so2 -18.719081 -1.393222 -2.807905\n",
       "40      2020-2019     11       no2  11.739517  2.119284  4.272322\n",
       "41      2020-2019     11      pm10  39.537306  2.489180  5.021167\n",
       "42      2020-2019     11      pm25  45.107413  3.985642  8.312501\n",
       "43      2020-2019     11       so2 -10.791882 -1.480432 -2.983668\n",
       "44      2020-2019     12       no2 -23.302703 -1.718884 -3.465144\n",
       "45      2020-2019     12      pm10 -25.743736 -1.845976 -3.723697\n",
       "46      2020-2019     12      pm25 -30.252216 -2.696404 -5.623652\n",
       "47      2020-2019     12       so2  -7.122718 -1.493431 -3.009866"
      ]
     },
     "execution_count": 58,
     "metadata": {},
     "output_type": "execute_result"
    }
   ],
   "source": [
    "# Inputs for the function\n",
    "df_month_pollut_19 = month_country_pollut_df[month_country_pollut_df.Date.dt.year == 2019].sort_values(by='Pollutant')\n",
    "df_month_pollut_20 = month_country_pollut_df[month_country_pollut_df.Date.dt.year == 2020].sort_values(by='Pollutant')\n",
    "\n",
    "rel_pollut_month_19_20 = month_t_conf_interval_pollutants(df_month_pollut_20, df_month_pollut_19, unequal_var=True)\n",
    "rel_pollut_month_19_20.head(50)"
   ]
  },
  {
   "cell_type": "code",
   "execution_count": 59,
   "metadata": {},
   "outputs": [
    {
     "data": {
      "text/plain": [
       "<AxesSubplot:xlabel='Month', ylabel='middle'>"
      ]
     },
     "execution_count": 59,
     "metadata": {},
     "output_type": "execute_result"
    },
    {
     "data": {
      "image/png": "[encoded data removed]",
      "text/plain": [
       "<Figure size 1080x360 with 1 Axes>"
      ]
     },
     "metadata": {
      "needs_background": "light"
     },
     "output_type": "display_data"
    }
   ],
   "source": [
    "months = rel_pollut_month_19_20.sort_values(by='Month').Month\n",
    "percent_difference = rel_pollut_month_19_20.sort_values(by='Month')['middle']\n",
    "hue = rel_pollut_month_19_20.sort_values(by='Month').Pollutant\n",
    "\n",
    "plt.rcParams[\"figure.figsize\"] = (15,5)\n",
    "sns.barplot(x=months, y=percent_difference, \\\n",
    "        alpha=1, hue=hue)"
   ]
  },
  {
   "cell_type": "code",
   "execution_count": 62,
   "metadata": {},
   "outputs": [
    {
     "data": {
      "text/plain": [
       "<AxesSubplot:xlabel='Month', ylabel='AQI'>"
      ]
     },
     "execution_count": 62,
     "metadata": {},
     "output_type": "execute_result"
    },
    {
     "data": {
      "image/png": "[encoded data removed]",
      "text/plain": [
       "<Figure size 1080x432 with 1 Axes>"
      ]
     },
     "metadata": {
      "needs_background": "light"
     },
     "output_type": "display_data"
    }
   ],
   "source": [
    "months = month_country_pollut_df[month_country_pollut_df.Date.dt.year == 2020].sort_values(by=['Month']).Month\n",
    "abs_val = month_country_pollut_df[month_country_pollut_df.Date.dt.year == 2020].sort_values(by=['Month'])['AQI']\n",
    "hue = month_country_pollut_df[month_country_pollut_df.Date.dt.year == 2020].sort_values(by=['Month']).Pollutant\n",
    "\n",
    "plt.rcParams[\"figure.figsize\"] = (15,6)\n",
    "sns.barplot(x=months, y=abs_val, \\\n",
    "        alpha=1, hue=hue)"
   ]
  },
  {
   "cell_type": "code",
   "execution_count": 60,
   "metadata": {},
   "outputs": [],
   "source": [
    "def plot_with_err(x, data, **kwargs):\n",
    "    y = data.middle\n",
    "    lines = plt.plot(x, y, '-', marker='o', **kwargs)\n",
    "    middle = data.middle\n",
    "    std = data.std_95th\n",
    "    plt.fill_between(x, middle - std, middle + std, edgecolor='none',\n",
    "                     facecolor=lines[0].get_color(), alpha=0.2)\n"
   ]
  },
  {
   "cell_type": "code",
   "execution_count": 61,
   "metadata": {},
   "outputs": [
    {
     "data": {
      "text/plain": [
       "(0.0, 12.0)"
      ]
     },
     "execution_count": 61,
     "metadata": {},
     "output_type": "execute_result"
    },
    {
     "data": {
      "image/png": "[encoded data removed]",
      "text/plain": [
       "<Figure size 1080x360 with 1 Axes>"
      ]
     },
     "metadata": {
      "needs_background": "light"
     },
     "output_type": "display_data"
    }
   ],
   "source": [
    "for pollutant in rel_pollut_month_19_20.Pollutant.unique():\n",
    "    \n",
    "    plot_with_err(x=rel_pollut_month_19_20[rel_pollut_month_19_20.Pollutant == pollutant].Month, data=rel_pollut_month_19_20[rel_pollut_month_19_20.Pollutant == pollutant])\n",
    "\n",
    "plt.hlines(y=0, xmin=0, xmax=12)\n",
    "plt.xlim(0, 12)"
   ]
  },
  {
   "cell_type": "markdown",
   "metadata": {},
   "source": [
    "NO$_2$ is the pollutant that decreases the most during the confinement since it is the main combustion byproduct from vehicles. To visualize better its absolute levels and trend let's plot the 2019 and 2020 side-by-side:"
   ]
  },
  {
   "cell_type": "code",
   "execution_count": 73,
   "metadata": {},
   "outputs": [
    {
     "data": {
      "image/png": "[encoded data removed]",
      "text/plain": [
       "<Figure size 1080x432 with 1 Axes>"
      ]
     },
     "metadata": {
      "needs_background": "light"
     },
     "output_type": "display_data"
    }
   ],
   "source": [
    "# Graphs a bar plot with 2019-2020 absolute values of NO2 AQI.\n",
    "\n",
    "year_19 =  df_month_pollut_19[df_month_pollut_19.Pollutant == 'no2'].sort_values(by='Month').AQI\n",
    "year_20 =  df_month_pollut_20[df_month_pollut_20.Pollutant == 'no2'].sort_values(by='Month').AQI\n",
    "\n",
    "err_19 = df_month_pollut_19[df_month_pollut_19.Pollutant == 'no2'].sort_values(by='Month')['conf_interval_95%']\n",
    "err_20 = df_month_pollut_20[df_month_pollut_20.Pollutant == 'no2'].sort_values(by='Month')['conf_interval_95%']\n",
    "\n",
    "labels = ['Jan', 'Feb', 'Mar', 'Apr', 'May', 'Jun', 'Jul', 'Aug', 'Sep', 'Oct', 'Nov', 'Dec']\n",
    "\n",
    "x = np.arange(len(labels))  \n",
    "width = 0.35  \n",
    "\n",
    "fig, ax = plt.subplots()\n",
    "rects1 = ax.bar(x - width/2, year_19, width, label='2019', yerr= err_19)\n",
    "rects2 = ax.bar(x + width/2, year_20, width, label='2020', yerr= err_20)\n",
    "\n",
    "\n",
    "ax.set_ylabel('Scores')\n",
    "ax.set_xlabel('Months')\n",
    "ax.set_title('AQI comparison between 2019 and 2020')\n",
    "ax.set_xticks(x)\n",
    "ax.set_xticklabels(labels)\n",
    "ax.legend()\n",
    "\n",
    "fig.tight_layout()\n",
    "\n",
    "plt.show()"
   ]
  },
  {
   "cell_type": "markdown",
   "metadata": {},
   "source": [
    "## How did the air quality changed in the Spanish cities? <a class='anchor' id='third_question'>"
   ]
  },
  {
   "cell_type": "markdown",
   "metadata": {},
   "source": [
    "Since NO$_2$ is the main pollutant generated by cars, we will be looking at this pollutant's variation in 2020 relative to 2019. In order to do this calculation we will use the function below (year_t_conf_interval_city_pollutant()):"
   ]
  },
  {
   "cell_type": "code",
   "execution_count": 74,
   "metadata": {},
   "outputs": [],
   "source": [
    "def year_t_conf_interval_city_pollutant(df_a, df_b, percent=True, unequal_var=True, alpha=0.95):\n",
    "    '''Calculates the yearly relative change of the overall AQI for each city in every country present in both input dataframes. The statistic is taken as AQI(df_a) - AQI(df_b).\n",
    "    INPUT: df_a, df_b: pd.Dataframe with the yearly mean AQI values of the cities we want to compare and the std_dev of those means\n",
    "            percent: if True a percent with its corresponding error is returned. If False, only the returned value is the difference of the mean of both df_a and df_b\n",
    "            unequal_var: if True a Welch's t-test is performed. If False population variances are assumed to be equal and thus a standard t-test is performed where the sample\n",
    "            variance is the pooled variance\n",
    "            alpha: represents the quantile to return in the confidence interval\n",
    "    OUTPUT: pd.DataFrame with the confidence interval of the yearly AQI difference'''\n",
    "    final_df = pd.DataFrame()\n",
    "    \n",
    "    #Find the common countries for both dataframes \n",
    "    countries = list(set(df_a.Country.unique()).intersection(set(df_b.Country.unique())))\n",
    "    for country in countries:\n",
    "        country_filter_a = df_a.Country == country\n",
    "        country_filter_b = df_b.Country == country\n",
    "        \n",
    "        #Find the common pollutants for both dataframes\n",
    "        pollutants = list(set(df_a[country_filter_a].Pollutant.unique()).intersection(set(df_b[country_filter_b].Pollutant.unique())))\n",
    "        for pollutant in pollutants:\n",
    "            pollutant_filter_a = df_a.Pollutant == pollutant\n",
    "            pollutant_filter_b = df_b.Pollutant == pollutant\n",
    "            \n",
    "        \n",
    "        #Find the common cities for both input dataframes\n",
    "            cities = list(set(df_a[country_filter_a & pollutant_filter_a].City.unique()).intersection(set(df_b[country_filter_b & pollutant_filter_b].City.unique())))\n",
    "            for city in cities:\n",
    "                city_filter_a = df_a.City == city\n",
    "                city_filter_b = df_b.City == city\n",
    "\n",
    "                mean_a = df_a[city_filter_a & country_filter_a & pollutant_filter_a].AQI.values[0]\n",
    "                mean_b = df_b[city_filter_b & country_filter_b & pollutant_filter_b].AQI.values[0]\n",
    "\n",
    "                std_a = df_a[city_filter_a & country_filter_a & pollutant_filter_a].std_dev.values[0]\n",
    "                std_b = df_b[city_filter_b & country_filter_b & pollutant_filter_b].std_dev.values[0]\n",
    "\n",
    "                statistic = mean_a-mean_b\n",
    "\n",
    "                n_a = df_a[city_filter_a & country_filter_a & pollutant_filter_a]['No_points'].values[0]\n",
    "                n_b = df_b[city_filter_b & country_filter_b & pollutant_filter_b]['No_points'].values[0]\n",
    "\n",
    "                if unequal_var:\n",
    "                    #Apply Welch t-test method\n",
    "                    std_statistic = np.sqrt(std_a**2 + std_b**2)\n",
    "                    # Welch's degrees of freedom\n",
    "                    degrees_freedom = (std_a**2+std_b**2)**2/(std_a**4/(n_a-1) + std_b**4/(n_b-1))\n",
    "\n",
    "                else:\n",
    "                    # Apply standard method with pooled variance\n",
    "                    std_statistic = np.sqrt(((n_a - 1)*std_a**2 + (n_b - 1)*std_b**2)/(n_a + n_b - 2))\n",
    "                    degrees_freedom = n_a + n_b - 2\n",
    "\n",
    "                #Calculate percentage with respect to the previous year\n",
    "                if percent:\n",
    "                    ratio = statistic/mean_b\n",
    "\n",
    "                    std_dev_mean_b = std_b\n",
    "                    std_dev_ratio = ratio * np.sqrt((std_statistic / statistic)**2 + (std_dev_mean_b  / mean_b)**2) # Propagation by Taylor approximation to first degree\n",
    "\n",
    "\n",
    "\n",
    "                    error_95th = stats.t.interval(df=degrees_freedom, alpha=alpha)[1] * std_dev_ratio\n",
    "\n",
    "                    percent = ratio *100\n",
    "                    std_95th_percent = error_95th*100\n",
    "\n",
    "                    CI = [percent, std_95th_percent]\n",
    "                if not percent:\n",
    "                    error = stats.t.interval(df=degrees_freedom, alpha=alpha)[1] * std_statistic\n",
    "                    CI = np.array([statistic, error])\n",
    "\n",
    "                temp_df = pd.DataFrame({'Year':str(df_a.Date.dt.year.unique()[0])+'-'+str(df_b.Date.dt.year.unique()[0]) , 'Country': country, 'City': city, 'Pollutant': pollutant, \\\n",
    "                                                'rel_value': CI[0], 'std': std_dev_ratio*100, 'std_95th(%)': [CI[1]]})\n",
    "                final_df = pd.concat([final_df, temp_df])\n",
    "            \n",
    "    return final_df.reset_index().drop('index', axis=1)"
   ]
  },
  {
   "cell_type": "code",
   "execution_count": 75,
   "metadata": {},
   "outputs": [
    {
     "name": "stdin",
     "output_type": "stream",
     "text": [
      "Beware: inserting the original DataFrame will imply a long runtime process (> 10 min). It is advised\n",
      "                    to use the returned DataFrame after applying the monthly_city_pollutant() function. Do you want to continue anyway?\n",
      "\n",
      "                    Type \"y\" for Yes\n",
      "\n",
      "                    Type \"n\" for No\n",
      " y\n"
     ]
    },
    {
     "name": "stdout",
     "output_type": "stream",
     "text": [
      "Implementing function: monthly_city_pollutant. This may take a while.\n",
      "Implementing function: yearly_city_pollutant\n"
     ]
    }
   ],
   "source": [
    "year_city_pollut_df = yearly_city_pollutant(df_spain)"
   ]
  },
  {
   "cell_type": "code",
   "execution_count": 76,
   "metadata": {},
   "outputs": [],
   "source": [
    "df_19 = year_city_pollut_df[(year_city_pollut_df.Date.dt.year == 2019)]\n",
    "df_20 = year_city_pollut_df[(year_city_pollut_df.Date.dt.year == 2020)]\n",
    "\n",
    "comp_year_city_pollut_df = year_t_conf_interval_city_pollutant(df_20, df_19, unequal_var=False, percent=True)"
   ]
  },
  {
   "cell_type": "code",
   "execution_count": 77,
   "metadata": {},
   "outputs": [
    {
     "data": {
      "text/html": [
       "<div>\n",
       "<style scoped>\n",
       "    .dataframe tbody tr th:only-of-type {\n",
       "        vertical-align: middle;\n",
       "    }\n",
       "\n",
       "    .dataframe tbody tr th {\n",
       "        vertical-align: top;\n",
       "    }\n",
       "\n",
       "    .dataframe thead th {\n",
       "        text-align: right;\n",
       "    }\n",
       "</style>\n",
       "<table border=\"1\" class=\"dataframe\">\n",
       "  <thead>\n",
       "    <tr style=\"text-align: right;\">\n",
       "      <th></th>\n",
       "      <th>Year</th>\n",
       "      <th>Country</th>\n",
       "      <th>City</th>\n",
       "      <th>Pollutant</th>\n",
       "      <th>rel_value</th>\n",
       "      <th>std</th>\n",
       "      <th>std_95th(%)</th>\n",
       "    </tr>\n",
       "  </thead>\n",
       "  <tbody>\n",
       "    <tr>\n",
       "      <th>0</th>\n",
       "      <td>2020-2019</td>\n",
       "      <td>ES</td>\n",
       "      <td>Pamplona</td>\n",
       "      <td>pm10</td>\n",
       "      <td>-11.638912</td>\n",
       "      <td>-2.252418</td>\n",
       "      <td>-4.684160</td>\n",
       "    </tr>\n",
       "    <tr>\n",
       "      <th>1</th>\n",
       "      <td>2020-2019</td>\n",
       "      <td>ES</td>\n",
       "      <td>Córdoba</td>\n",
       "      <td>pm10</td>\n",
       "      <td>-7.849031</td>\n",
       "      <td>-1.966140</td>\n",
       "      <td>-4.077525</td>\n",
       "    </tr>\n",
       "    <tr>\n",
       "      <th>2</th>\n",
       "      <td>2020-2019</td>\n",
       "      <td>ES</td>\n",
       "      <td>Santander</td>\n",
       "      <td>pm10</td>\n",
       "      <td>-8.049071</td>\n",
       "      <td>-1.667243</td>\n",
       "      <td>-3.457650</td>\n",
       "    </tr>\n",
       "    <tr>\n",
       "      <th>3</th>\n",
       "      <td>2020-2019</td>\n",
       "      <td>ES</td>\n",
       "      <td>Sevilla</td>\n",
       "      <td>pm10</td>\n",
       "      <td>-16.034220</td>\n",
       "      <td>-1.667819</td>\n",
       "      <td>-3.458844</td>\n",
       "    </tr>\n",
       "    <tr>\n",
       "      <th>4</th>\n",
       "      <td>2020-2019</td>\n",
       "      <td>ES</td>\n",
       "      <td>Zaragoza</td>\n",
       "      <td>pm10</td>\n",
       "      <td>1.521472</td>\n",
       "      <td>3.138051</td>\n",
       "      <td>6.652370</td>\n",
       "    </tr>\n",
       "    <tr>\n",
       "      <th>5</th>\n",
       "      <td>2020-2019</td>\n",
       "      <td>ES</td>\n",
       "      <td>Las Palmas de Gran Canaria</td>\n",
       "      <td>pm10</td>\n",
       "      <td>14.851724</td>\n",
       "      <td>4.919833</td>\n",
       "      <td>10.203109</td>\n",
       "    </tr>\n",
       "    <tr>\n",
       "      <th>6</th>\n",
       "      <td>2020-2019</td>\n",
       "      <td>ES</td>\n",
       "      <td>Salamanca</td>\n",
       "      <td>pm10</td>\n",
       "      <td>-19.202232</td>\n",
       "      <td>-3.025297</td>\n",
       "      <td>-6.274082</td>\n",
       "    </tr>\n",
       "    <tr>\n",
       "      <th>7</th>\n",
       "      <td>2020-2019</td>\n",
       "      <td>ES</td>\n",
       "      <td>Santa Cruz de Tenerife</td>\n",
       "      <td>pm10</td>\n",
       "      <td>-4.239382</td>\n",
       "      <td>-3.245719</td>\n",
       "      <td>-6.731209</td>\n",
       "    </tr>\n",
       "    <tr>\n",
       "      <th>8</th>\n",
       "      <td>2020-2019</td>\n",
       "      <td>ES</td>\n",
       "      <td>Bilbao</td>\n",
       "      <td>pm10</td>\n",
       "      <td>-11.674269</td>\n",
       "      <td>-1.943197</td>\n",
       "      <td>-4.029943</td>\n",
       "    </tr>\n",
       "    <tr>\n",
       "      <th>9</th>\n",
       "      <td>2020-2019</td>\n",
       "      <td>ES</td>\n",
       "      <td>Madrid</td>\n",
       "      <td>pm10</td>\n",
       "      <td>-10.010680</td>\n",
       "      <td>-2.099170</td>\n",
       "      <td>-4.353411</td>\n",
       "    </tr>\n",
       "    <tr>\n",
       "      <th>10</th>\n",
       "      <td>2020-2019</td>\n",
       "      <td>ES</td>\n",
       "      <td>Murcia</td>\n",
       "      <td>pm10</td>\n",
       "      <td>-2.753724</td>\n",
       "      <td>-1.867340</td>\n",
       "      <td>-3.872625</td>\n",
       "    </tr>\n",
       "    <tr>\n",
       "      <th>11</th>\n",
       "      <td>2020-2019</td>\n",
       "      <td>ES</td>\n",
       "      <td>Oviedo</td>\n",
       "      <td>pm10</td>\n",
       "      <td>-7.250977</td>\n",
       "      <td>-1.414638</td>\n",
       "      <td>-2.933779</td>\n",
       "    </tr>\n",
       "    <tr>\n",
       "      <th>12</th>\n",
       "      <td>2020-2019</td>\n",
       "      <td>ES</td>\n",
       "      <td>Granada</td>\n",
       "      <td>pm10</td>\n",
       "      <td>-14.636013</td>\n",
       "      <td>-1.719915</td>\n",
       "      <td>-3.566885</td>\n",
       "    </tr>\n",
       "    <tr>\n",
       "      <th>13</th>\n",
       "      <td>2020-2019</td>\n",
       "      <td>ES</td>\n",
       "      <td>Burgos</td>\n",
       "      <td>pm10</td>\n",
       "      <td>-17.697288</td>\n",
       "      <td>-2.160195</td>\n",
       "      <td>-4.479971</td>\n",
       "    </tr>\n",
       "    <tr>\n",
       "      <th>14</th>\n",
       "      <td>2020-2019</td>\n",
       "      <td>ES</td>\n",
       "      <td>Gasteiz / Vitoria</td>\n",
       "      <td>pm10</td>\n",
       "      <td>-15.037283</td>\n",
       "      <td>-2.339959</td>\n",
       "      <td>-4.852778</td>\n",
       "    </tr>\n",
       "    <tr>\n",
       "      <th>15</th>\n",
       "      <td>2020-2019</td>\n",
       "      <td>ES</td>\n",
       "      <td>Málaga</td>\n",
       "      <td>pm10</td>\n",
       "      <td>-12.596105</td>\n",
       "      <td>-1.739467</td>\n",
       "      <td>-3.607434</td>\n",
       "    </tr>\n",
       "    <tr>\n",
       "      <th>16</th>\n",
       "      <td>2020-2019</td>\n",
       "      <td>ES</td>\n",
       "      <td>Huelva</td>\n",
       "      <td>pm10</td>\n",
       "      <td>-6.058062</td>\n",
       "      <td>-1.530658</td>\n",
       "      <td>-3.174390</td>\n",
       "    </tr>\n",
       "    <tr>\n",
       "      <th>17</th>\n",
       "      <td>2020-2019</td>\n",
       "      <td>ES</td>\n",
       "      <td>Donostia / San Sebastián</td>\n",
       "      <td>pm10</td>\n",
       "      <td>-8.173039</td>\n",
       "      <td>-1.909464</td>\n",
       "      <td>-3.959987</td>\n",
       "    </tr>\n",
       "    <tr>\n",
       "      <th>18</th>\n",
       "      <td>2020-2019</td>\n",
       "      <td>ES</td>\n",
       "      <td>Castelló de la Plana</td>\n",
       "      <td>pm10</td>\n",
       "      <td>-20.311193</td>\n",
       "      <td>-2.380467</td>\n",
       "      <td>-4.936787</td>\n",
       "    </tr>\n",
       "    <tr>\n",
       "      <th>19</th>\n",
       "      <td>2020-2019</td>\n",
       "      <td>ES</td>\n",
       "      <td>Palma</td>\n",
       "      <td>pm10</td>\n",
       "      <td>-27.864405</td>\n",
       "      <td>-1.888345</td>\n",
       "      <td>-3.916188</td>\n",
       "    </tr>\n",
       "    <tr>\n",
       "      <th>20</th>\n",
       "      <td>2020-2019</td>\n",
       "      <td>ES</td>\n",
       "      <td>Valladolid</td>\n",
       "      <td>pm10</td>\n",
       "      <td>-7.798158</td>\n",
       "      <td>-2.892222</td>\n",
       "      <td>-6.102054</td>\n",
       "    </tr>\n",
       "    <tr>\n",
       "      <th>21</th>\n",
       "      <td>2020-2019</td>\n",
       "      <td>ES</td>\n",
       "      <td>Valencia</td>\n",
       "      <td>pm10</td>\n",
       "      <td>-26.660617</td>\n",
       "      <td>-2.087777</td>\n",
       "      <td>-4.329786</td>\n",
       "    </tr>\n",
       "    <tr>\n",
       "      <th>22</th>\n",
       "      <td>2020-2019</td>\n",
       "      <td>ES</td>\n",
       "      <td>Barcelona</td>\n",
       "      <td>pm10</td>\n",
       "      <td>-8.591264</td>\n",
       "      <td>-1.630515</td>\n",
       "      <td>-3.381481</td>\n",
       "    </tr>\n",
       "    <tr>\n",
       "      <th>23</th>\n",
       "      <td>2020-2019</td>\n",
       "      <td>ES</td>\n",
       "      <td>Madrid</td>\n",
       "      <td>pm25</td>\n",
       "      <td>1.999618</td>\n",
       "      <td>1.860725</td>\n",
       "      <td>3.858907</td>\n",
       "    </tr>\n",
       "    <tr>\n",
       "      <th>24</th>\n",
       "      <td>2020-2019</td>\n",
       "      <td>ES</td>\n",
       "      <td>Donostia / San Sebastián</td>\n",
       "      <td>pm25</td>\n",
       "      <td>-17.891630</td>\n",
       "      <td>-1.896761</td>\n",
       "      <td>-3.933641</td>\n",
       "    </tr>\n",
       "    <tr>\n",
       "      <th>25</th>\n",
       "      <td>2020-2019</td>\n",
       "      <td>ES</td>\n",
       "      <td>Castelló de la Plana</td>\n",
       "      <td>pm25</td>\n",
       "      <td>-20.089769</td>\n",
       "      <td>-2.097214</td>\n",
       "      <td>-4.349355</td>\n",
       "    </tr>\n",
       "    <tr>\n",
       "      <th>26</th>\n",
       "      <td>2020-2019</td>\n",
       "      <td>ES</td>\n",
       "      <td>Oviedo</td>\n",
       "      <td>pm25</td>\n",
       "      <td>-25.862571</td>\n",
       "      <td>-1.470226</td>\n",
       "      <td>-3.049062</td>\n",
       "    </tr>\n",
       "    <tr>\n",
       "      <th>27</th>\n",
       "      <td>2020-2019</td>\n",
       "      <td>ES</td>\n",
       "      <td>Valencia</td>\n",
       "      <td>pm25</td>\n",
       "      <td>-24.301509</td>\n",
       "      <td>-1.754413</td>\n",
       "      <td>-3.638429</td>\n",
       "    </tr>\n",
       "    <tr>\n",
       "      <th>28</th>\n",
       "      <td>2020-2019</td>\n",
       "      <td>ES</td>\n",
       "      <td>Bilbao</td>\n",
       "      <td>pm25</td>\n",
       "      <td>-8.120198</td>\n",
       "      <td>-1.942082</td>\n",
       "      <td>-4.027631</td>\n",
       "    </tr>\n",
       "    <tr>\n",
       "      <th>29</th>\n",
       "      <td>2020-2019</td>\n",
       "      <td>ES</td>\n",
       "      <td>Las Palmas de Gran Canaria</td>\n",
       "      <td>pm25</td>\n",
       "      <td>-4.893437</td>\n",
       "      <td>-2.354011</td>\n",
       "      <td>-4.881919</td>\n",
       "    </tr>\n",
       "    <tr>\n",
       "      <th>30</th>\n",
       "      <td>2020-2019</td>\n",
       "      <td>ES</td>\n",
       "      <td>Palma</td>\n",
       "      <td>pm25</td>\n",
       "      <td>-21.950001</td>\n",
       "      <td>-6.692991</td>\n",
       "      <td>-14.459328</td>\n",
       "    </tr>\n",
       "    <tr>\n",
       "      <th>31</th>\n",
       "      <td>2020-2019</td>\n",
       "      <td>ES</td>\n",
       "      <td>Santa Cruz de Tenerife</td>\n",
       "      <td>pm25</td>\n",
       "      <td>-11.722965</td>\n",
       "      <td>-2.753834</td>\n",
       "      <td>-5.711102</td>\n",
       "    </tr>\n",
       "    <tr>\n",
       "      <th>32</th>\n",
       "      <td>2020-2019</td>\n",
       "      <td>ES</td>\n",
       "      <td>Valladolid</td>\n",
       "      <td>pm25</td>\n",
       "      <td>-6.217744</td>\n",
       "      <td>-1.792040</td>\n",
       "      <td>-3.780875</td>\n",
       "    </tr>\n",
       "    <tr>\n",
       "      <th>33</th>\n",
       "      <td>2020-2019</td>\n",
       "      <td>ES</td>\n",
       "      <td>Salamanca</td>\n",
       "      <td>pm25</td>\n",
       "      <td>16.087810</td>\n",
       "      <td>3.845170</td>\n",
       "      <td>8.247070</td>\n",
       "    </tr>\n",
       "    <tr>\n",
       "      <th>34</th>\n",
       "      <td>2020-2019</td>\n",
       "      <td>ES</td>\n",
       "      <td>Burgos</td>\n",
       "      <td>pm25</td>\n",
       "      <td>13.175242</td>\n",
       "      <td>3.079235</td>\n",
       "      <td>6.385942</td>\n",
       "    </tr>\n",
       "    <tr>\n",
       "      <th>35</th>\n",
       "      <td>2020-2019</td>\n",
       "      <td>ES</td>\n",
       "      <td>Gasteiz / Vitoria</td>\n",
       "      <td>pm25</td>\n",
       "      <td>-11.574452</td>\n",
       "      <td>-1.834955</td>\n",
       "      <td>-3.805465</td>\n",
       "    </tr>\n",
       "    <tr>\n",
       "      <th>36</th>\n",
       "      <td>2020-2019</td>\n",
       "      <td>ES</td>\n",
       "      <td>Pamplona</td>\n",
       "      <td>so2</td>\n",
       "      <td>17.394690</td>\n",
       "      <td>2.370900</td>\n",
       "      <td>4.930556</td>\n",
       "    </tr>\n",
       "    <tr>\n",
       "      <th>37</th>\n",
       "      <td>2020-2019</td>\n",
       "      <td>ES</td>\n",
       "      <td>Córdoba</td>\n",
       "      <td>so2</td>\n",
       "      <td>-31.486919</td>\n",
       "      <td>-1.231010</td>\n",
       "      <td>-2.552959</td>\n",
       "    </tr>\n",
       "    <tr>\n",
       "      <th>38</th>\n",
       "      <td>2020-2019</td>\n",
       "      <td>ES</td>\n",
       "      <td>Santander</td>\n",
       "      <td>so2</td>\n",
       "      <td>3.702229</td>\n",
       "      <td>5.255923</td>\n",
       "      <td>10.900118</td>\n",
       "    </tr>\n",
       "    <tr>\n",
       "      <th>39</th>\n",
       "      <td>2020-2019</td>\n",
       "      <td>ES</td>\n",
       "      <td>Sevilla</td>\n",
       "      <td>so2</td>\n",
       "      <td>-6.558970</td>\n",
       "      <td>-0.711765</td>\n",
       "      <td>-1.476110</td>\n",
       "    </tr>\n",
       "    <tr>\n",
       "      <th>40</th>\n",
       "      <td>2020-2019</td>\n",
       "      <td>ES</td>\n",
       "      <td>Zaragoza</td>\n",
       "      <td>so2</td>\n",
       "      <td>-4.257013</td>\n",
       "      <td>-1.133066</td>\n",
       "      <td>-2.401992</td>\n",
       "    </tr>\n",
       "    <tr>\n",
       "      <th>41</th>\n",
       "      <td>2020-2019</td>\n",
       "      <td>ES</td>\n",
       "      <td>Las Palmas de Gran Canaria</td>\n",
       "      <td>so2</td>\n",
       "      <td>-2.120457</td>\n",
       "      <td>-0.922103</td>\n",
       "      <td>-1.912324</td>\n",
       "    </tr>\n",
       "    <tr>\n",
       "      <th>42</th>\n",
       "      <td>2020-2019</td>\n",
       "      <td>ES</td>\n",
       "      <td>Salamanca</td>\n",
       "      <td>so2</td>\n",
       "      <td>12.242849</td>\n",
       "      <td>3.854610</td>\n",
       "      <td>7.993971</td>\n",
       "    </tr>\n",
       "    <tr>\n",
       "      <th>43</th>\n",
       "      <td>2020-2019</td>\n",
       "      <td>ES</td>\n",
       "      <td>Santa Cruz de Tenerife</td>\n",
       "      <td>so2</td>\n",
       "      <td>-25.238978</td>\n",
       "      <td>-0.993979</td>\n",
       "      <td>-2.061387</td>\n",
       "    </tr>\n",
       "    <tr>\n",
       "      <th>44</th>\n",
       "      <td>2020-2019</td>\n",
       "      <td>ES</td>\n",
       "      <td>Bilbao</td>\n",
       "      <td>so2</td>\n",
       "      <td>0.311158</td>\n",
       "      <td>1.111958</td>\n",
       "      <td>2.306060</td>\n",
       "    </tr>\n",
       "    <tr>\n",
       "      <th>45</th>\n",
       "      <td>2020-2019</td>\n",
       "      <td>ES</td>\n",
       "      <td>Madrid</td>\n",
       "      <td>so2</td>\n",
       "      <td>-39.307803</td>\n",
       "      <td>-1.039385</td>\n",
       "      <td>-2.155552</td>\n",
       "    </tr>\n",
       "    <tr>\n",
       "      <th>46</th>\n",
       "      <td>2020-2019</td>\n",
       "      <td>ES</td>\n",
       "      <td>Murcia</td>\n",
       "      <td>so2</td>\n",
       "      <td>30.233799</td>\n",
       "      <td>3.789519</td>\n",
       "      <td>7.961485</td>\n",
       "    </tr>\n",
       "    <tr>\n",
       "      <th>47</th>\n",
       "      <td>2020-2019</td>\n",
       "      <td>ES</td>\n",
       "      <td>Oviedo</td>\n",
       "      <td>so2</td>\n",
       "      <td>-2.656769</td>\n",
       "      <td>-1.086860</td>\n",
       "      <td>-2.254010</td>\n",
       "    </tr>\n",
       "    <tr>\n",
       "      <th>48</th>\n",
       "      <td>2020-2019</td>\n",
       "      <td>ES</td>\n",
       "      <td>Granada</td>\n",
       "      <td>so2</td>\n",
       "      <td>20.075054</td>\n",
       "      <td>1.488552</td>\n",
       "      <td>3.087068</td>\n",
       "    </tr>\n",
       "    <tr>\n",
       "      <th>49</th>\n",
       "      <td>2020-2019</td>\n",
       "      <td>ES</td>\n",
       "      <td>Burgos</td>\n",
       "      <td>so2</td>\n",
       "      <td>17.475888</td>\n",
       "      <td>4.895877</td>\n",
       "      <td>10.153427</td>\n",
       "    </tr>\n",
       "  </tbody>\n",
       "</table>\n",
       "</div>"
      ],
      "text/plain": [
       "         Year Country                        City Pollutant  rel_value  \\\n",
       "0   2020-2019      ES                    Pamplona      pm10 -11.638912   \n",
       "1   2020-2019      ES                     Córdoba      pm10  -7.849031   \n",
       "2   2020-2019      ES                   Santander      pm10  -8.049071   \n",
       "3   2020-2019      ES                     Sevilla      pm10 -16.034220   \n",
       "4   2020-2019      ES                    Zaragoza      pm10   1.521472   \n",
       "5   2020-2019      ES  Las Palmas de Gran Canaria      pm10  14.851724   \n",
       "6   2020-2019      ES                   Salamanca      pm10 -19.202232   \n",
       "7   2020-2019      ES      Santa Cruz de Tenerife      pm10  -4.239382   \n",
       "8   2020-2019      ES                      Bilbao      pm10 -11.674269   \n",
       "9   2020-2019      ES                      Madrid      pm10 -10.010680   \n",
       "10  2020-2019      ES                      Murcia      pm10  -2.753724   \n",
       "11  2020-2019      ES                      Oviedo      pm10  -7.250977   \n",
       "12  2020-2019      ES                     Granada      pm10 -14.636013   \n",
       "13  2020-2019      ES                      Burgos      pm10 -17.697288   \n",
       "14  2020-2019      ES           Gasteiz / Vitoria      pm10 -15.037283   \n",
       "15  2020-2019      ES                      Málaga      pm10 -12.596105   \n",
       "16  2020-2019      ES                      Huelva      pm10  -6.058062   \n",
       "17  2020-2019      ES    Donostia / San Sebastián      pm10  -8.173039   \n",
       "18  2020-2019      ES        Castelló de la Plana      pm10 -20.311193   \n",
       "19  2020-2019      ES                       Palma      pm10 -27.864405   \n",
       "20  2020-2019      ES                  Valladolid      pm10  -7.798158   \n",
       "21  2020-2019      ES                    Valencia      pm10 -26.660617   \n",
       "22  2020-2019      ES                   Barcelona      pm10  -8.591264   \n",
       "23  2020-2019      ES                      Madrid      pm25   1.999618   \n",
       "24  2020-2019      ES    Donostia / San Sebastián      pm25 -17.891630   \n",
       "25  2020-2019      ES        Castelló de la Plana      pm25 -20.089769   \n",
       "26  2020-2019      ES                      Oviedo      pm25 -25.862571   \n",
       "27  2020-2019      ES                    Valencia      pm25 -24.301509   \n",
       "28  2020-2019      ES                      Bilbao      pm25  -8.120198   \n",
       "29  2020-2019      ES  Las Palmas de Gran Canaria      pm25  -4.893437   \n",
       "30  2020-2019      ES                       Palma      pm25 -21.950001   \n",
       "31  2020-2019      ES      Santa Cruz de Tenerife      pm25 -11.722965   \n",
       "32  2020-2019      ES                  Valladolid      pm25  -6.217744   \n",
       "33  2020-2019      ES                   Salamanca      pm25  16.087810   \n",
       "34  2020-2019      ES                      Burgos      pm25  13.175242   \n",
       "35  2020-2019      ES           Gasteiz / Vitoria      pm25 -11.574452   \n",
       "36  2020-2019      ES                    Pamplona       so2  17.394690   \n",
       "37  2020-2019      ES                     Córdoba       so2 -31.486919   \n",
       "38  2020-2019      ES                   Santander       so2   3.702229   \n",
       "39  2020-2019      ES                     Sevilla       so2  -6.558970   \n",
       "40  2020-2019      ES                    Zaragoza       so2  -4.257013   \n",
       "41  2020-2019      ES  Las Palmas de Gran Canaria       so2  -2.120457   \n",
       "42  2020-2019      ES                   Salamanca       so2  12.242849   \n",
       "43  2020-2019      ES      Santa Cruz de Tenerife       so2 -25.238978   \n",
       "44  2020-2019      ES                      Bilbao       so2   0.311158   \n",
       "45  2020-2019      ES                      Madrid       so2 -39.307803   \n",
       "46  2020-2019      ES                      Murcia       so2  30.233799   \n",
       "47  2020-2019      ES                      Oviedo       so2  -2.656769   \n",
       "48  2020-2019      ES                     Granada       so2  20.075054   \n",
       "49  2020-2019      ES                      Burgos       so2  17.475888   \n",
       "\n",
       "         std  std_95th(%)  \n",
       "0  -2.252418    -4.684160  \n",
       "1  -1.966140    -4.077525  \n",
       "2  -1.667243    -3.457650  \n",
       "3  -1.667819    -3.458844  \n",
       "4   3.138051     6.652370  \n",
       "5   4.919833    10.203109  \n",
       "6  -3.025297    -6.274082  \n",
       "7  -3.245719    -6.731209  \n",
       "8  -1.943197    -4.029943  \n",
       "9  -2.099170    -4.353411  \n",
       "10 -1.867340    -3.872625  \n",
       "11 -1.414638    -2.933779  \n",
       "12 -1.719915    -3.566885  \n",
       "13 -2.160195    -4.479971  \n",
       "14 -2.339959    -4.852778  \n",
       "15 -1.739467    -3.607434  \n",
       "16 -1.530658    -3.174390  \n",
       "17 -1.909464    -3.959987  \n",
       "18 -2.380467    -4.936787  \n",
       "19 -1.888345    -3.916188  \n",
       "20 -2.892222    -6.102054  \n",
       "21 -2.087777    -4.329786  \n",
       "22 -1.630515    -3.381481  \n",
       "23  1.860725     3.858907  \n",
       "24 -1.896761    -3.933641  \n",
       "25 -2.097214    -4.349355  \n",
       "26 -1.470226    -3.049062  \n",
       "27 -1.754413    -3.638429  \n",
       "28 -1.942082    -4.027631  \n",
       "29 -2.354011    -4.881919  \n",
       "30 -6.692991   -14.459328  \n",
       "31 -2.753834    -5.711102  \n",
       "32 -1.792040    -3.780875  \n",
       "33  3.845170     8.247070  \n",
       "34  3.079235     6.385942  \n",
       "35 -1.834955    -3.805465  \n",
       "36  2.370900     4.930556  \n",
       "37 -1.231010    -2.552959  \n",
       "38  5.255923    10.900118  \n",
       "39 -0.711765    -1.476110  \n",
       "40 -1.133066    -2.401992  \n",
       "41 -0.922103    -1.912324  \n",
       "42  3.854610     7.993971  \n",
       "43 -0.993979    -2.061387  \n",
       "44  1.111958     2.306060  \n",
       "45 -1.039385    -2.155552  \n",
       "46  3.789519     7.961485  \n",
       "47 -1.086860    -2.254010  \n",
       "48  1.488552     3.087068  \n",
       "49  4.895877    10.153427  "
      ]
     },
     "execution_count": 77,
     "metadata": {},
     "output_type": "execute_result"
    }
   ],
   "source": [
    "comp_year_city_pollut_df.head(50)"
   ]
  },
  {
   "cell_type": "code",
   "execution_count": 78,
   "metadata": {},
   "outputs": [
    {
     "data": {
      "image/png": "[encoded data removed]",
      "text/plain": [
       "<Figure size 1080x432 with 1 Axes>"
      ]
     },
     "metadata": {
      "needs_background": "light"
     },
     "output_type": "display_data"
    }
   ],
   "source": [
    "sorted_df = comp_year_city_pollut_df.sort_values(by='rel_value')\n",
    "\n",
    "pollut_no2 =  sorted_df[(sorted_df.Pollutant == 'no2')].rel_value\n",
    "err_no2 = sorted_df[(sorted_df.Pollutant == 'no2')]['std_95th(%)']\n",
    "\n",
    "labels = sorted_df.City.unique()\n",
    "\n",
    "x = np.arange(len(labels))  \n",
    "width = 0.35  \n",
    "\n",
    "fig, ax = plt.subplots()\n",
    "rects1 = ax.bar(x, pollut_no2, label='no2', yerr=err_no2)\n",
    "\n",
    "ax.set_ylabel('Scores')\n",
    "ax.set_xlabel('Cities')\n",
    "ax.set_title('Relative NO2 values between 2019 and 2020 for several Spanish cities')\n",
    "ax.set_xticks(x)\n",
    "ax.set_xticklabels(labels, rotation=60, ha='right')\n",
    "\n",
    "\n",
    "fig.tight_layout()\n",
    "\n",
    "plt.show()"
   ]
  },
  {
   "cell_type": "markdown",
   "metadata": {},
   "source": [
    "## Monthly change in cities"
   ]
  },
  {
   "cell_type": "code",
   "execution_count": 1005,
   "metadata": {},
   "outputs": [],
   "source": [
    "def monthly_city_AQI(df):\n",
    "    '''This function calculates the monthly overall AQI average for each country.\n",
    "    \n",
    "    INPUT: pd.DataFrame. Either the original dataset or the output from monthly_city_pollutant()\n",
    "    OUTPUT: pd.DataFrame with the monthly overall AQI average for each country'''\n",
    "    \n",
    "    #Initialize the correct Dataframe input\n",
    "    cou_df = monthly_city_pollutant(df)\n",
    "    if cou_df is not None:\n",
    "        print('Implementing function: monthly_country_AQI')\n",
    "\n",
    "        final_df = pd.DataFrame()\n",
    "        years = np.sort(cou_df.Date.dt.year.unique())\n",
    "        for year in years:\n",
    "            year_df = cou_df[cou_df.Date.dt.year == year]\n",
    "            countries = year_df.Country.unique()\n",
    "            for country in countries:\n",
    "                country_df = year_df[year_df.Country == country]\n",
    "                cities = country_df.City.unique()\n",
    "                for city in cities:\n",
    "                    city_df = country_df[country_df.City == city]\n",
    "                    months = city_df.Date.dt.month.unique()\n",
    "                    for month in months:\n",
    "                        month_df = city_df[city_df.Date.dt.month == month]\n",
    "\n",
    "                        max_idx = month_df['AQI'].idxmax()\n",
    "                        overall_monthly_AQI = month_df.loc[max_idx, 'AQI']\n",
    "                        most_present_pollutant = month_df.loc[max_idx, 'Pollutant']\n",
    "                        std_dev_monthly_AQI = month_df.loc[max_idx, 'std_dev']\n",
    "                        conf_interval_monthly_AQI = month_df.loc[max_idx, 'conf_interval_95%']\n",
    "                        total_no_points = month_df.No_points.sum()\n",
    "                        no_points = month_df.loc[max_idx, 'No_points']\n",
    "\n",
    "\n",
    "\n",
    "                        date_string = '{}/{}'.format(year, month)\n",
    "                        temp_df = pd.DataFrame({'Date': datetime.strptime(date_string, '%Y/%m'), 'Month': month, 'Country': country, 'Country_name': month_df.Country_name.unique()[0], 'City': city, \\\n",
    "                                                'Most_present_pollutant': most_present_pollutant, \\\n",
    "                                                    'No_points': no_points, 'AQI': [overall_monthly_AQI], 'std_dev': std_dev_monthly_AQI, 'conf_interval_95%': conf_interval_monthly_AQI})\n",
    "                        final_df = pd.concat([final_df, temp_df])    \n",
    "\n",
    "        return final_df.reset_index().drop('index', axis=1)"
   ]
  },
  {
   "cell_type": "code",
   "execution_count": 1006,
   "metadata": {},
   "outputs": [
    {
     "name": "stdout",
     "output_type": "stream",
     "text": [
      "Implementing function: monthly_city_pollutant. This may take a while.\n",
      "Implementing function: monthly_country_AQI\n",
      "Wall time: 14.3 s\n"
     ]
    },
    {
     "data": {
      "text/html": [
       "<div>\n",
       "<style scoped>\n",
       "    .dataframe tbody tr th:only-of-type {\n",
       "        vertical-align: middle;\n",
       "    }\n",
       "\n",
       "    .dataframe tbody tr th {\n",
       "        vertical-align: top;\n",
       "    }\n",
       "\n",
       "    .dataframe thead th {\n",
       "        text-align: right;\n",
       "    }\n",
       "</style>\n",
       "<table border=\"1\" class=\"dataframe\">\n",
       "  <thead>\n",
       "    <tr style=\"text-align: right;\">\n",
       "      <th></th>\n",
       "      <th>Date</th>\n",
       "      <th>Month</th>\n",
       "      <th>Country</th>\n",
       "      <th>Country_name</th>\n",
       "      <th>City</th>\n",
       "      <th>Most_present_pollutant</th>\n",
       "      <th>No_points</th>\n",
       "      <th>AQI</th>\n",
       "      <th>std_dev</th>\n",
       "      <th>conf_interval_95%</th>\n",
       "    </tr>\n",
       "  </thead>\n",
       "  <tbody>\n",
       "    <tr>\n",
       "      <th>0</th>\n",
       "      <td>2019-01-01</td>\n",
       "      <td>1</td>\n",
       "      <td>ES</td>\n",
       "      <td>Spain</td>\n",
       "      <td>Las Palmas de Gran Canaria</td>\n",
       "      <td>o3</td>\n",
       "      <td>31</td>\n",
       "      <td>29.038710</td>\n",
       "      <td>0.570278</td>\n",
       "      <td>1.164663</td>\n",
       "    </tr>\n",
       "    <tr>\n",
       "      <th>1</th>\n",
       "      <td>2019-02-01</td>\n",
       "      <td>2</td>\n",
       "      <td>ES</td>\n",
       "      <td>Spain</td>\n",
       "      <td>Las Palmas de Gran Canaria</td>\n",
       "      <td>pm25</td>\n",
       "      <td>28</td>\n",
       "      <td>54.571429</td>\n",
       "      <td>4.757494</td>\n",
       "      <td>9.761571</td>\n",
       "    </tr>\n",
       "    <tr>\n",
       "      <th>2</th>\n",
       "      <td>2019-03-01</td>\n",
       "      <td>3</td>\n",
       "      <td>ES</td>\n",
       "      <td>Spain</td>\n",
       "      <td>Las Palmas de Gran Canaria</td>\n",
       "      <td>pm25</td>\n",
       "      <td>31</td>\n",
       "      <td>35.645161</td>\n",
       "      <td>2.096302</td>\n",
       "      <td>4.281220</td>\n",
       "    </tr>\n",
       "    <tr>\n",
       "      <th>3</th>\n",
       "      <td>2019-04-01</td>\n",
       "      <td>4</td>\n",
       "      <td>ES</td>\n",
       "      <td>Spain</td>\n",
       "      <td>Las Palmas de Gran Canaria</td>\n",
       "      <td>o3</td>\n",
       "      <td>28</td>\n",
       "      <td>34.775000</td>\n",
       "      <td>0.860420</td>\n",
       "      <td>1.765435</td>\n",
       "    </tr>\n",
       "    <tr>\n",
       "      <th>4</th>\n",
       "      <td>2019-06-01</td>\n",
       "      <td>6</td>\n",
       "      <td>ES</td>\n",
       "      <td>Spain</td>\n",
       "      <td>Las Palmas de Gran Canaria</td>\n",
       "      <td>pm25</td>\n",
       "      <td>30</td>\n",
       "      <td>29.633333</td>\n",
       "      <td>1.793496</td>\n",
       "      <td>3.668112</td>\n",
       "    </tr>\n",
       "  </tbody>\n",
       "</table>\n",
       "</div>"
      ],
      "text/plain": [
       "        Date  Month Country Country_name                        City  \\\n",
       "0 2019-01-01      1      ES        Spain  Las Palmas de Gran Canaria   \n",
       "1 2019-02-01      2      ES        Spain  Las Palmas de Gran Canaria   \n",
       "2 2019-03-01      3      ES        Spain  Las Palmas de Gran Canaria   \n",
       "3 2019-04-01      4      ES        Spain  Las Palmas de Gran Canaria   \n",
       "4 2019-06-01      6      ES        Spain  Las Palmas de Gran Canaria   \n",
       "\n",
       "  Most_present_pollutant  No_points        AQI   std_dev  conf_interval_95%  \n",
       "0                     o3         31  29.038710  0.570278           1.164663  \n",
       "1                   pm25         28  54.571429  4.757494           9.761571  \n",
       "2                   pm25         31  35.645161  2.096302           4.281220  \n",
       "3                     o3         28  34.775000  0.860420           1.765435  \n",
       "4                   pm25         30  29.633333  1.793496           3.668112  "
      ]
     },
     "execution_count": 1006,
     "metadata": {},
     "output_type": "execute_result"
    }
   ],
   "source": [
    "%%time\n",
    "month_city_AQI_df = monthly_city_AQI(df_spain)\n",
    "month_city_AQI_df.head()"
   ]
  },
  {
   "cell_type": "code",
   "execution_count": 1007,
   "metadata": {},
   "outputs": [],
   "source": [
    "def month_t_conf_interval_city(df_a, df_b, percent=True, unequal_var=True, alpha=0.95):\n",
    "    '''Calculates the yearly relative change of the overall AQI for each city in every country present in both input dataframes. The statistic is taken as AQI(df_a) - AQI(df_b).\n",
    "    INPUT: df_a, df_b: pd.Dataframe with the yearly mean AQI values of the cities we want to compare and the std_dev of those means\n",
    "            percent: if True a percent with its corresponding error is returned. If False, only the returned value is the difference of the mean of both df_a and df_b\n",
    "            unequal_var: if True a Welch's t-test is performed. If False population variances are assumed to be equal and thus a standard t-test is performed where the sample\n",
    "            variance is the pooled variance\n",
    "            alpha: represents the quantile to return in the confidence interval\n",
    "    OUTPUT: pd.DataFrame with the confidence interval of the yearly AQI difference'''\n",
    "    final_df = pd.DataFrame()\n",
    "    \n",
    "    #Find the common countries for both dataframes (years)\n",
    "    countries = list(set(df_a.Country.unique()).intersection(set(df_b.Country.unique())))\n",
    "    for country in countries:\n",
    "        country_filter_a = df_a.Country == country\n",
    "        country_filter_b = df_b.Country == country\n",
    "        \n",
    "        #Find the common cities for both input dataframes (years) for the selected country\n",
    "        cities = list(set(df_a[country_filter_a].City.unique()).intersection(set(df_b[country_filter_b].City.unique())))\n",
    "        for city in cities:\n",
    "            city_filter_a = df_a.City == city\n",
    "            city_filter_b = df_b.City == city\n",
    "            \n",
    "            #Find the common months for the selected city\n",
    "            months = list(set(df_a[city_filter_a & country_filter_a].Month.unique()).intersection(set(df_b[city_filter_b & country_filter_b].Month.unique())))\n",
    "            for month in months:\n",
    "                month_filter_a = df_a.Month == month\n",
    "                month_filter_b= df_b.Month == month\n",
    "                \n",
    "                mean_a = df_a[city_filter_a & country_filter_a & month_filter_a].AQI.values[0]\n",
    "                mean_b = df_b[city_filter_b & country_filter_b & month_filter_b].AQI.values[0]\n",
    "\n",
    "                std_a = df_a[city_filter_a & country_filter_a & month_filter_a].std_dev.values[0]\n",
    "                std_b = df_b[city_filter_b & country_filter_b & month_filter_b].std_dev.values[0]\n",
    "\n",
    "                statistic = mean_a-mean_b\n",
    "\n",
    "                n_a = df_a[city_filter_a & country_filter_a & month_filter_a]['No_points'].values[0]\n",
    "                n_b = df_b[city_filter_b & country_filter_b & month_filter_b]['No_points'].values[0]\n",
    "\n",
    "                if unequal_var:\n",
    "                    #Apply Welch t-test method\n",
    "                    std_statistic = np.sqrt(std_a**2 + std_b**2)\n",
    "                    # Welch's degrees of freedom\n",
    "                    degrees_freedom = (std_a**2+std_b**2)**2/(std_a**4/(n_a-1) + std_b**4/(n_b-1))\n",
    "                else:\n",
    "                    # Apply standard method with pooled variance\n",
    "                    std_statistic = np.sqrt(((n_a - 1)*std_a**2 + (n_b - 1)*std_b**2)/(n_a + n_b - 2))\n",
    "                    degrees_freedom = n_a + n_b - 2\n",
    "\n",
    "                #Calculate percentage with respect to the previous year\n",
    "                if percent:\n",
    "                    ratio = statistic/mean_b\n",
    "                    std_dev_mean_b = std_b\n",
    "                    std_dev_ratio = ratio * np.sqrt((std_statistic / statistic)**2 + (std_dev_mean_b  / mean_b)**2) # Propagation by Taylor approximation to first degree\n",
    "                    \n",
    "                    error_95th = stats.t.interval(df=degrees_freedom, alpha=alpha)[1] * std_dev_ratio\n",
    "\n",
    "                    percent = ratio *100\n",
    "                    std_95th_percent = error_95th*100\n",
    "\n",
    "                    CI = [percent, std_95th_percent]\n",
    "                if not percent:\n",
    "                    error = stats.t.interval(df=degrees_freedom, alpha=alpha)[1] * std_statistic\n",
    "                    CI = np.array([statistic, error])\n",
    "                \n",
    "                temp_df = pd.DataFrame({'Year':str(df_a.Date.dt.year.unique()[0])+'-'+str(df_b.Date.dt.year.unique()[0]), 'Month': month, 'Country': country, 'City': city, \\\n",
    "                                                'difference(%)': CI[0], 'std_95th(%)': [CI[1]]})\n",
    "                final_df = pd.concat([final_df, temp_df])\n",
    "            \n",
    "    return final_df.reset_index().drop('index', axis=1)"
   ]
  },
  {
   "cell_type": "code",
   "execution_count": 1008,
   "metadata": {},
   "outputs": [],
   "source": [
    "import warnings\n",
    "warnings.filterwarnings('ignore')\n",
    "\n",
    "month_city_19 = month_city_AQI_df[month_city_AQI_df.Date.dt.year == 2019]\n",
    "month_city_20 = month_city_AQI_df[month_city_AQI_df.Date.dt.year == 2020]\n",
    "\n",
    "comp_month_city_df = month_t_conf_interval_city(month_city_20, month_city_19, percent=True, unequal_var=True)"
   ]
  },
  {
   "cell_type": "code",
   "execution_count": 1009,
   "metadata": {},
   "outputs": [
    {
     "data": {
      "text/html": [
       "<div>\n",
       "<style scoped>\n",
       "    .dataframe tbody tr th:only-of-type {\n",
       "        vertical-align: middle;\n",
       "    }\n",
       "\n",
       "    .dataframe tbody tr th {\n",
       "        vertical-align: top;\n",
       "    }\n",
       "\n",
       "    .dataframe thead th {\n",
       "        text-align: right;\n",
       "    }\n",
       "</style>\n",
       "<table border=\"1\" class=\"dataframe\">\n",
       "  <thead>\n",
       "    <tr style=\"text-align: right;\">\n",
       "      <th></th>\n",
       "      <th>Year</th>\n",
       "      <th>Month</th>\n",
       "      <th>Country</th>\n",
       "      <th>City</th>\n",
       "      <th>difference(%)</th>\n",
       "      <th>std_95th(%)</th>\n",
       "    </tr>\n",
       "  </thead>\n",
       "  <tbody>\n",
       "    <tr>\n",
       "      <th>0</th>\n",
       "      <td>2020-2019</td>\n",
       "      <td>1</td>\n",
       "      <td>ES</td>\n",
       "      <td>Barcelona</td>\n",
       "      <td>21.109225</td>\n",
       "      <td>22.670592</td>\n",
       "    </tr>\n",
       "    <tr>\n",
       "      <th>1</th>\n",
       "      <td>2020-2019</td>\n",
       "      <td>2</td>\n",
       "      <td>ES</td>\n",
       "      <td>Barcelona</td>\n",
       "      <td>-7.953211</td>\n",
       "      <td>-14.778684</td>\n",
       "    </tr>\n",
       "    <tr>\n",
       "      <th>2</th>\n",
       "      <td>2020-2019</td>\n",
       "      <td>3</td>\n",
       "      <td>ES</td>\n",
       "      <td>Barcelona</td>\n",
       "      <td>-10.477406</td>\n",
       "      <td>-10.116941</td>\n",
       "    </tr>\n",
       "    <tr>\n",
       "      <th>3</th>\n",
       "      <td>2020-2019</td>\n",
       "      <td>4</td>\n",
       "      <td>ES</td>\n",
       "      <td>Barcelona</td>\n",
       "      <td>9.193731</td>\n",
       "      <td>13.269319</td>\n",
       "    </tr>\n",
       "    <tr>\n",
       "      <th>4</th>\n",
       "      <td>2020-2019</td>\n",
       "      <td>5</td>\n",
       "      <td>ES</td>\n",
       "      <td>Barcelona</td>\n",
       "      <td>7.913210</td>\n",
       "      <td>9.545681</td>\n",
       "    </tr>\n",
       "    <tr>\n",
       "      <th>5</th>\n",
       "      <td>2020-2019</td>\n",
       "      <td>6</td>\n",
       "      <td>ES</td>\n",
       "      <td>Barcelona</td>\n",
       "      <td>-18.111340</td>\n",
       "      <td>-9.064688</td>\n",
       "    </tr>\n",
       "    <tr>\n",
       "      <th>6</th>\n",
       "      <td>2020-2019</td>\n",
       "      <td>7</td>\n",
       "      <td>ES</td>\n",
       "      <td>Barcelona</td>\n",
       "      <td>-3.175040</td>\n",
       "      <td>-8.110458</td>\n",
       "    </tr>\n",
       "    <tr>\n",
       "      <th>7</th>\n",
       "      <td>2020-2019</td>\n",
       "      <td>8</td>\n",
       "      <td>ES</td>\n",
       "      <td>Barcelona</td>\n",
       "      <td>-8.855781</td>\n",
       "      <td>-7.765377</td>\n",
       "    </tr>\n",
       "    <tr>\n",
       "      <th>8</th>\n",
       "      <td>2020-2019</td>\n",
       "      <td>9</td>\n",
       "      <td>ES</td>\n",
       "      <td>Barcelona</td>\n",
       "      <td>-2.105401</td>\n",
       "      <td>-10.829043</td>\n",
       "    </tr>\n",
       "    <tr>\n",
       "      <th>9</th>\n",
       "      <td>2020-2019</td>\n",
       "      <td>10</td>\n",
       "      <td>ES</td>\n",
       "      <td>Barcelona</td>\n",
       "      <td>-4.818608</td>\n",
       "      <td>-18.014838</td>\n",
       "    </tr>\n",
       "    <tr>\n",
       "      <th>10</th>\n",
       "      <td>2020-2019</td>\n",
       "      <td>11</td>\n",
       "      <td>ES</td>\n",
       "      <td>Barcelona</td>\n",
       "      <td>46.881288</td>\n",
       "      <td>16.573480</td>\n",
       "    </tr>\n",
       "    <tr>\n",
       "      <th>11</th>\n",
       "      <td>2020-2019</td>\n",
       "      <td>12</td>\n",
       "      <td>ES</td>\n",
       "      <td>Barcelona</td>\n",
       "      <td>-19.756839</td>\n",
       "      <td>-26.597497</td>\n",
       "    </tr>\n",
       "    <tr>\n",
       "      <th>12</th>\n",
       "      <td>2020-2019</td>\n",
       "      <td>7</td>\n",
       "      <td>ES</td>\n",
       "      <td>Zaragoza</td>\n",
       "      <td>-1.365591</td>\n",
       "      <td>-15.240415</td>\n",
       "    </tr>\n",
       "    <tr>\n",
       "      <th>13</th>\n",
       "      <td>2020-2019</td>\n",
       "      <td>8</td>\n",
       "      <td>ES</td>\n",
       "      <td>Zaragoza</td>\n",
       "      <td>-3.826499</td>\n",
       "      <td>-7.686515</td>\n",
       "    </tr>\n",
       "    <tr>\n",
       "      <th>14</th>\n",
       "      <td>2020-2019</td>\n",
       "      <td>9</td>\n",
       "      <td>ES</td>\n",
       "      <td>Zaragoza</td>\n",
       "      <td>3.158136</td>\n",
       "      <td>14.475162</td>\n",
       "    </tr>\n",
       "    <tr>\n",
       "      <th>15</th>\n",
       "      <td>2020-2019</td>\n",
       "      <td>10</td>\n",
       "      <td>ES</td>\n",
       "      <td>Zaragoza</td>\n",
       "      <td>12.839711</td>\n",
       "      <td>22.890203</td>\n",
       "    </tr>\n",
       "    <tr>\n",
       "      <th>16</th>\n",
       "      <td>2020-2019</td>\n",
       "      <td>11</td>\n",
       "      <td>ES</td>\n",
       "      <td>Zaragoza</td>\n",
       "      <td>-4.522613</td>\n",
       "      <td>-21.232471</td>\n",
       "    </tr>\n",
       "    <tr>\n",
       "      <th>17</th>\n",
       "      <td>2020-2019</td>\n",
       "      <td>12</td>\n",
       "      <td>ES</td>\n",
       "      <td>Zaragoza</td>\n",
       "      <td>12.973666</td>\n",
       "      <td>25.520056</td>\n",
       "    </tr>\n",
       "    <tr>\n",
       "      <th>18</th>\n",
       "      <td>2020-2019</td>\n",
       "      <td>1</td>\n",
       "      <td>ES</td>\n",
       "      <td>Castelló de la Plana</td>\n",
       "      <td>36.084067</td>\n",
       "      <td>23.516124</td>\n",
       "    </tr>\n",
       "    <tr>\n",
       "      <th>19</th>\n",
       "      <td>2020-2019</td>\n",
       "      <td>2</td>\n",
       "      <td>ES</td>\n",
       "      <td>Castelló de la Plana</td>\n",
       "      <td>7.692308</td>\n",
       "      <td>23.648366</td>\n",
       "    </tr>\n",
       "  </tbody>\n",
       "</table>\n",
       "</div>"
      ],
      "text/plain": [
       "         Year  Month Country                  City  difference(%)  std_95th(%)\n",
       "0   2020-2019      1      ES             Barcelona      21.109225    22.670592\n",
       "1   2020-2019      2      ES             Barcelona      -7.953211   -14.778684\n",
       "2   2020-2019      3      ES             Barcelona     -10.477406   -10.116941\n",
       "3   2020-2019      4      ES             Barcelona       9.193731    13.269319\n",
       "4   2020-2019      5      ES             Barcelona       7.913210     9.545681\n",
       "5   2020-2019      6      ES             Barcelona     -18.111340    -9.064688\n",
       "6   2020-2019      7      ES             Barcelona      -3.175040    -8.110458\n",
       "7   2020-2019      8      ES             Barcelona      -8.855781    -7.765377\n",
       "8   2020-2019      9      ES             Barcelona      -2.105401   -10.829043\n",
       "9   2020-2019     10      ES             Barcelona      -4.818608   -18.014838\n",
       "10  2020-2019     11      ES             Barcelona      46.881288    16.573480\n",
       "11  2020-2019     12      ES             Barcelona     -19.756839   -26.597497\n",
       "12  2020-2019      7      ES              Zaragoza      -1.365591   -15.240415\n",
       "13  2020-2019      8      ES              Zaragoza      -3.826499    -7.686515\n",
       "14  2020-2019      9      ES              Zaragoza       3.158136    14.475162\n",
       "15  2020-2019     10      ES              Zaragoza      12.839711    22.890203\n",
       "16  2020-2019     11      ES              Zaragoza      -4.522613   -21.232471\n",
       "17  2020-2019     12      ES              Zaragoza      12.973666    25.520056\n",
       "18  2020-2019      1      ES  Castelló de la Plana      36.084067    23.516124\n",
       "19  2020-2019      2      ES  Castelló de la Plana       7.692308    23.648366"
      ]
     },
     "execution_count": 1009,
     "metadata": {},
     "output_type": "execute_result"
    }
   ],
   "source": [
    "comp_month_city_df.head(20)"
   ]
  },
  {
   "cell_type": "code",
   "execution_count": 1010,
   "metadata": {},
   "outputs": [
    {
     "data": {
      "text/plain": [
       "[Text(1, 0, 'Jan'),\n",
       " Text(2, 0, 'Feb'),\n",
       " Text(3, 0, 'Mar'),\n",
       " Text(4, 0, 'Apr'),\n",
       " Text(5, 0, 'May'),\n",
       " Text(6, 0, 'Jun'),\n",
       " Text(7, 0, 'Jul'),\n",
       " Text(8, 0, 'Aug'),\n",
       " Text(9, 0, 'Sep'),\n",
       " Text(10, 0, 'Oct'),\n",
       " Text(11, 0, 'Nov'),\n",
       " Text(12, 0, 'Dec')]"
      ]
     },
     "execution_count": 1010,
     "metadata": {},
     "output_type": "execute_result"
    },
    {
     "data": {
      "image/png": "[encoded data removed]",
      "text/plain": [
       "<Figure size 1080x360 with 1 Axes>"
      ]
     },
     "metadata": {
      "needs_background": "light"
     },
     "output_type": "display_data"
    }
   ],
   "source": [
    "fig, ax = plt.subplots()\n",
    "comp_month_city_df.boxplot(by='Month', column='difference(%)', ax=ax);\n",
    "plt.ylim(-100, 200)\n",
    "plt.xlim(0, 13)\n",
    "plt.title('Country spread per month')\n",
    "plt.suptitle('')\n",
    "plt.hlines(y=0, xmin=0, xmax=13, linestyles='--', color='black')\n",
    "\n",
    "plt.xticks([1,2,3,4,5,6,7,8,9,10,11,12], fontsize=12)\n",
    "ax.set_xticklabels(['Jan', 'Feb', 'Mar', 'Apr', 'May', 'Jun', 'Jul', 'Aug', 'Sep', 'Oct', 'Nov', 'Dec'])"
   ]
  },
  {
   "cell_type": "code",
   "execution_count": 472,
   "metadata": {},
   "outputs": [
    {
     "data": {
      "image/png": "[encoded data removed]",
      "text/plain": [
       "<Figure size 432x288 with 1 Axes>"
      ]
     },
     "metadata": {
      "needs_background": "light"
     },
     "output_type": "display_data"
    }
   ],
   "source": [
    "month_city_AQI_df.boxplot(by='Date', column='AQI');"
   ]
  },
  {
   "cell_type": "code",
   "execution_count": 169,
   "metadata": {},
   "outputs": [],
   "source": [
    "def intersect_cities_month(df):\n",
    "    '''Function that yields cities for which there is data for all months (12) of all years in the dataset provided \n",
    "    INPUT: pd.DataFrame. Either the original dataset or the output from monthly_city_pollutant()\n",
    "    OUTPUT: list with the cities for which there is data for all months'''\n",
    "\n",
    "    if 'AQI' not in df.columns:\n",
    "        df = monthly_city_AQI(df)\n",
    "        \n",
    "    dates = df.Date.unique()\n",
    "    sets = [[] for i in range(len(dates))]\n",
    "    dct = dict(zip(dates, sets))\n",
    "    dct_final = {}\n",
    "    for date in dates:\n",
    "        date_df = df[df.Date == date]\n",
    "        cities = set(date_df.City.unique())\n",
    "        dct[date].append(cities)\n",
    "\n",
    "    for key, value in dct.items():\n",
    "        dct_final[key] = set.intersection(*value)  \n",
    "    common_cities_all_dates = set.intersection(*dct_final.values())\n",
    "    \n",
    "    return list(common_cities_all_dates)"
   ]
  },
  {
   "cell_type": "code",
   "execution_count": 170,
   "metadata": {},
   "outputs": [],
   "source": [
    "complete_cities_month = intersect_cities_month(month_city_AQI_df)\n"
   ]
  },
  {
   "cell_type": "code",
   "execution_count": 171,
   "metadata": {},
   "outputs": [
    {
     "data": {
      "text/plain": [
       "494"
      ]
     },
     "execution_count": 171,
     "metadata": {},
     "output_type": "execute_result"
    }
   ],
   "source": [
    "len(complete_cities_month)"
   ]
  },
  {
   "cell_type": "code",
   "execution_count": 172,
   "metadata": {},
   "outputs": [
    {
     "data": {
      "text/plain": [
       "True"
      ]
     },
     "execution_count": 172,
     "metadata": {},
     "output_type": "execute_result"
    }
   ],
   "source": [
    "'Delhi' in complete_cities_month"
   ]
  },
  {
   "cell_type": "code",
   "execution_count": 173,
   "metadata": {},
   "outputs": [],
   "source": [
    "sel_cities = ['Barcelona', 'Madrid', 'Paris', 'New York', 'Berlin', 'San Francisco', 'Bangkok', 'Rotterdam', 'Zürich', 'Los Ángeles', 'Buenos Aires', 'Jerusalem', 'Melbourne', \\\n",
    "             'Tokyo', 'Delhi']"
   ]
  },
  {
   "cell_type": "code",
   "execution_count": 174,
   "metadata": {},
   "outputs": [
    {
     "data": {
      "text/html": [
       "<div>\n",
       "<style scoped>\n",
       "    .dataframe tbody tr th:only-of-type {\n",
       "        vertical-align: middle;\n",
       "    }\n",
       "\n",
       "    .dataframe tbody tr th {\n",
       "        vertical-align: top;\n",
       "    }\n",
       "\n",
       "    .dataframe thead th {\n",
       "        text-align: right;\n",
       "    }\n",
       "</style>\n",
       "<table border=\"1\" class=\"dataframe\">\n",
       "  <thead>\n",
       "    <tr style=\"text-align: right;\">\n",
       "      <th></th>\n",
       "      <th>Date</th>\n",
       "      <th>Country</th>\n",
       "      <th>Country_name</th>\n",
       "      <th>City</th>\n",
       "      <th>cou_pop_density</th>\n",
       "      <th>Total_no_points</th>\n",
       "      <th>Most_present_pollutant</th>\n",
       "      <th>No_points</th>\n",
       "      <th>AQI</th>\n",
       "      <th>std_dev</th>\n",
       "      <th>conf_interval_95%</th>\n",
       "    </tr>\n",
       "  </thead>\n",
       "  <tbody>\n",
       "    <tr>\n",
       "      <th>0</th>\n",
       "      <td>2019-01-01</td>\n",
       "      <td>AE</td>\n",
       "      <td>United Arab Emirates</td>\n",
       "      <td>Abu Dhabi</td>\n",
       "      <td>135.609110</td>\n",
       "      <td>119</td>\n",
       "      <td>pm25</td>\n",
       "      <td>31</td>\n",
       "      <td>109.161290</td>\n",
       "      <td>5.040955</td>\n",
       "      <td>10.295004</td>\n",
       "    </tr>\n",
       "    <tr>\n",
       "      <th>4883</th>\n",
       "      <td>2019-01-01</td>\n",
       "      <td>GB</td>\n",
       "      <td>United Kingdom</td>\n",
       "      <td>Newport</td>\n",
       "      <td>274.708982</td>\n",
       "      <td>186</td>\n",
       "      <td>pm25</td>\n",
       "      <td>31</td>\n",
       "      <td>36.483871</td>\n",
       "      <td>3.530710</td>\n",
       "      <td>7.210672</td>\n",
       "    </tr>\n",
       "    <tr>\n",
       "      <th>1493</th>\n",
       "      <td>2019-01-01</td>\n",
       "      <td>US</td>\n",
       "      <td>United States</td>\n",
       "      <td>Omaha</td>\n",
       "      <td>35.713622</td>\n",
       "      <td>129</td>\n",
       "      <td>pm25</td>\n",
       "      <td>31</td>\n",
       "      <td>32.806452</td>\n",
       "      <td>2.599696</td>\n",
       "      <td>5.309287</td>\n",
       "    </tr>\n",
       "    <tr>\n",
       "      <th>1505</th>\n",
       "      <td>2019-01-01</td>\n",
       "      <td>US</td>\n",
       "      <td>United States</td>\n",
       "      <td>El Paso</td>\n",
       "      <td>35.713622</td>\n",
       "      <td>124</td>\n",
       "      <td>pm25</td>\n",
       "      <td>31</td>\n",
       "      <td>30.612903</td>\n",
       "      <td>2.030300</td>\n",
       "      <td>4.146425</td>\n",
       "    </tr>\n",
       "    <tr>\n",
       "      <th>4102</th>\n",
       "      <td>2019-01-01</td>\n",
       "      <td>DE</td>\n",
       "      <td>Germany</td>\n",
       "      <td>Augsburg</td>\n",
       "      <td>237.294012</td>\n",
       "      <td>124</td>\n",
       "      <td>o3</td>\n",
       "      <td>31</td>\n",
       "      <td>15.967742</td>\n",
       "      <td>1.149740</td>\n",
       "      <td>2.348082</td>\n",
       "    </tr>\n",
       "    <tr>\n",
       "      <th>...</th>\n",
       "      <td>...</td>\n",
       "      <td>...</td>\n",
       "      <td>...</td>\n",
       "      <td>...</td>\n",
       "      <td>...</td>\n",
       "      <td>...</td>\n",
       "      <td>...</td>\n",
       "      <td>...</td>\n",
       "      <td>...</td>\n",
       "      <td>...</td>\n",
       "      <td>...</td>\n",
       "    </tr>\n",
       "    <tr>\n",
       "      <th>14446</th>\n",
       "      <td>2021-03-01</td>\n",
       "      <td>FR</td>\n",
       "      <td>France</td>\n",
       "      <td>Rennes</td>\n",
       "      <td>122.299435</td>\n",
       "      <td>75</td>\n",
       "      <td>pm25</td>\n",
       "      <td>25</td>\n",
       "      <td>50.520000</td>\n",
       "      <td>4.043017</td>\n",
       "      <td>8.344376</td>\n",
       "    </tr>\n",
       "    <tr>\n",
       "      <th>15168</th>\n",
       "      <td>2021-03-01</td>\n",
       "      <td>GB</td>\n",
       "      <td>United Kingdom</td>\n",
       "      <td>Liverpool</td>\n",
       "      <td>274.708982</td>\n",
       "      <td>100</td>\n",
       "      <td>pm25</td>\n",
       "      <td>25</td>\n",
       "      <td>49.240000</td>\n",
       "      <td>6.165525</td>\n",
       "      <td>12.725018</td>\n",
       "    </tr>\n",
       "    <tr>\n",
       "      <th>14443</th>\n",
       "      <td>2021-03-01</td>\n",
       "      <td>FR</td>\n",
       "      <td>France</td>\n",
       "      <td>Nantes</td>\n",
       "      <td>122.299435</td>\n",
       "      <td>143</td>\n",
       "      <td>pm25</td>\n",
       "      <td>25</td>\n",
       "      <td>47.440000</td>\n",
       "      <td>4.101933</td>\n",
       "      <td>8.465974</td>\n",
       "    </tr>\n",
       "    <tr>\n",
       "      <th>14405</th>\n",
       "      <td>2021-03-01</td>\n",
       "      <td>US</td>\n",
       "      <td>United States</td>\n",
       "      <td>Columbus</td>\n",
       "      <td>35.713622</td>\n",
       "      <td>98</td>\n",
       "      <td>pm25</td>\n",
       "      <td>25</td>\n",
       "      <td>34.040000</td>\n",
       "      <td>2.677001</td>\n",
       "      <td>5.525059</td>\n",
       "    </tr>\n",
       "    <tr>\n",
       "      <th>15695</th>\n",
       "      <td>2021-03-01</td>\n",
       "      <td>GH</td>\n",
       "      <td>Ghana</td>\n",
       "      <td>Accra</td>\n",
       "      <td>130.821429</td>\n",
       "      <td>25</td>\n",
       "      <td>pm25</td>\n",
       "      <td>25</td>\n",
       "      <td>81.200000</td>\n",
       "      <td>2.605840</td>\n",
       "      <td>5.378189</td>\n",
       "    </tr>\n",
       "  </tbody>\n",
       "</table>\n",
       "<p>15696 rows × 11 columns</p>\n",
       "</div>"
      ],
      "text/plain": [
       "            Date Country          Country_name       City  cou_pop_density  \\\n",
       "0     2019-01-01      AE  United Arab Emirates  Abu Dhabi       135.609110   \n",
       "4883  2019-01-01      GB        United Kingdom    Newport       274.708982   \n",
       "1493  2019-01-01      US         United States      Omaha        35.713622   \n",
       "1505  2019-01-01      US         United States    El Paso        35.713622   \n",
       "4102  2019-01-01      DE               Germany   Augsburg       237.294012   \n",
       "...          ...     ...                   ...        ...              ...   \n",
       "14446 2021-03-01      FR                France     Rennes       122.299435   \n",
       "15168 2021-03-01      GB        United Kingdom  Liverpool       274.708982   \n",
       "14443 2021-03-01      FR                France     Nantes       122.299435   \n",
       "14405 2021-03-01      US         United States   Columbus        35.713622   \n",
       "15695 2021-03-01      GH                 Ghana      Accra       130.821429   \n",
       "\n",
       "       Total_no_points Most_present_pollutant  No_points         AQI  \\\n",
       "0                  119                   pm25         31  109.161290   \n",
       "4883               186                   pm25         31   36.483871   \n",
       "1493               129                   pm25         31   32.806452   \n",
       "1505               124                   pm25         31   30.612903   \n",
       "4102               124                     o3         31   15.967742   \n",
       "...                ...                    ...        ...         ...   \n",
       "14446               75                   pm25         25   50.520000   \n",
       "15168              100                   pm25         25   49.240000   \n",
       "14443              143                   pm25         25   47.440000   \n",
       "14405               98                   pm25         25   34.040000   \n",
       "15695               25                   pm25         25   81.200000   \n",
       "\n",
       "        std_dev  conf_interval_95%  \n",
       "0      5.040955          10.295004  \n",
       "4883   3.530710           7.210672  \n",
       "1493   2.599696           5.309287  \n",
       "1505   2.030300           4.146425  \n",
       "4102   1.149740           2.348082  \n",
       "...         ...                ...  \n",
       "14446  4.043017           8.344376  \n",
       "15168  6.165525          12.725018  \n",
       "14443  4.101933           8.465974  \n",
       "14405  2.677001           5.525059  \n",
       "15695  2.605840           5.378189  \n",
       "\n",
       "[15696 rows x 11 columns]"
      ]
     },
     "execution_count": 174,
     "metadata": {},
     "output_type": "execute_result"
    }
   ],
   "source": [
    "month_city_AQI_df"
   ]
  },
  {
   "cell_type": "code",
   "execution_count": 175,
   "metadata": {},
   "outputs": [],
   "source": [
    "df_19_cities = month_city_AQI_df[(month_city_AQI_df.City.apply(lambda cell: cell in sel_cities)) & (month_city_AQI_df.Date.dt.year ==2019)]\n",
    "df_20_cities = month_city_AQI_df[(month_city_AQI_df.City.apply(lambda cell: cell in sel_cities)) & (month_city_AQI_df.Date.dt.year ==2020)]\n"
   ]
  },
  {
   "cell_type": "code",
   "execution_count": 176,
   "metadata": {},
   "outputs": [
    {
     "data": {
      "text/plain": [
       "(168, 168)"
      ]
     },
     "execution_count": 176,
     "metadata": {},
     "output_type": "execute_result"
    }
   ],
   "source": [
    "df_19_cities.shape[0], df_20_cities.shape[0]"
   ]
  },
  {
   "cell_type": "code",
   "execution_count": 177,
   "metadata": {},
   "outputs": [
    {
     "data": {
      "text/html": [
       "<div>\n",
       "<style scoped>\n",
       "    .dataframe tbody tr th:only-of-type {\n",
       "        vertical-align: middle;\n",
       "    }\n",
       "\n",
       "    .dataframe tbody tr th {\n",
       "        vertical-align: top;\n",
       "    }\n",
       "\n",
       "    .dataframe thead th {\n",
       "        text-align: right;\n",
       "    }\n",
       "</style>\n",
       "<table border=\"1\" class=\"dataframe\">\n",
       "  <thead>\n",
       "    <tr style=\"text-align: right;\">\n",
       "      <th></th>\n",
       "      <th>Date</th>\n",
       "      <th>Country</th>\n",
       "      <th>Country_name</th>\n",
       "      <th>City</th>\n",
       "      <th>cou_pop_density</th>\n",
       "      <th>Total_no_points</th>\n",
       "      <th>Most_present_pollutant</th>\n",
       "      <th>No_points</th>\n",
       "      <th>AQI_20</th>\n",
       "      <th>std_dev</th>\n",
       "      <th>conf_interval_95%</th>\n",
       "      <th>AQI</th>\n",
       "      <th>Month</th>\n",
       "    </tr>\n",
       "  </thead>\n",
       "  <tbody>\n",
       "    <tr>\n",
       "      <th>0</th>\n",
       "      <td>2020-01-01</td>\n",
       "      <td>NL</td>\n",
       "      <td>Netherlands</td>\n",
       "      <td>Rotterdam</td>\n",
       "      <td>511.779745</td>\n",
       "      <td>180</td>\n",
       "      <td>pm25</td>\n",
       "      <td>36</td>\n",
       "      <td>51.083333</td>\n",
       "      <td>4.086521</td>\n",
       "      <td>8.296078</td>\n",
       "      <td>34.741935</td>\n",
       "      <td>1</td>\n",
       "    </tr>\n",
       "    <tr>\n",
       "      <th>1</th>\n",
       "      <td>2020-01-01</td>\n",
       "      <td>US</td>\n",
       "      <td>United States</td>\n",
       "      <td>San Francisco</td>\n",
       "      <td>35.713622</td>\n",
       "      <td>180</td>\n",
       "      <td>pm25</td>\n",
       "      <td>36</td>\n",
       "      <td>29.000000</td>\n",
       "      <td>1.647107</td>\n",
       "      <td>3.343806</td>\n",
       "      <td>50.193548</td>\n",
       "      <td>1</td>\n",
       "    </tr>\n",
       "    <tr>\n",
       "      <th>2</th>\n",
       "      <td>2020-01-01</td>\n",
       "      <td>FR</td>\n",
       "      <td>France</td>\n",
       "      <td>Paris</td>\n",
       "      <td>122.299435</td>\n",
       "      <td>216</td>\n",
       "      <td>pm25</td>\n",
       "      <td>36</td>\n",
       "      <td>52.583333</td>\n",
       "      <td>4.535589</td>\n",
       "      <td>9.207735</td>\n",
       "      <td>49.806452</td>\n",
       "      <td>1</td>\n",
       "    </tr>\n",
       "    <tr>\n",
       "      <th>3</th>\n",
       "      <td>2020-01-01</td>\n",
       "      <td>JP</td>\n",
       "      <td>Japan</td>\n",
       "      <td>Tokyo</td>\n",
       "      <td>347.130590</td>\n",
       "      <td>216</td>\n",
       "      <td>pm25</td>\n",
       "      <td>36</td>\n",
       "      <td>35.777778</td>\n",
       "      <td>3.059117</td>\n",
       "      <td>6.210337</td>\n",
       "      <td>252.129032</td>\n",
       "      <td>1</td>\n",
       "    </tr>\n",
       "    <tr>\n",
       "      <th>4</th>\n",
       "      <td>2020-01-01</td>\n",
       "      <td>IL</td>\n",
       "      <td>Israel</td>\n",
       "      <td>Jerusalem</td>\n",
       "      <td>410.480591</td>\n",
       "      <td>209</td>\n",
       "      <td>pm25</td>\n",
       "      <td>34</td>\n",
       "      <td>47.617647</td>\n",
       "      <td>1.786636</td>\n",
       "      <td>3.634938</td>\n",
       "      <td>69.129032</td>\n",
       "      <td>1</td>\n",
       "    </tr>\n",
       "    <tr>\n",
       "      <th>...</th>\n",
       "      <td>...</td>\n",
       "      <td>...</td>\n",
       "      <td>...</td>\n",
       "      <td>...</td>\n",
       "      <td>...</td>\n",
       "      <td>...</td>\n",
       "      <td>...</td>\n",
       "      <td>...</td>\n",
       "      <td>...</td>\n",
       "      <td>...</td>\n",
       "      <td>...</td>\n",
       "      <td>...</td>\n",
       "      <td>...</td>\n",
       "    </tr>\n",
       "    <tr>\n",
       "      <th>163</th>\n",
       "      <td>2020-12-01</td>\n",
       "      <td>FR</td>\n",
       "      <td>France</td>\n",
       "      <td>Paris</td>\n",
       "      <td>122.299435</td>\n",
       "      <td>210</td>\n",
       "      <td>pm25</td>\n",
       "      <td>35</td>\n",
       "      <td>38.600000</td>\n",
       "      <td>2.275047</td>\n",
       "      <td>4.623451</td>\n",
       "      <td>47.242424</td>\n",
       "      <td>12</td>\n",
       "    </tr>\n",
       "    <tr>\n",
       "      <th>164</th>\n",
       "      <td>2020-12-01</td>\n",
       "      <td>US</td>\n",
       "      <td>United States</td>\n",
       "      <td>San Francisco</td>\n",
       "      <td>35.713622</td>\n",
       "      <td>174</td>\n",
       "      <td>pm25</td>\n",
       "      <td>35</td>\n",
       "      <td>34.428571</td>\n",
       "      <td>2.950278</td>\n",
       "      <td>5.995686</td>\n",
       "      <td>55.000000</td>\n",
       "      <td>12</td>\n",
       "    </tr>\n",
       "    <tr>\n",
       "      <th>165</th>\n",
       "      <td>2020-12-01</td>\n",
       "      <td>JP</td>\n",
       "      <td>Japan</td>\n",
       "      <td>Tokyo</td>\n",
       "      <td>347.130590</td>\n",
       "      <td>210</td>\n",
       "      <td>pm25</td>\n",
       "      <td>35</td>\n",
       "      <td>43.542857</td>\n",
       "      <td>3.354033</td>\n",
       "      <td>6.816216</td>\n",
       "      <td>21.363636</td>\n",
       "      <td>12</td>\n",
       "    </tr>\n",
       "    <tr>\n",
       "      <th>166</th>\n",
       "      <td>2020-12-01</td>\n",
       "      <td>NL</td>\n",
       "      <td>Netherlands</td>\n",
       "      <td>Rotterdam</td>\n",
       "      <td>511.779745</td>\n",
       "      <td>175</td>\n",
       "      <td>pm25</td>\n",
       "      <td>35</td>\n",
       "      <td>40.800000</td>\n",
       "      <td>2.955396</td>\n",
       "      <td>6.006088</td>\n",
       "      <td>41.121212</td>\n",
       "      <td>12</td>\n",
       "    </tr>\n",
       "    <tr>\n",
       "      <th>167</th>\n",
       "      <td>2020-12-01</td>\n",
       "      <td>AU</td>\n",
       "      <td>Australia</td>\n",
       "      <td>Melbourne</td>\n",
       "      <td>3.247871</td>\n",
       "      <td>210</td>\n",
       "      <td>pm25</td>\n",
       "      <td>35</td>\n",
       "      <td>22.200000</td>\n",
       "      <td>0.789523</td>\n",
       "      <td>1.604504</td>\n",
       "      <td>104.727273</td>\n",
       "      <td>12</td>\n",
       "    </tr>\n",
       "  </tbody>\n",
       "</table>\n",
       "<p>168 rows × 13 columns</p>\n",
       "</div>"
      ],
      "text/plain": [
       "          Date Country   Country_name           City  cou_pop_density  \\\n",
       "0   2020-01-01      NL    Netherlands      Rotterdam       511.779745   \n",
       "1   2020-01-01      US  United States  San Francisco        35.713622   \n",
       "2   2020-01-01      FR         France          Paris       122.299435   \n",
       "3   2020-01-01      JP          Japan          Tokyo       347.130590   \n",
       "4   2020-01-01      IL         Israel      Jerusalem       410.480591   \n",
       "..         ...     ...            ...            ...              ...   \n",
       "163 2020-12-01      FR         France          Paris       122.299435   \n",
       "164 2020-12-01      US  United States  San Francisco        35.713622   \n",
       "165 2020-12-01      JP          Japan          Tokyo       347.130590   \n",
       "166 2020-12-01      NL    Netherlands      Rotterdam       511.779745   \n",
       "167 2020-12-01      AU      Australia      Melbourne         3.247871   \n",
       "\n",
       "     Total_no_points Most_present_pollutant  No_points     AQI_20   std_dev  \\\n",
       "0                180                   pm25         36  51.083333  4.086521   \n",
       "1                180                   pm25         36  29.000000  1.647107   \n",
       "2                216                   pm25         36  52.583333  4.535589   \n",
       "3                216                   pm25         36  35.777778  3.059117   \n",
       "4                209                   pm25         34  47.617647  1.786636   \n",
       "..               ...                    ...        ...        ...       ...   \n",
       "163              210                   pm25         35  38.600000  2.275047   \n",
       "164              174                   pm25         35  34.428571  2.950278   \n",
       "165              210                   pm25         35  43.542857  3.354033   \n",
       "166              175                   pm25         35  40.800000  2.955396   \n",
       "167              210                   pm25         35  22.200000  0.789523   \n",
       "\n",
       "     conf_interval_95%         AQI  Month  \n",
       "0             8.296078   34.741935      1  \n",
       "1             3.343806   50.193548      1  \n",
       "2             9.207735   49.806452      1  \n",
       "3             6.210337  252.129032      1  \n",
       "4             3.634938   69.129032      1  \n",
       "..                 ...         ...    ...  \n",
       "163           4.623451   47.242424     12  \n",
       "164           5.995686   55.000000     12  \n",
       "165           6.816216   21.363636     12  \n",
       "166           6.006088   41.121212     12  \n",
       "167           1.604504  104.727273     12  \n",
       "\n",
       "[168 rows x 13 columns]"
      ]
     },
     "execution_count": 177,
     "metadata": {},
     "output_type": "execute_result"
    }
   ],
   "source": [
    "df_anim = pd.concat([df_20_cities.rename(columns={'AQI': 'AQI_20'}).reset_index(drop=True), df_19_cities.AQI.reset_index(drop=True)], axis=1)\n",
    "df_anim = pd.concat([df_anim.reset_index(drop=True), df_anim.Date.dt.month.reset_index(drop=True).rename('Month')], axis=1)\n",
    "df_anim"
   ]
  },
  {
   "cell_type": "code",
   "execution_count": 180,
   "metadata": {},
   "outputs": [
    {
     "data": {
      "application/vnd.plotly.v1+json": {
       "config": {
        "plotlyServerURL": "https://plot.ly"
       },
       "data": [
        {
         "hovertemplate": "<b>%{hovertext}</b><br><br>Country_name=Netherlands<br>Month=12<br>AQI=%{x}<br>AQI_20=%{y}<br>size=%{marker.size}<extra></extra>",
         "hovertext": [
          "Rotterdam"
         ],
         "ids": [
          "Netherlands"
         ],
         "legendgroup": "Netherlands",
         "marker": {
          "color": "#636efa",
          "size": [
           1
          ],
          "sizemode": "area",
          "sizeref": 0.00033057851239669424,
          "symbol": "circle"
         },
         "mode": "markers",
         "name": "Netherlands",
         "orientation": "v",
         "showlegend": true,
         "type": "scatter",
         "x": [
          41.121212121212125
         ],
         "xaxis": "x",
         "y": [
          40.8
         ],
         "yaxis": "y"
        },
        {
         "hovertemplate": "<b>%{hovertext}</b><br><br>Country_name=United States<br>Month=12<br>AQI=%{x}<br>AQI_20=%{y}<br>size=%{marker.size}<extra></extra>",
         "hovertext": [
          "San Francisco"
         ],
         "ids": [
          "United States"
         ],
         "legendgroup": "United States",
         "marker": {
          "color": "#EF553B",
          "size": [
           1
          ],
          "sizemode": "area",
          "sizeref": 0.00033057851239669424,
          "symbol": "circle"
         },
         "mode": "markers",
         "name": "United States",
         "orientation": "v",
         "showlegend": true,
         "type": "scatter",
         "x": [
          55
         ],
         "xaxis": "x",
         "y": [
          34.42857142857143
         ],
         "yaxis": "y"
        },
        {
         "hovertemplate": "<b>%{hovertext}</b><br><br>Country_name=France<br>Month=12<br>AQI=%{x}<br>AQI_20=%{y}<br>size=%{marker.size}<extra></extra>",
         "hovertext": [
          "Paris"
         ],
         "ids": [
          "France"
         ],
         "legendgroup": "France",
         "marker": {
          "color": "#00cc96",
          "size": [
           1
          ],
          "sizemode": "area",
          "sizeref": 0.00033057851239669424,
          "symbol": "circle"
         },
         "mode": "markers",
         "name": "France",
         "orientation": "v",
         "showlegend": true,
         "type": "scatter",
         "x": [
          47.24242424242424
         ],
         "xaxis": "x",
         "y": [
          38.6
         ],
         "yaxis": "y"
        },
        {
         "hovertemplate": "<b>%{hovertext}</b><br><br>Country_name=Japan<br>Month=12<br>AQI=%{x}<br>AQI_20=%{y}<br>size=%{marker.size}<extra></extra>",
         "hovertext": [
          "Tokyo"
         ],
         "ids": [
          "Japan"
         ],
         "legendgroup": "Japan",
         "marker": {
          "color": "#ab63fa",
          "size": [
           1
          ],
          "sizemode": "area",
          "sizeref": 0.00033057851239669424,
          "symbol": "circle"
         },
         "mode": "markers",
         "name": "Japan",
         "orientation": "v",
         "showlegend": true,
         "type": "scatter",
         "x": [
          21.363636363636363
         ],
         "xaxis": "x",
         "y": [
          43.542857142857144
         ],
         "yaxis": "y"
        },
        {
         "hovertemplate": "<b>%{hovertext}</b><br><br>Country_name=Israel<br>Month=12<br>AQI=%{x}<br>AQI_20=%{y}<br>size=%{marker.size}<extra></extra>",
         "hovertext": [
          "Jerusalem"
         ],
         "ids": [
          "Israel"
         ],
         "legendgroup": "Israel",
         "marker": {
          "color": "#FFA15A",
          "size": [
           1
          ],
          "sizemode": "area",
          "sizeref": 0.00033057851239669424,
          "symbol": "circle"
         },
         "mode": "markers",
         "name": "Israel",
         "orientation": "v",
         "showlegend": true,
         "type": "scatter",
         "x": [
          40.27272727272727
         ],
         "xaxis": "x",
         "y": [
          58.74285714285714
         ],
         "yaxis": "y"
        },
        {
         "hovertemplate": "<b>%{hovertext}</b><br><br>Country_name=India<br>Month=12<br>AQI=%{x}<br>AQI_20=%{y}<br>size=%{marker.size}<extra></extra>",
         "hovertext": [
          "Delhi"
         ],
         "ids": [
          "India"
         ],
         "legendgroup": "India",
         "marker": {
          "color": "#19d3f3",
          "size": [
           1
          ],
          "sizemode": "area",
          "sizeref": 0.00033057851239669424,
          "symbol": "circle"
         },
         "mode": "markers",
         "name": "India",
         "orientation": "v",
         "showlegend": true,
         "type": "scatter",
         "x": [
          48.39393939393939
         ],
         "xaxis": "x",
         "y": [
          246.68571428571428
         ],
         "yaxis": "y"
        },
        {
         "hovertemplate": "<b>%{hovertext}</b><br><br>Country_name=Australia<br>Month=12<br>AQI=%{x}<br>AQI_20=%{y}<br>size=%{marker.size}<extra></extra>",
         "hovertext": [
          "Melbourne"
         ],
         "ids": [
          "Australia"
         ],
         "legendgroup": "Australia",
         "marker": {
          "color": "#FF6692",
          "size": [
           1
          ],
          "sizemode": "area",
          "sizeref": 0.00033057851239669424,
          "symbol": "circle"
         },
         "mode": "markers",
         "name": "Australia",
         "orientation": "v",
         "showlegend": true,
         "type": "scatter",
         "x": [
          104.72727272727273
         ],
         "xaxis": "x",
         "y": [
          22.2
         ],
         "yaxis": "y"
        },
        {
         "hovertemplate": "<b>%{hovertext}</b><br><br>Country_name=Thailand<br>Month=12<br>AQI=%{x}<br>AQI_20=%{y}<br>size=%{marker.size}<extra></extra>",
         "hovertext": [
          "Bangkok"
         ],
         "ids": [
          "Thailand"
         ],
         "legendgroup": "Thailand",
         "marker": {
          "color": "#B6E880",
          "size": [
           1
          ],
          "sizemode": "area",
          "sizeref": 0.00033057851239669424,
          "symbol": "circle"
         },
         "mode": "markers",
         "name": "Thailand",
         "orientation": "v",
         "showlegend": true,
         "type": "scatter",
         "x": [
          26.12121212121212
         ],
         "xaxis": "x",
         "y": [
          92.17142857142858
         ],
         "yaxis": "y"
        },
        {
         "hovertemplate": "<b>%{hovertext}</b><br><br>Country_name=Argentina<br>Month=12<br>AQI=%{x}<br>AQI_20=%{y}<br>size=%{marker.size}<extra></extra>",
         "hovertext": [
          "Buenos Aires"
         ],
         "ids": [
          "Argentina"
         ],
         "legendgroup": "Argentina",
         "marker": {
          "color": "#FF97FF",
          "size": [
           1
          ],
          "sizemode": "area",
          "sizeref": 0.00033057851239669424,
          "symbol": "circle"
         },
         "mode": "markers",
         "name": "Argentina",
         "orientation": "v",
         "showlegend": true,
         "type": "scatter",
         "x": [
          40.03030303030303
         ],
         "xaxis": "x",
         "y": [
          32.65714285714286
         ],
         "yaxis": "y"
        },
        {
         "hovertemplate": "<b>%{hovertext}</b><br><br>Country_name=Spain<br>Month=12<br>AQI=%{x}<br>AQI_20=%{y}<br>size=%{marker.size}<extra></extra>",
         "hovertext": [
          "Barcelona",
          "Madrid"
         ],
         "ids": [
          "Spain",
          "Spain"
         ],
         "legendgroup": "Spain",
         "marker": {
          "color": "#FECB52",
          "size": [
           1,
           1
          ],
          "sizemode": "area",
          "sizeref": 0.00033057851239669424,
          "symbol": "circle"
         },
         "mode": "markers",
         "name": "Spain",
         "orientation": "v",
         "showlegend": true,
         "type": "scatter",
         "x": [
          12.678787878787878,
          55.03225806451613
         ],
         "xaxis": "x",
         "y": [
          17.142857142857142,
          31.228571428571428
         ],
         "yaxis": "y"
        },
        {
         "hovertemplate": "<b>%{hovertext}</b><br><br>Country_name=Switzerland<br>Month=12<br>AQI=%{x}<br>AQI_20=%{y}<br>size=%{marker.size}<extra></extra>",
         "hovertext": [
          "Zürich"
         ],
         "ids": [
          "Switzerland"
         ],
         "legendgroup": "Switzerland",
         "marker": {
          "color": "#636efa",
          "size": [
           1
          ],
          "sizemode": "area",
          "sizeref": 0.00033057851239669424,
          "symbol": "circle"
         },
         "mode": "markers",
         "name": "Switzerland",
         "orientation": "v",
         "showlegend": true,
         "type": "scatter",
         "x": [
          31.78787878787879
         ],
         "xaxis": "x",
         "y": [
          12.468571428571428
         ],
         "yaxis": "y"
        },
        {
         "hovertemplate": "<b>%{hovertext}</b><br><br>Country_name=Chile<br>Month=12<br>AQI=%{x}<br>AQI_20=%{y}<br>size=%{marker.size}<extra></extra>",
         "hovertext": [
          "Los Ángeles"
         ],
         "ids": [
          "Chile"
         ],
         "legendgroup": "Chile",
         "marker": {
          "color": "#EF553B",
          "size": [
           1
          ],
          "sizemode": "area",
          "sizeref": 0.00033057851239669424,
          "symbol": "circle"
         },
         "mode": "markers",
         "name": "Chile",
         "orientation": "v",
         "showlegend": true,
         "type": "scatter",
         "x": [
          259.93939393939394
         ],
         "xaxis": "x",
         "y": [
          24.97142857142857
         ],
         "yaxis": "y"
        },
        {
         "hovertemplate": "<b>%{hovertext}</b><br><br>Country_name=Germany<br>Month=12<br>AQI=%{x}<br>AQI_20=%{y}<br>size=%{marker.size}<extra></extra>",
         "hovertext": [
          "Berlin"
         ],
         "ids": [
          "Germany"
         ],
         "legendgroup": "Germany",
         "marker": {
          "color": "#00cc96",
          "size": [
           1
          ],
          "sizemode": "area",
          "sizeref": 0.00033057851239669424,
          "symbol": "circle"
         },
         "mode": "markers",
         "name": "Germany",
         "orientation": "v",
         "showlegend": true,
         "type": "scatter",
         "x": [
          37.21875
         ],
         "xaxis": "x",
         "y": [
          58.41379310344828
         ],
         "yaxis": "y"
        }
       ],
       "frames": [
        {
         "data": [
          {
           "hovertemplate": "<b>%{hovertext}</b><br><br>Country_name=Netherlands<br>Month=1<br>AQI=%{x}<br>AQI_20=%{y}<br>size=%{marker.size}<extra></extra>",
           "hovertext": [
            "Rotterdam"
           ],
           "ids": [
            "Netherlands"
           ],
           "legendgroup": "Netherlands",
           "marker": {
            "color": "#636efa",
            "size": [
             1
            ],
            "sizemode": "area",
            "sizeref": 0.00033057851239669424,
            "symbol": "circle"
           },
           "mode": "markers",
           "name": "Netherlands",
           "orientation": "v",
           "showlegend": true,
           "type": "scatter",
           "x": [
            34.74193548387097
           ],
           "xaxis": "x",
           "y": [
            51.083333333333336
           ],
           "yaxis": "y"
          },
          {
           "hovertemplate": "<b>%{hovertext}</b><br><br>Country_name=United States<br>Month=1<br>AQI=%{x}<br>AQI_20=%{y}<br>size=%{marker.size}<extra></extra>",
           "hovertext": [
            "San Francisco"
           ],
           "ids": [
            "United States"
           ],
           "legendgroup": "United States",
           "marker": {
            "color": "#EF553B",
            "size": [
             1
            ],
            "sizemode": "area",
            "sizeref": 0.00033057851239669424,
            "symbol": "circle"
           },
           "mode": "markers",
           "name": "United States",
           "orientation": "v",
           "showlegend": true,
           "type": "scatter",
           "x": [
            50.193548387096776
           ],
           "xaxis": "x",
           "y": [
            29
           ],
           "yaxis": "y"
          },
          {
           "hovertemplate": "<b>%{hovertext}</b><br><br>Country_name=France<br>Month=1<br>AQI=%{x}<br>AQI_20=%{y}<br>size=%{marker.size}<extra></extra>",
           "hovertext": [
            "Paris"
           ],
           "ids": [
            "France"
           ],
           "legendgroup": "France",
           "marker": {
            "color": "#00cc96",
            "size": [
             1
            ],
            "sizemode": "area",
            "sizeref": 0.00033057851239669424,
            "symbol": "circle"
           },
           "mode": "markers",
           "name": "France",
           "orientation": "v",
           "showlegend": true,
           "type": "scatter",
           "x": [
            49.806451612903224
           ],
           "xaxis": "x",
           "y": [
            52.583333333333336
           ],
           "yaxis": "y"
          },
          {
           "hovertemplate": "<b>%{hovertext}</b><br><br>Country_name=Japan<br>Month=1<br>AQI=%{x}<br>AQI_20=%{y}<br>size=%{marker.size}<extra></extra>",
           "hovertext": [
            "Tokyo"
           ],
           "ids": [
            "Japan"
           ],
           "legendgroup": "Japan",
           "marker": {
            "color": "#ab63fa",
            "size": [
             1
            ],
            "sizemode": "area",
            "sizeref": 0.00033057851239669424,
            "symbol": "circle"
           },
           "mode": "markers",
           "name": "Japan",
           "orientation": "v",
           "showlegend": true,
           "type": "scatter",
           "x": [
            252.1290322580645
           ],
           "xaxis": "x",
           "y": [
            35.77777777777778
           ],
           "yaxis": "y"
          },
          {
           "hovertemplate": "<b>%{hovertext}</b><br><br>Country_name=Israel<br>Month=1<br>AQI=%{x}<br>AQI_20=%{y}<br>size=%{marker.size}<extra></extra>",
           "hovertext": [
            "Jerusalem"
           ],
           "ids": [
            "Israel"
           ],
           "legendgroup": "Israel",
           "marker": {
            "color": "#FFA15A",
            "size": [
             1
            ],
            "sizemode": "area",
            "sizeref": 0.00033057851239669424,
            "symbol": "circle"
           },
           "mode": "markers",
           "name": "Israel",
           "orientation": "v",
           "showlegend": true,
           "type": "scatter",
           "x": [
            69.12903225806451
           ],
           "xaxis": "x",
           "y": [
            47.61764705882353
           ],
           "yaxis": "y"
          },
          {
           "hovertemplate": "<b>%{hovertext}</b><br><br>Country_name=India<br>Month=1<br>AQI=%{x}<br>AQI_20=%{y}<br>size=%{marker.size}<extra></extra>",
           "hovertext": [
            "Delhi"
           ],
           "ids": [
            "India"
           ],
           "legendgroup": "India",
           "marker": {
            "color": "#19d3f3",
            "size": [
             1
            ],
            "sizemode": "area",
            "sizeref": 0.00033057851239669424,
            "symbol": "circle"
           },
           "mode": "markers",
           "name": "India",
           "orientation": "v",
           "showlegend": true,
           "type": "scatter",
           "x": [
            33.714285714285715
           ],
           "xaxis": "x",
           "y": [
            226.80555555555554
           ],
           "yaxis": "y"
          },
          {
           "hovertemplate": "<b>%{hovertext}</b><br><br>Country_name=Australia<br>Month=1<br>AQI=%{x}<br>AQI_20=%{y}<br>size=%{marker.size}<extra></extra>",
           "hovertext": [
            "Melbourne"
           ],
           "ids": [
            "Australia"
           ],
           "legendgroup": "Australia",
           "marker": {
            "color": "#FF6692",
            "size": [
             1
            ],
            "sizemode": "area",
            "sizeref": 0.00033057851239669424,
            "symbol": "circle"
           },
           "mode": "markers",
           "name": "Australia",
           "orientation": "v",
           "showlegend": true,
           "type": "scatter",
           "x": [
            129.06451612903226
           ],
           "xaxis": "x",
           "y": [
            55.666666666666664
           ],
           "yaxis": "y"
          },
          {
           "hovertemplate": "<b>%{hovertext}</b><br><br>Country_name=Thailand<br>Month=1<br>AQI=%{x}<br>AQI_20=%{y}<br>size=%{marker.size}<extra></extra>",
           "hovertext": [
            "Bangkok"
           ],
           "ids": [
            "Thailand"
           ],
           "legendgroup": "Thailand",
           "marker": {
            "color": "#B6E880",
            "size": [
             1
            ],
            "sizemode": "area",
            "sizeref": 0.00033057851239669424,
            "symbol": "circle"
           },
           "mode": "markers",
           "name": "Thailand",
           "orientation": "v",
           "showlegend": true,
           "type": "scatter",
           "x": [
            50.516129032258064
           ],
           "xaxis": "x",
           "y": [
            111.55555555555556
           ],
           "yaxis": "y"
          },
          {
           "hovertemplate": "<b>%{hovertext}</b><br><br>Country_name=Argentina<br>Month=1<br>AQI=%{x}<br>AQI_20=%{y}<br>size=%{marker.size}<extra></extra>",
           "hovertext": [
            "Buenos Aires"
           ],
           "ids": [
            "Argentina"
           ],
           "legendgroup": "Argentina",
           "marker": {
            "color": "#FF97FF",
            "size": [
             1
            ],
            "sizemode": "area",
            "sizeref": 0.00033057851239669424,
            "symbol": "circle"
           },
           "mode": "markers",
           "name": "Argentina",
           "orientation": "v",
           "showlegend": true,
           "type": "scatter",
           "x": [
            19.633333333333333
           ],
           "xaxis": "x",
           "y": [
            36.05882352941177
           ],
           "yaxis": "y"
          },
          {
           "hovertemplate": "<b>%{hovertext}</b><br><br>Country_name=Spain<br>Month=1<br>AQI=%{x}<br>AQI_20=%{y}<br>size=%{marker.size}<extra></extra>",
           "hovertext": [
            "Barcelona",
            "Madrid"
           ],
           "ids": [
            "Spain",
            "Spain"
           ],
           "legendgroup": "Spain",
           "marker": {
            "color": "#FECB52",
            "size": [
             1,
             1
            ],
            "sizemode": "area",
            "sizeref": 0.00033057851239669424,
            "symbol": "circle"
           },
           "mode": "markers",
           "name": "Spain",
           "orientation": "v",
           "showlegend": true,
           "type": "scatter",
           "x": [
            40.96774193548387,
            28.29032258064516
           ],
           "xaxis": "x",
           "y": [
            23.77777777777778,
            52.416666666666664
           ],
           "yaxis": "y"
          },
          {
           "hovertemplate": "<b>%{hovertext}</b><br><br>Country_name=Switzerland<br>Month=1<br>AQI=%{x}<br>AQI_20=%{y}<br>size=%{marker.size}<extra></extra>",
           "hovertext": [
            "Zürich"
           ],
           "ids": [
            "Switzerland"
           ],
           "legendgroup": "Switzerland",
           "marker": {
            "color": "#636efa",
            "size": [
             1
            ],
            "sizemode": "area",
            "sizeref": 0.00033057851239669424,
            "symbol": "circle"
           },
           "mode": "markers",
           "name": "Switzerland",
           "orientation": "v",
           "showlegend": true,
           "type": "scatter",
           "x": [
            56.41935483870968
           ],
           "xaxis": "x",
           "y": [
            14.758333333333335
           ],
           "yaxis": "y"
          },
          {
           "hovertemplate": "<b>%{hovertext}</b><br><br>Country_name=Chile<br>Month=1<br>AQI=%{x}<br>AQI_20=%{y}<br>size=%{marker.size}<extra></extra>",
           "hovertext": [
            "Los Ángeles"
           ],
           "ids": [
            "Chile"
           ],
           "legendgroup": "Chile",
           "marker": {
            "color": "#EF553B",
            "size": [
             1
            ],
            "sizemode": "area",
            "sizeref": 0.00033057851239669424,
            "symbol": "circle"
           },
           "mode": "markers",
           "name": "Chile",
           "orientation": "v",
           "showlegend": true,
           "type": "scatter",
           "x": [
            14.129032258064516
           ],
           "xaxis": "x",
           "y": [
            37.77777777777778
           ],
           "yaxis": "y"
          },
          {
           "hovertemplate": "<b>%{hovertext}</b><br><br>Country_name=Germany<br>Month=1<br>AQI=%{x}<br>AQI_20=%{y}<br>size=%{marker.size}<extra></extra>",
           "hovertext": [
            "Berlin"
           ],
           "ids": [
            "Germany"
           ],
           "legendgroup": "Germany",
           "marker": {
            "color": "#00cc96",
            "size": [
             1
            ],
            "sizemode": "area",
            "sizeref": 0.00033057851239669424,
            "symbol": "circle"
           },
           "mode": "markers",
           "name": "Germany",
           "orientation": "v",
           "showlegend": true,
           "type": "scatter",
           "x": [
            28.29032258064516
           ],
           "xaxis": "x",
           "y": [
            44
           ],
           "yaxis": "y"
          }
         ],
         "name": "1"
        },
        {
         "data": [
          {
           "hovertemplate": "<b>%{hovertext}</b><br><br>Country_name=Netherlands<br>Month=2<br>AQI=%{x}<br>AQI_20=%{y}<br>size=%{marker.size}<extra></extra>",
           "hovertext": [
            "Rotterdam"
           ],
           "ids": [
            "Netherlands"
           ],
           "legendgroup": "Netherlands",
           "marker": {
            "color": "#636efa",
            "size": [
             1
            ],
            "sizemode": "area",
            "sizeref": 0.00033057851239669424,
            "symbol": "circle"
           },
           "mode": "markers",
           "name": "Netherlands",
           "orientation": "v",
           "showlegend": true,
           "type": "scatter",
           "x": [
            26.535714285714285
           ],
           "xaxis": "x",
           "y": [
            34.62068965517241
           ],
           "yaxis": "y"
          },
          {
           "hovertemplate": "<b>%{hovertext}</b><br><br>Country_name=United States<br>Month=2<br>AQI=%{x}<br>AQI_20=%{y}<br>size=%{marker.size}<extra></extra>",
           "hovertext": [
            "San Francisco"
           ],
           "ids": [
            "United States"
           ],
           "legendgroup": "United States",
           "marker": {
            "color": "#EF553B",
            "size": [
             1
            ],
            "sizemode": "area",
            "sizeref": 0.00033057851239669424,
            "symbol": "circle"
           },
           "mode": "markers",
           "name": "United States",
           "orientation": "v",
           "showlegend": true,
           "type": "scatter",
           "x": [
            48.75
           ],
           "xaxis": "x",
           "y": [
            33.86206896551724
           ],
           "yaxis": "y"
          },
          {
           "hovertemplate": "<b>%{hovertext}</b><br><br>Country_name=France<br>Month=2<br>AQI=%{x}<br>AQI_20=%{y}<br>size=%{marker.size}<extra></extra>",
           "hovertext": [
            "Paris"
           ],
           "ids": [
            "France"
           ],
           "legendgroup": "France",
           "marker": {
            "color": "#00cc96",
            "size": [
             1
            ],
            "sizemode": "area",
            "sizeref": 0.00033057851239669424,
            "symbol": "circle"
           },
           "mode": "markers",
           "name": "France",
           "orientation": "v",
           "showlegend": true,
           "type": "scatter",
           "x": [
            28.321428571428573
           ],
           "xaxis": "x",
           "y": [
            32.96551724137931
           ],
           "yaxis": "y"
          },
          {
           "hovertemplate": "<b>%{hovertext}</b><br><br>Country_name=Japan<br>Month=2<br>AQI=%{x}<br>AQI_20=%{y}<br>size=%{marker.size}<extra></extra>",
           "hovertext": [
            "Tokyo"
           ],
           "ids": [
            "Japan"
           ],
           "legendgroup": "Japan",
           "marker": {
            "color": "#ab63fa",
            "size": [
             1
            ],
            "sizemode": "area",
            "sizeref": 0.00033057851239669424,
            "symbol": "circle"
           },
           "mode": "markers",
           "name": "Japan",
           "orientation": "v",
           "showlegend": true,
           "type": "scatter",
           "x": [
            70.10714285714286
           ],
           "xaxis": "x",
           "y": [
            40.6551724137931
           ],
           "yaxis": "y"
          },
          {
           "hovertemplate": "<b>%{hovertext}</b><br><br>Country_name=Israel<br>Month=2<br>AQI=%{x}<br>AQI_20=%{y}<br>size=%{marker.size}<extra></extra>",
           "hovertext": [
            "Jerusalem"
           ],
           "ids": [
            "Israel"
           ],
           "legendgroup": "Israel",
           "marker": {
            "color": "#FFA15A",
            "size": [
             1
            ],
            "sizemode": "area",
            "sizeref": 0.00033057851239669424,
            "symbol": "circle"
           },
           "mode": "markers",
           "name": "Israel",
           "orientation": "v",
           "showlegend": true,
           "type": "scatter",
           "x": [
            60.285714285714285
           ],
           "xaxis": "x",
           "y": [
            53.241379310344826
           ],
           "yaxis": "y"
          },
          {
           "hovertemplate": "<b>%{hovertext}</b><br><br>Country_name=India<br>Month=2<br>AQI=%{x}<br>AQI_20=%{y}<br>size=%{marker.size}<extra></extra>",
           "hovertext": [
            "Delhi"
           ],
           "ids": [
            "India"
           ],
           "legendgroup": "India",
           "marker": {
            "color": "#19d3f3",
            "size": [
             1
            ],
            "sizemode": "area",
            "sizeref": 0.00033057851239669424,
            "symbol": "circle"
           },
           "mode": "markers",
           "name": "India",
           "orientation": "v",
           "showlegend": true,
           "type": "scatter",
           "x": [
            184.85714285714286
           ],
           "xaxis": "x",
           "y": [
            181.06896551724137
           ],
           "yaxis": "y"
          },
          {
           "hovertemplate": "<b>%{hovertext}</b><br><br>Country_name=Australia<br>Month=2<br>AQI=%{x}<br>AQI_20=%{y}<br>size=%{marker.size}<extra></extra>",
           "hovertext": [
            "Melbourne"
           ],
           "ids": [
            "Australia"
           ],
           "legendgroup": "Australia",
           "marker": {
            "color": "#FF6692",
            "size": [
             1
            ],
            "sizemode": "area",
            "sizeref": 0.00033057851239669424,
            "symbol": "circle"
           },
           "mode": "markers",
           "name": "Australia",
           "orientation": "v",
           "showlegend": true,
           "type": "scatter",
           "x": [
            54.67857142857143
           ],
           "xaxis": "x",
           "y": [
            28.20689655172414
           ],
           "yaxis": "y"
          },
          {
           "hovertemplate": "<b>%{hovertext}</b><br><br>Country_name=Thailand<br>Month=2<br>AQI=%{x}<br>AQI_20=%{y}<br>size=%{marker.size}<extra></extra>",
           "hovertext": [
            "Bangkok"
           ],
           "ids": [
            "Thailand"
           ],
           "legendgroup": "Thailand",
           "marker": {
            "color": "#B6E880",
            "size": [
             1
            ],
            "sizemode": "area",
            "sizeref": 0.00033057851239669424,
            "symbol": "circle"
           },
           "mode": "markers",
           "name": "Thailand",
           "orientation": "v",
           "showlegend": true,
           "type": "scatter",
           "x": [
            51.285714285714285
           ],
           "xaxis": "x",
           "y": [
            113.41379310344827
           ],
           "yaxis": "y"
          },
          {
           "hovertemplate": "<b>%{hovertext}</b><br><br>Country_name=Argentina<br>Month=2<br>AQI=%{x}<br>AQI_20=%{y}<br>size=%{marker.size}<extra></extra>",
           "hovertext": [
            "Buenos Aires"
           ],
           "ids": [
            "Argentina"
           ],
           "legendgroup": "Argentina",
           "marker": {
            "color": "#FF97FF",
            "size": [
             1
            ],
            "sizemode": "area",
            "sizeref": 0.00033057851239669424,
            "symbol": "circle"
           },
           "mode": "markers",
           "name": "Argentina",
           "orientation": "v",
           "showlegend": true,
           "type": "scatter",
           "x": [
            65.60714285714286
           ],
           "xaxis": "x",
           "y": [
            34.724137931034484
           ],
           "yaxis": "y"
          },
          {
           "hovertemplate": "<b>%{hovertext}</b><br><br>Country_name=Spain<br>Month=2<br>AQI=%{x}<br>AQI_20=%{y}<br>size=%{marker.size}<extra></extra>",
           "hovertext": [
            "Madrid",
            "Barcelona"
           ],
           "ids": [
            "Spain",
            "Spain"
           ],
           "legendgroup": "Spain",
           "marker": {
            "color": "#FECB52",
            "size": [
             1,
             1
            ],
            "sizemode": "area",
            "sizeref": 0.00033057851239669424,
            "symbol": "circle"
           },
           "mode": "markers",
           "name": "Spain",
           "orientation": "v",
           "showlegend": true,
           "type": "scatter",
           "x": [
            17.892857142857142,
            70.03571428571429
           ],
           "xaxis": "x",
           "y": [
            54.206896551724135,
            26.06896551724138
           ],
           "yaxis": "y"
          },
          {
           "hovertemplate": "<b>%{hovertext}</b><br><br>Country_name=Switzerland<br>Month=2<br>AQI=%{x}<br>AQI_20=%{y}<br>size=%{marker.size}<extra></extra>",
           "hovertext": [
            "Zürich"
           ],
           "ids": [
            "Switzerland"
           ],
           "legendgroup": "Switzerland",
           "marker": {
            "color": "#636efa",
            "size": [
             1
            ],
            "sizemode": "area",
            "sizeref": 0.00033057851239669424,
            "symbol": "circle"
           },
           "mode": "markers",
           "name": "Switzerland",
           "orientation": "v",
           "showlegend": true,
           "type": "scatter",
           "x": [
            25
           ],
           "xaxis": "x",
           "y": [
            20.38620689655172
           ],
           "yaxis": "y"
          },
          {
           "hovertemplate": "<b>%{hovertext}</b><br><br>Country_name=Chile<br>Month=2<br>AQI=%{x}<br>AQI_20=%{y}<br>size=%{marker.size}<extra></extra>",
           "hovertext": [
            "Los Ángeles"
           ],
           "ids": [
            "Chile"
           ],
           "legendgroup": "Chile",
           "marker": {
            "color": "#EF553B",
            "size": [
             1
            ],
            "sizemode": "area",
            "sizeref": 0.00033057851239669424,
            "symbol": "circle"
           },
           "mode": "markers",
           "name": "Chile",
           "orientation": "v",
           "showlegend": true,
           "type": "scatter",
           "x": [
            38.04545454545455
           ],
           "xaxis": "x",
           "y": [
            30.20689655172414
           ],
           "yaxis": "y"
          },
          {
           "hovertemplate": "<b>%{hovertext}</b><br><br>Country_name=Germany<br>Month=2<br>AQI=%{x}<br>AQI_20=%{y}<br>size=%{marker.size}<extra></extra>",
           "hovertext": [
            "Berlin"
           ],
           "ids": [
            "Germany"
           ],
           "legendgroup": "Germany",
           "marker": {
            "color": "#00cc96",
            "size": [
             1
            ],
            "sizemode": "area",
            "sizeref": 0.00033057851239669424,
            "symbol": "circle"
           },
           "mode": "markers",
           "name": "Germany",
           "orientation": "v",
           "showlegend": true,
           "type": "scatter",
           "x": [
            77.21428571428571
           ],
           "xaxis": "x",
           "y": [
            27.448275862068964
           ],
           "yaxis": "y"
          }
         ],
         "name": "2"
        },
        {
         "data": [
          {
           "hovertemplate": "<b>%{hovertext}</b><br><br>Country_name=Netherlands<br>Month=3<br>AQI=%{x}<br>AQI_20=%{y}<br>size=%{marker.size}<extra></extra>",
           "hovertext": [
            "Rotterdam"
           ],
           "ids": [
            "Netherlands"
           ],
           "legendgroup": "Netherlands",
           "marker": {
            "color": "#636efa",
            "size": [
             1
            ],
            "sizemode": "area",
            "sizeref": 0.00033057851239669424,
            "symbol": "circle"
           },
           "mode": "markers",
           "name": "Netherlands",
           "orientation": "v",
           "showlegend": true,
           "type": "scatter",
           "x": [
            27.580645161290324
           ],
           "xaxis": "x",
           "y": [
            37.696969696969695
           ],
           "yaxis": "y"
          },
          {
           "hovertemplate": "<b>%{hovertext}</b><br><br>Country_name=United States<br>Month=3<br>AQI=%{x}<br>AQI_20=%{y}<br>size=%{marker.size}<extra></extra>",
           "hovertext": [
            "San Francisco"
           ],
           "ids": [
            "United States"
           ],
           "legendgroup": "United States",
           "marker": {
            "color": "#EF553B",
            "size": [
             1
            ],
            "sizemode": "area",
            "sizeref": 0.00033057851239669424,
            "symbol": "circle"
           },
           "mode": "markers",
           "name": "United States",
           "orientation": "v",
           "showlegend": true,
           "type": "scatter",
           "x": [
            23.78709677419355
           ],
           "xaxis": "x",
           "y": [
            25.884848484848487
           ],
           "yaxis": "y"
          },
          {
           "hovertemplate": "<b>%{hovertext}</b><br><br>Country_name=France<br>Month=3<br>AQI=%{x}<br>AQI_20=%{y}<br>size=%{marker.size}<extra></extra>",
           "hovertext": [
            "Paris"
           ],
           "ids": [
            "France"
           ],
           "legendgroup": "France",
           "marker": {
            "color": "#00cc96",
            "size": [
             1
            ],
            "sizemode": "area",
            "sizeref": 0.00033057851239669424,
            "symbol": "circle"
           },
           "mode": "markers",
           "name": "France",
           "orientation": "v",
           "showlegend": true,
           "type": "scatter",
           "x": [
            54.516129032258064
           ],
           "xaxis": "x",
           "y": [
            45.666666666666664
           ],
           "yaxis": "y"
          },
          {
           "hovertemplate": "<b>%{hovertext}</b><br><br>Country_name=Japan<br>Month=3<br>AQI=%{x}<br>AQI_20=%{y}<br>size=%{marker.size}<extra></extra>",
           "hovertext": [
            "Tokyo"
           ],
           "ids": [
            "Japan"
           ],
           "legendgroup": "Japan",
           "marker": {
            "color": "#ab63fa",
            "size": [
             1
            ],
            "sizemode": "area",
            "sizeref": 0.00033057851239669424,
            "symbol": "circle"
           },
           "mode": "markers",
           "name": "Japan",
           "orientation": "v",
           "showlegend": true,
           "type": "scatter",
           "x": [
            44.516129032258064
           ],
           "xaxis": "x",
           "y": [
            38.63636363636363
           ],
           "yaxis": "y"
          },
          {
           "hovertemplate": "<b>%{hovertext}</b><br><br>Country_name=Israel<br>Month=3<br>AQI=%{x}<br>AQI_20=%{y}<br>size=%{marker.size}<extra></extra>",
           "hovertext": [
            "Jerusalem"
           ],
           "ids": [
            "Israel"
           ],
           "legendgroup": "Israel",
           "marker": {
            "color": "#FFA15A",
            "size": [
             1
            ],
            "sizemode": "area",
            "sizeref": 0.00033057851239669424,
            "symbol": "circle"
           },
           "mode": "markers",
           "name": "Israel",
           "orientation": "v",
           "showlegend": true,
           "type": "scatter",
           "x": [
            37.516129032258064
           ],
           "xaxis": "x",
           "y": [
            60.24242424242424
           ],
           "yaxis": "y"
          },
          {
           "hovertemplate": "<b>%{hovertext}</b><br><br>Country_name=India<br>Month=3<br>AQI=%{x}<br>AQI_20=%{y}<br>size=%{marker.size}<extra></extra>",
           "hovertext": [
            "Delhi"
           ],
           "ids": [
            "India"
           ],
           "legendgroup": "India",
           "marker": {
            "color": "#19d3f3",
            "size": [
             1
            ],
            "sizemode": "area",
            "sizeref": 0.00033057851239669424,
            "symbol": "circle"
           },
           "mode": "markers",
           "name": "India",
           "orientation": "v",
           "showlegend": true,
           "type": "scatter",
           "x": [
            26.75483870967742
           ],
           "xaxis": "x",
           "y": [
            123.78787878787878
           ],
           "yaxis": "y"
          },
          {
           "hovertemplate": "<b>%{hovertext}</b><br><br>Country_name=Australia<br>Month=3<br>AQI=%{x}<br>AQI_20=%{y}<br>size=%{marker.size}<extra></extra>",
           "hovertext": [
            "Melbourne"
           ],
           "ids": [
            "Australia"
           ],
           "legendgroup": "Australia",
           "marker": {
            "color": "#FF6692",
            "size": [
             1
            ],
            "sizemode": "area",
            "sizeref": 0.00033057851239669424,
            "symbol": "circle"
           },
           "mode": "markers",
           "name": "Australia",
           "orientation": "v",
           "showlegend": true,
           "type": "scatter",
           "x": [
            34
           ],
           "xaxis": "x",
           "y": [
            19.09090909090909
           ],
           "yaxis": "y"
          },
          {
           "hovertemplate": "<b>%{hovertext}</b><br><br>Country_name=Thailand<br>Month=3<br>AQI=%{x}<br>AQI_20=%{y}<br>size=%{marker.size}<extra></extra>",
           "hovertext": [
            "Bangkok"
           ],
           "ids": [
            "Thailand"
           ],
           "legendgroup": "Thailand",
           "marker": {
            "color": "#B6E880",
            "size": [
             1
            ],
            "sizemode": "area",
            "sizeref": 0.00033057851239669424,
            "symbol": "circle"
           },
           "mode": "markers",
           "name": "Thailand",
           "orientation": "v",
           "showlegend": true,
           "type": "scatter",
           "x": [
            80.06451612903226
           ],
           "xaxis": "x",
           "y": [
            71.96969696969697
           ],
           "yaxis": "y"
          },
          {
           "hovertemplate": "<b>%{hovertext}</b><br><br>Country_name=Argentina<br>Month=3<br>AQI=%{x}<br>AQI_20=%{y}<br>size=%{marker.size}<extra></extra>",
           "hovertext": [
            "Buenos Aires"
           ],
           "ids": [
            "Argentina"
           ],
           "legendgroup": "Argentina",
           "marker": {
            "color": "#FF97FF",
            "size": [
             1
            ],
            "sizemode": "area",
            "sizeref": 0.00033057851239669424,
            "symbol": "circle"
           },
           "mode": "markers",
           "name": "Argentina",
           "orientation": "v",
           "showlegend": true,
           "type": "scatter",
           "x": [
            50.16129032258065
           ],
           "xaxis": "x",
           "y": [
            31.151515151515152
           ],
           "yaxis": "y"
          },
          {
           "hovertemplate": "<b>%{hovertext}</b><br><br>Country_name=Spain<br>Month=3<br>AQI=%{x}<br>AQI_20=%{y}<br>size=%{marker.size}<extra></extra>",
           "hovertext": [
            "Madrid",
            "Barcelona"
           ],
           "ids": [
            "Spain",
            "Spain"
           ],
           "legendgroup": "Spain",
           "marker": {
            "color": "#FECB52",
            "size": [
             1,
             1
            ],
            "sizemode": "area",
            "sizeref": 0.00033057851239669424,
            "symbol": "circle"
           },
           "mode": "markers",
           "name": "Spain",
           "orientation": "v",
           "showlegend": true,
           "type": "scatter",
           "x": [
            159.32258064516128,
            49.29032258064516
           ],
           "xaxis": "x",
           "y": [
            31.12121212121212,
            24.69090909090909
           ],
           "yaxis": "y"
          },
          {
           "hovertemplate": "<b>%{hovertext}</b><br><br>Country_name=Switzerland<br>Month=3<br>AQI=%{x}<br>AQI_20=%{y}<br>size=%{marker.size}<extra></extra>",
           "hovertext": [
            "Zürich"
           ],
           "ids": [
            "Switzerland"
           ],
           "legendgroup": "Switzerland",
           "marker": {
            "color": "#636efa",
            "size": [
             1
            ],
            "sizemode": "area",
            "sizeref": 0.00033057851239669424,
            "symbol": "circle"
           },
           "mode": "markers",
           "name": "Switzerland",
           "orientation": "v",
           "showlegend": true,
           "type": "scatter",
           "x": [
            46.935483870967744
           ],
           "xaxis": "x",
           "y": [
            20.145454545454545
           ],
           "yaxis": "y"
          },
          {
           "hovertemplate": "<b>%{hovertext}</b><br><br>Country_name=Chile<br>Month=3<br>AQI=%{x}<br>AQI_20=%{y}<br>size=%{marker.size}<extra></extra>",
           "hovertext": [
            "Los Ángeles"
           ],
           "ids": [
            "Chile"
           ],
           "legendgroup": "Chile",
           "marker": {
            "color": "#EF553B",
            "size": [
             1
            ],
            "sizemode": "area",
            "sizeref": 0.00033057851239669424,
            "symbol": "circle"
           },
           "mode": "markers",
           "name": "Chile",
           "orientation": "v",
           "showlegend": true,
           "type": "scatter",
           "x": [
            29.7
           ],
           "xaxis": "x",
           "y": [
            37.09090909090909
           ],
           "yaxis": "y"
          },
          {
           "hovertemplate": "<b>%{hovertext}</b><br><br>Country_name=Germany<br>Month=3<br>AQI=%{x}<br>AQI_20=%{y}<br>size=%{marker.size}<extra></extra>",
           "hovertext": [
            "Berlin"
           ],
           "ids": [
            "Germany"
           ],
           "legendgroup": "Germany",
           "marker": {
            "color": "#00cc96",
            "size": [
             1
            ],
            "sizemode": "area",
            "sizeref": 0.00033057851239669424,
            "symbol": "circle"
           },
           "mode": "markers",
           "name": "Germany",
           "orientation": "v",
           "showlegend": true,
           "type": "scatter",
           "x": [
            52.483870967741936
           ],
           "xaxis": "x",
           "y": [
            42.54545454545455
           ],
           "yaxis": "y"
          }
         ],
         "name": "3"
        },
        {
         "data": [
          {
           "hovertemplate": "<b>%{hovertext}</b><br><br>Country_name=Netherlands<br>Month=4<br>AQI=%{x}<br>AQI_20=%{y}<br>size=%{marker.size}<extra></extra>",
           "hovertext": [
            "Rotterdam"
           ],
           "ids": [
            "Netherlands"
           ],
           "legendgroup": "Netherlands",
           "marker": {
            "color": "#636efa",
            "size": [
             1
            ],
            "sizemode": "area",
            "sizeref": 0.00033057851239669424,
            "symbol": "circle"
           },
           "mode": "markers",
           "name": "Netherlands",
           "orientation": "v",
           "showlegend": true,
           "type": "scatter",
           "x": [
            81.82758620689656
           ],
           "xaxis": "x",
           "y": [
            43.51428571428571
           ],
           "yaxis": "y"
          },
          {
           "hovertemplate": "<b>%{hovertext}</b><br><br>Country_name=United States<br>Month=4<br>AQI=%{x}<br>AQI_20=%{y}<br>size=%{marker.size}<extra></extra>",
           "hovertext": [
            "San Francisco"
           ],
           "ids": [
            "United States"
           ],
           "legendgroup": "United States",
           "marker": {
            "color": "#EF553B",
            "size": [
             1
            ],
            "sizemode": "area",
            "sizeref": 0.00033057851239669424,
            "symbol": "circle"
           },
           "mode": "markers",
           "name": "United States",
           "orientation": "v",
           "showlegend": true,
           "type": "scatter",
           "x": [
            27.84827586206896
           ],
           "xaxis": "x",
           "y": [
            24.991428571428568
           ],
           "yaxis": "y"
          },
          {
           "hovertemplate": "<b>%{hovertext}</b><br><br>Country_name=France<br>Month=4<br>AQI=%{x}<br>AQI_20=%{y}<br>size=%{marker.size}<extra></extra>",
           "hovertext": [
            "Paris"
           ],
           "ids": [
            "France"
           ],
           "legendgroup": "France",
           "marker": {
            "color": "#00cc96",
            "size": [
             1
            ],
            "sizemode": "area",
            "sizeref": 0.00033057851239669424,
            "symbol": "circle"
           },
           "mode": "markers",
           "name": "France",
           "orientation": "v",
           "showlegend": true,
           "type": "scatter",
           "x": [
            67.46666666666667
           ],
           "xaxis": "x",
           "y": [
            49.97142857142857
           ],
           "yaxis": "y"
          },
          {
           "hovertemplate": "<b>%{hovertext}</b><br><br>Country_name=Japan<br>Month=4<br>AQI=%{x}<br>AQI_20=%{y}<br>size=%{marker.size}<extra></extra>",
           "hovertext": [
            "Tokyo"
           ],
           "ids": [
            "Japan"
           ],
           "legendgroup": "Japan",
           "marker": {
            "color": "#ab63fa",
            "size": [
             1
            ],
            "sizemode": "area",
            "sizeref": 0.00033057851239669424,
            "symbol": "circle"
           },
           "mode": "markers",
           "name": "Japan",
           "orientation": "v",
           "showlegend": true,
           "type": "scatter",
           "x": [
            56.833333333333336
           ],
           "xaxis": "x",
           "y": [
            38.8
           ],
           "yaxis": "y"
          },
          {
           "hovertemplate": "<b>%{hovertext}</b><br><br>Country_name=Israel<br>Month=4<br>AQI=%{x}<br>AQI_20=%{y}<br>size=%{marker.size}<extra></extra>",
           "hovertext": [
            "Jerusalem"
           ],
           "ids": [
            "Israel"
           ],
           "legendgroup": "Israel",
           "marker": {
            "color": "#FFA15A",
            "size": [
             1
            ],
            "sizemode": "area",
            "sizeref": 0.00033057851239669424,
            "symbol": "circle"
           },
           "mode": "markers",
           "name": "Israel",
           "orientation": "v",
           "showlegend": true,
           "type": "scatter",
           "x": [
            58.607142857142854
           ],
           "xaxis": "x",
           "y": [
            53.542857142857144
           ],
           "yaxis": "y"
          },
          {
           "hovertemplate": "<b>%{hovertext}</b><br><br>Country_name=India<br>Month=4<br>AQI=%{x}<br>AQI_20=%{y}<br>size=%{marker.size}<extra></extra>",
           "hovertext": [
            "Delhi"
           ],
           "ids": [
            "India"
           ],
           "legendgroup": "India",
           "marker": {
            "color": "#19d3f3",
            "size": [
             1
            ],
            "sizemode": "area",
            "sizeref": 0.00033057851239669424,
            "symbol": "circle"
           },
           "mode": "markers",
           "name": "India",
           "orientation": "v",
           "showlegend": true,
           "type": "scatter",
           "x": [
            32.06666666666667
           ],
           "xaxis": "x",
           "y": [
            107.88571428571429
           ],
           "yaxis": "y"
          },
          {
           "hovertemplate": "<b>%{hovertext}</b><br><br>Country_name=Australia<br>Month=4<br>AQI=%{x}<br>AQI_20=%{y}<br>size=%{marker.size}<extra></extra>",
           "hovertext": [
            "Melbourne"
           ],
           "ids": [
            "Australia"
           ],
           "legendgroup": "Australia",
           "marker": {
            "color": "#FF6692",
            "size": [
             1
            ],
            "sizemode": "area",
            "sizeref": 0.00033057851239669424,
            "symbol": "circle"
           },
           "mode": "markers",
           "name": "Australia",
           "orientation": "v",
           "showlegend": true,
           "type": "scatter",
           "x": [
            57.03333333333333
           ],
           "xaxis": "x",
           "y": [
            23.62857142857143
           ],
           "yaxis": "y"
          },
          {
           "hovertemplate": "<b>%{hovertext}</b><br><br>Country_name=Thailand<br>Month=4<br>AQI=%{x}<br>AQI_20=%{y}<br>size=%{marker.size}<extra></extra>",
           "hovertext": [
            "Bangkok"
           ],
           "ids": [
            "Thailand"
           ],
           "legendgroup": "Thailand",
           "marker": {
            "color": "#B6E880",
            "size": [
             1
            ],
            "sizemode": "area",
            "sizeref": 0.00033057851239669424,
            "symbol": "circle"
           },
           "mode": "markers",
           "name": "Thailand",
           "orientation": "v",
           "showlegend": true,
           "type": "scatter",
           "x": [
            38.3
           ],
           "xaxis": "x",
           "y": [
            64.94285714285714
           ],
           "yaxis": "y"
          },
          {
           "hovertemplate": "<b>%{hovertext}</b><br><br>Country_name=Argentina<br>Month=4<br>AQI=%{x}<br>AQI_20=%{y}<br>size=%{marker.size}<extra></extra>",
           "hovertext": [
            "Buenos Aires"
           ],
           "ids": [
            "Argentina"
           ],
           "legendgroup": "Argentina",
           "marker": {
            "color": "#FF97FF",
            "size": [
             1
            ],
            "sizemode": "area",
            "sizeref": 0.00033057851239669424,
            "symbol": "circle"
           },
           "mode": "markers",
           "name": "Argentina",
           "orientation": "v",
           "showlegend": true,
           "type": "scatter",
           "x": [
            28.433333333333334
           ],
           "xaxis": "x",
           "y": [
            25.914285714285715
           ],
           "yaxis": "y"
          },
          {
           "hovertemplate": "<b>%{hovertext}</b><br><br>Country_name=Spain<br>Month=4<br>AQI=%{x}<br>AQI_20=%{y}<br>size=%{marker.size}<extra></extra>",
           "hovertext": [
            "Barcelona",
            "Madrid"
           ],
           "ids": [
            "Spain",
            "Spain"
           ],
           "legendgroup": "Spain",
           "marker": {
            "color": "#FECB52",
            "size": [
             1,
             1
            ],
            "sizemode": "area",
            "sizeref": 0.00033057851239669424,
            "symbol": "circle"
           },
           "mode": "markers",
           "name": "Spain",
           "orientation": "v",
           "showlegend": true,
           "type": "scatter",
           "x": [
            56.13333333333333,
            28.448275862068964
           ],
           "xaxis": "x",
           "y": [
            30.408571428571427,
            29.65714285714286
           ],
           "yaxis": "y"
          },
          {
           "hovertemplate": "<b>%{hovertext}</b><br><br>Country_name=Switzerland<br>Month=4<br>AQI=%{x}<br>AQI_20=%{y}<br>size=%{marker.size}<extra></extra>",
           "hovertext": [
            "Zürich"
           ],
           "ids": [
            "Switzerland"
           ],
           "legendgroup": "Switzerland",
           "marker": {
            "color": "#636efa",
            "size": [
             1
            ],
            "sizemode": "area",
            "sizeref": 0.00033057851239669424,
            "symbol": "circle"
           },
           "mode": "markers",
           "name": "Switzerland",
           "orientation": "v",
           "showlegend": true,
           "type": "scatter",
           "x": [
            24.662068965517236
           ],
           "xaxis": "x",
           "y": [
            28.97142857142858
           ],
           "yaxis": "y"
          },
          {
           "hovertemplate": "<b>%{hovertext}</b><br><br>Country_name=Chile<br>Month=4<br>AQI=%{x}<br>AQI_20=%{y}<br>size=%{marker.size}<extra></extra>",
           "hovertext": [
            "Los Ángeles"
           ],
           "ids": [
            "Chile"
           ],
           "legendgroup": "Chile",
           "marker": {
            "color": "#EF553B",
            "size": [
             1
            ],
            "sizemode": "area",
            "sizeref": 0.00033057851239669424,
            "symbol": "circle"
           },
           "mode": "markers",
           "name": "Chile",
           "orientation": "v",
           "showlegend": true,
           "type": "scatter",
           "x": [
            153.3793103448276
           ],
           "xaxis": "x",
           "y": [
            59.65714285714286
           ],
           "yaxis": "y"
          },
          {
           "hovertemplate": "<b>%{hovertext}</b><br><br>Country_name=Germany<br>Month=4<br>AQI=%{x}<br>AQI_20=%{y}<br>size=%{marker.size}<extra></extra>",
           "hovertext": [
            "Berlin"
           ],
           "ids": [
            "Germany"
           ],
           "legendgroup": "Germany",
           "marker": {
            "color": "#00cc96",
            "size": [
             1
            ],
            "sizemode": "area",
            "sizeref": 0.00033057851239669424,
            "symbol": "circle"
           },
           "mode": "markers",
           "name": "Germany",
           "orientation": "v",
           "showlegend": true,
           "type": "scatter",
           "x": [
            42.206896551724135
           ],
           "xaxis": "x",
           "y": [
            36.65714285714286
           ],
           "yaxis": "y"
          }
         ],
         "name": "4"
        },
        {
         "data": [
          {
           "hovertemplate": "<b>%{hovertext}</b><br><br>Country_name=Netherlands<br>Month=5<br>AQI=%{x}<br>AQI_20=%{y}<br>size=%{marker.size}<extra></extra>",
           "hovertext": [
            "Rotterdam"
           ],
           "ids": [
            "Netherlands"
           ],
           "legendgroup": "Netherlands",
           "marker": {
            "color": "#636efa",
            "size": [
             1
            ],
            "sizemode": "area",
            "sizeref": 0.00033057851239669424,
            "symbol": "circle"
           },
           "mode": "markers",
           "name": "Netherlands",
           "orientation": "v",
           "showlegend": true,
           "type": "scatter",
           "x": [
            27.36774193548387
           ],
           "xaxis": "x",
           "y": [
            35.096774193548384
           ],
           "yaxis": "y"
          },
          {
           "hovertemplate": "<b>%{hovertext}</b><br><br>Country_name=United States<br>Month=5<br>AQI=%{x}<br>AQI_20=%{y}<br>size=%{marker.size}<extra></extra>",
           "hovertext": [
            "San Francisco"
           ],
           "ids": [
            "United States"
           ],
           "legendgroup": "United States",
           "marker": {
            "color": "#EF553B",
            "size": [
             1
            ],
            "sizemode": "area",
            "sizeref": 0.00033057851239669424,
            "symbol": "circle"
           },
           "mode": "markers",
           "name": "United States",
           "orientation": "v",
           "showlegend": true,
           "type": "scatter",
           "x": [
            37.87096774193548
           ],
           "xaxis": "x",
           "y": [
            27.548387096774192
           ],
           "yaxis": "y"
          },
          {
           "hovertemplate": "<b>%{hovertext}</b><br><br>Country_name=France<br>Month=5<br>AQI=%{x}<br>AQI_20=%{y}<br>size=%{marker.size}<extra></extra>",
           "hovertext": [
            "Paris"
           ],
           "ids": [
            "France"
           ],
           "legendgroup": "France",
           "marker": {
            "color": "#00cc96",
            "size": [
             1
            ],
            "sizemode": "area",
            "sizeref": 0.00033057851239669424,
            "symbol": "circle"
           },
           "mode": "markers",
           "name": "France",
           "orientation": "v",
           "showlegend": true,
           "type": "scatter",
           "x": [
            37.67741935483871
           ],
           "xaxis": "x",
           "y": [
            40.32258064516129
           ],
           "yaxis": "y"
          },
          {
           "hovertemplate": "<b>%{hovertext}</b><br><br>Country_name=Japan<br>Month=5<br>AQI=%{x}<br>AQI_20=%{y}<br>size=%{marker.size}<extra></extra>",
           "hovertext": [
            "Tokyo"
           ],
           "ids": [
            "Japan"
           ],
           "legendgroup": "Japan",
           "marker": {
            "color": "#ab63fa",
            "size": [
             1
            ],
            "sizemode": "area",
            "sizeref": 0.00033057851239669424,
            "symbol": "circle"
           },
           "mode": "markers",
           "name": "Japan",
           "orientation": "v",
           "showlegend": true,
           "type": "scatter",
           "x": [
            25.274193548387096
           ],
           "xaxis": "x",
           "y": [
            37.83870967741935
           ],
           "yaxis": "y"
          },
          {
           "hovertemplate": "<b>%{hovertext}</b><br><br>Country_name=Israel<br>Month=5<br>AQI=%{x}<br>AQI_20=%{y}<br>size=%{marker.size}<extra></extra>",
           "hovertext": [
            "Jerusalem"
           ],
           "ids": [
            "Israel"
           ],
           "legendgroup": "Israel",
           "marker": {
            "color": "#FFA15A",
            "size": [
             1
            ],
            "sizemode": "area",
            "sizeref": 0.00033057851239669424,
            "symbol": "circle"
           },
           "mode": "markers",
           "name": "Israel",
           "orientation": "v",
           "showlegend": true,
           "type": "scatter",
           "x": [
            47.45161290322581
           ],
           "xaxis": "x",
           "y": [
            49.03225806451613
           ],
           "yaxis": "y"
          },
          {
           "hovertemplate": "<b>%{hovertext}</b><br><br>Country_name=India<br>Month=5<br>AQI=%{x}<br>AQI_20=%{y}<br>size=%{marker.size}<extra></extra>",
           "hovertext": [
            "Delhi"
           ],
           "ids": [
            "India"
           ],
           "legendgroup": "India",
           "marker": {
            "color": "#19d3f3",
            "size": [
             1
            ],
            "sizemode": "area",
            "sizeref": 0.00033057851239669424,
            "symbol": "circle"
           },
           "mode": "markers",
           "name": "India",
           "orientation": "v",
           "showlegend": true,
           "type": "scatter",
           "x": [
            38.38709677419355
           ],
           "xaxis": "x",
           "y": [
            122.6774193548387
           ],
           "yaxis": "y"
          },
          {
           "hovertemplate": "<b>%{hovertext}</b><br><br>Country_name=Australia<br>Month=5<br>AQI=%{x}<br>AQI_20=%{y}<br>size=%{marker.size}<extra></extra>",
           "hovertext": [
            "Melbourne"
           ],
           "ids": [
            "Australia"
           ],
           "legendgroup": "Australia",
           "marker": {
            "color": "#FF6692",
            "size": [
             1
            ],
            "sizemode": "area",
            "sizeref": 0.00033057851239669424,
            "symbol": "circle"
           },
           "mode": "markers",
           "name": "Australia",
           "orientation": "v",
           "showlegend": true,
           "type": "scatter",
           "x": [
            158
           ],
           "xaxis": "x",
           "y": [
            24.258064516129032
           ],
           "yaxis": "y"
          },
          {
           "hovertemplate": "<b>%{hovertext}</b><br><br>Country_name=Thailand<br>Month=5<br>AQI=%{x}<br>AQI_20=%{y}<br>size=%{marker.size}<extra></extra>",
           "hovertext": [
            "Bangkok"
           ],
           "ids": [
            "Thailand"
           ],
           "legendgroup": "Thailand",
           "marker": {
            "color": "#B6E880",
            "size": [
             1
            ],
            "sizemode": "area",
            "sizeref": 0.00033057851239669424,
            "symbol": "circle"
           },
           "mode": "markers",
           "name": "Thailand",
           "orientation": "v",
           "showlegend": true,
           "type": "scatter",
           "x": [
            60.41935483870968
           ],
           "xaxis": "x",
           "y": [
            55.29032258064516
           ],
           "yaxis": "y"
          },
          {
           "hovertemplate": "<b>%{hovertext}</b><br><br>Country_name=Argentina<br>Month=5<br>AQI=%{x}<br>AQI_20=%{y}<br>size=%{marker.size}<extra></extra>",
           "hovertext": [
            "Buenos Aires"
           ],
           "ids": [
            "Argentina"
           ],
           "legendgroup": "Argentina",
           "marker": {
            "color": "#FF97FF",
            "size": [
             1
            ],
            "sizemode": "area",
            "sizeref": 0.00033057851239669424,
            "symbol": "circle"
           },
           "mode": "markers",
           "name": "Argentina",
           "orientation": "v",
           "showlegend": true,
           "type": "scatter",
           "x": [
            46.225806451612904
           ],
           "xaxis": "x",
           "y": [
            50.12
           ],
           "yaxis": "y"
          },
          {
           "hovertemplate": "<b>%{hovertext}</b><br><br>Country_name=Spain<br>Month=5<br>AQI=%{x}<br>AQI_20=%{y}<br>size=%{marker.size}<extra></extra>",
           "hovertext": [
            "Barcelona",
            "Madrid"
           ],
           "ids": [
            "Spain",
            "Spain"
           ],
           "legendgroup": "Spain",
           "marker": {
            "color": "#FECB52",
            "size": [
             1,
             1
            ],
            "sizemode": "area",
            "sizeref": 0.00033057851239669424,
            "symbol": "circle"
           },
           "mode": "markers",
           "name": "Spain",
           "orientation": "v",
           "showlegend": true,
           "type": "scatter",
           "x": [
            97.29032258064517,
            26.032258064516128
           ],
           "xaxis": "x",
           "y": [
            27.274193548387096,
            33.225806451612904
           ],
           "yaxis": "y"
          },
          {
           "hovertemplate": "<b>%{hovertext}</b><br><br>Country_name=Switzerland<br>Month=5<br>AQI=%{x}<br>AQI_20=%{y}<br>size=%{marker.size}<extra></extra>",
           "hovertext": [
            "Zürich"
           ],
           "ids": [
            "Switzerland"
           ],
           "legendgroup": "Switzerland",
           "marker": {
            "color": "#636efa",
            "size": [
             1
            ],
            "sizemode": "area",
            "sizeref": 0.00033057851239669424,
            "symbol": "circle"
           },
           "mode": "markers",
           "name": "Switzerland",
           "orientation": "v",
           "showlegend": true,
           "type": "scatter",
           "x": [
            25.46129032258065
           ],
           "xaxis": "x",
           "y": [
            27.132258064516133
           ],
           "yaxis": "y"
          },
          {
           "hovertemplate": "<b>%{hovertext}</b><br><br>Country_name=Chile<br>Month=5<br>AQI=%{x}<br>AQI_20=%{y}<br>size=%{marker.size}<extra></extra>",
           "hovertext": [
            "Los Ángeles"
           ],
           "ids": [
            "Chile"
           ],
           "legendgroup": "Chile",
           "marker": {
            "color": "#EF553B",
            "size": [
             1
            ],
            "sizemode": "area",
            "sizeref": 0.00033057851239669424,
            "symbol": "circle"
           },
           "mode": "markers",
           "name": "Chile",
           "orientation": "v",
           "showlegend": true,
           "type": "scatter",
           "x": [
            28.612903225806456
           ],
           "xaxis": "x",
           "y": [
            67.70967741935483
           ],
           "yaxis": "y"
          },
          {
           "hovertemplate": "<b>%{hovertext}</b><br><br>Country_name=Germany<br>Month=5<br>AQI=%{x}<br>AQI_20=%{y}<br>size=%{marker.size}<extra></extra>",
           "hovertext": [
            "Berlin"
           ],
           "ids": [
            "Germany"
           ],
           "legendgroup": "Germany",
           "marker": {
            "color": "#00cc96",
            "size": [
             1
            ],
            "sizemode": "area",
            "sizeref": 0.00033057851239669424,
            "symbol": "circle"
           },
           "mode": "markers",
           "name": "Germany",
           "orientation": "v",
           "showlegend": true,
           "type": "scatter",
           "x": [
            69.64516129032258
           ],
           "xaxis": "x",
           "y": [
            27.845161290322583
           ],
           "yaxis": "y"
          }
         ],
         "name": "5"
        },
        {
         "data": [
          {
           "hovertemplate": "<b>%{hovertext}</b><br><br>Country_name=Netherlands<br>Month=6<br>AQI=%{x}<br>AQI_20=%{y}<br>size=%{marker.size}<extra></extra>",
           "hovertext": [
            "Rotterdam"
           ],
           "ids": [
            "Netherlands"
           ],
           "legendgroup": "Netherlands",
           "marker": {
            "color": "#636efa",
            "size": [
             1
            ],
            "sizemode": "area",
            "sizeref": 0.00033057851239669424,
            "symbol": "circle"
           },
           "mode": "markers",
           "name": "Netherlands",
           "orientation": "v",
           "showlegend": true,
           "type": "scatter",
           "x": [
            84.86666666666666
           ],
           "xaxis": "x",
           "y": [
            30.90625
           ],
           "yaxis": "y"
          },
          {
           "hovertemplate": "<b>%{hovertext}</b><br><br>Country_name=United States<br>Month=6<br>AQI=%{x}<br>AQI_20=%{y}<br>size=%{marker.size}<extra></extra>",
           "hovertext": [
            "San Francisco"
           ],
           "ids": [
            "United States"
           ],
           "legendgroup": "United States",
           "marker": {
            "color": "#EF553B",
            "size": [
             1
            ],
            "sizemode": "area",
            "sizeref": 0.00033057851239669424,
            "symbol": "circle"
           },
           "mode": "markers",
           "name": "United States",
           "orientation": "v",
           "showlegend": true,
           "type": "scatter",
           "x": [
            139.86666666666667
           ],
           "xaxis": "x",
           "y": [
            29.4375
           ],
           "yaxis": "y"
          },
          {
           "hovertemplate": "<b>%{hovertext}</b><br><br>Country_name=France<br>Month=6<br>AQI=%{x}<br>AQI_20=%{y}<br>size=%{marker.size}<extra></extra>",
           "hovertext": [
            "Paris"
           ],
           "ids": [
            "France"
           ],
           "legendgroup": "France",
           "marker": {
            "color": "#00cc96",
            "size": [
             1
            ],
            "sizemode": "area",
            "sizeref": 0.00033057851239669424,
            "symbol": "circle"
           },
           "mode": "markers",
           "name": "France",
           "orientation": "v",
           "showlegend": true,
           "type": "scatter",
           "x": [
            37.56666666666667
           ],
           "xaxis": "x",
           "y": [
            37.375
           ],
           "yaxis": "y"
          },
          {
           "hovertemplate": "<b>%{hovertext}</b><br><br>Country_name=Japan<br>Month=6<br>AQI=%{x}<br>AQI_20=%{y}<br>size=%{marker.size}<extra></extra>",
           "hovertext": [
            "Tokyo"
           ],
           "ids": [
            "Japan"
           ],
           "legendgroup": "Japan",
           "marker": {
            "color": "#ab63fa",
            "size": [
             1
            ],
            "sizemode": "area",
            "sizeref": 0.00033057851239669424,
            "symbol": "circle"
           },
           "mode": "markers",
           "name": "Japan",
           "orientation": "v",
           "showlegend": true,
           "type": "scatter",
           "x": [
            40.2
           ],
           "xaxis": "x",
           "y": [
            42.25
           ],
           "yaxis": "y"
          },
          {
           "hovertemplate": "<b>%{hovertext}</b><br><br>Country_name=Israel<br>Month=6<br>AQI=%{x}<br>AQI_20=%{y}<br>size=%{marker.size}<extra></extra>",
           "hovertext": [
            "Jerusalem"
           ],
           "ids": [
            "Israel"
           ],
           "legendgroup": "Israel",
           "marker": {
            "color": "#FFA15A",
            "size": [
             1
            ],
            "sizemode": "area",
            "sizeref": 0.00033057851239669424,
            "symbol": "circle"
           },
           "mode": "markers",
           "name": "Israel",
           "orientation": "v",
           "showlegend": true,
           "type": "scatter",
           "x": [
            43.06666666666667
           ],
           "xaxis": "x",
           "y": [
            50.46875
           ],
           "yaxis": "y"
          },
          {
           "hovertemplate": "<b>%{hovertext}</b><br><br>Country_name=India<br>Month=6<br>AQI=%{x}<br>AQI_20=%{y}<br>size=%{marker.size}<extra></extra>",
           "hovertext": [
            "Delhi"
           ],
           "ids": [
            "India"
           ],
           "legendgroup": "India",
           "marker": {
            "color": "#19d3f3",
            "size": [
             1
            ],
            "sizemode": "area",
            "sizeref": 0.00033057851239669424,
            "symbol": "circle"
           },
           "mode": "markers",
           "name": "India",
           "orientation": "v",
           "showlegend": true,
           "type": "scatter",
           "x": [
            29.006666666666664
           ],
           "xaxis": "x",
           "y": [
            117.40625
           ],
           "yaxis": "y"
          },
          {
           "hovertemplate": "<b>%{hovertext}</b><br><br>Country_name=Australia<br>Month=6<br>AQI=%{x}<br>AQI_20=%{y}<br>size=%{marker.size}<extra></extra>",
           "hovertext": [
            "Melbourne"
           ],
           "ids": [
            "Australia"
           ],
           "legendgroup": "Australia",
           "marker": {
            "color": "#FF6692",
            "size": [
             1
            ],
            "sizemode": "area",
            "sizeref": 0.00033057851239669424,
            "symbol": "circle"
           },
           "mode": "markers",
           "name": "Australia",
           "orientation": "v",
           "showlegend": true,
           "type": "scatter",
           "x": [
            33.63333333333333
           ],
           "xaxis": "x",
           "y": [
            31.8125
           ],
           "yaxis": "y"
          },
          {
           "hovertemplate": "<b>%{hovertext}</b><br><br>Country_name=Thailand<br>Month=6<br>AQI=%{x}<br>AQI_20=%{y}<br>size=%{marker.size}<extra></extra>",
           "hovertext": [
            "Bangkok"
           ],
           "ids": [
            "Thailand"
           ],
           "legendgroup": "Thailand",
           "marker": {
            "color": "#B6E880",
            "size": [
             1
            ],
            "sizemode": "area",
            "sizeref": 0.00033057851239669424,
            "symbol": "circle"
           },
           "mode": "markers",
           "name": "Thailand",
           "orientation": "v",
           "showlegend": true,
           "type": "scatter",
           "x": [
            42.86666666666667
           ],
           "xaxis": "x",
           "y": [
            44.9375
           ],
           "yaxis": "y"
          },
          {
           "hovertemplate": "<b>%{hovertext}</b><br><br>Country_name=Argentina<br>Month=6<br>AQI=%{x}<br>AQI_20=%{y}<br>size=%{marker.size}<extra></extra>",
           "hovertext": [
            "Buenos Aires"
           ],
           "ids": [
            "Argentina"
           ],
           "legendgroup": "Argentina",
           "marker": {
            "color": "#FF97FF",
            "size": [
             1
            ],
            "sizemode": "area",
            "sizeref": 0.00033057851239669424,
            "symbol": "circle"
           },
           "mode": "markers",
           "name": "Argentina",
           "orientation": "v",
           "showlegend": true,
           "type": "scatter",
           "x": [
            28.166666666666668
           ],
           "xaxis": "x",
           "y": [
            35.1875
           ],
           "yaxis": "y"
          },
          {
           "hovertemplate": "<b>%{hovertext}</b><br><br>Country_name=Spain<br>Month=6<br>AQI=%{x}<br>AQI_20=%{y}<br>size=%{marker.size}<extra></extra>",
           "hovertext": [
            "Barcelona",
            "Madrid"
           ],
           "ids": [
            "Spain",
            "Spain"
           ],
           "legendgroup": "Spain",
           "marker": {
            "color": "#FECB52",
            "size": [
             1,
             1
            ],
            "sizemode": "area",
            "sizeref": 0.00033057851239669424,
            "symbol": "circle"
           },
           "mode": "markers",
           "name": "Spain",
           "orientation": "v",
           "showlegend": true,
           "type": "scatter",
           "x": [
            38.1,
            64.9
           ],
           "xaxis": "x",
           "y": [
            24.228125000000006,
            36.9375
           ],
           "yaxis": "y"
          },
          {
           "hovertemplate": "<b>%{hovertext}</b><br><br>Country_name=Switzerland<br>Month=6<br>AQI=%{x}<br>AQI_20=%{y}<br>size=%{marker.size}<extra></extra>",
           "hovertext": [
            "Zürich"
           ],
           "ids": [
            "Switzerland"
           ],
           "legendgroup": "Switzerland",
           "marker": {
            "color": "#636efa",
            "size": [
             1
            ],
            "sizemode": "area",
            "sizeref": 0.00033057851239669424,
            "symbol": "circle"
           },
           "mode": "markers",
           "name": "Switzerland",
           "orientation": "v",
           "showlegend": true,
           "type": "scatter",
           "x": [
            51.06666666666667
           ],
           "xaxis": "x",
           "y": [
            25.4
           ],
           "yaxis": "y"
          },
          {
           "hovertemplate": "<b>%{hovertext}</b><br><br>Country_name=Chile<br>Month=6<br>AQI=%{x}<br>AQI_20=%{y}<br>size=%{marker.size}<extra></extra>",
           "hovertext": [
            "Los Ángeles"
           ],
           "ids": [
            "Chile"
           ],
           "legendgroup": "Chile",
           "marker": {
            "color": "#EF553B",
            "size": [
             1
            ],
            "sizemode": "area",
            "sizeref": 0.00033057851239669424,
            "symbol": "circle"
           },
           "mode": "markers",
           "name": "Chile",
           "orientation": "v",
           "showlegend": true,
           "type": "scatter",
           "x": [
            29.586666666666666
           ],
           "xaxis": "x",
           "y": [
            44.28125
           ],
           "yaxis": "y"
          },
          {
           "hovertemplate": "<b>%{hovertext}</b><br><br>Country_name=Germany<br>Month=6<br>AQI=%{x}<br>AQI_20=%{y}<br>size=%{marker.size}<extra></extra>",
           "hovertext": [
            "Berlin"
           ],
           "ids": [
            "Germany"
           ],
           "legendgroup": "Germany",
           "marker": {
            "color": "#00cc96",
            "size": [
             1
            ],
            "sizemode": "area",
            "sizeref": 0.00033057851239669424,
            "symbol": "circle"
           },
           "mode": "markers",
           "name": "Germany",
           "orientation": "v",
           "showlegend": true,
           "type": "scatter",
           "x": [
            37.96666666666667
           ],
           "xaxis": "x",
           "y": [
            30.5625
           ],
           "yaxis": "y"
          }
         ],
         "name": "6"
        },
        {
         "data": [
          {
           "hovertemplate": "<b>%{hovertext}</b><br><br>Country_name=Netherlands<br>Month=7<br>AQI=%{x}<br>AQI_20=%{y}<br>size=%{marker.size}<extra></extra>",
           "hovertext": [
            "Rotterdam"
           ],
           "ids": [
            "Netherlands"
           ],
           "legendgroup": "Netherlands",
           "marker": {
            "color": "#636efa",
            "size": [
             1
            ],
            "sizemode": "area",
            "sizeref": 0.00033057851239669424,
            "symbol": "circle"
           },
           "mode": "markers",
           "name": "Netherlands",
           "orientation": "v",
           "showlegend": true,
           "type": "scatter",
           "x": [
            46.67741935483871
           ],
           "xaxis": "x",
           "y": [
            21.944444444444443
           ],
           "yaxis": "y"
          },
          {
           "hovertemplate": "<b>%{hovertext}</b><br><br>Country_name=United States<br>Month=7<br>AQI=%{x}<br>AQI_20=%{y}<br>size=%{marker.size}<extra></extra>",
           "hovertext": [
            "San Francisco"
           ],
           "ids": [
            "United States"
           ],
           "legendgroup": "United States",
           "marker": {
            "color": "#EF553B",
            "size": [
             1
            ],
            "sizemode": "area",
            "sizeref": 0.00033057851239669424,
            "symbol": "circle"
           },
           "mode": "markers",
           "name": "United States",
           "orientation": "v",
           "showlegend": true,
           "type": "scatter",
           "x": [
            32.74193548387097
           ],
           "xaxis": "x",
           "y": [
            30.86111111111111
           ],
           "yaxis": "y"
          },
          {
           "hovertemplate": "<b>%{hovertext}</b><br><br>Country_name=France<br>Month=7<br>AQI=%{x}<br>AQI_20=%{y}<br>size=%{marker.size}<extra></extra>",
           "hovertext": [
            "Paris"
           ],
           "ids": [
            "France"
           ],
           "legendgroup": "France",
           "marker": {
            "color": "#00cc96",
            "size": [
             1
            ],
            "sizemode": "area",
            "sizeref": 0.00033057851239669424,
            "symbol": "circle"
           },
           "mode": "markers",
           "name": "France",
           "orientation": "v",
           "showlegend": true,
           "type": "scatter",
           "x": [
            54
           ],
           "xaxis": "x",
           "y": [
            35.361111111111114
           ],
           "yaxis": "y"
          },
          {
           "hovertemplate": "<b>%{hovertext}</b><br><br>Country_name=Japan<br>Month=7<br>AQI=%{x}<br>AQI_20=%{y}<br>size=%{marker.size}<extra></extra>",
           "hovertext": [
            "Tokyo"
           ],
           "ids": [
            "Japan"
           ],
           "legendgroup": "Japan",
           "marker": {
            "color": "#ab63fa",
            "size": [
             1
            ],
            "sizemode": "area",
            "sizeref": 0.00033057851239669424,
            "symbol": "circle"
           },
           "mode": "markers",
           "name": "Japan",
           "orientation": "v",
           "showlegend": true,
           "type": "scatter",
           "x": [
            34.83870967741935
           ],
           "xaxis": "x",
           "y": [
            30.61111111111111
           ],
           "yaxis": "y"
          },
          {
           "hovertemplate": "<b>%{hovertext}</b><br><br>Country_name=Israel<br>Month=7<br>AQI=%{x}<br>AQI_20=%{y}<br>size=%{marker.size}<extra></extra>",
           "hovertext": [
            "Jerusalem"
           ],
           "ids": [
            "Israel"
           ],
           "legendgroup": "Israel",
           "marker": {
            "color": "#FFA15A",
            "size": [
             1
            ],
            "sizemode": "area",
            "sizeref": 0.00033057851239669424,
            "symbol": "circle"
           },
           "mode": "markers",
           "name": "Israel",
           "orientation": "v",
           "showlegend": true,
           "type": "scatter",
           "x": [
            30.961290322580652
           ],
           "xaxis": "x",
           "y": [
            55.97222222222222
           ],
           "yaxis": "y"
          },
          {
           "hovertemplate": "<b>%{hovertext}</b><br><br>Country_name=India<br>Month=7<br>AQI=%{x}<br>AQI_20=%{y}<br>size=%{marker.size}<extra></extra>",
           "hovertext": [
            "Delhi"
           ],
           "ids": [
            "India"
           ],
           "legendgroup": "India",
           "marker": {
            "color": "#19d3f3",
            "size": [
             1
            ],
            "sizemode": "area",
            "sizeref": 0.00033057851239669424,
            "symbol": "circle"
           },
           "mode": "markers",
           "name": "India",
           "orientation": "v",
           "showlegend": true,
           "type": "scatter",
           "x": [
            31.29032258064516
           ],
           "xaxis": "x",
           "y": [
            96.80555555555556
           ],
           "yaxis": "y"
          },
          {
           "hovertemplate": "<b>%{hovertext}</b><br><br>Country_name=Australia<br>Month=7<br>AQI=%{x}<br>AQI_20=%{y}<br>size=%{marker.size}<extra></extra>",
           "hovertext": [
            "Melbourne"
           ],
           "ids": [
            "Australia"
           ],
           "legendgroup": "Australia",
           "marker": {
            "color": "#FF6692",
            "size": [
             1
            ],
            "sizemode": "area",
            "sizeref": 0.00033057851239669424,
            "symbol": "circle"
           },
           "mode": "markers",
           "name": "Australia",
           "orientation": "v",
           "showlegend": true,
           "type": "scatter",
           "x": [
            43.03225806451613
           ],
           "xaxis": "x",
           "y": [
            30.27777777777778
           ],
           "yaxis": "y"
          },
          {
           "hovertemplate": "<b>%{hovertext}</b><br><br>Country_name=Thailand<br>Month=7<br>AQI=%{x}<br>AQI_20=%{y}<br>size=%{marker.size}<extra></extra>",
           "hovertext": [
            "Bangkok"
           ],
           "ids": [
            "Thailand"
           ],
           "legendgroup": "Thailand",
           "marker": {
            "color": "#B6E880",
            "size": [
             1
            ],
            "sizemode": "area",
            "sizeref": 0.00033057851239669424,
            "symbol": "circle"
           },
           "mode": "markers",
           "name": "Thailand",
           "orientation": "v",
           "showlegend": true,
           "type": "scatter",
           "x": [
            40.67741935483871
           ],
           "xaxis": "x",
           "y": [
            48.111111111111114
           ],
           "yaxis": "y"
          },
          {
           "hovertemplate": "<b>%{hovertext}</b><br><br>Country_name=Argentina<br>Month=7<br>AQI=%{x}<br>AQI_20=%{y}<br>size=%{marker.size}<extra></extra>",
           "hovertext": [
            "Buenos Aires"
           ],
           "ids": [
            "Argentina"
           ],
           "legendgroup": "Argentina",
           "marker": {
            "color": "#FF97FF",
            "size": [
             1
            ],
            "sizemode": "area",
            "sizeref": 0.00033057851239669424,
            "symbol": "circle"
           },
           "mode": "markers",
           "name": "Argentina",
           "orientation": "v",
           "showlegend": true,
           "type": "scatter",
           "x": [
            58.54838709677419
           ],
           "xaxis": "x",
           "y": [
            35.25
           ],
           "yaxis": "y"
          },
          {
           "hovertemplate": "<b>%{hovertext}</b><br><br>Country_name=Spain<br>Month=7<br>AQI=%{x}<br>AQI_20=%{y}<br>size=%{marker.size}<extra></extra>",
           "hovertext": [
            "Madrid",
            "Barcelona"
           ],
           "ids": [
            "Spain",
            "Spain"
           ],
           "legendgroup": "Spain",
           "marker": {
            "color": "#FECB52",
            "size": [
             1,
             1
            ],
            "sizemode": "area",
            "sizeref": 0.00033057851239669424,
            "symbol": "circle"
           },
           "mode": "markers",
           "name": "Spain",
           "orientation": "v",
           "showlegend": true,
           "type": "scatter",
           "x": [
            115.64516129032258,
            26.367741935483867
           ],
           "xaxis": "x",
           "y": [
            43.583333333333336,
            25.53055555555555
           ],
           "yaxis": "y"
          },
          {
           "hovertemplate": "<b>%{hovertext}</b><br><br>Country_name=Switzerland<br>Month=7<br>AQI=%{x}<br>AQI_20=%{y}<br>size=%{marker.size}<extra></extra>",
           "hovertext": [
            "Zürich"
           ],
           "ids": [
            "Switzerland"
           ],
           "legendgroup": "Switzerland",
           "marker": {
            "color": "#636efa",
            "size": [
             1
            ],
            "sizemode": "area",
            "sizeref": 0.00033057851239669424,
            "symbol": "circle"
           },
           "mode": "markers",
           "name": "Switzerland",
           "orientation": "v",
           "showlegend": true,
           "type": "scatter",
           "x": [
            47.45161290322581
           ],
           "xaxis": "x",
           "y": [
            25.09722222222222
           ],
           "yaxis": "y"
          },
          {
           "hovertemplate": "<b>%{hovertext}</b><br><br>Country_name=Chile<br>Month=7<br>AQI=%{x}<br>AQI_20=%{y}<br>size=%{marker.size}<extra></extra>",
           "hovertext": [
            "Los Ángeles"
           ],
           "ids": [
            "Chile"
           ],
           "legendgroup": "Chile",
           "marker": {
            "color": "#EF553B",
            "size": [
             1
            ],
            "sizemode": "area",
            "sizeref": 0.00033057851239669424,
            "symbol": "circle"
           },
           "mode": "markers",
           "name": "Chile",
           "orientation": "v",
           "showlegend": true,
           "type": "scatter",
           "x": [
            26.35483870967742
           ],
           "xaxis": "x",
           "y": [
            48.52777777777778
           ],
           "yaxis": "y"
          },
          {
           "hovertemplate": "<b>%{hovertext}</b><br><br>Country_name=Germany<br>Month=7<br>AQI=%{x}<br>AQI_20=%{y}<br>size=%{marker.size}<extra></extra>",
           "hovertext": [
            "Berlin"
           ],
           "ids": [
            "Germany"
           ],
           "legendgroup": "Germany",
           "marker": {
            "color": "#00cc96",
            "size": [
             1
            ],
            "sizemode": "area",
            "sizeref": 0.00033057851239669424,
            "symbol": "circle"
           },
           "mode": "markers",
           "name": "Germany",
           "orientation": "v",
           "showlegend": true,
           "type": "scatter",
           "x": [
            73.90322580645162
           ],
           "xaxis": "x",
           "y": [
            23.494444444444444
           ],
           "yaxis": "y"
          }
         ],
         "name": "7"
        },
        {
         "data": [
          {
           "hovertemplate": "<b>%{hovertext}</b><br><br>Country_name=Netherlands<br>Month=8<br>AQI=%{x}<br>AQI_20=%{y}<br>size=%{marker.size}<extra></extra>",
           "hovertext": [
            "Rotterdam"
           ],
           "ids": [
            "Netherlands"
           ],
           "legendgroup": "Netherlands",
           "marker": {
            "color": "#636efa",
            "size": [
             1
            ],
            "sizemode": "area",
            "sizeref": 0.00033057851239669424,
            "symbol": "circle"
           },
           "mode": "markers",
           "name": "Netherlands",
           "orientation": "v",
           "showlegend": true,
           "type": "scatter",
           "x": [
            47.225806451612904
           ],
           "xaxis": "x",
           "y": [
            36.87096774193548
           ],
           "yaxis": "y"
          },
          {
           "hovertemplate": "<b>%{hovertext}</b><br><br>Country_name=United States<br>Month=8<br>AQI=%{x}<br>AQI_20=%{y}<br>size=%{marker.size}<extra></extra>",
           "hovertext": [
            "San Francisco"
           ],
           "ids": [
            "United States"
           ],
           "legendgroup": "United States",
           "marker": {
            "color": "#EF553B",
            "size": [
             1
            ],
            "sizemode": "area",
            "sizeref": 0.00033057851239669424,
            "symbol": "circle"
           },
           "mode": "markers",
           "name": "United States",
           "orientation": "v",
           "showlegend": true,
           "type": "scatter",
           "x": [
            47.16129032258065
           ],
           "xaxis": "x",
           "y": [
            40.935483870967744
           ],
           "yaxis": "y"
          },
          {
           "hovertemplate": "<b>%{hovertext}</b><br><br>Country_name=France<br>Month=8<br>AQI=%{x}<br>AQI_20=%{y}<br>size=%{marker.size}<extra></extra>",
           "hovertext": [
            "Paris"
           ],
           "ids": [
            "France"
           ],
           "legendgroup": "France",
           "marker": {
            "color": "#00cc96",
            "size": [
             1
            ],
            "sizemode": "area",
            "sizeref": 0.00033057851239669424,
            "symbol": "circle"
           },
           "mode": "markers",
           "name": "France",
           "orientation": "v",
           "showlegend": true,
           "type": "scatter",
           "x": [
            37.61290322580645
           ],
           "xaxis": "x",
           "y": [
            36.67741935483871
           ],
           "yaxis": "y"
          },
          {
           "hovertemplate": "<b>%{hovertext}</b><br><br>Country_name=Japan<br>Month=8<br>AQI=%{x}<br>AQI_20=%{y}<br>size=%{marker.size}<extra></extra>",
           "hovertext": [
            "Tokyo"
           ],
           "ids": [
            "Japan"
           ],
           "legendgroup": "Japan",
           "marker": {
            "color": "#ab63fa",
            "size": [
             1
            ],
            "sizemode": "area",
            "sizeref": 0.00033057851239669424,
            "symbol": "circle"
           },
           "mode": "markers",
           "name": "Japan",
           "orientation": "v",
           "showlegend": true,
           "type": "scatter",
           "x": [
            61.774193548387096
           ],
           "xaxis": "x",
           "y": [
            45.25806451612903
           ],
           "yaxis": "y"
          },
          {
           "hovertemplate": "<b>%{hovertext}</b><br><br>Country_name=Israel<br>Month=8<br>AQI=%{x}<br>AQI_20=%{y}<br>size=%{marker.size}<extra></extra>",
           "hovertext": [
            "Jerusalem"
           ],
           "ids": [
            "Israel"
           ],
           "legendgroup": "Israel",
           "marker": {
            "color": "#FFA15A",
            "size": [
             1
            ],
            "sizemode": "area",
            "sizeref": 0.00033057851239669424,
            "symbol": "circle"
           },
           "mode": "markers",
           "name": "Israel",
           "orientation": "v",
           "showlegend": true,
           "type": "scatter",
           "x": [
            86.45161290322581
           ],
           "xaxis": "x",
           "y": [
            56.67741935483871
           ],
           "yaxis": "y"
          },
          {
           "hovertemplate": "<b>%{hovertext}</b><br><br>Country_name=India<br>Month=8<br>AQI=%{x}<br>AQI_20=%{y}<br>size=%{marker.size}<extra></extra>",
           "hovertext": [
            "Delhi"
           ],
           "ids": [
            "India"
           ],
           "legendgroup": "India",
           "marker": {
            "color": "#19d3f3",
            "size": [
             1
            ],
            "sizemode": "area",
            "sizeref": 0.00033057851239669424,
            "symbol": "circle"
           },
           "mode": "markers",
           "name": "India",
           "orientation": "v",
           "showlegend": true,
           "type": "scatter",
           "x": [
            22.741935483870968
           ],
           "xaxis": "x",
           "y": [
            73.25806451612904
           ],
           "yaxis": "y"
          },
          {
           "hovertemplate": "<b>%{hovertext}</b><br><br>Country_name=Australia<br>Month=8<br>AQI=%{x}<br>AQI_20=%{y}<br>size=%{marker.size}<extra></extra>",
           "hovertext": [
            "Melbourne"
           ],
           "ids": [
            "Australia"
           ],
           "legendgroup": "Australia",
           "marker": {
            "color": "#FF6692",
            "size": [
             1
            ],
            "sizemode": "area",
            "sizeref": 0.00033057851239669424,
            "symbol": "circle"
           },
           "mode": "markers",
           "name": "Australia",
           "orientation": "v",
           "showlegend": true,
           "type": "scatter",
           "x": [
            38.645161290322584
           ],
           "xaxis": "x",
           "y": [
            21.677419354838708
           ],
           "yaxis": "y"
          },
          {
           "hovertemplate": "<b>%{hovertext}</b><br><br>Country_name=Thailand<br>Month=8<br>AQI=%{x}<br>AQI_20=%{y}<br>size=%{marker.size}<extra></extra>",
           "hovertext": [
            "Bangkok"
           ],
           "ids": [
            "Thailand"
           ],
           "legendgroup": "Thailand",
           "marker": {
            "color": "#B6E880",
            "size": [
             1
            ],
            "sizemode": "area",
            "sizeref": 0.00033057851239669424,
            "symbol": "circle"
           },
           "mode": "markers",
           "name": "Thailand",
           "orientation": "v",
           "showlegend": true,
           "type": "scatter",
           "x": [
            52.96774193548387
           ],
           "xaxis": "x",
           "y": [
            50.225806451612904
           ],
           "yaxis": "y"
          },
          {
           "hovertemplate": "<b>%{hovertext}</b><br><br>Country_name=Argentina<br>Month=8<br>AQI=%{x}<br>AQI_20=%{y}<br>size=%{marker.size}<extra></extra>",
           "hovertext": [
            "Buenos Aires"
           ],
           "ids": [
            "Argentina"
           ],
           "legendgroup": "Argentina",
           "marker": {
            "color": "#FF97FF",
            "size": [
             1
            ],
            "sizemode": "area",
            "sizeref": 0.00033057851239669424,
            "symbol": "circle"
           },
           "mode": "markers",
           "name": "Argentina",
           "orientation": "v",
           "showlegend": true,
           "type": "scatter",
           "x": [
            40
           ],
           "xaxis": "x",
           "y": [
            50.58064516129032
           ],
           "yaxis": "y"
          },
          {
           "hovertemplate": "<b>%{hovertext}</b><br><br>Country_name=Spain<br>Month=8<br>AQI=%{x}<br>AQI_20=%{y}<br>size=%{marker.size}<extra></extra>",
           "hovertext": [
            "Madrid",
            "Barcelona"
           ],
           "ids": [
            "Spain",
            "Spain"
           ],
           "legendgroup": "Spain",
           "marker": {
            "color": "#FECB52",
            "size": [
             1,
             1
            ],
            "sizemode": "area",
            "sizeref": 0.00033057851239669424,
            "symbol": "circle"
           },
           "mode": "markers",
           "name": "Spain",
           "orientation": "v",
           "showlegend": true,
           "type": "scatter",
           "x": [
            90.45161290322581,
            28.64516129032258
           ],
           "xaxis": "x",
           "y": [
            37.61290322580645,
            24.667741935483868
           ],
           "yaxis": "y"
          },
          {
           "hovertemplate": "<b>%{hovertext}</b><br><br>Country_name=Switzerland<br>Month=8<br>AQI=%{x}<br>AQI_20=%{y}<br>size=%{marker.size}<extra></extra>",
           "hovertext": [
            "Zürich"
           ],
           "ids": [
            "Switzerland"
           ],
           "legendgroup": "Switzerland",
           "marker": {
            "color": "#636efa",
            "size": [
             1
            ],
            "sizemode": "area",
            "sizeref": 0.00033057851239669424,
            "symbol": "circle"
           },
           "mode": "markers",
           "name": "Switzerland",
           "orientation": "v",
           "showlegend": true,
           "type": "scatter",
           "x": [
            37.935483870967744
           ],
           "xaxis": "x",
           "y": [
            24.548387096774192
           ],
           "yaxis": "y"
          },
          {
           "hovertemplate": "<b>%{hovertext}</b><br><br>Country_name=Chile<br>Month=8<br>AQI=%{x}<br>AQI_20=%{y}<br>size=%{marker.size}<extra></extra>",
           "hovertext": [
            "Los Ángeles"
           ],
           "ids": [
            "Chile"
           ],
           "legendgroup": "Chile",
           "marker": {
            "color": "#EF553B",
            "size": [
             1
            ],
            "sizemode": "area",
            "sizeref": 0.00033057851239669424,
            "symbol": "circle"
           },
           "mode": "markers",
           "name": "Chile",
           "orientation": "v",
           "showlegend": true,
           "type": "scatter",
           "x": [
            21.254838709677415
           ],
           "xaxis": "x",
           "y": [
            42.516129032258064
           ],
           "yaxis": "y"
          },
          {
           "hovertemplate": "<b>%{hovertext}</b><br><br>Country_name=Germany<br>Month=8<br>AQI=%{x}<br>AQI_20=%{y}<br>size=%{marker.size}<extra></extra>",
           "hovertext": [
            "Berlin"
           ],
           "ids": [
            "Germany"
           ],
           "legendgroup": "Germany",
           "marker": {
            "color": "#00cc96",
            "size": [
             1
            ],
            "sizemode": "area",
            "sizeref": 0.00033057851239669424,
            "symbol": "circle"
           },
           "mode": "markers",
           "name": "Germany",
           "orientation": "v",
           "showlegend": true,
           "type": "scatter",
           "x": [
            27.064516129032253
           ],
           "xaxis": "x",
           "y": [
            33.806451612903224
           ],
           "yaxis": "y"
          }
         ],
         "name": "8"
        },
        {
         "data": [
          {
           "hovertemplate": "<b>%{hovertext}</b><br><br>Country_name=Netherlands<br>Month=9<br>AQI=%{x}<br>AQI_20=%{y}<br>size=%{marker.size}<extra></extra>",
           "hovertext": [
            "Rotterdam"
           ],
           "ids": [
            "Netherlands"
           ],
           "legendgroup": "Netherlands",
           "marker": {
            "color": "#636efa",
            "size": [
             1
            ],
            "sizemode": "area",
            "sizeref": 0.00033057851239669424,
            "symbol": "circle"
           },
           "mode": "markers",
           "name": "Netherlands",
           "orientation": "v",
           "showlegend": true,
           "type": "scatter",
           "x": [
            39.29032258064516
           ],
           "xaxis": "x",
           "y": [
            36.78787878787879
           ],
           "yaxis": "y"
          },
          {
           "hovertemplate": "<b>%{hovertext}</b><br><br>Country_name=United States<br>Month=9<br>AQI=%{x}<br>AQI_20=%{y}<br>size=%{marker.size}<extra></extra>",
           "hovertext": [
            "San Francisco"
           ],
           "ids": [
            "United States"
           ],
           "legendgroup": "United States",
           "marker": {
            "color": "#EF553B",
            "size": [
             1
            ],
            "sizemode": "area",
            "sizeref": 0.00033057851239669424,
            "symbol": "circle"
           },
           "mode": "markers",
           "name": "United States",
           "orientation": "v",
           "showlegend": true,
           "type": "scatter",
           "x": [
            60.03225806451613
           ],
           "xaxis": "x",
           "y": [
            65
           ],
           "yaxis": "y"
          },
          {
           "hovertemplate": "<b>%{hovertext}</b><br><br>Country_name=France<br>Month=9<br>AQI=%{x}<br>AQI_20=%{y}<br>size=%{marker.size}<extra></extra>",
           "hovertext": [
            "Paris"
           ],
           "ids": [
            "France"
           ],
           "legendgroup": "France",
           "marker": {
            "color": "#00cc96",
            "size": [
             1
            ],
            "sizemode": "area",
            "sizeref": 0.00033057851239669424,
            "symbol": "circle"
           },
           "mode": "markers",
           "name": "France",
           "orientation": "v",
           "showlegend": true,
           "type": "scatter",
           "x": [
            43.903225806451616
           ],
           "xaxis": "x",
           "y": [
            43.06060606060606
           ],
           "yaxis": "y"
          },
          {
           "hovertemplate": "<b>%{hovertext}</b><br><br>Country_name=Japan<br>Month=9<br>AQI=%{x}<br>AQI_20=%{y}<br>size=%{marker.size}<extra></extra>",
           "hovertext": [
            "Tokyo"
           ],
           "ids": [
            "Japan"
           ],
           "legendgroup": "Japan",
           "marker": {
            "color": "#ab63fa",
            "size": [
             1
            ],
            "sizemode": "area",
            "sizeref": 0.00033057851239669424,
            "symbol": "circle"
           },
           "mode": "markers",
           "name": "Japan",
           "orientation": "v",
           "showlegend": true,
           "type": "scatter",
           "x": [
            71.93548387096774
           ],
           "xaxis": "x",
           "y": [
            25.814814814814813
           ],
           "yaxis": "y"
          },
          {
           "hovertemplate": "<b>%{hovertext}</b><br><br>Country_name=Israel<br>Month=9<br>AQI=%{x}<br>AQI_20=%{y}<br>size=%{marker.size}<extra></extra>",
           "hovertext": [
            "Jerusalem"
           ],
           "ids": [
            "Israel"
           ],
           "legendgroup": "Israel",
           "marker": {
            "color": "#FFA15A",
            "size": [
             1
            ],
            "sizemode": "area",
            "sizeref": 0.00033057851239669424,
            "symbol": "circle"
           },
           "mode": "markers",
           "name": "Israel",
           "orientation": "v",
           "showlegend": true,
           "type": "scatter",
           "x": [
            23.06129032258065
           ],
           "xaxis": "x",
           "y": [
            66.21212121212122
           ],
           "yaxis": "y"
          },
          {
           "hovertemplate": "<b>%{hovertext}</b><br><br>Country_name=India<br>Month=9<br>AQI=%{x}<br>AQI_20=%{y}<br>size=%{marker.size}<extra></extra>",
           "hovertext": [
            "Delhi"
           ],
           "ids": [
            "India"
           ],
           "legendgroup": "India",
           "marker": {
            "color": "#19d3f3",
            "size": [
             1
            ],
            "sizemode": "area",
            "sizeref": 0.00033057851239669424,
            "symbol": "circle"
           },
           "mode": "markers",
           "name": "India",
           "orientation": "v",
           "showlegend": true,
           "type": "scatter",
           "x": [
            37.67741935483871
           ],
           "xaxis": "x",
           "y": [
            126.84848484848484
           ],
           "yaxis": "y"
          },
          {
           "hovertemplate": "<b>%{hovertext}</b><br><br>Country_name=Australia<br>Month=9<br>AQI=%{x}<br>AQI_20=%{y}<br>size=%{marker.size}<extra></extra>",
           "hovertext": [
            "Melbourne"
           ],
           "ids": [
            "Australia"
           ],
           "legendgroup": "Australia",
           "marker": {
            "color": "#FF6692",
            "size": [
             1
            ],
            "sizemode": "area",
            "sizeref": 0.00033057851239669424,
            "symbol": "circle"
           },
           "mode": "markers",
           "name": "Australia",
           "orientation": "v",
           "showlegend": true,
           "type": "scatter",
           "x": [
            32.87096774193548
           ],
           "xaxis": "x",
           "y": [
            22.939393939393938
           ],
           "yaxis": "y"
          },
          {
           "hovertemplate": "<b>%{hovertext}</b><br><br>Country_name=Thailand<br>Month=9<br>AQI=%{x}<br>AQI_20=%{y}<br>size=%{marker.size}<extra></extra>",
           "hovertext": [
            "Bangkok"
           ],
           "ids": [
            "Thailand"
           ],
           "legendgroup": "Thailand",
           "marker": {
            "color": "#B6E880",
            "size": [
             1
            ],
            "sizemode": "area",
            "sizeref": 0.00033057851239669424,
            "symbol": "circle"
           },
           "mode": "markers",
           "name": "Thailand",
           "orientation": "v",
           "showlegend": true,
           "type": "scatter",
           "x": [
            50.16129032258065
           ],
           "xaxis": "x",
           "y": [
            48.36363636363637
           ],
           "yaxis": "y"
          },
          {
           "hovertemplate": "<b>%{hovertext}</b><br><br>Country_name=Argentina<br>Month=9<br>AQI=%{x}<br>AQI_20=%{y}<br>size=%{marker.size}<extra></extra>",
           "hovertext": [
            "Buenos Aires"
           ],
           "ids": [
            "Argentina"
           ],
           "legendgroup": "Argentina",
           "marker": {
            "color": "#FF97FF",
            "size": [
             1
            ],
            "sizemode": "area",
            "sizeref": 0.00033057851239669424,
            "symbol": "circle"
           },
           "mode": "markers",
           "name": "Argentina",
           "orientation": "v",
           "showlegend": true,
           "type": "scatter",
           "x": [
            99.93548387096774
           ],
           "xaxis": "x",
           "y": [
            35.827586206896555
           ],
           "yaxis": "y"
          },
          {
           "hovertemplate": "<b>%{hovertext}</b><br><br>Country_name=Spain<br>Month=9<br>AQI=%{x}<br>AQI_20=%{y}<br>size=%{marker.size}<extra></extra>",
           "hovertext": [
            "Barcelona",
            "Madrid"
           ],
           "ids": [
            "Spain",
            "Spain"
           ],
           "legendgroup": "Spain",
           "marker": {
            "color": "#FECB52",
            "size": [
             1,
             1
            ],
            "sizemode": "area",
            "sizeref": 0.00033057851239669424,
            "symbol": "circle"
           },
           "mode": "markers",
           "name": "Spain",
           "orientation": "v",
           "showlegend": true,
           "type": "scatter",
           "x": [
            28.580645161290324,
            23.419354838709676
           ],
           "xaxis": "x",
           "y": [
            22.57575757575757,
            35.90909090909091
           ],
           "yaxis": "y"
          },
          {
           "hovertemplate": "<b>%{hovertext}</b><br><br>Country_name=Switzerland<br>Month=9<br>AQI=%{x}<br>AQI_20=%{y}<br>size=%{marker.size}<extra></extra>",
           "hovertext": [
            "Zürich"
           ],
           "ids": [
            "Switzerland"
           ],
           "legendgroup": "Switzerland",
           "marker": {
            "color": "#636efa",
            "size": [
             1
            ],
            "sizemode": "area",
            "sizeref": 0.00033057851239669424,
            "symbol": "circle"
           },
           "mode": "markers",
           "name": "Switzerland",
           "orientation": "v",
           "showlegend": true,
           "type": "scatter",
           "x": [
            24.612903225806452
           ],
           "xaxis": "x",
           "y": [
            18.130303030303033
           ],
           "yaxis": "y"
          },
          {
           "hovertemplate": "<b>%{hovertext}</b><br><br>Country_name=Chile<br>Month=9<br>AQI=%{x}<br>AQI_20=%{y}<br>size=%{marker.size}<extra></extra>",
           "hovertext": [
            "Los Ángeles"
           ],
           "ids": [
            "Chile"
           ],
           "legendgroup": "Chile",
           "marker": {
            "color": "#EF553B",
            "size": [
             1
            ],
            "sizemode": "area",
            "sizeref": 0.00033057851239669424,
            "symbol": "circle"
           },
           "mode": "markers",
           "name": "Chile",
           "orientation": "v",
           "showlegend": true,
           "type": "scatter",
           "x": [
            33.193548387096776
           ],
           "xaxis": "x",
           "y": [
            57.06060606060606
           ],
           "yaxis": "y"
          },
          {
           "hovertemplate": "<b>%{hovertext}</b><br><br>Country_name=Germany<br>Month=9<br>AQI=%{x}<br>AQI_20=%{y}<br>size=%{marker.size}<extra></extra>",
           "hovertext": [
            "Berlin"
           ],
           "ids": [
            "Germany"
           ],
           "legendgroup": "Germany",
           "marker": {
            "color": "#00cc96",
            "size": [
             1
            ],
            "sizemode": "area",
            "sizeref": 0.00033057851239669424,
            "symbol": "circle"
           },
           "mode": "markers",
           "name": "Germany",
           "orientation": "v",
           "showlegend": true,
           "type": "scatter",
           "x": [
            16.806451612903224
           ],
           "xaxis": "x",
           "y": [
            33.84848484848485
           ],
           "yaxis": "y"
          }
         ],
         "name": "9"
        },
        {
         "data": [
          {
           "hovertemplate": "<b>%{hovertext}</b><br><br>Country_name=Netherlands<br>Month=10<br>AQI=%{x}<br>AQI_20=%{y}<br>size=%{marker.size}<extra></extra>",
           "hovertext": [
            "Rotterdam"
           ],
           "ids": [
            "Netherlands"
           ],
           "legendgroup": "Netherlands",
           "marker": {
            "color": "#636efa",
            "size": [
             1
            ],
            "sizemode": "area",
            "sizeref": 0.00033057851239669424,
            "symbol": "circle"
           },
           "mode": "markers",
           "name": "Netherlands",
           "orientation": "v",
           "showlegend": true,
           "type": "scatter",
           "x": [
            35.75675675675676
           ],
           "xaxis": "x",
           "y": [
            27.885714285714286
           ],
           "yaxis": "y"
          },
          {
           "hovertemplate": "<b>%{hovertext}</b><br><br>Country_name=United States<br>Month=10<br>AQI=%{x}<br>AQI_20=%{y}<br>size=%{marker.size}<extra></extra>",
           "hovertext": [
            "San Francisco"
           ],
           "ids": [
            "United States"
           ],
           "legendgroup": "United States",
           "marker": {
            "color": "#EF553B",
            "size": [
             1
            ],
            "sizemode": "area",
            "sizeref": 0.00033057851239669424,
            "symbol": "circle"
           },
           "mode": "markers",
           "name": "United States",
           "orientation": "v",
           "showlegend": true,
           "type": "scatter",
           "x": [
            37.567567567567565
           ],
           "xaxis": "x",
           "y": [
            50.17142857142857
           ],
           "yaxis": "y"
          },
          {
           "hovertemplate": "<b>%{hovertext}</b><br><br>Country_name=France<br>Month=10<br>AQI=%{x}<br>AQI_20=%{y}<br>size=%{marker.size}<extra></extra>",
           "hovertext": [
            "Paris"
           ],
           "ids": [
            "France"
           ],
           "legendgroup": "France",
           "marker": {
            "color": "#00cc96",
            "size": [
             1
            ],
            "sizemode": "area",
            "sizeref": 0.00033057851239669424,
            "symbol": "circle"
           },
           "mode": "markers",
           "name": "France",
           "orientation": "v",
           "showlegend": true,
           "type": "scatter",
           "x": [
            26.027027027027028
           ],
           "xaxis": "x",
           "y": [
            33.68571428571428
           ],
           "yaxis": "y"
          },
          {
           "hovertemplate": "<b>%{hovertext}</b><br><br>Country_name=Japan<br>Month=10<br>AQI=%{x}<br>AQI_20=%{y}<br>size=%{marker.size}<extra></extra>",
           "hovertext": [
            "Tokyo"
           ],
           "ids": [
            "Japan"
           ],
           "legendgroup": "Japan",
           "marker": {
            "color": "#ab63fa",
            "size": [
             1
            ],
            "sizemode": "area",
            "sizeref": 0.00033057851239669424,
            "symbol": "circle"
           },
           "mode": "markers",
           "name": "Japan",
           "orientation": "v",
           "showlegend": true,
           "type": "scatter",
           "x": [
            32.67567567567568
           ],
           "xaxis": "x",
           "y": [
            34.94285714285714
           ],
           "yaxis": "y"
          },
          {
           "hovertemplate": "<b>%{hovertext}</b><br><br>Country_name=Israel<br>Month=10<br>AQI=%{x}<br>AQI_20=%{y}<br>size=%{marker.size}<extra></extra>",
           "hovertext": [
            "Jerusalem"
           ],
           "ids": [
            "Israel"
           ],
           "legendgroup": "Israel",
           "marker": {
            "color": "#FFA15A",
            "size": [
             1
            ],
            "sizemode": "area",
            "sizeref": 0.00033057851239669424,
            "symbol": "circle"
           },
           "mode": "markers",
           "name": "Israel",
           "orientation": "v",
           "showlegend": true,
           "type": "scatter",
           "x": [
            39.45945945945946
           ],
           "xaxis": "x",
           "y": [
            52.2
           ],
           "yaxis": "y"
          },
          {
           "hovertemplate": "<b>%{hovertext}</b><br><br>Country_name=India<br>Month=10<br>AQI=%{x}<br>AQI_20=%{y}<br>size=%{marker.size}<extra></extra>",
           "hovertext": [
            "Delhi"
           ],
           "ids": [
            "India"
           ],
           "legendgroup": "India",
           "marker": {
            "color": "#19d3f3",
            "size": [
             1
            ],
            "sizemode": "area",
            "sizeref": 0.00033057851239669424,
            "symbol": "circle"
           },
           "mode": "markers",
           "name": "India",
           "orientation": "v",
           "showlegend": true,
           "type": "scatter",
           "x": [
            76.5945945945946
           ],
           "xaxis": "x",
           "y": [
            192.4857142857143
           ],
           "yaxis": "y"
          },
          {
           "hovertemplate": "<b>%{hovertext}</b><br><br>Country_name=Australia<br>Month=10<br>AQI=%{x}<br>AQI_20=%{y}<br>size=%{marker.size}<extra></extra>",
           "hovertext": [
            "Melbourne"
           ],
           "ids": [
            "Australia"
           ],
           "legendgroup": "Australia",
           "marker": {
            "color": "#FF6692",
            "size": [
             1
            ],
            "sizemode": "area",
            "sizeref": 0.00033057851239669424,
            "symbol": "circle"
           },
           "mode": "markers",
           "name": "Australia",
           "orientation": "v",
           "showlegend": true,
           "type": "scatter",
           "x": [
            39.513513513513516
           ],
           "xaxis": "x",
           "y": [
            24.085714285714285
           ],
           "yaxis": "y"
          },
          {
           "hovertemplate": "<b>%{hovertext}</b><br><br>Country_name=Thailand<br>Month=10<br>AQI=%{x}<br>AQI_20=%{y}<br>size=%{marker.size}<extra></extra>",
           "hovertext": [
            "Bangkok"
           ],
           "ids": [
            "Thailand"
           ],
           "legendgroup": "Thailand",
           "marker": {
            "color": "#B6E880",
            "size": [
             1
            ],
            "sizemode": "area",
            "sizeref": 0.00033057851239669424,
            "symbol": "circle"
           },
           "mode": "markers",
           "name": "Thailand",
           "orientation": "v",
           "showlegend": true,
           "type": "scatter",
           "x": [
            22.243243243243242
           ],
           "xaxis": "x",
           "y": [
            60.42857142857143
           ],
           "yaxis": "y"
          },
          {
           "hovertemplate": "<b>%{hovertext}</b><br><br>Country_name=Argentina<br>Month=10<br>AQI=%{x}<br>AQI_20=%{y}<br>size=%{marker.size}<extra></extra>",
           "hovertext": [
            "Buenos Aires"
           ],
           "ids": [
            "Argentina"
           ],
           "legendgroup": "Argentina",
           "marker": {
            "color": "#FF97FF",
            "size": [
             1
            ],
            "sizemode": "area",
            "sizeref": 0.00033057851239669424,
            "symbol": "circle"
           },
           "mode": "markers",
           "name": "Argentina",
           "orientation": "v",
           "showlegend": true,
           "type": "scatter",
           "x": [
            10.489189189189192
           ],
           "xaxis": "x",
           "y": [
            34.5
           ],
           "yaxis": "y"
          },
          {
           "hovertemplate": "<b>%{hovertext}</b><br><br>Country_name=Spain<br>Month=10<br>AQI=%{x}<br>AQI_20=%{y}<br>size=%{marker.size}<extra></extra>",
           "hovertext": [
            "Barcelona",
            "Madrid"
           ],
           "ids": [
            "Spain",
            "Spain"
           ],
           "legendgroup": "Spain",
           "marker": {
            "color": "#FECB52",
            "size": [
             1,
             1
            ],
            "sizemode": "area",
            "sizeref": 0.00033057851239669424,
            "symbol": "circle"
           },
           "mode": "markers",
           "name": "Spain",
           "orientation": "v",
           "showlegend": true,
           "type": "scatter",
           "x": [
            29.35135135135135,
            59.15625
           ],
           "xaxis": "x",
           "y": [
            21.17142857142857,
            32.02857142857143
           ],
           "yaxis": "y"
          },
          {
           "hovertemplate": "<b>%{hovertext}</b><br><br>Country_name=Switzerland<br>Month=10<br>AQI=%{x}<br>AQI_20=%{y}<br>size=%{marker.size}<extra></extra>",
           "hovertext": [
            "Zürich"
           ],
           "ids": [
            "Switzerland"
           ],
           "legendgroup": "Switzerland",
           "marker": {
            "color": "#636efa",
            "size": [
             1
            ],
            "sizemode": "area",
            "sizeref": 0.00033057851239669424,
            "symbol": "circle"
           },
           "mode": "markers",
           "name": "Switzerland",
           "orientation": "v",
           "showlegend": true,
           "type": "scatter",
           "x": [
            31.7027027027027
           ],
           "xaxis": "x",
           "y": [
            12.351428571428569
           ],
           "yaxis": "y"
          },
          {
           "hovertemplate": "<b>%{hovertext}</b><br><br>Country_name=Chile<br>Month=10<br>AQI=%{x}<br>AQI_20=%{y}<br>size=%{marker.size}<extra></extra>",
           "hovertext": [
            "Los Ángeles"
           ],
           "ids": [
            "Chile"
           ],
           "legendgroup": "Chile",
           "marker": {
            "color": "#EF553B",
            "size": [
             1
            ],
            "sizemode": "area",
            "sizeref": 0.00033057851239669424,
            "symbol": "circle"
           },
           "mode": "markers",
           "name": "Chile",
           "orientation": "v",
           "showlegend": true,
           "type": "scatter",
           "x": [
            36.78378378378378
           ],
           "xaxis": "x",
           "y": [
            42.74285714285714
           ],
           "yaxis": "y"
          },
          {
           "hovertemplate": "<b>%{hovertext}</b><br><br>Country_name=Germany<br>Month=10<br>AQI=%{x}<br>AQI_20=%{y}<br>size=%{marker.size}<extra></extra>",
           "hovertext": [
            "Berlin"
           ],
           "ids": [
            "Germany"
           ],
           "legendgroup": "Germany",
           "marker": {
            "color": "#00cc96",
            "size": [
             1
            ],
            "sizemode": "area",
            "sizeref": 0.00033057851239669424,
            "symbol": "circle"
           },
           "mode": "markers",
           "name": "Germany",
           "orientation": "v",
           "showlegend": true,
           "type": "scatter",
           "x": [
            176.59459459459458
           ],
           "xaxis": "x",
           "y": [
            35.15151515151515
           ],
           "yaxis": "y"
          }
         ],
         "name": "10"
        },
        {
         "data": [
          {
           "hovertemplate": "<b>%{hovertext}</b><br><br>Country_name=Netherlands<br>Month=11<br>AQI=%{x}<br>AQI_20=%{y}<br>size=%{marker.size}<extra></extra>",
           "hovertext": [
            "Rotterdam"
           ],
           "ids": [
            "Netherlands"
           ],
           "legendgroup": "Netherlands",
           "marker": {
            "color": "#636efa",
            "size": [
             1
            ],
            "sizemode": "area",
            "sizeref": 0.00033057851239669424,
            "symbol": "circle"
           },
           "mode": "markers",
           "name": "Netherlands",
           "orientation": "v",
           "showlegend": true,
           "type": "scatter",
           "x": [
            253.03333333333333
           ],
           "xaxis": "x",
           "y": [
            49.333333333333336
           ],
           "yaxis": "y"
          },
          {
           "hovertemplate": "<b>%{hovertext}</b><br><br>Country_name=United States<br>Month=11<br>AQI=%{x}<br>AQI_20=%{y}<br>size=%{marker.size}<extra></extra>",
           "hovertext": [
            "San Francisco"
           ],
           "ids": [
            "United States"
           ],
           "legendgroup": "United States",
           "marker": {
            "color": "#EF553B",
            "size": [
             1
            ],
            "sizemode": "area",
            "sizeref": 0.00033057851239669424,
            "symbol": "circle"
           },
           "mode": "markers",
           "name": "United States",
           "orientation": "v",
           "showlegend": true,
           "type": "scatter",
           "x": [
            42.035714285714285
           ],
           "xaxis": "x",
           "y": [
            26.9
           ],
           "yaxis": "y"
          },
          {
           "hovertemplate": "<b>%{hovertext}</b><br><br>Country_name=France<br>Month=11<br>AQI=%{x}<br>AQI_20=%{y}<br>size=%{marker.size}<extra></extra>",
           "hovertext": [
            "Paris"
           ],
           "ids": [
            "France"
           ],
           "legendgroup": "France",
           "marker": {
            "color": "#00cc96",
            "size": [
             1
            ],
            "sizemode": "area",
            "sizeref": 0.00033057851239669424,
            "symbol": "circle"
           },
           "mode": "markers",
           "name": "France",
           "orientation": "v",
           "showlegend": true,
           "type": "scatter",
           "x": [
            38.766666666666666
           ],
           "xaxis": "x",
           "y": [
            54.06666666666667
           ],
           "yaxis": "y"
          },
          {
           "hovertemplate": "<b>%{hovertext}</b><br><br>Country_name=Japan<br>Month=11<br>AQI=%{x}<br>AQI_20=%{y}<br>size=%{marker.size}<extra></extra>",
           "hovertext": [
            "Tokyo"
           ],
           "ids": [
            "Japan"
           ],
           "legendgroup": "Japan",
           "marker": {
            "color": "#ab63fa",
            "size": [
             1
            ],
            "sizemode": "area",
            "sizeref": 0.00033057851239669424,
            "symbol": "circle"
           },
           "mode": "markers",
           "name": "Japan",
           "orientation": "v",
           "showlegend": true,
           "type": "scatter",
           "x": [
            75.88
           ],
           "xaxis": "x",
           "y": [
            41.36666666666667
           ],
           "yaxis": "y"
          },
          {
           "hovertemplate": "<b>%{hovertext}</b><br><br>Country_name=Israel<br>Month=11<br>AQI=%{x}<br>AQI_20=%{y}<br>size=%{marker.size}<extra></extra>",
           "hovertext": [
            "Jerusalem"
           ],
           "ids": [
            "Israel"
           ],
           "legendgroup": "Israel",
           "marker": {
            "color": "#FFA15A",
            "size": [
             1
            ],
            "sizemode": "area",
            "sizeref": 0.00033057851239669424,
            "symbol": "circle"
           },
           "mode": "markers",
           "name": "Israel",
           "orientation": "v",
           "showlegend": true,
           "type": "scatter",
           "x": [
            57.142857142857146
           ],
           "xaxis": "x",
           "y": [
            52.166666666666664
           ],
           "yaxis": "y"
          },
          {
           "hovertemplate": "<b>%{hovertext}</b><br><br>Country_name=India<br>Month=11<br>AQI=%{x}<br>AQI_20=%{y}<br>size=%{marker.size}<extra></extra>",
           "hovertext": [
            "Delhi"
           ],
           "ids": [
            "India"
           ],
           "legendgroup": "India",
           "marker": {
            "color": "#19d3f3",
            "size": [
             1
            ],
            "sizemode": "area",
            "sizeref": 0.00033057851239669424,
            "symbol": "circle"
           },
           "mode": "markers",
           "name": "India",
           "orientation": "v",
           "showlegend": true,
           "type": "scatter",
           "x": [
            24.366666666666667
           ],
           "xaxis": "x",
           "y": [
            259.3333333333333
           ],
           "yaxis": "y"
          },
          {
           "hovertemplate": "<b>%{hovertext}</b><br><br>Country_name=Australia<br>Month=11<br>AQI=%{x}<br>AQI_20=%{y}<br>size=%{marker.size}<extra></extra>",
           "hovertext": [
            "Melbourne"
           ],
           "ids": [
            "Australia"
           ],
           "legendgroup": "Australia",
           "marker": {
            "color": "#FF6692",
            "size": [
             1
            ],
            "sizemode": "area",
            "sizeref": 0.00033057851239669424,
            "symbol": "circle"
           },
           "mode": "markers",
           "name": "Australia",
           "orientation": "v",
           "showlegend": true,
           "type": "scatter",
           "x": [
            41.733333333333334
           ],
           "xaxis": "x",
           "y": [
            26.266666666666666
           ],
           "yaxis": "y"
          },
          {
           "hovertemplate": "<b>%{hovertext}</b><br><br>Country_name=Thailand<br>Month=11<br>AQI=%{x}<br>AQI_20=%{y}<br>size=%{marker.size}<extra></extra>",
           "hovertext": [
            "Bangkok"
           ],
           "ids": [
            "Thailand"
           ],
           "legendgroup": "Thailand",
           "marker": {
            "color": "#B6E880",
            "size": [
             1
            ],
            "sizemode": "area",
            "sizeref": 0.00033057851239669424,
            "symbol": "circle"
           },
           "mode": "markers",
           "name": "Thailand",
           "orientation": "v",
           "showlegend": true,
           "type": "scatter",
           "x": [
            16.566666666666666
           ],
           "xaxis": "x",
           "y": [
            80.1
           ],
           "yaxis": "y"
          },
          {
           "hovertemplate": "<b>%{hovertext}</b><br><br>Country_name=Argentina<br>Month=11<br>AQI=%{x}<br>AQI_20=%{y}<br>size=%{marker.size}<extra></extra>",
           "hovertext": [
            "Buenos Aires"
           ],
           "ids": [
            "Argentina"
           ],
           "legendgroup": "Argentina",
           "marker": {
            "color": "#FF97FF",
            "size": [
             1
            ],
            "sizemode": "area",
            "sizeref": 0.00033057851239669424,
            "symbol": "circle"
           },
           "mode": "markers",
           "name": "Argentina",
           "orientation": "v",
           "showlegend": true,
           "type": "scatter",
           "x": [
            44.86666666666667
           ],
           "xaxis": "x",
           "y": [
            28.366666666666667
           ],
           "yaxis": "y"
          },
          {
           "hovertemplate": "<b>%{hovertext}</b><br><br>Country_name=Spain<br>Month=11<br>AQI=%{x}<br>AQI_20=%{y}<br>size=%{marker.size}<extra></extra>",
           "hovertext": [
            "Madrid",
            "Barcelona"
           ],
           "ids": [
            "Spain",
            "Spain"
           ],
           "legendgroup": "Spain",
           "marker": {
            "color": "#FECB52",
            "size": [
             1,
             1
            ],
            "sizemode": "area",
            "sizeref": 0.00033057851239669424,
            "symbol": "circle"
           },
           "mode": "markers",
           "name": "Spain",
           "orientation": "v",
           "showlegend": true,
           "type": "scatter",
           "x": [
            11.963333333333333,
            28.6
           ],
           "xaxis": "x",
           "y": [
            51.4,
            24.333333333333332
           ],
           "yaxis": "y"
          },
          {
           "hovertemplate": "<b>%{hovertext}</b><br><br>Country_name=Switzerland<br>Month=11<br>AQI=%{x}<br>AQI_20=%{y}<br>size=%{marker.size}<extra></extra>",
           "hovertext": [
            "Zürich"
           ],
           "ids": [
            "Switzerland"
           ],
           "legendgroup": "Switzerland",
           "marker": {
            "color": "#636efa",
            "size": [
             1
            ],
            "sizemode": "area",
            "sizeref": 0.00033057851239669424,
            "symbol": "circle"
           },
           "mode": "markers",
           "name": "Switzerland",
           "orientation": "v",
           "showlegend": true,
           "type": "scatter",
           "x": [
            37.233333333333334
           ],
           "xaxis": "x",
           "y": [
            14.766666666666667
           ],
           "yaxis": "y"
          },
          {
           "hovertemplate": "<b>%{hovertext}</b><br><br>Country_name=Chile<br>Month=11<br>AQI=%{x}<br>AQI_20=%{y}<br>size=%{marker.size}<extra></extra>",
           "hovertext": [
            "Los Ángeles"
           ],
           "ids": [
            "Chile"
           ],
           "legendgroup": "Chile",
           "marker": {
            "color": "#EF553B",
            "size": [
             1
            ],
            "sizemode": "area",
            "sizeref": 0.00033057851239669424,
            "symbol": "circle"
           },
           "mode": "markers",
           "name": "Chile",
           "orientation": "v",
           "showlegend": true,
           "type": "scatter",
           "x": [
            89.33333333333333
           ],
           "xaxis": "x",
           "y": [
            33.36666666666667
           ],
           "yaxis": "y"
          },
          {
           "hovertemplate": "<b>%{hovertext}</b><br><br>Country_name=Germany<br>Month=11<br>AQI=%{x}<br>AQI_20=%{y}<br>size=%{marker.size}<extra></extra>",
           "hovertext": [
            "Berlin"
           ],
           "ids": [
            "Germany"
           ],
           "legendgroup": "Germany",
           "marker": {
            "color": "#00cc96",
            "size": [
             1
            ],
            "sizemode": "area",
            "sizeref": 0.00033057851239669424,
            "symbol": "circle"
           },
           "mode": "markers",
           "name": "Germany",
           "orientation": "v",
           "showlegend": true,
           "type": "scatter",
           "x": [
            23.8
           ],
           "xaxis": "x",
           "y": [
            45.3
           ],
           "yaxis": "y"
          }
         ],
         "name": "11"
        },
        {
         "data": [
          {
           "hovertemplate": "<b>%{hovertext}</b><br><br>Country_name=Netherlands<br>Month=12<br>AQI=%{x}<br>AQI_20=%{y}<br>size=%{marker.size}<extra></extra>",
           "hovertext": [
            "Rotterdam"
           ],
           "ids": [
            "Netherlands"
           ],
           "legendgroup": "Netherlands",
           "marker": {
            "color": "#636efa",
            "size": [
             1
            ],
            "sizemode": "area",
            "sizeref": 0.00033057851239669424,
            "symbol": "circle"
           },
           "mode": "markers",
           "name": "Netherlands",
           "orientation": "v",
           "showlegend": true,
           "type": "scatter",
           "x": [
            41.121212121212125
           ],
           "xaxis": "x",
           "y": [
            40.8
           ],
           "yaxis": "y"
          },
          {
           "hovertemplate": "<b>%{hovertext}</b><br><br>Country_name=United States<br>Month=12<br>AQI=%{x}<br>AQI_20=%{y}<br>size=%{marker.size}<extra></extra>",
           "hovertext": [
            "San Francisco"
           ],
           "ids": [
            "United States"
           ],
           "legendgroup": "United States",
           "marker": {
            "color": "#EF553B",
            "size": [
             1
            ],
            "sizemode": "area",
            "sizeref": 0.00033057851239669424,
            "symbol": "circle"
           },
           "mode": "markers",
           "name": "United States",
           "orientation": "v",
           "showlegend": true,
           "type": "scatter",
           "x": [
            55
           ],
           "xaxis": "x",
           "y": [
            34.42857142857143
           ],
           "yaxis": "y"
          },
          {
           "hovertemplate": "<b>%{hovertext}</b><br><br>Country_name=France<br>Month=12<br>AQI=%{x}<br>AQI_20=%{y}<br>size=%{marker.size}<extra></extra>",
           "hovertext": [
            "Paris"
           ],
           "ids": [
            "France"
           ],
           "legendgroup": "France",
           "marker": {
            "color": "#00cc96",
            "size": [
             1
            ],
            "sizemode": "area",
            "sizeref": 0.00033057851239669424,
            "symbol": "circle"
           },
           "mode": "markers",
           "name": "France",
           "orientation": "v",
           "showlegend": true,
           "type": "scatter",
           "x": [
            47.24242424242424
           ],
           "xaxis": "x",
           "y": [
            38.6
           ],
           "yaxis": "y"
          },
          {
           "hovertemplate": "<b>%{hovertext}</b><br><br>Country_name=Japan<br>Month=12<br>AQI=%{x}<br>AQI_20=%{y}<br>size=%{marker.size}<extra></extra>",
           "hovertext": [
            "Tokyo"
           ],
           "ids": [
            "Japan"
           ],
           "legendgroup": "Japan",
           "marker": {
            "color": "#ab63fa",
            "size": [
             1
            ],
            "sizemode": "area",
            "sizeref": 0.00033057851239669424,
            "symbol": "circle"
           },
           "mode": "markers",
           "name": "Japan",
           "orientation": "v",
           "showlegend": true,
           "type": "scatter",
           "x": [
            21.363636363636363
           ],
           "xaxis": "x",
           "y": [
            43.542857142857144
           ],
           "yaxis": "y"
          },
          {
           "hovertemplate": "<b>%{hovertext}</b><br><br>Country_name=Israel<br>Month=12<br>AQI=%{x}<br>AQI_20=%{y}<br>size=%{marker.size}<extra></extra>",
           "hovertext": [
            "Jerusalem"
           ],
           "ids": [
            "Israel"
           ],
           "legendgroup": "Israel",
           "marker": {
            "color": "#FFA15A",
            "size": [
             1
            ],
            "sizemode": "area",
            "sizeref": 0.00033057851239669424,
            "symbol": "circle"
           },
           "mode": "markers",
           "name": "Israel",
           "orientation": "v",
           "showlegend": true,
           "type": "scatter",
           "x": [
            40.27272727272727
           ],
           "xaxis": "x",
           "y": [
            58.74285714285714
           ],
           "yaxis": "y"
          },
          {
           "hovertemplate": "<b>%{hovertext}</b><br><br>Country_name=India<br>Month=12<br>AQI=%{x}<br>AQI_20=%{y}<br>size=%{marker.size}<extra></extra>",
           "hovertext": [
            "Delhi"
           ],
           "ids": [
            "India"
           ],
           "legendgroup": "India",
           "marker": {
            "color": "#19d3f3",
            "size": [
             1
            ],
            "sizemode": "area",
            "sizeref": 0.00033057851239669424,
            "symbol": "circle"
           },
           "mode": "markers",
           "name": "India",
           "orientation": "v",
           "showlegend": true,
           "type": "scatter",
           "x": [
            48.39393939393939
           ],
           "xaxis": "x",
           "y": [
            246.68571428571428
           ],
           "yaxis": "y"
          },
          {
           "hovertemplate": "<b>%{hovertext}</b><br><br>Country_name=Australia<br>Month=12<br>AQI=%{x}<br>AQI_20=%{y}<br>size=%{marker.size}<extra></extra>",
           "hovertext": [
            "Melbourne"
           ],
           "ids": [
            "Australia"
           ],
           "legendgroup": "Australia",
           "marker": {
            "color": "#FF6692",
            "size": [
             1
            ],
            "sizemode": "area",
            "sizeref": 0.00033057851239669424,
            "symbol": "circle"
           },
           "mode": "markers",
           "name": "Australia",
           "orientation": "v",
           "showlegend": true,
           "type": "scatter",
           "x": [
            104.72727272727273
           ],
           "xaxis": "x",
           "y": [
            22.2
           ],
           "yaxis": "y"
          },
          {
           "hovertemplate": "<b>%{hovertext}</b><br><br>Country_name=Thailand<br>Month=12<br>AQI=%{x}<br>AQI_20=%{y}<br>size=%{marker.size}<extra></extra>",
           "hovertext": [
            "Bangkok"
           ],
           "ids": [
            "Thailand"
           ],
           "legendgroup": "Thailand",
           "marker": {
            "color": "#B6E880",
            "size": [
             1
            ],
            "sizemode": "area",
            "sizeref": 0.00033057851239669424,
            "symbol": "circle"
           },
           "mode": "markers",
           "name": "Thailand",
           "orientation": "v",
           "showlegend": true,
           "type": "scatter",
           "x": [
            26.12121212121212
           ],
           "xaxis": "x",
           "y": [
            92.17142857142858
           ],
           "yaxis": "y"
          },
          {
           "hovertemplate": "<b>%{hovertext}</b><br><br>Country_name=Argentina<br>Month=12<br>AQI=%{x}<br>AQI_20=%{y}<br>size=%{marker.size}<extra></extra>",
           "hovertext": [
            "Buenos Aires"
           ],
           "ids": [
            "Argentina"
           ],
           "legendgroup": "Argentina",
           "marker": {
            "color": "#FF97FF",
            "size": [
             1
            ],
            "sizemode": "area",
            "sizeref": 0.00033057851239669424,
            "symbol": "circle"
           },
           "mode": "markers",
           "name": "Argentina",
           "orientation": "v",
           "showlegend": true,
           "type": "scatter",
           "x": [
            40.03030303030303
           ],
           "xaxis": "x",
           "y": [
            32.65714285714286
           ],
           "yaxis": "y"
          },
          {
           "hovertemplate": "<b>%{hovertext}</b><br><br>Country_name=Spain<br>Month=12<br>AQI=%{x}<br>AQI_20=%{y}<br>size=%{marker.size}<extra></extra>",
           "hovertext": [
            "Barcelona",
            "Madrid"
           ],
           "ids": [
            "Spain",
            "Spain"
           ],
           "legendgroup": "Spain",
           "marker": {
            "color": "#FECB52",
            "size": [
             1,
             1
            ],
            "sizemode": "area",
            "sizeref": 0.00033057851239669424,
            "symbol": "circle"
           },
           "mode": "markers",
           "name": "Spain",
           "orientation": "v",
           "showlegend": true,
           "type": "scatter",
           "x": [
            12.678787878787878,
            55.03225806451613
           ],
           "xaxis": "x",
           "y": [
            17.142857142857142,
            31.228571428571428
           ],
           "yaxis": "y"
          },
          {
           "hovertemplate": "<b>%{hovertext}</b><br><br>Country_name=Switzerland<br>Month=12<br>AQI=%{x}<br>AQI_20=%{y}<br>size=%{marker.size}<extra></extra>",
           "hovertext": [
            "Zürich"
           ],
           "ids": [
            "Switzerland"
           ],
           "legendgroup": "Switzerland",
           "marker": {
            "color": "#636efa",
            "size": [
             1
            ],
            "sizemode": "area",
            "sizeref": 0.00033057851239669424,
            "symbol": "circle"
           },
           "mode": "markers",
           "name": "Switzerland",
           "orientation": "v",
           "showlegend": true,
           "type": "scatter",
           "x": [
            31.78787878787879
           ],
           "xaxis": "x",
           "y": [
            12.468571428571428
           ],
           "yaxis": "y"
          },
          {
           "hovertemplate": "<b>%{hovertext}</b><br><br>Country_name=Chile<br>Month=12<br>AQI=%{x}<br>AQI_20=%{y}<br>size=%{marker.size}<extra></extra>",
           "hovertext": [
            "Los Ángeles"
           ],
           "ids": [
            "Chile"
           ],
           "legendgroup": "Chile",
           "marker": {
            "color": "#EF553B",
            "size": [
             1
            ],
            "sizemode": "area",
            "sizeref": 0.00033057851239669424,
            "symbol": "circle"
           },
           "mode": "markers",
           "name": "Chile",
           "orientation": "v",
           "showlegend": true,
           "type": "scatter",
           "x": [
            259.93939393939394
           ],
           "xaxis": "x",
           "y": [
            24.97142857142857
           ],
           "yaxis": "y"
          },
          {
           "hovertemplate": "<b>%{hovertext}</b><br><br>Country_name=Germany<br>Month=12<br>AQI=%{x}<br>AQI_20=%{y}<br>size=%{marker.size}<extra></extra>",
           "hovertext": [
            "Berlin"
           ],
           "ids": [
            "Germany"
           ],
           "legendgroup": "Germany",
           "marker": {
            "color": "#00cc96",
            "size": [
             1
            ],
            "sizemode": "area",
            "sizeref": 0.00033057851239669424,
            "symbol": "circle"
           },
           "mode": "markers",
           "name": "Germany",
           "orientation": "v",
           "showlegend": true,
           "type": "scatter",
           "x": [
            37.21875
           ],
           "xaxis": "x",
           "y": [
            58.41379310344828
           ],
           "yaxis": "y"
          }
         ],
         "name": "12"
        }
       ],
       "layout": {
        "autosize": true,
        "legend": {
         "itemsizing": "constant",
         "title": {
          "text": "Country_name"
         },
         "tracegroupgap": 0
        },
        "margin": {
         "t": 60
        },
        "shapes": [
         {
          "line": {
           "color": "MediumPurple",
           "dash": "dot",
           "width": 4
          },
          "type": "line",
          "x0": 0,
          "x1": 500,
          "y0": 0,
          "y1": 500
         }
        ],
        "sliders": [
         {
          "active": 11,
          "currentvalue": {
           "prefix": "Month="
          },
          "len": 0.9,
          "pad": {
           "b": 10,
           "t": 60
          },
          "steps": [
           {
            "args": [
             [
              "1"
             ],
             {
              "frame": {
               "duration": 0,
               "redraw": false
              },
              "fromcurrent": true,
              "mode": "immediate",
              "transition": {
               "duration": 0,
               "easing": "linear"
              }
             }
            ],
            "label": "1",
            "method": "animate"
           },
           {
            "args": [
             [
              "2"
             ],
             {
              "frame": {
               "duration": 0,
               "redraw": false
              },
              "fromcurrent": true,
              "mode": "immediate",
              "transition": {
               "duration": 0,
               "easing": "linear"
              }
             }
            ],
            "label": "2",
            "method": "animate"
           },
           {
            "args": [
             [
              "3"
             ],
             {
              "frame": {
               "duration": 0,
               "redraw": false
              },
              "fromcurrent": true,
              "mode": "immediate",
              "transition": {
               "duration": 0,
               "easing": "linear"
              }
             }
            ],
            "label": "3",
            "method": "animate"
           },
           {
            "args": [
             [
              "4"
             ],
             {
              "frame": {
               "duration": 0,
               "redraw": false
              },
              "fromcurrent": true,
              "mode": "immediate",
              "transition": {
               "duration": 0,
               "easing": "linear"
              }
             }
            ],
            "label": "4",
            "method": "animate"
           },
           {
            "args": [
             [
              "5"
             ],
             {
              "frame": {
               "duration": 0,
               "redraw": false
              },
              "fromcurrent": true,
              "mode": "immediate",
              "transition": {
               "duration": 0,
               "easing": "linear"
              }
             }
            ],
            "label": "5",
            "method": "animate"
           },
           {
            "args": [
             [
              "6"
             ],
             {
              "frame": {
               "duration": 0,
               "redraw": false
              },
              "fromcurrent": true,
              "mode": "immediate",
              "transition": {
               "duration": 0,
               "easing": "linear"
              }
             }
            ],
            "label": "6",
            "method": "animate"
           },
           {
            "args": [
             [
              "7"
             ],
             {
              "frame": {
               "duration": 0,
               "redraw": false
              },
              "fromcurrent": true,
              "mode": "immediate",
              "transition": {
               "duration": 0,
               "easing": "linear"
              }
             }
            ],
            "label": "7",
            "method": "animate"
           },
           {
            "args": [
             [
              "8"
             ],
             {
              "frame": {
               "duration": 0,
               "redraw": false
              },
              "fromcurrent": true,
              "mode": "immediate",
              "transition": {
               "duration": 0,
               "easing": "linear"
              }
             }
            ],
            "label": "8",
            "method": "animate"
           },
           {
            "args": [
             [
              "9"
             ],
             {
              "frame": {
               "duration": 0,
               "redraw": false
              },
              "fromcurrent": true,
              "mode": "immediate",
              "transition": {
               "duration": 0,
               "easing": "linear"
              }
             }
            ],
            "label": "9",
            "method": "animate"
           },
           {
            "args": [
             [
              "10"
             ],
             {
              "frame": {
               "duration": 0,
               "redraw": false
              },
              "fromcurrent": true,
              "mode": "immediate",
              "transition": {
               "duration": 0,
               "easing": "linear"
              }
             }
            ],
            "label": "10",
            "method": "animate"
           },
           {
            "args": [
             [
              "11"
             ],
             {
              "frame": {
               "duration": 0,
               "redraw": false
              },
              "fromcurrent": true,
              "mode": "immediate",
              "transition": {
               "duration": 0,
               "easing": "linear"
              }
             }
            ],
            "label": "11",
            "method": "animate"
           },
           {
            "args": [
             [
              "12"
             ],
             {
              "frame": {
               "duration": 0,
               "redraw": false
              },
              "fromcurrent": true,
              "mode": "immediate",
              "transition": {
               "duration": 0,
               "easing": "linear"
              }
             }
            ],
            "label": "12",
            "method": "animate"
           }
          ],
          "x": 0.1,
          "xanchor": "left",
          "y": 0,
          "yanchor": "top"
         }
        ],
        "template": {
         "data": {
          "bar": [
           {
            "error_x": {
             "color": "#2a3f5f"
            },
            "error_y": {
             "color": "#2a3f5f"
            },
            "marker": {
             "line": {
              "color": "#E5ECF6",
              "width": 0.5
             }
            },
            "type": "bar"
           }
          ],
          "barpolar": [
           {
            "marker": {
             "line": {
              "color": "#E5ECF6",
              "width": 0.5
             }
            },
            "type": "barpolar"
           }
          ],
          "carpet": [
           {
            "aaxis": {
             "endlinecolor": "#2a3f5f",
             "gridcolor": "white",
             "linecolor": "white",
             "minorgridcolor": "white",
             "startlinecolor": "#2a3f5f"
            },
            "baxis": {
             "endlinecolor": "#2a3f5f",
             "gridcolor": "white",
             "linecolor": "white",
             "minorgridcolor": "white",
             "startlinecolor": "#2a3f5f"
            },
            "type": "carpet"
           }
          ],
          "choropleth": [
           {
            "colorbar": {
             "outlinewidth": 0,
             "ticks": ""
            },
            "type": "choropleth"
           }
          ],
          "contour": [
           {
            "colorbar": {
             "outlinewidth": 0,
             "ticks": ""
            },
            "colorscale": [
             [
              0,
              "#0d0887"
             ],
             [
              0.1111111111111111,
              "#46039f"
             ],
             [
              0.2222222222222222,
              "#7201a8"
             ],
             [
              0.3333333333333333,
              "#9c179e"
             ],
             [
              0.4444444444444444,
              "#bd3786"
             ],
             [
              0.5555555555555556,
              "#d8576b"
             ],
             [
              0.6666666666666666,
              "#ed7953"
             ],
             [
              0.7777777777777778,
              "#fb9f3a"
             ],
             [
              0.8888888888888888,
              "#fdca26"
             ],
             [
              1,
              "#f0f921"
             ]
            ],
            "type": "contour"
           }
          ],
          "contourcarpet": [
           {
            "colorbar": {
             "outlinewidth": 0,
             "ticks": ""
            },
            "type": "contourcarpet"
           }
          ],
          "heatmap": [
           {
            "colorbar": {
             "outlinewidth": 0,
             "ticks": ""
            },
            "colorscale": [
             [
              0,
              "#0d0887"
             ],
             [
              0.1111111111111111,
              "#46039f"
             ],
             [
              0.2222222222222222,
              "#7201a8"
             ],
             [
              0.3333333333333333,
              "#9c179e"
             ],
             [
              0.4444444444444444,
              "#bd3786"
             ],
             [
              0.5555555555555556,
              "#d8576b"
             ],
             [
              0.6666666666666666,
              "#ed7953"
             ],
             [
              0.7777777777777778,
              "#fb9f3a"
             ],
             [
              0.8888888888888888,
              "#fdca26"
             ],
             [
              1,
              "#f0f921"
             ]
            ],
            "type": "heatmap"
           }
          ],
          "heatmapgl": [
           {
            "colorbar": {
             "outlinewidth": 0,
             "ticks": ""
            },
            "colorscale": [
             [
              0,
              "#0d0887"
             ],
             [
              0.1111111111111111,
              "#46039f"
             ],
             [
              0.2222222222222222,
              "#7201a8"
             ],
             [
              0.3333333333333333,
              "#9c179e"
             ],
             [
              0.4444444444444444,
              "#bd3786"
             ],
             [
              0.5555555555555556,
              "#d8576b"
             ],
             [
              0.6666666666666666,
              "#ed7953"
             ],
             [
              0.7777777777777778,
              "#fb9f3a"
             ],
             [
              0.8888888888888888,
              "#fdca26"
             ],
             [
              1,
              "#f0f921"
             ]
            ],
            "type": "heatmapgl"
           }
          ],
          "histogram": [
           {
            "marker": {
             "colorbar": {
              "outlinewidth": 0,
              "ticks": ""
             }
            },
            "type": "histogram"
           }
          ],
          "histogram2d": [
           {
            "colorbar": {
             "outlinewidth": 0,
             "ticks": ""
            },
            "colorscale": [
             [
              0,
              "#0d0887"
             ],
             [
              0.1111111111111111,
              "#46039f"
             ],
             [
              0.2222222222222222,
              "#7201a8"
             ],
             [
              0.3333333333333333,
              "#9c179e"
             ],
             [
              0.4444444444444444,
              "#bd3786"
             ],
             [
              0.5555555555555556,
              "#d8576b"
             ],
             [
              0.6666666666666666,
              "#ed7953"
             ],
             [
              0.7777777777777778,
              "#fb9f3a"
             ],
             [
              0.8888888888888888,
              "#fdca26"
             ],
             [
              1,
              "#f0f921"
             ]
            ],
            "type": "histogram2d"
           }
          ],
          "histogram2dcontour": [
           {
            "colorbar": {
             "outlinewidth": 0,
             "ticks": ""
            },
            "colorscale": [
             [
              0,
              "#0d0887"
             ],
             [
              0.1111111111111111,
              "#46039f"
             ],
             [
              0.2222222222222222,
              "#7201a8"
             ],
             [
              0.3333333333333333,
              "#9c179e"
             ],
             [
              0.4444444444444444,
              "#bd3786"
             ],
             [
              0.5555555555555556,
              "#d8576b"
             ],
             [
              0.6666666666666666,
              "#ed7953"
             ],
             [
              0.7777777777777778,
              "#fb9f3a"
             ],
             [
              0.8888888888888888,
              "#fdca26"
             ],
             [
              1,
              "#f0f921"
             ]
            ],
            "type": "histogram2dcontour"
           }
          ],
          "mesh3d": [
           {
            "colorbar": {
             "outlinewidth": 0,
             "ticks": ""
            },
            "type": "mesh3d"
           }
          ],
          "parcoords": [
           {
            "line": {
             "colorbar": {
              "outlinewidth": 0,
              "ticks": ""
             }
            },
            "type": "parcoords"
           }
          ],
          "pie": [
           {
            "automargin": true,
            "type": "pie"
           }
          ],
          "scatter": [
           {
            "marker": {
             "colorbar": {
              "outlinewidth": 0,
              "ticks": ""
             }
            },
            "type": "scatter"
           }
          ],
          "scatter3d": [
           {
            "line": {
             "colorbar": {
              "outlinewidth": 0,
              "ticks": ""
             }
            },
            "marker": {
             "colorbar": {
              "outlinewidth": 0,
              "ticks": ""
             }
            },
            "type": "scatter3d"
           }
          ],
          "scattercarpet": [
           {
            "marker": {
             "colorbar": {
              "outlinewidth": 0,
              "ticks": ""
             }
            },
            "type": "scattercarpet"
           }
          ],
          "scattergeo": [
           {
            "marker": {
             "colorbar": {
              "outlinewidth": 0,
              "ticks": ""
             }
            },
            "type": "scattergeo"
           }
          ],
          "scattergl": [
           {
            "marker": {
             "colorbar": {
              "outlinewidth": 0,
              "ticks": ""
             }
            },
            "type": "scattergl"
           }
          ],
          "scattermapbox": [
           {
            "marker": {
             "colorbar": {
              "outlinewidth": 0,
              "ticks": ""
             }
            },
            "type": "scattermapbox"
           }
          ],
          "scatterpolar": [
           {
            "marker": {
             "colorbar": {
              "outlinewidth": 0,
              "ticks": ""
             }
            },
            "type": "scatterpolar"
           }
          ],
          "scatterpolargl": [
           {
            "marker": {
             "colorbar": {
              "outlinewidth": 0,
              "ticks": ""
             }
            },
            "type": "scatterpolargl"
           }
          ],
          "scatterternary": [
           {
            "marker": {
             "colorbar": {
              "outlinewidth": 0,
              "ticks": ""
             }
            },
            "type": "scatterternary"
           }
          ],
          "surface": [
           {
            "colorbar": {
             "outlinewidth": 0,
             "ticks": ""
            },
            "colorscale": [
             [
              0,
              "#0d0887"
             ],
             [
              0.1111111111111111,
              "#46039f"
             ],
             [
              0.2222222222222222,
              "#7201a8"
             ],
             [
              0.3333333333333333,
              "#9c179e"
             ],
             [
              0.4444444444444444,
              "#bd3786"
             ],
             [
              0.5555555555555556,
              "#d8576b"
             ],
             [
              0.6666666666666666,
              "#ed7953"
             ],
             [
              0.7777777777777778,
              "#fb9f3a"
             ],
             [
              0.8888888888888888,
              "#fdca26"
             ],
             [
              1,
              "#f0f921"
             ]
            ],
            "type": "surface"
           }
          ],
          "table": [
           {
            "cells": {
             "fill": {
              "color": "#EBF0F8"
             },
             "line": {
              "color": "white"
             }
            },
            "header": {
             "fill": {
              "color": "#C8D4E3"
             },
             "line": {
              "color": "white"
             }
            },
            "type": "table"
           }
          ]
         },
         "layout": {
          "annotationdefaults": {
           "arrowcolor": "#2a3f5f",
           "arrowhead": 0,
           "arrowwidth": 1
          },
          "autotypenumbers": "strict",
          "coloraxis": {
           "colorbar": {
            "outlinewidth": 0,
            "ticks": ""
           }
          },
          "colorscale": {
           "diverging": [
            [
             0,
             "#8e0152"
            ],
            [
             0.1,
             "#c51b7d"
            ],
            [
             0.2,
             "#de77ae"
            ],
            [
             0.3,
             "#f1b6da"
            ],
            [
             0.4,
             "#fde0ef"
            ],
            [
             0.5,
             "#f7f7f7"
            ],
            [
             0.6,
             "#e6f5d0"
            ],
            [
             0.7,
             "#b8e186"
            ],
            [
             0.8,
             "#7fbc41"
            ],
            [
             0.9,
             "#4d9221"
            ],
            [
             1,
             "#276419"
            ]
           ],
           "sequential": [
            [
             0,
             "#0d0887"
            ],
            [
             0.1111111111111111,
             "#46039f"
            ],
            [
             0.2222222222222222,
             "#7201a8"
            ],
            [
             0.3333333333333333,
             "#9c179e"
            ],
            [
             0.4444444444444444,
             "#bd3786"
            ],
            [
             0.5555555555555556,
             "#d8576b"
            ],
            [
             0.6666666666666666,
             "#ed7953"
            ],
            [
             0.7777777777777778,
             "#fb9f3a"
            ],
            [
             0.8888888888888888,
             "#fdca26"
            ],
            [
             1,
             "#f0f921"
            ]
           ],
           "sequentialminus": [
            [
             0,
             "#0d0887"
            ],
            [
             0.1111111111111111,
             "#46039f"
            ],
            [
             0.2222222222222222,
             "#7201a8"
            ],
            [
             0.3333333333333333,
             "#9c179e"
            ],
            [
             0.4444444444444444,
             "#bd3786"
            ],
            [
             0.5555555555555556,
             "#d8576b"
            ],
            [
             0.6666666666666666,
             "#ed7953"
            ],
            [
             0.7777777777777778,
             "#fb9f3a"
            ],
            [
             0.8888888888888888,
             "#fdca26"
            ],
            [
             1,
             "#f0f921"
            ]
           ]
          },
          "colorway": [
           "#636efa",
           "#EF553B",
           "#00cc96",
           "#ab63fa",
           "#FFA15A",
           "#19d3f3",
           "#FF6692",
           "#B6E880",
           "#FF97FF",
           "#FECB52"
          ],
          "font": {
           "color": "#2a3f5f"
          },
          "geo": {
           "bgcolor": "white",
           "lakecolor": "white",
           "landcolor": "#E5ECF6",
           "showlakes": true,
           "showland": true,
           "subunitcolor": "white"
          },
          "hoverlabel": {
           "align": "left"
          },
          "hovermode": "closest",
          "mapbox": {
           "style": "light"
          },
          "paper_bgcolor": "white",
          "plot_bgcolor": "#E5ECF6",
          "polar": {
           "angularaxis": {
            "gridcolor": "white",
            "linecolor": "white",
            "ticks": ""
           },
           "bgcolor": "#E5ECF6",
           "radialaxis": {
            "gridcolor": "white",
            "linecolor": "white",
            "ticks": ""
           }
          },
          "scene": {
           "xaxis": {
            "backgroundcolor": "#E5ECF6",
            "gridcolor": "white",
            "gridwidth": 2,
            "linecolor": "white",
            "showbackground": true,
            "ticks": "",
            "zerolinecolor": "white"
           },
           "yaxis": {
            "backgroundcolor": "#E5ECF6",
            "gridcolor": "white",
            "gridwidth": 2,
            "linecolor": "white",
            "showbackground": true,
            "ticks": "",
            "zerolinecolor": "white"
           },
           "zaxis": {
            "backgroundcolor": "#E5ECF6",
            "gridcolor": "white",
            "gridwidth": 2,
            "linecolor": "white",
            "showbackground": true,
            "ticks": "",
            "zerolinecolor": "white"
           }
          },
          "shapedefaults": {
           "line": {
            "color": "#2a3f5f"
           }
          },
          "ternary": {
           "aaxis": {
            "gridcolor": "white",
            "linecolor": "white",
            "ticks": ""
           },
           "baxis": {
            "gridcolor": "white",
            "linecolor": "white",
            "ticks": ""
           },
           "bgcolor": "#E5ECF6",
           "caxis": {
            "gridcolor": "white",
            "linecolor": "white",
            "ticks": ""
           }
          },
          "title": {
           "x": 0.05
          },
          "xaxis": {
           "automargin": true,
           "gridcolor": "white",
           "linecolor": "white",
           "ticks": "",
           "title": {
            "standoff": 15
           },
           "zerolinecolor": "white",
           "zerolinewidth": 2
          },
          "yaxis": {
           "automargin": true,
           "gridcolor": "white",
           "linecolor": "white",
           "ticks": "",
           "title": {
            "standoff": 15
           },
           "zerolinecolor": "white",
           "zerolinewidth": 2
          }
         }
        },
        "updatemenus": [
         {
          "active": 0,
          "buttons": [
           {
            "args": [
             null,
             {
              "frame": {
               "duration": 500,
               "redraw": false
              },
              "fromcurrent": true,
              "mode": "immediate",
              "transition": {
               "duration": 500,
               "easing": "linear"
              }
             }
            ],
            "label": "&#9654;",
            "method": "animate"
           },
           {
            "args": [
             [
              null
             ],
             {
              "frame": {
               "duration": 0,
               "redraw": false
              },
              "fromcurrent": true,
              "mode": "immediate",
              "transition": {
               "duration": 0,
               "easing": "linear"
              }
             }
            ],
            "label": "&#9724;",
            "method": "animate"
           }
          ],
          "direction": "left",
          "pad": {
           "r": 10,
           "t": 70
          },
          "showactive": false,
          "type": "buttons",
          "x": 0.1,
          "xanchor": "right",
          "y": 0,
          "yanchor": "top"
         }
        ],
        "xaxis": {
         "anchor": "y",
         "domain": [
          0,
          1
         ],
         "range": [
          0,
          500
         ],
         "title": {
          "text": "AQI"
         },
         "type": "linear"
        },
        "yaxis": {
         "anchor": "x",
         "domain": [
          0,
          1
         ],
         "range": [
          0,
          500
         ],
         "title": {
          "text": "AQI_20"
         },
         "type": "linear"
        }
       }
      },
      "image/png": "[encoded data removed]",
      "text/html": [
       "<div>                            <div id=\"1b444f12-7daf-44f3-8f68-43cca4d4c1cd\" class=\"plotly-graph-div\" style=\"height:525px; width:100%;\"></div>            <script type=\"text/javascript\">                require([\"plotly\"], function(Plotly) {                    window.PLOTLYENV=window.PLOTLYENV || {};                                    if (document.getElementById(\"1b444f12-7daf-44f3-8f68-43cca4d4c1cd\")) {                    Plotly.newPlot(                        \"1b444f12-7daf-44f3-8f68-43cca4d4c1cd\",                        [{\"hovertemplate\": \"<b>%{hovertext}</b><br><br>Country_name=Netherlands<br>Month=1<br>AQI=%{x}<br>AQI_20=%{y}<br>size=%{marker.size}<extra></extra>\", \"hovertext\": [\"Rotterdam\"], \"ids\": [\"Netherlands\"], \"legendgroup\": \"Netherlands\", \"marker\": {\"color\": \"#636efa\", \"size\": [1], \"sizemode\": \"area\", \"sizeref\": 0.00033057851239669424, \"symbol\": \"circle\"}, \"mode\": \"markers\", \"name\": \"Netherlands\", \"orientation\": \"v\", \"showlegend\": true, \"type\": \"scatter\", \"x\": [34.74193548387097], \"xaxis\": \"x\", \"y\": [51.083333333333336], \"yaxis\": \"y\"}, {\"hovertemplate\": \"<b>%{hovertext}</b><br><br>Country_name=United States<br>Month=1<br>AQI=%{x}<br>AQI_20=%{y}<br>size=%{marker.size}<extra></extra>\", \"hovertext\": [\"San Francisco\"], \"ids\": [\"United States\"], \"legendgroup\": \"United States\", \"marker\": {\"color\": \"#EF553B\", \"size\": [1], \"sizemode\": \"area\", \"sizeref\": 0.00033057851239669424, \"symbol\": \"circle\"}, \"mode\": \"markers\", \"name\": \"United States\", \"orientation\": \"v\", \"showlegend\": true, \"type\": \"scatter\", \"x\": [50.193548387096776], \"xaxis\": \"x\", \"y\": [29.0], \"yaxis\": \"y\"}, {\"hovertemplate\": \"<b>%{hovertext}</b><br><br>Country_name=France<br>Month=1<br>AQI=%{x}<br>AQI_20=%{y}<br>size=%{marker.size}<extra></extra>\", \"hovertext\": [\"Paris\"], \"ids\": [\"France\"], \"legendgroup\": \"France\", \"marker\": {\"color\": \"#00cc96\", \"size\": [1], \"sizemode\": \"area\", \"sizeref\": 0.00033057851239669424, \"symbol\": \"circle\"}, \"mode\": \"markers\", \"name\": \"France\", \"orientation\": \"v\", \"showlegend\": true, \"type\": \"scatter\", \"x\": [49.806451612903224], \"xaxis\": \"x\", \"y\": [52.583333333333336], \"yaxis\": \"y\"}, {\"hovertemplate\": \"<b>%{hovertext}</b><br><br>Country_name=Japan<br>Month=1<br>AQI=%{x}<br>AQI_20=%{y}<br>size=%{marker.size}<extra></extra>\", \"hovertext\": [\"Tokyo\"], \"ids\": [\"Japan\"], \"legendgroup\": \"Japan\", \"marker\": {\"color\": \"#ab63fa\", \"size\": [1], \"sizemode\": \"area\", \"sizeref\": 0.00033057851239669424, \"symbol\": \"circle\"}, \"mode\": \"markers\", \"name\": \"Japan\", \"orientation\": \"v\", \"showlegend\": true, \"type\": \"scatter\", \"x\": [252.1290322580645], \"xaxis\": \"x\", \"y\": [35.77777777777778], \"yaxis\": \"y\"}, {\"hovertemplate\": \"<b>%{hovertext}</b><br><br>Country_name=Israel<br>Month=1<br>AQI=%{x}<br>AQI_20=%{y}<br>size=%{marker.size}<extra></extra>\", \"hovertext\": [\"Jerusalem\"], \"ids\": [\"Israel\"], \"legendgroup\": \"Israel\", \"marker\": {\"color\": \"#FFA15A\", \"size\": [1], \"sizemode\": \"area\", \"sizeref\": 0.00033057851239669424, \"symbol\": \"circle\"}, \"mode\": \"markers\", \"name\": \"Israel\", \"orientation\": \"v\", \"showlegend\": true, \"type\": \"scatter\", \"x\": [69.12903225806451], \"xaxis\": \"x\", \"y\": [47.61764705882353], \"yaxis\": \"y\"}, {\"hovertemplate\": \"<b>%{hovertext}</b><br><br>Country_name=India<br>Month=1<br>AQI=%{x}<br>AQI_20=%{y}<br>size=%{marker.size}<extra></extra>\", \"hovertext\": [\"Delhi\"], \"ids\": [\"India\"], \"legendgroup\": \"India\", \"marker\": {\"color\": \"#19d3f3\", \"size\": [1], \"sizemode\": \"area\", \"sizeref\": 0.00033057851239669424, \"symbol\": \"circle\"}, \"mode\": \"markers\", \"name\": \"India\", \"orientation\": \"v\", \"showlegend\": true, \"type\": \"scatter\", \"x\": [33.714285714285715], \"xaxis\": \"x\", \"y\": [226.80555555555554], \"yaxis\": \"y\"}, {\"hovertemplate\": \"<b>%{hovertext}</b><br><br>Country_name=Australia<br>Month=1<br>AQI=%{x}<br>AQI_20=%{y}<br>size=%{marker.size}<extra></extra>\", \"hovertext\": [\"Melbourne\"], \"ids\": [\"Australia\"], \"legendgroup\": \"Australia\", \"marker\": {\"color\": \"#FF6692\", \"size\": [1], \"sizemode\": \"area\", \"sizeref\": 0.00033057851239669424, \"symbol\": \"circle\"}, \"mode\": \"markers\", \"name\": \"Australia\", \"orientation\": \"v\", \"showlegend\": true, \"type\": \"scatter\", \"x\": [129.06451612903226], \"xaxis\": \"x\", \"y\": [55.666666666666664], \"yaxis\": \"y\"}, {\"hovertemplate\": \"<b>%{hovertext}</b><br><br>Country_name=Thailand<br>Month=1<br>AQI=%{x}<br>AQI_20=%{y}<br>size=%{marker.size}<extra></extra>\", \"hovertext\": [\"Bangkok\"], \"ids\": [\"Thailand\"], \"legendgroup\": \"Thailand\", \"marker\": {\"color\": \"#B6E880\", \"size\": [1], \"sizemode\": \"area\", \"sizeref\": 0.00033057851239669424, \"symbol\": \"circle\"}, \"mode\": \"markers\", \"name\": \"Thailand\", \"orientation\": \"v\", \"showlegend\": true, \"type\": \"scatter\", \"x\": [50.516129032258064], \"xaxis\": \"x\", \"y\": [111.55555555555556], \"yaxis\": \"y\"}, {\"hovertemplate\": \"<b>%{hovertext}</b><br><br>Country_name=Argentina<br>Month=1<br>AQI=%{x}<br>AQI_20=%{y}<br>size=%{marker.size}<extra></extra>\", \"hovertext\": [\"Buenos Aires\"], \"ids\": [\"Argentina\"], \"legendgroup\": \"Argentina\", \"marker\": {\"color\": \"#FF97FF\", \"size\": [1], \"sizemode\": \"area\", \"sizeref\": 0.00033057851239669424, \"symbol\": \"circle\"}, \"mode\": \"markers\", \"name\": \"Argentina\", \"orientation\": \"v\", \"showlegend\": true, \"type\": \"scatter\", \"x\": [19.633333333333333], \"xaxis\": \"x\", \"y\": [36.05882352941177], \"yaxis\": \"y\"}, {\"hovertemplate\": \"<b>%{hovertext}</b><br><br>Country_name=Spain<br>Month=1<br>AQI=%{x}<br>AQI_20=%{y}<br>size=%{marker.size}<extra></extra>\", \"hovertext\": [\"Barcelona\", \"Madrid\"], \"ids\": [\"Spain\", \"Spain\"], \"legendgroup\": \"Spain\", \"marker\": {\"color\": \"#FECB52\", \"size\": [1, 1], \"sizemode\": \"area\", \"sizeref\": 0.00033057851239669424, \"symbol\": \"circle\"}, \"mode\": \"markers\", \"name\": \"Spain\", \"orientation\": \"v\", \"showlegend\": true, \"type\": \"scatter\", \"x\": [40.96774193548387, 28.29032258064516], \"xaxis\": \"x\", \"y\": [23.77777777777778, 52.416666666666664], \"yaxis\": \"y\"}, {\"hovertemplate\": \"<b>%{hovertext}</b><br><br>Country_name=Switzerland<br>Month=1<br>AQI=%{x}<br>AQI_20=%{y}<br>size=%{marker.size}<extra></extra>\", \"hovertext\": [\"Z\\u00fcrich\"], \"ids\": [\"Switzerland\"], \"legendgroup\": \"Switzerland\", \"marker\": {\"color\": \"#636efa\", \"size\": [1], \"sizemode\": \"area\", \"sizeref\": 0.00033057851239669424, \"symbol\": \"circle\"}, \"mode\": \"markers\", \"name\": \"Switzerland\", \"orientation\": \"v\", \"showlegend\": true, \"type\": \"scatter\", \"x\": [56.41935483870968], \"xaxis\": \"x\", \"y\": [14.758333333333335], \"yaxis\": \"y\"}, {\"hovertemplate\": \"<b>%{hovertext}</b><br><br>Country_name=Chile<br>Month=1<br>AQI=%{x}<br>AQI_20=%{y}<br>size=%{marker.size}<extra></extra>\", \"hovertext\": [\"Los \\u00c1ngeles\"], \"ids\": [\"Chile\"], \"legendgroup\": \"Chile\", \"marker\": {\"color\": \"#EF553B\", \"size\": [1], \"sizemode\": \"area\", \"sizeref\": 0.00033057851239669424, \"symbol\": \"circle\"}, \"mode\": \"markers\", \"name\": \"Chile\", \"orientation\": \"v\", \"showlegend\": true, \"type\": \"scatter\", \"x\": [14.129032258064516], \"xaxis\": \"x\", \"y\": [37.77777777777778], \"yaxis\": \"y\"}, {\"hovertemplate\": \"<b>%{hovertext}</b><br><br>Country_name=Germany<br>Month=1<br>AQI=%{x}<br>AQI_20=%{y}<br>size=%{marker.size}<extra></extra>\", \"hovertext\": [\"Berlin\"], \"ids\": [\"Germany\"], \"legendgroup\": \"Germany\", \"marker\": {\"color\": \"#00cc96\", \"size\": [1], \"sizemode\": \"area\", \"sizeref\": 0.00033057851239669424, \"symbol\": \"circle\"}, \"mode\": \"markers\", \"name\": \"Germany\", \"orientation\": \"v\", \"showlegend\": true, \"type\": \"scatter\", \"x\": [28.29032258064516], \"xaxis\": \"x\", \"y\": [44.0], \"yaxis\": \"y\"}],                        {\"legend\": {\"itemsizing\": \"constant\", \"title\": {\"text\": \"Country_name\"}, \"tracegroupgap\": 0}, \"margin\": {\"t\": 60}, \"shapes\": [{\"line\": {\"color\": \"MediumPurple\", \"dash\": \"dot\", \"width\": 4}, \"type\": \"line\", \"x0\": 0, \"x1\": 500, \"y0\": 0, \"y1\": 500}], \"sliders\": [{\"active\": 0, \"currentvalue\": {\"prefix\": \"Month=\"}, \"len\": 0.9, \"pad\": {\"b\": 10, \"t\": 60}, \"steps\": [{\"args\": [[\"1\"], {\"frame\": {\"duration\": 0, \"redraw\": false}, \"fromcurrent\": true, \"mode\": \"immediate\", \"transition\": {\"duration\": 0, \"easing\": \"linear\"}}], \"label\": \"1\", \"method\": \"animate\"}, {\"args\": [[\"2\"], {\"frame\": {\"duration\": 0, \"redraw\": false}, \"fromcurrent\": true, \"mode\": \"immediate\", \"transition\": {\"duration\": 0, \"easing\": \"linear\"}}], \"label\": \"2\", \"method\": \"animate\"}, {\"args\": [[\"3\"], {\"frame\": {\"duration\": 0, \"redraw\": false}, \"fromcurrent\": true, \"mode\": \"immediate\", \"transition\": {\"duration\": 0, \"easing\": \"linear\"}}], \"label\": \"3\", \"method\": \"animate\"}, {\"args\": [[\"4\"], {\"frame\": {\"duration\": 0, \"redraw\": false}, \"fromcurrent\": true, \"mode\": \"immediate\", \"transition\": {\"duration\": 0, \"easing\": \"linear\"}}], \"label\": \"4\", \"method\": \"animate\"}, {\"args\": [[\"5\"], {\"frame\": {\"duration\": 0, \"redraw\": false}, \"fromcurrent\": true, \"mode\": \"immediate\", \"transition\": {\"duration\": 0, \"easing\": \"linear\"}}], \"label\": \"5\", \"method\": \"animate\"}, {\"args\": [[\"6\"], {\"frame\": {\"duration\": 0, \"redraw\": false}, \"fromcurrent\": true, \"mode\": \"immediate\", \"transition\": {\"duration\": 0, \"easing\": \"linear\"}}], \"label\": \"6\", \"method\": \"animate\"}, {\"args\": [[\"7\"], {\"frame\": {\"duration\": 0, \"redraw\": false}, \"fromcurrent\": true, \"mode\": \"immediate\", \"transition\": {\"duration\": 0, \"easing\": \"linear\"}}], \"label\": \"7\", \"method\": \"animate\"}, {\"args\": [[\"8\"], {\"frame\": {\"duration\": 0, \"redraw\": false}, \"fromcurrent\": true, \"mode\": \"immediate\", \"transition\": {\"duration\": 0, \"easing\": \"linear\"}}], \"label\": \"8\", \"method\": \"animate\"}, {\"args\": [[\"9\"], {\"frame\": {\"duration\": 0, \"redraw\": false}, \"fromcurrent\": true, \"mode\": \"immediate\", \"transition\": {\"duration\": 0, \"easing\": \"linear\"}}], \"label\": \"9\", \"method\": \"animate\"}, {\"args\": [[\"10\"], {\"frame\": {\"duration\": 0, \"redraw\": false}, \"fromcurrent\": true, \"mode\": \"immediate\", \"transition\": {\"duration\": 0, \"easing\": \"linear\"}}], \"label\": \"10\", \"method\": \"animate\"}, {\"args\": [[\"11\"], {\"frame\": {\"duration\": 0, \"redraw\": false}, \"fromcurrent\": true, \"mode\": \"immediate\", \"transition\": {\"duration\": 0, \"easing\": \"linear\"}}], \"label\": \"11\", \"method\": \"animate\"}, {\"args\": [[\"12\"], {\"frame\": {\"duration\": 0, \"redraw\": false}, \"fromcurrent\": true, \"mode\": \"immediate\", \"transition\": {\"duration\": 0, \"easing\": \"linear\"}}], \"label\": \"12\", \"method\": \"animate\"}], \"x\": 0.1, \"xanchor\": \"left\", \"y\": 0, \"yanchor\": \"top\"}], \"template\": {\"data\": {\"bar\": [{\"error_x\": {\"color\": \"#2a3f5f\"}, \"error_y\": {\"color\": \"#2a3f5f\"}, \"marker\": {\"line\": {\"color\": \"#E5ECF6\", \"width\": 0.5}}, \"type\": \"bar\"}], \"barpolar\": [{\"marker\": {\"line\": {\"color\": \"#E5ECF6\", \"width\": 0.5}}, \"type\": \"barpolar\"}], \"carpet\": [{\"aaxis\": {\"endlinecolor\": \"#2a3f5f\", \"gridcolor\": \"white\", \"linecolor\": \"white\", \"minorgridcolor\": \"white\", \"startlinecolor\": \"#2a3f5f\"}, \"baxis\": {\"endlinecolor\": \"#2a3f5f\", \"gridcolor\": \"white\", \"linecolor\": \"white\", \"minorgridcolor\": \"white\", \"startlinecolor\": \"#2a3f5f\"}, \"type\": \"carpet\"}], \"choropleth\": [{\"colorbar\": {\"outlinewidth\": 0, \"ticks\": \"\"}, \"type\": \"choropleth\"}], \"contour\": [{\"colorbar\": {\"outlinewidth\": 0, \"ticks\": \"\"}, \"colorscale\": [[0.0, \"#0d0887\"], [0.1111111111111111, \"#46039f\"], [0.2222222222222222, \"#7201a8\"], [0.3333333333333333, \"#9c179e\"], [0.4444444444444444, \"#bd3786\"], [0.5555555555555556, \"#d8576b\"], [0.6666666666666666, \"#ed7953\"], [0.7777777777777778, \"#fb9f3a\"], [0.8888888888888888, \"#fdca26\"], [1.0, \"#f0f921\"]], \"type\": \"contour\"}], \"contourcarpet\": [{\"colorbar\": {\"outlinewidth\": 0, \"ticks\": \"\"}, \"type\": \"contourcarpet\"}], \"heatmap\": [{\"colorbar\": {\"outlinewidth\": 0, \"ticks\": \"\"}, \"colorscale\": [[0.0, \"#0d0887\"], [0.1111111111111111, \"#46039f\"], [0.2222222222222222, \"#7201a8\"], [0.3333333333333333, \"#9c179e\"], [0.4444444444444444, \"#bd3786\"], [0.5555555555555556, \"#d8576b\"], [0.6666666666666666, \"#ed7953\"], [0.7777777777777778, \"#fb9f3a\"], [0.8888888888888888, \"#fdca26\"], [1.0, \"#f0f921\"]], \"type\": \"heatmap\"}], \"heatmapgl\": [{\"colorbar\": {\"outlinewidth\": 0, \"ticks\": \"\"}, \"colorscale\": [[0.0, \"#0d0887\"], [0.1111111111111111, \"#46039f\"], [0.2222222222222222, \"#7201a8\"], [0.3333333333333333, \"#9c179e\"], [0.4444444444444444, \"#bd3786\"], [0.5555555555555556, \"#d8576b\"], [0.6666666666666666, \"#ed7953\"], [0.7777777777777778, \"#fb9f3a\"], [0.8888888888888888, \"#fdca26\"], [1.0, \"#f0f921\"]], \"type\": \"heatmapgl\"}], \"histogram\": [{\"marker\": {\"colorbar\": {\"outlinewidth\": 0, \"ticks\": \"\"}}, \"type\": \"histogram\"}], \"histogram2d\": [{\"colorbar\": {\"outlinewidth\": 0, \"ticks\": \"\"}, \"colorscale\": [[0.0, \"#0d0887\"], [0.1111111111111111, \"#46039f\"], [0.2222222222222222, \"#7201a8\"], [0.3333333333333333, \"#9c179e\"], [0.4444444444444444, \"#bd3786\"], [0.5555555555555556, \"#d8576b\"], [0.6666666666666666, \"#ed7953\"], [0.7777777777777778, \"#fb9f3a\"], [0.8888888888888888, \"#fdca26\"], [1.0, \"#f0f921\"]], \"type\": \"histogram2d\"}], \"histogram2dcontour\": [{\"colorbar\": {\"outlinewidth\": 0, \"ticks\": \"\"}, \"colorscale\": [[0.0, \"#0d0887\"], [0.1111111111111111, \"#46039f\"], [0.2222222222222222, \"#7201a8\"], [0.3333333333333333, \"#9c179e\"], [0.4444444444444444, \"#bd3786\"], [0.5555555555555556, \"#d8576b\"], [0.6666666666666666, \"#ed7953\"], [0.7777777777777778, \"#fb9f3a\"], [0.8888888888888888, \"#fdca26\"], [1.0, \"#f0f921\"]], \"type\": \"histogram2dcontour\"}], \"mesh3d\": [{\"colorbar\": {\"outlinewidth\": 0, \"ticks\": \"\"}, \"type\": \"mesh3d\"}], \"parcoords\": [{\"line\": {\"colorbar\": {\"outlinewidth\": 0, \"ticks\": \"\"}}, \"type\": \"parcoords\"}], \"pie\": [{\"automargin\": true, \"type\": \"pie\"}], \"scatter\": [{\"marker\": {\"colorbar\": {\"outlinewidth\": 0, \"ticks\": \"\"}}, \"type\": \"scatter\"}], \"scatter3d\": [{\"line\": {\"colorbar\": {\"outlinewidth\": 0, \"ticks\": \"\"}}, \"marker\": {\"colorbar\": {\"outlinewidth\": 0, \"ticks\": \"\"}}, \"type\": \"scatter3d\"}], \"scattercarpet\": [{\"marker\": {\"colorbar\": {\"outlinewidth\": 0, \"ticks\": \"\"}}, \"type\": \"scattercarpet\"}], \"scattergeo\": [{\"marker\": {\"colorbar\": {\"outlinewidth\": 0, \"ticks\": \"\"}}, \"type\": \"scattergeo\"}], \"scattergl\": [{\"marker\": {\"colorbar\": {\"outlinewidth\": 0, \"ticks\": \"\"}}, \"type\": \"scattergl\"}], \"scattermapbox\": [{\"marker\": {\"colorbar\": {\"outlinewidth\": 0, \"ticks\": \"\"}}, \"type\": \"scattermapbox\"}], \"scatterpolar\": [{\"marker\": {\"colorbar\": {\"outlinewidth\": 0, \"ticks\": \"\"}}, \"type\": \"scatterpolar\"}], \"scatterpolargl\": [{\"marker\": {\"colorbar\": {\"outlinewidth\": 0, \"ticks\": \"\"}}, \"type\": \"scatterpolargl\"}], \"scatterternary\": [{\"marker\": {\"colorbar\": {\"outlinewidth\": 0, \"ticks\": \"\"}}, \"type\": \"scatterternary\"}], \"surface\": [{\"colorbar\": {\"outlinewidth\": 0, \"ticks\": \"\"}, \"colorscale\": [[0.0, \"#0d0887\"], [0.1111111111111111, \"#46039f\"], [0.2222222222222222, \"#7201a8\"], [0.3333333333333333, \"#9c179e\"], [0.4444444444444444, \"#bd3786\"], [0.5555555555555556, \"#d8576b\"], [0.6666666666666666, \"#ed7953\"], [0.7777777777777778, \"#fb9f3a\"], [0.8888888888888888, \"#fdca26\"], [1.0, \"#f0f921\"]], \"type\": \"surface\"}], \"table\": [{\"cells\": {\"fill\": {\"color\": \"#EBF0F8\"}, \"line\": {\"color\": \"white\"}}, \"header\": {\"fill\": {\"color\": \"#C8D4E3\"}, \"line\": {\"color\": \"white\"}}, \"type\": \"table\"}]}, \"layout\": {\"annotationdefaults\": {\"arrowcolor\": \"#2a3f5f\", \"arrowhead\": 0, \"arrowwidth\": 1}, \"autotypenumbers\": \"strict\", \"coloraxis\": {\"colorbar\": {\"outlinewidth\": 0, \"ticks\": \"\"}}, \"colorscale\": {\"diverging\": [[0, \"#8e0152\"], [0.1, \"#c51b7d\"], [0.2, \"#de77ae\"], [0.3, \"#f1b6da\"], [0.4, \"#fde0ef\"], [0.5, \"#f7f7f7\"], [0.6, \"#e6f5d0\"], [0.7, \"#b8e186\"], [0.8, \"#7fbc41\"], [0.9, \"#4d9221\"], [1, \"#276419\"]], \"sequential\": [[0.0, \"#0d0887\"], [0.1111111111111111, \"#46039f\"], [0.2222222222222222, \"#7201a8\"], [0.3333333333333333, \"#9c179e\"], [0.4444444444444444, \"#bd3786\"], [0.5555555555555556, \"#d8576b\"], [0.6666666666666666, \"#ed7953\"], [0.7777777777777778, \"#fb9f3a\"], [0.8888888888888888, \"#fdca26\"], [1.0, \"#f0f921\"]], \"sequentialminus\": [[0.0, \"#0d0887\"], [0.1111111111111111, \"#46039f\"], [0.2222222222222222, \"#7201a8\"], [0.3333333333333333, \"#9c179e\"], [0.4444444444444444, \"#bd3786\"], [0.5555555555555556, \"#d8576b\"], [0.6666666666666666, \"#ed7953\"], [0.7777777777777778, \"#fb9f3a\"], [0.8888888888888888, \"#fdca26\"], [1.0, \"#f0f921\"]]}, \"colorway\": [\"#636efa\", \"#EF553B\", \"#00cc96\", \"#ab63fa\", \"#FFA15A\", \"#19d3f3\", \"#FF6692\", \"#B6E880\", \"#FF97FF\", \"#FECB52\"], \"font\": {\"color\": \"#2a3f5f\"}, \"geo\": {\"bgcolor\": \"white\", \"lakecolor\": \"white\", \"landcolor\": \"#E5ECF6\", \"showlakes\": true, \"showland\": true, \"subunitcolor\": \"white\"}, \"hoverlabel\": {\"align\": \"left\"}, \"hovermode\": \"closest\", \"mapbox\": {\"style\": \"light\"}, \"paper_bgcolor\": \"white\", \"plot_bgcolor\": \"#E5ECF6\", \"polar\": {\"angularaxis\": {\"gridcolor\": \"white\", \"linecolor\": \"white\", \"ticks\": \"\"}, \"bgcolor\": \"#E5ECF6\", \"radialaxis\": {\"gridcolor\": \"white\", \"linecolor\": \"white\", \"ticks\": \"\"}}, \"scene\": {\"xaxis\": {\"backgroundcolor\": \"#E5ECF6\", \"gridcolor\": \"white\", \"gridwidth\": 2, \"linecolor\": \"white\", \"showbackground\": true, \"ticks\": \"\", \"zerolinecolor\": \"white\"}, \"yaxis\": {\"backgroundcolor\": \"#E5ECF6\", \"gridcolor\": \"white\", \"gridwidth\": 2, \"linecolor\": \"white\", \"showbackground\": true, \"ticks\": \"\", \"zerolinecolor\": \"white\"}, \"zaxis\": {\"backgroundcolor\": \"#E5ECF6\", \"gridcolor\": \"white\", \"gridwidth\": 2, \"linecolor\": \"white\", \"showbackground\": true, \"ticks\": \"\", \"zerolinecolor\": \"white\"}}, \"shapedefaults\": {\"line\": {\"color\": \"#2a3f5f\"}}, \"ternary\": {\"aaxis\": {\"gridcolor\": \"white\", \"linecolor\": \"white\", \"ticks\": \"\"}, \"baxis\": {\"gridcolor\": \"white\", \"linecolor\": \"white\", \"ticks\": \"\"}, \"bgcolor\": \"#E5ECF6\", \"caxis\": {\"gridcolor\": \"white\", \"linecolor\": \"white\", \"ticks\": \"\"}}, \"title\": {\"x\": 0.05}, \"xaxis\": {\"automargin\": true, \"gridcolor\": \"white\", \"linecolor\": \"white\", \"ticks\": \"\", \"title\": {\"standoff\": 15}, \"zerolinecolor\": \"white\", \"zerolinewidth\": 2}, \"yaxis\": {\"automargin\": true, \"gridcolor\": \"white\", \"linecolor\": \"white\", \"ticks\": \"\", \"title\": {\"standoff\": 15}, \"zerolinecolor\": \"white\", \"zerolinewidth\": 2}}}, \"updatemenus\": [{\"buttons\": [{\"args\": [null, {\"frame\": {\"duration\": 500, \"redraw\": false}, \"fromcurrent\": true, \"mode\": \"immediate\", \"transition\": {\"duration\": 500, \"easing\": \"linear\"}}], \"label\": \"&#9654;\", \"method\": \"animate\"}, {\"args\": [[null], {\"frame\": {\"duration\": 0, \"redraw\": false}, \"fromcurrent\": true, \"mode\": \"immediate\", \"transition\": {\"duration\": 0, \"easing\": \"linear\"}}], \"label\": \"&#9724;\", \"method\": \"animate\"}], \"direction\": \"left\", \"pad\": {\"r\": 10, \"t\": 70}, \"showactive\": false, \"type\": \"buttons\", \"x\": 0.1, \"xanchor\": \"right\", \"y\": 0, \"yanchor\": \"top\"}], \"xaxis\": {\"anchor\": \"y\", \"domain\": [0.0, 1.0], \"range\": [0, 500], \"title\": {\"text\": \"AQI\"}}, \"yaxis\": {\"anchor\": \"x\", \"domain\": [0.0, 1.0], \"range\": [0, 500], \"title\": {\"text\": \"AQI_20\"}}},                        {\"responsive\": true}                    ).then(function(){\n",
       "                            Plotly.addFrames('1b444f12-7daf-44f3-8f68-43cca4d4c1cd', [{\"data\": [{\"hovertemplate\": \"<b>%{hovertext}</b><br><br>Country_name=Netherlands<br>Month=1<br>AQI=%{x}<br>AQI_20=%{y}<br>size=%{marker.size}<extra></extra>\", \"hovertext\": [\"Rotterdam\"], \"ids\": [\"Netherlands\"], \"legendgroup\": \"Netherlands\", \"marker\": {\"color\": \"#636efa\", \"size\": [1], \"sizemode\": \"area\", \"sizeref\": 0.00033057851239669424, \"symbol\": \"circle\"}, \"mode\": \"markers\", \"name\": \"Netherlands\", \"orientation\": \"v\", \"showlegend\": true, \"x\": [34.74193548387097], \"xaxis\": \"x\", \"y\": [51.083333333333336], \"yaxis\": \"y\", \"type\": \"scatter\"}, {\"hovertemplate\": \"<b>%{hovertext}</b><br><br>Country_name=United States<br>Month=1<br>AQI=%{x}<br>AQI_20=%{y}<br>size=%{marker.size}<extra></extra>\", \"hovertext\": [\"San Francisco\"], \"ids\": [\"United States\"], \"legendgroup\": \"United States\", \"marker\": {\"color\": \"#EF553B\", \"size\": [1], \"sizemode\": \"area\", \"sizeref\": 0.00033057851239669424, \"symbol\": \"circle\"}, \"mode\": \"markers\", \"name\": \"United States\", \"orientation\": \"v\", \"showlegend\": true, \"x\": [50.193548387096776], \"xaxis\": \"x\", \"y\": [29.0], \"yaxis\": \"y\", \"type\": \"scatter\"}, {\"hovertemplate\": \"<b>%{hovertext}</b><br><br>Country_name=France<br>Month=1<br>AQI=%{x}<br>AQI_20=%{y}<br>size=%{marker.size}<extra></extra>\", \"hovertext\": [\"Paris\"], \"ids\": [\"France\"], \"legendgroup\": \"France\", \"marker\": {\"color\": \"#00cc96\", \"size\": [1], \"sizemode\": \"area\", \"sizeref\": 0.00033057851239669424, \"symbol\": \"circle\"}, \"mode\": \"markers\", \"name\": \"France\", \"orientation\": \"v\", \"showlegend\": true, \"x\": [49.806451612903224], \"xaxis\": \"x\", \"y\": [52.583333333333336], \"yaxis\": \"y\", \"type\": \"scatter\"}, {\"hovertemplate\": \"<b>%{hovertext}</b><br><br>Country_name=Japan<br>Month=1<br>AQI=%{x}<br>AQI_20=%{y}<br>size=%{marker.size}<extra></extra>\", \"hovertext\": [\"Tokyo\"], \"ids\": [\"Japan\"], \"legendgroup\": \"Japan\", \"marker\": {\"color\": \"#ab63fa\", \"size\": [1], \"sizemode\": \"area\", \"sizeref\": 0.00033057851239669424, \"symbol\": \"circle\"}, \"mode\": \"markers\", \"name\": \"Japan\", \"orientation\": \"v\", \"showlegend\": true, \"x\": [252.1290322580645], \"xaxis\": \"x\", \"y\": [35.77777777777778], \"yaxis\": \"y\", \"type\": \"scatter\"}, {\"hovertemplate\": \"<b>%{hovertext}</b><br><br>Country_name=Israel<br>Month=1<br>AQI=%{x}<br>AQI_20=%{y}<br>size=%{marker.size}<extra></extra>\", \"hovertext\": [\"Jerusalem\"], \"ids\": [\"Israel\"], \"legendgroup\": \"Israel\", \"marker\": {\"color\": \"#FFA15A\", \"size\": [1], \"sizemode\": \"area\", \"sizeref\": 0.00033057851239669424, \"symbol\": \"circle\"}, \"mode\": \"markers\", \"name\": \"Israel\", \"orientation\": \"v\", \"showlegend\": true, \"x\": [69.12903225806451], \"xaxis\": \"x\", \"y\": [47.61764705882353], \"yaxis\": \"y\", \"type\": \"scatter\"}, {\"hovertemplate\": \"<b>%{hovertext}</b><br><br>Country_name=India<br>Month=1<br>AQI=%{x}<br>AQI_20=%{y}<br>size=%{marker.size}<extra></extra>\", \"hovertext\": [\"Delhi\"], \"ids\": [\"India\"], \"legendgroup\": \"India\", \"marker\": {\"color\": \"#19d3f3\", \"size\": [1], \"sizemode\": \"area\", \"sizeref\": 0.00033057851239669424, \"symbol\": \"circle\"}, \"mode\": \"markers\", \"name\": \"India\", \"orientation\": \"v\", \"showlegend\": true, \"x\": [33.714285714285715], \"xaxis\": \"x\", \"y\": [226.80555555555554], \"yaxis\": \"y\", \"type\": \"scatter\"}, {\"hovertemplate\": \"<b>%{hovertext}</b><br><br>Country_name=Australia<br>Month=1<br>AQI=%{x}<br>AQI_20=%{y}<br>size=%{marker.size}<extra></extra>\", \"hovertext\": [\"Melbourne\"], \"ids\": [\"Australia\"], \"legendgroup\": \"Australia\", \"marker\": {\"color\": \"#FF6692\", \"size\": [1], \"sizemode\": \"area\", \"sizeref\": 0.00033057851239669424, \"symbol\": \"circle\"}, \"mode\": \"markers\", \"name\": \"Australia\", \"orientation\": \"v\", \"showlegend\": true, \"x\": [129.06451612903226], \"xaxis\": \"x\", \"y\": [55.666666666666664], \"yaxis\": \"y\", \"type\": \"scatter\"}, {\"hovertemplate\": \"<b>%{hovertext}</b><br><br>Country_name=Thailand<br>Month=1<br>AQI=%{x}<br>AQI_20=%{y}<br>size=%{marker.size}<extra></extra>\", \"hovertext\": [\"Bangkok\"], \"ids\": [\"Thailand\"], \"legendgroup\": \"Thailand\", \"marker\": {\"color\": \"#B6E880\", \"size\": [1], \"sizemode\": \"area\", \"sizeref\": 0.00033057851239669424, \"symbol\": \"circle\"}, \"mode\": \"markers\", \"name\": \"Thailand\", \"orientation\": \"v\", \"showlegend\": true, \"x\": [50.516129032258064], \"xaxis\": \"x\", \"y\": [111.55555555555556], \"yaxis\": \"y\", \"type\": \"scatter\"}, {\"hovertemplate\": \"<b>%{hovertext}</b><br><br>Country_name=Argentina<br>Month=1<br>AQI=%{x}<br>AQI_20=%{y}<br>size=%{marker.size}<extra></extra>\", \"hovertext\": [\"Buenos Aires\"], \"ids\": [\"Argentina\"], \"legendgroup\": \"Argentina\", \"marker\": {\"color\": \"#FF97FF\", \"size\": [1], \"sizemode\": \"area\", \"sizeref\": 0.00033057851239669424, \"symbol\": \"circle\"}, \"mode\": \"markers\", \"name\": \"Argentina\", \"orientation\": \"v\", \"showlegend\": true, \"x\": [19.633333333333333], \"xaxis\": \"x\", \"y\": [36.05882352941177], \"yaxis\": \"y\", \"type\": \"scatter\"}, {\"hovertemplate\": \"<b>%{hovertext}</b><br><br>Country_name=Spain<br>Month=1<br>AQI=%{x}<br>AQI_20=%{y}<br>size=%{marker.size}<extra></extra>\", \"hovertext\": [\"Barcelona\", \"Madrid\"], \"ids\": [\"Spain\", \"Spain\"], \"legendgroup\": \"Spain\", \"marker\": {\"color\": \"#FECB52\", \"size\": [1, 1], \"sizemode\": \"area\", \"sizeref\": 0.00033057851239669424, \"symbol\": \"circle\"}, \"mode\": \"markers\", \"name\": \"Spain\", \"orientation\": \"v\", \"showlegend\": true, \"x\": [40.96774193548387, 28.29032258064516], \"xaxis\": \"x\", \"y\": [23.77777777777778, 52.416666666666664], \"yaxis\": \"y\", \"type\": \"scatter\"}, {\"hovertemplate\": \"<b>%{hovertext}</b><br><br>Country_name=Switzerland<br>Month=1<br>AQI=%{x}<br>AQI_20=%{y}<br>size=%{marker.size}<extra></extra>\", \"hovertext\": [\"Z\\u00fcrich\"], \"ids\": [\"Switzerland\"], \"legendgroup\": \"Switzerland\", \"marker\": {\"color\": \"#636efa\", \"size\": [1], \"sizemode\": \"area\", \"sizeref\": 0.00033057851239669424, \"symbol\": \"circle\"}, \"mode\": \"markers\", \"name\": \"Switzerland\", \"orientation\": \"v\", \"showlegend\": true, \"x\": [56.41935483870968], \"xaxis\": \"x\", \"y\": [14.758333333333335], \"yaxis\": \"y\", \"type\": \"scatter\"}, {\"hovertemplate\": \"<b>%{hovertext}</b><br><br>Country_name=Chile<br>Month=1<br>AQI=%{x}<br>AQI_20=%{y}<br>size=%{marker.size}<extra></extra>\", \"hovertext\": [\"Los \\u00c1ngeles\"], \"ids\": [\"Chile\"], \"legendgroup\": \"Chile\", \"marker\": {\"color\": \"#EF553B\", \"size\": [1], \"sizemode\": \"area\", \"sizeref\": 0.00033057851239669424, \"symbol\": \"circle\"}, \"mode\": \"markers\", \"name\": \"Chile\", \"orientation\": \"v\", \"showlegend\": true, \"x\": [14.129032258064516], \"xaxis\": \"x\", \"y\": [37.77777777777778], \"yaxis\": \"y\", \"type\": \"scatter\"}, {\"hovertemplate\": \"<b>%{hovertext}</b><br><br>Country_name=Germany<br>Month=1<br>AQI=%{x}<br>AQI_20=%{y}<br>size=%{marker.size}<extra></extra>\", \"hovertext\": [\"Berlin\"], \"ids\": [\"Germany\"], \"legendgroup\": \"Germany\", \"marker\": {\"color\": \"#00cc96\", \"size\": [1], \"sizemode\": \"area\", \"sizeref\": 0.00033057851239669424, \"symbol\": \"circle\"}, \"mode\": \"markers\", \"name\": \"Germany\", \"orientation\": \"v\", \"showlegend\": true, \"x\": [28.29032258064516], \"xaxis\": \"x\", \"y\": [44.0], \"yaxis\": \"y\", \"type\": \"scatter\"}], \"name\": \"1\"}, {\"data\": [{\"hovertemplate\": \"<b>%{hovertext}</b><br><br>Country_name=Netherlands<br>Month=2<br>AQI=%{x}<br>AQI_20=%{y}<br>size=%{marker.size}<extra></extra>\", \"hovertext\": [\"Rotterdam\"], \"ids\": [\"Netherlands\"], \"legendgroup\": \"Netherlands\", \"marker\": {\"color\": \"#636efa\", \"size\": [1], \"sizemode\": \"area\", \"sizeref\": 0.00033057851239669424, \"symbol\": \"circle\"}, \"mode\": \"markers\", \"name\": \"Netherlands\", \"orientation\": \"v\", \"showlegend\": true, \"x\": [26.535714285714285], \"xaxis\": \"x\", \"y\": [34.62068965517241], \"yaxis\": \"y\", \"type\": \"scatter\"}, {\"hovertemplate\": \"<b>%{hovertext}</b><br><br>Country_name=United States<br>Month=2<br>AQI=%{x}<br>AQI_20=%{y}<br>size=%{marker.size}<extra></extra>\", \"hovertext\": [\"San Francisco\"], \"ids\": [\"United States\"], \"legendgroup\": \"United States\", \"marker\": {\"color\": \"#EF553B\", \"size\": [1], \"sizemode\": \"area\", \"sizeref\": 0.00033057851239669424, \"symbol\": \"circle\"}, \"mode\": \"markers\", \"name\": \"United States\", \"orientation\": \"v\", \"showlegend\": true, \"x\": [48.75], \"xaxis\": \"x\", \"y\": [33.86206896551724], \"yaxis\": \"y\", \"type\": \"scatter\"}, {\"hovertemplate\": \"<b>%{hovertext}</b><br><br>Country_name=France<br>Month=2<br>AQI=%{x}<br>AQI_20=%{y}<br>size=%{marker.size}<extra></extra>\", \"hovertext\": [\"Paris\"], \"ids\": [\"France\"], \"legendgroup\": \"France\", \"marker\": {\"color\": \"#00cc96\", \"size\": [1], \"sizemode\": \"area\", \"sizeref\": 0.00033057851239669424, \"symbol\": \"circle\"}, \"mode\": \"markers\", \"name\": \"France\", \"orientation\": \"v\", \"showlegend\": true, \"x\": [28.321428571428573], \"xaxis\": \"x\", \"y\": [32.96551724137931], \"yaxis\": \"y\", \"type\": \"scatter\"}, {\"hovertemplate\": \"<b>%{hovertext}</b><br><br>Country_name=Japan<br>Month=2<br>AQI=%{x}<br>AQI_20=%{y}<br>size=%{marker.size}<extra></extra>\", \"hovertext\": [\"Tokyo\"], \"ids\": [\"Japan\"], \"legendgroup\": \"Japan\", \"marker\": {\"color\": \"#ab63fa\", \"size\": [1], \"sizemode\": \"area\", \"sizeref\": 0.00033057851239669424, \"symbol\": \"circle\"}, \"mode\": \"markers\", \"name\": \"Japan\", \"orientation\": \"v\", \"showlegend\": true, \"x\": [70.10714285714286], \"xaxis\": \"x\", \"y\": [40.6551724137931], \"yaxis\": \"y\", \"type\": \"scatter\"}, {\"hovertemplate\": \"<b>%{hovertext}</b><br><br>Country_name=Israel<br>Month=2<br>AQI=%{x}<br>AQI_20=%{y}<br>size=%{marker.size}<extra></extra>\", \"hovertext\": [\"Jerusalem\"], \"ids\": [\"Israel\"], \"legendgroup\": \"Israel\", \"marker\": {\"color\": \"#FFA15A\", \"size\": [1], \"sizemode\": \"area\", \"sizeref\": 0.00033057851239669424, \"symbol\": \"circle\"}, \"mode\": \"markers\", \"name\": \"Israel\", \"orientation\": \"v\", \"showlegend\": true, \"x\": [60.285714285714285], \"xaxis\": \"x\", \"y\": [53.241379310344826], \"yaxis\": \"y\", \"type\": \"scatter\"}, {\"hovertemplate\": \"<b>%{hovertext}</b><br><br>Country_name=India<br>Month=2<br>AQI=%{x}<br>AQI_20=%{y}<br>size=%{marker.size}<extra></extra>\", \"hovertext\": [\"Delhi\"], \"ids\": [\"India\"], \"legendgroup\": \"India\", \"marker\": {\"color\": \"#19d3f3\", \"size\": [1], \"sizemode\": \"area\", \"sizeref\": 0.00033057851239669424, \"symbol\": \"circle\"}, \"mode\": \"markers\", \"name\": \"India\", \"orientation\": \"v\", \"showlegend\": true, \"x\": [184.85714285714286], \"xaxis\": \"x\", \"y\": [181.06896551724137], \"yaxis\": \"y\", \"type\": \"scatter\"}, {\"hovertemplate\": \"<b>%{hovertext}</b><br><br>Country_name=Australia<br>Month=2<br>AQI=%{x}<br>AQI_20=%{y}<br>size=%{marker.size}<extra></extra>\", \"hovertext\": [\"Melbourne\"], \"ids\": [\"Australia\"], \"legendgroup\": \"Australia\", \"marker\": {\"color\": \"#FF6692\", \"size\": [1], \"sizemode\": \"area\", \"sizeref\": 0.00033057851239669424, \"symbol\": \"circle\"}, \"mode\": \"markers\", \"name\": \"Australia\", \"orientation\": \"v\", \"showlegend\": true, \"x\": [54.67857142857143], \"xaxis\": \"x\", \"y\": [28.20689655172414], \"yaxis\": \"y\", \"type\": \"scatter\"}, {\"hovertemplate\": \"<b>%{hovertext}</b><br><br>Country_name=Thailand<br>Month=2<br>AQI=%{x}<br>AQI_20=%{y}<br>size=%{marker.size}<extra></extra>\", \"hovertext\": [\"Bangkok\"], \"ids\": [\"Thailand\"], \"legendgroup\": \"Thailand\", \"marker\": {\"color\": \"#B6E880\", \"size\": [1], \"sizemode\": \"area\", \"sizeref\": 0.00033057851239669424, \"symbol\": \"circle\"}, \"mode\": \"markers\", \"name\": \"Thailand\", \"orientation\": \"v\", \"showlegend\": true, \"x\": [51.285714285714285], \"xaxis\": \"x\", \"y\": [113.41379310344827], \"yaxis\": \"y\", \"type\": \"scatter\"}, {\"hovertemplate\": \"<b>%{hovertext}</b><br><br>Country_name=Argentina<br>Month=2<br>AQI=%{x}<br>AQI_20=%{y}<br>size=%{marker.size}<extra></extra>\", \"hovertext\": [\"Buenos Aires\"], \"ids\": [\"Argentina\"], \"legendgroup\": \"Argentina\", \"marker\": {\"color\": \"#FF97FF\", \"size\": [1], \"sizemode\": \"area\", \"sizeref\": 0.00033057851239669424, \"symbol\": \"circle\"}, \"mode\": \"markers\", \"name\": \"Argentina\", \"orientation\": \"v\", \"showlegend\": true, \"x\": [65.60714285714286], \"xaxis\": \"x\", \"y\": [34.724137931034484], \"yaxis\": \"y\", \"type\": \"scatter\"}, {\"hovertemplate\": \"<b>%{hovertext}</b><br><br>Country_name=Spain<br>Month=2<br>AQI=%{x}<br>AQI_20=%{y}<br>size=%{marker.size}<extra></extra>\", \"hovertext\": [\"Madrid\", \"Barcelona\"], \"ids\": [\"Spain\", \"Spain\"], \"legendgroup\": \"Spain\", \"marker\": {\"color\": \"#FECB52\", \"size\": [1, 1], \"sizemode\": \"area\", \"sizeref\": 0.00033057851239669424, \"symbol\": \"circle\"}, \"mode\": \"markers\", \"name\": \"Spain\", \"orientation\": \"v\", \"showlegend\": true, \"x\": [17.892857142857142, 70.03571428571429], \"xaxis\": \"x\", \"y\": [54.206896551724135, 26.06896551724138], \"yaxis\": \"y\", \"type\": \"scatter\"}, {\"hovertemplate\": \"<b>%{hovertext}</b><br><br>Country_name=Switzerland<br>Month=2<br>AQI=%{x}<br>AQI_20=%{y}<br>size=%{marker.size}<extra></extra>\", \"hovertext\": [\"Z\\u00fcrich\"], \"ids\": [\"Switzerland\"], \"legendgroup\": \"Switzerland\", \"marker\": {\"color\": \"#636efa\", \"size\": [1], \"sizemode\": \"area\", \"sizeref\": 0.00033057851239669424, \"symbol\": \"circle\"}, \"mode\": \"markers\", \"name\": \"Switzerland\", \"orientation\": \"v\", \"showlegend\": true, \"x\": [25.0], \"xaxis\": \"x\", \"y\": [20.38620689655172], \"yaxis\": \"y\", \"type\": \"scatter\"}, {\"hovertemplate\": \"<b>%{hovertext}</b><br><br>Country_name=Chile<br>Month=2<br>AQI=%{x}<br>AQI_20=%{y}<br>size=%{marker.size}<extra></extra>\", \"hovertext\": [\"Los \\u00c1ngeles\"], \"ids\": [\"Chile\"], \"legendgroup\": \"Chile\", \"marker\": {\"color\": \"#EF553B\", \"size\": [1], \"sizemode\": \"area\", \"sizeref\": 0.00033057851239669424, \"symbol\": \"circle\"}, \"mode\": \"markers\", \"name\": \"Chile\", \"orientation\": \"v\", \"showlegend\": true, \"x\": [38.04545454545455], \"xaxis\": \"x\", \"y\": [30.20689655172414], \"yaxis\": \"y\", \"type\": \"scatter\"}, {\"hovertemplate\": \"<b>%{hovertext}</b><br><br>Country_name=Germany<br>Month=2<br>AQI=%{x}<br>AQI_20=%{y}<br>size=%{marker.size}<extra></extra>\", \"hovertext\": [\"Berlin\"], \"ids\": [\"Germany\"], \"legendgroup\": \"Germany\", \"marker\": {\"color\": \"#00cc96\", \"size\": [1], \"sizemode\": \"area\", \"sizeref\": 0.00033057851239669424, \"symbol\": \"circle\"}, \"mode\": \"markers\", \"name\": \"Germany\", \"orientation\": \"v\", \"showlegend\": true, \"x\": [77.21428571428571], \"xaxis\": \"x\", \"y\": [27.448275862068964], \"yaxis\": \"y\", \"type\": \"scatter\"}], \"name\": \"2\"}, {\"data\": [{\"hovertemplate\": \"<b>%{hovertext}</b><br><br>Country_name=Netherlands<br>Month=3<br>AQI=%{x}<br>AQI_20=%{y}<br>size=%{marker.size}<extra></extra>\", \"hovertext\": [\"Rotterdam\"], \"ids\": [\"Netherlands\"], \"legendgroup\": \"Netherlands\", \"marker\": {\"color\": \"#636efa\", \"size\": [1], \"sizemode\": \"area\", \"sizeref\": 0.00033057851239669424, \"symbol\": \"circle\"}, \"mode\": \"markers\", \"name\": \"Netherlands\", \"orientation\": \"v\", \"showlegend\": true, \"x\": [27.580645161290324], \"xaxis\": \"x\", \"y\": [37.696969696969695], \"yaxis\": \"y\", \"type\": \"scatter\"}, {\"hovertemplate\": \"<b>%{hovertext}</b><br><br>Country_name=United States<br>Month=3<br>AQI=%{x}<br>AQI_20=%{y}<br>size=%{marker.size}<extra></extra>\", \"hovertext\": [\"San Francisco\"], \"ids\": [\"United States\"], \"legendgroup\": \"United States\", \"marker\": {\"color\": \"#EF553B\", \"size\": [1], \"sizemode\": \"area\", \"sizeref\": 0.00033057851239669424, \"symbol\": \"circle\"}, \"mode\": \"markers\", \"name\": \"United States\", \"orientation\": \"v\", \"showlegend\": true, \"x\": [23.78709677419355], \"xaxis\": \"x\", \"y\": [25.884848484848487], \"yaxis\": \"y\", \"type\": \"scatter\"}, {\"hovertemplate\": \"<b>%{hovertext}</b><br><br>Country_name=France<br>Month=3<br>AQI=%{x}<br>AQI_20=%{y}<br>size=%{marker.size}<extra></extra>\", \"hovertext\": [\"Paris\"], \"ids\": [\"France\"], \"legendgroup\": \"France\", \"marker\": {\"color\": \"#00cc96\", \"size\": [1], \"sizemode\": \"area\", \"sizeref\": 0.00033057851239669424, \"symbol\": \"circle\"}, \"mode\": \"markers\", \"name\": \"France\", \"orientation\": \"v\", \"showlegend\": true, \"x\": [54.516129032258064], \"xaxis\": \"x\", \"y\": [45.666666666666664], \"yaxis\": \"y\", \"type\": \"scatter\"}, {\"hovertemplate\": \"<b>%{hovertext}</b><br><br>Country_name=Japan<br>Month=3<br>AQI=%{x}<br>AQI_20=%{y}<br>size=%{marker.size}<extra></extra>\", \"hovertext\": [\"Tokyo\"], \"ids\": [\"Japan\"], \"legendgroup\": \"Japan\", \"marker\": {\"color\": \"#ab63fa\", \"size\": [1], \"sizemode\": \"area\", \"sizeref\": 0.00033057851239669424, \"symbol\": \"circle\"}, \"mode\": \"markers\", \"name\": \"Japan\", \"orientation\": \"v\", \"showlegend\": true, \"x\": [44.516129032258064], \"xaxis\": \"x\", \"y\": [38.63636363636363], \"yaxis\": \"y\", \"type\": \"scatter\"}, {\"hovertemplate\": \"<b>%{hovertext}</b><br><br>Country_name=Israel<br>Month=3<br>AQI=%{x}<br>AQI_20=%{y}<br>size=%{marker.size}<extra></extra>\", \"hovertext\": [\"Jerusalem\"], \"ids\": [\"Israel\"], \"legendgroup\": \"Israel\", \"marker\": {\"color\": \"#FFA15A\", \"size\": [1], \"sizemode\": \"area\", \"sizeref\": 0.00033057851239669424, \"symbol\": \"circle\"}, \"mode\": \"markers\", \"name\": \"Israel\", \"orientation\": \"v\", \"showlegend\": true, \"x\": [37.516129032258064], \"xaxis\": \"x\", \"y\": [60.24242424242424], \"yaxis\": \"y\", \"type\": \"scatter\"}, {\"hovertemplate\": \"<b>%{hovertext}</b><br><br>Country_name=India<br>Month=3<br>AQI=%{x}<br>AQI_20=%{y}<br>size=%{marker.size}<extra></extra>\", \"hovertext\": [\"Delhi\"], \"ids\": [\"India\"], \"legendgroup\": \"India\", \"marker\": {\"color\": \"#19d3f3\", \"size\": [1], \"sizemode\": \"area\", \"sizeref\": 0.00033057851239669424, \"symbol\": \"circle\"}, \"mode\": \"markers\", \"name\": \"India\", \"orientation\": \"v\", \"showlegend\": true, \"x\": [26.75483870967742], \"xaxis\": \"x\", \"y\": [123.78787878787878], \"yaxis\": \"y\", \"type\": \"scatter\"}, {\"hovertemplate\": \"<b>%{hovertext}</b><br><br>Country_name=Australia<br>Month=3<br>AQI=%{x}<br>AQI_20=%{y}<br>size=%{marker.size}<extra></extra>\", \"hovertext\": [\"Melbourne\"], \"ids\": [\"Australia\"], \"legendgroup\": \"Australia\", \"marker\": {\"color\": \"#FF6692\", \"size\": [1], \"sizemode\": \"area\", \"sizeref\": 0.00033057851239669424, \"symbol\": \"circle\"}, \"mode\": \"markers\", \"name\": \"Australia\", \"orientation\": \"v\", \"showlegend\": true, \"x\": [34.0], \"xaxis\": \"x\", \"y\": [19.09090909090909], \"yaxis\": \"y\", \"type\": \"scatter\"}, {\"hovertemplate\": \"<b>%{hovertext}</b><br><br>Country_name=Thailand<br>Month=3<br>AQI=%{x}<br>AQI_20=%{y}<br>size=%{marker.size}<extra></extra>\", \"hovertext\": [\"Bangkok\"], \"ids\": [\"Thailand\"], \"legendgroup\": \"Thailand\", \"marker\": {\"color\": \"#B6E880\", \"size\": [1], \"sizemode\": \"area\", \"sizeref\": 0.00033057851239669424, \"symbol\": \"circle\"}, \"mode\": \"markers\", \"name\": \"Thailand\", \"orientation\": \"v\", \"showlegend\": true, \"x\": [80.06451612903226], \"xaxis\": \"x\", \"y\": [71.96969696969697], \"yaxis\": \"y\", \"type\": \"scatter\"}, {\"hovertemplate\": \"<b>%{hovertext}</b><br><br>Country_name=Argentina<br>Month=3<br>AQI=%{x}<br>AQI_20=%{y}<br>size=%{marker.size}<extra></extra>\", \"hovertext\": [\"Buenos Aires\"], \"ids\": [\"Argentina\"], \"legendgroup\": \"Argentina\", \"marker\": {\"color\": \"#FF97FF\", \"size\": [1], \"sizemode\": \"area\", \"sizeref\": 0.00033057851239669424, \"symbol\": \"circle\"}, \"mode\": \"markers\", \"name\": \"Argentina\", \"orientation\": \"v\", \"showlegend\": true, \"x\": [50.16129032258065], \"xaxis\": \"x\", \"y\": [31.151515151515152], \"yaxis\": \"y\", \"type\": \"scatter\"}, {\"hovertemplate\": \"<b>%{hovertext}</b><br><br>Country_name=Spain<br>Month=3<br>AQI=%{x}<br>AQI_20=%{y}<br>size=%{marker.size}<extra></extra>\", \"hovertext\": [\"Madrid\", \"Barcelona\"], \"ids\": [\"Spain\", \"Spain\"], \"legendgroup\": \"Spain\", \"marker\": {\"color\": \"#FECB52\", \"size\": [1, 1], \"sizemode\": \"area\", \"sizeref\": 0.00033057851239669424, \"symbol\": \"circle\"}, \"mode\": \"markers\", \"name\": \"Spain\", \"orientation\": \"v\", \"showlegend\": true, \"x\": [159.32258064516128, 49.29032258064516], \"xaxis\": \"x\", \"y\": [31.12121212121212, 24.69090909090909], \"yaxis\": \"y\", \"type\": \"scatter\"}, {\"hovertemplate\": \"<b>%{hovertext}</b><br><br>Country_name=Switzerland<br>Month=3<br>AQI=%{x}<br>AQI_20=%{y}<br>size=%{marker.size}<extra></extra>\", \"hovertext\": [\"Z\\u00fcrich\"], \"ids\": [\"Switzerland\"], \"legendgroup\": \"Switzerland\", \"marker\": {\"color\": \"#636efa\", \"size\": [1], \"sizemode\": \"area\", \"sizeref\": 0.00033057851239669424, \"symbol\": \"circle\"}, \"mode\": \"markers\", \"name\": \"Switzerland\", \"orientation\": \"v\", \"showlegend\": true, \"x\": [46.935483870967744], \"xaxis\": \"x\", \"y\": [20.145454545454545], \"yaxis\": \"y\", \"type\": \"scatter\"}, {\"hovertemplate\": \"<b>%{hovertext}</b><br><br>Country_name=Chile<br>Month=3<br>AQI=%{x}<br>AQI_20=%{y}<br>size=%{marker.size}<extra></extra>\", \"hovertext\": [\"Los \\u00c1ngeles\"], \"ids\": [\"Chile\"], \"legendgroup\": \"Chile\", \"marker\": {\"color\": \"#EF553B\", \"size\": [1], \"sizemode\": \"area\", \"sizeref\": 0.00033057851239669424, \"symbol\": \"circle\"}, \"mode\": \"markers\", \"name\": \"Chile\", \"orientation\": \"v\", \"showlegend\": true, \"x\": [29.7], \"xaxis\": \"x\", \"y\": [37.09090909090909], \"yaxis\": \"y\", \"type\": \"scatter\"}, {\"hovertemplate\": \"<b>%{hovertext}</b><br><br>Country_name=Germany<br>Month=3<br>AQI=%{x}<br>AQI_20=%{y}<br>size=%{marker.size}<extra></extra>\", \"hovertext\": [\"Berlin\"], \"ids\": [\"Germany\"], \"legendgroup\": \"Germany\", \"marker\": {\"color\": \"#00cc96\", \"size\": [1], \"sizemode\": \"area\", \"sizeref\": 0.00033057851239669424, \"symbol\": \"circle\"}, \"mode\": \"markers\", \"name\": \"Germany\", \"orientation\": \"v\", \"showlegend\": true, \"x\": [52.483870967741936], \"xaxis\": \"x\", \"y\": [42.54545454545455], \"yaxis\": \"y\", \"type\": \"scatter\"}], \"name\": \"3\"}, {\"data\": [{\"hovertemplate\": \"<b>%{hovertext}</b><br><br>Country_name=Netherlands<br>Month=4<br>AQI=%{x}<br>AQI_20=%{y}<br>size=%{marker.size}<extra></extra>\", \"hovertext\": [\"Rotterdam\"], \"ids\": [\"Netherlands\"], \"legendgroup\": \"Netherlands\", \"marker\": {\"color\": \"#636efa\", \"size\": [1], \"sizemode\": \"area\", \"sizeref\": 0.00033057851239669424, \"symbol\": \"circle\"}, \"mode\": \"markers\", \"name\": \"Netherlands\", \"orientation\": \"v\", \"showlegend\": true, \"x\": [81.82758620689656], \"xaxis\": \"x\", \"y\": [43.51428571428571], \"yaxis\": \"y\", \"type\": \"scatter\"}, {\"hovertemplate\": \"<b>%{hovertext}</b><br><br>Country_name=United States<br>Month=4<br>AQI=%{x}<br>AQI_20=%{y}<br>size=%{marker.size}<extra></extra>\", \"hovertext\": [\"San Francisco\"], \"ids\": [\"United States\"], \"legendgroup\": \"United States\", \"marker\": {\"color\": \"#EF553B\", \"size\": [1], \"sizemode\": \"area\", \"sizeref\": 0.00033057851239669424, \"symbol\": \"circle\"}, \"mode\": \"markers\", \"name\": \"United States\", \"orientation\": \"v\", \"showlegend\": true, \"x\": [27.84827586206896], \"xaxis\": \"x\", \"y\": [24.991428571428568], \"yaxis\": \"y\", \"type\": \"scatter\"}, {\"hovertemplate\": \"<b>%{hovertext}</b><br><br>Country_name=France<br>Month=4<br>AQI=%{x}<br>AQI_20=%{y}<br>size=%{marker.size}<extra></extra>\", \"hovertext\": [\"Paris\"], \"ids\": [\"France\"], \"legendgroup\": \"France\", \"marker\": {\"color\": \"#00cc96\", \"size\": [1], \"sizemode\": \"area\", \"sizeref\": 0.00033057851239669424, \"symbol\": \"circle\"}, \"mode\": \"markers\", \"name\": \"France\", \"orientation\": \"v\", \"showlegend\": true, \"x\": [67.46666666666667], \"xaxis\": \"x\", \"y\": [49.97142857142857], \"yaxis\": \"y\", \"type\": \"scatter\"}, {\"hovertemplate\": \"<b>%{hovertext}</b><br><br>Country_name=Japan<br>Month=4<br>AQI=%{x}<br>AQI_20=%{y}<br>size=%{marker.size}<extra></extra>\", \"hovertext\": [\"Tokyo\"], \"ids\": [\"Japan\"], \"legendgroup\": \"Japan\", \"marker\": {\"color\": \"#ab63fa\", \"size\": [1], \"sizemode\": \"area\", \"sizeref\": 0.00033057851239669424, \"symbol\": \"circle\"}, \"mode\": \"markers\", \"name\": \"Japan\", \"orientation\": \"v\", \"showlegend\": true, \"x\": [56.833333333333336], \"xaxis\": \"x\", \"y\": [38.8], \"yaxis\": \"y\", \"type\": \"scatter\"}, {\"hovertemplate\": \"<b>%{hovertext}</b><br><br>Country_name=Israel<br>Month=4<br>AQI=%{x}<br>AQI_20=%{y}<br>size=%{marker.size}<extra></extra>\", \"hovertext\": [\"Jerusalem\"], \"ids\": [\"Israel\"], \"legendgroup\": \"Israel\", \"marker\": {\"color\": \"#FFA15A\", \"size\": [1], \"sizemode\": \"area\", \"sizeref\": 0.00033057851239669424, \"symbol\": \"circle\"}, \"mode\": \"markers\", \"name\": \"Israel\", \"orientation\": \"v\", \"showlegend\": true, \"x\": [58.607142857142854], \"xaxis\": \"x\", \"y\": [53.542857142857144], \"yaxis\": \"y\", \"type\": \"scatter\"}, {\"hovertemplate\": \"<b>%{hovertext}</b><br><br>Country_name=India<br>Month=4<br>AQI=%{x}<br>AQI_20=%{y}<br>size=%{marker.size}<extra></extra>\", \"hovertext\": [\"Delhi\"], \"ids\": [\"India\"], \"legendgroup\": \"India\", \"marker\": {\"color\": \"#19d3f3\", \"size\": [1], \"sizemode\": \"area\", \"sizeref\": 0.00033057851239669424, \"symbol\": \"circle\"}, \"mode\": \"markers\", \"name\": \"India\", \"orientation\": \"v\", \"showlegend\": true, \"x\": [32.06666666666667], \"xaxis\": \"x\", \"y\": [107.88571428571429], \"yaxis\": \"y\", \"type\": \"scatter\"}, {\"hovertemplate\": \"<b>%{hovertext}</b><br><br>Country_name=Australia<br>Month=4<br>AQI=%{x}<br>AQI_20=%{y}<br>size=%{marker.size}<extra></extra>\", \"hovertext\": [\"Melbourne\"], \"ids\": [\"Australia\"], \"legendgroup\": \"Australia\", \"marker\": {\"color\": \"#FF6692\", \"size\": [1], \"sizemode\": \"area\", \"sizeref\": 0.00033057851239669424, \"symbol\": \"circle\"}, \"mode\": \"markers\", \"name\": \"Australia\", \"orientation\": \"v\", \"showlegend\": true, \"x\": [57.03333333333333], \"xaxis\": \"x\", \"y\": [23.62857142857143], \"yaxis\": \"y\", \"type\": \"scatter\"}, {\"hovertemplate\": \"<b>%{hovertext}</b><br><br>Country_name=Thailand<br>Month=4<br>AQI=%{x}<br>AQI_20=%{y}<br>size=%{marker.size}<extra></extra>\", \"hovertext\": [\"Bangkok\"], \"ids\": [\"Thailand\"], \"legendgroup\": \"Thailand\", \"marker\": {\"color\": \"#B6E880\", \"size\": [1], \"sizemode\": \"area\", \"sizeref\": 0.00033057851239669424, \"symbol\": \"circle\"}, \"mode\": \"markers\", \"name\": \"Thailand\", \"orientation\": \"v\", \"showlegend\": true, \"x\": [38.3], \"xaxis\": \"x\", \"y\": [64.94285714285714], \"yaxis\": \"y\", \"type\": \"scatter\"}, {\"hovertemplate\": \"<b>%{hovertext}</b><br><br>Country_name=Argentina<br>Month=4<br>AQI=%{x}<br>AQI_20=%{y}<br>size=%{marker.size}<extra></extra>\", \"hovertext\": [\"Buenos Aires\"], \"ids\": [\"Argentina\"], \"legendgroup\": \"Argentina\", \"marker\": {\"color\": \"#FF97FF\", \"size\": [1], \"sizemode\": \"area\", \"sizeref\": 0.00033057851239669424, \"symbol\": \"circle\"}, \"mode\": \"markers\", \"name\": \"Argentina\", \"orientation\": \"v\", \"showlegend\": true, \"x\": [28.433333333333334], \"xaxis\": \"x\", \"y\": [25.914285714285715], \"yaxis\": \"y\", \"type\": \"scatter\"}, {\"hovertemplate\": \"<b>%{hovertext}</b><br><br>Country_name=Spain<br>Month=4<br>AQI=%{x}<br>AQI_20=%{y}<br>size=%{marker.size}<extra></extra>\", \"hovertext\": [\"Barcelona\", \"Madrid\"], \"ids\": [\"Spain\", \"Spain\"], \"legendgroup\": \"Spain\", \"marker\": {\"color\": \"#FECB52\", \"size\": [1, 1], \"sizemode\": \"area\", \"sizeref\": 0.00033057851239669424, \"symbol\": \"circle\"}, \"mode\": \"markers\", \"name\": \"Spain\", \"orientation\": \"v\", \"showlegend\": true, \"x\": [56.13333333333333, 28.448275862068964], \"xaxis\": \"x\", \"y\": [30.408571428571427, 29.65714285714286], \"yaxis\": \"y\", \"type\": \"scatter\"}, {\"hovertemplate\": \"<b>%{hovertext}</b><br><br>Country_name=Switzerland<br>Month=4<br>AQI=%{x}<br>AQI_20=%{y}<br>size=%{marker.size}<extra></extra>\", \"hovertext\": [\"Z\\u00fcrich\"], \"ids\": [\"Switzerland\"], \"legendgroup\": \"Switzerland\", \"marker\": {\"color\": \"#636efa\", \"size\": [1], \"sizemode\": \"area\", \"sizeref\": 0.00033057851239669424, \"symbol\": \"circle\"}, \"mode\": \"markers\", \"name\": \"Switzerland\", \"orientation\": \"v\", \"showlegend\": true, \"x\": [24.662068965517236], \"xaxis\": \"x\", \"y\": [28.97142857142858], \"yaxis\": \"y\", \"type\": \"scatter\"}, {\"hovertemplate\": \"<b>%{hovertext}</b><br><br>Country_name=Chile<br>Month=4<br>AQI=%{x}<br>AQI_20=%{y}<br>size=%{marker.size}<extra></extra>\", \"hovertext\": [\"Los \\u00c1ngeles\"], \"ids\": [\"Chile\"], \"legendgroup\": \"Chile\", \"marker\": {\"color\": \"#EF553B\", \"size\": [1], \"sizemode\": \"area\", \"sizeref\": 0.00033057851239669424, \"symbol\": \"circle\"}, \"mode\": \"markers\", \"name\": \"Chile\", \"orientation\": \"v\", \"showlegend\": true, \"x\": [153.3793103448276], \"xaxis\": \"x\", \"y\": [59.65714285714286], \"yaxis\": \"y\", \"type\": \"scatter\"}, {\"hovertemplate\": \"<b>%{hovertext}</b><br><br>Country_name=Germany<br>Month=4<br>AQI=%{x}<br>AQI_20=%{y}<br>size=%{marker.size}<extra></extra>\", \"hovertext\": [\"Berlin\"], \"ids\": [\"Germany\"], \"legendgroup\": \"Germany\", \"marker\": {\"color\": \"#00cc96\", \"size\": [1], \"sizemode\": \"area\", \"sizeref\": 0.00033057851239669424, \"symbol\": \"circle\"}, \"mode\": \"markers\", \"name\": \"Germany\", \"orientation\": \"v\", \"showlegend\": true, \"x\": [42.206896551724135], \"xaxis\": \"x\", \"y\": [36.65714285714286], \"yaxis\": \"y\", \"type\": \"scatter\"}], \"name\": \"4\"}, {\"data\": [{\"hovertemplate\": \"<b>%{hovertext}</b><br><br>Country_name=Netherlands<br>Month=5<br>AQI=%{x}<br>AQI_20=%{y}<br>size=%{marker.size}<extra></extra>\", \"hovertext\": [\"Rotterdam\"], \"ids\": [\"Netherlands\"], \"legendgroup\": \"Netherlands\", \"marker\": {\"color\": \"#636efa\", \"size\": [1], \"sizemode\": \"area\", \"sizeref\": 0.00033057851239669424, \"symbol\": \"circle\"}, \"mode\": \"markers\", \"name\": \"Netherlands\", \"orientation\": \"v\", \"showlegend\": true, \"x\": [27.36774193548387], \"xaxis\": \"x\", \"y\": [35.096774193548384], \"yaxis\": \"y\", \"type\": \"scatter\"}, {\"hovertemplate\": \"<b>%{hovertext}</b><br><br>Country_name=United States<br>Month=5<br>AQI=%{x}<br>AQI_20=%{y}<br>size=%{marker.size}<extra></extra>\", \"hovertext\": [\"San Francisco\"], \"ids\": [\"United States\"], \"legendgroup\": \"United States\", \"marker\": {\"color\": \"#EF553B\", \"size\": [1], \"sizemode\": \"area\", \"sizeref\": 0.00033057851239669424, \"symbol\": \"circle\"}, \"mode\": \"markers\", \"name\": \"United States\", \"orientation\": \"v\", \"showlegend\": true, \"x\": [37.87096774193548], \"xaxis\": \"x\", \"y\": [27.548387096774192], \"yaxis\": \"y\", \"type\": \"scatter\"}, {\"hovertemplate\": \"<b>%{hovertext}</b><br><br>Country_name=France<br>Month=5<br>AQI=%{x}<br>AQI_20=%{y}<br>size=%{marker.size}<extra></extra>\", \"hovertext\": [\"Paris\"], \"ids\": [\"France\"], \"legendgroup\": \"France\", \"marker\": {\"color\": \"#00cc96\", \"size\": [1], \"sizemode\": \"area\", \"sizeref\": 0.00033057851239669424, \"symbol\": \"circle\"}, \"mode\": \"markers\", \"name\": \"France\", \"orientation\": \"v\", \"showlegend\": true, \"x\": [37.67741935483871], \"xaxis\": \"x\", \"y\": [40.32258064516129], \"yaxis\": \"y\", \"type\": \"scatter\"}, {\"hovertemplate\": \"<b>%{hovertext}</b><br><br>Country_name=Japan<br>Month=5<br>AQI=%{x}<br>AQI_20=%{y}<br>size=%{marker.size}<extra></extra>\", \"hovertext\": [\"Tokyo\"], \"ids\": [\"Japan\"], \"legendgroup\": \"Japan\", \"marker\": {\"color\": \"#ab63fa\", \"size\": [1], \"sizemode\": \"area\", \"sizeref\": 0.00033057851239669424, \"symbol\": \"circle\"}, \"mode\": \"markers\", \"name\": \"Japan\", \"orientation\": \"v\", \"showlegend\": true, \"x\": [25.274193548387096], \"xaxis\": \"x\", \"y\": [37.83870967741935], \"yaxis\": \"y\", \"type\": \"scatter\"}, {\"hovertemplate\": \"<b>%{hovertext}</b><br><br>Country_name=Israel<br>Month=5<br>AQI=%{x}<br>AQI_20=%{y}<br>size=%{marker.size}<extra></extra>\", \"hovertext\": [\"Jerusalem\"], \"ids\": [\"Israel\"], \"legendgroup\": \"Israel\", \"marker\": {\"color\": \"#FFA15A\", \"size\": [1], \"sizemode\": \"area\", \"sizeref\": 0.00033057851239669424, \"symbol\": \"circle\"}, \"mode\": \"markers\", \"name\": \"Israel\", \"orientation\": \"v\", \"showlegend\": true, \"x\": [47.45161290322581], \"xaxis\": \"x\", \"y\": [49.03225806451613], \"yaxis\": \"y\", \"type\": \"scatter\"}, {\"hovertemplate\": \"<b>%{hovertext}</b><br><br>Country_name=India<br>Month=5<br>AQI=%{x}<br>AQI_20=%{y}<br>size=%{marker.size}<extra></extra>\", \"hovertext\": [\"Delhi\"], \"ids\": [\"India\"], \"legendgroup\": \"India\", \"marker\": {\"color\": \"#19d3f3\", \"size\": [1], \"sizemode\": \"area\", \"sizeref\": 0.00033057851239669424, \"symbol\": \"circle\"}, \"mode\": \"markers\", \"name\": \"India\", \"orientation\": \"v\", \"showlegend\": true, \"x\": [38.38709677419355], \"xaxis\": \"x\", \"y\": [122.6774193548387], \"yaxis\": \"y\", \"type\": \"scatter\"}, {\"hovertemplate\": \"<b>%{hovertext}</b><br><br>Country_name=Australia<br>Month=5<br>AQI=%{x}<br>AQI_20=%{y}<br>size=%{marker.size}<extra></extra>\", \"hovertext\": [\"Melbourne\"], \"ids\": [\"Australia\"], \"legendgroup\": \"Australia\", \"marker\": {\"color\": \"#FF6692\", \"size\": [1], \"sizemode\": \"area\", \"sizeref\": 0.00033057851239669424, \"symbol\": \"circle\"}, \"mode\": \"markers\", \"name\": \"Australia\", \"orientation\": \"v\", \"showlegend\": true, \"x\": [158.0], \"xaxis\": \"x\", \"y\": [24.258064516129032], \"yaxis\": \"y\", \"type\": \"scatter\"}, {\"hovertemplate\": \"<b>%{hovertext}</b><br><br>Country_name=Thailand<br>Month=5<br>AQI=%{x}<br>AQI_20=%{y}<br>size=%{marker.size}<extra></extra>\", \"hovertext\": [\"Bangkok\"], \"ids\": [\"Thailand\"], \"legendgroup\": \"Thailand\", \"marker\": {\"color\": \"#B6E880\", \"size\": [1], \"sizemode\": \"area\", \"sizeref\": 0.00033057851239669424, \"symbol\": \"circle\"}, \"mode\": \"markers\", \"name\": \"Thailand\", \"orientation\": \"v\", \"showlegend\": true, \"x\": [60.41935483870968], \"xaxis\": \"x\", \"y\": [55.29032258064516], \"yaxis\": \"y\", \"type\": \"scatter\"}, {\"hovertemplate\": \"<b>%{hovertext}</b><br><br>Country_name=Argentina<br>Month=5<br>AQI=%{x}<br>AQI_20=%{y}<br>size=%{marker.size}<extra></extra>\", \"hovertext\": [\"Buenos Aires\"], \"ids\": [\"Argentina\"], \"legendgroup\": \"Argentina\", \"marker\": {\"color\": \"#FF97FF\", \"size\": [1], \"sizemode\": \"area\", \"sizeref\": 0.00033057851239669424, \"symbol\": \"circle\"}, \"mode\": \"markers\", \"name\": \"Argentina\", \"orientation\": \"v\", \"showlegend\": true, \"x\": [46.225806451612904], \"xaxis\": \"x\", \"y\": [50.12], \"yaxis\": \"y\", \"type\": \"scatter\"}, {\"hovertemplate\": \"<b>%{hovertext}</b><br><br>Country_name=Spain<br>Month=5<br>AQI=%{x}<br>AQI_20=%{y}<br>size=%{marker.size}<extra></extra>\", \"hovertext\": [\"Barcelona\", \"Madrid\"], \"ids\": [\"Spain\", \"Spain\"], \"legendgroup\": \"Spain\", \"marker\": {\"color\": \"#FECB52\", \"size\": [1, 1], \"sizemode\": \"area\", \"sizeref\": 0.00033057851239669424, \"symbol\": \"circle\"}, \"mode\": \"markers\", \"name\": \"Spain\", \"orientation\": \"v\", \"showlegend\": true, \"x\": [97.29032258064517, 26.032258064516128], \"xaxis\": \"x\", \"y\": [27.274193548387096, 33.225806451612904], \"yaxis\": \"y\", \"type\": \"scatter\"}, {\"hovertemplate\": \"<b>%{hovertext}</b><br><br>Country_name=Switzerland<br>Month=5<br>AQI=%{x}<br>AQI_20=%{y}<br>size=%{marker.size}<extra></extra>\", \"hovertext\": [\"Z\\u00fcrich\"], \"ids\": [\"Switzerland\"], \"legendgroup\": \"Switzerland\", \"marker\": {\"color\": \"#636efa\", \"size\": [1], \"sizemode\": \"area\", \"sizeref\": 0.00033057851239669424, \"symbol\": \"circle\"}, \"mode\": \"markers\", \"name\": \"Switzerland\", \"orientation\": \"v\", \"showlegend\": true, \"x\": [25.46129032258065], \"xaxis\": \"x\", \"y\": [27.132258064516133], \"yaxis\": \"y\", \"type\": \"scatter\"}, {\"hovertemplate\": \"<b>%{hovertext}</b><br><br>Country_name=Chile<br>Month=5<br>AQI=%{x}<br>AQI_20=%{y}<br>size=%{marker.size}<extra></extra>\", \"hovertext\": [\"Los \\u00c1ngeles\"], \"ids\": [\"Chile\"], \"legendgroup\": \"Chile\", \"marker\": {\"color\": \"#EF553B\", \"size\": [1], \"sizemode\": \"area\", \"sizeref\": 0.00033057851239669424, \"symbol\": \"circle\"}, \"mode\": \"markers\", \"name\": \"Chile\", \"orientation\": \"v\", \"showlegend\": true, \"x\": [28.612903225806456], \"xaxis\": \"x\", \"y\": [67.70967741935483], \"yaxis\": \"y\", \"type\": \"scatter\"}, {\"hovertemplate\": \"<b>%{hovertext}</b><br><br>Country_name=Germany<br>Month=5<br>AQI=%{x}<br>AQI_20=%{y}<br>size=%{marker.size}<extra></extra>\", \"hovertext\": [\"Berlin\"], \"ids\": [\"Germany\"], \"legendgroup\": \"Germany\", \"marker\": {\"color\": \"#00cc96\", \"size\": [1], \"sizemode\": \"area\", \"sizeref\": 0.00033057851239669424, \"symbol\": \"circle\"}, \"mode\": \"markers\", \"name\": \"Germany\", \"orientation\": \"v\", \"showlegend\": true, \"x\": [69.64516129032258], \"xaxis\": \"x\", \"y\": [27.845161290322583], \"yaxis\": \"y\", \"type\": \"scatter\"}], \"name\": \"5\"}, {\"data\": [{\"hovertemplate\": \"<b>%{hovertext}</b><br><br>Country_name=Netherlands<br>Month=6<br>AQI=%{x}<br>AQI_20=%{y}<br>size=%{marker.size}<extra></extra>\", \"hovertext\": [\"Rotterdam\"], \"ids\": [\"Netherlands\"], \"legendgroup\": \"Netherlands\", \"marker\": {\"color\": \"#636efa\", \"size\": [1], \"sizemode\": \"area\", \"sizeref\": 0.00033057851239669424, \"symbol\": \"circle\"}, \"mode\": \"markers\", \"name\": \"Netherlands\", \"orientation\": \"v\", \"showlegend\": true, \"x\": [84.86666666666666], \"xaxis\": \"x\", \"y\": [30.90625], \"yaxis\": \"y\", \"type\": \"scatter\"}, {\"hovertemplate\": \"<b>%{hovertext}</b><br><br>Country_name=United States<br>Month=6<br>AQI=%{x}<br>AQI_20=%{y}<br>size=%{marker.size}<extra></extra>\", \"hovertext\": [\"San Francisco\"], \"ids\": [\"United States\"], \"legendgroup\": \"United States\", \"marker\": {\"color\": \"#EF553B\", \"size\": [1], \"sizemode\": \"area\", \"sizeref\": 0.00033057851239669424, \"symbol\": \"circle\"}, \"mode\": \"markers\", \"name\": \"United States\", \"orientation\": \"v\", \"showlegend\": true, \"x\": [139.86666666666667], \"xaxis\": \"x\", \"y\": [29.4375], \"yaxis\": \"y\", \"type\": \"scatter\"}, {\"hovertemplate\": \"<b>%{hovertext}</b><br><br>Country_name=France<br>Month=6<br>AQI=%{x}<br>AQI_20=%{y}<br>size=%{marker.size}<extra></extra>\", \"hovertext\": [\"Paris\"], \"ids\": [\"France\"], \"legendgroup\": \"France\", \"marker\": {\"color\": \"#00cc96\", \"size\": [1], \"sizemode\": \"area\", \"sizeref\": 0.00033057851239669424, \"symbol\": \"circle\"}, \"mode\": \"markers\", \"name\": \"France\", \"orientation\": \"v\", \"showlegend\": true, \"x\": [37.56666666666667], \"xaxis\": \"x\", \"y\": [37.375], \"yaxis\": \"y\", \"type\": \"scatter\"}, {\"hovertemplate\": \"<b>%{hovertext}</b><br><br>Country_name=Japan<br>Month=6<br>AQI=%{x}<br>AQI_20=%{y}<br>size=%{marker.size}<extra></extra>\", \"hovertext\": [\"Tokyo\"], \"ids\": [\"Japan\"], \"legendgroup\": \"Japan\", \"marker\": {\"color\": \"#ab63fa\", \"size\": [1], \"sizemode\": \"area\", \"sizeref\": 0.00033057851239669424, \"symbol\": \"circle\"}, \"mode\": \"markers\", \"name\": \"Japan\", \"orientation\": \"v\", \"showlegend\": true, \"x\": [40.2], \"xaxis\": \"x\", \"y\": [42.25], \"yaxis\": \"y\", \"type\": \"scatter\"}, {\"hovertemplate\": \"<b>%{hovertext}</b><br><br>Country_name=Israel<br>Month=6<br>AQI=%{x}<br>AQI_20=%{y}<br>size=%{marker.size}<extra></extra>\", \"hovertext\": [\"Jerusalem\"], \"ids\": [\"Israel\"], \"legendgroup\": \"Israel\", \"marker\": {\"color\": \"#FFA15A\", \"size\": [1], \"sizemode\": \"area\", \"sizeref\": 0.00033057851239669424, \"symbol\": \"circle\"}, \"mode\": \"markers\", \"name\": \"Israel\", \"orientation\": \"v\", \"showlegend\": true, \"x\": [43.06666666666667], \"xaxis\": \"x\", \"y\": [50.46875], \"yaxis\": \"y\", \"type\": \"scatter\"}, {\"hovertemplate\": \"<b>%{hovertext}</b><br><br>Country_name=India<br>Month=6<br>AQI=%{x}<br>AQI_20=%{y}<br>size=%{marker.size}<extra></extra>\", \"hovertext\": [\"Delhi\"], \"ids\": [\"India\"], \"legendgroup\": \"India\", \"marker\": {\"color\": \"#19d3f3\", \"size\": [1], \"sizemode\": \"area\", \"sizeref\": 0.00033057851239669424, \"symbol\": \"circle\"}, \"mode\": \"markers\", \"name\": \"India\", \"orientation\": \"v\", \"showlegend\": true, \"x\": [29.006666666666664], \"xaxis\": \"x\", \"y\": [117.40625], \"yaxis\": \"y\", \"type\": \"scatter\"}, {\"hovertemplate\": \"<b>%{hovertext}</b><br><br>Country_name=Australia<br>Month=6<br>AQI=%{x}<br>AQI_20=%{y}<br>size=%{marker.size}<extra></extra>\", \"hovertext\": [\"Melbourne\"], \"ids\": [\"Australia\"], \"legendgroup\": \"Australia\", \"marker\": {\"color\": \"#FF6692\", \"size\": [1], \"sizemode\": \"area\", \"sizeref\": 0.00033057851239669424, \"symbol\": \"circle\"}, \"mode\": \"markers\", \"name\": \"Australia\", \"orientation\": \"v\", \"showlegend\": true, \"x\": [33.63333333333333], \"xaxis\": \"x\", \"y\": [31.8125], \"yaxis\": \"y\", \"type\": \"scatter\"}, {\"hovertemplate\": \"<b>%{hovertext}</b><br><br>Country_name=Thailand<br>Month=6<br>AQI=%{x}<br>AQI_20=%{y}<br>size=%{marker.size}<extra></extra>\", \"hovertext\": [\"Bangkok\"], \"ids\": [\"Thailand\"], \"legendgroup\": \"Thailand\", \"marker\": {\"color\": \"#B6E880\", \"size\": [1], \"sizemode\": \"area\", \"sizeref\": 0.00033057851239669424, \"symbol\": \"circle\"}, \"mode\": \"markers\", \"name\": \"Thailand\", \"orientation\": \"v\", \"showlegend\": true, \"x\": [42.86666666666667], \"xaxis\": \"x\", \"y\": [44.9375], \"yaxis\": \"y\", \"type\": \"scatter\"}, {\"hovertemplate\": \"<b>%{hovertext}</b><br><br>Country_name=Argentina<br>Month=6<br>AQI=%{x}<br>AQI_20=%{y}<br>size=%{marker.size}<extra></extra>\", \"hovertext\": [\"Buenos Aires\"], \"ids\": [\"Argentina\"], \"legendgroup\": \"Argentina\", \"marker\": {\"color\": \"#FF97FF\", \"size\": [1], \"sizemode\": \"area\", \"sizeref\": 0.00033057851239669424, \"symbol\": \"circle\"}, \"mode\": \"markers\", \"name\": \"Argentina\", \"orientation\": \"v\", \"showlegend\": true, \"x\": [28.166666666666668], \"xaxis\": \"x\", \"y\": [35.1875], \"yaxis\": \"y\", \"type\": \"scatter\"}, {\"hovertemplate\": \"<b>%{hovertext}</b><br><br>Country_name=Spain<br>Month=6<br>AQI=%{x}<br>AQI_20=%{y}<br>size=%{marker.size}<extra></extra>\", \"hovertext\": [\"Barcelona\", \"Madrid\"], \"ids\": [\"Spain\", \"Spain\"], \"legendgroup\": \"Spain\", \"marker\": {\"color\": \"#FECB52\", \"size\": [1, 1], \"sizemode\": \"area\", \"sizeref\": 0.00033057851239669424, \"symbol\": \"circle\"}, \"mode\": \"markers\", \"name\": \"Spain\", \"orientation\": \"v\", \"showlegend\": true, \"x\": [38.1, 64.9], \"xaxis\": \"x\", \"y\": [24.228125000000006, 36.9375], \"yaxis\": \"y\", \"type\": \"scatter\"}, {\"hovertemplate\": \"<b>%{hovertext}</b><br><br>Country_name=Switzerland<br>Month=6<br>AQI=%{x}<br>AQI_20=%{y}<br>size=%{marker.size}<extra></extra>\", \"hovertext\": [\"Z\\u00fcrich\"], \"ids\": [\"Switzerland\"], \"legendgroup\": \"Switzerland\", \"marker\": {\"color\": \"#636efa\", \"size\": [1], \"sizemode\": \"area\", \"sizeref\": 0.00033057851239669424, \"symbol\": \"circle\"}, \"mode\": \"markers\", \"name\": \"Switzerland\", \"orientation\": \"v\", \"showlegend\": true, \"x\": [51.06666666666667], \"xaxis\": \"x\", \"y\": [25.4], \"yaxis\": \"y\", \"type\": \"scatter\"}, {\"hovertemplate\": \"<b>%{hovertext}</b><br><br>Country_name=Chile<br>Month=6<br>AQI=%{x}<br>AQI_20=%{y}<br>size=%{marker.size}<extra></extra>\", \"hovertext\": [\"Los \\u00c1ngeles\"], \"ids\": [\"Chile\"], \"legendgroup\": \"Chile\", \"marker\": {\"color\": \"#EF553B\", \"size\": [1], \"sizemode\": \"area\", \"sizeref\": 0.00033057851239669424, \"symbol\": \"circle\"}, \"mode\": \"markers\", \"name\": \"Chile\", \"orientation\": \"v\", \"showlegend\": true, \"x\": [29.586666666666666], \"xaxis\": \"x\", \"y\": [44.28125], \"yaxis\": \"y\", \"type\": \"scatter\"}, {\"hovertemplate\": \"<b>%{hovertext}</b><br><br>Country_name=Germany<br>Month=6<br>AQI=%{x}<br>AQI_20=%{y}<br>size=%{marker.size}<extra></extra>\", \"hovertext\": [\"Berlin\"], \"ids\": [\"Germany\"], \"legendgroup\": \"Germany\", \"marker\": {\"color\": \"#00cc96\", \"size\": [1], \"sizemode\": \"area\", \"sizeref\": 0.00033057851239669424, \"symbol\": \"circle\"}, \"mode\": \"markers\", \"name\": \"Germany\", \"orientation\": \"v\", \"showlegend\": true, \"x\": [37.96666666666667], \"xaxis\": \"x\", \"y\": [30.5625], \"yaxis\": \"y\", \"type\": \"scatter\"}], \"name\": \"6\"}, {\"data\": [{\"hovertemplate\": \"<b>%{hovertext}</b><br><br>Country_name=Netherlands<br>Month=7<br>AQI=%{x}<br>AQI_20=%{y}<br>size=%{marker.size}<extra></extra>\", \"hovertext\": [\"Rotterdam\"], \"ids\": [\"Netherlands\"], \"legendgroup\": \"Netherlands\", \"marker\": {\"color\": \"#636efa\", \"size\": [1], \"sizemode\": \"area\", \"sizeref\": 0.00033057851239669424, \"symbol\": \"circle\"}, \"mode\": \"markers\", \"name\": \"Netherlands\", \"orientation\": \"v\", \"showlegend\": true, \"x\": [46.67741935483871], \"xaxis\": \"x\", \"y\": [21.944444444444443], \"yaxis\": \"y\", \"type\": \"scatter\"}, {\"hovertemplate\": \"<b>%{hovertext}</b><br><br>Country_name=United States<br>Month=7<br>AQI=%{x}<br>AQI_20=%{y}<br>size=%{marker.size}<extra></extra>\", \"hovertext\": [\"San Francisco\"], \"ids\": [\"United States\"], \"legendgroup\": \"United States\", \"marker\": {\"color\": \"#EF553B\", \"size\": [1], \"sizemode\": \"area\", \"sizeref\": 0.00033057851239669424, \"symbol\": \"circle\"}, \"mode\": \"markers\", \"name\": \"United States\", \"orientation\": \"v\", \"showlegend\": true, \"x\": [32.74193548387097], \"xaxis\": \"x\", \"y\": [30.86111111111111], \"yaxis\": \"y\", \"type\": \"scatter\"}, {\"hovertemplate\": \"<b>%{hovertext}</b><br><br>Country_name=France<br>Month=7<br>AQI=%{x}<br>AQI_20=%{y}<br>size=%{marker.size}<extra></extra>\", \"hovertext\": [\"Paris\"], \"ids\": [\"France\"], \"legendgroup\": \"France\", \"marker\": {\"color\": \"#00cc96\", \"size\": [1], \"sizemode\": \"area\", \"sizeref\": 0.00033057851239669424, \"symbol\": \"circle\"}, \"mode\": \"markers\", \"name\": \"France\", \"orientation\": \"v\", \"showlegend\": true, \"x\": [54.0], \"xaxis\": \"x\", \"y\": [35.361111111111114], \"yaxis\": \"y\", \"type\": \"scatter\"}, {\"hovertemplate\": \"<b>%{hovertext}</b><br><br>Country_name=Japan<br>Month=7<br>AQI=%{x}<br>AQI_20=%{y}<br>size=%{marker.size}<extra></extra>\", \"hovertext\": [\"Tokyo\"], \"ids\": [\"Japan\"], \"legendgroup\": \"Japan\", \"marker\": {\"color\": \"#ab63fa\", \"size\": [1], \"sizemode\": \"area\", \"sizeref\": 0.00033057851239669424, \"symbol\": \"circle\"}, \"mode\": \"markers\", \"name\": \"Japan\", \"orientation\": \"v\", \"showlegend\": true, \"x\": [34.83870967741935], \"xaxis\": \"x\", \"y\": [30.61111111111111], \"yaxis\": \"y\", \"type\": \"scatter\"}, {\"hovertemplate\": \"<b>%{hovertext}</b><br><br>Country_name=Israel<br>Month=7<br>AQI=%{x}<br>AQI_20=%{y}<br>size=%{marker.size}<extra></extra>\", \"hovertext\": [\"Jerusalem\"], \"ids\": [\"Israel\"], \"legendgroup\": \"Israel\", \"marker\": {\"color\": \"#FFA15A\", \"size\": [1], \"sizemode\": \"area\", \"sizeref\": 0.00033057851239669424, \"symbol\": \"circle\"}, \"mode\": \"markers\", \"name\": \"Israel\", \"orientation\": \"v\", \"showlegend\": true, \"x\": [30.961290322580652], \"xaxis\": \"x\", \"y\": [55.97222222222222], \"yaxis\": \"y\", \"type\": \"scatter\"}, {\"hovertemplate\": \"<b>%{hovertext}</b><br><br>Country_name=India<br>Month=7<br>AQI=%{x}<br>AQI_20=%{y}<br>size=%{marker.size}<extra></extra>\", \"hovertext\": [\"Delhi\"], \"ids\": [\"India\"], \"legendgroup\": \"India\", \"marker\": {\"color\": \"#19d3f3\", \"size\": [1], \"sizemode\": \"area\", \"sizeref\": 0.00033057851239669424, \"symbol\": \"circle\"}, \"mode\": \"markers\", \"name\": \"India\", \"orientation\": \"v\", \"showlegend\": true, \"x\": [31.29032258064516], \"xaxis\": \"x\", \"y\": [96.80555555555556], \"yaxis\": \"y\", \"type\": \"scatter\"}, {\"hovertemplate\": \"<b>%{hovertext}</b><br><br>Country_name=Australia<br>Month=7<br>AQI=%{x}<br>AQI_20=%{y}<br>size=%{marker.size}<extra></extra>\", \"hovertext\": [\"Melbourne\"], \"ids\": [\"Australia\"], \"legendgroup\": \"Australia\", \"marker\": {\"color\": \"#FF6692\", \"size\": [1], \"sizemode\": \"area\", \"sizeref\": 0.00033057851239669424, \"symbol\": \"circle\"}, \"mode\": \"markers\", \"name\": \"Australia\", \"orientation\": \"v\", \"showlegend\": true, \"x\": [43.03225806451613], \"xaxis\": \"x\", \"y\": [30.27777777777778], \"yaxis\": \"y\", \"type\": \"scatter\"}, {\"hovertemplate\": \"<b>%{hovertext}</b><br><br>Country_name=Thailand<br>Month=7<br>AQI=%{x}<br>AQI_20=%{y}<br>size=%{marker.size}<extra></extra>\", \"hovertext\": [\"Bangkok\"], \"ids\": [\"Thailand\"], \"legendgroup\": \"Thailand\", \"marker\": {\"color\": \"#B6E880\", \"size\": [1], \"sizemode\": \"area\", \"sizeref\": 0.00033057851239669424, \"symbol\": \"circle\"}, \"mode\": \"markers\", \"name\": \"Thailand\", \"orientation\": \"v\", \"showlegend\": true, \"x\": [40.67741935483871], \"xaxis\": \"x\", \"y\": [48.111111111111114], \"yaxis\": \"y\", \"type\": \"scatter\"}, {\"hovertemplate\": \"<b>%{hovertext}</b><br><br>Country_name=Argentina<br>Month=7<br>AQI=%{x}<br>AQI_20=%{y}<br>size=%{marker.size}<extra></extra>\", \"hovertext\": [\"Buenos Aires\"], \"ids\": [\"Argentina\"], \"legendgroup\": \"Argentina\", \"marker\": {\"color\": \"#FF97FF\", \"size\": [1], \"sizemode\": \"area\", \"sizeref\": 0.00033057851239669424, \"symbol\": \"circle\"}, \"mode\": \"markers\", \"name\": \"Argentina\", \"orientation\": \"v\", \"showlegend\": true, \"x\": [58.54838709677419], \"xaxis\": \"x\", \"y\": [35.25], \"yaxis\": \"y\", \"type\": \"scatter\"}, {\"hovertemplate\": \"<b>%{hovertext}</b><br><br>Country_name=Spain<br>Month=7<br>AQI=%{x}<br>AQI_20=%{y}<br>size=%{marker.size}<extra></extra>\", \"hovertext\": [\"Madrid\", \"Barcelona\"], \"ids\": [\"Spain\", \"Spain\"], \"legendgroup\": \"Spain\", \"marker\": {\"color\": \"#FECB52\", \"size\": [1, 1], \"sizemode\": \"area\", \"sizeref\": 0.00033057851239669424, \"symbol\": \"circle\"}, \"mode\": \"markers\", \"name\": \"Spain\", \"orientation\": \"v\", \"showlegend\": true, \"x\": [115.64516129032258, 26.367741935483867], \"xaxis\": \"x\", \"y\": [43.583333333333336, 25.53055555555555], \"yaxis\": \"y\", \"type\": \"scatter\"}, {\"hovertemplate\": \"<b>%{hovertext}</b><br><br>Country_name=Switzerland<br>Month=7<br>AQI=%{x}<br>AQI_20=%{y}<br>size=%{marker.size}<extra></extra>\", \"hovertext\": [\"Z\\u00fcrich\"], \"ids\": [\"Switzerland\"], \"legendgroup\": \"Switzerland\", \"marker\": {\"color\": \"#636efa\", \"size\": [1], \"sizemode\": \"area\", \"sizeref\": 0.00033057851239669424, \"symbol\": \"circle\"}, \"mode\": \"markers\", \"name\": \"Switzerland\", \"orientation\": \"v\", \"showlegend\": true, \"x\": [47.45161290322581], \"xaxis\": \"x\", \"y\": [25.09722222222222], \"yaxis\": \"y\", \"type\": \"scatter\"}, {\"hovertemplate\": \"<b>%{hovertext}</b><br><br>Country_name=Chile<br>Month=7<br>AQI=%{x}<br>AQI_20=%{y}<br>size=%{marker.size}<extra></extra>\", \"hovertext\": [\"Los \\u00c1ngeles\"], \"ids\": [\"Chile\"], \"legendgroup\": \"Chile\", \"marker\": {\"color\": \"#EF553B\", \"size\": [1], \"sizemode\": \"area\", \"sizeref\": 0.00033057851239669424, \"symbol\": \"circle\"}, \"mode\": \"markers\", \"name\": \"Chile\", \"orientation\": \"v\", \"showlegend\": true, \"x\": [26.35483870967742], \"xaxis\": \"x\", \"y\": [48.52777777777778], \"yaxis\": \"y\", \"type\": \"scatter\"}, {\"hovertemplate\": \"<b>%{hovertext}</b><br><br>Country_name=Germany<br>Month=7<br>AQI=%{x}<br>AQI_20=%{y}<br>size=%{marker.size}<extra></extra>\", \"hovertext\": [\"Berlin\"], \"ids\": [\"Germany\"], \"legendgroup\": \"Germany\", \"marker\": {\"color\": \"#00cc96\", \"size\": [1], \"sizemode\": \"area\", \"sizeref\": 0.00033057851239669424, \"symbol\": \"circle\"}, \"mode\": \"markers\", \"name\": \"Germany\", \"orientation\": \"v\", \"showlegend\": true, \"x\": [73.90322580645162], \"xaxis\": \"x\", \"y\": [23.494444444444444], \"yaxis\": \"y\", \"type\": \"scatter\"}], \"name\": \"7\"}, {\"data\": [{\"hovertemplate\": \"<b>%{hovertext}</b><br><br>Country_name=Netherlands<br>Month=8<br>AQI=%{x}<br>AQI_20=%{y}<br>size=%{marker.size}<extra></extra>\", \"hovertext\": [\"Rotterdam\"], \"ids\": [\"Netherlands\"], \"legendgroup\": \"Netherlands\", \"marker\": {\"color\": \"#636efa\", \"size\": [1], \"sizemode\": \"area\", \"sizeref\": 0.00033057851239669424, \"symbol\": \"circle\"}, \"mode\": \"markers\", \"name\": \"Netherlands\", \"orientation\": \"v\", \"showlegend\": true, \"x\": [47.225806451612904], \"xaxis\": \"x\", \"y\": [36.87096774193548], \"yaxis\": \"y\", \"type\": \"scatter\"}, {\"hovertemplate\": \"<b>%{hovertext}</b><br><br>Country_name=United States<br>Month=8<br>AQI=%{x}<br>AQI_20=%{y}<br>size=%{marker.size}<extra></extra>\", \"hovertext\": [\"San Francisco\"], \"ids\": [\"United States\"], \"legendgroup\": \"United States\", \"marker\": {\"color\": \"#EF553B\", \"size\": [1], \"sizemode\": \"area\", \"sizeref\": 0.00033057851239669424, \"symbol\": \"circle\"}, \"mode\": \"markers\", \"name\": \"United States\", \"orientation\": \"v\", \"showlegend\": true, \"x\": [47.16129032258065], \"xaxis\": \"x\", \"y\": [40.935483870967744], \"yaxis\": \"y\", \"type\": \"scatter\"}, {\"hovertemplate\": \"<b>%{hovertext}</b><br><br>Country_name=France<br>Month=8<br>AQI=%{x}<br>AQI_20=%{y}<br>size=%{marker.size}<extra></extra>\", \"hovertext\": [\"Paris\"], \"ids\": [\"France\"], \"legendgroup\": \"France\", \"marker\": {\"color\": \"#00cc96\", \"size\": [1], \"sizemode\": \"area\", \"sizeref\": 0.00033057851239669424, \"symbol\": \"circle\"}, \"mode\": \"markers\", \"name\": \"France\", \"orientation\": \"v\", \"showlegend\": true, \"x\": [37.61290322580645], \"xaxis\": \"x\", \"y\": [36.67741935483871], \"yaxis\": \"y\", \"type\": \"scatter\"}, {\"hovertemplate\": \"<b>%{hovertext}</b><br><br>Country_name=Japan<br>Month=8<br>AQI=%{x}<br>AQI_20=%{y}<br>size=%{marker.size}<extra></extra>\", \"hovertext\": [\"Tokyo\"], \"ids\": [\"Japan\"], \"legendgroup\": \"Japan\", \"marker\": {\"color\": \"#ab63fa\", \"size\": [1], \"sizemode\": \"area\", \"sizeref\": 0.00033057851239669424, \"symbol\": \"circle\"}, \"mode\": \"markers\", \"name\": \"Japan\", \"orientation\": \"v\", \"showlegend\": true, \"x\": [61.774193548387096], \"xaxis\": \"x\", \"y\": [45.25806451612903], \"yaxis\": \"y\", \"type\": \"scatter\"}, {\"hovertemplate\": \"<b>%{hovertext}</b><br><br>Country_name=Israel<br>Month=8<br>AQI=%{x}<br>AQI_20=%{y}<br>size=%{marker.size}<extra></extra>\", \"hovertext\": [\"Jerusalem\"], \"ids\": [\"Israel\"], \"legendgroup\": \"Israel\", \"marker\": {\"color\": \"#FFA15A\", \"size\": [1], \"sizemode\": \"area\", \"sizeref\": 0.00033057851239669424, \"symbol\": \"circle\"}, \"mode\": \"markers\", \"name\": \"Israel\", \"orientation\": \"v\", \"showlegend\": true, \"x\": [86.45161290322581], \"xaxis\": \"x\", \"y\": [56.67741935483871], \"yaxis\": \"y\", \"type\": \"scatter\"}, {\"hovertemplate\": \"<b>%{hovertext}</b><br><br>Country_name=India<br>Month=8<br>AQI=%{x}<br>AQI_20=%{y}<br>size=%{marker.size}<extra></extra>\", \"hovertext\": [\"Delhi\"], \"ids\": [\"India\"], \"legendgroup\": \"India\", \"marker\": {\"color\": \"#19d3f3\", \"size\": [1], \"sizemode\": \"area\", \"sizeref\": 0.00033057851239669424, \"symbol\": \"circle\"}, \"mode\": \"markers\", \"name\": \"India\", \"orientation\": \"v\", \"showlegend\": true, \"x\": [22.741935483870968], \"xaxis\": \"x\", \"y\": [73.25806451612904], \"yaxis\": \"y\", \"type\": \"scatter\"}, {\"hovertemplate\": \"<b>%{hovertext}</b><br><br>Country_name=Australia<br>Month=8<br>AQI=%{x}<br>AQI_20=%{y}<br>size=%{marker.size}<extra></extra>\", \"hovertext\": [\"Melbourne\"], \"ids\": [\"Australia\"], \"legendgroup\": \"Australia\", \"marker\": {\"color\": \"#FF6692\", \"size\": [1], \"sizemode\": \"area\", \"sizeref\": 0.00033057851239669424, \"symbol\": \"circle\"}, \"mode\": \"markers\", \"name\": \"Australia\", \"orientation\": \"v\", \"showlegend\": true, \"x\": [38.645161290322584], \"xaxis\": \"x\", \"y\": [21.677419354838708], \"yaxis\": \"y\", \"type\": \"scatter\"}, {\"hovertemplate\": \"<b>%{hovertext}</b><br><br>Country_name=Thailand<br>Month=8<br>AQI=%{x}<br>AQI_20=%{y}<br>size=%{marker.size}<extra></extra>\", \"hovertext\": [\"Bangkok\"], \"ids\": [\"Thailand\"], \"legendgroup\": \"Thailand\", \"marker\": {\"color\": \"#B6E880\", \"size\": [1], \"sizemode\": \"area\", \"sizeref\": 0.00033057851239669424, \"symbol\": \"circle\"}, \"mode\": \"markers\", \"name\": \"Thailand\", \"orientation\": \"v\", \"showlegend\": true, \"x\": [52.96774193548387], \"xaxis\": \"x\", \"y\": [50.225806451612904], \"yaxis\": \"y\", \"type\": \"scatter\"}, {\"hovertemplate\": \"<b>%{hovertext}</b><br><br>Country_name=Argentina<br>Month=8<br>AQI=%{x}<br>AQI_20=%{y}<br>size=%{marker.size}<extra></extra>\", \"hovertext\": [\"Buenos Aires\"], \"ids\": [\"Argentina\"], \"legendgroup\": \"Argentina\", \"marker\": {\"color\": \"#FF97FF\", \"size\": [1], \"sizemode\": \"area\", \"sizeref\": 0.00033057851239669424, \"symbol\": \"circle\"}, \"mode\": \"markers\", \"name\": \"Argentina\", \"orientation\": \"v\", \"showlegend\": true, \"x\": [40.0], \"xaxis\": \"x\", \"y\": [50.58064516129032], \"yaxis\": \"y\", \"type\": \"scatter\"}, {\"hovertemplate\": \"<b>%{hovertext}</b><br><br>Country_name=Spain<br>Month=8<br>AQI=%{x}<br>AQI_20=%{y}<br>size=%{marker.size}<extra></extra>\", \"hovertext\": [\"Madrid\", \"Barcelona\"], \"ids\": [\"Spain\", \"Spain\"], \"legendgroup\": \"Spain\", \"marker\": {\"color\": \"#FECB52\", \"size\": [1, 1], \"sizemode\": \"area\", \"sizeref\": 0.00033057851239669424, \"symbol\": \"circle\"}, \"mode\": \"markers\", \"name\": \"Spain\", \"orientation\": \"v\", \"showlegend\": true, \"x\": [90.45161290322581, 28.64516129032258], \"xaxis\": \"x\", \"y\": [37.61290322580645, 24.667741935483868], \"yaxis\": \"y\", \"type\": \"scatter\"}, {\"hovertemplate\": \"<b>%{hovertext}</b><br><br>Country_name=Switzerland<br>Month=8<br>AQI=%{x}<br>AQI_20=%{y}<br>size=%{marker.size}<extra></extra>\", \"hovertext\": [\"Z\\u00fcrich\"], \"ids\": [\"Switzerland\"], \"legendgroup\": \"Switzerland\", \"marker\": {\"color\": \"#636efa\", \"size\": [1], \"sizemode\": \"area\", \"sizeref\": 0.00033057851239669424, \"symbol\": \"circle\"}, \"mode\": \"markers\", \"name\": \"Switzerland\", \"orientation\": \"v\", \"showlegend\": true, \"x\": [37.935483870967744], \"xaxis\": \"x\", \"y\": [24.548387096774192], \"yaxis\": \"y\", \"type\": \"scatter\"}, {\"hovertemplate\": \"<b>%{hovertext}</b><br><br>Country_name=Chile<br>Month=8<br>AQI=%{x}<br>AQI_20=%{y}<br>size=%{marker.size}<extra></extra>\", \"hovertext\": [\"Los \\u00c1ngeles\"], \"ids\": [\"Chile\"], \"legendgroup\": \"Chile\", \"marker\": {\"color\": \"#EF553B\", \"size\": [1], \"sizemode\": \"area\", \"sizeref\": 0.00033057851239669424, \"symbol\": \"circle\"}, \"mode\": \"markers\", \"name\": \"Chile\", \"orientation\": \"v\", \"showlegend\": true, \"x\": [21.254838709677415], \"xaxis\": \"x\", \"y\": [42.516129032258064], \"yaxis\": \"y\", \"type\": \"scatter\"}, {\"hovertemplate\": \"<b>%{hovertext}</b><br><br>Country_name=Germany<br>Month=8<br>AQI=%{x}<br>AQI_20=%{y}<br>size=%{marker.size}<extra></extra>\", \"hovertext\": [\"Berlin\"], \"ids\": [\"Germany\"], \"legendgroup\": \"Germany\", \"marker\": {\"color\": \"#00cc96\", \"size\": [1], \"sizemode\": \"area\", \"sizeref\": 0.00033057851239669424, \"symbol\": \"circle\"}, \"mode\": \"markers\", \"name\": \"Germany\", \"orientation\": \"v\", \"showlegend\": true, \"x\": [27.064516129032253], \"xaxis\": \"x\", \"y\": [33.806451612903224], \"yaxis\": \"y\", \"type\": \"scatter\"}], \"name\": \"8\"}, {\"data\": [{\"hovertemplate\": \"<b>%{hovertext}</b><br><br>Country_name=Netherlands<br>Month=9<br>AQI=%{x}<br>AQI_20=%{y}<br>size=%{marker.size}<extra></extra>\", \"hovertext\": [\"Rotterdam\"], \"ids\": [\"Netherlands\"], \"legendgroup\": \"Netherlands\", \"marker\": {\"color\": \"#636efa\", \"size\": [1], \"sizemode\": \"area\", \"sizeref\": 0.00033057851239669424, \"symbol\": \"circle\"}, \"mode\": \"markers\", \"name\": \"Netherlands\", \"orientation\": \"v\", \"showlegend\": true, \"x\": [39.29032258064516], \"xaxis\": \"x\", \"y\": [36.78787878787879], \"yaxis\": \"y\", \"type\": \"scatter\"}, {\"hovertemplate\": \"<b>%{hovertext}</b><br><br>Country_name=United States<br>Month=9<br>AQI=%{x}<br>AQI_20=%{y}<br>size=%{marker.size}<extra></extra>\", \"hovertext\": [\"San Francisco\"], \"ids\": [\"United States\"], \"legendgroup\": \"United States\", \"marker\": {\"color\": \"#EF553B\", \"size\": [1], \"sizemode\": \"area\", \"sizeref\": 0.00033057851239669424, \"symbol\": \"circle\"}, \"mode\": \"markers\", \"name\": \"United States\", \"orientation\": \"v\", \"showlegend\": true, \"x\": [60.03225806451613], \"xaxis\": \"x\", \"y\": [65.0], \"yaxis\": \"y\", \"type\": \"scatter\"}, {\"hovertemplate\": \"<b>%{hovertext}</b><br><br>Country_name=France<br>Month=9<br>AQI=%{x}<br>AQI_20=%{y}<br>size=%{marker.size}<extra></extra>\", \"hovertext\": [\"Paris\"], \"ids\": [\"France\"], \"legendgroup\": \"France\", \"marker\": {\"color\": \"#00cc96\", \"size\": [1], \"sizemode\": \"area\", \"sizeref\": 0.00033057851239669424, \"symbol\": \"circle\"}, \"mode\": \"markers\", \"name\": \"France\", \"orientation\": \"v\", \"showlegend\": true, \"x\": [43.903225806451616], \"xaxis\": \"x\", \"y\": [43.06060606060606], \"yaxis\": \"y\", \"type\": \"scatter\"}, {\"hovertemplate\": \"<b>%{hovertext}</b><br><br>Country_name=Japan<br>Month=9<br>AQI=%{x}<br>AQI_20=%{y}<br>size=%{marker.size}<extra></extra>\", \"hovertext\": [\"Tokyo\"], \"ids\": [\"Japan\"], \"legendgroup\": \"Japan\", \"marker\": {\"color\": \"#ab63fa\", \"size\": [1], \"sizemode\": \"area\", \"sizeref\": 0.00033057851239669424, \"symbol\": \"circle\"}, \"mode\": \"markers\", \"name\": \"Japan\", \"orientation\": \"v\", \"showlegend\": true, \"x\": [71.93548387096774], \"xaxis\": \"x\", \"y\": [25.814814814814813], \"yaxis\": \"y\", \"type\": \"scatter\"}, {\"hovertemplate\": \"<b>%{hovertext}</b><br><br>Country_name=Israel<br>Month=9<br>AQI=%{x}<br>AQI_20=%{y}<br>size=%{marker.size}<extra></extra>\", \"hovertext\": [\"Jerusalem\"], \"ids\": [\"Israel\"], \"legendgroup\": \"Israel\", \"marker\": {\"color\": \"#FFA15A\", \"size\": [1], \"sizemode\": \"area\", \"sizeref\": 0.00033057851239669424, \"symbol\": \"circle\"}, \"mode\": \"markers\", \"name\": \"Israel\", \"orientation\": \"v\", \"showlegend\": true, \"x\": [23.06129032258065], \"xaxis\": \"x\", \"y\": [66.21212121212122], \"yaxis\": \"y\", \"type\": \"scatter\"}, {\"hovertemplate\": \"<b>%{hovertext}</b><br><br>Country_name=India<br>Month=9<br>AQI=%{x}<br>AQI_20=%{y}<br>size=%{marker.size}<extra></extra>\", \"hovertext\": [\"Delhi\"], \"ids\": [\"India\"], \"legendgroup\": \"India\", \"marker\": {\"color\": \"#19d3f3\", \"size\": [1], \"sizemode\": \"area\", \"sizeref\": 0.00033057851239669424, \"symbol\": \"circle\"}, \"mode\": \"markers\", \"name\": \"India\", \"orientation\": \"v\", \"showlegend\": true, \"x\": [37.67741935483871], \"xaxis\": \"x\", \"y\": [126.84848484848484], \"yaxis\": \"y\", \"type\": \"scatter\"}, {\"hovertemplate\": \"<b>%{hovertext}</b><br><br>Country_name=Australia<br>Month=9<br>AQI=%{x}<br>AQI_20=%{y}<br>size=%{marker.size}<extra></extra>\", \"hovertext\": [\"Melbourne\"], \"ids\": [\"Australia\"], \"legendgroup\": \"Australia\", \"marker\": {\"color\": \"#FF6692\", \"size\": [1], \"sizemode\": \"area\", \"sizeref\": 0.00033057851239669424, \"symbol\": \"circle\"}, \"mode\": \"markers\", \"name\": \"Australia\", \"orientation\": \"v\", \"showlegend\": true, \"x\": [32.87096774193548], \"xaxis\": \"x\", \"y\": [22.939393939393938], \"yaxis\": \"y\", \"type\": \"scatter\"}, {\"hovertemplate\": \"<b>%{hovertext}</b><br><br>Country_name=Thailand<br>Month=9<br>AQI=%{x}<br>AQI_20=%{y}<br>size=%{marker.size}<extra></extra>\", \"hovertext\": [\"Bangkok\"], \"ids\": [\"Thailand\"], \"legendgroup\": \"Thailand\", \"marker\": {\"color\": \"#B6E880\", \"size\": [1], \"sizemode\": \"area\", \"sizeref\": 0.00033057851239669424, \"symbol\": \"circle\"}, \"mode\": \"markers\", \"name\": \"Thailand\", \"orientation\": \"v\", \"showlegend\": true, \"x\": [50.16129032258065], \"xaxis\": \"x\", \"y\": [48.36363636363637], \"yaxis\": \"y\", \"type\": \"scatter\"}, {\"hovertemplate\": \"<b>%{hovertext}</b><br><br>Country_name=Argentina<br>Month=9<br>AQI=%{x}<br>AQI_20=%{y}<br>size=%{marker.size}<extra></extra>\", \"hovertext\": [\"Buenos Aires\"], \"ids\": [\"Argentina\"], \"legendgroup\": \"Argentina\", \"marker\": {\"color\": \"#FF97FF\", \"size\": [1], \"sizemode\": \"area\", \"sizeref\": 0.00033057851239669424, \"symbol\": \"circle\"}, \"mode\": \"markers\", \"name\": \"Argentina\", \"orientation\": \"v\", \"showlegend\": true, \"x\": [99.93548387096774], \"xaxis\": \"x\", \"y\": [35.827586206896555], \"yaxis\": \"y\", \"type\": \"scatter\"}, {\"hovertemplate\": \"<b>%{hovertext}</b><br><br>Country_name=Spain<br>Month=9<br>AQI=%{x}<br>AQI_20=%{y}<br>size=%{marker.size}<extra></extra>\", \"hovertext\": [\"Barcelona\", \"Madrid\"], \"ids\": [\"Spain\", \"Spain\"], \"legendgroup\": \"Spain\", \"marker\": {\"color\": \"#FECB52\", \"size\": [1, 1], \"sizemode\": \"area\", \"sizeref\": 0.00033057851239669424, \"symbol\": \"circle\"}, \"mode\": \"markers\", \"name\": \"Spain\", \"orientation\": \"v\", \"showlegend\": true, \"x\": [28.580645161290324, 23.419354838709676], \"xaxis\": \"x\", \"y\": [22.57575757575757, 35.90909090909091], \"yaxis\": \"y\", \"type\": \"scatter\"}, {\"hovertemplate\": \"<b>%{hovertext}</b><br><br>Country_name=Switzerland<br>Month=9<br>AQI=%{x}<br>AQI_20=%{y}<br>size=%{marker.size}<extra></extra>\", \"hovertext\": [\"Z\\u00fcrich\"], \"ids\": [\"Switzerland\"], \"legendgroup\": \"Switzerland\", \"marker\": {\"color\": \"#636efa\", \"size\": [1], \"sizemode\": \"area\", \"sizeref\": 0.00033057851239669424, \"symbol\": \"circle\"}, \"mode\": \"markers\", \"name\": \"Switzerland\", \"orientation\": \"v\", \"showlegend\": true, \"x\": [24.612903225806452], \"xaxis\": \"x\", \"y\": [18.130303030303033], \"yaxis\": \"y\", \"type\": \"scatter\"}, {\"hovertemplate\": \"<b>%{hovertext}</b><br><br>Country_name=Chile<br>Month=9<br>AQI=%{x}<br>AQI_20=%{y}<br>size=%{marker.size}<extra></extra>\", \"hovertext\": [\"Los \\u00c1ngeles\"], \"ids\": [\"Chile\"], \"legendgroup\": \"Chile\", \"marker\": {\"color\": \"#EF553B\", \"size\": [1], \"sizemode\": \"area\", \"sizeref\": 0.00033057851239669424, \"symbol\": \"circle\"}, \"mode\": \"markers\", \"name\": \"Chile\", \"orientation\": \"v\", \"showlegend\": true, \"x\": [33.193548387096776], \"xaxis\": \"x\", \"y\": [57.06060606060606], \"yaxis\": \"y\", \"type\": \"scatter\"}, {\"hovertemplate\": \"<b>%{hovertext}</b><br><br>Country_name=Germany<br>Month=9<br>AQI=%{x}<br>AQI_20=%{y}<br>size=%{marker.size}<extra></extra>\", \"hovertext\": [\"Berlin\"], \"ids\": [\"Germany\"], \"legendgroup\": \"Germany\", \"marker\": {\"color\": \"#00cc96\", \"size\": [1], \"sizemode\": \"area\", \"sizeref\": 0.00033057851239669424, \"symbol\": \"circle\"}, \"mode\": \"markers\", \"name\": \"Germany\", \"orientation\": \"v\", \"showlegend\": true, \"x\": [16.806451612903224], \"xaxis\": \"x\", \"y\": [33.84848484848485], \"yaxis\": \"y\", \"type\": \"scatter\"}], \"name\": \"9\"}, {\"data\": [{\"hovertemplate\": \"<b>%{hovertext}</b><br><br>Country_name=Netherlands<br>Month=10<br>AQI=%{x}<br>AQI_20=%{y}<br>size=%{marker.size}<extra></extra>\", \"hovertext\": [\"Rotterdam\"], \"ids\": [\"Netherlands\"], \"legendgroup\": \"Netherlands\", \"marker\": {\"color\": \"#636efa\", \"size\": [1], \"sizemode\": \"area\", \"sizeref\": 0.00033057851239669424, \"symbol\": \"circle\"}, \"mode\": \"markers\", \"name\": \"Netherlands\", \"orientation\": \"v\", \"showlegend\": true, \"x\": [35.75675675675676], \"xaxis\": \"x\", \"y\": [27.885714285714286], \"yaxis\": \"y\", \"type\": \"scatter\"}, {\"hovertemplate\": \"<b>%{hovertext}</b><br><br>Country_name=United States<br>Month=10<br>AQI=%{x}<br>AQI_20=%{y}<br>size=%{marker.size}<extra></extra>\", \"hovertext\": [\"San Francisco\"], \"ids\": [\"United States\"], \"legendgroup\": \"United States\", \"marker\": {\"color\": \"#EF553B\", \"size\": [1], \"sizemode\": \"area\", \"sizeref\": 0.00033057851239669424, \"symbol\": \"circle\"}, \"mode\": \"markers\", \"name\": \"United States\", \"orientation\": \"v\", \"showlegend\": true, \"x\": [37.567567567567565], \"xaxis\": \"x\", \"y\": [50.17142857142857], \"yaxis\": \"y\", \"type\": \"scatter\"}, {\"hovertemplate\": \"<b>%{hovertext}</b><br><br>Country_name=France<br>Month=10<br>AQI=%{x}<br>AQI_20=%{y}<br>size=%{marker.size}<extra></extra>\", \"hovertext\": [\"Paris\"], \"ids\": [\"France\"], \"legendgroup\": \"France\", \"marker\": {\"color\": \"#00cc96\", \"size\": [1], \"sizemode\": \"area\", \"sizeref\": 0.00033057851239669424, \"symbol\": \"circle\"}, \"mode\": \"markers\", \"name\": \"France\", \"orientation\": \"v\", \"showlegend\": true, \"x\": [26.027027027027028], \"xaxis\": \"x\", \"y\": [33.68571428571428], \"yaxis\": \"y\", \"type\": \"scatter\"}, {\"hovertemplate\": \"<b>%{hovertext}</b><br><br>Country_name=Japan<br>Month=10<br>AQI=%{x}<br>AQI_20=%{y}<br>size=%{marker.size}<extra></extra>\", \"hovertext\": [\"Tokyo\"], \"ids\": [\"Japan\"], \"legendgroup\": \"Japan\", \"marker\": {\"color\": \"#ab63fa\", \"size\": [1], \"sizemode\": \"area\", \"sizeref\": 0.00033057851239669424, \"symbol\": \"circle\"}, \"mode\": \"markers\", \"name\": \"Japan\", \"orientation\": \"v\", \"showlegend\": true, \"x\": [32.67567567567568], \"xaxis\": \"x\", \"y\": [34.94285714285714], \"yaxis\": \"y\", \"type\": \"scatter\"}, {\"hovertemplate\": \"<b>%{hovertext}</b><br><br>Country_name=Israel<br>Month=10<br>AQI=%{x}<br>AQI_20=%{y}<br>size=%{marker.size}<extra></extra>\", \"hovertext\": [\"Jerusalem\"], \"ids\": [\"Israel\"], \"legendgroup\": \"Israel\", \"marker\": {\"color\": \"#FFA15A\", \"size\": [1], \"sizemode\": \"area\", \"sizeref\": 0.00033057851239669424, \"symbol\": \"circle\"}, \"mode\": \"markers\", \"name\": \"Israel\", \"orientation\": \"v\", \"showlegend\": true, \"x\": [39.45945945945946], \"xaxis\": \"x\", \"y\": [52.2], \"yaxis\": \"y\", \"type\": \"scatter\"}, {\"hovertemplate\": \"<b>%{hovertext}</b><br><br>Country_name=India<br>Month=10<br>AQI=%{x}<br>AQI_20=%{y}<br>size=%{marker.size}<extra></extra>\", \"hovertext\": [\"Delhi\"], \"ids\": [\"India\"], \"legendgroup\": \"India\", \"marker\": {\"color\": \"#19d3f3\", \"size\": [1], \"sizemode\": \"area\", \"sizeref\": 0.00033057851239669424, \"symbol\": \"circle\"}, \"mode\": \"markers\", \"name\": \"India\", \"orientation\": \"v\", \"showlegend\": true, \"x\": [76.5945945945946], \"xaxis\": \"x\", \"y\": [192.4857142857143], \"yaxis\": \"y\", \"type\": \"scatter\"}, {\"hovertemplate\": \"<b>%{hovertext}</b><br><br>Country_name=Australia<br>Month=10<br>AQI=%{x}<br>AQI_20=%{y}<br>size=%{marker.size}<extra></extra>\", \"hovertext\": [\"Melbourne\"], \"ids\": [\"Australia\"], \"legendgroup\": \"Australia\", \"marker\": {\"color\": \"#FF6692\", \"size\": [1], \"sizemode\": \"area\", \"sizeref\": 0.00033057851239669424, \"symbol\": \"circle\"}, \"mode\": \"markers\", \"name\": \"Australia\", \"orientation\": \"v\", \"showlegend\": true, \"x\": [39.513513513513516], \"xaxis\": \"x\", \"y\": [24.085714285714285], \"yaxis\": \"y\", \"type\": \"scatter\"}, {\"hovertemplate\": \"<b>%{hovertext}</b><br><br>Country_name=Thailand<br>Month=10<br>AQI=%{x}<br>AQI_20=%{y}<br>size=%{marker.size}<extra></extra>\", \"hovertext\": [\"Bangkok\"], \"ids\": [\"Thailand\"], \"legendgroup\": \"Thailand\", \"marker\": {\"color\": \"#B6E880\", \"size\": [1], \"sizemode\": \"area\", \"sizeref\": 0.00033057851239669424, \"symbol\": \"circle\"}, \"mode\": \"markers\", \"name\": \"Thailand\", \"orientation\": \"v\", \"showlegend\": true, \"x\": [22.243243243243242], \"xaxis\": \"x\", \"y\": [60.42857142857143], \"yaxis\": \"y\", \"type\": \"scatter\"}, {\"hovertemplate\": \"<b>%{hovertext}</b><br><br>Country_name=Argentina<br>Month=10<br>AQI=%{x}<br>AQI_20=%{y}<br>size=%{marker.size}<extra></extra>\", \"hovertext\": [\"Buenos Aires\"], \"ids\": [\"Argentina\"], \"legendgroup\": \"Argentina\", \"marker\": {\"color\": \"#FF97FF\", \"size\": [1], \"sizemode\": \"area\", \"sizeref\": 0.00033057851239669424, \"symbol\": \"circle\"}, \"mode\": \"markers\", \"name\": \"Argentina\", \"orientation\": \"v\", \"showlegend\": true, \"x\": [10.489189189189192], \"xaxis\": \"x\", \"y\": [34.5], \"yaxis\": \"y\", \"type\": \"scatter\"}, {\"hovertemplate\": \"<b>%{hovertext}</b><br><br>Country_name=Spain<br>Month=10<br>AQI=%{x}<br>AQI_20=%{y}<br>size=%{marker.size}<extra></extra>\", \"hovertext\": [\"Barcelona\", \"Madrid\"], \"ids\": [\"Spain\", \"Spain\"], \"legendgroup\": \"Spain\", \"marker\": {\"color\": \"#FECB52\", \"size\": [1, 1], \"sizemode\": \"area\", \"sizeref\": 0.00033057851239669424, \"symbol\": \"circle\"}, \"mode\": \"markers\", \"name\": \"Spain\", \"orientation\": \"v\", \"showlegend\": true, \"x\": [29.35135135135135, 59.15625], \"xaxis\": \"x\", \"y\": [21.17142857142857, 32.02857142857143], \"yaxis\": \"y\", \"type\": \"scatter\"}, {\"hovertemplate\": \"<b>%{hovertext}</b><br><br>Country_name=Switzerland<br>Month=10<br>AQI=%{x}<br>AQI_20=%{y}<br>size=%{marker.size}<extra></extra>\", \"hovertext\": [\"Z\\u00fcrich\"], \"ids\": [\"Switzerland\"], \"legendgroup\": \"Switzerland\", \"marker\": {\"color\": \"#636efa\", \"size\": [1], \"sizemode\": \"area\", \"sizeref\": 0.00033057851239669424, \"symbol\": \"circle\"}, \"mode\": \"markers\", \"name\": \"Switzerland\", \"orientation\": \"v\", \"showlegend\": true, \"x\": [31.7027027027027], \"xaxis\": \"x\", \"y\": [12.351428571428569], \"yaxis\": \"y\", \"type\": \"scatter\"}, {\"hovertemplate\": \"<b>%{hovertext}</b><br><br>Country_name=Chile<br>Month=10<br>AQI=%{x}<br>AQI_20=%{y}<br>size=%{marker.size}<extra></extra>\", \"hovertext\": [\"Los \\u00c1ngeles\"], \"ids\": [\"Chile\"], \"legendgroup\": \"Chile\", \"marker\": {\"color\": \"#EF553B\", \"size\": [1], \"sizemode\": \"area\", \"sizeref\": 0.00033057851239669424, \"symbol\": \"circle\"}, \"mode\": \"markers\", \"name\": \"Chile\", \"orientation\": \"v\", \"showlegend\": true, \"x\": [36.78378378378378], \"xaxis\": \"x\", \"y\": [42.74285714285714], \"yaxis\": \"y\", \"type\": \"scatter\"}, {\"hovertemplate\": \"<b>%{hovertext}</b><br><br>Country_name=Germany<br>Month=10<br>AQI=%{x}<br>AQI_20=%{y}<br>size=%{marker.size}<extra></extra>\", \"hovertext\": [\"Berlin\"], \"ids\": [\"Germany\"], \"legendgroup\": \"Germany\", \"marker\": {\"color\": \"#00cc96\", \"size\": [1], \"sizemode\": \"area\", \"sizeref\": 0.00033057851239669424, \"symbol\": \"circle\"}, \"mode\": \"markers\", \"name\": \"Germany\", \"orientation\": \"v\", \"showlegend\": true, \"x\": [176.59459459459458], \"xaxis\": \"x\", \"y\": [35.15151515151515], \"yaxis\": \"y\", \"type\": \"scatter\"}], \"name\": \"10\"}, {\"data\": [{\"hovertemplate\": \"<b>%{hovertext}</b><br><br>Country_name=Netherlands<br>Month=11<br>AQI=%{x}<br>AQI_20=%{y}<br>size=%{marker.size}<extra></extra>\", \"hovertext\": [\"Rotterdam\"], \"ids\": [\"Netherlands\"], \"legendgroup\": \"Netherlands\", \"marker\": {\"color\": \"#636efa\", \"size\": [1], \"sizemode\": \"area\", \"sizeref\": 0.00033057851239669424, \"symbol\": \"circle\"}, \"mode\": \"markers\", \"name\": \"Netherlands\", \"orientation\": \"v\", \"showlegend\": true, \"x\": [253.03333333333333], \"xaxis\": \"x\", \"y\": [49.333333333333336], \"yaxis\": \"y\", \"type\": \"scatter\"}, {\"hovertemplate\": \"<b>%{hovertext}</b><br><br>Country_name=United States<br>Month=11<br>AQI=%{x}<br>AQI_20=%{y}<br>size=%{marker.size}<extra></extra>\", \"hovertext\": [\"San Francisco\"], \"ids\": [\"United States\"], \"legendgroup\": \"United States\", \"marker\": {\"color\": \"#EF553B\", \"size\": [1], \"sizemode\": \"area\", \"sizeref\": 0.00033057851239669424, \"symbol\": \"circle\"}, \"mode\": \"markers\", \"name\": \"United States\", \"orientation\": \"v\", \"showlegend\": true, \"x\": [42.035714285714285], \"xaxis\": \"x\", \"y\": [26.9], \"yaxis\": \"y\", \"type\": \"scatter\"}, {\"hovertemplate\": \"<b>%{hovertext}</b><br><br>Country_name=France<br>Month=11<br>AQI=%{x}<br>AQI_20=%{y}<br>size=%{marker.size}<extra></extra>\", \"hovertext\": [\"Paris\"], \"ids\": [\"France\"], \"legendgroup\": \"France\", \"marker\": {\"color\": \"#00cc96\", \"size\": [1], \"sizemode\": \"area\", \"sizeref\": 0.00033057851239669424, \"symbol\": \"circle\"}, \"mode\": \"markers\", \"name\": \"France\", \"orientation\": \"v\", \"showlegend\": true, \"x\": [38.766666666666666], \"xaxis\": \"x\", \"y\": [54.06666666666667], \"yaxis\": \"y\", \"type\": \"scatter\"}, {\"hovertemplate\": \"<b>%{hovertext}</b><br><br>Country_name=Japan<br>Month=11<br>AQI=%{x}<br>AQI_20=%{y}<br>size=%{marker.size}<extra></extra>\", \"hovertext\": [\"Tokyo\"], \"ids\": [\"Japan\"], \"legendgroup\": \"Japan\", \"marker\": {\"color\": \"#ab63fa\", \"size\": [1], \"sizemode\": \"area\", \"sizeref\": 0.00033057851239669424, \"symbol\": \"circle\"}, \"mode\": \"markers\", \"name\": \"Japan\", \"orientation\": \"v\", \"showlegend\": true, \"x\": [75.88], \"xaxis\": \"x\", \"y\": [41.36666666666667], \"yaxis\": \"y\", \"type\": \"scatter\"}, {\"hovertemplate\": \"<b>%{hovertext}</b><br><br>Country_name=Israel<br>Month=11<br>AQI=%{x}<br>AQI_20=%{y}<br>size=%{marker.size}<extra></extra>\", \"hovertext\": [\"Jerusalem\"], \"ids\": [\"Israel\"], \"legendgroup\": \"Israel\", \"marker\": {\"color\": \"#FFA15A\", \"size\": [1], \"sizemode\": \"area\", \"sizeref\": 0.00033057851239669424, \"symbol\": \"circle\"}, \"mode\": \"markers\", \"name\": \"Israel\", \"orientation\": \"v\", \"showlegend\": true, \"x\": [57.142857142857146], \"xaxis\": \"x\", \"y\": [52.166666666666664], \"yaxis\": \"y\", \"type\": \"scatter\"}, {\"hovertemplate\": \"<b>%{hovertext}</b><br><br>Country_name=India<br>Month=11<br>AQI=%{x}<br>AQI_20=%{y}<br>size=%{marker.size}<extra></extra>\", \"hovertext\": [\"Delhi\"], \"ids\": [\"India\"], \"legendgroup\": \"India\", \"marker\": {\"color\": \"#19d3f3\", \"size\": [1], \"sizemode\": \"area\", \"sizeref\": 0.00033057851239669424, \"symbol\": \"circle\"}, \"mode\": \"markers\", \"name\": \"India\", \"orientation\": \"v\", \"showlegend\": true, \"x\": [24.366666666666667], \"xaxis\": \"x\", \"y\": [259.3333333333333], \"yaxis\": \"y\", \"type\": \"scatter\"}, {\"hovertemplate\": \"<b>%{hovertext}</b><br><br>Country_name=Australia<br>Month=11<br>AQI=%{x}<br>AQI_20=%{y}<br>size=%{marker.size}<extra></extra>\", \"hovertext\": [\"Melbourne\"], \"ids\": [\"Australia\"], \"legendgroup\": \"Australia\", \"marker\": {\"color\": \"#FF6692\", \"size\": [1], \"sizemode\": \"area\", \"sizeref\": 0.00033057851239669424, \"symbol\": \"circle\"}, \"mode\": \"markers\", \"name\": \"Australia\", \"orientation\": \"v\", \"showlegend\": true, \"x\": [41.733333333333334], \"xaxis\": \"x\", \"y\": [26.266666666666666], \"yaxis\": \"y\", \"type\": \"scatter\"}, {\"hovertemplate\": \"<b>%{hovertext}</b><br><br>Country_name=Thailand<br>Month=11<br>AQI=%{x}<br>AQI_20=%{y}<br>size=%{marker.size}<extra></extra>\", \"hovertext\": [\"Bangkok\"], \"ids\": [\"Thailand\"], \"legendgroup\": \"Thailand\", \"marker\": {\"color\": \"#B6E880\", \"size\": [1], \"sizemode\": \"area\", \"sizeref\": 0.00033057851239669424, \"symbol\": \"circle\"}, \"mode\": \"markers\", \"name\": \"Thailand\", \"orientation\": \"v\", \"showlegend\": true, \"x\": [16.566666666666666], \"xaxis\": \"x\", \"y\": [80.1], \"yaxis\": \"y\", \"type\": \"scatter\"}, {\"hovertemplate\": \"<b>%{hovertext}</b><br><br>Country_name=Argentina<br>Month=11<br>AQI=%{x}<br>AQI_20=%{y}<br>size=%{marker.size}<extra></extra>\", \"hovertext\": [\"Buenos Aires\"], \"ids\": [\"Argentina\"], \"legendgroup\": \"Argentina\", \"marker\": {\"color\": \"#FF97FF\", \"size\": [1], \"sizemode\": \"area\", \"sizeref\": 0.00033057851239669424, \"symbol\": \"circle\"}, \"mode\": \"markers\", \"name\": \"Argentina\", \"orientation\": \"v\", \"showlegend\": true, \"x\": [44.86666666666667], \"xaxis\": \"x\", \"y\": [28.366666666666667], \"yaxis\": \"y\", \"type\": \"scatter\"}, {\"hovertemplate\": \"<b>%{hovertext}</b><br><br>Country_name=Spain<br>Month=11<br>AQI=%{x}<br>AQI_20=%{y}<br>size=%{marker.size}<extra></extra>\", \"hovertext\": [\"Madrid\", \"Barcelona\"], \"ids\": [\"Spain\", \"Spain\"], \"legendgroup\": \"Spain\", \"marker\": {\"color\": \"#FECB52\", \"size\": [1, 1], \"sizemode\": \"area\", \"sizeref\": 0.00033057851239669424, \"symbol\": \"circle\"}, \"mode\": \"markers\", \"name\": \"Spain\", \"orientation\": \"v\", \"showlegend\": true, \"x\": [11.963333333333333, 28.6], \"xaxis\": \"x\", \"y\": [51.4, 24.333333333333332], \"yaxis\": \"y\", \"type\": \"scatter\"}, {\"hovertemplate\": \"<b>%{hovertext}</b><br><br>Country_name=Switzerland<br>Month=11<br>AQI=%{x}<br>AQI_20=%{y}<br>size=%{marker.size}<extra></extra>\", \"hovertext\": [\"Z\\u00fcrich\"], \"ids\": [\"Switzerland\"], \"legendgroup\": \"Switzerland\", \"marker\": {\"color\": \"#636efa\", \"size\": [1], \"sizemode\": \"area\", \"sizeref\": 0.00033057851239669424, \"symbol\": \"circle\"}, \"mode\": \"markers\", \"name\": \"Switzerland\", \"orientation\": \"v\", \"showlegend\": true, \"x\": [37.233333333333334], \"xaxis\": \"x\", \"y\": [14.766666666666667], \"yaxis\": \"y\", \"type\": \"scatter\"}, {\"hovertemplate\": \"<b>%{hovertext}</b><br><br>Country_name=Chile<br>Month=11<br>AQI=%{x}<br>AQI_20=%{y}<br>size=%{marker.size}<extra></extra>\", \"hovertext\": [\"Los \\u00c1ngeles\"], \"ids\": [\"Chile\"], \"legendgroup\": \"Chile\", \"marker\": {\"color\": \"#EF553B\", \"size\": [1], \"sizemode\": \"area\", \"sizeref\": 0.00033057851239669424, \"symbol\": \"circle\"}, \"mode\": \"markers\", \"name\": \"Chile\", \"orientation\": \"v\", \"showlegend\": true, \"x\": [89.33333333333333], \"xaxis\": \"x\", \"y\": [33.36666666666667], \"yaxis\": \"y\", \"type\": \"scatter\"}, {\"hovertemplate\": \"<b>%{hovertext}</b><br><br>Country_name=Germany<br>Month=11<br>AQI=%{x}<br>AQI_20=%{y}<br>size=%{marker.size}<extra></extra>\", \"hovertext\": [\"Berlin\"], \"ids\": [\"Germany\"], \"legendgroup\": \"Germany\", \"marker\": {\"color\": \"#00cc96\", \"size\": [1], \"sizemode\": \"area\", \"sizeref\": 0.00033057851239669424, \"symbol\": \"circle\"}, \"mode\": \"markers\", \"name\": \"Germany\", \"orientation\": \"v\", \"showlegend\": true, \"x\": [23.8], \"xaxis\": \"x\", \"y\": [45.3], \"yaxis\": \"y\", \"type\": \"scatter\"}], \"name\": \"11\"}, {\"data\": [{\"hovertemplate\": \"<b>%{hovertext}</b><br><br>Country_name=Netherlands<br>Month=12<br>AQI=%{x}<br>AQI_20=%{y}<br>size=%{marker.size}<extra></extra>\", \"hovertext\": [\"Rotterdam\"], \"ids\": [\"Netherlands\"], \"legendgroup\": \"Netherlands\", \"marker\": {\"color\": \"#636efa\", \"size\": [1], \"sizemode\": \"area\", \"sizeref\": 0.00033057851239669424, \"symbol\": \"circle\"}, \"mode\": \"markers\", \"name\": \"Netherlands\", \"orientation\": \"v\", \"showlegend\": true, \"x\": [41.121212121212125], \"xaxis\": \"x\", \"y\": [40.8], \"yaxis\": \"y\", \"type\": \"scatter\"}, {\"hovertemplate\": \"<b>%{hovertext}</b><br><br>Country_name=United States<br>Month=12<br>AQI=%{x}<br>AQI_20=%{y}<br>size=%{marker.size}<extra></extra>\", \"hovertext\": [\"San Francisco\"], \"ids\": [\"United States\"], \"legendgroup\": \"United States\", \"marker\": {\"color\": \"#EF553B\", \"size\": [1], \"sizemode\": \"area\", \"sizeref\": 0.00033057851239669424, \"symbol\": \"circle\"}, \"mode\": \"markers\", \"name\": \"United States\", \"orientation\": \"v\", \"showlegend\": true, \"x\": [55.0], \"xaxis\": \"x\", \"y\": [34.42857142857143], \"yaxis\": \"y\", \"type\": \"scatter\"}, {\"hovertemplate\": \"<b>%{hovertext}</b><br><br>Country_name=France<br>Month=12<br>AQI=%{x}<br>AQI_20=%{y}<br>size=%{marker.size}<extra></extra>\", \"hovertext\": [\"Paris\"], \"ids\": [\"France\"], \"legendgroup\": \"France\", \"marker\": {\"color\": \"#00cc96\", \"size\": [1], \"sizemode\": \"area\", \"sizeref\": 0.00033057851239669424, \"symbol\": \"circle\"}, \"mode\": \"markers\", \"name\": \"France\", \"orientation\": \"v\", \"showlegend\": true, \"x\": [47.24242424242424], \"xaxis\": \"x\", \"y\": [38.6], \"yaxis\": \"y\", \"type\": \"scatter\"}, {\"hovertemplate\": \"<b>%{hovertext}</b><br><br>Country_name=Japan<br>Month=12<br>AQI=%{x}<br>AQI_20=%{y}<br>size=%{marker.size}<extra></extra>\", \"hovertext\": [\"Tokyo\"], \"ids\": [\"Japan\"], \"legendgroup\": \"Japan\", \"marker\": {\"color\": \"#ab63fa\", \"size\": [1], \"sizemode\": \"area\", \"sizeref\": 0.00033057851239669424, \"symbol\": \"circle\"}, \"mode\": \"markers\", \"name\": \"Japan\", \"orientation\": \"v\", \"showlegend\": true, \"x\": [21.363636363636363], \"xaxis\": \"x\", \"y\": [43.542857142857144], \"yaxis\": \"y\", \"type\": \"scatter\"}, {\"hovertemplate\": \"<b>%{hovertext}</b><br><br>Country_name=Israel<br>Month=12<br>AQI=%{x}<br>AQI_20=%{y}<br>size=%{marker.size}<extra></extra>\", \"hovertext\": [\"Jerusalem\"], \"ids\": [\"Israel\"], \"legendgroup\": \"Israel\", \"marker\": {\"color\": \"#FFA15A\", \"size\": [1], \"sizemode\": \"area\", \"sizeref\": 0.00033057851239669424, \"symbol\": \"circle\"}, \"mode\": \"markers\", \"name\": \"Israel\", \"orientation\": \"v\", \"showlegend\": true, \"x\": [40.27272727272727], \"xaxis\": \"x\", \"y\": [58.74285714285714], \"yaxis\": \"y\", \"type\": \"scatter\"}, {\"hovertemplate\": \"<b>%{hovertext}</b><br><br>Country_name=India<br>Month=12<br>AQI=%{x}<br>AQI_20=%{y}<br>size=%{marker.size}<extra></extra>\", \"hovertext\": [\"Delhi\"], \"ids\": [\"India\"], \"legendgroup\": \"India\", \"marker\": {\"color\": \"#19d3f3\", \"size\": [1], \"sizemode\": \"area\", \"sizeref\": 0.00033057851239669424, \"symbol\": \"circle\"}, \"mode\": \"markers\", \"name\": \"India\", \"orientation\": \"v\", \"showlegend\": true, \"x\": [48.39393939393939], \"xaxis\": \"x\", \"y\": [246.68571428571428], \"yaxis\": \"y\", \"type\": \"scatter\"}, {\"hovertemplate\": \"<b>%{hovertext}</b><br><br>Country_name=Australia<br>Month=12<br>AQI=%{x}<br>AQI_20=%{y}<br>size=%{marker.size}<extra></extra>\", \"hovertext\": [\"Melbourne\"], \"ids\": [\"Australia\"], \"legendgroup\": \"Australia\", \"marker\": {\"color\": \"#FF6692\", \"size\": [1], \"sizemode\": \"area\", \"sizeref\": 0.00033057851239669424, \"symbol\": \"circle\"}, \"mode\": \"markers\", \"name\": \"Australia\", \"orientation\": \"v\", \"showlegend\": true, \"x\": [104.72727272727273], \"xaxis\": \"x\", \"y\": [22.2], \"yaxis\": \"y\", \"type\": \"scatter\"}, {\"hovertemplate\": \"<b>%{hovertext}</b><br><br>Country_name=Thailand<br>Month=12<br>AQI=%{x}<br>AQI_20=%{y}<br>size=%{marker.size}<extra></extra>\", \"hovertext\": [\"Bangkok\"], \"ids\": [\"Thailand\"], \"legendgroup\": \"Thailand\", \"marker\": {\"color\": \"#B6E880\", \"size\": [1], \"sizemode\": \"area\", \"sizeref\": 0.00033057851239669424, \"symbol\": \"circle\"}, \"mode\": \"markers\", \"name\": \"Thailand\", \"orientation\": \"v\", \"showlegend\": true, \"x\": [26.12121212121212], \"xaxis\": \"x\", \"y\": [92.17142857142858], \"yaxis\": \"y\", \"type\": \"scatter\"}, {\"hovertemplate\": \"<b>%{hovertext}</b><br><br>Country_name=Argentina<br>Month=12<br>AQI=%{x}<br>AQI_20=%{y}<br>size=%{marker.size}<extra></extra>\", \"hovertext\": [\"Buenos Aires\"], \"ids\": [\"Argentina\"], \"legendgroup\": \"Argentina\", \"marker\": {\"color\": \"#FF97FF\", \"size\": [1], \"sizemode\": \"area\", \"sizeref\": 0.00033057851239669424, \"symbol\": \"circle\"}, \"mode\": \"markers\", \"name\": \"Argentina\", \"orientation\": \"v\", \"showlegend\": true, \"x\": [40.03030303030303], \"xaxis\": \"x\", \"y\": [32.65714285714286], \"yaxis\": \"y\", \"type\": \"scatter\"}, {\"hovertemplate\": \"<b>%{hovertext}</b><br><br>Country_name=Spain<br>Month=12<br>AQI=%{x}<br>AQI_20=%{y}<br>size=%{marker.size}<extra></extra>\", \"hovertext\": [\"Barcelona\", \"Madrid\"], \"ids\": [\"Spain\", \"Spain\"], \"legendgroup\": \"Spain\", \"marker\": {\"color\": \"#FECB52\", \"size\": [1, 1], \"sizemode\": \"area\", \"sizeref\": 0.00033057851239669424, \"symbol\": \"circle\"}, \"mode\": \"markers\", \"name\": \"Spain\", \"orientation\": \"v\", \"showlegend\": true, \"x\": [12.678787878787878, 55.03225806451613], \"xaxis\": \"x\", \"y\": [17.142857142857142, 31.228571428571428], \"yaxis\": \"y\", \"type\": \"scatter\"}, {\"hovertemplate\": \"<b>%{hovertext}</b><br><br>Country_name=Switzerland<br>Month=12<br>AQI=%{x}<br>AQI_20=%{y}<br>size=%{marker.size}<extra></extra>\", \"hovertext\": [\"Z\\u00fcrich\"], \"ids\": [\"Switzerland\"], \"legendgroup\": \"Switzerland\", \"marker\": {\"color\": \"#636efa\", \"size\": [1], \"sizemode\": \"area\", \"sizeref\": 0.00033057851239669424, \"symbol\": \"circle\"}, \"mode\": \"markers\", \"name\": \"Switzerland\", \"orientation\": \"v\", \"showlegend\": true, \"x\": [31.78787878787879], \"xaxis\": \"x\", \"y\": [12.468571428571428], \"yaxis\": \"y\", \"type\": \"scatter\"}, {\"hovertemplate\": \"<b>%{hovertext}</b><br><br>Country_name=Chile<br>Month=12<br>AQI=%{x}<br>AQI_20=%{y}<br>size=%{marker.size}<extra></extra>\", \"hovertext\": [\"Los \\u00c1ngeles\"], \"ids\": [\"Chile\"], \"legendgroup\": \"Chile\", \"marker\": {\"color\": \"#EF553B\", \"size\": [1], \"sizemode\": \"area\", \"sizeref\": 0.00033057851239669424, \"symbol\": \"circle\"}, \"mode\": \"markers\", \"name\": \"Chile\", \"orientation\": \"v\", \"showlegend\": true, \"x\": [259.93939393939394], \"xaxis\": \"x\", \"y\": [24.97142857142857], \"yaxis\": \"y\", \"type\": \"scatter\"}, {\"hovertemplate\": \"<b>%{hovertext}</b><br><br>Country_name=Germany<br>Month=12<br>AQI=%{x}<br>AQI_20=%{y}<br>size=%{marker.size}<extra></extra>\", \"hovertext\": [\"Berlin\"], \"ids\": [\"Germany\"], \"legendgroup\": \"Germany\", \"marker\": {\"color\": \"#00cc96\", \"size\": [1], \"sizemode\": \"area\", \"sizeref\": 0.00033057851239669424, \"symbol\": \"circle\"}, \"mode\": \"markers\", \"name\": \"Germany\", \"orientation\": \"v\", \"showlegend\": true, \"x\": [37.21875], \"xaxis\": \"x\", \"y\": [58.41379310344828], \"yaxis\": \"y\", \"type\": \"scatter\"}], \"name\": \"12\"}]);\n",
       "                        }).then(function(){\n",
       "                            \n",
       "var gd = document.getElementById('1b444f12-7daf-44f3-8f68-43cca4d4c1cd');\n",
       "var x = new MutationObserver(function (mutations, observer) {{\n",
       "        var display = window.getComputedStyle(gd).display;\n",
       "        if (!display || display === 'none') {{\n",
       "            console.log([gd, 'removed!']);\n",
       "            Plotly.purge(gd);\n",
       "            observer.disconnect();\n",
       "        }}\n",
       "}});\n",
       "\n",
       "// Listen for the removal of the full notebook cells\n",
       "var notebookContainer = gd.closest('#notebook-container');\n",
       "if (notebookContainer) {{\n",
       "    x.observe(notebookContainer, {childList: true});\n",
       "}}\n",
       "\n",
       "// Listen for the clearing of the current output cell\n",
       "var outputEl = gd.closest('.output');\n",
       "if (outputEl) {{\n",
       "    x.observe(outputEl, {childList: true});\n",
       "}}\n",
       "\n",
       "                        })                };                });            </script>        </div>"
      ]
     },
     "metadata": {},
     "output_type": "display_data"
    }
   ],
   "source": [
    "import plotly.express as px\n",
    "\n",
    "fig = px.scatter(df_anim, x='AQI', \\\n",
    "           y='AQI_20', animation_frame=\"Month\", animation_group=\"Country_name\", size=np.full(fill_value=1, shape=df_anim.shape[0]),\n",
    "           color=\"Country_name\", hover_name=\"City\", log_x=False, size_max=55, range_x=[0,500], range_y=[0,500]\n",
    "           )\n",
    "fig.add_shape(type=\"line\",\n",
    "    x0=0, y0=0, x1=500, y1=500,\n",
    "    line=dict(\n",
    "        color=\"MediumPurple\",\n",
    "        width=4,\n",
    "        dash=\"dot\",\n",
    "    )\n",
    ")"
   ]
  },
  {
   "cell_type": "code",
   "execution_count": null,
   "metadata": {},
   "outputs": [],
   "source": [
    "import plotly.express as px\n",
    "df_px = px.data.gapminder()"
   ]
  },
  {
   "cell_type": "code",
   "execution_count": null,
   "metadata": {},
   "outputs": [],
   "source": [
    "df_px.head(9)"
   ]
  },
  {
   "cell_type": "code",
   "execution_count": null,
   "metadata": {},
   "outputs": [],
   "source": [
    "fig = px.scatter(df_px, x=\"gdpPercap\", y=\"lifeExp\", animation_frame=\"year\", animation_group=\"country\",\n",
    "           size=\"pop\", color=\"continent\", hover_name=\"country\",\n",
    "           log_x=True, size_max=55, range_x=[100,100000], range_y=[25,90])\n",
    "\n",
    "fig.add_shape(type=\"line\",\n",
    "    x0=3, y0=30, x1=500000, y1=90,\n",
    "    line=dict(\n",
    "        color=\"MediumPurple\",\n",
    "        width=4,\n",
    "        dash=\"dot\",\n",
    "    )\n",
    ")\n",
    "\n",
    "\n",
    "fig.show()"
   ]
  },
  {
   "cell_type": "code",
   "execution_count": null,
   "metadata": {},
   "outputs": [],
   "source": [
    "import plotly.graph_objects as go\n",
    "\n",
    "fig = go.Figure()\n",
    "\n",
    "# Create scatter trace of text labels\n",
    "fig.add_trace(go.Scatter(\n",
    "    x=[2, 3.5, 6],\n",
    "    y=[1, 1.5, 1],\n",
    "    text=[\"Vertical Line\",\n",
    "          \"Horizontal Dashed Line\",\n",
    "          \"Diagonal dotted Line\"],\n",
    "    mode=\"text\",\n",
    "))\n",
    "\n",
    "fig.update_layout(shapes=[\n",
    "    dict(\n",
    "      type= 'line',\n",
    "      yref= 'paper', y0= 30, y1= 80,\n",
    "      xref= 'x', x0= 3, x1= 500000\n",
    "    )\n",
    "])\n",
    "\n"
   ]
  },
  {
   "cell_type": "code",
   "execution_count": null,
   "metadata": {},
   "outputs": [],
   "source": [
    "df_px"
   ]
  },
  {
   "cell_type": "code",
   "execution_count": null,
   "metadata": {},
   "outputs": [],
   "source": []
  },
  {
   "cell_type": "code",
   "execution_count": null,
   "metadata": {},
   "outputs": [],
   "source": []
  },
  {
   "cell_type": "code",
   "execution_count": null,
   "metadata": {},
   "outputs": [],
   "source": []
  },
  {
   "cell_type": "code",
   "execution_count": null,
   "metadata": {},
   "outputs": [],
   "source": []
  },
  {
   "cell_type": "code",
   "execution_count": null,
   "metadata": {},
   "outputs": [],
   "source": []
  },
  {
   "cell_type": "code",
   "execution_count": null,
   "metadata": {},
   "outputs": [],
   "source": []
  },
  {
   "cell_type": "code",
   "execution_count": null,
   "metadata": {},
   "outputs": [],
   "source": []
  },
  {
   "cell_type": "code",
   "execution_count": null,
   "metadata": {},
   "outputs": [],
   "source": []
  },
  {
   "cell_type": "markdown",
   "metadata": {},
   "source": [
    "Some of the values have std_dev = 0, which means that their initial recorded values during the month were exactly 500. This is unlikely, specially for so2 in a place like Ha Long, which is a World Heritage Site. Let's remove those measurements with zero std_dev to obtain statistically relevant data:"
   ]
  },
  {
   "cell_type": "code",
   "execution_count": null,
   "metadata": {},
   "outputs": [],
   "source": [
    "month_country_AQI_df[(month_country_AQI_df.std_dev > 0) & (month_country_AQI_df['conf_interval_95%'] < month_country_AQI_df.AQI )].sort_values(by='AQI', ascending=False).head(10)"
   ]
  },
  {
   "cell_type": "code",
   "execution_count": 154,
   "metadata": {},
   "outputs": [],
   "source": [
    "def intersect_countries_month(df):\n",
    "    '''f'''\n",
    "    pollutants = df.Pollutant.unique()\n",
    "    sets = [[] for i in range(len(pollutants))]\n",
    "    dct = dict(zip(pollutants, sets))\n",
    "    dct_final = {}\n",
    "\n",
    "    for pollutant in df.Pollutant.unique():\n",
    "        pollutant_df = df[df.Pollutant == pollutant]\n",
    "        for year in pollutant_df.Date.dt.year.unique():\n",
    "            year_df = pollutant_df[pollutant_df.Date.dt.year == year]\n",
    "            for month in year_df.Date.dt.month.unique():\n",
    "                month_df = year_df[year_df.Date.dt.month == month]\n",
    "                countries = set(month_df.Country.unique())\n",
    "                dct[pollutant].append(countries)\n",
    "\n",
    "    for key, value in dct.items():\n",
    "        dct_final[key] = set.intersection(*value)  \n",
    "\n",
    "    return dct_final\n",
    "\n",
    "    "
   ]
  },
  {
   "cell_type": "code",
   "execution_count": 155,
   "metadata": {},
   "outputs": [],
   "source": [
    "cou_all_months = intersect_countries_month(df)"
   ]
  },
  {
   "cell_type": "code",
   "execution_count": 156,
   "metadata": {},
   "outputs": [
    {
     "data": {
      "text/plain": [
       "61"
      ]
     },
     "execution_count": 156,
     "metadata": {},
     "output_type": "execute_result"
    }
   ],
   "source": [
    "len(cou_all_months['pm25'])"
   ]
  },
  {
   "cell_type": "code",
   "execution_count": 157,
   "metadata": {},
   "outputs": [
    {
     "data": {
      "text/plain": [
       "{'AE',\n",
       " 'AR',\n",
       " 'AT',\n",
       " 'AU',\n",
       " 'BA',\n",
       " 'BD',\n",
       " 'BE',\n",
       " 'BH',\n",
       " 'BR',\n",
       " 'CA',\n",
       " 'CH',\n",
       " 'CL',\n",
       " 'CN',\n",
       " 'CO',\n",
       " 'CY',\n",
       " 'DE',\n",
       " 'EC',\n",
       " 'EE',\n",
       " 'ES',\n",
       " 'FI',\n",
       " 'FR',\n",
       " 'GB',\n",
       " 'HK',\n",
       " 'HR',\n",
       " 'HU',\n",
       " 'ID',\n",
       " 'IE',\n",
       " 'IL',\n",
       " 'IN',\n",
       " 'IR',\n",
       " 'IT',\n",
       " 'JP',\n",
       " 'KR',\n",
       " 'KW',\n",
       " 'KZ',\n",
       " 'LK',\n",
       " 'LT',\n",
       " 'MK',\n",
       " 'MN',\n",
       " 'MX',\n",
       " 'NL',\n",
       " 'NO',\n",
       " 'NP',\n",
       " 'NZ',\n",
       " 'PE',\n",
       " 'PL',\n",
       " 'PT',\n",
       " 'RE',\n",
       " 'RS',\n",
       " 'RU',\n",
       " 'SE',\n",
       " 'SG',\n",
       " 'SK',\n",
       " 'SV',\n",
       " 'TH',\n",
       " 'TR',\n",
       " 'TW',\n",
       " 'US',\n",
       " 'VN',\n",
       " 'XK',\n",
       " 'ZA'}"
      ]
     },
     "execution_count": 157,
     "metadata": {},
     "output_type": "execute_result"
    }
   ],
   "source": [
    "cou_all_months['pm25']"
   ]
  },
  {
   "cell_type": "code",
   "execution_count": 884,
   "metadata": {},
   "outputs": [],
   "source": [
    "#Averages directly on df\n",
    "\n",
    "def yearly_country_pollutant(data):\n",
    "    '''This function calculates the yearly AQI average for each pollutant and each country for all the available years in the dataset.\n",
    "    \n",
    "    INPUT: pd.DataFrame. Either the original dataset or the output from monthly_city_pollutant()\n",
    "    OUTPU: pd.DataFrame with the yearly AQI average for each pollutant and country'''\n",
    "    \n",
    "    cou_df = data\n",
    "    final_df = pd.DataFrame()\n",
    "    years = np.sort(cou_df.Date.dt.year.unique())\n",
    "    for year in years:\n",
    "        year_df = cou_df[cou_df.Date.dt.year == year]\n",
    "        countries = year_df.Country.unique()\n",
    "        for country in countries:\n",
    "            country_df = year_df[year_df.Country == country]\n",
    "            pollutants = country_df.Pollutant.unique()\n",
    "\n",
    "            # Calculation of the yearly mean for each pollutant:\n",
    "            for pollutant in pollutants:\n",
    "                pollutant_df = country_df[country_df.Pollutant == pollutant]\n",
    "\n",
    "                # Yearly mean of the AQI for a particular pollutant and country\n",
    "                mean_yearly_pollutant = pollutant_df['median'].mean() \n",
    "\n",
    "                # Standard deviation of the mean yearly pollutant. Assuming i.i.d i.e Cov = 0\n",
    "                std_dev_mean = np.std(pollutant_df['median'])/pollutant_df.shape[0] # Propagation of std. deviations for the mean\n",
    "                no_points = pollutant_df.shape[0]\n",
    "                \n",
    "                #T-test confidence interval calculation\n",
    "                if no_points == 1:\n",
    "                    error_95th = pollutant_df['conf_interval_95%'].values\n",
    "                else:\n",
    "                    alpha= 0.95\n",
    "                    error_95th = stats.t.interval(df=no_points-1, alpha=alpha)[1] * std_dev_mean\n",
    "\n",
    "                # Calculation of the overall AQI (max of the individual pollutant AQIs)\n",
    "\n",
    "                date_string = '{}'.format(year)\n",
    "                temp_df = pd.DataFrame({'Date': datetime.strptime(date_string, '%Y'), 'Country': country, 'Country_name': pollutant_df.Country_name.unique()[0], \\\n",
    "                                        'No_points': no_points, 'Pollutant': pollutant, 'AQI': [mean_yearly_pollutant], 'std_dev': std_dev_mean, 'conf_interval_95%': error_95th})\n",
    "                final_df = pd.concat([final_df, temp_df])    \n",
    "\n",
    "    return final_df.reset_index().drop('index', axis=1)"
   ]
  },
  {
   "cell_type": "code",
   "execution_count": null,
   "metadata": {},
   "outputs": [],
   "source": []
  }
 ],
 "metadata": {
  "kernelspec": {
   "display_name": "Python 3",
   "language": "python",
   "name": "python3"
  },
  "language_info": {
   "codemirror_mode": {
    "name": "ipython",
    "version": 3
   },
   "file_extension": ".py",
   "mimetype": "text/x-python",
   "name": "python",
   "nbconvert_exporter": "python",
   "pygments_lexer": "ipython3",
   "version": "3.8.10"
  }
 },
 "nbformat": 4,
 "nbformat_minor": 4
}
