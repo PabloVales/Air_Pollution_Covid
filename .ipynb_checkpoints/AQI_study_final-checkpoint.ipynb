{
 "cells": [
  {
   "cell_type": "markdown",
   "metadata": {},
   "source": [
    "# AIR POLLUTION AND HOW COVID WAS GOOD FOR OUR LUNGS"
   ]
  },
  {
   "cell_type": "code",
   "execution_count": 7,
   "metadata": {},
   "outputs": [],
   "source": [
    "#Import necessary libraries\n",
    "\n",
    "import os\n",
    "import re\n",
    "import requests\n",
    "import pandas as pd\n",
    "import numpy as np\n",
    "import matplotlib.pyplot as plt\n",
    "import seaborn as sns\n",
    "from scipy import stats\n",
    "import math\n",
    "from datetime import datetime"
   ]
  },
  {
   "cell_type": "markdown",
   "metadata": {
    "tags": []
   },
   "source": [
    "### Table of Contents\n",
    "\n",
    "* [Objective/Business Understanding](#objective)\n",
    "* [Data Gathering and understanding](#data_gather)\n",
    "* [Data Preparation](#data_prep)\n",
    "    * [Data Cleaning](#data_cleaning)\n",
    "    * [Join with external \"Country name\" dataset](#join)\n",
    "* [Evaluation](#evaluation)\n",
    "    * [How much the air quality varied during the year 2020 relative to 2019 in Spain? Which pollutant underwent the largest variation?](#first_question)\n",
    "    * [How was the monthly evolution across the whole year of 2020](#second_question)\n",
    "    * [How did the air quality changed in the Spanish cities?](#third_question)\n",
    "* [Conclusions](#conclusions)"
   ]
  },
  {
   "cell_type": "markdown",
   "metadata": {},
   "source": [
    "# Objective/Business understanding <a class='anchor' id='objective'>\n",
    "\n",
    "Air pollution is one the main risk factors to develop diseases. The Covid pandemic has given us with an extraordinary situation to study how fast and how much the air pollution would decrease given a set of health security measures. This data can be useful and provides us some understanding for future specific measures to decrease the air pollution in the cities. Has Covid benefitted us in this regard? For this we will be analyzing Spain, as it was one of the most strict countries in terms of health security measures that spanned throughout the whole year of 2020 with a full (and mandatory) confinement of 3 months from March 15th to June 21st.\n",
    "\n",
    "We will be answering three different questions:\n",
    "\n",
    "1. Evaluate how much the air quality varied during the year 2020 relative to 2019 in Spain and which pollutant underwent the largest variation\n",
    "2. How was the monthly evolution of air pollution across the whole year of 2020\n",
    "3. What cities showed the largest pollution decrease in 2020\n",
    "    \n"
   ]
  },
  {
   "cell_type": "markdown",
   "metadata": {},
   "source": [
    "# Data Gathering and understanding <a class='anchor' id='data_gather'>"
   ]
  },
  {
   "cell_type": "markdown",
   "metadata": {},
   "source": [
    "To be able to answer the previous questions we will need air quality data from the main city centers in Spain. The time resolution for this measurements needs to be either hourly or daily. Since we will be looking, at most, at a monthly temporal resolution, daily data is suitable for this study. \n",
    "\n",
    "The data will be extracted from the www.aqi.cn webpage, specifically from: https://aqicn.org/data-platform/covid19/report where they provide a curated dataset with daily data across 94 countries and more than 600 cities. It can be downloaded manually from the previous link or with the use of the get_aqi_data() function below:"
   ]
  },
  {
   "cell_type": "code",
   "execution_count": 8,
   "metadata": {},
   "outputs": [],
   "source": [
    "def get_aqi_data():\n",
    "    \n",
    "    '''Gets all the daily AQI data from https://aqicn.org/data-platform/covid19/report from 2019 to 2020.\n",
    "    INPUT: None\n",
    "    OUTPUT: A dictionary with all the dataframes where key:value pairs correspond to year:dataframe. It also creates csv files for all of them in\n",
    "    the current folder'''\n",
    "\n",
    "    \n",
    "    strs = 'https://aqicn.org/data-platform/covid19/report/22408-10ad85dd/'\n",
    "    CSV_URLS = 'https://aqicn.org/data-platform/covid19/report/22408-10ad85dd/'\n",
    "    \n",
    "    #Uncomment the following line to download data from 2015 to 2020\n",
    "    #time_periods = ['2020Q1', '2020Q2', '2020Q3', '2020Q4', '2019Q1', '2019Q2', '2019Q3', '2019Q4', '2018H1', '2017H1', '2016H1', '2015H1'] \n",
    "    \n",
    "    time_periods = ['2020Q1', '2020Q2', '2020Q3', '2020Q4', '2019Q1', '2019Q2', '2019Q3', '2019Q4']\n",
    "\n",
    "    dic = {}\n",
    "    for period in time_periods:\n",
    "        print(period)\n",
    "    \n",
    "        response = requests.get(CSV_URLS + period)\n",
    "        string_data = response.content.decode('utf-8')\n",
    "        list_data = [row.split(',') for row in string_data.split('\\n')]\n",
    "        # Remove header\n",
    "        del list_data[:4]\n",
    "    \n",
    "        columns = list_data[0]\n",
    "        values = list_data[1:]\n",
    "    \n",
    "        dic[period] = pd.DataFrame(values, columns=columns)\n",
    "        \n",
    "    for name, df in dic.items():\n",
    "        df.to_csv('./'+name+'.csv')\n",
    "    \n",
    "    return dic\n",
    "\n"
   ]
  },
  {
   "cell_type": "code",
   "execution_count": 9,
   "metadata": {},
   "outputs": [
    {
     "name": "stdout",
     "output_type": "stream",
     "text": [
      "2020Q1\n",
      "2020Q2\n",
      "2020Q3\n",
      "2020Q4\n",
      "2019Q1\n",
      "2019Q2\n",
      "2019Q3\n",
      "2019Q4\n"
     ]
    }
   ],
   "source": [
    "dct = get_aqi_data()\n",
    "\n",
    "#Save data to csv files\n",
    "for name, df in dct.items():\n",
    "    df.to_csv('./'+name+'.csv')"
   ]
  },
  {
   "cell_type": "markdown",
   "metadata": {},
   "source": [
    "# Data Preparation <a class='anchor' id='data_prep'>"
   ]
  },
  {
   "cell_type": "markdown",
   "metadata": {},
   "source": [
    "## File grouping and concatenation of DataFrames <a class='anchor' id='concatenation'>"
   ]
  },
  {
   "cell_type": "markdown",
   "metadata": {},
   "source": [
    "As we can see, the data for 2019 and 2020 is split into 4 different for each year when downloaded from the source. Ideally, we want all the data in a single dataframe for further processing: "
   ]
  },
  {
   "cell_type": "code",
   "execution_count": 10,
   "metadata": {},
   "outputs": [],
   "source": [
    "def concatenate_per_year(year):\n",
    "    '''Helper function: Puts together the csv files for a single year in one DataFrame\n",
    "    INPUT: int year to group\n",
    "    OUTPUT: pd.DataFrame'''\n",
    "    files_in_folder = [file for file in os.listdir() if os.path.isfile(os.path.join(os.getcwd(),file))]\n",
    "                                  \n",
    "    df = pd.DataFrame()\n",
    "    for file in files_in_folder:\n",
    "        if re.search('^{}'.format(str(year)), string=file):\n",
    "            temp_df = pd.read_csv(file)\n",
    "            df = pd.concat([df, temp_df])\n",
    "    return df\n",
    "\n",
    "def concatenate_all_years(years):\n",
    "    '''Creates a single dataframe with the data across all years contained in years\n",
    "    INPUT: list of ints years to concatenate\n",
    "    OUTPUT: pd.DataFrame with the data for all years'''\n",
    "    df = pd.DataFrame()\n",
    "    for year in years:\n",
    "            df = pd.concat([df, concatenate_per_year(year)])\n",
    "    return df\n",
    "        \n",
    "            "
   ]
  },
  {
   "cell_type": "code",
   "execution_count": 11,
   "metadata": {},
   "outputs": [
    {
     "data": {
      "text/html": [
       "<div>\n",
       "<style scoped>\n",
       "    .dataframe tbody tr th:only-of-type {\n",
       "        vertical-align: middle;\n",
       "    }\n",
       "\n",
       "    .dataframe tbody tr th {\n",
       "        vertical-align: top;\n",
       "    }\n",
       "\n",
       "    .dataframe thead th {\n",
       "        text-align: right;\n",
       "    }\n",
       "</style>\n",
       "<table border=\"1\" class=\"dataframe\">\n",
       "  <thead>\n",
       "    <tr style=\"text-align: right;\">\n",
       "      <th></th>\n",
       "      <th>Date</th>\n",
       "      <th>Country</th>\n",
       "      <th>City</th>\n",
       "      <th>Specie</th>\n",
       "      <th>count</th>\n",
       "      <th>min</th>\n",
       "      <th>max</th>\n",
       "      <th>median</th>\n",
       "      <th>variance</th>\n",
       "    </tr>\n",
       "  </thead>\n",
       "  <tbody>\n",
       "    <tr>\n",
       "      <th>0</th>\n",
       "      <td>2019-01-16</td>\n",
       "      <td>AE</td>\n",
       "      <td>Abu Dhabi</td>\n",
       "      <td>pm10</td>\n",
       "      <td>24.0</td>\n",
       "      <td>86.0</td>\n",
       "      <td>99.0</td>\n",
       "      <td>97.0</td>\n",
       "      <td>179.40</td>\n",
       "    </tr>\n",
       "    <tr>\n",
       "      <th>1</th>\n",
       "      <td>2019-01-22</td>\n",
       "      <td>AE</td>\n",
       "      <td>Abu Dhabi</td>\n",
       "      <td>pm10</td>\n",
       "      <td>24.0</td>\n",
       "      <td>51.0</td>\n",
       "      <td>57.0</td>\n",
       "      <td>55.0</td>\n",
       "      <td>23.75</td>\n",
       "    </tr>\n",
       "    <tr>\n",
       "      <th>2</th>\n",
       "      <td>2019-01-26</td>\n",
       "      <td>AE</td>\n",
       "      <td>Abu Dhabi</td>\n",
       "      <td>pm10</td>\n",
       "      <td>24.0</td>\n",
       "      <td>136.0</td>\n",
       "      <td>173.0</td>\n",
       "      <td>160.0</td>\n",
       "      <td>941.96</td>\n",
       "    </tr>\n",
       "    <tr>\n",
       "      <th>3</th>\n",
       "      <td>2019-01-07</td>\n",
       "      <td>AE</td>\n",
       "      <td>Abu Dhabi</td>\n",
       "      <td>pm10</td>\n",
       "      <td>24.0</td>\n",
       "      <td>60.0</td>\n",
       "      <td>91.0</td>\n",
       "      <td>72.0</td>\n",
       "      <td>1006.88</td>\n",
       "    </tr>\n",
       "    <tr>\n",
       "      <th>4</th>\n",
       "      <td>2019-01-10</td>\n",
       "      <td>AE</td>\n",
       "      <td>Abu Dhabi</td>\n",
       "      <td>pm10</td>\n",
       "      <td>24.0</td>\n",
       "      <td>82.0</td>\n",
       "      <td>93.0</td>\n",
       "      <td>87.0</td>\n",
       "      <td>57.97</td>\n",
       "    </tr>\n",
       "  </tbody>\n",
       "</table>\n",
       "</div>"
      ],
      "text/plain": [
       "         Date Country       City Specie  count    min    max  median  variance\n",
       "0  2019-01-16      AE  Abu Dhabi   pm10   24.0   86.0   99.0    97.0    179.40\n",
       "1  2019-01-22      AE  Abu Dhabi   pm10   24.0   51.0   57.0    55.0     23.75\n",
       "2  2019-01-26      AE  Abu Dhabi   pm10   24.0  136.0  173.0   160.0    941.96\n",
       "3  2019-01-07      AE  Abu Dhabi   pm10   24.0   60.0   91.0    72.0   1006.88\n",
       "4  2019-01-10      AE  Abu Dhabi   pm10   24.0   82.0   93.0    87.0     57.97"
      ]
     },
     "execution_count": 11,
     "metadata": {},
     "output_type": "execute_result"
    }
   ],
   "source": [
    "# Put all the downloaded data together in a single dataframe \"df\"\n",
    "df = concatenate_all_years([2019,2020])\n",
    "# Drop useless columns from the concatenation process\n",
    "df = df.reset_index().drop(['index', 'Unnamed: 0'], axis=1)\n",
    "df.head()"
   ]
  },
  {
   "cell_type": "code",
   "execution_count": 12,
   "metadata": {},
   "outputs": [
    {
     "name": "stdout",
     "output_type": "stream",
     "text": [
      "Number of cities in the dataset: 617 | Number of countries in the dataset: 96\n"
     ]
    }
   ],
   "source": [
    "print('Number of cities in the dataset: {} | Number of countries in the dataset: {}'.format(df.City.unique().size, df.Country.unique().size))"
   ]
  },
  {
   "cell_type": "code",
   "execution_count": 13,
   "metadata": {},
   "outputs": [
    {
     "data": {
      "text/plain": [
       "(4502035, 9)"
      ]
     },
     "execution_count": 13,
     "metadata": {},
     "output_type": "execute_result"
    }
   ],
   "source": [
    "df.shape"
   ]
  },
  {
   "cell_type": "markdown",
   "metadata": {},
   "source": [
    "## Data Cleaning <a class='anchor' id='data_cleaning'>"
   ]
  },
  {
   "cell_type": "markdown",
   "metadata": {},
   "source": [
    "Note that in this dataset the value reported for the air quality is the sample median. This magnitude is statistically sound to report air pollution in a particula **day** as it can vary very rapidly along the day and whose distribution might be highly skewed. We will not be using the \"variance\" in the dataset, because it is defined as the variance of the raw data (https://aqicn.org/data-platform/covid19/), rather than the variance of the distribution of the median (which will be the quantity we will use). Note that the raw data is not provided, only the calculated median. For statistical analysis we will be using the natural spread of data. "
   ]
  },
  {
   "cell_type": "code",
   "execution_count": 14,
   "metadata": {},
   "outputs": [],
   "source": [
    "df.drop(['variance', 'min', 'max'], axis=1, inplace=True)"
   ]
  },
  {
   "cell_type": "markdown",
   "metadata": {},
   "source": [
    "Moreover, as we can see in the following cell, in the \"Specie\" column we not only have the AQI for pollutant species, but also other magnitudes like weather properties during the day. These parameters will not be used in this study as we will focus solely on relative changes of the air pollution levels between 2019 and 2020. "
   ]
  },
  {
   "cell_type": "code",
   "execution_count": 15,
   "metadata": {},
   "outputs": [
    {
     "data": {
      "text/plain": [
       "array(['pm10', 'humidity', 'o3', 'so2', 'wind-speed', 'wind-gust', 'dew',\n",
       "       'pm25', 'no2', 'pressure', 'temperature', 'precipitation', 'co',\n",
       "       'wd', 'uvi', 'aqi', 'pm1', 'mepaqi', 'pol', nan, 'wind speed',\n",
       "       'wind gust', 'neph'], dtype=object)"
      ]
     },
     "execution_count": 15,
     "metadata": {},
     "output_type": "execute_result"
    }
   ],
   "source": [
    "df.Specie.unique()"
   ]
  },
  {
   "cell_type": "markdown",
   "metadata": {},
   "source": [
    "We will study nitrogen dioxide (NO$_2$), which is the main byproduct of vehicle traffic, together with sulfur dioxide (SO$_2$), air particle of less than 10 microns (PM$_{10}$) and less than 2.5 microns (PM$_{25}$) which are also main pollutants coming from oil combustion i.e industries and vehicles.\n",
    "\n",
    "Thus, let's filter those pollutant species from our dataframe:"
   ]
  },
  {
   "cell_type": "code",
   "execution_count": 16,
   "metadata": {},
   "outputs": [],
   "source": [
    "pollutants = ['pm10', 'so2', 'no2', 'pm25']\n",
    "df_whole = df.copy(deep=True)\n",
    "df = df[df.Specie.isin(pollutants)]"
   ]
  },
  {
   "cell_type": "code",
   "execution_count": 17,
   "metadata": {},
   "outputs": [
    {
     "data": {
      "text/plain": [
       "(array(['pm10', 'so2', 'pm25', 'no2'], dtype=object), (1426275, 6))"
      ]
     },
     "execution_count": 17,
     "metadata": {},
     "output_type": "execute_result"
    }
   ],
   "source": [
    "df.Specie.unique(), df.shape"
   ]
  },
  {
   "cell_type": "markdown",
   "metadata": {},
   "source": [
    "Now we have all data (almost 1.5 million points) from 2019-2020 in one DataFrame corresponding to the different air pollutants.\n",
    "\n",
    "Do we have missing values?:"
   ]
  },
  {
   "cell_type": "code",
   "execution_count": 18,
   "metadata": {},
   "outputs": [
    {
     "data": {
      "text/plain": [
       "Date       0\n",
       "Country    0\n",
       "City       0\n",
       "Specie     0\n",
       "count      0\n",
       "median     0\n",
       "dtype: int64"
      ]
     },
     "execution_count": 18,
     "metadata": {},
     "output_type": "execute_result"
    }
   ],
   "source": [
    "df.isna().sum()"
   ]
  },
  {
   "cell_type": "markdown",
   "metadata": {},
   "source": [
    "Let's check now what datatypes we have in our table:"
   ]
  },
  {
   "cell_type": "code",
   "execution_count": 19,
   "metadata": {},
   "outputs": [
    {
     "name": "stdout",
     "output_type": "stream",
     "text": [
      "<class 'pandas.core.frame.DataFrame'>\n",
      "Int64Index: 1426275 entries, 0 to 4501349\n",
      "Data columns (total 6 columns):\n",
      " #   Column   Non-Null Count    Dtype  \n",
      "---  ------   --------------    -----  \n",
      " 0   Date     1426275 non-null  object \n",
      " 1   Country  1426275 non-null  object \n",
      " 2   City     1426275 non-null  object \n",
      " 3   Specie   1426275 non-null  object \n",
      " 4   count    1426275 non-null  float64\n",
      " 5   median   1426275 non-null  float64\n",
      "dtypes: float64(2), object(4)\n",
      "memory usage: 76.2+ MB\n"
     ]
    }
   ],
   "source": [
    "df.info()"
   ]
  },
  {
   "cell_type": "markdown",
   "metadata": {},
   "source": [
    "Everything looks good except the date, which we want to parse to obtain a datetime object"
   ]
  },
  {
   "cell_type": "code",
   "execution_count": 20,
   "metadata": {},
   "outputs": [],
   "source": [
    "df.Date = pd.to_datetime(df.Date, format='%Y-%m-%d')"
   ]
  },
  {
   "cell_type": "code",
   "execution_count": 21,
   "metadata": {},
   "outputs": [
    {
     "name": "stdout",
     "output_type": "stream",
     "text": [
      "<class 'pandas.core.frame.DataFrame'>\n",
      "Int64Index: 1426275 entries, 0 to 4501349\n",
      "Data columns (total 6 columns):\n",
      " #   Column   Non-Null Count    Dtype         \n",
      "---  ------   --------------    -----         \n",
      " 0   Date     1426275 non-null  datetime64[ns]\n",
      " 1   Country  1426275 non-null  object        \n",
      " 2   City     1426275 non-null  object        \n",
      " 3   Specie   1426275 non-null  object        \n",
      " 4   count    1426275 non-null  float64       \n",
      " 5   median   1426275 non-null  float64       \n",
      "dtypes: datetime64[ns](1), float64(2), object(3)\n",
      "memory usage: 76.2+ MB\n"
     ]
    }
   ],
   "source": [
    "df.info()"
   ]
  },
  {
   "cell_type": "code",
   "execution_count": 22,
   "metadata": {},
   "outputs": [
    {
     "data": {
      "text/plain": [
       "array([2018, 2019, 2020, 2021], dtype=int64)"
      ]
     },
     "execution_count": 22,
     "metadata": {},
     "output_type": "execute_result"
    }
   ],
   "source": [
    "np.sort(df.Date.dt.year.unique())"
   ]
  },
  {
   "cell_type": "markdown",
   "metadata": {},
   "source": [
    "We have data from 2018 and 2021 even though we only downloaded the 2019-2020 time-span"
   ]
  },
  {
   "cell_type": "code",
   "execution_count": 23,
   "metadata": {},
   "outputs": [
    {
     "name": "stdout",
     "output_type": "stream",
     "text": [
      "Date of data from 2018: ['2018-12-31T00:00:00.000000000']. Date of data from 2021: ['2021-01-02T00:00:00.000000000' '2021-01-01T00:00:00.000000000'\n",
      " '2021-01-03T00:00:00.000000000']\n"
     ]
    }
   ],
   "source": [
    "print('Date of data from 2018: {}. Date of data from 2021: {}'.format(df[df.Date.dt.year == 2018].Date.unique(), df[df.Date.dt.year == 2021].Date.unique()))"
   ]
  },
  {
   "cell_type": "markdown",
   "metadata": {},
   "source": [
    "But we only have data for December 31$^{st}$ for 2018 and the first 3 days of January, 2021. Since these values won't give us any relevant information for our study let's drop those rows:"
   ]
  },
  {
   "cell_type": "code",
   "execution_count": 24,
   "metadata": {},
   "outputs": [],
   "source": [
    "df = df[(df.Date.dt.year > 2018) & (df.Date.dt.year < 2021)]"
   ]
  },
  {
   "cell_type": "markdown",
   "metadata": {},
   "source": [
    "## Join with external \"Country name\" dataset <a class='anchor' id='join'>"
   ]
  },
  {
   "cell_type": "markdown",
   "metadata": {},
   "source": [
    "Although in this work we will only analyze Spain, for further work it may be useful to include all country names in the dataset apart from their 2-letter code. Although useful for simplicity, the latter renders the data a bit cryptic. The country name dataset was extracted from datahub.io in the following link: https://datahub.io/core/country-list"
   ]
  },
  {
   "cell_type": "code",
   "execution_count": 25,
   "metadata": {},
   "outputs": [
    {
     "data": {
      "text/html": [
       "<div>\n",
       "<style scoped>\n",
       "    .dataframe tbody tr th:only-of-type {\n",
       "        vertical-align: middle;\n",
       "    }\n",
       "\n",
       "    .dataframe tbody tr th {\n",
       "        vertical-align: top;\n",
       "    }\n",
       "\n",
       "    .dataframe thead th {\n",
       "        text-align: right;\n",
       "    }\n",
       "</style>\n",
       "<table border=\"1\" class=\"dataframe\">\n",
       "  <thead>\n",
       "    <tr style=\"text-align: right;\">\n",
       "      <th></th>\n",
       "      <th>Name</th>\n",
       "      <th>Code</th>\n",
       "    </tr>\n",
       "  </thead>\n",
       "  <tbody>\n",
       "    <tr>\n",
       "      <th>0</th>\n",
       "      <td>Afghanistan</td>\n",
       "      <td>AF</td>\n",
       "    </tr>\n",
       "    <tr>\n",
       "      <th>1</th>\n",
       "      <td>Ã…land Islands</td>\n",
       "      <td>AX</td>\n",
       "    </tr>\n",
       "    <tr>\n",
       "      <th>2</th>\n",
       "      <td>Albania</td>\n",
       "      <td>AL</td>\n",
       "    </tr>\n",
       "    <tr>\n",
       "      <th>3</th>\n",
       "      <td>Algeria</td>\n",
       "      <td>DZ</td>\n",
       "    </tr>\n",
       "    <tr>\n",
       "      <th>4</th>\n",
       "      <td>American Samoa</td>\n",
       "      <td>AS</td>\n",
       "    </tr>\n",
       "    <tr>\n",
       "      <th>...</th>\n",
       "      <td>...</td>\n",
       "      <td>...</td>\n",
       "    </tr>\n",
       "    <tr>\n",
       "      <th>244</th>\n",
       "      <td>Wallis and Futuna</td>\n",
       "      <td>WF</td>\n",
       "    </tr>\n",
       "    <tr>\n",
       "      <th>245</th>\n",
       "      <td>Western Sahara</td>\n",
       "      <td>EH</td>\n",
       "    </tr>\n",
       "    <tr>\n",
       "      <th>246</th>\n",
       "      <td>Yemen</td>\n",
       "      <td>YE</td>\n",
       "    </tr>\n",
       "    <tr>\n",
       "      <th>247</th>\n",
       "      <td>Zambia</td>\n",
       "      <td>ZM</td>\n",
       "    </tr>\n",
       "    <tr>\n",
       "      <th>248</th>\n",
       "      <td>Zimbabwe</td>\n",
       "      <td>ZW</td>\n",
       "    </tr>\n",
       "  </tbody>\n",
       "</table>\n",
       "<p>249 rows × 2 columns</p>\n",
       "</div>"
      ],
      "text/plain": [
       "                  Name Code\n",
       "0          Afghanistan   AF\n",
       "1       Ã…land Islands   AX\n",
       "2              Albania   AL\n",
       "3              Algeria   DZ\n",
       "4       American Samoa   AS\n",
       "..                 ...  ...\n",
       "244  Wallis and Futuna   WF\n",
       "245     Western Sahara   EH\n",
       "246              Yemen   YE\n",
       "247             Zambia   ZM\n",
       "248           Zimbabwe   ZW\n",
       "\n",
       "[249 rows x 2 columns]"
      ]
     },
     "execution_count": 25,
     "metadata": {},
     "output_type": "execute_result"
    }
   ],
   "source": [
    "# Read the data from the csv file\n",
    "country_name = pd.read_csv('.\\country_codes.txt')\n",
    "country_name"
   ]
  },
  {
   "cell_type": "code",
   "execution_count": 26,
   "metadata": {},
   "outputs": [
    {
     "data": {
      "text/plain": [
       "Name    object\n",
       "Code    object\n",
       "dtype: object"
      ]
     },
     "execution_count": 26,
     "metadata": {},
     "output_type": "execute_result"
    }
   ],
   "source": [
    "country_name.dtypes"
   ]
  },
  {
   "cell_type": "markdown",
   "metadata": {},
   "source": [
    "Are there any missing values in this dataset?"
   ]
  },
  {
   "cell_type": "code",
   "execution_count": 27,
   "metadata": {},
   "outputs": [
    {
     "data": {
      "text/plain": [
       "Name    0\n",
       "Code    1\n",
       "dtype: int64"
      ]
     },
     "execution_count": 27,
     "metadata": {},
     "output_type": "execute_result"
    }
   ],
   "source": [
    "country_name.isna().sum()"
   ]
  },
  {
   "cell_type": "markdown",
   "metadata": {},
   "source": [
    "There is a missing value in the country_name dataframe in the \"Code\" column. What country is it?"
   ]
  },
  {
   "cell_type": "code",
   "execution_count": 28,
   "metadata": {},
   "outputs": [
    {
     "data": {
      "text/plain": [
       "Name    Namibia\n",
       "Code        NaN\n",
       "Name: 153, dtype: object"
      ]
     },
     "execution_count": 28,
     "metadata": {},
     "output_type": "execute_result"
    }
   ],
   "source": [
    "country_name.loc[country_name[country_name.Code.isna()].index[0], :]"
   ]
  },
  {
   "cell_type": "markdown",
   "metadata": {},
   "source": [
    "Is it in our df dataframe? The 2-letter code for Namibia is 'NA'"
   ]
  },
  {
   "cell_type": "code",
   "execution_count": 29,
   "metadata": {},
   "outputs": [
    {
     "data": {
      "text/plain": [
       "(0, 6)"
      ]
     },
     "execution_count": 29,
     "metadata": {},
     "output_type": "execute_result"
    }
   ],
   "source": [
    "df[df.Country == 'NA'].shape"
   ]
  },
  {
   "cell_type": "markdown",
   "metadata": {},
   "source": [
    "Since this country is not in our air pollution dataset then we will not need it and we can safely remove it from country_name:"
   ]
  },
  {
   "cell_type": "code",
   "execution_count": 30,
   "metadata": {},
   "outputs": [
    {
     "data": {
      "text/plain": [
       "(248, 2)"
      ]
     },
     "execution_count": 30,
     "metadata": {},
     "output_type": "execute_result"
    }
   ],
   "source": [
    "country_name.dropna(inplace=True)\n",
    "country_name.shape"
   ]
  },
  {
   "cell_type": "markdown",
   "metadata": {},
   "source": [
    "Now we need to check that every country code in our air pollution dataset is present in the country_name dataframe. "
   ]
  },
  {
   "cell_type": "code",
   "execution_count": 31,
   "metadata": {},
   "outputs": [],
   "source": [
    "def check_contents(arr1, arr2):\n",
    "    '''Checks if all elements in arr1 are contained in arr2\n",
    "    INPUT: arr1, arr2 arrays with the elements to compare\n",
    "    OUTPUT: boolean array with the length of arr1. If True then the element in arr1 is in arr2. If False, it is not present'''\n",
    "    \n",
    "    bool_arr = np.array([])\n",
    "    for country in arr1:\n",
    "        boolean = country in arr2\n",
    "        bool_arr = np.append(bool_arr, boolean)\n",
    "\n",
    "    if bool_arr.all():\n",
    "        print('All elements in array 1 are in array 2')\n",
    "    else: \n",
    "        missing = len(bool_arr) - bool_arr.sum()\n",
    "        print('There are {} elements of array 1 missing in array 2'.format(int(missing)))\n",
    "        \n",
    "    return bool_arr\n",
    "    "
   ]
  },
  {
   "cell_type": "code",
   "execution_count": 32,
   "metadata": {},
   "outputs": [
    {
     "name": "stdout",
     "output_type": "stream",
     "text": [
      "There are 1 elements of array 1 missing in array 2\n"
     ]
    }
   ],
   "source": [
    "air_pollution_countries = df.Country.unique()\n",
    "country_name_countries = country_name.Code.unique()\n",
    "\n",
    "bool_arr_1 = check_contents(air_pollution_countries, country_name_countries)"
   ]
  },
  {
   "cell_type": "markdown",
   "metadata": {},
   "source": [
    "Which one is not present in country_names?"
   ]
  },
  {
   "cell_type": "code",
   "execution_count": 33,
   "metadata": {},
   "outputs": [
    {
     "data": {
      "text/plain": [
       "array(['XK'], dtype=object)"
      ]
     },
     "execution_count": 33,
     "metadata": {},
     "output_type": "execute_result"
    }
   ],
   "source": [
    "df.Country.unique()[bool_arr_1 == False]"
   ]
  },
  {
   "cell_type": "markdown",
   "metadata": {},
   "source": [
    "'XK' corresponds to Kosovo. As this country is not contained in the country_name dataset, let's include it manually."
   ]
  },
  {
   "cell_type": "code",
   "execution_count": 34,
   "metadata": {},
   "outputs": [
    {
     "data": {
      "text/html": [
       "<div>\n",
       "<style scoped>\n",
       "    .dataframe tbody tr th:only-of-type {\n",
       "        vertical-align: middle;\n",
       "    }\n",
       "\n",
       "    .dataframe tbody tr th {\n",
       "        vertical-align: top;\n",
       "    }\n",
       "\n",
       "    .dataframe thead th {\n",
       "        text-align: right;\n",
       "    }\n",
       "</style>\n",
       "<table border=\"1\" class=\"dataframe\">\n",
       "  <thead>\n",
       "    <tr style=\"text-align: right;\">\n",
       "      <th></th>\n",
       "      <th>Name</th>\n",
       "      <th>Code</th>\n",
       "    </tr>\n",
       "  </thead>\n",
       "  <tbody>\n",
       "    <tr>\n",
       "      <th>0</th>\n",
       "      <td>Afghanistan</td>\n",
       "      <td>AF</td>\n",
       "    </tr>\n",
       "    <tr>\n",
       "      <th>1</th>\n",
       "      <td>Ã…land Islands</td>\n",
       "      <td>AX</td>\n",
       "    </tr>\n",
       "    <tr>\n",
       "      <th>2</th>\n",
       "      <td>Albania</td>\n",
       "      <td>AL</td>\n",
       "    </tr>\n",
       "    <tr>\n",
       "      <th>3</th>\n",
       "      <td>Algeria</td>\n",
       "      <td>DZ</td>\n",
       "    </tr>\n",
       "    <tr>\n",
       "      <th>4</th>\n",
       "      <td>American Samoa</td>\n",
       "      <td>AS</td>\n",
       "    </tr>\n",
       "    <tr>\n",
       "      <th>...</th>\n",
       "      <td>...</td>\n",
       "      <td>...</td>\n",
       "    </tr>\n",
       "    <tr>\n",
       "      <th>244</th>\n",
       "      <td>Western Sahara</td>\n",
       "      <td>EH</td>\n",
       "    </tr>\n",
       "    <tr>\n",
       "      <th>245</th>\n",
       "      <td>Yemen</td>\n",
       "      <td>YE</td>\n",
       "    </tr>\n",
       "    <tr>\n",
       "      <th>246</th>\n",
       "      <td>Zambia</td>\n",
       "      <td>ZM</td>\n",
       "    </tr>\n",
       "    <tr>\n",
       "      <th>247</th>\n",
       "      <td>Zimbabwe</td>\n",
       "      <td>ZW</td>\n",
       "    </tr>\n",
       "    <tr>\n",
       "      <th>248</th>\n",
       "      <td>Kosovo</td>\n",
       "      <td>XK</td>\n",
       "    </tr>\n",
       "  </tbody>\n",
       "</table>\n",
       "<p>249 rows × 2 columns</p>\n",
       "</div>"
      ],
      "text/plain": [
       "               Name Code\n",
       "0       Afghanistan   AF\n",
       "1    Ã…land Islands   AX\n",
       "2           Albania   AL\n",
       "3           Algeria   DZ\n",
       "4    American Samoa   AS\n",
       "..              ...  ...\n",
       "244  Western Sahara   EH\n",
       "245           Yemen   YE\n",
       "246          Zambia   ZM\n",
       "247        Zimbabwe   ZW\n",
       "248          Kosovo   XK\n",
       "\n",
       "[249 rows x 2 columns]"
      ]
     },
     "execution_count": 34,
     "metadata": {},
     "output_type": "execute_result"
    }
   ],
   "source": [
    "kosovo_df = pd.DataFrame([['Kosovo', 'XK']], columns=country_name.columns)\n",
    "country_name = pd.concat([country_name, kosovo_df], axis=0).reset_index(drop=True)\n",
    "country_name"
   ]
  },
  {
   "cell_type": "markdown",
   "metadata": {},
   "source": [
    "Now rechecking that everything is correct:"
   ]
  },
  {
   "cell_type": "code",
   "execution_count": 35,
   "metadata": {},
   "outputs": [
    {
     "name": "stdout",
     "output_type": "stream",
     "text": [
      "All elements in array 1 are in array 2\n"
     ]
    }
   ],
   "source": [
    "air_pollution_countries = df.Country.unique()\n",
    "country_name_countries = country_name.Code.unique()\n",
    "\n",
    "bool_arr_1 = check_contents(air_pollution_countries, country_name_countries)"
   ]
  },
  {
   "cell_type": "markdown",
   "metadata": {},
   "source": [
    "Every country code in country_name is in our df dataframe. We can now do an inner join of both tables on the country code and do some renaming and re-arranging of columns:\n"
   ]
  },
  {
   "cell_type": "code",
   "execution_count": 36,
   "metadata": {},
   "outputs": [
    {
     "data": {
      "text/html": [
       "<div>\n",
       "<style scoped>\n",
       "    .dataframe tbody tr th:only-of-type {\n",
       "        vertical-align: middle;\n",
       "    }\n",
       "\n",
       "    .dataframe tbody tr th {\n",
       "        vertical-align: top;\n",
       "    }\n",
       "\n",
       "    .dataframe thead th {\n",
       "        text-align: right;\n",
       "    }\n",
       "</style>\n",
       "<table border=\"1\" class=\"dataframe\">\n",
       "  <thead>\n",
       "    <tr style=\"text-align: right;\">\n",
       "      <th></th>\n",
       "      <th>Date</th>\n",
       "      <th>Country</th>\n",
       "      <th>Country_name</th>\n",
       "      <th>City</th>\n",
       "      <th>Pollutant</th>\n",
       "      <th>count</th>\n",
       "      <th>median</th>\n",
       "    </tr>\n",
       "  </thead>\n",
       "  <tbody>\n",
       "    <tr>\n",
       "      <th>0</th>\n",
       "      <td>2019-01-16</td>\n",
       "      <td>AE</td>\n",
       "      <td>United Arab Emirates</td>\n",
       "      <td>Abu Dhabi</td>\n",
       "      <td>pm10</td>\n",
       "      <td>24.0</td>\n",
       "      <td>97.0</td>\n",
       "    </tr>\n",
       "    <tr>\n",
       "      <th>1</th>\n",
       "      <td>2019-01-22</td>\n",
       "      <td>AE</td>\n",
       "      <td>United Arab Emirates</td>\n",
       "      <td>Abu Dhabi</td>\n",
       "      <td>pm10</td>\n",
       "      <td>24.0</td>\n",
       "      <td>55.0</td>\n",
       "    </tr>\n",
       "    <tr>\n",
       "      <th>2</th>\n",
       "      <td>2019-01-26</td>\n",
       "      <td>AE</td>\n",
       "      <td>United Arab Emirates</td>\n",
       "      <td>Abu Dhabi</td>\n",
       "      <td>pm10</td>\n",
       "      <td>24.0</td>\n",
       "      <td>160.0</td>\n",
       "    </tr>\n",
       "    <tr>\n",
       "      <th>3</th>\n",
       "      <td>2019-01-07</td>\n",
       "      <td>AE</td>\n",
       "      <td>United Arab Emirates</td>\n",
       "      <td>Abu Dhabi</td>\n",
       "      <td>pm10</td>\n",
       "      <td>24.0</td>\n",
       "      <td>72.0</td>\n",
       "    </tr>\n",
       "    <tr>\n",
       "      <th>4</th>\n",
       "      <td>2019-01-10</td>\n",
       "      <td>AE</td>\n",
       "      <td>United Arab Emirates</td>\n",
       "      <td>Abu Dhabi</td>\n",
       "      <td>pm10</td>\n",
       "      <td>24.0</td>\n",
       "      <td>87.0</td>\n",
       "    </tr>\n",
       "  </tbody>\n",
       "</table>\n",
       "</div>"
      ],
      "text/plain": [
       "        Date Country          Country_name       City Pollutant  count  median\n",
       "0 2019-01-16      AE  United Arab Emirates  Abu Dhabi      pm10   24.0    97.0\n",
       "1 2019-01-22      AE  United Arab Emirates  Abu Dhabi      pm10   24.0    55.0\n",
       "2 2019-01-26      AE  United Arab Emirates  Abu Dhabi      pm10   24.0   160.0\n",
       "3 2019-01-07      AE  United Arab Emirates  Abu Dhabi      pm10   24.0    72.0\n",
       "4 2019-01-10      AE  United Arab Emirates  Abu Dhabi      pm10   24.0    87.0"
      ]
     },
     "execution_count": 36,
     "metadata": {},
     "output_type": "execute_result"
    }
   ],
   "source": [
    "df = pd.merge(df, country_name, how='inner', left_on='Country', right_on='Code').drop('Code', axis=1).rename(columns={'Name':'Country_name', 'Specie':'Pollutant'})\n",
    "df = df[['Date', 'Country', 'Country_name', 'City', 'Pollutant', 'count', 'median']]\n",
    "df.head()"
   ]
  },
  {
   "cell_type": "markdown",
   "metadata": {},
   "source": [
    "Now that we have the dataset for different countries, let's narrow it down to the country of this study: Spain. As we will need it later, let's include the city population of the spanish cities present in our air pollution dataset:"
   ]
  },
  {
   "cell_type": "code",
   "execution_count": 37,
   "metadata": {},
   "outputs": [],
   "source": [
    "df_spain = df[df.Country =='ES']"
   ]
  },
  {
   "cell_type": "code",
   "execution_count": 38,
   "metadata": {},
   "outputs": [
    {
     "name": "stdout",
     "output_type": "stream",
     "text": [
      "Number of datapoints: 59549. Number of spanish cities: 23\n"
     ]
    }
   ],
   "source": [
    "print('Number of datapoints: {}. Number of spanish cities: {}'.format(df_spain.shape[0], df_spain.City.unique().size))"
   ]
  },
  {
   "cell_type": "code",
   "execution_count": 39,
   "metadata": {},
   "outputs": [
    {
     "data": {
      "text/html": [
       "<div>\n",
       "<style scoped>\n",
       "    .dataframe tbody tr th:only-of-type {\n",
       "        vertical-align: middle;\n",
       "    }\n",
       "\n",
       "    .dataframe tbody tr th {\n",
       "        vertical-align: top;\n",
       "    }\n",
       "\n",
       "    .dataframe thead th {\n",
       "        text-align: right;\n",
       "    }\n",
       "</style>\n",
       "<table border=\"1\" class=\"dataframe\">\n",
       "  <thead>\n",
       "    <tr style=\"text-align: right;\">\n",
       "      <th></th>\n",
       "      <th>Date</th>\n",
       "      <th>Country</th>\n",
       "      <th>Country_name</th>\n",
       "      <th>City</th>\n",
       "      <th>Pollutant</th>\n",
       "      <th>count</th>\n",
       "      <th>median</th>\n",
       "    </tr>\n",
       "  </thead>\n",
       "  <tbody>\n",
       "    <tr>\n",
       "      <th>663836</th>\n",
       "      <td>2019-01-03</td>\n",
       "      <td>ES</td>\n",
       "      <td>Spain</td>\n",
       "      <td>Las Palmas de Gran Canaria</td>\n",
       "      <td>pm25</td>\n",
       "      <td>206.0</td>\n",
       "      <td>25.0</td>\n",
       "    </tr>\n",
       "    <tr>\n",
       "      <th>663837</th>\n",
       "      <td>2019-01-06</td>\n",
       "      <td>ES</td>\n",
       "      <td>Spain</td>\n",
       "      <td>Las Palmas de Gran Canaria</td>\n",
       "      <td>pm25</td>\n",
       "      <td>216.0</td>\n",
       "      <td>34.0</td>\n",
       "    </tr>\n",
       "    <tr>\n",
       "      <th>663838</th>\n",
       "      <td>2019-01-07</td>\n",
       "      <td>ES</td>\n",
       "      <td>Spain</td>\n",
       "      <td>Las Palmas de Gran Canaria</td>\n",
       "      <td>pm25</td>\n",
       "      <td>195.0</td>\n",
       "      <td>25.0</td>\n",
       "    </tr>\n",
       "    <tr>\n",
       "      <th>663839</th>\n",
       "      <td>2019-01-18</td>\n",
       "      <td>ES</td>\n",
       "      <td>Spain</td>\n",
       "      <td>Las Palmas de Gran Canaria</td>\n",
       "      <td>pm25</td>\n",
       "      <td>178.0</td>\n",
       "      <td>21.0</td>\n",
       "    </tr>\n",
       "    <tr>\n",
       "      <th>663840</th>\n",
       "      <td>2019-01-19</td>\n",
       "      <td>ES</td>\n",
       "      <td>Spain</td>\n",
       "      <td>Las Palmas de Gran Canaria</td>\n",
       "      <td>pm25</td>\n",
       "      <td>177.0</td>\n",
       "      <td>17.0</td>\n",
       "    </tr>\n",
       "  </tbody>\n",
       "</table>\n",
       "</div>"
      ],
      "text/plain": [
       "             Date Country Country_name                        City Pollutant  \\\n",
       "663836 2019-01-03      ES        Spain  Las Palmas de Gran Canaria      pm25   \n",
       "663837 2019-01-06      ES        Spain  Las Palmas de Gran Canaria      pm25   \n",
       "663838 2019-01-07      ES        Spain  Las Palmas de Gran Canaria      pm25   \n",
       "663839 2019-01-18      ES        Spain  Las Palmas de Gran Canaria      pm25   \n",
       "663840 2019-01-19      ES        Spain  Las Palmas de Gran Canaria      pm25   \n",
       "\n",
       "        count  median  \n",
       "663836  206.0    25.0  \n",
       "663837  216.0    34.0  \n",
       "663838  195.0    25.0  \n",
       "663839  178.0    21.0  \n",
       "663840  177.0    17.0  "
      ]
     },
     "execution_count": 39,
     "metadata": {},
     "output_type": "execute_result"
    }
   ],
   "source": [
    "df_spain.head()"
   ]
  },
  {
   "cell_type": "code",
   "execution_count": 124,
   "metadata": {},
   "outputs": [],
   "source": [
    "from bs4 import BeautifulSoup\n",
    "import requests"
   ]
  },
  {
   "cell_type": "code",
   "execution_count": 128,
   "metadata": {},
   "outputs": [
    {
     "data": {
      "text/plain": [
       "<Response [200]>"
      ]
     },
     "execution_count": 128,
     "metadata": {},
     "output_type": "execute_result"
    }
   ],
   "source": [
    "page"
   ]
  },
  {
   "cell_type": "code",
   "execution_count": 129,
   "metadata": {},
   "outputs": [],
   "source": [
    "page = requests.get('https://www.geodatos.net/coordenadas/espana')\n",
    "soup = BeautifulSoup(page.text)"
   ]
  },
  {
   "cell_type": "code",
   "execution_count": null,
   "metadata": {},
   "outputs": [],
   "source": []
  },
  {
   "cell_type": "code",
   "execution_count": 119,
   "metadata": {},
   "outputs": [
    {
     "data": {
      "text/html": [
       "<div style=\"width:100%;\"><div style=\"position:relative;width:100%;height:0;padding-bottom:60%;\"><span style=\"color:#565656\">Make this Notebook Trusted to load map: File -> Trust Notebook</span><iframe src=\"about:blank\" style=\"position:absolute;width:100%;height:100%;left:0;top:0;border:none !important;\" data-html=%3C%21DOCTYPE%20html%3E%0A%3Chead%3E%20%20%20%20%0A%20%20%20%20%3Cmeta%20http-equiv%3D%22content-type%22%20content%3D%22text/html%3B%20charset%3DUTF-8%22%20/%3E%0A%20%20%20%20%0A%20%20%20%20%20%20%20%20%3Cscript%3E%0A%20%20%20%20%20%20%20%20%20%20%20%20L_NO_TOUCH%20%3D%20false%3B%0A%20%20%20%20%20%20%20%20%20%20%20%20L_DISABLE_3D%20%3D%20false%3B%0A%20%20%20%20%20%20%20%20%3C/script%3E%0A%20%20%20%20%0A%20%20%20%20%3Cstyle%3Ehtml%2C%20body%20%7Bwidth%3A%20100%25%3Bheight%3A%20100%25%3Bmargin%3A%200%3Bpadding%3A%200%3B%7D%3C/style%3E%0A%20%20%20%20%3Cstyle%3E%23map%20%7Bposition%3Aabsolute%3Btop%3A0%3Bbottom%3A0%3Bright%3A0%3Bleft%3A0%3B%7D%3C/style%3E%0A%20%20%20%20%3Cscript%20src%3D%22https%3A//cdn.jsdelivr.net/npm/leaflet%401.6.0/dist/leaflet.js%22%3E%3C/script%3E%0A%20%20%20%20%3Cscript%20src%3D%22https%3A//code.jquery.com/jquery-1.12.4.min.js%22%3E%3C/script%3E%0A%20%20%20%20%3Cscript%20src%3D%22https%3A//maxcdn.bootstrapcdn.com/bootstrap/3.2.0/js/bootstrap.min.js%22%3E%3C/script%3E%0A%20%20%20%20%3Cscript%20src%3D%22https%3A//cdnjs.cloudflare.com/ajax/libs/Leaflet.awesome-markers/2.0.2/leaflet.awesome-markers.js%22%3E%3C/script%3E%0A%20%20%20%20%3Clink%20rel%3D%22stylesheet%22%20href%3D%22https%3A//cdn.jsdelivr.net/npm/leaflet%401.6.0/dist/leaflet.css%22/%3E%0A%20%20%20%20%3Clink%20rel%3D%22stylesheet%22%20href%3D%22https%3A//maxcdn.bootstrapcdn.com/bootstrap/3.2.0/css/bootstrap.min.css%22/%3E%0A%20%20%20%20%3Clink%20rel%3D%22stylesheet%22%20href%3D%22https%3A//maxcdn.bootstrapcdn.com/bootstrap/3.2.0/css/bootstrap-theme.min.css%22/%3E%0A%20%20%20%20%3Clink%20rel%3D%22stylesheet%22%20href%3D%22https%3A//maxcdn.bootstrapcdn.com/font-awesome/4.6.3/css/font-awesome.min.css%22/%3E%0A%20%20%20%20%3Clink%20rel%3D%22stylesheet%22%20href%3D%22https%3A//cdnjs.cloudflare.com/ajax/libs/Leaflet.awesome-markers/2.0.2/leaflet.awesome-markers.css%22/%3E%0A%20%20%20%20%3Clink%20rel%3D%22stylesheet%22%20href%3D%22https%3A//cdn.jsdelivr.net/gh/python-visualization/folium/folium/templates/leaflet.awesome.rotate.min.css%22/%3E%0A%20%20%20%20%0A%20%20%20%20%20%20%20%20%20%20%20%20%3Cmeta%20name%3D%22viewport%22%20content%3D%22width%3Ddevice-width%2C%0A%20%20%20%20%20%20%20%20%20%20%20%20%20%20%20%20initial-scale%3D1.0%2C%20maximum-scale%3D1.0%2C%20user-scalable%3Dno%22%20/%3E%0A%20%20%20%20%20%20%20%20%20%20%20%20%3Cstyle%3E%0A%20%20%20%20%20%20%20%20%20%20%20%20%20%20%20%20%23map_b08c683540f842f9a098877226fbc459%20%7B%0A%20%20%20%20%20%20%20%20%20%20%20%20%20%20%20%20%20%20%20%20position%3A%20relative%3B%0A%20%20%20%20%20%20%20%20%20%20%20%20%20%20%20%20%20%20%20%20width%3A%20100.0%25%3B%0A%20%20%20%20%20%20%20%20%20%20%20%20%20%20%20%20%20%20%20%20height%3A%20100.0%25%3B%0A%20%20%20%20%20%20%20%20%20%20%20%20%20%20%20%20%20%20%20%20left%3A%200.0%25%3B%0A%20%20%20%20%20%20%20%20%20%20%20%20%20%20%20%20%20%20%20%20top%3A%200.0%25%3B%0A%20%20%20%20%20%20%20%20%20%20%20%20%20%20%20%20%7D%0A%20%20%20%20%20%20%20%20%20%20%20%20%3C/style%3E%0A%20%20%20%20%20%20%20%20%0A%3C/head%3E%0A%3Cbody%3E%20%20%20%20%0A%20%20%20%20%0A%20%20%20%20%20%20%20%20%20%20%20%20%3Cdiv%20class%3D%22folium-map%22%20id%3D%22map_b08c683540f842f9a098877226fbc459%22%20%3E%3C/div%3E%0A%20%20%20%20%20%20%20%20%0A%3C/body%3E%0A%3Cscript%3E%20%20%20%20%0A%20%20%20%20%0A%20%20%20%20%20%20%20%20%20%20%20%20var%20map_b08c683540f842f9a098877226fbc459%20%3D%20L.map%28%0A%20%20%20%20%20%20%20%20%20%20%20%20%20%20%20%20%22map_b08c683540f842f9a098877226fbc459%22%2C%0A%20%20%20%20%20%20%20%20%20%20%20%20%20%20%20%20%7B%0A%20%20%20%20%20%20%20%20%20%20%20%20%20%20%20%20%20%20%20%20center%3A%20%5B40.4165%2C%20-3.70256%5D%2C%0A%20%20%20%20%20%20%20%20%20%20%20%20%20%20%20%20%20%20%20%20crs%3A%20L.CRS.EPSG3857%2C%0A%20%20%20%20%20%20%20%20%20%20%20%20%20%20%20%20%20%20%20%20zoom%3A%206%2C%0A%20%20%20%20%20%20%20%20%20%20%20%20%20%20%20%20%20%20%20%20zoomControl%3A%20true%2C%0A%20%20%20%20%20%20%20%20%20%20%20%20%20%20%20%20%20%20%20%20preferCanvas%3A%20false%2C%0A%20%20%20%20%20%20%20%20%20%20%20%20%20%20%20%20%7D%0A%20%20%20%20%20%20%20%20%20%20%20%20%29%3B%0A%0A%20%20%20%20%20%20%20%20%20%20%20%20%0A%0A%20%20%20%20%20%20%20%20%0A%20%20%20%20%0A%20%20%20%20%20%20%20%20%20%20%20%20var%20tile_layer_d1b73d9a98564cce8f0cef28767bed83%20%3D%20L.tileLayer%28%0A%20%20%20%20%20%20%20%20%20%20%20%20%20%20%20%20%22https%3A//%7Bs%7D.tile.openstreetmap.org/%7Bz%7D/%7Bx%7D/%7By%7D.png%22%2C%0A%20%20%20%20%20%20%20%20%20%20%20%20%20%20%20%20%7B%22attribution%22%3A%20%22Data%20by%20%5Cu0026copy%3B%20%5Cu003ca%20href%3D%5C%22http%3A//openstreetmap.org%5C%22%5Cu003eOpenStreetMap%5Cu003c/a%5Cu003e%2C%20under%20%5Cu003ca%20href%3D%5C%22http%3A//www.openstreetmap.org/copyright%5C%22%5Cu003eODbL%5Cu003c/a%5Cu003e.%22%2C%20%22detectRetina%22%3A%20false%2C%20%22maxNativeZoom%22%3A%2018%2C%20%22maxZoom%22%3A%2018%2C%20%22minZoom%22%3A%200%2C%20%22noWrap%22%3A%20false%2C%20%22opacity%22%3A%201%2C%20%22subdomains%22%3A%20%22abc%22%2C%20%22tms%22%3A%20false%7D%0A%20%20%20%20%20%20%20%20%20%20%20%20%29.addTo%28map_b08c683540f842f9a098877226fbc459%29%3B%0A%20%20%20%20%20%20%20%20%0A%20%20%20%20%0A%20%20%20%20%20%20%20%20%20%20%20%20var%20marker_c4be556491ce431f96b282a8107567d3%20%3D%20L.marker%28%0A%20%20%20%20%20%20%20%20%20%20%20%20%20%20%20%20%5B40.4165%2C%20-3.70256%5D%2C%0A%20%20%20%20%20%20%20%20%20%20%20%20%20%20%20%20%7B%7D%0A%20%20%20%20%20%20%20%20%20%20%20%20%29.addTo%28map_b08c683540f842f9a098877226fbc459%29%3B%0A%20%20%20%20%20%20%20%20%0A%20%20%20%20%0A%20%20%20%20%20%20%20%20var%20popup_18984683801141fcb0ec2ab9706d222b%20%3D%20L.popup%28%7B%22maxWidth%22%3A%20%22100%25%22%7D%29%3B%0A%0A%20%20%20%20%20%20%20%20%0A%20%20%20%20%20%20%20%20%20%20%20%20var%20html_2675b1b00a944c4b81dcad29600edaa1%20%3D%20%24%28%60%3Cdiv%20id%3D%22html_2675b1b00a944c4b81dcad29600edaa1%22%20style%3D%22width%3A%20100.0%25%3B%20height%3A%20100.0%25%3B%22%3E%3Ci%3EMadrid%3C/i%3E%3C/div%3E%60%29%5B0%5D%3B%0A%20%20%20%20%20%20%20%20%20%20%20%20popup_18984683801141fcb0ec2ab9706d222b.setContent%28html_2675b1b00a944c4b81dcad29600edaa1%29%3B%0A%20%20%20%20%20%20%20%20%0A%0A%20%20%20%20%20%20%20%20marker_c4be556491ce431f96b282a8107567d3.bindPopup%28popup_18984683801141fcb0ec2ab9706d222b%29%0A%20%20%20%20%20%20%20%20%3B%0A%0A%20%20%20%20%20%20%20%20%0A%20%20%20%20%0A%20%20%20%20%0A%20%20%20%20%20%20%20%20%20%20%20%20marker_c4be556491ce431f96b282a8107567d3.bindTooltip%28%0A%20%20%20%20%20%20%20%20%20%20%20%20%20%20%20%20%60%3Cdiv%3E%0A%20%20%20%20%20%20%20%20%20%20%20%20%20%20%20%20%20%20%20%20%20Click%20me%21%0A%20%20%20%20%20%20%20%20%20%20%20%20%20%20%20%20%20%3C/div%3E%60%2C%0A%20%20%20%20%20%20%20%20%20%20%20%20%20%20%20%20%7B%22sticky%22%3A%20true%7D%0A%20%20%20%20%20%20%20%20%20%20%20%20%29%3B%0A%20%20%20%20%20%20%20%20%0A%3C/script%3E onload=\"this.contentDocument.open();this.contentDocument.write(    decodeURIComponent(this.getAttribute('data-html')));this.contentDocument.close();\" allowfullscreen webkitallowfullscreen mozallowfullscreen></iframe></div></div>"
      ],
      "text/plain": [
       "<folium.folium.Map at 0x1304650a1f0>"
      ]
     },
     "execution_count": 119,
     "metadata": {},
     "output_type": "execute_result"
    }
   ],
   "source": [
    "import folium\n",
    "\n",
    "\n",
    "\n",
    "m = folium.Map(location=[40.4165, -3.70256], zoom_start=6)\n",
    "\n",
    "tooltip='Click me!'\n",
    "\n",
    "folium.Marker(\n",
    "    [40.4165, -3.70256], popup=\"<i>Madrid</i>\", tooltip=tooltip\n",
    ").add_to(m)\n",
    "m"
   ]
  },
  {
   "cell_type": "markdown",
   "metadata": {},
   "source": [
    "# Evaluation <a class='anchor' id='evaluation'>"
   ]
  },
  {
   "cell_type": "markdown",
   "metadata": {},
   "source": [
    "## How much the air quality varied during the year 2020 relative to 2019 in Spain? Which pollutant underwent the largest variation? <a class='anchor' id='first_question'>"
   ]
  },
  {
   "cell_type": "markdown",
   "metadata": {},
   "source": [
    "As specified in the ReadMe file the averaging process follows a bottom-up approach where the country average will be done by first doing the averages of all cities in the country separately and then using those values to calculate the whole country average. Moreover, the time-related averages will be done in the same way, by doing the monthly average as the average of all days for each month and the average of all months to calculate the yearly average. This implies that we are giving every city the same weight and importance both spatially and temporally in the calculations. Any weighing factors may be included in the future for other purposes/studies, such us city/country population, area or population density, among others.\n",
    "\n",
    "Therefore, in order to make the country calculation we need several functions, namely: (i) one that calculates the monthly average in each city (monthly_city_pollutant()) and (ii) one that calculates the yearly average in each city (yearly_city_pollutant()). With those 2 functions we can then calculate (iii) the monthly average in each country (monthly_country_pollutant()) and finally (iv) the yearly average of the country (yearly_country_pollutant()):"
   ]
  },
  {
   "cell_type": "code",
   "execution_count": 40,
   "metadata": {},
   "outputs": [
    {
     "data": {
      "text/html": [
       "<div>\n",
       "<style scoped>\n",
       "    .dataframe tbody tr th:only-of-type {\n",
       "        vertical-align: middle;\n",
       "    }\n",
       "\n",
       "    .dataframe tbody tr th {\n",
       "        vertical-align: top;\n",
       "    }\n",
       "\n",
       "    .dataframe thead th {\n",
       "        text-align: right;\n",
       "    }\n",
       "</style>\n",
       "<table border=\"1\" class=\"dataframe\">\n",
       "  <thead>\n",
       "    <tr style=\"text-align: right;\">\n",
       "      <th></th>\n",
       "      <th>Date</th>\n",
       "      <th>Country</th>\n",
       "      <th>Country_name</th>\n",
       "      <th>City</th>\n",
       "      <th>Pollutant</th>\n",
       "      <th>count</th>\n",
       "      <th>median</th>\n",
       "    </tr>\n",
       "  </thead>\n",
       "  <tbody>\n",
       "    <tr>\n",
       "      <th>663836</th>\n",
       "      <td>2019-01-03</td>\n",
       "      <td>ES</td>\n",
       "      <td>Spain</td>\n",
       "      <td>Las Palmas de Gran Canaria</td>\n",
       "      <td>pm25</td>\n",
       "      <td>206.0</td>\n",
       "      <td>25.0</td>\n",
       "    </tr>\n",
       "    <tr>\n",
       "      <th>663837</th>\n",
       "      <td>2019-01-06</td>\n",
       "      <td>ES</td>\n",
       "      <td>Spain</td>\n",
       "      <td>Las Palmas de Gran Canaria</td>\n",
       "      <td>pm25</td>\n",
       "      <td>216.0</td>\n",
       "      <td>34.0</td>\n",
       "    </tr>\n",
       "    <tr>\n",
       "      <th>663838</th>\n",
       "      <td>2019-01-07</td>\n",
       "      <td>ES</td>\n",
       "      <td>Spain</td>\n",
       "      <td>Las Palmas de Gran Canaria</td>\n",
       "      <td>pm25</td>\n",
       "      <td>195.0</td>\n",
       "      <td>25.0</td>\n",
       "    </tr>\n",
       "    <tr>\n",
       "      <th>663839</th>\n",
       "      <td>2019-01-18</td>\n",
       "      <td>ES</td>\n",
       "      <td>Spain</td>\n",
       "      <td>Las Palmas de Gran Canaria</td>\n",
       "      <td>pm25</td>\n",
       "      <td>178.0</td>\n",
       "      <td>21.0</td>\n",
       "    </tr>\n",
       "    <tr>\n",
       "      <th>663840</th>\n",
       "      <td>2019-01-19</td>\n",
       "      <td>ES</td>\n",
       "      <td>Spain</td>\n",
       "      <td>Las Palmas de Gran Canaria</td>\n",
       "      <td>pm25</td>\n",
       "      <td>177.0</td>\n",
       "      <td>17.0</td>\n",
       "    </tr>\n",
       "  </tbody>\n",
       "</table>\n",
       "</div>"
      ],
      "text/plain": [
       "             Date Country Country_name                        City Pollutant  \\\n",
       "663836 2019-01-03      ES        Spain  Las Palmas de Gran Canaria      pm25   \n",
       "663837 2019-01-06      ES        Spain  Las Palmas de Gran Canaria      pm25   \n",
       "663838 2019-01-07      ES        Spain  Las Palmas de Gran Canaria      pm25   \n",
       "663839 2019-01-18      ES        Spain  Las Palmas de Gran Canaria      pm25   \n",
       "663840 2019-01-19      ES        Spain  Las Palmas de Gran Canaria      pm25   \n",
       "\n",
       "        count  median  \n",
       "663836  206.0    25.0  \n",
       "663837  216.0    34.0  \n",
       "663838  195.0    25.0  \n",
       "663839  178.0    21.0  \n",
       "663840  177.0    17.0  "
      ]
     },
     "execution_count": 40,
     "metadata": {},
     "output_type": "execute_result"
    }
   ],
   "source": [
    "df_spain.head()"
   ]
  },
  {
   "cell_type": "code",
   "execution_count": 41,
   "metadata": {},
   "outputs": [],
   "source": [
    "def monthly_city_pollutant(df):\n",
    "    ''' For every pollutant and city this function calculates the monthly average\n",
    "    \n",
    "    INPUT: dataframe with pollution data with the form of the \"df\" or \"df_spain\" dataframe\n",
    "    OUTPUT: dataframe with the monthly average of pollutants for every city in the input data'''\n",
    "    \n",
    "    print('Implementing function: monthly_city_pollutant. This may take a while.')\n",
    "    final_df = pd.DataFrame()\n",
    "   \n",
    "    pollutants = df.Pollutant.unique()\n",
    "    for pollutant in pollutants:\n",
    "        pollutant_df = df[df.Pollutant == pollutant]\n",
    "        countries = pollutant_df.Country.unique()\n",
    "        for country in countries:\n",
    "            country_df = pollutant_df[pollutant_df.Country == country]\n",
    "            cities_country = country_df.City.unique()\n",
    "            for city in cities_country:\n",
    "                city_df = country_df[country_df.City == city]\n",
    "                years = city_df.Date.dt.year.unique()\n",
    "                for year in years:\n",
    "                    year_df = city_df[city_df.Date.dt.year == year]\n",
    "                    months = year_df.Date.dt.month.unique()\n",
    "                    for month in months:\n",
    "                        #Dataframe with a particular city in a given country\n",
    "                        month_df = year_df[year_df.Date.dt.month == month]\n",
    "                            \n",
    "                        mean_ser = month_df['median']\n",
    "                        date_string = '{}/{}'.format(year, month)\n",
    "                                               \n",
    "                        #Standard deviation of the month distribution\n",
    "                        std_dev = np.std(month_df['median'])\n",
    "                        no_points = month_df.count()[0]\n",
    "                         \n",
    "                        #Standard deviation of the mean\n",
    "                        std_dev_mean = std_dev/np.sqrt(month_df.count()[0])\n",
    "                            \n",
    "                        ## t-sutdent confidence interval\n",
    "                        alpha= 0.95\n",
    "                        error_95th = stats.t.interval(df=no_points-1, alpha=alpha)[1] * std_dev_mean\n",
    "                        \n",
    "                        \n",
    "                        #Create a temporary dataframe \n",
    "                        temp_df = pd.DataFrame(data={'Date':datetime.strptime(date_string, '%Y/%m'), 'Month': month, 'Country': country, 'Country_name': month_df.Country_name.unique()[0], \\\n",
    "                                                     'City': city, 'Pollutant': pollutant, 'No_points': no_points, \\\n",
    "                                                     'AQI': [mean_ser.mean()], 'std_dev': std_dev_mean, 'conf_interval_95%': error_95th})\n",
    "                        \n",
    "                        #Concatenate temporary dataframe with final_df (initially empty)\n",
    "                        final_df = pd.concat([final_df, temp_df])\n",
    "                        \n",
    "                        \n",
    "                           \n",
    "    return final_df.reset_index().drop('index', axis=1)\n",
    "    "
   ]
  },
  {
   "cell_type": "code",
   "execution_count": 42,
   "metadata": {},
   "outputs": [],
   "source": [
    "def yearly_city_pollutant(df):\n",
    "    '''Calculates the yearly average of pollutants in every city of the input data\n",
    "    \n",
    "    INPUT: df: pd.DataFrame with pollution data with the form of df dataframe\n",
    "    OUTPUT: dataframe with the monthly average of pollutants for every city in the input data'''\n",
    "    \n",
    "    if ('AQI' not in df.columns) and ('Month' not in df.columns):\n",
    "        inp = input('''Beware: inserting the original DataFrame will imply a long runtime process (> 10 min). It is advised\n",
    "                    to use the returned DataFrame after applying the monthly_city_pollutant() function. Do you want to continue anyway?\\n\n",
    "                    Type \"y\" for Yes\\n\n",
    "                    Type \"n\" for No\\n''')\n",
    "        \n",
    "        if inp.lower() == 'y':\n",
    "            df = monthly_city_pollutant(df)\n",
    "            \n",
    "        else:\n",
    "            return\n",
    "        \n",
    "    elif ('AQI' in df.columns) and ('Month' not in df.columns):\n",
    "        print('This function only accepts the original dataframe or the output from monthly_city_pollutant')\n",
    "        return\n",
    "    \n",
    "    print('Implementing function: yearly_city_pollutant')\n",
    "    final_df = pd.DataFrame()\n",
    "   \n",
    "    pollutants = df.Pollutant.unique()\n",
    "    for pollutant in pollutants:\n",
    "        pollutant_df = df[df.Pollutant == pollutant]\n",
    "        countries = pollutant_df.Country.unique()\n",
    "        for country in countries:\n",
    "            country_df = pollutant_df[pollutant_df.Country == country]\n",
    "            cities_country = country_df.City.unique()\n",
    "            for city in cities_country:\n",
    "                city_df = country_df[country_df.City == city]\n",
    "                years = city_df.Date.dt.year.unique()\n",
    "                for year in years:\n",
    "                    year_df = city_df[city_df.Date.dt.year == year]\n",
    "                            \n",
    "                    mean_ser = year_df['AQI']\n",
    "                    date_string = '{}'.format(year)\n",
    "                            \n",
    "                    #Standard deviation of the mean. Assuming i.i.d i.e Cov = 0\n",
    "                    no_points = year_df.count()[0]\n",
    "                    std_dev_mean = np.sqrt((year_df.std_dev ** 2).sum())/year_df.count()[0]\n",
    " \n",
    "\n",
    "                    # t-sutdent confidence interval\n",
    "                    alpha= 0.95\n",
    "                    error_95th = stats.t.interval(df=no_points-1, alpha=alpha)[1] * std_dev_mean\n",
    "                        \n",
    "                                    \n",
    "                    #Create a temporary dataframe         \n",
    "                    temp_df = pd.DataFrame(data={'Date':datetime.strptime(date_string, '%Y'), 'Country': country, 'Country_name': year_df.Country_name.unique()[0], \\\n",
    "                                                 'City': city, 'Pollutant': pollutant, 'No_points': no_points, 'AQI': [mean_ser.mean()], 'std_dev': std_dev_mean, 'conf_interval_95%': error_95th})\n",
    "                    \n",
    "                    #Concatenate temporary dataframe with final_df (initially empty)\n",
    "                    final_df = pd.concat([final_df, temp_df])\n",
    "                        \n",
    "                        \n",
    "                           \n",
    "    return final_df.reset_index().drop('index', axis=1)\n",
    "    "
   ]
  },
  {
   "cell_type": "code",
   "execution_count": 64,
   "metadata": {},
   "outputs": [],
   "source": [
    "def monthly_country_pollutant(df):\n",
    "    '''This function calculates the monthly AQI average of every country for each pollutant present in the dataframe.\n",
    "    \n",
    "    INPUT: df: pd.DataFrame. If the dataframe is the output from montly_city_pollutant() (containing an \"AQI\" column) then the monthly_country_pollutant() is directly applied.\n",
    "                If the dataframe is the original dataframe with the daily AQI values, then monthly_city_pollutant() is applied first and then monthly_country_pollutant() is applied.\n",
    "                To avoid long runtimes it is adviced to use the monthly_city_pollutant() output as an input for the function.\n",
    "    OUTPUT: pd.DataFrame with the monthly AQI average for each country and pollutant '''\n",
    "    \n",
    "    if 'AQI' not in df.columns: #if the input dataframe is not the output from monthly_city_pollutant() warn about a possible long runtime process\n",
    "        inp = input('''Beware: inserting the original DataFrame will imply a long runtime process (> 10 min). It is advised\n",
    "                    to use the returned DataFrame after applying the monthly_city_pollutant() function. Do you want to continue anyway?\\n\n",
    "                    Type \"y\" for Yes\\n\n",
    "                    Type \"n\" for No\\n''')\n",
    "        \n",
    "        if inp.lower() == 'y':\n",
    "            df = monthly_city_pollutant(df)\n",
    "            \n",
    "        else:\n",
    "            return\n",
    "        \n",
    "    print('Implementing function: monthly_country_pollutant')\n",
    "    city_df = df\n",
    "    final_df = pd.DataFrame()\n",
    "    years = np.sort(city_df.Date.dt.year.unique())\n",
    "    for year in years:\n",
    "        year_df = city_df[city_df.Date.dt.year == year]\n",
    "        months = year_df.Date.dt.month.unique()\n",
    "        for month in months:\n",
    "            month_df = year_df[year_df.Date.dt.month == month]\n",
    "            countries = month_df.Country.unique()\n",
    "            for country in countries:\n",
    "                country_df = month_df[month_df.Country == country]\n",
    "                pollutants = country_df.Pollutant.unique()\n",
    "\n",
    "                # Calculation of the yearly mean for each pollutant:\n",
    "                for pollutant in pollutants:\n",
    "                    pollutant_df = country_df[country_df.Pollutant == pollutant]\n",
    "\n",
    "                    # Yearly mean of the AQI for a particular pollutant and country\n",
    "                    mean_yearly_pollutant = pollutant_df['AQI'].mean() \n",
    "\n",
    "                    # Standard deviation of the mean yearly pollutant. Assuming i.i.d i.e Cov = 0\n",
    "                    no_points = pollutant_df.count()[0]\n",
    "                    std_dev_mean = np.sqrt((pollutant_df.std_dev ** 2).sum())/pollutant_df.count()[0] # Propagation of std. deviations for the mean\n",
    "                    \n",
    "                    # t-sutdent confidence interval\n",
    "                    if no_points == 1: # If the country has only 1 city per month, then use their original intervals and errors\n",
    "                        error_95th = pollutant_df['conf_interval_95%']\n",
    "                    else:\n",
    "                        alpha= 0.95\n",
    "                        error_95th = stats.t.interval(df=no_points-1, alpha=alpha)[1] * std_dev_mean\n",
    "\n",
    "                    date_string = '{}/{}'.format(year, month)\n",
    "                    \n",
    "                    #Create a temporary dataframe\n",
    "                    temp_df = pd.DataFrame({'Date': datetime.strptime(date_string, '%Y/%m'), 'Month': month, 'Country': country, 'Country_name': pollutant_df.Country_name.unique()[0], \\\n",
    "                                            'No_points': no_points, 'Pollutant': pollutant, 'AQI': [mean_yearly_pollutant], 'std_dev': std_dev_mean, 'conf_interval_95%': error_95th})\n",
    "                    \n",
    "                    #Concatenate temporary dataframe with final_df (initially empty)\n",
    "                    final_df = pd.concat([final_df, temp_df])\n",
    "\n",
    "\n",
    "                \n",
    "\n",
    "                        \n",
    "                           \n",
    "    return final_df.reset_index().drop('index', axis=1)\n",
    "       \n",
    "    "
   ]
  },
  {
   "cell_type": "code",
   "execution_count": 47,
   "metadata": {},
   "outputs": [],
   "source": [
    "def yearly_country_pollutant(data):\n",
    "    '''This function calculates the yearly AQI average for each pollutant and each country for all the available years in the dataset.\n",
    "    \n",
    "    INPUT: pd.DataFrame. Either the original dataset or the output from monthly_city_pollutant() or yearly_city_pollutant()\n",
    "    OUTPU: pd.DataFrame with the yearly AQI average for each pollutant and country'''\n",
    "    \n",
    "\n",
    "    \n",
    "    #Logic: if the column 'Month' is present i.e the input dataframe is an output of monthly_city_pollutant()\n",
    "    if ('median' in data.columns) or (('City' in data.columns) and ('Month' in data.columns)):\n",
    "        # The dataframe must be converted to yearly averages\n",
    "        cou_df = yearly_city_pollutant(data)\n",
    "    elif ('AQI' in data.columns) and ('City' in data.columns) and ('Month' not in data.columns):\n",
    "        # No preliminary calculations are needed\n",
    "        cou_df = data\n",
    "    else:\n",
    "        print('The input must be the original dataframe or the output from yearly_city_pollutant()')\n",
    "        return\n",
    "    \n",
    "    if cou_df is not None:\n",
    "        print('Implementing function: yearly_country_pollutant')\n",
    "\n",
    "        final_df = pd.DataFrame()\n",
    "        years = np.sort(cou_df.Date.dt.year.unique())\n",
    "        for year in years:\n",
    "            year_df = cou_df[cou_df.Date.dt.year == year]\n",
    "            countries = year_df.Country.unique()\n",
    "            for country in countries:\n",
    "                country_df = year_df[year_df.Country == country]\n",
    "                pollutants = country_df.Pollutant.unique()\n",
    "\n",
    "                # Calculation of the yearly mean for each pollutant:\n",
    "                for pollutant in pollutants:\n",
    "                    pollutant_df = country_df[country_df.Pollutant == pollutant]\n",
    "\n",
    "                    # Yearly mean of the AQI for a particular pollutant and country\n",
    "                    mean_yearly_pollutant = pollutant_df['AQI'].mean() \n",
    "\n",
    "                    # Standard deviation of the mean yearly pollutant. Assuming i.i.d i.e Cov = 0\n",
    "                    no_points = pollutant_df.count()[0]\n",
    "                    std_dev_mean = np.sqrt((pollutant_df.std_dev ** 2).sum())/pollutant_df.count()[0] # Propagation of std. deviations for the mean\n",
    "            \n",
    "                    # t-sutdent confidence interval\n",
    "                    if no_points == 1:\n",
    "                        error_95th = pollutant_df['conf_interval_95%'].values\n",
    "                    else:\n",
    "                        alpha= 0.95\n",
    "                        error_95th = stats.t.interval(df=no_points-1, alpha=alpha)[1] * std_dev_mean\n",
    "                        \n",
    "\n",
    "                    date_string = '{}'.format(year)\n",
    "                    \n",
    "                     #Create a temporary dataframe\n",
    "                    temp_df = pd.DataFrame({'Date': datetime.strptime(date_string, '%Y'), 'Country': country, 'Country_name': pollutant_df.Country_name.unique()[0], \\\n",
    "                                            'No_points': no_points, 'Pollutant': pollutant, 'AQI': [mean_yearly_pollutant], 'std_dev': std_dev_mean, 'conf_interval_95%': error_95th})\n",
    "                    \n",
    "                    #Concatenate temporary dataframe with final_df (initially empty)\n",
    "                    final_df = pd.concat([final_df, temp_df])    \n",
    "\n",
    "        return final_df.reset_index().drop('index', axis=1)"
   ]
  },
  {
   "cell_type": "markdown",
   "metadata": {},
   "source": [
    "**Note**: the computation of the monthly averages for each city can take a relatively long time (7-13 minutes) for large datasets (> 1 million datapoints). In those cases it is better to calculate the monthly_city_pollutant() function first and use it as our input dataframe for all functions. Since in our case we have ~100,000 datapoints it is safe to use also the original dataset."
   ]
  },
  {
   "cell_type": "code",
   "execution_count": 48,
   "metadata": {},
   "outputs": [
    {
     "name": "stdin",
     "output_type": "stream",
     "text": [
      "Beware: inserting the original DataFrame will imply a long runtime process (> 10 min). It is advised\n",
      "                    to use the returned DataFrame after applying the monthly_city_pollutant() function. Do you want to continue anyway?\n",
      "\n",
      "                    Type \"y\" for Yes\n",
      "\n",
      "                    Type \"n\" for No\n",
      " y\n"
     ]
    },
    {
     "name": "stdout",
     "output_type": "stream",
     "text": [
      "Implementing function: monthly_city_pollutant. This may take a while.\n",
      "Implementing function: yearly_city_pollutant\n",
      "Implementing function: yearly_country_pollutant\n",
      "Wall time: 15.6 s\n"
     ]
    }
   ],
   "source": [
    "%%time\n",
    "year_country_pollut_df = yearly_country_pollutant(df_spain)"
   ]
  },
  {
   "cell_type": "code",
   "execution_count": 49,
   "metadata": {},
   "outputs": [
    {
     "data": {
      "text/html": [
       "<div>\n",
       "<style scoped>\n",
       "    .dataframe tbody tr th:only-of-type {\n",
       "        vertical-align: middle;\n",
       "    }\n",
       "\n",
       "    .dataframe tbody tr th {\n",
       "        vertical-align: top;\n",
       "    }\n",
       "\n",
       "    .dataframe thead th {\n",
       "        text-align: right;\n",
       "    }\n",
       "</style>\n",
       "<table border=\"1\" class=\"dataframe\">\n",
       "  <thead>\n",
       "    <tr style=\"text-align: right;\">\n",
       "      <th></th>\n",
       "      <th>Date</th>\n",
       "      <th>Country</th>\n",
       "      <th>Country_name</th>\n",
       "      <th>No_points</th>\n",
       "      <th>Pollutant</th>\n",
       "      <th>AQI</th>\n",
       "      <th>std_dev</th>\n",
       "      <th>conf_interval_95%</th>\n",
       "    </tr>\n",
       "  </thead>\n",
       "  <tbody>\n",
       "    <tr>\n",
       "      <th>0</th>\n",
       "      <td>2019-01-01</td>\n",
       "      <td>ES</td>\n",
       "      <td>Spain</td>\n",
       "      <td>13</td>\n",
       "      <td>pm25</td>\n",
       "      <td>35.239478</td>\n",
       "      <td>0.405383</td>\n",
       "      <td>0.883254</td>\n",
       "    </tr>\n",
       "    <tr>\n",
       "      <th>1</th>\n",
       "      <td>2019-01-01</td>\n",
       "      <td>ES</td>\n",
       "      <td>Spain</td>\n",
       "      <td>23</td>\n",
       "      <td>no2</td>\n",
       "      <td>7.909447</td>\n",
       "      <td>0.038362</td>\n",
       "      <td>0.079557</td>\n",
       "    </tr>\n",
       "    <tr>\n",
       "      <th>2</th>\n",
       "      <td>2019-01-01</td>\n",
       "      <td>ES</td>\n",
       "      <td>Spain</td>\n",
       "      <td>23</td>\n",
       "      <td>pm10</td>\n",
       "      <td>18.199772</td>\n",
       "      <td>0.082689</td>\n",
       "      <td>0.171487</td>\n",
       "    </tr>\n",
       "    <tr>\n",
       "      <th>3</th>\n",
       "      <td>2019-01-01</td>\n",
       "      <td>ES</td>\n",
       "      <td>Spain</td>\n",
       "      <td>23</td>\n",
       "      <td>so2</td>\n",
       "      <td>2.253746</td>\n",
       "      <td>0.008888</td>\n",
       "      <td>0.018432</td>\n",
       "    </tr>\n",
       "    <tr>\n",
       "      <th>4</th>\n",
       "      <td>2020-01-01</td>\n",
       "      <td>ES</td>\n",
       "      <td>Spain</td>\n",
       "      <td>13</td>\n",
       "      <td>pm25</td>\n",
       "      <td>31.243117</td>\n",
       "      <td>0.207136</td>\n",
       "      <td>0.451310</td>\n",
       "    </tr>\n",
       "    <tr>\n",
       "      <th>5</th>\n",
       "      <td>2020-01-01</td>\n",
       "      <td>ES</td>\n",
       "      <td>Spain</td>\n",
       "      <td>23</td>\n",
       "      <td>no2</td>\n",
       "      <td>6.568886</td>\n",
       "      <td>0.030673</td>\n",
       "      <td>0.063611</td>\n",
       "    </tr>\n",
       "    <tr>\n",
       "      <th>6</th>\n",
       "      <td>2020-01-01</td>\n",
       "      <td>ES</td>\n",
       "      <td>Spain</td>\n",
       "      <td>23</td>\n",
       "      <td>pm10</td>\n",
       "      <td>16.282492</td>\n",
       "      <td>0.098545</td>\n",
       "      <td>0.204370</td>\n",
       "    </tr>\n",
       "    <tr>\n",
       "      <th>7</th>\n",
       "      <td>2020-01-01</td>\n",
       "      <td>ES</td>\n",
       "      <td>Spain</td>\n",
       "      <td>23</td>\n",
       "      <td>so2</td>\n",
       "      <td>2.128697</td>\n",
       "      <td>0.009701</td>\n",
       "      <td>0.020119</td>\n",
       "    </tr>\n",
       "  </tbody>\n",
       "</table>\n",
       "</div>"
      ],
      "text/plain": [
       "        Date Country Country_name  No_points Pollutant        AQI   std_dev  \\\n",
       "0 2019-01-01      ES        Spain         13      pm25  35.239478  0.405383   \n",
       "1 2019-01-01      ES        Spain         23       no2   7.909447  0.038362   \n",
       "2 2019-01-01      ES        Spain         23      pm10  18.199772  0.082689   \n",
       "3 2019-01-01      ES        Spain         23       so2   2.253746  0.008888   \n",
       "4 2020-01-01      ES        Spain         13      pm25  31.243117  0.207136   \n",
       "5 2020-01-01      ES        Spain         23       no2   6.568886  0.030673   \n",
       "6 2020-01-01      ES        Spain         23      pm10  16.282492  0.098545   \n",
       "7 2020-01-01      ES        Spain         23       so2   2.128697  0.009701   \n",
       "\n",
       "   conf_interval_95%  \n",
       "0           0.883254  \n",
       "1           0.079557  \n",
       "2           0.171487  \n",
       "3           0.018432  \n",
       "4           0.451310  \n",
       "5           0.063611  \n",
       "6           0.204370  \n",
       "7           0.020119  "
      ]
     },
     "execution_count": 49,
     "metadata": {},
     "output_type": "execute_result"
    }
   ],
   "source": [
    "year_country_pollut_df.head(10)"
   ]
  },
  {
   "cell_type": "code",
   "execution_count": 50,
   "metadata": {},
   "outputs": [
    {
     "data": {
      "text/plain": [
       "<AxesSubplot:xlabel='Date', ylabel='AQI'>"
      ]
     },
     "execution_count": 50,
     "metadata": {},
     "output_type": "execute_result"
    },
    {
     "data": {
      "image/png": "[encoded data removed]",
      "text/plain": [
       "<Figure size 432x288 with 1 Axes>"
      ]
     },
     "metadata": {
      "needs_background": "light"
     },
     "output_type": "display_data"
    }
   ],
   "source": [
    "#Absolute amounts of each pollutant\n",
    "\n",
    "years = year_country_pollut_df.sort_values(by='Pollutant').Date.dt.year\n",
    "year_country_pollut = year_country_pollut_df.sort_values(by='Pollutant').AQI\n",
    "hue = year_country_pollut_df.sort_values(by='Pollutant').Pollutant\n",
    "\n",
    "sns.barplot(x=years, y=year_country_pollut, \\\n",
    "        alpha=1, hue=hue)"
   ]
  },
  {
   "cell_type": "markdown",
   "metadata": {},
   "source": [
    "In the previous graph we can see that the pollutant values decrease in 2020, but how much exactly? Let's make a function to calculate it:"
   ]
  },
  {
   "cell_type": "code",
   "execution_count": 51,
   "metadata": {},
   "outputs": [],
   "source": [
    "def year_t_conf_interval_pollutants(df_a, df_b, percent=True, unequal_var=True, alpha=0.95):\n",
    "    '''Calculates the yearly relative change of the AQI for each pollutant for both input dataframes. The statistic is taken as df_a['AQI'] - df_b`['AQI'].\n",
    "    INPUT: df_a, df_b: pd.Dataframe with the mean AQI values of the distributions we want to compare and the std_dev of those means\n",
    "            percent: if True a percent with its corresponding error is returned. If False, only the returned value is the difference of the mean of both df_a and df_b\n",
    "            unequal_var: if True a Welch's t-test is performed. If False population variances are assumed to be equal and thus a standard t-test is performed where the sample\n",
    "            variance is the pooled variance\n",
    "            alpha: represents the quantile to return in the confidence interval\n",
    "    OUTPUT: pd.DataFrame with the pollutant and confidence interval of the AQI difference for that pollutant'''\n",
    "    final_df = pd.DataFrame()\n",
    "    \n",
    "    for pollutant in df_a.Pollutant.unique():\n",
    "        pollut_a = df_a[df_a.Pollutant == pollutant].AQI.values[0]\n",
    "        pollut_b = df_b[df_b.Pollutant == pollutant].AQI.values[0]\n",
    "        \n",
    "        statistic = pollut_a - pollut_b\n",
    "    \n",
    "        std_a = df_a[df_a.Pollutant == pollutant].std_dev.values[0]\n",
    "        std_b = df_b[df_b.Pollutant == pollutant].std_dev.values[0]\n",
    "       \n",
    "        \n",
    "        n_a = df_a[df_a.Pollutant == pollutant]['No_points'].values[0]\n",
    "        n_b = df_b[df_b.Pollutant == pollutant]['No_points'].values[0]\n",
    "      \n",
    "\n",
    "        \n",
    "        if unequal_var:\n",
    "            #Apply Welch t-test method\n",
    "            std_statistic = np.sqrt(std_a**2 + std_b**2)\n",
    "            # Welch's degrees of freedom\n",
    "            degrees_freedom = (std_a**2+std_b**2)**2/(std_a**4/(n_a-1) + std_b**4/(n_b-1))\n",
    "\n",
    "        else:\n",
    "            # Apply standard method with pooled variance\n",
    "            std_statistic = np.sqrt(((n_a - 1)*std_a**2 + (n_b - 1)*std_b**2)/(n_a + n_b - 2))\n",
    "            degrees_freedom = n_a + n_b - 2\n",
    "            \n",
    "\n",
    "        # Calculate percentage with respect to the previous year\n",
    "        if percent:\n",
    "             # Calculate percentage with respect to the previous year\n",
    "            ratio = statistic/pollut_b\n",
    "            std_dev_ratio = ratio * np.sqrt((std_statistic / statistic)**2 + (std_b  / pollut_b)**2) # Propagation by Taylor approximation to first degree\n",
    "           \n",
    "            \n",
    "            error_95th = stats.t.interval(df=degrees_freedom, alpha=alpha)[1] * std_dev_ratio\n",
    "\n",
    "            percent = ratio *100\n",
    "            std_95th_percent = error_95th*100\n",
    "\n",
    "            CI = [percent, std_95th_percent]\n",
    "        if not percent:\n",
    "            # Calculate the difference between the mean of both years\n",
    "            error = stats.t.interval(df=degrees_freedom, alpha=alpha)[1] * std_statistic\n",
    "            CI = np.array([statistic, error])\n",
    "        temp_df = pd.DataFrame({'Years_compared':str(df_a.Date.dt.year.unique()[0])+'-'+str(df_b.Date.dt.year.unique()[0]) , 'Pollutant': pollutant, \\\n",
    "                                    'middle': CI[0], 'std_dev': std_dev_ratio*100, 'std_95th': [CI[1]]})\n",
    "        final_df = pd.concat([final_df, temp_df])\n",
    "            \n",
    "    return final_df.reset_index().drop('index', axis=1)"
   ]
  },
  {
   "cell_type": "code",
   "execution_count": 52,
   "metadata": {},
   "outputs": [],
   "source": [
    "df_pollut_19 = year_country_pollut_df[year_country_pollut_df.Date.dt.year == 2019].sort_values(by='Pollutant')\n",
    "df_pollut_20 = year_country_pollut_df[year_country_pollut_df.Date.dt.year == 2020].sort_values(by='Pollutant')"
   ]
  },
  {
   "cell_type": "code",
   "execution_count": 53,
   "metadata": {},
   "outputs": [
    {
     "data": {
      "text/html": [
       "<div>\n",
       "<style scoped>\n",
       "    .dataframe tbody tr th:only-of-type {\n",
       "        vertical-align: middle;\n",
       "    }\n",
       "\n",
       "    .dataframe tbody tr th {\n",
       "        vertical-align: top;\n",
       "    }\n",
       "\n",
       "    .dataframe thead th {\n",
       "        text-align: right;\n",
       "    }\n",
       "</style>\n",
       "<table border=\"1\" class=\"dataframe\">\n",
       "  <thead>\n",
       "    <tr style=\"text-align: right;\">\n",
       "      <th></th>\n",
       "      <th>Years_compared</th>\n",
       "      <th>Pollutant</th>\n",
       "      <th>middle</th>\n",
       "      <th>std_dev</th>\n",
       "      <th>std_95th</th>\n",
       "    </tr>\n",
       "  </thead>\n",
       "  <tbody>\n",
       "    <tr>\n",
       "      <th>0</th>\n",
       "      <td>2020-2019</td>\n",
       "      <td>no2</td>\n",
       "      <td>-16.948848</td>\n",
       "      <td>-0.626402</td>\n",
       "      <td>-1.264158</td>\n",
       "    </tr>\n",
       "    <tr>\n",
       "      <th>1</th>\n",
       "      <td>2020-2019</td>\n",
       "      <td>pm10</td>\n",
       "      <td>-10.534637</td>\n",
       "      <td>-0.708450</td>\n",
       "      <td>-1.429005</td>\n",
       "    </tr>\n",
       "    <tr>\n",
       "      <th>2</th>\n",
       "      <td>2020-2019</td>\n",
       "      <td>pm25</td>\n",
       "      <td>-11.340578</td>\n",
       "      <td>-1.298409</td>\n",
       "      <td>-2.729322</td>\n",
       "    </tr>\n",
       "    <tr>\n",
       "      <th>3</th>\n",
       "      <td>2020-2019</td>\n",
       "      <td>so2</td>\n",
       "      <td>-5.548474</td>\n",
       "      <td>-0.584181</td>\n",
       "      <td>-1.177594</td>\n",
       "    </tr>\n",
       "  </tbody>\n",
       "</table>\n",
       "</div>"
      ],
      "text/plain": [
       "  Years_compared Pollutant     middle   std_dev  std_95th\n",
       "0      2020-2019       no2 -16.948848 -0.626402 -1.264158\n",
       "1      2020-2019      pm10 -10.534637 -0.708450 -1.429005\n",
       "2      2020-2019      pm25 -11.340578 -1.298409 -2.729322\n",
       "3      2020-2019       so2  -5.548474 -0.584181 -1.177594"
      ]
     },
     "execution_count": 53,
     "metadata": {},
     "output_type": "execute_result"
    }
   ],
   "source": [
    "rel_pollut_19_20= year_t_conf_interval_pollutants(df_pollut_20, df_pollut_19, unequal_var=True)\n",
    "rel_pollut_19_20"
   ]
  },
  {
   "cell_type": "code",
   "execution_count": 87,
   "metadata": {},
   "outputs": [
    {
     "data": {
      "image/png": "[encoded data removed]",
      "text/plain": [
       "<Figure size 1080x432 with 2 Axes>"
      ]
     },
     "metadata": {
      "needs_background": "light"
     },
     "output_type": "display_data"
    }
   ],
   "source": [
    "fig, ax = plt.subplots(nrows=1, ncols=2)\n",
    "\n",
    "years = year_country_pollut_df.sort_values(by='Pollutant').Date.dt.year\n",
    "year_country_pollut = year_country_pollut_df.sort_values(by='Pollutant').AQI\n",
    "hue = year_country_pollut_df.sort_values(by='Pollutant').Pollutant\n",
    "\n",
    "sns.barplot(x=years, y=year_country_pollut, \\\n",
    "        alpha=1, hue=hue, ax=ax[0])\n",
    "\n",
    "x1 = rel_pollut_19_20.sort_values(by='Pollutant').Pollutant\n",
    "y1 = rel_pollut_19_20.sort_values(by='Pollutant').middle\n",
    "yerr1 = rel_pollut_19_20.sort_values(by='Pollutant').std_95th\n",
    "\n",
    "sns.barplot(x=x1, y=y1, yerr=yerr1, ax=ax[1])\n",
    "\n",
    "plt.show()\n"
   ]
  },
  {
   "cell_type": "markdown",
   "metadata": {},
   "source": [
    "## How was the monthly evolution across the whole year of 2020 <a class='anchor' id='second_question'>"
   ]
  },
  {
   "cell_type": "markdown",
   "metadata": {},
   "source": [
    "In order to do the monthly comparison between 2019 and 2020 we'll use the function below (month_t_conf_interval_pollutants()) "
   ]
  },
  {
   "cell_type": "code",
   "execution_count": 65,
   "metadata": {},
   "outputs": [],
   "source": [
    "def month_t_conf_interval_pollutants(df_a, df_b, percent=True, unequal_var=True, alpha=0.95):\n",
    "    '''Calculates the yearly relative change of the AQI for each pollutant for both input dataframes. The statistic is taken as df_a.AQI - df_b.AQI.\n",
    "    INPUT: df_a, df_b: pd.Dataframe with the mean AQI values of the distributions we want to compare and the std_dev of those means\n",
    "            percent: if True a percent with its corresponding error is returned. If False, only the returned value is the difference of the mean of both df_a and df_b\n",
    "            unequal_var: if True a Welch's t-test is performed. If False population variances are assumed to be equal and thus a standard t-test is performed where the sample\n",
    "            variance is the pooled variance\n",
    "            alpha: represents the quantile to return in the confidence interval\n",
    "    OUTPUT: pd.DataFrame with the pollutant and confidence interval of the AQI difference for that pollutant'''\n",
    "    final_df = pd.DataFrame()\n",
    "    \n",
    "    months = list(set(df_a.Date.dt.month.unique()).intersection(set(df_b.Date.dt.month.unique())))\n",
    "    for month in months:\n",
    "        for pollutant in df_a.Pollutant.unique():\n",
    "            pollut_a = df_a[(df_a.Pollutant == pollutant) & (df_a.Date.dt.month == month)].AQI.values[0]\n",
    "            pollut_b = df_b[(df_b.Pollutant == pollutant) & (df_b.Date.dt.month == month)].AQI.values[0]\n",
    "\n",
    "            statistic = pollut_a - pollut_b\n",
    "\n",
    "            std_a = df_a[df_a.Pollutant == pollutant].std_dev.values[0]\n",
    "            std_b = df_b[df_b.Pollutant == pollutant].std_dev.values[0]\n",
    "           \n",
    "\n",
    "            n_a = df_a[df_a.Pollutant == pollutant]['No_points'].values[0]\n",
    "            n_b = df_b[df_b.Pollutant == pollutant]['No_points'].values[0]\n",
    "            \n",
    "\n",
    "\n",
    "            if unequal_var:\n",
    "                #Apply Welch t-test method\n",
    "                std_statistic = np.sqrt(std_a**2 + std_b**2)\n",
    "                # Welch's degrees of freedom\n",
    "                degrees_freedom = (std_a**2+std_b**2)**2/(std_a**4/(n_a-1) + std_b**4/(n_b-1))\n",
    "\n",
    "            else:\n",
    "                # Apply standard method with pooled variance\n",
    "                std_statistic = np.sqrt(((n_a - 1)*std_a**2 + (n_b - 1)*std_b**2)/(n_a + n_b - 2))\n",
    "                degrees_freedom = n_a + n_b - 2\n",
    "\n",
    "\n",
    "            if percent:\n",
    "                 # Calculate percentage with respect to the previous year\n",
    "                ratio = statistic/pollut_b\n",
    "                std_dev_ratio = ratio * np.sqrt((std_statistic / statistic)**2 + (std_b  / pollut_b)**2) # Propagation by Taylor approximation to first degree\n",
    "               \n",
    "\n",
    "                error_95th = stats.t.interval(df=degrees_freedom, alpha=alpha)[1] * std_dev_ratio\n",
    "\n",
    "                percent = ratio *100\n",
    "                std_95th_percent = error_95th*100\n",
    "\n",
    "                CI = [percent, std_95th_percent]\n",
    "                \n",
    "            if not percent:\n",
    "                # Calculate the difference between the mean of both years\n",
    "                error = stats.t.interval(df=degrees_freedom, alpha=alpha)[1] * std_statistic\n",
    "                CI = np.array([statistic, error])\n",
    "                \n",
    "            temp_df = pd.DataFrame({'Years_compared':str(df_a.Date.dt.year.unique()[0])+'-'+str(df_b.Date.dt.year.unique()[0]) , 'Month': month, 'Pollutant': pollutant, \\\n",
    "                                        'middle': CI[0], 'std_dev': std_dev_ratio*100, 'std_95th': [CI[1]]})\n",
    "            final_df = pd.concat([final_df, temp_df])\n",
    "            \n",
    "    return final_df.reset_index().drop('index', axis=1)"
   ]
  },
  {
   "cell_type": "markdown",
   "metadata": {},
   "source": [
    "First we compute the monthly average of the pollutants in Spain:"
   ]
  },
  {
   "cell_type": "code",
   "execution_count": 56,
   "metadata": {},
   "outputs": [
    {
     "name": "stdin",
     "output_type": "stream",
     "text": [
      "Beware: inserting the original DataFrame will imply a long runtime process (> 10 min). It is advised\n",
      "                    to use the returned DataFrame after applying the monthly_city_pollutant() function. Do you want to continue anyway?\n",
      "\n",
      "                    Type \"y\" for Yes\n",
      "\n",
      "                    Type \"n\" for No\n",
      " y\n"
     ]
    },
    {
     "name": "stdout",
     "output_type": "stream",
     "text": [
      "Implementing function: monthly_city_pollutant. This may take a while.\n",
      "Implementing function: monthly_country_pollutant\n"
     ]
    }
   ],
   "source": [
    "month_country_pollut_df = monthly_country_pollutant(df_spain)"
   ]
  },
  {
   "cell_type": "code",
   "execution_count": 57,
   "metadata": {},
   "outputs": [
    {
     "data": {
      "text/html": [
       "<div>\n",
       "<style scoped>\n",
       "    .dataframe tbody tr th:only-of-type {\n",
       "        vertical-align: middle;\n",
       "    }\n",
       "\n",
       "    .dataframe tbody tr th {\n",
       "        vertical-align: top;\n",
       "    }\n",
       "\n",
       "    .dataframe thead th {\n",
       "        text-align: right;\n",
       "    }\n",
       "</style>\n",
       "<table border=\"1\" class=\"dataframe\">\n",
       "  <thead>\n",
       "    <tr style=\"text-align: right;\">\n",
       "      <th></th>\n",
       "      <th>Date</th>\n",
       "      <th>Month</th>\n",
       "      <th>Country</th>\n",
       "      <th>Country_name</th>\n",
       "      <th>No_points</th>\n",
       "      <th>Pollutant</th>\n",
       "      <th>AQI</th>\n",
       "      <th>std_dev</th>\n",
       "      <th>conf_interval_95%</th>\n",
       "    </tr>\n",
       "  </thead>\n",
       "  <tbody>\n",
       "    <tr>\n",
       "      <th>0</th>\n",
       "      <td>2019-01-01</td>\n",
       "      <td>1</td>\n",
       "      <td>ES</td>\n",
       "      <td>Spain</td>\n",
       "      <td>10</td>\n",
       "      <td>pm25</td>\n",
       "      <td>36.137820</td>\n",
       "      <td>0.949186</td>\n",
       "      <td>2.147207</td>\n",
       "    </tr>\n",
       "    <tr>\n",
       "      <th>1</th>\n",
       "      <td>2019-01-01</td>\n",
       "      <td>1</td>\n",
       "      <td>ES</td>\n",
       "      <td>Spain</td>\n",
       "      <td>21</td>\n",
       "      <td>no2</td>\n",
       "      <td>11.124989</td>\n",
       "      <td>0.191468</td>\n",
       "      <td>0.399396</td>\n",
       "    </tr>\n",
       "    <tr>\n",
       "      <th>2</th>\n",
       "      <td>2019-01-01</td>\n",
       "      <td>1</td>\n",
       "      <td>ES</td>\n",
       "      <td>Spain</td>\n",
       "      <td>21</td>\n",
       "      <td>pm10</td>\n",
       "      <td>17.291600</td>\n",
       "      <td>0.319628</td>\n",
       "      <td>0.666732</td>\n",
       "    </tr>\n",
       "    <tr>\n",
       "      <th>3</th>\n",
       "      <td>2019-01-01</td>\n",
       "      <td>1</td>\n",
       "      <td>ES</td>\n",
       "      <td>Spain</td>\n",
       "      <td>21</td>\n",
       "      <td>so2</td>\n",
       "      <td>2.434591</td>\n",
       "      <td>0.032127</td>\n",
       "      <td>0.067017</td>\n",
       "    </tr>\n",
       "    <tr>\n",
       "      <th>4</th>\n",
       "      <td>2019-02-01</td>\n",
       "      <td>2</td>\n",
       "      <td>ES</td>\n",
       "      <td>Spain</td>\n",
       "      <td>10</td>\n",
       "      <td>pm25</td>\n",
       "      <td>51.928571</td>\n",
       "      <td>1.240456</td>\n",
       "      <td>2.806107</td>\n",
       "    </tr>\n",
       "    <tr>\n",
       "      <th>...</th>\n",
       "      <td>...</td>\n",
       "      <td>...</td>\n",
       "      <td>...</td>\n",
       "      <td>...</td>\n",
       "      <td>...</td>\n",
       "      <td>...</td>\n",
       "      <td>...</td>\n",
       "      <td>...</td>\n",
       "      <td>...</td>\n",
       "    </tr>\n",
       "    <tr>\n",
       "      <th>91</th>\n",
       "      <td>2020-11-01</td>\n",
       "      <td>11</td>\n",
       "      <td>ES</td>\n",
       "      <td>Spain</td>\n",
       "      <td>23</td>\n",
       "      <td>so2</td>\n",
       "      <td>2.006626</td>\n",
       "      <td>0.041144</td>\n",
       "      <td>0.085327</td>\n",
       "    </tr>\n",
       "    <tr>\n",
       "      <th>92</th>\n",
       "      <td>2020-12-01</td>\n",
       "      <td>12</td>\n",
       "      <td>ES</td>\n",
       "      <td>Spain</td>\n",
       "      <td>13</td>\n",
       "      <td>pm25</td>\n",
       "      <td>23.804581</td>\n",
       "      <td>0.850773</td>\n",
       "      <td>1.853676</td>\n",
       "    </tr>\n",
       "    <tr>\n",
       "      <th>93</th>\n",
       "      <td>2020-12-01</td>\n",
       "      <td>12</td>\n",
       "      <td>ES</td>\n",
       "      <td>Spain</td>\n",
       "      <td>23</td>\n",
       "      <td>no2</td>\n",
       "      <td>7.397500</td>\n",
       "      <td>0.135497</td>\n",
       "      <td>0.281004</td>\n",
       "    </tr>\n",
       "    <tr>\n",
       "      <th>94</th>\n",
       "      <td>2020-12-01</td>\n",
       "      <td>12</td>\n",
       "      <td>ES</td>\n",
       "      <td>Spain</td>\n",
       "      <td>23</td>\n",
       "      <td>pm10</td>\n",
       "      <td>11.987642</td>\n",
       "      <td>0.335869</td>\n",
       "      <td>0.696550</td>\n",
       "    </tr>\n",
       "    <tr>\n",
       "      <th>95</th>\n",
       "      <td>2020-12-01</td>\n",
       "      <td>12</td>\n",
       "      <td>ES</td>\n",
       "      <td>Spain</td>\n",
       "      <td>23</td>\n",
       "      <td>so2</td>\n",
       "      <td>2.067504</td>\n",
       "      <td>0.022942</td>\n",
       "      <td>0.047578</td>\n",
       "    </tr>\n",
       "  </tbody>\n",
       "</table>\n",
       "<p>96 rows × 9 columns</p>\n",
       "</div>"
      ],
      "text/plain": [
       "         Date  Month Country Country_name  No_points Pollutant        AQI  \\\n",
       "0  2019-01-01      1      ES        Spain         10      pm25  36.137820   \n",
       "1  2019-01-01      1      ES        Spain         21       no2  11.124989   \n",
       "2  2019-01-01      1      ES        Spain         21      pm10  17.291600   \n",
       "3  2019-01-01      1      ES        Spain         21       so2   2.434591   \n",
       "4  2019-02-01      2      ES        Spain         10      pm25  51.928571   \n",
       "..        ...    ...     ...          ...        ...       ...        ...   \n",
       "91 2020-11-01     11      ES        Spain         23       so2   2.006626   \n",
       "92 2020-12-01     12      ES        Spain         13      pm25  23.804581   \n",
       "93 2020-12-01     12      ES        Spain         23       no2   7.397500   \n",
       "94 2020-12-01     12      ES        Spain         23      pm10  11.987642   \n",
       "95 2020-12-01     12      ES        Spain         23       so2   2.067504   \n",
       "\n",
       "     std_dev  conf_interval_95%  \n",
       "0   0.949186           2.147207  \n",
       "1   0.191468           0.399396  \n",
       "2   0.319628           0.666732  \n",
       "3   0.032127           0.067017  \n",
       "4   1.240456           2.806107  \n",
       "..       ...                ...  \n",
       "91  0.041144           0.085327  \n",
       "92  0.850773           1.853676  \n",
       "93  0.135497           0.281004  \n",
       "94  0.335869           0.696550  \n",
       "95  0.022942           0.047578  \n",
       "\n",
       "[96 rows x 9 columns]"
      ]
     },
     "execution_count": 57,
     "metadata": {},
     "output_type": "execute_result"
    }
   ],
   "source": [
    "month_country_pollut_df\n"
   ]
  },
  {
   "cell_type": "markdown",
   "metadata": {},
   "source": [
    "And we apply now the month_t_conf_interval_pollutants() function:"
   ]
  },
  {
   "cell_type": "code",
   "execution_count": 58,
   "metadata": {},
   "outputs": [
    {
     "data": {
      "text/html": [
       "<div>\n",
       "<style scoped>\n",
       "    .dataframe tbody tr th:only-of-type {\n",
       "        vertical-align: middle;\n",
       "    }\n",
       "\n",
       "    .dataframe tbody tr th {\n",
       "        vertical-align: top;\n",
       "    }\n",
       "\n",
       "    .dataframe thead th {\n",
       "        text-align: right;\n",
       "    }\n",
       "</style>\n",
       "<table border=\"1\" class=\"dataframe\">\n",
       "  <thead>\n",
       "    <tr style=\"text-align: right;\">\n",
       "      <th></th>\n",
       "      <th>Years_compared</th>\n",
       "      <th>Month</th>\n",
       "      <th>Pollutant</th>\n",
       "      <th>middle</th>\n",
       "      <th>std_dev</th>\n",
       "      <th>std_95th</th>\n",
       "    </tr>\n",
       "  </thead>\n",
       "  <tbody>\n",
       "    <tr>\n",
       "      <th>0</th>\n",
       "      <td>2020-2019</td>\n",
       "      <td>1</td>\n",
       "      <td>no2</td>\n",
       "      <td>-1.808100</td>\n",
       "      <td>-1.468606</td>\n",
       "      <td>-2.960603</td>\n",
       "    </tr>\n",
       "    <tr>\n",
       "      <th>1</th>\n",
       "      <td>2020-2019</td>\n",
       "      <td>1</td>\n",
       "      <td>pm10</td>\n",
       "      <td>12.869689</td>\n",
       "      <td>1.706221</td>\n",
       "      <td>3.441784</td>\n",
       "    </tr>\n",
       "    <tr>\n",
       "      <th>2</th>\n",
       "      <td>2020-2019</td>\n",
       "      <td>1</td>\n",
       "      <td>pm25</td>\n",
       "      <td>10.398382</td>\n",
       "      <td>2.486503</td>\n",
       "      <td>5.185881</td>\n",
       "    </tr>\n",
       "    <tr>\n",
       "      <th>3</th>\n",
       "      <td>2020-2019</td>\n",
       "      <td>1</td>\n",
       "      <td>so2</td>\n",
       "      <td>-5.855445</td>\n",
       "      <td>-1.364939</td>\n",
       "      <td>-2.750904</td>\n",
       "    </tr>\n",
       "    <tr>\n",
       "      <th>4</th>\n",
       "      <td>2020-2019</td>\n",
       "      <td>2</td>\n",
       "      <td>no2</td>\n",
       "      <td>-17.717722</td>\n",
       "      <td>-1.346046</td>\n",
       "      <td>-2.713530</td>\n",
       "    </tr>\n",
       "    <tr>\n",
       "      <th>5</th>\n",
       "      <td>2020-2019</td>\n",
       "      <td>2</td>\n",
       "      <td>pm10</td>\n",
       "      <td>-12.134631</td>\n",
       "      <td>-1.091259</td>\n",
       "      <td>-2.201283</td>\n",
       "    </tr>\n",
       "    <tr>\n",
       "      <th>6</th>\n",
       "      <td>2020-2019</td>\n",
       "      <td>2</td>\n",
       "      <td>pm25</td>\n",
       "      <td>-16.335024</td>\n",
       "      <td>-1.738690</td>\n",
       "      <td>-3.626232</td>\n",
       "    </tr>\n",
       "    <tr>\n",
       "      <th>7</th>\n",
       "      <td>2020-2019</td>\n",
       "      <td>2</td>\n",
       "      <td>so2</td>\n",
       "      <td>-10.349830</td>\n",
       "      <td>-1.382420</td>\n",
       "      <td>-2.786134</td>\n",
       "    </tr>\n",
       "    <tr>\n",
       "      <th>8</th>\n",
       "      <td>2020-2019</td>\n",
       "      <td>3</td>\n",
       "      <td>no2</td>\n",
       "      <td>-34.590421</td>\n",
       "      <td>-1.907721</td>\n",
       "      <td>-3.845826</td>\n",
       "    </tr>\n",
       "    <tr>\n",
       "      <th>9</th>\n",
       "      <td>2020-2019</td>\n",
       "      <td>3</td>\n",
       "      <td>pm10</td>\n",
       "      <td>-23.071911</td>\n",
       "      <td>-1.445198</td>\n",
       "      <td>-2.915250</td>\n",
       "    </tr>\n",
       "    <tr>\n",
       "      <th>10</th>\n",
       "      <td>2020-2019</td>\n",
       "      <td>3</td>\n",
       "      <td>pm25</td>\n",
       "      <td>-19.869316</td>\n",
       "      <td>-2.289846</td>\n",
       "      <td>-4.775730</td>\n",
       "    </tr>\n",
       "    <tr>\n",
       "      <th>11</th>\n",
       "      <td>2020-2019</td>\n",
       "      <td>3</td>\n",
       "      <td>so2</td>\n",
       "      <td>-6.924002</td>\n",
       "      <td>-1.552982</td>\n",
       "      <td>-3.129886</td>\n",
       "    </tr>\n",
       "    <tr>\n",
       "      <th>12</th>\n",
       "      <td>2020-2019</td>\n",
       "      <td>4</td>\n",
       "      <td>no2</td>\n",
       "      <td>-45.637629</td>\n",
       "      <td>-2.599345</td>\n",
       "      <td>-5.240089</td>\n",
       "    </tr>\n",
       "    <tr>\n",
       "      <th>13</th>\n",
       "      <td>2020-2019</td>\n",
       "      <td>4</td>\n",
       "      <td>pm10</td>\n",
       "      <td>-21.410539</td>\n",
       "      <td>-2.015658</td>\n",
       "      <td>-4.065979</td>\n",
       "    </tr>\n",
       "    <tr>\n",
       "      <th>14</th>\n",
       "      <td>2020-2019</td>\n",
       "      <td>4</td>\n",
       "      <td>pm25</td>\n",
       "      <td>-14.411201</td>\n",
       "      <td>-2.835731</td>\n",
       "      <td>-5.914233</td>\n",
       "    </tr>\n",
       "    <tr>\n",
       "      <th>15</th>\n",
       "      <td>2020-2019</td>\n",
       "      <td>4</td>\n",
       "      <td>so2</td>\n",
       "      <td>2.951724</td>\n",
       "      <td>1.639849</td>\n",
       "      <td>3.304958</td>\n",
       "    </tr>\n",
       "    <tr>\n",
       "      <th>16</th>\n",
       "      <td>2020-2019</td>\n",
       "      <td>5</td>\n",
       "      <td>no2</td>\n",
       "      <td>-32.355767</td>\n",
       "      <td>-2.738646</td>\n",
       "      <td>-5.520912</td>\n",
       "    </tr>\n",
       "    <tr>\n",
       "      <th>17</th>\n",
       "      <td>2020-2019</td>\n",
       "      <td>5</td>\n",
       "      <td>pm10</td>\n",
       "      <td>-13.111050</td>\n",
       "      <td>-1.714154</td>\n",
       "      <td>-3.457785</td>\n",
       "    </tr>\n",
       "    <tr>\n",
       "      <th>18</th>\n",
       "      <td>2020-2019</td>\n",
       "      <td>5</td>\n",
       "      <td>pm25</td>\n",
       "      <td>-5.678895</td>\n",
       "      <td>-2.790623</td>\n",
       "      <td>-5.820157</td>\n",
       "    </tr>\n",
       "    <tr>\n",
       "      <th>19</th>\n",
       "      <td>2020-2019</td>\n",
       "      <td>5</td>\n",
       "      <td>so2</td>\n",
       "      <td>-6.194533</td>\n",
       "      <td>-1.515629</td>\n",
       "      <td>-3.054604</td>\n",
       "    </tr>\n",
       "    <tr>\n",
       "      <th>20</th>\n",
       "      <td>2020-2019</td>\n",
       "      <td>6</td>\n",
       "      <td>no2</td>\n",
       "      <td>-19.687014</td>\n",
       "      <td>-2.873411</td>\n",
       "      <td>-5.792587</td>\n",
       "    </tr>\n",
       "    <tr>\n",
       "      <th>21</th>\n",
       "      <td>2020-2019</td>\n",
       "      <td>6</td>\n",
       "      <td>pm10</td>\n",
       "      <td>-24.394996</td>\n",
       "      <td>-1.526849</td>\n",
       "      <td>-3.079955</td>\n",
       "    </tr>\n",
       "    <tr>\n",
       "      <th>22</th>\n",
       "      <td>2020-2019</td>\n",
       "      <td>6</td>\n",
       "      <td>pm25</td>\n",
       "      <td>-24.924985</td>\n",
       "      <td>-2.477173</td>\n",
       "      <td>-5.166422</td>\n",
       "    </tr>\n",
       "    <tr>\n",
       "      <th>23</th>\n",
       "      <td>2020-2019</td>\n",
       "      <td>6</td>\n",
       "      <td>so2</td>\n",
       "      <td>8.744802</td>\n",
       "      <td>1.587873</td>\n",
       "      <td>3.200206</td>\n",
       "    </tr>\n",
       "    <tr>\n",
       "      <th>24</th>\n",
       "      <td>2020-2019</td>\n",
       "      <td>7</td>\n",
       "      <td>no2</td>\n",
       "      <td>-17.503114</td>\n",
       "      <td>-2.735806</td>\n",
       "      <td>-5.515186</td>\n",
       "    </tr>\n",
       "    <tr>\n",
       "      <th>25</th>\n",
       "      <td>2020-2019</td>\n",
       "      <td>7</td>\n",
       "      <td>pm10</td>\n",
       "      <td>-10.617317</td>\n",
       "      <td>-1.372372</td>\n",
       "      <td>-2.768345</td>\n",
       "    </tr>\n",
       "    <tr>\n",
       "      <th>26</th>\n",
       "      <td>2020-2019</td>\n",
       "      <td>7</td>\n",
       "      <td>pm25</td>\n",
       "      <td>-21.835635</td>\n",
       "      <td>-2.154030</td>\n",
       "      <td>-4.492470</td>\n",
       "    </tr>\n",
       "    <tr>\n",
       "      <th>27</th>\n",
       "      <td>2020-2019</td>\n",
       "      <td>7</td>\n",
       "      <td>so2</td>\n",
       "      <td>-1.737508</td>\n",
       "      <td>-1.470477</td>\n",
       "      <td>-2.963605</td>\n",
       "    </tr>\n",
       "    <tr>\n",
       "      <th>28</th>\n",
       "      <td>2020-2019</td>\n",
       "      <td>8</td>\n",
       "      <td>no2</td>\n",
       "      <td>-11.616373</td>\n",
       "      <td>-2.847767</td>\n",
       "      <td>-5.740890</td>\n",
       "    </tr>\n",
       "    <tr>\n",
       "      <th>29</th>\n",
       "      <td>2020-2019</td>\n",
       "      <td>8</td>\n",
       "      <td>pm10</td>\n",
       "      <td>-12.438040</td>\n",
       "      <td>-1.548230</td>\n",
       "      <td>-3.123086</td>\n",
       "    </tr>\n",
       "    <tr>\n",
       "      <th>30</th>\n",
       "      <td>2020-2019</td>\n",
       "      <td>8</td>\n",
       "      <td>pm25</td>\n",
       "      <td>-28.369846</td>\n",
       "      <td>-2.330233</td>\n",
       "      <td>-4.859961</td>\n",
       "    </tr>\n",
       "    <tr>\n",
       "      <th>31</th>\n",
       "      <td>2020-2019</td>\n",
       "      <td>8</td>\n",
       "      <td>so2</td>\n",
       "      <td>-1.797939</td>\n",
       "      <td>-1.435784</td>\n",
       "      <td>-2.893685</td>\n",
       "    </tr>\n",
       "    <tr>\n",
       "      <th>32</th>\n",
       "      <td>2020-2019</td>\n",
       "      <td>9</td>\n",
       "      <td>no2</td>\n",
       "      <td>-3.087970</td>\n",
       "      <td>-2.365787</td>\n",
       "      <td>-4.769254</td>\n",
       "    </tr>\n",
       "    <tr>\n",
       "      <th>33</th>\n",
       "      <td>2020-2019</td>\n",
       "      <td>9</td>\n",
       "      <td>pm10</td>\n",
       "      <td>-14.841816</td>\n",
       "      <td>-1.528850</td>\n",
       "      <td>-3.083991</td>\n",
       "    </tr>\n",
       "    <tr>\n",
       "      <th>34</th>\n",
       "      <td>2020-2019</td>\n",
       "      <td>9</td>\n",
       "      <td>pm25</td>\n",
       "      <td>-14.710982</td>\n",
       "      <td>-2.539874</td>\n",
       "      <td>-5.297192</td>\n",
       "    </tr>\n",
       "    <tr>\n",
       "      <th>35</th>\n",
       "      <td>2020-2019</td>\n",
       "      <td>9</td>\n",
       "      <td>so2</td>\n",
       "      <td>1.769887</td>\n",
       "      <td>1.562551</td>\n",
       "      <td>3.149172</td>\n",
       "    </tr>\n",
       "    <tr>\n",
       "      <th>36</th>\n",
       "      <td>2020-2019</td>\n",
       "      <td>10</td>\n",
       "      <td>no2</td>\n",
       "      <td>-19.186921</td>\n",
       "      <td>-1.937488</td>\n",
       "      <td>-3.905834</td>\n",
       "    </tr>\n",
       "    <tr>\n",
       "      <th>37</th>\n",
       "      <td>2020-2019</td>\n",
       "      <td>10</td>\n",
       "      <td>pm10</td>\n",
       "      <td>-23.826311</td>\n",
       "      <td>-1.651387</td>\n",
       "      <td>-3.331172</td>\n",
       "    </tr>\n",
       "    <tr>\n",
       "      <th>38</th>\n",
       "      <td>2020-2019</td>\n",
       "      <td>10</td>\n",
       "      <td>pm25</td>\n",
       "      <td>-27.005555</td>\n",
       "      <td>-2.684543</td>\n",
       "      <td>-5.598915</td>\n",
       "    </tr>\n",
       "    <tr>\n",
       "      <th>39</th>\n",
       "      <td>2020-2019</td>\n",
       "      <td>10</td>\n",
       "      <td>so2</td>\n",
       "      <td>-18.719081</td>\n",
       "      <td>-1.393222</td>\n",
       "      <td>-2.807905</td>\n",
       "    </tr>\n",
       "    <tr>\n",
       "      <th>40</th>\n",
       "      <td>2020-2019</td>\n",
       "      <td>11</td>\n",
       "      <td>no2</td>\n",
       "      <td>11.739517</td>\n",
       "      <td>2.119284</td>\n",
       "      <td>4.272322</td>\n",
       "    </tr>\n",
       "    <tr>\n",
       "      <th>41</th>\n",
       "      <td>2020-2019</td>\n",
       "      <td>11</td>\n",
       "      <td>pm10</td>\n",
       "      <td>39.537306</td>\n",
       "      <td>2.489180</td>\n",
       "      <td>5.021167</td>\n",
       "    </tr>\n",
       "    <tr>\n",
       "      <th>42</th>\n",
       "      <td>2020-2019</td>\n",
       "      <td>11</td>\n",
       "      <td>pm25</td>\n",
       "      <td>45.107413</td>\n",
       "      <td>3.985642</td>\n",
       "      <td>8.312501</td>\n",
       "    </tr>\n",
       "    <tr>\n",
       "      <th>43</th>\n",
       "      <td>2020-2019</td>\n",
       "      <td>11</td>\n",
       "      <td>so2</td>\n",
       "      <td>-10.791882</td>\n",
       "      <td>-1.480432</td>\n",
       "      <td>-2.983668</td>\n",
       "    </tr>\n",
       "    <tr>\n",
       "      <th>44</th>\n",
       "      <td>2020-2019</td>\n",
       "      <td>12</td>\n",
       "      <td>no2</td>\n",
       "      <td>-23.302703</td>\n",
       "      <td>-1.718884</td>\n",
       "      <td>-3.465144</td>\n",
       "    </tr>\n",
       "    <tr>\n",
       "      <th>45</th>\n",
       "      <td>2020-2019</td>\n",
       "      <td>12</td>\n",
       "      <td>pm10</td>\n",
       "      <td>-25.743736</td>\n",
       "      <td>-1.845976</td>\n",
       "      <td>-3.723697</td>\n",
       "    </tr>\n",
       "    <tr>\n",
       "      <th>46</th>\n",
       "      <td>2020-2019</td>\n",
       "      <td>12</td>\n",
       "      <td>pm25</td>\n",
       "      <td>-30.252216</td>\n",
       "      <td>-2.696404</td>\n",
       "      <td>-5.623652</td>\n",
       "    </tr>\n",
       "    <tr>\n",
       "      <th>47</th>\n",
       "      <td>2020-2019</td>\n",
       "      <td>12</td>\n",
       "      <td>so2</td>\n",
       "      <td>-7.122718</td>\n",
       "      <td>-1.493431</td>\n",
       "      <td>-3.009866</td>\n",
       "    </tr>\n",
       "  </tbody>\n",
       "</table>\n",
       "</div>"
      ],
      "text/plain": [
       "   Years_compared  Month Pollutant     middle   std_dev  std_95th\n",
       "0       2020-2019      1       no2  -1.808100 -1.468606 -2.960603\n",
       "1       2020-2019      1      pm10  12.869689  1.706221  3.441784\n",
       "2       2020-2019      1      pm25  10.398382  2.486503  5.185881\n",
       "3       2020-2019      1       so2  -5.855445 -1.364939 -2.750904\n",
       "4       2020-2019      2       no2 -17.717722 -1.346046 -2.713530\n",
       "5       2020-2019      2      pm10 -12.134631 -1.091259 -2.201283\n",
       "6       2020-2019      2      pm25 -16.335024 -1.738690 -3.626232\n",
       "7       2020-2019      2       so2 -10.349830 -1.382420 -2.786134\n",
       "8       2020-2019      3       no2 -34.590421 -1.907721 -3.845826\n",
       "9       2020-2019      3      pm10 -23.071911 -1.445198 -2.915250\n",
       "10      2020-2019      3      pm25 -19.869316 -2.289846 -4.775730\n",
       "11      2020-2019      3       so2  -6.924002 -1.552982 -3.129886\n",
       "12      2020-2019      4       no2 -45.637629 -2.599345 -5.240089\n",
       "13      2020-2019      4      pm10 -21.410539 -2.015658 -4.065979\n",
       "14      2020-2019      4      pm25 -14.411201 -2.835731 -5.914233\n",
       "15      2020-2019      4       so2   2.951724  1.639849  3.304958\n",
       "16      2020-2019      5       no2 -32.355767 -2.738646 -5.520912\n",
       "17      2020-2019      5      pm10 -13.111050 -1.714154 -3.457785\n",
       "18      2020-2019      5      pm25  -5.678895 -2.790623 -5.820157\n",
       "19      2020-2019      5       so2  -6.194533 -1.515629 -3.054604\n",
       "20      2020-2019      6       no2 -19.687014 -2.873411 -5.792587\n",
       "21      2020-2019      6      pm10 -24.394996 -1.526849 -3.079955\n",
       "22      2020-2019      6      pm25 -24.924985 -2.477173 -5.166422\n",
       "23      2020-2019      6       so2   8.744802  1.587873  3.200206\n",
       "24      2020-2019      7       no2 -17.503114 -2.735806 -5.515186\n",
       "25      2020-2019      7      pm10 -10.617317 -1.372372 -2.768345\n",
       "26      2020-2019      7      pm25 -21.835635 -2.154030 -4.492470\n",
       "27      2020-2019      7       so2  -1.737508 -1.470477 -2.963605\n",
       "28      2020-2019      8       no2 -11.616373 -2.847767 -5.740890\n",
       "29      2020-2019      8      pm10 -12.438040 -1.548230 -3.123086\n",
       "30      2020-2019      8      pm25 -28.369846 -2.330233 -4.859961\n",
       "31      2020-2019      8       so2  -1.797939 -1.435784 -2.893685\n",
       "32      2020-2019      9       no2  -3.087970 -2.365787 -4.769254\n",
       "33      2020-2019      9      pm10 -14.841816 -1.528850 -3.083991\n",
       "34      2020-2019      9      pm25 -14.710982 -2.539874 -5.297192\n",
       "35      2020-2019      9       so2   1.769887  1.562551  3.149172\n",
       "36      2020-2019     10       no2 -19.186921 -1.937488 -3.905834\n",
       "37      2020-2019     10      pm10 -23.826311 -1.651387 -3.331172\n",
       "38      2020-2019     10      pm25 -27.005555 -2.684543 -5.598915\n",
       "39      2020-2019     10       so2 -18.719081 -1.393222 -2.807905\n",
       "40      2020-2019     11       no2  11.739517  2.119284  4.272322\n",
       "41      2020-2019     11      pm10  39.537306  2.489180  5.021167\n",
       "42      2020-2019     11      pm25  45.107413  3.985642  8.312501\n",
       "43      2020-2019     11       so2 -10.791882 -1.480432 -2.983668\n",
       "44      2020-2019     12       no2 -23.302703 -1.718884 -3.465144\n",
       "45      2020-2019     12      pm10 -25.743736 -1.845976 -3.723697\n",
       "46      2020-2019     12      pm25 -30.252216 -2.696404 -5.623652\n",
       "47      2020-2019     12       so2  -7.122718 -1.493431 -3.009866"
      ]
     },
     "execution_count": 58,
     "metadata": {},
     "output_type": "execute_result"
    }
   ],
   "source": [
    "# Inputs for the function\n",
    "df_month_pollut_19 = month_country_pollut_df[month_country_pollut_df.Date.dt.year == 2019].sort_values(by='Pollutant')\n",
    "df_month_pollut_20 = month_country_pollut_df[month_country_pollut_df.Date.dt.year == 2020].sort_values(by='Pollutant')\n",
    "\n",
    "rel_pollut_month_19_20 = month_t_conf_interval_pollutants(df_month_pollut_20, df_month_pollut_19, unequal_var=True)\n",
    "rel_pollut_month_19_20.head(50)"
   ]
  },
  {
   "cell_type": "code",
   "execution_count": 59,
   "metadata": {},
   "outputs": [
    {
     "data": {
      "text/plain": [
       "<AxesSubplot:xlabel='Month', ylabel='middle'>"
      ]
     },
     "execution_count": 59,
     "metadata": {},
     "output_type": "execute_result"
    },
    {
     "data": {
      "image/png": "[encoded data removed]",
      "text/plain": [
       "<Figure size 1080x360 with 1 Axes>"
      ]
     },
     "metadata": {
      "needs_background": "light"
     },
     "output_type": "display_data"
    }
   ],
   "source": [
    "months = rel_pollut_month_19_20.sort_values(by='Month').Month\n",
    "percent_difference = rel_pollut_month_19_20.sort_values(by='Month')['middle']\n",
    "hue = rel_pollut_month_19_20.sort_values(by='Month').Pollutant\n",
    "\n",
    "plt.rcParams[\"figure.figsize\"] = (15,5)\n",
    "sns.barplot(x=months, y=percent_difference, \\\n",
    "        alpha=1, hue=hue)"
   ]
  },
  {
   "cell_type": "code",
   "execution_count": 62,
   "metadata": {},
   "outputs": [
    {
     "data": {
      "text/plain": [
       "<AxesSubplot:xlabel='Month', ylabel='AQI'>"
      ]
     },
     "execution_count": 62,
     "metadata": {},
     "output_type": "execute_result"
    },
    {
     "data": {
      "image/png": "[encoded data removed]",
      "text/plain": [
       "<Figure size 1080x432 with 1 Axes>"
      ]
     },
     "metadata": {
      "needs_background": "light"
     },
     "output_type": "display_data"
    }
   ],
   "source": [
    "months = month_country_pollut_df[month_country_pollut_df.Date.dt.year == 2020].sort_values(by=['Month']).Month\n",
    "abs_val = month_country_pollut_df[month_country_pollut_df.Date.dt.year == 2020].sort_values(by=['Month'])['AQI']\n",
    "hue = month_country_pollut_df[month_country_pollut_df.Date.dt.year == 2020].sort_values(by=['Month']).Pollutant\n",
    "\n",
    "plt.rcParams[\"figure.figsize\"] = (15,6)\n",
    "sns.barplot(x=months, y=abs_val, \\\n",
    "        alpha=1, hue=hue)"
   ]
  },
  {
   "cell_type": "code",
   "execution_count": 60,
   "metadata": {},
   "outputs": [],
   "source": [
    "def plot_with_err(x, data, **kwargs):\n",
    "    y = data.middle\n",
    "    lines = plt.plot(x, y, '-', marker='o', **kwargs)\n",
    "    middle = data.middle\n",
    "    std = data.std_95th\n",
    "    plt.fill_between(x, middle - std, middle + std, edgecolor='none',\n",
    "                     facecolor=lines[0].get_color(), alpha=0.2)\n"
   ]
  },
  {
   "cell_type": "code",
   "execution_count": 108,
   "metadata": {},
   "outputs": [
    {
     "data": {
      "text/plain": [
       "(0.0, 12.0)"
      ]
     },
     "execution_count": 108,
     "metadata": {},
     "output_type": "execute_result"
    },
    {
     "data": {
      "image/png": "[encoded data removed]",
      "text/plain": [
       "<Figure size 1080x432 with 1 Axes>"
      ]
     },
     "metadata": {
      "needs_background": "light"
     },
     "output_type": "display_data"
    }
   ],
   "source": [
    "for pollutant in rel_pollut_month_19_20.Pollutant.unique():\n",
    "    \n",
    "    plot_with_err(x=rel_pollut_month_19_20[rel_pollut_month_19_20.Pollutant == pollutant].Month, data=rel_pollut_month_19_20[rel_pollut_month_19_20.Pollutant == pollutant])\n",
    "\n",
    "labels = ['Jan', 'Feb', 'Mar', 'Apr', 'May', 'Jun', 'Jul', 'Aug', 'Sep', 'Oct', 'Nov', 'Dec']\n",
    "#plt.xticks(ticks=np.arange(len(labels)), labels=labels)\n",
    "plt.hlines(y=0, xmin=0, xmax=12)\n",
    "plt.xlim(0, 12)"
   ]
  },
  {
   "cell_type": "markdown",
   "metadata": {},
   "source": [
    "NO$_2$ is the pollutant that decreases the most during the confinement since it is the main combustion byproduct from vehicles. To visualize better its absolute levels and trend let's plot the 2019 and 2020 side-by-side:"
   ]
  },
  {
   "cell_type": "code",
   "execution_count": 73,
   "metadata": {},
   "outputs": [
    {
     "data": {
      "image/png": "[encoded data removed]",
      "text/plain": [
       "<Figure size 1080x432 with 1 Axes>"
      ]
     },
     "metadata": {
      "needs_background": "light"
     },
     "output_type": "display_data"
    }
   ],
   "source": [
    "# Graphs a bar plot with 2019-2020 absolute values of NO2 AQI.\n",
    "\n",
    "year_19 =  df_month_pollut_19[df_month_pollut_19.Pollutant == 'no2'].sort_values(by='Month').AQI\n",
    "year_20 =  df_month_pollut_20[df_month_pollut_20.Pollutant == 'no2'].sort_values(by='Month').AQI\n",
    "\n",
    "err_19 = df_month_pollut_19[df_month_pollut_19.Pollutant == 'no2'].sort_values(by='Month')['conf_interval_95%']\n",
    "err_20 = df_month_pollut_20[df_month_pollut_20.Pollutant == 'no2'].sort_values(by='Month')['conf_interval_95%']\n",
    "\n",
    "labels = ['Jan', 'Feb', 'Mar', 'Apr', 'May', 'Jun', 'Jul', 'Aug', 'Sep', 'Oct', 'Nov', 'Dec']\n",
    "\n",
    "x = np.arange(len(labels))  \n",
    "width = 0.35  \n",
    "\n",
    "fig, ax = plt.subplots()\n",
    "rects1 = ax.bar(x - width/2, year_19, width, label='2019', yerr= err_19)\n",
    "rects2 = ax.bar(x + width/2, year_20, width, label='2020', yerr= err_20)\n",
    "\n",
    "\n",
    "ax.set_ylabel('Scores')\n",
    "ax.set_xlabel('Months')\n",
    "ax.set_title('AQI comparison between 2019 and 2020')\n",
    "ax.set_xticks(x)\n",
    "ax.set_xticklabels(labels)\n",
    "ax.legend()\n",
    "\n",
    "fig.tight_layout()\n",
    "\n",
    "plt.show()"
   ]
  },
  {
   "cell_type": "markdown",
   "metadata": {},
   "source": [
    "## How did the air quality changed in the Spanish cities? <a class='anchor' id='third_question'>"
   ]
  },
  {
   "cell_type": "markdown",
   "metadata": {},
   "source": [
    "Since NO$_2$ is the main pollutant generated by cars, we will be looking at this pollutant's variation in 2020 relative to 2019. In order to do this calculation we will use the function below (year_t_conf_interval_city_pollutant()):"
   ]
  },
  {
   "cell_type": "code",
   "execution_count": 74,
   "metadata": {},
   "outputs": [],
   "source": [
    "def year_t_conf_interval_city_pollutant(df_a, df_b, percent=True, unequal_var=True, alpha=0.95):\n",
    "    '''Calculates the yearly relative change of the overall AQI for each city in every country present in both input dataframes. The statistic is taken as AQI(df_a) - AQI(df_b).\n",
    "    INPUT: df_a, df_b: pd.Dataframe with the yearly mean AQI values of the cities we want to compare and the std_dev of those means\n",
    "            percent: if True a percent with its corresponding error is returned. If False, only the returned value is the difference of the mean of both df_a and df_b\n",
    "            unequal_var: if True a Welch's t-test is performed. If False population variances are assumed to be equal and thus a standard t-test is performed where the sample\n",
    "            variance is the pooled variance\n",
    "            alpha: represents the quantile to return in the confidence interval\n",
    "    OUTPUT: pd.DataFrame with the confidence interval of the yearly AQI difference'''\n",
    "    final_df = pd.DataFrame()\n",
    "    \n",
    "    #Find the common countries for both dataframes \n",
    "    countries = list(set(df_a.Country.unique()).intersection(set(df_b.Country.unique())))\n",
    "    for country in countries:\n",
    "        country_filter_a = df_a.Country == country\n",
    "        country_filter_b = df_b.Country == country\n",
    "        \n",
    "        #Find the common pollutants for both dataframes\n",
    "        pollutants = list(set(df_a[country_filter_a].Pollutant.unique()).intersection(set(df_b[country_filter_b].Pollutant.unique())))\n",
    "        for pollutant in pollutants:\n",
    "            pollutant_filter_a = df_a.Pollutant == pollutant\n",
    "            pollutant_filter_b = df_b.Pollutant == pollutant\n",
    "            \n",
    "        \n",
    "        #Find the common cities for both input dataframes\n",
    "            cities = list(set(df_a[country_filter_a & pollutant_filter_a].City.unique()).intersection(set(df_b[country_filter_b & pollutant_filter_b].City.unique())))\n",
    "            for city in cities:\n",
    "                city_filter_a = df_a.City == city\n",
    "                city_filter_b = df_b.City == city\n",
    "\n",
    "                mean_a = df_a[city_filter_a & country_filter_a & pollutant_filter_a].AQI.values[0]\n",
    "                mean_b = df_b[city_filter_b & country_filter_b & pollutant_filter_b].AQI.values[0]\n",
    "\n",
    "                std_a = df_a[city_filter_a & country_filter_a & pollutant_filter_a].std_dev.values[0]\n",
    "                std_b = df_b[city_filter_b & country_filter_b & pollutant_filter_b].std_dev.values[0]\n",
    "\n",
    "                statistic = mean_a-mean_b\n",
    "\n",
    "                n_a = df_a[city_filter_a & country_filter_a & pollutant_filter_a]['No_points'].values[0]\n",
    "                n_b = df_b[city_filter_b & country_filter_b & pollutant_filter_b]['No_points'].values[0]\n",
    "\n",
    "                if unequal_var:\n",
    "                    #Apply Welch t-test method\n",
    "                    std_statistic = np.sqrt(std_a**2 + std_b**2)\n",
    "                    # Welch's degrees of freedom\n",
    "                    degrees_freedom = (std_a**2+std_b**2)**2/(std_a**4/(n_a-1) + std_b**4/(n_b-1))\n",
    "\n",
    "                else:\n",
    "                    # Apply standard method with pooled variance\n",
    "                    std_statistic = np.sqrt(((n_a - 1)*std_a**2 + (n_b - 1)*std_b**2)/(n_a + n_b - 2))\n",
    "                    degrees_freedom = n_a + n_b - 2\n",
    "\n",
    "                #Calculate percentage with respect to the previous year\n",
    "                if percent:\n",
    "                    ratio = statistic/mean_b\n",
    "\n",
    "                    std_dev_mean_b = std_b\n",
    "                    std_dev_ratio = ratio * np.sqrt((std_statistic / statistic)**2 + (std_dev_mean_b  / mean_b)**2) # Propagation by Taylor approximation to first degree\n",
    "\n",
    "\n",
    "\n",
    "                    error_95th = stats.t.interval(df=degrees_freedom, alpha=alpha)[1] * std_dev_ratio\n",
    "\n",
    "                    percent = ratio *100\n",
    "                    std_95th_percent = error_95th*100\n",
    "\n",
    "                    CI = [percent, std_95th_percent]\n",
    "                if not percent:\n",
    "                    error = stats.t.interval(df=degrees_freedom, alpha=alpha)[1] * std_statistic\n",
    "                    CI = np.array([statistic, error])\n",
    "\n",
    "                temp_df = pd.DataFrame({'Year':str(df_a.Date.dt.year.unique()[0])+'-'+str(df_b.Date.dt.year.unique()[0]) , 'Country': country, 'City': city, 'Pollutant': pollutant, \\\n",
    "                                                'rel_value': CI[0], 'std': std_dev_ratio*100, 'std_95th(%)': [CI[1]]})\n",
    "                final_df = pd.concat([final_df, temp_df])\n",
    "            \n",
    "    return final_df.reset_index().drop('index', axis=1)"
   ]
  },
  {
   "cell_type": "code",
   "execution_count": 75,
   "metadata": {},
   "outputs": [
    {
     "name": "stdin",
     "output_type": "stream",
     "text": [
      "Beware: inserting the original DataFrame will imply a long runtime process (> 10 min). It is advised\n",
      "                    to use the returned DataFrame after applying the monthly_city_pollutant() function. Do you want to continue anyway?\n",
      "\n",
      "                    Type \"y\" for Yes\n",
      "\n",
      "                    Type \"n\" for No\n",
      " y\n"
     ]
    },
    {
     "name": "stdout",
     "output_type": "stream",
     "text": [
      "Implementing function: monthly_city_pollutant. This may take a while.\n",
      "Implementing function: yearly_city_pollutant\n"
     ]
    }
   ],
   "source": [
    "year_city_pollut_df = yearly_city_pollutant(df_spain)"
   ]
  },
  {
   "cell_type": "code",
   "execution_count": 76,
   "metadata": {},
   "outputs": [],
   "source": [
    "df_19 = year_city_pollut_df[(year_city_pollut_df.Date.dt.year == 2019)]\n",
    "df_20 = year_city_pollut_df[(year_city_pollut_df.Date.dt.year == 2020)]\n",
    "\n",
    "comp_year_city_pollut_df = year_t_conf_interval_city_pollutant(df_20, df_19, unequal_var=False, percent=True)"
   ]
  },
  {
   "cell_type": "code",
   "execution_count": 86,
   "metadata": {},
   "outputs": [
    {
     "data": {
      "text/html": [
       "<div>\n",
       "<style scoped>\n",
       "    .dataframe tbody tr th:only-of-type {\n",
       "        vertical-align: middle;\n",
       "    }\n",
       "\n",
       "    .dataframe tbody tr th {\n",
       "        vertical-align: top;\n",
       "    }\n",
       "\n",
       "    .dataframe thead th {\n",
       "        text-align: right;\n",
       "    }\n",
       "</style>\n",
       "<table border=\"1\" class=\"dataframe\">\n",
       "  <thead>\n",
       "    <tr style=\"text-align: right;\">\n",
       "      <th></th>\n",
       "      <th>Year</th>\n",
       "      <th>Country</th>\n",
       "      <th>City</th>\n",
       "      <th>Pollutant</th>\n",
       "      <th>rel_value</th>\n",
       "      <th>std</th>\n",
       "      <th>std_95th(%)</th>\n",
       "    </tr>\n",
       "  </thead>\n",
       "  <tbody>\n",
       "    <tr>\n",
       "      <th>0</th>\n",
       "      <td>2020-2019</td>\n",
       "      <td>ES</td>\n",
       "      <td>Pamplona</td>\n",
       "      <td>pm10</td>\n",
       "      <td>-11.638912</td>\n",
       "      <td>-2.252418</td>\n",
       "      <td>-4.684160</td>\n",
       "    </tr>\n",
       "    <tr>\n",
       "      <th>1</th>\n",
       "      <td>2020-2019</td>\n",
       "      <td>ES</td>\n",
       "      <td>Córdoba</td>\n",
       "      <td>pm10</td>\n",
       "      <td>-7.849031</td>\n",
       "      <td>-1.966140</td>\n",
       "      <td>-4.077525</td>\n",
       "    </tr>\n",
       "    <tr>\n",
       "      <th>2</th>\n",
       "      <td>2020-2019</td>\n",
       "      <td>ES</td>\n",
       "      <td>Santander</td>\n",
       "      <td>pm10</td>\n",
       "      <td>-8.049071</td>\n",
       "      <td>-1.667243</td>\n",
       "      <td>-3.457650</td>\n",
       "    </tr>\n",
       "    <tr>\n",
       "      <th>3</th>\n",
       "      <td>2020-2019</td>\n",
       "      <td>ES</td>\n",
       "      <td>Sevilla</td>\n",
       "      <td>pm10</td>\n",
       "      <td>-16.034220</td>\n",
       "      <td>-1.667819</td>\n",
       "      <td>-3.458844</td>\n",
       "    </tr>\n",
       "    <tr>\n",
       "      <th>4</th>\n",
       "      <td>2020-2019</td>\n",
       "      <td>ES</td>\n",
       "      <td>Zaragoza</td>\n",
       "      <td>pm10</td>\n",
       "      <td>1.521472</td>\n",
       "      <td>3.138051</td>\n",
       "      <td>6.652370</td>\n",
       "    </tr>\n",
       "  </tbody>\n",
       "</table>\n",
       "</div>"
      ],
      "text/plain": [
       "        Year Country       City Pollutant  rel_value       std  std_95th(%)\n",
       "0  2020-2019      ES   Pamplona      pm10 -11.638912 -2.252418    -4.684160\n",
       "1  2020-2019      ES    Córdoba      pm10  -7.849031 -1.966140    -4.077525\n",
       "2  2020-2019      ES  Santander      pm10  -8.049071 -1.667243    -3.457650\n",
       "3  2020-2019      ES    Sevilla      pm10 -16.034220 -1.667819    -3.458844\n",
       "4  2020-2019      ES   Zaragoza      pm10   1.521472  3.138051     6.652370"
      ]
     },
     "execution_count": 86,
     "metadata": {},
     "output_type": "execute_result"
    }
   ],
   "source": [
    "comp_year_city_pollut_df.head()"
   ]
  },
  {
   "cell_type": "code",
   "execution_count": 78,
   "metadata": {},
   "outputs": [
    {
     "data": {
      "image/png": "[encoded data removed]",
      "text/plain": [
       "<Figure size 1080x432 with 1 Axes>"
      ]
     },
     "metadata": {
      "needs_background": "light"
     },
     "output_type": "display_data"
    }
   ],
   "source": [
    "sorted_df = comp_year_city_pollut_df.sort_values(by='rel_value')\n",
    "\n",
    "pollut_no2 =  sorted_df[(sorted_df.Pollutant == 'no2')].rel_value\n",
    "err_no2 = sorted_df[(sorted_df.Pollutant == 'no2')]['std_95th(%)']\n",
    "\n",
    "labels = sorted_df.City.unique()\n",
    "\n",
    "x = np.arange(len(labels))  \n",
    "width = 0.35  \n",
    "\n",
    "fig, ax = plt.subplots()\n",
    "rects1 = ax.bar(x, pollut_no2, label='no2', yerr=err_no2)\n",
    "\n",
    "ax.set_ylabel('Scores')\n",
    "ax.set_xlabel('Cities')\n",
    "ax.set_title('Relative NO2 values between 2019 and 2020 for several Spanish cities')\n",
    "ax.set_xticks(x)\n",
    "ax.set_xticklabels(labels, rotation=60, ha='right')\n",
    "\n",
    "\n",
    "fig.tight_layout()\n",
    "\n",
    "plt.show()"
   ]
  },
  {
   "cell_type": "code",
   "execution_count": 120,
   "metadata": {},
   "outputs": [
    {
     "data": {
      "text/plain": [
       "array(['Las Palmas de Gran Canaria', 'Salamanca', 'Barcelona',\n",
       "       'Donostia / San Sebastián', 'Gasteiz / Vitoria', 'Córdoba',\n",
       "       'Santander', 'Palma', 'Málaga', 'Sevilla', 'Bilbao', 'Pamplona',\n",
       "       'Castelló de la Plana', 'Huelva', 'Granada', 'Madrid', 'Valencia',\n",
       "       'Burgos', 'Murcia', 'Santa Cruz de Tenerife', 'Oviedo',\n",
       "       'Valladolid', 'Zaragoza'], dtype=object)"
      ]
     },
     "execution_count": 120,
     "metadata": {},
     "output_type": "execute_result"
    }
   ],
   "source": [
    "df_spain.City.unique()"
   ]
  },
  {
   "cell_type": "code",
   "execution_count": null,
   "metadata": {},
   "outputs": [],
   "source": [
    "coordinates = [[28.09973, -15.41343], []]"
   ]
  },
  {
   "cell_type": "markdown",
   "metadata": {},
   "source": [
    "# Conclusions <a class='anchor' id='conclusions'>"
   ]
  },
  {
   "cell_type": "code",
   "execution_count": null,
   "metadata": {},
   "outputs": [],
   "source": []
  }
 ],
 "metadata": {
  "kernelspec": {
   "display_name": "Python 3",
   "language": "python",
   "name": "python3"
  },
  "language_info": {
   "codemirror_mode": {
    "name": "ipython",
    "version": 3
   },
   "file_extension": ".py",
   "mimetype": "text/x-python",
   "name": "python",
   "nbconvert_exporter": "python",
   "pygments_lexer": "ipython3",
   "version": "3.8.10"
  }
 },
 "nbformat": 4,
 "nbformat_minor": 4
}
