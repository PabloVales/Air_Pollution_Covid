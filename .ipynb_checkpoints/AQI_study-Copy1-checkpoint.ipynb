{
 "cells": [
  {
   "cell_type": "code",
   "execution_count": 1,
   "metadata": {},
   "outputs": [],
   "source": [
    "import csv\n",
    "import os\n",
    "import re\n",
    "import requests\n",
    "import pandas as pd\n",
    "import numpy as np\n",
    "import matplotlib.pyplot as plt\n",
    "import seaborn as sns\n",
    "from scipy import stats\n",
    "from datetime import datetime\n",
    "import functions"
   ]
  },
  {
   "cell_type": "code",
   "execution_count": 5,
   "metadata": {},
   "outputs": [],
   "source": [
    "def get_aqi_data():\n",
    "    \n",
    "    '''This function gets all the aqi data from https://aqicn.org for several cities.\n",
    "    It returns a dictionary with all the dataframes and creates csv files for all of them in\n",
    "    the current folder'''\n",
    "\n",
    "    CSV_URLS = 'https://aqicn.org/data-platform/covid19/report/22408-10ad85dd/'\n",
    "    time_periods = ['2021Q1','2020Q1', '2020Q2', '2020Q3', '2020Q4', '2019Q1', '2019Q2', '2019Q3', '2019Q4', '2018H1', '2017H1', '2016H1', \n",
    "                '2015H1']\n",
    "\n",
    "    dic = {}\n",
    "    for period in time_periods:\n",
    "        print(period)\n",
    "    \n",
    "        response = requests.get(CSV_URLS + period)\n",
    "        string_data = response.content.decode('utf-8')\n",
    "        list_data = [row.split(',') for row in string_data.split('\\n')]\n",
    "        # Remove header\n",
    "        del list_data[:4]\n",
    "        print(string_data)\n",
    "    \n",
    "        columns = list_data[0]\n",
    "        values = list_data[1:]\n",
    "    \n",
    "        dic[period] = pd.DataFrame(values, columns=columns)\n",
    "        \n",
    "    for name, df in dic.items():\n",
    "        df.to_csv('./'+name+'.csv')\n",
    "    \n",
    "    return dic\n",
    "\n"
   ]
  },
  {
   "cell_type": "code",
   "execution_count": 6,
   "metadata": {},
   "outputs": [
    {
     "name": "stdout",
     "output_type": "stream",
     "text": [
      "2021Q1\n",
      "Sorry, this report can not be found\n"
     ]
    },
    {
     "ename": "IndexError",
     "evalue": "list index out of range",
     "output_type": "error",
     "traceback": [
      "\u001b[1;31m---------------------------------------------------------------------------\u001b[0m",
      "\u001b[1;31mIndexError\u001b[0m                                Traceback (most recent call last)",
      "\u001b[1;32m<ipython-input-6-55d600368ae0>\u001b[0m in \u001b[0;36m<module>\u001b[1;34m\u001b[0m\n\u001b[1;32m----> 1\u001b[1;33m \u001b[0mdct\u001b[0m \u001b[1;33m=\u001b[0m \u001b[0mget_aqi_data\u001b[0m\u001b[1;33m(\u001b[0m\u001b[1;33m)\u001b[0m\u001b[1;33m\u001b[0m\u001b[1;33m\u001b[0m\u001b[0m\n\u001b[0m",
      "\u001b[1;32m<ipython-input-5-cefbfc5a15bb>\u001b[0m in \u001b[0;36mget_aqi_data\u001b[1;34m()\u001b[0m\n\u001b[0;32m     20\u001b[0m         \u001b[0mprint\u001b[0m\u001b[1;33m(\u001b[0m\u001b[0mstring_data\u001b[0m\u001b[1;33m)\u001b[0m\u001b[1;33m\u001b[0m\u001b[1;33m\u001b[0m\u001b[0m\n\u001b[0;32m     21\u001b[0m \u001b[1;33m\u001b[0m\u001b[0m\n\u001b[1;32m---> 22\u001b[1;33m         \u001b[0mcolumns\u001b[0m \u001b[1;33m=\u001b[0m \u001b[0mlist_data\u001b[0m\u001b[1;33m[\u001b[0m\u001b[1;36m0\u001b[0m\u001b[1;33m]\u001b[0m\u001b[1;33m\u001b[0m\u001b[1;33m\u001b[0m\u001b[0m\n\u001b[0m\u001b[0;32m     23\u001b[0m         \u001b[0mvalues\u001b[0m \u001b[1;33m=\u001b[0m \u001b[0mlist_data\u001b[0m\u001b[1;33m[\u001b[0m\u001b[1;36m1\u001b[0m\u001b[1;33m:\u001b[0m\u001b[1;33m]\u001b[0m\u001b[1;33m\u001b[0m\u001b[1;33m\u001b[0m\u001b[0m\n\u001b[0;32m     24\u001b[0m \u001b[1;33m\u001b[0m\u001b[0m\n",
      "\u001b[1;31mIndexError\u001b[0m: list index out of range"
     ]
    }
   ],
   "source": [
    "dct = get_aqi_data()"
   ]
  },
  {
   "cell_type": "code",
   "execution_count": null,
   "metadata": {},
   "outputs": [],
   "source": [
    "#Save data to csv files\n",
    "for name, df in dct.items():\n",
    "    df.to_csv('./'+name+'.csv')"
   ]
  },
  {
   "cell_type": "code",
   "execution_count": null,
   "metadata": {},
   "outputs": [],
   "source": [
    "ls"
   ]
  },
  {
   "cell_type": "markdown",
   "metadata": {},
   "source": [
    "# Business case\n",
    "\n",
    "Air pollution is one the main risk factors to develop diseases. The Covid pandemic has given us with an extraordinary situation to study how fast and how much the air pollution would decrease if the...... Has Covid benefitted us in this regard?"
   ]
  },
  {
   "cell_type": "markdown",
   "metadata": {},
   "source": [
    "# Data cleaning"
   ]
  },
  {
   "cell_type": "markdown",
   "metadata": {},
   "source": [
    "## Grouping of files and concatenation of DataFrames"
   ]
  },
  {
   "cell_type": "code",
   "execution_count": 2,
   "metadata": {},
   "outputs": [],
   "source": [
    "def concatenate_per_year(year):\n",
    "    '''Helper function: Puts together the csv files for a single year in one DataFrame\n",
    "    INPUT: int year to group\n",
    "    OUTPUT: pd.DataFrame'''\n",
    "    files_in_folder = [file for file in os.listdir() if os.path.isfile(os.path.join(os.getcwd(),file))]\n",
    "                                  \n",
    "    df = pd.DataFrame()\n",
    "    for file in files_in_folder:\n",
    "        if re.search('^{}'.format(str(year)), string=file):\n",
    "            temp_df = pd.read_csv(file)\n",
    "            df = pd.concat([df, temp_df])\n",
    "    return df\n",
    "\n",
    "def concatenate_all_years(years):\n",
    "    '''Creates a single dataframe with the data across all years contained in years\n",
    "    INPUT: list of ints years to concatenate\n",
    "    OUTPUT: pd.DataFrame with the data for all years'''\n",
    "    df = pd.DataFrame()\n",
    "    for year in years:\n",
    "            df = pd.concat([df, concatenate_per_year(year)])\n",
    "    return df\n",
    "        \n",
    "            "
   ]
  },
  {
   "cell_type": "markdown",
   "metadata": {},
   "source": [
    "df15 = concatenate_per_year(2015)\n",
    "df16 = concatenate_per_year(2016)\n",
    "df17 = concatenate_per_year(2017)\n",
    "df18 = concatenate_per_year(2018)\n",
    "df19 = concatenate_per_year(2019)\n",
    "df20 = concatenate_per_year(2020)\n",
    "df21 = concatenate_per_year(2021)"
   ]
  },
  {
   "cell_type": "code",
   "execution_count": 525,
   "metadata": {},
   "outputs": [
    {
     "data": {
      "text/html": [
       "<div>\n",
       "<style scoped>\n",
       "    .dataframe tbody tr th:only-of-type {\n",
       "        vertical-align: middle;\n",
       "    }\n",
       "\n",
       "    .dataframe tbody tr th {\n",
       "        vertical-align: top;\n",
       "    }\n",
       "\n",
       "    .dataframe thead th {\n",
       "        text-align: right;\n",
       "    }\n",
       "</style>\n",
       "<table border=\"1\" class=\"dataframe\">\n",
       "  <thead>\n",
       "    <tr style=\"text-align: right;\">\n",
       "      <th></th>\n",
       "      <th>Unnamed: 0</th>\n",
       "      <th>Date</th>\n",
       "      <th>Country</th>\n",
       "      <th>City</th>\n",
       "      <th>Specie</th>\n",
       "      <th>count</th>\n",
       "      <th>min</th>\n",
       "      <th>max</th>\n",
       "      <th>median</th>\n",
       "      <th>variance</th>\n",
       "    </tr>\n",
       "  </thead>\n",
       "  <tbody>\n",
       "    <tr>\n",
       "      <th>529594</th>\n",
       "      <td>NaN</td>\n",
       "      <td>2021-03-24</td>\n",
       "      <td>IL</td>\n",
       "      <td>Petaẖ Tiqwa</td>\n",
       "      <td>wind-gust</td>\n",
       "      <td>4.0</td>\n",
       "      <td>11.3</td>\n",
       "      <td>16.4</td>\n",
       "      <td>15.4</td>\n",
       "      <td>54.57</td>\n",
       "    </tr>\n",
       "    <tr>\n",
       "      <th>529595</th>\n",
       "      <td>NaN</td>\n",
       "      <td>2021-01-14</td>\n",
       "      <td>IL</td>\n",
       "      <td>Petaẖ Tiqwa</td>\n",
       "      <td>wind-gust</td>\n",
       "      <td>2.0</td>\n",
       "      <td>13.8</td>\n",
       "      <td>16.4</td>\n",
       "      <td>13.8</td>\n",
       "      <td>33.80</td>\n",
       "    </tr>\n",
       "    <tr>\n",
       "      <th>529596</th>\n",
       "      <td>NaN</td>\n",
       "      <td>2021-01-17</td>\n",
       "      <td>IL</td>\n",
       "      <td>Petaẖ Tiqwa</td>\n",
       "      <td>wind-gust</td>\n",
       "      <td>5.0</td>\n",
       "      <td>14.9</td>\n",
       "      <td>16.7</td>\n",
       "      <td>15.4</td>\n",
       "      <td>4.63</td>\n",
       "    </tr>\n",
       "    <tr>\n",
       "      <th>529597</th>\n",
       "      <td>NaN</td>\n",
       "      <td>2021-01-19</td>\n",
       "      <td>IL</td>\n",
       "      <td>Petaẖ Tiqwa</td>\n",
       "      <td>wind-gust</td>\n",
       "      <td>4.0</td>\n",
       "      <td>13.8</td>\n",
       "      <td>15.9</td>\n",
       "      <td>14.9</td>\n",
       "      <td>10.02</td>\n",
       "    </tr>\n",
       "    <tr>\n",
       "      <th>529598</th>\n",
       "      <td>NaN</td>\n",
       "      <td>2021-01-29</td>\n",
       "      <td>IL</td>\n",
       "      <td>Petaẖ Tiqwa</td>\n",
       "      <td>wind-gust</td>\n",
       "      <td>2.0</td>\n",
       "      <td>10.8</td>\n",
       "      <td>12.8</td>\n",
       "      <td>10.8</td>\n",
       "      <td>20.00</td>\n",
       "    </tr>\n",
       "  </tbody>\n",
       "</table>\n",
       "</div>"
      ],
      "text/plain": [
       "        Unnamed: 0        Date Country         City     Specie  count   min  \\\n",
       "529594         NaN  2021-03-24      IL  Petaẖ Tiqwa  wind-gust    4.0  11.3   \n",
       "529595         NaN  2021-01-14      IL  Petaẖ Tiqwa  wind-gust    2.0  13.8   \n",
       "529596         NaN  2021-01-17      IL  Petaẖ Tiqwa  wind-gust    5.0  14.9   \n",
       "529597         NaN  2021-01-19      IL  Petaẖ Tiqwa  wind-gust    4.0  13.8   \n",
       "529598         NaN  2021-01-29      IL  Petaẖ Tiqwa  wind-gust    2.0  10.8   \n",
       "\n",
       "         max  median  variance  \n",
       "529594  16.4    15.4     54.57  \n",
       "529595  16.4    13.8     33.80  \n",
       "529596  16.7    15.4      4.63  \n",
       "529597  15.9    14.9     10.02  \n",
       "529598  12.8    10.8     20.00  "
      ]
     },
     "execution_count": 525,
     "metadata": {},
     "output_type": "execute_result"
    }
   ],
   "source": [
    "df = concatenate_all_years([2019,2020,2021])\n",
    "df.tail()"
   ]
  },
  {
   "cell_type": "code",
   "execution_count": 526,
   "metadata": {},
   "outputs": [],
   "source": [
    "df = df.reset_index().drop(['index', 'Unnamed: 0'], axis=1)"
   ]
  },
  {
   "cell_type": "code",
   "execution_count": 527,
   "metadata": {},
   "outputs": [
    {
     "data": {
      "text/plain": [
       "(5031634, 9)"
      ]
     },
     "execution_count": 527,
     "metadata": {},
     "output_type": "execute_result"
    }
   ],
   "source": [
    "df.shape"
   ]
  },
  {
   "cell_type": "markdown",
   "metadata": {},
   "source": [
    "Note that in this dataset the value reported for the air quality is the sample median. This magnitude is more statistically sound to report air pollution as it can vary very rapidly along the day and whose distribution can be highly skewed. We will not be using the \"variance\" in the dataset, because it is defined as the variance of the raw data (https://aqicn.org/data-platform/covid19/), rather than the variance of the distribution of the median (which will be the quantity we will use). Note that the raw data is not provided, only the calculated median. For statistical analysis we will be using the natural spread of data. "
   ]
  },
  {
   "cell_type": "code",
   "execution_count": 296,
   "metadata": {},
   "outputs": [],
   "source": [
    "df.drop(['variance', 'min', 'max'], axis=1, inplace=True)"
   ]
  },
  {
   "cell_type": "markdown",
   "metadata": {},
   "source": [
    "Moreover, lets get rid of the data that we are not interested in. This dataframe has information for several markers, which are:"
   ]
  },
  {
   "cell_type": "code",
   "execution_count": 528,
   "metadata": {},
   "outputs": [
    {
     "data": {
      "text/plain": [
       "array(['pm10', 'humidity', 'o3', 'so2', 'wind-speed', 'wind-gust', 'dew',\n",
       "       'pm25', 'no2', 'pressure', 'temperature', 'precipitation', 'co',\n",
       "       'wd', 'uvi', 'aqi', 'pm1', 'mepaqi', 'pol', nan, 'wind speed',\n",
       "       'wind gust', 'neph'], dtype=object)"
      ]
     },
     "execution_count": 528,
     "metadata": {},
     "output_type": "execute_result"
    }
   ],
   "source": [
    "df.Specie.unique()"
   ]
  },
  {
   "cell_type": "markdown",
   "metadata": {},
   "source": [
    "Although all of the atmospheric parameters in this table can affect the air contamination (specially wind and precipitations), we will be looking at a span of several years, so we will solely focus on the pollutant amount. It is safe to assume the meteorological parameters where approximately the same for the same time periods throughout our 5 year span.\n",
    "\n",
    "We will study Carbon Monoxide (CO), ozone (o$_3$), sulfur dioxide (SO$_2$), nitrogen dioxide (NO$_2$) and air particle of less than 10 microns (PM$_{10}$) and less than 2.5 microns (PM$_{25}$). Although PM$_1$ is also an important pollutant, it is harder to measure and the amount of data is very small."
   ]
  },
  {
   "cell_type": "code",
   "execution_count": 529,
   "metadata": {},
   "outputs": [],
   "source": [
    "pollutants = ['co', 'pm10', 'o3', 'so2', 'no2', 'pm25']\n",
    "df_whole = df.copy(deep=True)\n",
    "df = df[df.Specie.isin(pollutants)]"
   ]
  },
  {
   "cell_type": "code",
   "execution_count": 530,
   "metadata": {},
   "outputs": [
    {
     "data": {
      "text/plain": [
       "(array(['pm10', 'o3', 'so2', 'pm25', 'no2', 'co'], dtype=object), (2295687, 9))"
      ]
     },
     "execution_count": 530,
     "metadata": {},
     "output_type": "execute_result"
    }
   ],
   "source": [
    "df.Specie.unique(), df.shape"
   ]
  },
  {
   "cell_type": "markdown",
   "metadata": {},
   "source": [
    "Now we have all data (almost 4 million points) from 2015-2021 in one DataFrame corresponding to the different air pollutants.\n",
    "\n",
    "Do we have missing values?:\n"
   ]
  },
  {
   "cell_type": "code",
   "execution_count": 531,
   "metadata": {},
   "outputs": [
    {
     "data": {
      "text/plain": [
       "Date        0\n",
       "Country     0\n",
       "City        0\n",
       "Specie      0\n",
       "count       0\n",
       "min         0\n",
       "max         0\n",
       "median      0\n",
       "variance    0\n",
       "dtype: int64"
      ]
     },
     "execution_count": 531,
     "metadata": {},
     "output_type": "execute_result"
    }
   ],
   "source": [
    "df.isna().sum()"
   ]
  },
  {
   "cell_type": "markdown",
   "metadata": {},
   "source": [
    "Let's check now what datatypes we have in our table:"
   ]
  },
  {
   "cell_type": "code",
   "execution_count": 532,
   "metadata": {},
   "outputs": [
    {
     "name": "stdout",
     "output_type": "stream",
     "text": [
      "<class 'pandas.core.frame.DataFrame'>\n",
      "Int64Index: 2295687 entries, 0 to 5031467\n",
      "Data columns (total 9 columns):\n",
      " #   Column    Dtype  \n",
      "---  ------    -----  \n",
      " 0   Date      object \n",
      " 1   Country   object \n",
      " 2   City      object \n",
      " 3   Specie    object \n",
      " 4   count     float64\n",
      " 5   min       float64\n",
      " 6   max       float64\n",
      " 7   median    float64\n",
      " 8   variance  float64\n",
      "dtypes: float64(5), object(4)\n",
      "memory usage: 175.1+ MB\n"
     ]
    }
   ],
   "source": [
    "df.info()"
   ]
  },
  {
   "cell_type": "code",
   "execution_count": 533,
   "metadata": {},
   "outputs": [
    {
     "name": "stdout",
     "output_type": "stream",
     "text": [
      "Number of cities in the dataset: 602 | Number of countries in the dataset: 94\n"
     ]
    }
   ],
   "source": [
    "print('Number of cities in the dataset: {} | Number of countries in the dataset: {}'.format(df.City.unique().size, df.Country.unique().size))"
   ]
  },
  {
   "cell_type": "markdown",
   "metadata": {},
   "source": [
    "Everything looks good except the date, which we want to parse to obtain a datetime type"
   ]
  },
  {
   "cell_type": "code",
   "execution_count": 534,
   "metadata": {},
   "outputs": [],
   "source": [
    "df.Date = pd.to_datetime(df.Date, format='%Y-%m-%d')"
   ]
  },
  {
   "cell_type": "code",
   "execution_count": 535,
   "metadata": {},
   "outputs": [
    {
     "name": "stdout",
     "output_type": "stream",
     "text": [
      "<class 'pandas.core.frame.DataFrame'>\n",
      "Int64Index: 2295687 entries, 0 to 5031467\n",
      "Data columns (total 9 columns):\n",
      " #   Column    Dtype         \n",
      "---  ------    -----         \n",
      " 0   Date      datetime64[ns]\n",
      " 1   Country   object        \n",
      " 2   City      object        \n",
      " 3   Specie    object        \n",
      " 4   count     float64       \n",
      " 5   min       float64       \n",
      " 6   max       float64       \n",
      " 7   median    float64       \n",
      " 8   variance  float64       \n",
      "dtypes: datetime64[ns](1), float64(5), object(3)\n",
      "memory usage: 175.1+ MB\n"
     ]
    }
   ],
   "source": [
    "df.info()"
   ]
  },
  {
   "cell_type": "code",
   "execution_count": 536,
   "metadata": {},
   "outputs": [
    {
     "data": {
      "text/plain": [
       "array([2018, 2019, 2020, 2021], dtype=int64)"
      ]
     },
     "execution_count": 536,
     "metadata": {},
     "output_type": "execute_result"
    }
   ],
   "source": [
    "np.sort(df.Date.dt.year.unique())"
   ]
  },
  {
   "cell_type": "markdown",
   "metadata": {},
   "source": [
    "We have 2018 even though we only downloaded the 2019-2021 time-span"
   ]
  },
  {
   "cell_type": "code",
   "execution_count": 537,
   "metadata": {},
   "outputs": [
    {
     "data": {
      "text/plain": [
       "array([12], dtype=int64)"
      ]
     },
     "execution_count": 537,
     "metadata": {},
     "output_type": "execute_result"
    }
   ],
   "source": [
    "df[df.Date.dt.year == 2018].Date.dt.month.unique()"
   ]
  },
  {
   "cell_type": "markdown",
   "metadata": {},
   "source": [
    "But we only have the month of December. Since this won't give us any relevant statistical view let's drop those rows:"
   ]
  },
  {
   "cell_type": "code",
   "execution_count": 538,
   "metadata": {},
   "outputs": [],
   "source": [
    "df = df[df.Date.dt.year > 2018]"
   ]
  },
  {
   "cell_type": "markdown",
   "metadata": {},
   "source": [
    "Although in this work we will only analyze Spain, for further work it may be useful to include all country names in the dataset apart from their 2-letter code. Although useful for simplicity, the latter renders the data a bit cryptic. The country name dataset was extracted from datahub.io in the following link: https://datahub.io/core/country-list"
   ]
  },
  {
   "cell_type": "code",
   "execution_count": 539,
   "metadata": {},
   "outputs": [
    {
     "data": {
      "text/html": [
       "<div>\n",
       "<style scoped>\n",
       "    .dataframe tbody tr th:only-of-type {\n",
       "        vertical-align: middle;\n",
       "    }\n",
       "\n",
       "    .dataframe tbody tr th {\n",
       "        vertical-align: top;\n",
       "    }\n",
       "\n",
       "    .dataframe thead th {\n",
       "        text-align: right;\n",
       "    }\n",
       "</style>\n",
       "<table border=\"1\" class=\"dataframe\">\n",
       "  <thead>\n",
       "    <tr style=\"text-align: right;\">\n",
       "      <th></th>\n",
       "      <th>Name</th>\n",
       "      <th>Code</th>\n",
       "    </tr>\n",
       "  </thead>\n",
       "  <tbody>\n",
       "    <tr>\n",
       "      <th>0</th>\n",
       "      <td>Afghanistan</td>\n",
       "      <td>AF</td>\n",
       "    </tr>\n",
       "    <tr>\n",
       "      <th>1</th>\n",
       "      <td>Ã…land Islands</td>\n",
       "      <td>AX</td>\n",
       "    </tr>\n",
       "    <tr>\n",
       "      <th>2</th>\n",
       "      <td>Albania</td>\n",
       "      <td>AL</td>\n",
       "    </tr>\n",
       "    <tr>\n",
       "      <th>3</th>\n",
       "      <td>Algeria</td>\n",
       "      <td>DZ</td>\n",
       "    </tr>\n",
       "    <tr>\n",
       "      <th>4</th>\n",
       "      <td>American Samoa</td>\n",
       "      <td>AS</td>\n",
       "    </tr>\n",
       "    <tr>\n",
       "      <th>...</th>\n",
       "      <td>...</td>\n",
       "      <td>...</td>\n",
       "    </tr>\n",
       "    <tr>\n",
       "      <th>244</th>\n",
       "      <td>Wallis and Futuna</td>\n",
       "      <td>WF</td>\n",
       "    </tr>\n",
       "    <tr>\n",
       "      <th>245</th>\n",
       "      <td>Western Sahara</td>\n",
       "      <td>EH</td>\n",
       "    </tr>\n",
       "    <tr>\n",
       "      <th>246</th>\n",
       "      <td>Yemen</td>\n",
       "      <td>YE</td>\n",
       "    </tr>\n",
       "    <tr>\n",
       "      <th>247</th>\n",
       "      <td>Zambia</td>\n",
       "      <td>ZM</td>\n",
       "    </tr>\n",
       "    <tr>\n",
       "      <th>248</th>\n",
       "      <td>Zimbabwe</td>\n",
       "      <td>ZW</td>\n",
       "    </tr>\n",
       "  </tbody>\n",
       "</table>\n",
       "<p>249 rows × 2 columns</p>\n",
       "</div>"
      ],
      "text/plain": [
       "                  Name Code\n",
       "0          Afghanistan   AF\n",
       "1       Ã…land Islands   AX\n",
       "2              Albania   AL\n",
       "3              Algeria   DZ\n",
       "4       American Samoa   AS\n",
       "..                 ...  ...\n",
       "244  Wallis and Futuna   WF\n",
       "245     Western Sahara   EH\n",
       "246              Yemen   YE\n",
       "247             Zambia   ZM\n",
       "248           Zimbabwe   ZW\n",
       "\n",
       "[249 rows x 2 columns]"
      ]
     },
     "execution_count": 539,
     "metadata": {},
     "output_type": "execute_result"
    }
   ],
   "source": [
    "country_name = pd.read_csv('.\\country_codes.txt')\n",
    "country_name"
   ]
  },
  {
   "cell_type": "code",
   "execution_count": 540,
   "metadata": {},
   "outputs": [
    {
     "data": {
      "text/plain": [
       "Name    object\n",
       "Code    object\n",
       "dtype: object"
      ]
     },
     "execution_count": 540,
     "metadata": {},
     "output_type": "execute_result"
    }
   ],
   "source": [
    "country_name.dtypes"
   ]
  },
  {
   "cell_type": "code",
   "execution_count": 541,
   "metadata": {},
   "outputs": [
    {
     "data": {
      "text/plain": [
       "Name    0\n",
       "Code    1\n",
       "dtype: int64"
      ]
     },
     "execution_count": 541,
     "metadata": {},
     "output_type": "execute_result"
    }
   ],
   "source": [
    "country_name.isna().sum()"
   ]
  },
  {
   "cell_type": "markdown",
   "metadata": {},
   "source": [
    "There is a missing value in the country_name dataframe. What country is it?"
   ]
  },
  {
   "cell_type": "code",
   "execution_count": 542,
   "metadata": {},
   "outputs": [
    {
     "data": {
      "text/plain": [
       "Name    Namibia\n",
       "Code        NaN\n",
       "Name: 153, dtype: object"
      ]
     },
     "execution_count": 542,
     "metadata": {},
     "output_type": "execute_result"
    }
   ],
   "source": [
    "country_name.loc[country_name[country_name.Code.isna()].index[0], :]"
   ]
  },
  {
   "cell_type": "markdown",
   "metadata": {},
   "source": [
    "Is it in our df dataframe? The 2-letter code for Namibia is 'NA'"
   ]
  },
  {
   "cell_type": "code",
   "execution_count": 543,
   "metadata": {},
   "outputs": [
    {
     "data": {
      "text/plain": [
       "(0, 9)"
      ]
     },
     "execution_count": 543,
     "metadata": {},
     "output_type": "execute_result"
    }
   ],
   "source": [
    "df[df.Country == 'NA'].shape"
   ]
  },
  {
   "cell_type": "markdown",
   "metadata": {},
   "source": [
    "It is not present, so we can safely remove it from country_name:"
   ]
  },
  {
   "cell_type": "code",
   "execution_count": 544,
   "metadata": {},
   "outputs": [],
   "source": [
    "country_name.dropna(inplace=True)"
   ]
  },
  {
   "cell_type": "code",
   "execution_count": 545,
   "metadata": {},
   "outputs": [
    {
     "data": {
      "text/plain": [
       "(248, 2)"
      ]
     },
     "execution_count": 545,
     "metadata": {},
     "output_type": "execute_result"
    }
   ],
   "source": [
    "country_name.shape"
   ]
  },
  {
   "cell_type": "markdown",
   "metadata": {},
   "source": [
    "Let's check every country code in our air pollution dataset is present in the country_name dataframe:"
   ]
  },
  {
   "cell_type": "code",
   "execution_count": 546,
   "metadata": {},
   "outputs": [],
   "source": [
    "def check_contents(arr1, arr2):\n",
    "    '''Checks if all elements in arr1 are contained in arr2\n",
    "    INPUT: arr1, arr2 arrays with the elements to compare\n",
    "    OUTPUT: boolean array with the length of arr1. If True then the element in arr1 is in arr2. If False, it is not present'''\n",
    "    \n",
    "    bool_arr = np.array([])\n",
    "    for country in arr1:\n",
    "        boolean = country in arr2\n",
    "        bool_arr = np.append(bool_arr, boolean)\n",
    "\n",
    "    if bool_arr.all():\n",
    "        print('All elements in array 1 are in array 2')\n",
    "    else: \n",
    "        missing = len(bool_arr) - bool_arr.sum()\n",
    "        print('There are {} elements of array 1 missing in array 2'.format(missing))\n",
    "        \n",
    "    return bool_arr\n",
    "    "
   ]
  },
  {
   "cell_type": "code",
   "execution_count": 547,
   "metadata": {},
   "outputs": [
    {
     "name": "stdout",
     "output_type": "stream",
     "text": [
      "There are 1.0 elements of array 1 missing in array 2\n"
     ]
    }
   ],
   "source": [
    "bool_arr_1 = check_contents(df.Country.unique(), country_name.Code.unique())"
   ]
  },
  {
   "cell_type": "markdown",
   "metadata": {},
   "source": [
    "Which one is not present in country_names?"
   ]
  },
  {
   "cell_type": "code",
   "execution_count": 548,
   "metadata": {},
   "outputs": [
    {
     "data": {
      "text/plain": [
       "array(['XK'], dtype=object)"
      ]
     },
     "execution_count": 548,
     "metadata": {},
     "output_type": "execute_result"
    }
   ],
   "source": [
    "df.Country.unique()[bool_arr_1 == False]"
   ]
  },
  {
   "cell_type": "markdown",
   "metadata": {},
   "source": [
    "'XK' corresponds to Kosovo. Therefore, let's include it manually."
   ]
  },
  {
   "cell_type": "code",
   "execution_count": 549,
   "metadata": {},
   "outputs": [],
   "source": [
    "kosovo_df = pd.DataFrame([['Kosovo', 'XK']], columns=country_name.columns)\n",
    "country_name = pd.concat([country_name, kosovo_df], axis=0).reset_index(drop=True)"
   ]
  },
  {
   "cell_type": "code",
   "execution_count": 550,
   "metadata": {},
   "outputs": [
    {
     "data": {
      "text/html": [
       "<div>\n",
       "<style scoped>\n",
       "    .dataframe tbody tr th:only-of-type {\n",
       "        vertical-align: middle;\n",
       "    }\n",
       "\n",
       "    .dataframe tbody tr th {\n",
       "        vertical-align: top;\n",
       "    }\n",
       "\n",
       "    .dataframe thead th {\n",
       "        text-align: right;\n",
       "    }\n",
       "</style>\n",
       "<table border=\"1\" class=\"dataframe\">\n",
       "  <thead>\n",
       "    <tr style=\"text-align: right;\">\n",
       "      <th></th>\n",
       "      <th>Name</th>\n",
       "      <th>Code</th>\n",
       "    </tr>\n",
       "  </thead>\n",
       "  <tbody>\n",
       "    <tr>\n",
       "      <th>0</th>\n",
       "      <td>Afghanistan</td>\n",
       "      <td>AF</td>\n",
       "    </tr>\n",
       "    <tr>\n",
       "      <th>1</th>\n",
       "      <td>Ã…land Islands</td>\n",
       "      <td>AX</td>\n",
       "    </tr>\n",
       "    <tr>\n",
       "      <th>2</th>\n",
       "      <td>Albania</td>\n",
       "      <td>AL</td>\n",
       "    </tr>\n",
       "    <tr>\n",
       "      <th>3</th>\n",
       "      <td>Algeria</td>\n",
       "      <td>DZ</td>\n",
       "    </tr>\n",
       "    <tr>\n",
       "      <th>4</th>\n",
       "      <td>American Samoa</td>\n",
       "      <td>AS</td>\n",
       "    </tr>\n",
       "    <tr>\n",
       "      <th>...</th>\n",
       "      <td>...</td>\n",
       "      <td>...</td>\n",
       "    </tr>\n",
       "    <tr>\n",
       "      <th>244</th>\n",
       "      <td>Western Sahara</td>\n",
       "      <td>EH</td>\n",
       "    </tr>\n",
       "    <tr>\n",
       "      <th>245</th>\n",
       "      <td>Yemen</td>\n",
       "      <td>YE</td>\n",
       "    </tr>\n",
       "    <tr>\n",
       "      <th>246</th>\n",
       "      <td>Zambia</td>\n",
       "      <td>ZM</td>\n",
       "    </tr>\n",
       "    <tr>\n",
       "      <th>247</th>\n",
       "      <td>Zimbabwe</td>\n",
       "      <td>ZW</td>\n",
       "    </tr>\n",
       "    <tr>\n",
       "      <th>248</th>\n",
       "      <td>Kosovo</td>\n",
       "      <td>XK</td>\n",
       "    </tr>\n",
       "  </tbody>\n",
       "</table>\n",
       "<p>249 rows × 2 columns</p>\n",
       "</div>"
      ],
      "text/plain": [
       "               Name Code\n",
       "0       Afghanistan   AF\n",
       "1    Ã…land Islands   AX\n",
       "2           Albania   AL\n",
       "3           Algeria   DZ\n",
       "4    American Samoa   AS\n",
       "..              ...  ...\n",
       "244  Western Sahara   EH\n",
       "245           Yemen   YE\n",
       "246          Zambia   ZM\n",
       "247        Zimbabwe   ZW\n",
       "248          Kosovo   XK\n",
       "\n",
       "[249 rows x 2 columns]"
      ]
     },
     "execution_count": 550,
     "metadata": {},
     "output_type": "execute_result"
    }
   ],
   "source": [
    "country_name"
   ]
  },
  {
   "cell_type": "markdown",
   "metadata": {},
   "source": [
    "Now rechecking that everything is correct:"
   ]
  },
  {
   "cell_type": "code",
   "execution_count": 551,
   "metadata": {},
   "outputs": [
    {
     "name": "stdout",
     "output_type": "stream",
     "text": [
      "All elements in array 1 are in array 2\n"
     ]
    }
   ],
   "source": [
    "bool_arr_1 = check_contents(df.Country.unique(), country_name.Code.unique())"
   ]
  },
  {
   "cell_type": "markdown",
   "metadata": {},
   "source": [
    "Every country code in country_name is in our df dataframe. We can now join both tables and do some renaming and re-arranging of columns:\n"
   ]
  },
  {
   "cell_type": "code",
   "execution_count": 552,
   "metadata": {},
   "outputs": [
    {
     "data": {
      "text/html": [
       "<div>\n",
       "<style scoped>\n",
       "    .dataframe tbody tr th:only-of-type {\n",
       "        vertical-align: middle;\n",
       "    }\n",
       "\n",
       "    .dataframe tbody tr th {\n",
       "        vertical-align: top;\n",
       "    }\n",
       "\n",
       "    .dataframe thead th {\n",
       "        text-align: right;\n",
       "    }\n",
       "</style>\n",
       "<table border=\"1\" class=\"dataframe\">\n",
       "  <thead>\n",
       "    <tr style=\"text-align: right;\">\n",
       "      <th></th>\n",
       "      <th>Date</th>\n",
       "      <th>Country</th>\n",
       "      <th>Country_name</th>\n",
       "      <th>City</th>\n",
       "      <th>Pollutant</th>\n",
       "      <th>count</th>\n",
       "      <th>median</th>\n",
       "      <th>variance</th>\n",
       "    </tr>\n",
       "  </thead>\n",
       "  <tbody>\n",
       "    <tr>\n",
       "      <th>0</th>\n",
       "      <td>2019-01-16</td>\n",
       "      <td>AE</td>\n",
       "      <td>United Arab Emirates</td>\n",
       "      <td>Abu Dhabi</td>\n",
       "      <td>pm10</td>\n",
       "      <td>24.0</td>\n",
       "      <td>97.0</td>\n",
       "      <td>179.40</td>\n",
       "    </tr>\n",
       "    <tr>\n",
       "      <th>1</th>\n",
       "      <td>2019-01-22</td>\n",
       "      <td>AE</td>\n",
       "      <td>United Arab Emirates</td>\n",
       "      <td>Abu Dhabi</td>\n",
       "      <td>pm10</td>\n",
       "      <td>24.0</td>\n",
       "      <td>55.0</td>\n",
       "      <td>23.75</td>\n",
       "    </tr>\n",
       "    <tr>\n",
       "      <th>2</th>\n",
       "      <td>2019-01-26</td>\n",
       "      <td>AE</td>\n",
       "      <td>United Arab Emirates</td>\n",
       "      <td>Abu Dhabi</td>\n",
       "      <td>pm10</td>\n",
       "      <td>24.0</td>\n",
       "      <td>160.0</td>\n",
       "      <td>941.96</td>\n",
       "    </tr>\n",
       "    <tr>\n",
       "      <th>3</th>\n",
       "      <td>2019-01-07</td>\n",
       "      <td>AE</td>\n",
       "      <td>United Arab Emirates</td>\n",
       "      <td>Abu Dhabi</td>\n",
       "      <td>pm10</td>\n",
       "      <td>24.0</td>\n",
       "      <td>72.0</td>\n",
       "      <td>1006.88</td>\n",
       "    </tr>\n",
       "    <tr>\n",
       "      <th>4</th>\n",
       "      <td>2019-01-10</td>\n",
       "      <td>AE</td>\n",
       "      <td>United Arab Emirates</td>\n",
       "      <td>Abu Dhabi</td>\n",
       "      <td>pm10</td>\n",
       "      <td>24.0</td>\n",
       "      <td>87.0</td>\n",
       "      <td>57.97</td>\n",
       "    </tr>\n",
       "  </tbody>\n",
       "</table>\n",
       "</div>"
      ],
      "text/plain": [
       "        Date Country          Country_name       City Pollutant  count  \\\n",
       "0 2019-01-16      AE  United Arab Emirates  Abu Dhabi      pm10   24.0   \n",
       "1 2019-01-22      AE  United Arab Emirates  Abu Dhabi      pm10   24.0   \n",
       "2 2019-01-26      AE  United Arab Emirates  Abu Dhabi      pm10   24.0   \n",
       "3 2019-01-07      AE  United Arab Emirates  Abu Dhabi      pm10   24.0   \n",
       "4 2019-01-10      AE  United Arab Emirates  Abu Dhabi      pm10   24.0   \n",
       "\n",
       "   median  variance  \n",
       "0    97.0    179.40  \n",
       "1    55.0     23.75  \n",
       "2   160.0    941.96  \n",
       "3    72.0   1006.88  \n",
       "4    87.0     57.97  "
      ]
     },
     "execution_count": 552,
     "metadata": {},
     "output_type": "execute_result"
    }
   ],
   "source": [
    "df = pd.merge(df, country_name, how='inner', left_on='Country', right_on='Code').rename(columns={'Name':'Country_name'}).drop('Code', axis=1)\n",
    "df = df[['Date', 'Country', 'Country_name', 'City', 'Specie', 'count', 'median', 'variance']]\n",
    "df = df.rename(columns={'Specie':'Pollutant'})\n",
    "df.head()"
   ]
  },
  {
   "cell_type": "markdown",
   "metadata": {},
   "source": [
    "## City population in Spain"
   ]
  },
  {
   "cell_type": "markdown",
   "metadata": {},
   "source": [
    "Now that we have the dataset for different countries, let's narrow it down to the country of this study: Spain. As we will need it later, let's include the city population of the spanish cities present in our air pollution dataset:"
   ]
  },
  {
   "cell_type": "code",
   "execution_count": 553,
   "metadata": {},
   "outputs": [],
   "source": [
    "df_spain = df[df.Country =='ES']"
   ]
  },
  {
   "cell_type": "code",
   "execution_count": 554,
   "metadata": {},
   "outputs": [
    {
     "name": "stdout",
     "output_type": "stream",
     "text": [
      "Number of datapoints: 101718. Number of spanish cities: 23\n"
     ]
    }
   ],
   "source": [
    "print('Number of datapoints: {}. Number of spanish cities: {}'.format(df_spain.shape[0], df_spain.City.unique().size))"
   ]
  },
  {
   "cell_type": "markdown",
   "metadata": {},
   "source": [
    "# What are the yearly proportions of the air pollutants in the selected country (Spain)? How much each of them decreased in 2020 relative to 2019?"
   ]
  },
  {
   "cell_type": "markdown",
   "metadata": {},
   "source": [
    "As specified in the ReadMe file the country averages will be done by first doing the averages of all cities in each country and the averages of all countries afterwards. Moreover, the time-related averages will be done in the same way, by doing the monthly average as the average of all days for each month and the average of all months to calculate the yearly average. This implies that we are giving every city and country the same weight and importance in the calculations. Any weighing factors can be included for other purposes/studies, such us city/country population, area or population density, among others.\n",
    "\n",
    "Therefore, in order to make the country calculation we need several functions, namely: (i) one that calculates the monthly average in each city (monthly_city_pollutant()) and (ii) one that calculates the yearly average in each city (yearly_city_pollutant()). With those 2 functions we can then calculate (iii) the monthly average in each country (monthly_country_pollutant()) and finally (iv) the yearly average of the country (yearly_country_pollutant()):"
   ]
  },
  {
   "cell_type": "code",
   "execution_count": 589,
   "metadata": {},
   "outputs": [],
   "source": [
    "def monthly_city_pollutant(df):\n",
    "    '''Returns a pandas.DataFrame with the monthly average of pollutants for every city in the input data\n",
    "    \n",
    "    INPUT: dataframe with pollution data with the form of df dataframe\n",
    "    OUTPUT: dataframe with the monthly average of pollutants for every city in the input data'''\n",
    "    \n",
    "    print('Implementing function: monthly_city_pollutant. This may take a while.')\n",
    "    final_df = pd.DataFrame()\n",
    "   \n",
    "    pollutants = df.Pollutant.unique()\n",
    "    for pollutant in pollutants:\n",
    "        pollutant_df = df[df.Pollutant == pollutant]\n",
    "        countries = pollutant_df.Country.unique()\n",
    "        for country in countries:\n",
    "            country_df = pollutant_df[pollutant_df.Country == country]\n",
    "            cities_country = country_df.City.unique()\n",
    "            for city in cities_country:\n",
    "                city_df = country_df[country_df.City == city]\n",
    "                years = city_df.Date.dt.year.unique()\n",
    "                for year in years:\n",
    "                    year_df = city_df[city_df.Date.dt.year == year]\n",
    "                    months = year_df.Date.dt.month.unique()\n",
    "                    for month in months:\n",
    "                        #Dataframe with a particular city in a given country\n",
    "                        month_df = year_df[year_df.Date.dt.month == month]\n",
    "                            \n",
    "                        mean_ser = month_df['median']\n",
    "                        date_string = '{}/{}'.format(year, month)\n",
    "                        \n",
    "                        #std_dev_mean = np.sqrt((month_df.std_mean**2).sum())/np.sqrt(month_df.shape[0])\n",
    "                        \n",
    "                        #Standard deviation\n",
    "                        std_dev = np.std(month_df['median'])\n",
    "                        no_days_per_month = month_df.Date.count()\n",
    "                            \n",
    "                        std_dev_mean = std_dev/np.sqrt(no_days_per_month)\n",
    "                            \n",
    "                        ## T-test confidence interval\n",
    "                        alpha= 0.95\n",
    "                        error_95th = stats.t.interval(df=no_days_per_month-1, alpha=alpha)[1] * std_dev_mean\n",
    "                        \n",
    "                                    \n",
    "                            \n",
    "                        temp_df = pd.DataFrame(data={'Date':datetime.strptime(date_string, '%Y/%m'), 'Month': month, 'Country': country, 'Country_name': month_df.Country_name.unique()[0], \\\n",
    "                                                     'City': city, 'Pollutant': pollutant, 'No_points': no_days_per_month, \\\n",
    "                                                     'AQI': [mean_ser.mean()], 'std_dev': std_dev_mean, 'conf_interval_95%': error_95th})\n",
    "                        #print(temp_df)\n",
    "                        final_df = pd.concat([final_df, temp_df])\n",
    "                        \n",
    "                        \n",
    "                           \n",
    "    return final_df.reset_index().drop('index', axis=1)\n",
    "    "
   ]
  },
  {
   "cell_type": "code",
   "execution_count": 473,
   "metadata": {},
   "outputs": [],
   "source": [
    "def yearly_city_pollutant(df):\n",
    "    '''Calculates the yearly average of pollutants in every city of the input data\n",
    "    \n",
    "    INPUT: dataframe with pollution data with the form of df dataframe\n",
    "    OUTPUT: dataframe with the monthly average of pollutants for every city in the input data'''\n",
    "    \n",
    "    if ('AQI' not in df.columns) and ('Month' not in df.columns):\n",
    "        inp = input('''Beware: inserting the original DataFrame will imply a long runtime process (> 10 min). It is advised\n",
    "                    to use the returned DataFrame after applying the monthly_city_pollutant() function. Do you want to continue anyway?\\n\n",
    "                    Type \"y\" for Yes\\n\n",
    "                    Type \"n\" for No\\n''')\n",
    "        \n",
    "        if inp.lower() == 'y':\n",
    "            df = monthly_city_pollutant(df)\n",
    "            \n",
    "        else:\n",
    "            return\n",
    "        \n",
    "    elif ('AQI' in df.columns) and ('Month' not in df.columns):\n",
    "        print('This function only accepts the original dataframe or the output from monthly_city_pollutant')\n",
    "        return\n",
    "    \n",
    "    print('Implementing function: yearly_city_pollutant')\n",
    "    final_df = pd.DataFrame()\n",
    "   \n",
    "    pollutants = df.Pollutant.unique()\n",
    "    for pollutant in pollutants:\n",
    "        pollutant_df = df[df.Pollutant == pollutant]\n",
    "        countries = pollutant_df.Country.unique()\n",
    "        for country in countries:\n",
    "            country_df = pollutant_df[pollutant_df.Country == country]\n",
    "            cities_country = country_df.City.unique()\n",
    "            for city in cities_country:\n",
    "                city_df = country_df[country_df.City == city]\n",
    "                years = city_df.Date.dt.year.unique()\n",
    "                for year in years:\n",
    "                    year_df = city_df[city_df.Date.dt.year == year]\n",
    "                            \n",
    "                    mean_ser = year_df['AQI']\n",
    "                    date_string = '{}'.format(year)\n",
    "                            \n",
    "                    #Standard deviation\n",
    "                    no_points = year_df.Date.count() * y\n",
    "                    std_dev_mean = np.sqrt((year_df.std_dev ** 2).sum())/np.sqrt(year_df.shape[0])\n",
    "                            \n",
    "                    ## T-test confidence interval\n",
    "                    alpha= 0.95\n",
    "                    error_95th = stats.t.interval(df=no_months_per_year-1, alpha=alpha)[1] * std_dev_mean\n",
    "                    # Note: months that only have one measurement will be given a NaN value by the t-test and thus, won't be taken into account further\n",
    "                        \n",
    "                                    \n",
    "                            \n",
    "                    temp_df = pd.DataFrame(data={'Date':datetime.strptime(date_string, '%Y'), 'Country': country, 'Country_name': year_df.Country_name.unique()[0], \\\n",
    "                                                     'City': city, 'Pollutant': pollutant, 'No_points': no_points, \\\n",
    "                                                     'AQI': [mean_ser.mean()], 'std_dev': std_dev_mean, 'conf_interval_95%': error_95th})\n",
    "                    #print(temp_df)\n",
    "                    final_df = pd.concat([final_df, temp_df])\n",
    "                        \n",
    "                        \n",
    "                           \n",
    "    return final_df.reset_index().drop('index', axis=1)\n",
    "    "
   ]
  },
  {
   "cell_type": "code",
   "execution_count": 474,
   "metadata": {},
   "outputs": [],
   "source": [
    "def monthly_country_pollutant(df):\n",
    "    '''This function calculates the monthly AQI average for each pollutant present in the table for the inserted countries and for all the available years in the dataset.\n",
    "    \n",
    "    INPUT: df: pd.DataFrame. If the dataframe is the output from montly_city_pollutant() (containing an \"AQI\" column) then the monthly_country_pollutant() is directly applied.\n",
    "                If the dataframe is the original dataframe with the daily AQI values, then monthly_city_pollutant() is applied first and then monthly_country_pollutant() is applied.\n",
    "                To avoid long runtimes it is adviced to use the monthly_city_pollutant() output as an input for the function.\n",
    "    OUTPUT: pd.DataFrame with the monthly AQI average for each country and pollutant '''\n",
    "    \n",
    "    if 'AQI' not in df.columns: #already treated dataframe with city means. See monthly_city_pollutant() function\n",
    "        inp = input('''Beware: inserting the original DataFrame will imply a long runtime process (> 10 min). It is advised\n",
    "                    to use the returned DataFrame after applying the monthly_city_pollutant() function. Do you want to continue anyway?\\n\n",
    "                    Type \"y\" for Yes\\n\n",
    "                    Type \"n\" for No\\n''')\n",
    "        \n",
    "        if inp.lower() == 'y':\n",
    "            print('Implementing function: monthly_city_pollutant. This may take a while.')\n",
    "            df = monthly_city_pollutant(df)\n",
    "            \n",
    "        else:\n",
    "            return\n",
    "        \n",
    "    print('Implementing function: monthly_country_pollutant')\n",
    "    city_df = df\n",
    "    final_df = pd.DataFrame()\n",
    "    years = np.sort(city_df.Date.dt.year.unique())\n",
    "    for year in years:\n",
    "        year_df = city_df[city_df.Date.dt.year == year]\n",
    "        months = year_df.Date.dt.month.unique()\n",
    "        for month in months:\n",
    "            month_df = year_df[year_df.Date.dt.month == month]\n",
    "            countries = month_df.Country.unique()\n",
    "            for country in countries:\n",
    "                country_df = month_df[month_df.Country == country]\n",
    "                pollutants = country_df.Pollutant.unique()\n",
    "\n",
    "                # Calculation of the yearly mean for each pollutant:\n",
    "                for pollutant in pollutants:\n",
    "                    pollutant_df = country_df[country_df.Pollutant == pollutant]\n",
    "\n",
    "                    # Yearly mean of the AQI for a particular pollutant and country\n",
    "                    mean_yearly_pollutant = pollutant_df['AQI'].mean() \n",
    "\n",
    "                    # Standard deviation of the mean yearly pollutant. Assuming i.i.d i.e Cov = 0\n",
    "                    std_dev_mean = np.sqrt((pollutant_df.std_dev ** 2).sum())/np.sqrt(pollutant_df.shape[0]) # Propagation of std. deviations for the mean\n",
    "                    no_points = pollutant_df.shape[0]\n",
    "\n",
    "                    total_no_points = pollutant_df.No_points.sum()\n",
    "                    #T-test confidence interval calculation\n",
    "                    if no_points == 1: # If the country has only 1 city per month, then use their original intervals and errors\n",
    "                        error_95th = pollutant_df['conf_interval_95%']\n",
    "                    else:\n",
    "                        alpha= 0.95\n",
    "                        error_95th = stats.t.interval(df=no_points-1, alpha=alpha)[1] * std_dev_mean\n",
    "\n",
    "                    date_string = '{}/{}'.format(year, month)\n",
    "                    temp_df = pd.DataFrame({'Date': datetime.strptime(date_string, '%Y/%m'), 'Month': month, 'Country': country, 'Country_name': pollutant_df.Country_name.unique()[0], \\\n",
    "                                                'Total_no_points': total_no_points, \\\n",
    "                                                    'No_points': no_points, 'Pollutant': pollutant, 'AQI': [mean_yearly_pollutant], 'std_dev': std_dev_mean, 'conf_interval_95%': error_95th})\n",
    "                    final_df = pd.concat([final_df, temp_df])\n",
    "\n",
    "\n",
    "                \n",
    "\n",
    "                        \n",
    "                           \n",
    "    return final_df.reset_index().drop('index', axis=1)\n",
    "       \n",
    "    "
   ]
  },
  {
   "cell_type": "code",
   "execution_count": 475,
   "metadata": {},
   "outputs": [],
   "source": [
    "def yearly_country_pollutant(data):\n",
    "    '''This function calculates the yearly AQI average for each pollutant and each country for all the available years in the dataset.\n",
    "    \n",
    "    INPUT: pd.DataFrame. Either the original dataset or the output from monthly_city_pollutant()\n",
    "    OUTPU: pd.DataFrame with the yearly AQI average for each pollutant and country'''\n",
    "    \n",
    "\n",
    "    \n",
    "    #Logic: if the column 'Month' is present i.e the input dataframe is an output of monthly_city_pollutant()\n",
    "    if ('median' in data.columns) or (('City' in data.columns) and ('Month' in data.columns)):\n",
    "        # The dataframe must be converted to yearly averages\n",
    "        cou_df = yearly_city_pollutant(data)\n",
    "    elif ('AQI' in data.columns) and ('City' in data.columns) and ('Month' not in data.columns):\n",
    "        # No preliminary calculations are needed\n",
    "        cou_df = data\n",
    "    else:\n",
    "        print('The input must be the original dataframe or the output from yearly_city_pollutant()')\n",
    "        return\n",
    "    \n",
    "    if cou_df is not None:\n",
    "        print('Implementing function: yearly_country_pollutant')\n",
    "\n",
    "        final_df = pd.DataFrame()\n",
    "        years = np.sort(cou_df.Date.dt.year.unique())\n",
    "        for year in years:\n",
    "            year_df = cou_df[cou_df.Date.dt.year == year]\n",
    "            countries = year_df.Country.unique()\n",
    "            for country in countries:\n",
    "                country_df = year_df[year_df.Country == country]\n",
    "                pollutants = country_df.Pollutant.unique()\n",
    "\n",
    "                # Calculation of the yearly mean for each pollutant:\n",
    "                for pollutant in pollutants:\n",
    "                    pollutant_df = country_df[country_df.Pollutant == pollutant]\n",
    "\n",
    "                    # Yearly mean of the AQI for a particular pollutant and country\n",
    "                    mean_yearly_pollutant = pollutant_df['AQI'].mean() \n",
    "\n",
    "                    # Standard deviation of the mean yearly pollutant. Assuming i.i.d i.e Cov = 0\n",
    "                    std_dev_mean = np.sqrt((pollutant_df.std_dev ** 2).sum())/np.sqrt(pollutant_df.shape[0]) # Propagation of std. deviations for the mean\n",
    "                    no_points = pollutant_df.shape[0]\n",
    "\n",
    "                    total_no_points = pollutant_df.No_points.sum()\n",
    "                    #T-test confidence interval calculation\n",
    "                    if no_points == 1:\n",
    "                        error_95th = pollutant_df['conf_interval_95%'].values\n",
    "                    else:\n",
    "                        alpha= 0.95\n",
    "                        error_95th = stats.t.interval(df=no_points-1, alpha=alpha)[1] * std_dev_mean\n",
    "\n",
    "                    # Calculation of the overall AQI (max of the individual pollutant AQIs)\n",
    "\n",
    "                    date_string = '{}'.format(year)\n",
    "                    temp_df = pd.DataFrame({'Date': datetime.strptime(date_string, '%Y'), 'Country': country, 'Country_name': pollutant_df.Country_name.unique()[0], \\\n",
    "                                            'Total_no_points': total_no_points, \\\n",
    "                                                'No_points': no_points, 'Pollutant': pollutant, 'AQI': [mean_yearly_pollutant], 'std_dev': std_dev_mean, 'conf_interval_95%': error_95th})\n",
    "                    final_df = pd.concat([final_df, temp_df])    \n",
    "\n",
    "        return final_df.reset_index().drop('index', axis=1)"
   ]
  },
  {
   "cell_type": "code",
   "execution_count": 603,
   "metadata": {},
   "outputs": [],
   "source": [
    "#Averages directly on df\n",
    "\n",
    "def yearly_country_pollutant(data):\n",
    "    '''This function calculates the yearly AQI average for each pollutant and each country for all the available years in the dataset.\n",
    "    \n",
    "    INPUT: pd.DataFrame. Either the original dataset or the output from monthly_city_pollutant()\n",
    "    OUTPU: pd.DataFrame with the yearly AQI average for each pollutant and country'''\n",
    "    \n",
    "    cou_df = data\n",
    "    final_df = pd.DataFrame()\n",
    "    years = np.sort(cou_df.Date.dt.year.unique())\n",
    "    for year in years:\n",
    "        year_df = cou_df[cou_df.Date.dt.year == year]\n",
    "        countries = year_df.Country.unique()\n",
    "        for country in countries:\n",
    "            country_df = year_df[year_df.Country == country]\n",
    "            pollutants = country_df.Pollutant.unique()\n",
    "\n",
    "            # Calculation of the yearly mean for each pollutant:\n",
    "            for pollutant in pollutants:\n",
    "                pollutant_df = country_df[country_df.Pollutant == pollutant]\n",
    "\n",
    "                # Yearly mean of the AQI for a particular pollutant and country\n",
    "                mean_yearly_pollutant = pollutant_df['median'].mean() \n",
    "\n",
    "                # Standard deviation of the mean yearly pollutant. Assuming i.i.d i.e Cov = 0\n",
    "                std_dev_mean = np.std(pollutant_df['median'])/np.sqrt(pollutant_df.shape[0]) # Propagation of std. deviations for the mean\n",
    "                no_points = pollutant_df.shape[0]\n",
    "                \n",
    "                #T-test confidence interval calculation\n",
    "                if no_points == 1:\n",
    "                    error_95th = pollutant_df['conf_interval_95%'].values\n",
    "                else:\n",
    "                    alpha= 0.95\n",
    "                    error_95th = stats.t.interval(df=no_points-1, alpha=alpha)[1] * std_dev_mean\n",
    "\n",
    "                # Calculation of the overall AQI (max of the individual pollutant AQIs)\n",
    "\n",
    "                date_string = '{}'.format(year)\n",
    "                temp_df = pd.DataFrame({'Date': datetime.strptime(date_string, '%Y'), 'Country': country, 'Country_name': pollutant_df.Country_name.unique()[0], \\\n",
    "                                        'No_points': no_points, 'Pollutant': pollutant, 'AQI': [mean_yearly_pollutant], 'std_dev': std_dev_mean, 'conf_interval_95%': error_95th})\n",
    "                final_df = pd.concat([final_df, temp_df])    \n",
    "\n",
    "    return final_df.reset_index().drop('index', axis=1)"
   ]
  },
  {
   "cell_type": "markdown",
   "metadata": {},
   "source": [
    "**Note**: the computation of the monthly averages for each city can take a relatively long time (7-13 minutes) for large datasets (> 1 million datapoints). In those cases it is better to calculate the monthly_city_pollutant() function first and use it as our input dataframe for future functions. Since in our case we have ~100,000 datapoints it is safe to use also the original dataset."
   ]
  },
  {
   "cell_type": "markdown",
   "metadata": {},
   "source": [
    "## Absolute amounts and relative changes in 2020 compared to 2019"
   ]
  },
  {
   "cell_type": "markdown",
   "metadata": {},
   "source": [
    "### Absolute pollutant amounts in 2019-2021"
   ]
  },
  {
   "cell_type": "code",
   "execution_count": 604,
   "metadata": {},
   "outputs": [
    {
     "name": "stdout",
     "output_type": "stream",
     "text": [
      "Wall time: 158 ms\n"
     ]
    }
   ],
   "source": [
    "%%time\n",
    "year_country_pollut_df = yearly_country_pollutant(df_spain)"
   ]
  },
  {
   "cell_type": "code",
   "execution_count": 605,
   "metadata": {},
   "outputs": [
    {
     "data": {
      "text/html": [
       "<div>\n",
       "<style scoped>\n",
       "    .dataframe tbody tr th:only-of-type {\n",
       "        vertical-align: middle;\n",
       "    }\n",
       "\n",
       "    .dataframe tbody tr th {\n",
       "        vertical-align: top;\n",
       "    }\n",
       "\n",
       "    .dataframe thead th {\n",
       "        text-align: right;\n",
       "    }\n",
       "</style>\n",
       "<table border=\"1\" class=\"dataframe\">\n",
       "  <thead>\n",
       "    <tr style=\"text-align: right;\">\n",
       "      <th></th>\n",
       "      <th>Date</th>\n",
       "      <th>Country</th>\n",
       "      <th>Country_name</th>\n",
       "      <th>No_points</th>\n",
       "      <th>Pollutant</th>\n",
       "      <th>AQI</th>\n",
       "      <th>std_dev</th>\n",
       "      <th>conf_interval_95%</th>\n",
       "    </tr>\n",
       "  </thead>\n",
       "  <tbody>\n",
       "    <tr>\n",
       "      <th>0</th>\n",
       "      <td>2019-01-01</td>\n",
       "      <td>ES</td>\n",
       "      <td>Spain</td>\n",
       "      <td>4090</td>\n",
       "      <td>pm25</td>\n",
       "      <td>36.093888</td>\n",
       "      <td>0.272678</td>\n",
       "      <td>0.534597</td>\n",
       "    </tr>\n",
       "    <tr>\n",
       "      <th>1</th>\n",
       "      <td>2019-01-01</td>\n",
       "      <td>ES</td>\n",
       "      <td>Spain</td>\n",
       "      <td>8085</td>\n",
       "      <td>no2</td>\n",
       "      <td>7.874694</td>\n",
       "      <td>0.057464</td>\n",
       "      <td>0.112644</td>\n",
       "    </tr>\n",
       "    <tr>\n",
       "      <th>2</th>\n",
       "      <td>2019-01-01</td>\n",
       "      <td>ES</td>\n",
       "      <td>Spain</td>\n",
       "      <td>8066</td>\n",
       "      <td>pm10</td>\n",
       "      <td>18.430697</td>\n",
       "      <td>0.102631</td>\n",
       "      <td>0.201183</td>\n",
       "    </tr>\n",
       "    <tr>\n",
       "      <th>3</th>\n",
       "      <td>2019-01-01</td>\n",
       "      <td>ES</td>\n",
       "      <td>Spain</td>\n",
       "      <td>8059</td>\n",
       "      <td>o3</td>\n",
       "      <td>23.578819</td>\n",
       "      <td>0.098260</td>\n",
       "      <td>0.192614</td>\n",
       "    </tr>\n",
       "    <tr>\n",
       "      <th>4</th>\n",
       "      <td>2019-01-01</td>\n",
       "      <td>ES</td>\n",
       "      <td>Spain</td>\n",
       "      <td>7842</td>\n",
       "      <td>so2</td>\n",
       "      <td>2.242349</td>\n",
       "      <td>0.013348</td>\n",
       "      <td>0.026165</td>\n",
       "    </tr>\n",
       "  </tbody>\n",
       "</table>\n",
       "</div>"
      ],
      "text/plain": [
       "        Date Country Country_name  No_points Pollutant        AQI   std_dev  \\\n",
       "0 2019-01-01      ES        Spain       4090      pm25  36.093888  0.272678   \n",
       "1 2019-01-01      ES        Spain       8085       no2   7.874694  0.057464   \n",
       "2 2019-01-01      ES        Spain       8066      pm10  18.430697  0.102631   \n",
       "3 2019-01-01      ES        Spain       8059        o3  23.578819  0.098260   \n",
       "4 2019-01-01      ES        Spain       7842       so2   2.242349  0.013348   \n",
       "\n",
       "   conf_interval_95%  \n",
       "0           0.534597  \n",
       "1           0.112644  \n",
       "2           0.201183  \n",
       "3           0.192614  \n",
       "4           0.026165  "
      ]
     },
     "execution_count": 605,
     "metadata": {},
     "output_type": "execute_result"
    }
   ],
   "source": [
    "year_country_pollut_df.head()"
   ]
  },
  {
   "cell_type": "code",
   "execution_count": 606,
   "metadata": {},
   "outputs": [
    {
     "data": {
      "text/plain": [
       "<AxesSubplot:xlabel='Date', ylabel='AQI'>"
      ]
     },
     "execution_count": 606,
     "metadata": {},
     "output_type": "execute_result"
    },
    {
     "data": {
      "image/png": "[encoded data removed]",
      "text/plain": [
       "<Figure size 432x288 with 1 Axes>"
      ]
     },
     "metadata": {
      "needs_background": "light"
     },
     "output_type": "display_data"
    }
   ],
   "source": [
    "#Absolute amounts of each pollutant\n",
    "\n",
    "years = year_country_pollut_df.sort_values(by='AQI').Date.dt.year\n",
    "year_country_pollut = year_country_pollut_df.sort_values(by='AQI').AQI\n",
    "hue = year_country_pollut_df.sort_values(by='AQI').Pollutant\n",
    "\n",
    "sns.barplot(x=years, y=year_country_pollut, \\\n",
    "        alpha=1, hue=hue)"
   ]
  },
  {
   "cell_type": "markdown",
   "metadata": {},
   "source": [
    "In the previous graph we can see that the pollutant values decrease in 2020, but how much exactly? Let's make a function to calculate it:"
   ]
  },
  {
   "cell_type": "code",
   "execution_count": 607,
   "metadata": {},
   "outputs": [],
   "source": [
    "def t_conf_interval_pollutants(df_a, df_b, percent=True, unequal_var=True, alpha=0.95):\n",
    "    '''Calculates the yearly relative change of the AQI for each pollutant for both input dataframes. The statistic is taken as AQI(df_a) - AQI(df_b).\n",
    "    INPUT: df_a, df_b: pd.Dataframe with the mean AQI values of the distributions we want to compare and the std_dev of those means\n",
    "            percent: if True a percent with its corresponding error is returned. If False, only the returned value is the difference of the mean of both df_a and df_b\n",
    "            unequal_var: if True a Welch's t-test is performed. If False population variances are assumed to be equal and thus a standard t-test is performed where the sample\n",
    "            variance is the pooled variance\n",
    "            alpha: represents the quantile to return in the confidence interval\n",
    "    OUTPUT: pd.DataFrame with the pollutant and confidence interval of the AQI difference for that pollutant'''\n",
    "    final_df = pd.DataFrame()\n",
    "    \n",
    "    for pollutant in df_a.Pollutant.unique():\n",
    "        pollut_a = df_a[df_a.Pollutant == pollutant].AQI.values[0]\n",
    "        pollut_b = df_b[df_b.Pollutant == pollutant].AQI.values[0]\n",
    "        \n",
    "        statistic = pollut_a - pollut_b\n",
    "    \n",
    "        std_a = df_a[df_a.Pollutant == pollutant].std_dev.values[0]\n",
    "        std_b = df_b[df_b.Pollutant == pollutant].std_dev.values[0]\n",
    "        \n",
    "        n_a = df_a[df_a.Pollutant == pollutant]['No_points'].values[0]\n",
    "        n_b = df_b[df_b.Pollutant == pollutant]['No_points'].values[0]\n",
    "        print(n_a, n_b)\n",
    "\n",
    "        std_statistic = np.sqrt(std_a**2 + std_b**2) # APPLY POOLED VARIANCE\n",
    "        \n",
    "        if unequal_var:\n",
    "            #Apply Welch t-test method\n",
    "            std_statistic = np.sqrt(std_a**2 + std_b**2)\n",
    "            # Welch's degrees of freedom\n",
    "            degrees_freedom = (std_a**2+std_b**2)**2/(std_a**2/(n_a-1) + std_b**2/(n_b-1))\n",
    "        else:\n",
    "            # Apply standard method with pooled variance\n",
    "            std_statistic = np.sqrt(((n_a - 1)*std_a**2 + (n_b - 1)*std_b**2)/(n_a + n_b - 2))\n",
    "            degrees_freedom = n_a + n_b - 2\n",
    "            \n",
    "\n",
    "        # Calculate percentage with respect to the previous year\n",
    "        if percent:\n",
    "             # Calculate percentage with respect to the previous year\n",
    "            ratio = statistic/pollut_b\n",
    "            std_dev_ratio = ratio * np.sqrt((std_statistic / statistic)**2 + (std_b  / pollut_b)**2) # Propagation by Taylor approximation to first degree\n",
    "            \n",
    "            error_95th = stats.t.interval(df=degrees_freedom, alpha=alpha)[1] * std_dev_ratio\n",
    "\n",
    "            percent = ratio *100\n",
    "            std_95th_percent = error_95th*100\n",
    "            print(degrees_freedom)\n",
    "\n",
    "            CI = [percent, std_95th_percent]\n",
    "        if not percent:\n",
    "            # Calculate the difference between the mean of both years\n",
    "            error = stats.t.interval(df=degrees_freedom, alpha=alpha)[1] * std_statistic\n",
    "            CI = np.array([statistic, error])\n",
    "        temp_df = pd.DataFrame({'Years_compared':str(df_a.Date.dt.year.unique()[0])+'-'+str(df_b.Date.dt.year.unique()[0]) , 'Pollutant': pollutant, \\\n",
    "                                    'middle': CI[0], 'std_dev': std_dev_ratio*100, 'std_95th': [CI[1]]})\n",
    "        final_df = pd.concat([final_df, temp_df])\n",
    "            \n",
    "    return final_df.reset_index().drop('index', axis=1)"
   ]
  },
  {
   "cell_type": "code",
   "execution_count": 608,
   "metadata": {},
   "outputs": [],
   "source": [
    "df_pollut_19 = year_country_pollut_df[year_country_pollut_df.Date.dt.year == 2019].sort_values(by='Pollutant')\n",
    "df_pollut_20 = year_country_pollut_df[year_country_pollut_df.Date.dt.year == 2020].sort_values(by='Pollutant')"
   ]
  },
  {
   "cell_type": "code",
   "execution_count": 609,
   "metadata": {},
   "outputs": [
    {
     "name": "stdout",
     "output_type": "stream",
     "text": [
      "8357 5929\n",
      "5.139427260696736\n",
      "8972 8085\n",
      "47.26060827317941\n",
      "8935 8059\n",
      "148.86891333959775\n",
      "8955 8066\n",
      "200.4753608673642\n",
      "5011 4090\n",
      "596.9234943884159\n",
      "8818 7842\n",
      "2.536793976547472\n"
     ]
    },
    {
     "data": {
      "text/html": [
       "<div>\n",
       "<style scoped>\n",
       "    .dataframe tbody tr th:only-of-type {\n",
       "        vertical-align: middle;\n",
       "    }\n",
       "\n",
       "    .dataframe tbody tr th {\n",
       "        vertical-align: top;\n",
       "    }\n",
       "\n",
       "    .dataframe thead th {\n",
       "        text-align: right;\n",
       "    }\n",
       "</style>\n",
       "<table border=\"1\" class=\"dataframe\">\n",
       "  <thead>\n",
       "    <tr style=\"text-align: right;\">\n",
       "      <th></th>\n",
       "      <th>Years_compared</th>\n",
       "      <th>Pollutant</th>\n",
       "      <th>middle</th>\n",
       "      <th>std_dev</th>\n",
       "      <th>std_95th</th>\n",
       "    </tr>\n",
       "  </thead>\n",
       "  <tbody>\n",
       "    <tr>\n",
       "      <th>0</th>\n",
       "      <td>2020-2019</td>\n",
       "      <td>co</td>\n",
       "      <td>-11.347918</td>\n",
       "      <td>-2.478915</td>\n",
       "      <td>-6.320606</td>\n",
       "    </tr>\n",
       "    <tr>\n",
       "      <th>1</th>\n",
       "      <td>2020-2019</td>\n",
       "      <td>no2</td>\n",
       "      <td>-16.775314</td>\n",
       "      <td>-0.958865</td>\n",
       "      <td>-1.928707</td>\n",
       "    </tr>\n",
       "    <tr>\n",
       "      <th>2</th>\n",
       "      <td>2020-2019</td>\n",
       "      <td>o3</td>\n",
       "      <td>-5.154743</td>\n",
       "      <td>-0.563915</td>\n",
       "      <td>-1.114311</td>\n",
       "    </tr>\n",
       "    <tr>\n",
       "      <th>3</th>\n",
       "      <td>2020-2019</td>\n",
       "      <td>pm10</td>\n",
       "      <td>-11.958353</td>\n",
       "      <td>-0.834337</td>\n",
       "      <td>-1.645202</td>\n",
       "    </tr>\n",
       "    <tr>\n",
       "      <th>4</th>\n",
       "      <td>2020-2019</td>\n",
       "      <td>pm25</td>\n",
       "      <td>-13.682730</td>\n",
       "      <td>-1.019569</td>\n",
       "      <td>-2.002378</td>\n",
       "    </tr>\n",
       "    <tr>\n",
       "      <th>5</th>\n",
       "      <td>2020-2019</td>\n",
       "      <td>so2</td>\n",
       "      <td>-4.996363</td>\n",
       "      <td>-0.783738</td>\n",
       "      <td>-2.772732</td>\n",
       "    </tr>\n",
       "  </tbody>\n",
       "</table>\n",
       "</div>"
      ],
      "text/plain": [
       "  Years_compared Pollutant     middle   std_dev  std_95th\n",
       "0      2020-2019        co -11.347918 -2.478915 -6.320606\n",
       "1      2020-2019       no2 -16.775314 -0.958865 -1.928707\n",
       "2      2020-2019        o3  -5.154743 -0.563915 -1.114311\n",
       "3      2020-2019      pm10 -11.958353 -0.834337 -1.645202\n",
       "4      2020-2019      pm25 -13.682730 -1.019569 -2.002378\n",
       "5      2020-2019       so2  -4.996363 -0.783738 -2.772732"
      ]
     },
     "execution_count": 609,
     "metadata": {},
     "output_type": "execute_result"
    }
   ],
   "source": [
    "rel_pollut_19_20= t_conf_interval_pollutants(df_pollut_20, df_pollut_19)\n",
    "rel_pollut_19_20"
   ]
  },
  {
   "cell_type": "code",
   "execution_count": 596,
   "metadata": {},
   "outputs": [
    {
     "data": {
      "text/plain": [
       "<AxesSubplot:ylabel='Pollutant'>"
      ]
     },
     "execution_count": 596,
     "metadata": {},
     "output_type": "execute_result"
    },
    {
     "data": {
      "image/png": "[encoded data removed]",
      "text/plain": [
       "<Figure size 432x288 with 1 Axes>"
      ]
     },
     "metadata": {
      "needs_background": "light"
     },
     "output_type": "display_data"
    }
   ],
   "source": [
    "#Relative amounts of each pollutant\n",
    "\n",
    "pollutants = rel_pollut_19_20.Pollutant\n",
    "rel_pollut = rel_pollut_19_20.middle\n",
    "hue = rel_pollut_19_20.Pollutant\n",
    "\n",
    "rel_pollut_19_20.sort_values(by='middle').plot.barh(x='Pollutant', y='middle', yerr=rel_pollut_19_20.std_95th)\n",
    "\n",
    "#sns.barplot(x=pollutants, y=rel_pollut, \\\n",
    "#        alpha=1, hue=hue)"
   ]
  },
  {
   "cell_type": "markdown",
   "metadata": {},
   "source": [
    "# How has the overall AQI evolved since 2019 worldwide?"
   ]
  },
  {
   "cell_type": "markdown",
   "metadata": {},
   "source": [
    "In this section we will be looking at the overall AQI, which is stablished to be AQI = max(AQI$_1$, AQI$_2$,..., AQI$_n$), where AQI$_i$ is the AQI value for the ith pollutant. As before, the process is the same, but in this case we have to filter which pollutant specie is most present in each city.\n",
    "For these calculations the functions used are (i) monthly_country_AQI() and (ii) yearly_country_AQI().\n",
    "\n",
    "They are called in the following manner:\n",
    "\n",
    "- For monthly data: monthly_city_pollutant() $\\rightarrow$ monthly_country_pollutant() $\\rightarrow$ monthly_country_AQI() \n",
    "    \n",
    "- For yearly data: yearly_city_pollutant() $\\rightarrow$ yearly_country_pollutant() $\\rightarrow$ yearly_country_AQI()"
   ]
  },
  {
   "cell_type": "code",
   "execution_count": 331,
   "metadata": {},
   "outputs": [],
   "source": [
    "def monthly_country_AQI(data):\n",
    "    '''This function calculates the monthly overall AQI average for each country.\n",
    "    \n",
    "    INPUT: pd.DataFrame. Either the original dataset or the output from monthly_city_pollutant()\n",
    "    OUTPUT: pd.DataFrame with the monthly overall AQI average for each country'''\n",
    "    \n",
    "    #Initialize the correct Dataframe input\n",
    "    cou_df = monthly_country_pollutant(data)\n",
    "    if cou_df is not None:\n",
    "        print('Implementing function: monthly_country_AQI')\n",
    "\n",
    "        final_df = pd.DataFrame()\n",
    "        years = np.sort(cou_df.Date.dt.year.unique())\n",
    "        for year in years:\n",
    "            year_df = cou_df[cou_df.Date.dt.year == year]\n",
    "            countries = year_df.Country.unique()\n",
    "            for country in countries:\n",
    "                country_df = year_df[year_df.Country == country]\n",
    "                months = country_df.Date.dt.month.unique()\n",
    "                for month in months:\n",
    "                    month_df = country_df[country_df.Date.dt.month == month]\n",
    "\n",
    "                    max_idx = month_df['AQI'].idxmax()\n",
    "                    overall_monthly_AQI = month_df.loc[max_idx, 'AQI']\n",
    "                    most_present_pollutant = month_df.loc[max_idx, 'Pollutant']\n",
    "                    std_dev_monthly_AQI = month_df.loc[max_idx, 'std_dev']\n",
    "                    conf_interval_monthly_AQI = month_df.loc[max_idx, 'conf_interval_95%']\n",
    "                    total_no_points = month_df.No_points.sum()\n",
    "                    no_points = month_df.loc[max_idx, 'No_points']\n",
    "\n",
    "\n",
    "\n",
    "                    date_string = '{}/{}'.format(year, month)\n",
    "                    temp_df = pd.DataFrame({'Date': datetime.strptime(date_string, '%Y/%m'), 'Country': country, 'Country_name': month_df.Country_name.unique()[0], \\\n",
    "                                            'Total_no_points': total_no_points, 'Most_present_pollutant': most_present_pollutant, \\\n",
    "                                                'No_points': no_points, 'AQI': [overall_monthly_AQI], 'std_dev': std_dev_monthly_AQI, 'conf_interval_95%': conf_interval_monthly_AQI})\n",
    "                    final_df = pd.concat([final_df, temp_df])    \n",
    "\n",
    "        return final_df.reset_index().drop('index', axis=1)\n",
    "    "
   ]
  },
  {
   "cell_type": "code",
   "execution_count": 332,
   "metadata": {},
   "outputs": [],
   "source": [
    "def yearly_country_AQI(data):\n",
    "    '''This function calculates the yearly overall AQI average for each country.\n",
    "    \n",
    "    INPUT: pd.DataFrame. Either the original dataset or the output from monthly_city_pollutant()\n",
    "    OUTPUT: pd.DataFrame with the  yearly overall AQI average for each country'''\n",
    "    \n",
    "    cou_df = yearly_country_pollutant(data)\n",
    "    if cou_df is not None:\n",
    "        print('Implementing function: yearly_country_AQI')\n",
    "        \n",
    "        final_df = pd.DataFrame()\n",
    "        years = np.sort(cou_df.Date.dt.year.unique())\n",
    "        for year in years:\n",
    "            year_df = cou_df[cou_df.Date.dt.year == year]\n",
    "            countries = year_df.Country.unique()\n",
    "            for country in countries:\n",
    "                country_df = year_df[year_df.Country == country]\n",
    "\n",
    "                max_idx = country_df['AQI'].idxmax()\n",
    "                overall_yearly_AQI = country_df.loc[max_idx, 'AQI']\n",
    "                most_present_pollutant = country_df.loc[max_idx, 'Pollutant']\n",
    "                std_dev_yearly_AQI = country_df.loc[max_idx, 'std_dev']\n",
    "                conf_interval_yearly_AQI = country_df.loc[max_idx, 'conf_interval_95%']\n",
    "                total_no_points = country_df.No_points.sum()\n",
    "                no_points = country_df.loc[max_idx, 'No_points']\n",
    "\n",
    "\n",
    "\n",
    "                date_string = '{}'.format(year)\n",
    "                temp_df = pd.DataFrame({'Date': datetime.strptime(date_string, '%Y'), 'Country': country, 'Country_name': country_df.Country_name.unique()[0], \\\n",
    "                                            'Total_no_points': total_no_points, 'Most_present_pollutant': most_present_pollutant, \\\n",
    "                                                'No_points': no_points, 'AQI': [overall_yearly_AQI], 'std_dev': std_dev_yearly_AQI, 'conf_interval_95%': conf_interval_yearly_AQI})\n",
    "                final_df = pd.concat([final_df, temp_df])    \n",
    "\n",
    "        return final_df.reset_index().drop('index', axis=1)"
   ]
  },
  {
   "cell_type": "markdown",
   "metadata": {},
   "source": [
    "### Yearly AQI change in Spain in 2019-2020"
   ]
  },
  {
   "cell_type": "code",
   "execution_count": 484,
   "metadata": {},
   "outputs": [
    {
     "name": "stdout",
     "output_type": "stream",
     "text": [
      "Implementing function: yearly_city_pollutant\n",
      "Implementing function: yearly_country_pollutant\n",
      "Implementing function: yearly_country_AQI\n",
      "Wall time: 1.42 s\n"
     ]
    },
    {
     "data": {
      "text/html": [
       "<div>\n",
       "<style scoped>\n",
       "    .dataframe tbody tr th:only-of-type {\n",
       "        vertical-align: middle;\n",
       "    }\n",
       "\n",
       "    .dataframe tbody tr th {\n",
       "        vertical-align: top;\n",
       "    }\n",
       "\n",
       "    .dataframe thead th {\n",
       "        text-align: right;\n",
       "    }\n",
       "</style>\n",
       "<table border=\"1\" class=\"dataframe\">\n",
       "  <thead>\n",
       "    <tr style=\"text-align: right;\">\n",
       "      <th></th>\n",
       "      <th>Date</th>\n",
       "      <th>Country</th>\n",
       "      <th>Country_name</th>\n",
       "      <th>Total_no_points</th>\n",
       "      <th>Most_present_pollutant</th>\n",
       "      <th>No_points</th>\n",
       "      <th>AQI</th>\n",
       "      <th>std_dev</th>\n",
       "      <th>conf_interval_95%</th>\n",
       "    </tr>\n",
       "  </thead>\n",
       "  <tbody>\n",
       "    <tr>\n",
       "      <th>0</th>\n",
       "      <td>2019-01-01</td>\n",
       "      <td>ES</td>\n",
       "      <td>Spain</td>\n",
       "      <td>128</td>\n",
       "      <td>pm25</td>\n",
       "      <td>13</td>\n",
       "      <td>35.239478</td>\n",
       "      <td>3.176006</td>\n",
       "      <td>6.919922</td>\n",
       "    </tr>\n",
       "    <tr>\n",
       "      <th>1</th>\n",
       "      <td>2020-01-01</td>\n",
       "      <td>ES</td>\n",
       "      <td>Spain</td>\n",
       "      <td>127</td>\n",
       "      <td>pm25</td>\n",
       "      <td>13</td>\n",
       "      <td>31.205665</td>\n",
       "      <td>2.568840</td>\n",
       "      <td>5.597021</td>\n",
       "    </tr>\n",
       "    <tr>\n",
       "      <th>2</th>\n",
       "      <td>2021-01-01</td>\n",
       "      <td>ES</td>\n",
       "      <td>Spain</td>\n",
       "      <td>127</td>\n",
       "      <td>pm25</td>\n",
       "      <td>13</td>\n",
       "      <td>34.751097</td>\n",
       "      <td>4.021604</td>\n",
       "      <td>8.762322</td>\n",
       "    </tr>\n",
       "  </tbody>\n",
       "</table>\n",
       "</div>"
      ],
      "text/plain": [
       "        Date Country Country_name  Total_no_points Most_present_pollutant  \\\n",
       "0 2019-01-01      ES        Spain              128                   pm25   \n",
       "1 2020-01-01      ES        Spain              127                   pm25   \n",
       "2 2021-01-01      ES        Spain              127                   pm25   \n",
       "\n",
       "   No_points        AQI   std_dev  conf_interval_95%  \n",
       "0         13  35.239478  3.176006           6.919922  \n",
       "1         13  31.205665  2.568840           5.597021  \n",
       "2         13  34.751097  4.021604           8.762322  "
      ]
     },
     "execution_count": 484,
     "metadata": {},
     "output_type": "execute_result"
    }
   ],
   "source": [
    "%%time\n",
    "yearly_country_df = yearly_country_AQI(month_city_pollut_df)\n",
    "yearly_country_df.head()"
   ]
  },
  {
   "cell_type": "code",
   "execution_count": 485,
   "metadata": {},
   "outputs": [
    {
     "data": {
      "text/plain": [
       "Text(0.5, 0, 'Year')"
      ]
     },
     "execution_count": 485,
     "metadata": {},
     "output_type": "execute_result"
    },
    {
     "data": {
      "image/png": "[encoded data removed]",
      "text/plain": [
       "<Figure size 432x288 with 1 Axes>"
      ]
     },
     "metadata": {
      "needs_background": "light"
     },
     "output_type": "display_data"
    }
   ],
   "source": [
    "plt.bar(yearly_country_df.Date.dt.year, yearly_country_df.AQI, \\\n",
    "        alpha=1, yerr= yearly_cou['conf_interval_95%'], color='r')\n",
    "plt.axhline(y=50, color='black', linestyle='--' )\n",
    "plt.annotate('Healthy AQI threshold', xy=(2018.1, 50.2), xytext=(2018.1, 70), arrowprops={'arrowstyle':'simple', 'color':'black'})\n",
    "plt.annotate('10.1% drop', xy=(2019.5, 64))\n",
    "plt.annotate('', xy=(2019.8, 58), xytext=(2019.4, 64), arrowprops={'arrowstyle':'simple', 'color':'black'})\n",
    "plt.xticks([2019, 2020, 2021], fontsize=12)\n",
    "plt.yticks(fontsize=12)\n",
    "plt.xlim(2018, 2022)\n",
    "plt.ylabel('Overall AQI', fontsize=15)\n",
    "plt.xlabel('Year', fontsize=15)"
   ]
  },
  {
   "cell_type": "markdown",
   "metadata": {},
   "source": [
    "We can see a clear drop in 2020. How much is it exactly?"
   ]
  },
  {
   "cell_type": "code",
   "execution_count": 597,
   "metadata": {},
   "outputs": [],
   "source": [
    "def year_t_conf_interval_country(df_a, df_b, percent=True, unequal_var=True, alpha=0.95):\n",
    "    '''Calculates the yearly relative change of the overall AQI for both input dataframes. The statistic is taken as AQI(df_a) - AQI(df_b).\n",
    "    INPUT: df_a, df_b: pd.Dataframe with the yearly mean AQI values of the distributions we want to compare and the std_dev of those means\n",
    "            percent: if True a percent with its corresponding error is returned. If False, only the returned value is the difference of the mean of both df_a and df_b\n",
    "            unequal_var: if True a Welch's t-test is performed. If False population variances are assumed to be equal and thus a standard t-test is performed where the sample\n",
    "            variance is the pooled variance\n",
    "            alpha: represents the quantile to return in the confidence interval\n",
    "    OUTPUT: pd.DataFrame with the confidence interval of the yearly AQI difference'''\n",
    "    final_df = pd.DataFrame()\n",
    "    \n",
    "    countries = list(set(df_a.Country.unique()).intersection(set(df_b.Country.unique())))\n",
    "    for country in countries:\n",
    "        country_filter_a = df_a.Country == country\n",
    "        country_filter_b = df_b.Country == country\n",
    "                \n",
    "        mean_a = df_a[country_filter_a].AQI.values[0]\n",
    "        mean_b = df_b[country_filter_b].AQI.values[0]\n",
    "\n",
    "        std_a = df_a[country_filter_a].std_dev.values[0]\n",
    "        std_b = df_b[country_filter_b].std_dev.values[0]\n",
    "\n",
    "        statistic = mean_a-mean_b\n",
    "\n",
    "        n_a = df_a[country_filter_a]['No_points'].values[0]\n",
    "        n_b = df_b[country_filter_b]['No_points'].values[0]\n",
    "            \n",
    "        if unequal_var:\n",
    "            #Apply Welch t-test method\n",
    "            std_statistic = np.sqrt(std_a**2 + std_b**2)\n",
    "            # Welch's degrees of freedom\n",
    "            degrees_freedom = (std_a**2+std_b**2)**2/(std_a**2/(n_a-1) + std_b**2/(n_b-1))\n",
    "        else:\n",
    "            # Apply standard method with pooled variance\n",
    "            std_statistic = np.sqrt(((n_a - 1)*std_a**2 + (n_b - 1)*std_b**2)/(n_a + n_b - 2))\n",
    "            degrees_freedom = n_a + n_b - 2\n",
    "            \n",
    "        #Calculate percentage with respect to the previous year\n",
    "        if percent:\n",
    "            ratio = statistic/mean_b\n",
    "            std_dev_mean_b = std_b\n",
    "            std_dev_ratio = ratio * np.sqrt((std_statistic / statistic)**2 + (std_dev_mean_b  / mean_b)**2) # Propagation by Taylor approximation to first degree\n",
    "                    \n",
    "            error_95th = stats.t.interval(df=degrees_freedom, alpha=alpha)[1] * std_dev_ratio\n",
    "\n",
    "            percent = ratio *100\n",
    "            std_95th_percent = error_95th*100\n",
    "\n",
    "            CI = [percent, std_95th_percent]\n",
    "        if not percent:\n",
    "            error = stats.t.interval(df=degrees_freedom, alpha=alpha)[1] * std_statistic\n",
    "            CI = np.array([statistic, error])\n",
    "                \n",
    "                \n",
    "                \n",
    "\n",
    "        #error = stats.t.interval(df=degrees_freedom, alpha=alpha)[1] * std_statistic\n",
    "       # CI = np.array([statistic, error])\n",
    "        #Calculate percentage with respect to the previous year\n",
    "        #if percent:\n",
    "       #     CI = (CI/mean_b)*100\n",
    "        temp_df = pd.DataFrame({'Year':str(df_a.Date.dt.year.unique()[0])+'-'+str(df_b.Date.dt.year.unique()[0]) , 'Country': country, \\\n",
    "                                        'difference(%)': CI[0], 'std_95th(%)': [CI[1]]})\n",
    "        final_df = pd.concat([final_df, temp_df])\n",
    "            \n",
    "    return final_df.reset_index().drop('index', axis=1)"
   ]
  },
  {
   "cell_type": "code",
   "execution_count": 417,
   "metadata": {},
   "outputs": [
    {
     "data": {
      "text/html": [
       "<div>\n",
       "<style scoped>\n",
       "    .dataframe tbody tr th:only-of-type {\n",
       "        vertical-align: middle;\n",
       "    }\n",
       "\n",
       "    .dataframe tbody tr th {\n",
       "        vertical-align: top;\n",
       "    }\n",
       "\n",
       "    .dataframe thead th {\n",
       "        text-align: right;\n",
       "    }\n",
       "</style>\n",
       "<table border=\"1\" class=\"dataframe\">\n",
       "  <thead>\n",
       "    <tr style=\"text-align: right;\">\n",
       "      <th></th>\n",
       "      <th>Year</th>\n",
       "      <th>Country</th>\n",
       "      <th>difference(%)</th>\n",
       "      <th>std_95th(%)</th>\n",
       "    </tr>\n",
       "  </thead>\n",
       "  <tbody>\n",
       "    <tr>\n",
       "      <th>0</th>\n",
       "      <td>2020-2019</td>\n",
       "      <td>ES</td>\n",
       "      <td>-11.446858</td>\n",
       "      <td>-3.165655</td>\n",
       "    </tr>\n",
       "  </tbody>\n",
       "</table>\n",
       "</div>"
      ],
      "text/plain": [
       "        Year Country  difference(%)  std_95th(%)\n",
       "0  2020-2019      ES     -11.446858    -3.165655"
      ]
     },
     "execution_count": 417,
     "metadata": {},
     "output_type": "execute_result"
    }
   ],
   "source": [
    "df_19 = yearly_country_df[yearly_country_df.Date.dt.year == 2019]\n",
    "df_20 = yearly_country_df[yearly_country_df.Date.dt.year == 2020]\n",
    "\n",
    "comp_year_cou_df = year_t_conf_interval_country(df_20, df_19)\n",
    "comp_year_cou_df"
   ]
  },
  {
   "cell_type": "markdown",
   "metadata": {},
   "source": [
    "There is a drop between 2019-2020 of the overall AQI in Spain of -11.45 $\\pm$ 3.16, within a 95% confidence interval. "
   ]
  },
  {
   "cell_type": "markdown",
   "metadata": {},
   "source": [
    "### Monthly AQI change in Spain in 2019-2020"
   ]
  },
  {
   "cell_type": "code",
   "execution_count": 231,
   "metadata": {},
   "outputs": [
    {
     "name": "stdout",
     "output_type": "stream",
     "text": [
      "Implementing function: monthly_country_pollutant\n",
      "Implementing function: monthly_country_AQI\n",
      "Wall time: 780 ms\n"
     ]
    }
   ],
   "source": [
    "%%time\n",
    "month_country_AQI_df = monthly_country_AQI(month_city_pollut_df)"
   ]
  },
  {
   "cell_type": "code",
   "execution_count": 235,
   "metadata": {},
   "outputs": [
    {
     "data": {
      "text/html": [
       "<div>\n",
       "<style scoped>\n",
       "    .dataframe tbody tr th:only-of-type {\n",
       "        vertical-align: middle;\n",
       "    }\n",
       "\n",
       "    .dataframe tbody tr th {\n",
       "        vertical-align: top;\n",
       "    }\n",
       "\n",
       "    .dataframe thead th {\n",
       "        text-align: right;\n",
       "    }\n",
       "</style>\n",
       "<table border=\"1\" class=\"dataframe\">\n",
       "  <thead>\n",
       "    <tr style=\"text-align: right;\">\n",
       "      <th></th>\n",
       "      <th>Date</th>\n",
       "      <th>Country</th>\n",
       "      <th>Country_name</th>\n",
       "      <th>cou_pop_density</th>\n",
       "      <th>Total_no_points</th>\n",
       "      <th>Most_present_pollutant</th>\n",
       "      <th>No_points</th>\n",
       "      <th>AQI</th>\n",
       "      <th>std_dev</th>\n",
       "      <th>conf_interval_95%</th>\n",
       "    </tr>\n",
       "  </thead>\n",
       "  <tbody>\n",
       "    <tr>\n",
       "      <th>0</th>\n",
       "      <td>2019-01-01</td>\n",
       "      <td>ES</td>\n",
       "      <td>Spain</td>\n",
       "      <td>93.669792</td>\n",
       "      <td>108</td>\n",
       "      <td>pm25</td>\n",
       "      <td>10</td>\n",
       "      <td>36.137820</td>\n",
       "      <td>0.949186</td>\n",
       "      <td>2.147207</td>\n",
       "    </tr>\n",
       "    <tr>\n",
       "      <th>1</th>\n",
       "      <td>2019-02-01</td>\n",
       "      <td>ES</td>\n",
       "      <td>Spain</td>\n",
       "      <td>93.669792</td>\n",
       "      <td>104</td>\n",
       "      <td>pm25</td>\n",
       "      <td>10</td>\n",
       "      <td>51.928571</td>\n",
       "      <td>1.240456</td>\n",
       "      <td>2.806107</td>\n",
       "    </tr>\n",
       "    <tr>\n",
       "      <th>2</th>\n",
       "      <td>2019-03-01</td>\n",
       "      <td>ES</td>\n",
       "      <td>Spain</td>\n",
       "      <td>93.669792</td>\n",
       "      <td>109</td>\n",
       "      <td>pm25</td>\n",
       "      <td>10</td>\n",
       "      <td>39.580645</td>\n",
       "      <td>0.698525</td>\n",
       "      <td>1.580172</td>\n",
       "    </tr>\n",
       "    <tr>\n",
       "      <th>3</th>\n",
       "      <td>2019-04-01</td>\n",
       "      <td>ES</td>\n",
       "      <td>Spain</td>\n",
       "      <td>93.669792</td>\n",
       "      <td>108</td>\n",
       "      <td>pm25</td>\n",
       "      <td>10</td>\n",
       "      <td>31.782759</td>\n",
       "      <td>0.764503</td>\n",
       "      <td>1.729426</td>\n",
       "    </tr>\n",
       "    <tr>\n",
       "      <th>5</th>\n",
       "      <td>2019-05-01</td>\n",
       "      <td>ES</td>\n",
       "      <td>Spain</td>\n",
       "      <td>93.669792</td>\n",
       "      <td>109</td>\n",
       "      <td>pm25</td>\n",
       "      <td>10</td>\n",
       "      <td>32.125473</td>\n",
       "      <td>0.614186</td>\n",
       "      <td>1.389385</td>\n",
       "    </tr>\n",
       "  </tbody>\n",
       "</table>\n",
       "</div>"
      ],
      "text/plain": [
       "        Date Country Country_name  cou_pop_density  Total_no_points  \\\n",
       "0 2019-01-01      ES        Spain        93.669792              108   \n",
       "1 2019-02-01      ES        Spain        93.669792              104   \n",
       "2 2019-03-01      ES        Spain        93.669792              109   \n",
       "3 2019-04-01      ES        Spain        93.669792              108   \n",
       "5 2019-05-01      ES        Spain        93.669792              109   \n",
       "\n",
       "  Most_present_pollutant  No_points        AQI   std_dev  conf_interval_95%  \n",
       "0                   pm25         10  36.137820  0.949186           2.147207  \n",
       "1                   pm25         10  51.928571  1.240456           2.806107  \n",
       "2                   pm25         10  39.580645  0.698525           1.580172  \n",
       "3                   pm25         10  31.782759  0.764503           1.729426  \n",
       "5                   pm25         10  32.125473  0.614186           1.389385  "
      ]
     },
     "execution_count": 235,
     "metadata": {},
     "output_type": "execute_result"
    }
   ],
   "source": [
    "month_country_AQI_df.sort_values(by='Date', inplace=True)\n",
    "month_country_AQI_df.head()"
   ]
  },
  {
   "cell_type": "code",
   "execution_count": 483,
   "metadata": {},
   "outputs": [
    {
     "data": {
      "image/png": "[encoded data removed]",
      "text/plain": [
       "<Figure size 432x288 with 1 Axes>"
      ]
     },
     "metadata": {
      "needs_background": "light"
     },
     "output_type": "display_data"
    }
   ],
   "source": [
    "year_19 =  month_country_AQI_df[(month_country_AQI_df.Date.dt.year == 2019)].AQI\n",
    "year_20 =  month_country_AQI_df[(month_country_AQI_df.Date.dt.year == 2020)].AQI\n",
    "\n",
    "err_19 = month_country_AQI_df[(month_country_AQI_df.Date.dt.year == 2019)]['conf_interval_95%']\n",
    "err_20 = month_country_AQI_df[(month_country_AQI_df.Date.dt.year == 2020)]['conf_interval_95%']\n",
    "\n",
    "labels = ['Jan', 'Feb', 'Mar', 'Apr', 'May', 'Jun', 'Jul', 'Aug', 'Sep', 'Oct', 'Nov', 'Dec']\n",
    "\n",
    "x = np.arange(len(labels))  \n",
    "width = 0.35  \n",
    "\n",
    "fig, ax = plt.subplots()\n",
    "rects1 = ax.bar(x - width/2, year_19, width, label='2019', yerr= err_19)\n",
    "rects2 = ax.bar(x + width/2, year_20, width, label='2020', yerr= err_20)\n",
    "\n",
    "\n",
    "ax.set_ylabel('Scores')\n",
    "ax.set_xlabel('Months')\n",
    "ax.set_title('Scores by group and gender')\n",
    "ax.set_xticks(x)\n",
    "ax.set_xticklabels(labels)\n",
    "ax.legend()\n",
    "\n",
    "fig.tight_layout()\n",
    "\n",
    "plt.show()"
   ]
  },
  {
   "cell_type": "code",
   "execution_count": 598,
   "metadata": {},
   "outputs": [],
   "source": [
    "def month_t_conf_interval_country(df_a, df_b, percent=True, unequal_var=True, alpha=0.95):\n",
    "    '''This function calculates a confidence interval of the AQI via a t-statistic between the same months of 2 different years for each country present in the dataset. \n",
    "    The statistic is taken as AQI(df_a) - AQI(df_b)\n",
    "    \n",
    "    INPUT: df_a, df_b: pd.Dataframe with the mean AQI values of the distributions we want to compare and the std_dev of those means\n",
    "            percent: if True a percent with its corresponding error is returned. If False, only the returned value is the difference of the mean of both df_a and df_b\n",
    "            unequal_var: if True a Welch's t-test is performed. If False population variances are assumed to be equal and thus a standard t-test is performed where the sample\n",
    "            variance is the pooled variance\n",
    "            alpha: represents the quantile to return in the confidence interval\n",
    "    OUTPUT: pd.DataFrame with the confidence interval of the AQI difference for every month'''\n",
    "    final_df = pd.DataFrame()\n",
    "    \n",
    "    countries = list(set(df_a.Country.unique()).intersection(set(df_b.Country.unique())))\n",
    "    for country in countries:\n",
    "        country_filter_a = df_a.Country == country\n",
    "        country_filter_b = df_b.Country == country\n",
    "    \n",
    "        years = df_a.Date.dt.year.unique()\n",
    "        for year in years:\n",
    "            months = list(set(df_a.Date.dt.month.unique()).intersection(set(df_b.Date.dt.month.unique())))\n",
    "            for month in months:\n",
    "                mean_a = df_a[(country_filter_a) & (df_a.Date.dt.month == month)].AQI.values[0]\n",
    "\n",
    "                mean_b = df_b[(country_filter_b) & (df_b.Date.dt.month == month)].AQI.values[0]\n",
    "\n",
    "\n",
    "                std_a = df_a[(country_filter_a) & (df_a.Date.dt.month == month)].std_dev.values[0]\n",
    "                std_b = df_b[(country_filter_b) & (df_b.Date.dt.month == month)].std_dev.values[0]\n",
    "\n",
    "                statistic = mean_a-mean_b\n",
    "\n",
    "                n_a = df_a[(country_filter_a) & (df_a.Date.dt.month == month)]['No_points'].values[0]\n",
    "                n_b = df_b[(country_filter_b) & (df_b.Date.dt.month == month)]['No_points'].values[0]\n",
    "\n",
    "                if unequal_var:\n",
    "                    #Apply Welch t-test method\n",
    "                    std_statistic = np.sqrt(std_a**2 + std_b**2)\n",
    "                    # Welch's degrees of freedom\n",
    "                    degrees_freedom = (std_a**2+std_b**2)**2/(std_a**2/(n_a-1) + std_b**2/(n_b-1))\n",
    "                else:\n",
    "                    # Apply standard method with pooled variance\n",
    "                    std_statistic = np.sqrt(((n_a - 1)*std_a**2 + (n_b - 1)*std_b**2)/(n_a + n_b - 2))\n",
    "                    degrees_freedom = n_a + n_b - 2         \n",
    "\n",
    "\n",
    "\n",
    "                #Calculate percentage with respect to the previous year\n",
    "                if percent:\n",
    "                    ratio = statistic/mean_b\n",
    "                    std_dev_mean_b = std_b\n",
    "                    std_dev_ratio = ratio * np.sqrt((std_statistic / statistic)**2 + (std_dev_mean_b  / mean_b)**2) # Propagation by Taylor approximation to first degree\n",
    "\n",
    "                    error_95th = stats.t.interval(df=degrees_freedom, alpha=alpha)[1] * std_dev_ratio\n",
    "\n",
    "                    percent = ratio *100\n",
    "                    std_95th_percent = error_95th*100\n",
    "\n",
    "                    CI = [percent, std_95th_percent]\n",
    "                if not percent:\n",
    "                    error = stats.t.interval(df=degrees_freedom, alpha=alpha)[1] * std_statistic\n",
    "                    CI = np.array([statistic, error])\n",
    "                temp_df = pd.DataFrame({'Years_compared':str(df_a.Date.dt.year.unique()[0])+'-'+str(df_b.Date.dt.year.unique()[0]) , 'Month': month, 'Country': country, \\\n",
    "                                        'middle': CI[0], 'std_95th': [CI[1]]})\n",
    "                final_df = pd.concat([final_df, temp_df])\n",
    "            \n",
    "    return final_df.reset_index().drop('index', axis=1).sort_values(by='Month')"
   ]
  },
  {
   "cell_type": "code",
   "execution_count": 408,
   "metadata": {},
   "outputs": [],
   "source": [
    "df_month_2019 = month_country_AQI_df[(month_country_AQI_df.Date.dt.year == 2019)]\n",
    "df_month_2020 = month_country_AQI_df[(month_country_AQI_df.Date.dt.year == 2020)]\n",
    "\n",
    "# Confidence intervals for all months of 2019-2020 years:\n",
    "\n",
    "df_conf = month_t_conf_interval_country(df_month_2020, df_month_2019, percent=True)"
   ]
  },
  {
   "cell_type": "code",
   "execution_count": 409,
   "metadata": {},
   "outputs": [
    {
     "data": {
      "text/html": [
       "<div>\n",
       "<style scoped>\n",
       "    .dataframe tbody tr th:only-of-type {\n",
       "        vertical-align: middle;\n",
       "    }\n",
       "\n",
       "    .dataframe tbody tr th {\n",
       "        vertical-align: top;\n",
       "    }\n",
       "\n",
       "    .dataframe thead th {\n",
       "        text-align: right;\n",
       "    }\n",
       "</style>\n",
       "<table border=\"1\" class=\"dataframe\">\n",
       "  <thead>\n",
       "    <tr style=\"text-align: right;\">\n",
       "      <th></th>\n",
       "      <th>Years_compared</th>\n",
       "      <th>Month</th>\n",
       "      <th>Country</th>\n",
       "      <th>middle</th>\n",
       "      <th>std_95th</th>\n",
       "    </tr>\n",
       "  </thead>\n",
       "  <tbody>\n",
       "    <tr>\n",
       "      <th>0</th>\n",
       "      <td>2020-2019</td>\n",
       "      <td>1</td>\n",
       "      <td>ES</td>\n",
       "      <td>10.398382</td>\n",
       "      <td>7.394557</td>\n",
       "    </tr>\n",
       "    <tr>\n",
       "      <th>1</th>\n",
       "      <td>2020-2019</td>\n",
       "      <td>2</td>\n",
       "      <td>ES</td>\n",
       "      <td>-16.335024</td>\n",
       "      <td>-6.665861</td>\n",
       "    </tr>\n",
       "    <tr>\n",
       "      <th>2</th>\n",
       "      <td>2020-2019</td>\n",
       "      <td>3</td>\n",
       "      <td>ES</td>\n",
       "      <td>-19.869316</td>\n",
       "      <td>-6.698698</td>\n",
       "    </tr>\n",
       "    <tr>\n",
       "      <th>3</th>\n",
       "      <td>2020-2019</td>\n",
       "      <td>4</td>\n",
       "      <td>ES</td>\n",
       "      <td>-12.814750</td>\n",
       "      <td>-4.957923</td>\n",
       "    </tr>\n",
       "    <tr>\n",
       "      <th>4</th>\n",
       "      <td>2020-2019</td>\n",
       "      <td>5</td>\n",
       "      <td>ES</td>\n",
       "      <td>-5.678895</td>\n",
       "      <td>-5.854438</td>\n",
       "    </tr>\n",
       "    <tr>\n",
       "      <th>5</th>\n",
       "      <td>2020-2019</td>\n",
       "      <td>6</td>\n",
       "      <td>ES</td>\n",
       "      <td>-24.924985</td>\n",
       "      <td>-5.439765</td>\n",
       "    </tr>\n",
       "    <tr>\n",
       "      <th>6</th>\n",
       "      <td>2020-2019</td>\n",
       "      <td>7</td>\n",
       "      <td>ES</td>\n",
       "      <td>-21.835635</td>\n",
       "      <td>-4.242695</td>\n",
       "    </tr>\n",
       "    <tr>\n",
       "      <th>7</th>\n",
       "      <td>2020-2019</td>\n",
       "      <td>8</td>\n",
       "      <td>ES</td>\n",
       "      <td>-28.369846</td>\n",
       "      <td>-4.860098</td>\n",
       "    </tr>\n",
       "    <tr>\n",
       "      <th>8</th>\n",
       "      <td>2020-2019</td>\n",
       "      <td>9</td>\n",
       "      <td>ES</td>\n",
       "      <td>-14.710982</td>\n",
       "      <td>-5.345640</td>\n",
       "    </tr>\n",
       "    <tr>\n",
       "      <th>9</th>\n",
       "      <td>2020-2019</td>\n",
       "      <td>10</td>\n",
       "      <td>ES</td>\n",
       "      <td>-27.005555</td>\n",
       "      <td>-5.736891</td>\n",
       "    </tr>\n",
       "    <tr>\n",
       "      <th>10</th>\n",
       "      <td>2020-2019</td>\n",
       "      <td>11</td>\n",
       "      <td>ES</td>\n",
       "      <td>45.107413</td>\n",
       "      <td>10.402486</td>\n",
       "    </tr>\n",
       "    <tr>\n",
       "      <th>11</th>\n",
       "      <td>2020-2019</td>\n",
       "      <td>12</td>\n",
       "      <td>ES</td>\n",
       "      <td>-31.569059</td>\n",
       "      <td>-7.838921</td>\n",
       "    </tr>\n",
       "  </tbody>\n",
       "</table>\n",
       "</div>"
      ],
      "text/plain": [
       "   Years_compared  Month Country     middle   std_95th\n",
       "0       2020-2019      1      ES  10.398382   7.394557\n",
       "1       2020-2019      2      ES -16.335024  -6.665861\n",
       "2       2020-2019      3      ES -19.869316  -6.698698\n",
       "3       2020-2019      4      ES -12.814750  -4.957923\n",
       "4       2020-2019      5      ES  -5.678895  -5.854438\n",
       "5       2020-2019      6      ES -24.924985  -5.439765\n",
       "6       2020-2019      7      ES -21.835635  -4.242695\n",
       "7       2020-2019      8      ES -28.369846  -4.860098\n",
       "8       2020-2019      9      ES -14.710982  -5.345640\n",
       "9       2020-2019     10      ES -27.005555  -5.736891\n",
       "10      2020-2019     11      ES  45.107413  10.402486\n",
       "11      2020-2019     12      ES -31.569059  -7.838921"
      ]
     },
     "execution_count": 409,
     "metadata": {},
     "output_type": "execute_result"
    }
   ],
   "source": [
    "df_conf"
   ]
  },
  {
   "cell_type": "code",
   "execution_count": 410,
   "metadata": {},
   "outputs": [],
   "source": [
    "def plot_with_err(x, data, **kwargs):\n",
    "    y = data.middle\n",
    "    lines = plt.plot(x, y, '-', marker='o', **kwargs)\n",
    "    middle = data.middle\n",
    "    std = data.std_95th\n",
    "    plt.fill_between(x, middle - std, middle + std, edgecolor='none',\n",
    "                     facecolor=lines[0].get_color(), alpha=0.2)\n"
   ]
  },
  {
   "cell_type": "code",
   "execution_count": 411,
   "metadata": {},
   "outputs": [
    {
     "data": {
      "text/plain": [
       "[Text(1, 0, 'Jan'),\n",
       " Text(2, 0, 'Feb'),\n",
       " Text(3, 0, 'Mar'),\n",
       " Text(4, 0, 'Apr'),\n",
       " Text(5, 0, 'May'),\n",
       " Text(6, 0, 'Jun'),\n",
       " Text(7, 0, 'Jul'),\n",
       " Text(8, 0, 'Aug'),\n",
       " Text(9, 0, 'Sep'),\n",
       " Text(10, 0, 'Oct'),\n",
       " Text(11, 0, 'Nov'),\n",
       " Text(12, 0, 'Dec')]"
      ]
     },
     "execution_count": 411,
     "metadata": {},
     "output_type": "execute_result"
    },
    {
     "data": {
      "image/png": "[encoded data removed]",
      "text/plain": [
       "<Figure size 432x288 with 1 Axes>"
      ]
     },
     "metadata": {
      "needs_background": "light"
     },
     "output_type": "display_data"
    }
   ],
   "source": [
    "fig, ax = plt.subplots()\n",
    "plot_with_err(df_conf.Month, df_conf, color='r')\n",
    "plt.title('2019-2020 air pollution change', fontsize=16)\n",
    "plt.xticks(fontsize=12)\n",
    "plt.yticks(fontsize=12)\n",
    "\n",
    "plt.hlines(0, xmin=0, xmax=13, linestyles='--', color='black')\n",
    "plt.xlim(1,12)\n",
    "plt.ylabel('AQI relative change (%)', fontsize=15)\n",
    "plt.xlabel('Months', fontsize=15)\n",
    "plt.xticks([1,2,3,4,5,6,7,8,9,10,11,12], fontsize=12)\n",
    "ax.set_xticklabels(['Jan', 'Feb', 'Mar', 'Apr', 'May', 'Jun', 'Jul', 'Aug', 'Sep', 'Oct', 'Nov', 'Dec'])"
   ]
  },
  {
   "cell_type": "markdown",
   "metadata": {},
   "source": [
    "# HERE MONTHLY BOXPLOT TO SHOW COUNTRY DISTRIBUTION (I.E CITIES)\n",
    "\n",
    "\n",
    "From January the air pollution decreased in 2020 relative to 2019. However, there is an anomaly in November that points to a ~40% increase in the AQI. There are 3 different reasons for this sudden increase: (i) It could come from a much lower amount of acquired data (in that particular month) in one year with respect to the other, (ii) the most present pollutant is different in both years and thus the percentage difference might shoot up and (iii) there was a climate/surroundings-related event that increased the values temporarily, for example a volcanic eruption. However, if we inspect df_spain we see that these options are not the case. The number of data points in November are 379 vs 382 for 2019 and 2020, respectively, the most present pollutant for both years is pm25 and the air pollution distribution in that month do not show any anomaly **in 2020** that could have virtually increased the monthly average (see below). Thus the reason for this increase remains unknown."
   ]
  },
  {
   "cell_type": "code",
   "execution_count": 243,
   "metadata": {},
   "outputs": [
    {
     "name": "stdout",
     "output_type": "stream",
     "text": [
      "In November, 2019 there are 379 acquired data points and in November, 2020 there are 382.\n"
     ]
    }
   ],
   "source": [
    "data_points_19 = df_spain[(df_spain.Date.dt.year == 2019) & (df_spain.Date.dt.month == 11) & (df_spain.Pollutant == 'pm25')].count()[0]\n",
    "data_points_20 = df_spain[(df_spain.Date.dt.year == 2020) & (df_spain.Date.dt.month == 11) & (df_spain.Pollutant == 'pm25')].count()[0]\n",
    "\n",
    "print('In November, 2019 there are {} acquired data points and in November, 2020 there are {}.'.format(data_points_19, data_points_20))"
   ]
  },
  {
   "cell_type": "code",
   "execution_count": 173,
   "metadata": {},
   "outputs": [
    {
     "data": {
      "text/plain": [
       "<AxesSubplot:>"
      ]
     },
     "execution_count": 173,
     "metadata": {},
     "output_type": "execute_result"
    },
    {
     "data": {
      "image/png": "[encoded data removed]",
      "text/plain": [
       "<Figure size 432x288 with 1 Axes>"
      ]
     },
     "metadata": {
      "needs_background": "light"
     },
     "output_type": "display_data"
    }
   ],
   "source": [
    "# AQI value distribution for pm25 in November, 2020 \n",
    "df_spain[(df_spain.Date.dt.year == 2020) & (df_spain.Date.dt.month == 11) & (df_spain.Pollutant == 'pm25')]['median'].hist()"
   ]
  },
  {
   "cell_type": "code",
   "execution_count": 174,
   "metadata": {},
   "outputs": [
    {
     "data": {
      "text/plain": [
       "<AxesSubplot:>"
      ]
     },
     "execution_count": 174,
     "metadata": {},
     "output_type": "execute_result"
    },
    {
     "data": {
      "image/png": "[encoded data removed]",
      "text/plain": [
       "<Figure size 432x288 with 1 Axes>"
      ]
     },
     "metadata": {
      "needs_background": "light"
     },
     "output_type": "display_data"
    }
   ],
   "source": [
    "# AQI value distribution for pm25 in November, 2020\n",
    "df_spain[(df_spain.Date.dt.year == 2019) & (df_spain.Date.dt.month == 11) & (df_spain.Pollutant == 'pm25')]['median'].hist()"
   ]
  },
  {
   "cell_type": "markdown",
   "metadata": {},
   "source": [
    "# CITIES\n"
   ]
  },
  {
   "cell_type": "markdown",
   "metadata": {},
   "source": [
    "## Yearly change in cities"
   ]
  },
  {
   "cell_type": "code",
   "execution_count": 325,
   "metadata": {},
   "outputs": [],
   "source": [
    "def yearly_city_AQI(df):\n",
    "    '''This function calculates the yearly overall AQI average for each city.\n",
    "    \n",
    "    INPUT: pd.DataFrame. Either the original dataset or the output from monthly_city_pollutant()\n",
    "    OUTPUT: pd.DataFrame with the  yearly overall AQI average for each city'''\n",
    "    \n",
    "    cou_df = yearly_city_pollutant(df)\n",
    "    if cou_df is not None:\n",
    "        print('Implementing function: yearly_city_AQI')\n",
    "        \n",
    "        final_df = pd.DataFrame()\n",
    "        years = np.sort(cou_df.Date.dt.year.unique())\n",
    "        for year in years:\n",
    "            year_df = cou_df[cou_df.Date.dt.year == year]\n",
    "            countries = year_df.Country.unique()\n",
    "            for country in countries:\n",
    "                country_df = year_df[year_df.Country == country]\n",
    "                cities = country_df.City.unique()\n",
    "            for city in cities:\n",
    "                city_df = country_df[country_df.City == city]\n",
    "\n",
    "                max_idx = city_df['AQI'].idxmax()\n",
    "                overall_yearly_AQI = city_df.loc[max_idx, 'AQI']\n",
    "                most_present_pollutant = city_df.loc[max_idx, 'Pollutant']\n",
    "                std_dev_yearly_AQI = city_df.loc[max_idx, 'std_dev']\n",
    "                conf_interval_yearly_AQI = city_df.loc[max_idx, 'conf_interval_95%']\n",
    "                total_no_points = city_df.No_points.sum()\n",
    "                no_points = city_df.loc[max_idx, 'No_points']\n",
    "\n",
    "\n",
    "\n",
    "                date_string = '{}'.format(year)\n",
    "                temp_df = pd.DataFrame({'Date': datetime.strptime(date_string, '%Y'), 'Country': country, 'Country_name': city_df.Country_name.unique()[0], 'City': city, \\\n",
    "                                        'Most_present_pollutant': most_present_pollutant, 'No_points': no_points, 'AQI': [overall_yearly_AQI], 'std_dev': std_dev_yearly_AQI, \\\n",
    "                                        'conf_interval_95%': conf_interval_yearly_AQI})\n",
    "                final_df = pd.concat([final_df, temp_df])    \n",
    "\n",
    "        return final_df.reset_index().drop('index', axis=1)\n",
    "    "
   ]
  },
  {
   "cell_type": "code",
   "execution_count": 333,
   "metadata": {},
   "outputs": [
    {
     "name": "stdin",
     "output_type": "stream",
     "text": [
      "Beware: inserting the original DataFrame will imply a long runtime process (> 10 min). It is advised\n",
      "                    to use the returned DataFrame after applying the monthly_city_pollutant() function. Do you want to continue anyway?\n",
      "\n",
      "                    Type \"y\" for Yes\n",
      "\n",
      "                    Type \"n\" for No\n",
      " y\n"
     ]
    },
    {
     "name": "stdout",
     "output_type": "stream",
     "text": [
      "Implementing function: monthly_city_pollutant. This may take a while.\n",
      "Implementing function: yearly_city_pollutant\n",
      "Implementing function: yearly_city_AQI\n",
      "Wall time: 11.6 s\n"
     ]
    },
    {
     "data": {
      "text/html": [
       "<div>\n",
       "<style scoped>\n",
       "    .dataframe tbody tr th:only-of-type {\n",
       "        vertical-align: middle;\n",
       "    }\n",
       "\n",
       "    .dataframe tbody tr th {\n",
       "        vertical-align: top;\n",
       "    }\n",
       "\n",
       "    .dataframe thead th {\n",
       "        text-align: right;\n",
       "    }\n",
       "</style>\n",
       "<table border=\"1\" class=\"dataframe\">\n",
       "  <thead>\n",
       "    <tr style=\"text-align: right;\">\n",
       "      <th></th>\n",
       "      <th>Date</th>\n",
       "      <th>Country</th>\n",
       "      <th>Country_name</th>\n",
       "      <th>City</th>\n",
       "      <th>Most_present_pollutant</th>\n",
       "      <th>No_points</th>\n",
       "      <th>AQI</th>\n",
       "      <th>std_dev</th>\n",
       "      <th>conf_interval_95%</th>\n",
       "    </tr>\n",
       "  </thead>\n",
       "  <tbody>\n",
       "    <tr>\n",
       "      <th>0</th>\n",
       "      <td>2019-01-01</td>\n",
       "      <td>ES</td>\n",
       "      <td>Spain</td>\n",
       "      <td>Las Palmas de Gran Canaria</td>\n",
       "      <td>pm25</td>\n",
       "      <td>12</td>\n",
       "      <td>33.310123</td>\n",
       "      <td>0.627293</td>\n",
       "      <td>1.380662</td>\n",
       "    </tr>\n",
       "    <tr>\n",
       "      <th>1</th>\n",
       "      <td>2019-01-01</td>\n",
       "      <td>ES</td>\n",
       "      <td>Spain</td>\n",
       "      <td>Donostia / San Sebastián</td>\n",
       "      <td>pm25</td>\n",
       "      <td>12</td>\n",
       "      <td>36.154549</td>\n",
       "      <td>0.716417</td>\n",
       "      <td>1.576822</td>\n",
       "    </tr>\n",
       "    <tr>\n",
       "      <th>2</th>\n",
       "      <td>2019-01-01</td>\n",
       "      <td>ES</td>\n",
       "      <td>Spain</td>\n",
       "      <td>Gasteiz / Vitoria</td>\n",
       "      <td>pm25</td>\n",
       "      <td>12</td>\n",
       "      <td>35.943331</td>\n",
       "      <td>0.656122</td>\n",
       "      <td>1.444114</td>\n",
       "    </tr>\n",
       "    <tr>\n",
       "      <th>3</th>\n",
       "      <td>2019-01-01</td>\n",
       "      <td>ES</td>\n",
       "      <td>Spain</td>\n",
       "      <td>Bilbao</td>\n",
       "      <td>pm25</td>\n",
       "      <td>12</td>\n",
       "      <td>38.014990</td>\n",
       "      <td>0.732941</td>\n",
       "      <td>1.613192</td>\n",
       "    </tr>\n",
       "    <tr>\n",
       "      <th>4</th>\n",
       "      <td>2019-01-01</td>\n",
       "      <td>ES</td>\n",
       "      <td>Spain</td>\n",
       "      <td>Castelló de la Plana</td>\n",
       "      <td>pm25</td>\n",
       "      <td>12</td>\n",
       "      <td>28.364230</td>\n",
       "      <td>0.626657</td>\n",
       "      <td>1.379263</td>\n",
       "    </tr>\n",
       "  </tbody>\n",
       "</table>\n",
       "</div>"
      ],
      "text/plain": [
       "        Date Country Country_name                        City  \\\n",
       "0 2019-01-01      ES        Spain  Las Palmas de Gran Canaria   \n",
       "1 2019-01-01      ES        Spain    Donostia / San Sebastián   \n",
       "2 2019-01-01      ES        Spain           Gasteiz / Vitoria   \n",
       "3 2019-01-01      ES        Spain                      Bilbao   \n",
       "4 2019-01-01      ES        Spain        Castelló de la Plana   \n",
       "\n",
       "  Most_present_pollutant  No_points        AQI   std_dev  conf_interval_95%  \n",
       "0                   pm25         12  33.310123  0.627293           1.380662  \n",
       "1                   pm25         12  36.154549  0.716417           1.576822  \n",
       "2                   pm25         12  35.943331  0.656122           1.444114  \n",
       "3                   pm25         12  38.014990  0.732941           1.613192  \n",
       "4                   pm25         12  28.364230  0.626657           1.379263  "
      ]
     },
     "execution_count": 333,
     "metadata": {},
     "output_type": "execute_result"
    }
   ],
   "source": [
    "%%time\n",
    "year_city_AQI_df = yearly_city_AQI(df_spain)\n",
    "year_city_AQI_df.head()"
   ]
  },
  {
   "cell_type": "markdown",
   "metadata": {},
   "source": [
    "Let's modifiy the previous t_conf_interval() function to take Dataframes with the \"City\" column:"
   ]
  },
  {
   "cell_type": "code",
   "execution_count": 599,
   "metadata": {},
   "outputs": [],
   "source": [
    "def year_t_conf_interval_city(df_a, df_b, percent=True, unequal_var=True, alpha=0.95):\n",
    "    '''Calculates the yearly relative change of the overall AQI for each city in every country present in both input dataframes. The statistic is taken as AQI(df_a) - AQI(df_b).\n",
    "    INPUT: df_a, df_b: pd.Dataframe with the yearly mean AQI values of the cities we want to compare and the std_dev of those means\n",
    "            percent: if True a percent with its corresponding error is returned. If False, only the returned value is the difference of the mean of both df_a and df_b\n",
    "            unequal_var: if True a Welch's t-test is performed. If False population variances are assumed to be equal and thus a standard t-test is performed where the sample\n",
    "            variance is the pooled variance\n",
    "            alpha: represents the quantile to return in the confidence interval\n",
    "    OUTPUT: pd.DataFrame with the confidence interval of the yearly AQI difference'''\n",
    "    final_df = pd.DataFrame()\n",
    "    \n",
    "    #Find the common countries for both dataframes \n",
    "    countries = list(set(df_a.Country.unique()).intersection(set(df_b.Country.unique())))\n",
    "    for country in countries:\n",
    "        country_filter_a = df_a.Country == country\n",
    "        country_filter_b = df_b.Country == country\n",
    "        \n",
    "        \n",
    "        #Find the common cities for both input dataframes\n",
    "        cities = list(set(df_a.City.unique()).intersection(set(df_b.City.unique())))\n",
    "        for city in cities:\n",
    "            city_filter_a = df_a.City == city\n",
    "            city_filter_b = df_b.City == city\n",
    "                \n",
    "            mean_a = df_a[city_filter_a & country_filter_a].AQI.values[0]\n",
    "            mean_b = df_b[city_filter_b & country_filter_b].AQI.values[0]\n",
    "\n",
    "            std_a = df_a[city_filter_a & country_filter_a].std_dev.values[0]\n",
    "            std_b = df_b[city_filter_b & country_filter_b].std_dev.values[0]\n",
    "\n",
    "            statistic = mean_a-mean_b\n",
    "\n",
    "            n_a = df_a[city_filter_a & country_filter_a]['No_points'].values[0]\n",
    "            n_b = df_b[city_filter_b & country_filter_b]['No_points'].values[0]\n",
    "\n",
    "            if unequal_var:\n",
    "                #Apply Welch t-test method\n",
    "                std_statistic = np.sqrt(std_a**2 + std_b**2)\n",
    "                # Welch's degrees of freedom\n",
    "                degrees_freedom = (std_a**2+std_b**2)**2/(std_a**2/(n_a-1) + std_b**2/(n_b-1))\n",
    "               \n",
    "            else:\n",
    "                # Apply standard method with pooled variance\n",
    "                std_statistic = np.sqrt(((n_a - 1)*std_a**2 + (n_b - 1)*std_b**2)/(n_a + n_b - 2))\n",
    "                degrees_freedom = n_a + n_b - 2\n",
    "\n",
    "            #Calculate percentage with respect to the previous year\n",
    "            if percent:\n",
    "                ratio = statistic/mean_b\n",
    "               \n",
    "                std_dev_mean_b = std_b\n",
    "                std_dev_ratio = ratio * np.sqrt((std_statistic / statistic)**2 + (std_dev_mean_b  / mean_b)**2) # Propagation by Taylor approximation to first degree\n",
    "                \n",
    "                \n",
    "                    \n",
    "                error_95th = stats.t.interval(df=degrees_freedom, alpha=alpha)[1] * std_dev_ratio\n",
    "\n",
    "                percent = ratio *100\n",
    "                std_95th_percent = error_95th*100\n",
    "\n",
    "                CI = [percent, std_95th_percent]\n",
    "            if not percent:\n",
    "                error = stats.t.interval(df=degrees_freedom, alpha=alpha)[1] * std_statistic\n",
    "                CI = np.array([statistic, error])\n",
    "            \n",
    "            temp_df = pd.DataFrame({'Year':str(df_a.Date.dt.year.unique()[0])+'-'+str(df_b.Date.dt.year.unique()[0]) , 'Country': country, 'City': city, \\\n",
    "                                            'difference(%)': CI[0], 'std_95th(%)': [CI[1]]})\n",
    "            final_df = pd.concat([final_df, temp_df])\n",
    "            \n",
    "    return final_df.reset_index().drop('index', axis=1)"
   ]
  },
  {
   "cell_type": "code",
   "execution_count": 460,
   "metadata": {},
   "outputs": [],
   "source": [
    "df_19 = year_city_AQI_df[(year_city_AQI_df.Date.dt.year == 2019)]\n",
    "df_20 = year_city_AQI_df[(year_city_AQI_df.Date.dt.year == 2020)]\n",
    "\n",
    "comp_year_city_df = year_t_conf_interval_city(df_20, df_19, percent=True)"
   ]
  },
  {
   "cell_type": "code",
   "execution_count": 462,
   "metadata": {},
   "outputs": [
    {
     "data": {
      "text/html": [
       "<div>\n",
       "<style scoped>\n",
       "    .dataframe tbody tr th:only-of-type {\n",
       "        vertical-align: middle;\n",
       "    }\n",
       "\n",
       "    .dataframe tbody tr th {\n",
       "        vertical-align: top;\n",
       "    }\n",
       "\n",
       "    .dataframe thead th {\n",
       "        text-align: right;\n",
       "    }\n",
       "</style>\n",
       "<table border=\"1\" class=\"dataframe\">\n",
       "  <thead>\n",
       "    <tr style=\"text-align: right;\">\n",
       "      <th></th>\n",
       "      <th>Year</th>\n",
       "      <th>Country</th>\n",
       "      <th>City</th>\n",
       "      <th>difference(%)</th>\n",
       "      <th>std_95th(%)</th>\n",
       "    </tr>\n",
       "  </thead>\n",
       "  <tbody>\n",
       "    <tr>\n",
       "      <th>0</th>\n",
       "      <td>2020-2019</td>\n",
       "      <td>ES</td>\n",
       "      <td>Barcelona</td>\n",
       "      <td>-5.418313</td>\n",
       "      <td>-5.915011</td>\n",
       "    </tr>\n",
       "    <tr>\n",
       "      <th>1</th>\n",
       "      <td>2020-2019</td>\n",
       "      <td>ES</td>\n",
       "      <td>Zaragoza</td>\n",
       "      <td>-0.258656</td>\n",
       "      <td>-8.515482</td>\n",
       "    </tr>\n",
       "    <tr>\n",
       "      <th>2</th>\n",
       "      <td>2020-2019</td>\n",
       "      <td>ES</td>\n",
       "      <td>Castelló de la Plana</td>\n",
       "      <td>-10.540954</td>\n",
       "      <td>-5.065031</td>\n",
       "    </tr>\n",
       "    <tr>\n",
       "      <th>3</th>\n",
       "      <td>2020-2019</td>\n",
       "      <td>ES</td>\n",
       "      <td>Valladolid</td>\n",
       "      <td>-6.622000</td>\n",
       "      <td>-5.651915</td>\n",
       "    </tr>\n",
       "    <tr>\n",
       "      <th>4</th>\n",
       "      <td>2020-2019</td>\n",
       "      <td>ES</td>\n",
       "      <td>Huelva</td>\n",
       "      <td>-5.503212</td>\n",
       "      <td>-8.023399</td>\n",
       "    </tr>\n",
       "    <tr>\n",
       "      <th>5</th>\n",
       "      <td>2020-2019</td>\n",
       "      <td>ES</td>\n",
       "      <td>Pamplona</td>\n",
       "      <td>-2.137297</td>\n",
       "      <td>-9.969014</td>\n",
       "    </tr>\n",
       "    <tr>\n",
       "      <th>6</th>\n",
       "      <td>2020-2019</td>\n",
       "      <td>ES</td>\n",
       "      <td>Bilbao</td>\n",
       "      <td>-8.277788</td>\n",
       "      <td>-5.974528</td>\n",
       "    </tr>\n",
       "    <tr>\n",
       "      <th>7</th>\n",
       "      <td>2020-2019</td>\n",
       "      <td>ES</td>\n",
       "      <td>Murcia</td>\n",
       "      <td>-2.862320</td>\n",
       "      <td>-7.770701</td>\n",
       "    </tr>\n",
       "    <tr>\n",
       "      <th>8</th>\n",
       "      <td>2020-2019</td>\n",
       "      <td>ES</td>\n",
       "      <td>Sevilla</td>\n",
       "      <td>-2.666527</td>\n",
       "      <td>-8.060357</td>\n",
       "    </tr>\n",
       "    <tr>\n",
       "      <th>9</th>\n",
       "      <td>2020-2019</td>\n",
       "      <td>ES</td>\n",
       "      <td>Madrid</td>\n",
       "      <td>1.574347</td>\n",
       "      <td>5.793844</td>\n",
       "    </tr>\n",
       "    <tr>\n",
       "      <th>10</th>\n",
       "      <td>2020-2019</td>\n",
       "      <td>ES</td>\n",
       "      <td>Santander</td>\n",
       "      <td>-8.152684</td>\n",
       "      <td>-7.714824</td>\n",
       "    </tr>\n",
       "    <tr>\n",
       "      <th>11</th>\n",
       "      <td>2020-2019</td>\n",
       "      <td>ES</td>\n",
       "      <td>Granada</td>\n",
       "      <td>-14.707166</td>\n",
       "      <td>-6.248882</td>\n",
       "    </tr>\n",
       "    <tr>\n",
       "      <th>12</th>\n",
       "      <td>2020-2019</td>\n",
       "      <td>ES</td>\n",
       "      <td>Salamanca</td>\n",
       "      <td>-4.291761</td>\n",
       "      <td>-6.145509</td>\n",
       "    </tr>\n",
       "    <tr>\n",
       "      <th>13</th>\n",
       "      <td>2020-2019</td>\n",
       "      <td>ES</td>\n",
       "      <td>Donostia / San Sebastián</td>\n",
       "      <td>-18.072625</td>\n",
       "      <td>-5.814127</td>\n",
       "    </tr>\n",
       "    <tr>\n",
       "      <th>14</th>\n",
       "      <td>2020-2019</td>\n",
       "      <td>ES</td>\n",
       "      <td>Burgos</td>\n",
       "      <td>-3.228899</td>\n",
       "      <td>-8.498755</td>\n",
       "    </tr>\n",
       "    <tr>\n",
       "      <th>15</th>\n",
       "      <td>2020-2019</td>\n",
       "      <td>ES</td>\n",
       "      <td>Oviedo</td>\n",
       "      <td>-26.062334</td>\n",
       "      <td>-4.515802</td>\n",
       "    </tr>\n",
       "    <tr>\n",
       "      <th>16</th>\n",
       "      <td>2020-2019</td>\n",
       "      <td>ES</td>\n",
       "      <td>Las Palmas de Gran Canaria</td>\n",
       "      <td>-4.375103</td>\n",
       "      <td>-7.350379</td>\n",
       "    </tr>\n",
       "    <tr>\n",
       "      <th>17</th>\n",
       "      <td>2020-2019</td>\n",
       "      <td>ES</td>\n",
       "      <td>Gasteiz / Vitoria</td>\n",
       "      <td>-11.720611</td>\n",
       "      <td>-5.795498</td>\n",
       "    </tr>\n",
       "    <tr>\n",
       "      <th>18</th>\n",
       "      <td>2020-2019</td>\n",
       "      <td>ES</td>\n",
       "      <td>Valencia</td>\n",
       "      <td>-24.405664</td>\n",
       "      <td>-5.169292</td>\n",
       "    </tr>\n",
       "    <tr>\n",
       "      <th>19</th>\n",
       "      <td>2020-2019</td>\n",
       "      <td>ES</td>\n",
       "      <td>Palma</td>\n",
       "      <td>-8.867643</td>\n",
       "      <td>-28.188039</td>\n",
       "    </tr>\n",
       "  </tbody>\n",
       "</table>\n",
       "</div>"
      ],
      "text/plain": [
       "         Year Country                        City  difference(%)  std_95th(%)\n",
       "0   2020-2019      ES                   Barcelona      -5.418313    -5.915011\n",
       "1   2020-2019      ES                    Zaragoza      -0.258656    -8.515482\n",
       "2   2020-2019      ES        Castelló de la Plana     -10.540954    -5.065031\n",
       "3   2020-2019      ES                  Valladolid      -6.622000    -5.651915\n",
       "4   2020-2019      ES                      Huelva      -5.503212    -8.023399\n",
       "5   2020-2019      ES                    Pamplona      -2.137297    -9.969014\n",
       "6   2020-2019      ES                      Bilbao      -8.277788    -5.974528\n",
       "7   2020-2019      ES                      Murcia      -2.862320    -7.770701\n",
       "8   2020-2019      ES                     Sevilla      -2.666527    -8.060357\n",
       "9   2020-2019      ES                      Madrid       1.574347     5.793844\n",
       "10  2020-2019      ES                   Santander      -8.152684    -7.714824\n",
       "11  2020-2019      ES                     Granada     -14.707166    -6.248882\n",
       "12  2020-2019      ES                   Salamanca      -4.291761    -6.145509\n",
       "13  2020-2019      ES    Donostia / San Sebastián     -18.072625    -5.814127\n",
       "14  2020-2019      ES                      Burgos      -3.228899    -8.498755\n",
       "15  2020-2019      ES                      Oviedo     -26.062334    -4.515802\n",
       "16  2020-2019      ES  Las Palmas de Gran Canaria      -4.375103    -7.350379\n",
       "17  2020-2019      ES           Gasteiz / Vitoria     -11.720611    -5.795498\n",
       "18  2020-2019      ES                    Valencia     -24.405664    -5.169292\n",
       "19  2020-2019      ES                       Palma      -8.867643   -28.188039"
      ]
     },
     "execution_count": 462,
     "metadata": {},
     "output_type": "execute_result"
    }
   ],
   "source": [
    "comp_year_city_df.head(20)"
   ]
  },
  {
   "cell_type": "code",
   "execution_count": 363,
   "metadata": {},
   "outputs": [],
   "source": [
    "spanish_cities = comp_year_city_df.City.unique()"
   ]
  },
  {
   "cell_type": "code",
   "execution_count": 364,
   "metadata": {},
   "outputs": [
    {
     "data": {
      "text/plain": [
       "<AxesSubplot:ylabel='City'>"
      ]
     },
     "execution_count": 364,
     "metadata": {},
     "output_type": "execute_result"
    },
    {
     "data": {
      "image/png": "[encoded data removed]",
      "text/plain": [
       "<Figure size 432x288 with 1 Axes>"
      ]
     },
     "metadata": {
      "needs_background": "light"
     },
     "output_type": "display_data"
    }
   ],
   "source": [
    "bool_city = comp_year_city_df.City.apply(lambda cell: cell in spanish_cities)\n",
    "comp_year_city_df[bool_city].sort_values(by='difference(%)').plot.barh(x='City', y='difference(%)')"
   ]
  },
  {
   "cell_type": "markdown",
   "metadata": {},
   "source": [
    "Madrid shows an increase in 2020.BLA BLA"
   ]
  },
  {
   "cell_type": "markdown",
   "metadata": {},
   "source": [
    "## Monthly change in cities"
   ]
  },
  {
   "cell_type": "code",
   "execution_count": 466,
   "metadata": {},
   "outputs": [],
   "source": [
    "def monthly_city_AQI(df):\n",
    "    '''This function calculates the monthly overall AQI average for each country.\n",
    "    \n",
    "    INPUT: pd.DataFrame. Either the original dataset or the output from monthly_city_pollutant()\n",
    "    OUTPUT: pd.DataFrame with the monthly overall AQI average for each country'''\n",
    "    \n",
    "    #Initialize the correct Dataframe input\n",
    "    cou_df = monthly_city_pollutant(df)\n",
    "    if cou_df is not None:\n",
    "        print('Implementing function: monthly_country_AQI')\n",
    "\n",
    "        final_df = pd.DataFrame()\n",
    "        years = np.sort(cou_df.Date.dt.year.unique())\n",
    "        for year in years:\n",
    "            year_df = cou_df[cou_df.Date.dt.year == year]\n",
    "            countries = year_df.Country.unique()\n",
    "            for country in countries:\n",
    "                country_df = year_df[year_df.Country == country]\n",
    "                cities = country_df.City.unique()\n",
    "                for city in cities:\n",
    "                    city_df = country_df[country_df.City == city]\n",
    "                    months = city_df.Date.dt.month.unique()\n",
    "                    for month in months:\n",
    "                        month_df = city_df[city_df.Date.dt.month == month]\n",
    "\n",
    "                        max_idx = month_df['AQI'].idxmax()\n",
    "                        overall_monthly_AQI = month_df.loc[max_idx, 'AQI']\n",
    "                        most_present_pollutant = month_df.loc[max_idx, 'Pollutant']\n",
    "                        std_dev_monthly_AQI = month_df.loc[max_idx, 'std_dev']\n",
    "                        conf_interval_monthly_AQI = month_df.loc[max_idx, 'conf_interval_95%']\n",
    "                        total_no_points = month_df.No_points.sum()\n",
    "                        no_points = month_df.loc[max_idx, 'No_points']\n",
    "\n",
    "\n",
    "\n",
    "                        date_string = '{}/{}'.format(year, month)\n",
    "                        temp_df = pd.DataFrame({'Date': datetime.strptime(date_string, '%Y/%m'), 'Month': month, 'Country': country, 'Country_name': month_df.Country_name.unique()[0], 'City': city, \\\n",
    "                                                'Most_present_pollutant': most_present_pollutant, \\\n",
    "                                                    'No_points': no_points, 'AQI': [overall_monthly_AQI], 'std_dev': std_dev_monthly_AQI, 'conf_interval_95%': conf_interval_monthly_AQI})\n",
    "                        final_df = pd.concat([final_df, temp_df])    \n",
    "\n",
    "        return final_df.reset_index().drop('index', axis=1)"
   ]
  },
  {
   "cell_type": "code",
   "execution_count": 467,
   "metadata": {},
   "outputs": [
    {
     "name": "stdout",
     "output_type": "stream",
     "text": [
      "Implementing function: monthly_city_pollutant. This may take a while.\n",
      "Implementing function: monthly_country_AQI\n",
      "Wall time: 12.7 s\n"
     ]
    },
    {
     "data": {
      "text/html": [
       "<div>\n",
       "<style scoped>\n",
       "    .dataframe tbody tr th:only-of-type {\n",
       "        vertical-align: middle;\n",
       "    }\n",
       "\n",
       "    .dataframe tbody tr th {\n",
       "        vertical-align: top;\n",
       "    }\n",
       "\n",
       "    .dataframe thead th {\n",
       "        text-align: right;\n",
       "    }\n",
       "</style>\n",
       "<table border=\"1\" class=\"dataframe\">\n",
       "  <thead>\n",
       "    <tr style=\"text-align: right;\">\n",
       "      <th></th>\n",
       "      <th>Date</th>\n",
       "      <th>Month</th>\n",
       "      <th>Country</th>\n",
       "      <th>Country_name</th>\n",
       "      <th>City</th>\n",
       "      <th>Most_present_pollutant</th>\n",
       "      <th>No_points</th>\n",
       "      <th>AQI</th>\n",
       "      <th>std_dev</th>\n",
       "      <th>conf_interval_95%</th>\n",
       "    </tr>\n",
       "  </thead>\n",
       "  <tbody>\n",
       "    <tr>\n",
       "      <th>0</th>\n",
       "      <td>2019-01-01</td>\n",
       "      <td>1</td>\n",
       "      <td>ES</td>\n",
       "      <td>Spain</td>\n",
       "      <td>Las Palmas de Gran Canaria</td>\n",
       "      <td>o3</td>\n",
       "      <td>31</td>\n",
       "      <td>29.038710</td>\n",
       "      <td>0.570278</td>\n",
       "      <td>1.164663</td>\n",
       "    </tr>\n",
       "    <tr>\n",
       "      <th>1</th>\n",
       "      <td>2019-02-01</td>\n",
       "      <td>2</td>\n",
       "      <td>ES</td>\n",
       "      <td>Spain</td>\n",
       "      <td>Las Palmas de Gran Canaria</td>\n",
       "      <td>pm25</td>\n",
       "      <td>28</td>\n",
       "      <td>54.571429</td>\n",
       "      <td>4.757494</td>\n",
       "      <td>9.761571</td>\n",
       "    </tr>\n",
       "    <tr>\n",
       "      <th>2</th>\n",
       "      <td>2019-03-01</td>\n",
       "      <td>3</td>\n",
       "      <td>ES</td>\n",
       "      <td>Spain</td>\n",
       "      <td>Las Palmas de Gran Canaria</td>\n",
       "      <td>pm25</td>\n",
       "      <td>31</td>\n",
       "      <td>35.645161</td>\n",
       "      <td>2.096302</td>\n",
       "      <td>4.281220</td>\n",
       "    </tr>\n",
       "    <tr>\n",
       "      <th>3</th>\n",
       "      <td>2019-04-01</td>\n",
       "      <td>4</td>\n",
       "      <td>ES</td>\n",
       "      <td>Spain</td>\n",
       "      <td>Las Palmas de Gran Canaria</td>\n",
       "      <td>o3</td>\n",
       "      <td>28</td>\n",
       "      <td>34.775000</td>\n",
       "      <td>0.860420</td>\n",
       "      <td>1.765435</td>\n",
       "    </tr>\n",
       "    <tr>\n",
       "      <th>4</th>\n",
       "      <td>2019-06-01</td>\n",
       "      <td>6</td>\n",
       "      <td>ES</td>\n",
       "      <td>Spain</td>\n",
       "      <td>Las Palmas de Gran Canaria</td>\n",
       "      <td>pm25</td>\n",
       "      <td>30</td>\n",
       "      <td>29.633333</td>\n",
       "      <td>1.793496</td>\n",
       "      <td>3.668112</td>\n",
       "    </tr>\n",
       "  </tbody>\n",
       "</table>\n",
       "</div>"
      ],
      "text/plain": [
       "        Date  Month Country Country_name                        City  \\\n",
       "0 2019-01-01      1      ES        Spain  Las Palmas de Gran Canaria   \n",
       "1 2019-02-01      2      ES        Spain  Las Palmas de Gran Canaria   \n",
       "2 2019-03-01      3      ES        Spain  Las Palmas de Gran Canaria   \n",
       "3 2019-04-01      4      ES        Spain  Las Palmas de Gran Canaria   \n",
       "4 2019-06-01      6      ES        Spain  Las Palmas de Gran Canaria   \n",
       "\n",
       "  Most_present_pollutant  No_points        AQI   std_dev  conf_interval_95%  \n",
       "0                     o3         31  29.038710  0.570278           1.164663  \n",
       "1                   pm25         28  54.571429  4.757494           9.761571  \n",
       "2                   pm25         31  35.645161  2.096302           4.281220  \n",
       "3                     o3         28  34.775000  0.860420           1.765435  \n",
       "4                   pm25         30  29.633333  1.793496           3.668112  "
      ]
     },
     "execution_count": 467,
     "metadata": {},
     "output_type": "execute_result"
    }
   ],
   "source": [
    "%%time\n",
    "month_city_AQI_df = monthly_city_AQI(df_spain)\n",
    "month_city_AQI_df.head()"
   ]
  },
  {
   "cell_type": "code",
   "execution_count": 600,
   "metadata": {},
   "outputs": [],
   "source": [
    "def month_t_conf_interval_city(df_a, df_b, percent=True, unequal_var=True, alpha=0.95):\n",
    "    '''Calculates the yearly relative change of the overall AQI for each city in every country present in both input dataframes. The statistic is taken as AQI(df_a) - AQI(df_b).\n",
    "    INPUT: df_a, df_b: pd.Dataframe with the yearly mean AQI values of the cities we want to compare and the std_dev of those means\n",
    "            percent: if True a percent with its corresponding error is returned. If False, only the returned value is the difference of the mean of both df_a and df_b\n",
    "            unequal_var: if True a Welch's t-test is performed. If False population variances are assumed to be equal and thus a standard t-test is performed where the sample\n",
    "            variance is the pooled variance\n",
    "            alpha: represents the quantile to return in the confidence interval\n",
    "    OUTPUT: pd.DataFrame with the confidence interval of the yearly AQI difference'''\n",
    "    final_df = pd.DataFrame()\n",
    "    \n",
    "    #Find the common countries for both dataframes (years)\n",
    "    countries = list(set(df_a.Country.unique()).intersection(set(df_b.Country.unique())))\n",
    "    for country in countries:\n",
    "        country_filter_a = df_a.Country == country\n",
    "        country_filter_b = df_b.Country == country\n",
    "        \n",
    "        #Find the common cities for both input dataframes (years) for the selected country\n",
    "        cities = list(set(df_a[country_filter_a].City.unique()).intersection(set(df_b[country_filter_b].City.unique())))\n",
    "        for city in cities:\n",
    "            city_filter_a = df_a.City == city\n",
    "            city_filter_b = df_b.City == city\n",
    "            \n",
    "            #Find the common months for the selected city\n",
    "            months = list(set(df_a[city_filter_a & country_filter_a].Month.unique()).intersection(set(df_b[city_filter_b & country_filter_b].Month.unique())))\n",
    "            for month in months:\n",
    "                month_filter_a = df_a.Month == month\n",
    "                month_filter_b= df_b.Month == month\n",
    "                \n",
    "                mean_a = df_a[city_filter_a & country_filter_a & month_filter_a].AQI.values[0]\n",
    "                mean_b = df_b[city_filter_b & country_filter_b & month_filter_b].AQI.values[0]\n",
    "\n",
    "                std_a = df_a[city_filter_a & country_filter_a & month_filter_a].std_dev.values[0]\n",
    "                std_b = df_b[city_filter_b & country_filter_b & month_filter_b].std_dev.values[0]\n",
    "\n",
    "                statistic = mean_a-mean_b\n",
    "\n",
    "                n_a = df_a[city_filter_a & country_filter_a & month_filter_a]['No_points'].values[0]\n",
    "                n_b = df_b[city_filter_b & country_filter_b & month_filter_b]['No_points'].values[0]\n",
    "\n",
    "                if unequal_var:\n",
    "                    #Apply Welch t-test method\n",
    "                    std_statistic = np.sqrt(std_a**2 + std_b**2)\n",
    "                    # Welch's degrees of freedom\n",
    "                    degrees_freedom = (std_a**2+std_b**2)**2/(std_a**2/(n_a-1) + std_b**2/(n_b-1))\n",
    "                else:\n",
    "                    # Apply standard method with pooled variance\n",
    "                    std_statistic = np.sqrt(((n_a - 1)*std_a**2 + (n_b - 1)*std_b**2)/(n_a + n_b - 2))\n",
    "                    degrees_freedom = n_a + n_b - 2\n",
    "\n",
    "                #Calculate percentage with respect to the previous year\n",
    "                if percent:\n",
    "                    ratio = statistic/mean_b\n",
    "                    std_dev_mean_b = std_b\n",
    "                    std_dev_ratio = ratio * np.sqrt((std_statistic / statistic)**2 + (std_dev_mean_b  / mean_b)**2) # Propagation by Taylor approximation to first degree\n",
    "                    \n",
    "                    error_95th = stats.t.interval(df=degrees_freedom, alpha=alpha)[1] * std_dev_ratio\n",
    "\n",
    "                    percent = ratio *100\n",
    "                    std_95th_percent = error_95th*100\n",
    "\n",
    "                    CI = [percent, std_95th_percent]\n",
    "                if not percent:\n",
    "                    error = stats.t.interval(df=degrees_freedom, alpha=alpha)[1] * std_statistic\n",
    "                    CI = np.array([statistic, error])\n",
    "                \n",
    "                temp_df = pd.DataFrame({'Year':str(df_a.Date.dt.year.unique()[0])+'-'+str(df_b.Date.dt.year.unique()[0]), 'Month': month, 'Country': country, 'City': city, \\\n",
    "                                                'difference(%)': CI[0], 'std_95th(%)': [CI[1]]})\n",
    "                final_df = pd.concat([final_df, temp_df])\n",
    "            \n",
    "    return final_df.reset_index().drop('index', axis=1)"
   ]
  },
  {
   "cell_type": "code",
   "execution_count": 394,
   "metadata": {},
   "outputs": [
    {
     "name": "stdout",
     "output_type": "stream",
     "text": [
      "Implementing function: monthly_city_pollutant. This may take a while.\n"
     ]
    },
    {
     "data": {
      "text/html": [
       "<div>\n",
       "<style scoped>\n",
       "    .dataframe tbody tr th:only-of-type {\n",
       "        vertical-align: middle;\n",
       "    }\n",
       "\n",
       "    .dataframe tbody tr th {\n",
       "        vertical-align: top;\n",
       "    }\n",
       "\n",
       "    .dataframe thead th {\n",
       "        text-align: right;\n",
       "    }\n",
       "</style>\n",
       "<table border=\"1\" class=\"dataframe\">\n",
       "  <thead>\n",
       "    <tr style=\"text-align: right;\">\n",
       "      <th></th>\n",
       "      <th>Date</th>\n",
       "      <th>Month</th>\n",
       "      <th>Country</th>\n",
       "      <th>Country_name</th>\n",
       "      <th>City</th>\n",
       "      <th>Pollutant</th>\n",
       "      <th>No_points</th>\n",
       "      <th>AQI</th>\n",
       "      <th>std_dev</th>\n",
       "      <th>conf_interval_95%</th>\n",
       "    </tr>\n",
       "  </thead>\n",
       "  <tbody>\n",
       "    <tr>\n",
       "      <th>0</th>\n",
       "      <td>2019-01-01</td>\n",
       "      <td>1</td>\n",
       "      <td>ES</td>\n",
       "      <td>Spain</td>\n",
       "      <td>Las Palmas de Gran Canaria</td>\n",
       "      <td>pm25</td>\n",
       "      <td>31</td>\n",
       "      <td>25.258065</td>\n",
       "      <td>1.742513e+00</td>\n",
       "      <td>3.558687e+00</td>\n",
       "    </tr>\n",
       "    <tr>\n",
       "      <th>1</th>\n",
       "      <td>2019-02-01</td>\n",
       "      <td>2</td>\n",
       "      <td>ES</td>\n",
       "      <td>Spain</td>\n",
       "      <td>Las Palmas de Gran Canaria</td>\n",
       "      <td>pm25</td>\n",
       "      <td>28</td>\n",
       "      <td>54.571429</td>\n",
       "      <td>4.757494e+00</td>\n",
       "      <td>9.761571e+00</td>\n",
       "    </tr>\n",
       "    <tr>\n",
       "      <th>2</th>\n",
       "      <td>2019-03-01</td>\n",
       "      <td>3</td>\n",
       "      <td>ES</td>\n",
       "      <td>Spain</td>\n",
       "      <td>Las Palmas de Gran Canaria</td>\n",
       "      <td>pm25</td>\n",
       "      <td>31</td>\n",
       "      <td>35.645161</td>\n",
       "      <td>2.096302e+00</td>\n",
       "      <td>4.281220e+00</td>\n",
       "    </tr>\n",
       "    <tr>\n",
       "      <th>3</th>\n",
       "      <td>2019-04-01</td>\n",
       "      <td>4</td>\n",
       "      <td>ES</td>\n",
       "      <td>Spain</td>\n",
       "      <td>Las Palmas de Gran Canaria</td>\n",
       "      <td>pm25</td>\n",
       "      <td>29</td>\n",
       "      <td>26.482759</td>\n",
       "      <td>1.870111e+00</td>\n",
       "      <td>3.830748e+00</td>\n",
       "    </tr>\n",
       "    <tr>\n",
       "      <th>4</th>\n",
       "      <td>2019-06-01</td>\n",
       "      <td>6</td>\n",
       "      <td>ES</td>\n",
       "      <td>Spain</td>\n",
       "      <td>Las Palmas de Gran Canaria</td>\n",
       "      <td>pm25</td>\n",
       "      <td>30</td>\n",
       "      <td>29.633333</td>\n",
       "      <td>1.793496e+00</td>\n",
       "      <td>3.668112e+00</td>\n",
       "    </tr>\n",
       "    <tr>\n",
       "      <th>...</th>\n",
       "      <td>...</td>\n",
       "      <td>...</td>\n",
       "      <td>...</td>\n",
       "      <td>...</td>\n",
       "      <td>...</td>\n",
       "      <td>...</td>\n",
       "      <td>...</td>\n",
       "      <td>...</td>\n",
       "      <td>...</td>\n",
       "      <td>...</td>\n",
       "    </tr>\n",
       "    <tr>\n",
       "      <th>3298</th>\n",
       "      <td>2020-12-01</td>\n",
       "      <td>12</td>\n",
       "      <td>ES</td>\n",
       "      <td>Spain</td>\n",
       "      <td>Castelló de la Plana</td>\n",
       "      <td>co</td>\n",
       "      <td>27</td>\n",
       "      <td>0.100000</td>\n",
       "      <td>5.341563e-18</td>\n",
       "      <td>1.097974e-17</td>\n",
       "    </tr>\n",
       "    <tr>\n",
       "      <th>3299</th>\n",
       "      <td>2020-11-01</td>\n",
       "      <td>11</td>\n",
       "      <td>ES</td>\n",
       "      <td>Spain</td>\n",
       "      <td>Castelló de la Plana</td>\n",
       "      <td>co</td>\n",
       "      <td>30</td>\n",
       "      <td>0.100000</td>\n",
       "      <td>7.601177e-18</td>\n",
       "      <td>1.554615e-17</td>\n",
       "    </tr>\n",
       "    <tr>\n",
       "      <th>3300</th>\n",
       "      <td>2021-01-01</td>\n",
       "      <td>1</td>\n",
       "      <td>ES</td>\n",
       "      <td>Spain</td>\n",
       "      <td>Castelló de la Plana</td>\n",
       "      <td>co</td>\n",
       "      <td>32</td>\n",
       "      <td>0.100000</td>\n",
       "      <td>7.359808e-18</td>\n",
       "      <td>1.501043e-17</td>\n",
       "    </tr>\n",
       "    <tr>\n",
       "      <th>3301</th>\n",
       "      <td>2021-02-01</td>\n",
       "      <td>2</td>\n",
       "      <td>ES</td>\n",
       "      <td>Spain</td>\n",
       "      <td>Castelló de la Plana</td>\n",
       "      <td>co</td>\n",
       "      <td>27</td>\n",
       "      <td>0.100000</td>\n",
       "      <td>5.341563e-18</td>\n",
       "      <td>1.097974e-17</td>\n",
       "    </tr>\n",
       "    <tr>\n",
       "      <th>3302</th>\n",
       "      <td>2021-03-01</td>\n",
       "      <td>3</td>\n",
       "      <td>ES</td>\n",
       "      <td>Spain</td>\n",
       "      <td>Castelló de la Plana</td>\n",
       "      <td>co</td>\n",
       "      <td>24</td>\n",
       "      <td>0.100000</td>\n",
       "      <td>5.665583e-18</td>\n",
       "      <td>1.172015e-17</td>\n",
       "    </tr>\n",
       "  </tbody>\n",
       "</table>\n",
       "<p>3303 rows × 10 columns</p>\n",
       "</div>"
      ],
      "text/plain": [
       "           Date  Month Country Country_name                        City  \\\n",
       "0    2019-01-01      1      ES        Spain  Las Palmas de Gran Canaria   \n",
       "1    2019-02-01      2      ES        Spain  Las Palmas de Gran Canaria   \n",
       "2    2019-03-01      3      ES        Spain  Las Palmas de Gran Canaria   \n",
       "3    2019-04-01      4      ES        Spain  Las Palmas de Gran Canaria   \n",
       "4    2019-06-01      6      ES        Spain  Las Palmas de Gran Canaria   \n",
       "...         ...    ...     ...          ...                         ...   \n",
       "3298 2020-12-01     12      ES        Spain        Castelló de la Plana   \n",
       "3299 2020-11-01     11      ES        Spain        Castelló de la Plana   \n",
       "3300 2021-01-01      1      ES        Spain        Castelló de la Plana   \n",
       "3301 2021-02-01      2      ES        Spain        Castelló de la Plana   \n",
       "3302 2021-03-01      3      ES        Spain        Castelló de la Plana   \n",
       "\n",
       "     Pollutant  No_points        AQI       std_dev  conf_interval_95%  \n",
       "0         pm25         31  25.258065  1.742513e+00       3.558687e+00  \n",
       "1         pm25         28  54.571429  4.757494e+00       9.761571e+00  \n",
       "2         pm25         31  35.645161  2.096302e+00       4.281220e+00  \n",
       "3         pm25         29  26.482759  1.870111e+00       3.830748e+00  \n",
       "4         pm25         30  29.633333  1.793496e+00       3.668112e+00  \n",
       "...        ...        ...        ...           ...                ...  \n",
       "3298        co         27   0.100000  5.341563e-18       1.097974e-17  \n",
       "3299        co         30   0.100000  7.601177e-18       1.554615e-17  \n",
       "3300        co         32   0.100000  7.359808e-18       1.501043e-17  \n",
       "3301        co         27   0.100000  5.341563e-18       1.097974e-17  \n",
       "3302        co         24   0.100000  5.665583e-18       1.172015e-17  \n",
       "\n",
       "[3303 rows x 10 columns]"
      ]
     },
     "execution_count": 394,
     "metadata": {},
     "output_type": "execute_result"
    }
   ],
   "source": [
    "month_city_pollutant_df = monthly_city_pollutant(df_spain)\n",
    "month_city_pollutant_df"
   ]
  },
  {
   "cell_type": "code",
   "execution_count": 400,
   "metadata": {},
   "outputs": [
    {
     "name": "stdin",
     "output_type": "stream",
     "text": [
      "Beware: inserting the original DataFrame will imply a long runtime process (> 10 min). It is advised\n",
      "                    to use the returned DataFrame after applying the monthly_city_pollutant() function. Do you want to continue anyway?\n",
      "\n",
      "                    Type \"y\" for Yes\n",
      "\n",
      "                    Type \"n\" for No\n",
      " y\n"
     ]
    },
    {
     "name": "stdout",
     "output_type": "stream",
     "text": [
      "Implementing function: monthly_city_pollutant. This may take a while.\n",
      "Implementing function: yearly_city_pollutant\n"
     ]
    },
    {
     "data": {
      "text/html": [
       "<div>\n",
       "<style scoped>\n",
       "    .dataframe tbody tr th:only-of-type {\n",
       "        vertical-align: middle;\n",
       "    }\n",
       "\n",
       "    .dataframe tbody tr th {\n",
       "        vertical-align: top;\n",
       "    }\n",
       "\n",
       "    .dataframe thead th {\n",
       "        text-align: right;\n",
       "    }\n",
       "</style>\n",
       "<table border=\"1\" class=\"dataframe\">\n",
       "  <thead>\n",
       "    <tr style=\"text-align: right;\">\n",
       "      <th></th>\n",
       "      <th>Date</th>\n",
       "      <th>Country</th>\n",
       "      <th>Country_name</th>\n",
       "      <th>City</th>\n",
       "      <th>Pollutant</th>\n",
       "      <th>No_points</th>\n",
       "      <th>AQI</th>\n",
       "      <th>std_dev</th>\n",
       "      <th>conf_interval_95%</th>\n",
       "    </tr>\n",
       "  </thead>\n",
       "  <tbody>\n",
       "    <tr>\n",
       "      <th>0</th>\n",
       "      <td>2019-01-01</td>\n",
       "      <td>ES</td>\n",
       "      <td>Spain</td>\n",
       "      <td>Las Palmas de Gran Canaria</td>\n",
       "      <td>pm25</td>\n",
       "      <td>12</td>\n",
       "      <td>33.310123</td>\n",
       "      <td>0.627293</td>\n",
       "      <td>1.380662</td>\n",
       "    </tr>\n",
       "    <tr>\n",
       "      <th>1</th>\n",
       "      <td>2020-01-01</td>\n",
       "      <td>ES</td>\n",
       "      <td>Spain</td>\n",
       "      <td>Las Palmas de Gran Canaria</td>\n",
       "      <td>pm25</td>\n",
       "      <td>12</td>\n",
       "      <td>31.852771</td>\n",
       "      <td>0.898550</td>\n",
       "      <td>1.977694</td>\n",
       "    </tr>\n",
       "    <tr>\n",
       "      <th>2</th>\n",
       "      <td>2021-01-01</td>\n",
       "      <td>ES</td>\n",
       "      <td>Spain</td>\n",
       "      <td>Las Palmas de Gran Canaria</td>\n",
       "      <td>pm25</td>\n",
       "      <td>3</td>\n",
       "      <td>36.121467</td>\n",
       "      <td>2.633138</td>\n",
       "      <td>11.329477</td>\n",
       "    </tr>\n",
       "    <tr>\n",
       "      <th>3</th>\n",
       "      <td>2019-01-01</td>\n",
       "      <td>ES</td>\n",
       "      <td>Spain</td>\n",
       "      <td>Donostia / San Sebastián</td>\n",
       "      <td>pm25</td>\n",
       "      <td>12</td>\n",
       "      <td>36.154549</td>\n",
       "      <td>0.716417</td>\n",
       "      <td>1.576822</td>\n",
       "    </tr>\n",
       "    <tr>\n",
       "      <th>4</th>\n",
       "      <td>2020-01-01</td>\n",
       "      <td>ES</td>\n",
       "      <td>Spain</td>\n",
       "      <td>Donostia / San Sebastián</td>\n",
       "      <td>pm25</td>\n",
       "      <td>12</td>\n",
       "      <td>29.620473</td>\n",
       "      <td>0.625942</td>\n",
       "      <td>1.377689</td>\n",
       "    </tr>\n",
       "  </tbody>\n",
       "</table>\n",
       "</div>"
      ],
      "text/plain": [
       "        Date Country Country_name                        City Pollutant  \\\n",
       "0 2019-01-01      ES        Spain  Las Palmas de Gran Canaria      pm25   \n",
       "1 2020-01-01      ES        Spain  Las Palmas de Gran Canaria      pm25   \n",
       "2 2021-01-01      ES        Spain  Las Palmas de Gran Canaria      pm25   \n",
       "3 2019-01-01      ES        Spain    Donostia / San Sebastián      pm25   \n",
       "4 2020-01-01      ES        Spain    Donostia / San Sebastián      pm25   \n",
       "\n",
       "   No_points        AQI   std_dev  conf_interval_95%  \n",
       "0         12  33.310123  0.627293           1.380662  \n",
       "1         12  31.852771  0.898550           1.977694  \n",
       "2          3  36.121467  2.633138          11.329477  \n",
       "3         12  36.154549  0.716417           1.576822  \n",
       "4         12  29.620473  0.625942           1.377689  "
      ]
     },
     "execution_count": 400,
     "metadata": {},
     "output_type": "execute_result"
    }
   ],
   "source": [
    "year_city_pollutant_df = yearly_city_pollutant(df_spain)\n",
    "year_city_pollutant_df.head()"
   ]
  },
  {
   "cell_type": "code",
   "execution_count": 401,
   "metadata": {},
   "outputs": [
    {
     "data": {
      "text/html": [
       "<div>\n",
       "<style scoped>\n",
       "    .dataframe tbody tr th:only-of-type {\n",
       "        vertical-align: middle;\n",
       "    }\n",
       "\n",
       "    .dataframe tbody tr th {\n",
       "        vertical-align: top;\n",
       "    }\n",
       "\n",
       "    .dataframe thead th {\n",
       "        text-align: right;\n",
       "    }\n",
       "</style>\n",
       "<table border=\"1\" class=\"dataframe\">\n",
       "  <thead>\n",
       "    <tr style=\"text-align: right;\">\n",
       "      <th></th>\n",
       "      <th>Date</th>\n",
       "      <th>Country</th>\n",
       "      <th>Country_name</th>\n",
       "      <th>City</th>\n",
       "      <th>Pollutant</th>\n",
       "      <th>No_points</th>\n",
       "      <th>AQI</th>\n",
       "      <th>std_dev</th>\n",
       "      <th>conf_interval_95%</th>\n",
       "    </tr>\n",
       "  </thead>\n",
       "  <tbody>\n",
       "    <tr>\n",
       "      <th>0</th>\n",
       "      <td>2019-01-01</td>\n",
       "      <td>ES</td>\n",
       "      <td>Spain</td>\n",
       "      <td>Las Palmas de Gran Canaria</td>\n",
       "      <td>pm25</td>\n",
       "      <td>12</td>\n",
       "      <td>33.310123</td>\n",
       "      <td>6.272929e-01</td>\n",
       "      <td>1.380662e+00</td>\n",
       "    </tr>\n",
       "    <tr>\n",
       "      <th>1</th>\n",
       "      <td>2020-01-01</td>\n",
       "      <td>ES</td>\n",
       "      <td>Spain</td>\n",
       "      <td>Las Palmas de Gran Canaria</td>\n",
       "      <td>pm25</td>\n",
       "      <td>12</td>\n",
       "      <td>31.852771</td>\n",
       "      <td>8.985496e-01</td>\n",
       "      <td>1.977694e+00</td>\n",
       "    </tr>\n",
       "    <tr>\n",
       "      <th>2</th>\n",
       "      <td>2021-01-01</td>\n",
       "      <td>ES</td>\n",
       "      <td>Spain</td>\n",
       "      <td>Las Palmas de Gran Canaria</td>\n",
       "      <td>pm25</td>\n",
       "      <td>3</td>\n",
       "      <td>36.121467</td>\n",
       "      <td>2.633138e+00</td>\n",
       "      <td>1.132948e+01</td>\n",
       "    </tr>\n",
       "    <tr>\n",
       "      <th>3</th>\n",
       "      <td>2019-01-01</td>\n",
       "      <td>ES</td>\n",
       "      <td>Spain</td>\n",
       "      <td>Donostia / San Sebastián</td>\n",
       "      <td>pm25</td>\n",
       "      <td>12</td>\n",
       "      <td>36.154549</td>\n",
       "      <td>7.164166e-01</td>\n",
       "      <td>1.576822e+00</td>\n",
       "    </tr>\n",
       "    <tr>\n",
       "      <th>4</th>\n",
       "      <td>2020-01-01</td>\n",
       "      <td>ES</td>\n",
       "      <td>Spain</td>\n",
       "      <td>Donostia / San Sebastián</td>\n",
       "      <td>pm25</td>\n",
       "      <td>12</td>\n",
       "      <td>29.620473</td>\n",
       "      <td>6.259419e-01</td>\n",
       "      <td>1.377689e+00</td>\n",
       "    </tr>\n",
       "    <tr>\n",
       "      <th>...</th>\n",
       "      <td>...</td>\n",
       "      <td>...</td>\n",
       "      <td>...</td>\n",
       "      <td>...</td>\n",
       "      <td>...</td>\n",
       "      <td>...</td>\n",
       "      <td>...</td>\n",
       "      <td>...</td>\n",
       "      <td>...</td>\n",
       "    </tr>\n",
       "    <tr>\n",
       "      <th>377</th>\n",
       "      <td>2020-01-01</td>\n",
       "      <td>ES</td>\n",
       "      <td>Spain</td>\n",
       "      <td>Palma</td>\n",
       "      <td>co</td>\n",
       "      <td>12</td>\n",
       "      <td>3.553467</td>\n",
       "      <td>4.500004e-02</td>\n",
       "      <td>9.904442e-02</td>\n",
       "    </tr>\n",
       "    <tr>\n",
       "      <th>378</th>\n",
       "      <td>2021-01-01</td>\n",
       "      <td>ES</td>\n",
       "      <td>Spain</td>\n",
       "      <td>Palma</td>\n",
       "      <td>co</td>\n",
       "      <td>3</td>\n",
       "      <td>4.021635</td>\n",
       "      <td>8.731252e-02</td>\n",
       "      <td>3.756755e-01</td>\n",
       "    </tr>\n",
       "    <tr>\n",
       "      <th>379</th>\n",
       "      <td>2019-01-01</td>\n",
       "      <td>ES</td>\n",
       "      <td>Spain</td>\n",
       "      <td>Castelló de la Plana</td>\n",
       "      <td>co</td>\n",
       "      <td>2</td>\n",
       "      <td>0.100000</td>\n",
       "      <td>4.396400e-18</td>\n",
       "      <td>5.586155e-17</td>\n",
       "    </tr>\n",
       "    <tr>\n",
       "      <th>380</th>\n",
       "      <td>2020-01-01</td>\n",
       "      <td>ES</td>\n",
       "      <td>Spain</td>\n",
       "      <td>Castelló de la Plana</td>\n",
       "      <td>co</td>\n",
       "      <td>12</td>\n",
       "      <td>0.100000</td>\n",
       "      <td>1.983612e-18</td>\n",
       "      <td>4.365901e-18</td>\n",
       "    </tr>\n",
       "    <tr>\n",
       "      <th>381</th>\n",
       "      <td>2021-01-01</td>\n",
       "      <td>ES</td>\n",
       "      <td>Spain</td>\n",
       "      <td>Castelló de la Plana</td>\n",
       "      <td>co</td>\n",
       "      <td>3</td>\n",
       "      <td>0.100000</td>\n",
       "      <td>3.571460e-18</td>\n",
       "      <td>1.536675e-17</td>\n",
       "    </tr>\n",
       "  </tbody>\n",
       "</table>\n",
       "<p>382 rows × 9 columns</p>\n",
       "</div>"
      ],
      "text/plain": [
       "          Date Country Country_name                        City Pollutant  \\\n",
       "0   2019-01-01      ES        Spain  Las Palmas de Gran Canaria      pm25   \n",
       "1   2020-01-01      ES        Spain  Las Palmas de Gran Canaria      pm25   \n",
       "2   2021-01-01      ES        Spain  Las Palmas de Gran Canaria      pm25   \n",
       "3   2019-01-01      ES        Spain    Donostia / San Sebastián      pm25   \n",
       "4   2020-01-01      ES        Spain    Donostia / San Sebastián      pm25   \n",
       "..         ...     ...          ...                         ...       ...   \n",
       "377 2020-01-01      ES        Spain                       Palma        co   \n",
       "378 2021-01-01      ES        Spain                       Palma        co   \n",
       "379 2019-01-01      ES        Spain        Castelló de la Plana        co   \n",
       "380 2020-01-01      ES        Spain        Castelló de la Plana        co   \n",
       "381 2021-01-01      ES        Spain        Castelló de la Plana        co   \n",
       "\n",
       "     No_points        AQI       std_dev  conf_interval_95%  \n",
       "0           12  33.310123  6.272929e-01       1.380662e+00  \n",
       "1           12  31.852771  8.985496e-01       1.977694e+00  \n",
       "2            3  36.121467  2.633138e+00       1.132948e+01  \n",
       "3           12  36.154549  7.164166e-01       1.576822e+00  \n",
       "4           12  29.620473  6.259419e-01       1.377689e+00  \n",
       "..         ...        ...           ...                ...  \n",
       "377         12   3.553467  4.500004e-02       9.904442e-02  \n",
       "378          3   4.021635  8.731252e-02       3.756755e-01  \n",
       "379          2   0.100000  4.396400e-18       5.586155e-17  \n",
       "380         12   0.100000  1.983612e-18       4.365901e-18  \n",
       "381          3   0.100000  3.571460e-18       1.536675e-17  \n",
       "\n",
       "[382 rows x 9 columns]"
      ]
     },
     "execution_count": 401,
     "metadata": {},
     "output_type": "execute_result"
    }
   ],
   "source": [
    "year_city_pollutant_df"
   ]
  },
  {
   "cell_type": "code",
   "execution_count": 468,
   "metadata": {},
   "outputs": [
    {
     "data": {
      "text/html": [
       "<div>\n",
       "<style scoped>\n",
       "    .dataframe tbody tr th:only-of-type {\n",
       "        vertical-align: middle;\n",
       "    }\n",
       "\n",
       "    .dataframe tbody tr th {\n",
       "        vertical-align: top;\n",
       "    }\n",
       "\n",
       "    .dataframe thead th {\n",
       "        text-align: right;\n",
       "    }\n",
       "</style>\n",
       "<table border=\"1\" class=\"dataframe\">\n",
       "  <thead>\n",
       "    <tr style=\"text-align: right;\">\n",
       "      <th></th>\n",
       "      <th>Date</th>\n",
       "      <th>Month</th>\n",
       "      <th>Country</th>\n",
       "      <th>Country_name</th>\n",
       "      <th>City</th>\n",
       "      <th>Most_present_pollutant</th>\n",
       "      <th>No_points</th>\n",
       "      <th>AQI</th>\n",
       "      <th>std_dev</th>\n",
       "      <th>conf_interval_95%</th>\n",
       "    </tr>\n",
       "  </thead>\n",
       "  <tbody>\n",
       "    <tr>\n",
       "      <th>0</th>\n",
       "      <td>2019-01-01</td>\n",
       "      <td>1</td>\n",
       "      <td>ES</td>\n",
       "      <td>Spain</td>\n",
       "      <td>Las Palmas de Gran Canaria</td>\n",
       "      <td>o3</td>\n",
       "      <td>31</td>\n",
       "      <td>29.038710</td>\n",
       "      <td>0.570278</td>\n",
       "      <td>1.164663</td>\n",
       "    </tr>\n",
       "    <tr>\n",
       "      <th>1</th>\n",
       "      <td>2019-02-01</td>\n",
       "      <td>2</td>\n",
       "      <td>ES</td>\n",
       "      <td>Spain</td>\n",
       "      <td>Las Palmas de Gran Canaria</td>\n",
       "      <td>pm25</td>\n",
       "      <td>28</td>\n",
       "      <td>54.571429</td>\n",
       "      <td>4.757494</td>\n",
       "      <td>9.761571</td>\n",
       "    </tr>\n",
       "    <tr>\n",
       "      <th>2</th>\n",
       "      <td>2019-03-01</td>\n",
       "      <td>3</td>\n",
       "      <td>ES</td>\n",
       "      <td>Spain</td>\n",
       "      <td>Las Palmas de Gran Canaria</td>\n",
       "      <td>pm25</td>\n",
       "      <td>31</td>\n",
       "      <td>35.645161</td>\n",
       "      <td>2.096302</td>\n",
       "      <td>4.281220</td>\n",
       "    </tr>\n",
       "    <tr>\n",
       "      <th>3</th>\n",
       "      <td>2019-04-01</td>\n",
       "      <td>4</td>\n",
       "      <td>ES</td>\n",
       "      <td>Spain</td>\n",
       "      <td>Las Palmas de Gran Canaria</td>\n",
       "      <td>o3</td>\n",
       "      <td>28</td>\n",
       "      <td>34.775000</td>\n",
       "      <td>0.860420</td>\n",
       "      <td>1.765435</td>\n",
       "    </tr>\n",
       "    <tr>\n",
       "      <th>4</th>\n",
       "      <td>2019-06-01</td>\n",
       "      <td>6</td>\n",
       "      <td>ES</td>\n",
       "      <td>Spain</td>\n",
       "      <td>Las Palmas de Gran Canaria</td>\n",
       "      <td>pm25</td>\n",
       "      <td>30</td>\n",
       "      <td>29.633333</td>\n",
       "      <td>1.793496</td>\n",
       "      <td>3.668112</td>\n",
       "    </tr>\n",
       "    <tr>\n",
       "      <th>5</th>\n",
       "      <td>2019-05-01</td>\n",
       "      <td>5</td>\n",
       "      <td>ES</td>\n",
       "      <td>Spain</td>\n",
       "      <td>Las Palmas de Gran Canaria</td>\n",
       "      <td>pm25</td>\n",
       "      <td>29</td>\n",
       "      <td>35.034483</td>\n",
       "      <td>2.194731</td>\n",
       "      <td>4.495702</td>\n",
       "    </tr>\n",
       "    <tr>\n",
       "      <th>6</th>\n",
       "      <td>2019-07-01</td>\n",
       "      <td>7</td>\n",
       "      <td>ES</td>\n",
       "      <td>Spain</td>\n",
       "      <td>Las Palmas de Gran Canaria</td>\n",
       "      <td>pm25</td>\n",
       "      <td>31</td>\n",
       "      <td>29.838710</td>\n",
       "      <td>1.031347</td>\n",
       "      <td>2.106292</td>\n",
       "    </tr>\n",
       "    <tr>\n",
       "      <th>7</th>\n",
       "      <td>2019-08-01</td>\n",
       "      <td>8</td>\n",
       "      <td>ES</td>\n",
       "      <td>Spain</td>\n",
       "      <td>Las Palmas de Gran Canaria</td>\n",
       "      <td>pm25</td>\n",
       "      <td>31</td>\n",
       "      <td>36.193548</td>\n",
       "      <td>1.859486</td>\n",
       "      <td>3.797577</td>\n",
       "    </tr>\n",
       "    <tr>\n",
       "      <th>8</th>\n",
       "      <td>2019-09-01</td>\n",
       "      <td>9</td>\n",
       "      <td>ES</td>\n",
       "      <td>Spain</td>\n",
       "      <td>Las Palmas de Gran Canaria</td>\n",
       "      <td>pm25</td>\n",
       "      <td>31</td>\n",
       "      <td>34.322581</td>\n",
       "      <td>1.590416</td>\n",
       "      <td>3.248062</td>\n",
       "    </tr>\n",
       "    <tr>\n",
       "      <th>9</th>\n",
       "      <td>2019-10-01</td>\n",
       "      <td>10</td>\n",
       "      <td>ES</td>\n",
       "      <td>Spain</td>\n",
       "      <td>Las Palmas de Gran Canaria</td>\n",
       "      <td>pm25</td>\n",
       "      <td>36</td>\n",
       "      <td>33.777778</td>\n",
       "      <td>1.841359</td>\n",
       "      <td>3.738158</td>\n",
       "    </tr>\n",
       "    <tr>\n",
       "      <th>10</th>\n",
       "      <td>2019-11-01</td>\n",
       "      <td>11</td>\n",
       "      <td>ES</td>\n",
       "      <td>Spain</td>\n",
       "      <td>Las Palmas de Gran Canaria</td>\n",
       "      <td>pm25</td>\n",
       "      <td>30</td>\n",
       "      <td>30.266667</td>\n",
       "      <td>1.635667</td>\n",
       "      <td>3.345315</td>\n",
       "    </tr>\n",
       "    <tr>\n",
       "      <th>11</th>\n",
       "      <td>2019-12-01</td>\n",
       "      <td>12</td>\n",
       "      <td>ES</td>\n",
       "      <td>Spain</td>\n",
       "      <td>Las Palmas de Gran Canaria</td>\n",
       "      <td>pm25</td>\n",
       "      <td>33</td>\n",
       "      <td>28.696970</td>\n",
       "      <td>1.396891</td>\n",
       "      <td>2.845373</td>\n",
       "    </tr>\n",
       "    <tr>\n",
       "      <th>12</th>\n",
       "      <td>2019-01-01</td>\n",
       "      <td>1</td>\n",
       "      <td>ES</td>\n",
       "      <td>Spain</td>\n",
       "      <td>Donostia / San Sebastián</td>\n",
       "      <td>pm25</td>\n",
       "      <td>31</td>\n",
       "      <td>37.451613</td>\n",
       "      <td>3.192029</td>\n",
       "      <td>6.518993</td>\n",
       "    </tr>\n",
       "    <tr>\n",
       "      <th>13</th>\n",
       "      <td>2019-02-01</td>\n",
       "      <td>2</td>\n",
       "      <td>ES</td>\n",
       "      <td>Spain</td>\n",
       "      <td>Donostia / San Sebastián</td>\n",
       "      <td>pm25</td>\n",
       "      <td>28</td>\n",
       "      <td>47.178571</td>\n",
       "      <td>3.510572</td>\n",
       "      <td>7.203099</td>\n",
       "    </tr>\n",
       "    <tr>\n",
       "      <th>14</th>\n",
       "      <td>2019-03-01</td>\n",
       "      <td>3</td>\n",
       "      <td>ES</td>\n",
       "      <td>Spain</td>\n",
       "      <td>Donostia / San Sebastián</td>\n",
       "      <td>pm25</td>\n",
       "      <td>31</td>\n",
       "      <td>38.064516</td>\n",
       "      <td>2.405308</td>\n",
       "      <td>4.912294</td>\n",
       "    </tr>\n",
       "    <tr>\n",
       "      <th>15</th>\n",
       "      <td>2019-04-01</td>\n",
       "      <td>4</td>\n",
       "      <td>ES</td>\n",
       "      <td>Spain</td>\n",
       "      <td>Donostia / San Sebastián</td>\n",
       "      <td>pm25</td>\n",
       "      <td>29</td>\n",
       "      <td>34.241379</td>\n",
       "      <td>2.829543</td>\n",
       "      <td>5.796056</td>\n",
       "    </tr>\n",
       "    <tr>\n",
       "      <th>16</th>\n",
       "      <td>2019-06-01</td>\n",
       "      <td>6</td>\n",
       "      <td>ES</td>\n",
       "      <td>Spain</td>\n",
       "      <td>Donostia / San Sebastián</td>\n",
       "      <td>pm25</td>\n",
       "      <td>30</td>\n",
       "      <td>33.233333</td>\n",
       "      <td>2.561112</td>\n",
       "      <td>5.238063</td>\n",
       "    </tr>\n",
       "    <tr>\n",
       "      <th>17</th>\n",
       "      <td>2019-05-01</td>\n",
       "      <td>5</td>\n",
       "      <td>ES</td>\n",
       "      <td>Spain</td>\n",
       "      <td>Donostia / San Sebastián</td>\n",
       "      <td>o3</td>\n",
       "      <td>31</td>\n",
       "      <td>30.741935</td>\n",
       "      <td>1.093618</td>\n",
       "      <td>2.233465</td>\n",
       "    </tr>\n",
       "    <tr>\n",
       "      <th>18</th>\n",
       "      <td>2019-07-01</td>\n",
       "      <td>7</td>\n",
       "      <td>ES</td>\n",
       "      <td>Spain</td>\n",
       "      <td>Donostia / San Sebastián</td>\n",
       "      <td>pm25</td>\n",
       "      <td>31</td>\n",
       "      <td>44.741935</td>\n",
       "      <td>2.617069</td>\n",
       "      <td>5.344767</td>\n",
       "    </tr>\n",
       "    <tr>\n",
       "      <th>19</th>\n",
       "      <td>2019-08-01</td>\n",
       "      <td>8</td>\n",
       "      <td>ES</td>\n",
       "      <td>Spain</td>\n",
       "      <td>Donostia / San Sebastián</td>\n",
       "      <td>pm25</td>\n",
       "      <td>31</td>\n",
       "      <td>42.161290</td>\n",
       "      <td>1.776888</td>\n",
       "      <td>3.628889</td>\n",
       "    </tr>\n",
       "  </tbody>\n",
       "</table>\n",
       "</div>"
      ],
      "text/plain": [
       "         Date  Month Country Country_name                        City  \\\n",
       "0  2019-01-01      1      ES        Spain  Las Palmas de Gran Canaria   \n",
       "1  2019-02-01      2      ES        Spain  Las Palmas de Gran Canaria   \n",
       "2  2019-03-01      3      ES        Spain  Las Palmas de Gran Canaria   \n",
       "3  2019-04-01      4      ES        Spain  Las Palmas de Gran Canaria   \n",
       "4  2019-06-01      6      ES        Spain  Las Palmas de Gran Canaria   \n",
       "5  2019-05-01      5      ES        Spain  Las Palmas de Gran Canaria   \n",
       "6  2019-07-01      7      ES        Spain  Las Palmas de Gran Canaria   \n",
       "7  2019-08-01      8      ES        Spain  Las Palmas de Gran Canaria   \n",
       "8  2019-09-01      9      ES        Spain  Las Palmas de Gran Canaria   \n",
       "9  2019-10-01     10      ES        Spain  Las Palmas de Gran Canaria   \n",
       "10 2019-11-01     11      ES        Spain  Las Palmas de Gran Canaria   \n",
       "11 2019-12-01     12      ES        Spain  Las Palmas de Gran Canaria   \n",
       "12 2019-01-01      1      ES        Spain    Donostia / San Sebastián   \n",
       "13 2019-02-01      2      ES        Spain    Donostia / San Sebastián   \n",
       "14 2019-03-01      3      ES        Spain    Donostia / San Sebastián   \n",
       "15 2019-04-01      4      ES        Spain    Donostia / San Sebastián   \n",
       "16 2019-06-01      6      ES        Spain    Donostia / San Sebastián   \n",
       "17 2019-05-01      5      ES        Spain    Donostia / San Sebastián   \n",
       "18 2019-07-01      7      ES        Spain    Donostia / San Sebastián   \n",
       "19 2019-08-01      8      ES        Spain    Donostia / San Sebastián   \n",
       "\n",
       "   Most_present_pollutant  No_points        AQI   std_dev  conf_interval_95%  \n",
       "0                      o3         31  29.038710  0.570278           1.164663  \n",
       "1                    pm25         28  54.571429  4.757494           9.761571  \n",
       "2                    pm25         31  35.645161  2.096302           4.281220  \n",
       "3                      o3         28  34.775000  0.860420           1.765435  \n",
       "4                    pm25         30  29.633333  1.793496           3.668112  \n",
       "5                    pm25         29  35.034483  2.194731           4.495702  \n",
       "6                    pm25         31  29.838710  1.031347           2.106292  \n",
       "7                    pm25         31  36.193548  1.859486           3.797577  \n",
       "8                    pm25         31  34.322581  1.590416           3.248062  \n",
       "9                    pm25         36  33.777778  1.841359           3.738158  \n",
       "10                   pm25         30  30.266667  1.635667           3.345315  \n",
       "11                   pm25         33  28.696970  1.396891           2.845373  \n",
       "12                   pm25         31  37.451613  3.192029           6.518993  \n",
       "13                   pm25         28  47.178571  3.510572           7.203099  \n",
       "14                   pm25         31  38.064516  2.405308           4.912294  \n",
       "15                   pm25         29  34.241379  2.829543           5.796056  \n",
       "16                   pm25         30  33.233333  2.561112           5.238063  \n",
       "17                     o3         31  30.741935  1.093618           2.233465  \n",
       "18                   pm25         31  44.741935  2.617069           5.344767  \n",
       "19                   pm25         31  42.161290  1.776888           3.628889  "
      ]
     },
     "execution_count": 468,
     "metadata": {},
     "output_type": "execute_result"
    }
   ],
   "source": [
    "month_city_AQI_df.head(20)"
   ]
  },
  {
   "cell_type": "code",
   "execution_count": 469,
   "metadata": {},
   "outputs": [],
   "source": [
    "import warnings\n",
    "warnings.filterwarnings('ignore')\n",
    "\n",
    "month_city_19 = month_city_AQI_df[month_city_AQI_df.Date.dt.year == 2019]\n",
    "month_city_20 = month_city_AQI_df[month_city_AQI_df.Date.dt.year == 2020]\n",
    "\n",
    "comp_month_city_df = month_t_conf_interval_city(month_city_20, month_city_19, percent=True, unequal_var=True)"
   ]
  },
  {
   "cell_type": "code",
   "execution_count": 470,
   "metadata": {},
   "outputs": [
    {
     "data": {
      "text/html": [
       "<div>\n",
       "<style scoped>\n",
       "    .dataframe tbody tr th:only-of-type {\n",
       "        vertical-align: middle;\n",
       "    }\n",
       "\n",
       "    .dataframe tbody tr th {\n",
       "        vertical-align: top;\n",
       "    }\n",
       "\n",
       "    .dataframe thead th {\n",
       "        text-align: right;\n",
       "    }\n",
       "</style>\n",
       "<table border=\"1\" class=\"dataframe\">\n",
       "  <thead>\n",
       "    <tr style=\"text-align: right;\">\n",
       "      <th></th>\n",
       "      <th>Year</th>\n",
       "      <th>Month</th>\n",
       "      <th>Country</th>\n",
       "      <th>City</th>\n",
       "      <th>difference(%)</th>\n",
       "      <th>std_95th(%)</th>\n",
       "    </tr>\n",
       "  </thead>\n",
       "  <tbody>\n",
       "    <tr>\n",
       "      <th>0</th>\n",
       "      <td>2020-2019</td>\n",
       "      <td>1</td>\n",
       "      <td>ES</td>\n",
       "      <td>Barcelona</td>\n",
       "      <td>21.109225</td>\n",
       "      <td>22.399729</td>\n",
       "    </tr>\n",
       "    <tr>\n",
       "      <th>1</th>\n",
       "      <td>2020-2019</td>\n",
       "      <td>2</td>\n",
       "      <td>ES</td>\n",
       "      <td>Barcelona</td>\n",
       "      <td>-7.953211</td>\n",
       "      <td>-14.453830</td>\n",
       "    </tr>\n",
       "    <tr>\n",
       "      <th>2</th>\n",
       "      <td>2020-2019</td>\n",
       "      <td>3</td>\n",
       "      <td>ES</td>\n",
       "      <td>Barcelona</td>\n",
       "      <td>-10.477406</td>\n",
       "      <td>-10.106026</td>\n",
       "    </tr>\n",
       "    <tr>\n",
       "      <th>3</th>\n",
       "      <td>2020-2019</td>\n",
       "      <td>4</td>\n",
       "      <td>ES</td>\n",
       "      <td>Barcelona</td>\n",
       "      <td>9.193731</td>\n",
       "      <td>12.958786</td>\n",
       "    </tr>\n",
       "    <tr>\n",
       "      <th>4</th>\n",
       "      <td>2020-2019</td>\n",
       "      <td>5</td>\n",
       "      <td>ES</td>\n",
       "      <td>Barcelona</td>\n",
       "      <td>7.913210</td>\n",
       "      <td>9.587050</td>\n",
       "    </tr>\n",
       "    <tr>\n",
       "      <th>5</th>\n",
       "      <td>2020-2019</td>\n",
       "      <td>6</td>\n",
       "      <td>ES</td>\n",
       "      <td>Barcelona</td>\n",
       "      <td>-18.111340</td>\n",
       "      <td>-8.972485</td>\n",
       "    </tr>\n",
       "    <tr>\n",
       "      <th>6</th>\n",
       "      <td>2020-2019</td>\n",
       "      <td>7</td>\n",
       "      <td>ES</td>\n",
       "      <td>Barcelona</td>\n",
       "      <td>-3.175040</td>\n",
       "      <td>-8.244989</td>\n",
       "    </tr>\n",
       "    <tr>\n",
       "      <th>7</th>\n",
       "      <td>2020-2019</td>\n",
       "      <td>8</td>\n",
       "      <td>ES</td>\n",
       "      <td>Barcelona</td>\n",
       "      <td>-8.855781</td>\n",
       "      <td>-7.791234</td>\n",
       "    </tr>\n",
       "    <tr>\n",
       "      <th>8</th>\n",
       "      <td>2020-2019</td>\n",
       "      <td>9</td>\n",
       "      <td>ES</td>\n",
       "      <td>Barcelona</td>\n",
       "      <td>-2.105401</td>\n",
       "      <td>-10.779770</td>\n",
       "    </tr>\n",
       "    <tr>\n",
       "      <th>9</th>\n",
       "      <td>2020-2019</td>\n",
       "      <td>10</td>\n",
       "      <td>ES</td>\n",
       "      <td>Barcelona</td>\n",
       "      <td>-4.818608</td>\n",
       "      <td>-17.783943</td>\n",
       "    </tr>\n",
       "    <tr>\n",
       "      <th>10</th>\n",
       "      <td>2020-2019</td>\n",
       "      <td>11</td>\n",
       "      <td>ES</td>\n",
       "      <td>Barcelona</td>\n",
       "      <td>46.881288</td>\n",
       "      <td>16.694818</td>\n",
       "    </tr>\n",
       "    <tr>\n",
       "      <th>11</th>\n",
       "      <td>2020-2019</td>\n",
       "      <td>12</td>\n",
       "      <td>ES</td>\n",
       "      <td>Barcelona</td>\n",
       "      <td>-19.756839</td>\n",
       "      <td>-25.941368</td>\n",
       "    </tr>\n",
       "    <tr>\n",
       "      <th>12</th>\n",
       "      <td>2020-2019</td>\n",
       "      <td>7</td>\n",
       "      <td>ES</td>\n",
       "      <td>Zaragoza</td>\n",
       "      <td>-1.365591</td>\n",
       "      <td>-13.776925</td>\n",
       "    </tr>\n",
       "    <tr>\n",
       "      <th>13</th>\n",
       "      <td>2020-2019</td>\n",
       "      <td>8</td>\n",
       "      <td>ES</td>\n",
       "      <td>Zaragoza</td>\n",
       "      <td>-3.826499</td>\n",
       "      <td>-7.833444</td>\n",
       "    </tr>\n",
       "    <tr>\n",
       "      <th>14</th>\n",
       "      <td>2020-2019</td>\n",
       "      <td>9</td>\n",
       "      <td>ES</td>\n",
       "      <td>Zaragoza</td>\n",
       "      <td>3.158136</td>\n",
       "      <td>14.324319</td>\n",
       "    </tr>\n",
       "    <tr>\n",
       "      <th>15</th>\n",
       "      <td>2020-2019</td>\n",
       "      <td>10</td>\n",
       "      <td>ES</td>\n",
       "      <td>Zaragoza</td>\n",
       "      <td>12.839711</td>\n",
       "      <td>22.847740</td>\n",
       "    </tr>\n",
       "    <tr>\n",
       "      <th>16</th>\n",
       "      <td>2020-2019</td>\n",
       "      <td>11</td>\n",
       "      <td>ES</td>\n",
       "      <td>Zaragoza</td>\n",
       "      <td>-4.522613</td>\n",
       "      <td>-21.189876</td>\n",
       "    </tr>\n",
       "    <tr>\n",
       "      <th>17</th>\n",
       "      <td>2020-2019</td>\n",
       "      <td>12</td>\n",
       "      <td>ES</td>\n",
       "      <td>Zaragoza</td>\n",
       "      <td>12.973666</td>\n",
       "      <td>25.630348</td>\n",
       "    </tr>\n",
       "    <tr>\n",
       "      <th>18</th>\n",
       "      <td>2020-2019</td>\n",
       "      <td>1</td>\n",
       "      <td>ES</td>\n",
       "      <td>Castelló de la Plana</td>\n",
       "      <td>36.084067</td>\n",
       "      <td>23.068346</td>\n",
       "    </tr>\n",
       "    <tr>\n",
       "      <th>19</th>\n",
       "      <td>2020-2019</td>\n",
       "      <td>2</td>\n",
       "      <td>ES</td>\n",
       "      <td>Castelló de la Plana</td>\n",
       "      <td>7.692308</td>\n",
       "      <td>23.175255</td>\n",
       "    </tr>\n",
       "  </tbody>\n",
       "</table>\n",
       "</div>"
      ],
      "text/plain": [
       "         Year  Month Country                  City  difference(%)  std_95th(%)\n",
       "0   2020-2019      1      ES             Barcelona      21.109225    22.399729\n",
       "1   2020-2019      2      ES             Barcelona      -7.953211   -14.453830\n",
       "2   2020-2019      3      ES             Barcelona     -10.477406   -10.106026\n",
       "3   2020-2019      4      ES             Barcelona       9.193731    12.958786\n",
       "4   2020-2019      5      ES             Barcelona       7.913210     9.587050\n",
       "5   2020-2019      6      ES             Barcelona     -18.111340    -8.972485\n",
       "6   2020-2019      7      ES             Barcelona      -3.175040    -8.244989\n",
       "7   2020-2019      8      ES             Barcelona      -8.855781    -7.791234\n",
       "8   2020-2019      9      ES             Barcelona      -2.105401   -10.779770\n",
       "9   2020-2019     10      ES             Barcelona      -4.818608   -17.783943\n",
       "10  2020-2019     11      ES             Barcelona      46.881288    16.694818\n",
       "11  2020-2019     12      ES             Barcelona     -19.756839   -25.941368\n",
       "12  2020-2019      7      ES              Zaragoza      -1.365591   -13.776925\n",
       "13  2020-2019      8      ES              Zaragoza      -3.826499    -7.833444\n",
       "14  2020-2019      9      ES              Zaragoza       3.158136    14.324319\n",
       "15  2020-2019     10      ES              Zaragoza      12.839711    22.847740\n",
       "16  2020-2019     11      ES              Zaragoza      -4.522613   -21.189876\n",
       "17  2020-2019     12      ES              Zaragoza      12.973666    25.630348\n",
       "18  2020-2019      1      ES  Castelló de la Plana      36.084067    23.068346\n",
       "19  2020-2019      2      ES  Castelló de la Plana       7.692308    23.175255"
      ]
     },
     "execution_count": 470,
     "metadata": {},
     "output_type": "execute_result"
    }
   ],
   "source": [
    "comp_month_city_df.head(20)"
   ]
  },
  {
   "cell_type": "code",
   "execution_count": 471,
   "metadata": {},
   "outputs": [
    {
     "data": {
      "text/plain": [
       "[Text(1, 0, 'Jan'),\n",
       " Text(2, 0, 'Feb'),\n",
       " Text(3, 0, 'Mar'),\n",
       " Text(4, 0, 'Apr'),\n",
       " Text(5, 0, 'May'),\n",
       " Text(6, 0, 'Jun'),\n",
       " Text(7, 0, 'Jul'),\n",
       " Text(8, 0, 'Aug'),\n",
       " Text(9, 0, 'Sep'),\n",
       " Text(10, 0, 'Oct'),\n",
       " Text(11, 0, 'Nov'),\n",
       " Text(12, 0, 'Dec')]"
      ]
     },
     "execution_count": 471,
     "metadata": {},
     "output_type": "execute_result"
    },
    {
     "data": {
      "image/png": "[encoded data removed]",
      "text/plain": [
       "<Figure size 432x288 with 1 Axes>"
      ]
     },
     "metadata": {
      "needs_background": "light"
     },
     "output_type": "display_data"
    }
   ],
   "source": [
    "fig, ax = plt.subplots()\n",
    "comp_month_city_df.boxplot(by='Month', column='difference(%)', ax=ax);\n",
    "plt.ylim(-100, 200)\n",
    "plt.xlim(0, 13)\n",
    "plt.title('Country spread per month')\n",
    "plt.suptitle('')\n",
    "plt.hlines(y=0, xmin=0, xmax=13, linestyles='--', color='black')\n",
    "\n",
    "plt.xticks([1,2,3,4,5,6,7,8,9,10,11,12], fontsize=12)\n",
    "ax.set_xticklabels(['Jan', 'Feb', 'Mar', 'Apr', 'May', 'Jun', 'Jul', 'Aug', 'Sep', 'Oct', 'Nov', 'Dec'])"
   ]
  },
  {
   "cell_type": "code",
   "execution_count": 472,
   "metadata": {},
   "outputs": [
    {
     "data": {
      "image/png": "[encoded data removed]",
      "text/plain": [
       "<Figure size 432x288 with 1 Axes>"
      ]
     },
     "metadata": {
      "needs_background": "light"
     },
     "output_type": "display_data"
    }
   ],
   "source": [
    "month_city_AQI_df.boxplot(by='Date', column='AQI');"
   ]
  },
  {
   "cell_type": "code",
   "execution_count": 169,
   "metadata": {},
   "outputs": [],
   "source": [
    "def intersect_cities_month(df):\n",
    "    '''Function that yields cities for which there is data for all months (12) of all years in the dataset provided \n",
    "    INPUT: pd.DataFrame. Either the original dataset or the output from monthly_city_pollutant()\n",
    "    OUTPUT: list with the cities for which there is data for all months'''\n",
    "\n",
    "    if 'AQI' not in df.columns:\n",
    "        df = monthly_city_AQI(df)\n",
    "        \n",
    "    dates = df.Date.unique()\n",
    "    sets = [[] for i in range(len(dates))]\n",
    "    dct = dict(zip(dates, sets))\n",
    "    dct_final = {}\n",
    "    for date in dates:\n",
    "        date_df = df[df.Date == date]\n",
    "        cities = set(date_df.City.unique())\n",
    "        dct[date].append(cities)\n",
    "\n",
    "    for key, value in dct.items():\n",
    "        dct_final[key] = set.intersection(*value)  \n",
    "    common_cities_all_dates = set.intersection(*dct_final.values())\n",
    "    \n",
    "    return list(common_cities_all_dates)"
   ]
  },
  {
   "cell_type": "code",
   "execution_count": 170,
   "metadata": {},
   "outputs": [],
   "source": [
    "complete_cities_month = intersect_cities_month(month_city_AQI_df)\n"
   ]
  },
  {
   "cell_type": "code",
   "execution_count": 171,
   "metadata": {},
   "outputs": [
    {
     "data": {
      "text/plain": [
       "494"
      ]
     },
     "execution_count": 171,
     "metadata": {},
     "output_type": "execute_result"
    }
   ],
   "source": [
    "len(complete_cities_month)"
   ]
  },
  {
   "cell_type": "code",
   "execution_count": 172,
   "metadata": {},
   "outputs": [
    {
     "data": {
      "text/plain": [
       "True"
      ]
     },
     "execution_count": 172,
     "metadata": {},
     "output_type": "execute_result"
    }
   ],
   "source": [
    "'Delhi' in complete_cities_month"
   ]
  },
  {
   "cell_type": "code",
   "execution_count": 173,
   "metadata": {},
   "outputs": [],
   "source": [
    "sel_cities = ['Barcelona', 'Madrid', 'Paris', 'New York', 'Berlin', 'San Francisco', 'Bangkok', 'Rotterdam', 'Zürich', 'Los Ángeles', 'Buenos Aires', 'Jerusalem', 'Melbourne', \\\n",
    "             'Tokyo', 'Delhi']"
   ]
  },
  {
   "cell_type": "code",
   "execution_count": 174,
   "metadata": {},
   "outputs": [
    {
     "data": {
      "text/html": [
       "<div>\n",
       "<style scoped>\n",
       "    .dataframe tbody tr th:only-of-type {\n",
       "        vertical-align: middle;\n",
       "    }\n",
       "\n",
       "    .dataframe tbody tr th {\n",
       "        vertical-align: top;\n",
       "    }\n",
       "\n",
       "    .dataframe thead th {\n",
       "        text-align: right;\n",
       "    }\n",
       "</style>\n",
       "<table border=\"1\" class=\"dataframe\">\n",
       "  <thead>\n",
       "    <tr style=\"text-align: right;\">\n",
       "      <th></th>\n",
       "      <th>Date</th>\n",
       "      <th>Country</th>\n",
       "      <th>Country_name</th>\n",
       "      <th>City</th>\n",
       "      <th>cou_pop_density</th>\n",
       "      <th>Total_no_points</th>\n",
       "      <th>Most_present_pollutant</th>\n",
       "      <th>No_points</th>\n",
       "      <th>AQI</th>\n",
       "      <th>std_dev</th>\n",
       "      <th>conf_interval_95%</th>\n",
       "    </tr>\n",
       "  </thead>\n",
       "  <tbody>\n",
       "    <tr>\n",
       "      <th>0</th>\n",
       "      <td>2019-01-01</td>\n",
       "      <td>AE</td>\n",
       "      <td>United Arab Emirates</td>\n",
       "      <td>Abu Dhabi</td>\n",
       "      <td>135.609110</td>\n",
       "      <td>119</td>\n",
       "      <td>pm25</td>\n",
       "      <td>31</td>\n",
       "      <td>109.161290</td>\n",
       "      <td>5.040955</td>\n",
       "      <td>10.295004</td>\n",
       "    </tr>\n",
       "    <tr>\n",
       "      <th>4883</th>\n",
       "      <td>2019-01-01</td>\n",
       "      <td>GB</td>\n",
       "      <td>United Kingdom</td>\n",
       "      <td>Newport</td>\n",
       "      <td>274.708982</td>\n",
       "      <td>186</td>\n",
       "      <td>pm25</td>\n",
       "      <td>31</td>\n",
       "      <td>36.483871</td>\n",
       "      <td>3.530710</td>\n",
       "      <td>7.210672</td>\n",
       "    </tr>\n",
       "    <tr>\n",
       "      <th>1493</th>\n",
       "      <td>2019-01-01</td>\n",
       "      <td>US</td>\n",
       "      <td>United States</td>\n",
       "      <td>Omaha</td>\n",
       "      <td>35.713622</td>\n",
       "      <td>129</td>\n",
       "      <td>pm25</td>\n",
       "      <td>31</td>\n",
       "      <td>32.806452</td>\n",
       "      <td>2.599696</td>\n",
       "      <td>5.309287</td>\n",
       "    </tr>\n",
       "    <tr>\n",
       "      <th>1505</th>\n",
       "      <td>2019-01-01</td>\n",
       "      <td>US</td>\n",
       "      <td>United States</td>\n",
       "      <td>El Paso</td>\n",
       "      <td>35.713622</td>\n",
       "      <td>124</td>\n",
       "      <td>pm25</td>\n",
       "      <td>31</td>\n",
       "      <td>30.612903</td>\n",
       "      <td>2.030300</td>\n",
       "      <td>4.146425</td>\n",
       "    </tr>\n",
       "    <tr>\n",
       "      <th>4102</th>\n",
       "      <td>2019-01-01</td>\n",
       "      <td>DE</td>\n",
       "      <td>Germany</td>\n",
       "      <td>Augsburg</td>\n",
       "      <td>237.294012</td>\n",
       "      <td>124</td>\n",
       "      <td>o3</td>\n",
       "      <td>31</td>\n",
       "      <td>15.967742</td>\n",
       "      <td>1.149740</td>\n",
       "      <td>2.348082</td>\n",
       "    </tr>\n",
       "    <tr>\n",
       "      <th>...</th>\n",
       "      <td>...</td>\n",
       "      <td>...</td>\n",
       "      <td>...</td>\n",
       "      <td>...</td>\n",
       "      <td>...</td>\n",
       "      <td>...</td>\n",
       "      <td>...</td>\n",
       "      <td>...</td>\n",
       "      <td>...</td>\n",
       "      <td>...</td>\n",
       "      <td>...</td>\n",
       "    </tr>\n",
       "    <tr>\n",
       "      <th>14446</th>\n",
       "      <td>2021-03-01</td>\n",
       "      <td>FR</td>\n",
       "      <td>France</td>\n",
       "      <td>Rennes</td>\n",
       "      <td>122.299435</td>\n",
       "      <td>75</td>\n",
       "      <td>pm25</td>\n",
       "      <td>25</td>\n",
       "      <td>50.520000</td>\n",
       "      <td>4.043017</td>\n",
       "      <td>8.344376</td>\n",
       "    </tr>\n",
       "    <tr>\n",
       "      <th>15168</th>\n",
       "      <td>2021-03-01</td>\n",
       "      <td>GB</td>\n",
       "      <td>United Kingdom</td>\n",
       "      <td>Liverpool</td>\n",
       "      <td>274.708982</td>\n",
       "      <td>100</td>\n",
       "      <td>pm25</td>\n",
       "      <td>25</td>\n",
       "      <td>49.240000</td>\n",
       "      <td>6.165525</td>\n",
       "      <td>12.725018</td>\n",
       "    </tr>\n",
       "    <tr>\n",
       "      <th>14443</th>\n",
       "      <td>2021-03-01</td>\n",
       "      <td>FR</td>\n",
       "      <td>France</td>\n",
       "      <td>Nantes</td>\n",
       "      <td>122.299435</td>\n",
       "      <td>143</td>\n",
       "      <td>pm25</td>\n",
       "      <td>25</td>\n",
       "      <td>47.440000</td>\n",
       "      <td>4.101933</td>\n",
       "      <td>8.465974</td>\n",
       "    </tr>\n",
       "    <tr>\n",
       "      <th>14405</th>\n",
       "      <td>2021-03-01</td>\n",
       "      <td>US</td>\n",
       "      <td>United States</td>\n",
       "      <td>Columbus</td>\n",
       "      <td>35.713622</td>\n",
       "      <td>98</td>\n",
       "      <td>pm25</td>\n",
       "      <td>25</td>\n",
       "      <td>34.040000</td>\n",
       "      <td>2.677001</td>\n",
       "      <td>5.525059</td>\n",
       "    </tr>\n",
       "    <tr>\n",
       "      <th>15695</th>\n",
       "      <td>2021-03-01</td>\n",
       "      <td>GH</td>\n",
       "      <td>Ghana</td>\n",
       "      <td>Accra</td>\n",
       "      <td>130.821429</td>\n",
       "      <td>25</td>\n",
       "      <td>pm25</td>\n",
       "      <td>25</td>\n",
       "      <td>81.200000</td>\n",
       "      <td>2.605840</td>\n",
       "      <td>5.378189</td>\n",
       "    </tr>\n",
       "  </tbody>\n",
       "</table>\n",
       "<p>15696 rows × 11 columns</p>\n",
       "</div>"
      ],
      "text/plain": [
       "            Date Country          Country_name       City  cou_pop_density  \\\n",
       "0     2019-01-01      AE  United Arab Emirates  Abu Dhabi       135.609110   \n",
       "4883  2019-01-01      GB        United Kingdom    Newport       274.708982   \n",
       "1493  2019-01-01      US         United States      Omaha        35.713622   \n",
       "1505  2019-01-01      US         United States    El Paso        35.713622   \n",
       "4102  2019-01-01      DE               Germany   Augsburg       237.294012   \n",
       "...          ...     ...                   ...        ...              ...   \n",
       "14446 2021-03-01      FR                France     Rennes       122.299435   \n",
       "15168 2021-03-01      GB        United Kingdom  Liverpool       274.708982   \n",
       "14443 2021-03-01      FR                France     Nantes       122.299435   \n",
       "14405 2021-03-01      US         United States   Columbus        35.713622   \n",
       "15695 2021-03-01      GH                 Ghana      Accra       130.821429   \n",
       "\n",
       "       Total_no_points Most_present_pollutant  No_points         AQI  \\\n",
       "0                  119                   pm25         31  109.161290   \n",
       "4883               186                   pm25         31   36.483871   \n",
       "1493               129                   pm25         31   32.806452   \n",
       "1505               124                   pm25         31   30.612903   \n",
       "4102               124                     o3         31   15.967742   \n",
       "...                ...                    ...        ...         ...   \n",
       "14446               75                   pm25         25   50.520000   \n",
       "15168              100                   pm25         25   49.240000   \n",
       "14443              143                   pm25         25   47.440000   \n",
       "14405               98                   pm25         25   34.040000   \n",
       "15695               25                   pm25         25   81.200000   \n",
       "\n",
       "        std_dev  conf_interval_95%  \n",
       "0      5.040955          10.295004  \n",
       "4883   3.530710           7.210672  \n",
       "1493   2.599696           5.309287  \n",
       "1505   2.030300           4.146425  \n",
       "4102   1.149740           2.348082  \n",
       "...         ...                ...  \n",
       "14446  4.043017           8.344376  \n",
       "15168  6.165525          12.725018  \n",
       "14443  4.101933           8.465974  \n",
       "14405  2.677001           5.525059  \n",
       "15695  2.605840           5.378189  \n",
       "\n",
       "[15696 rows x 11 columns]"
      ]
     },
     "execution_count": 174,
     "metadata": {},
     "output_type": "execute_result"
    }
   ],
   "source": [
    "month_city_AQI_df"
   ]
  },
  {
   "cell_type": "code",
   "execution_count": 175,
   "metadata": {},
   "outputs": [],
   "source": [
    "df_19_cities = month_city_AQI_df[(month_city_AQI_df.City.apply(lambda cell: cell in sel_cities)) & (month_city_AQI_df.Date.dt.year ==2019)]\n",
    "df_20_cities = month_city_AQI_df[(month_city_AQI_df.City.apply(lambda cell: cell in sel_cities)) & (month_city_AQI_df.Date.dt.year ==2020)]\n"
   ]
  },
  {
   "cell_type": "code",
   "execution_count": 176,
   "metadata": {},
   "outputs": [
    {
     "data": {
      "text/plain": [
       "(168, 168)"
      ]
     },
     "execution_count": 176,
     "metadata": {},
     "output_type": "execute_result"
    }
   ],
   "source": [
    "df_19_cities.shape[0], df_20_cities.shape[0]"
   ]
  },
  {
   "cell_type": "code",
   "execution_count": 177,
   "metadata": {},
   "outputs": [
    {
     "data": {
      "text/html": [
       "<div>\n",
       "<style scoped>\n",
       "    .dataframe tbody tr th:only-of-type {\n",
       "        vertical-align: middle;\n",
       "    }\n",
       "\n",
       "    .dataframe tbody tr th {\n",
       "        vertical-align: top;\n",
       "    }\n",
       "\n",
       "    .dataframe thead th {\n",
       "        text-align: right;\n",
       "    }\n",
       "</style>\n",
       "<table border=\"1\" class=\"dataframe\">\n",
       "  <thead>\n",
       "    <tr style=\"text-align: right;\">\n",
       "      <th></th>\n",
       "      <th>Date</th>\n",
       "      <th>Country</th>\n",
       "      <th>Country_name</th>\n",
       "      <th>City</th>\n",
       "      <th>cou_pop_density</th>\n",
       "      <th>Total_no_points</th>\n",
       "      <th>Most_present_pollutant</th>\n",
       "      <th>No_points</th>\n",
       "      <th>AQI_20</th>\n",
       "      <th>std_dev</th>\n",
       "      <th>conf_interval_95%</th>\n",
       "      <th>AQI</th>\n",
       "      <th>Month</th>\n",
       "    </tr>\n",
       "  </thead>\n",
       "  <tbody>\n",
       "    <tr>\n",
       "      <th>0</th>\n",
       "      <td>2020-01-01</td>\n",
       "      <td>NL</td>\n",
       "      <td>Netherlands</td>\n",
       "      <td>Rotterdam</td>\n",
       "      <td>511.779745</td>\n",
       "      <td>180</td>\n",
       "      <td>pm25</td>\n",
       "      <td>36</td>\n",
       "      <td>51.083333</td>\n",
       "      <td>4.086521</td>\n",
       "      <td>8.296078</td>\n",
       "      <td>34.741935</td>\n",
       "      <td>1</td>\n",
       "    </tr>\n",
       "    <tr>\n",
       "      <th>1</th>\n",
       "      <td>2020-01-01</td>\n",
       "      <td>US</td>\n",
       "      <td>United States</td>\n",
       "      <td>San Francisco</td>\n",
       "      <td>35.713622</td>\n",
       "      <td>180</td>\n",
       "      <td>pm25</td>\n",
       "      <td>36</td>\n",
       "      <td>29.000000</td>\n",
       "      <td>1.647107</td>\n",
       "      <td>3.343806</td>\n",
       "      <td>50.193548</td>\n",
       "      <td>1</td>\n",
       "    </tr>\n",
       "    <tr>\n",
       "      <th>2</th>\n",
       "      <td>2020-01-01</td>\n",
       "      <td>FR</td>\n",
       "      <td>France</td>\n",
       "      <td>Paris</td>\n",
       "      <td>122.299435</td>\n",
       "      <td>216</td>\n",
       "      <td>pm25</td>\n",
       "      <td>36</td>\n",
       "      <td>52.583333</td>\n",
       "      <td>4.535589</td>\n",
       "      <td>9.207735</td>\n",
       "      <td>49.806452</td>\n",
       "      <td>1</td>\n",
       "    </tr>\n",
       "    <tr>\n",
       "      <th>3</th>\n",
       "      <td>2020-01-01</td>\n",
       "      <td>JP</td>\n",
       "      <td>Japan</td>\n",
       "      <td>Tokyo</td>\n",
       "      <td>347.130590</td>\n",
       "      <td>216</td>\n",
       "      <td>pm25</td>\n",
       "      <td>36</td>\n",
       "      <td>35.777778</td>\n",
       "      <td>3.059117</td>\n",
       "      <td>6.210337</td>\n",
       "      <td>252.129032</td>\n",
       "      <td>1</td>\n",
       "    </tr>\n",
       "    <tr>\n",
       "      <th>4</th>\n",
       "      <td>2020-01-01</td>\n",
       "      <td>IL</td>\n",
       "      <td>Israel</td>\n",
       "      <td>Jerusalem</td>\n",
       "      <td>410.480591</td>\n",
       "      <td>209</td>\n",
       "      <td>pm25</td>\n",
       "      <td>34</td>\n",
       "      <td>47.617647</td>\n",
       "      <td>1.786636</td>\n",
       "      <td>3.634938</td>\n",
       "      <td>69.129032</td>\n",
       "      <td>1</td>\n",
       "    </tr>\n",
       "    <tr>\n",
       "      <th>...</th>\n",
       "      <td>...</td>\n",
       "      <td>...</td>\n",
       "      <td>...</td>\n",
       "      <td>...</td>\n",
       "      <td>...</td>\n",
       "      <td>...</td>\n",
       "      <td>...</td>\n",
       "      <td>...</td>\n",
       "      <td>...</td>\n",
       "      <td>...</td>\n",
       "      <td>...</td>\n",
       "      <td>...</td>\n",
       "      <td>...</td>\n",
       "    </tr>\n",
       "    <tr>\n",
       "      <th>163</th>\n",
       "      <td>2020-12-01</td>\n",
       "      <td>FR</td>\n",
       "      <td>France</td>\n",
       "      <td>Paris</td>\n",
       "      <td>122.299435</td>\n",
       "      <td>210</td>\n",
       "      <td>pm25</td>\n",
       "      <td>35</td>\n",
       "      <td>38.600000</td>\n",
       "      <td>2.275047</td>\n",
       "      <td>4.623451</td>\n",
       "      <td>47.242424</td>\n",
       "      <td>12</td>\n",
       "    </tr>\n",
       "    <tr>\n",
       "      <th>164</th>\n",
       "      <td>2020-12-01</td>\n",
       "      <td>US</td>\n",
       "      <td>United States</td>\n",
       "      <td>San Francisco</td>\n",
       "      <td>35.713622</td>\n",
       "      <td>174</td>\n",
       "      <td>pm25</td>\n",
       "      <td>35</td>\n",
       "      <td>34.428571</td>\n",
       "      <td>2.950278</td>\n",
       "      <td>5.995686</td>\n",
       "      <td>55.000000</td>\n",
       "      <td>12</td>\n",
       "    </tr>\n",
       "    <tr>\n",
       "      <th>165</th>\n",
       "      <td>2020-12-01</td>\n",
       "      <td>JP</td>\n",
       "      <td>Japan</td>\n",
       "      <td>Tokyo</td>\n",
       "      <td>347.130590</td>\n",
       "      <td>210</td>\n",
       "      <td>pm25</td>\n",
       "      <td>35</td>\n",
       "      <td>43.542857</td>\n",
       "      <td>3.354033</td>\n",
       "      <td>6.816216</td>\n",
       "      <td>21.363636</td>\n",
       "      <td>12</td>\n",
       "    </tr>\n",
       "    <tr>\n",
       "      <th>166</th>\n",
       "      <td>2020-12-01</td>\n",
       "      <td>NL</td>\n",
       "      <td>Netherlands</td>\n",
       "      <td>Rotterdam</td>\n",
       "      <td>511.779745</td>\n",
       "      <td>175</td>\n",
       "      <td>pm25</td>\n",
       "      <td>35</td>\n",
       "      <td>40.800000</td>\n",
       "      <td>2.955396</td>\n",
       "      <td>6.006088</td>\n",
       "      <td>41.121212</td>\n",
       "      <td>12</td>\n",
       "    </tr>\n",
       "    <tr>\n",
       "      <th>167</th>\n",
       "      <td>2020-12-01</td>\n",
       "      <td>AU</td>\n",
       "      <td>Australia</td>\n",
       "      <td>Melbourne</td>\n",
       "      <td>3.247871</td>\n",
       "      <td>210</td>\n",
       "      <td>pm25</td>\n",
       "      <td>35</td>\n",
       "      <td>22.200000</td>\n",
       "      <td>0.789523</td>\n",
       "      <td>1.604504</td>\n",
       "      <td>104.727273</td>\n",
       "      <td>12</td>\n",
       "    </tr>\n",
       "  </tbody>\n",
       "</table>\n",
       "<p>168 rows × 13 columns</p>\n",
       "</div>"
      ],
      "text/plain": [
       "          Date Country   Country_name           City  cou_pop_density  \\\n",
       "0   2020-01-01      NL    Netherlands      Rotterdam       511.779745   \n",
       "1   2020-01-01      US  United States  San Francisco        35.713622   \n",
       "2   2020-01-01      FR         France          Paris       122.299435   \n",
       "3   2020-01-01      JP          Japan          Tokyo       347.130590   \n",
       "4   2020-01-01      IL         Israel      Jerusalem       410.480591   \n",
       "..         ...     ...            ...            ...              ...   \n",
       "163 2020-12-01      FR         France          Paris       122.299435   \n",
       "164 2020-12-01      US  United States  San Francisco        35.713622   \n",
       "165 2020-12-01      JP          Japan          Tokyo       347.130590   \n",
       "166 2020-12-01      NL    Netherlands      Rotterdam       511.779745   \n",
       "167 2020-12-01      AU      Australia      Melbourne         3.247871   \n",
       "\n",
       "     Total_no_points Most_present_pollutant  No_points     AQI_20   std_dev  \\\n",
       "0                180                   pm25         36  51.083333  4.086521   \n",
       "1                180                   pm25         36  29.000000  1.647107   \n",
       "2                216                   pm25         36  52.583333  4.535589   \n",
       "3                216                   pm25         36  35.777778  3.059117   \n",
       "4                209                   pm25         34  47.617647  1.786636   \n",
       "..               ...                    ...        ...        ...       ...   \n",
       "163              210                   pm25         35  38.600000  2.275047   \n",
       "164              174                   pm25         35  34.428571  2.950278   \n",
       "165              210                   pm25         35  43.542857  3.354033   \n",
       "166              175                   pm25         35  40.800000  2.955396   \n",
       "167              210                   pm25         35  22.200000  0.789523   \n",
       "\n",
       "     conf_interval_95%         AQI  Month  \n",
       "0             8.296078   34.741935      1  \n",
       "1             3.343806   50.193548      1  \n",
       "2             9.207735   49.806452      1  \n",
       "3             6.210337  252.129032      1  \n",
       "4             3.634938   69.129032      1  \n",
       "..                 ...         ...    ...  \n",
       "163           4.623451   47.242424     12  \n",
       "164           5.995686   55.000000     12  \n",
       "165           6.816216   21.363636     12  \n",
       "166           6.006088   41.121212     12  \n",
       "167           1.604504  104.727273     12  \n",
       "\n",
       "[168 rows x 13 columns]"
      ]
     },
     "execution_count": 177,
     "metadata": {},
     "output_type": "execute_result"
    }
   ],
   "source": [
    "df_anim = pd.concat([df_20_cities.rename(columns={'AQI': 'AQI_20'}).reset_index(drop=True), df_19_cities.AQI.reset_index(drop=True)], axis=1)\n",
    "df_anim = pd.concat([df_anim.reset_index(drop=True), df_anim.Date.dt.month.reset_index(drop=True).rename('Month')], axis=1)\n",
    "df_anim"
   ]
  },
  {
   "cell_type": "code",
   "execution_count": 180,
   "metadata": {},
   "outputs": [
    {
     "data": {
      "application/vnd.plotly.v1+json": {
       "config": {
        "plotlyServerURL": "https://plot.ly"
       },
       "data": [
        {
         "hovertemplate": "<b>%{hovertext}</b><br><br>Country_name=Netherlands<br>Month=12<br>AQI=%{x}<br>AQI_20=%{y}<br>size=%{marker.size}<extra></extra>",
         "hovertext": [
          "Rotterdam"
         ],
         "ids": [
          "Netherlands"
         ],
         "legendgroup": "Netherlands",
         "marker": {
          "color": "#636efa",
          "size": [
           1
          ],
          "sizemode": "area",
          "sizeref": 0.00033057851239669424,
          "symbol": "circle"
         },
         "mode": "markers",
         "name": "Netherlands",
         "orientation": "v",
         "showlegend": true,
         "type": "scatter",
         "x": [
          41.121212121212125
         ],
         "xaxis": "x",
         "y": [
          40.8
         ],
         "yaxis": "y"
        },
        {
         "hovertemplate": "<b>%{hovertext}</b><br><br>Country_name=United States<br>Month=12<br>AQI=%{x}<br>AQI_20=%{y}<br>size=%{marker.size}<extra></extra>",
         "hovertext": [
          "San Francisco"
         ],
         "ids": [
          "United States"
         ],
         "legendgroup": "United States",
         "marker": {
          "color": "#EF553B",
          "size": [
           1
          ],
          "sizemode": "area",
          "sizeref": 0.00033057851239669424,
          "symbol": "circle"
         },
         "mode": "markers",
         "name": "United States",
         "orientation": "v",
         "showlegend": true,
         "type": "scatter",
         "x": [
          55
         ],
         "xaxis": "x",
         "y": [
          34.42857142857143
         ],
         "yaxis": "y"
        },
        {
         "hovertemplate": "<b>%{hovertext}</b><br><br>Country_name=France<br>Month=12<br>AQI=%{x}<br>AQI_20=%{y}<br>size=%{marker.size}<extra></extra>",
         "hovertext": [
          "Paris"
         ],
         "ids": [
          "France"
         ],
         "legendgroup": "France",
         "marker": {
          "color": "#00cc96",
          "size": [
           1
          ],
          "sizemode": "area",
          "sizeref": 0.00033057851239669424,
          "symbol": "circle"
         },
         "mode": "markers",
         "name": "France",
         "orientation": "v",
         "showlegend": true,
         "type": "scatter",
         "x": [
          47.24242424242424
         ],
         "xaxis": "x",
         "y": [
          38.6
         ],
         "yaxis": "y"
        },
        {
         "hovertemplate": "<b>%{hovertext}</b><br><br>Country_name=Japan<br>Month=12<br>AQI=%{x}<br>AQI_20=%{y}<br>size=%{marker.size}<extra></extra>",
         "hovertext": [
          "Tokyo"
         ],
         "ids": [
          "Japan"
         ],
         "legendgroup": "Japan",
         "marker": {
          "color": "#ab63fa",
          "size": [
           1
          ],
          "sizemode": "area",
          "sizeref": 0.00033057851239669424,
          "symbol": "circle"
         },
         "mode": "markers",
         "name": "Japan",
         "orientation": "v",
         "showlegend": true,
         "type": "scatter",
         "x": [
          21.363636363636363
         ],
         "xaxis": "x",
         "y": [
          43.542857142857144
         ],
         "yaxis": "y"
        },
        {
         "hovertemplate": "<b>%{hovertext}</b><br><br>Country_name=Israel<br>Month=12<br>AQI=%{x}<br>AQI_20=%{y}<br>size=%{marker.size}<extra></extra>",
         "hovertext": [
          "Jerusalem"
         ],
         "ids": [
          "Israel"
         ],
         "legendgroup": "Israel",
         "marker": {
          "color": "#FFA15A",
          "size": [
           1
          ],
          "sizemode": "area",
          "sizeref": 0.00033057851239669424,
          "symbol": "circle"
         },
         "mode": "markers",
         "name": "Israel",
         "orientation": "v",
         "showlegend": true,
         "type": "scatter",
         "x": [
          40.27272727272727
         ],
         "xaxis": "x",
         "y": [
          58.74285714285714
         ],
         "yaxis": "y"
        },
        {
         "hovertemplate": "<b>%{hovertext}</b><br><br>Country_name=India<br>Month=12<br>AQI=%{x}<br>AQI_20=%{y}<br>size=%{marker.size}<extra></extra>",
         "hovertext": [
          "Delhi"
         ],
         "ids": [
          "India"
         ],
         "legendgroup": "India",
         "marker": {
          "color": "#19d3f3",
          "size": [
           1
          ],
          "sizemode": "area",
          "sizeref": 0.00033057851239669424,
          "symbol": "circle"
         },
         "mode": "markers",
         "name": "India",
         "orientation": "v",
         "showlegend": true,
         "type": "scatter",
         "x": [
          48.39393939393939
         ],
         "xaxis": "x",
         "y": [
          246.68571428571428
         ],
         "yaxis": "y"
        },
        {
         "hovertemplate": "<b>%{hovertext}</b><br><br>Country_name=Australia<br>Month=12<br>AQI=%{x}<br>AQI_20=%{y}<br>size=%{marker.size}<extra></extra>",
         "hovertext": [
          "Melbourne"
         ],
         "ids": [
          "Australia"
         ],
         "legendgroup": "Australia",
         "marker": {
          "color": "#FF6692",
          "size": [
           1
          ],
          "sizemode": "area",
          "sizeref": 0.00033057851239669424,
          "symbol": "circle"
         },
         "mode": "markers",
         "name": "Australia",
         "orientation": "v",
         "showlegend": true,
         "type": "scatter",
         "x": [
          104.72727272727273
         ],
         "xaxis": "x",
         "y": [
          22.2
         ],
         "yaxis": "y"
        },
        {
         "hovertemplate": "<b>%{hovertext}</b><br><br>Country_name=Thailand<br>Month=12<br>AQI=%{x}<br>AQI_20=%{y}<br>size=%{marker.size}<extra></extra>",
         "hovertext": [
          "Bangkok"
         ],
         "ids": [
          "Thailand"
         ],
         "legendgroup": "Thailand",
         "marker": {
          "color": "#B6E880",
          "size": [
           1
          ],
          "sizemode": "area",
          "sizeref": 0.00033057851239669424,
          "symbol": "circle"
         },
         "mode": "markers",
         "name": "Thailand",
         "orientation": "v",
         "showlegend": true,
         "type": "scatter",
         "x": [
          26.12121212121212
         ],
         "xaxis": "x",
         "y": [
          92.17142857142858
         ],
         "yaxis": "y"
        },
        {
         "hovertemplate": "<b>%{hovertext}</b><br><br>Country_name=Argentina<br>Month=12<br>AQI=%{x}<br>AQI_20=%{y}<br>size=%{marker.size}<extra></extra>",
         "hovertext": [
          "Buenos Aires"
         ],
         "ids": [
          "Argentina"
         ],
         "legendgroup": "Argentina",
         "marker": {
          "color": "#FF97FF",
          "size": [
           1
          ],
          "sizemode": "area",
          "sizeref": 0.00033057851239669424,
          "symbol": "circle"
         },
         "mode": "markers",
         "name": "Argentina",
         "orientation": "v",
         "showlegend": true,
         "type": "scatter",
         "x": [
          40.03030303030303
         ],
         "xaxis": "x",
         "y": [
          32.65714285714286
         ],
         "yaxis": "y"
        },
        {
         "hovertemplate": "<b>%{hovertext}</b><br><br>Country_name=Spain<br>Month=12<br>AQI=%{x}<br>AQI_20=%{y}<br>size=%{marker.size}<extra></extra>",
         "hovertext": [
          "Barcelona",
          "Madrid"
         ],
         "ids": [
          "Spain",
          "Spain"
         ],
         "legendgroup": "Spain",
         "marker": {
          "color": "#FECB52",
          "size": [
           1,
           1
          ],
          "sizemode": "area",
          "sizeref": 0.00033057851239669424,
          "symbol": "circle"
         },
         "mode": "markers",
         "name": "Spain",
         "orientation": "v",
         "showlegend": true,
         "type": "scatter",
         "x": [
          12.678787878787878,
          55.03225806451613
         ],
         "xaxis": "x",
         "y": [
          17.142857142857142,
          31.228571428571428
         ],
         "yaxis": "y"
        },
        {
         "hovertemplate": "<b>%{hovertext}</b><br><br>Country_name=Switzerland<br>Month=12<br>AQI=%{x}<br>AQI_20=%{y}<br>size=%{marker.size}<extra></extra>",
         "hovertext": [
          "Zürich"
         ],
         "ids": [
          "Switzerland"
         ],
         "legendgroup": "Switzerland",
         "marker": {
          "color": "#636efa",
          "size": [
           1
          ],
          "sizemode": "area",
          "sizeref": 0.00033057851239669424,
          "symbol": "circle"
         },
         "mode": "markers",
         "name": "Switzerland",
         "orientation": "v",
         "showlegend": true,
         "type": "scatter",
         "x": [
          31.78787878787879
         ],
         "xaxis": "x",
         "y": [
          12.468571428571428
         ],
         "yaxis": "y"
        },
        {
         "hovertemplate": "<b>%{hovertext}</b><br><br>Country_name=Chile<br>Month=12<br>AQI=%{x}<br>AQI_20=%{y}<br>size=%{marker.size}<extra></extra>",
         "hovertext": [
          "Los Ángeles"
         ],
         "ids": [
          "Chile"
         ],
         "legendgroup": "Chile",
         "marker": {
          "color": "#EF553B",
          "size": [
           1
          ],
          "sizemode": "area",
          "sizeref": 0.00033057851239669424,
          "symbol": "circle"
         },
         "mode": "markers",
         "name": "Chile",
         "orientation": "v",
         "showlegend": true,
         "type": "scatter",
         "x": [
          259.93939393939394
         ],
         "xaxis": "x",
         "y": [
          24.97142857142857
         ],
         "yaxis": "y"
        },
        {
         "hovertemplate": "<b>%{hovertext}</b><br><br>Country_name=Germany<br>Month=12<br>AQI=%{x}<br>AQI_20=%{y}<br>size=%{marker.size}<extra></extra>",
         "hovertext": [
          "Berlin"
         ],
         "ids": [
          "Germany"
         ],
         "legendgroup": "Germany",
         "marker": {
          "color": "#00cc96",
          "size": [
           1
          ],
          "sizemode": "area",
          "sizeref": 0.00033057851239669424,
          "symbol": "circle"
         },
         "mode": "markers",
         "name": "Germany",
         "orientation": "v",
         "showlegend": true,
         "type": "scatter",
         "x": [
          37.21875
         ],
         "xaxis": "x",
         "y": [
          58.41379310344828
         ],
         "yaxis": "y"
        }
       ],
       "frames": [
        {
         "data": [
          {
           "hovertemplate": "<b>%{hovertext}</b><br><br>Country_name=Netherlands<br>Month=1<br>AQI=%{x}<br>AQI_20=%{y}<br>size=%{marker.size}<extra></extra>",
           "hovertext": [
            "Rotterdam"
           ],
           "ids": [
            "Netherlands"
           ],
           "legendgroup": "Netherlands",
           "marker": {
            "color": "#636efa",
            "size": [
             1
            ],
            "sizemode": "area",
            "sizeref": 0.00033057851239669424,
            "symbol": "circle"
           },
           "mode": "markers",
           "name": "Netherlands",
           "orientation": "v",
           "showlegend": true,
           "type": "scatter",
           "x": [
            34.74193548387097
           ],
           "xaxis": "x",
           "y": [
            51.083333333333336
           ],
           "yaxis": "y"
          },
          {
           "hovertemplate": "<b>%{hovertext}</b><br><br>Country_name=United States<br>Month=1<br>AQI=%{x}<br>AQI_20=%{y}<br>size=%{marker.size}<extra></extra>",
           "hovertext": [
            "San Francisco"
           ],
           "ids": [
            "United States"
           ],
           "legendgroup": "United States",
           "marker": {
            "color": "#EF553B",
            "size": [
             1
            ],
            "sizemode": "area",
            "sizeref": 0.00033057851239669424,
            "symbol": "circle"
           },
           "mode": "markers",
           "name": "United States",
           "orientation": "v",
           "showlegend": true,
           "type": "scatter",
           "x": [
            50.193548387096776
           ],
           "xaxis": "x",
           "y": [
            29
           ],
           "yaxis": "y"
          },
          {
           "hovertemplate": "<b>%{hovertext}</b><br><br>Country_name=France<br>Month=1<br>AQI=%{x}<br>AQI_20=%{y}<br>size=%{marker.size}<extra></extra>",
           "hovertext": [
            "Paris"
           ],
           "ids": [
            "France"
           ],
           "legendgroup": "France",
           "marker": {
            "color": "#00cc96",
            "size": [
             1
            ],
            "sizemode": "area",
            "sizeref": 0.00033057851239669424,
            "symbol": "circle"
           },
           "mode": "markers",
           "name": "France",
           "orientation": "v",
           "showlegend": true,
           "type": "scatter",
           "x": [
            49.806451612903224
           ],
           "xaxis": "x",
           "y": [
            52.583333333333336
           ],
           "yaxis": "y"
          },
          {
           "hovertemplate": "<b>%{hovertext}</b><br><br>Country_name=Japan<br>Month=1<br>AQI=%{x}<br>AQI_20=%{y}<br>size=%{marker.size}<extra></extra>",
           "hovertext": [
            "Tokyo"
           ],
           "ids": [
            "Japan"
           ],
           "legendgroup": "Japan",
           "marker": {
            "color": "#ab63fa",
            "size": [
             1
            ],
            "sizemode": "area",
            "sizeref": 0.00033057851239669424,
            "symbol": "circle"
           },
           "mode": "markers",
           "name": "Japan",
           "orientation": "v",
           "showlegend": true,
           "type": "scatter",
           "x": [
            252.1290322580645
           ],
           "xaxis": "x",
           "y": [
            35.77777777777778
           ],
           "yaxis": "y"
          },
          {
           "hovertemplate": "<b>%{hovertext}</b><br><br>Country_name=Israel<br>Month=1<br>AQI=%{x}<br>AQI_20=%{y}<br>size=%{marker.size}<extra></extra>",
           "hovertext": [
            "Jerusalem"
           ],
           "ids": [
            "Israel"
           ],
           "legendgroup": "Israel",
           "marker": {
            "color": "#FFA15A",
            "size": [
             1
            ],
            "sizemode": "area",
            "sizeref": 0.00033057851239669424,
            "symbol": "circle"
           },
           "mode": "markers",
           "name": "Israel",
           "orientation": "v",
           "showlegend": true,
           "type": "scatter",
           "x": [
            69.12903225806451
           ],
           "xaxis": "x",
           "y": [
            47.61764705882353
           ],
           "yaxis": "y"
          },
          {
           "hovertemplate": "<b>%{hovertext}</b><br><br>Country_name=India<br>Month=1<br>AQI=%{x}<br>AQI_20=%{y}<br>size=%{marker.size}<extra></extra>",
           "hovertext": [
            "Delhi"
           ],
           "ids": [
            "India"
           ],
           "legendgroup": "India",
           "marker": {
            "color": "#19d3f3",
            "size": [
             1
            ],
            "sizemode": "area",
            "sizeref": 0.00033057851239669424,
            "symbol": "circle"
           },
           "mode": "markers",
           "name": "India",
           "orientation": "v",
           "showlegend": true,
           "type": "scatter",
           "x": [
            33.714285714285715
           ],
           "xaxis": "x",
           "y": [
            226.80555555555554
           ],
           "yaxis": "y"
          },
          {
           "hovertemplate": "<b>%{hovertext}</b><br><br>Country_name=Australia<br>Month=1<br>AQI=%{x}<br>AQI_20=%{y}<br>size=%{marker.size}<extra></extra>",
           "hovertext": [
            "Melbourne"
           ],
           "ids": [
            "Australia"
           ],
           "legendgroup": "Australia",
           "marker": {
            "color": "#FF6692",
            "size": [
             1
            ],
            "sizemode": "area",
            "sizeref": 0.00033057851239669424,
            "symbol": "circle"
           },
           "mode": "markers",
           "name": "Australia",
           "orientation": "v",
           "showlegend": true,
           "type": "scatter",
           "x": [
            129.06451612903226
           ],
           "xaxis": "x",
           "y": [
            55.666666666666664
           ],
           "yaxis": "y"
          },
          {
           "hovertemplate": "<b>%{hovertext}</b><br><br>Country_name=Thailand<br>Month=1<br>AQI=%{x}<br>AQI_20=%{y}<br>size=%{marker.size}<extra></extra>",
           "hovertext": [
            "Bangkok"
           ],
           "ids": [
            "Thailand"
           ],
           "legendgroup": "Thailand",
           "marker": {
            "color": "#B6E880",
            "size": [
             1
            ],
            "sizemode": "area",
            "sizeref": 0.00033057851239669424,
            "symbol": "circle"
           },
           "mode": "markers",
           "name": "Thailand",
           "orientation": "v",
           "showlegend": true,
           "type": "scatter",
           "x": [
            50.516129032258064
           ],
           "xaxis": "x",
           "y": [
            111.55555555555556
           ],
           "yaxis": "y"
          },
          {
           "hovertemplate": "<b>%{hovertext}</b><br><br>Country_name=Argentina<br>Month=1<br>AQI=%{x}<br>AQI_20=%{y}<br>size=%{marker.size}<extra></extra>",
           "hovertext": [
            "Buenos Aires"
           ],
           "ids": [
            "Argentina"
           ],
           "legendgroup": "Argentina",
           "marker": {
            "color": "#FF97FF",
            "size": [
             1
            ],
            "sizemode": "area",
            "sizeref": 0.00033057851239669424,
            "symbol": "circle"
           },
           "mode": "markers",
           "name": "Argentina",
           "orientation": "v",
           "showlegend": true,
           "type": "scatter",
           "x": [
            19.633333333333333
           ],
           "xaxis": "x",
           "y": [
            36.05882352941177
           ],
           "yaxis": "y"
          },
          {
           "hovertemplate": "<b>%{hovertext}</b><br><br>Country_name=Spain<br>Month=1<br>AQI=%{x}<br>AQI_20=%{y}<br>size=%{marker.size}<extra></extra>",
           "hovertext": [
            "Barcelona",
            "Madrid"
           ],
           "ids": [
            "Spain",
            "Spain"
           ],
           "legendgroup": "Spain",
           "marker": {
            "color": "#FECB52",
            "size": [
             1,
             1
            ],
            "sizemode": "area",
            "sizeref": 0.00033057851239669424,
            "symbol": "circle"
           },
           "mode": "markers",
           "name": "Spain",
           "orientation": "v",
           "showlegend": true,
           "type": "scatter",
           "x": [
            40.96774193548387,
            28.29032258064516
           ],
           "xaxis": "x",
           "y": [
            23.77777777777778,
            52.416666666666664
           ],
           "yaxis": "y"
          },
          {
           "hovertemplate": "<b>%{hovertext}</b><br><br>Country_name=Switzerland<br>Month=1<br>AQI=%{x}<br>AQI_20=%{y}<br>size=%{marker.size}<extra></extra>",
           "hovertext": [
            "Zürich"
           ],
           "ids": [
            "Switzerland"
           ],
           "legendgroup": "Switzerland",
           "marker": {
            "color": "#636efa",
            "size": [
             1
            ],
            "sizemode": "area",
            "sizeref": 0.00033057851239669424,
            "symbol": "circle"
           },
           "mode": "markers",
           "name": "Switzerland",
           "orientation": "v",
           "showlegend": true,
           "type": "scatter",
           "x": [
            56.41935483870968
           ],
           "xaxis": "x",
           "y": [
            14.758333333333335
           ],
           "yaxis": "y"
          },
          {
           "hovertemplate": "<b>%{hovertext}</b><br><br>Country_name=Chile<br>Month=1<br>AQI=%{x}<br>AQI_20=%{y}<br>size=%{marker.size}<extra></extra>",
           "hovertext": [
            "Los Ángeles"
           ],
           "ids": [
            "Chile"
           ],
           "legendgroup": "Chile",
           "marker": {
            "color": "#EF553B",
            "size": [
             1
            ],
            "sizemode": "area",
            "sizeref": 0.00033057851239669424,
            "symbol": "circle"
           },
           "mode": "markers",
           "name": "Chile",
           "orientation": "v",
           "showlegend": true,
           "type": "scatter",
           "x": [
            14.129032258064516
           ],
           "xaxis": "x",
           "y": [
            37.77777777777778
           ],
           "yaxis": "y"
          },
          {
           "hovertemplate": "<b>%{hovertext}</b><br><br>Country_name=Germany<br>Month=1<br>AQI=%{x}<br>AQI_20=%{y}<br>size=%{marker.size}<extra></extra>",
           "hovertext": [
            "Berlin"
           ],
           "ids": [
            "Germany"
           ],
           "legendgroup": "Germany",
           "marker": {
            "color": "#00cc96",
            "size": [
             1
            ],
            "sizemode": "area",
            "sizeref": 0.00033057851239669424,
            "symbol": "circle"
           },
           "mode": "markers",
           "name": "Germany",
           "orientation": "v",
           "showlegend": true,
           "type": "scatter",
           "x": [
            28.29032258064516
           ],
           "xaxis": "x",
           "y": [
            44
           ],
           "yaxis": "y"
          }
         ],
         "name": "1"
        },
        {
         "data": [
          {
           "hovertemplate": "<b>%{hovertext}</b><br><br>Country_name=Netherlands<br>Month=2<br>AQI=%{x}<br>AQI_20=%{y}<br>size=%{marker.size}<extra></extra>",
           "hovertext": [
            "Rotterdam"
           ],
           "ids": [
            "Netherlands"
           ],
           "legendgroup": "Netherlands",
           "marker": {
            "color": "#636efa",
            "size": [
             1
            ],
            "sizemode": "area",
            "sizeref": 0.00033057851239669424,
            "symbol": "circle"
           },
           "mode": "markers",
           "name": "Netherlands",
           "orientation": "v",
           "showlegend": true,
           "type": "scatter",
           "x": [
            26.535714285714285
           ],
           "xaxis": "x",
           "y": [
            34.62068965517241
           ],
           "yaxis": "y"
          },
          {
           "hovertemplate": "<b>%{hovertext}</b><br><br>Country_name=United States<br>Month=2<br>AQI=%{x}<br>AQI_20=%{y}<br>size=%{marker.size}<extra></extra>",
           "hovertext": [
            "San Francisco"
           ],
           "ids": [
            "United States"
           ],
           "legendgroup": "United States",
           "marker": {
            "color": "#EF553B",
            "size": [
             1
            ],
            "sizemode": "area",
            "sizeref": 0.00033057851239669424,
            "symbol": "circle"
           },
           "mode": "markers",
           "name": "United States",
           "orientation": "v",
           "showlegend": true,
           "type": "scatter",
           "x": [
            48.75
           ],
           "xaxis": "x",
           "y": [
            33.86206896551724
           ],
           "yaxis": "y"
          },
          {
           "hovertemplate": "<b>%{hovertext}</b><br><br>Country_name=France<br>Month=2<br>AQI=%{x}<br>AQI_20=%{y}<br>size=%{marker.size}<extra></extra>",
           "hovertext": [
            "Paris"
           ],
           "ids": [
            "France"
           ],
           "legendgroup": "France",
           "marker": {
            "color": "#00cc96",
            "size": [
             1
            ],
            "sizemode": "area",
            "sizeref": 0.00033057851239669424,
            "symbol": "circle"
           },
           "mode": "markers",
           "name": "France",
           "orientation": "v",
           "showlegend": true,
           "type": "scatter",
           "x": [
            28.321428571428573
           ],
           "xaxis": "x",
           "y": [
            32.96551724137931
           ],
           "yaxis": "y"
          },
          {
           "hovertemplate": "<b>%{hovertext}</b><br><br>Country_name=Japan<br>Month=2<br>AQI=%{x}<br>AQI_20=%{y}<br>size=%{marker.size}<extra></extra>",
           "hovertext": [
            "Tokyo"
           ],
           "ids": [
            "Japan"
           ],
           "legendgroup": "Japan",
           "marker": {
            "color": "#ab63fa",
            "size": [
             1
            ],
            "sizemode": "area",
            "sizeref": 0.00033057851239669424,
            "symbol": "circle"
           },
           "mode": "markers",
           "name": "Japan",
           "orientation": "v",
           "showlegend": true,
           "type": "scatter",
           "x": [
            70.10714285714286
           ],
           "xaxis": "x",
           "y": [
            40.6551724137931
           ],
           "yaxis": "y"
          },
          {
           "hovertemplate": "<b>%{hovertext}</b><br><br>Country_name=Israel<br>Month=2<br>AQI=%{x}<br>AQI_20=%{y}<br>size=%{marker.size}<extra></extra>",
           "hovertext": [
            "Jerusalem"
           ],
           "ids": [
            "Israel"
           ],
           "legendgroup": "Israel",
           "marker": {
            "color": "#FFA15A",
            "size": [
             1
            ],
            "sizemode": "area",
            "sizeref": 0.00033057851239669424,
            "symbol": "circle"
           },
           "mode": "markers",
           "name": "Israel",
           "orientation": "v",
           "showlegend": true,
           "type": "scatter",
           "x": [
            60.285714285714285
           ],
           "xaxis": "x",
           "y": [
            53.241379310344826
           ],
           "yaxis": "y"
          },
          {
           "hovertemplate": "<b>%{hovertext}</b><br><br>Country_name=India<br>Month=2<br>AQI=%{x}<br>AQI_20=%{y}<br>size=%{marker.size}<extra></extra>",
           "hovertext": [
            "Delhi"
           ],
           "ids": [
            "India"
           ],
           "legendgroup": "India",
           "marker": {
            "color": "#19d3f3",
            "size": [
             1
            ],
            "sizemode": "area",
            "sizeref": 0.00033057851239669424,
            "symbol": "circle"
           },
           "mode": "markers",
           "name": "India",
           "orientation": "v",
           "showlegend": true,
           "type": "scatter",
           "x": [
            184.85714285714286
           ],
           "xaxis": "x",
           "y": [
            181.06896551724137
           ],
           "yaxis": "y"
          },
          {
           "hovertemplate": "<b>%{hovertext}</b><br><br>Country_name=Australia<br>Month=2<br>AQI=%{x}<br>AQI_20=%{y}<br>size=%{marker.size}<extra></extra>",
           "hovertext": [
            "Melbourne"
           ],
           "ids": [
            "Australia"
           ],
           "legendgroup": "Australia",
           "marker": {
            "color": "#FF6692",
            "size": [
             1
            ],
            "sizemode": "area",
            "sizeref": 0.00033057851239669424,
            "symbol": "circle"
           },
           "mode": "markers",
           "name": "Australia",
           "orientation": "v",
           "showlegend": true,
           "type": "scatter",
           "x": [
            54.67857142857143
           ],
           "xaxis": "x",
           "y": [
            28.20689655172414
           ],
           "yaxis": "y"
          },
          {
           "hovertemplate": "<b>%{hovertext}</b><br><br>Country_name=Thailand<br>Month=2<br>AQI=%{x}<br>AQI_20=%{y}<br>size=%{marker.size}<extra></extra>",
           "hovertext": [
            "Bangkok"
           ],
           "ids": [
            "Thailand"
           ],
           "legendgroup": "Thailand",
           "marker": {
            "color": "#B6E880",
            "size": [
             1
            ],
            "sizemode": "area",
            "sizeref": 0.00033057851239669424,
            "symbol": "circle"
           },
           "mode": "markers",
           "name": "Thailand",
           "orientation": "v",
           "showlegend": true,
           "type": "scatter",
           "x": [
            51.285714285714285
           ],
           "xaxis": "x",
           "y": [
            113.41379310344827
           ],
           "yaxis": "y"
          },
          {
           "hovertemplate": "<b>%{hovertext}</b><br><br>Country_name=Argentina<br>Month=2<br>AQI=%{x}<br>AQI_20=%{y}<br>size=%{marker.size}<extra></extra>",
           "hovertext": [
            "Buenos Aires"
           ],
           "ids": [
            "Argentina"
           ],
           "legendgroup": "Argentina",
           "marker": {
            "color": "#FF97FF",
            "size": [
             1
            ],
            "sizemode": "area",
            "sizeref": 0.00033057851239669424,
            "symbol": "circle"
           },
           "mode": "markers",
           "name": "Argentina",
           "orientation": "v",
           "showlegend": true,
           "type": "scatter",
           "x": [
            65.60714285714286
           ],
           "xaxis": "x",
           "y": [
            34.724137931034484
           ],
           "yaxis": "y"
          },
          {
           "hovertemplate": "<b>%{hovertext}</b><br><br>Country_name=Spain<br>Month=2<br>AQI=%{x}<br>AQI_20=%{y}<br>size=%{marker.size}<extra></extra>",
           "hovertext": [
            "Madrid",
            "Barcelona"
           ],
           "ids": [
            "Spain",
            "Spain"
           ],
           "legendgroup": "Spain",
           "marker": {
            "color": "#FECB52",
            "size": [
             1,
             1
            ],
            "sizemode": "area",
            "sizeref": 0.00033057851239669424,
            "symbol": "circle"
           },
           "mode": "markers",
           "name": "Spain",
           "orientation": "v",
           "showlegend": true,
           "type": "scatter",
           "x": [
            17.892857142857142,
            70.03571428571429
           ],
           "xaxis": "x",
           "y": [
            54.206896551724135,
            26.06896551724138
           ],
           "yaxis": "y"
          },
          {
           "hovertemplate": "<b>%{hovertext}</b><br><br>Country_name=Switzerland<br>Month=2<br>AQI=%{x}<br>AQI_20=%{y}<br>size=%{marker.size}<extra></extra>",
           "hovertext": [
            "Zürich"
           ],
           "ids": [
            "Switzerland"
           ],
           "legendgroup": "Switzerland",
           "marker": {
            "color": "#636efa",
            "size": [
             1
            ],
            "sizemode": "area",
            "sizeref": 0.00033057851239669424,
            "symbol": "circle"
           },
           "mode": "markers",
           "name": "Switzerland",
           "orientation": "v",
           "showlegend": true,
           "type": "scatter",
           "x": [
            25
           ],
           "xaxis": "x",
           "y": [
            20.38620689655172
           ],
           "yaxis": "y"
          },
          {
           "hovertemplate": "<b>%{hovertext}</b><br><br>Country_name=Chile<br>Month=2<br>AQI=%{x}<br>AQI_20=%{y}<br>size=%{marker.size}<extra></extra>",
           "hovertext": [
            "Los Ángeles"
           ],
           "ids": [
            "Chile"
           ],
           "legendgroup": "Chile",
           "marker": {
            "color": "#EF553B",
            "size": [
             1
            ],
            "sizemode": "area",
            "sizeref": 0.00033057851239669424,
            "symbol": "circle"
           },
           "mode": "markers",
           "name": "Chile",
           "orientation": "v",
           "showlegend": true,
           "type": "scatter",
           "x": [
            38.04545454545455
           ],
           "xaxis": "x",
           "y": [
            30.20689655172414
           ],
           "yaxis": "y"
          },
          {
           "hovertemplate": "<b>%{hovertext}</b><br><br>Country_name=Germany<br>Month=2<br>AQI=%{x}<br>AQI_20=%{y}<br>size=%{marker.size}<extra></extra>",
           "hovertext": [
            "Berlin"
           ],
           "ids": [
            "Germany"
           ],
           "legendgroup": "Germany",
           "marker": {
            "color": "#00cc96",
            "size": [
             1
            ],
            "sizemode": "area",
            "sizeref": 0.00033057851239669424,
            "symbol": "circle"
           },
           "mode": "markers",
           "name": "Germany",
           "orientation": "v",
           "showlegend": true,
           "type": "scatter",
           "x": [
            77.21428571428571
           ],
           "xaxis": "x",
           "y": [
            27.448275862068964
           ],
           "yaxis": "y"
          }
         ],
         "name": "2"
        },
        {
         "data": [
          {
           "hovertemplate": "<b>%{hovertext}</b><br><br>Country_name=Netherlands<br>Month=3<br>AQI=%{x}<br>AQI_20=%{y}<br>size=%{marker.size}<extra></extra>",
           "hovertext": [
            "Rotterdam"
           ],
           "ids": [
            "Netherlands"
           ],
           "legendgroup": "Netherlands",
           "marker": {
            "color": "#636efa",
            "size": [
             1
            ],
            "sizemode": "area",
            "sizeref": 0.00033057851239669424,
            "symbol": "circle"
           },
           "mode": "markers",
           "name": "Netherlands",
           "orientation": "v",
           "showlegend": true,
           "type": "scatter",
           "x": [
            27.580645161290324
           ],
           "xaxis": "x",
           "y": [
            37.696969696969695
           ],
           "yaxis": "y"
          },
          {
           "hovertemplate": "<b>%{hovertext}</b><br><br>Country_name=United States<br>Month=3<br>AQI=%{x}<br>AQI_20=%{y}<br>size=%{marker.size}<extra></extra>",
           "hovertext": [
            "San Francisco"
           ],
           "ids": [
            "United States"
           ],
           "legendgroup": "United States",
           "marker": {
            "color": "#EF553B",
            "size": [
             1
            ],
            "sizemode": "area",
            "sizeref": 0.00033057851239669424,
            "symbol": "circle"
           },
           "mode": "markers",
           "name": "United States",
           "orientation": "v",
           "showlegend": true,
           "type": "scatter",
           "x": [
            23.78709677419355
           ],
           "xaxis": "x",
           "y": [
            25.884848484848487
           ],
           "yaxis": "y"
          },
          {
           "hovertemplate": "<b>%{hovertext}</b><br><br>Country_name=France<br>Month=3<br>AQI=%{x}<br>AQI_20=%{y}<br>size=%{marker.size}<extra></extra>",
           "hovertext": [
            "Paris"
           ],
           "ids": [
            "France"
           ],
           "legendgroup": "France",
           "marker": {
            "color": "#00cc96",
            "size": [
             1
            ],
            "sizemode": "area",
            "sizeref": 0.00033057851239669424,
            "symbol": "circle"
           },
           "mode": "markers",
           "name": "France",
           "orientation": "v",
           "showlegend": true,
           "type": "scatter",
           "x": [
            54.516129032258064
           ],
           "xaxis": "x",
           "y": [
            45.666666666666664
           ],
           "yaxis": "y"
          },
          {
           "hovertemplate": "<b>%{hovertext}</b><br><br>Country_name=Japan<br>Month=3<br>AQI=%{x}<br>AQI_20=%{y}<br>size=%{marker.size}<extra></extra>",
           "hovertext": [
            "Tokyo"
           ],
           "ids": [
            "Japan"
           ],
           "legendgroup": "Japan",
           "marker": {
            "color": "#ab63fa",
            "size": [
             1
            ],
            "sizemode": "area",
            "sizeref": 0.00033057851239669424,
            "symbol": "circle"
           },
           "mode": "markers",
           "name": "Japan",
           "orientation": "v",
           "showlegend": true,
           "type": "scatter",
           "x": [
            44.516129032258064
           ],
           "xaxis": "x",
           "y": [
            38.63636363636363
           ],
           "yaxis": "y"
          },
          {
           "hovertemplate": "<b>%{hovertext}</b><br><br>Country_name=Israel<br>Month=3<br>AQI=%{x}<br>AQI_20=%{y}<br>size=%{marker.size}<extra></extra>",
           "hovertext": [
            "Jerusalem"
           ],
           "ids": [
            "Israel"
           ],
           "legendgroup": "Israel",
           "marker": {
            "color": "#FFA15A",
            "size": [
             1
            ],
            "sizemode": "area",
            "sizeref": 0.00033057851239669424,
            "symbol": "circle"
           },
           "mode": "markers",
           "name": "Israel",
           "orientation": "v",
           "showlegend": true,
           "type": "scatter",
           "x": [
            37.516129032258064
           ],
           "xaxis": "x",
           "y": [
            60.24242424242424
           ],
           "yaxis": "y"
          },
          {
           "hovertemplate": "<b>%{hovertext}</b><br><br>Country_name=India<br>Month=3<br>AQI=%{x}<br>AQI_20=%{y}<br>size=%{marker.size}<extra></extra>",
           "hovertext": [
            "Delhi"
           ],
           "ids": [
            "India"
           ],
           "legendgroup": "India",
           "marker": {
            "color": "#19d3f3",
            "size": [
             1
            ],
            "sizemode": "area",
            "sizeref": 0.00033057851239669424,
            "symbol": "circle"
           },
           "mode": "markers",
           "name": "India",
           "orientation": "v",
           "showlegend": true,
           "type": "scatter",
           "x": [
            26.75483870967742
           ],
           "xaxis": "x",
           "y": [
            123.78787878787878
           ],
           "yaxis": "y"
          },
          {
           "hovertemplate": "<b>%{hovertext}</b><br><br>Country_name=Australia<br>Month=3<br>AQI=%{x}<br>AQI_20=%{y}<br>size=%{marker.size}<extra></extra>",
           "hovertext": [
            "Melbourne"
           ],
           "ids": [
            "Australia"
           ],
           "legendgroup": "Australia",
           "marker": {
            "color": "#FF6692",
            "size": [
             1
            ],
            "sizemode": "area",
            "sizeref": 0.00033057851239669424,
            "symbol": "circle"
           },
           "mode": "markers",
           "name": "Australia",
           "orientation": "v",
           "showlegend": true,
           "type": "scatter",
           "x": [
            34
           ],
           "xaxis": "x",
           "y": [
            19.09090909090909
           ],
           "yaxis": "y"
          },
          {
           "hovertemplate": "<b>%{hovertext}</b><br><br>Country_name=Thailand<br>Month=3<br>AQI=%{x}<br>AQI_20=%{y}<br>size=%{marker.size}<extra></extra>",
           "hovertext": [
            "Bangkok"
           ],
           "ids": [
            "Thailand"
           ],
           "legendgroup": "Thailand",
           "marker": {
            "color": "#B6E880",
            "size": [
             1
            ],
            "sizemode": "area",
            "sizeref": 0.00033057851239669424,
            "symbol": "circle"
           },
           "mode": "markers",
           "name": "Thailand",
           "orientation": "v",
           "showlegend": true,
           "type": "scatter",
           "x": [
            80.06451612903226
           ],
           "xaxis": "x",
           "y": [
            71.96969696969697
           ],
           "yaxis": "y"
          },
          {
           "hovertemplate": "<b>%{hovertext}</b><br><br>Country_name=Argentina<br>Month=3<br>AQI=%{x}<br>AQI_20=%{y}<br>size=%{marker.size}<extra></extra>",
           "hovertext": [
            "Buenos Aires"
           ],
           "ids": [
            "Argentina"
           ],
           "legendgroup": "Argentina",
           "marker": {
            "color": "#FF97FF",
            "size": [
             1
            ],
            "sizemode": "area",
            "sizeref": 0.00033057851239669424,
            "symbol": "circle"
           },
           "mode": "markers",
           "name": "Argentina",
           "orientation": "v",
           "showlegend": true,
           "type": "scatter",
           "x": [
            50.16129032258065
           ],
           "xaxis": "x",
           "y": [
            31.151515151515152
           ],
           "yaxis": "y"
          },
          {
           "hovertemplate": "<b>%{hovertext}</b><br><br>Country_name=Spain<br>Month=3<br>AQI=%{x}<br>AQI_20=%{y}<br>size=%{marker.size}<extra></extra>",
           "hovertext": [
            "Madrid",
            "Barcelona"
           ],
           "ids": [
            "Spain",
            "Spain"
           ],
           "legendgroup": "Spain",
           "marker": {
            "color": "#FECB52",
            "size": [
             1,
             1
            ],
            "sizemode": "area",
            "sizeref": 0.00033057851239669424,
            "symbol": "circle"
           },
           "mode": "markers",
           "name": "Spain",
           "orientation": "v",
           "showlegend": true,
           "type": "scatter",
           "x": [
            159.32258064516128,
            49.29032258064516
           ],
           "xaxis": "x",
           "y": [
            31.12121212121212,
            24.69090909090909
           ],
           "yaxis": "y"
          },
          {
           "hovertemplate": "<b>%{hovertext}</b><br><br>Country_name=Switzerland<br>Month=3<br>AQI=%{x}<br>AQI_20=%{y}<br>size=%{marker.size}<extra></extra>",
           "hovertext": [
            "Zürich"
           ],
           "ids": [
            "Switzerland"
           ],
           "legendgroup": "Switzerland",
           "marker": {
            "color": "#636efa",
            "size": [
             1
            ],
            "sizemode": "area",
            "sizeref": 0.00033057851239669424,
            "symbol": "circle"
           },
           "mode": "markers",
           "name": "Switzerland",
           "orientation": "v",
           "showlegend": true,
           "type": "scatter",
           "x": [
            46.935483870967744
           ],
           "xaxis": "x",
           "y": [
            20.145454545454545
           ],
           "yaxis": "y"
          },
          {
           "hovertemplate": "<b>%{hovertext}</b><br><br>Country_name=Chile<br>Month=3<br>AQI=%{x}<br>AQI_20=%{y}<br>size=%{marker.size}<extra></extra>",
           "hovertext": [
            "Los Ángeles"
           ],
           "ids": [
            "Chile"
           ],
           "legendgroup": "Chile",
           "marker": {
            "color": "#EF553B",
            "size": [
             1
            ],
            "sizemode": "area",
            "sizeref": 0.00033057851239669424,
            "symbol": "circle"
           },
           "mode": "markers",
           "name": "Chile",
           "orientation": "v",
           "showlegend": true,
           "type": "scatter",
           "x": [
            29.7
           ],
           "xaxis": "x",
           "y": [
            37.09090909090909
           ],
           "yaxis": "y"
          },
          {
           "hovertemplate": "<b>%{hovertext}</b><br><br>Country_name=Germany<br>Month=3<br>AQI=%{x}<br>AQI_20=%{y}<br>size=%{marker.size}<extra></extra>",
           "hovertext": [
            "Berlin"
           ],
           "ids": [
            "Germany"
           ],
           "legendgroup": "Germany",
           "marker": {
            "color": "#00cc96",
            "size": [
             1
            ],
            "sizemode": "area",
            "sizeref": 0.00033057851239669424,
            "symbol": "circle"
           },
           "mode": "markers",
           "name": "Germany",
           "orientation": "v",
           "showlegend": true,
           "type": "scatter",
           "x": [
            52.483870967741936
           ],
           "xaxis": "x",
           "y": [
            42.54545454545455
           ],
           "yaxis": "y"
          }
         ],
         "name": "3"
        },
        {
         "data": [
          {
           "hovertemplate": "<b>%{hovertext}</b><br><br>Country_name=Netherlands<br>Month=4<br>AQI=%{x}<br>AQI_20=%{y}<br>size=%{marker.size}<extra></extra>",
           "hovertext": [
            "Rotterdam"
           ],
           "ids": [
            "Netherlands"
           ],
           "legendgroup": "Netherlands",
           "marker": {
            "color": "#636efa",
            "size": [
             1
            ],
            "sizemode": "area",
            "sizeref": 0.00033057851239669424,
            "symbol": "circle"
           },
           "mode": "markers",
           "name": "Netherlands",
           "orientation": "v",
           "showlegend": true,
           "type": "scatter",
           "x": [
            81.82758620689656
           ],
           "xaxis": "x",
           "y": [
            43.51428571428571
           ],
           "yaxis": "y"
          },
          {
           "hovertemplate": "<b>%{hovertext}</b><br><br>Country_name=United States<br>Month=4<br>AQI=%{x}<br>AQI_20=%{y}<br>size=%{marker.size}<extra></extra>",
           "hovertext": [
            "San Francisco"
           ],
           "ids": [
            "United States"
           ],
           "legendgroup": "United States",
           "marker": {
            "color": "#EF553B",
            "size": [
             1
            ],
            "sizemode": "area",
            "sizeref": 0.00033057851239669424,
            "symbol": "circle"
           },
           "mode": "markers",
           "name": "United States",
           "orientation": "v",
           "showlegend": true,
           "type": "scatter",
           "x": [
            27.84827586206896
           ],
           "xaxis": "x",
           "y": [
            24.991428571428568
           ],
           "yaxis": "y"
          },
          {
           "hovertemplate": "<b>%{hovertext}</b><br><br>Country_name=France<br>Month=4<br>AQI=%{x}<br>AQI_20=%{y}<br>size=%{marker.size}<extra></extra>",
           "hovertext": [
            "Paris"
           ],
           "ids": [
            "France"
           ],
           "legendgroup": "France",
           "marker": {
            "color": "#00cc96",
            "size": [
             1
            ],
            "sizemode": "area",
            "sizeref": 0.00033057851239669424,
            "symbol": "circle"
           },
           "mode": "markers",
           "name": "France",
           "orientation": "v",
           "showlegend": true,
           "type": "scatter",
           "x": [
            67.46666666666667
           ],
           "xaxis": "x",
           "y": [
            49.97142857142857
           ],
           "yaxis": "y"
          },
          {
           "hovertemplate": "<b>%{hovertext}</b><br><br>Country_name=Japan<br>Month=4<br>AQI=%{x}<br>AQI_20=%{y}<br>size=%{marker.size}<extra></extra>",
           "hovertext": [
            "Tokyo"
           ],
           "ids": [
            "Japan"
           ],
           "legendgroup": "Japan",
           "marker": {
            "color": "#ab63fa",
            "size": [
             1
            ],
            "sizemode": "area",
            "sizeref": 0.00033057851239669424,
            "symbol": "circle"
           },
           "mode": "markers",
           "name": "Japan",
           "orientation": "v",
           "showlegend": true,
           "type": "scatter",
           "x": [
            56.833333333333336
           ],
           "xaxis": "x",
           "y": [
            38.8
           ],
           "yaxis": "y"
          },
          {
           "hovertemplate": "<b>%{hovertext}</b><br><br>Country_name=Israel<br>Month=4<br>AQI=%{x}<br>AQI_20=%{y}<br>size=%{marker.size}<extra></extra>",
           "hovertext": [
            "Jerusalem"
           ],
           "ids": [
            "Israel"
           ],
           "legendgroup": "Israel",
           "marker": {
            "color": "#FFA15A",
            "size": [
             1
            ],
            "sizemode": "area",
            "sizeref": 0.00033057851239669424,
            "symbol": "circle"
           },
           "mode": "markers",
           "name": "Israel",
           "orientation": "v",
           "showlegend": true,
           "type": "scatter",
           "x": [
            58.607142857142854
           ],
           "xaxis": "x",
           "y": [
            53.542857142857144
           ],
           "yaxis": "y"
          },
          {
           "hovertemplate": "<b>%{hovertext}</b><br><br>Country_name=India<br>Month=4<br>AQI=%{x}<br>AQI_20=%{y}<br>size=%{marker.size}<extra></extra>",
           "hovertext": [
            "Delhi"
           ],
           "ids": [
            "India"
           ],
           "legendgroup": "India",
           "marker": {
            "color": "#19d3f3",
            "size": [
             1
            ],
            "sizemode": "area",
            "sizeref": 0.00033057851239669424,
            "symbol": "circle"
           },
           "mode": "markers",
           "name": "India",
           "orientation": "v",
           "showlegend": true,
           "type": "scatter",
           "x": [
            32.06666666666667
           ],
           "xaxis": "x",
           "y": [
            107.88571428571429
           ],
           "yaxis": "y"
          },
          {
           "hovertemplate": "<b>%{hovertext}</b><br><br>Country_name=Australia<br>Month=4<br>AQI=%{x}<br>AQI_20=%{y}<br>size=%{marker.size}<extra></extra>",
           "hovertext": [
            "Melbourne"
           ],
           "ids": [
            "Australia"
           ],
           "legendgroup": "Australia",
           "marker": {
            "color": "#FF6692",
            "size": [
             1
            ],
            "sizemode": "area",
            "sizeref": 0.00033057851239669424,
            "symbol": "circle"
           },
           "mode": "markers",
           "name": "Australia",
           "orientation": "v",
           "showlegend": true,
           "type": "scatter",
           "x": [
            57.03333333333333
           ],
           "xaxis": "x",
           "y": [
            23.62857142857143
           ],
           "yaxis": "y"
          },
          {
           "hovertemplate": "<b>%{hovertext}</b><br><br>Country_name=Thailand<br>Month=4<br>AQI=%{x}<br>AQI_20=%{y}<br>size=%{marker.size}<extra></extra>",
           "hovertext": [
            "Bangkok"
           ],
           "ids": [
            "Thailand"
           ],
           "legendgroup": "Thailand",
           "marker": {
            "color": "#B6E880",
            "size": [
             1
            ],
            "sizemode": "area",
            "sizeref": 0.00033057851239669424,
            "symbol": "circle"
           },
           "mode": "markers",
           "name": "Thailand",
           "orientation": "v",
           "showlegend": true,
           "type": "scatter",
           "x": [
            38.3
           ],
           "xaxis": "x",
           "y": [
            64.94285714285714
           ],
           "yaxis": "y"
          },
          {
           "hovertemplate": "<b>%{hovertext}</b><br><br>Country_name=Argentina<br>Month=4<br>AQI=%{x}<br>AQI_20=%{y}<br>size=%{marker.size}<extra></extra>",
           "hovertext": [
            "Buenos Aires"
           ],
           "ids": [
            "Argentina"
           ],
           "legendgroup": "Argentina",
           "marker": {
            "color": "#FF97FF",
            "size": [
             1
            ],
            "sizemode": "area",
            "sizeref": 0.00033057851239669424,
            "symbol": "circle"
           },
           "mode": "markers",
           "name": "Argentina",
           "orientation": "v",
           "showlegend": true,
           "type": "scatter",
           "x": [
            28.433333333333334
           ],
           "xaxis": "x",
           "y": [
            25.914285714285715
           ],
           "yaxis": "y"
          },
          {
           "hovertemplate": "<b>%{hovertext}</b><br><br>Country_name=Spain<br>Month=4<br>AQI=%{x}<br>AQI_20=%{y}<br>size=%{marker.size}<extra></extra>",
           "hovertext": [
            "Barcelona",
            "Madrid"
           ],
           "ids": [
            "Spain",
            "Spain"
           ],
           "legendgroup": "Spain",
           "marker": {
            "color": "#FECB52",
            "size": [
             1,
             1
            ],
            "sizemode": "area",
            "sizeref": 0.00033057851239669424,
            "symbol": "circle"
           },
           "mode": "markers",
           "name": "Spain",
           "orientation": "v",
           "showlegend": true,
           "type": "scatter",
           "x": [
            56.13333333333333,
            28.448275862068964
           ],
           "xaxis": "x",
           "y": [
            30.408571428571427,
            29.65714285714286
           ],
           "yaxis": "y"
          },
          {
           "hovertemplate": "<b>%{hovertext}</b><br><br>Country_name=Switzerland<br>Month=4<br>AQI=%{x}<br>AQI_20=%{y}<br>size=%{marker.size}<extra></extra>",
           "hovertext": [
            "Zürich"
           ],
           "ids": [
            "Switzerland"
           ],
           "legendgroup": "Switzerland",
           "marker": {
            "color": "#636efa",
            "size": [
             1
            ],
            "sizemode": "area",
            "sizeref": 0.00033057851239669424,
            "symbol": "circle"
           },
           "mode": "markers",
           "name": "Switzerland",
           "orientation": "v",
           "showlegend": true,
           "type": "scatter",
           "x": [
            24.662068965517236
           ],
           "xaxis": "x",
           "y": [
            28.97142857142858
           ],
           "yaxis": "y"
          },
          {
           "hovertemplate": "<b>%{hovertext}</b><br><br>Country_name=Chile<br>Month=4<br>AQI=%{x}<br>AQI_20=%{y}<br>size=%{marker.size}<extra></extra>",
           "hovertext": [
            "Los Ángeles"
           ],
           "ids": [
            "Chile"
           ],
           "legendgroup": "Chile",
           "marker": {
            "color": "#EF553B",
            "size": [
             1
            ],
            "sizemode": "area",
            "sizeref": 0.00033057851239669424,
            "symbol": "circle"
           },
           "mode": "markers",
           "name": "Chile",
           "orientation": "v",
           "showlegend": true,
           "type": "scatter",
           "x": [
            153.3793103448276
           ],
           "xaxis": "x",
           "y": [
            59.65714285714286
           ],
           "yaxis": "y"
          },
          {
           "hovertemplate": "<b>%{hovertext}</b><br><br>Country_name=Germany<br>Month=4<br>AQI=%{x}<br>AQI_20=%{y}<br>size=%{marker.size}<extra></extra>",
           "hovertext": [
            "Berlin"
           ],
           "ids": [
            "Germany"
           ],
           "legendgroup": "Germany",
           "marker": {
            "color": "#00cc96",
            "size": [
             1
            ],
            "sizemode": "area",
            "sizeref": 0.00033057851239669424,
            "symbol": "circle"
           },
           "mode": "markers",
           "name": "Germany",
           "orientation": "v",
           "showlegend": true,
           "type": "scatter",
           "x": [
            42.206896551724135
           ],
           "xaxis": "x",
           "y": [
            36.65714285714286
           ],
           "yaxis": "y"
          }
         ],
         "name": "4"
        },
        {
         "data": [
          {
           "hovertemplate": "<b>%{hovertext}</b><br><br>Country_name=Netherlands<br>Month=5<br>AQI=%{x}<br>AQI_20=%{y}<br>size=%{marker.size}<extra></extra>",
           "hovertext": [
            "Rotterdam"
           ],
           "ids": [
            "Netherlands"
           ],
           "legendgroup": "Netherlands",
           "marker": {
            "color": "#636efa",
            "size": [
             1
            ],
            "sizemode": "area",
            "sizeref": 0.00033057851239669424,
            "symbol": "circle"
           },
           "mode": "markers",
           "name": "Netherlands",
           "orientation": "v",
           "showlegend": true,
           "type": "scatter",
           "x": [
            27.36774193548387
           ],
           "xaxis": "x",
           "y": [
            35.096774193548384
           ],
           "yaxis": "y"
          },
          {
           "hovertemplate": "<b>%{hovertext}</b><br><br>Country_name=United States<br>Month=5<br>AQI=%{x}<br>AQI_20=%{y}<br>size=%{marker.size}<extra></extra>",
           "hovertext": [
            "San Francisco"
           ],
           "ids": [
            "United States"
           ],
           "legendgroup": "United States",
           "marker": {
            "color": "#EF553B",
            "size": [
             1
            ],
            "sizemode": "area",
            "sizeref": 0.00033057851239669424,
            "symbol": "circle"
           },
           "mode": "markers",
           "name": "United States",
           "orientation": "v",
           "showlegend": true,
           "type": "scatter",
           "x": [
            37.87096774193548
           ],
           "xaxis": "x",
           "y": [
            27.548387096774192
           ],
           "yaxis": "y"
          },
          {
           "hovertemplate": "<b>%{hovertext}</b><br><br>Country_name=France<br>Month=5<br>AQI=%{x}<br>AQI_20=%{y}<br>size=%{marker.size}<extra></extra>",
           "hovertext": [
            "Paris"
           ],
           "ids": [
            "France"
           ],
           "legendgroup": "France",
           "marker": {
            "color": "#00cc96",
            "size": [
             1
            ],
            "sizemode": "area",
            "sizeref": 0.00033057851239669424,
            "symbol": "circle"
           },
           "mode": "markers",
           "name": "France",
           "orientation": "v",
           "showlegend": true,
           "type": "scatter",
           "x": [
            37.67741935483871
           ],
           "xaxis": "x",
           "y": [
            40.32258064516129
           ],
           "yaxis": "y"
          },
          {
           "hovertemplate": "<b>%{hovertext}</b><br><br>Country_name=Japan<br>Month=5<br>AQI=%{x}<br>AQI_20=%{y}<br>size=%{marker.size}<extra></extra>",
           "hovertext": [
            "Tokyo"
           ],
           "ids": [
            "Japan"
           ],
           "legendgroup": "Japan",
           "marker": {
            "color": "#ab63fa",
            "size": [
             1
            ],
            "sizemode": "area",
            "sizeref": 0.00033057851239669424,
            "symbol": "circle"
           },
           "mode": "markers",
           "name": "Japan",
           "orientation": "v",
           "showlegend": true,
           "type": "scatter",
           "x": [
            25.274193548387096
           ],
           "xaxis": "x",
           "y": [
            37.83870967741935
           ],
           "yaxis": "y"
          },
          {
           "hovertemplate": "<b>%{hovertext}</b><br><br>Country_name=Israel<br>Month=5<br>AQI=%{x}<br>AQI_20=%{y}<br>size=%{marker.size}<extra></extra>",
           "hovertext": [
            "Jerusalem"
           ],
           "ids": [
            "Israel"
           ],
           "legendgroup": "Israel",
           "marker": {
            "color": "#FFA15A",
            "size": [
             1
            ],
            "sizemode": "area",
            "sizeref": 0.00033057851239669424,
            "symbol": "circle"
           },
           "mode": "markers",
           "name": "Israel",
           "orientation": "v",
           "showlegend": true,
           "type": "scatter",
           "x": [
            47.45161290322581
           ],
           "xaxis": "x",
           "y": [
            49.03225806451613
           ],
           "yaxis": "y"
          },
          {
           "hovertemplate": "<b>%{hovertext}</b><br><br>Country_name=India<br>Month=5<br>AQI=%{x}<br>AQI_20=%{y}<br>size=%{marker.size}<extra></extra>",
           "hovertext": [
            "Delhi"
           ],
           "ids": [
            "India"
           ],
           "legendgroup": "India",
           "marker": {
            "color": "#19d3f3",
            "size": [
             1
            ],
            "sizemode": "area",
            "sizeref": 0.00033057851239669424,
            "symbol": "circle"
           },
           "mode": "markers",
           "name": "India",
           "orientation": "v",
           "showlegend": true,
           "type": "scatter",
           "x": [
            38.38709677419355
           ],
           "xaxis": "x",
           "y": [
            122.6774193548387
           ],
           "yaxis": "y"
          },
          {
           "hovertemplate": "<b>%{hovertext}</b><br><br>Country_name=Australia<br>Month=5<br>AQI=%{x}<br>AQI_20=%{y}<br>size=%{marker.size}<extra></extra>",
           "hovertext": [
            "Melbourne"
           ],
           "ids": [
            "Australia"
           ],
           "legendgroup": "Australia",
           "marker": {
            "color": "#FF6692",
            "size": [
             1
            ],
            "sizemode": "area",
            "sizeref": 0.00033057851239669424,
            "symbol": "circle"
           },
           "mode": "markers",
           "name": "Australia",
           "orientation": "v",
           "showlegend": true,
           "type": "scatter",
           "x": [
            158
           ],
           "xaxis": "x",
           "y": [
            24.258064516129032
           ],
           "yaxis": "y"
          },
          {
           "hovertemplate": "<b>%{hovertext}</b><br><br>Country_name=Thailand<br>Month=5<br>AQI=%{x}<br>AQI_20=%{y}<br>size=%{marker.size}<extra></extra>",
           "hovertext": [
            "Bangkok"
           ],
           "ids": [
            "Thailand"
           ],
           "legendgroup": "Thailand",
           "marker": {
            "color": "#B6E880",
            "size": [
             1
            ],
            "sizemode": "area",
            "sizeref": 0.00033057851239669424,
            "symbol": "circle"
           },
           "mode": "markers",
           "name": "Thailand",
           "orientation": "v",
           "showlegend": true,
           "type": "scatter",
           "x": [
            60.41935483870968
           ],
           "xaxis": "x",
           "y": [
            55.29032258064516
           ],
           "yaxis": "y"
          },
          {
           "hovertemplate": "<b>%{hovertext}</b><br><br>Country_name=Argentina<br>Month=5<br>AQI=%{x}<br>AQI_20=%{y}<br>size=%{marker.size}<extra></extra>",
           "hovertext": [
            "Buenos Aires"
           ],
           "ids": [
            "Argentina"
           ],
           "legendgroup": "Argentina",
           "marker": {
            "color": "#FF97FF",
            "size": [
             1
            ],
            "sizemode": "area",
            "sizeref": 0.00033057851239669424,
            "symbol": "circle"
           },
           "mode": "markers",
           "name": "Argentina",
           "orientation": "v",
           "showlegend": true,
           "type": "scatter",
           "x": [
            46.225806451612904
           ],
           "xaxis": "x",
           "y": [
            50.12
           ],
           "yaxis": "y"
          },
          {
           "hovertemplate": "<b>%{hovertext}</b><br><br>Country_name=Spain<br>Month=5<br>AQI=%{x}<br>AQI_20=%{y}<br>size=%{marker.size}<extra></extra>",
           "hovertext": [
            "Barcelona",
            "Madrid"
           ],
           "ids": [
            "Spain",
            "Spain"
           ],
           "legendgroup": "Spain",
           "marker": {
            "color": "#FECB52",
            "size": [
             1,
             1
            ],
            "sizemode": "area",
            "sizeref": 0.00033057851239669424,
            "symbol": "circle"
           },
           "mode": "markers",
           "name": "Spain",
           "orientation": "v",
           "showlegend": true,
           "type": "scatter",
           "x": [
            97.29032258064517,
            26.032258064516128
           ],
           "xaxis": "x",
           "y": [
            27.274193548387096,
            33.225806451612904
           ],
           "yaxis": "y"
          },
          {
           "hovertemplate": "<b>%{hovertext}</b><br><br>Country_name=Switzerland<br>Month=5<br>AQI=%{x}<br>AQI_20=%{y}<br>size=%{marker.size}<extra></extra>",
           "hovertext": [
            "Zürich"
           ],
           "ids": [
            "Switzerland"
           ],
           "legendgroup": "Switzerland",
           "marker": {
            "color": "#636efa",
            "size": [
             1
            ],
            "sizemode": "area",
            "sizeref": 0.00033057851239669424,
            "symbol": "circle"
           },
           "mode": "markers",
           "name": "Switzerland",
           "orientation": "v",
           "showlegend": true,
           "type": "scatter",
           "x": [
            25.46129032258065
           ],
           "xaxis": "x",
           "y": [
            27.132258064516133
           ],
           "yaxis": "y"
          },
          {
           "hovertemplate": "<b>%{hovertext}</b><br><br>Country_name=Chile<br>Month=5<br>AQI=%{x}<br>AQI_20=%{y}<br>size=%{marker.size}<extra></extra>",
           "hovertext": [
            "Los Ángeles"
           ],
           "ids": [
            "Chile"
           ],
           "legendgroup": "Chile",
           "marker": {
            "color": "#EF553B",
            "size": [
             1
            ],
            "sizemode": "area",
            "sizeref": 0.00033057851239669424,
            "symbol": "circle"
           },
           "mode": "markers",
           "name": "Chile",
           "orientation": "v",
           "showlegend": true,
           "type": "scatter",
           "x": [
            28.612903225806456
           ],
           "xaxis": "x",
           "y": [
            67.70967741935483
           ],
           "yaxis": "y"
          },
          {
           "hovertemplate": "<b>%{hovertext}</b><br><br>Country_name=Germany<br>Month=5<br>AQI=%{x}<br>AQI_20=%{y}<br>size=%{marker.size}<extra></extra>",
           "hovertext": [
            "Berlin"
           ],
           "ids": [
            "Germany"
           ],
           "legendgroup": "Germany",
           "marker": {
            "color": "#00cc96",
            "size": [
             1
            ],
            "sizemode": "area",
            "sizeref": 0.00033057851239669424,
            "symbol": "circle"
           },
           "mode": "markers",
           "name": "Germany",
           "orientation": "v",
           "showlegend": true,
           "type": "scatter",
           "x": [
            69.64516129032258
           ],
           "xaxis": "x",
           "y": [
            27.845161290322583
           ],
           "yaxis": "y"
          }
         ],
         "name": "5"
        },
        {
         "data": [
          {
           "hovertemplate": "<b>%{hovertext}</b><br><br>Country_name=Netherlands<br>Month=6<br>AQI=%{x}<br>AQI_20=%{y}<br>size=%{marker.size}<extra></extra>",
           "hovertext": [
            "Rotterdam"
           ],
           "ids": [
            "Netherlands"
           ],
           "legendgroup": "Netherlands",
           "marker": {
            "color": "#636efa",
            "size": [
             1
            ],
            "sizemode": "area",
            "sizeref": 0.00033057851239669424,
            "symbol": "circle"
           },
           "mode": "markers",
           "name": "Netherlands",
           "orientation": "v",
           "showlegend": true,
           "type": "scatter",
           "x": [
            84.86666666666666
           ],
           "xaxis": "x",
           "y": [
            30.90625
           ],
           "yaxis": "y"
          },
          {
           "hovertemplate": "<b>%{hovertext}</b><br><br>Country_name=United States<br>Month=6<br>AQI=%{x}<br>AQI_20=%{y}<br>size=%{marker.size}<extra></extra>",
           "hovertext": [
            "San Francisco"
           ],
           "ids": [
            "United States"
           ],
           "legendgroup": "United States",
           "marker": {
            "color": "#EF553B",
            "size": [
             1
            ],
            "sizemode": "area",
            "sizeref": 0.00033057851239669424,
            "symbol": "circle"
           },
           "mode": "markers",
           "name": "United States",
           "orientation": "v",
           "showlegend": true,
           "type": "scatter",
           "x": [
            139.86666666666667
           ],
           "xaxis": "x",
           "y": [
            29.4375
           ],
           "yaxis": "y"
          },
          {
           "hovertemplate": "<b>%{hovertext}</b><br><br>Country_name=France<br>Month=6<br>AQI=%{x}<br>AQI_20=%{y}<br>size=%{marker.size}<extra></extra>",
           "hovertext": [
            "Paris"
           ],
           "ids": [
            "France"
           ],
           "legendgroup": "France",
           "marker": {
            "color": "#00cc96",
            "size": [
             1
            ],
            "sizemode": "area",
            "sizeref": 0.00033057851239669424,
            "symbol": "circle"
           },
           "mode": "markers",
           "name": "France",
           "orientation": "v",
           "showlegend": true,
           "type": "scatter",
           "x": [
            37.56666666666667
           ],
           "xaxis": "x",
           "y": [
            37.375
           ],
           "yaxis": "y"
          },
          {
           "hovertemplate": "<b>%{hovertext}</b><br><br>Country_name=Japan<br>Month=6<br>AQI=%{x}<br>AQI_20=%{y}<br>size=%{marker.size}<extra></extra>",
           "hovertext": [
            "Tokyo"
           ],
           "ids": [
            "Japan"
           ],
           "legendgroup": "Japan",
           "marker": {
            "color": "#ab63fa",
            "size": [
             1
            ],
            "sizemode": "area",
            "sizeref": 0.00033057851239669424,
            "symbol": "circle"
           },
           "mode": "markers",
           "name": "Japan",
           "orientation": "v",
           "showlegend": true,
           "type": "scatter",
           "x": [
            40.2
           ],
           "xaxis": "x",
           "y": [
            42.25
           ],
           "yaxis": "y"
          },
          {
           "hovertemplate": "<b>%{hovertext}</b><br><br>Country_name=Israel<br>Month=6<br>AQI=%{x}<br>AQI_20=%{y}<br>size=%{marker.size}<extra></extra>",
           "hovertext": [
            "Jerusalem"
           ],
           "ids": [
            "Israel"
           ],
           "legendgroup": "Israel",
           "marker": {
            "color": "#FFA15A",
            "size": [
             1
            ],
            "sizemode": "area",
            "sizeref": 0.00033057851239669424,
            "symbol": "circle"
           },
           "mode": "markers",
           "name": "Israel",
           "orientation": "v",
           "showlegend": true,
           "type": "scatter",
           "x": [
            43.06666666666667
           ],
           "xaxis": "x",
           "y": [
            50.46875
           ],
           "yaxis": "y"
          },
          {
           "hovertemplate": "<b>%{hovertext}</b><br><br>Country_name=India<br>Month=6<br>AQI=%{x}<br>AQI_20=%{y}<br>size=%{marker.size}<extra></extra>",
           "hovertext": [
            "Delhi"
           ],
           "ids": [
            "India"
           ],
           "legendgroup": "India",
           "marker": {
            "color": "#19d3f3",
            "size": [
             1
            ],
            "sizemode": "area",
            "sizeref": 0.00033057851239669424,
            "symbol": "circle"
           },
           "mode": "markers",
           "name": "India",
           "orientation": "v",
           "showlegend": true,
           "type": "scatter",
           "x": [
            29.006666666666664
           ],
           "xaxis": "x",
           "y": [
            117.40625
           ],
           "yaxis": "y"
          },
          {
           "hovertemplate": "<b>%{hovertext}</b><br><br>Country_name=Australia<br>Month=6<br>AQI=%{x}<br>AQI_20=%{y}<br>size=%{marker.size}<extra></extra>",
           "hovertext": [
            "Melbourne"
           ],
           "ids": [
            "Australia"
           ],
           "legendgroup": "Australia",
           "marker": {
            "color": "#FF6692",
            "size": [
             1
            ],
            "sizemode": "area",
            "sizeref": 0.00033057851239669424,
            "symbol": "circle"
           },
           "mode": "markers",
           "name": "Australia",
           "orientation": "v",
           "showlegend": true,
           "type": "scatter",
           "x": [
            33.63333333333333
           ],
           "xaxis": "x",
           "y": [
            31.8125
           ],
           "yaxis": "y"
          },
          {
           "hovertemplate": "<b>%{hovertext}</b><br><br>Country_name=Thailand<br>Month=6<br>AQI=%{x}<br>AQI_20=%{y}<br>size=%{marker.size}<extra></extra>",
           "hovertext": [
            "Bangkok"
           ],
           "ids": [
            "Thailand"
           ],
           "legendgroup": "Thailand",
           "marker": {
            "color": "#B6E880",
            "size": [
             1
            ],
            "sizemode": "area",
            "sizeref": 0.00033057851239669424,
            "symbol": "circle"
           },
           "mode": "markers",
           "name": "Thailand",
           "orientation": "v",
           "showlegend": true,
           "type": "scatter",
           "x": [
            42.86666666666667
           ],
           "xaxis": "x",
           "y": [
            44.9375
           ],
           "yaxis": "y"
          },
          {
           "hovertemplate": "<b>%{hovertext}</b><br><br>Country_name=Argentina<br>Month=6<br>AQI=%{x}<br>AQI_20=%{y}<br>size=%{marker.size}<extra></extra>",
           "hovertext": [
            "Buenos Aires"
           ],
           "ids": [
            "Argentina"
           ],
           "legendgroup": "Argentina",
           "marker": {
            "color": "#FF97FF",
            "size": [
             1
            ],
            "sizemode": "area",
            "sizeref": 0.00033057851239669424,
            "symbol": "circle"
           },
           "mode": "markers",
           "name": "Argentina",
           "orientation": "v",
           "showlegend": true,
           "type": "scatter",
           "x": [
            28.166666666666668
           ],
           "xaxis": "x",
           "y": [
            35.1875
           ],
           "yaxis": "y"
          },
          {
           "hovertemplate": "<b>%{hovertext}</b><br><br>Country_name=Spain<br>Month=6<br>AQI=%{x}<br>AQI_20=%{y}<br>size=%{marker.size}<extra></extra>",
           "hovertext": [
            "Barcelona",
            "Madrid"
           ],
           "ids": [
            "Spain",
            "Spain"
           ],
           "legendgroup": "Spain",
           "marker": {
            "color": "#FECB52",
            "size": [
             1,
             1
            ],
            "sizemode": "area",
            "sizeref": 0.00033057851239669424,
            "symbol": "circle"
           },
           "mode": "markers",
           "name": "Spain",
           "orientation": "v",
           "showlegend": true,
           "type": "scatter",
           "x": [
            38.1,
            64.9
           ],
           "xaxis": "x",
           "y": [
            24.228125000000006,
            36.9375
           ],
           "yaxis": "y"
          },
          {
           "hovertemplate": "<b>%{hovertext}</b><br><br>Country_name=Switzerland<br>Month=6<br>AQI=%{x}<br>AQI_20=%{y}<br>size=%{marker.size}<extra></extra>",
           "hovertext": [
            "Zürich"
           ],
           "ids": [
            "Switzerland"
           ],
           "legendgroup": "Switzerland",
           "marker": {
            "color": "#636efa",
            "size": [
             1
            ],
            "sizemode": "area",
            "sizeref": 0.00033057851239669424,
            "symbol": "circle"
           },
           "mode": "markers",
           "name": "Switzerland",
           "orientation": "v",
           "showlegend": true,
           "type": "scatter",
           "x": [
            51.06666666666667
           ],
           "xaxis": "x",
           "y": [
            25.4
           ],
           "yaxis": "y"
          },
          {
           "hovertemplate": "<b>%{hovertext}</b><br><br>Country_name=Chile<br>Month=6<br>AQI=%{x}<br>AQI_20=%{y}<br>size=%{marker.size}<extra></extra>",
           "hovertext": [
            "Los Ángeles"
           ],
           "ids": [
            "Chile"
           ],
           "legendgroup": "Chile",
           "marker": {
            "color": "#EF553B",
            "size": [
             1
            ],
            "sizemode": "area",
            "sizeref": 0.00033057851239669424,
            "symbol": "circle"
           },
           "mode": "markers",
           "name": "Chile",
           "orientation": "v",
           "showlegend": true,
           "type": "scatter",
           "x": [
            29.586666666666666
           ],
           "xaxis": "x",
           "y": [
            44.28125
           ],
           "yaxis": "y"
          },
          {
           "hovertemplate": "<b>%{hovertext}</b><br><br>Country_name=Germany<br>Month=6<br>AQI=%{x}<br>AQI_20=%{y}<br>size=%{marker.size}<extra></extra>",
           "hovertext": [
            "Berlin"
           ],
           "ids": [
            "Germany"
           ],
           "legendgroup": "Germany",
           "marker": {
            "color": "#00cc96",
            "size": [
             1
            ],
            "sizemode": "area",
            "sizeref": 0.00033057851239669424,
            "symbol": "circle"
           },
           "mode": "markers",
           "name": "Germany",
           "orientation": "v",
           "showlegend": true,
           "type": "scatter",
           "x": [
            37.96666666666667
           ],
           "xaxis": "x",
           "y": [
            30.5625
           ],
           "yaxis": "y"
          }
         ],
         "name": "6"
        },
        {
         "data": [
          {
           "hovertemplate": "<b>%{hovertext}</b><br><br>Country_name=Netherlands<br>Month=7<br>AQI=%{x}<br>AQI_20=%{y}<br>size=%{marker.size}<extra></extra>",
           "hovertext": [
            "Rotterdam"
           ],
           "ids": [
            "Netherlands"
           ],
           "legendgroup": "Netherlands",
           "marker": {
            "color": "#636efa",
            "size": [
             1
            ],
            "sizemode": "area",
            "sizeref": 0.00033057851239669424,
            "symbol": "circle"
           },
           "mode": "markers",
           "name": "Netherlands",
           "orientation": "v",
           "showlegend": true,
           "type": "scatter",
           "x": [
            46.67741935483871
           ],
           "xaxis": "x",
           "y": [
            21.944444444444443
           ],
           "yaxis": "y"
          },
          {
           "hovertemplate": "<b>%{hovertext}</b><br><br>Country_name=United States<br>Month=7<br>AQI=%{x}<br>AQI_20=%{y}<br>size=%{marker.size}<extra></extra>",
           "hovertext": [
            "San Francisco"
           ],
           "ids": [
            "United States"
           ],
           "legendgroup": "United States",
           "marker": {
            "color": "#EF553B",
            "size": [
             1
            ],
            "sizemode": "area",
            "sizeref": 0.00033057851239669424,
            "symbol": "circle"
           },
           "mode": "markers",
           "name": "United States",
           "orientation": "v",
           "showlegend": true,
           "type": "scatter",
           "x": [
            32.74193548387097
           ],
           "xaxis": "x",
           "y": [
            30.86111111111111
           ],
           "yaxis": "y"
          },
          {
           "hovertemplate": "<b>%{hovertext}</b><br><br>Country_name=France<br>Month=7<br>AQI=%{x}<br>AQI_20=%{y}<br>size=%{marker.size}<extra></extra>",
           "hovertext": [
            "Paris"
           ],
           "ids": [
            "France"
           ],
           "legendgroup": "France",
           "marker": {
            "color": "#00cc96",
            "size": [
             1
            ],
            "sizemode": "area",
            "sizeref": 0.00033057851239669424,
            "symbol": "circle"
           },
           "mode": "markers",
           "name": "France",
           "orientation": "v",
           "showlegend": true,
           "type": "scatter",
           "x": [
            54
           ],
           "xaxis": "x",
           "y": [
            35.361111111111114
           ],
           "yaxis": "y"
          },
          {
           "hovertemplate": "<b>%{hovertext}</b><br><br>Country_name=Japan<br>Month=7<br>AQI=%{x}<br>AQI_20=%{y}<br>size=%{marker.size}<extra></extra>",
           "hovertext": [
            "Tokyo"
           ],
           "ids": [
            "Japan"
           ],
           "legendgroup": "Japan",
           "marker": {
            "color": "#ab63fa",
            "size": [
             1
            ],
            "sizemode": "area",
            "sizeref": 0.00033057851239669424,
            "symbol": "circle"
           },
           "mode": "markers",
           "name": "Japan",
           "orientation": "v",
           "showlegend": true,
           "type": "scatter",
           "x": [
            34.83870967741935
           ],
           "xaxis": "x",
           "y": [
            30.61111111111111
           ],
           "yaxis": "y"
          },
          {
           "hovertemplate": "<b>%{hovertext}</b><br><br>Country_name=Israel<br>Month=7<br>AQI=%{x}<br>AQI_20=%{y}<br>size=%{marker.size}<extra></extra>",
           "hovertext": [
            "Jerusalem"
           ],
           "ids": [
            "Israel"
           ],
           "legendgroup": "Israel",
           "marker": {
            "color": "#FFA15A",
            "size": [
             1
            ],
            "sizemode": "area",
            "sizeref": 0.00033057851239669424,
            "symbol": "circle"
           },
           "mode": "markers",
           "name": "Israel",
           "orientation": "v",
           "showlegend": true,
           "type": "scatter",
           "x": [
            30.961290322580652
           ],
           "xaxis": "x",
           "y": [
            55.97222222222222
           ],
           "yaxis": "y"
          },
          {
           "hovertemplate": "<b>%{hovertext}</b><br><br>Country_name=India<br>Month=7<br>AQI=%{x}<br>AQI_20=%{y}<br>size=%{marker.size}<extra></extra>",
           "hovertext": [
            "Delhi"
           ],
           "ids": [
            "India"
           ],
           "legendgroup": "India",
           "marker": {
            "color": "#19d3f3",
            "size": [
             1
            ],
            "sizemode": "area",
            "sizeref": 0.00033057851239669424,
            "symbol": "circle"
           },
           "mode": "markers",
           "name": "India",
           "orientation": "v",
           "showlegend": true,
           "type": "scatter",
           "x": [
            31.29032258064516
           ],
           "xaxis": "x",
           "y": [
            96.80555555555556
           ],
           "yaxis": "y"
          },
          {
           "hovertemplate": "<b>%{hovertext}</b><br><br>Country_name=Australia<br>Month=7<br>AQI=%{x}<br>AQI_20=%{y}<br>size=%{marker.size}<extra></extra>",
           "hovertext": [
            "Melbourne"
           ],
           "ids": [
            "Australia"
           ],
           "legendgroup": "Australia",
           "marker": {
            "color": "#FF6692",
            "size": [
             1
            ],
            "sizemode": "area",
            "sizeref": 0.00033057851239669424,
            "symbol": "circle"
           },
           "mode": "markers",
           "name": "Australia",
           "orientation": "v",
           "showlegend": true,
           "type": "scatter",
           "x": [
            43.03225806451613
           ],
           "xaxis": "x",
           "y": [
            30.27777777777778
           ],
           "yaxis": "y"
          },
          {
           "hovertemplate": "<b>%{hovertext}</b><br><br>Country_name=Thailand<br>Month=7<br>AQI=%{x}<br>AQI_20=%{y}<br>size=%{marker.size}<extra></extra>",
           "hovertext": [
            "Bangkok"
           ],
           "ids": [
            "Thailand"
           ],
           "legendgroup": "Thailand",
           "marker": {
            "color": "#B6E880",
            "size": [
             1
            ],
            "sizemode": "area",
            "sizeref": 0.00033057851239669424,
            "symbol": "circle"
           },
           "mode": "markers",
           "name": "Thailand",
           "orientation": "v",
           "showlegend": true,
           "type": "scatter",
           "x": [
            40.67741935483871
           ],
           "xaxis": "x",
           "y": [
            48.111111111111114
           ],
           "yaxis": "y"
          },
          {
           "hovertemplate": "<b>%{hovertext}</b><br><br>Country_name=Argentina<br>Month=7<br>AQI=%{x}<br>AQI_20=%{y}<br>size=%{marker.size}<extra></extra>",
           "hovertext": [
            "Buenos Aires"
           ],
           "ids": [
            "Argentina"
           ],
           "legendgroup": "Argentina",
           "marker": {
            "color": "#FF97FF",
            "size": [
             1
            ],
            "sizemode": "area",
            "sizeref": 0.00033057851239669424,
            "symbol": "circle"
           },
           "mode": "markers",
           "name": "Argentina",
           "orientation": "v",
           "showlegend": true,
           "type": "scatter",
           "x": [
            58.54838709677419
           ],
           "xaxis": "x",
           "y": [
            35.25
           ],
           "yaxis": "y"
          },
          {
           "hovertemplate": "<b>%{hovertext}</b><br><br>Country_name=Spain<br>Month=7<br>AQI=%{x}<br>AQI_20=%{y}<br>size=%{marker.size}<extra></extra>",
           "hovertext": [
            "Madrid",
            "Barcelona"
           ],
           "ids": [
            "Spain",
            "Spain"
           ],
           "legendgroup": "Spain",
           "marker": {
            "color": "#FECB52",
            "size": [
             1,
             1
            ],
            "sizemode": "area",
            "sizeref": 0.00033057851239669424,
            "symbol": "circle"
           },
           "mode": "markers",
           "name": "Spain",
           "orientation": "v",
           "showlegend": true,
           "type": "scatter",
           "x": [
            115.64516129032258,
            26.367741935483867
           ],
           "xaxis": "x",
           "y": [
            43.583333333333336,
            25.53055555555555
           ],
           "yaxis": "y"
          },
          {
           "hovertemplate": "<b>%{hovertext}</b><br><br>Country_name=Switzerland<br>Month=7<br>AQI=%{x}<br>AQI_20=%{y}<br>size=%{marker.size}<extra></extra>",
           "hovertext": [
            "Zürich"
           ],
           "ids": [
            "Switzerland"
           ],
           "legendgroup": "Switzerland",
           "marker": {
            "color": "#636efa",
            "size": [
             1
            ],
            "sizemode": "area",
            "sizeref": 0.00033057851239669424,
            "symbol": "circle"
           },
           "mode": "markers",
           "name": "Switzerland",
           "orientation": "v",
           "showlegend": true,
           "type": "scatter",
           "x": [
            47.45161290322581
           ],
           "xaxis": "x",
           "y": [
            25.09722222222222
           ],
           "yaxis": "y"
          },
          {
           "hovertemplate": "<b>%{hovertext}</b><br><br>Country_name=Chile<br>Month=7<br>AQI=%{x}<br>AQI_20=%{y}<br>size=%{marker.size}<extra></extra>",
           "hovertext": [
            "Los Ángeles"
           ],
           "ids": [
            "Chile"
           ],
           "legendgroup": "Chile",
           "marker": {
            "color": "#EF553B",
            "size": [
             1
            ],
            "sizemode": "area",
            "sizeref": 0.00033057851239669424,
            "symbol": "circle"
           },
           "mode": "markers",
           "name": "Chile",
           "orientation": "v",
           "showlegend": true,
           "type": "scatter",
           "x": [
            26.35483870967742
           ],
           "xaxis": "x",
           "y": [
            48.52777777777778
           ],
           "yaxis": "y"
          },
          {
           "hovertemplate": "<b>%{hovertext}</b><br><br>Country_name=Germany<br>Month=7<br>AQI=%{x}<br>AQI_20=%{y}<br>size=%{marker.size}<extra></extra>",
           "hovertext": [
            "Berlin"
           ],
           "ids": [
            "Germany"
           ],
           "legendgroup": "Germany",
           "marker": {
            "color": "#00cc96",
            "size": [
             1
            ],
            "sizemode": "area",
            "sizeref": 0.00033057851239669424,
            "symbol": "circle"
           },
           "mode": "markers",
           "name": "Germany",
           "orientation": "v",
           "showlegend": true,
           "type": "scatter",
           "x": [
            73.90322580645162
           ],
           "xaxis": "x",
           "y": [
            23.494444444444444
           ],
           "yaxis": "y"
          }
         ],
         "name": "7"
        },
        {
         "data": [
          {
           "hovertemplate": "<b>%{hovertext}</b><br><br>Country_name=Netherlands<br>Month=8<br>AQI=%{x}<br>AQI_20=%{y}<br>size=%{marker.size}<extra></extra>",
           "hovertext": [
            "Rotterdam"
           ],
           "ids": [
            "Netherlands"
           ],
           "legendgroup": "Netherlands",
           "marker": {
            "color": "#636efa",
            "size": [
             1
            ],
            "sizemode": "area",
            "sizeref": 0.00033057851239669424,
            "symbol": "circle"
           },
           "mode": "markers",
           "name": "Netherlands",
           "orientation": "v",
           "showlegend": true,
           "type": "scatter",
           "x": [
            47.225806451612904
           ],
           "xaxis": "x",
           "y": [
            36.87096774193548
           ],
           "yaxis": "y"
          },
          {
           "hovertemplate": "<b>%{hovertext}</b><br><br>Country_name=United States<br>Month=8<br>AQI=%{x}<br>AQI_20=%{y}<br>size=%{marker.size}<extra></extra>",
           "hovertext": [
            "San Francisco"
           ],
           "ids": [
            "United States"
           ],
           "legendgroup": "United States",
           "marker": {
            "color": "#EF553B",
            "size": [
             1
            ],
            "sizemode": "area",
            "sizeref": 0.00033057851239669424,
            "symbol": "circle"
           },
           "mode": "markers",
           "name": "United States",
           "orientation": "v",
           "showlegend": true,
           "type": "scatter",
           "x": [
            47.16129032258065
           ],
           "xaxis": "x",
           "y": [
            40.935483870967744
           ],
           "yaxis": "y"
          },
          {
           "hovertemplate": "<b>%{hovertext}</b><br><br>Country_name=France<br>Month=8<br>AQI=%{x}<br>AQI_20=%{y}<br>size=%{marker.size}<extra></extra>",
           "hovertext": [
            "Paris"
           ],
           "ids": [
            "France"
           ],
           "legendgroup": "France",
           "marker": {
            "color": "#00cc96",
            "size": [
             1
            ],
            "sizemode": "area",
            "sizeref": 0.00033057851239669424,
            "symbol": "circle"
           },
           "mode": "markers",
           "name": "France",
           "orientation": "v",
           "showlegend": true,
           "type": "scatter",
           "x": [
            37.61290322580645
           ],
           "xaxis": "x",
           "y": [
            36.67741935483871
           ],
           "yaxis": "y"
          },
          {
           "hovertemplate": "<b>%{hovertext}</b><br><br>Country_name=Japan<br>Month=8<br>AQI=%{x}<br>AQI_20=%{y}<br>size=%{marker.size}<extra></extra>",
           "hovertext": [
            "Tokyo"
           ],
           "ids": [
            "Japan"
           ],
           "legendgroup": "Japan",
           "marker": {
            "color": "#ab63fa",
            "size": [
             1
            ],
            "sizemode": "area",
            "sizeref": 0.00033057851239669424,
            "symbol": "circle"
           },
           "mode": "markers",
           "name": "Japan",
           "orientation": "v",
           "showlegend": true,
           "type": "scatter",
           "x": [
            61.774193548387096
           ],
           "xaxis": "x",
           "y": [
            45.25806451612903
           ],
           "yaxis": "y"
          },
          {
           "hovertemplate": "<b>%{hovertext}</b><br><br>Country_name=Israel<br>Month=8<br>AQI=%{x}<br>AQI_20=%{y}<br>size=%{marker.size}<extra></extra>",
           "hovertext": [
            "Jerusalem"
           ],
           "ids": [
            "Israel"
           ],
           "legendgroup": "Israel",
           "marker": {
            "color": "#FFA15A",
            "size": [
             1
            ],
            "sizemode": "area",
            "sizeref": 0.00033057851239669424,
            "symbol": "circle"
           },
           "mode": "markers",
           "name": "Israel",
           "orientation": "v",
           "showlegend": true,
           "type": "scatter",
           "x": [
            86.45161290322581
           ],
           "xaxis": "x",
           "y": [
            56.67741935483871
           ],
           "yaxis": "y"
          },
          {
           "hovertemplate": "<b>%{hovertext}</b><br><br>Country_name=India<br>Month=8<br>AQI=%{x}<br>AQI_20=%{y}<br>size=%{marker.size}<extra></extra>",
           "hovertext": [
            "Delhi"
           ],
           "ids": [
            "India"
           ],
           "legendgroup": "India",
           "marker": {
            "color": "#19d3f3",
            "size": [
             1
            ],
            "sizemode": "area",
            "sizeref": 0.00033057851239669424,
            "symbol": "circle"
           },
           "mode": "markers",
           "name": "India",
           "orientation": "v",
           "showlegend": true,
           "type": "scatter",
           "x": [
            22.741935483870968
           ],
           "xaxis": "x",
           "y": [
            73.25806451612904
           ],
           "yaxis": "y"
          },
          {
           "hovertemplate": "<b>%{hovertext}</b><br><br>Country_name=Australia<br>Month=8<br>AQI=%{x}<br>AQI_20=%{y}<br>size=%{marker.size}<extra></extra>",
           "hovertext": [
            "Melbourne"
           ],
           "ids": [
            "Australia"
           ],
           "legendgroup": "Australia",
           "marker": {
            "color": "#FF6692",
            "size": [
             1
            ],
            "sizemode": "area",
            "sizeref": 0.00033057851239669424,
            "symbol": "circle"
           },
           "mode": "markers",
           "name": "Australia",
           "orientation": "v",
           "showlegend": true,
           "type": "scatter",
           "x": [
            38.645161290322584
           ],
           "xaxis": "x",
           "y": [
            21.677419354838708
           ],
           "yaxis": "y"
          },
          {
           "hovertemplate": "<b>%{hovertext}</b><br><br>Country_name=Thailand<br>Month=8<br>AQI=%{x}<br>AQI_20=%{y}<br>size=%{marker.size}<extra></extra>",
           "hovertext": [
            "Bangkok"
           ],
           "ids": [
            "Thailand"
           ],
           "legendgroup": "Thailand",
           "marker": {
            "color": "#B6E880",
            "size": [
             1
            ],
            "sizemode": "area",
            "sizeref": 0.00033057851239669424,
            "symbol": "circle"
           },
           "mode": "markers",
           "name": "Thailand",
           "orientation": "v",
           "showlegend": true,
           "type": "scatter",
           "x": [
            52.96774193548387
           ],
           "xaxis": "x",
           "y": [
            50.225806451612904
           ],
           "yaxis": "y"
          },
          {
           "hovertemplate": "<b>%{hovertext}</b><br><br>Country_name=Argentina<br>Month=8<br>AQI=%{x}<br>AQI_20=%{y}<br>size=%{marker.size}<extra></extra>",
           "hovertext": [
            "Buenos Aires"
           ],
           "ids": [
            "Argentina"
           ],
           "legendgroup": "Argentina",
           "marker": {
            "color": "#FF97FF",
            "size": [
             1
            ],
            "sizemode": "area",
            "sizeref": 0.00033057851239669424,
            "symbol": "circle"
           },
           "mode": "markers",
           "name": "Argentina",
           "orientation": "v",
           "showlegend": true,
           "type": "scatter",
           "x": [
            40
           ],
           "xaxis": "x",
           "y": [
            50.58064516129032
           ],
           "yaxis": "y"
          },
          {
           "hovertemplate": "<b>%{hovertext}</b><br><br>Country_name=Spain<br>Month=8<br>AQI=%{x}<br>AQI_20=%{y}<br>size=%{marker.size}<extra></extra>",
           "hovertext": [
            "Madrid",
            "Barcelona"
           ],
           "ids": [
            "Spain",
            "Spain"
           ],
           "legendgroup": "Spain",
           "marker": {
            "color": "#FECB52",
            "size": [
             1,
             1
            ],
            "sizemode": "area",
            "sizeref": 0.00033057851239669424,
            "symbol": "circle"
           },
           "mode": "markers",
           "name": "Spain",
           "orientation": "v",
           "showlegend": true,
           "type": "scatter",
           "x": [
            90.45161290322581,
            28.64516129032258
           ],
           "xaxis": "x",
           "y": [
            37.61290322580645,
            24.667741935483868
           ],
           "yaxis": "y"
          },
          {
           "hovertemplate": "<b>%{hovertext}</b><br><br>Country_name=Switzerland<br>Month=8<br>AQI=%{x}<br>AQI_20=%{y}<br>size=%{marker.size}<extra></extra>",
           "hovertext": [
            "Zürich"
           ],
           "ids": [
            "Switzerland"
           ],
           "legendgroup": "Switzerland",
           "marker": {
            "color": "#636efa",
            "size": [
             1
            ],
            "sizemode": "area",
            "sizeref": 0.00033057851239669424,
            "symbol": "circle"
           },
           "mode": "markers",
           "name": "Switzerland",
           "orientation": "v",
           "showlegend": true,
           "type": "scatter",
           "x": [
            37.935483870967744
           ],
           "xaxis": "x",
           "y": [
            24.548387096774192
           ],
           "yaxis": "y"
          },
          {
           "hovertemplate": "<b>%{hovertext}</b><br><br>Country_name=Chile<br>Month=8<br>AQI=%{x}<br>AQI_20=%{y}<br>size=%{marker.size}<extra></extra>",
           "hovertext": [
            "Los Ángeles"
           ],
           "ids": [
            "Chile"
           ],
           "legendgroup": "Chile",
           "marker": {
            "color": "#EF553B",
            "size": [
             1
            ],
            "sizemode": "area",
            "sizeref": 0.00033057851239669424,
            "symbol": "circle"
           },
           "mode": "markers",
           "name": "Chile",
           "orientation": "v",
           "showlegend": true,
           "type": "scatter",
           "x": [
            21.254838709677415
           ],
           "xaxis": "x",
           "y": [
            42.516129032258064
           ],
           "yaxis": "y"
          },
          {
           "hovertemplate": "<b>%{hovertext}</b><br><br>Country_name=Germany<br>Month=8<br>AQI=%{x}<br>AQI_20=%{y}<br>size=%{marker.size}<extra></extra>",
           "hovertext": [
            "Berlin"
           ],
           "ids": [
            "Germany"
           ],
           "legendgroup": "Germany",
           "marker": {
            "color": "#00cc96",
            "size": [
             1
            ],
            "sizemode": "area",
            "sizeref": 0.00033057851239669424,
            "symbol": "circle"
           },
           "mode": "markers",
           "name": "Germany",
           "orientation": "v",
           "showlegend": true,
           "type": "scatter",
           "x": [
            27.064516129032253
           ],
           "xaxis": "x",
           "y": [
            33.806451612903224
           ],
           "yaxis": "y"
          }
         ],
         "name": "8"
        },
        {
         "data": [
          {
           "hovertemplate": "<b>%{hovertext}</b><br><br>Country_name=Netherlands<br>Month=9<br>AQI=%{x}<br>AQI_20=%{y}<br>size=%{marker.size}<extra></extra>",
           "hovertext": [
            "Rotterdam"
           ],
           "ids": [
            "Netherlands"
           ],
           "legendgroup": "Netherlands",
           "marker": {
            "color": "#636efa",
            "size": [
             1
            ],
            "sizemode": "area",
            "sizeref": 0.00033057851239669424,
            "symbol": "circle"
           },
           "mode": "markers",
           "name": "Netherlands",
           "orientation": "v",
           "showlegend": true,
           "type": "scatter",
           "x": [
            39.29032258064516
           ],
           "xaxis": "x",
           "y": [
            36.78787878787879
           ],
           "yaxis": "y"
          },
          {
           "hovertemplate": "<b>%{hovertext}</b><br><br>Country_name=United States<br>Month=9<br>AQI=%{x}<br>AQI_20=%{y}<br>size=%{marker.size}<extra></extra>",
           "hovertext": [
            "San Francisco"
           ],
           "ids": [
            "United States"
           ],
           "legendgroup": "United States",
           "marker": {
            "color": "#EF553B",
            "size": [
             1
            ],
            "sizemode": "area",
            "sizeref": 0.00033057851239669424,
            "symbol": "circle"
           },
           "mode": "markers",
           "name": "United States",
           "orientation": "v",
           "showlegend": true,
           "type": "scatter",
           "x": [
            60.03225806451613
           ],
           "xaxis": "x",
           "y": [
            65
           ],
           "yaxis": "y"
          },
          {
           "hovertemplate": "<b>%{hovertext}</b><br><br>Country_name=France<br>Month=9<br>AQI=%{x}<br>AQI_20=%{y}<br>size=%{marker.size}<extra></extra>",
           "hovertext": [
            "Paris"
           ],
           "ids": [
            "France"
           ],
           "legendgroup": "France",
           "marker": {
            "color": "#00cc96",
            "size": [
             1
            ],
            "sizemode": "area",
            "sizeref": 0.00033057851239669424,
            "symbol": "circle"
           },
           "mode": "markers",
           "name": "France",
           "orientation": "v",
           "showlegend": true,
           "type": "scatter",
           "x": [
            43.903225806451616
           ],
           "xaxis": "x",
           "y": [
            43.06060606060606
           ],
           "yaxis": "y"
          },
          {
           "hovertemplate": "<b>%{hovertext}</b><br><br>Country_name=Japan<br>Month=9<br>AQI=%{x}<br>AQI_20=%{y}<br>size=%{marker.size}<extra></extra>",
           "hovertext": [
            "Tokyo"
           ],
           "ids": [
            "Japan"
           ],
           "legendgroup": "Japan",
           "marker": {
            "color": "#ab63fa",
            "size": [
             1
            ],
            "sizemode": "area",
            "sizeref": 0.00033057851239669424,
            "symbol": "circle"
           },
           "mode": "markers",
           "name": "Japan",
           "orientation": "v",
           "showlegend": true,
           "type": "scatter",
           "x": [
            71.93548387096774
           ],
           "xaxis": "x",
           "y": [
            25.814814814814813
           ],
           "yaxis": "y"
          },
          {
           "hovertemplate": "<b>%{hovertext}</b><br><br>Country_name=Israel<br>Month=9<br>AQI=%{x}<br>AQI_20=%{y}<br>size=%{marker.size}<extra></extra>",
           "hovertext": [
            "Jerusalem"
           ],
           "ids": [
            "Israel"
           ],
           "legendgroup": "Israel",
           "marker": {
            "color": "#FFA15A",
            "size": [
             1
            ],
            "sizemode": "area",
            "sizeref": 0.00033057851239669424,
            "symbol": "circle"
           },
           "mode": "markers",
           "name": "Israel",
           "orientation": "v",
           "showlegend": true,
           "type": "scatter",
           "x": [
            23.06129032258065
           ],
           "xaxis": "x",
           "y": [
            66.21212121212122
           ],
           "yaxis": "y"
          },
          {
           "hovertemplate": "<b>%{hovertext}</b><br><br>Country_name=India<br>Month=9<br>AQI=%{x}<br>AQI_20=%{y}<br>size=%{marker.size}<extra></extra>",
           "hovertext": [
            "Delhi"
           ],
           "ids": [
            "India"
           ],
           "legendgroup": "India",
           "marker": {
            "color": "#19d3f3",
            "size": [
             1
            ],
            "sizemode": "area",
            "sizeref": 0.00033057851239669424,
            "symbol": "circle"
           },
           "mode": "markers",
           "name": "India",
           "orientation": "v",
           "showlegend": true,
           "type": "scatter",
           "x": [
            37.67741935483871
           ],
           "xaxis": "x",
           "y": [
            126.84848484848484
           ],
           "yaxis": "y"
          },
          {
           "hovertemplate": "<b>%{hovertext}</b><br><br>Country_name=Australia<br>Month=9<br>AQI=%{x}<br>AQI_20=%{y}<br>size=%{marker.size}<extra></extra>",
           "hovertext": [
            "Melbourne"
           ],
           "ids": [
            "Australia"
           ],
           "legendgroup": "Australia",
           "marker": {
            "color": "#FF6692",
            "size": [
             1
            ],
            "sizemode": "area",
            "sizeref": 0.00033057851239669424,
            "symbol": "circle"
           },
           "mode": "markers",
           "name": "Australia",
           "orientation": "v",
           "showlegend": true,
           "type": "scatter",
           "x": [
            32.87096774193548
           ],
           "xaxis": "x",
           "y": [
            22.939393939393938
           ],
           "yaxis": "y"
          },
          {
           "hovertemplate": "<b>%{hovertext}</b><br><br>Country_name=Thailand<br>Month=9<br>AQI=%{x}<br>AQI_20=%{y}<br>size=%{marker.size}<extra></extra>",
           "hovertext": [
            "Bangkok"
           ],
           "ids": [
            "Thailand"
           ],
           "legendgroup": "Thailand",
           "marker": {
            "color": "#B6E880",
            "size": [
             1
            ],
            "sizemode": "area",
            "sizeref": 0.00033057851239669424,
            "symbol": "circle"
           },
           "mode": "markers",
           "name": "Thailand",
           "orientation": "v",
           "showlegend": true,
           "type": "scatter",
           "x": [
            50.16129032258065
           ],
           "xaxis": "x",
           "y": [
            48.36363636363637
           ],
           "yaxis": "y"
          },
          {
           "hovertemplate": "<b>%{hovertext}</b><br><br>Country_name=Argentina<br>Month=9<br>AQI=%{x}<br>AQI_20=%{y}<br>size=%{marker.size}<extra></extra>",
           "hovertext": [
            "Buenos Aires"
           ],
           "ids": [
            "Argentina"
           ],
           "legendgroup": "Argentina",
           "marker": {
            "color": "#FF97FF",
            "size": [
             1
            ],
            "sizemode": "area",
            "sizeref": 0.00033057851239669424,
            "symbol": "circle"
           },
           "mode": "markers",
           "name": "Argentina",
           "orientation": "v",
           "showlegend": true,
           "type": "scatter",
           "x": [
            99.93548387096774
           ],
           "xaxis": "x",
           "y": [
            35.827586206896555
           ],
           "yaxis": "y"
          },
          {
           "hovertemplate": "<b>%{hovertext}</b><br><br>Country_name=Spain<br>Month=9<br>AQI=%{x}<br>AQI_20=%{y}<br>size=%{marker.size}<extra></extra>",
           "hovertext": [
            "Barcelona",
            "Madrid"
           ],
           "ids": [
            "Spain",
            "Spain"
           ],
           "legendgroup": "Spain",
           "marker": {
            "color": "#FECB52",
            "size": [
             1,
             1
            ],
            "sizemode": "area",
            "sizeref": 0.00033057851239669424,
            "symbol": "circle"
           },
           "mode": "markers",
           "name": "Spain",
           "orientation": "v",
           "showlegend": true,
           "type": "scatter",
           "x": [
            28.580645161290324,
            23.419354838709676
           ],
           "xaxis": "x",
           "y": [
            22.57575757575757,
            35.90909090909091
           ],
           "yaxis": "y"
          },
          {
           "hovertemplate": "<b>%{hovertext}</b><br><br>Country_name=Switzerland<br>Month=9<br>AQI=%{x}<br>AQI_20=%{y}<br>size=%{marker.size}<extra></extra>",
           "hovertext": [
            "Zürich"
           ],
           "ids": [
            "Switzerland"
           ],
           "legendgroup": "Switzerland",
           "marker": {
            "color": "#636efa",
            "size": [
             1
            ],
            "sizemode": "area",
            "sizeref": 0.00033057851239669424,
            "symbol": "circle"
           },
           "mode": "markers",
           "name": "Switzerland",
           "orientation": "v",
           "showlegend": true,
           "type": "scatter",
           "x": [
            24.612903225806452
           ],
           "xaxis": "x",
           "y": [
            18.130303030303033
           ],
           "yaxis": "y"
          },
          {
           "hovertemplate": "<b>%{hovertext}</b><br><br>Country_name=Chile<br>Month=9<br>AQI=%{x}<br>AQI_20=%{y}<br>size=%{marker.size}<extra></extra>",
           "hovertext": [
            "Los Ángeles"
           ],
           "ids": [
            "Chile"
           ],
           "legendgroup": "Chile",
           "marker": {
            "color": "#EF553B",
            "size": [
             1
            ],
            "sizemode": "area",
            "sizeref": 0.00033057851239669424,
            "symbol": "circle"
           },
           "mode": "markers",
           "name": "Chile",
           "orientation": "v",
           "showlegend": true,
           "type": "scatter",
           "x": [
            33.193548387096776
           ],
           "xaxis": "x",
           "y": [
            57.06060606060606
           ],
           "yaxis": "y"
          },
          {
           "hovertemplate": "<b>%{hovertext}</b><br><br>Country_name=Germany<br>Month=9<br>AQI=%{x}<br>AQI_20=%{y}<br>size=%{marker.size}<extra></extra>",
           "hovertext": [
            "Berlin"
           ],
           "ids": [
            "Germany"
           ],
           "legendgroup": "Germany",
           "marker": {
            "color": "#00cc96",
            "size": [
             1
            ],
            "sizemode": "area",
            "sizeref": 0.00033057851239669424,
            "symbol": "circle"
           },
           "mode": "markers",
           "name": "Germany",
           "orientation": "v",
           "showlegend": true,
           "type": "scatter",
           "x": [
            16.806451612903224
           ],
           "xaxis": "x",
           "y": [
            33.84848484848485
           ],
           "yaxis": "y"
          }
         ],
         "name": "9"
        },
        {
         "data": [
          {
           "hovertemplate": "<b>%{hovertext}</b><br><br>Country_name=Netherlands<br>Month=10<br>AQI=%{x}<br>AQI_20=%{y}<br>size=%{marker.size}<extra></extra>",
           "hovertext": [
            "Rotterdam"
           ],
           "ids": [
            "Netherlands"
           ],
           "legendgroup": "Netherlands",
           "marker": {
            "color": "#636efa",
            "size": [
             1
            ],
            "sizemode": "area",
            "sizeref": 0.00033057851239669424,
            "symbol": "circle"
           },
           "mode": "markers",
           "name": "Netherlands",
           "orientation": "v",
           "showlegend": true,
           "type": "scatter",
           "x": [
            35.75675675675676
           ],
           "xaxis": "x",
           "y": [
            27.885714285714286
           ],
           "yaxis": "y"
          },
          {
           "hovertemplate": "<b>%{hovertext}</b><br><br>Country_name=United States<br>Month=10<br>AQI=%{x}<br>AQI_20=%{y}<br>size=%{marker.size}<extra></extra>",
           "hovertext": [
            "San Francisco"
           ],
           "ids": [
            "United States"
           ],
           "legendgroup": "United States",
           "marker": {
            "color": "#EF553B",
            "size": [
             1
            ],
            "sizemode": "area",
            "sizeref": 0.00033057851239669424,
            "symbol": "circle"
           },
           "mode": "markers",
           "name": "United States",
           "orientation": "v",
           "showlegend": true,
           "type": "scatter",
           "x": [
            37.567567567567565
           ],
           "xaxis": "x",
           "y": [
            50.17142857142857
           ],
           "yaxis": "y"
          },
          {
           "hovertemplate": "<b>%{hovertext}</b><br><br>Country_name=France<br>Month=10<br>AQI=%{x}<br>AQI_20=%{y}<br>size=%{marker.size}<extra></extra>",
           "hovertext": [
            "Paris"
           ],
           "ids": [
            "France"
           ],
           "legendgroup": "France",
           "marker": {
            "color": "#00cc96",
            "size": [
             1
            ],
            "sizemode": "area",
            "sizeref": 0.00033057851239669424,
            "symbol": "circle"
           },
           "mode": "markers",
           "name": "France",
           "orientation": "v",
           "showlegend": true,
           "type": "scatter",
           "x": [
            26.027027027027028
           ],
           "xaxis": "x",
           "y": [
            33.68571428571428
           ],
           "yaxis": "y"
          },
          {
           "hovertemplate": "<b>%{hovertext}</b><br><br>Country_name=Japan<br>Month=10<br>AQI=%{x}<br>AQI_20=%{y}<br>size=%{marker.size}<extra></extra>",
           "hovertext": [
            "Tokyo"
           ],
           "ids": [
            "Japan"
           ],
           "legendgroup": "Japan",
           "marker": {
            "color": "#ab63fa",
            "size": [
             1
            ],
            "sizemode": "area",
            "sizeref": 0.00033057851239669424,
            "symbol": "circle"
           },
           "mode": "markers",
           "name": "Japan",
           "orientation": "v",
           "showlegend": true,
           "type": "scatter",
           "x": [
            32.67567567567568
           ],
           "xaxis": "x",
           "y": [
            34.94285714285714
           ],
           "yaxis": "y"
          },
          {
           "hovertemplate": "<b>%{hovertext}</b><br><br>Country_name=Israel<br>Month=10<br>AQI=%{x}<br>AQI_20=%{y}<br>size=%{marker.size}<extra></extra>",
           "hovertext": [
            "Jerusalem"
           ],
           "ids": [
            "Israel"
           ],
           "legendgroup": "Israel",
           "marker": {
            "color": "#FFA15A",
            "size": [
             1
            ],
            "sizemode": "area",
            "sizeref": 0.00033057851239669424,
            "symbol": "circle"
           },
           "mode": "markers",
           "name": "Israel",
           "orientation": "v",
           "showlegend": true,
           "type": "scatter",
           "x": [
            39.45945945945946
           ],
           "xaxis": "x",
           "y": [
            52.2
           ],
           "yaxis": "y"
          },
          {
           "hovertemplate": "<b>%{hovertext}</b><br><br>Country_name=India<br>Month=10<br>AQI=%{x}<br>AQI_20=%{y}<br>size=%{marker.size}<extra></extra>",
           "hovertext": [
            "Delhi"
           ],
           "ids": [
            "India"
           ],
           "legendgroup": "India",
           "marker": {
            "color": "#19d3f3",
            "size": [
             1
            ],
            "sizemode": "area",
            "sizeref": 0.00033057851239669424,
            "symbol": "circle"
           },
           "mode": "markers",
           "name": "India",
           "orientation": "v",
           "showlegend": true,
           "type": "scatter",
           "x": [
            76.5945945945946
           ],
           "xaxis": "x",
           "y": [
            192.4857142857143
           ],
           "yaxis": "y"
          },
          {
           "hovertemplate": "<b>%{hovertext}</b><br><br>Country_name=Australia<br>Month=10<br>AQI=%{x}<br>AQI_20=%{y}<br>size=%{marker.size}<extra></extra>",
           "hovertext": [
            "Melbourne"
           ],
           "ids": [
            "Australia"
           ],
           "legendgroup": "Australia",
           "marker": {
            "color": "#FF6692",
            "size": [
             1
            ],
            "sizemode": "area",
            "sizeref": 0.00033057851239669424,
            "symbol": "circle"
           },
           "mode": "markers",
           "name": "Australia",
           "orientation": "v",
           "showlegend": true,
           "type": "scatter",
           "x": [
            39.513513513513516
           ],
           "xaxis": "x",
           "y": [
            24.085714285714285
           ],
           "yaxis": "y"
          },
          {
           "hovertemplate": "<b>%{hovertext}</b><br><br>Country_name=Thailand<br>Month=10<br>AQI=%{x}<br>AQI_20=%{y}<br>size=%{marker.size}<extra></extra>",
           "hovertext": [
            "Bangkok"
           ],
           "ids": [
            "Thailand"
           ],
           "legendgroup": "Thailand",
           "marker": {
            "color": "#B6E880",
            "size": [
             1
            ],
            "sizemode": "area",
            "sizeref": 0.00033057851239669424,
            "symbol": "circle"
           },
           "mode": "markers",
           "name": "Thailand",
           "orientation": "v",
           "showlegend": true,
           "type": "scatter",
           "x": [
            22.243243243243242
           ],
           "xaxis": "x",
           "y": [
            60.42857142857143
           ],
           "yaxis": "y"
          },
          {
           "hovertemplate": "<b>%{hovertext}</b><br><br>Country_name=Argentina<br>Month=10<br>AQI=%{x}<br>AQI_20=%{y}<br>size=%{marker.size}<extra></extra>",
           "hovertext": [
            "Buenos Aires"
           ],
           "ids": [
            "Argentina"
           ],
           "legendgroup": "Argentina",
           "marker": {
            "color": "#FF97FF",
            "size": [
             1
            ],
            "sizemode": "area",
            "sizeref": 0.00033057851239669424,
            "symbol": "circle"
           },
           "mode": "markers",
           "name": "Argentina",
           "orientation": "v",
           "showlegend": true,
           "type": "scatter",
           "x": [
            10.489189189189192
           ],
           "xaxis": "x",
           "y": [
            34.5
           ],
           "yaxis": "y"
          },
          {
           "hovertemplate": "<b>%{hovertext}</b><br><br>Country_name=Spain<br>Month=10<br>AQI=%{x}<br>AQI_20=%{y}<br>size=%{marker.size}<extra></extra>",
           "hovertext": [
            "Barcelona",
            "Madrid"
           ],
           "ids": [
            "Spain",
            "Spain"
           ],
           "legendgroup": "Spain",
           "marker": {
            "color": "#FECB52",
            "size": [
             1,
             1
            ],
            "sizemode": "area",
            "sizeref": 0.00033057851239669424,
            "symbol": "circle"
           },
           "mode": "markers",
           "name": "Spain",
           "orientation": "v",
           "showlegend": true,
           "type": "scatter",
           "x": [
            29.35135135135135,
            59.15625
           ],
           "xaxis": "x",
           "y": [
            21.17142857142857,
            32.02857142857143
           ],
           "yaxis": "y"
          },
          {
           "hovertemplate": "<b>%{hovertext}</b><br><br>Country_name=Switzerland<br>Month=10<br>AQI=%{x}<br>AQI_20=%{y}<br>size=%{marker.size}<extra></extra>",
           "hovertext": [
            "Zürich"
           ],
           "ids": [
            "Switzerland"
           ],
           "legendgroup": "Switzerland",
           "marker": {
            "color": "#636efa",
            "size": [
             1
            ],
            "sizemode": "area",
            "sizeref": 0.00033057851239669424,
            "symbol": "circle"
           },
           "mode": "markers",
           "name": "Switzerland",
           "orientation": "v",
           "showlegend": true,
           "type": "scatter",
           "x": [
            31.7027027027027
           ],
           "xaxis": "x",
           "y": [
            12.351428571428569
           ],
           "yaxis": "y"
          },
          {
           "hovertemplate": "<b>%{hovertext}</b><br><br>Country_name=Chile<br>Month=10<br>AQI=%{x}<br>AQI_20=%{y}<br>size=%{marker.size}<extra></extra>",
           "hovertext": [
            "Los Ángeles"
           ],
           "ids": [
            "Chile"
           ],
           "legendgroup": "Chile",
           "marker": {
            "color": "#EF553B",
            "size": [
             1
            ],
            "sizemode": "area",
            "sizeref": 0.00033057851239669424,
            "symbol": "circle"
           },
           "mode": "markers",
           "name": "Chile",
           "orientation": "v",
           "showlegend": true,
           "type": "scatter",
           "x": [
            36.78378378378378
           ],
           "xaxis": "x",
           "y": [
            42.74285714285714
           ],
           "yaxis": "y"
          },
          {
           "hovertemplate": "<b>%{hovertext}</b><br><br>Country_name=Germany<br>Month=10<br>AQI=%{x}<br>AQI_20=%{y}<br>size=%{marker.size}<extra></extra>",
           "hovertext": [
            "Berlin"
           ],
           "ids": [
            "Germany"
           ],
           "legendgroup": "Germany",
           "marker": {
            "color": "#00cc96",
            "size": [
             1
            ],
            "sizemode": "area",
            "sizeref": 0.00033057851239669424,
            "symbol": "circle"
           },
           "mode": "markers",
           "name": "Germany",
           "orientation": "v",
           "showlegend": true,
           "type": "scatter",
           "x": [
            176.59459459459458
           ],
           "xaxis": "x",
           "y": [
            35.15151515151515
           ],
           "yaxis": "y"
          }
         ],
         "name": "10"
        },
        {
         "data": [
          {
           "hovertemplate": "<b>%{hovertext}</b><br><br>Country_name=Netherlands<br>Month=11<br>AQI=%{x}<br>AQI_20=%{y}<br>size=%{marker.size}<extra></extra>",
           "hovertext": [
            "Rotterdam"
           ],
           "ids": [
            "Netherlands"
           ],
           "legendgroup": "Netherlands",
           "marker": {
            "color": "#636efa",
            "size": [
             1
            ],
            "sizemode": "area",
            "sizeref": 0.00033057851239669424,
            "symbol": "circle"
           },
           "mode": "markers",
           "name": "Netherlands",
           "orientation": "v",
           "showlegend": true,
           "type": "scatter",
           "x": [
            253.03333333333333
           ],
           "xaxis": "x",
           "y": [
            49.333333333333336
           ],
           "yaxis": "y"
          },
          {
           "hovertemplate": "<b>%{hovertext}</b><br><br>Country_name=United States<br>Month=11<br>AQI=%{x}<br>AQI_20=%{y}<br>size=%{marker.size}<extra></extra>",
           "hovertext": [
            "San Francisco"
           ],
           "ids": [
            "United States"
           ],
           "legendgroup": "United States",
           "marker": {
            "color": "#EF553B",
            "size": [
             1
            ],
            "sizemode": "area",
            "sizeref": 0.00033057851239669424,
            "symbol": "circle"
           },
           "mode": "markers",
           "name": "United States",
           "orientation": "v",
           "showlegend": true,
           "type": "scatter",
           "x": [
            42.035714285714285
           ],
           "xaxis": "x",
           "y": [
            26.9
           ],
           "yaxis": "y"
          },
          {
           "hovertemplate": "<b>%{hovertext}</b><br><br>Country_name=France<br>Month=11<br>AQI=%{x}<br>AQI_20=%{y}<br>size=%{marker.size}<extra></extra>",
           "hovertext": [
            "Paris"
           ],
           "ids": [
            "France"
           ],
           "legendgroup": "France",
           "marker": {
            "color": "#00cc96",
            "size": [
             1
            ],
            "sizemode": "area",
            "sizeref": 0.00033057851239669424,
            "symbol": "circle"
           },
           "mode": "markers",
           "name": "France",
           "orientation": "v",
           "showlegend": true,
           "type": "scatter",
           "x": [
            38.766666666666666
           ],
           "xaxis": "x",
           "y": [
            54.06666666666667
           ],
           "yaxis": "y"
          },
          {
           "hovertemplate": "<b>%{hovertext}</b><br><br>Country_name=Japan<br>Month=11<br>AQI=%{x}<br>AQI_20=%{y}<br>size=%{marker.size}<extra></extra>",
           "hovertext": [
            "Tokyo"
           ],
           "ids": [
            "Japan"
           ],
           "legendgroup": "Japan",
           "marker": {
            "color": "#ab63fa",
            "size": [
             1
            ],
            "sizemode": "area",
            "sizeref": 0.00033057851239669424,
            "symbol": "circle"
           },
           "mode": "markers",
           "name": "Japan",
           "orientation": "v",
           "showlegend": true,
           "type": "scatter",
           "x": [
            75.88
           ],
           "xaxis": "x",
           "y": [
            41.36666666666667
           ],
           "yaxis": "y"
          },
          {
           "hovertemplate": "<b>%{hovertext}</b><br><br>Country_name=Israel<br>Month=11<br>AQI=%{x}<br>AQI_20=%{y}<br>size=%{marker.size}<extra></extra>",
           "hovertext": [
            "Jerusalem"
           ],
           "ids": [
            "Israel"
           ],
           "legendgroup": "Israel",
           "marker": {
            "color": "#FFA15A",
            "size": [
             1
            ],
            "sizemode": "area",
            "sizeref": 0.00033057851239669424,
            "symbol": "circle"
           },
           "mode": "markers",
           "name": "Israel",
           "orientation": "v",
           "showlegend": true,
           "type": "scatter",
           "x": [
            57.142857142857146
           ],
           "xaxis": "x",
           "y": [
            52.166666666666664
           ],
           "yaxis": "y"
          },
          {
           "hovertemplate": "<b>%{hovertext}</b><br><br>Country_name=India<br>Month=11<br>AQI=%{x}<br>AQI_20=%{y}<br>size=%{marker.size}<extra></extra>",
           "hovertext": [
            "Delhi"
           ],
           "ids": [
            "India"
           ],
           "legendgroup": "India",
           "marker": {
            "color": "#19d3f3",
            "size": [
             1
            ],
            "sizemode": "area",
            "sizeref": 0.00033057851239669424,
            "symbol": "circle"
           },
           "mode": "markers",
           "name": "India",
           "orientation": "v",
           "showlegend": true,
           "type": "scatter",
           "x": [
            24.366666666666667
           ],
           "xaxis": "x",
           "y": [
            259.3333333333333
           ],
           "yaxis": "y"
          },
          {
           "hovertemplate": "<b>%{hovertext}</b><br><br>Country_name=Australia<br>Month=11<br>AQI=%{x}<br>AQI_20=%{y}<br>size=%{marker.size}<extra></extra>",
           "hovertext": [
            "Melbourne"
           ],
           "ids": [
            "Australia"
           ],
           "legendgroup": "Australia",
           "marker": {
            "color": "#FF6692",
            "size": [
             1
            ],
            "sizemode": "area",
            "sizeref": 0.00033057851239669424,
            "symbol": "circle"
           },
           "mode": "markers",
           "name": "Australia",
           "orientation": "v",
           "showlegend": true,
           "type": "scatter",
           "x": [
            41.733333333333334
           ],
           "xaxis": "x",
           "y": [
            26.266666666666666
           ],
           "yaxis": "y"
          },
          {
           "hovertemplate": "<b>%{hovertext}</b><br><br>Country_name=Thailand<br>Month=11<br>AQI=%{x}<br>AQI_20=%{y}<br>size=%{marker.size}<extra></extra>",
           "hovertext": [
            "Bangkok"
           ],
           "ids": [
            "Thailand"
           ],
           "legendgroup": "Thailand",
           "marker": {
            "color": "#B6E880",
            "size": [
             1
            ],
            "sizemode": "area",
            "sizeref": 0.00033057851239669424,
            "symbol": "circle"
           },
           "mode": "markers",
           "name": "Thailand",
           "orientation": "v",
           "showlegend": true,
           "type": "scatter",
           "x": [
            16.566666666666666
           ],
           "xaxis": "x",
           "y": [
            80.1
           ],
           "yaxis": "y"
          },
          {
           "hovertemplate": "<b>%{hovertext}</b><br><br>Country_name=Argentina<br>Month=11<br>AQI=%{x}<br>AQI_20=%{y}<br>size=%{marker.size}<extra></extra>",
           "hovertext": [
            "Buenos Aires"
           ],
           "ids": [
            "Argentina"
           ],
           "legendgroup": "Argentina",
           "marker": {
            "color": "#FF97FF",
            "size": [
             1
            ],
            "sizemode": "area",
            "sizeref": 0.00033057851239669424,
            "symbol": "circle"
           },
           "mode": "markers",
           "name": "Argentina",
           "orientation": "v",
           "showlegend": true,
           "type": "scatter",
           "x": [
            44.86666666666667
           ],
           "xaxis": "x",
           "y": [
            28.366666666666667
           ],
           "yaxis": "y"
          },
          {
           "hovertemplate": "<b>%{hovertext}</b><br><br>Country_name=Spain<br>Month=11<br>AQI=%{x}<br>AQI_20=%{y}<br>size=%{marker.size}<extra></extra>",
           "hovertext": [
            "Madrid",
            "Barcelona"
           ],
           "ids": [
            "Spain",
            "Spain"
           ],
           "legendgroup": "Spain",
           "marker": {
            "color": "#FECB52",
            "size": [
             1,
             1
            ],
            "sizemode": "area",
            "sizeref": 0.00033057851239669424,
            "symbol": "circle"
           },
           "mode": "markers",
           "name": "Spain",
           "orientation": "v",
           "showlegend": true,
           "type": "scatter",
           "x": [
            11.963333333333333,
            28.6
           ],
           "xaxis": "x",
           "y": [
            51.4,
            24.333333333333332
           ],
           "yaxis": "y"
          },
          {
           "hovertemplate": "<b>%{hovertext}</b><br><br>Country_name=Switzerland<br>Month=11<br>AQI=%{x}<br>AQI_20=%{y}<br>size=%{marker.size}<extra></extra>",
           "hovertext": [
            "Zürich"
           ],
           "ids": [
            "Switzerland"
           ],
           "legendgroup": "Switzerland",
           "marker": {
            "color": "#636efa",
            "size": [
             1
            ],
            "sizemode": "area",
            "sizeref": 0.00033057851239669424,
            "symbol": "circle"
           },
           "mode": "markers",
           "name": "Switzerland",
           "orientation": "v",
           "showlegend": true,
           "type": "scatter",
           "x": [
            37.233333333333334
           ],
           "xaxis": "x",
           "y": [
            14.766666666666667
           ],
           "yaxis": "y"
          },
          {
           "hovertemplate": "<b>%{hovertext}</b><br><br>Country_name=Chile<br>Month=11<br>AQI=%{x}<br>AQI_20=%{y}<br>size=%{marker.size}<extra></extra>",
           "hovertext": [
            "Los Ángeles"
           ],
           "ids": [
            "Chile"
           ],
           "legendgroup": "Chile",
           "marker": {
            "color": "#EF553B",
            "size": [
             1
            ],
            "sizemode": "area",
            "sizeref": 0.00033057851239669424,
            "symbol": "circle"
           },
           "mode": "markers",
           "name": "Chile",
           "orientation": "v",
           "showlegend": true,
           "type": "scatter",
           "x": [
            89.33333333333333
           ],
           "xaxis": "x",
           "y": [
            33.36666666666667
           ],
           "yaxis": "y"
          },
          {
           "hovertemplate": "<b>%{hovertext}</b><br><br>Country_name=Germany<br>Month=11<br>AQI=%{x}<br>AQI_20=%{y}<br>size=%{marker.size}<extra></extra>",
           "hovertext": [
            "Berlin"
           ],
           "ids": [
            "Germany"
           ],
           "legendgroup": "Germany",
           "marker": {
            "color": "#00cc96",
            "size": [
             1
            ],
            "sizemode": "area",
            "sizeref": 0.00033057851239669424,
            "symbol": "circle"
           },
           "mode": "markers",
           "name": "Germany",
           "orientation": "v",
           "showlegend": true,
           "type": "scatter",
           "x": [
            23.8
           ],
           "xaxis": "x",
           "y": [
            45.3
           ],
           "yaxis": "y"
          }
         ],
         "name": "11"
        },
        {
         "data": [
          {
           "hovertemplate": "<b>%{hovertext}</b><br><br>Country_name=Netherlands<br>Month=12<br>AQI=%{x}<br>AQI_20=%{y}<br>size=%{marker.size}<extra></extra>",
           "hovertext": [
            "Rotterdam"
           ],
           "ids": [
            "Netherlands"
           ],
           "legendgroup": "Netherlands",
           "marker": {
            "color": "#636efa",
            "size": [
             1
            ],
            "sizemode": "area",
            "sizeref": 0.00033057851239669424,
            "symbol": "circle"
           },
           "mode": "markers",
           "name": "Netherlands",
           "orientation": "v",
           "showlegend": true,
           "type": "scatter",
           "x": [
            41.121212121212125
           ],
           "xaxis": "x",
           "y": [
            40.8
           ],
           "yaxis": "y"
          },
          {
           "hovertemplate": "<b>%{hovertext}</b><br><br>Country_name=United States<br>Month=12<br>AQI=%{x}<br>AQI_20=%{y}<br>size=%{marker.size}<extra></extra>",
           "hovertext": [
            "San Francisco"
           ],
           "ids": [
            "United States"
           ],
           "legendgroup": "United States",
           "marker": {
            "color": "#EF553B",
            "size": [
             1
            ],
            "sizemode": "area",
            "sizeref": 0.00033057851239669424,
            "symbol": "circle"
           },
           "mode": "markers",
           "name": "United States",
           "orientation": "v",
           "showlegend": true,
           "type": "scatter",
           "x": [
            55
           ],
           "xaxis": "x",
           "y": [
            34.42857142857143
           ],
           "yaxis": "y"
          },
          {
           "hovertemplate": "<b>%{hovertext}</b><br><br>Country_name=France<br>Month=12<br>AQI=%{x}<br>AQI_20=%{y}<br>size=%{marker.size}<extra></extra>",
           "hovertext": [
            "Paris"
           ],
           "ids": [
            "France"
           ],
           "legendgroup": "France",
           "marker": {
            "color": "#00cc96",
            "size": [
             1
            ],
            "sizemode": "area",
            "sizeref": 0.00033057851239669424,
            "symbol": "circle"
           },
           "mode": "markers",
           "name": "France",
           "orientation": "v",
           "showlegend": true,
           "type": "scatter",
           "x": [
            47.24242424242424
           ],
           "xaxis": "x",
           "y": [
            38.6
           ],
           "yaxis": "y"
          },
          {
           "hovertemplate": "<b>%{hovertext}</b><br><br>Country_name=Japan<br>Month=12<br>AQI=%{x}<br>AQI_20=%{y}<br>size=%{marker.size}<extra></extra>",
           "hovertext": [
            "Tokyo"
           ],
           "ids": [
            "Japan"
           ],
           "legendgroup": "Japan",
           "marker": {
            "color": "#ab63fa",
            "size": [
             1
            ],
            "sizemode": "area",
            "sizeref": 0.00033057851239669424,
            "symbol": "circle"
           },
           "mode": "markers",
           "name": "Japan",
           "orientation": "v",
           "showlegend": true,
           "type": "scatter",
           "x": [
            21.363636363636363
           ],
           "xaxis": "x",
           "y": [
            43.542857142857144
           ],
           "yaxis": "y"
          },
          {
           "hovertemplate": "<b>%{hovertext}</b><br><br>Country_name=Israel<br>Month=12<br>AQI=%{x}<br>AQI_20=%{y}<br>size=%{marker.size}<extra></extra>",
           "hovertext": [
            "Jerusalem"
           ],
           "ids": [
            "Israel"
           ],
           "legendgroup": "Israel",
           "marker": {
            "color": "#FFA15A",
            "size": [
             1
            ],
            "sizemode": "area",
            "sizeref": 0.00033057851239669424,
            "symbol": "circle"
           },
           "mode": "markers",
           "name": "Israel",
           "orientation": "v",
           "showlegend": true,
           "type": "scatter",
           "x": [
            40.27272727272727
           ],
           "xaxis": "x",
           "y": [
            58.74285714285714
           ],
           "yaxis": "y"
          },
          {
           "hovertemplate": "<b>%{hovertext}</b><br><br>Country_name=India<br>Month=12<br>AQI=%{x}<br>AQI_20=%{y}<br>size=%{marker.size}<extra></extra>",
           "hovertext": [
            "Delhi"
           ],
           "ids": [
            "India"
           ],
           "legendgroup": "India",
           "marker": {
            "color": "#19d3f3",
            "size": [
             1
            ],
            "sizemode": "area",
            "sizeref": 0.00033057851239669424,
            "symbol": "circle"
           },
           "mode": "markers",
           "name": "India",
           "orientation": "v",
           "showlegend": true,
           "type": "scatter",
           "x": [
            48.39393939393939
           ],
           "xaxis": "x",
           "y": [
            246.68571428571428
           ],
           "yaxis": "y"
          },
          {
           "hovertemplate": "<b>%{hovertext}</b><br><br>Country_name=Australia<br>Month=12<br>AQI=%{x}<br>AQI_20=%{y}<br>size=%{marker.size}<extra></extra>",
           "hovertext": [
            "Melbourne"
           ],
           "ids": [
            "Australia"
           ],
           "legendgroup": "Australia",
           "marker": {
            "color": "#FF6692",
            "size": [
             1
            ],
            "sizemode": "area",
            "sizeref": 0.00033057851239669424,
            "symbol": "circle"
           },
           "mode": "markers",
           "name": "Australia",
           "orientation": "v",
           "showlegend": true,
           "type": "scatter",
           "x": [
            104.72727272727273
           ],
           "xaxis": "x",
           "y": [
            22.2
           ],
           "yaxis": "y"
          },
          {
           "hovertemplate": "<b>%{hovertext}</b><br><br>Country_name=Thailand<br>Month=12<br>AQI=%{x}<br>AQI_20=%{y}<br>size=%{marker.size}<extra></extra>",
           "hovertext": [
            "Bangkok"
           ],
           "ids": [
            "Thailand"
           ],
           "legendgroup": "Thailand",
           "marker": {
            "color": "#B6E880",
            "size": [
             1
            ],
            "sizemode": "area",
            "sizeref": 0.00033057851239669424,
            "symbol": "circle"
           },
           "mode": "markers",
           "name": "Thailand",
           "orientation": "v",
           "showlegend": true,
           "type": "scatter",
           "x": [
            26.12121212121212
           ],
           "xaxis": "x",
           "y": [
            92.17142857142858
           ],
           "yaxis": "y"
          },
          {
           "hovertemplate": "<b>%{hovertext}</b><br><br>Country_name=Argentina<br>Month=12<br>AQI=%{x}<br>AQI_20=%{y}<br>size=%{marker.size}<extra></extra>",
           "hovertext": [
            "Buenos Aires"
           ],
           "ids": [
            "Argentina"
           ],
           "legendgroup": "Argentina",
           "marker": {
            "color": "#FF97FF",
            "size": [
             1
            ],
            "sizemode": "area",
            "sizeref": 0.00033057851239669424,
            "symbol": "circle"
           },
           "mode": "markers",
           "name": "Argentina",
           "orientation": "v",
           "showlegend": true,
           "type": "scatter",
           "x": [
            40.03030303030303
           ],
           "xaxis": "x",
           "y": [
            32.65714285714286
           ],
           "yaxis": "y"
          },
          {
           "hovertemplate": "<b>%{hovertext}</b><br><br>Country_name=Spain<br>Month=12<br>AQI=%{x}<br>AQI_20=%{y}<br>size=%{marker.size}<extra></extra>",
           "hovertext": [
            "Barcelona",
            "Madrid"
           ],
           "ids": [
            "Spain",
            "Spain"
           ],
           "legendgroup": "Spain",
           "marker": {
            "color": "#FECB52",
            "size": [
             1,
             1
            ],
            "sizemode": "area",
            "sizeref": 0.00033057851239669424,
            "symbol": "circle"
           },
           "mode": "markers",
           "name": "Spain",
           "orientation": "v",
           "showlegend": true,
           "type": "scatter",
           "x": [
            12.678787878787878,
            55.03225806451613
           ],
           "xaxis": "x",
           "y": [
            17.142857142857142,
            31.228571428571428
           ],
           "yaxis": "y"
          },
          {
           "hovertemplate": "<b>%{hovertext}</b><br><br>Country_name=Switzerland<br>Month=12<br>AQI=%{x}<br>AQI_20=%{y}<br>size=%{marker.size}<extra></extra>",
           "hovertext": [
            "Zürich"
           ],
           "ids": [
            "Switzerland"
           ],
           "legendgroup": "Switzerland",
           "marker": {
            "color": "#636efa",
            "size": [
             1
            ],
            "sizemode": "area",
            "sizeref": 0.00033057851239669424,
            "symbol": "circle"
           },
           "mode": "markers",
           "name": "Switzerland",
           "orientation": "v",
           "showlegend": true,
           "type": "scatter",
           "x": [
            31.78787878787879
           ],
           "xaxis": "x",
           "y": [
            12.468571428571428
           ],
           "yaxis": "y"
          },
          {
           "hovertemplate": "<b>%{hovertext}</b><br><br>Country_name=Chile<br>Month=12<br>AQI=%{x}<br>AQI_20=%{y}<br>size=%{marker.size}<extra></extra>",
           "hovertext": [
            "Los Ángeles"
           ],
           "ids": [
            "Chile"
           ],
           "legendgroup": "Chile",
           "marker": {
            "color": "#EF553B",
            "size": [
             1
            ],
            "sizemode": "area",
            "sizeref": 0.00033057851239669424,
            "symbol": "circle"
           },
           "mode": "markers",
           "name": "Chile",
           "orientation": "v",
           "showlegend": true,
           "type": "scatter",
           "x": [
            259.93939393939394
           ],
           "xaxis": "x",
           "y": [
            24.97142857142857
           ],
           "yaxis": "y"
          },
          {
           "hovertemplate": "<b>%{hovertext}</b><br><br>Country_name=Germany<br>Month=12<br>AQI=%{x}<br>AQI_20=%{y}<br>size=%{marker.size}<extra></extra>",
           "hovertext": [
            "Berlin"
           ],
           "ids": [
            "Germany"
           ],
           "legendgroup": "Germany",
           "marker": {
            "color": "#00cc96",
            "size": [
             1
            ],
            "sizemode": "area",
            "sizeref": 0.00033057851239669424,
            "symbol": "circle"
           },
           "mode": "markers",
           "name": "Germany",
           "orientation": "v",
           "showlegend": true,
           "type": "scatter",
           "x": [
            37.21875
           ],
           "xaxis": "x",
           "y": [
            58.41379310344828
           ],
           "yaxis": "y"
          }
         ],
         "name": "12"
        }
       ],
       "layout": {
        "autosize": true,
        "legend": {
         "itemsizing": "constant",
         "title": {
          "text": "Country_name"
         },
         "tracegroupgap": 0
        },
        "margin": {
         "t": 60
        },
        "shapes": [
         {
          "line": {
           "color": "MediumPurple",
           "dash": "dot",
           "width": 4
          },
          "type": "line",
          "x0": 0,
          "x1": 500,
          "y0": 0,
          "y1": 500
         }
        ],
        "sliders": [
         {
          "active": 11,
          "currentvalue": {
           "prefix": "Month="
          },
          "len": 0.9,
          "pad": {
           "b": 10,
           "t": 60
          },
          "steps": [
           {
            "args": [
             [
              "1"
             ],
             {
              "frame": {
               "duration": 0,
               "redraw": false
              },
              "fromcurrent": true,
              "mode": "immediate",
              "transition": {
               "duration": 0,
               "easing": "linear"
              }
             }
            ],
            "label": "1",
            "method": "animate"
           },
           {
            "args": [
             [
              "2"
             ],
             {
              "frame": {
               "duration": 0,
               "redraw": false
              },
              "fromcurrent": true,
              "mode": "immediate",
              "transition": {
               "duration": 0,
               "easing": "linear"
              }
             }
            ],
            "label": "2",
            "method": "animate"
           },
           {
            "args": [
             [
              "3"
             ],
             {
              "frame": {
               "duration": 0,
               "redraw": false
              },
              "fromcurrent": true,
              "mode": "immediate",
              "transition": {
               "duration": 0,
               "easing": "linear"
              }
             }
            ],
            "label": "3",
            "method": "animate"
           },
           {
            "args": [
             [
              "4"
             ],
             {
              "frame": {
               "duration": 0,
               "redraw": false
              },
              "fromcurrent": true,
              "mode": "immediate",
              "transition": {
               "duration": 0,
               "easing": "linear"
              }
             }
            ],
            "label": "4",
            "method": "animate"
           },
           {
            "args": [
             [
              "5"
             ],
             {
              "frame": {
               "duration": 0,
               "redraw": false
              },
              "fromcurrent": true,
              "mode": "immediate",
              "transition": {
               "duration": 0,
               "easing": "linear"
              }
             }
            ],
            "label": "5",
            "method": "animate"
           },
           {
            "args": [
             [
              "6"
             ],
             {
              "frame": {
               "duration": 0,
               "redraw": false
              },
              "fromcurrent": true,
              "mode": "immediate",
              "transition": {
               "duration": 0,
               "easing": "linear"
              }
             }
            ],
            "label": "6",
            "method": "animate"
           },
           {
            "args": [
             [
              "7"
             ],
             {
              "frame": {
               "duration": 0,
               "redraw": false
              },
              "fromcurrent": true,
              "mode": "immediate",
              "transition": {
               "duration": 0,
               "easing": "linear"
              }
             }
            ],
            "label": "7",
            "method": "animate"
           },
           {
            "args": [
             [
              "8"
             ],
             {
              "frame": {
               "duration": 0,
               "redraw": false
              },
              "fromcurrent": true,
              "mode": "immediate",
              "transition": {
               "duration": 0,
               "easing": "linear"
              }
             }
            ],
            "label": "8",
            "method": "animate"
           },
           {
            "args": [
             [
              "9"
             ],
             {
              "frame": {
               "duration": 0,
               "redraw": false
              },
              "fromcurrent": true,
              "mode": "immediate",
              "transition": {
               "duration": 0,
               "easing": "linear"
              }
             }
            ],
            "label": "9",
            "method": "animate"
           },
           {
            "args": [
             [
              "10"
             ],
             {
              "frame": {
               "duration": 0,
               "redraw": false
              },
              "fromcurrent": true,
              "mode": "immediate",
              "transition": {
               "duration": 0,
               "easing": "linear"
              }
             }
            ],
            "label": "10",
            "method": "animate"
           },
           {
            "args": [
             [
              "11"
             ],
             {
              "frame": {
               "duration": 0,
               "redraw": false
              },
              "fromcurrent": true,
              "mode": "immediate",
              "transition": {
               "duration": 0,
               "easing": "linear"
              }
             }
            ],
            "label": "11",
            "method": "animate"
           },
           {
            "args": [
             [
              "12"
             ],
             {
              "frame": {
               "duration": 0,
               "redraw": false
              },
              "fromcurrent": true,
              "mode": "immediate",
              "transition": {
               "duration": 0,
               "easing": "linear"
              }
             }
            ],
            "label": "12",
            "method": "animate"
           }
          ],
          "x": 0.1,
          "xanchor": "left",
          "y": 0,
          "yanchor": "top"
         }
        ],
        "template": {
         "data": {
          "bar": [
           {
            "error_x": {
             "color": "#2a3f5f"
            },
            "error_y": {
             "color": "#2a3f5f"
            },
            "marker": {
             "line": {
              "color": "#E5ECF6",
              "width": 0.5
             }
            },
            "type": "bar"
           }
          ],
          "barpolar": [
           {
            "marker": {
             "line": {
              "color": "#E5ECF6",
              "width": 0.5
             }
            },
            "type": "barpolar"
           }
          ],
          "carpet": [
           {
            "aaxis": {
             "endlinecolor": "#2a3f5f",
             "gridcolor": "white",
             "linecolor": "white",
             "minorgridcolor": "white",
             "startlinecolor": "#2a3f5f"
            },
            "baxis": {
             "endlinecolor": "#2a3f5f",
             "gridcolor": "white",
             "linecolor": "white",
             "minorgridcolor": "white",
             "startlinecolor": "#2a3f5f"
            },
            "type": "carpet"
           }
          ],
          "choropleth": [
           {
            "colorbar": {
             "outlinewidth": 0,
             "ticks": ""
            },
            "type": "choropleth"
           }
          ],
          "contour": [
           {
            "colorbar": {
             "outlinewidth": 0,
             "ticks": ""
            },
            "colorscale": [
             [
              0,
              "#0d0887"
             ],
             [
              0.1111111111111111,
              "#46039f"
             ],
             [
              0.2222222222222222,
              "#7201a8"
             ],
             [
              0.3333333333333333,
              "#9c179e"
             ],
             [
              0.4444444444444444,
              "#bd3786"
             ],
             [
              0.5555555555555556,
              "#d8576b"
             ],
             [
              0.6666666666666666,
              "#ed7953"
             ],
             [
              0.7777777777777778,
              "#fb9f3a"
             ],
             [
              0.8888888888888888,
              "#fdca26"
             ],
             [
              1,
              "#f0f921"
             ]
            ],
            "type": "contour"
           }
          ],
          "contourcarpet": [
           {
            "colorbar": {
             "outlinewidth": 0,
             "ticks": ""
            },
            "type": "contourcarpet"
           }
          ],
          "heatmap": [
           {
            "colorbar": {
             "outlinewidth": 0,
             "ticks": ""
            },
            "colorscale": [
             [
              0,
              "#0d0887"
             ],
             [
              0.1111111111111111,
              "#46039f"
             ],
             [
              0.2222222222222222,
              "#7201a8"
             ],
             [
              0.3333333333333333,
              "#9c179e"
             ],
             [
              0.4444444444444444,
              "#bd3786"
             ],
             [
              0.5555555555555556,
              "#d8576b"
             ],
             [
              0.6666666666666666,
              "#ed7953"
             ],
             [
              0.7777777777777778,
              "#fb9f3a"
             ],
             [
              0.8888888888888888,
              "#fdca26"
             ],
             [
              1,
              "#f0f921"
             ]
            ],
            "type": "heatmap"
           }
          ],
          "heatmapgl": [
           {
            "colorbar": {
             "outlinewidth": 0,
             "ticks": ""
            },
            "colorscale": [
             [
              0,
              "#0d0887"
             ],
             [
              0.1111111111111111,
              "#46039f"
             ],
             [
              0.2222222222222222,
              "#7201a8"
             ],
             [
              0.3333333333333333,
              "#9c179e"
             ],
             [
              0.4444444444444444,
              "#bd3786"
             ],
             [
              0.5555555555555556,
              "#d8576b"
             ],
             [
              0.6666666666666666,
              "#ed7953"
             ],
             [
              0.7777777777777778,
              "#fb9f3a"
             ],
             [
              0.8888888888888888,
              "#fdca26"
             ],
             [
              1,
              "#f0f921"
             ]
            ],
            "type": "heatmapgl"
           }
          ],
          "histogram": [
           {
            "marker": {
             "colorbar": {
              "outlinewidth": 0,
              "ticks": ""
             }
            },
            "type": "histogram"
           }
          ],
          "histogram2d": [
           {
            "colorbar": {
             "outlinewidth": 0,
             "ticks": ""
            },
            "colorscale": [
             [
              0,
              "#0d0887"
             ],
             [
              0.1111111111111111,
              "#46039f"
             ],
             [
              0.2222222222222222,
              "#7201a8"
             ],
             [
              0.3333333333333333,
              "#9c179e"
             ],
             [
              0.4444444444444444,
              "#bd3786"
             ],
             [
              0.5555555555555556,
              "#d8576b"
             ],
             [
              0.6666666666666666,
              "#ed7953"
             ],
             [
              0.7777777777777778,
              "#fb9f3a"
             ],
             [
              0.8888888888888888,
              "#fdca26"
             ],
             [
              1,
              "#f0f921"
             ]
            ],
            "type": "histogram2d"
           }
          ],
          "histogram2dcontour": [
           {
            "colorbar": {
             "outlinewidth": 0,
             "ticks": ""
            },
            "colorscale": [
             [
              0,
              "#0d0887"
             ],
             [
              0.1111111111111111,
              "#46039f"
             ],
             [
              0.2222222222222222,
              "#7201a8"
             ],
             [
              0.3333333333333333,
              "#9c179e"
             ],
             [
              0.4444444444444444,
              "#bd3786"
             ],
             [
              0.5555555555555556,
              "#d8576b"
             ],
             [
              0.6666666666666666,
              "#ed7953"
             ],
             [
              0.7777777777777778,
              "#fb9f3a"
             ],
             [
              0.8888888888888888,
              "#fdca26"
             ],
             [
              1,
              "#f0f921"
             ]
            ],
            "type": "histogram2dcontour"
           }
          ],
          "mesh3d": [
           {
            "colorbar": {
             "outlinewidth": 0,
             "ticks": ""
            },
            "type": "mesh3d"
           }
          ],
          "parcoords": [
           {
            "line": {
             "colorbar": {
              "outlinewidth": 0,
              "ticks": ""
             }
            },
            "type": "parcoords"
           }
          ],
          "pie": [
           {
            "automargin": true,
            "type": "pie"
           }
          ],
          "scatter": [
           {
            "marker": {
             "colorbar": {
              "outlinewidth": 0,
              "ticks": ""
             }
            },
            "type": "scatter"
           }
          ],
          "scatter3d": [
           {
            "line": {
             "colorbar": {
              "outlinewidth": 0,
              "ticks": ""
             }
            },
            "marker": {
             "colorbar": {
              "outlinewidth": 0,
              "ticks": ""
             }
            },
            "type": "scatter3d"
           }
          ],
          "scattercarpet": [
           {
            "marker": {
             "colorbar": {
              "outlinewidth": 0,
              "ticks": ""
             }
            },
            "type": "scattercarpet"
           }
          ],
          "scattergeo": [
           {
            "marker": {
             "colorbar": {
              "outlinewidth": 0,
              "ticks": ""
             }
            },
            "type": "scattergeo"
           }
          ],
          "scattergl": [
           {
            "marker": {
             "colorbar": {
              "outlinewidth": 0,
              "ticks": ""
             }
            },
            "type": "scattergl"
           }
          ],
          "scattermapbox": [
           {
            "marker": {
             "colorbar": {
              "outlinewidth": 0,
              "ticks": ""
             }
            },
            "type": "scattermapbox"
           }
          ],
          "scatterpolar": [
           {
            "marker": {
             "colorbar": {
              "outlinewidth": 0,
              "ticks": ""
             }
            },
            "type": "scatterpolar"
           }
          ],
          "scatterpolargl": [
           {
            "marker": {
             "colorbar": {
              "outlinewidth": 0,
              "ticks": ""
             }
            },
            "type": "scatterpolargl"
           }
          ],
          "scatterternary": [
           {
            "marker": {
             "colorbar": {
              "outlinewidth": 0,
              "ticks": ""
             }
            },
            "type": "scatterternary"
           }
          ],
          "surface": [
           {
            "colorbar": {
             "outlinewidth": 0,
             "ticks": ""
            },
            "colorscale": [
             [
              0,
              "#0d0887"
             ],
             [
              0.1111111111111111,
              "#46039f"
             ],
             [
              0.2222222222222222,
              "#7201a8"
             ],
             [
              0.3333333333333333,
              "#9c179e"
             ],
             [
              0.4444444444444444,
              "#bd3786"
             ],
             [
              0.5555555555555556,
              "#d8576b"
             ],
             [
              0.6666666666666666,
              "#ed7953"
             ],
             [
              0.7777777777777778,
              "#fb9f3a"
             ],
             [
              0.8888888888888888,
              "#fdca26"
             ],
             [
              1,
              "#f0f921"
             ]
            ],
            "type": "surface"
           }
          ],
          "table": [
           {
            "cells": {
             "fill": {
              "color": "#EBF0F8"
             },
             "line": {
              "color": "white"
             }
            },
            "header": {
             "fill": {
              "color": "#C8D4E3"
             },
             "line": {
              "color": "white"
             }
            },
            "type": "table"
           }
          ]
         },
         "layout": {
          "annotationdefaults": {
           "arrowcolor": "#2a3f5f",
           "arrowhead": 0,
           "arrowwidth": 1
          },
          "autotypenumbers": "strict",
          "coloraxis": {
           "colorbar": {
            "outlinewidth": 0,
            "ticks": ""
           }
          },
          "colorscale": {
           "diverging": [
            [
             0,
             "#8e0152"
            ],
            [
             0.1,
             "#c51b7d"
            ],
            [
             0.2,
             "#de77ae"
            ],
            [
             0.3,
             "#f1b6da"
            ],
            [
             0.4,
             "#fde0ef"
            ],
            [
             0.5,
             "#f7f7f7"
            ],
            [
             0.6,
             "#e6f5d0"
            ],
            [
             0.7,
             "#b8e186"
            ],
            [
             0.8,
             "#7fbc41"
            ],
            [
             0.9,
             "#4d9221"
            ],
            [
             1,
             "#276419"
            ]
           ],
           "sequential": [
            [
             0,
             "#0d0887"
            ],
            [
             0.1111111111111111,
             "#46039f"
            ],
            [
             0.2222222222222222,
             "#7201a8"
            ],
            [
             0.3333333333333333,
             "#9c179e"
            ],
            [
             0.4444444444444444,
             "#bd3786"
            ],
            [
             0.5555555555555556,
             "#d8576b"
            ],
            [
             0.6666666666666666,
             "#ed7953"
            ],
            [
             0.7777777777777778,
             "#fb9f3a"
            ],
            [
             0.8888888888888888,
             "#fdca26"
            ],
            [
             1,
             "#f0f921"
            ]
           ],
           "sequentialminus": [
            [
             0,
             "#0d0887"
            ],
            [
             0.1111111111111111,
             "#46039f"
            ],
            [
             0.2222222222222222,
             "#7201a8"
            ],
            [
             0.3333333333333333,
             "#9c179e"
            ],
            [
             0.4444444444444444,
             "#bd3786"
            ],
            [
             0.5555555555555556,
             "#d8576b"
            ],
            [
             0.6666666666666666,
             "#ed7953"
            ],
            [
             0.7777777777777778,
             "#fb9f3a"
            ],
            [
             0.8888888888888888,
             "#fdca26"
            ],
            [
             1,
             "#f0f921"
            ]
           ]
          },
          "colorway": [
           "#636efa",
           "#EF553B",
           "#00cc96",
           "#ab63fa",
           "#FFA15A",
           "#19d3f3",
           "#FF6692",
           "#B6E880",
           "#FF97FF",
           "#FECB52"
          ],
          "font": {
           "color": "#2a3f5f"
          },
          "geo": {
           "bgcolor": "white",
           "lakecolor": "white",
           "landcolor": "#E5ECF6",
           "showlakes": true,
           "showland": true,
           "subunitcolor": "white"
          },
          "hoverlabel": {
           "align": "left"
          },
          "hovermode": "closest",
          "mapbox": {
           "style": "light"
          },
          "paper_bgcolor": "white",
          "plot_bgcolor": "#E5ECF6",
          "polar": {
           "angularaxis": {
            "gridcolor": "white",
            "linecolor": "white",
            "ticks": ""
           },
           "bgcolor": "#E5ECF6",
           "radialaxis": {
            "gridcolor": "white",
            "linecolor": "white",
            "ticks": ""
           }
          },
          "scene": {
           "xaxis": {
            "backgroundcolor": "#E5ECF6",
            "gridcolor": "white",
            "gridwidth": 2,
            "linecolor": "white",
            "showbackground": true,
            "ticks": "",
            "zerolinecolor": "white"
           },
           "yaxis": {
            "backgroundcolor": "#E5ECF6",
            "gridcolor": "white",
            "gridwidth": 2,
            "linecolor": "white",
            "showbackground": true,
            "ticks": "",
            "zerolinecolor": "white"
           },
           "zaxis": {
            "backgroundcolor": "#E5ECF6",
            "gridcolor": "white",
            "gridwidth": 2,
            "linecolor": "white",
            "showbackground": true,
            "ticks": "",
            "zerolinecolor": "white"
           }
          },
          "shapedefaults": {
           "line": {
            "color": "#2a3f5f"
           }
          },
          "ternary": {
           "aaxis": {
            "gridcolor": "white",
            "linecolor": "white",
            "ticks": ""
           },
           "baxis": {
            "gridcolor": "white",
            "linecolor": "white",
            "ticks": ""
           },
           "bgcolor": "#E5ECF6",
           "caxis": {
            "gridcolor": "white",
            "linecolor": "white",
            "ticks": ""
           }
          },
          "title": {
           "x": 0.05
          },
          "xaxis": {
           "automargin": true,
           "gridcolor": "white",
           "linecolor": "white",
           "ticks": "",
           "title": {
            "standoff": 15
           },
           "zerolinecolor": "white",
           "zerolinewidth": 2
          },
          "yaxis": {
           "automargin": true,
           "gridcolor": "white",
           "linecolor": "white",
           "ticks": "",
           "title": {
            "standoff": 15
           },
           "zerolinecolor": "white",
           "zerolinewidth": 2
          }
         }
        },
        "updatemenus": [
         {
          "active": 0,
          "buttons": [
           {
            "args": [
             null,
             {
              "frame": {
               "duration": 500,
               "redraw": false
              },
              "fromcurrent": true,
              "mode": "immediate",
              "transition": {
               "duration": 500,
               "easing": "linear"
              }
             }
            ],
            "label": "&#9654;",
            "method": "animate"
           },
           {
            "args": [
             [
              null
             ],
             {
              "frame": {
               "duration": 0,
               "redraw": false
              },
              "fromcurrent": true,
              "mode": "immediate",
              "transition": {
               "duration": 0,
               "easing": "linear"
              }
             }
            ],
            "label": "&#9724;",
            "method": "animate"
           }
          ],
          "direction": "left",
          "pad": {
           "r": 10,
           "t": 70
          },
          "showactive": false,
          "type": "buttons",
          "x": 0.1,
          "xanchor": "right",
          "y": 0,
          "yanchor": "top"
         }
        ],
        "xaxis": {
         "anchor": "y",
         "domain": [
          0,
          1
         ],
         "range": [
          0,
          500
         ],
         "title": {
          "text": "AQI"
         },
         "type": "linear"
        },
        "yaxis": {
         "anchor": "x",
         "domain": [
          0,
          1
         ],
         "range": [
          0,
          500
         ],
         "title": {
          "text": "AQI_20"
         },
         "type": "linear"
        }
       }
      },
      "image/png": "[encoded data removed]",
      "text/html": [
       "<div>                            <div id=\"1b444f12-7daf-44f3-8f68-43cca4d4c1cd\" class=\"plotly-graph-div\" style=\"height:525px; width:100%;\"></div>            <script type=\"text/javascript\">                require([\"plotly\"], function(Plotly) {                    window.PLOTLYENV=window.PLOTLYENV || {};                                    if (document.getElementById(\"1b444f12-7daf-44f3-8f68-43cca4d4c1cd\")) {                    Plotly.newPlot(                        \"1b444f12-7daf-44f3-8f68-43cca4d4c1cd\",                        [{\"hovertemplate\": \"<b>%{hovertext}</b><br><br>Country_name=Netherlands<br>Month=1<br>AQI=%{x}<br>AQI_20=%{y}<br>size=%{marker.size}<extra></extra>\", \"hovertext\": [\"Rotterdam\"], \"ids\": [\"Netherlands\"], \"legendgroup\": \"Netherlands\", \"marker\": {\"color\": \"#636efa\", \"size\": [1], \"sizemode\": \"area\", \"sizeref\": 0.00033057851239669424, \"symbol\": \"circle\"}, \"mode\": \"markers\", \"name\": \"Netherlands\", \"orientation\": \"v\", \"showlegend\": true, \"type\": \"scatter\", \"x\": [34.74193548387097], \"xaxis\": \"x\", \"y\": [51.083333333333336], \"yaxis\": \"y\"}, {\"hovertemplate\": \"<b>%{hovertext}</b><br><br>Country_name=United States<br>Month=1<br>AQI=%{x}<br>AQI_20=%{y}<br>size=%{marker.size}<extra></extra>\", \"hovertext\": [\"San Francisco\"], \"ids\": [\"United States\"], \"legendgroup\": \"United States\", \"marker\": {\"color\": \"#EF553B\", \"size\": [1], \"sizemode\": \"area\", \"sizeref\": 0.00033057851239669424, \"symbol\": \"circle\"}, \"mode\": \"markers\", \"name\": \"United States\", \"orientation\": \"v\", \"showlegend\": true, \"type\": \"scatter\", \"x\": [50.193548387096776], \"xaxis\": \"x\", \"y\": [29.0], \"yaxis\": \"y\"}, {\"hovertemplate\": \"<b>%{hovertext}</b><br><br>Country_name=France<br>Month=1<br>AQI=%{x}<br>AQI_20=%{y}<br>size=%{marker.size}<extra></extra>\", \"hovertext\": [\"Paris\"], \"ids\": [\"France\"], \"legendgroup\": \"France\", \"marker\": {\"color\": \"#00cc96\", \"size\": [1], \"sizemode\": \"area\", \"sizeref\": 0.00033057851239669424, \"symbol\": \"circle\"}, \"mode\": \"markers\", \"name\": \"France\", \"orientation\": \"v\", \"showlegend\": true, \"type\": \"scatter\", \"x\": [49.806451612903224], \"xaxis\": \"x\", \"y\": [52.583333333333336], \"yaxis\": \"y\"}, {\"hovertemplate\": \"<b>%{hovertext}</b><br><br>Country_name=Japan<br>Month=1<br>AQI=%{x}<br>AQI_20=%{y}<br>size=%{marker.size}<extra></extra>\", \"hovertext\": [\"Tokyo\"], \"ids\": [\"Japan\"], \"legendgroup\": \"Japan\", \"marker\": {\"color\": \"#ab63fa\", \"size\": [1], \"sizemode\": \"area\", \"sizeref\": 0.00033057851239669424, \"symbol\": \"circle\"}, \"mode\": \"markers\", \"name\": \"Japan\", \"orientation\": \"v\", \"showlegend\": true, \"type\": \"scatter\", \"x\": [252.1290322580645], \"xaxis\": \"x\", \"y\": [35.77777777777778], \"yaxis\": \"y\"}, {\"hovertemplate\": \"<b>%{hovertext}</b><br><br>Country_name=Israel<br>Month=1<br>AQI=%{x}<br>AQI_20=%{y}<br>size=%{marker.size}<extra></extra>\", \"hovertext\": [\"Jerusalem\"], \"ids\": [\"Israel\"], \"legendgroup\": \"Israel\", \"marker\": {\"color\": \"#FFA15A\", \"size\": [1], \"sizemode\": \"area\", \"sizeref\": 0.00033057851239669424, \"symbol\": \"circle\"}, \"mode\": \"markers\", \"name\": \"Israel\", \"orientation\": \"v\", \"showlegend\": true, \"type\": \"scatter\", \"x\": [69.12903225806451], \"xaxis\": \"x\", \"y\": [47.61764705882353], \"yaxis\": \"y\"}, {\"hovertemplate\": \"<b>%{hovertext}</b><br><br>Country_name=India<br>Month=1<br>AQI=%{x}<br>AQI_20=%{y}<br>size=%{marker.size}<extra></extra>\", \"hovertext\": [\"Delhi\"], \"ids\": [\"India\"], \"legendgroup\": \"India\", \"marker\": {\"color\": \"#19d3f3\", \"size\": [1], \"sizemode\": \"area\", \"sizeref\": 0.00033057851239669424, \"symbol\": \"circle\"}, \"mode\": \"markers\", \"name\": \"India\", \"orientation\": \"v\", \"showlegend\": true, \"type\": \"scatter\", \"x\": [33.714285714285715], \"xaxis\": \"x\", \"y\": [226.80555555555554], \"yaxis\": \"y\"}, {\"hovertemplate\": \"<b>%{hovertext}</b><br><br>Country_name=Australia<br>Month=1<br>AQI=%{x}<br>AQI_20=%{y}<br>size=%{marker.size}<extra></extra>\", \"hovertext\": [\"Melbourne\"], \"ids\": [\"Australia\"], \"legendgroup\": \"Australia\", \"marker\": {\"color\": \"#FF6692\", \"size\": [1], \"sizemode\": \"area\", \"sizeref\": 0.00033057851239669424, \"symbol\": \"circle\"}, \"mode\": \"markers\", \"name\": \"Australia\", \"orientation\": \"v\", \"showlegend\": true, \"type\": \"scatter\", \"x\": [129.06451612903226], \"xaxis\": \"x\", \"y\": [55.666666666666664], \"yaxis\": \"y\"}, {\"hovertemplate\": \"<b>%{hovertext}</b><br><br>Country_name=Thailand<br>Month=1<br>AQI=%{x}<br>AQI_20=%{y}<br>size=%{marker.size}<extra></extra>\", \"hovertext\": [\"Bangkok\"], \"ids\": [\"Thailand\"], \"legendgroup\": \"Thailand\", \"marker\": {\"color\": \"#B6E880\", \"size\": [1], \"sizemode\": \"area\", \"sizeref\": 0.00033057851239669424, \"symbol\": \"circle\"}, \"mode\": \"markers\", \"name\": \"Thailand\", \"orientation\": \"v\", \"showlegend\": true, \"type\": \"scatter\", \"x\": [50.516129032258064], \"xaxis\": \"x\", \"y\": [111.55555555555556], \"yaxis\": \"y\"}, {\"hovertemplate\": \"<b>%{hovertext}</b><br><br>Country_name=Argentina<br>Month=1<br>AQI=%{x}<br>AQI_20=%{y}<br>size=%{marker.size}<extra></extra>\", \"hovertext\": [\"Buenos Aires\"], \"ids\": [\"Argentina\"], \"legendgroup\": \"Argentina\", \"marker\": {\"color\": \"#FF97FF\", \"size\": [1], \"sizemode\": \"area\", \"sizeref\": 0.00033057851239669424, \"symbol\": \"circle\"}, \"mode\": \"markers\", \"name\": \"Argentina\", \"orientation\": \"v\", \"showlegend\": true, \"type\": \"scatter\", \"x\": [19.633333333333333], \"xaxis\": \"x\", \"y\": [36.05882352941177], \"yaxis\": \"y\"}, {\"hovertemplate\": \"<b>%{hovertext}</b><br><br>Country_name=Spain<br>Month=1<br>AQI=%{x}<br>AQI_20=%{y}<br>size=%{marker.size}<extra></extra>\", \"hovertext\": [\"Barcelona\", \"Madrid\"], \"ids\": [\"Spain\", \"Spain\"], \"legendgroup\": \"Spain\", \"marker\": {\"color\": \"#FECB52\", \"size\": [1, 1], \"sizemode\": \"area\", \"sizeref\": 0.00033057851239669424, \"symbol\": \"circle\"}, \"mode\": \"markers\", \"name\": \"Spain\", \"orientation\": \"v\", \"showlegend\": true, \"type\": \"scatter\", \"x\": [40.96774193548387, 28.29032258064516], \"xaxis\": \"x\", \"y\": [23.77777777777778, 52.416666666666664], \"yaxis\": \"y\"}, {\"hovertemplate\": \"<b>%{hovertext}</b><br><br>Country_name=Switzerland<br>Month=1<br>AQI=%{x}<br>AQI_20=%{y}<br>size=%{marker.size}<extra></extra>\", \"hovertext\": [\"Z\\u00fcrich\"], \"ids\": [\"Switzerland\"], \"legendgroup\": \"Switzerland\", \"marker\": {\"color\": \"#636efa\", \"size\": [1], \"sizemode\": \"area\", \"sizeref\": 0.00033057851239669424, \"symbol\": \"circle\"}, \"mode\": \"markers\", \"name\": \"Switzerland\", \"orientation\": \"v\", \"showlegend\": true, \"type\": \"scatter\", \"x\": [56.41935483870968], \"xaxis\": \"x\", \"y\": [14.758333333333335], \"yaxis\": \"y\"}, {\"hovertemplate\": \"<b>%{hovertext}</b><br><br>Country_name=Chile<br>Month=1<br>AQI=%{x}<br>AQI_20=%{y}<br>size=%{marker.size}<extra></extra>\", \"hovertext\": [\"Los \\u00c1ngeles\"], \"ids\": [\"Chile\"], \"legendgroup\": \"Chile\", \"marker\": {\"color\": \"#EF553B\", \"size\": [1], \"sizemode\": \"area\", \"sizeref\": 0.00033057851239669424, \"symbol\": \"circle\"}, \"mode\": \"markers\", \"name\": \"Chile\", \"orientation\": \"v\", \"showlegend\": true, \"type\": \"scatter\", \"x\": [14.129032258064516], \"xaxis\": \"x\", \"y\": [37.77777777777778], \"yaxis\": \"y\"}, {\"hovertemplate\": \"<b>%{hovertext}</b><br><br>Country_name=Germany<br>Month=1<br>AQI=%{x}<br>AQI_20=%{y}<br>size=%{marker.size}<extra></extra>\", \"hovertext\": [\"Berlin\"], \"ids\": [\"Germany\"], \"legendgroup\": \"Germany\", \"marker\": {\"color\": \"#00cc96\", \"size\": [1], \"sizemode\": \"area\", \"sizeref\": 0.00033057851239669424, \"symbol\": \"circle\"}, \"mode\": \"markers\", \"name\": \"Germany\", \"orientation\": \"v\", \"showlegend\": true, \"type\": \"scatter\", \"x\": [28.29032258064516], \"xaxis\": \"x\", \"y\": [44.0], \"yaxis\": \"y\"}],                        {\"legend\": {\"itemsizing\": \"constant\", \"title\": {\"text\": \"Country_name\"}, \"tracegroupgap\": 0}, \"margin\": {\"t\": 60}, \"shapes\": [{\"line\": {\"color\": \"MediumPurple\", \"dash\": \"dot\", \"width\": 4}, \"type\": \"line\", \"x0\": 0, \"x1\": 500, \"y0\": 0, \"y1\": 500}], \"sliders\": [{\"active\": 0, \"currentvalue\": {\"prefix\": \"Month=\"}, \"len\": 0.9, \"pad\": {\"b\": 10, \"t\": 60}, \"steps\": [{\"args\": [[\"1\"], {\"frame\": {\"duration\": 0, \"redraw\": false}, \"fromcurrent\": true, \"mode\": \"immediate\", \"transition\": {\"duration\": 0, \"easing\": \"linear\"}}], \"label\": \"1\", \"method\": \"animate\"}, {\"args\": [[\"2\"], {\"frame\": {\"duration\": 0, \"redraw\": false}, \"fromcurrent\": true, \"mode\": \"immediate\", \"transition\": {\"duration\": 0, \"easing\": \"linear\"}}], \"label\": \"2\", \"method\": \"animate\"}, {\"args\": [[\"3\"], {\"frame\": {\"duration\": 0, \"redraw\": false}, \"fromcurrent\": true, \"mode\": \"immediate\", \"transition\": {\"duration\": 0, \"easing\": \"linear\"}}], \"label\": \"3\", \"method\": \"animate\"}, {\"args\": [[\"4\"], {\"frame\": {\"duration\": 0, \"redraw\": false}, \"fromcurrent\": true, \"mode\": \"immediate\", \"transition\": {\"duration\": 0, \"easing\": \"linear\"}}], \"label\": \"4\", \"method\": \"animate\"}, {\"args\": [[\"5\"], {\"frame\": {\"duration\": 0, \"redraw\": false}, \"fromcurrent\": true, \"mode\": \"immediate\", \"transition\": {\"duration\": 0, \"easing\": \"linear\"}}], \"label\": \"5\", \"method\": \"animate\"}, {\"args\": [[\"6\"], {\"frame\": {\"duration\": 0, \"redraw\": false}, \"fromcurrent\": true, \"mode\": \"immediate\", \"transition\": {\"duration\": 0, \"easing\": \"linear\"}}], \"label\": \"6\", \"method\": \"animate\"}, {\"args\": [[\"7\"], {\"frame\": {\"duration\": 0, \"redraw\": false}, \"fromcurrent\": true, \"mode\": \"immediate\", \"transition\": {\"duration\": 0, \"easing\": \"linear\"}}], \"label\": \"7\", \"method\": \"animate\"}, {\"args\": [[\"8\"], {\"frame\": {\"duration\": 0, \"redraw\": false}, \"fromcurrent\": true, \"mode\": \"immediate\", \"transition\": {\"duration\": 0, \"easing\": \"linear\"}}], \"label\": \"8\", \"method\": \"animate\"}, {\"args\": [[\"9\"], {\"frame\": {\"duration\": 0, \"redraw\": false}, \"fromcurrent\": true, \"mode\": \"immediate\", \"transition\": {\"duration\": 0, \"easing\": \"linear\"}}], \"label\": \"9\", \"method\": \"animate\"}, {\"args\": [[\"10\"], {\"frame\": {\"duration\": 0, \"redraw\": false}, \"fromcurrent\": true, \"mode\": \"immediate\", \"transition\": {\"duration\": 0, \"easing\": \"linear\"}}], \"label\": \"10\", \"method\": \"animate\"}, {\"args\": [[\"11\"], {\"frame\": {\"duration\": 0, \"redraw\": false}, \"fromcurrent\": true, \"mode\": \"immediate\", \"transition\": {\"duration\": 0, \"easing\": \"linear\"}}], \"label\": \"11\", \"method\": \"animate\"}, {\"args\": [[\"12\"], {\"frame\": {\"duration\": 0, \"redraw\": false}, \"fromcurrent\": true, \"mode\": \"immediate\", \"transition\": {\"duration\": 0, \"easing\": \"linear\"}}], \"label\": \"12\", \"method\": \"animate\"}], \"x\": 0.1, \"xanchor\": \"left\", \"y\": 0, \"yanchor\": \"top\"}], \"template\": {\"data\": {\"bar\": [{\"error_x\": {\"color\": \"#2a3f5f\"}, \"error_y\": {\"color\": \"#2a3f5f\"}, \"marker\": {\"line\": {\"color\": \"#E5ECF6\", \"width\": 0.5}}, \"type\": \"bar\"}], \"barpolar\": [{\"marker\": {\"line\": {\"color\": \"#E5ECF6\", \"width\": 0.5}}, \"type\": \"barpolar\"}], \"carpet\": [{\"aaxis\": {\"endlinecolor\": \"#2a3f5f\", \"gridcolor\": \"white\", \"linecolor\": \"white\", \"minorgridcolor\": \"white\", \"startlinecolor\": \"#2a3f5f\"}, \"baxis\": {\"endlinecolor\": \"#2a3f5f\", \"gridcolor\": \"white\", \"linecolor\": \"white\", \"minorgridcolor\": \"white\", \"startlinecolor\": \"#2a3f5f\"}, \"type\": \"carpet\"}], \"choropleth\": [{\"colorbar\": {\"outlinewidth\": 0, \"ticks\": \"\"}, \"type\": \"choropleth\"}], \"contour\": [{\"colorbar\": {\"outlinewidth\": 0, \"ticks\": \"\"}, \"colorscale\": [[0.0, \"#0d0887\"], [0.1111111111111111, \"#46039f\"], [0.2222222222222222, \"#7201a8\"], [0.3333333333333333, \"#9c179e\"], [0.4444444444444444, \"#bd3786\"], [0.5555555555555556, \"#d8576b\"], [0.6666666666666666, \"#ed7953\"], [0.7777777777777778, \"#fb9f3a\"], [0.8888888888888888, \"#fdca26\"], [1.0, \"#f0f921\"]], \"type\": \"contour\"}], \"contourcarpet\": [{\"colorbar\": {\"outlinewidth\": 0, \"ticks\": \"\"}, \"type\": \"contourcarpet\"}], \"heatmap\": [{\"colorbar\": {\"outlinewidth\": 0, \"ticks\": \"\"}, \"colorscale\": [[0.0, \"#0d0887\"], [0.1111111111111111, \"#46039f\"], [0.2222222222222222, \"#7201a8\"], [0.3333333333333333, \"#9c179e\"], [0.4444444444444444, \"#bd3786\"], [0.5555555555555556, \"#d8576b\"], [0.6666666666666666, \"#ed7953\"], [0.7777777777777778, \"#fb9f3a\"], [0.8888888888888888, \"#fdca26\"], [1.0, \"#f0f921\"]], \"type\": \"heatmap\"}], \"heatmapgl\": [{\"colorbar\": {\"outlinewidth\": 0, \"ticks\": \"\"}, \"colorscale\": [[0.0, \"#0d0887\"], [0.1111111111111111, \"#46039f\"], [0.2222222222222222, \"#7201a8\"], [0.3333333333333333, \"#9c179e\"], [0.4444444444444444, \"#bd3786\"], [0.5555555555555556, \"#d8576b\"], [0.6666666666666666, \"#ed7953\"], [0.7777777777777778, \"#fb9f3a\"], [0.8888888888888888, \"#fdca26\"], [1.0, \"#f0f921\"]], \"type\": \"heatmapgl\"}], \"histogram\": [{\"marker\": {\"colorbar\": {\"outlinewidth\": 0, \"ticks\": \"\"}}, \"type\": \"histogram\"}], \"histogram2d\": [{\"colorbar\": {\"outlinewidth\": 0, \"ticks\": \"\"}, \"colorscale\": [[0.0, \"#0d0887\"], [0.1111111111111111, \"#46039f\"], [0.2222222222222222, \"#7201a8\"], [0.3333333333333333, \"#9c179e\"], [0.4444444444444444, \"#bd3786\"], [0.5555555555555556, \"#d8576b\"], [0.6666666666666666, \"#ed7953\"], [0.7777777777777778, \"#fb9f3a\"], [0.8888888888888888, \"#fdca26\"], [1.0, \"#f0f921\"]], \"type\": \"histogram2d\"}], \"histogram2dcontour\": [{\"colorbar\": {\"outlinewidth\": 0, \"ticks\": \"\"}, \"colorscale\": [[0.0, \"#0d0887\"], [0.1111111111111111, \"#46039f\"], [0.2222222222222222, \"#7201a8\"], [0.3333333333333333, \"#9c179e\"], [0.4444444444444444, \"#bd3786\"], [0.5555555555555556, \"#d8576b\"], [0.6666666666666666, \"#ed7953\"], [0.7777777777777778, \"#fb9f3a\"], [0.8888888888888888, \"#fdca26\"], [1.0, \"#f0f921\"]], \"type\": \"histogram2dcontour\"}], \"mesh3d\": [{\"colorbar\": {\"outlinewidth\": 0, \"ticks\": \"\"}, \"type\": \"mesh3d\"}], \"parcoords\": [{\"line\": {\"colorbar\": {\"outlinewidth\": 0, \"ticks\": \"\"}}, \"type\": \"parcoords\"}], \"pie\": [{\"automargin\": true, \"type\": \"pie\"}], \"scatter\": [{\"marker\": {\"colorbar\": {\"outlinewidth\": 0, \"ticks\": \"\"}}, \"type\": \"scatter\"}], \"scatter3d\": [{\"line\": {\"colorbar\": {\"outlinewidth\": 0, \"ticks\": \"\"}}, \"marker\": {\"colorbar\": {\"outlinewidth\": 0, \"ticks\": \"\"}}, \"type\": \"scatter3d\"}], \"scattercarpet\": [{\"marker\": {\"colorbar\": {\"outlinewidth\": 0, \"ticks\": \"\"}}, \"type\": \"scattercarpet\"}], \"scattergeo\": [{\"marker\": {\"colorbar\": {\"outlinewidth\": 0, \"ticks\": \"\"}}, \"type\": \"scattergeo\"}], \"scattergl\": [{\"marker\": {\"colorbar\": {\"outlinewidth\": 0, \"ticks\": \"\"}}, \"type\": \"scattergl\"}], \"scattermapbox\": [{\"marker\": {\"colorbar\": {\"outlinewidth\": 0, \"ticks\": \"\"}}, \"type\": \"scattermapbox\"}], \"scatterpolar\": [{\"marker\": {\"colorbar\": {\"outlinewidth\": 0, \"ticks\": \"\"}}, \"type\": \"scatterpolar\"}], \"scatterpolargl\": [{\"marker\": {\"colorbar\": {\"outlinewidth\": 0, \"ticks\": \"\"}}, \"type\": \"scatterpolargl\"}], \"scatterternary\": [{\"marker\": {\"colorbar\": {\"outlinewidth\": 0, \"ticks\": \"\"}}, \"type\": \"scatterternary\"}], \"surface\": [{\"colorbar\": {\"outlinewidth\": 0, \"ticks\": \"\"}, \"colorscale\": [[0.0, \"#0d0887\"], [0.1111111111111111, \"#46039f\"], [0.2222222222222222, \"#7201a8\"], [0.3333333333333333, \"#9c179e\"], [0.4444444444444444, \"#bd3786\"], [0.5555555555555556, \"#d8576b\"], [0.6666666666666666, \"#ed7953\"], [0.7777777777777778, \"#fb9f3a\"], [0.8888888888888888, \"#fdca26\"], [1.0, \"#f0f921\"]], \"type\": \"surface\"}], \"table\": [{\"cells\": {\"fill\": {\"color\": \"#EBF0F8\"}, \"line\": {\"color\": \"white\"}}, \"header\": {\"fill\": {\"color\": \"#C8D4E3\"}, \"line\": {\"color\": \"white\"}}, \"type\": \"table\"}]}, \"layout\": {\"annotationdefaults\": {\"arrowcolor\": \"#2a3f5f\", \"arrowhead\": 0, \"arrowwidth\": 1}, \"autotypenumbers\": \"strict\", \"coloraxis\": {\"colorbar\": {\"outlinewidth\": 0, \"ticks\": \"\"}}, \"colorscale\": {\"diverging\": [[0, \"#8e0152\"], [0.1, \"#c51b7d\"], [0.2, \"#de77ae\"], [0.3, \"#f1b6da\"], [0.4, \"#fde0ef\"], [0.5, \"#f7f7f7\"], [0.6, \"#e6f5d0\"], [0.7, \"#b8e186\"], [0.8, \"#7fbc41\"], [0.9, \"#4d9221\"], [1, \"#276419\"]], \"sequential\": [[0.0, \"#0d0887\"], [0.1111111111111111, \"#46039f\"], [0.2222222222222222, \"#7201a8\"], [0.3333333333333333, \"#9c179e\"], [0.4444444444444444, \"#bd3786\"], [0.5555555555555556, \"#d8576b\"], [0.6666666666666666, \"#ed7953\"], [0.7777777777777778, \"#fb9f3a\"], [0.8888888888888888, \"#fdca26\"], [1.0, \"#f0f921\"]], \"sequentialminus\": [[0.0, \"#0d0887\"], [0.1111111111111111, \"#46039f\"], [0.2222222222222222, \"#7201a8\"], [0.3333333333333333, \"#9c179e\"], [0.4444444444444444, \"#bd3786\"], [0.5555555555555556, \"#d8576b\"], [0.6666666666666666, \"#ed7953\"], [0.7777777777777778, \"#fb9f3a\"], [0.8888888888888888, \"#fdca26\"], [1.0, \"#f0f921\"]]}, \"colorway\": [\"#636efa\", \"#EF553B\", \"#00cc96\", \"#ab63fa\", \"#FFA15A\", \"#19d3f3\", \"#FF6692\", \"#B6E880\", \"#FF97FF\", \"#FECB52\"], \"font\": {\"color\": \"#2a3f5f\"}, \"geo\": {\"bgcolor\": \"white\", \"lakecolor\": \"white\", \"landcolor\": \"#E5ECF6\", \"showlakes\": true, \"showland\": true, \"subunitcolor\": \"white\"}, \"hoverlabel\": {\"align\": \"left\"}, \"hovermode\": \"closest\", \"mapbox\": {\"style\": \"light\"}, \"paper_bgcolor\": \"white\", \"plot_bgcolor\": \"#E5ECF6\", \"polar\": {\"angularaxis\": {\"gridcolor\": \"white\", \"linecolor\": \"white\", \"ticks\": \"\"}, \"bgcolor\": \"#E5ECF6\", \"radialaxis\": {\"gridcolor\": \"white\", \"linecolor\": \"white\", \"ticks\": \"\"}}, \"scene\": {\"xaxis\": {\"backgroundcolor\": \"#E5ECF6\", \"gridcolor\": \"white\", \"gridwidth\": 2, \"linecolor\": \"white\", \"showbackground\": true, \"ticks\": \"\", \"zerolinecolor\": \"white\"}, \"yaxis\": {\"backgroundcolor\": \"#E5ECF6\", \"gridcolor\": \"white\", \"gridwidth\": 2, \"linecolor\": \"white\", \"showbackground\": true, \"ticks\": \"\", \"zerolinecolor\": \"white\"}, \"zaxis\": {\"backgroundcolor\": \"#E5ECF6\", \"gridcolor\": \"white\", \"gridwidth\": 2, \"linecolor\": \"white\", \"showbackground\": true, \"ticks\": \"\", \"zerolinecolor\": \"white\"}}, \"shapedefaults\": {\"line\": {\"color\": \"#2a3f5f\"}}, \"ternary\": {\"aaxis\": {\"gridcolor\": \"white\", \"linecolor\": \"white\", \"ticks\": \"\"}, \"baxis\": {\"gridcolor\": \"white\", \"linecolor\": \"white\", \"ticks\": \"\"}, \"bgcolor\": \"#E5ECF6\", \"caxis\": {\"gridcolor\": \"white\", \"linecolor\": \"white\", \"ticks\": \"\"}}, \"title\": {\"x\": 0.05}, \"xaxis\": {\"automargin\": true, \"gridcolor\": \"white\", \"linecolor\": \"white\", \"ticks\": \"\", \"title\": {\"standoff\": 15}, \"zerolinecolor\": \"white\", \"zerolinewidth\": 2}, \"yaxis\": {\"automargin\": true, \"gridcolor\": \"white\", \"linecolor\": \"white\", \"ticks\": \"\", \"title\": {\"standoff\": 15}, \"zerolinecolor\": \"white\", \"zerolinewidth\": 2}}}, \"updatemenus\": [{\"buttons\": [{\"args\": [null, {\"frame\": {\"duration\": 500, \"redraw\": false}, \"fromcurrent\": true, \"mode\": \"immediate\", \"transition\": {\"duration\": 500, \"easing\": \"linear\"}}], \"label\": \"&#9654;\", \"method\": \"animate\"}, {\"args\": [[null], {\"frame\": {\"duration\": 0, \"redraw\": false}, \"fromcurrent\": true, \"mode\": \"immediate\", \"transition\": {\"duration\": 0, \"easing\": \"linear\"}}], \"label\": \"&#9724;\", \"method\": \"animate\"}], \"direction\": \"left\", \"pad\": {\"r\": 10, \"t\": 70}, \"showactive\": false, \"type\": \"buttons\", \"x\": 0.1, \"xanchor\": \"right\", \"y\": 0, \"yanchor\": \"top\"}], \"xaxis\": {\"anchor\": \"y\", \"domain\": [0.0, 1.0], \"range\": [0, 500], \"title\": {\"text\": \"AQI\"}}, \"yaxis\": {\"anchor\": \"x\", \"domain\": [0.0, 1.0], \"range\": [0, 500], \"title\": {\"text\": \"AQI_20\"}}},                        {\"responsive\": true}                    ).then(function(){\n",
       "                            Plotly.addFrames('1b444f12-7daf-44f3-8f68-43cca4d4c1cd', [{\"data\": [{\"hovertemplate\": \"<b>%{hovertext}</b><br><br>Country_name=Netherlands<br>Month=1<br>AQI=%{x}<br>AQI_20=%{y}<br>size=%{marker.size}<extra></extra>\", \"hovertext\": [\"Rotterdam\"], \"ids\": [\"Netherlands\"], \"legendgroup\": \"Netherlands\", \"marker\": {\"color\": \"#636efa\", \"size\": [1], \"sizemode\": \"area\", \"sizeref\": 0.00033057851239669424, \"symbol\": \"circle\"}, \"mode\": \"markers\", \"name\": \"Netherlands\", \"orientation\": \"v\", \"showlegend\": true, \"x\": [34.74193548387097], \"xaxis\": \"x\", \"y\": [51.083333333333336], \"yaxis\": \"y\", \"type\": \"scatter\"}, {\"hovertemplate\": \"<b>%{hovertext}</b><br><br>Country_name=United States<br>Month=1<br>AQI=%{x}<br>AQI_20=%{y}<br>size=%{marker.size}<extra></extra>\", \"hovertext\": [\"San Francisco\"], \"ids\": [\"United States\"], \"legendgroup\": \"United States\", \"marker\": {\"color\": \"#EF553B\", \"size\": [1], \"sizemode\": \"area\", \"sizeref\": 0.00033057851239669424, \"symbol\": \"circle\"}, \"mode\": \"markers\", \"name\": \"United States\", \"orientation\": \"v\", \"showlegend\": true, \"x\": [50.193548387096776], \"xaxis\": \"x\", \"y\": [29.0], \"yaxis\": \"y\", \"type\": \"scatter\"}, {\"hovertemplate\": \"<b>%{hovertext}</b><br><br>Country_name=France<br>Month=1<br>AQI=%{x}<br>AQI_20=%{y}<br>size=%{marker.size}<extra></extra>\", \"hovertext\": [\"Paris\"], \"ids\": [\"France\"], \"legendgroup\": \"France\", \"marker\": {\"color\": \"#00cc96\", \"size\": [1], \"sizemode\": \"area\", \"sizeref\": 0.00033057851239669424, \"symbol\": \"circle\"}, \"mode\": \"markers\", \"name\": \"France\", \"orientation\": \"v\", \"showlegend\": true, \"x\": [49.806451612903224], \"xaxis\": \"x\", \"y\": [52.583333333333336], \"yaxis\": \"y\", \"type\": \"scatter\"}, {\"hovertemplate\": \"<b>%{hovertext}</b><br><br>Country_name=Japan<br>Month=1<br>AQI=%{x}<br>AQI_20=%{y}<br>size=%{marker.size}<extra></extra>\", \"hovertext\": [\"Tokyo\"], \"ids\": [\"Japan\"], \"legendgroup\": \"Japan\", \"marker\": {\"color\": \"#ab63fa\", \"size\": [1], \"sizemode\": \"area\", \"sizeref\": 0.00033057851239669424, \"symbol\": \"circle\"}, \"mode\": \"markers\", \"name\": \"Japan\", \"orientation\": \"v\", \"showlegend\": true, \"x\": [252.1290322580645], \"xaxis\": \"x\", \"y\": [35.77777777777778], \"yaxis\": \"y\", \"type\": \"scatter\"}, {\"hovertemplate\": \"<b>%{hovertext}</b><br><br>Country_name=Israel<br>Month=1<br>AQI=%{x}<br>AQI_20=%{y}<br>size=%{marker.size}<extra></extra>\", \"hovertext\": [\"Jerusalem\"], \"ids\": [\"Israel\"], \"legendgroup\": \"Israel\", \"marker\": {\"color\": \"#FFA15A\", \"size\": [1], \"sizemode\": \"area\", \"sizeref\": 0.00033057851239669424, \"symbol\": \"circle\"}, \"mode\": \"markers\", \"name\": \"Israel\", \"orientation\": \"v\", \"showlegend\": true, \"x\": [69.12903225806451], \"xaxis\": \"x\", \"y\": [47.61764705882353], \"yaxis\": \"y\", \"type\": \"scatter\"}, {\"hovertemplate\": \"<b>%{hovertext}</b><br><br>Country_name=India<br>Month=1<br>AQI=%{x}<br>AQI_20=%{y}<br>size=%{marker.size}<extra></extra>\", \"hovertext\": [\"Delhi\"], \"ids\": [\"India\"], \"legendgroup\": \"India\", \"marker\": {\"color\": \"#19d3f3\", \"size\": [1], \"sizemode\": \"area\", \"sizeref\": 0.00033057851239669424, \"symbol\": \"circle\"}, \"mode\": \"markers\", \"name\": \"India\", \"orientation\": \"v\", \"showlegend\": true, \"x\": [33.714285714285715], \"xaxis\": \"x\", \"y\": [226.80555555555554], \"yaxis\": \"y\", \"type\": \"scatter\"}, {\"hovertemplate\": \"<b>%{hovertext}</b><br><br>Country_name=Australia<br>Month=1<br>AQI=%{x}<br>AQI_20=%{y}<br>size=%{marker.size}<extra></extra>\", \"hovertext\": [\"Melbourne\"], \"ids\": [\"Australia\"], \"legendgroup\": \"Australia\", \"marker\": {\"color\": \"#FF6692\", \"size\": [1], \"sizemode\": \"area\", \"sizeref\": 0.00033057851239669424, \"symbol\": \"circle\"}, \"mode\": \"markers\", \"name\": \"Australia\", \"orientation\": \"v\", \"showlegend\": true, \"x\": [129.06451612903226], \"xaxis\": \"x\", \"y\": [55.666666666666664], \"yaxis\": \"y\", \"type\": \"scatter\"}, {\"hovertemplate\": \"<b>%{hovertext}</b><br><br>Country_name=Thailand<br>Month=1<br>AQI=%{x}<br>AQI_20=%{y}<br>size=%{marker.size}<extra></extra>\", \"hovertext\": [\"Bangkok\"], \"ids\": [\"Thailand\"], \"legendgroup\": \"Thailand\", \"marker\": {\"color\": \"#B6E880\", \"size\": [1], \"sizemode\": \"area\", \"sizeref\": 0.00033057851239669424, \"symbol\": \"circle\"}, \"mode\": \"markers\", \"name\": \"Thailand\", \"orientation\": \"v\", \"showlegend\": true, \"x\": [50.516129032258064], \"xaxis\": \"x\", \"y\": [111.55555555555556], \"yaxis\": \"y\", \"type\": \"scatter\"}, {\"hovertemplate\": \"<b>%{hovertext}</b><br><br>Country_name=Argentina<br>Month=1<br>AQI=%{x}<br>AQI_20=%{y}<br>size=%{marker.size}<extra></extra>\", \"hovertext\": [\"Buenos Aires\"], \"ids\": [\"Argentina\"], \"legendgroup\": \"Argentina\", \"marker\": {\"color\": \"#FF97FF\", \"size\": [1], \"sizemode\": \"area\", \"sizeref\": 0.00033057851239669424, \"symbol\": \"circle\"}, \"mode\": \"markers\", \"name\": \"Argentina\", \"orientation\": \"v\", \"showlegend\": true, \"x\": [19.633333333333333], \"xaxis\": \"x\", \"y\": [36.05882352941177], \"yaxis\": \"y\", \"type\": \"scatter\"}, {\"hovertemplate\": \"<b>%{hovertext}</b><br><br>Country_name=Spain<br>Month=1<br>AQI=%{x}<br>AQI_20=%{y}<br>size=%{marker.size}<extra></extra>\", \"hovertext\": [\"Barcelona\", \"Madrid\"], \"ids\": [\"Spain\", \"Spain\"], \"legendgroup\": \"Spain\", \"marker\": {\"color\": \"#FECB52\", \"size\": [1, 1], \"sizemode\": \"area\", \"sizeref\": 0.00033057851239669424, \"symbol\": \"circle\"}, \"mode\": \"markers\", \"name\": \"Spain\", \"orientation\": \"v\", \"showlegend\": true, \"x\": [40.96774193548387, 28.29032258064516], \"xaxis\": \"x\", \"y\": [23.77777777777778, 52.416666666666664], \"yaxis\": \"y\", \"type\": \"scatter\"}, {\"hovertemplate\": \"<b>%{hovertext}</b><br><br>Country_name=Switzerland<br>Month=1<br>AQI=%{x}<br>AQI_20=%{y}<br>size=%{marker.size}<extra></extra>\", \"hovertext\": [\"Z\\u00fcrich\"], \"ids\": [\"Switzerland\"], \"legendgroup\": \"Switzerland\", \"marker\": {\"color\": \"#636efa\", \"size\": [1], \"sizemode\": \"area\", \"sizeref\": 0.00033057851239669424, \"symbol\": \"circle\"}, \"mode\": \"markers\", \"name\": \"Switzerland\", \"orientation\": \"v\", \"showlegend\": true, \"x\": [56.41935483870968], \"xaxis\": \"x\", \"y\": [14.758333333333335], \"yaxis\": \"y\", \"type\": \"scatter\"}, {\"hovertemplate\": \"<b>%{hovertext}</b><br><br>Country_name=Chile<br>Month=1<br>AQI=%{x}<br>AQI_20=%{y}<br>size=%{marker.size}<extra></extra>\", \"hovertext\": [\"Los \\u00c1ngeles\"], \"ids\": [\"Chile\"], \"legendgroup\": \"Chile\", \"marker\": {\"color\": \"#EF553B\", \"size\": [1], \"sizemode\": \"area\", \"sizeref\": 0.00033057851239669424, \"symbol\": \"circle\"}, \"mode\": \"markers\", \"name\": \"Chile\", \"orientation\": \"v\", \"showlegend\": true, \"x\": [14.129032258064516], \"xaxis\": \"x\", \"y\": [37.77777777777778], \"yaxis\": \"y\", \"type\": \"scatter\"}, {\"hovertemplate\": \"<b>%{hovertext}</b><br><br>Country_name=Germany<br>Month=1<br>AQI=%{x}<br>AQI_20=%{y}<br>size=%{marker.size}<extra></extra>\", \"hovertext\": [\"Berlin\"], \"ids\": [\"Germany\"], \"legendgroup\": \"Germany\", \"marker\": {\"color\": \"#00cc96\", \"size\": [1], \"sizemode\": \"area\", \"sizeref\": 0.00033057851239669424, \"symbol\": \"circle\"}, \"mode\": \"markers\", \"name\": \"Germany\", \"orientation\": \"v\", \"showlegend\": true, \"x\": [28.29032258064516], \"xaxis\": \"x\", \"y\": [44.0], \"yaxis\": \"y\", \"type\": \"scatter\"}], \"name\": \"1\"}, {\"data\": [{\"hovertemplate\": \"<b>%{hovertext}</b><br><br>Country_name=Netherlands<br>Month=2<br>AQI=%{x}<br>AQI_20=%{y}<br>size=%{marker.size}<extra></extra>\", \"hovertext\": [\"Rotterdam\"], \"ids\": [\"Netherlands\"], \"legendgroup\": \"Netherlands\", \"marker\": {\"color\": \"#636efa\", \"size\": [1], \"sizemode\": \"area\", \"sizeref\": 0.00033057851239669424, \"symbol\": \"circle\"}, \"mode\": \"markers\", \"name\": \"Netherlands\", \"orientation\": \"v\", \"showlegend\": true, \"x\": [26.535714285714285], \"xaxis\": \"x\", \"y\": [34.62068965517241], \"yaxis\": \"y\", \"type\": \"scatter\"}, {\"hovertemplate\": \"<b>%{hovertext}</b><br><br>Country_name=United States<br>Month=2<br>AQI=%{x}<br>AQI_20=%{y}<br>size=%{marker.size}<extra></extra>\", \"hovertext\": [\"San Francisco\"], \"ids\": [\"United States\"], \"legendgroup\": \"United States\", \"marker\": {\"color\": \"#EF553B\", \"size\": [1], \"sizemode\": \"area\", \"sizeref\": 0.00033057851239669424, \"symbol\": \"circle\"}, \"mode\": \"markers\", \"name\": \"United States\", \"orientation\": \"v\", \"showlegend\": true, \"x\": [48.75], \"xaxis\": \"x\", \"y\": [33.86206896551724], \"yaxis\": \"y\", \"type\": \"scatter\"}, {\"hovertemplate\": \"<b>%{hovertext}</b><br><br>Country_name=France<br>Month=2<br>AQI=%{x}<br>AQI_20=%{y}<br>size=%{marker.size}<extra></extra>\", \"hovertext\": [\"Paris\"], \"ids\": [\"France\"], \"legendgroup\": \"France\", \"marker\": {\"color\": \"#00cc96\", \"size\": [1], \"sizemode\": \"area\", \"sizeref\": 0.00033057851239669424, \"symbol\": \"circle\"}, \"mode\": \"markers\", \"name\": \"France\", \"orientation\": \"v\", \"showlegend\": true, \"x\": [28.321428571428573], \"xaxis\": \"x\", \"y\": [32.96551724137931], \"yaxis\": \"y\", \"type\": \"scatter\"}, {\"hovertemplate\": \"<b>%{hovertext}</b><br><br>Country_name=Japan<br>Month=2<br>AQI=%{x}<br>AQI_20=%{y}<br>size=%{marker.size}<extra></extra>\", \"hovertext\": [\"Tokyo\"], \"ids\": [\"Japan\"], \"legendgroup\": \"Japan\", \"marker\": {\"color\": \"#ab63fa\", \"size\": [1], \"sizemode\": \"area\", \"sizeref\": 0.00033057851239669424, \"symbol\": \"circle\"}, \"mode\": \"markers\", \"name\": \"Japan\", \"orientation\": \"v\", \"showlegend\": true, \"x\": [70.10714285714286], \"xaxis\": \"x\", \"y\": [40.6551724137931], \"yaxis\": \"y\", \"type\": \"scatter\"}, {\"hovertemplate\": \"<b>%{hovertext}</b><br><br>Country_name=Israel<br>Month=2<br>AQI=%{x}<br>AQI_20=%{y}<br>size=%{marker.size}<extra></extra>\", \"hovertext\": [\"Jerusalem\"], \"ids\": [\"Israel\"], \"legendgroup\": \"Israel\", \"marker\": {\"color\": \"#FFA15A\", \"size\": [1], \"sizemode\": \"area\", \"sizeref\": 0.00033057851239669424, \"symbol\": \"circle\"}, \"mode\": \"markers\", \"name\": \"Israel\", \"orientation\": \"v\", \"showlegend\": true, \"x\": [60.285714285714285], \"xaxis\": \"x\", \"y\": [53.241379310344826], \"yaxis\": \"y\", \"type\": \"scatter\"}, {\"hovertemplate\": \"<b>%{hovertext}</b><br><br>Country_name=India<br>Month=2<br>AQI=%{x}<br>AQI_20=%{y}<br>size=%{marker.size}<extra></extra>\", \"hovertext\": [\"Delhi\"], \"ids\": [\"India\"], \"legendgroup\": \"India\", \"marker\": {\"color\": \"#19d3f3\", \"size\": [1], \"sizemode\": \"area\", \"sizeref\": 0.00033057851239669424, \"symbol\": \"circle\"}, \"mode\": \"markers\", \"name\": \"India\", \"orientation\": \"v\", \"showlegend\": true, \"x\": [184.85714285714286], \"xaxis\": \"x\", \"y\": [181.06896551724137], \"yaxis\": \"y\", \"type\": \"scatter\"}, {\"hovertemplate\": \"<b>%{hovertext}</b><br><br>Country_name=Australia<br>Month=2<br>AQI=%{x}<br>AQI_20=%{y}<br>size=%{marker.size}<extra></extra>\", \"hovertext\": [\"Melbourne\"], \"ids\": [\"Australia\"], \"legendgroup\": \"Australia\", \"marker\": {\"color\": \"#FF6692\", \"size\": [1], \"sizemode\": \"area\", \"sizeref\": 0.00033057851239669424, \"symbol\": \"circle\"}, \"mode\": \"markers\", \"name\": \"Australia\", \"orientation\": \"v\", \"showlegend\": true, \"x\": [54.67857142857143], \"xaxis\": \"x\", \"y\": [28.20689655172414], \"yaxis\": \"y\", \"type\": \"scatter\"}, {\"hovertemplate\": \"<b>%{hovertext}</b><br><br>Country_name=Thailand<br>Month=2<br>AQI=%{x}<br>AQI_20=%{y}<br>size=%{marker.size}<extra></extra>\", \"hovertext\": [\"Bangkok\"], \"ids\": [\"Thailand\"], \"legendgroup\": \"Thailand\", \"marker\": {\"color\": \"#B6E880\", \"size\": [1], \"sizemode\": \"area\", \"sizeref\": 0.00033057851239669424, \"symbol\": \"circle\"}, \"mode\": \"markers\", \"name\": \"Thailand\", \"orientation\": \"v\", \"showlegend\": true, \"x\": [51.285714285714285], \"xaxis\": \"x\", \"y\": [113.41379310344827], \"yaxis\": \"y\", \"type\": \"scatter\"}, {\"hovertemplate\": \"<b>%{hovertext}</b><br><br>Country_name=Argentina<br>Month=2<br>AQI=%{x}<br>AQI_20=%{y}<br>size=%{marker.size}<extra></extra>\", \"hovertext\": [\"Buenos Aires\"], \"ids\": [\"Argentina\"], \"legendgroup\": \"Argentina\", \"marker\": {\"color\": \"#FF97FF\", \"size\": [1], \"sizemode\": \"area\", \"sizeref\": 0.00033057851239669424, \"symbol\": \"circle\"}, \"mode\": \"markers\", \"name\": \"Argentina\", \"orientation\": \"v\", \"showlegend\": true, \"x\": [65.60714285714286], \"xaxis\": \"x\", \"y\": [34.724137931034484], \"yaxis\": \"y\", \"type\": \"scatter\"}, {\"hovertemplate\": \"<b>%{hovertext}</b><br><br>Country_name=Spain<br>Month=2<br>AQI=%{x}<br>AQI_20=%{y}<br>size=%{marker.size}<extra></extra>\", \"hovertext\": [\"Madrid\", \"Barcelona\"], \"ids\": [\"Spain\", \"Spain\"], \"legendgroup\": \"Spain\", \"marker\": {\"color\": \"#FECB52\", \"size\": [1, 1], \"sizemode\": \"area\", \"sizeref\": 0.00033057851239669424, \"symbol\": \"circle\"}, \"mode\": \"markers\", \"name\": \"Spain\", \"orientation\": \"v\", \"showlegend\": true, \"x\": [17.892857142857142, 70.03571428571429], \"xaxis\": \"x\", \"y\": [54.206896551724135, 26.06896551724138], \"yaxis\": \"y\", \"type\": \"scatter\"}, {\"hovertemplate\": \"<b>%{hovertext}</b><br><br>Country_name=Switzerland<br>Month=2<br>AQI=%{x}<br>AQI_20=%{y}<br>size=%{marker.size}<extra></extra>\", \"hovertext\": [\"Z\\u00fcrich\"], \"ids\": [\"Switzerland\"], \"legendgroup\": \"Switzerland\", \"marker\": {\"color\": \"#636efa\", \"size\": [1], \"sizemode\": \"area\", \"sizeref\": 0.00033057851239669424, \"symbol\": \"circle\"}, \"mode\": \"markers\", \"name\": \"Switzerland\", \"orientation\": \"v\", \"showlegend\": true, \"x\": [25.0], \"xaxis\": \"x\", \"y\": [20.38620689655172], \"yaxis\": \"y\", \"type\": \"scatter\"}, {\"hovertemplate\": \"<b>%{hovertext}</b><br><br>Country_name=Chile<br>Month=2<br>AQI=%{x}<br>AQI_20=%{y}<br>size=%{marker.size}<extra></extra>\", \"hovertext\": [\"Los \\u00c1ngeles\"], \"ids\": [\"Chile\"], \"legendgroup\": \"Chile\", \"marker\": {\"color\": \"#EF553B\", \"size\": [1], \"sizemode\": \"area\", \"sizeref\": 0.00033057851239669424, \"symbol\": \"circle\"}, \"mode\": \"markers\", \"name\": \"Chile\", \"orientation\": \"v\", \"showlegend\": true, \"x\": [38.04545454545455], \"xaxis\": \"x\", \"y\": [30.20689655172414], \"yaxis\": \"y\", \"type\": \"scatter\"}, {\"hovertemplate\": \"<b>%{hovertext}</b><br><br>Country_name=Germany<br>Month=2<br>AQI=%{x}<br>AQI_20=%{y}<br>size=%{marker.size}<extra></extra>\", \"hovertext\": [\"Berlin\"], \"ids\": [\"Germany\"], \"legendgroup\": \"Germany\", \"marker\": {\"color\": \"#00cc96\", \"size\": [1], \"sizemode\": \"area\", \"sizeref\": 0.00033057851239669424, \"symbol\": \"circle\"}, \"mode\": \"markers\", \"name\": \"Germany\", \"orientation\": \"v\", \"showlegend\": true, \"x\": [77.21428571428571], \"xaxis\": \"x\", \"y\": [27.448275862068964], \"yaxis\": \"y\", \"type\": \"scatter\"}], \"name\": \"2\"}, {\"data\": [{\"hovertemplate\": \"<b>%{hovertext}</b><br><br>Country_name=Netherlands<br>Month=3<br>AQI=%{x}<br>AQI_20=%{y}<br>size=%{marker.size}<extra></extra>\", \"hovertext\": [\"Rotterdam\"], \"ids\": [\"Netherlands\"], \"legendgroup\": \"Netherlands\", \"marker\": {\"color\": \"#636efa\", \"size\": [1], \"sizemode\": \"area\", \"sizeref\": 0.00033057851239669424, \"symbol\": \"circle\"}, \"mode\": \"markers\", \"name\": \"Netherlands\", \"orientation\": \"v\", \"showlegend\": true, \"x\": [27.580645161290324], \"xaxis\": \"x\", \"y\": [37.696969696969695], \"yaxis\": \"y\", \"type\": \"scatter\"}, {\"hovertemplate\": \"<b>%{hovertext}</b><br><br>Country_name=United States<br>Month=3<br>AQI=%{x}<br>AQI_20=%{y}<br>size=%{marker.size}<extra></extra>\", \"hovertext\": [\"San Francisco\"], \"ids\": [\"United States\"], \"legendgroup\": \"United States\", \"marker\": {\"color\": \"#EF553B\", \"size\": [1], \"sizemode\": \"area\", \"sizeref\": 0.00033057851239669424, \"symbol\": \"circle\"}, \"mode\": \"markers\", \"name\": \"United States\", \"orientation\": \"v\", \"showlegend\": true, \"x\": [23.78709677419355], \"xaxis\": \"x\", \"y\": [25.884848484848487], \"yaxis\": \"y\", \"type\": \"scatter\"}, {\"hovertemplate\": \"<b>%{hovertext}</b><br><br>Country_name=France<br>Month=3<br>AQI=%{x}<br>AQI_20=%{y}<br>size=%{marker.size}<extra></extra>\", \"hovertext\": [\"Paris\"], \"ids\": [\"France\"], \"legendgroup\": \"France\", \"marker\": {\"color\": \"#00cc96\", \"size\": [1], \"sizemode\": \"area\", \"sizeref\": 0.00033057851239669424, \"symbol\": \"circle\"}, \"mode\": \"markers\", \"name\": \"France\", \"orientation\": \"v\", \"showlegend\": true, \"x\": [54.516129032258064], \"xaxis\": \"x\", \"y\": [45.666666666666664], \"yaxis\": \"y\", \"type\": \"scatter\"}, {\"hovertemplate\": \"<b>%{hovertext}</b><br><br>Country_name=Japan<br>Month=3<br>AQI=%{x}<br>AQI_20=%{y}<br>size=%{marker.size}<extra></extra>\", \"hovertext\": [\"Tokyo\"], \"ids\": [\"Japan\"], \"legendgroup\": \"Japan\", \"marker\": {\"color\": \"#ab63fa\", \"size\": [1], \"sizemode\": \"area\", \"sizeref\": 0.00033057851239669424, \"symbol\": \"circle\"}, \"mode\": \"markers\", \"name\": \"Japan\", \"orientation\": \"v\", \"showlegend\": true, \"x\": [44.516129032258064], \"xaxis\": \"x\", \"y\": [38.63636363636363], \"yaxis\": \"y\", \"type\": \"scatter\"}, {\"hovertemplate\": \"<b>%{hovertext}</b><br><br>Country_name=Israel<br>Month=3<br>AQI=%{x}<br>AQI_20=%{y}<br>size=%{marker.size}<extra></extra>\", \"hovertext\": [\"Jerusalem\"], \"ids\": [\"Israel\"], \"legendgroup\": \"Israel\", \"marker\": {\"color\": \"#FFA15A\", \"size\": [1], \"sizemode\": \"area\", \"sizeref\": 0.00033057851239669424, \"symbol\": \"circle\"}, \"mode\": \"markers\", \"name\": \"Israel\", \"orientation\": \"v\", \"showlegend\": true, \"x\": [37.516129032258064], \"xaxis\": \"x\", \"y\": [60.24242424242424], \"yaxis\": \"y\", \"type\": \"scatter\"}, {\"hovertemplate\": \"<b>%{hovertext}</b><br><br>Country_name=India<br>Month=3<br>AQI=%{x}<br>AQI_20=%{y}<br>size=%{marker.size}<extra></extra>\", \"hovertext\": [\"Delhi\"], \"ids\": [\"India\"], \"legendgroup\": \"India\", \"marker\": {\"color\": \"#19d3f3\", \"size\": [1], \"sizemode\": \"area\", \"sizeref\": 0.00033057851239669424, \"symbol\": \"circle\"}, \"mode\": \"markers\", \"name\": \"India\", \"orientation\": \"v\", \"showlegend\": true, \"x\": [26.75483870967742], \"xaxis\": \"x\", \"y\": [123.78787878787878], \"yaxis\": \"y\", \"type\": \"scatter\"}, {\"hovertemplate\": \"<b>%{hovertext}</b><br><br>Country_name=Australia<br>Month=3<br>AQI=%{x}<br>AQI_20=%{y}<br>size=%{marker.size}<extra></extra>\", \"hovertext\": [\"Melbourne\"], \"ids\": [\"Australia\"], \"legendgroup\": \"Australia\", \"marker\": {\"color\": \"#FF6692\", \"size\": [1], \"sizemode\": \"area\", \"sizeref\": 0.00033057851239669424, \"symbol\": \"circle\"}, \"mode\": \"markers\", \"name\": \"Australia\", \"orientation\": \"v\", \"showlegend\": true, \"x\": [34.0], \"xaxis\": \"x\", \"y\": [19.09090909090909], \"yaxis\": \"y\", \"type\": \"scatter\"}, {\"hovertemplate\": \"<b>%{hovertext}</b><br><br>Country_name=Thailand<br>Month=3<br>AQI=%{x}<br>AQI_20=%{y}<br>size=%{marker.size}<extra></extra>\", \"hovertext\": [\"Bangkok\"], \"ids\": [\"Thailand\"], \"legendgroup\": \"Thailand\", \"marker\": {\"color\": \"#B6E880\", \"size\": [1], \"sizemode\": \"area\", \"sizeref\": 0.00033057851239669424, \"symbol\": \"circle\"}, \"mode\": \"markers\", \"name\": \"Thailand\", \"orientation\": \"v\", \"showlegend\": true, \"x\": [80.06451612903226], \"xaxis\": \"x\", \"y\": [71.96969696969697], \"yaxis\": \"y\", \"type\": \"scatter\"}, {\"hovertemplate\": \"<b>%{hovertext}</b><br><br>Country_name=Argentina<br>Month=3<br>AQI=%{x}<br>AQI_20=%{y}<br>size=%{marker.size}<extra></extra>\", \"hovertext\": [\"Buenos Aires\"], \"ids\": [\"Argentina\"], \"legendgroup\": \"Argentina\", \"marker\": {\"color\": \"#FF97FF\", \"size\": [1], \"sizemode\": \"area\", \"sizeref\": 0.00033057851239669424, \"symbol\": \"circle\"}, \"mode\": \"markers\", \"name\": \"Argentina\", \"orientation\": \"v\", \"showlegend\": true, \"x\": [50.16129032258065], \"xaxis\": \"x\", \"y\": [31.151515151515152], \"yaxis\": \"y\", \"type\": \"scatter\"}, {\"hovertemplate\": \"<b>%{hovertext}</b><br><br>Country_name=Spain<br>Month=3<br>AQI=%{x}<br>AQI_20=%{y}<br>size=%{marker.size}<extra></extra>\", \"hovertext\": [\"Madrid\", \"Barcelona\"], \"ids\": [\"Spain\", \"Spain\"], \"legendgroup\": \"Spain\", \"marker\": {\"color\": \"#FECB52\", \"size\": [1, 1], \"sizemode\": \"area\", \"sizeref\": 0.00033057851239669424, \"symbol\": \"circle\"}, \"mode\": \"markers\", \"name\": \"Spain\", \"orientation\": \"v\", \"showlegend\": true, \"x\": [159.32258064516128, 49.29032258064516], \"xaxis\": \"x\", \"y\": [31.12121212121212, 24.69090909090909], \"yaxis\": \"y\", \"type\": \"scatter\"}, {\"hovertemplate\": \"<b>%{hovertext}</b><br><br>Country_name=Switzerland<br>Month=3<br>AQI=%{x}<br>AQI_20=%{y}<br>size=%{marker.size}<extra></extra>\", \"hovertext\": [\"Z\\u00fcrich\"], \"ids\": [\"Switzerland\"], \"legendgroup\": \"Switzerland\", \"marker\": {\"color\": \"#636efa\", \"size\": [1], \"sizemode\": \"area\", \"sizeref\": 0.00033057851239669424, \"symbol\": \"circle\"}, \"mode\": \"markers\", \"name\": \"Switzerland\", \"orientation\": \"v\", \"showlegend\": true, \"x\": [46.935483870967744], \"xaxis\": \"x\", \"y\": [20.145454545454545], \"yaxis\": \"y\", \"type\": \"scatter\"}, {\"hovertemplate\": \"<b>%{hovertext}</b><br><br>Country_name=Chile<br>Month=3<br>AQI=%{x}<br>AQI_20=%{y}<br>size=%{marker.size}<extra></extra>\", \"hovertext\": [\"Los \\u00c1ngeles\"], \"ids\": [\"Chile\"], \"legendgroup\": \"Chile\", \"marker\": {\"color\": \"#EF553B\", \"size\": [1], \"sizemode\": \"area\", \"sizeref\": 0.00033057851239669424, \"symbol\": \"circle\"}, \"mode\": \"markers\", \"name\": \"Chile\", \"orientation\": \"v\", \"showlegend\": true, \"x\": [29.7], \"xaxis\": \"x\", \"y\": [37.09090909090909], \"yaxis\": \"y\", \"type\": \"scatter\"}, {\"hovertemplate\": \"<b>%{hovertext}</b><br><br>Country_name=Germany<br>Month=3<br>AQI=%{x}<br>AQI_20=%{y}<br>size=%{marker.size}<extra></extra>\", \"hovertext\": [\"Berlin\"], \"ids\": [\"Germany\"], \"legendgroup\": \"Germany\", \"marker\": {\"color\": \"#00cc96\", \"size\": [1], \"sizemode\": \"area\", \"sizeref\": 0.00033057851239669424, \"symbol\": \"circle\"}, \"mode\": \"markers\", \"name\": \"Germany\", \"orientation\": \"v\", \"showlegend\": true, \"x\": [52.483870967741936], \"xaxis\": \"x\", \"y\": [42.54545454545455], \"yaxis\": \"y\", \"type\": \"scatter\"}], \"name\": \"3\"}, {\"data\": [{\"hovertemplate\": \"<b>%{hovertext}</b><br><br>Country_name=Netherlands<br>Month=4<br>AQI=%{x}<br>AQI_20=%{y}<br>size=%{marker.size}<extra></extra>\", \"hovertext\": [\"Rotterdam\"], \"ids\": [\"Netherlands\"], \"legendgroup\": \"Netherlands\", \"marker\": {\"color\": \"#636efa\", \"size\": [1], \"sizemode\": \"area\", \"sizeref\": 0.00033057851239669424, \"symbol\": \"circle\"}, \"mode\": \"markers\", \"name\": \"Netherlands\", \"orientation\": \"v\", \"showlegend\": true, \"x\": [81.82758620689656], \"xaxis\": \"x\", \"y\": [43.51428571428571], \"yaxis\": \"y\", \"type\": \"scatter\"}, {\"hovertemplate\": \"<b>%{hovertext}</b><br><br>Country_name=United States<br>Month=4<br>AQI=%{x}<br>AQI_20=%{y}<br>size=%{marker.size}<extra></extra>\", \"hovertext\": [\"San Francisco\"], \"ids\": [\"United States\"], \"legendgroup\": \"United States\", \"marker\": {\"color\": \"#EF553B\", \"size\": [1], \"sizemode\": \"area\", \"sizeref\": 0.00033057851239669424, \"symbol\": \"circle\"}, \"mode\": \"markers\", \"name\": \"United States\", \"orientation\": \"v\", \"showlegend\": true, \"x\": [27.84827586206896], \"xaxis\": \"x\", \"y\": [24.991428571428568], \"yaxis\": \"y\", \"type\": \"scatter\"}, {\"hovertemplate\": \"<b>%{hovertext}</b><br><br>Country_name=France<br>Month=4<br>AQI=%{x}<br>AQI_20=%{y}<br>size=%{marker.size}<extra></extra>\", \"hovertext\": [\"Paris\"], \"ids\": [\"France\"], \"legendgroup\": \"France\", \"marker\": {\"color\": \"#00cc96\", \"size\": [1], \"sizemode\": \"area\", \"sizeref\": 0.00033057851239669424, \"symbol\": \"circle\"}, \"mode\": \"markers\", \"name\": \"France\", \"orientation\": \"v\", \"showlegend\": true, \"x\": [67.46666666666667], \"xaxis\": \"x\", \"y\": [49.97142857142857], \"yaxis\": \"y\", \"type\": \"scatter\"}, {\"hovertemplate\": \"<b>%{hovertext}</b><br><br>Country_name=Japan<br>Month=4<br>AQI=%{x}<br>AQI_20=%{y}<br>size=%{marker.size}<extra></extra>\", \"hovertext\": [\"Tokyo\"], \"ids\": [\"Japan\"], \"legendgroup\": \"Japan\", \"marker\": {\"color\": \"#ab63fa\", \"size\": [1], \"sizemode\": \"area\", \"sizeref\": 0.00033057851239669424, \"symbol\": \"circle\"}, \"mode\": \"markers\", \"name\": \"Japan\", \"orientation\": \"v\", \"showlegend\": true, \"x\": [56.833333333333336], \"xaxis\": \"x\", \"y\": [38.8], \"yaxis\": \"y\", \"type\": \"scatter\"}, {\"hovertemplate\": \"<b>%{hovertext}</b><br><br>Country_name=Israel<br>Month=4<br>AQI=%{x}<br>AQI_20=%{y}<br>size=%{marker.size}<extra></extra>\", \"hovertext\": [\"Jerusalem\"], \"ids\": [\"Israel\"], \"legendgroup\": \"Israel\", \"marker\": {\"color\": \"#FFA15A\", \"size\": [1], \"sizemode\": \"area\", \"sizeref\": 0.00033057851239669424, \"symbol\": \"circle\"}, \"mode\": \"markers\", \"name\": \"Israel\", \"orientation\": \"v\", \"showlegend\": true, \"x\": [58.607142857142854], \"xaxis\": \"x\", \"y\": [53.542857142857144], \"yaxis\": \"y\", \"type\": \"scatter\"}, {\"hovertemplate\": \"<b>%{hovertext}</b><br><br>Country_name=India<br>Month=4<br>AQI=%{x}<br>AQI_20=%{y}<br>size=%{marker.size}<extra></extra>\", \"hovertext\": [\"Delhi\"], \"ids\": [\"India\"], \"legendgroup\": \"India\", \"marker\": {\"color\": \"#19d3f3\", \"size\": [1], \"sizemode\": \"area\", \"sizeref\": 0.00033057851239669424, \"symbol\": \"circle\"}, \"mode\": \"markers\", \"name\": \"India\", \"orientation\": \"v\", \"showlegend\": true, \"x\": [32.06666666666667], \"xaxis\": \"x\", \"y\": [107.88571428571429], \"yaxis\": \"y\", \"type\": \"scatter\"}, {\"hovertemplate\": \"<b>%{hovertext}</b><br><br>Country_name=Australia<br>Month=4<br>AQI=%{x}<br>AQI_20=%{y}<br>size=%{marker.size}<extra></extra>\", \"hovertext\": [\"Melbourne\"], \"ids\": [\"Australia\"], \"legendgroup\": \"Australia\", \"marker\": {\"color\": \"#FF6692\", \"size\": [1], \"sizemode\": \"area\", \"sizeref\": 0.00033057851239669424, \"symbol\": \"circle\"}, \"mode\": \"markers\", \"name\": \"Australia\", \"orientation\": \"v\", \"showlegend\": true, \"x\": [57.03333333333333], \"xaxis\": \"x\", \"y\": [23.62857142857143], \"yaxis\": \"y\", \"type\": \"scatter\"}, {\"hovertemplate\": \"<b>%{hovertext}</b><br><br>Country_name=Thailand<br>Month=4<br>AQI=%{x}<br>AQI_20=%{y}<br>size=%{marker.size}<extra></extra>\", \"hovertext\": [\"Bangkok\"], \"ids\": [\"Thailand\"], \"legendgroup\": \"Thailand\", \"marker\": {\"color\": \"#B6E880\", \"size\": [1], \"sizemode\": \"area\", \"sizeref\": 0.00033057851239669424, \"symbol\": \"circle\"}, \"mode\": \"markers\", \"name\": \"Thailand\", \"orientation\": \"v\", \"showlegend\": true, \"x\": [38.3], \"xaxis\": \"x\", \"y\": [64.94285714285714], \"yaxis\": \"y\", \"type\": \"scatter\"}, {\"hovertemplate\": \"<b>%{hovertext}</b><br><br>Country_name=Argentina<br>Month=4<br>AQI=%{x}<br>AQI_20=%{y}<br>size=%{marker.size}<extra></extra>\", \"hovertext\": [\"Buenos Aires\"], \"ids\": [\"Argentina\"], \"legendgroup\": \"Argentina\", \"marker\": {\"color\": \"#FF97FF\", \"size\": [1], \"sizemode\": \"area\", \"sizeref\": 0.00033057851239669424, \"symbol\": \"circle\"}, \"mode\": \"markers\", \"name\": \"Argentina\", \"orientation\": \"v\", \"showlegend\": true, \"x\": [28.433333333333334], \"xaxis\": \"x\", \"y\": [25.914285714285715], \"yaxis\": \"y\", \"type\": \"scatter\"}, {\"hovertemplate\": \"<b>%{hovertext}</b><br><br>Country_name=Spain<br>Month=4<br>AQI=%{x}<br>AQI_20=%{y}<br>size=%{marker.size}<extra></extra>\", \"hovertext\": [\"Barcelona\", \"Madrid\"], \"ids\": [\"Spain\", \"Spain\"], \"legendgroup\": \"Spain\", \"marker\": {\"color\": \"#FECB52\", \"size\": [1, 1], \"sizemode\": \"area\", \"sizeref\": 0.00033057851239669424, \"symbol\": \"circle\"}, \"mode\": \"markers\", \"name\": \"Spain\", \"orientation\": \"v\", \"showlegend\": true, \"x\": [56.13333333333333, 28.448275862068964], \"xaxis\": \"x\", \"y\": [30.408571428571427, 29.65714285714286], \"yaxis\": \"y\", \"type\": \"scatter\"}, {\"hovertemplate\": \"<b>%{hovertext}</b><br><br>Country_name=Switzerland<br>Month=4<br>AQI=%{x}<br>AQI_20=%{y}<br>size=%{marker.size}<extra></extra>\", \"hovertext\": [\"Z\\u00fcrich\"], \"ids\": [\"Switzerland\"], \"legendgroup\": \"Switzerland\", \"marker\": {\"color\": \"#636efa\", \"size\": [1], \"sizemode\": \"area\", \"sizeref\": 0.00033057851239669424, \"symbol\": \"circle\"}, \"mode\": \"markers\", \"name\": \"Switzerland\", \"orientation\": \"v\", \"showlegend\": true, \"x\": [24.662068965517236], \"xaxis\": \"x\", \"y\": [28.97142857142858], \"yaxis\": \"y\", \"type\": \"scatter\"}, {\"hovertemplate\": \"<b>%{hovertext}</b><br><br>Country_name=Chile<br>Month=4<br>AQI=%{x}<br>AQI_20=%{y}<br>size=%{marker.size}<extra></extra>\", \"hovertext\": [\"Los \\u00c1ngeles\"], \"ids\": [\"Chile\"], \"legendgroup\": \"Chile\", \"marker\": {\"color\": \"#EF553B\", \"size\": [1], \"sizemode\": \"area\", \"sizeref\": 0.00033057851239669424, \"symbol\": \"circle\"}, \"mode\": \"markers\", \"name\": \"Chile\", \"orientation\": \"v\", \"showlegend\": true, \"x\": [153.3793103448276], \"xaxis\": \"x\", \"y\": [59.65714285714286], \"yaxis\": \"y\", \"type\": \"scatter\"}, {\"hovertemplate\": \"<b>%{hovertext}</b><br><br>Country_name=Germany<br>Month=4<br>AQI=%{x}<br>AQI_20=%{y}<br>size=%{marker.size}<extra></extra>\", \"hovertext\": [\"Berlin\"], \"ids\": [\"Germany\"], \"legendgroup\": \"Germany\", \"marker\": {\"color\": \"#00cc96\", \"size\": [1], \"sizemode\": \"area\", \"sizeref\": 0.00033057851239669424, \"symbol\": \"circle\"}, \"mode\": \"markers\", \"name\": \"Germany\", \"orientation\": \"v\", \"showlegend\": true, \"x\": [42.206896551724135], \"xaxis\": \"x\", \"y\": [36.65714285714286], \"yaxis\": \"y\", \"type\": \"scatter\"}], \"name\": \"4\"}, {\"data\": [{\"hovertemplate\": \"<b>%{hovertext}</b><br><br>Country_name=Netherlands<br>Month=5<br>AQI=%{x}<br>AQI_20=%{y}<br>size=%{marker.size}<extra></extra>\", \"hovertext\": [\"Rotterdam\"], \"ids\": [\"Netherlands\"], \"legendgroup\": \"Netherlands\", \"marker\": {\"color\": \"#636efa\", \"size\": [1], \"sizemode\": \"area\", \"sizeref\": 0.00033057851239669424, \"symbol\": \"circle\"}, \"mode\": \"markers\", \"name\": \"Netherlands\", \"orientation\": \"v\", \"showlegend\": true, \"x\": [27.36774193548387], \"xaxis\": \"x\", \"y\": [35.096774193548384], \"yaxis\": \"y\", \"type\": \"scatter\"}, {\"hovertemplate\": \"<b>%{hovertext}</b><br><br>Country_name=United States<br>Month=5<br>AQI=%{x}<br>AQI_20=%{y}<br>size=%{marker.size}<extra></extra>\", \"hovertext\": [\"San Francisco\"], \"ids\": [\"United States\"], \"legendgroup\": \"United States\", \"marker\": {\"color\": \"#EF553B\", \"size\": [1], \"sizemode\": \"area\", \"sizeref\": 0.00033057851239669424, \"symbol\": \"circle\"}, \"mode\": \"markers\", \"name\": \"United States\", \"orientation\": \"v\", \"showlegend\": true, \"x\": [37.87096774193548], \"xaxis\": \"x\", \"y\": [27.548387096774192], \"yaxis\": \"y\", \"type\": \"scatter\"}, {\"hovertemplate\": \"<b>%{hovertext}</b><br><br>Country_name=France<br>Month=5<br>AQI=%{x}<br>AQI_20=%{y}<br>size=%{marker.size}<extra></extra>\", \"hovertext\": [\"Paris\"], \"ids\": [\"France\"], \"legendgroup\": \"France\", \"marker\": {\"color\": \"#00cc96\", \"size\": [1], \"sizemode\": \"area\", \"sizeref\": 0.00033057851239669424, \"symbol\": \"circle\"}, \"mode\": \"markers\", \"name\": \"France\", \"orientation\": \"v\", \"showlegend\": true, \"x\": [37.67741935483871], \"xaxis\": \"x\", \"y\": [40.32258064516129], \"yaxis\": \"y\", \"type\": \"scatter\"}, {\"hovertemplate\": \"<b>%{hovertext}</b><br><br>Country_name=Japan<br>Month=5<br>AQI=%{x}<br>AQI_20=%{y}<br>size=%{marker.size}<extra></extra>\", \"hovertext\": [\"Tokyo\"], \"ids\": [\"Japan\"], \"legendgroup\": \"Japan\", \"marker\": {\"color\": \"#ab63fa\", \"size\": [1], \"sizemode\": \"area\", \"sizeref\": 0.00033057851239669424, \"symbol\": \"circle\"}, \"mode\": \"markers\", \"name\": \"Japan\", \"orientation\": \"v\", \"showlegend\": true, \"x\": [25.274193548387096], \"xaxis\": \"x\", \"y\": [37.83870967741935], \"yaxis\": \"y\", \"type\": \"scatter\"}, {\"hovertemplate\": \"<b>%{hovertext}</b><br><br>Country_name=Israel<br>Month=5<br>AQI=%{x}<br>AQI_20=%{y}<br>size=%{marker.size}<extra></extra>\", \"hovertext\": [\"Jerusalem\"], \"ids\": [\"Israel\"], \"legendgroup\": \"Israel\", \"marker\": {\"color\": \"#FFA15A\", \"size\": [1], \"sizemode\": \"area\", \"sizeref\": 0.00033057851239669424, \"symbol\": \"circle\"}, \"mode\": \"markers\", \"name\": \"Israel\", \"orientation\": \"v\", \"showlegend\": true, \"x\": [47.45161290322581], \"xaxis\": \"x\", \"y\": [49.03225806451613], \"yaxis\": \"y\", \"type\": \"scatter\"}, {\"hovertemplate\": \"<b>%{hovertext}</b><br><br>Country_name=India<br>Month=5<br>AQI=%{x}<br>AQI_20=%{y}<br>size=%{marker.size}<extra></extra>\", \"hovertext\": [\"Delhi\"], \"ids\": [\"India\"], \"legendgroup\": \"India\", \"marker\": {\"color\": \"#19d3f3\", \"size\": [1], \"sizemode\": \"area\", \"sizeref\": 0.00033057851239669424, \"symbol\": \"circle\"}, \"mode\": \"markers\", \"name\": \"India\", \"orientation\": \"v\", \"showlegend\": true, \"x\": [38.38709677419355], \"xaxis\": \"x\", \"y\": [122.6774193548387], \"yaxis\": \"y\", \"type\": \"scatter\"}, {\"hovertemplate\": \"<b>%{hovertext}</b><br><br>Country_name=Australia<br>Month=5<br>AQI=%{x}<br>AQI_20=%{y}<br>size=%{marker.size}<extra></extra>\", \"hovertext\": [\"Melbourne\"], \"ids\": [\"Australia\"], \"legendgroup\": \"Australia\", \"marker\": {\"color\": \"#FF6692\", \"size\": [1], \"sizemode\": \"area\", \"sizeref\": 0.00033057851239669424, \"symbol\": \"circle\"}, \"mode\": \"markers\", \"name\": \"Australia\", \"orientation\": \"v\", \"showlegend\": true, \"x\": [158.0], \"xaxis\": \"x\", \"y\": [24.258064516129032], \"yaxis\": \"y\", \"type\": \"scatter\"}, {\"hovertemplate\": \"<b>%{hovertext}</b><br><br>Country_name=Thailand<br>Month=5<br>AQI=%{x}<br>AQI_20=%{y}<br>size=%{marker.size}<extra></extra>\", \"hovertext\": [\"Bangkok\"], \"ids\": [\"Thailand\"], \"legendgroup\": \"Thailand\", \"marker\": {\"color\": \"#B6E880\", \"size\": [1], \"sizemode\": \"area\", \"sizeref\": 0.00033057851239669424, \"symbol\": \"circle\"}, \"mode\": \"markers\", \"name\": \"Thailand\", \"orientation\": \"v\", \"showlegend\": true, \"x\": [60.41935483870968], \"xaxis\": \"x\", \"y\": [55.29032258064516], \"yaxis\": \"y\", \"type\": \"scatter\"}, {\"hovertemplate\": \"<b>%{hovertext}</b><br><br>Country_name=Argentina<br>Month=5<br>AQI=%{x}<br>AQI_20=%{y}<br>size=%{marker.size}<extra></extra>\", \"hovertext\": [\"Buenos Aires\"], \"ids\": [\"Argentina\"], \"legendgroup\": \"Argentina\", \"marker\": {\"color\": \"#FF97FF\", \"size\": [1], \"sizemode\": \"area\", \"sizeref\": 0.00033057851239669424, \"symbol\": \"circle\"}, \"mode\": \"markers\", \"name\": \"Argentina\", \"orientation\": \"v\", \"showlegend\": true, \"x\": [46.225806451612904], \"xaxis\": \"x\", \"y\": [50.12], \"yaxis\": \"y\", \"type\": \"scatter\"}, {\"hovertemplate\": \"<b>%{hovertext}</b><br><br>Country_name=Spain<br>Month=5<br>AQI=%{x}<br>AQI_20=%{y}<br>size=%{marker.size}<extra></extra>\", \"hovertext\": [\"Barcelona\", \"Madrid\"], \"ids\": [\"Spain\", \"Spain\"], \"legendgroup\": \"Spain\", \"marker\": {\"color\": \"#FECB52\", \"size\": [1, 1], \"sizemode\": \"area\", \"sizeref\": 0.00033057851239669424, \"symbol\": \"circle\"}, \"mode\": \"markers\", \"name\": \"Spain\", \"orientation\": \"v\", \"showlegend\": true, \"x\": [97.29032258064517, 26.032258064516128], \"xaxis\": \"x\", \"y\": [27.274193548387096, 33.225806451612904], \"yaxis\": \"y\", \"type\": \"scatter\"}, {\"hovertemplate\": \"<b>%{hovertext}</b><br><br>Country_name=Switzerland<br>Month=5<br>AQI=%{x}<br>AQI_20=%{y}<br>size=%{marker.size}<extra></extra>\", \"hovertext\": [\"Z\\u00fcrich\"], \"ids\": [\"Switzerland\"], \"legendgroup\": \"Switzerland\", \"marker\": {\"color\": \"#636efa\", \"size\": [1], \"sizemode\": \"area\", \"sizeref\": 0.00033057851239669424, \"symbol\": \"circle\"}, \"mode\": \"markers\", \"name\": \"Switzerland\", \"orientation\": \"v\", \"showlegend\": true, \"x\": [25.46129032258065], \"xaxis\": \"x\", \"y\": [27.132258064516133], \"yaxis\": \"y\", \"type\": \"scatter\"}, {\"hovertemplate\": \"<b>%{hovertext}</b><br><br>Country_name=Chile<br>Month=5<br>AQI=%{x}<br>AQI_20=%{y}<br>size=%{marker.size}<extra></extra>\", \"hovertext\": [\"Los \\u00c1ngeles\"], \"ids\": [\"Chile\"], \"legendgroup\": \"Chile\", \"marker\": {\"color\": \"#EF553B\", \"size\": [1], \"sizemode\": \"area\", \"sizeref\": 0.00033057851239669424, \"symbol\": \"circle\"}, \"mode\": \"markers\", \"name\": \"Chile\", \"orientation\": \"v\", \"showlegend\": true, \"x\": [28.612903225806456], \"xaxis\": \"x\", \"y\": [67.70967741935483], \"yaxis\": \"y\", \"type\": \"scatter\"}, {\"hovertemplate\": \"<b>%{hovertext}</b><br><br>Country_name=Germany<br>Month=5<br>AQI=%{x}<br>AQI_20=%{y}<br>size=%{marker.size}<extra></extra>\", \"hovertext\": [\"Berlin\"], \"ids\": [\"Germany\"], \"legendgroup\": \"Germany\", \"marker\": {\"color\": \"#00cc96\", \"size\": [1], \"sizemode\": \"area\", \"sizeref\": 0.00033057851239669424, \"symbol\": \"circle\"}, \"mode\": \"markers\", \"name\": \"Germany\", \"orientation\": \"v\", \"showlegend\": true, \"x\": [69.64516129032258], \"xaxis\": \"x\", \"y\": [27.845161290322583], \"yaxis\": \"y\", \"type\": \"scatter\"}], \"name\": \"5\"}, {\"data\": [{\"hovertemplate\": \"<b>%{hovertext}</b><br><br>Country_name=Netherlands<br>Month=6<br>AQI=%{x}<br>AQI_20=%{y}<br>size=%{marker.size}<extra></extra>\", \"hovertext\": [\"Rotterdam\"], \"ids\": [\"Netherlands\"], \"legendgroup\": \"Netherlands\", \"marker\": {\"color\": \"#636efa\", \"size\": [1], \"sizemode\": \"area\", \"sizeref\": 0.00033057851239669424, \"symbol\": \"circle\"}, \"mode\": \"markers\", \"name\": \"Netherlands\", \"orientation\": \"v\", \"showlegend\": true, \"x\": [84.86666666666666], \"xaxis\": \"x\", \"y\": [30.90625], \"yaxis\": \"y\", \"type\": \"scatter\"}, {\"hovertemplate\": \"<b>%{hovertext}</b><br><br>Country_name=United States<br>Month=6<br>AQI=%{x}<br>AQI_20=%{y}<br>size=%{marker.size}<extra></extra>\", \"hovertext\": [\"San Francisco\"], \"ids\": [\"United States\"], \"legendgroup\": \"United States\", \"marker\": {\"color\": \"#EF553B\", \"size\": [1], \"sizemode\": \"area\", \"sizeref\": 0.00033057851239669424, \"symbol\": \"circle\"}, \"mode\": \"markers\", \"name\": \"United States\", \"orientation\": \"v\", \"showlegend\": true, \"x\": [139.86666666666667], \"xaxis\": \"x\", \"y\": [29.4375], \"yaxis\": \"y\", \"type\": \"scatter\"}, {\"hovertemplate\": \"<b>%{hovertext}</b><br><br>Country_name=France<br>Month=6<br>AQI=%{x}<br>AQI_20=%{y}<br>size=%{marker.size}<extra></extra>\", \"hovertext\": [\"Paris\"], \"ids\": [\"France\"], \"legendgroup\": \"France\", \"marker\": {\"color\": \"#00cc96\", \"size\": [1], \"sizemode\": \"area\", \"sizeref\": 0.00033057851239669424, \"symbol\": \"circle\"}, \"mode\": \"markers\", \"name\": \"France\", \"orientation\": \"v\", \"showlegend\": true, \"x\": [37.56666666666667], \"xaxis\": \"x\", \"y\": [37.375], \"yaxis\": \"y\", \"type\": \"scatter\"}, {\"hovertemplate\": \"<b>%{hovertext}</b><br><br>Country_name=Japan<br>Month=6<br>AQI=%{x}<br>AQI_20=%{y}<br>size=%{marker.size}<extra></extra>\", \"hovertext\": [\"Tokyo\"], \"ids\": [\"Japan\"], \"legendgroup\": \"Japan\", \"marker\": {\"color\": \"#ab63fa\", \"size\": [1], \"sizemode\": \"area\", \"sizeref\": 0.00033057851239669424, \"symbol\": \"circle\"}, \"mode\": \"markers\", \"name\": \"Japan\", \"orientation\": \"v\", \"showlegend\": true, \"x\": [40.2], \"xaxis\": \"x\", \"y\": [42.25], \"yaxis\": \"y\", \"type\": \"scatter\"}, {\"hovertemplate\": \"<b>%{hovertext}</b><br><br>Country_name=Israel<br>Month=6<br>AQI=%{x}<br>AQI_20=%{y}<br>size=%{marker.size}<extra></extra>\", \"hovertext\": [\"Jerusalem\"], \"ids\": [\"Israel\"], \"legendgroup\": \"Israel\", \"marker\": {\"color\": \"#FFA15A\", \"size\": [1], \"sizemode\": \"area\", \"sizeref\": 0.00033057851239669424, \"symbol\": \"circle\"}, \"mode\": \"markers\", \"name\": \"Israel\", \"orientation\": \"v\", \"showlegend\": true, \"x\": [43.06666666666667], \"xaxis\": \"x\", \"y\": [50.46875], \"yaxis\": \"y\", \"type\": \"scatter\"}, {\"hovertemplate\": \"<b>%{hovertext}</b><br><br>Country_name=India<br>Month=6<br>AQI=%{x}<br>AQI_20=%{y}<br>size=%{marker.size}<extra></extra>\", \"hovertext\": [\"Delhi\"], \"ids\": [\"India\"], \"legendgroup\": \"India\", \"marker\": {\"color\": \"#19d3f3\", \"size\": [1], \"sizemode\": \"area\", \"sizeref\": 0.00033057851239669424, \"symbol\": \"circle\"}, \"mode\": \"markers\", \"name\": \"India\", \"orientation\": \"v\", \"showlegend\": true, \"x\": [29.006666666666664], \"xaxis\": \"x\", \"y\": [117.40625], \"yaxis\": \"y\", \"type\": \"scatter\"}, {\"hovertemplate\": \"<b>%{hovertext}</b><br><br>Country_name=Australia<br>Month=6<br>AQI=%{x}<br>AQI_20=%{y}<br>size=%{marker.size}<extra></extra>\", \"hovertext\": [\"Melbourne\"], \"ids\": [\"Australia\"], \"legendgroup\": \"Australia\", \"marker\": {\"color\": \"#FF6692\", \"size\": [1], \"sizemode\": \"area\", \"sizeref\": 0.00033057851239669424, \"symbol\": \"circle\"}, \"mode\": \"markers\", \"name\": \"Australia\", \"orientation\": \"v\", \"showlegend\": true, \"x\": [33.63333333333333], \"xaxis\": \"x\", \"y\": [31.8125], \"yaxis\": \"y\", \"type\": \"scatter\"}, {\"hovertemplate\": \"<b>%{hovertext}</b><br><br>Country_name=Thailand<br>Month=6<br>AQI=%{x}<br>AQI_20=%{y}<br>size=%{marker.size}<extra></extra>\", \"hovertext\": [\"Bangkok\"], \"ids\": [\"Thailand\"], \"legendgroup\": \"Thailand\", \"marker\": {\"color\": \"#B6E880\", \"size\": [1], \"sizemode\": \"area\", \"sizeref\": 0.00033057851239669424, \"symbol\": \"circle\"}, \"mode\": \"markers\", \"name\": \"Thailand\", \"orientation\": \"v\", \"showlegend\": true, \"x\": [42.86666666666667], \"xaxis\": \"x\", \"y\": [44.9375], \"yaxis\": \"y\", \"type\": \"scatter\"}, {\"hovertemplate\": \"<b>%{hovertext}</b><br><br>Country_name=Argentina<br>Month=6<br>AQI=%{x}<br>AQI_20=%{y}<br>size=%{marker.size}<extra></extra>\", \"hovertext\": [\"Buenos Aires\"], \"ids\": [\"Argentina\"], \"legendgroup\": \"Argentina\", \"marker\": {\"color\": \"#FF97FF\", \"size\": [1], \"sizemode\": \"area\", \"sizeref\": 0.00033057851239669424, \"symbol\": \"circle\"}, \"mode\": \"markers\", \"name\": \"Argentina\", \"orientation\": \"v\", \"showlegend\": true, \"x\": [28.166666666666668], \"xaxis\": \"x\", \"y\": [35.1875], \"yaxis\": \"y\", \"type\": \"scatter\"}, {\"hovertemplate\": \"<b>%{hovertext}</b><br><br>Country_name=Spain<br>Month=6<br>AQI=%{x}<br>AQI_20=%{y}<br>size=%{marker.size}<extra></extra>\", \"hovertext\": [\"Barcelona\", \"Madrid\"], \"ids\": [\"Spain\", \"Spain\"], \"legendgroup\": \"Spain\", \"marker\": {\"color\": \"#FECB52\", \"size\": [1, 1], \"sizemode\": \"area\", \"sizeref\": 0.00033057851239669424, \"symbol\": \"circle\"}, \"mode\": \"markers\", \"name\": \"Spain\", \"orientation\": \"v\", \"showlegend\": true, \"x\": [38.1, 64.9], \"xaxis\": \"x\", \"y\": [24.228125000000006, 36.9375], \"yaxis\": \"y\", \"type\": \"scatter\"}, {\"hovertemplate\": \"<b>%{hovertext}</b><br><br>Country_name=Switzerland<br>Month=6<br>AQI=%{x}<br>AQI_20=%{y}<br>size=%{marker.size}<extra></extra>\", \"hovertext\": [\"Z\\u00fcrich\"], \"ids\": [\"Switzerland\"], \"legendgroup\": \"Switzerland\", \"marker\": {\"color\": \"#636efa\", \"size\": [1], \"sizemode\": \"area\", \"sizeref\": 0.00033057851239669424, \"symbol\": \"circle\"}, \"mode\": \"markers\", \"name\": \"Switzerland\", \"orientation\": \"v\", \"showlegend\": true, \"x\": [51.06666666666667], \"xaxis\": \"x\", \"y\": [25.4], \"yaxis\": \"y\", \"type\": \"scatter\"}, {\"hovertemplate\": \"<b>%{hovertext}</b><br><br>Country_name=Chile<br>Month=6<br>AQI=%{x}<br>AQI_20=%{y}<br>size=%{marker.size}<extra></extra>\", \"hovertext\": [\"Los \\u00c1ngeles\"], \"ids\": [\"Chile\"], \"legendgroup\": \"Chile\", \"marker\": {\"color\": \"#EF553B\", \"size\": [1], \"sizemode\": \"area\", \"sizeref\": 0.00033057851239669424, \"symbol\": \"circle\"}, \"mode\": \"markers\", \"name\": \"Chile\", \"orientation\": \"v\", \"showlegend\": true, \"x\": [29.586666666666666], \"xaxis\": \"x\", \"y\": [44.28125], \"yaxis\": \"y\", \"type\": \"scatter\"}, {\"hovertemplate\": \"<b>%{hovertext}</b><br><br>Country_name=Germany<br>Month=6<br>AQI=%{x}<br>AQI_20=%{y}<br>size=%{marker.size}<extra></extra>\", \"hovertext\": [\"Berlin\"], \"ids\": [\"Germany\"], \"legendgroup\": \"Germany\", \"marker\": {\"color\": \"#00cc96\", \"size\": [1], \"sizemode\": \"area\", \"sizeref\": 0.00033057851239669424, \"symbol\": \"circle\"}, \"mode\": \"markers\", \"name\": \"Germany\", \"orientation\": \"v\", \"showlegend\": true, \"x\": [37.96666666666667], \"xaxis\": \"x\", \"y\": [30.5625], \"yaxis\": \"y\", \"type\": \"scatter\"}], \"name\": \"6\"}, {\"data\": [{\"hovertemplate\": \"<b>%{hovertext}</b><br><br>Country_name=Netherlands<br>Month=7<br>AQI=%{x}<br>AQI_20=%{y}<br>size=%{marker.size}<extra></extra>\", \"hovertext\": [\"Rotterdam\"], \"ids\": [\"Netherlands\"], \"legendgroup\": \"Netherlands\", \"marker\": {\"color\": \"#636efa\", \"size\": [1], \"sizemode\": \"area\", \"sizeref\": 0.00033057851239669424, \"symbol\": \"circle\"}, \"mode\": \"markers\", \"name\": \"Netherlands\", \"orientation\": \"v\", \"showlegend\": true, \"x\": [46.67741935483871], \"xaxis\": \"x\", \"y\": [21.944444444444443], \"yaxis\": \"y\", \"type\": \"scatter\"}, {\"hovertemplate\": \"<b>%{hovertext}</b><br><br>Country_name=United States<br>Month=7<br>AQI=%{x}<br>AQI_20=%{y}<br>size=%{marker.size}<extra></extra>\", \"hovertext\": [\"San Francisco\"], \"ids\": [\"United States\"], \"legendgroup\": \"United States\", \"marker\": {\"color\": \"#EF553B\", \"size\": [1], \"sizemode\": \"area\", \"sizeref\": 0.00033057851239669424, \"symbol\": \"circle\"}, \"mode\": \"markers\", \"name\": \"United States\", \"orientation\": \"v\", \"showlegend\": true, \"x\": [32.74193548387097], \"xaxis\": \"x\", \"y\": [30.86111111111111], \"yaxis\": \"y\", \"type\": \"scatter\"}, {\"hovertemplate\": \"<b>%{hovertext}</b><br><br>Country_name=France<br>Month=7<br>AQI=%{x}<br>AQI_20=%{y}<br>size=%{marker.size}<extra></extra>\", \"hovertext\": [\"Paris\"], \"ids\": [\"France\"], \"legendgroup\": \"France\", \"marker\": {\"color\": \"#00cc96\", \"size\": [1], \"sizemode\": \"area\", \"sizeref\": 0.00033057851239669424, \"symbol\": \"circle\"}, \"mode\": \"markers\", \"name\": \"France\", \"orientation\": \"v\", \"showlegend\": true, \"x\": [54.0], \"xaxis\": \"x\", \"y\": [35.361111111111114], \"yaxis\": \"y\", \"type\": \"scatter\"}, {\"hovertemplate\": \"<b>%{hovertext}</b><br><br>Country_name=Japan<br>Month=7<br>AQI=%{x}<br>AQI_20=%{y}<br>size=%{marker.size}<extra></extra>\", \"hovertext\": [\"Tokyo\"], \"ids\": [\"Japan\"], \"legendgroup\": \"Japan\", \"marker\": {\"color\": \"#ab63fa\", \"size\": [1], \"sizemode\": \"area\", \"sizeref\": 0.00033057851239669424, \"symbol\": \"circle\"}, \"mode\": \"markers\", \"name\": \"Japan\", \"orientation\": \"v\", \"showlegend\": true, \"x\": [34.83870967741935], \"xaxis\": \"x\", \"y\": [30.61111111111111], \"yaxis\": \"y\", \"type\": \"scatter\"}, {\"hovertemplate\": \"<b>%{hovertext}</b><br><br>Country_name=Israel<br>Month=7<br>AQI=%{x}<br>AQI_20=%{y}<br>size=%{marker.size}<extra></extra>\", \"hovertext\": [\"Jerusalem\"], \"ids\": [\"Israel\"], \"legendgroup\": \"Israel\", \"marker\": {\"color\": \"#FFA15A\", \"size\": [1], \"sizemode\": \"area\", \"sizeref\": 0.00033057851239669424, \"symbol\": \"circle\"}, \"mode\": \"markers\", \"name\": \"Israel\", \"orientation\": \"v\", \"showlegend\": true, \"x\": [30.961290322580652], \"xaxis\": \"x\", \"y\": [55.97222222222222], \"yaxis\": \"y\", \"type\": \"scatter\"}, {\"hovertemplate\": \"<b>%{hovertext}</b><br><br>Country_name=India<br>Month=7<br>AQI=%{x}<br>AQI_20=%{y}<br>size=%{marker.size}<extra></extra>\", \"hovertext\": [\"Delhi\"], \"ids\": [\"India\"], \"legendgroup\": \"India\", \"marker\": {\"color\": \"#19d3f3\", \"size\": [1], \"sizemode\": \"area\", \"sizeref\": 0.00033057851239669424, \"symbol\": \"circle\"}, \"mode\": \"markers\", \"name\": \"India\", \"orientation\": \"v\", \"showlegend\": true, \"x\": [31.29032258064516], \"xaxis\": \"x\", \"y\": [96.80555555555556], \"yaxis\": \"y\", \"type\": \"scatter\"}, {\"hovertemplate\": \"<b>%{hovertext}</b><br><br>Country_name=Australia<br>Month=7<br>AQI=%{x}<br>AQI_20=%{y}<br>size=%{marker.size}<extra></extra>\", \"hovertext\": [\"Melbourne\"], \"ids\": [\"Australia\"], \"legendgroup\": \"Australia\", \"marker\": {\"color\": \"#FF6692\", \"size\": [1], \"sizemode\": \"area\", \"sizeref\": 0.00033057851239669424, \"symbol\": \"circle\"}, \"mode\": \"markers\", \"name\": \"Australia\", \"orientation\": \"v\", \"showlegend\": true, \"x\": [43.03225806451613], \"xaxis\": \"x\", \"y\": [30.27777777777778], \"yaxis\": \"y\", \"type\": \"scatter\"}, {\"hovertemplate\": \"<b>%{hovertext}</b><br><br>Country_name=Thailand<br>Month=7<br>AQI=%{x}<br>AQI_20=%{y}<br>size=%{marker.size}<extra></extra>\", \"hovertext\": [\"Bangkok\"], \"ids\": [\"Thailand\"], \"legendgroup\": \"Thailand\", \"marker\": {\"color\": \"#B6E880\", \"size\": [1], \"sizemode\": \"area\", \"sizeref\": 0.00033057851239669424, \"symbol\": \"circle\"}, \"mode\": \"markers\", \"name\": \"Thailand\", \"orientation\": \"v\", \"showlegend\": true, \"x\": [40.67741935483871], \"xaxis\": \"x\", \"y\": [48.111111111111114], \"yaxis\": \"y\", \"type\": \"scatter\"}, {\"hovertemplate\": \"<b>%{hovertext}</b><br><br>Country_name=Argentina<br>Month=7<br>AQI=%{x}<br>AQI_20=%{y}<br>size=%{marker.size}<extra></extra>\", \"hovertext\": [\"Buenos Aires\"], \"ids\": [\"Argentina\"], \"legendgroup\": \"Argentina\", \"marker\": {\"color\": \"#FF97FF\", \"size\": [1], \"sizemode\": \"area\", \"sizeref\": 0.00033057851239669424, \"symbol\": \"circle\"}, \"mode\": \"markers\", \"name\": \"Argentina\", \"orientation\": \"v\", \"showlegend\": true, \"x\": [58.54838709677419], \"xaxis\": \"x\", \"y\": [35.25], \"yaxis\": \"y\", \"type\": \"scatter\"}, {\"hovertemplate\": \"<b>%{hovertext}</b><br><br>Country_name=Spain<br>Month=7<br>AQI=%{x}<br>AQI_20=%{y}<br>size=%{marker.size}<extra></extra>\", \"hovertext\": [\"Madrid\", \"Barcelona\"], \"ids\": [\"Spain\", \"Spain\"], \"legendgroup\": \"Spain\", \"marker\": {\"color\": \"#FECB52\", \"size\": [1, 1], \"sizemode\": \"area\", \"sizeref\": 0.00033057851239669424, \"symbol\": \"circle\"}, \"mode\": \"markers\", \"name\": \"Spain\", \"orientation\": \"v\", \"showlegend\": true, \"x\": [115.64516129032258, 26.367741935483867], \"xaxis\": \"x\", \"y\": [43.583333333333336, 25.53055555555555], \"yaxis\": \"y\", \"type\": \"scatter\"}, {\"hovertemplate\": \"<b>%{hovertext}</b><br><br>Country_name=Switzerland<br>Month=7<br>AQI=%{x}<br>AQI_20=%{y}<br>size=%{marker.size}<extra></extra>\", \"hovertext\": [\"Z\\u00fcrich\"], \"ids\": [\"Switzerland\"], \"legendgroup\": \"Switzerland\", \"marker\": {\"color\": \"#636efa\", \"size\": [1], \"sizemode\": \"area\", \"sizeref\": 0.00033057851239669424, \"symbol\": \"circle\"}, \"mode\": \"markers\", \"name\": \"Switzerland\", \"orientation\": \"v\", \"showlegend\": true, \"x\": [47.45161290322581], \"xaxis\": \"x\", \"y\": [25.09722222222222], \"yaxis\": \"y\", \"type\": \"scatter\"}, {\"hovertemplate\": \"<b>%{hovertext}</b><br><br>Country_name=Chile<br>Month=7<br>AQI=%{x}<br>AQI_20=%{y}<br>size=%{marker.size}<extra></extra>\", \"hovertext\": [\"Los \\u00c1ngeles\"], \"ids\": [\"Chile\"], \"legendgroup\": \"Chile\", \"marker\": {\"color\": \"#EF553B\", \"size\": [1], \"sizemode\": \"area\", \"sizeref\": 0.00033057851239669424, \"symbol\": \"circle\"}, \"mode\": \"markers\", \"name\": \"Chile\", \"orientation\": \"v\", \"showlegend\": true, \"x\": [26.35483870967742], \"xaxis\": \"x\", \"y\": [48.52777777777778], \"yaxis\": \"y\", \"type\": \"scatter\"}, {\"hovertemplate\": \"<b>%{hovertext}</b><br><br>Country_name=Germany<br>Month=7<br>AQI=%{x}<br>AQI_20=%{y}<br>size=%{marker.size}<extra></extra>\", \"hovertext\": [\"Berlin\"], \"ids\": [\"Germany\"], \"legendgroup\": \"Germany\", \"marker\": {\"color\": \"#00cc96\", \"size\": [1], \"sizemode\": \"area\", \"sizeref\": 0.00033057851239669424, \"symbol\": \"circle\"}, \"mode\": \"markers\", \"name\": \"Germany\", \"orientation\": \"v\", \"showlegend\": true, \"x\": [73.90322580645162], \"xaxis\": \"x\", \"y\": [23.494444444444444], \"yaxis\": \"y\", \"type\": \"scatter\"}], \"name\": \"7\"}, {\"data\": [{\"hovertemplate\": \"<b>%{hovertext}</b><br><br>Country_name=Netherlands<br>Month=8<br>AQI=%{x}<br>AQI_20=%{y}<br>size=%{marker.size}<extra></extra>\", \"hovertext\": [\"Rotterdam\"], \"ids\": [\"Netherlands\"], \"legendgroup\": \"Netherlands\", \"marker\": {\"color\": \"#636efa\", \"size\": [1], \"sizemode\": \"area\", \"sizeref\": 0.00033057851239669424, \"symbol\": \"circle\"}, \"mode\": \"markers\", \"name\": \"Netherlands\", \"orientation\": \"v\", \"showlegend\": true, \"x\": [47.225806451612904], \"xaxis\": \"x\", \"y\": [36.87096774193548], \"yaxis\": \"y\", \"type\": \"scatter\"}, {\"hovertemplate\": \"<b>%{hovertext}</b><br><br>Country_name=United States<br>Month=8<br>AQI=%{x}<br>AQI_20=%{y}<br>size=%{marker.size}<extra></extra>\", \"hovertext\": [\"San Francisco\"], \"ids\": [\"United States\"], \"legendgroup\": \"United States\", \"marker\": {\"color\": \"#EF553B\", \"size\": [1], \"sizemode\": \"area\", \"sizeref\": 0.00033057851239669424, \"symbol\": \"circle\"}, \"mode\": \"markers\", \"name\": \"United States\", \"orientation\": \"v\", \"showlegend\": true, \"x\": [47.16129032258065], \"xaxis\": \"x\", \"y\": [40.935483870967744], \"yaxis\": \"y\", \"type\": \"scatter\"}, {\"hovertemplate\": \"<b>%{hovertext}</b><br><br>Country_name=France<br>Month=8<br>AQI=%{x}<br>AQI_20=%{y}<br>size=%{marker.size}<extra></extra>\", \"hovertext\": [\"Paris\"], \"ids\": [\"France\"], \"legendgroup\": \"France\", \"marker\": {\"color\": \"#00cc96\", \"size\": [1], \"sizemode\": \"area\", \"sizeref\": 0.00033057851239669424, \"symbol\": \"circle\"}, \"mode\": \"markers\", \"name\": \"France\", \"orientation\": \"v\", \"showlegend\": true, \"x\": [37.61290322580645], \"xaxis\": \"x\", \"y\": [36.67741935483871], \"yaxis\": \"y\", \"type\": \"scatter\"}, {\"hovertemplate\": \"<b>%{hovertext}</b><br><br>Country_name=Japan<br>Month=8<br>AQI=%{x}<br>AQI_20=%{y}<br>size=%{marker.size}<extra></extra>\", \"hovertext\": [\"Tokyo\"], \"ids\": [\"Japan\"], \"legendgroup\": \"Japan\", \"marker\": {\"color\": \"#ab63fa\", \"size\": [1], \"sizemode\": \"area\", \"sizeref\": 0.00033057851239669424, \"symbol\": \"circle\"}, \"mode\": \"markers\", \"name\": \"Japan\", \"orientation\": \"v\", \"showlegend\": true, \"x\": [61.774193548387096], \"xaxis\": \"x\", \"y\": [45.25806451612903], \"yaxis\": \"y\", \"type\": \"scatter\"}, {\"hovertemplate\": \"<b>%{hovertext}</b><br><br>Country_name=Israel<br>Month=8<br>AQI=%{x}<br>AQI_20=%{y}<br>size=%{marker.size}<extra></extra>\", \"hovertext\": [\"Jerusalem\"], \"ids\": [\"Israel\"], \"legendgroup\": \"Israel\", \"marker\": {\"color\": \"#FFA15A\", \"size\": [1], \"sizemode\": \"area\", \"sizeref\": 0.00033057851239669424, \"symbol\": \"circle\"}, \"mode\": \"markers\", \"name\": \"Israel\", \"orientation\": \"v\", \"showlegend\": true, \"x\": [86.45161290322581], \"xaxis\": \"x\", \"y\": [56.67741935483871], \"yaxis\": \"y\", \"type\": \"scatter\"}, {\"hovertemplate\": \"<b>%{hovertext}</b><br><br>Country_name=India<br>Month=8<br>AQI=%{x}<br>AQI_20=%{y}<br>size=%{marker.size}<extra></extra>\", \"hovertext\": [\"Delhi\"], \"ids\": [\"India\"], \"legendgroup\": \"India\", \"marker\": {\"color\": \"#19d3f3\", \"size\": [1], \"sizemode\": \"area\", \"sizeref\": 0.00033057851239669424, \"symbol\": \"circle\"}, \"mode\": \"markers\", \"name\": \"India\", \"orientation\": \"v\", \"showlegend\": true, \"x\": [22.741935483870968], \"xaxis\": \"x\", \"y\": [73.25806451612904], \"yaxis\": \"y\", \"type\": \"scatter\"}, {\"hovertemplate\": \"<b>%{hovertext}</b><br><br>Country_name=Australia<br>Month=8<br>AQI=%{x}<br>AQI_20=%{y}<br>size=%{marker.size}<extra></extra>\", \"hovertext\": [\"Melbourne\"], \"ids\": [\"Australia\"], \"legendgroup\": \"Australia\", \"marker\": {\"color\": \"#FF6692\", \"size\": [1], \"sizemode\": \"area\", \"sizeref\": 0.00033057851239669424, \"symbol\": \"circle\"}, \"mode\": \"markers\", \"name\": \"Australia\", \"orientation\": \"v\", \"showlegend\": true, \"x\": [38.645161290322584], \"xaxis\": \"x\", \"y\": [21.677419354838708], \"yaxis\": \"y\", \"type\": \"scatter\"}, {\"hovertemplate\": \"<b>%{hovertext}</b><br><br>Country_name=Thailand<br>Month=8<br>AQI=%{x}<br>AQI_20=%{y}<br>size=%{marker.size}<extra></extra>\", \"hovertext\": [\"Bangkok\"], \"ids\": [\"Thailand\"], \"legendgroup\": \"Thailand\", \"marker\": {\"color\": \"#B6E880\", \"size\": [1], \"sizemode\": \"area\", \"sizeref\": 0.00033057851239669424, \"symbol\": \"circle\"}, \"mode\": \"markers\", \"name\": \"Thailand\", \"orientation\": \"v\", \"showlegend\": true, \"x\": [52.96774193548387], \"xaxis\": \"x\", \"y\": [50.225806451612904], \"yaxis\": \"y\", \"type\": \"scatter\"}, {\"hovertemplate\": \"<b>%{hovertext}</b><br><br>Country_name=Argentina<br>Month=8<br>AQI=%{x}<br>AQI_20=%{y}<br>size=%{marker.size}<extra></extra>\", \"hovertext\": [\"Buenos Aires\"], \"ids\": [\"Argentina\"], \"legendgroup\": \"Argentina\", \"marker\": {\"color\": \"#FF97FF\", \"size\": [1], \"sizemode\": \"area\", \"sizeref\": 0.00033057851239669424, \"symbol\": \"circle\"}, \"mode\": \"markers\", \"name\": \"Argentina\", \"orientation\": \"v\", \"showlegend\": true, \"x\": [40.0], \"xaxis\": \"x\", \"y\": [50.58064516129032], \"yaxis\": \"y\", \"type\": \"scatter\"}, {\"hovertemplate\": \"<b>%{hovertext}</b><br><br>Country_name=Spain<br>Month=8<br>AQI=%{x}<br>AQI_20=%{y}<br>size=%{marker.size}<extra></extra>\", \"hovertext\": [\"Madrid\", \"Barcelona\"], \"ids\": [\"Spain\", \"Spain\"], \"legendgroup\": \"Spain\", \"marker\": {\"color\": \"#FECB52\", \"size\": [1, 1], \"sizemode\": \"area\", \"sizeref\": 0.00033057851239669424, \"symbol\": \"circle\"}, \"mode\": \"markers\", \"name\": \"Spain\", \"orientation\": \"v\", \"showlegend\": true, \"x\": [90.45161290322581, 28.64516129032258], \"xaxis\": \"x\", \"y\": [37.61290322580645, 24.667741935483868], \"yaxis\": \"y\", \"type\": \"scatter\"}, {\"hovertemplate\": \"<b>%{hovertext}</b><br><br>Country_name=Switzerland<br>Month=8<br>AQI=%{x}<br>AQI_20=%{y}<br>size=%{marker.size}<extra></extra>\", \"hovertext\": [\"Z\\u00fcrich\"], \"ids\": [\"Switzerland\"], \"legendgroup\": \"Switzerland\", \"marker\": {\"color\": \"#636efa\", \"size\": [1], \"sizemode\": \"area\", \"sizeref\": 0.00033057851239669424, \"symbol\": \"circle\"}, \"mode\": \"markers\", \"name\": \"Switzerland\", \"orientation\": \"v\", \"showlegend\": true, \"x\": [37.935483870967744], \"xaxis\": \"x\", \"y\": [24.548387096774192], \"yaxis\": \"y\", \"type\": \"scatter\"}, {\"hovertemplate\": \"<b>%{hovertext}</b><br><br>Country_name=Chile<br>Month=8<br>AQI=%{x}<br>AQI_20=%{y}<br>size=%{marker.size}<extra></extra>\", \"hovertext\": [\"Los \\u00c1ngeles\"], \"ids\": [\"Chile\"], \"legendgroup\": \"Chile\", \"marker\": {\"color\": \"#EF553B\", \"size\": [1], \"sizemode\": \"area\", \"sizeref\": 0.00033057851239669424, \"symbol\": \"circle\"}, \"mode\": \"markers\", \"name\": \"Chile\", \"orientation\": \"v\", \"showlegend\": true, \"x\": [21.254838709677415], \"xaxis\": \"x\", \"y\": [42.516129032258064], \"yaxis\": \"y\", \"type\": \"scatter\"}, {\"hovertemplate\": \"<b>%{hovertext}</b><br><br>Country_name=Germany<br>Month=8<br>AQI=%{x}<br>AQI_20=%{y}<br>size=%{marker.size}<extra></extra>\", \"hovertext\": [\"Berlin\"], \"ids\": [\"Germany\"], \"legendgroup\": \"Germany\", \"marker\": {\"color\": \"#00cc96\", \"size\": [1], \"sizemode\": \"area\", \"sizeref\": 0.00033057851239669424, \"symbol\": \"circle\"}, \"mode\": \"markers\", \"name\": \"Germany\", \"orientation\": \"v\", \"showlegend\": true, \"x\": [27.064516129032253], \"xaxis\": \"x\", \"y\": [33.806451612903224], \"yaxis\": \"y\", \"type\": \"scatter\"}], \"name\": \"8\"}, {\"data\": [{\"hovertemplate\": \"<b>%{hovertext}</b><br><br>Country_name=Netherlands<br>Month=9<br>AQI=%{x}<br>AQI_20=%{y}<br>size=%{marker.size}<extra></extra>\", \"hovertext\": [\"Rotterdam\"], \"ids\": [\"Netherlands\"], \"legendgroup\": \"Netherlands\", \"marker\": {\"color\": \"#636efa\", \"size\": [1], \"sizemode\": \"area\", \"sizeref\": 0.00033057851239669424, \"symbol\": \"circle\"}, \"mode\": \"markers\", \"name\": \"Netherlands\", \"orientation\": \"v\", \"showlegend\": true, \"x\": [39.29032258064516], \"xaxis\": \"x\", \"y\": [36.78787878787879], \"yaxis\": \"y\", \"type\": \"scatter\"}, {\"hovertemplate\": \"<b>%{hovertext}</b><br><br>Country_name=United States<br>Month=9<br>AQI=%{x}<br>AQI_20=%{y}<br>size=%{marker.size}<extra></extra>\", \"hovertext\": [\"San Francisco\"], \"ids\": [\"United States\"], \"legendgroup\": \"United States\", \"marker\": {\"color\": \"#EF553B\", \"size\": [1], \"sizemode\": \"area\", \"sizeref\": 0.00033057851239669424, \"symbol\": \"circle\"}, \"mode\": \"markers\", \"name\": \"United States\", \"orientation\": \"v\", \"showlegend\": true, \"x\": [60.03225806451613], \"xaxis\": \"x\", \"y\": [65.0], \"yaxis\": \"y\", \"type\": \"scatter\"}, {\"hovertemplate\": \"<b>%{hovertext}</b><br><br>Country_name=France<br>Month=9<br>AQI=%{x}<br>AQI_20=%{y}<br>size=%{marker.size}<extra></extra>\", \"hovertext\": [\"Paris\"], \"ids\": [\"France\"], \"legendgroup\": \"France\", \"marker\": {\"color\": \"#00cc96\", \"size\": [1], \"sizemode\": \"area\", \"sizeref\": 0.00033057851239669424, \"symbol\": \"circle\"}, \"mode\": \"markers\", \"name\": \"France\", \"orientation\": \"v\", \"showlegend\": true, \"x\": [43.903225806451616], \"xaxis\": \"x\", \"y\": [43.06060606060606], \"yaxis\": \"y\", \"type\": \"scatter\"}, {\"hovertemplate\": \"<b>%{hovertext}</b><br><br>Country_name=Japan<br>Month=9<br>AQI=%{x}<br>AQI_20=%{y}<br>size=%{marker.size}<extra></extra>\", \"hovertext\": [\"Tokyo\"], \"ids\": [\"Japan\"], \"legendgroup\": \"Japan\", \"marker\": {\"color\": \"#ab63fa\", \"size\": [1], \"sizemode\": \"area\", \"sizeref\": 0.00033057851239669424, \"symbol\": \"circle\"}, \"mode\": \"markers\", \"name\": \"Japan\", \"orientation\": \"v\", \"showlegend\": true, \"x\": [71.93548387096774], \"xaxis\": \"x\", \"y\": [25.814814814814813], \"yaxis\": \"y\", \"type\": \"scatter\"}, {\"hovertemplate\": \"<b>%{hovertext}</b><br><br>Country_name=Israel<br>Month=9<br>AQI=%{x}<br>AQI_20=%{y}<br>size=%{marker.size}<extra></extra>\", \"hovertext\": [\"Jerusalem\"], \"ids\": [\"Israel\"], \"legendgroup\": \"Israel\", \"marker\": {\"color\": \"#FFA15A\", \"size\": [1], \"sizemode\": \"area\", \"sizeref\": 0.00033057851239669424, \"symbol\": \"circle\"}, \"mode\": \"markers\", \"name\": \"Israel\", \"orientation\": \"v\", \"showlegend\": true, \"x\": [23.06129032258065], \"xaxis\": \"x\", \"y\": [66.21212121212122], \"yaxis\": \"y\", \"type\": \"scatter\"}, {\"hovertemplate\": \"<b>%{hovertext}</b><br><br>Country_name=India<br>Month=9<br>AQI=%{x}<br>AQI_20=%{y}<br>size=%{marker.size}<extra></extra>\", \"hovertext\": [\"Delhi\"], \"ids\": [\"India\"], \"legendgroup\": \"India\", \"marker\": {\"color\": \"#19d3f3\", \"size\": [1], \"sizemode\": \"area\", \"sizeref\": 0.00033057851239669424, \"symbol\": \"circle\"}, \"mode\": \"markers\", \"name\": \"India\", \"orientation\": \"v\", \"showlegend\": true, \"x\": [37.67741935483871], \"xaxis\": \"x\", \"y\": [126.84848484848484], \"yaxis\": \"y\", \"type\": \"scatter\"}, {\"hovertemplate\": \"<b>%{hovertext}</b><br><br>Country_name=Australia<br>Month=9<br>AQI=%{x}<br>AQI_20=%{y}<br>size=%{marker.size}<extra></extra>\", \"hovertext\": [\"Melbourne\"], \"ids\": [\"Australia\"], \"legendgroup\": \"Australia\", \"marker\": {\"color\": \"#FF6692\", \"size\": [1], \"sizemode\": \"area\", \"sizeref\": 0.00033057851239669424, \"symbol\": \"circle\"}, \"mode\": \"markers\", \"name\": \"Australia\", \"orientation\": \"v\", \"showlegend\": true, \"x\": [32.87096774193548], \"xaxis\": \"x\", \"y\": [22.939393939393938], \"yaxis\": \"y\", \"type\": \"scatter\"}, {\"hovertemplate\": \"<b>%{hovertext}</b><br><br>Country_name=Thailand<br>Month=9<br>AQI=%{x}<br>AQI_20=%{y}<br>size=%{marker.size}<extra></extra>\", \"hovertext\": [\"Bangkok\"], \"ids\": [\"Thailand\"], \"legendgroup\": \"Thailand\", \"marker\": {\"color\": \"#B6E880\", \"size\": [1], \"sizemode\": \"area\", \"sizeref\": 0.00033057851239669424, \"symbol\": \"circle\"}, \"mode\": \"markers\", \"name\": \"Thailand\", \"orientation\": \"v\", \"showlegend\": true, \"x\": [50.16129032258065], \"xaxis\": \"x\", \"y\": [48.36363636363637], \"yaxis\": \"y\", \"type\": \"scatter\"}, {\"hovertemplate\": \"<b>%{hovertext}</b><br><br>Country_name=Argentina<br>Month=9<br>AQI=%{x}<br>AQI_20=%{y}<br>size=%{marker.size}<extra></extra>\", \"hovertext\": [\"Buenos Aires\"], \"ids\": [\"Argentina\"], \"legendgroup\": \"Argentina\", \"marker\": {\"color\": \"#FF97FF\", \"size\": [1], \"sizemode\": \"area\", \"sizeref\": 0.00033057851239669424, \"symbol\": \"circle\"}, \"mode\": \"markers\", \"name\": \"Argentina\", \"orientation\": \"v\", \"showlegend\": true, \"x\": [99.93548387096774], \"xaxis\": \"x\", \"y\": [35.827586206896555], \"yaxis\": \"y\", \"type\": \"scatter\"}, {\"hovertemplate\": \"<b>%{hovertext}</b><br><br>Country_name=Spain<br>Month=9<br>AQI=%{x}<br>AQI_20=%{y}<br>size=%{marker.size}<extra></extra>\", \"hovertext\": [\"Barcelona\", \"Madrid\"], \"ids\": [\"Spain\", \"Spain\"], \"legendgroup\": \"Spain\", \"marker\": {\"color\": \"#FECB52\", \"size\": [1, 1], \"sizemode\": \"area\", \"sizeref\": 0.00033057851239669424, \"symbol\": \"circle\"}, \"mode\": \"markers\", \"name\": \"Spain\", \"orientation\": \"v\", \"showlegend\": true, \"x\": [28.580645161290324, 23.419354838709676], \"xaxis\": \"x\", \"y\": [22.57575757575757, 35.90909090909091], \"yaxis\": \"y\", \"type\": \"scatter\"}, {\"hovertemplate\": \"<b>%{hovertext}</b><br><br>Country_name=Switzerland<br>Month=9<br>AQI=%{x}<br>AQI_20=%{y}<br>size=%{marker.size}<extra></extra>\", \"hovertext\": [\"Z\\u00fcrich\"], \"ids\": [\"Switzerland\"], \"legendgroup\": \"Switzerland\", \"marker\": {\"color\": \"#636efa\", \"size\": [1], \"sizemode\": \"area\", \"sizeref\": 0.00033057851239669424, \"symbol\": \"circle\"}, \"mode\": \"markers\", \"name\": \"Switzerland\", \"orientation\": \"v\", \"showlegend\": true, \"x\": [24.612903225806452], \"xaxis\": \"x\", \"y\": [18.130303030303033], \"yaxis\": \"y\", \"type\": \"scatter\"}, {\"hovertemplate\": \"<b>%{hovertext}</b><br><br>Country_name=Chile<br>Month=9<br>AQI=%{x}<br>AQI_20=%{y}<br>size=%{marker.size}<extra></extra>\", \"hovertext\": [\"Los \\u00c1ngeles\"], \"ids\": [\"Chile\"], \"legendgroup\": \"Chile\", \"marker\": {\"color\": \"#EF553B\", \"size\": [1], \"sizemode\": \"area\", \"sizeref\": 0.00033057851239669424, \"symbol\": \"circle\"}, \"mode\": \"markers\", \"name\": \"Chile\", \"orientation\": \"v\", \"showlegend\": true, \"x\": [33.193548387096776], \"xaxis\": \"x\", \"y\": [57.06060606060606], \"yaxis\": \"y\", \"type\": \"scatter\"}, {\"hovertemplate\": \"<b>%{hovertext}</b><br><br>Country_name=Germany<br>Month=9<br>AQI=%{x}<br>AQI_20=%{y}<br>size=%{marker.size}<extra></extra>\", \"hovertext\": [\"Berlin\"], \"ids\": [\"Germany\"], \"legendgroup\": \"Germany\", \"marker\": {\"color\": \"#00cc96\", \"size\": [1], \"sizemode\": \"area\", \"sizeref\": 0.00033057851239669424, \"symbol\": \"circle\"}, \"mode\": \"markers\", \"name\": \"Germany\", \"orientation\": \"v\", \"showlegend\": true, \"x\": [16.806451612903224], \"xaxis\": \"x\", \"y\": [33.84848484848485], \"yaxis\": \"y\", \"type\": \"scatter\"}], \"name\": \"9\"}, {\"data\": [{\"hovertemplate\": \"<b>%{hovertext}</b><br><br>Country_name=Netherlands<br>Month=10<br>AQI=%{x}<br>AQI_20=%{y}<br>size=%{marker.size}<extra></extra>\", \"hovertext\": [\"Rotterdam\"], \"ids\": [\"Netherlands\"], \"legendgroup\": \"Netherlands\", \"marker\": {\"color\": \"#636efa\", \"size\": [1], \"sizemode\": \"area\", \"sizeref\": 0.00033057851239669424, \"symbol\": \"circle\"}, \"mode\": \"markers\", \"name\": \"Netherlands\", \"orientation\": \"v\", \"showlegend\": true, \"x\": [35.75675675675676], \"xaxis\": \"x\", \"y\": [27.885714285714286], \"yaxis\": \"y\", \"type\": \"scatter\"}, {\"hovertemplate\": \"<b>%{hovertext}</b><br><br>Country_name=United States<br>Month=10<br>AQI=%{x}<br>AQI_20=%{y}<br>size=%{marker.size}<extra></extra>\", \"hovertext\": [\"San Francisco\"], \"ids\": [\"United States\"], \"legendgroup\": \"United States\", \"marker\": {\"color\": \"#EF553B\", \"size\": [1], \"sizemode\": \"area\", \"sizeref\": 0.00033057851239669424, \"symbol\": \"circle\"}, \"mode\": \"markers\", \"name\": \"United States\", \"orientation\": \"v\", \"showlegend\": true, \"x\": [37.567567567567565], \"xaxis\": \"x\", \"y\": [50.17142857142857], \"yaxis\": \"y\", \"type\": \"scatter\"}, {\"hovertemplate\": \"<b>%{hovertext}</b><br><br>Country_name=France<br>Month=10<br>AQI=%{x}<br>AQI_20=%{y}<br>size=%{marker.size}<extra></extra>\", \"hovertext\": [\"Paris\"], \"ids\": [\"France\"], \"legendgroup\": \"France\", \"marker\": {\"color\": \"#00cc96\", \"size\": [1], \"sizemode\": \"area\", \"sizeref\": 0.00033057851239669424, \"symbol\": \"circle\"}, \"mode\": \"markers\", \"name\": \"France\", \"orientation\": \"v\", \"showlegend\": true, \"x\": [26.027027027027028], \"xaxis\": \"x\", \"y\": [33.68571428571428], \"yaxis\": \"y\", \"type\": \"scatter\"}, {\"hovertemplate\": \"<b>%{hovertext}</b><br><br>Country_name=Japan<br>Month=10<br>AQI=%{x}<br>AQI_20=%{y}<br>size=%{marker.size}<extra></extra>\", \"hovertext\": [\"Tokyo\"], \"ids\": [\"Japan\"], \"legendgroup\": \"Japan\", \"marker\": {\"color\": \"#ab63fa\", \"size\": [1], \"sizemode\": \"area\", \"sizeref\": 0.00033057851239669424, \"symbol\": \"circle\"}, \"mode\": \"markers\", \"name\": \"Japan\", \"orientation\": \"v\", \"showlegend\": true, \"x\": [32.67567567567568], \"xaxis\": \"x\", \"y\": [34.94285714285714], \"yaxis\": \"y\", \"type\": \"scatter\"}, {\"hovertemplate\": \"<b>%{hovertext}</b><br><br>Country_name=Israel<br>Month=10<br>AQI=%{x}<br>AQI_20=%{y}<br>size=%{marker.size}<extra></extra>\", \"hovertext\": [\"Jerusalem\"], \"ids\": [\"Israel\"], \"legendgroup\": \"Israel\", \"marker\": {\"color\": \"#FFA15A\", \"size\": [1], \"sizemode\": \"area\", \"sizeref\": 0.00033057851239669424, \"symbol\": \"circle\"}, \"mode\": \"markers\", \"name\": \"Israel\", \"orientation\": \"v\", \"showlegend\": true, \"x\": [39.45945945945946], \"xaxis\": \"x\", \"y\": [52.2], \"yaxis\": \"y\", \"type\": \"scatter\"}, {\"hovertemplate\": \"<b>%{hovertext}</b><br><br>Country_name=India<br>Month=10<br>AQI=%{x}<br>AQI_20=%{y}<br>size=%{marker.size}<extra></extra>\", \"hovertext\": [\"Delhi\"], \"ids\": [\"India\"], \"legendgroup\": \"India\", \"marker\": {\"color\": \"#19d3f3\", \"size\": [1], \"sizemode\": \"area\", \"sizeref\": 0.00033057851239669424, \"symbol\": \"circle\"}, \"mode\": \"markers\", \"name\": \"India\", \"orientation\": \"v\", \"showlegend\": true, \"x\": [76.5945945945946], \"xaxis\": \"x\", \"y\": [192.4857142857143], \"yaxis\": \"y\", \"type\": \"scatter\"}, {\"hovertemplate\": \"<b>%{hovertext}</b><br><br>Country_name=Australia<br>Month=10<br>AQI=%{x}<br>AQI_20=%{y}<br>size=%{marker.size}<extra></extra>\", \"hovertext\": [\"Melbourne\"], \"ids\": [\"Australia\"], \"legendgroup\": \"Australia\", \"marker\": {\"color\": \"#FF6692\", \"size\": [1], \"sizemode\": \"area\", \"sizeref\": 0.00033057851239669424, \"symbol\": \"circle\"}, \"mode\": \"markers\", \"name\": \"Australia\", \"orientation\": \"v\", \"showlegend\": true, \"x\": [39.513513513513516], \"xaxis\": \"x\", \"y\": [24.085714285714285], \"yaxis\": \"y\", \"type\": \"scatter\"}, {\"hovertemplate\": \"<b>%{hovertext}</b><br><br>Country_name=Thailand<br>Month=10<br>AQI=%{x}<br>AQI_20=%{y}<br>size=%{marker.size}<extra></extra>\", \"hovertext\": [\"Bangkok\"], \"ids\": [\"Thailand\"], \"legendgroup\": \"Thailand\", \"marker\": {\"color\": \"#B6E880\", \"size\": [1], \"sizemode\": \"area\", \"sizeref\": 0.00033057851239669424, \"symbol\": \"circle\"}, \"mode\": \"markers\", \"name\": \"Thailand\", \"orientation\": \"v\", \"showlegend\": true, \"x\": [22.243243243243242], \"xaxis\": \"x\", \"y\": [60.42857142857143], \"yaxis\": \"y\", \"type\": \"scatter\"}, {\"hovertemplate\": \"<b>%{hovertext}</b><br><br>Country_name=Argentina<br>Month=10<br>AQI=%{x}<br>AQI_20=%{y}<br>size=%{marker.size}<extra></extra>\", \"hovertext\": [\"Buenos Aires\"], \"ids\": [\"Argentina\"], \"legendgroup\": \"Argentina\", \"marker\": {\"color\": \"#FF97FF\", \"size\": [1], \"sizemode\": \"area\", \"sizeref\": 0.00033057851239669424, \"symbol\": \"circle\"}, \"mode\": \"markers\", \"name\": \"Argentina\", \"orientation\": \"v\", \"showlegend\": true, \"x\": [10.489189189189192], \"xaxis\": \"x\", \"y\": [34.5], \"yaxis\": \"y\", \"type\": \"scatter\"}, {\"hovertemplate\": \"<b>%{hovertext}</b><br><br>Country_name=Spain<br>Month=10<br>AQI=%{x}<br>AQI_20=%{y}<br>size=%{marker.size}<extra></extra>\", \"hovertext\": [\"Barcelona\", \"Madrid\"], \"ids\": [\"Spain\", \"Spain\"], \"legendgroup\": \"Spain\", \"marker\": {\"color\": \"#FECB52\", \"size\": [1, 1], \"sizemode\": \"area\", \"sizeref\": 0.00033057851239669424, \"symbol\": \"circle\"}, \"mode\": \"markers\", \"name\": \"Spain\", \"orientation\": \"v\", \"showlegend\": true, \"x\": [29.35135135135135, 59.15625], \"xaxis\": \"x\", \"y\": [21.17142857142857, 32.02857142857143], \"yaxis\": \"y\", \"type\": \"scatter\"}, {\"hovertemplate\": \"<b>%{hovertext}</b><br><br>Country_name=Switzerland<br>Month=10<br>AQI=%{x}<br>AQI_20=%{y}<br>size=%{marker.size}<extra></extra>\", \"hovertext\": [\"Z\\u00fcrich\"], \"ids\": [\"Switzerland\"], \"legendgroup\": \"Switzerland\", \"marker\": {\"color\": \"#636efa\", \"size\": [1], \"sizemode\": \"area\", \"sizeref\": 0.00033057851239669424, \"symbol\": \"circle\"}, \"mode\": \"markers\", \"name\": \"Switzerland\", \"orientation\": \"v\", \"showlegend\": true, \"x\": [31.7027027027027], \"xaxis\": \"x\", \"y\": [12.351428571428569], \"yaxis\": \"y\", \"type\": \"scatter\"}, {\"hovertemplate\": \"<b>%{hovertext}</b><br><br>Country_name=Chile<br>Month=10<br>AQI=%{x}<br>AQI_20=%{y}<br>size=%{marker.size}<extra></extra>\", \"hovertext\": [\"Los \\u00c1ngeles\"], \"ids\": [\"Chile\"], \"legendgroup\": \"Chile\", \"marker\": {\"color\": \"#EF553B\", \"size\": [1], \"sizemode\": \"area\", \"sizeref\": 0.00033057851239669424, \"symbol\": \"circle\"}, \"mode\": \"markers\", \"name\": \"Chile\", \"orientation\": \"v\", \"showlegend\": true, \"x\": [36.78378378378378], \"xaxis\": \"x\", \"y\": [42.74285714285714], \"yaxis\": \"y\", \"type\": \"scatter\"}, {\"hovertemplate\": \"<b>%{hovertext}</b><br><br>Country_name=Germany<br>Month=10<br>AQI=%{x}<br>AQI_20=%{y}<br>size=%{marker.size}<extra></extra>\", \"hovertext\": [\"Berlin\"], \"ids\": [\"Germany\"], \"legendgroup\": \"Germany\", \"marker\": {\"color\": \"#00cc96\", \"size\": [1], \"sizemode\": \"area\", \"sizeref\": 0.00033057851239669424, \"symbol\": \"circle\"}, \"mode\": \"markers\", \"name\": \"Germany\", \"orientation\": \"v\", \"showlegend\": true, \"x\": [176.59459459459458], \"xaxis\": \"x\", \"y\": [35.15151515151515], \"yaxis\": \"y\", \"type\": \"scatter\"}], \"name\": \"10\"}, {\"data\": [{\"hovertemplate\": \"<b>%{hovertext}</b><br><br>Country_name=Netherlands<br>Month=11<br>AQI=%{x}<br>AQI_20=%{y}<br>size=%{marker.size}<extra></extra>\", \"hovertext\": [\"Rotterdam\"], \"ids\": [\"Netherlands\"], \"legendgroup\": \"Netherlands\", \"marker\": {\"color\": \"#636efa\", \"size\": [1], \"sizemode\": \"area\", \"sizeref\": 0.00033057851239669424, \"symbol\": \"circle\"}, \"mode\": \"markers\", \"name\": \"Netherlands\", \"orientation\": \"v\", \"showlegend\": true, \"x\": [253.03333333333333], \"xaxis\": \"x\", \"y\": [49.333333333333336], \"yaxis\": \"y\", \"type\": \"scatter\"}, {\"hovertemplate\": \"<b>%{hovertext}</b><br><br>Country_name=United States<br>Month=11<br>AQI=%{x}<br>AQI_20=%{y}<br>size=%{marker.size}<extra></extra>\", \"hovertext\": [\"San Francisco\"], \"ids\": [\"United States\"], \"legendgroup\": \"United States\", \"marker\": {\"color\": \"#EF553B\", \"size\": [1], \"sizemode\": \"area\", \"sizeref\": 0.00033057851239669424, \"symbol\": \"circle\"}, \"mode\": \"markers\", \"name\": \"United States\", \"orientation\": \"v\", \"showlegend\": true, \"x\": [42.035714285714285], \"xaxis\": \"x\", \"y\": [26.9], \"yaxis\": \"y\", \"type\": \"scatter\"}, {\"hovertemplate\": \"<b>%{hovertext}</b><br><br>Country_name=France<br>Month=11<br>AQI=%{x}<br>AQI_20=%{y}<br>size=%{marker.size}<extra></extra>\", \"hovertext\": [\"Paris\"], \"ids\": [\"France\"], \"legendgroup\": \"France\", \"marker\": {\"color\": \"#00cc96\", \"size\": [1], \"sizemode\": \"area\", \"sizeref\": 0.00033057851239669424, \"symbol\": \"circle\"}, \"mode\": \"markers\", \"name\": \"France\", \"orientation\": \"v\", \"showlegend\": true, \"x\": [38.766666666666666], \"xaxis\": \"x\", \"y\": [54.06666666666667], \"yaxis\": \"y\", \"type\": \"scatter\"}, {\"hovertemplate\": \"<b>%{hovertext}</b><br><br>Country_name=Japan<br>Month=11<br>AQI=%{x}<br>AQI_20=%{y}<br>size=%{marker.size}<extra></extra>\", \"hovertext\": [\"Tokyo\"], \"ids\": [\"Japan\"], \"legendgroup\": \"Japan\", \"marker\": {\"color\": \"#ab63fa\", \"size\": [1], \"sizemode\": \"area\", \"sizeref\": 0.00033057851239669424, \"symbol\": \"circle\"}, \"mode\": \"markers\", \"name\": \"Japan\", \"orientation\": \"v\", \"showlegend\": true, \"x\": [75.88], \"xaxis\": \"x\", \"y\": [41.36666666666667], \"yaxis\": \"y\", \"type\": \"scatter\"}, {\"hovertemplate\": \"<b>%{hovertext}</b><br><br>Country_name=Israel<br>Month=11<br>AQI=%{x}<br>AQI_20=%{y}<br>size=%{marker.size}<extra></extra>\", \"hovertext\": [\"Jerusalem\"], \"ids\": [\"Israel\"], \"legendgroup\": \"Israel\", \"marker\": {\"color\": \"#FFA15A\", \"size\": [1], \"sizemode\": \"area\", \"sizeref\": 0.00033057851239669424, \"symbol\": \"circle\"}, \"mode\": \"markers\", \"name\": \"Israel\", \"orientation\": \"v\", \"showlegend\": true, \"x\": [57.142857142857146], \"xaxis\": \"x\", \"y\": [52.166666666666664], \"yaxis\": \"y\", \"type\": \"scatter\"}, {\"hovertemplate\": \"<b>%{hovertext}</b><br><br>Country_name=India<br>Month=11<br>AQI=%{x}<br>AQI_20=%{y}<br>size=%{marker.size}<extra></extra>\", \"hovertext\": [\"Delhi\"], \"ids\": [\"India\"], \"legendgroup\": \"India\", \"marker\": {\"color\": \"#19d3f3\", \"size\": [1], \"sizemode\": \"area\", \"sizeref\": 0.00033057851239669424, \"symbol\": \"circle\"}, \"mode\": \"markers\", \"name\": \"India\", \"orientation\": \"v\", \"showlegend\": true, \"x\": [24.366666666666667], \"xaxis\": \"x\", \"y\": [259.3333333333333], \"yaxis\": \"y\", \"type\": \"scatter\"}, {\"hovertemplate\": \"<b>%{hovertext}</b><br><br>Country_name=Australia<br>Month=11<br>AQI=%{x}<br>AQI_20=%{y}<br>size=%{marker.size}<extra></extra>\", \"hovertext\": [\"Melbourne\"], \"ids\": [\"Australia\"], \"legendgroup\": \"Australia\", \"marker\": {\"color\": \"#FF6692\", \"size\": [1], \"sizemode\": \"area\", \"sizeref\": 0.00033057851239669424, \"symbol\": \"circle\"}, \"mode\": \"markers\", \"name\": \"Australia\", \"orientation\": \"v\", \"showlegend\": true, \"x\": [41.733333333333334], \"xaxis\": \"x\", \"y\": [26.266666666666666], \"yaxis\": \"y\", \"type\": \"scatter\"}, {\"hovertemplate\": \"<b>%{hovertext}</b><br><br>Country_name=Thailand<br>Month=11<br>AQI=%{x}<br>AQI_20=%{y}<br>size=%{marker.size}<extra></extra>\", \"hovertext\": [\"Bangkok\"], \"ids\": [\"Thailand\"], \"legendgroup\": \"Thailand\", \"marker\": {\"color\": \"#B6E880\", \"size\": [1], \"sizemode\": \"area\", \"sizeref\": 0.00033057851239669424, \"symbol\": \"circle\"}, \"mode\": \"markers\", \"name\": \"Thailand\", \"orientation\": \"v\", \"showlegend\": true, \"x\": [16.566666666666666], \"xaxis\": \"x\", \"y\": [80.1], \"yaxis\": \"y\", \"type\": \"scatter\"}, {\"hovertemplate\": \"<b>%{hovertext}</b><br><br>Country_name=Argentina<br>Month=11<br>AQI=%{x}<br>AQI_20=%{y}<br>size=%{marker.size}<extra></extra>\", \"hovertext\": [\"Buenos Aires\"], \"ids\": [\"Argentina\"], \"legendgroup\": \"Argentina\", \"marker\": {\"color\": \"#FF97FF\", \"size\": [1], \"sizemode\": \"area\", \"sizeref\": 0.00033057851239669424, \"symbol\": \"circle\"}, \"mode\": \"markers\", \"name\": \"Argentina\", \"orientation\": \"v\", \"showlegend\": true, \"x\": [44.86666666666667], \"xaxis\": \"x\", \"y\": [28.366666666666667], \"yaxis\": \"y\", \"type\": \"scatter\"}, {\"hovertemplate\": \"<b>%{hovertext}</b><br><br>Country_name=Spain<br>Month=11<br>AQI=%{x}<br>AQI_20=%{y}<br>size=%{marker.size}<extra></extra>\", \"hovertext\": [\"Madrid\", \"Barcelona\"], \"ids\": [\"Spain\", \"Spain\"], \"legendgroup\": \"Spain\", \"marker\": {\"color\": \"#FECB52\", \"size\": [1, 1], \"sizemode\": \"area\", \"sizeref\": 0.00033057851239669424, \"symbol\": \"circle\"}, \"mode\": \"markers\", \"name\": \"Spain\", \"orientation\": \"v\", \"showlegend\": true, \"x\": [11.963333333333333, 28.6], \"xaxis\": \"x\", \"y\": [51.4, 24.333333333333332], \"yaxis\": \"y\", \"type\": \"scatter\"}, {\"hovertemplate\": \"<b>%{hovertext}</b><br><br>Country_name=Switzerland<br>Month=11<br>AQI=%{x}<br>AQI_20=%{y}<br>size=%{marker.size}<extra></extra>\", \"hovertext\": [\"Z\\u00fcrich\"], \"ids\": [\"Switzerland\"], \"legendgroup\": \"Switzerland\", \"marker\": {\"color\": \"#636efa\", \"size\": [1], \"sizemode\": \"area\", \"sizeref\": 0.00033057851239669424, \"symbol\": \"circle\"}, \"mode\": \"markers\", \"name\": \"Switzerland\", \"orientation\": \"v\", \"showlegend\": true, \"x\": [37.233333333333334], \"xaxis\": \"x\", \"y\": [14.766666666666667], \"yaxis\": \"y\", \"type\": \"scatter\"}, {\"hovertemplate\": \"<b>%{hovertext}</b><br><br>Country_name=Chile<br>Month=11<br>AQI=%{x}<br>AQI_20=%{y}<br>size=%{marker.size}<extra></extra>\", \"hovertext\": [\"Los \\u00c1ngeles\"], \"ids\": [\"Chile\"], \"legendgroup\": \"Chile\", \"marker\": {\"color\": \"#EF553B\", \"size\": [1], \"sizemode\": \"area\", \"sizeref\": 0.00033057851239669424, \"symbol\": \"circle\"}, \"mode\": \"markers\", \"name\": \"Chile\", \"orientation\": \"v\", \"showlegend\": true, \"x\": [89.33333333333333], \"xaxis\": \"x\", \"y\": [33.36666666666667], \"yaxis\": \"y\", \"type\": \"scatter\"}, {\"hovertemplate\": \"<b>%{hovertext}</b><br><br>Country_name=Germany<br>Month=11<br>AQI=%{x}<br>AQI_20=%{y}<br>size=%{marker.size}<extra></extra>\", \"hovertext\": [\"Berlin\"], \"ids\": [\"Germany\"], \"legendgroup\": \"Germany\", \"marker\": {\"color\": \"#00cc96\", \"size\": [1], \"sizemode\": \"area\", \"sizeref\": 0.00033057851239669424, \"symbol\": \"circle\"}, \"mode\": \"markers\", \"name\": \"Germany\", \"orientation\": \"v\", \"showlegend\": true, \"x\": [23.8], \"xaxis\": \"x\", \"y\": [45.3], \"yaxis\": \"y\", \"type\": \"scatter\"}], \"name\": \"11\"}, {\"data\": [{\"hovertemplate\": \"<b>%{hovertext}</b><br><br>Country_name=Netherlands<br>Month=12<br>AQI=%{x}<br>AQI_20=%{y}<br>size=%{marker.size}<extra></extra>\", \"hovertext\": [\"Rotterdam\"], \"ids\": [\"Netherlands\"], \"legendgroup\": \"Netherlands\", \"marker\": {\"color\": \"#636efa\", \"size\": [1], \"sizemode\": \"area\", \"sizeref\": 0.00033057851239669424, \"symbol\": \"circle\"}, \"mode\": \"markers\", \"name\": \"Netherlands\", \"orientation\": \"v\", \"showlegend\": true, \"x\": [41.121212121212125], \"xaxis\": \"x\", \"y\": [40.8], \"yaxis\": \"y\", \"type\": \"scatter\"}, {\"hovertemplate\": \"<b>%{hovertext}</b><br><br>Country_name=United States<br>Month=12<br>AQI=%{x}<br>AQI_20=%{y}<br>size=%{marker.size}<extra></extra>\", \"hovertext\": [\"San Francisco\"], \"ids\": [\"United States\"], \"legendgroup\": \"United States\", \"marker\": {\"color\": \"#EF553B\", \"size\": [1], \"sizemode\": \"area\", \"sizeref\": 0.00033057851239669424, \"symbol\": \"circle\"}, \"mode\": \"markers\", \"name\": \"United States\", \"orientation\": \"v\", \"showlegend\": true, \"x\": [55.0], \"xaxis\": \"x\", \"y\": [34.42857142857143], \"yaxis\": \"y\", \"type\": \"scatter\"}, {\"hovertemplate\": \"<b>%{hovertext}</b><br><br>Country_name=France<br>Month=12<br>AQI=%{x}<br>AQI_20=%{y}<br>size=%{marker.size}<extra></extra>\", \"hovertext\": [\"Paris\"], \"ids\": [\"France\"], \"legendgroup\": \"France\", \"marker\": {\"color\": \"#00cc96\", \"size\": [1], \"sizemode\": \"area\", \"sizeref\": 0.00033057851239669424, \"symbol\": \"circle\"}, \"mode\": \"markers\", \"name\": \"France\", \"orientation\": \"v\", \"showlegend\": true, \"x\": [47.24242424242424], \"xaxis\": \"x\", \"y\": [38.6], \"yaxis\": \"y\", \"type\": \"scatter\"}, {\"hovertemplate\": \"<b>%{hovertext}</b><br><br>Country_name=Japan<br>Month=12<br>AQI=%{x}<br>AQI_20=%{y}<br>size=%{marker.size}<extra></extra>\", \"hovertext\": [\"Tokyo\"], \"ids\": [\"Japan\"], \"legendgroup\": \"Japan\", \"marker\": {\"color\": \"#ab63fa\", \"size\": [1], \"sizemode\": \"area\", \"sizeref\": 0.00033057851239669424, \"symbol\": \"circle\"}, \"mode\": \"markers\", \"name\": \"Japan\", \"orientation\": \"v\", \"showlegend\": true, \"x\": [21.363636363636363], \"xaxis\": \"x\", \"y\": [43.542857142857144], \"yaxis\": \"y\", \"type\": \"scatter\"}, {\"hovertemplate\": \"<b>%{hovertext}</b><br><br>Country_name=Israel<br>Month=12<br>AQI=%{x}<br>AQI_20=%{y}<br>size=%{marker.size}<extra></extra>\", \"hovertext\": [\"Jerusalem\"], \"ids\": [\"Israel\"], \"legendgroup\": \"Israel\", \"marker\": {\"color\": \"#FFA15A\", \"size\": [1], \"sizemode\": \"area\", \"sizeref\": 0.00033057851239669424, \"symbol\": \"circle\"}, \"mode\": \"markers\", \"name\": \"Israel\", \"orientation\": \"v\", \"showlegend\": true, \"x\": [40.27272727272727], \"xaxis\": \"x\", \"y\": [58.74285714285714], \"yaxis\": \"y\", \"type\": \"scatter\"}, {\"hovertemplate\": \"<b>%{hovertext}</b><br><br>Country_name=India<br>Month=12<br>AQI=%{x}<br>AQI_20=%{y}<br>size=%{marker.size}<extra></extra>\", \"hovertext\": [\"Delhi\"], \"ids\": [\"India\"], \"legendgroup\": \"India\", \"marker\": {\"color\": \"#19d3f3\", \"size\": [1], \"sizemode\": \"area\", \"sizeref\": 0.00033057851239669424, \"symbol\": \"circle\"}, \"mode\": \"markers\", \"name\": \"India\", \"orientation\": \"v\", \"showlegend\": true, \"x\": [48.39393939393939], \"xaxis\": \"x\", \"y\": [246.68571428571428], \"yaxis\": \"y\", \"type\": \"scatter\"}, {\"hovertemplate\": \"<b>%{hovertext}</b><br><br>Country_name=Australia<br>Month=12<br>AQI=%{x}<br>AQI_20=%{y}<br>size=%{marker.size}<extra></extra>\", \"hovertext\": [\"Melbourne\"], \"ids\": [\"Australia\"], \"legendgroup\": \"Australia\", \"marker\": {\"color\": \"#FF6692\", \"size\": [1], \"sizemode\": \"area\", \"sizeref\": 0.00033057851239669424, \"symbol\": \"circle\"}, \"mode\": \"markers\", \"name\": \"Australia\", \"orientation\": \"v\", \"showlegend\": true, \"x\": [104.72727272727273], \"xaxis\": \"x\", \"y\": [22.2], \"yaxis\": \"y\", \"type\": \"scatter\"}, {\"hovertemplate\": \"<b>%{hovertext}</b><br><br>Country_name=Thailand<br>Month=12<br>AQI=%{x}<br>AQI_20=%{y}<br>size=%{marker.size}<extra></extra>\", \"hovertext\": [\"Bangkok\"], \"ids\": [\"Thailand\"], \"legendgroup\": \"Thailand\", \"marker\": {\"color\": \"#B6E880\", \"size\": [1], \"sizemode\": \"area\", \"sizeref\": 0.00033057851239669424, \"symbol\": \"circle\"}, \"mode\": \"markers\", \"name\": \"Thailand\", \"orientation\": \"v\", \"showlegend\": true, \"x\": [26.12121212121212], \"xaxis\": \"x\", \"y\": [92.17142857142858], \"yaxis\": \"y\", \"type\": \"scatter\"}, {\"hovertemplate\": \"<b>%{hovertext}</b><br><br>Country_name=Argentina<br>Month=12<br>AQI=%{x}<br>AQI_20=%{y}<br>size=%{marker.size}<extra></extra>\", \"hovertext\": [\"Buenos Aires\"], \"ids\": [\"Argentina\"], \"legendgroup\": \"Argentina\", \"marker\": {\"color\": \"#FF97FF\", \"size\": [1], \"sizemode\": \"area\", \"sizeref\": 0.00033057851239669424, \"symbol\": \"circle\"}, \"mode\": \"markers\", \"name\": \"Argentina\", \"orientation\": \"v\", \"showlegend\": true, \"x\": [40.03030303030303], \"xaxis\": \"x\", \"y\": [32.65714285714286], \"yaxis\": \"y\", \"type\": \"scatter\"}, {\"hovertemplate\": \"<b>%{hovertext}</b><br><br>Country_name=Spain<br>Month=12<br>AQI=%{x}<br>AQI_20=%{y}<br>size=%{marker.size}<extra></extra>\", \"hovertext\": [\"Barcelona\", \"Madrid\"], \"ids\": [\"Spain\", \"Spain\"], \"legendgroup\": \"Spain\", \"marker\": {\"color\": \"#FECB52\", \"size\": [1, 1], \"sizemode\": \"area\", \"sizeref\": 0.00033057851239669424, \"symbol\": \"circle\"}, \"mode\": \"markers\", \"name\": \"Spain\", \"orientation\": \"v\", \"showlegend\": true, \"x\": [12.678787878787878, 55.03225806451613], \"xaxis\": \"x\", \"y\": [17.142857142857142, 31.228571428571428], \"yaxis\": \"y\", \"type\": \"scatter\"}, {\"hovertemplate\": \"<b>%{hovertext}</b><br><br>Country_name=Switzerland<br>Month=12<br>AQI=%{x}<br>AQI_20=%{y}<br>size=%{marker.size}<extra></extra>\", \"hovertext\": [\"Z\\u00fcrich\"], \"ids\": [\"Switzerland\"], \"legendgroup\": \"Switzerland\", \"marker\": {\"color\": \"#636efa\", \"size\": [1], \"sizemode\": \"area\", \"sizeref\": 0.00033057851239669424, \"symbol\": \"circle\"}, \"mode\": \"markers\", \"name\": \"Switzerland\", \"orientation\": \"v\", \"showlegend\": true, \"x\": [31.78787878787879], \"xaxis\": \"x\", \"y\": [12.468571428571428], \"yaxis\": \"y\", \"type\": \"scatter\"}, {\"hovertemplate\": \"<b>%{hovertext}</b><br><br>Country_name=Chile<br>Month=12<br>AQI=%{x}<br>AQI_20=%{y}<br>size=%{marker.size}<extra></extra>\", \"hovertext\": [\"Los \\u00c1ngeles\"], \"ids\": [\"Chile\"], \"legendgroup\": \"Chile\", \"marker\": {\"color\": \"#EF553B\", \"size\": [1], \"sizemode\": \"area\", \"sizeref\": 0.00033057851239669424, \"symbol\": \"circle\"}, \"mode\": \"markers\", \"name\": \"Chile\", \"orientation\": \"v\", \"showlegend\": true, \"x\": [259.93939393939394], \"xaxis\": \"x\", \"y\": [24.97142857142857], \"yaxis\": \"y\", \"type\": \"scatter\"}, {\"hovertemplate\": \"<b>%{hovertext}</b><br><br>Country_name=Germany<br>Month=12<br>AQI=%{x}<br>AQI_20=%{y}<br>size=%{marker.size}<extra></extra>\", \"hovertext\": [\"Berlin\"], \"ids\": [\"Germany\"], \"legendgroup\": \"Germany\", \"marker\": {\"color\": \"#00cc96\", \"size\": [1], \"sizemode\": \"area\", \"sizeref\": 0.00033057851239669424, \"symbol\": \"circle\"}, \"mode\": \"markers\", \"name\": \"Germany\", \"orientation\": \"v\", \"showlegend\": true, \"x\": [37.21875], \"xaxis\": \"x\", \"y\": [58.41379310344828], \"yaxis\": \"y\", \"type\": \"scatter\"}], \"name\": \"12\"}]);\n",
       "                        }).then(function(){\n",
       "                            \n",
       "var gd = document.getElementById('1b444f12-7daf-44f3-8f68-43cca4d4c1cd');\n",
       "var x = new MutationObserver(function (mutations, observer) {{\n",
       "        var display = window.getComputedStyle(gd).display;\n",
       "        if (!display || display === 'none') {{\n",
       "            console.log([gd, 'removed!']);\n",
       "            Plotly.purge(gd);\n",
       "            observer.disconnect();\n",
       "        }}\n",
       "}});\n",
       "\n",
       "// Listen for the removal of the full notebook cells\n",
       "var notebookContainer = gd.closest('#notebook-container');\n",
       "if (notebookContainer) {{\n",
       "    x.observe(notebookContainer, {childList: true});\n",
       "}}\n",
       "\n",
       "// Listen for the clearing of the current output cell\n",
       "var outputEl = gd.closest('.output');\n",
       "if (outputEl) {{\n",
       "    x.observe(outputEl, {childList: true});\n",
       "}}\n",
       "\n",
       "                        })                };                });            </script>        </div>"
      ]
     },
     "metadata": {},
     "output_type": "display_data"
    }
   ],
   "source": [
    "import plotly.express as px\n",
    "\n",
    "fig = px.scatter(df_anim, x='AQI', \\\n",
    "           y='AQI_20', animation_frame=\"Month\", animation_group=\"Country_name\", size=np.full(fill_value=1, shape=df_anim.shape[0]),\n",
    "           color=\"Country_name\", hover_name=\"City\", log_x=False, size_max=55, range_x=[0,500], range_y=[0,500]\n",
    "           )\n",
    "fig.add_shape(type=\"line\",\n",
    "    x0=0, y0=0, x1=500, y1=500,\n",
    "    line=dict(\n",
    "        color=\"MediumPurple\",\n",
    "        width=4,\n",
    "        dash=\"dot\",\n",
    "    )\n",
    ")"
   ]
  },
  {
   "cell_type": "code",
   "execution_count": null,
   "metadata": {},
   "outputs": [],
   "source": [
    "import plotly.express as px\n",
    "df_px = px.data.gapminder()"
   ]
  },
  {
   "cell_type": "code",
   "execution_count": null,
   "metadata": {},
   "outputs": [],
   "source": [
    "df_px.head(9)"
   ]
  },
  {
   "cell_type": "code",
   "execution_count": null,
   "metadata": {},
   "outputs": [],
   "source": [
    "fig = px.scatter(df_px, x=\"gdpPercap\", y=\"lifeExp\", animation_frame=\"year\", animation_group=\"country\",\n",
    "           size=\"pop\", color=\"continent\", hover_name=\"country\",\n",
    "           log_x=True, size_max=55, range_x=[100,100000], range_y=[25,90])\n",
    "\n",
    "fig.add_shape(type=\"line\",\n",
    "    x0=3, y0=30, x1=500000, y1=90,\n",
    "    line=dict(\n",
    "        color=\"MediumPurple\",\n",
    "        width=4,\n",
    "        dash=\"dot\",\n",
    "    )\n",
    ")\n",
    "\n",
    "\n",
    "fig.show()"
   ]
  },
  {
   "cell_type": "code",
   "execution_count": null,
   "metadata": {},
   "outputs": [],
   "source": [
    "import plotly.graph_objects as go\n",
    "\n",
    "fig = go.Figure()\n",
    "\n",
    "# Create scatter trace of text labels\n",
    "fig.add_trace(go.Scatter(\n",
    "    x=[2, 3.5, 6],\n",
    "    y=[1, 1.5, 1],\n",
    "    text=[\"Vertical Line\",\n",
    "          \"Horizontal Dashed Line\",\n",
    "          \"Diagonal dotted Line\"],\n",
    "    mode=\"text\",\n",
    "))\n",
    "\n",
    "fig.update_layout(shapes=[\n",
    "    dict(\n",
    "      type= 'line',\n",
    "      yref= 'paper', y0= 30, y1= 80,\n",
    "      xref= 'x', x0= 3, x1= 500000\n",
    "    )\n",
    "])\n",
    "\n"
   ]
  },
  {
   "cell_type": "code",
   "execution_count": null,
   "metadata": {},
   "outputs": [],
   "source": [
    "df_px"
   ]
  },
  {
   "cell_type": "code",
   "execution_count": null,
   "metadata": {},
   "outputs": [],
   "source": []
  },
  {
   "cell_type": "code",
   "execution_count": null,
   "metadata": {},
   "outputs": [],
   "source": []
  },
  {
   "cell_type": "code",
   "execution_count": null,
   "metadata": {},
   "outputs": [],
   "source": []
  },
  {
   "cell_type": "code",
   "execution_count": null,
   "metadata": {},
   "outputs": [],
   "source": []
  },
  {
   "cell_type": "code",
   "execution_count": null,
   "metadata": {},
   "outputs": [],
   "source": []
  },
  {
   "cell_type": "code",
   "execution_count": null,
   "metadata": {},
   "outputs": [],
   "source": []
  },
  {
   "cell_type": "code",
   "execution_count": null,
   "metadata": {},
   "outputs": [],
   "source": []
  },
  {
   "cell_type": "code",
   "execution_count": null,
   "metadata": {},
   "outputs": [],
   "source": []
  },
  {
   "cell_type": "markdown",
   "metadata": {},
   "source": [
    "Some of the values have std_dev = 0, which means that their initial recorded values during the month were exactly 500. This is unlikely, specially for so2 in a place like Ha Long, which is a World Heritage Site. Let's remove those measurements with zero std_dev to obtain statistically relevant data:"
   ]
  },
  {
   "cell_type": "code",
   "execution_count": null,
   "metadata": {},
   "outputs": [],
   "source": [
    "month_country_AQI_df[(month_country_AQI_df.std_dev > 0) & (month_country_AQI_df['conf_interval_95%'] < month_country_AQI_df.AQI )].sort_values(by='AQI', ascending=False).head(10)"
   ]
  },
  {
   "cell_type": "code",
   "execution_count": 154,
   "metadata": {},
   "outputs": [],
   "source": [
    "def intersect_countries_month(df):\n",
    "    '''f'''\n",
    "    pollutants = df.Pollutant.unique()\n",
    "    sets = [[] for i in range(len(pollutants))]\n",
    "    dct = dict(zip(pollutants, sets))\n",
    "    dct_final = {}\n",
    "\n",
    "    for pollutant in df.Pollutant.unique():\n",
    "        pollutant_df = df[df.Pollutant == pollutant]\n",
    "        for year in pollutant_df.Date.dt.year.unique():\n",
    "            year_df = pollutant_df[pollutant_df.Date.dt.year == year]\n",
    "            for month in year_df.Date.dt.month.unique():\n",
    "                month_df = year_df[year_df.Date.dt.month == month]\n",
    "                countries = set(month_df.Country.unique())\n",
    "                dct[pollutant].append(countries)\n",
    "\n",
    "    for key, value in dct.items():\n",
    "        dct_final[key] = set.intersection(*value)  \n",
    "\n",
    "    return dct_final\n",
    "\n",
    "    "
   ]
  },
  {
   "cell_type": "code",
   "execution_count": 155,
   "metadata": {},
   "outputs": [],
   "source": [
    "cou_all_months = intersect_countries_month(df)"
   ]
  },
  {
   "cell_type": "code",
   "execution_count": 156,
   "metadata": {},
   "outputs": [
    {
     "data": {
      "text/plain": [
       "61"
      ]
     },
     "execution_count": 156,
     "metadata": {},
     "output_type": "execute_result"
    }
   ],
   "source": [
    "len(cou_all_months['pm25'])"
   ]
  },
  {
   "cell_type": "code",
   "execution_count": 157,
   "metadata": {},
   "outputs": [
    {
     "data": {
      "text/plain": [
       "{'AE',\n",
       " 'AR',\n",
       " 'AT',\n",
       " 'AU',\n",
       " 'BA',\n",
       " 'BD',\n",
       " 'BE',\n",
       " 'BH',\n",
       " 'BR',\n",
       " 'CA',\n",
       " 'CH',\n",
       " 'CL',\n",
       " 'CN',\n",
       " 'CO',\n",
       " 'CY',\n",
       " 'DE',\n",
       " 'EC',\n",
       " 'EE',\n",
       " 'ES',\n",
       " 'FI',\n",
       " 'FR',\n",
       " 'GB',\n",
       " 'HK',\n",
       " 'HR',\n",
       " 'HU',\n",
       " 'ID',\n",
       " 'IE',\n",
       " 'IL',\n",
       " 'IN',\n",
       " 'IR',\n",
       " 'IT',\n",
       " 'JP',\n",
       " 'KR',\n",
       " 'KW',\n",
       " 'KZ',\n",
       " 'LK',\n",
       " 'LT',\n",
       " 'MK',\n",
       " 'MN',\n",
       " 'MX',\n",
       " 'NL',\n",
       " 'NO',\n",
       " 'NP',\n",
       " 'NZ',\n",
       " 'PE',\n",
       " 'PL',\n",
       " 'PT',\n",
       " 'RE',\n",
       " 'RS',\n",
       " 'RU',\n",
       " 'SE',\n",
       " 'SG',\n",
       " 'SK',\n",
       " 'SV',\n",
       " 'TH',\n",
       " 'TR',\n",
       " 'TW',\n",
       " 'US',\n",
       " 'VN',\n",
       " 'XK',\n",
       " 'ZA'}"
      ]
     },
     "execution_count": 157,
     "metadata": {},
     "output_type": "execute_result"
    }
   ],
   "source": [
    "cou_all_months['pm25']"
   ]
  },
  {
   "cell_type": "code",
   "execution_count": null,
   "metadata": {},
   "outputs": [],
   "source": []
  }
 ],
 "metadata": {
  "kernelspec": {
   "display_name": "Python 3",
   "language": "python",
   "name": "python3"
  },
  "language_info": {
   "codemirror_mode": {
    "name": "ipython",
    "version": 3
   },
   "file_extension": ".py",
   "mimetype": "text/x-python",
   "name": "python",
   "nbconvert_exporter": "python",
   "pygments_lexer": "ipython3",
   "version": "3.8.5"
  }
 },
 "nbformat": 4,
 "nbformat_minor": 4
}
